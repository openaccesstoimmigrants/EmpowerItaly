{
 "cells": [
  {
   "cell_type": "code",
   "execution_count": 1,
   "id": "1e3c6656",
   "metadata": {},
   "outputs": [],
   "source": [
    "import pandas as pd\n",
    "from matplotlib import *\n",
    "import matplotlib.pyplot as plt"
   ]
  },
  {
   "cell_type": "markdown",
   "id": "31e1a117",
   "metadata": {},
   "source": [
    "# D0\n",
    "## EUROSTAT - Immigration by age group, sex and citizenship\n",
    "\n",
    "Link: https://ec.europa.eu/eurostat/databrowser/view/MIGR_IMM1CTZ/default/table\n",
    "\n",
    "metadata: https://ec.europa.eu/eurostat/cache/metadata/en/migr_immi_esms.htm"
   ]
  },
  {
   "cell_type": "code",
   "execution_count": 2,
   "id": "5a3e1cea",
   "metadata": {},
   "outputs": [],
   "source": [
    "# import dataset D0\n",
    "d0 = pd.read_csv('./_datasets/D0/migr_imm1ctz$defaultview_linear.csv')"
   ]
  },
  {
   "cell_type": "code",
   "execution_count": 3,
   "id": "f22e1bfc",
   "metadata": {},
   "outputs": [
    {
     "name": "stdout",
     "output_type": "stream",
     "text": [
      "DATAFLOW\n",
      "LAST UPDATE\n",
      "freq\n",
      "citizen\n",
      "agedef\n",
      "age\n",
      "unit\n",
      "sex\n",
      "geo\n",
      "TIME_PERIOD\n",
      "OBS_VALUE\n",
      "OBS_FLAG\n"
     ]
    }
   ],
   "source": [
    "for columns in d0:\n",
    "    print(columns)"
   ]
  },
  {
   "cell_type": "code",
   "execution_count": 4,
   "id": "ea7319d2",
   "metadata": {},
   "outputs": [
    {
     "data": {
      "text/html": [
       "<div>\n",
       "<style scoped>\n",
       "    .dataframe tbody tr th:only-of-type {\n",
       "        vertical-align: middle;\n",
       "    }\n",
       "\n",
       "    .dataframe tbody tr th {\n",
       "        vertical-align: top;\n",
       "    }\n",
       "\n",
       "    .dataframe thead th {\n",
       "        text-align: right;\n",
       "    }\n",
       "</style>\n",
       "<table border=\"1\" class=\"dataframe\">\n",
       "  <thead>\n",
       "    <tr style=\"text-align: right;\">\n",
       "      <th></th>\n",
       "      <th>DATAFLOW</th>\n",
       "      <th>LAST UPDATE</th>\n",
       "      <th>freq</th>\n",
       "      <th>citizen</th>\n",
       "      <th>agedef</th>\n",
       "      <th>age</th>\n",
       "      <th>unit</th>\n",
       "      <th>sex</th>\n",
       "      <th>geo</th>\n",
       "      <th>TIME_PERIOD</th>\n",
       "      <th>OBS_VALUE</th>\n",
       "      <th>OBS_FLAG</th>\n",
       "    </tr>\n",
       "  </thead>\n",
       "  <tbody>\n",
       "    <tr>\n",
       "      <th>0</th>\n",
       "      <td>ESTAT:MIGR_IMM1CTZ$DEFAULTVIEW(1.0)</td>\n",
       "      <td>29/03/23 15:37:00</td>\n",
       "      <td>A</td>\n",
       "      <td>EU28_FOR</td>\n",
       "      <td>REACH</td>\n",
       "      <td>TOTAL</td>\n",
       "      <td>NR</td>\n",
       "      <td>T</td>\n",
       "      <td>AT</td>\n",
       "      <td>2013</td>\n",
       "      <td>60219</td>\n",
       "      <td>NaN</td>\n",
       "    </tr>\n",
       "    <tr>\n",
       "      <th>1</th>\n",
       "      <td>ESTAT:MIGR_IMM1CTZ$DEFAULTVIEW(1.0)</td>\n",
       "      <td>29/03/23 15:37:00</td>\n",
       "      <td>A</td>\n",
       "      <td>EU28_FOR</td>\n",
       "      <td>REACH</td>\n",
       "      <td>TOTAL</td>\n",
       "      <td>NR</td>\n",
       "      <td>T</td>\n",
       "      <td>AT</td>\n",
       "      <td>2014</td>\n",
       "      <td>67002</td>\n",
       "      <td>NaN</td>\n",
       "    </tr>\n",
       "    <tr>\n",
       "      <th>2</th>\n",
       "      <td>ESTAT:MIGR_IMM1CTZ$DEFAULTVIEW(1.0)</td>\n",
       "      <td>29/03/23 15:37:00</td>\n",
       "      <td>A</td>\n",
       "      <td>EU28_FOR</td>\n",
       "      <td>REACH</td>\n",
       "      <td>TOTAL</td>\n",
       "      <td>NR</td>\n",
       "      <td>T</td>\n",
       "      <td>AT</td>\n",
       "      <td>2015</td>\n",
       "      <td>68797</td>\n",
       "      <td>NaN</td>\n",
       "    </tr>\n",
       "    <tr>\n",
       "      <th>3</th>\n",
       "      <td>ESTAT:MIGR_IMM1CTZ$DEFAULTVIEW(1.0)</td>\n",
       "      <td>29/03/23 15:37:00</td>\n",
       "      <td>A</td>\n",
       "      <td>EU28_FOR</td>\n",
       "      <td>REACH</td>\n",
       "      <td>TOTAL</td>\n",
       "      <td>NR</td>\n",
       "      <td>T</td>\n",
       "      <td>AT</td>\n",
       "      <td>2016</td>\n",
       "      <td>64699</td>\n",
       "      <td>NaN</td>\n",
       "    </tr>\n",
       "    <tr>\n",
       "      <th>4</th>\n",
       "      <td>ESTAT:MIGR_IMM1CTZ$DEFAULTVIEW(1.0)</td>\n",
       "      <td>29/03/23 15:37:00</td>\n",
       "      <td>A</td>\n",
       "      <td>EU28_FOR</td>\n",
       "      <td>REACH</td>\n",
       "      <td>TOTAL</td>\n",
       "      <td>NR</td>\n",
       "      <td>T</td>\n",
       "      <td>AT</td>\n",
       "      <td>2017</td>\n",
       "      <td>64353</td>\n",
       "      <td>NaN</td>\n",
       "    </tr>\n",
       "    <tr>\n",
       "      <th>...</th>\n",
       "      <td>...</td>\n",
       "      <td>...</td>\n",
       "      <td>...</td>\n",
       "      <td>...</td>\n",
       "      <td>...</td>\n",
       "      <td>...</td>\n",
       "      <td>...</td>\n",
       "      <td>...</td>\n",
       "      <td>...</td>\n",
       "      <td>...</td>\n",
       "      <td>...</td>\n",
       "      <td>...</td>\n",
       "    </tr>\n",
       "    <tr>\n",
       "      <th>1806</th>\n",
       "      <td>ESTAT:MIGR_IMM1CTZ$DEFAULTVIEW(1.0)</td>\n",
       "      <td>29/03/23 15:37:00</td>\n",
       "      <td>A</td>\n",
       "      <td>UNK</td>\n",
       "      <td>REACH</td>\n",
       "      <td>TOTAL</td>\n",
       "      <td>NR</td>\n",
       "      <td>T</td>\n",
       "      <td>UK</td>\n",
       "      <td>2015</td>\n",
       "      <td>0</td>\n",
       "      <td>NaN</td>\n",
       "    </tr>\n",
       "    <tr>\n",
       "      <th>1807</th>\n",
       "      <td>ESTAT:MIGR_IMM1CTZ$DEFAULTVIEW(1.0)</td>\n",
       "      <td>29/03/23 15:37:00</td>\n",
       "      <td>A</td>\n",
       "      <td>UNK</td>\n",
       "      <td>REACH</td>\n",
       "      <td>TOTAL</td>\n",
       "      <td>NR</td>\n",
       "      <td>T</td>\n",
       "      <td>UK</td>\n",
       "      <td>2016</td>\n",
       "      <td>0</td>\n",
       "      <td>NaN</td>\n",
       "    </tr>\n",
       "    <tr>\n",
       "      <th>1808</th>\n",
       "      <td>ESTAT:MIGR_IMM1CTZ$DEFAULTVIEW(1.0)</td>\n",
       "      <td>29/03/23 15:37:00</td>\n",
       "      <td>A</td>\n",
       "      <td>UNK</td>\n",
       "      <td>REACH</td>\n",
       "      <td>TOTAL</td>\n",
       "      <td>NR</td>\n",
       "      <td>T</td>\n",
       "      <td>UK</td>\n",
       "      <td>2017</td>\n",
       "      <td>0</td>\n",
       "      <td>NaN</td>\n",
       "    </tr>\n",
       "    <tr>\n",
       "      <th>1809</th>\n",
       "      <td>ESTAT:MIGR_IMM1CTZ$DEFAULTVIEW(1.0)</td>\n",
       "      <td>29/03/23 15:37:00</td>\n",
       "      <td>A</td>\n",
       "      <td>UNK</td>\n",
       "      <td>REACH</td>\n",
       "      <td>TOTAL</td>\n",
       "      <td>NR</td>\n",
       "      <td>T</td>\n",
       "      <td>UK</td>\n",
       "      <td>2018</td>\n",
       "      <td>0</td>\n",
       "      <td>p</td>\n",
       "    </tr>\n",
       "    <tr>\n",
       "      <th>1810</th>\n",
       "      <td>ESTAT:MIGR_IMM1CTZ$DEFAULTVIEW(1.0)</td>\n",
       "      <td>29/03/23 15:37:00</td>\n",
       "      <td>A</td>\n",
       "      <td>UNK</td>\n",
       "      <td>REACH</td>\n",
       "      <td>TOTAL</td>\n",
       "      <td>NR</td>\n",
       "      <td>T</td>\n",
       "      <td>UK</td>\n",
       "      <td>2019</td>\n",
       "      <td>0</td>\n",
       "      <td>NaN</td>\n",
       "    </tr>\n",
       "  </tbody>\n",
       "</table>\n",
       "<p>1811 rows × 12 columns</p>\n",
       "</div>"
      ],
      "text/plain": [
       "                                 DATAFLOW        LAST UPDATE freq   citizen  \\\n",
       "0     ESTAT:MIGR_IMM1CTZ$DEFAULTVIEW(1.0)  29/03/23 15:37:00    A  EU28_FOR   \n",
       "1     ESTAT:MIGR_IMM1CTZ$DEFAULTVIEW(1.0)  29/03/23 15:37:00    A  EU28_FOR   \n",
       "2     ESTAT:MIGR_IMM1CTZ$DEFAULTVIEW(1.0)  29/03/23 15:37:00    A  EU28_FOR   \n",
       "3     ESTAT:MIGR_IMM1CTZ$DEFAULTVIEW(1.0)  29/03/23 15:37:00    A  EU28_FOR   \n",
       "4     ESTAT:MIGR_IMM1CTZ$DEFAULTVIEW(1.0)  29/03/23 15:37:00    A  EU28_FOR   \n",
       "...                                   ...                ...  ...       ...   \n",
       "1806  ESTAT:MIGR_IMM1CTZ$DEFAULTVIEW(1.0)  29/03/23 15:37:00    A       UNK   \n",
       "1807  ESTAT:MIGR_IMM1CTZ$DEFAULTVIEW(1.0)  29/03/23 15:37:00    A       UNK   \n",
       "1808  ESTAT:MIGR_IMM1CTZ$DEFAULTVIEW(1.0)  29/03/23 15:37:00    A       UNK   \n",
       "1809  ESTAT:MIGR_IMM1CTZ$DEFAULTVIEW(1.0)  29/03/23 15:37:00    A       UNK   \n",
       "1810  ESTAT:MIGR_IMM1CTZ$DEFAULTVIEW(1.0)  29/03/23 15:37:00    A       UNK   \n",
       "\n",
       "     agedef    age unit sex geo  TIME_PERIOD  OBS_VALUE OBS_FLAG  \n",
       "0     REACH  TOTAL   NR   T  AT         2013      60219      NaN  \n",
       "1     REACH  TOTAL   NR   T  AT         2014      67002      NaN  \n",
       "2     REACH  TOTAL   NR   T  AT         2015      68797      NaN  \n",
       "3     REACH  TOTAL   NR   T  AT         2016      64699      NaN  \n",
       "4     REACH  TOTAL   NR   T  AT         2017      64353      NaN  \n",
       "...     ...    ...  ...  ..  ..          ...        ...      ...  \n",
       "1806  REACH  TOTAL   NR   T  UK         2015          0      NaN  \n",
       "1807  REACH  TOTAL   NR   T  UK         2016          0      NaN  \n",
       "1808  REACH  TOTAL   NR   T  UK         2017          0      NaN  \n",
       "1809  REACH  TOTAL   NR   T  UK         2018          0        p  \n",
       "1810  REACH  TOTAL   NR   T  UK         2019          0      NaN  \n",
       "\n",
       "[1811 rows x 12 columns]"
      ]
     },
     "execution_count": 4,
     "metadata": {},
     "output_type": "execute_result"
    }
   ],
   "source": [
    "d0"
   ]
  },
  {
   "cell_type": "code",
   "execution_count": 5,
   "id": "25582a52",
   "metadata": {},
   "outputs": [
    {
     "name": "stdout",
     "output_type": "stream",
     "text": [
      "<class 'pandas.core.frame.DataFrame'>\n",
      "RangeIndex: 1811 entries, 0 to 1810\n",
      "Data columns (total 12 columns):\n",
      " #   Column       Non-Null Count  Dtype \n",
      "---  ------       --------------  ----- \n",
      " 0   DATAFLOW     1811 non-null   object\n",
      " 1   LAST UPDATE  1811 non-null   object\n",
      " 2   freq         1811 non-null   object\n",
      " 3   citizen      1811 non-null   object\n",
      " 4   agedef       1811 non-null   object\n",
      " 5   age          1811 non-null   object\n",
      " 6   unit         1811 non-null   object\n",
      " 7   sex          1811 non-null   object\n",
      " 8   geo          1811 non-null   object\n",
      " 9   TIME_PERIOD  1811 non-null   int64 \n",
      " 10  OBS_VALUE    1811 non-null   int64 \n",
      " 11  OBS_FLAG     248 non-null    object\n",
      "dtypes: int64(2), object(10)\n",
      "memory usage: 169.9+ KB\n"
     ]
    }
   ],
   "source": [
    "d0.info()"
   ]
  },
  {
   "cell_type": "code",
   "execution_count": 6,
   "id": "b50cfb21",
   "metadata": {},
   "outputs": [
    {
     "data": {
      "text/plain": [
       "geo\n",
       "AT    54\n",
       "HU    54\n",
       "SK    54\n",
       "SI    54\n",
       "SE    54\n",
       "RO    54\n",
       "NO    54\n",
       "NL    54\n",
       "MK    54\n",
       "LU    54\n",
       "LT    54\n",
       "LI    54\n",
       "BE    54\n",
       "IS    54\n",
       "IT    54\n",
       "CH    54\n",
       "FI    54\n",
       "ES    54\n",
       "BG    54\n",
       "EE    54\n",
       "HR    54\n",
       "DK    54\n",
       "CZ    54\n",
       "MT    53\n",
       "FR    53\n",
       "LV    53\n",
       "DE    53\n",
       "PL    53\n",
       "PT    53\n",
       "CY    53\n",
       "EL    52\n",
       "IE    51\n",
       "ME    50\n",
       "UK    45\n",
       "Name: count, dtype: int64"
      ]
     },
     "execution_count": 6,
     "metadata": {},
     "output_type": "execute_result"
    }
   ],
   "source": [
    "d0[\"geo\"].value_counts()"
   ]
  },
  {
   "cell_type": "code",
   "execution_count": 7,
   "id": "a9ba0f58",
   "metadata": {},
   "outputs": [
    {
     "data": {
      "text/plain": [
       "citizen\n",
       "NAT          337\n",
       "TOTAL        337\n",
       "UNK          337\n",
       "STLS         324\n",
       "EU28_FOR     238\n",
       "NEU28_FOR    238\n",
       "Name: count, dtype: int64"
      ]
     },
     "execution_count": 7,
     "metadata": {},
     "output_type": "execute_result"
    }
   ],
   "source": [
    "d0[\"citizen\"].value_counts()"
   ]
  },
  {
   "cell_type": "code",
   "execution_count": 8,
   "id": "7dbb946c",
   "metadata": {},
   "outputs": [],
   "source": [
    "d0_total_filtered = d0[(d0['citizen'] == 'TOTAL')]"
   ]
  },
  {
   "cell_type": "code",
   "execution_count": 9,
   "id": "5434e9b0",
   "metadata": {},
   "outputs": [
    {
     "name": "stdout",
     "output_type": "stream",
     "text": [
      "<class 'pandas.core.frame.DataFrame'>\n",
      "Index: 337 entries, 1137 to 1473\n",
      "Data columns (total 12 columns):\n",
      " #   Column       Non-Null Count  Dtype \n",
      "---  ------       --------------  ----- \n",
      " 0   DATAFLOW     337 non-null    object\n",
      " 1   LAST UPDATE  337 non-null    object\n",
      " 2   freq         337 non-null    object\n",
      " 3   citizen      337 non-null    object\n",
      " 4   agedef       337 non-null    object\n",
      " 5   age          337 non-null    object\n",
      " 6   unit         337 non-null    object\n",
      " 7   sex          337 non-null    object\n",
      " 8   geo          337 non-null    object\n",
      " 9   TIME_PERIOD  337 non-null    int64 \n",
      " 10  OBS_VALUE    337 non-null    int64 \n",
      " 11  OBS_FLAG     46 non-null     object\n",
      "dtypes: int64(2), object(10)\n",
      "memory usage: 34.2+ KB\n"
     ]
    }
   ],
   "source": [
    "d0_total_filtered.info()"
   ]
  },
  {
   "cell_type": "code",
   "execution_count": 10,
   "id": "4c78e1cb",
   "metadata": {},
   "outputs": [
    {
     "name": "stdout",
     "output_type": "stream",
     "text": [
      "4509736\n"
     ]
    }
   ],
   "source": [
    "# total number of immigrants in all European Countries in 2016\n",
    "d0_total_filtered_2016 = d0_total_filtered[d0_total_filtered['TIME_PERIOD'] == 2016]\n",
    "total_immigrants_2016 = d0_total_filtered_2016['OBS_VALUE'].sum()\n",
    "print(total_immigrants_2016)"
   ]
  },
  {
   "cell_type": "code",
   "execution_count": 11,
   "id": "5f125845",
   "metadata": {},
   "outputs": [
    {
     "name": "stdout",
     "output_type": "stream",
     "text": [
      "5114307\n"
     ]
    }
   ],
   "source": [
    "# total number of immigrants in all European Countries in 2019\n",
    "d0_total_filtered_2019 = d0_total_filtered[d0_total_filtered['TIME_PERIOD'] == 2019]\n",
    "total_immigrants_2019 = d0_total_filtered_2019['OBS_VALUE'].sum()\n",
    "print(total_immigrants_2019)"
   ]
  },
  {
   "cell_type": "code",
   "execution_count": 12,
   "id": "920fcdc3",
   "metadata": {},
   "outputs": [
    {
     "name": "stdout",
     "output_type": "stream",
     "text": [
      "3461645\n"
     ]
    }
   ],
   "source": [
    "# total number of immigrants in all European Countries in 2020\n",
    "d0_total_filtered_2020 = d0_total_filtered[d0_total_filtered['TIME_PERIOD'] == 2020]\n",
    "total_immigrants_2020 = d0_total_filtered_2020['OBS_VALUE'].sum()\n",
    "print(total_immigrants_2020)"
   ]
  },
  {
   "cell_type": "code",
   "execution_count": 13,
   "id": "2a1249cc",
   "metadata": {},
   "outputs": [
    {
     "name": "stdout",
     "output_type": "stream",
     "text": [
      "3954366\n"
     ]
    }
   ],
   "source": [
    "# total number of immigrants in all European Countries in 2021\n",
    "d0_total_filtered_2021 = d0_total_filtered[d0_total_filtered['TIME_PERIOD'] == 2021]\n",
    "total_immigrants_2021 = d0_total_filtered_2021['OBS_VALUE'].sum()\n",
    "print(total_immigrants_2021)"
   ]
  },
  {
   "cell_type": "code",
   "execution_count": 14,
   "id": "86d34d19",
   "metadata": {},
   "outputs": [
    {
     "name": "stdout",
     "output_type": "stream",
     "text": [
      "300823\n"
     ]
    }
   ],
   "source": [
    "# total number of immigrants in Italy in 2016\n",
    "d0_total_filtered_IT_2016 = d0_total_filtered[(d0_total_filtered['TIME_PERIOD'] == 2016) & (d0_total_filtered['geo'] == 'IT')]\n",
    "total_immigrants_IT_2016 = d0_total_filtered_IT_2016['OBS_VALUE'].sum()\n",
    "print(total_immigrants_IT_2016)"
   ]
  },
  {
   "cell_type": "code",
   "execution_count": 15,
   "id": "d49d9473",
   "metadata": {},
   "outputs": [
    {
     "name": "stdout",
     "output_type": "stream",
     "text": [
      "343440\n"
     ]
    }
   ],
   "source": [
    "# total number of immigrants in Italy in 2017\n",
    "d0_total_filtered_IT_2017 = d0_total_filtered[(d0_total_filtered['TIME_PERIOD'] == 2017) & (d0_total_filtered['geo'] == 'IT')]\n",
    "total_immigrants_IT_2017 = d0_total_filtered_IT_2017['OBS_VALUE'].sum()\n",
    "print(total_immigrants_IT_2017)"
   ]
  },
  {
   "cell_type": "code",
   "execution_count": 16,
   "id": "9409bcaf",
   "metadata": {},
   "outputs": [
    {
     "name": "stdout",
     "output_type": "stream",
     "text": [
      "332324\n"
     ]
    }
   ],
   "source": [
    "# total number of immigrants in Italy in 2018\n",
    "d0_total_filtered_IT_2018 = d0_total_filtered[(d0_total_filtered['TIME_PERIOD'] == 2018) & (d0_total_filtered['geo'] == 'IT')]\n",
    "total_immigrants_IT_2018 = d0_total_filtered_IT_2018['OBS_VALUE'].sum()\n",
    "print(total_immigrants_IT_2018)"
   ]
  },
  {
   "cell_type": "code",
   "execution_count": 17,
   "id": "7de2612b",
   "metadata": {},
   "outputs": [
    {
     "name": "stdout",
     "output_type": "stream",
     "text": [
      "893886\n"
     ]
    }
   ],
   "source": [
    "# total number of immigrants in Germany in 2018\n",
    "d0_total_filtered_DE_2018 = d0_total_filtered[(d0_total_filtered['TIME_PERIOD'] == 2018) & (d0_total_filtered['geo'] == 'DE')]\n",
    "total_immigrants_DE_2018 = d0_total_filtered_DE_2018['OBS_VALUE'].sum()\n",
    "print(total_immigrants_DE_2018)"
   ]
  },
  {
   "cell_type": "code",
   "execution_count": 27,
   "id": "99b29c4d",
   "metadata": {},
   "outputs": [
    {
     "data": {
      "text/plain": [
       "<Axes: xlabel='geo'>"
      ]
     },
     "execution_count": 27,
     "metadata": {},
     "output_type": "execute_result"
    },
    {
     "data": {
      "image/png": "[encoded data removed]",
      "text/plain": [
       "<Figure size 640x480 with 1 Axes>"
      ]
     },
     "metadata": {},
     "output_type": "display_data"
    }
   ],
   "source": [
    "grouped_data = d0_total_filtered.groupby(['geo', 'TIME_PERIOD'])['OBS_VALUE'].sum().reset_index()\n",
    "\n",
    "pivoted_data = grouped_data.pivot(index='geo', columns='TIME_PERIOD', values='OBS_VALUE')\n",
    "\n",
    "pivoted_data.plot(kind='bar', stacked=True)"
   ]
  },
  {
   "cell_type": "code",
   "execution_count": 63,
   "id": "9c7792ed",
   "metadata": {},
   "outputs": [
    {
     "data": {
      "image/png": "[encoded data removed]",
      "text/plain": [
       "<Figure size 640x480 with 1 Axes>"
      ]
     },
     "metadata": {},
     "output_type": "display_data"
    }
   ],
   "source": [
    "# Filter the data for the desired year\n",
    "desired_year = 2021  # Replace with your desired year\n",
    "filtered_data = d0_total_filtered[d0_total_filtered['TIME_PERIOD'] == desired_year]\n",
    "\n",
    "# Sort the data by the number of immigrants in descending order\n",
    "sorted_data = filtered_data.sort_values('OBS_VALUE', ascending=True)\n",
    "\n",
    "# Create the bar chart\n",
    "bar_height = 0.6\n",
    "bar_padding = 0.8\n",
    "plt.barh(range(len(sorted_data)), sorted_data['OBS_VALUE'], height=bar_height, edgecolor='white')\n",
    "plt.yticks(range(len(sorted_data)), sorted_data['geo'], fontsize=8)\n",
    "\n",
    "# Customize the plot\n",
    "plt.xlabel('Number of Immigrants')\n",
    "plt.ylabel('Countries')\n",
    "plt.title(f'Immigrants by Country in {desired_year}')\n",
    "\n",
    "# Adjust spacing of elements on the y-axis\n",
    "plt.subplots_adjust(left=0.2)\n",
    "\n",
    "# Adjust spacing between the bars\n",
    "plt.gca().set_ylim([-0.5 - bar_padding/2, len(sorted_data) - 0.5 + bar_padding/2])\n",
    "\n",
    "# Display the plot\n",
    "plt.show()"
   ]
  },
  {
   "cell_type": "code",
   "execution_count": null,
   "id": "8cc008c9",
   "metadata": {},
   "outputs": [],
   "source": []
  }
 ],
 "metadata": {
  "kernelspec": {
   "display_name": "Python 3 (ipykernel)",
   "language": "python",
   "name": "python3"
  },
  "language_info": {
   "codemirror_mode": {
    "name": "ipython",
    "version": 3
   },
   "file_extension": ".py",
   "mimetype": "text/x-python",
   "name": "python",
   "nbconvert_exporter": "python",
   "pygments_lexer": "ipython3",
   "version": "3.11.3"
  }
 },
 "nbformat": 4,
 "nbformat_minor": 5
}
