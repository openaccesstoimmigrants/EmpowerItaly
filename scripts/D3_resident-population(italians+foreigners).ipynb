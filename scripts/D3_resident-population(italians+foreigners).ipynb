{
 "cells": [
  {
   "cell_type": "markdown",
   "metadata": {},
   "source": [
    "# D3\n",
    "## ISTAT SDMX - Resident population on 1st January\n",
    "\n",
    "[See on IstatData](https://esploradati.istat.it/databrowser/#/it/dw/categories/IT1,POP,1.0/POP_POPULATION/DCIS_POPRES1/IT1,22_289_DF_DCIS_POPRES1_1,1.0)"
   ]
  },
  {
   "cell_type": "code",
   "execution_count": 3,
   "metadata": {},
   "outputs": [],
   "source": [
    "import pandas as pd\n",
    "import pandasdmx as sdmx\n",
    "import json\n",
    "import requests\n",
    "# from pandasdmx import Request\n",
    "import xmltodict\n",
    "from datetime import datetime\n",
    "import os"
   ]
  },
  {
   "attachments": {},
   "cell_type": "markdown",
   "metadata": {},
   "source": [
    "## 1 - Explore datastructure\n",
    "`http://sdmx.istat.it/SDMXWS/rest/datastructure/IT1/DCIS_POPRES1/`\n",
    "\n",
    "## 2 - The meaning of the dimensions of the dataset\n",
    "`http://sdmx.istat.it/SDMXWS/rest/codelist/IT1/CL_ETA1`\n",
    "\n",
    "## 3 - Explore values in dimensions\n",
    "`http://sdmx.istat.it/SDMXWS/rest/availableconstraint/29_956`\n",
    "\n",
    "## 4 - Explore meaning of the values of a dimension\n",
    "`http://sdmx.istat.it/SDMXWS/rest/codelist/IT1/CL_STATCIV2/`\n",
    "\n",
    "## 5 - Test query with filters\n",
    "`http://sdmx.istat.it/SDMXWS/rest/data/22_289/.TOTAL.IT.9.99.`"
   ]
  },
  {
   "cell_type": "code",
   "execution_count": 41,
   "metadata": {},
   "outputs": [
    {
     "name": "stdout",
     "output_type": "stream",
     "text": [
      "200\n",
      "{\n",
      "      \"message:GenericData\": {\n",
      "            \"@xmlns:footer\": \"http://www.sdmx.org/resources/sdmxml/schemas/v2_1/message/footer\",\n",
      "            \"@xmlns:generic\": \"http://www.sdmx.org/resources/sdmxml/schemas/v2_1/data/generic\",\n",
      "            \"@xmlns:message\": \"http://www.sdmx.org/resources/sdmxml/schemas/v2_1/message\",\n",
      "            \"@xmlns:common\": \"http://www.sdmx.org/resources/sdmxml/schemas/v2_1/common\",\n",
      "            \"@xmlns:xsi\": \"http://www.w3.org/2001/XMLSchema-instance\",\n",
      "            \"@xmlns:xml\": \"http://www.w3.org/XML/1998/namespace\",\n",
      "            \"message:Header\": {\n",
      "                  \"message:ID\": \"IREF000015\",\n",
      "                  \"message:Test\": \"true\",\n",
      "                  \"message:Prepared\": \"2023-11-06T18:07:52\",\n",
      "                  \"message:Sender\": {\n",
      "                        \"@id\": \"NOT_CONFIGURED\"\n",
      "                  },\n",
      "                  \"message:Structure\": {\n",
      "                        \"@structureID\": \"IT1_22_289_1_0\",\n",
      "                        \"@dimensionAtObservation\": \"TIME_PERIOD\",\n",
      "                        \"common:StructureUsage\": {\n",
      "                              \"Ref\": {\n",
      "                                    \"@agencyID\": \"IT1\",\n",
      "                                    \"@id\": \"22_289\",\n",
      "                                    \"@version\": \"1.0\"\n",
      "                              }\n",
      "                        }\n",
      "                  },\n",
      "                  \"message:DataSetAction\": \"Information\",\n",
      "                  \"message:DataSetID\": \"DCIS_POPRES1\"\n",
      "            },\n",
      "            \"message:DataSet\": {\n",
      "                  \"@action\": \"Information\",\n",
      "                  \"@structureRef\": \"IT1_22_289_1_0\",\n",
      "                  \"generic:Series\": {\n",
      "                        \"generic:SeriesKey\": {\n",
      "                              \"generic:Value\": [\n",
      "                                    {\n",
      "                                          \"@id\": \"FREQ\",\n",
      "                                          \"@value\": \"A\"\n",
      "                                    },\n",
      "                                    {\n",
      "                                          \"@id\": \"REF_AREA\",\n",
      "                                          \"@value\": \"IT\"\n",
      "                                    },\n",
      "                                    {\n",
      "                                          \"@id\": \"DATA_TYPE\",\n",
      "                                          \"@value\": \"JAN\"\n",
      "                                    },\n",
      "                                    {\n",
      "                                          \"@id\": \"SEX\",\n",
      "                                          \"@value\": \"9\"\n",
      "                                    },\n",
      "                                    {\n",
      "                                          \"@id\": \"AGE\",\n",
      "                                          \"@value\": \"TOTAL\"\n",
      "                                    },\n",
      "                                    {\n",
      "                                          \"@id\": \"MARITAL_STATUS\",\n",
      "                                          \"@value\": \"99\"\n",
      "                                    }\n",
      "                              ]\n",
      "                        },\n",
      "                        \"generic:Obs\": [\n",
      "                              {\n",
      "                                    \"generic:ObsDimension\": {\n",
      "                                          \"@id\": \"TIME_PERIOD\",\n",
      "                                          \"@value\": \"2019\"\n",
      "                                    },\n",
      "                                    \"generic:ObsValue\": {\n",
      "                                          \"@value\": \"59816673\"\n",
      "                                    }\n",
      "                              },\n",
      "                              {\n",
      "                                    \"generic:ObsDimension\": {\n",
      "                                          \"@id\": \"TIME_PERIOD\",\n",
      "                                          \"@value\": \"2020\"\n",
      "                                    },\n",
      "                                    \"generic:ObsValue\": {\n",
      "                                          \"@value\": \"59641488\"\n",
      "                                    }\n",
      "                              },\n",
      "                              {\n",
      "                                    \"generic:ObsDimension\": {\n",
      "                                          \"@id\": \"TIME_PERIOD\",\n",
      "                                          \"@value\": \"2021\"\n",
      "                                    },\n",
      "                                    \"generic:ObsValue\": {\n",
      "                                          \"@value\": \"59236213\"\n",
      "                                    }\n",
      "                              },\n",
      "                              {\n",
      "                                    \"generic:ObsDimension\": {\n",
      "                                          \"@id\": \"TIME_PERIOD\",\n",
      "                                          \"@value\": \"2022\"\n",
      "                                    },\n",
      "                                    \"generic:ObsValue\": {\n",
      "                                          \"@value\": \"59030133\"\n",
      "                                    }\n",
      "                              },\n",
      "                              {\n",
      "                                    \"generic:ObsDimension\": {\n",
      "                                          \"@id\": \"TIME_PERIOD\",\n",
      "                                          \"@value\": \"2023\"\n",
      "                                    },\n",
      "                                    \"generic:ObsValue\": {\n",
      "                                          \"@value\": \"58850717\"\n",
      "                                    },\n",
      "                                    \"generic:Attributes\": {\n",
      "                                          \"generic:Value\": {\n",
      "                                                \"@id\": \"OBS_STATUS\",\n",
      "                                                \"@value\": \"e\"\n",
      "                                          }\n",
      "                                    }\n",
      "                              }\n",
      "                        ]\n",
      "                  }\n",
      "            }\n",
      "      }\n",
      "}\n"
     ]
    },
    {
     "data": {
      "text/plain": [
       "str"
      ]
     },
     "execution_count": 41,
     "metadata": {},
     "output_type": "execute_result"
    }
   ],
   "source": [
    "# 5 - QUERY WITH FILTERS\n",
    "# Query all residents, both sexes, total not divided by age and all marital status.\n",
    "response = requests.get('https://esploradati.istat.it/SDMXWS/rest/data/22_289/A.IT.JAN.9.TOTAL.99')\n",
    "print(response.status_code)\n",
    "\n",
    "if response.status_code == 200:\n",
    "    content = response.content\n",
    "    \n",
    "    if len(content) > 0:\n",
    "        try:\n",
    "            xml_data = xmltodict.parse(content)\n",
    "            json_string_data = json.dumps(xml_data,\n",
    "                                    allow_nan = True, # If we hadn't set allow_nan to\n",
    "                                                      # true we would have got\n",
    "                                                      # ValueError: Out of range float\n",
    "                                                      # values are not JSON compliant\n",
    "                                    indent = 6) # Indentation can be used for pretty-printing\n",
    "            # Now you can work with the parsed JSON data\n",
    "        except json.JSONDecodeError as e:\n",
    "            print(\"Error decoding JSON:\", e)\n",
    "    else:\n",
    "        print(\"Empty content received.\")\n",
    "else:\n",
    "    print(\"Request failed with status code:\", response.status_code)\n",
    "\n",
    "print(json_string_data)\n",
    "type(json_string_data)"
   ]
  },
  {
   "cell_type": "code",
   "execution_count": 42,
   "metadata": {},
   "outputs": [
    {
     "name": "stdout",
     "output_type": "stream",
     "text": [
      "{\n",
      "    \"IT\": [\n",
      "        {\n",
      "            \"TIME_PERIOD\": \"2019\",\n",
      "            \"ObsValue\": \"59816673\"\n",
      "        },\n",
      "        {\n",
      "            \"TIME_PERIOD\": \"2020\",\n",
      "            \"ObsValue\": \"59641488\"\n",
      "        },\n",
      "        {\n",
      "            \"TIME_PERIOD\": \"2021\",\n",
      "            \"ObsValue\": \"59236213\"\n",
      "        },\n",
      "        {\n",
      "            \"TIME_PERIOD\": \"2022\",\n",
      "            \"ObsValue\": \"59030133\"\n",
      "        },\n",
      "        {\n",
      "            \"TIME_PERIOD\": \"2023\",\n",
      "            \"ObsValue\": \"58850717\"\n",
      "        }\n",
      "    ]\n",
      "}\n"
     ]
    },
    {
     "data": {
      "text/plain": [
       "str"
      ]
     },
     "execution_count": 42,
     "metadata": {},
     "output_type": "execute_result"
    }
   ],
   "source": [
    "# Parse the JSON string into a dictionary\n",
    "data = json.loads(json_string_data)\n",
    "\n",
    "# Extract the relevant data in the desired format\n",
    "series = data['message:GenericData']['message:DataSet']['generic:Series']\n",
    "\n",
    "resident_italian_population = {}\n",
    "territory = None\n",
    "\n",
    "for key in series['generic:SeriesKey']['generic:Value']:\n",
    "    if key['@id'] == 'REF_AREA':\n",
    "        territory = key['@value']\n",
    "        break\n",
    "\n",
    "if territory:\n",
    "    resident_italian_population[territory] = []\n",
    "\n",
    "for obs in series['generic:Obs']:\n",
    "    time_period = obs['generic:ObsDimension']['@value']\n",
    "    obs_value = obs['generic:ObsValue']['@value']\n",
    "    resident_italian_population[territory].append({\"TIME_PERIOD\": time_period, \"ObsValue\": obs_value})\n",
    "\n",
    "# Convert the result to JSON\n",
    "resident_italian_population_json = json.dumps(resident_italian_population, indent=4)\n",
    "print(resident_italian_population_json)\n",
    "type(resident_italian_population_json)"
   ]
  },
  {
   "cell_type": "code",
   "execution_count": 45,
   "metadata": {},
   "outputs": [
    {
     "name": "stdout",
     "output_type": "stream",
     "text": [
      "JSON data saved to: ../_datasets/Clean/D3/resident_italian_population.json\n"
     ]
    }
   ],
   "source": [
    "# Save the new file\n",
    "\n",
    "# Specify the folder path to save the JSON file\n",
    "folder_path = \"../_datasets/Clean/D3\"\n",
    "\n",
    "# Create the folder if it doesn't exist\n",
    "os.makedirs(folder_path, exist_ok=True)\n",
    "\n",
    "# Define the filename for the JSON file\n",
    "filename = \"resident_italian_population.json\"\n",
    "\n",
    "# Generate the file path\n",
    "file_path = os.path.join(folder_path, filename)\n",
    "\n",
    "# Save the resident Italian population JSON to the file\n",
    "with open(file_path, \"w\") as file:\n",
    "    file.write(resident_italian_population_json)\n",
    "\n",
    "print(f\"JSON data saved to: {file_path}\")"
   ]
  },
  {
   "cell_type": "markdown",
   "metadata": {},
   "source": [
    "# Query all ages in order to calculate the average age of the population"
   ]
  },
  {
   "cell_type": "code",
   "execution_count": 11,
   "metadata": {},
   "outputs": [
    {
     "name": "stdout",
     "output_type": "stream",
     "text": [
      "200\n"
     ]
    },
    {
     "data": {
      "text/plain": [
       "str"
      ]
     },
     "execution_count": 11,
     "metadata": {},
     "output_type": "execute_result"
    }
   ],
   "source": [
    "# QUERY WITH FILTERS\n",
    "# Query all residents, both sexes, total not divided by age and all marital status.\n",
    "response = requests.get('https://esploradati.istat.it/SDMXWS/rest/data/22_289/A.IT.JAN.9..99')\n",
    "print(response.status_code)\n",
    "\n",
    "if response.status_code == 200:\n",
    "    content = response.content\n",
    "    \n",
    "    if len(content) > 0:\n",
    "        try:\n",
    "            xml_data = xmltodict.parse(content)\n",
    "            json_string_data_age = json.dumps(xml_data,\n",
    "                                    allow_nan = True, # If we hadn't set allow_nan to\n",
    "                                                      # true we would have got\n",
    "                                                      # ValueError: Out of range float\n",
    "                                                      # values are not JSON compliant\n",
    "                                    indent = 6) # Indentation can be used for pretty-printing\n",
    "            # Now you can work with the parsed JSON data\n",
    "        except json.JSONDecodeError as e:\n",
    "            print(\"Error decoding JSON:\", e)\n",
    "    else:\n",
    "        print(\"Empty content received.\")\n",
    "else:\n",
    "    print(\"Request failed with status code:\", response.status_code)\n",
    "\n",
    "# print(json_string_data_age)\n",
    "type(json_string_data_age)"
   ]
  },
  {
   "cell_type": "code",
   "execution_count": 16,
   "metadata": {},
   "outputs": [
    {
     "data": {
      "text/plain": [
       "str"
      ]
     },
     "execution_count": 16,
     "metadata": {},
     "output_type": "execute_result"
    }
   ],
   "source": [
    "# Initialize an empty list to store age data\n",
    "age_data = []\n",
    "\n",
    "# Parse the JSON string into a dictionary\n",
    "age_data_dict = json.loads(json_string_data_age)\n",
    "\n",
    "# Extract the series data\n",
    "series = age_data_dict[\"message:GenericData\"][\"message:DataSet\"][\"generic:Series\"]\n",
    "\n",
    "for series_data in series:\n",
    "    series_key = series_data[\"generic:SeriesKey\"]\n",
    "    obs_list = series_data[\"generic:Obs\"]\n",
    "\n",
    "    # Extract territory (REF_AREA)\n",
    "    territory = None\n",
    "    for key in series_key[\"generic:Value\"]:\n",
    "        if key[\"@id\"] == \"REF_AREA\":\n",
    "            territory = key[\"@value\"]\n",
    "            break\n",
    "\n",
    "    for obs in obs_list:\n",
    "        # Extract age from SeriesKey\n",
    "        age_key = next(\n",
    "            (value for value in series_key[\"generic:Value\"] if value[\"@id\"] == \"AGE\"),\n",
    "            None,\n",
    "        )\n",
    "\n",
    "        # Skip the age \"TOTAL\"\n",
    "        if age_key and age_key[\"@value\"] != \"TOTAL\":\n",
    "            time_period = int(obs[\"generic:ObsDimension\"][\"@value\"])  # Convert to integer\n",
    "            obs_value = int(obs[\"generic:ObsValue\"][\"@value\"])  # Convert to integer\n",
    "\n",
    "            # Handle the exception for age \"Y_GE100\"\n",
    "            age = age_key[\"@value\"]\n",
    "            if age == \"Y_GE100\":\n",
    "                age = 100  # Set the age to \"100 or more\"\n",
    "            else:\n",
    "                # Translate age to a string by removing the 'Y'\n",
    "                age = int(age[1:])  # Convert to a string after removing 'Y'\n",
    "\n",
    "            # Store the data by age\n",
    "            age_data.append({\n",
    "                \"AGE\": age,\n",
    "                \"YEAR\": time_period,\n",
    "                \"POPULATION\": obs_value,\n",
    "            })\n",
    "\n",
    "# Convert the age data to JSON\n",
    "resident_italian_population_age_json = json.dumps(age_data, indent=4)\n",
    "\n",
    "# print(resident_italian_population_age_json)\n",
    "type(resident_italian_population_age_json)"
   ]
  },
  {
   "cell_type": "markdown",
   "metadata": {},
   "source": [
    "## ATTENTION: Istat doesn't distinguish beetween the age 100 or more, the all gruopped under \"Y_GE100\"."
   ]
  },
  {
   "cell_type": "code",
   "execution_count": 17,
   "metadata": {},
   "outputs": [
    {
     "name": "stdout",
     "output_type": "stream",
     "text": [
      "JSON data saved to: ../_datasets/Clean/D3/resident_italian_population_age.json\n"
     ]
    }
   ],
   "source": [
    "# Save the new file\n",
    "\n",
    "# Specify the folder path to save the JSON file\n",
    "folder_path = \"../_datasets/Clean/D3\"\n",
    "\n",
    "# Create the folder if it doesn't exist\n",
    "os.makedirs(folder_path, exist_ok=True)\n",
    "\n",
    "# Define the filename for the JSON file\n",
    "filename = \"resident_italian_population_age.json\"\n",
    "\n",
    "# Generate the file path\n",
    "file_path = os.path.join(folder_path, filename)\n",
    "\n",
    "# Save the resident Italian population JSON to the file\n",
    "with open(file_path, \"w\") as file:\n",
    "    file.write(resident_italian_population_age_json)\n",
    "\n",
    "print(f\"JSON data saved to: {file_path}\")"
   ]
  },
  {
   "cell_type": "code",
   "execution_count": null,
   "metadata": {},
   "outputs": [],
   "source": []
  }
 ],
 "metadata": {
  "kernelspec": {
   "display_name": "Python 3 (ipykernel)",
   "language": "python",
   "name": "python3"
  },
  "language_info": {
   "codemirror_mode": {
    "name": "ipython",
    "version": 3
   },
   "file_extension": ".py",
   "mimetype": "text/x-python",
   "name": "python",
   "nbconvert_exporter": "python",
   "pygments_lexer": "ipython3",
   "version": "3.11.5"
  }
 },
 "nbformat": 4,
 "nbformat_minor": 4
}
