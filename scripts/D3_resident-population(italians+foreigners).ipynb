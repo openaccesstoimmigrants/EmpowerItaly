{
 "cells": [
  {
   "attachments": {},
   "cell_type": "markdown",
   "metadata": {},
   "source": [
    "# D3\n",
    "## ISTAT SDMX - Resident population on 1st January\n",
    "\n",
    "[See on IstatData](https://esploradati.istat.it/databrowser/#/it/dw/categories/IT1,POP,1.0/POP_POPULATION/DCIS_POPRES1/IT1,22_289_DF_DCIS_POPRES1_1,1.0)"
   ]
  },
  {
   "attachments": {},
   "cell_type": "markdown",
   "metadata": {},
   "source": [
    "## 1 - Explore datastructure\n",
    "`http://sdmx.istat.it/SDMXWS/rest/datastructure/IT1/DCIS_POPRES1/`\n",
    "\n",
    "## 2 - The meaning of the dimensions of the dataset\n",
    "`http://sdmx.istat.it/SDMXWS/rest/codelist/IT1/CL_ETA1`\n",
    "\n",
    "## 3 - Explore values in dimensions\n",
    "`http://sdmx.istat.it/SDMXWS/rest/availableconstraint/29_956`\n",
    "\n",
    "## 4 - Explore meaning of the values of a dimension\n",
    "`http://sdmx.istat.it/SDMXWS/rest/codelist/IT1/CL_STATCIV2/`\n",
    "\n",
    "## 5 - Test query with filters\n",
    "`http://sdmx.istat.it/SDMXWS/rest/data/22_289/.TOTAL.IT.9.99.`"
   ]
  }
 ],
 "metadata": {
  "kernelspec": {
   "display_name": "Python 3 (ipykernel)",
   "language": "python",
   "name": "python3"
  },
  "language_info": {
   "codemirror_mode": {
    "name": "ipython",
    "version": 3
   },
   "file_extension": ".py",
   "mimetype": "text/x-python",
   "name": "python",
   "nbconvert_exporter": "python",
   "pygments_lexer": "ipython3",
   "version": "3.11.5"
  }
 },
 "nbformat": 4,
 "nbformat_minor": 4
}
