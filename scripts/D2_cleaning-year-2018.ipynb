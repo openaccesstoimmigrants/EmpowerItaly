{
 "cells": [
  {
   "cell_type": "markdown",
   "id": "a793f383-bd06-40a8-a7c6-a1581ccb2527",
   "metadata": {},
   "source": [
    "# D2\n",
    "## ISTAT SDMX - Resident foreigners on 1st January\n",
    "\n",
    "[See on IstatData](https://esploradati.istat.it/databrowser/#/it/dw/categories/IT1,POP,1.0/POP_FOREIGNIM/DCIS_POPSTRRES1/IT1,29_7_DF_DCIS_POPSTRRES1_1,1.0)"
   ]
  },
  {
   "cell_type": "code",
   "execution_count": 1,
   "id": "a9b275bf-4246-4d46-ad8d-f2bbf769fa12",
   "metadata": {},
   "outputs": [],
   "source": [
    "#!pip install pandasdmx requests requests_cache xmltodict"
   ]
  },
  {
   "cell_type": "code",
   "execution_count": 2,
   "id": "68d72ee9-a8d2-4c2e-92dd-b6ef90f15629",
   "metadata": {},
   "outputs": [],
   "source": [
    "import pandas as pd\n",
    "import pandasdmx as sdmx\n",
    "import json\n",
    "import requests\n",
    "# from pandasdmx import Request\n",
    "import xmltodict\n",
    "from datetime import datetime\n",
    "import os"
   ]
  },
  {
   "cell_type": "code",
   "execution_count": 3,
   "id": "f1234ed9-87a8-471a-b37b-1c420558108a",
   "metadata": {},
   "outputs": [
    {
     "name": "stdout",
     "output_type": "stream",
     "text": [
      "200\n"
     ]
    },
    {
     "data": {
      "text/plain": [
       "str"
      ]
     },
     "execution_count": 3,
     "metadata": {},
     "output_type": "execute_result"
    }
   ],
   "source": [
    "# 1 -  EXPLORE DATASTRUCTURE\n",
    "response = requests.get('http://sdmx.istat.it/SDMXWS/rest/datastructure/IT1/DCIS_RICPOPRES2011/')\n",
    "print(response.status_code)\n",
    "\n",
    "if response.status_code == 200:\n",
    "    content = response.content\n",
    "    \n",
    "    if len(content) > 0:\n",
    "        try:\n",
    "            xml_data = xmltodict.parse(content)\n",
    "            json_string_data = json.dumps(xml_data,\n",
    "                                    allow_nan = True, # If we hadn't set allow_nan to\n",
    "                                                      # true we would have got\n",
    "                                                      # ValueError: Out of range float\n",
    "                                                      # values are not JSON compliant\n",
    "                                    indent = 6) # Indentation can be used for pretty-printing\n",
    "            # Now you can work with the parsed JSON data\n",
    "        except json.JSONDecodeError as e:\n",
    "            print(\"Error decoding JSON:\", e)\n",
    "    else:\n",
    "        print(\"Empty content received.\")\n",
    "else:\n",
    "    print(\"Request failed with status code:\", response.status_code)\n",
    "\n",
    "# print(json_string_data)\n",
    "type(json_string_data)"
   ]
  },
  {
   "cell_type": "markdown",
   "id": "b486eee9-de88-4206-8587-2bb6f062f3a8",
   "metadata": {},
   "source": [
    "By querying the API, we will obtain an XML output that includes the structure:DimensionList tag, which contains the list of dimensions, i.e., the data schema of the dataset. In our case, the dimensions are as follows: `FREQ`,`SESSO`,`TIPO_DATO`, `CLASSE_ETA`, `CITTADINANZA` and `ITTER107`.\n",
    "\n",
    "To understand the meaning of this abbreviations we can look at the package called `codelist`. It can be queried by the previous discovered IDs. Let's for example explore `CITTADINANZA`. Reading the XML above we see that the ID to query relative to the package `codelist` is: `CL_CITTADINANZA`. Querying the URL `http://sdmx.istat.it/SDMXWS/rest/codelist/IT1/CL_CITTADINANZA` in Postman (some API response are too long to be loaded in a Jupyter Notebook) we can see that this dimension is relative to the kind of citizenship An example of one record is shown below:\n",
    "\n",
    "\n",
    "`<structure:Code id=\"FRG\" urn=\"urn:sdmx:org.sdmx.infomodel.codelist.Code=IT1:CL_CITTADINANZA(1.2).FRG\">de>`\n",
    "<br>\n",
    "` <common:Name xml:lang=\"it\">straniero-a</common:Name>me>`\n",
    "    <br>\n",
    "` <common:Name xml:lang=\"en\">foreign</common:Name>me>`\n",
    "    <br>\n",
    "`</structure:Code>`\n",
    "\n",
    "Since we are interested foreing residentons, we find that:\n",
    "EXTEU27TCD` is the ID foof extra European Union country with 27 Member Statesord`\n",
    "FRGITD` is the ID foforeignest`\n",
    "TOTALITC` is the ID fototalest`\n",
    "EU27ITE`is the ID foof European Union country with 27 Member Statestro`\n",
    "FRGAPOITF` is the ID foforeign/statelesssud`\n",
    "ITL`IT` is the ID flitaliana\n",
    "- `APO` is the ID for `apolide`\n",
    "- `EU27_NOITL` is the ID for `of European Union country (except Italy)`\n",
    "  ly`\n",
    "We will need for our API request fore `FRG`his dimension:C\n",
    "\n",
    "We also explored the `TIPO_DATO` dimension and we found that we need to specify `JAN` in our query, since it means `population on 1st January`de>"
   ]
  },
  {
   "cell_type": "code",
   "execution_count": 4,
   "id": "2374c975-877e-45b1-a467-595b543deaf3",
   "metadata": {},
   "outputs": [
    {
     "name": "stdout",
     "output_type": "stream",
     "text": [
      "200\n"
     ]
    }
   ],
   "source": [
    "# 2 - Explore the meaning of the dimensions of the dataset\n",
    "\n",
    "response = requests.get('http://sdmx.istat.it/SDMXWS/rest/codelist/IT1/CL_CITTADINANZA')\n",
    "print(response.status_code)\n",
    "\n",
    "if response.status_code == 200:\n",
    "    content = response.content\n",
    "    \n",
    "    if len(content) > 0:\n",
    "        try:\n",
    "            xml_data = xmltodict.parse(content)\n",
    "            json_string_data = json.dumps(xml_data,\n",
    "                                    allow_nan = True, # If we hadn't set allow_nan to\n",
    "                                                      # true we would have got\n",
    "                                                      # ValueError: Out of range float\n",
    "                                                      # values are not JSON compliant\n",
    "                                    indent = 6) # Indentation can be used for pretty-printing\n",
    "            # Now you can work with the parsed JSON data\n",
    "        except json.JSONDecodeError as e:\n",
    "            print(\"Error decoding JSON:\", e)\n",
    "    else:\n",
    "        print(\"Empty content received.\")\n",
    "else:\n",
    "    print(\"Request failed with status code:\", response.status_code)\n",
    "\n",
    "# print(json_string_data)"
   ]
  },
  {
   "cell_type": "markdown",
   "id": "da8d5db1-b08c-4783-b3c6-275576082c8f",
   "metadata": {},
   "source": [
    "We explore all the other dimensions and since for our purpose we need all the ages we will have to understand how the are divided and which are the values. In order to do that we need to know the ID of our datasets. We can checkit in the URL on IstatData, and we see that is `164_164`.\n",
    "We can query the API rest service like this to obtain our result:"
   ]
  },
  {
   "cell_type": "code",
   "execution_count": 5,
   "id": "8c726e51-d479-4a54-8009-5ee59d60b402",
   "metadata": {},
   "outputs": [
    {
     "name": "stdout",
     "output_type": "stream",
     "text": [
      "200\n"
     ]
    }
   ],
   "source": [
    "# 3 -  EXPLORE VALUES IN DIMENSIONS\n",
    "response = requests.get('http://sdmx.istat.it/SDMXWS/rest/availableconstraint/164_164')\n",
    "print(response.status_code)\n",
    "\n",
    "if response.status_code == 200:\n",
    "    content = response.content\n",
    "    \n",
    "    if len(content) > 0:\n",
    "        try:\n",
    "            xml_data = xmltodict.parse(content)\n",
    "            json_string_data = json.dumps(xml_data,\n",
    "                                    allow_nan = True, # If we hadn't set allow_nan to\n",
    "                                                      # true we would have got\n",
    "                                                      # ValueError: Out of range float\n",
    "                                                      # values are not JSON compliant\n",
    "                                    indent = 6) # Indentation can be used for pretty-printing\n",
    "            # Now you can work with the parsed JSON data\n",
    "        except json.JSONDecodeError as e:\n",
    "            print(\"Error decoding JSON:\", e)\n",
    "    else:\n",
    "        print(\"Empty content received.\")\n",
    "else:\n",
    "    print(\"Request failed with status code:\", response.status_code)\n",
    "\n",
    "# Print is disable in documentation since the response is too long to be shown here. Uncomment to see it.\n",
    "# print(json_string_data)"
   ]
  },
  {
   "cell_type": "markdown",
   "id": "20aa2a23-7718-4891-8003-7c554c46040d",
   "metadata": {},
   "source": [
    "We can now compose our final query for retrive all values relative of all ages, for all Italy, divided by sex.\n",
    "Our final URL will be: http://sdmx.istat.it/SDMXWS/rest/data/164_164/.9.JAN.TOTAL.FRG.IT+ITCD+ITD+ITC+ITE+ITF./\n",
    "\n",
    "The filters we apply after the `data` request are:\n",
    "- `TOTAL` where we specify we want the whole ages not divided\n",
    "-`IT`that is equal to whole Italian nation plus all the regions (nord, nord-est, nord-ovet, center and sud)\n",
    "- `9`where we specify we want the data not divided by males and females."
   ]
  },
  {
   "cell_type": "code",
   "execution_count": 5,
   "id": "914cc97f-57de-485a-8d2e-27208405fdbb",
   "metadata": {},
   "outputs": [
    {
     "name": "stdout",
     "output_type": "stream",
     "text": [
      "200\n"
     ]
    }
   ],
   "source": [
    "# 4 -  FINAL QUERY WITH FILTERS\n",
    "response = requests.get('http://sdmx.istat.it/SDMXWS/rest/data/164_164/.9.JAN.TOTAL.FRG.IT+ITCD+ITD+ITC+ITE+ITF./')\n",
    "print(response.status_code)\n",
    "\n",
    "if response.status_code == 200:\n",
    "    content = response.content\n",
    "    \n",
    "    if len(content) > 0:\n",
    "        try:\n",
    "            xml_data = xmltodict.parse(content)\n",
    "            json_string_data = json.dumps(xml_data,\n",
    "                                    allow_nan = True, # If we hadn't set allow_nan to\n",
    "                                                      # true we would have got\n",
    "                                                      # ValueError: Out of range float\n",
    "                                                      # values are not JSON compliant\n",
    "                                    indent = 6) # Indentation can be used for pretty-printing\n",
    "            # Now you can work with the parsed JSON data\n",
    "        except json.JSONDecodeError as e:\n",
    "            print(\"Error decoding JSON:\", e)\n",
    "    else:\n",
    "        print(\"Empty content received.\")\n",
    "else:\n",
    "    print(\"Request failed with status code:\", response.status_code)\n",
    "\n",
    "# Print is disable in documentation since the response is too long to be shown here. Uncomment to see it.\n",
    "# print(json_string_data)"
   ]
  },
  {
   "cell_type": "markdown",
   "id": "8ee2dc08-7e2a-4625-be5b-e6b323a24e94",
   "metadata": {},
   "source": [
    "Now we crate a well formed JSON sting from the response.\n",
    "\n",
    "The code snippet performs the following tasks:\n",
    "\n",
    "1. It takes a JSON string called `json_string_data` and creates a nested dictionary, `nested_dict`, using the `json.loads()` function. This step is essential to process and extract information from the JSON data.\n",
    "\n",
    "2. It defines a translation dictionary, `sex_translation`, which maps numeric codes to corresponding gender labels ('1' to 'Male' and '2' to 'Female'). This dictionary will be used to translate the sex values later.\n",
    "\n",
    "3. It initializes an empty list, `result`, which will store the extracted information from the nested dictionary.\n",
    "\n",
    "4. It iterates over the series data in the nested dictionary. Each series represents a set of observations for a specific combination of variables.\n",
    "\n",
    "5. Within each series, it retrieves the territory and sex values by searching for specific keys ('ITTER107' and 'SESSO') in the series key. If found, it assigns the corresponding values to the `territory` and `sex` variables, respectively. The sex value is translated using the `sex_translation` dictionary.\n",
    "\n",
    "6. It retrieves the observation values (`obs_values`) for each series and iterates over them. Each observation contains information about the year, age, and quantity.\n",
    "\n",
    "7. It creates an entry dictionary that contains the extracted information, including the territory, year, sex, age, and quantity.\n",
    "\n",
    "8. The entry dictionary is appended to the `result` list.\n",
    "\n",
    "9. Finally, the `result` list is converted to a JSON string, `immigrants_distribution_2018`, using `json.dumps()`. The type of the `immigrants_distribution_2018` variable is printed to verify that it is a string.\n",
    "\n",
    "In summary, sintethis code processes the nested dictionary, extracts specific information, translates values, and organizes the extracted data into a clean JSON format suitable for visualization or further analysis."
   ]
  },
  {
   "cell_type": "code",
   "execution_count": 12,
   "id": "6953301e-5042-4aae-8e99-2e10e5b04df2",
   "metadata": {},
   "outputs": [
    {
     "name": "stdout",
     "output_type": "stream",
     "text": [
      "<class 'str'>\n",
      "[{\"Territory\": \"IT\", \"Year\": 2001, \"Sex\": \"TOTAL\", \"Age\": \"TOTAL\", \"Quantity\": 1334889}, {\"Territory\": \"IT\", \"Year\": 2002, \"Sex\": \"TOTAL\", \"Age\": \"TOTAL\", \"Quantity\": 1341414}, {\"Territory\": \"IT\", \"Year\": 2003, \"Sex\": \"TOTAL\", \"Age\": \"TOTAL\", \"Quantity\": 1483277}, {\"Territory\": \"IT\", \"Year\": 2004, \"Sex\": \"TOTAL\", \"Age\": \"TOTAL\", \"Quantity\": 1893927}, {\"Territory\": \"IT\", \"Year\": 2005, \"Sex\": \"TOTAL\", \"Age\": \"TOTAL\", \"Quantity\": 2269018}, {\"Territory\": \"IT\", \"Year\": 2006, \"Sex\": \"TOTAL\", \"Age\": \"TOTAL\", \"Quantity\": 2498411}, {\"Territory\": \"IT\", \"Year\": 2007, \"Sex\": \"TOTAL\", \"Age\": \"TOTAL\", \"Quantity\": 2692022}, {\"Territory\": \"IT\", \"Year\": 2008, \"Sex\": \"TOTAL\", \"Age\": \"TOTAL\", \"Quantity\": 3151553}, {\"Territory\": \"IT\", \"Year\": 2009, \"Sex\": \"TOTAL\", \"Age\": \"TOTAL\", \"Quantity\": 3558853}, {\"Territory\": \"IT\", \"Year\": 2010, \"Sex\": \"TOTAL\", \"Age\": \"TOTAL\", \"Quantity\": 3836349}, {\"Territory\": \"IT\", \"Year\": 2011, \"Sex\": \"TOTAL\", \"Age\": \"TOTAL\", \"Quantity\": 4101335}, {\"Territory\": \"IT\", \"Year\": 2012, \"Sex\": \"TOTAL\", \"Age\": \"TOTAL\", \"Quantity\": 4319201}, {\"Territory\": \"IT\", \"Year\": 2013, \"Sex\": \"TOTAL\", \"Age\": \"TOTAL\", \"Quantity\": 4610493}, {\"Territory\": \"IT\", \"Year\": 2014, \"Sex\": \"TOTAL\", \"Age\": \"TOTAL\", \"Quantity\": 4787166}, {\"Territory\": \"IT\", \"Year\": 2015, \"Sex\": \"TOTAL\", \"Age\": \"TOTAL\", \"Quantity\": 4835245}, {\"Territory\": \"IT\", \"Year\": 2016, \"Sex\": \"TOTAL\", \"Age\": \"TOTAL\", \"Quantity\": 4831042}, {\"Territory\": \"IT\", \"Year\": 2017, \"Sex\": \"TOTAL\", \"Age\": \"TOTAL\", \"Quantity\": 4818633}, {\"Territory\": \"IT\", \"Year\": 2018, \"Sex\": \"TOTAL\", \"Age\": \"TOTAL\", \"Quantity\": 4883451}, {\"Territory\": \"IT\", \"Year\": 2019, \"Sex\": \"TOTAL\", \"Age\": \"TOTAL\", \"Quantity\": 4996158}, {\"Territory\": \"ITC\", \"Year\": 2001, \"Sex\": \"TOTAL\", \"Age\": \"TOTAL\", \"Quantity\": 468546}, {\"Territory\": \"ITC\", \"Year\": 2002, \"Sex\": \"TOTAL\", \"Age\": \"TOTAL\", \"Quantity\": 470839}, {\"Territory\": \"ITC\", \"Year\": 2003, \"Sex\": \"TOTAL\", \"Age\": \"TOTAL\", \"Quantity\": 528334}, {\"Territory\": \"ITC\", \"Year\": 2004, \"Sex\": \"TOTAL\", \"Age\": \"TOTAL\", \"Quantity\": 678355}, {\"Territory\": \"ITC\", \"Year\": 2005, \"Sex\": \"TOTAL\", \"Age\": \"TOTAL\", \"Quantity\": 830904}, {\"Territory\": \"ITC\", \"Year\": 2006, \"Sex\": \"TOTAL\", \"Age\": \"TOTAL\", \"Quantity\": 920614}, {\"Territory\": \"ITC\", \"Year\": 2007, \"Sex\": \"TOTAL\", \"Age\": \"TOTAL\", \"Quantity\": 995634}, {\"Territory\": \"ITC\", \"Year\": 2008, \"Sex\": \"TOTAL\", \"Age\": \"TOTAL\", \"Quantity\": 1139672}, {\"Territory\": \"ITC\", \"Year\": 2009, \"Sex\": \"TOTAL\", \"Age\": \"TOTAL\", \"Quantity\": 1265605}, {\"Territory\": \"ITC\", \"Year\": 2010, \"Sex\": \"TOTAL\", \"Age\": \"TOTAL\", \"Quantity\": 1356872}, {\"Territory\": \"ITC\", \"Year\": 2011, \"Sex\": \"TOTAL\", \"Age\": \"TOTAL\", \"Quantity\": 1449377}, {\"Territory\": \"ITC\", \"Year\": 2012, \"Sex\": \"TOTAL\", \"Age\": \"TOTAL\", \"Quantity\": 1530704}, {\"Territory\": \"ITC\", \"Year\": 2013, \"Sex\": \"TOTAL\", \"Age\": \"TOTAL\", \"Quantity\": 1627228}, {\"Territory\": \"ITC\", \"Year\": 2014, \"Sex\": \"TOTAL\", \"Age\": \"TOTAL\", \"Quantity\": 1682672}, {\"Territory\": \"ITC\", \"Year\": 2015, \"Sex\": \"TOTAL\", \"Age\": \"TOTAL\", \"Quantity\": 1686424}, {\"Territory\": \"ITC\", \"Year\": 2016, \"Sex\": \"TOTAL\", \"Age\": \"TOTAL\", \"Quantity\": 1668496}, {\"Territory\": \"ITC\", \"Year\": 2017, \"Sex\": \"TOTAL\", \"Age\": \"TOTAL\", \"Quantity\": 1647193}, {\"Territory\": \"ITC\", \"Year\": 2018, \"Sex\": \"TOTAL\", \"Age\": \"TOTAL\", \"Quantity\": 1656416}, {\"Territory\": \"ITC\", \"Year\": 2019, \"Sex\": \"TOTAL\", \"Age\": \"TOTAL\", \"Quantity\": 1687560}, {\"Territory\": \"ITCD\", \"Year\": 2001, \"Sex\": \"TOTAL\", \"Age\": \"TOTAL\", \"Quantity\": 826014}, {\"Territory\": \"ITCD\", \"Year\": 2002, \"Sex\": \"TOTAL\", \"Age\": \"TOTAL\", \"Quantity\": 832492}, {\"Territory\": \"ITCD\", \"Year\": 2003, \"Sex\": \"TOTAL\", \"Age\": \"TOTAL\", \"Quantity\": 942010}, {\"Territory\": \"ITCD\", \"Year\": 2004, \"Sex\": \"TOTAL\", \"Age\": \"TOTAL\", \"Quantity\": 1205082}, {\"Territory\": \"ITCD\", \"Year\": 2005, \"Sex\": \"TOTAL\", \"Age\": \"TOTAL\", \"Quantity\": 1459603}, {\"Territory\": \"ITCD\", \"Year\": 2006, \"Sex\": \"TOTAL\", \"Age\": \"TOTAL\", \"Quantity\": 1620356}, {\"Territory\": \"ITCD\", \"Year\": 2007, \"Sex\": \"TOTAL\", \"Age\": \"TOTAL\", \"Quantity\": 1756073}, {\"Territory\": \"ITCD\", \"Year\": 2008, \"Sex\": \"TOTAL\", \"Age\": \"TOTAL\", \"Quantity\": 2017020}, {\"Territory\": \"ITCD\", \"Year\": 2009, \"Sex\": \"TOTAL\", \"Age\": \"TOTAL\", \"Quantity\": 2257752}, {\"Territory\": \"ITCD\", \"Year\": 2010, \"Sex\": \"TOTAL\", \"Age\": \"TOTAL\", \"Quantity\": 2411872}, {\"Territory\": \"ITCD\", \"Year\": 2011, \"Sex\": \"TOTAL\", \"Age\": \"TOTAL\", \"Quantity\": 2557231}, {\"Territory\": \"ITCD\", \"Year\": 2012, \"Sex\": \"TOTAL\", \"Age\": \"TOTAL\", \"Quantity\": 2673996}, {\"Territory\": \"ITCD\", \"Year\": 2013, \"Sex\": \"TOTAL\", \"Age\": \"TOTAL\", \"Quantity\": 2826455}, {\"Territory\": \"ITCD\", \"Year\": 2014, \"Sex\": \"TOTAL\", \"Age\": \"TOTAL\", \"Quantity\": 2908779}, {\"Territory\": \"ITCD\", \"Year\": 2015, \"Sex\": \"TOTAL\", \"Age\": \"TOTAL\", \"Quantity\": 2904626}, {\"Territory\": \"ITCD\", \"Year\": 2016, \"Sex\": \"TOTAL\", \"Age\": \"TOTAL\", \"Quantity\": 2862484}, {\"Territory\": \"ITCD\", \"Year\": 2017, \"Sex\": \"TOTAL\", \"Age\": \"TOTAL\", \"Quantity\": 2817098}, {\"Territory\": \"ITCD\", \"Year\": 2018, \"Sex\": \"TOTAL\", \"Age\": \"TOTAL\", \"Quantity\": 2835528}, {\"Territory\": \"ITCD\", \"Year\": 2019, \"Sex\": \"TOTAL\", \"Age\": \"TOTAL\", \"Quantity\": 2900417}, {\"Territory\": \"ITD\", \"Year\": 2001, \"Sex\": \"TOTAL\", \"Age\": \"TOTAL\", \"Quantity\": 357468}, {\"Territory\": \"ITD\", \"Year\": 2002, \"Sex\": \"TOTAL\", \"Age\": \"TOTAL\", \"Quantity\": 361653}, {\"Territory\": \"ITD\", \"Year\": 2003, \"Sex\": \"TOTAL\", \"Age\": \"TOTAL\", \"Quantity\": 413676}, {\"Territory\": \"ITD\", \"Year\": 2004, \"Sex\": \"TOTAL\", \"Age\": \"TOTAL\", \"Quantity\": 526727}, {\"Territory\": \"ITD\", \"Year\": 2005, \"Sex\": \"TOTAL\", \"Age\": \"TOTAL\", \"Quantity\": 628699}, {\"Territory\": \"ITD\", \"Year\": 2006, \"Sex\": \"TOTAL\", \"Age\": \"TOTAL\", \"Quantity\": 699742}, {\"Territory\": \"ITD\", \"Year\": 2007, \"Sex\": \"TOTAL\", \"Age\": \"TOTAL\", \"Quantity\": 760439}, {\"Territory\": \"ITD\", \"Year\": 2008, \"Sex\": \"TOTAL\", \"Age\": \"TOTAL\", \"Quantity\": 877348}, {\"Territory\": \"ITD\", \"Year\": 2009, \"Sex\": \"TOTAL\", \"Age\": \"TOTAL\", \"Quantity\": 992147}, {\"Territory\": \"ITD\", \"Year\": 2010, \"Sex\": \"TOTAL\", \"Age\": \"TOTAL\", \"Quantity\": 1055000}, {\"Territory\": \"ITD\", \"Year\": 2011, \"Sex\": \"TOTAL\", \"Age\": \"TOTAL\", \"Quantity\": 1107854}, {\"Territory\": \"ITD\", \"Year\": 2012, \"Sex\": \"TOTAL\", \"Age\": \"TOTAL\", \"Quantity\": 1143292}, {\"Territory\": \"ITD\", \"Year\": 2013, \"Sex\": \"TOTAL\", \"Age\": \"TOTAL\", \"Quantity\": 1199227}, {\"Territory\": \"ITD\", \"Year\": 2014, \"Sex\": \"TOTAL\", \"Age\": \"TOTAL\", \"Quantity\": 1226107}, {\"Territory\": \"ITD\", \"Year\": 2015, \"Sex\": \"TOTAL\", \"Age\": \"TOTAL\", \"Quantity\": 1218202}, {\"Territory\": \"ITD\", \"Year\": 2016, \"Sex\": \"TOTAL\", \"Age\": \"TOTAL\", \"Quantity\": 1193988}, {\"Territory\": \"ITD\", \"Year\": 2017, \"Sex\": \"TOTAL\", \"Age\": \"TOTAL\", \"Quantity\": 1169905}, {\"Territory\": \"ITD\", \"Year\": 2018, \"Sex\": \"TOTAL\", \"Age\": \"TOTAL\", \"Quantity\": 1179112}, {\"Territory\": \"ITD\", \"Year\": 2019, \"Sex\": \"TOTAL\", \"Age\": \"TOTAL\", \"Quantity\": 1212857}, {\"Territory\": \"ITE\", \"Year\": 2001, \"Sex\": \"TOTAL\", \"Age\": \"TOTAL\", \"Quantity\": 332710}, {\"Territory\": \"ITE\", \"Year\": 2002, \"Sex\": \"TOTAL\", \"Age\": \"TOTAL\", \"Quantity\": 335884}, {\"Territory\": \"ITE\", \"Year\": 2003, \"Sex\": \"TOTAL\", \"Age\": \"TOTAL\", \"Quantity\": 361905}, {\"Territory\": \"ITE\", \"Year\": 2004, \"Sex\": \"TOTAL\", \"Age\": \"TOTAL\", \"Quantity\": 447826}, {\"Territory\": \"ITE\", \"Year\": 2005, \"Sex\": \"TOTAL\", \"Age\": \"TOTAL\", \"Quantity\": 528013}, {\"Territory\": \"ITE\", \"Year\": 2006, \"Sex\": \"TOTAL\", \"Age\": \"TOTAL\", \"Quantity\": 579603}, {\"Territory\": \"ITE\", \"Year\": 2007, \"Sex\": \"TOTAL\", \"Age\": \"TOTAL\", \"Quantity\": 624566}, {\"Territory\": \"ITE\", \"Year\": 2008, \"Sex\": \"TOTAL\", \"Age\": \"TOTAL\", \"Quantity\": 743271}, {\"Territory\": \"ITE\", \"Year\": 2009, \"Sex\": \"TOTAL\", \"Age\": \"TOTAL\", \"Quantity\": 849879}, {\"Territory\": \"ITE\", \"Year\": 2010, \"Sex\": \"TOTAL\", \"Age\": \"TOTAL\", \"Quantity\": 927091}, {\"Territory\": \"ITE\", \"Year\": 2011, \"Sex\": \"TOTAL\", \"Age\": \"TOTAL\", \"Quantity\": 993017}, {\"Territory\": \"ITE\", \"Year\": 2012, \"Sex\": \"TOTAL\", \"Age\": \"TOTAL\", \"Quantity\": 1042590}, {\"Territory\": \"ITE\", \"Year\": 2013, \"Sex\": \"TOTAL\", \"Age\": \"TOTAL\", \"Quantity\": 1124653}, {\"Territory\": \"ITE\", \"Year\": 2014, \"Sex\": \"TOTAL\", \"Age\": \"TOTAL\", \"Quantity\": 1173522}, {\"Territory\": \"ITE\", \"Year\": 2015, \"Sex\": \"TOTAL\", \"Age\": \"TOTAL\", \"Quantity\": 1189742}, {\"Territory\": \"ITE\", \"Year\": 2016, \"Sex\": \"TOTAL\", \"Age\": \"TOTAL\", \"Quantity\": 1197915}, {\"Territory\": \"ITE\", \"Year\": 2017, \"Sex\": \"TOTAL\", \"Age\": \"TOTAL\", \"Quantity\": 1206989}, {\"Territory\": \"ITE\", \"Year\": 2018, \"Sex\": \"TOTAL\", \"Age\": \"TOTAL\", \"Quantity\": 1222811}, {\"Territory\": \"ITE\", \"Year\": 2019, \"Sex\": \"TOTAL\", \"Age\": \"TOTAL\", \"Quantity\": 1246779}, {\"Territory\": \"ITF\", \"Year\": 2001, \"Sex\": \"TOTAL\", \"Age\": \"TOTAL\", \"Quantity\": 116011}, {\"Territory\": \"ITF\", \"Year\": 2002, \"Sex\": \"TOTAL\", \"Age\": \"TOTAL\", \"Quantity\": 114254}, {\"Territory\": \"ITF\", \"Year\": 2003, \"Sex\": \"TOTAL\", \"Age\": \"TOTAL\", \"Quantity\": 119877}, {\"Territory\": \"ITF\", \"Year\": 2004, \"Sex\": \"TOTAL\", \"Age\": \"TOTAL\", \"Quantity\": 168283}, {\"Territory\": \"ITF\", \"Year\": 2005, \"Sex\": \"TOTAL\", \"Age\": \"TOTAL\", \"Quantity\": 202331}, {\"Territory\": \"ITF\", \"Year\": 2006, \"Sex\": \"TOTAL\", \"Age\": \"TOTAL\", \"Quantity\": 214669}, {\"Territory\": \"ITF\", \"Year\": 2007, \"Sex\": \"TOTAL\", \"Age\": \"TOTAL\", \"Quantity\": 224192}, {\"Territory\": \"ITF\", \"Year\": 2008, \"Sex\": \"TOTAL\", \"Age\": \"TOTAL\", \"Quantity\": 281118}, {\"Territory\": \"ITF\", \"Year\": 2009, \"Sex\": \"TOTAL\", \"Age\": \"TOTAL\", \"Quantity\": 322037}, {\"Territory\": \"ITF\", \"Year\": 2010, \"Sex\": \"TOTAL\", \"Age\": \"TOTAL\", \"Quantity\": 354501}, {\"Territory\": \"ITF\", \"Year\": 2011, \"Sex\": \"TOTAL\", \"Age\": \"TOTAL\", \"Quantity\": 391869}, {\"Territory\": \"ITF\", \"Year\": 2012, \"Sex\": \"TOTAL\", \"Age\": \"TOTAL\", \"Quantity\": 429378}, {\"Territory\": \"ITF\", \"Year\": 2013, \"Sex\": \"TOTAL\", \"Age\": \"TOTAL\", \"Quantity\": 470281}, {\"Territory\": \"ITF\", \"Year\": 2014, \"Sex\": \"TOTAL\", \"Age\": \"TOTAL\", \"Quantity\": 503216}, {\"Territory\": \"ITF\", \"Year\": 2015, \"Sex\": \"TOTAL\", \"Age\": \"TOTAL\", \"Quantity\": 528257}, {\"Territory\": \"ITF\", \"Year\": 2016, \"Sex\": \"TOTAL\", \"Age\": \"TOTAL\", \"Quantity\": 549405}, {\"Territory\": \"ITF\", \"Year\": 2017, \"Sex\": \"TOTAL\", \"Age\": \"TOTAL\", \"Quantity\": 567514}, {\"Territory\": \"ITF\", \"Year\": 2018, \"Sex\": \"TOTAL\", \"Age\": \"TOTAL\", \"Quantity\": 592528}, {\"Territory\": \"ITF\", \"Year\": 2019, \"Sex\": \"TOTAL\", \"Age\": \"TOTAL\", \"Quantity\": 609173}]\n"
     ]
    }
   ],
   "source": [
    "# Creating a nested dictonary from the response in order to create a clean JSON for our visualization\n",
    "nested_dict = json.loads(json_string_data)\n",
    "\n",
    "# Translation dictionary\n",
    "sex_translation = {\n",
    "    '1': 'Male',\n",
    "    '2': 'Female',\n",
    "    '9': 'TOTAL'\n",
    "}\n",
    "\n",
    "# Extracting information\n",
    "result = []\n",
    "\n",
    "series_data = nested_dict['message:GenericData']['message:DataSet']['generic:Series']\n",
    "for series in series_data:\n",
    "    series_key = series['generic:SeriesKey']\n",
    "    territory = None\n",
    "    sex = None\n",
    "\n",
    "    for value in series_key['generic:Value']:\n",
    "        if value['@id'] == 'ITTER107':\n",
    "            territory = value['@value']\n",
    "        elif value['@id'] == 'SESSO':\n",
    "            sex_value = value['@value']\n",
    "            sex = sex_translation.get(sex_value)\n",
    "\n",
    "    obs_values = series['generic:Obs']\n",
    "    for obs in obs_values:\n",
    "        year = obs['generic:ObsDimension']['@value']\n",
    "        age = series_key['generic:Value'][3]['@value']\n",
    "        quantity = obs['generic:ObsValue']['@value']\n",
    "\n",
    "        entry = {\n",
    "            'Territory': territory,\n",
    "            'Year': int(year),\n",
    "            'Sex': sex,\n",
    "            'Age': age,\n",
    "            'Quantity': int(quantity)\n",
    "        }\n",
    "        result.append(entry)\n",
    "\n",
    "# Convert result to JSON\n",
    "immigrants_distribution_2018 = json.dumps(result)\n",
    "print(type(immigrants_distribution_2018))\n",
    "print(immigrants_distribution_2018)"
   ]
  },
  {
   "cell_type": "code",
   "execution_count": 17,
   "id": "9055d97a-fc0b-4980-a6b1-a3a7311e2f3c",
   "metadata": {},
   "outputs": [
    {
     "name": "stdout",
     "output_type": "stream",
     "text": [
      "Filtered data for 2018 saved as filtered_immigrants_distribution_2018.json\n"
     ]
    }
   ],
   "source": [
    "# Load the JSON dataset\n",
    "data = immigrants_distribution_2018\n",
    "\n",
    "# Ensure data is parsed as a list of dictionaries\n",
    "if isinstance(data, str):\n",
    "    data = json.loads(data)\n",
    "\n",
    "# Use a list comprehension to filter data for the year 2018\n",
    "data_2018 = [entry for entry in data if entry[\"Year\"] == 2018]\n",
    "\n",
    "# Specify the folder path to save the JSON file\n",
    "folder_path = \"../_datasets/Clean\"\n",
    "\n",
    "# Create the folder if it doesn't exist\n",
    "os.makedirs(folder_path, exist_ok=True)\n",
    "\n",
    "# Define the file path for the output JSON file\n",
    "filename = \"filtered_immigrants_distribution_2018.json\"\n",
    "\n",
    "# Generate the file path\n",
    "file_path = os.path.join(folder_path, filename)\n",
    "\n",
    "# Save the filtered data as a JSON file with the same name\n",
    "with open(file_path, \"w\") as json_file:\n",
    "    json.dump(data_2018, json_file, indent=4)\n",
    "\n",
    "print(f\"Filtered data for 2018 saved as {filename}\")"
   ]
  },
  {
   "cell_type": "markdown",
   "id": "318bba8a-2e13-41e6-954b-5a18e26f60d7",
   "metadata": {},
   "source": [
    "The next code snippet performs the following tasks:\n",
    "\n",
    "1. It converts the `immigrants_distribution_2018` string, which contains a JSON representation, into a JSON object using `json.loads()`. This step allows easier manipulation and access to the data.\n",
    "\n",
    "2. It specifies the folder path where the resulting JSON file will be saved. In this case, the folder path is \"../_datasets/Clean\".\n",
    "\n",
    "3. It creates the specified folder if it does not already exist using `os.makedirs()`. This ensures that the folder is available to store the JSON file.\n",
    "\n",
    "4. It defines the filename for the JSON file as \"immigrants_demographic.json\".\n",
    "\n",
    "5. It generates the complete file path by joining the folder path and filename using `os.path.join()`.\n",
    "\n",
    "6. It saves the `immigrants_distribution_2018_json` JSON object to a file specified by the file path. This is achieved using `json.dump()` with the file opened in write mode (\"w\").\n",
    "\n",
    "7. The JSON data is formatted with an indent of 4 spaces to improve readability within the file.\n",
    "\n",
    "8. Finally, it prints a message confirming the successful saving of the JSON data, along with the file path where it was saved.\n",
    "\n",
    "So basically this code snippet takes a JSON object, saves it as a JSON file in a specified directory, and provides feedback on the successful saving of the file."
   ]
  },
  {
   "cell_type": "code",
   "execution_count": 20,
   "id": "539e1c3b-a8dd-46e3-89b7-8f1399a699b9",
   "metadata": {},
   "outputs": [
    {
     "name": "stdout",
     "output_type": "stream",
     "text": [
      "Combined data saved as combined_immigrants_distribution.json\n"
     ]
    }
   ],
   "source": [
    "# Let's create a single json adding 2018's data with the other years\n",
    "\n",
    "# Load the JSON file with data for other years\n",
    "with open(\"../_datasets/Clean/immigrants_distribution.json\", \"r\") as file:\n",
    "    data_other_years = json.load(file)\n",
    "\n",
    "# Combine the data from both files into a single list\n",
    "combined_data = data_other_years + data_2018\n",
    "\n",
    "sorted_data = sorted(combined_data, key=lambda x: x['Year'])\n",
    "\n",
    "# Specify the folder path to save the combined JSON file\n",
    "folder_path = \"../_datasets/Clean\"\n",
    "\n",
    "# Define the file path for the output JSON file\n",
    "filename = \"combined_immigrants_distribution.json\"\n",
    "\n",
    "# Generate the file path\n",
    "file_path = os.path.join(folder_path, filename)\n",
    "\n",
    "# Save the combined data as a new JSON file\n",
    "with open(file_path, \"w\") as json_file:\n",
    "    json.dump(sorted_data, json_file, indent=4)\n",
    "\n",
    "print(f\"Combined data saved as {filename}\")"
   ]
  },
  {
   "cell_type": "code",
   "execution_count": null,
   "id": "81028d29-1ce9-45ee-82d9-29db1bf73406",
   "metadata": {},
   "outputs": [],
   "source": []
  }
 ],
 "metadata": {
  "kernelspec": {
   "display_name": "Python 3 (ipykernel)",
   "language": "python",
   "name": "python3"
  },
  "language_info": {
   "codemirror_mode": {
    "name": "ipython",
    "version": 3
   },
   "file_extension": ".py",
   "mimetype": "text/x-python",
   "name": "python",
   "nbconvert_exporter": "python",
   "pygments_lexer": "ipython3",
   "version": "3.11.5"
  }
 },
 "nbformat": 4,
 "nbformat_minor": 5
}
