{
 "cells": [
  {
   "cell_type": "code",
   "execution_count": 1,
   "id": "858fe29f",
   "metadata": {},
   "outputs": [
    {
     "name": "stdout",
     "output_type": "stream",
     "text": [
      "Requirement already satisfied: pandas in c:\\users\\user\\anaconda3\\lib\\site-packages (1.3.4)"
     ]
    },
    {
     "name": "stderr",
     "output_type": "stream",
     "text": [
      "\n",
      "[notice] A new release of pip is available: 23.1 -> 23.3.1\n",
      "[notice] To update, run: python.exe -m pip install --upgrade pip\n"
     ]
    },
    {
     "name": "stdout",
     "output_type": "stream",
     "text": [
      "\n",
      "Requirement already satisfied: python-dateutil>=2.7.3 in c:\\users\\user\\anaconda3\\lib\\site-packages (from pandas) (2.8.2)\n",
      "Requirement already satisfied: pytz>=2017.3 in c:\\users\\user\\anaconda3\\lib\\site-packages (from pandas) (2021.3)\n",
      "Requirement already satisfied: numpy>=1.17.3 in c:\\users\\user\\anaconda3\\lib\\site-packages (from pandas) (1.20.3)\n",
      "Requirement already satisfied: six>=1.5 in c:\\users\\user\\anaconda3\\lib\\site-packages (from python-dateutil>=2.7.3->pandas) (1.16.0)\n",
      "Requirement already satisfied: seaborn in c:\\users\\user\\anaconda3\\lib\\site-packages (0.11.2)\n",
      "Requirement already satisfied: numpy>=1.15 in c:\\users\\user\\anaconda3\\lib\\site-packages (from seaborn) (1.20.3)\n",
      "Requirement already satisfied: scipy>=1.0 in c:\\users\\user\\anaconda3\\lib\\site-packages (from seaborn) (1.7.1)\n",
      "Requirement already satisfied: pandas>=0.23 in c:\\users\\user\\anaconda3\\lib\\site-packages (from seaborn) (1.3.4)\n",
      "Requirement already satisfied: matplotlib>=2.2 in c:\\users\\user\\anaconda3\\lib\\site-packages (from seaborn) (3.4.3)\n",
      "Requirement already satisfied: cycler>=0.10 in c:\\users\\user\\anaconda3\\lib\\site-packages (from matplotlib>=2.2->seaborn) (0.10.0)\n",
      "Requirement already satisfied: kiwisolver>=1.0.1 in c:\\users\\user\\anaconda3\\lib\\site-packages (from matplotlib>=2.2->seaborn) (1.3.1)\n",
      "Requirement already satisfied: pillow>=6.2.0 in c:\\users\\user\\anaconda3\\lib\\site-packages (from matplotlib>=2.2->seaborn) (8.4.0)\n",
      "Requirement already satisfied: pyparsing>=2.2.1 in c:\\users\\user\\anaconda3\\lib\\site-packages (from matplotlib>=2.2->seaborn) (3.0.4)\n",
      "Requirement already satisfied: python-dateutil>=2.7 in c:\\users\\user\\anaconda3\\lib\\site-packages (from matplotlib>=2.2->seaborn) (2.8.2)\n",
      "Requirement already satisfied: pytz>=2017.3 in c:\\users\\user\\anaconda3\\lib\\site-packages (from pandas>=0.23->seaborn) (2021.3)\n",
      "Requirement already satisfied: six in c:\\users\\user\\anaconda3\\lib\\site-packages (from cycler>=0.10->matplotlib>=2.2->seaborn) (1.16.0)\n"
     ]
    },
    {
     "name": "stderr",
     "output_type": "stream",
     "text": [
      "\n",
      "[notice] A new release of pip is available: 23.1 -> 23.3.1\n",
      "[notice] To update, run: python.exe -m pip install --upgrade pip\n"
     ]
    },
    {
     "name": "stdout",
     "output_type": "stream",
     "text": [
      "Requirement already satisfied: matplotlib in c:\\users\\user\\anaconda3\\lib\\site-packages (3.4.3)\n",
      "Requirement already satisfied: cycler>=0.10 in c:\\users\\user\\anaconda3\\lib\\site-packages (from matplotlib) (0.10.0)\n",
      "Requirement already satisfied: kiwisolver>=1.0.1 in c:\\users\\user\\anaconda3\\lib\\site-packages (from matplotlib) (1.3.1)\n",
      "Requirement already satisfied: numpy>=1.16 in c:\\users\\user\\anaconda3\\lib\\site-packages (from matplotlib) (1.20.3)\n",
      "Requirement already satisfied: pillow>=6.2.0 in c:\\users\\user\\anaconda3\\lib\\site-packages (from matplotlib) (8.4.0)\n",
      "Requirement already satisfied: pyparsing>=2.2.1 in c:\\users\\user\\anaconda3\\lib\\site-packages (from matplotlib) (3.0.4)\n",
      "Requirement already satisfied: python-dateutil>=2.7 in c:\\users\\user\\anaconda3\\lib\\site-packages (from matplotlib) (2.8.2)\n",
      "Requirement already satisfied: six in c:\\users\\user\\anaconda3\\lib\\site-packages (from cycler>=0.10->matplotlib) (1.16.0)\n"
     ]
    },
    {
     "name": "stderr",
     "output_type": "stream",
     "text": [
      "\n",
      "[notice] A new release of pip is available: 23.1 -> 23.3.1\n",
      "[notice] To update, run: python.exe -m pip install --upgrade pip\n"
     ]
    },
    {
     "name": "stdout",
     "output_type": "stream",
     "text": [
      "Requirement already satisfied: mpld3 in c:\\users\\user\\anaconda3\\lib\\site-packages (0.5.9)\n",
      "Requirement already satisfied: jinja2 in c:\\users\\user\\anaconda3\\lib\\site-packages (from mpld3) (2.11.3)\n",
      "Requirement already satisfied: matplotlib in c:\\users\\user\\anaconda3\\lib\\site-packages (from mpld3) (3.4.3)\n",
      "Requirement already satisfied: MarkupSafe>=0.23 in c:\\users\\user\\anaconda3\\lib\\site-packages (from jinja2->mpld3) (1.1.1)\n",
      "Requirement already satisfied: cycler>=0.10 in c:\\users\\user\\anaconda3\\lib\\site-packages (from matplotlib->mpld3) (0.10.0)\n",
      "Requirement already satisfied: kiwisolver>=1.0.1 in c:\\users\\user\\anaconda3\\lib\\site-packages (from matplotlib->mpld3) (1.3.1)\n",
      "Requirement already satisfied: numpy>=1.16 in c:\\users\\user\\anaconda3\\lib\\site-packages (from matplotlib->mpld3) (1.20.3)\n",
      "Requirement already satisfied: pillow>=6.2.0 in c:\\users\\user\\anaconda3\\lib\\site-packages (from matplotlib->mpld3) (8.4.0)\n",
      "Requirement already satisfied: pyparsing>=2.2.1 in c:\\users\\user\\anaconda3\\lib\\site-packages (from matplotlib->mpld3) (3.0.4)\n",
      "Requirement already satisfied: python-dateutil>=2.7 in c:\\users\\user\\anaconda3\\lib\\site-packages (from matplotlib->mpld3) (2.8.2)\n",
      "Requirement already satisfied: six in c:\\users\\user\\anaconda3\\lib\\site-packages (from cycler>=0.10->matplotlib->mpld3) (1.16.0)\n"
     ]
    },
    {
     "name": "stderr",
     "output_type": "stream",
     "text": [
      "\n",
      "[notice] A new release of pip is available: 23.1 -> 23.3.1\n",
      "[notice] To update, run: python.exe -m pip install --upgrade pip\n"
     ]
    }
   ],
   "source": [
    "!pip install pandas\n",
    "!pip install seaborn\n",
    "!pip install matplotlib\n",
    "!pip install mpld3\n",
    "import pandas as pd\n",
    "from pandas import read_csv\n",
    "import matplotlib.pyplot as plt\n",
    "import matplotlib.cm as cm\n",
    "import numpy as np\n",
    "import json\n",
    "import os"
   ]
  },
  {
   "cell_type": "code",
   "execution_count": 2,
   "id": "135f7164",
   "metadata": {},
   "outputs": [],
   "source": [
    "#first, a list with the more relevant names of the columns is createad\n",
    "infocol = [\"Territory\", \"Data type\", \"Gender\", \"Highest level of education attained\", \"Citizenship\", \"TIME\", \"Value\"]\n",
    "#then, the csv files are read and we use the list created before to only have information about those\n",
    "df1 = (pd.read_csv(\"../_datasets/ISTAT_Unemployment_rate_region_2018_2022_.csv\", sep=\",\"))[infocol]\n",
    "df2 = (pd.read_csv(\"../_datasets/ISTAT_Activity_Rate_Region_2018-2022.csv\", sep=\",\"))[infocol]"
   ]
  },
  {
   "cell_type": "code",
   "execution_count": 3,
   "id": "42ec8b45",
   "metadata": {},
   "outputs": [],
   "source": [
    "#here a function is defined in order to delete rows that might not interest us\n",
    "def delete_row(dataframe, column_name, value_to_delete):\n",
    "    filtered_dataframe = dataframe[dataframe[column_name] != value_to_delete]\n",
    "\n",
    "    return filtered_dataframe"
   ]
  },
  {
   "cell_type": "code",
   "execution_count": 4,
   "id": "75395fe1",
   "metadata": {},
   "outputs": [],
   "source": [
    "#sometimes the year value might include information about quarters, so this is another function to take only the values with 4 digits\n",
    "def y_val(dataframe):\n",
    "    \n",
    "    dataframe['TIME'] = dataframe['TIME'].astype('str')\n",
    "    mask = (dataframe['TIME'].str.len() == 4)\n",
    "    dataframe= dataframe.loc[mask]\n",
    "    \n",
    "    return dataframe"
   ]
  },
  {
   "cell_type": "code",
   "execution_count": 5,
   "id": "6da1a24a",
   "metadata": {},
   "outputs": [],
   "source": [
    "#applying the year function for the first dataframe\n",
    "df1 = y_val(df1)"
   ]
  },
  {
   "cell_type": "code",
   "execution_count": 6,
   "id": "999c5c1d",
   "metadata": {},
   "outputs": [
    {
     "data": {
      "text/html": [
       "<div>\n",
       "<style scoped>\n",
       "    .dataframe tbody tr th:only-of-type {\n",
       "        vertical-align: middle;\n",
       "    }\n",
       "\n",
       "    .dataframe tbody tr th {\n",
       "        vertical-align: top;\n",
       "    }\n",
       "\n",
       "    .dataframe thead th {\n",
       "        text-align: right;\n",
       "    }\n",
       "</style>\n",
       "<table border=\"1\" class=\"dataframe\">\n",
       "  <thead>\n",
       "    <tr style=\"text-align: right;\">\n",
       "      <th></th>\n",
       "      <th>Territory</th>\n",
       "      <th>Data type</th>\n",
       "      <th>Gender</th>\n",
       "      <th>Highest level of education attained</th>\n",
       "      <th>Citizenship</th>\n",
       "      <th>TIME</th>\n",
       "      <th>Value</th>\n",
       "    </tr>\n",
       "  </thead>\n",
       "  <tbody>\n",
       "    <tr>\n",
       "      <th>0</th>\n",
       "      <td>Italy</td>\n",
       "      <td>unemployment rate</td>\n",
       "      <td>males</td>\n",
       "      <td>upper and post secondary</td>\n",
       "      <td>italian</td>\n",
       "      <td>2018</td>\n",
       "      <td>8.646761</td>\n",
       "    </tr>\n",
       "    <tr>\n",
       "      <th>5</th>\n",
       "      <td>Italy</td>\n",
       "      <td>unemployment rate</td>\n",
       "      <td>males</td>\n",
       "      <td>upper and post secondary</td>\n",
       "      <td>italian</td>\n",
       "      <td>2019</td>\n",
       "      <td>7.928640</td>\n",
       "    </tr>\n",
       "    <tr>\n",
       "      <th>10</th>\n",
       "      <td>Italy</td>\n",
       "      <td>unemployment rate</td>\n",
       "      <td>males</td>\n",
       "      <td>upper and post secondary</td>\n",
       "      <td>italian</td>\n",
       "      <td>2020</td>\n",
       "      <td>7.425268</td>\n",
       "    </tr>\n",
       "    <tr>\n",
       "      <th>15</th>\n",
       "      <td>Italy</td>\n",
       "      <td>unemployment rate</td>\n",
       "      <td>males</td>\n",
       "      <td>upper and post secondary</td>\n",
       "      <td>italian</td>\n",
       "      <td>2021</td>\n",
       "      <td>7.469522</td>\n",
       "    </tr>\n",
       "    <tr>\n",
       "      <th>16</th>\n",
       "      <td>Italy</td>\n",
       "      <td>unemployment rate</td>\n",
       "      <td>males</td>\n",
       "      <td>upper and post secondary</td>\n",
       "      <td>italian</td>\n",
       "      <td>2022</td>\n",
       "      <td>6.137924</td>\n",
       "    </tr>\n",
       "    <tr>\n",
       "      <th>...</th>\n",
       "      <td>...</td>\n",
       "      <td>...</td>\n",
       "      <td>...</td>\n",
       "      <td>...</td>\n",
       "      <td>...</td>\n",
       "      <td>...</td>\n",
       "      <td>...</td>\n",
       "    </tr>\n",
       "    <tr>\n",
       "      <th>11672</th>\n",
       "      <td>Nord-est</td>\n",
       "      <td>unemployment rate</td>\n",
       "      <td>males</td>\n",
       "      <td>total</td>\n",
       "      <td>foreign</td>\n",
       "      <td>2018</td>\n",
       "      <td>9.628649</td>\n",
       "    </tr>\n",
       "    <tr>\n",
       "      <th>11677</th>\n",
       "      <td>Nord-est</td>\n",
       "      <td>unemployment rate</td>\n",
       "      <td>males</td>\n",
       "      <td>total</td>\n",
       "      <td>foreign</td>\n",
       "      <td>2019</td>\n",
       "      <td>9.437797</td>\n",
       "    </tr>\n",
       "    <tr>\n",
       "      <th>11682</th>\n",
       "      <td>Nord-est</td>\n",
       "      <td>unemployment rate</td>\n",
       "      <td>males</td>\n",
       "      <td>total</td>\n",
       "      <td>foreign</td>\n",
       "      <td>2020</td>\n",
       "      <td>8.935428</td>\n",
       "    </tr>\n",
       "    <tr>\n",
       "      <th>11687</th>\n",
       "      <td>Nord-est</td>\n",
       "      <td>unemployment rate</td>\n",
       "      <td>males</td>\n",
       "      <td>total</td>\n",
       "      <td>foreign</td>\n",
       "      <td>2021</td>\n",
       "      <td>6.870910</td>\n",
       "    </tr>\n",
       "    <tr>\n",
       "      <th>11688</th>\n",
       "      <td>Nord-est</td>\n",
       "      <td>unemployment rate</td>\n",
       "      <td>males</td>\n",
       "      <td>total</td>\n",
       "      <td>foreign</td>\n",
       "      <td>2022</td>\n",
       "      <td>6.092754</td>\n",
       "    </tr>\n",
       "  </tbody>\n",
       "</table>\n",
       "<p>2340 rows × 7 columns</p>\n",
       "</div>"
      ],
      "text/plain": [
       "      Territory          Data type Gender Highest level of education attained  \\\n",
       "0         Italy  unemployment rate  males            upper and post secondary   \n",
       "5         Italy  unemployment rate  males            upper and post secondary   \n",
       "10        Italy  unemployment rate  males            upper and post secondary   \n",
       "15        Italy  unemployment rate  males            upper and post secondary   \n",
       "16        Italy  unemployment rate  males            upper and post secondary   \n",
       "...         ...                ...    ...                                 ...   \n",
       "11672  Nord-est  unemployment rate  males                               total   \n",
       "11677  Nord-est  unemployment rate  males                               total   \n",
       "11682  Nord-est  unemployment rate  males                               total   \n",
       "11687  Nord-est  unemployment rate  males                               total   \n",
       "11688  Nord-est  unemployment rate  males                               total   \n",
       "\n",
       "      Citizenship  TIME     Value  \n",
       "0         italian  2018  8.646761  \n",
       "5         italian  2019  7.928640  \n",
       "10        italian  2020  7.425268  \n",
       "15        italian  2021  7.469522  \n",
       "16        italian  2022  6.137924  \n",
       "...           ...   ...       ...  \n",
       "11672     foreign  2018  9.628649  \n",
       "11677     foreign  2019  9.437797  \n",
       "11682     foreign  2020  8.935428  \n",
       "11687     foreign  2021  6.870910  \n",
       "11688     foreign  2022  6.092754  \n",
       "\n",
       "[2340 rows x 7 columns]"
      ]
     },
     "execution_count": 6,
     "metadata": {},
     "output_type": "execute_result"
    }
   ],
   "source": [
    "df1"
   ]
  },
  {
   "cell_type": "code",
   "execution_count": 7,
   "id": "5c54760d",
   "metadata": {},
   "outputs": [],
   "source": [
    "#applying the year function for the second dataframe\n",
    "df2 = y_val(df2)"
   ]
  },
  {
   "cell_type": "code",
   "execution_count": 8,
   "id": "e173341d",
   "metadata": {},
   "outputs": [
    {
     "data": {
      "text/html": [
       "<div>\n",
       "<style scoped>\n",
       "    .dataframe tbody tr th:only-of-type {\n",
       "        vertical-align: middle;\n",
       "    }\n",
       "\n",
       "    .dataframe tbody tr th {\n",
       "        vertical-align: top;\n",
       "    }\n",
       "\n",
       "    .dataframe thead th {\n",
       "        text-align: right;\n",
       "    }\n",
       "</style>\n",
       "<table border=\"1\" class=\"dataframe\">\n",
       "  <thead>\n",
       "    <tr style=\"text-align: right;\">\n",
       "      <th></th>\n",
       "      <th>Territory</th>\n",
       "      <th>Data type</th>\n",
       "      <th>Gender</th>\n",
       "      <th>Highest level of education attained</th>\n",
       "      <th>Citizenship</th>\n",
       "      <th>TIME</th>\n",
       "      <th>Value</th>\n",
       "    </tr>\n",
       "  </thead>\n",
       "  <tbody>\n",
       "    <tr>\n",
       "      <th>0</th>\n",
       "      <td>Nord</td>\n",
       "      <td>activity rate</td>\n",
       "      <td>males</td>\n",
       "      <td>upper and post secondary</td>\n",
       "      <td>italian</td>\n",
       "      <td>2018</td>\n",
       "      <td>84.489730</td>\n",
       "    </tr>\n",
       "    <tr>\n",
       "      <th>1</th>\n",
       "      <td>Nord</td>\n",
       "      <td>activity rate</td>\n",
       "      <td>males</td>\n",
       "      <td>upper and post secondary</td>\n",
       "      <td>italian</td>\n",
       "      <td>2019</td>\n",
       "      <td>84.137185</td>\n",
       "    </tr>\n",
       "    <tr>\n",
       "      <th>2</th>\n",
       "      <td>Nord</td>\n",
       "      <td>activity rate</td>\n",
       "      <td>males</td>\n",
       "      <td>upper and post secondary</td>\n",
       "      <td>italian</td>\n",
       "      <td>2020</td>\n",
       "      <td>82.260744</td>\n",
       "    </tr>\n",
       "    <tr>\n",
       "      <th>3</th>\n",
       "      <td>Nord</td>\n",
       "      <td>activity rate</td>\n",
       "      <td>males</td>\n",
       "      <td>upper and post secondary</td>\n",
       "      <td>italian</td>\n",
       "      <td>2021</td>\n",
       "      <td>82.684206</td>\n",
       "    </tr>\n",
       "    <tr>\n",
       "      <th>4</th>\n",
       "      <td>Nord</td>\n",
       "      <td>activity rate</td>\n",
       "      <td>males</td>\n",
       "      <td>upper and post secondary</td>\n",
       "      <td>italian</td>\n",
       "      <td>2022</td>\n",
       "      <td>83.823293</td>\n",
       "    </tr>\n",
       "    <tr>\n",
       "      <th>...</th>\n",
       "      <td>...</td>\n",
       "      <td>...</td>\n",
       "      <td>...</td>\n",
       "      <td>...</td>\n",
       "      <td>...</td>\n",
       "      <td>...</td>\n",
       "      <td>...</td>\n",
       "    </tr>\n",
       "    <tr>\n",
       "      <th>9875</th>\n",
       "      <td>Mezzogiorno</td>\n",
       "      <td>activity rate</td>\n",
       "      <td>total</td>\n",
       "      <td>upper and post secondary</td>\n",
       "      <td>total</td>\n",
       "      <td>2018</td>\n",
       "      <td>62.224117</td>\n",
       "    </tr>\n",
       "    <tr>\n",
       "      <th>9880</th>\n",
       "      <td>Mezzogiorno</td>\n",
       "      <td>activity rate</td>\n",
       "      <td>total</td>\n",
       "      <td>upper and post secondary</td>\n",
       "      <td>total</td>\n",
       "      <td>2019</td>\n",
       "      <td>62.466245</td>\n",
       "    </tr>\n",
       "    <tr>\n",
       "      <th>9885</th>\n",
       "      <td>Mezzogiorno</td>\n",
       "      <td>activity rate</td>\n",
       "      <td>total</td>\n",
       "      <td>upper and post secondary</td>\n",
       "      <td>total</td>\n",
       "      <td>2020</td>\n",
       "      <td>59.330492</td>\n",
       "    </tr>\n",
       "    <tr>\n",
       "      <th>9890</th>\n",
       "      <td>Mezzogiorno</td>\n",
       "      <td>activity rate</td>\n",
       "      <td>total</td>\n",
       "      <td>upper and post secondary</td>\n",
       "      <td>total</td>\n",
       "      <td>2021</td>\n",
       "      <td>61.167564</td>\n",
       "    </tr>\n",
       "    <tr>\n",
       "      <th>9891</th>\n",
       "      <td>Mezzogiorno</td>\n",
       "      <td>activity rate</td>\n",
       "      <td>total</td>\n",
       "      <td>upper and post secondary</td>\n",
       "      <td>total</td>\n",
       "      <td>2022</td>\n",
       "      <td>62.133111</td>\n",
       "    </tr>\n",
       "  </tbody>\n",
       "</table>\n",
       "<p>2700 rows × 7 columns</p>\n",
       "</div>"
      ],
      "text/plain": [
       "        Territory      Data type Gender Highest level of education attained  \\\n",
       "0            Nord  activity rate  males            upper and post secondary   \n",
       "1            Nord  activity rate  males            upper and post secondary   \n",
       "2            Nord  activity rate  males            upper and post secondary   \n",
       "3            Nord  activity rate  males            upper and post secondary   \n",
       "4            Nord  activity rate  males            upper and post secondary   \n",
       "...           ...            ...    ...                                 ...   \n",
       "9875  Mezzogiorno  activity rate  total            upper and post secondary   \n",
       "9880  Mezzogiorno  activity rate  total            upper and post secondary   \n",
       "9885  Mezzogiorno  activity rate  total            upper and post secondary   \n",
       "9890  Mezzogiorno  activity rate  total            upper and post secondary   \n",
       "9891  Mezzogiorno  activity rate  total            upper and post secondary   \n",
       "\n",
       "     Citizenship  TIME      Value  \n",
       "0        italian  2018  84.489730  \n",
       "1        italian  2019  84.137185  \n",
       "2        italian  2020  82.260744  \n",
       "3        italian  2021  82.684206  \n",
       "4        italian  2022  83.823293  \n",
       "...          ...   ...        ...  \n",
       "9875       total  2018  62.224117  \n",
       "9880       total  2019  62.466245  \n",
       "9885       total  2020  59.330492  \n",
       "9890       total  2021  61.167564  \n",
       "9891       total  2022  62.133111  \n",
       "\n",
       "[2700 rows x 7 columns]"
      ]
     },
     "execution_count": 8,
     "metadata": {},
     "output_type": "execute_result"
    }
   ],
   "source": [
    "df2"
   ]
  },
  {
   "cell_type": "code",
   "execution_count": 9,
   "id": "e2d2d8dc",
   "metadata": {},
   "outputs": [],
   "source": [
    "#applying the deletion function to take out rows we're not interested\n",
    "df2 = delete_row(df2, \"Gender\", \"females\")\n",
    "df2 = delete_row(df2, \"Gender\", \"males\")\n",
    "df2 = delete_row(df2, \"Citizenship\", \"total\")\n",
    "df1 = delete_row(df1, \"Gender\", \"females\")\n",
    "df1 = delete_row(df1, \"Gender\", \"males\")\n",
    "df1 = delete_row(df1, \"Citizenship\", \"total\")"
   ]
  },
  {
   "cell_type": "code",
   "execution_count": 10,
   "id": "1cba716f",
   "metadata": {},
   "outputs": [],
   "source": [
    "#Here we're excluding Italy because we want information only about the regions\n",
    "df2 = delete_row(df2, \"Territory\", \"Italy\")\n",
    "df1 = delete_row(df1, \"Territory\", \"Italy\")"
   ]
  },
  {
   "cell_type": "code",
   "execution_count": 11,
   "id": "262343d7",
   "metadata": {},
   "outputs": [
    {
     "data": {
      "text/html": [
       "<div>\n",
       "<style scoped>\n",
       "    .dataframe tbody tr th:only-of-type {\n",
       "        vertical-align: middle;\n",
       "    }\n",
       "\n",
       "    .dataframe tbody tr th {\n",
       "        vertical-align: top;\n",
       "    }\n",
       "\n",
       "    .dataframe thead th {\n",
       "        text-align: right;\n",
       "    }\n",
       "</style>\n",
       "<table border=\"1\" class=\"dataframe\">\n",
       "  <thead>\n",
       "    <tr style=\"text-align: right;\">\n",
       "      <th></th>\n",
       "      <th>Territory</th>\n",
       "      <th>Data type</th>\n",
       "      <th>Gender</th>\n",
       "      <th>Highest level of education attained</th>\n",
       "      <th>Citizenship</th>\n",
       "      <th>TIME</th>\n",
       "      <th>Value</th>\n",
       "    </tr>\n",
       "  </thead>\n",
       "  <tbody>\n",
       "    <tr>\n",
       "      <th>275</th>\n",
       "      <td>Nord</td>\n",
       "      <td>unemployment rate</td>\n",
       "      <td>total</td>\n",
       "      <td>upper and post secondary</td>\n",
       "      <td>italian</td>\n",
       "      <td>2018</td>\n",
       "      <td>5.607093</td>\n",
       "    </tr>\n",
       "    <tr>\n",
       "      <th>280</th>\n",
       "      <td>Nord</td>\n",
       "      <td>unemployment rate</td>\n",
       "      <td>total</td>\n",
       "      <td>upper and post secondary</td>\n",
       "      <td>italian</td>\n",
       "      <td>2019</td>\n",
       "      <td>4.948992</td>\n",
       "    </tr>\n",
       "    <tr>\n",
       "      <th>285</th>\n",
       "      <td>Nord</td>\n",
       "      <td>unemployment rate</td>\n",
       "      <td>total</td>\n",
       "      <td>upper and post secondary</td>\n",
       "      <td>italian</td>\n",
       "      <td>2020</td>\n",
       "      <td>5.178384</td>\n",
       "    </tr>\n",
       "    <tr>\n",
       "      <th>290</th>\n",
       "      <td>Nord</td>\n",
       "      <td>unemployment rate</td>\n",
       "      <td>total</td>\n",
       "      <td>upper and post secondary</td>\n",
       "      <td>italian</td>\n",
       "      <td>2021</td>\n",
       "      <td>5.036280</td>\n",
       "    </tr>\n",
       "    <tr>\n",
       "      <th>291</th>\n",
       "      <td>Nord</td>\n",
       "      <td>unemployment rate</td>\n",
       "      <td>total</td>\n",
       "      <td>upper and post secondary</td>\n",
       "      <td>italian</td>\n",
       "      <td>2022</td>\n",
       "      <td>4.316984</td>\n",
       "    </tr>\n",
       "    <tr>\n",
       "      <th>...</th>\n",
       "      <td>...</td>\n",
       "      <td>...</td>\n",
       "      <td>...</td>\n",
       "      <td>...</td>\n",
       "      <td>...</td>\n",
       "      <td>...</td>\n",
       "      <td>...</td>\n",
       "    </tr>\n",
       "    <tr>\n",
       "      <th>11497</th>\n",
       "      <td>Centro (I)</td>\n",
       "      <td>unemployment rate</td>\n",
       "      <td>total</td>\n",
       "      <td>no educational degree, primary and lower secon...</td>\n",
       "      <td>italian</td>\n",
       "      <td>2018</td>\n",
       "      <td>11.549672</td>\n",
       "    </tr>\n",
       "    <tr>\n",
       "      <th>11502</th>\n",
       "      <td>Centro (I)</td>\n",
       "      <td>unemployment rate</td>\n",
       "      <td>total</td>\n",
       "      <td>no educational degree, primary and lower secon...</td>\n",
       "      <td>italian</td>\n",
       "      <td>2019</td>\n",
       "      <td>9.998387</td>\n",
       "    </tr>\n",
       "    <tr>\n",
       "      <th>11507</th>\n",
       "      <td>Centro (I)</td>\n",
       "      <td>unemployment rate</td>\n",
       "      <td>total</td>\n",
       "      <td>no educational degree, primary and lower secon...</td>\n",
       "      <td>italian</td>\n",
       "      <td>2020</td>\n",
       "      <td>10.639449</td>\n",
       "    </tr>\n",
       "    <tr>\n",
       "      <th>11512</th>\n",
       "      <td>Centro (I)</td>\n",
       "      <td>unemployment rate</td>\n",
       "      <td>total</td>\n",
       "      <td>no educational degree, primary and lower secon...</td>\n",
       "      <td>italian</td>\n",
       "      <td>2021</td>\n",
       "      <td>11.358337</td>\n",
       "    </tr>\n",
       "    <tr>\n",
       "      <th>11513</th>\n",
       "      <td>Centro (I)</td>\n",
       "      <td>unemployment rate</td>\n",
       "      <td>total</td>\n",
       "      <td>no educational degree, primary and lower secon...</td>\n",
       "      <td>italian</td>\n",
       "      <td>2022</td>\n",
       "      <td>8.639894</td>\n",
       "    </tr>\n",
       "  </tbody>\n",
       "</table>\n",
       "<p>600 rows × 7 columns</p>\n",
       "</div>"
      ],
      "text/plain": [
       "        Territory          Data type Gender  \\\n",
       "275          Nord  unemployment rate  total   \n",
       "280          Nord  unemployment rate  total   \n",
       "285          Nord  unemployment rate  total   \n",
       "290          Nord  unemployment rate  total   \n",
       "291          Nord  unemployment rate  total   \n",
       "...           ...                ...    ...   \n",
       "11497  Centro (I)  unemployment rate  total   \n",
       "11502  Centro (I)  unemployment rate  total   \n",
       "11507  Centro (I)  unemployment rate  total   \n",
       "11512  Centro (I)  unemployment rate  total   \n",
       "11513  Centro (I)  unemployment rate  total   \n",
       "\n",
       "                     Highest level of education attained Citizenship  TIME  \\\n",
       "275                             upper and post secondary     italian  2018   \n",
       "280                             upper and post secondary     italian  2019   \n",
       "285                             upper and post secondary     italian  2020   \n",
       "290                             upper and post secondary     italian  2021   \n",
       "291                             upper and post secondary     italian  2022   \n",
       "...                                                  ...         ...   ...   \n",
       "11497  no educational degree, primary and lower secon...     italian  2018   \n",
       "11502  no educational degree, primary and lower secon...     italian  2019   \n",
       "11507  no educational degree, primary and lower secon...     italian  2020   \n",
       "11512  no educational degree, primary and lower secon...     italian  2021   \n",
       "11513  no educational degree, primary and lower secon...     italian  2022   \n",
       "\n",
       "           Value  \n",
       "275     5.607093  \n",
       "280     4.948992  \n",
       "285     5.178384  \n",
       "290     5.036280  \n",
       "291     4.316984  \n",
       "...          ...  \n",
       "11497  11.549672  \n",
       "11502   9.998387  \n",
       "11507  10.639449  \n",
       "11512  11.358337  \n",
       "11513   8.639894  \n",
       "\n",
       "[600 rows x 7 columns]"
      ]
     },
     "execution_count": 11,
     "metadata": {},
     "output_type": "execute_result"
    }
   ],
   "source": [
    "df1"
   ]
  },
  {
   "cell_type": "code",
   "execution_count": 12,
   "id": "56e1c9ab",
   "metadata": {},
   "outputs": [],
   "source": [
    "#creating a pivot table to have the information of the educational leval in other columns and not rows\n",
    "unemployment_df = df1.pivot_table(index=['Territory', 'Citizenship', 'TIME'], columns='Highest level of education attained', values='Value', aggfunc='mean').reset_index()"
   ]
  },
  {
   "cell_type": "code",
   "execution_count": 13,
   "id": "fce1cbbd",
   "metadata": {},
   "outputs": [],
   "source": [
    "#renaming the new columns with the unemployment info for each educational level\n",
    "unemployment_df.columns.name = None  # Remove the column name\n",
    "unemployment_df = unemployment_df.rename(columns={'no educational degree, primary and lower secondary school certificate': 'UNEMP_ED_1', 'upper and post secondary': 'UNEMP_ED_2', 'tertiary (university, doctoral and specialization courses)':'UNEMP_ED_3', 'TIME':'Year'})"
   ]
  },
  {
   "cell_type": "code",
   "execution_count": 14,
   "id": "013488a5",
   "metadata": {},
   "outputs": [
    {
     "data": {
      "text/html": [
       "<div>\n",
       "<style scoped>\n",
       "    .dataframe tbody tr th:only-of-type {\n",
       "        vertical-align: middle;\n",
       "    }\n",
       "\n",
       "    .dataframe tbody tr th {\n",
       "        vertical-align: top;\n",
       "    }\n",
       "\n",
       "    .dataframe thead th {\n",
       "        text-align: right;\n",
       "    }\n",
       "</style>\n",
       "<table border=\"1\" class=\"dataframe\">\n",
       "  <thead>\n",
       "    <tr style=\"text-align: right;\">\n",
       "      <th></th>\n",
       "      <th>Territory</th>\n",
       "      <th>Citizenship</th>\n",
       "      <th>Year</th>\n",
       "      <th>UNEMP_ED_1</th>\n",
       "      <th>UNEMP_ED_3</th>\n",
       "      <th>total</th>\n",
       "      <th>UNEMP_ED_2</th>\n",
       "    </tr>\n",
       "  </thead>\n",
       "  <tbody>\n",
       "    <tr>\n",
       "      <th>0</th>\n",
       "      <td>Centro (I)</td>\n",
       "      <td>foreign</td>\n",
       "      <td>2018</td>\n",
       "      <td>15.155627</td>\n",
       "      <td>10.804081</td>\n",
       "      <td>14.453227</td>\n",
       "      <td>14.836710</td>\n",
       "    </tr>\n",
       "    <tr>\n",
       "      <th>1</th>\n",
       "      <td>Centro (I)</td>\n",
       "      <td>foreign</td>\n",
       "      <td>2019</td>\n",
       "      <td>13.568437</td>\n",
       "      <td>11.434287</td>\n",
       "      <td>14.846058</td>\n",
       "      <td>17.514611</td>\n",
       "    </tr>\n",
       "    <tr>\n",
       "      <th>2</th>\n",
       "      <td>Centro (I)</td>\n",
       "      <td>foreign</td>\n",
       "      <td>2020</td>\n",
       "      <td>13.153746</td>\n",
       "      <td>8.624535</td>\n",
       "      <td>12.778525</td>\n",
       "      <td>13.542032</td>\n",
       "    </tr>\n",
       "    <tr>\n",
       "      <th>3</th>\n",
       "      <td>Centro (I)</td>\n",
       "      <td>foreign</td>\n",
       "      <td>2021</td>\n",
       "      <td>13.241853</td>\n",
       "      <td>18.102600</td>\n",
       "      <td>15.194500</td>\n",
       "      <td>16.586291</td>\n",
       "    </tr>\n",
       "    <tr>\n",
       "      <th>4</th>\n",
       "      <td>Centro (I)</td>\n",
       "      <td>foreign</td>\n",
       "      <td>2022</td>\n",
       "      <td>12.723967</td>\n",
       "      <td>12.505329</td>\n",
       "      <td>12.980380</td>\n",
       "      <td>13.377200</td>\n",
       "    </tr>\n",
       "    <tr>\n",
       "      <th>5</th>\n",
       "      <td>Centro (I)</td>\n",
       "      <td>italian</td>\n",
       "      <td>2018</td>\n",
       "      <td>11.356605</td>\n",
       "      <td>4.986898</td>\n",
       "      <td>8.676383</td>\n",
       "      <td>9.377720</td>\n",
       "    </tr>\n",
       "    <tr>\n",
       "      <th>6</th>\n",
       "      <td>Centro (I)</td>\n",
       "      <td>italian</td>\n",
       "      <td>2019</td>\n",
       "      <td>9.827092</td>\n",
       "      <td>5.102061</td>\n",
       "      <td>7.718597</td>\n",
       "      <td>8.193194</td>\n",
       "    </tr>\n",
       "    <tr>\n",
       "      <th>7</th>\n",
       "      <td>Centro (I)</td>\n",
       "      <td>italian</td>\n",
       "      <td>2020</td>\n",
       "      <td>10.372889</td>\n",
       "      <td>5.024784</td>\n",
       "      <td>7.629936</td>\n",
       "      <td>7.821124</td>\n",
       "    </tr>\n",
       "    <tr>\n",
       "      <th>8</th>\n",
       "      <td>Centro (I)</td>\n",
       "      <td>italian</td>\n",
       "      <td>2021</td>\n",
       "      <td>11.100709</td>\n",
       "      <td>4.150024</td>\n",
       "      <td>7.694963</td>\n",
       "      <td>8.114135</td>\n",
       "    </tr>\n",
       "    <tr>\n",
       "      <th>9</th>\n",
       "      <td>Centro (I)</td>\n",
       "      <td>italian</td>\n",
       "      <td>2022</td>\n",
       "      <td>8.462975</td>\n",
       "      <td>3.369947</td>\n",
       "      <td>6.059123</td>\n",
       "      <td>6.500167</td>\n",
       "    </tr>\n",
       "    <tr>\n",
       "      <th>10</th>\n",
       "      <td>Mezzogiorno</td>\n",
       "      <td>foreign</td>\n",
       "      <td>2018</td>\n",
       "      <td>15.570274</td>\n",
       "      <td>17.189990</td>\n",
       "      <td>16.046920</td>\n",
       "      <td>16.964263</td>\n",
       "    </tr>\n",
       "    <tr>\n",
       "      <th>11</th>\n",
       "      <td>Mezzogiorno</td>\n",
       "      <td>foreign</td>\n",
       "      <td>2019</td>\n",
       "      <td>16.924579</td>\n",
       "      <td>16.836758</td>\n",
       "      <td>17.526526</td>\n",
       "      <td>19.247073</td>\n",
       "    </tr>\n",
       "    <tr>\n",
       "      <th>12</th>\n",
       "      <td>Mezzogiorno</td>\n",
       "      <td>foreign</td>\n",
       "      <td>2020</td>\n",
       "      <td>19.020709</td>\n",
       "      <td>17.950487</td>\n",
       "      <td>18.871393</td>\n",
       "      <td>18.689590</td>\n",
       "    </tr>\n",
       "    <tr>\n",
       "      <th>13</th>\n",
       "      <td>Mezzogiorno</td>\n",
       "      <td>foreign</td>\n",
       "      <td>2021</td>\n",
       "      <td>20.928654</td>\n",
       "      <td>19.874336</td>\n",
       "      <td>20.808093</td>\n",
       "      <td>20.727722</td>\n",
       "    </tr>\n",
       "    <tr>\n",
       "      <th>14</th>\n",
       "      <td>Mezzogiorno</td>\n",
       "      <td>foreign</td>\n",
       "      <td>2022</td>\n",
       "      <td>19.000206</td>\n",
       "      <td>17.563798</td>\n",
       "      <td>18.971048</td>\n",
       "      <td>19.229423</td>\n",
       "    </tr>\n",
       "    <tr>\n",
       "      <th>15</th>\n",
       "      <td>Mezzogiorno</td>\n",
       "      <td>italian</td>\n",
       "      <td>2018</td>\n",
       "      <td>24.215728</td>\n",
       "      <td>11.038761</td>\n",
       "      <td>18.566454</td>\n",
       "      <td>17.254204</td>\n",
       "    </tr>\n",
       "    <tr>\n",
       "      <th>16</th>\n",
       "      <td>Mezzogiorno</td>\n",
       "      <td>italian</td>\n",
       "      <td>2019</td>\n",
       "      <td>23.170330</td>\n",
       "      <td>10.296681</td>\n",
       "      <td>17.661179</td>\n",
       "      <td>16.685488</td>\n",
       "    </tr>\n",
       "    <tr>\n",
       "      <th>17</th>\n",
       "      <td>Mezzogiorno</td>\n",
       "      <td>italian</td>\n",
       "      <td>2020</td>\n",
       "      <td>21.780618</td>\n",
       "      <td>9.218436</td>\n",
       "      <td>16.074188</td>\n",
       "      <td>14.901700</td>\n",
       "    </tr>\n",
       "    <tr>\n",
       "      <th>18</th>\n",
       "      <td>Mezzogiorno</td>\n",
       "      <td>italian</td>\n",
       "      <td>2021</td>\n",
       "      <td>21.733578</td>\n",
       "      <td>8.411085</td>\n",
       "      <td>16.175574</td>\n",
       "      <td>15.629899</td>\n",
       "    </tr>\n",
       "    <tr>\n",
       "      <th>19</th>\n",
       "      <td>Mezzogiorno</td>\n",
       "      <td>italian</td>\n",
       "      <td>2022</td>\n",
       "      <td>19.364638</td>\n",
       "      <td>6.812687</td>\n",
       "      <td>14.076778</td>\n",
       "      <td>13.592164</td>\n",
       "    </tr>\n",
       "    <tr>\n",
       "      <th>20</th>\n",
       "      <td>Nord</td>\n",
       "      <td>foreign</td>\n",
       "      <td>2018</td>\n",
       "      <td>14.491531</td>\n",
       "      <td>9.137413</td>\n",
       "      <td>13.131091</td>\n",
       "      <td>12.781869</td>\n",
       "    </tr>\n",
       "    <tr>\n",
       "      <th>21</th>\n",
       "      <td>Nord</td>\n",
       "      <td>foreign</td>\n",
       "      <td>2019</td>\n",
       "      <td>13.519575</td>\n",
       "      <td>10.391808</td>\n",
       "      <td>12.223271</td>\n",
       "      <td>11.192228</td>\n",
       "    </tr>\n",
       "    <tr>\n",
       "      <th>22</th>\n",
       "      <td>Nord</td>\n",
       "      <td>foreign</td>\n",
       "      <td>2020</td>\n",
       "      <td>12.179855</td>\n",
       "      <td>10.897149</td>\n",
       "      <td>12.009307</td>\n",
       "      <td>12.133324</td>\n",
       "    </tr>\n",
       "    <tr>\n",
       "      <th>23</th>\n",
       "      <td>Nord</td>\n",
       "      <td>foreign</td>\n",
       "      <td>2021</td>\n",
       "      <td>12.367512</td>\n",
       "      <td>11.026852</td>\n",
       "      <td>12.264354</td>\n",
       "      <td>12.495783</td>\n",
       "    </tr>\n",
       "    <tr>\n",
       "      <th>24</th>\n",
       "      <td>Nord</td>\n",
       "      <td>foreign</td>\n",
       "      <td>2022</td>\n",
       "      <td>10.421102</td>\n",
       "      <td>8.387245</td>\n",
       "      <td>9.768999</td>\n",
       "      <td>9.457004</td>\n",
       "    </tr>\n",
       "    <tr>\n",
       "      <th>25</th>\n",
       "      <td>Nord</td>\n",
       "      <td>italian</td>\n",
       "      <td>2018</td>\n",
       "      <td>7.663050</td>\n",
       "      <td>3.335926</td>\n",
       "      <td>5.599697</td>\n",
       "      <td>5.546833</td>\n",
       "    </tr>\n",
       "    <tr>\n",
       "      <th>26</th>\n",
       "      <td>Nord</td>\n",
       "      <td>italian</td>\n",
       "      <td>2019</td>\n",
       "      <td>7.548570</td>\n",
       "      <td>3.097107</td>\n",
       "      <td>5.170383</td>\n",
       "      <td>4.881866</td>\n",
       "    </tr>\n",
       "    <tr>\n",
       "      <th>27</th>\n",
       "      <td>Nord</td>\n",
       "      <td>italian</td>\n",
       "      <td>2020</td>\n",
       "      <td>6.954854</td>\n",
       "      <td>3.224007</td>\n",
       "      <td>5.135753</td>\n",
       "      <td>5.120106</td>\n",
       "    </tr>\n",
       "    <tr>\n",
       "      <th>28</th>\n",
       "      <td>Nord</td>\n",
       "      <td>italian</td>\n",
       "      <td>2021</td>\n",
       "      <td>7.227654</td>\n",
       "      <td>2.975011</td>\n",
       "      <td>5.087200</td>\n",
       "      <td>4.995005</td>\n",
       "    </tr>\n",
       "    <tr>\n",
       "      <th>29</th>\n",
       "      <td>Nord</td>\n",
       "      <td>italian</td>\n",
       "      <td>2022</td>\n",
       "      <td>6.388568</td>\n",
       "      <td>2.391241</td>\n",
       "      <td>4.355185</td>\n",
       "      <td>4.254452</td>\n",
       "    </tr>\n",
       "    <tr>\n",
       "      <th>30</th>\n",
       "      <td>Nord-est</td>\n",
       "      <td>foreign</td>\n",
       "      <td>2018</td>\n",
       "      <td>15.381984</td>\n",
       "      <td>9.819867</td>\n",
       "      <td>13.479952</td>\n",
       "      <td>12.619294</td>\n",
       "    </tr>\n",
       "    <tr>\n",
       "      <th>31</th>\n",
       "      <td>Nord-est</td>\n",
       "      <td>foreign</td>\n",
       "      <td>2019</td>\n",
       "      <td>14.406747</td>\n",
       "      <td>10.068177</td>\n",
       "      <td>12.455572</td>\n",
       "      <td>11.210479</td>\n",
       "    </tr>\n",
       "    <tr>\n",
       "      <th>32</th>\n",
       "      <td>Nord-est</td>\n",
       "      <td>foreign</td>\n",
       "      <td>2020</td>\n",
       "      <td>12.020518</td>\n",
       "      <td>11.987181</td>\n",
       "      <td>11.897270</td>\n",
       "      <td>11.754628</td>\n",
       "    </tr>\n",
       "    <tr>\n",
       "      <th>33</th>\n",
       "      <td>Nord-est</td>\n",
       "      <td>foreign</td>\n",
       "      <td>2021</td>\n",
       "      <td>11.021124</td>\n",
       "      <td>9.334388</td>\n",
       "      <td>10.495161</td>\n",
       "      <td>10.315790</td>\n",
       "    </tr>\n",
       "    <tr>\n",
       "      <th>34</th>\n",
       "      <td>Nord-est</td>\n",
       "      <td>foreign</td>\n",
       "      <td>2022</td>\n",
       "      <td>10.030182</td>\n",
       "      <td>6.208408</td>\n",
       "      <td>8.828886</td>\n",
       "      <td>8.471354</td>\n",
       "    </tr>\n",
       "    <tr>\n",
       "      <th>35</th>\n",
       "      <td>Nord-est</td>\n",
       "      <td>italian</td>\n",
       "      <td>2018</td>\n",
       "      <td>6.678413</td>\n",
       "      <td>3.139968</td>\n",
       "      <td>4.941271</td>\n",
       "      <td>4.849491</td>\n",
       "    </tr>\n",
       "    <tr>\n",
       "      <th>36</th>\n",
       "      <td>Nord-est</td>\n",
       "      <td>italian</td>\n",
       "      <td>2019</td>\n",
       "      <td>6.202183</td>\n",
       "      <td>3.248361</td>\n",
       "      <td>4.454879</td>\n",
       "      <td>4.127024</td>\n",
       "    </tr>\n",
       "    <tr>\n",
       "      <th>37</th>\n",
       "      <td>Nord-est</td>\n",
       "      <td>italian</td>\n",
       "      <td>2020</td>\n",
       "      <td>6.316249</td>\n",
       "      <td>3.260684</td>\n",
       "      <td>4.876395</td>\n",
       "      <td>4.927196</td>\n",
       "    </tr>\n",
       "    <tr>\n",
       "      <th>38</th>\n",
       "      <td>Nord-est</td>\n",
       "      <td>italian</td>\n",
       "      <td>2021</td>\n",
       "      <td>6.397210</td>\n",
       "      <td>2.777307</td>\n",
       "      <td>4.529554</td>\n",
       "      <td>4.436290</td>\n",
       "    </tr>\n",
       "    <tr>\n",
       "      <th>39</th>\n",
       "      <td>Nord-est</td>\n",
       "      <td>italian</td>\n",
       "      <td>2022</td>\n",
       "      <td>5.598281</td>\n",
       "      <td>2.209158</td>\n",
       "      <td>3.837501</td>\n",
       "      <td>3.730644</td>\n",
       "    </tr>\n",
       "    <tr>\n",
       "      <th>40</th>\n",
       "      <td>Nord-ovest</td>\n",
       "      <td>foreign</td>\n",
       "      <td>2018</td>\n",
       "      <td>13.942550</td>\n",
       "      <td>8.657254</td>\n",
       "      <td>12.883018</td>\n",
       "      <td>12.920238</td>\n",
       "    </tr>\n",
       "    <tr>\n",
       "      <th>41</th>\n",
       "      <td>Nord-ovest</td>\n",
       "      <td>foreign</td>\n",
       "      <td>2019</td>\n",
       "      <td>12.974600</td>\n",
       "      <td>10.642936</td>\n",
       "      <td>12.051909</td>\n",
       "      <td>11.175751</td>\n",
       "    </tr>\n",
       "    <tr>\n",
       "      <th>42</th>\n",
       "      <td>Nord-ovest</td>\n",
       "      <td>foreign</td>\n",
       "      <td>2020</td>\n",
       "      <td>12.277353</td>\n",
       "      <td>9.928720</td>\n",
       "      <td>12.096275</td>\n",
       "      <td>12.508222</td>\n",
       "    </tr>\n",
       "    <tr>\n",
       "      <th>43</th>\n",
       "      <td>Nord-ovest</td>\n",
       "      <td>foreign</td>\n",
       "      <td>2021</td>\n",
       "      <td>13.224713</td>\n",
       "      <td>12.471011</td>\n",
       "      <td>13.596371</td>\n",
       "      <td>14.408137</td>\n",
       "    </tr>\n",
       "    <tr>\n",
       "      <th>44</th>\n",
       "      <td>Nord-ovest</td>\n",
       "      <td>foreign</td>\n",
       "      <td>2022</td>\n",
       "      <td>10.672936</td>\n",
       "      <td>10.163093</td>\n",
       "      <td>10.498555</td>\n",
       "      <td>10.377461</td>\n",
       "    </tr>\n",
       "    <tr>\n",
       "      <th>45</th>\n",
       "      <td>Nord-ovest</td>\n",
       "      <td>italian</td>\n",
       "      <td>2018</td>\n",
       "      <td>8.359876</td>\n",
       "      <td>3.474170</td>\n",
       "      <td>6.087053</td>\n",
       "      <td>6.088359</td>\n",
       "    </tr>\n",
       "    <tr>\n",
       "      <th>46</th>\n",
       "      <td>Nord-ovest</td>\n",
       "      <td>italian</td>\n",
       "      <td>2019</td>\n",
       "      <td>8.479393</td>\n",
       "      <td>2.987756</td>\n",
       "      <td>5.700288</td>\n",
       "      <td>5.468788</td>\n",
       "    </tr>\n",
       "    <tr>\n",
       "      <th>47</th>\n",
       "      <td>Nord-ovest</td>\n",
       "      <td>italian</td>\n",
       "      <td>2020</td>\n",
       "      <td>7.408154</td>\n",
       "      <td>3.197198</td>\n",
       "      <td>5.328483</td>\n",
       "      <td>5.268204</td>\n",
       "    </tr>\n",
       "    <tr>\n",
       "      <th>48</th>\n",
       "      <td>Nord-ovest</td>\n",
       "      <td>italian</td>\n",
       "      <td>2021</td>\n",
       "      <td>7.805801</td>\n",
       "      <td>3.120391</td>\n",
       "      <td>5.497647</td>\n",
       "      <td>5.419123</td>\n",
       "    </tr>\n",
       "    <tr>\n",
       "      <th>49</th>\n",
       "      <td>Nord-ovest</td>\n",
       "      <td>italian</td>\n",
       "      <td>2022</td>\n",
       "      <td>6.945924</td>\n",
       "      <td>2.522901</td>\n",
       "      <td>4.736643</td>\n",
       "      <td>4.653365</td>\n",
       "    </tr>\n",
       "  </tbody>\n",
       "</table>\n",
       "</div>"
      ],
      "text/plain": [
       "      Territory Citizenship  Year  UNEMP_ED_1  UNEMP_ED_3      total  \\\n",
       "0    Centro (I)     foreign  2018   15.155627   10.804081  14.453227   \n",
       "1    Centro (I)     foreign  2019   13.568437   11.434287  14.846058   \n",
       "2    Centro (I)     foreign  2020   13.153746    8.624535  12.778525   \n",
       "3    Centro (I)     foreign  2021   13.241853   18.102600  15.194500   \n",
       "4    Centro (I)     foreign  2022   12.723967   12.505329  12.980380   \n",
       "5    Centro (I)     italian  2018   11.356605    4.986898   8.676383   \n",
       "6    Centro (I)     italian  2019    9.827092    5.102061   7.718597   \n",
       "7    Centro (I)     italian  2020   10.372889    5.024784   7.629936   \n",
       "8    Centro (I)     italian  2021   11.100709    4.150024   7.694963   \n",
       "9    Centro (I)     italian  2022    8.462975    3.369947   6.059123   \n",
       "10  Mezzogiorno     foreign  2018   15.570274   17.189990  16.046920   \n",
       "11  Mezzogiorno     foreign  2019   16.924579   16.836758  17.526526   \n",
       "12  Mezzogiorno     foreign  2020   19.020709   17.950487  18.871393   \n",
       "13  Mezzogiorno     foreign  2021   20.928654   19.874336  20.808093   \n",
       "14  Mezzogiorno     foreign  2022   19.000206   17.563798  18.971048   \n",
       "15  Mezzogiorno     italian  2018   24.215728   11.038761  18.566454   \n",
       "16  Mezzogiorno     italian  2019   23.170330   10.296681  17.661179   \n",
       "17  Mezzogiorno     italian  2020   21.780618    9.218436  16.074188   \n",
       "18  Mezzogiorno     italian  2021   21.733578    8.411085  16.175574   \n",
       "19  Mezzogiorno     italian  2022   19.364638    6.812687  14.076778   \n",
       "20         Nord     foreign  2018   14.491531    9.137413  13.131091   \n",
       "21         Nord     foreign  2019   13.519575   10.391808  12.223271   \n",
       "22         Nord     foreign  2020   12.179855   10.897149  12.009307   \n",
       "23         Nord     foreign  2021   12.367512   11.026852  12.264354   \n",
       "24         Nord     foreign  2022   10.421102    8.387245   9.768999   \n",
       "25         Nord     italian  2018    7.663050    3.335926   5.599697   \n",
       "26         Nord     italian  2019    7.548570    3.097107   5.170383   \n",
       "27         Nord     italian  2020    6.954854    3.224007   5.135753   \n",
       "28         Nord     italian  2021    7.227654    2.975011   5.087200   \n",
       "29         Nord     italian  2022    6.388568    2.391241   4.355185   \n",
       "30     Nord-est     foreign  2018   15.381984    9.819867  13.479952   \n",
       "31     Nord-est     foreign  2019   14.406747   10.068177  12.455572   \n",
       "32     Nord-est     foreign  2020   12.020518   11.987181  11.897270   \n",
       "33     Nord-est     foreign  2021   11.021124    9.334388  10.495161   \n",
       "34     Nord-est     foreign  2022   10.030182    6.208408   8.828886   \n",
       "35     Nord-est     italian  2018    6.678413    3.139968   4.941271   \n",
       "36     Nord-est     italian  2019    6.202183    3.248361   4.454879   \n",
       "37     Nord-est     italian  2020    6.316249    3.260684   4.876395   \n",
       "38     Nord-est     italian  2021    6.397210    2.777307   4.529554   \n",
       "39     Nord-est     italian  2022    5.598281    2.209158   3.837501   \n",
       "40   Nord-ovest     foreign  2018   13.942550    8.657254  12.883018   \n",
       "41   Nord-ovest     foreign  2019   12.974600   10.642936  12.051909   \n",
       "42   Nord-ovest     foreign  2020   12.277353    9.928720  12.096275   \n",
       "43   Nord-ovest     foreign  2021   13.224713   12.471011  13.596371   \n",
       "44   Nord-ovest     foreign  2022   10.672936   10.163093  10.498555   \n",
       "45   Nord-ovest     italian  2018    8.359876    3.474170   6.087053   \n",
       "46   Nord-ovest     italian  2019    8.479393    2.987756   5.700288   \n",
       "47   Nord-ovest     italian  2020    7.408154    3.197198   5.328483   \n",
       "48   Nord-ovest     italian  2021    7.805801    3.120391   5.497647   \n",
       "49   Nord-ovest     italian  2022    6.945924    2.522901   4.736643   \n",
       "\n",
       "    UNEMP_ED_2  \n",
       "0    14.836710  \n",
       "1    17.514611  \n",
       "2    13.542032  \n",
       "3    16.586291  \n",
       "4    13.377200  \n",
       "5     9.377720  \n",
       "6     8.193194  \n",
       "7     7.821124  \n",
       "8     8.114135  \n",
       "9     6.500167  \n",
       "10   16.964263  \n",
       "11   19.247073  \n",
       "12   18.689590  \n",
       "13   20.727722  \n",
       "14   19.229423  \n",
       "15   17.254204  \n",
       "16   16.685488  \n",
       "17   14.901700  \n",
       "18   15.629899  \n",
       "19   13.592164  \n",
       "20   12.781869  \n",
       "21   11.192228  \n",
       "22   12.133324  \n",
       "23   12.495783  \n",
       "24    9.457004  \n",
       "25    5.546833  \n",
       "26    4.881866  \n",
       "27    5.120106  \n",
       "28    4.995005  \n",
       "29    4.254452  \n",
       "30   12.619294  \n",
       "31   11.210479  \n",
       "32   11.754628  \n",
       "33   10.315790  \n",
       "34    8.471354  \n",
       "35    4.849491  \n",
       "36    4.127024  \n",
       "37    4.927196  \n",
       "38    4.436290  \n",
       "39    3.730644  \n",
       "40   12.920238  \n",
       "41   11.175751  \n",
       "42   12.508222  \n",
       "43   14.408137  \n",
       "44   10.377461  \n",
       "45    6.088359  \n",
       "46    5.468788  \n",
       "47    5.268204  \n",
       "48    5.419123  \n",
       "49    4.653365  "
      ]
     },
     "execution_count": 14,
     "metadata": {},
     "output_type": "execute_result"
    }
   ],
   "source": [
    "unemployment_df"
   ]
  },
  {
   "cell_type": "code",
   "execution_count": 15,
   "id": "259dd05d",
   "metadata": {},
   "outputs": [],
   "source": [
    "#f_unemp = unemployment_df.loc[unemployment_df['Citizenship'] == 'foreign']\n",
    "#f_unemp"
   ]
  },
  {
   "cell_type": "code",
   "execution_count": 16,
   "id": "f5f1287a",
   "metadata": {},
   "outputs": [],
   "source": [
    "#result = df1.loc[df1['Citizenship'] == 'foreign']\n",
    "#result"
   ]
  },
  {
   "cell_type": "code",
   "execution_count": 17,
   "id": "ad09af81",
   "metadata": {},
   "outputs": [],
   "source": [
    "#creating a pivot table to have the information of the educational leval in other columns and not rows\n",
    "activity_df = df2.pivot_table(index=['Territory', 'Citizenship', 'TIME'], columns='Highest level of education attained', values='Value', aggfunc='mean').reset_index()"
   ]
  },
  {
   "cell_type": "code",
   "execution_count": 18,
   "id": "da10b7d8",
   "metadata": {},
   "outputs": [],
   "source": [
    "#renaming the new columns with the unemployment info for each educational level\n",
    "activity_df.columns.name = None  # Remove the column name\n",
    "activity_df = activity_df.rename(columns={'no educational degree, primary and lower secondary school certificate': 'ACT_ED_1', 'upper and post secondary': 'ACT_ED_2', 'tertiary (university, doctoral and specialization courses)':'ACT_ED_3', 'TIME':'Year'})"
   ]
  },
  {
   "cell_type": "code",
   "execution_count": 19,
   "id": "ce033095",
   "metadata": {},
   "outputs": [
    {
     "data": {
      "text/html": [
       "<div>\n",
       "<style scoped>\n",
       "    .dataframe tbody tr th:only-of-type {\n",
       "        vertical-align: middle;\n",
       "    }\n",
       "\n",
       "    .dataframe tbody tr th {\n",
       "        vertical-align: top;\n",
       "    }\n",
       "\n",
       "    .dataframe thead th {\n",
       "        text-align: right;\n",
       "    }\n",
       "</style>\n",
       "<table border=\"1\" class=\"dataframe\">\n",
       "  <thead>\n",
       "    <tr style=\"text-align: right;\">\n",
       "      <th></th>\n",
       "      <th>Territory</th>\n",
       "      <th>Citizenship</th>\n",
       "      <th>Year</th>\n",
       "      <th>ACT_ED_1</th>\n",
       "      <th>ACT_ED_3</th>\n",
       "      <th>total</th>\n",
       "      <th>ACT_ED_2</th>\n",
       "    </tr>\n",
       "  </thead>\n",
       "  <tbody>\n",
       "    <tr>\n",
       "      <th>0</th>\n",
       "      <td>Centro (I)</td>\n",
       "      <td>foreign</td>\n",
       "      <td>2018</td>\n",
       "      <td>70.985618</td>\n",
       "      <td>77.124190</td>\n",
       "      <td>73.572533</td>\n",
       "      <td>75.708602</td>\n",
       "    </tr>\n",
       "    <tr>\n",
       "      <th>1</th>\n",
       "      <td>Centro (I)</td>\n",
       "      <td>foreign</td>\n",
       "      <td>2019</td>\n",
       "      <td>70.615605</td>\n",
       "      <td>75.937080</td>\n",
       "      <td>73.539525</td>\n",
       "      <td>76.776958</td>\n",
       "    </tr>\n",
       "    <tr>\n",
       "      <th>2</th>\n",
       "      <td>Centro (I)</td>\n",
       "      <td>foreign</td>\n",
       "      <td>2020</td>\n",
       "      <td>66.399470</td>\n",
       "      <td>68.671068</td>\n",
       "      <td>68.004095</td>\n",
       "      <td>70.110227</td>\n",
       "    </tr>\n",
       "    <tr>\n",
       "      <th>3</th>\n",
       "      <td>Centro (I)</td>\n",
       "      <td>foreign</td>\n",
       "      <td>2021</td>\n",
       "      <td>66.442788</td>\n",
       "      <td>71.376057</td>\n",
       "      <td>69.614376</td>\n",
       "      <td>73.098578</td>\n",
       "    </tr>\n",
       "    <tr>\n",
       "      <th>4</th>\n",
       "      <td>Centro (I)</td>\n",
       "      <td>foreign</td>\n",
       "      <td>2022</td>\n",
       "      <td>68.150298</td>\n",
       "      <td>74.444015</td>\n",
       "      <td>70.789589</td>\n",
       "      <td>72.925446</td>\n",
       "    </tr>\n",
       "    <tr>\n",
       "      <th>5</th>\n",
       "      <td>Centro (I)</td>\n",
       "      <td>italian</td>\n",
       "      <td>2018</td>\n",
       "      <td>52.889158</td>\n",
       "      <td>83.546888</td>\n",
       "      <td>67.794273</td>\n",
       "      <td>71.418533</td>\n",
       "    </tr>\n",
       "    <tr>\n",
       "      <th>6</th>\n",
       "      <td>Centro (I)</td>\n",
       "      <td>italian</td>\n",
       "      <td>2019</td>\n",
       "      <td>52.150330</td>\n",
       "      <td>83.869037</td>\n",
       "      <td>67.642946</td>\n",
       "      <td>71.001206</td>\n",
       "    </tr>\n",
       "    <tr>\n",
       "      <th>7</th>\n",
       "      <td>Centro (I)</td>\n",
       "      <td>italian</td>\n",
       "      <td>2020</td>\n",
       "      <td>49.991570</td>\n",
       "      <td>82.418189</td>\n",
       "      <td>66.140077</td>\n",
       "      <td>69.852723</td>\n",
       "    </tr>\n",
       "    <tr>\n",
       "      <th>8</th>\n",
       "      <td>Centro (I)</td>\n",
       "      <td>italian</td>\n",
       "      <td>2021</td>\n",
       "      <td>50.522212</td>\n",
       "      <td>83.899395</td>\n",
       "      <td>66.848048</td>\n",
       "      <td>70.399843</td>\n",
       "    </tr>\n",
       "    <tr>\n",
       "      <th>9</th>\n",
       "      <td>Centro (I)</td>\n",
       "      <td>italian</td>\n",
       "      <td>2022</td>\n",
       "      <td>51.609045</td>\n",
       "      <td>83.923159</td>\n",
       "      <td>67.995490</td>\n",
       "      <td>71.828835</td>\n",
       "    </tr>\n",
       "    <tr>\n",
       "      <th>10</th>\n",
       "      <td>Mezzogiorno</td>\n",
       "      <td>foreign</td>\n",
       "      <td>2018</td>\n",
       "      <td>66.097724</td>\n",
       "      <td>71.544665</td>\n",
       "      <td>66.715357</td>\n",
       "      <td>67.187872</td>\n",
       "    </tr>\n",
       "    <tr>\n",
       "      <th>11</th>\n",
       "      <td>Mezzogiorno</td>\n",
       "      <td>foreign</td>\n",
       "      <td>2019</td>\n",
       "      <td>66.055395</td>\n",
       "      <td>65.841146</td>\n",
       "      <td>65.247186</td>\n",
       "      <td>63.178155</td>\n",
       "    </tr>\n",
       "    <tr>\n",
       "      <th>12</th>\n",
       "      <td>Mezzogiorno</td>\n",
       "      <td>foreign</td>\n",
       "      <td>2020</td>\n",
       "      <td>61.716367</td>\n",
       "      <td>55.005406</td>\n",
       "      <td>59.997375</td>\n",
       "      <td>57.003637</td>\n",
       "    </tr>\n",
       "    <tr>\n",
       "      <th>13</th>\n",
       "      <td>Mezzogiorno</td>\n",
       "      <td>foreign</td>\n",
       "      <td>2021</td>\n",
       "      <td>63.320470</td>\n",
       "      <td>58.843586</td>\n",
       "      <td>61.888849</td>\n",
       "      <td>59.350414</td>\n",
       "    </tr>\n",
       "    <tr>\n",
       "      <th>14</th>\n",
       "      <td>Mezzogiorno</td>\n",
       "      <td>foreign</td>\n",
       "      <td>2022</td>\n",
       "      <td>63.442347</td>\n",
       "      <td>60.235821</td>\n",
       "      <td>62.571852</td>\n",
       "      <td>61.264202</td>\n",
       "    </tr>\n",
       "    <tr>\n",
       "      <th>15</th>\n",
       "      <td>Mezzogiorno</td>\n",
       "      <td>italian</td>\n",
       "      <td>2018</td>\n",
       "      <td>41.577883</td>\n",
       "      <td>74.639067</td>\n",
       "      <td>53.233826</td>\n",
       "      <td>59.857702</td>\n",
       "    </tr>\n",
       "    <tr>\n",
       "      <th>16</th>\n",
       "      <td>Mezzogiorno</td>\n",
       "      <td>italian</td>\n",
       "      <td>2019</td>\n",
       "      <td>40.642789</td>\n",
       "      <td>75.097647</td>\n",
       "      <td>53.163171</td>\n",
       "      <td>60.145473</td>\n",
       "    </tr>\n",
       "    <tr>\n",
       "      <th>17</th>\n",
       "      <td>Mezzogiorno</td>\n",
       "      <td>italian</td>\n",
       "      <td>2020</td>\n",
       "      <td>38.809179</td>\n",
       "      <td>74.371937</td>\n",
       "      <td>51.099076</td>\n",
       "      <td>57.092398</td>\n",
       "    </tr>\n",
       "    <tr>\n",
       "      <th>18</th>\n",
       "      <td>Mezzogiorno</td>\n",
       "      <td>italian</td>\n",
       "      <td>2021</td>\n",
       "      <td>39.703686</td>\n",
       "      <td>75.412764</td>\n",
       "      <td>52.383436</td>\n",
       "      <td>58.786052</td>\n",
       "    </tr>\n",
       "    <tr>\n",
       "      <th>19</th>\n",
       "      <td>Mezzogiorno</td>\n",
       "      <td>italian</td>\n",
       "      <td>2022</td>\n",
       "      <td>40.331041</td>\n",
       "      <td>75.942163</td>\n",
       "      <td>53.174318</td>\n",
       "      <td>59.487311</td>\n",
       "    </tr>\n",
       "    <tr>\n",
       "      <th>20</th>\n",
       "      <td>Nord</td>\n",
       "      <td>foreign</td>\n",
       "      <td>2018</td>\n",
       "      <td>68.289759</td>\n",
       "      <td>76.686424</td>\n",
       "      <td>72.931198</td>\n",
       "      <td>78.395477</td>\n",
       "    </tr>\n",
       "    <tr>\n",
       "      <th>21</th>\n",
       "      <td>Nord</td>\n",
       "      <td>foreign</td>\n",
       "      <td>2019</td>\n",
       "      <td>68.257518</td>\n",
       "      <td>76.713407</td>\n",
       "      <td>72.899590</td>\n",
       "      <td>78.430684</td>\n",
       "    </tr>\n",
       "    <tr>\n",
       "      <th>22</th>\n",
       "      <td>Nord</td>\n",
       "      <td>foreign</td>\n",
       "      <td>2020</td>\n",
       "      <td>62.080906</td>\n",
       "      <td>71.332343</td>\n",
       "      <td>67.639693</td>\n",
       "      <td>74.937094</td>\n",
       "    </tr>\n",
       "    <tr>\n",
       "      <th>23</th>\n",
       "      <td>Nord</td>\n",
       "      <td>foreign</td>\n",
       "      <td>2021</td>\n",
       "      <td>64.769660</td>\n",
       "      <td>74.721646</td>\n",
       "      <td>70.159186</td>\n",
       "      <td>76.261093</td>\n",
       "    </tr>\n",
       "    <tr>\n",
       "      <th>24</th>\n",
       "      <td>Nord</td>\n",
       "      <td>foreign</td>\n",
       "      <td>2022</td>\n",
       "      <td>65.698128</td>\n",
       "      <td>76.511609</td>\n",
       "      <td>71.207475</td>\n",
       "      <td>76.864817</td>\n",
       "    </tr>\n",
       "    <tr>\n",
       "      <th>25</th>\n",
       "      <td>Nord</td>\n",
       "      <td>italian</td>\n",
       "      <td>2018</td>\n",
       "      <td>55.320980</td>\n",
       "      <td>86.141796</td>\n",
       "      <td>70.329751</td>\n",
       "      <td>75.863703</td>\n",
       "    </tr>\n",
       "    <tr>\n",
       "      <th>26</th>\n",
       "      <td>Nord</td>\n",
       "      <td>italian</td>\n",
       "      <td>2019</td>\n",
       "      <td>55.708748</td>\n",
       "      <td>85.910280</td>\n",
       "      <td>70.676994</td>\n",
       "      <td>76.024817</td>\n",
       "    </tr>\n",
       "    <tr>\n",
       "      <th>27</th>\n",
       "      <td>Nord</td>\n",
       "      <td>italian</td>\n",
       "      <td>2020</td>\n",
       "      <td>53.970334</td>\n",
       "      <td>84.271635</td>\n",
       "      <td>68.906944</td>\n",
       "      <td>73.921695</td>\n",
       "    </tr>\n",
       "    <tr>\n",
       "      <th>28</th>\n",
       "      <td>Nord</td>\n",
       "      <td>italian</td>\n",
       "      <td>2021</td>\n",
       "      <td>54.163318</td>\n",
       "      <td>85.553606</td>\n",
       "      <td>69.213628</td>\n",
       "      <td>74.061972</td>\n",
       "    </tr>\n",
       "    <tr>\n",
       "      <th>29</th>\n",
       "      <td>Nord</td>\n",
       "      <td>italian</td>\n",
       "      <td>2022</td>\n",
       "      <td>54.849589</td>\n",
       "      <td>86.307408</td>\n",
       "      <td>70.253738</td>\n",
       "      <td>75.355582</td>\n",
       "    </tr>\n",
       "    <tr>\n",
       "      <th>30</th>\n",
       "      <td>Nord-est</td>\n",
       "      <td>foreign</td>\n",
       "      <td>2018</td>\n",
       "      <td>67.473834</td>\n",
       "      <td>76.487557</td>\n",
       "      <td>73.376928</td>\n",
       "      <td>79.708734</td>\n",
       "    </tr>\n",
       "    <tr>\n",
       "      <th>31</th>\n",
       "      <td>Nord-est</td>\n",
       "      <td>foreign</td>\n",
       "      <td>2019</td>\n",
       "      <td>67.704574</td>\n",
       "      <td>76.943319</td>\n",
       "      <td>73.719380</td>\n",
       "      <td>79.938751</td>\n",
       "    </tr>\n",
       "    <tr>\n",
       "      <th>32</th>\n",
       "      <td>Nord-est</td>\n",
       "      <td>foreign</td>\n",
       "      <td>2020</td>\n",
       "      <td>62.688161</td>\n",
       "      <td>75.437066</td>\n",
       "      <td>70.304117</td>\n",
       "      <td>77.875076</td>\n",
       "    </tr>\n",
       "    <tr>\n",
       "      <th>33</th>\n",
       "      <td>Nord-est</td>\n",
       "      <td>foreign</td>\n",
       "      <td>2021</td>\n",
       "      <td>63.913195</td>\n",
       "      <td>77.036717</td>\n",
       "      <td>71.090152</td>\n",
       "      <td>77.882568</td>\n",
       "    </tr>\n",
       "    <tr>\n",
       "      <th>34</th>\n",
       "      <td>Nord-est</td>\n",
       "      <td>foreign</td>\n",
       "      <td>2022</td>\n",
       "      <td>65.197743</td>\n",
       "      <td>78.276261</td>\n",
       "      <td>71.938108</td>\n",
       "      <td>77.516503</td>\n",
       "    </tr>\n",
       "    <tr>\n",
       "      <th>35</th>\n",
       "      <td>Nord-est</td>\n",
       "      <td>italian</td>\n",
       "      <td>2018</td>\n",
       "      <td>55.556846</td>\n",
       "      <td>85.724218</td>\n",
       "      <td>70.800658</td>\n",
       "      <td>76.656790</td>\n",
       "    </tr>\n",
       "    <tr>\n",
       "      <th>36</th>\n",
       "      <td>Nord-est</td>\n",
       "      <td>italian</td>\n",
       "      <td>2019</td>\n",
       "      <td>55.295821</td>\n",
       "      <td>85.436213</td>\n",
       "      <td>71.252621</td>\n",
       "      <td>77.447567</td>\n",
       "    </tr>\n",
       "    <tr>\n",
       "      <th>37</th>\n",
       "      <td>Nord-est</td>\n",
       "      <td>italian</td>\n",
       "      <td>2020</td>\n",
       "      <td>54.445613</td>\n",
       "      <td>83.740433</td>\n",
       "      <td>69.573899</td>\n",
       "      <td>74.922599</td>\n",
       "    </tr>\n",
       "    <tr>\n",
       "      <th>38</th>\n",
       "      <td>Nord-est</td>\n",
       "      <td>italian</td>\n",
       "      <td>2021</td>\n",
       "      <td>54.174218</td>\n",
       "      <td>85.298496</td>\n",
       "      <td>69.505691</td>\n",
       "      <td>74.410024</td>\n",
       "    </tr>\n",
       "    <tr>\n",
       "      <th>39</th>\n",
       "      <td>Nord-est</td>\n",
       "      <td>italian</td>\n",
       "      <td>2022</td>\n",
       "      <td>55.003484</td>\n",
       "      <td>86.232490</td>\n",
       "      <td>70.747591</td>\n",
       "      <td>76.074892</td>\n",
       "    </tr>\n",
       "    <tr>\n",
       "      <th>40</th>\n",
       "      <td>Nord-ovest</td>\n",
       "      <td>foreign</td>\n",
       "      <td>2018</td>\n",
       "      <td>68.802661</td>\n",
       "      <td>76.827490</td>\n",
       "      <td>72.617672</td>\n",
       "      <td>77.313317</td>\n",
       "    </tr>\n",
       "    <tr>\n",
       "      <th>41</th>\n",
       "      <td>Nord-ovest</td>\n",
       "      <td>foreign</td>\n",
       "      <td>2019</td>\n",
       "      <td>68.601709</td>\n",
       "      <td>76.536952</td>\n",
       "      <td>72.306542</td>\n",
       "      <td>77.109207</td>\n",
       "    </tr>\n",
       "    <tr>\n",
       "      <th>42</th>\n",
       "      <td>Nord-ovest</td>\n",
       "      <td>foreign</td>\n",
       "      <td>2020</td>\n",
       "      <td>61.716206</td>\n",
       "      <td>68.043631</td>\n",
       "      <td>65.711014</td>\n",
       "      <td>72.239657</td>\n",
       "    </tr>\n",
       "    <tr>\n",
       "      <th>43</th>\n",
       "      <td>Nord-ovest</td>\n",
       "      <td>foreign</td>\n",
       "      <td>2021</td>\n",
       "      <td>65.327416</td>\n",
       "      <td>72.853186</td>\n",
       "      <td>69.474620</td>\n",
       "      <td>74.893586</td>\n",
       "    </tr>\n",
       "    <tr>\n",
       "      <th>44</th>\n",
       "      <td>Nord-ovest</td>\n",
       "      <td>foreign</td>\n",
       "      <td>2022</td>\n",
       "      <td>66.026004</td>\n",
       "      <td>75.131896</td>\n",
       "      <td>70.651191</td>\n",
       "      <td>76.266436</td>\n",
       "    </tr>\n",
       "    <tr>\n",
       "      <th>45</th>\n",
       "      <td>Nord-ovest</td>\n",
       "      <td>italian</td>\n",
       "      <td>2018</td>\n",
       "      <td>55.156700</td>\n",
       "      <td>86.439320</td>\n",
       "      <td>69.985466</td>\n",
       "      <td>75.260497</td>\n",
       "    </tr>\n",
       "    <tr>\n",
       "      <th>46</th>\n",
       "      <td>Nord-ovest</td>\n",
       "      <td>italian</td>\n",
       "      <td>2019</td>\n",
       "      <td>55.998608</td>\n",
       "      <td>86.256693</td>\n",
       "      <td>70.256830</td>\n",
       "      <td>74.955011</td>\n",
       "    </tr>\n",
       "    <tr>\n",
       "      <th>47</th>\n",
       "      <td>Nord-ovest</td>\n",
       "      <td>italian</td>\n",
       "      <td>2020</td>\n",
       "      <td>53.640038</td>\n",
       "      <td>84.664571</td>\n",
       "      <td>68.419710</td>\n",
       "      <td>73.171798</td>\n",
       "    </tr>\n",
       "    <tr>\n",
       "      <th>48</th>\n",
       "      <td>Nord-ovest</td>\n",
       "      <td>italian</td>\n",
       "      <td>2021</td>\n",
       "      <td>54.156985</td>\n",
       "      <td>85.742349</td>\n",
       "      <td>69.000339</td>\n",
       "      <td>73.800469</td>\n",
       "    </tr>\n",
       "    <tr>\n",
       "      <th>49</th>\n",
       "      <td>Nord-ovest</td>\n",
       "      <td>italian</td>\n",
       "      <td>2022</td>\n",
       "      <td>54.741921</td>\n",
       "      <td>86.361940</td>\n",
       "      <td>69.894383</td>\n",
       "      <td>74.817090</td>\n",
       "    </tr>\n",
       "  </tbody>\n",
       "</table>\n",
       "</div>"
      ],
      "text/plain": [
       "      Territory Citizenship  Year   ACT_ED_1   ACT_ED_3      total   ACT_ED_2\n",
       "0    Centro (I)     foreign  2018  70.985618  77.124190  73.572533  75.708602\n",
       "1    Centro (I)     foreign  2019  70.615605  75.937080  73.539525  76.776958\n",
       "2    Centro (I)     foreign  2020  66.399470  68.671068  68.004095  70.110227\n",
       "3    Centro (I)     foreign  2021  66.442788  71.376057  69.614376  73.098578\n",
       "4    Centro (I)     foreign  2022  68.150298  74.444015  70.789589  72.925446\n",
       "5    Centro (I)     italian  2018  52.889158  83.546888  67.794273  71.418533\n",
       "6    Centro (I)     italian  2019  52.150330  83.869037  67.642946  71.001206\n",
       "7    Centro (I)     italian  2020  49.991570  82.418189  66.140077  69.852723\n",
       "8    Centro (I)     italian  2021  50.522212  83.899395  66.848048  70.399843\n",
       "9    Centro (I)     italian  2022  51.609045  83.923159  67.995490  71.828835\n",
       "10  Mezzogiorno     foreign  2018  66.097724  71.544665  66.715357  67.187872\n",
       "11  Mezzogiorno     foreign  2019  66.055395  65.841146  65.247186  63.178155\n",
       "12  Mezzogiorno     foreign  2020  61.716367  55.005406  59.997375  57.003637\n",
       "13  Mezzogiorno     foreign  2021  63.320470  58.843586  61.888849  59.350414\n",
       "14  Mezzogiorno     foreign  2022  63.442347  60.235821  62.571852  61.264202\n",
       "15  Mezzogiorno     italian  2018  41.577883  74.639067  53.233826  59.857702\n",
       "16  Mezzogiorno     italian  2019  40.642789  75.097647  53.163171  60.145473\n",
       "17  Mezzogiorno     italian  2020  38.809179  74.371937  51.099076  57.092398\n",
       "18  Mezzogiorno     italian  2021  39.703686  75.412764  52.383436  58.786052\n",
       "19  Mezzogiorno     italian  2022  40.331041  75.942163  53.174318  59.487311\n",
       "20         Nord     foreign  2018  68.289759  76.686424  72.931198  78.395477\n",
       "21         Nord     foreign  2019  68.257518  76.713407  72.899590  78.430684\n",
       "22         Nord     foreign  2020  62.080906  71.332343  67.639693  74.937094\n",
       "23         Nord     foreign  2021  64.769660  74.721646  70.159186  76.261093\n",
       "24         Nord     foreign  2022  65.698128  76.511609  71.207475  76.864817\n",
       "25         Nord     italian  2018  55.320980  86.141796  70.329751  75.863703\n",
       "26         Nord     italian  2019  55.708748  85.910280  70.676994  76.024817\n",
       "27         Nord     italian  2020  53.970334  84.271635  68.906944  73.921695\n",
       "28         Nord     italian  2021  54.163318  85.553606  69.213628  74.061972\n",
       "29         Nord     italian  2022  54.849589  86.307408  70.253738  75.355582\n",
       "30     Nord-est     foreign  2018  67.473834  76.487557  73.376928  79.708734\n",
       "31     Nord-est     foreign  2019  67.704574  76.943319  73.719380  79.938751\n",
       "32     Nord-est     foreign  2020  62.688161  75.437066  70.304117  77.875076\n",
       "33     Nord-est     foreign  2021  63.913195  77.036717  71.090152  77.882568\n",
       "34     Nord-est     foreign  2022  65.197743  78.276261  71.938108  77.516503\n",
       "35     Nord-est     italian  2018  55.556846  85.724218  70.800658  76.656790\n",
       "36     Nord-est     italian  2019  55.295821  85.436213  71.252621  77.447567\n",
       "37     Nord-est     italian  2020  54.445613  83.740433  69.573899  74.922599\n",
       "38     Nord-est     italian  2021  54.174218  85.298496  69.505691  74.410024\n",
       "39     Nord-est     italian  2022  55.003484  86.232490  70.747591  76.074892\n",
       "40   Nord-ovest     foreign  2018  68.802661  76.827490  72.617672  77.313317\n",
       "41   Nord-ovest     foreign  2019  68.601709  76.536952  72.306542  77.109207\n",
       "42   Nord-ovest     foreign  2020  61.716206  68.043631  65.711014  72.239657\n",
       "43   Nord-ovest     foreign  2021  65.327416  72.853186  69.474620  74.893586\n",
       "44   Nord-ovest     foreign  2022  66.026004  75.131896  70.651191  76.266436\n",
       "45   Nord-ovest     italian  2018  55.156700  86.439320  69.985466  75.260497\n",
       "46   Nord-ovest     italian  2019  55.998608  86.256693  70.256830  74.955011\n",
       "47   Nord-ovest     italian  2020  53.640038  84.664571  68.419710  73.171798\n",
       "48   Nord-ovest     italian  2021  54.156985  85.742349  69.000339  73.800469\n",
       "49   Nord-ovest     italian  2022  54.741921  86.361940  69.894383  74.817090"
      ]
     },
     "execution_count": 19,
     "metadata": {},
     "output_type": "execute_result"
    }
   ],
   "source": [
    "activity_df"
   ]
  },
  {
   "cell_type": "code",
   "execution_count": 20,
   "id": "aee5803d",
   "metadata": {},
   "outputs": [],
   "source": [
    "#after making sure there's mostly numerical numbers in both dataframes we make the merge\n",
    "DF5 = pd.merge(unemployment_df, activity_df, on=['Territory', 'Citizenship', 'Year'], how='outer')"
   ]
  },
  {
   "cell_type": "markdown",
   "id": "2acdd79d",
   "metadata": {},
   "source": [
    "Merge Unemployment rate x Activity rage (by educational level)"
   ]
  },
  {
   "cell_type": "code",
   "execution_count": 21,
   "id": "b47ef16c",
   "metadata": {},
   "outputs": [
    {
     "data": {
      "text/html": [
       "<div>\n",
       "<style scoped>\n",
       "    .dataframe tbody tr th:only-of-type {\n",
       "        vertical-align: middle;\n",
       "    }\n",
       "\n",
       "    .dataframe tbody tr th {\n",
       "        vertical-align: top;\n",
       "    }\n",
       "\n",
       "    .dataframe thead th {\n",
       "        text-align: right;\n",
       "    }\n",
       "</style>\n",
       "<table border=\"1\" class=\"dataframe\">\n",
       "  <thead>\n",
       "    <tr style=\"text-align: right;\">\n",
       "      <th></th>\n",
       "      <th>Territory</th>\n",
       "      <th>Citizenship</th>\n",
       "      <th>Year</th>\n",
       "      <th>UNEMP_ED_1</th>\n",
       "      <th>UNEMP_ED_3</th>\n",
       "      <th>total_x</th>\n",
       "      <th>UNEMP_ED_2</th>\n",
       "      <th>ACT_ED_1</th>\n",
       "      <th>ACT_ED_3</th>\n",
       "      <th>total_y</th>\n",
       "      <th>ACT_ED_2</th>\n",
       "    </tr>\n",
       "  </thead>\n",
       "  <tbody>\n",
       "    <tr>\n",
       "      <th>0</th>\n",
       "      <td>Centro (I)</td>\n",
       "      <td>foreign</td>\n",
       "      <td>2018</td>\n",
       "      <td>15.155627</td>\n",
       "      <td>10.804081</td>\n",
       "      <td>14.453227</td>\n",
       "      <td>14.836710</td>\n",
       "      <td>70.985618</td>\n",
       "      <td>77.124190</td>\n",
       "      <td>73.572533</td>\n",
       "      <td>75.708602</td>\n",
       "    </tr>\n",
       "    <tr>\n",
       "      <th>1</th>\n",
       "      <td>Centro (I)</td>\n",
       "      <td>foreign</td>\n",
       "      <td>2019</td>\n",
       "      <td>13.568437</td>\n",
       "      <td>11.434287</td>\n",
       "      <td>14.846058</td>\n",
       "      <td>17.514611</td>\n",
       "      <td>70.615605</td>\n",
       "      <td>75.937080</td>\n",
       "      <td>73.539525</td>\n",
       "      <td>76.776958</td>\n",
       "    </tr>\n",
       "    <tr>\n",
       "      <th>2</th>\n",
       "      <td>Centro (I)</td>\n",
       "      <td>foreign</td>\n",
       "      <td>2020</td>\n",
       "      <td>13.153746</td>\n",
       "      <td>8.624535</td>\n",
       "      <td>12.778525</td>\n",
       "      <td>13.542032</td>\n",
       "      <td>66.399470</td>\n",
       "      <td>68.671068</td>\n",
       "      <td>68.004095</td>\n",
       "      <td>70.110227</td>\n",
       "    </tr>\n",
       "    <tr>\n",
       "      <th>3</th>\n",
       "      <td>Centro (I)</td>\n",
       "      <td>foreign</td>\n",
       "      <td>2021</td>\n",
       "      <td>13.241853</td>\n",
       "      <td>18.102600</td>\n",
       "      <td>15.194500</td>\n",
       "      <td>16.586291</td>\n",
       "      <td>66.442788</td>\n",
       "      <td>71.376057</td>\n",
       "      <td>69.614376</td>\n",
       "      <td>73.098578</td>\n",
       "    </tr>\n",
       "    <tr>\n",
       "      <th>4</th>\n",
       "      <td>Centro (I)</td>\n",
       "      <td>foreign</td>\n",
       "      <td>2022</td>\n",
       "      <td>12.723967</td>\n",
       "      <td>12.505329</td>\n",
       "      <td>12.980380</td>\n",
       "      <td>13.377200</td>\n",
       "      <td>68.150298</td>\n",
       "      <td>74.444015</td>\n",
       "      <td>70.789589</td>\n",
       "      <td>72.925446</td>\n",
       "    </tr>\n",
       "    <tr>\n",
       "      <th>5</th>\n",
       "      <td>Centro (I)</td>\n",
       "      <td>italian</td>\n",
       "      <td>2018</td>\n",
       "      <td>11.356605</td>\n",
       "      <td>4.986898</td>\n",
       "      <td>8.676383</td>\n",
       "      <td>9.377720</td>\n",
       "      <td>52.889158</td>\n",
       "      <td>83.546888</td>\n",
       "      <td>67.794273</td>\n",
       "      <td>71.418533</td>\n",
       "    </tr>\n",
       "    <tr>\n",
       "      <th>6</th>\n",
       "      <td>Centro (I)</td>\n",
       "      <td>italian</td>\n",
       "      <td>2019</td>\n",
       "      <td>9.827092</td>\n",
       "      <td>5.102061</td>\n",
       "      <td>7.718597</td>\n",
       "      <td>8.193194</td>\n",
       "      <td>52.150330</td>\n",
       "      <td>83.869037</td>\n",
       "      <td>67.642946</td>\n",
       "      <td>71.001206</td>\n",
       "    </tr>\n",
       "    <tr>\n",
       "      <th>7</th>\n",
       "      <td>Centro (I)</td>\n",
       "      <td>italian</td>\n",
       "      <td>2020</td>\n",
       "      <td>10.372889</td>\n",
       "      <td>5.024784</td>\n",
       "      <td>7.629936</td>\n",
       "      <td>7.821124</td>\n",
       "      <td>49.991570</td>\n",
       "      <td>82.418189</td>\n",
       "      <td>66.140077</td>\n",
       "      <td>69.852723</td>\n",
       "    </tr>\n",
       "    <tr>\n",
       "      <th>8</th>\n",
       "      <td>Centro (I)</td>\n",
       "      <td>italian</td>\n",
       "      <td>2021</td>\n",
       "      <td>11.100709</td>\n",
       "      <td>4.150024</td>\n",
       "      <td>7.694963</td>\n",
       "      <td>8.114135</td>\n",
       "      <td>50.522212</td>\n",
       "      <td>83.899395</td>\n",
       "      <td>66.848048</td>\n",
       "      <td>70.399843</td>\n",
       "    </tr>\n",
       "    <tr>\n",
       "      <th>9</th>\n",
       "      <td>Centro (I)</td>\n",
       "      <td>italian</td>\n",
       "      <td>2022</td>\n",
       "      <td>8.462975</td>\n",
       "      <td>3.369947</td>\n",
       "      <td>6.059123</td>\n",
       "      <td>6.500167</td>\n",
       "      <td>51.609045</td>\n",
       "      <td>83.923159</td>\n",
       "      <td>67.995490</td>\n",
       "      <td>71.828835</td>\n",
       "    </tr>\n",
       "    <tr>\n",
       "      <th>10</th>\n",
       "      <td>Mezzogiorno</td>\n",
       "      <td>foreign</td>\n",
       "      <td>2018</td>\n",
       "      <td>15.570274</td>\n",
       "      <td>17.189990</td>\n",
       "      <td>16.046920</td>\n",
       "      <td>16.964263</td>\n",
       "      <td>66.097724</td>\n",
       "      <td>71.544665</td>\n",
       "      <td>66.715357</td>\n",
       "      <td>67.187872</td>\n",
       "    </tr>\n",
       "    <tr>\n",
       "      <th>11</th>\n",
       "      <td>Mezzogiorno</td>\n",
       "      <td>foreign</td>\n",
       "      <td>2019</td>\n",
       "      <td>16.924579</td>\n",
       "      <td>16.836758</td>\n",
       "      <td>17.526526</td>\n",
       "      <td>19.247073</td>\n",
       "      <td>66.055395</td>\n",
       "      <td>65.841146</td>\n",
       "      <td>65.247186</td>\n",
       "      <td>63.178155</td>\n",
       "    </tr>\n",
       "    <tr>\n",
       "      <th>12</th>\n",
       "      <td>Mezzogiorno</td>\n",
       "      <td>foreign</td>\n",
       "      <td>2020</td>\n",
       "      <td>19.020709</td>\n",
       "      <td>17.950487</td>\n",
       "      <td>18.871393</td>\n",
       "      <td>18.689590</td>\n",
       "      <td>61.716367</td>\n",
       "      <td>55.005406</td>\n",
       "      <td>59.997375</td>\n",
       "      <td>57.003637</td>\n",
       "    </tr>\n",
       "    <tr>\n",
       "      <th>13</th>\n",
       "      <td>Mezzogiorno</td>\n",
       "      <td>foreign</td>\n",
       "      <td>2021</td>\n",
       "      <td>20.928654</td>\n",
       "      <td>19.874336</td>\n",
       "      <td>20.808093</td>\n",
       "      <td>20.727722</td>\n",
       "      <td>63.320470</td>\n",
       "      <td>58.843586</td>\n",
       "      <td>61.888849</td>\n",
       "      <td>59.350414</td>\n",
       "    </tr>\n",
       "    <tr>\n",
       "      <th>14</th>\n",
       "      <td>Mezzogiorno</td>\n",
       "      <td>foreign</td>\n",
       "      <td>2022</td>\n",
       "      <td>19.000206</td>\n",
       "      <td>17.563798</td>\n",
       "      <td>18.971048</td>\n",
       "      <td>19.229423</td>\n",
       "      <td>63.442347</td>\n",
       "      <td>60.235821</td>\n",
       "      <td>62.571852</td>\n",
       "      <td>61.264202</td>\n",
       "    </tr>\n",
       "    <tr>\n",
       "      <th>15</th>\n",
       "      <td>Mezzogiorno</td>\n",
       "      <td>italian</td>\n",
       "      <td>2018</td>\n",
       "      <td>24.215728</td>\n",
       "      <td>11.038761</td>\n",
       "      <td>18.566454</td>\n",
       "      <td>17.254204</td>\n",
       "      <td>41.577883</td>\n",
       "      <td>74.639067</td>\n",
       "      <td>53.233826</td>\n",
       "      <td>59.857702</td>\n",
       "    </tr>\n",
       "    <tr>\n",
       "      <th>16</th>\n",
       "      <td>Mezzogiorno</td>\n",
       "      <td>italian</td>\n",
       "      <td>2019</td>\n",
       "      <td>23.170330</td>\n",
       "      <td>10.296681</td>\n",
       "      <td>17.661179</td>\n",
       "      <td>16.685488</td>\n",
       "      <td>40.642789</td>\n",
       "      <td>75.097647</td>\n",
       "      <td>53.163171</td>\n",
       "      <td>60.145473</td>\n",
       "    </tr>\n",
       "    <tr>\n",
       "      <th>17</th>\n",
       "      <td>Mezzogiorno</td>\n",
       "      <td>italian</td>\n",
       "      <td>2020</td>\n",
       "      <td>21.780618</td>\n",
       "      <td>9.218436</td>\n",
       "      <td>16.074188</td>\n",
       "      <td>14.901700</td>\n",
       "      <td>38.809179</td>\n",
       "      <td>74.371937</td>\n",
       "      <td>51.099076</td>\n",
       "      <td>57.092398</td>\n",
       "    </tr>\n",
       "    <tr>\n",
       "      <th>18</th>\n",
       "      <td>Mezzogiorno</td>\n",
       "      <td>italian</td>\n",
       "      <td>2021</td>\n",
       "      <td>21.733578</td>\n",
       "      <td>8.411085</td>\n",
       "      <td>16.175574</td>\n",
       "      <td>15.629899</td>\n",
       "      <td>39.703686</td>\n",
       "      <td>75.412764</td>\n",
       "      <td>52.383436</td>\n",
       "      <td>58.786052</td>\n",
       "    </tr>\n",
       "    <tr>\n",
       "      <th>19</th>\n",
       "      <td>Mezzogiorno</td>\n",
       "      <td>italian</td>\n",
       "      <td>2022</td>\n",
       "      <td>19.364638</td>\n",
       "      <td>6.812687</td>\n",
       "      <td>14.076778</td>\n",
       "      <td>13.592164</td>\n",
       "      <td>40.331041</td>\n",
       "      <td>75.942163</td>\n",
       "      <td>53.174318</td>\n",
       "      <td>59.487311</td>\n",
       "    </tr>\n",
       "    <tr>\n",
       "      <th>20</th>\n",
       "      <td>Nord</td>\n",
       "      <td>foreign</td>\n",
       "      <td>2018</td>\n",
       "      <td>14.491531</td>\n",
       "      <td>9.137413</td>\n",
       "      <td>13.131091</td>\n",
       "      <td>12.781869</td>\n",
       "      <td>68.289759</td>\n",
       "      <td>76.686424</td>\n",
       "      <td>72.931198</td>\n",
       "      <td>78.395477</td>\n",
       "    </tr>\n",
       "    <tr>\n",
       "      <th>21</th>\n",
       "      <td>Nord</td>\n",
       "      <td>foreign</td>\n",
       "      <td>2019</td>\n",
       "      <td>13.519575</td>\n",
       "      <td>10.391808</td>\n",
       "      <td>12.223271</td>\n",
       "      <td>11.192228</td>\n",
       "      <td>68.257518</td>\n",
       "      <td>76.713407</td>\n",
       "      <td>72.899590</td>\n",
       "      <td>78.430684</td>\n",
       "    </tr>\n",
       "    <tr>\n",
       "      <th>22</th>\n",
       "      <td>Nord</td>\n",
       "      <td>foreign</td>\n",
       "      <td>2020</td>\n",
       "      <td>12.179855</td>\n",
       "      <td>10.897149</td>\n",
       "      <td>12.009307</td>\n",
       "      <td>12.133324</td>\n",
       "      <td>62.080906</td>\n",
       "      <td>71.332343</td>\n",
       "      <td>67.639693</td>\n",
       "      <td>74.937094</td>\n",
       "    </tr>\n",
       "    <tr>\n",
       "      <th>23</th>\n",
       "      <td>Nord</td>\n",
       "      <td>foreign</td>\n",
       "      <td>2021</td>\n",
       "      <td>12.367512</td>\n",
       "      <td>11.026852</td>\n",
       "      <td>12.264354</td>\n",
       "      <td>12.495783</td>\n",
       "      <td>64.769660</td>\n",
       "      <td>74.721646</td>\n",
       "      <td>70.159186</td>\n",
       "      <td>76.261093</td>\n",
       "    </tr>\n",
       "    <tr>\n",
       "      <th>24</th>\n",
       "      <td>Nord</td>\n",
       "      <td>foreign</td>\n",
       "      <td>2022</td>\n",
       "      <td>10.421102</td>\n",
       "      <td>8.387245</td>\n",
       "      <td>9.768999</td>\n",
       "      <td>9.457004</td>\n",
       "      <td>65.698128</td>\n",
       "      <td>76.511609</td>\n",
       "      <td>71.207475</td>\n",
       "      <td>76.864817</td>\n",
       "    </tr>\n",
       "    <tr>\n",
       "      <th>25</th>\n",
       "      <td>Nord</td>\n",
       "      <td>italian</td>\n",
       "      <td>2018</td>\n",
       "      <td>7.663050</td>\n",
       "      <td>3.335926</td>\n",
       "      <td>5.599697</td>\n",
       "      <td>5.546833</td>\n",
       "      <td>55.320980</td>\n",
       "      <td>86.141796</td>\n",
       "      <td>70.329751</td>\n",
       "      <td>75.863703</td>\n",
       "    </tr>\n",
       "    <tr>\n",
       "      <th>26</th>\n",
       "      <td>Nord</td>\n",
       "      <td>italian</td>\n",
       "      <td>2019</td>\n",
       "      <td>7.548570</td>\n",
       "      <td>3.097107</td>\n",
       "      <td>5.170383</td>\n",
       "      <td>4.881866</td>\n",
       "      <td>55.708748</td>\n",
       "      <td>85.910280</td>\n",
       "      <td>70.676994</td>\n",
       "      <td>76.024817</td>\n",
       "    </tr>\n",
       "    <tr>\n",
       "      <th>27</th>\n",
       "      <td>Nord</td>\n",
       "      <td>italian</td>\n",
       "      <td>2020</td>\n",
       "      <td>6.954854</td>\n",
       "      <td>3.224007</td>\n",
       "      <td>5.135753</td>\n",
       "      <td>5.120106</td>\n",
       "      <td>53.970334</td>\n",
       "      <td>84.271635</td>\n",
       "      <td>68.906944</td>\n",
       "      <td>73.921695</td>\n",
       "    </tr>\n",
       "    <tr>\n",
       "      <th>28</th>\n",
       "      <td>Nord</td>\n",
       "      <td>italian</td>\n",
       "      <td>2021</td>\n",
       "      <td>7.227654</td>\n",
       "      <td>2.975011</td>\n",
       "      <td>5.087200</td>\n",
       "      <td>4.995005</td>\n",
       "      <td>54.163318</td>\n",
       "      <td>85.553606</td>\n",
       "      <td>69.213628</td>\n",
       "      <td>74.061972</td>\n",
       "    </tr>\n",
       "    <tr>\n",
       "      <th>29</th>\n",
       "      <td>Nord</td>\n",
       "      <td>italian</td>\n",
       "      <td>2022</td>\n",
       "      <td>6.388568</td>\n",
       "      <td>2.391241</td>\n",
       "      <td>4.355185</td>\n",
       "      <td>4.254452</td>\n",
       "      <td>54.849589</td>\n",
       "      <td>86.307408</td>\n",
       "      <td>70.253738</td>\n",
       "      <td>75.355582</td>\n",
       "    </tr>\n",
       "    <tr>\n",
       "      <th>30</th>\n",
       "      <td>Nord-est</td>\n",
       "      <td>foreign</td>\n",
       "      <td>2018</td>\n",
       "      <td>15.381984</td>\n",
       "      <td>9.819867</td>\n",
       "      <td>13.479952</td>\n",
       "      <td>12.619294</td>\n",
       "      <td>67.473834</td>\n",
       "      <td>76.487557</td>\n",
       "      <td>73.376928</td>\n",
       "      <td>79.708734</td>\n",
       "    </tr>\n",
       "    <tr>\n",
       "      <th>31</th>\n",
       "      <td>Nord-est</td>\n",
       "      <td>foreign</td>\n",
       "      <td>2019</td>\n",
       "      <td>14.406747</td>\n",
       "      <td>10.068177</td>\n",
       "      <td>12.455572</td>\n",
       "      <td>11.210479</td>\n",
       "      <td>67.704574</td>\n",
       "      <td>76.943319</td>\n",
       "      <td>73.719380</td>\n",
       "      <td>79.938751</td>\n",
       "    </tr>\n",
       "    <tr>\n",
       "      <th>32</th>\n",
       "      <td>Nord-est</td>\n",
       "      <td>foreign</td>\n",
       "      <td>2020</td>\n",
       "      <td>12.020518</td>\n",
       "      <td>11.987181</td>\n",
       "      <td>11.897270</td>\n",
       "      <td>11.754628</td>\n",
       "      <td>62.688161</td>\n",
       "      <td>75.437066</td>\n",
       "      <td>70.304117</td>\n",
       "      <td>77.875076</td>\n",
       "    </tr>\n",
       "    <tr>\n",
       "      <th>33</th>\n",
       "      <td>Nord-est</td>\n",
       "      <td>foreign</td>\n",
       "      <td>2021</td>\n",
       "      <td>11.021124</td>\n",
       "      <td>9.334388</td>\n",
       "      <td>10.495161</td>\n",
       "      <td>10.315790</td>\n",
       "      <td>63.913195</td>\n",
       "      <td>77.036717</td>\n",
       "      <td>71.090152</td>\n",
       "      <td>77.882568</td>\n",
       "    </tr>\n",
       "    <tr>\n",
       "      <th>34</th>\n",
       "      <td>Nord-est</td>\n",
       "      <td>foreign</td>\n",
       "      <td>2022</td>\n",
       "      <td>10.030182</td>\n",
       "      <td>6.208408</td>\n",
       "      <td>8.828886</td>\n",
       "      <td>8.471354</td>\n",
       "      <td>65.197743</td>\n",
       "      <td>78.276261</td>\n",
       "      <td>71.938108</td>\n",
       "      <td>77.516503</td>\n",
       "    </tr>\n",
       "    <tr>\n",
       "      <th>35</th>\n",
       "      <td>Nord-est</td>\n",
       "      <td>italian</td>\n",
       "      <td>2018</td>\n",
       "      <td>6.678413</td>\n",
       "      <td>3.139968</td>\n",
       "      <td>4.941271</td>\n",
       "      <td>4.849491</td>\n",
       "      <td>55.556846</td>\n",
       "      <td>85.724218</td>\n",
       "      <td>70.800658</td>\n",
       "      <td>76.656790</td>\n",
       "    </tr>\n",
       "    <tr>\n",
       "      <th>36</th>\n",
       "      <td>Nord-est</td>\n",
       "      <td>italian</td>\n",
       "      <td>2019</td>\n",
       "      <td>6.202183</td>\n",
       "      <td>3.248361</td>\n",
       "      <td>4.454879</td>\n",
       "      <td>4.127024</td>\n",
       "      <td>55.295821</td>\n",
       "      <td>85.436213</td>\n",
       "      <td>71.252621</td>\n",
       "      <td>77.447567</td>\n",
       "    </tr>\n",
       "    <tr>\n",
       "      <th>37</th>\n",
       "      <td>Nord-est</td>\n",
       "      <td>italian</td>\n",
       "      <td>2020</td>\n",
       "      <td>6.316249</td>\n",
       "      <td>3.260684</td>\n",
       "      <td>4.876395</td>\n",
       "      <td>4.927196</td>\n",
       "      <td>54.445613</td>\n",
       "      <td>83.740433</td>\n",
       "      <td>69.573899</td>\n",
       "      <td>74.922599</td>\n",
       "    </tr>\n",
       "    <tr>\n",
       "      <th>38</th>\n",
       "      <td>Nord-est</td>\n",
       "      <td>italian</td>\n",
       "      <td>2021</td>\n",
       "      <td>6.397210</td>\n",
       "      <td>2.777307</td>\n",
       "      <td>4.529554</td>\n",
       "      <td>4.436290</td>\n",
       "      <td>54.174218</td>\n",
       "      <td>85.298496</td>\n",
       "      <td>69.505691</td>\n",
       "      <td>74.410024</td>\n",
       "    </tr>\n",
       "    <tr>\n",
       "      <th>39</th>\n",
       "      <td>Nord-est</td>\n",
       "      <td>italian</td>\n",
       "      <td>2022</td>\n",
       "      <td>5.598281</td>\n",
       "      <td>2.209158</td>\n",
       "      <td>3.837501</td>\n",
       "      <td>3.730644</td>\n",
       "      <td>55.003484</td>\n",
       "      <td>86.232490</td>\n",
       "      <td>70.747591</td>\n",
       "      <td>76.074892</td>\n",
       "    </tr>\n",
       "    <tr>\n",
       "      <th>40</th>\n",
       "      <td>Nord-ovest</td>\n",
       "      <td>foreign</td>\n",
       "      <td>2018</td>\n",
       "      <td>13.942550</td>\n",
       "      <td>8.657254</td>\n",
       "      <td>12.883018</td>\n",
       "      <td>12.920238</td>\n",
       "      <td>68.802661</td>\n",
       "      <td>76.827490</td>\n",
       "      <td>72.617672</td>\n",
       "      <td>77.313317</td>\n",
       "    </tr>\n",
       "    <tr>\n",
       "      <th>41</th>\n",
       "      <td>Nord-ovest</td>\n",
       "      <td>foreign</td>\n",
       "      <td>2019</td>\n",
       "      <td>12.974600</td>\n",
       "      <td>10.642936</td>\n",
       "      <td>12.051909</td>\n",
       "      <td>11.175751</td>\n",
       "      <td>68.601709</td>\n",
       "      <td>76.536952</td>\n",
       "      <td>72.306542</td>\n",
       "      <td>77.109207</td>\n",
       "    </tr>\n",
       "    <tr>\n",
       "      <th>42</th>\n",
       "      <td>Nord-ovest</td>\n",
       "      <td>foreign</td>\n",
       "      <td>2020</td>\n",
       "      <td>12.277353</td>\n",
       "      <td>9.928720</td>\n",
       "      <td>12.096275</td>\n",
       "      <td>12.508222</td>\n",
       "      <td>61.716206</td>\n",
       "      <td>68.043631</td>\n",
       "      <td>65.711014</td>\n",
       "      <td>72.239657</td>\n",
       "    </tr>\n",
       "    <tr>\n",
       "      <th>43</th>\n",
       "      <td>Nord-ovest</td>\n",
       "      <td>foreign</td>\n",
       "      <td>2021</td>\n",
       "      <td>13.224713</td>\n",
       "      <td>12.471011</td>\n",
       "      <td>13.596371</td>\n",
       "      <td>14.408137</td>\n",
       "      <td>65.327416</td>\n",
       "      <td>72.853186</td>\n",
       "      <td>69.474620</td>\n",
       "      <td>74.893586</td>\n",
       "    </tr>\n",
       "    <tr>\n",
       "      <th>44</th>\n",
       "      <td>Nord-ovest</td>\n",
       "      <td>foreign</td>\n",
       "      <td>2022</td>\n",
       "      <td>10.672936</td>\n",
       "      <td>10.163093</td>\n",
       "      <td>10.498555</td>\n",
       "      <td>10.377461</td>\n",
       "      <td>66.026004</td>\n",
       "      <td>75.131896</td>\n",
       "      <td>70.651191</td>\n",
       "      <td>76.266436</td>\n",
       "    </tr>\n",
       "    <tr>\n",
       "      <th>45</th>\n",
       "      <td>Nord-ovest</td>\n",
       "      <td>italian</td>\n",
       "      <td>2018</td>\n",
       "      <td>8.359876</td>\n",
       "      <td>3.474170</td>\n",
       "      <td>6.087053</td>\n",
       "      <td>6.088359</td>\n",
       "      <td>55.156700</td>\n",
       "      <td>86.439320</td>\n",
       "      <td>69.985466</td>\n",
       "      <td>75.260497</td>\n",
       "    </tr>\n",
       "    <tr>\n",
       "      <th>46</th>\n",
       "      <td>Nord-ovest</td>\n",
       "      <td>italian</td>\n",
       "      <td>2019</td>\n",
       "      <td>8.479393</td>\n",
       "      <td>2.987756</td>\n",
       "      <td>5.700288</td>\n",
       "      <td>5.468788</td>\n",
       "      <td>55.998608</td>\n",
       "      <td>86.256693</td>\n",
       "      <td>70.256830</td>\n",
       "      <td>74.955011</td>\n",
       "    </tr>\n",
       "    <tr>\n",
       "      <th>47</th>\n",
       "      <td>Nord-ovest</td>\n",
       "      <td>italian</td>\n",
       "      <td>2020</td>\n",
       "      <td>7.408154</td>\n",
       "      <td>3.197198</td>\n",
       "      <td>5.328483</td>\n",
       "      <td>5.268204</td>\n",
       "      <td>53.640038</td>\n",
       "      <td>84.664571</td>\n",
       "      <td>68.419710</td>\n",
       "      <td>73.171798</td>\n",
       "    </tr>\n",
       "    <tr>\n",
       "      <th>48</th>\n",
       "      <td>Nord-ovest</td>\n",
       "      <td>italian</td>\n",
       "      <td>2021</td>\n",
       "      <td>7.805801</td>\n",
       "      <td>3.120391</td>\n",
       "      <td>5.497647</td>\n",
       "      <td>5.419123</td>\n",
       "      <td>54.156985</td>\n",
       "      <td>85.742349</td>\n",
       "      <td>69.000339</td>\n",
       "      <td>73.800469</td>\n",
       "    </tr>\n",
       "    <tr>\n",
       "      <th>49</th>\n",
       "      <td>Nord-ovest</td>\n",
       "      <td>italian</td>\n",
       "      <td>2022</td>\n",
       "      <td>6.945924</td>\n",
       "      <td>2.522901</td>\n",
       "      <td>4.736643</td>\n",
       "      <td>4.653365</td>\n",
       "      <td>54.741921</td>\n",
       "      <td>86.361940</td>\n",
       "      <td>69.894383</td>\n",
       "      <td>74.817090</td>\n",
       "    </tr>\n",
       "  </tbody>\n",
       "</table>\n",
       "</div>"
      ],
      "text/plain": [
       "      Territory Citizenship  Year  UNEMP_ED_1  UNEMP_ED_3    total_x  \\\n",
       "0    Centro (I)     foreign  2018   15.155627   10.804081  14.453227   \n",
       "1    Centro (I)     foreign  2019   13.568437   11.434287  14.846058   \n",
       "2    Centro (I)     foreign  2020   13.153746    8.624535  12.778525   \n",
       "3    Centro (I)     foreign  2021   13.241853   18.102600  15.194500   \n",
       "4    Centro (I)     foreign  2022   12.723967   12.505329  12.980380   \n",
       "5    Centro (I)     italian  2018   11.356605    4.986898   8.676383   \n",
       "6    Centro (I)     italian  2019    9.827092    5.102061   7.718597   \n",
       "7    Centro (I)     italian  2020   10.372889    5.024784   7.629936   \n",
       "8    Centro (I)     italian  2021   11.100709    4.150024   7.694963   \n",
       "9    Centro (I)     italian  2022    8.462975    3.369947   6.059123   \n",
       "10  Mezzogiorno     foreign  2018   15.570274   17.189990  16.046920   \n",
       "11  Mezzogiorno     foreign  2019   16.924579   16.836758  17.526526   \n",
       "12  Mezzogiorno     foreign  2020   19.020709   17.950487  18.871393   \n",
       "13  Mezzogiorno     foreign  2021   20.928654   19.874336  20.808093   \n",
       "14  Mezzogiorno     foreign  2022   19.000206   17.563798  18.971048   \n",
       "15  Mezzogiorno     italian  2018   24.215728   11.038761  18.566454   \n",
       "16  Mezzogiorno     italian  2019   23.170330   10.296681  17.661179   \n",
       "17  Mezzogiorno     italian  2020   21.780618    9.218436  16.074188   \n",
       "18  Mezzogiorno     italian  2021   21.733578    8.411085  16.175574   \n",
       "19  Mezzogiorno     italian  2022   19.364638    6.812687  14.076778   \n",
       "20         Nord     foreign  2018   14.491531    9.137413  13.131091   \n",
       "21         Nord     foreign  2019   13.519575   10.391808  12.223271   \n",
       "22         Nord     foreign  2020   12.179855   10.897149  12.009307   \n",
       "23         Nord     foreign  2021   12.367512   11.026852  12.264354   \n",
       "24         Nord     foreign  2022   10.421102    8.387245   9.768999   \n",
       "25         Nord     italian  2018    7.663050    3.335926   5.599697   \n",
       "26         Nord     italian  2019    7.548570    3.097107   5.170383   \n",
       "27         Nord     italian  2020    6.954854    3.224007   5.135753   \n",
       "28         Nord     italian  2021    7.227654    2.975011   5.087200   \n",
       "29         Nord     italian  2022    6.388568    2.391241   4.355185   \n",
       "30     Nord-est     foreign  2018   15.381984    9.819867  13.479952   \n",
       "31     Nord-est     foreign  2019   14.406747   10.068177  12.455572   \n",
       "32     Nord-est     foreign  2020   12.020518   11.987181  11.897270   \n",
       "33     Nord-est     foreign  2021   11.021124    9.334388  10.495161   \n",
       "34     Nord-est     foreign  2022   10.030182    6.208408   8.828886   \n",
       "35     Nord-est     italian  2018    6.678413    3.139968   4.941271   \n",
       "36     Nord-est     italian  2019    6.202183    3.248361   4.454879   \n",
       "37     Nord-est     italian  2020    6.316249    3.260684   4.876395   \n",
       "38     Nord-est     italian  2021    6.397210    2.777307   4.529554   \n",
       "39     Nord-est     italian  2022    5.598281    2.209158   3.837501   \n",
       "40   Nord-ovest     foreign  2018   13.942550    8.657254  12.883018   \n",
       "41   Nord-ovest     foreign  2019   12.974600   10.642936  12.051909   \n",
       "42   Nord-ovest     foreign  2020   12.277353    9.928720  12.096275   \n",
       "43   Nord-ovest     foreign  2021   13.224713   12.471011  13.596371   \n",
       "44   Nord-ovest     foreign  2022   10.672936   10.163093  10.498555   \n",
       "45   Nord-ovest     italian  2018    8.359876    3.474170   6.087053   \n",
       "46   Nord-ovest     italian  2019    8.479393    2.987756   5.700288   \n",
       "47   Nord-ovest     italian  2020    7.408154    3.197198   5.328483   \n",
       "48   Nord-ovest     italian  2021    7.805801    3.120391   5.497647   \n",
       "49   Nord-ovest     italian  2022    6.945924    2.522901   4.736643   \n",
       "\n",
       "    UNEMP_ED_2   ACT_ED_1   ACT_ED_3    total_y   ACT_ED_2  \n",
       "0    14.836710  70.985618  77.124190  73.572533  75.708602  \n",
       "1    17.514611  70.615605  75.937080  73.539525  76.776958  \n",
       "2    13.542032  66.399470  68.671068  68.004095  70.110227  \n",
       "3    16.586291  66.442788  71.376057  69.614376  73.098578  \n",
       "4    13.377200  68.150298  74.444015  70.789589  72.925446  \n",
       "5     9.377720  52.889158  83.546888  67.794273  71.418533  \n",
       "6     8.193194  52.150330  83.869037  67.642946  71.001206  \n",
       "7     7.821124  49.991570  82.418189  66.140077  69.852723  \n",
       "8     8.114135  50.522212  83.899395  66.848048  70.399843  \n",
       "9     6.500167  51.609045  83.923159  67.995490  71.828835  \n",
       "10   16.964263  66.097724  71.544665  66.715357  67.187872  \n",
       "11   19.247073  66.055395  65.841146  65.247186  63.178155  \n",
       "12   18.689590  61.716367  55.005406  59.997375  57.003637  \n",
       "13   20.727722  63.320470  58.843586  61.888849  59.350414  \n",
       "14   19.229423  63.442347  60.235821  62.571852  61.264202  \n",
       "15   17.254204  41.577883  74.639067  53.233826  59.857702  \n",
       "16   16.685488  40.642789  75.097647  53.163171  60.145473  \n",
       "17   14.901700  38.809179  74.371937  51.099076  57.092398  \n",
       "18   15.629899  39.703686  75.412764  52.383436  58.786052  \n",
       "19   13.592164  40.331041  75.942163  53.174318  59.487311  \n",
       "20   12.781869  68.289759  76.686424  72.931198  78.395477  \n",
       "21   11.192228  68.257518  76.713407  72.899590  78.430684  \n",
       "22   12.133324  62.080906  71.332343  67.639693  74.937094  \n",
       "23   12.495783  64.769660  74.721646  70.159186  76.261093  \n",
       "24    9.457004  65.698128  76.511609  71.207475  76.864817  \n",
       "25    5.546833  55.320980  86.141796  70.329751  75.863703  \n",
       "26    4.881866  55.708748  85.910280  70.676994  76.024817  \n",
       "27    5.120106  53.970334  84.271635  68.906944  73.921695  \n",
       "28    4.995005  54.163318  85.553606  69.213628  74.061972  \n",
       "29    4.254452  54.849589  86.307408  70.253738  75.355582  \n",
       "30   12.619294  67.473834  76.487557  73.376928  79.708734  \n",
       "31   11.210479  67.704574  76.943319  73.719380  79.938751  \n",
       "32   11.754628  62.688161  75.437066  70.304117  77.875076  \n",
       "33   10.315790  63.913195  77.036717  71.090152  77.882568  \n",
       "34    8.471354  65.197743  78.276261  71.938108  77.516503  \n",
       "35    4.849491  55.556846  85.724218  70.800658  76.656790  \n",
       "36    4.127024  55.295821  85.436213  71.252621  77.447567  \n",
       "37    4.927196  54.445613  83.740433  69.573899  74.922599  \n",
       "38    4.436290  54.174218  85.298496  69.505691  74.410024  \n",
       "39    3.730644  55.003484  86.232490  70.747591  76.074892  \n",
       "40   12.920238  68.802661  76.827490  72.617672  77.313317  \n",
       "41   11.175751  68.601709  76.536952  72.306542  77.109207  \n",
       "42   12.508222  61.716206  68.043631  65.711014  72.239657  \n",
       "43   14.408137  65.327416  72.853186  69.474620  74.893586  \n",
       "44   10.377461  66.026004  75.131896  70.651191  76.266436  \n",
       "45    6.088359  55.156700  86.439320  69.985466  75.260497  \n",
       "46    5.468788  55.998608  86.256693  70.256830  74.955011  \n",
       "47    5.268204  53.640038  84.664571  68.419710  73.171798  \n",
       "48    5.419123  54.156985  85.742349  69.000339  73.800469  \n",
       "49    4.653365  54.741921  86.361940  69.894383  74.817090  "
      ]
     },
     "execution_count": 21,
     "metadata": {},
     "output_type": "execute_result"
    }
   ],
   "source": [
    "DF5"
   ]
  },
  {
   "cell_type": "code",
   "execution_count": 22,
   "id": "bff83197",
   "metadata": {},
   "outputs": [],
   "source": [
    "#creating a pivot table to have the information of the educational leval in other columns and not rows\n",
    "final_mashup = DF5.pivot_table(index=['Year', 'Territory'], columns='Citizenship').reset_index()"
   ]
  },
  {
   "cell_type": "code",
   "execution_count": 23,
   "id": "bf8a8fc6",
   "metadata": {},
   "outputs": [
    {
     "data": {
      "text/html": [
       "<div>\n",
       "<style scoped>\n",
       "    .dataframe tbody tr th:only-of-type {\n",
       "        vertical-align: middle;\n",
       "    }\n",
       "\n",
       "    .dataframe tbody tr th {\n",
       "        vertical-align: top;\n",
       "    }\n",
       "\n",
       "    .dataframe thead tr th {\n",
       "        text-align: left;\n",
       "    }\n",
       "</style>\n",
       "<table border=\"1\" class=\"dataframe\">\n",
       "  <thead>\n",
       "    <tr>\n",
       "      <th></th>\n",
       "      <th>Year</th>\n",
       "      <th>Territory</th>\n",
       "      <th colspan=\"2\" halign=\"left\">ACT_ED_1</th>\n",
       "      <th colspan=\"2\" halign=\"left\">ACT_ED_2</th>\n",
       "      <th colspan=\"2\" halign=\"left\">ACT_ED_3</th>\n",
       "      <th colspan=\"2\" halign=\"left\">UNEMP_ED_1</th>\n",
       "      <th colspan=\"2\" halign=\"left\">UNEMP_ED_2</th>\n",
       "      <th colspan=\"2\" halign=\"left\">UNEMP_ED_3</th>\n",
       "      <th colspan=\"2\" halign=\"left\">total_x</th>\n",
       "      <th colspan=\"2\" halign=\"left\">total_y</th>\n",
       "    </tr>\n",
       "    <tr>\n",
       "      <th>Citizenship</th>\n",
       "      <th></th>\n",
       "      <th></th>\n",
       "      <th>foreign</th>\n",
       "      <th>italian</th>\n",
       "      <th>foreign</th>\n",
       "      <th>italian</th>\n",
       "      <th>foreign</th>\n",
       "      <th>italian</th>\n",
       "      <th>foreign</th>\n",
       "      <th>italian</th>\n",
       "      <th>foreign</th>\n",
       "      <th>italian</th>\n",
       "      <th>foreign</th>\n",
       "      <th>italian</th>\n",
       "      <th>foreign</th>\n",
       "      <th>italian</th>\n",
       "      <th>foreign</th>\n",
       "      <th>italian</th>\n",
       "    </tr>\n",
       "  </thead>\n",
       "  <tbody>\n",
       "    <tr>\n",
       "      <th>0</th>\n",
       "      <td>2018</td>\n",
       "      <td>Centro (I)</td>\n",
       "      <td>70.985618</td>\n",
       "      <td>52.889158</td>\n",
       "      <td>75.708602</td>\n",
       "      <td>71.418533</td>\n",
       "      <td>77.124190</td>\n",
       "      <td>83.546888</td>\n",
       "      <td>15.155627</td>\n",
       "      <td>11.356605</td>\n",
       "      <td>14.836710</td>\n",
       "      <td>9.377720</td>\n",
       "      <td>10.804081</td>\n",
       "      <td>4.986898</td>\n",
       "      <td>14.453227</td>\n",
       "      <td>8.676383</td>\n",
       "      <td>73.572533</td>\n",
       "      <td>67.794273</td>\n",
       "    </tr>\n",
       "    <tr>\n",
       "      <th>1</th>\n",
       "      <td>2018</td>\n",
       "      <td>Mezzogiorno</td>\n",
       "      <td>66.097724</td>\n",
       "      <td>41.577883</td>\n",
       "      <td>67.187872</td>\n",
       "      <td>59.857702</td>\n",
       "      <td>71.544665</td>\n",
       "      <td>74.639067</td>\n",
       "      <td>15.570274</td>\n",
       "      <td>24.215728</td>\n",
       "      <td>16.964263</td>\n",
       "      <td>17.254204</td>\n",
       "      <td>17.189990</td>\n",
       "      <td>11.038761</td>\n",
       "      <td>16.046920</td>\n",
       "      <td>18.566454</td>\n",
       "      <td>66.715357</td>\n",
       "      <td>53.233826</td>\n",
       "    </tr>\n",
       "    <tr>\n",
       "      <th>2</th>\n",
       "      <td>2018</td>\n",
       "      <td>Nord</td>\n",
       "      <td>68.289759</td>\n",
       "      <td>55.320980</td>\n",
       "      <td>78.395477</td>\n",
       "      <td>75.863703</td>\n",
       "      <td>76.686424</td>\n",
       "      <td>86.141796</td>\n",
       "      <td>14.491531</td>\n",
       "      <td>7.663050</td>\n",
       "      <td>12.781869</td>\n",
       "      <td>5.546833</td>\n",
       "      <td>9.137413</td>\n",
       "      <td>3.335926</td>\n",
       "      <td>13.131091</td>\n",
       "      <td>5.599697</td>\n",
       "      <td>72.931198</td>\n",
       "      <td>70.329751</td>\n",
       "    </tr>\n",
       "    <tr>\n",
       "      <th>3</th>\n",
       "      <td>2018</td>\n",
       "      <td>Nord-est</td>\n",
       "      <td>67.473834</td>\n",
       "      <td>55.556846</td>\n",
       "      <td>79.708734</td>\n",
       "      <td>76.656790</td>\n",
       "      <td>76.487557</td>\n",
       "      <td>85.724218</td>\n",
       "      <td>15.381984</td>\n",
       "      <td>6.678413</td>\n",
       "      <td>12.619294</td>\n",
       "      <td>4.849491</td>\n",
       "      <td>9.819867</td>\n",
       "      <td>3.139968</td>\n",
       "      <td>13.479952</td>\n",
       "      <td>4.941271</td>\n",
       "      <td>73.376928</td>\n",
       "      <td>70.800658</td>\n",
       "    </tr>\n",
       "    <tr>\n",
       "      <th>4</th>\n",
       "      <td>2018</td>\n",
       "      <td>Nord-ovest</td>\n",
       "      <td>68.802661</td>\n",
       "      <td>55.156700</td>\n",
       "      <td>77.313317</td>\n",
       "      <td>75.260497</td>\n",
       "      <td>76.827490</td>\n",
       "      <td>86.439320</td>\n",
       "      <td>13.942550</td>\n",
       "      <td>8.359876</td>\n",
       "      <td>12.920238</td>\n",
       "      <td>6.088359</td>\n",
       "      <td>8.657254</td>\n",
       "      <td>3.474170</td>\n",
       "      <td>12.883018</td>\n",
       "      <td>6.087053</td>\n",
       "      <td>72.617672</td>\n",
       "      <td>69.985466</td>\n",
       "    </tr>\n",
       "    <tr>\n",
       "      <th>5</th>\n",
       "      <td>2019</td>\n",
       "      <td>Centro (I)</td>\n",
       "      <td>70.615605</td>\n",
       "      <td>52.150330</td>\n",
       "      <td>76.776958</td>\n",
       "      <td>71.001206</td>\n",
       "      <td>75.937080</td>\n",
       "      <td>83.869037</td>\n",
       "      <td>13.568437</td>\n",
       "      <td>9.827092</td>\n",
       "      <td>17.514611</td>\n",
       "      <td>8.193194</td>\n",
       "      <td>11.434287</td>\n",
       "      <td>5.102061</td>\n",
       "      <td>14.846058</td>\n",
       "      <td>7.718597</td>\n",
       "      <td>73.539525</td>\n",
       "      <td>67.642946</td>\n",
       "    </tr>\n",
       "    <tr>\n",
       "      <th>6</th>\n",
       "      <td>2019</td>\n",
       "      <td>Mezzogiorno</td>\n",
       "      <td>66.055395</td>\n",
       "      <td>40.642789</td>\n",
       "      <td>63.178155</td>\n",
       "      <td>60.145473</td>\n",
       "      <td>65.841146</td>\n",
       "      <td>75.097647</td>\n",
       "      <td>16.924579</td>\n",
       "      <td>23.170330</td>\n",
       "      <td>19.247073</td>\n",
       "      <td>16.685488</td>\n",
       "      <td>16.836758</td>\n",
       "      <td>10.296681</td>\n",
       "      <td>17.526526</td>\n",
       "      <td>17.661179</td>\n",
       "      <td>65.247186</td>\n",
       "      <td>53.163171</td>\n",
       "    </tr>\n",
       "    <tr>\n",
       "      <th>7</th>\n",
       "      <td>2019</td>\n",
       "      <td>Nord</td>\n",
       "      <td>68.257518</td>\n",
       "      <td>55.708748</td>\n",
       "      <td>78.430684</td>\n",
       "      <td>76.024817</td>\n",
       "      <td>76.713407</td>\n",
       "      <td>85.910280</td>\n",
       "      <td>13.519575</td>\n",
       "      <td>7.548570</td>\n",
       "      <td>11.192228</td>\n",
       "      <td>4.881866</td>\n",
       "      <td>10.391808</td>\n",
       "      <td>3.097107</td>\n",
       "      <td>12.223271</td>\n",
       "      <td>5.170383</td>\n",
       "      <td>72.899590</td>\n",
       "      <td>70.676994</td>\n",
       "    </tr>\n",
       "    <tr>\n",
       "      <th>8</th>\n",
       "      <td>2019</td>\n",
       "      <td>Nord-est</td>\n",
       "      <td>67.704574</td>\n",
       "      <td>55.295821</td>\n",
       "      <td>79.938751</td>\n",
       "      <td>77.447567</td>\n",
       "      <td>76.943319</td>\n",
       "      <td>85.436213</td>\n",
       "      <td>14.406747</td>\n",
       "      <td>6.202183</td>\n",
       "      <td>11.210479</td>\n",
       "      <td>4.127024</td>\n",
       "      <td>10.068177</td>\n",
       "      <td>3.248361</td>\n",
       "      <td>12.455572</td>\n",
       "      <td>4.454879</td>\n",
       "      <td>73.719380</td>\n",
       "      <td>71.252621</td>\n",
       "    </tr>\n",
       "    <tr>\n",
       "      <th>9</th>\n",
       "      <td>2019</td>\n",
       "      <td>Nord-ovest</td>\n",
       "      <td>68.601709</td>\n",
       "      <td>55.998608</td>\n",
       "      <td>77.109207</td>\n",
       "      <td>74.955011</td>\n",
       "      <td>76.536952</td>\n",
       "      <td>86.256693</td>\n",
       "      <td>12.974600</td>\n",
       "      <td>8.479393</td>\n",
       "      <td>11.175751</td>\n",
       "      <td>5.468788</td>\n",
       "      <td>10.642936</td>\n",
       "      <td>2.987756</td>\n",
       "      <td>12.051909</td>\n",
       "      <td>5.700288</td>\n",
       "      <td>72.306542</td>\n",
       "      <td>70.256830</td>\n",
       "    </tr>\n",
       "    <tr>\n",
       "      <th>10</th>\n",
       "      <td>2020</td>\n",
       "      <td>Centro (I)</td>\n",
       "      <td>66.399470</td>\n",
       "      <td>49.991570</td>\n",
       "      <td>70.110227</td>\n",
       "      <td>69.852723</td>\n",
       "      <td>68.671068</td>\n",
       "      <td>82.418189</td>\n",
       "      <td>13.153746</td>\n",
       "      <td>10.372889</td>\n",
       "      <td>13.542032</td>\n",
       "      <td>7.821124</td>\n",
       "      <td>8.624535</td>\n",
       "      <td>5.024784</td>\n",
       "      <td>12.778525</td>\n",
       "      <td>7.629936</td>\n",
       "      <td>68.004095</td>\n",
       "      <td>66.140077</td>\n",
       "    </tr>\n",
       "    <tr>\n",
       "      <th>11</th>\n",
       "      <td>2020</td>\n",
       "      <td>Mezzogiorno</td>\n",
       "      <td>61.716367</td>\n",
       "      <td>38.809179</td>\n",
       "      <td>57.003637</td>\n",
       "      <td>57.092398</td>\n",
       "      <td>55.005406</td>\n",
       "      <td>74.371937</td>\n",
       "      <td>19.020709</td>\n",
       "      <td>21.780618</td>\n",
       "      <td>18.689590</td>\n",
       "      <td>14.901700</td>\n",
       "      <td>17.950487</td>\n",
       "      <td>9.218436</td>\n",
       "      <td>18.871393</td>\n",
       "      <td>16.074188</td>\n",
       "      <td>59.997375</td>\n",
       "      <td>51.099076</td>\n",
       "    </tr>\n",
       "    <tr>\n",
       "      <th>12</th>\n",
       "      <td>2020</td>\n",
       "      <td>Nord</td>\n",
       "      <td>62.080906</td>\n",
       "      <td>53.970334</td>\n",
       "      <td>74.937094</td>\n",
       "      <td>73.921695</td>\n",
       "      <td>71.332343</td>\n",
       "      <td>84.271635</td>\n",
       "      <td>12.179855</td>\n",
       "      <td>6.954854</td>\n",
       "      <td>12.133324</td>\n",
       "      <td>5.120106</td>\n",
       "      <td>10.897149</td>\n",
       "      <td>3.224007</td>\n",
       "      <td>12.009307</td>\n",
       "      <td>5.135753</td>\n",
       "      <td>67.639693</td>\n",
       "      <td>68.906944</td>\n",
       "    </tr>\n",
       "    <tr>\n",
       "      <th>13</th>\n",
       "      <td>2020</td>\n",
       "      <td>Nord-est</td>\n",
       "      <td>62.688161</td>\n",
       "      <td>54.445613</td>\n",
       "      <td>77.875076</td>\n",
       "      <td>74.922599</td>\n",
       "      <td>75.437066</td>\n",
       "      <td>83.740433</td>\n",
       "      <td>12.020518</td>\n",
       "      <td>6.316249</td>\n",
       "      <td>11.754628</td>\n",
       "      <td>4.927196</td>\n",
       "      <td>11.987181</td>\n",
       "      <td>3.260684</td>\n",
       "      <td>11.897270</td>\n",
       "      <td>4.876395</td>\n",
       "      <td>70.304117</td>\n",
       "      <td>69.573899</td>\n",
       "    </tr>\n",
       "    <tr>\n",
       "      <th>14</th>\n",
       "      <td>2020</td>\n",
       "      <td>Nord-ovest</td>\n",
       "      <td>61.716206</td>\n",
       "      <td>53.640038</td>\n",
       "      <td>72.239657</td>\n",
       "      <td>73.171798</td>\n",
       "      <td>68.043631</td>\n",
       "      <td>84.664571</td>\n",
       "      <td>12.277353</td>\n",
       "      <td>7.408154</td>\n",
       "      <td>12.508222</td>\n",
       "      <td>5.268204</td>\n",
       "      <td>9.928720</td>\n",
       "      <td>3.197198</td>\n",
       "      <td>12.096275</td>\n",
       "      <td>5.328483</td>\n",
       "      <td>65.711014</td>\n",
       "      <td>68.419710</td>\n",
       "    </tr>\n",
       "    <tr>\n",
       "      <th>15</th>\n",
       "      <td>2021</td>\n",
       "      <td>Centro (I)</td>\n",
       "      <td>66.442788</td>\n",
       "      <td>50.522212</td>\n",
       "      <td>73.098578</td>\n",
       "      <td>70.399843</td>\n",
       "      <td>71.376057</td>\n",
       "      <td>83.899395</td>\n",
       "      <td>13.241853</td>\n",
       "      <td>11.100709</td>\n",
       "      <td>16.586291</td>\n",
       "      <td>8.114135</td>\n",
       "      <td>18.102600</td>\n",
       "      <td>4.150024</td>\n",
       "      <td>15.194500</td>\n",
       "      <td>7.694963</td>\n",
       "      <td>69.614376</td>\n",
       "      <td>66.848048</td>\n",
       "    </tr>\n",
       "    <tr>\n",
       "      <th>16</th>\n",
       "      <td>2021</td>\n",
       "      <td>Mezzogiorno</td>\n",
       "      <td>63.320470</td>\n",
       "      <td>39.703686</td>\n",
       "      <td>59.350414</td>\n",
       "      <td>58.786052</td>\n",
       "      <td>58.843586</td>\n",
       "      <td>75.412764</td>\n",
       "      <td>20.928654</td>\n",
       "      <td>21.733578</td>\n",
       "      <td>20.727722</td>\n",
       "      <td>15.629899</td>\n",
       "      <td>19.874336</td>\n",
       "      <td>8.411085</td>\n",
       "      <td>20.808093</td>\n",
       "      <td>16.175574</td>\n",
       "      <td>61.888849</td>\n",
       "      <td>52.383436</td>\n",
       "    </tr>\n",
       "    <tr>\n",
       "      <th>17</th>\n",
       "      <td>2021</td>\n",
       "      <td>Nord</td>\n",
       "      <td>64.769660</td>\n",
       "      <td>54.163318</td>\n",
       "      <td>76.261093</td>\n",
       "      <td>74.061972</td>\n",
       "      <td>74.721646</td>\n",
       "      <td>85.553606</td>\n",
       "      <td>12.367512</td>\n",
       "      <td>7.227654</td>\n",
       "      <td>12.495783</td>\n",
       "      <td>4.995005</td>\n",
       "      <td>11.026852</td>\n",
       "      <td>2.975011</td>\n",
       "      <td>12.264354</td>\n",
       "      <td>5.087200</td>\n",
       "      <td>70.159186</td>\n",
       "      <td>69.213628</td>\n",
       "    </tr>\n",
       "    <tr>\n",
       "      <th>18</th>\n",
       "      <td>2021</td>\n",
       "      <td>Nord-est</td>\n",
       "      <td>63.913195</td>\n",
       "      <td>54.174218</td>\n",
       "      <td>77.882568</td>\n",
       "      <td>74.410024</td>\n",
       "      <td>77.036717</td>\n",
       "      <td>85.298496</td>\n",
       "      <td>11.021124</td>\n",
       "      <td>6.397210</td>\n",
       "      <td>10.315790</td>\n",
       "      <td>4.436290</td>\n",
       "      <td>9.334388</td>\n",
       "      <td>2.777307</td>\n",
       "      <td>10.495161</td>\n",
       "      <td>4.529554</td>\n",
       "      <td>71.090152</td>\n",
       "      <td>69.505691</td>\n",
       "    </tr>\n",
       "    <tr>\n",
       "      <th>19</th>\n",
       "      <td>2021</td>\n",
       "      <td>Nord-ovest</td>\n",
       "      <td>65.327416</td>\n",
       "      <td>54.156985</td>\n",
       "      <td>74.893586</td>\n",
       "      <td>73.800469</td>\n",
       "      <td>72.853186</td>\n",
       "      <td>85.742349</td>\n",
       "      <td>13.224713</td>\n",
       "      <td>7.805801</td>\n",
       "      <td>14.408137</td>\n",
       "      <td>5.419123</td>\n",
       "      <td>12.471011</td>\n",
       "      <td>3.120391</td>\n",
       "      <td>13.596371</td>\n",
       "      <td>5.497647</td>\n",
       "      <td>69.474620</td>\n",
       "      <td>69.000339</td>\n",
       "    </tr>\n",
       "    <tr>\n",
       "      <th>20</th>\n",
       "      <td>2022</td>\n",
       "      <td>Centro (I)</td>\n",
       "      <td>68.150298</td>\n",
       "      <td>51.609045</td>\n",
       "      <td>72.925446</td>\n",
       "      <td>71.828835</td>\n",
       "      <td>74.444015</td>\n",
       "      <td>83.923159</td>\n",
       "      <td>12.723967</td>\n",
       "      <td>8.462975</td>\n",
       "      <td>13.377200</td>\n",
       "      <td>6.500167</td>\n",
       "      <td>12.505329</td>\n",
       "      <td>3.369947</td>\n",
       "      <td>12.980380</td>\n",
       "      <td>6.059123</td>\n",
       "      <td>70.789589</td>\n",
       "      <td>67.995490</td>\n",
       "    </tr>\n",
       "    <tr>\n",
       "      <th>21</th>\n",
       "      <td>2022</td>\n",
       "      <td>Mezzogiorno</td>\n",
       "      <td>63.442347</td>\n",
       "      <td>40.331041</td>\n",
       "      <td>61.264202</td>\n",
       "      <td>59.487311</td>\n",
       "      <td>60.235821</td>\n",
       "      <td>75.942163</td>\n",
       "      <td>19.000206</td>\n",
       "      <td>19.364638</td>\n",
       "      <td>19.229423</td>\n",
       "      <td>13.592164</td>\n",
       "      <td>17.563798</td>\n",
       "      <td>6.812687</td>\n",
       "      <td>18.971048</td>\n",
       "      <td>14.076778</td>\n",
       "      <td>62.571852</td>\n",
       "      <td>53.174318</td>\n",
       "    </tr>\n",
       "    <tr>\n",
       "      <th>22</th>\n",
       "      <td>2022</td>\n",
       "      <td>Nord</td>\n",
       "      <td>65.698128</td>\n",
       "      <td>54.849589</td>\n",
       "      <td>76.864817</td>\n",
       "      <td>75.355582</td>\n",
       "      <td>76.511609</td>\n",
       "      <td>86.307408</td>\n",
       "      <td>10.421102</td>\n",
       "      <td>6.388568</td>\n",
       "      <td>9.457004</td>\n",
       "      <td>4.254452</td>\n",
       "      <td>8.387245</td>\n",
       "      <td>2.391241</td>\n",
       "      <td>9.768999</td>\n",
       "      <td>4.355185</td>\n",
       "      <td>71.207475</td>\n",
       "      <td>70.253738</td>\n",
       "    </tr>\n",
       "    <tr>\n",
       "      <th>23</th>\n",
       "      <td>2022</td>\n",
       "      <td>Nord-est</td>\n",
       "      <td>65.197743</td>\n",
       "      <td>55.003484</td>\n",
       "      <td>77.516503</td>\n",
       "      <td>76.074892</td>\n",
       "      <td>78.276261</td>\n",
       "      <td>86.232490</td>\n",
       "      <td>10.030182</td>\n",
       "      <td>5.598281</td>\n",
       "      <td>8.471354</td>\n",
       "      <td>3.730644</td>\n",
       "      <td>6.208408</td>\n",
       "      <td>2.209158</td>\n",
       "      <td>8.828886</td>\n",
       "      <td>3.837501</td>\n",
       "      <td>71.938108</td>\n",
       "      <td>70.747591</td>\n",
       "    </tr>\n",
       "    <tr>\n",
       "      <th>24</th>\n",
       "      <td>2022</td>\n",
       "      <td>Nord-ovest</td>\n",
       "      <td>66.026004</td>\n",
       "      <td>54.741921</td>\n",
       "      <td>76.266436</td>\n",
       "      <td>74.817090</td>\n",
       "      <td>75.131896</td>\n",
       "      <td>86.361940</td>\n",
       "      <td>10.672936</td>\n",
       "      <td>6.945924</td>\n",
       "      <td>10.377461</td>\n",
       "      <td>4.653365</td>\n",
       "      <td>10.163093</td>\n",
       "      <td>2.522901</td>\n",
       "      <td>10.498555</td>\n",
       "      <td>4.736643</td>\n",
       "      <td>70.651191</td>\n",
       "      <td>69.894383</td>\n",
       "    </tr>\n",
       "  </tbody>\n",
       "</table>\n",
       "</div>"
      ],
      "text/plain": [
       "             Year    Territory   ACT_ED_1              ACT_ED_2             \\\n",
       "Citizenship                       foreign    italian    foreign    italian   \n",
       "0            2018   Centro (I)  70.985618  52.889158  75.708602  71.418533   \n",
       "1            2018  Mezzogiorno  66.097724  41.577883  67.187872  59.857702   \n",
       "2            2018         Nord  68.289759  55.320980  78.395477  75.863703   \n",
       "3            2018     Nord-est  67.473834  55.556846  79.708734  76.656790   \n",
       "4            2018   Nord-ovest  68.802661  55.156700  77.313317  75.260497   \n",
       "5            2019   Centro (I)  70.615605  52.150330  76.776958  71.001206   \n",
       "6            2019  Mezzogiorno  66.055395  40.642789  63.178155  60.145473   \n",
       "7            2019         Nord  68.257518  55.708748  78.430684  76.024817   \n",
       "8            2019     Nord-est  67.704574  55.295821  79.938751  77.447567   \n",
       "9            2019   Nord-ovest  68.601709  55.998608  77.109207  74.955011   \n",
       "10           2020   Centro (I)  66.399470  49.991570  70.110227  69.852723   \n",
       "11           2020  Mezzogiorno  61.716367  38.809179  57.003637  57.092398   \n",
       "12           2020         Nord  62.080906  53.970334  74.937094  73.921695   \n",
       "13           2020     Nord-est  62.688161  54.445613  77.875076  74.922599   \n",
       "14           2020   Nord-ovest  61.716206  53.640038  72.239657  73.171798   \n",
       "15           2021   Centro (I)  66.442788  50.522212  73.098578  70.399843   \n",
       "16           2021  Mezzogiorno  63.320470  39.703686  59.350414  58.786052   \n",
       "17           2021         Nord  64.769660  54.163318  76.261093  74.061972   \n",
       "18           2021     Nord-est  63.913195  54.174218  77.882568  74.410024   \n",
       "19           2021   Nord-ovest  65.327416  54.156985  74.893586  73.800469   \n",
       "20           2022   Centro (I)  68.150298  51.609045  72.925446  71.828835   \n",
       "21           2022  Mezzogiorno  63.442347  40.331041  61.264202  59.487311   \n",
       "22           2022         Nord  65.698128  54.849589  76.864817  75.355582   \n",
       "23           2022     Nord-est  65.197743  55.003484  77.516503  76.074892   \n",
       "24           2022   Nord-ovest  66.026004  54.741921  76.266436  74.817090   \n",
       "\n",
       "              ACT_ED_3            UNEMP_ED_1            UNEMP_ED_2             \\\n",
       "Citizenship    foreign    italian    foreign    italian    foreign    italian   \n",
       "0            77.124190  83.546888  15.155627  11.356605  14.836710   9.377720   \n",
       "1            71.544665  74.639067  15.570274  24.215728  16.964263  17.254204   \n",
       "2            76.686424  86.141796  14.491531   7.663050  12.781869   5.546833   \n",
       "3            76.487557  85.724218  15.381984   6.678413  12.619294   4.849491   \n",
       "4            76.827490  86.439320  13.942550   8.359876  12.920238   6.088359   \n",
       "5            75.937080  83.869037  13.568437   9.827092  17.514611   8.193194   \n",
       "6            65.841146  75.097647  16.924579  23.170330  19.247073  16.685488   \n",
       "7            76.713407  85.910280  13.519575   7.548570  11.192228   4.881866   \n",
       "8            76.943319  85.436213  14.406747   6.202183  11.210479   4.127024   \n",
       "9            76.536952  86.256693  12.974600   8.479393  11.175751   5.468788   \n",
       "10           68.671068  82.418189  13.153746  10.372889  13.542032   7.821124   \n",
       "11           55.005406  74.371937  19.020709  21.780618  18.689590  14.901700   \n",
       "12           71.332343  84.271635  12.179855   6.954854  12.133324   5.120106   \n",
       "13           75.437066  83.740433  12.020518   6.316249  11.754628   4.927196   \n",
       "14           68.043631  84.664571  12.277353   7.408154  12.508222   5.268204   \n",
       "15           71.376057  83.899395  13.241853  11.100709  16.586291   8.114135   \n",
       "16           58.843586  75.412764  20.928654  21.733578  20.727722  15.629899   \n",
       "17           74.721646  85.553606  12.367512   7.227654  12.495783   4.995005   \n",
       "18           77.036717  85.298496  11.021124   6.397210  10.315790   4.436290   \n",
       "19           72.853186  85.742349  13.224713   7.805801  14.408137   5.419123   \n",
       "20           74.444015  83.923159  12.723967   8.462975  13.377200   6.500167   \n",
       "21           60.235821  75.942163  19.000206  19.364638  19.229423  13.592164   \n",
       "22           76.511609  86.307408  10.421102   6.388568   9.457004   4.254452   \n",
       "23           78.276261  86.232490  10.030182   5.598281   8.471354   3.730644   \n",
       "24           75.131896  86.361940  10.672936   6.945924  10.377461   4.653365   \n",
       "\n",
       "            UNEMP_ED_3               total_x               total_y             \n",
       "Citizenship    foreign    italian    foreign    italian    foreign    italian  \n",
       "0            10.804081   4.986898  14.453227   8.676383  73.572533  67.794273  \n",
       "1            17.189990  11.038761  16.046920  18.566454  66.715357  53.233826  \n",
       "2             9.137413   3.335926  13.131091   5.599697  72.931198  70.329751  \n",
       "3             9.819867   3.139968  13.479952   4.941271  73.376928  70.800658  \n",
       "4             8.657254   3.474170  12.883018   6.087053  72.617672  69.985466  \n",
       "5            11.434287   5.102061  14.846058   7.718597  73.539525  67.642946  \n",
       "6            16.836758  10.296681  17.526526  17.661179  65.247186  53.163171  \n",
       "7            10.391808   3.097107  12.223271   5.170383  72.899590  70.676994  \n",
       "8            10.068177   3.248361  12.455572   4.454879  73.719380  71.252621  \n",
       "9            10.642936   2.987756  12.051909   5.700288  72.306542  70.256830  \n",
       "10            8.624535   5.024784  12.778525   7.629936  68.004095  66.140077  \n",
       "11           17.950487   9.218436  18.871393  16.074188  59.997375  51.099076  \n",
       "12           10.897149   3.224007  12.009307   5.135753  67.639693  68.906944  \n",
       "13           11.987181   3.260684  11.897270   4.876395  70.304117  69.573899  \n",
       "14            9.928720   3.197198  12.096275   5.328483  65.711014  68.419710  \n",
       "15           18.102600   4.150024  15.194500   7.694963  69.614376  66.848048  \n",
       "16           19.874336   8.411085  20.808093  16.175574  61.888849  52.383436  \n",
       "17           11.026852   2.975011  12.264354   5.087200  70.159186  69.213628  \n",
       "18            9.334388   2.777307  10.495161   4.529554  71.090152  69.505691  \n",
       "19           12.471011   3.120391  13.596371   5.497647  69.474620  69.000339  \n",
       "20           12.505329   3.369947  12.980380   6.059123  70.789589  67.995490  \n",
       "21           17.563798   6.812687  18.971048  14.076778  62.571852  53.174318  \n",
       "22            8.387245   2.391241   9.768999   4.355185  71.207475  70.253738  \n",
       "23            6.208408   2.209158   8.828886   3.837501  71.938108  70.747591  \n",
       "24           10.163093   2.522901  10.498555   4.736643  70.651191  69.894383  "
      ]
     },
     "execution_count": 23,
     "metadata": {},
     "output_type": "execute_result"
    }
   ],
   "source": [
    "final_mashup"
   ]
  },
  {
   "cell_type": "code",
   "execution_count": 24,
   "id": "e37d8767",
   "metadata": {},
   "outputs": [
    {
     "data": {
      "text/html": [
       "<div>\n",
       "<style scoped>\n",
       "    .dataframe tbody tr th:only-of-type {\n",
       "        vertical-align: middle;\n",
       "    }\n",
       "\n",
       "    .dataframe tbody tr th {\n",
       "        vertical-align: top;\n",
       "    }\n",
       "\n",
       "    .dataframe thead tr th {\n",
       "        text-align: left;\n",
       "    }\n",
       "</style>\n",
       "<table border=\"1\" class=\"dataframe\">\n",
       "  <thead>\n",
       "    <tr>\n",
       "      <th></th>\n",
       "      <th colspan=\"2\" halign=\"left\">ACT_ED_1</th>\n",
       "      <th colspan=\"2\" halign=\"left\">ACT_ED_2</th>\n",
       "      <th colspan=\"2\" halign=\"left\">ACT_ED_3</th>\n",
       "      <th colspan=\"2\" halign=\"left\">UNEMP_ED_1</th>\n",
       "      <th colspan=\"2\" halign=\"left\">UNEMP_ED_2</th>\n",
       "      <th colspan=\"2\" halign=\"left\">UNEMP_ED_3</th>\n",
       "      <th colspan=\"2\" halign=\"left\">total_x</th>\n",
       "      <th colspan=\"2\" halign=\"left\">total_y</th>\n",
       "    </tr>\n",
       "    <tr>\n",
       "      <th>Citizenship</th>\n",
       "      <th>foreign</th>\n",
       "      <th>italian</th>\n",
       "      <th>foreign</th>\n",
       "      <th>italian</th>\n",
       "      <th>foreign</th>\n",
       "      <th>italian</th>\n",
       "      <th>foreign</th>\n",
       "      <th>italian</th>\n",
       "      <th>foreign</th>\n",
       "      <th>italian</th>\n",
       "      <th>foreign</th>\n",
       "      <th>italian</th>\n",
       "      <th>foreign</th>\n",
       "      <th>italian</th>\n",
       "      <th>foreign</th>\n",
       "      <th>italian</th>\n",
       "    </tr>\n",
       "  </thead>\n",
       "  <tbody>\n",
       "    <tr>\n",
       "      <th>count</th>\n",
       "      <td>25.000000</td>\n",
       "      <td>25.000000</td>\n",
       "      <td>25.000000</td>\n",
       "      <td>25.000000</td>\n",
       "      <td>25.000000</td>\n",
       "      <td>25.000000</td>\n",
       "      <td>25.000000</td>\n",
       "      <td>25.000000</td>\n",
       "      <td>25.000000</td>\n",
       "      <td>25.000000</td>\n",
       "      <td>25.000000</td>\n",
       "      <td>25.000000</td>\n",
       "      <td>25.000000</td>\n",
       "      <td>25.000000</td>\n",
       "      <td>25.000000</td>\n",
       "      <td>25.000000</td>\n",
       "    </tr>\n",
       "    <tr>\n",
       "      <th>mean</th>\n",
       "      <td>65.990942</td>\n",
       "      <td>51.216404</td>\n",
       "      <td>73.289484</td>\n",
       "      <td>71.064583</td>\n",
       "      <td>72.342502</td>\n",
       "      <td>83.088068</td>\n",
       "      <td>13.928813</td>\n",
       "      <td>10.694374</td>\n",
       "      <td>13.781459</td>\n",
       "      <td>7.673462</td>\n",
       "      <td>12.000308</td>\n",
       "      <td>4.534902</td>\n",
       "      <td>13.606266</td>\n",
       "      <td>7.826844</td>\n",
       "      <td>69.518704</td>\n",
       "      <td>65.931716</td>\n",
       "    </tr>\n",
       "    <tr>\n",
       "      <th>std</th>\n",
       "      <td>2.621997</td>\n",
       "      <td>5.832111</td>\n",
       "      <td>6.574747</td>\n",
       "      <td>6.431047</td>\n",
       "      <td>6.319033</td>\n",
       "      <td>4.223537</td>\n",
       "      <td>2.731966</td>\n",
       "      <td>6.027526</td>\n",
       "      <td>3.350027</td>\n",
       "      <td>4.318262</td>\n",
       "      <td>3.682003</td>\n",
       "      <td>2.559704</td>\n",
       "      <td>2.946764</td>\n",
       "      <td>4.634655</td>\n",
       "      <td>3.895783</td>\n",
       "      <td>6.922151</td>\n",
       "    </tr>\n",
       "    <tr>\n",
       "      <th>min</th>\n",
       "      <td>61.716206</td>\n",
       "      <td>38.809179</td>\n",
       "      <td>57.003637</td>\n",
       "      <td>57.092398</td>\n",
       "      <td>55.005406</td>\n",
       "      <td>74.371937</td>\n",
       "      <td>10.030182</td>\n",
       "      <td>5.598281</td>\n",
       "      <td>8.471354</td>\n",
       "      <td>3.730644</td>\n",
       "      <td>6.208408</td>\n",
       "      <td>2.209158</td>\n",
       "      <td>8.828886</td>\n",
       "      <td>3.837501</td>\n",
       "      <td>59.997375</td>\n",
       "      <td>51.099076</td>\n",
       "    </tr>\n",
       "    <tr>\n",
       "      <th>25%</th>\n",
       "      <td>63.913195</td>\n",
       "      <td>50.522212</td>\n",
       "      <td>72.239657</td>\n",
       "      <td>70.399843</td>\n",
       "      <td>71.332343</td>\n",
       "      <td>83.546888</td>\n",
       "      <td>12.277353</td>\n",
       "      <td>6.945924</td>\n",
       "      <td>11.210479</td>\n",
       "      <td>4.881866</td>\n",
       "      <td>9.819867</td>\n",
       "      <td>3.097107</td>\n",
       "      <td>12.051909</td>\n",
       "      <td>4.941271</td>\n",
       "      <td>67.639693</td>\n",
       "      <td>66.848048</td>\n",
       "    </tr>\n",
       "    <tr>\n",
       "      <th>50%</th>\n",
       "      <td>66.055395</td>\n",
       "      <td>54.156985</td>\n",
       "      <td>76.261093</td>\n",
       "      <td>73.921695</td>\n",
       "      <td>75.131896</td>\n",
       "      <td>84.664571</td>\n",
       "      <td>13.241853</td>\n",
       "      <td>7.805801</td>\n",
       "      <td>12.781869</td>\n",
       "      <td>5.468788</td>\n",
       "      <td>10.804081</td>\n",
       "      <td>3.260684</td>\n",
       "      <td>12.883018</td>\n",
       "      <td>5.599697</td>\n",
       "      <td>70.651191</td>\n",
       "      <td>69.000339</td>\n",
       "    </tr>\n",
       "    <tr>\n",
       "      <th>75%</th>\n",
       "      <td>68.150298</td>\n",
       "      <td>55.003484</td>\n",
       "      <td>77.516503</td>\n",
       "      <td>75.260497</td>\n",
       "      <td>76.686424</td>\n",
       "      <td>85.910280</td>\n",
       "      <td>15.155627</td>\n",
       "      <td>11.100709</td>\n",
       "      <td>16.586291</td>\n",
       "      <td>8.193194</td>\n",
       "      <td>12.505329</td>\n",
       "      <td>5.024784</td>\n",
       "      <td>14.846058</td>\n",
       "      <td>7.718597</td>\n",
       "      <td>72.617672</td>\n",
       "      <td>70.253738</td>\n",
       "    </tr>\n",
       "    <tr>\n",
       "      <th>max</th>\n",
       "      <td>70.985618</td>\n",
       "      <td>55.998608</td>\n",
       "      <td>79.938751</td>\n",
       "      <td>77.447567</td>\n",
       "      <td>78.276261</td>\n",
       "      <td>86.439320</td>\n",
       "      <td>20.928654</td>\n",
       "      <td>24.215728</td>\n",
       "      <td>20.727722</td>\n",
       "      <td>17.254204</td>\n",
       "      <td>19.874336</td>\n",
       "      <td>11.038761</td>\n",
       "      <td>20.808093</td>\n",
       "      <td>18.566454</td>\n",
       "      <td>73.719380</td>\n",
       "      <td>71.252621</td>\n",
       "    </tr>\n",
       "  </tbody>\n",
       "</table>\n",
       "</div>"
      ],
      "text/plain": [
       "              ACT_ED_1              ACT_ED_2              ACT_ED_3             \\\n",
       "Citizenship    foreign    italian    foreign    italian    foreign    italian   \n",
       "count        25.000000  25.000000  25.000000  25.000000  25.000000  25.000000   \n",
       "mean         65.990942  51.216404  73.289484  71.064583  72.342502  83.088068   \n",
       "std           2.621997   5.832111   6.574747   6.431047   6.319033   4.223537   \n",
       "min          61.716206  38.809179  57.003637  57.092398  55.005406  74.371937   \n",
       "25%          63.913195  50.522212  72.239657  70.399843  71.332343  83.546888   \n",
       "50%          66.055395  54.156985  76.261093  73.921695  75.131896  84.664571   \n",
       "75%          68.150298  55.003484  77.516503  75.260497  76.686424  85.910280   \n",
       "max          70.985618  55.998608  79.938751  77.447567  78.276261  86.439320   \n",
       "\n",
       "            UNEMP_ED_1            UNEMP_ED_2            UNEMP_ED_3             \\\n",
       "Citizenship    foreign    italian    foreign    italian    foreign    italian   \n",
       "count        25.000000  25.000000  25.000000  25.000000  25.000000  25.000000   \n",
       "mean         13.928813  10.694374  13.781459   7.673462  12.000308   4.534902   \n",
       "std           2.731966   6.027526   3.350027   4.318262   3.682003   2.559704   \n",
       "min          10.030182   5.598281   8.471354   3.730644   6.208408   2.209158   \n",
       "25%          12.277353   6.945924  11.210479   4.881866   9.819867   3.097107   \n",
       "50%          13.241853   7.805801  12.781869   5.468788  10.804081   3.260684   \n",
       "75%          15.155627  11.100709  16.586291   8.193194  12.505329   5.024784   \n",
       "max          20.928654  24.215728  20.727722  17.254204  19.874336  11.038761   \n",
       "\n",
       "               total_x               total_y             \n",
       "Citizenship    foreign    italian    foreign    italian  \n",
       "count        25.000000  25.000000  25.000000  25.000000  \n",
       "mean         13.606266   7.826844  69.518704  65.931716  \n",
       "std           2.946764   4.634655   3.895783   6.922151  \n",
       "min           8.828886   3.837501  59.997375  51.099076  \n",
       "25%          12.051909   4.941271  67.639693  66.848048  \n",
       "50%          12.883018   5.599697  70.651191  69.000339  \n",
       "75%          14.846058   7.718597  72.617672  70.253738  \n",
       "max          20.808093  18.566454  73.719380  71.252621  "
      ]
     },
     "execution_count": 24,
     "metadata": {},
     "output_type": "execute_result"
    }
   ],
   "source": [
    "final_mashup.describe()"
   ]
  },
  {
   "cell_type": "code",
   "execution_count": 25,
   "id": "70220be1",
   "metadata": {},
   "outputs": [],
   "source": [
    "#result = DF5.loc[DF5['Citizenship'] == 'foreign']\n",
    "#result.to_csv(\"../_datasets/F_MASHUP.csv\")"
   ]
  },
  {
   "cell_type": "code",
   "execution_count": 26,
   "id": "2d9712bc",
   "metadata": {},
   "outputs": [],
   "source": [
    "#defining a list with the name of the most relevant columns\n",
    "#infocols = [\"LOCATION\", \"MEASURE\", \"TIME\", \"Value\"]\n",
    "#df3 = (pd.read_csv(\"../_datasets/OECD_Avarage_Wage.csv\", sep=\",\"))[infocols]\n",
    "#df3"
   ]
  },
  {
   "cell_type": "code",
   "execution_count": 27,
   "id": "3bf851eb",
   "metadata": {},
   "outputs": [
    {
     "ename": "NameError",
     "evalue": "name 'df3' is not defined",
     "output_type": "error",
     "traceback": [
      "\u001b[1;31m---------------------------------------------------------------------------\u001b[0m",
      "\u001b[1;31mNameError\u001b[0m                                 Traceback (most recent call last)",
      "\u001b[1;32m~\\AppData\\Local\\Temp/ipykernel_6692/708272290.py\u001b[0m in \u001b[0;36m<module>\u001b[1;34m\u001b[0m\n\u001b[0;32m      1\u001b[0m \u001b[1;31m#selecting only information about Italy and deleting decimal numbers from value\u001b[0m\u001b[1;33m\u001b[0m\u001b[1;33m\u001b[0m\u001b[0m\n\u001b[1;32m----> 2\u001b[1;33m \u001b[0mdf3\u001b[0m \u001b[1;33m=\u001b[0m \u001b[0mdf3\u001b[0m\u001b[1;33m[\u001b[0m\u001b[0mdf3\u001b[0m\u001b[1;33m[\u001b[0m\u001b[1;34m\"LOCATION\"\u001b[0m\u001b[1;33m]\u001b[0m\u001b[1;33m==\u001b[0m\u001b[1;34m\"ITA\"\u001b[0m\u001b[1;33m]\u001b[0m\u001b[1;33m\u001b[0m\u001b[1;33m\u001b[0m\u001b[0m\n\u001b[0m\u001b[0;32m      3\u001b[0m \u001b[0mdf3\u001b[0m\u001b[1;33m[\u001b[0m\u001b[1;34m'Value'\u001b[0m\u001b[1;33m]\u001b[0m \u001b[1;33m=\u001b[0m \u001b[0mdf3\u001b[0m\u001b[1;33m[\u001b[0m\u001b[1;34m'Value'\u001b[0m\u001b[1;33m]\u001b[0m\u001b[1;33m.\u001b[0m\u001b[0mastype\u001b[0m\u001b[1;33m(\u001b[0m\u001b[0mstr\u001b[0m\u001b[1;33m)\u001b[0m\u001b[1;33m\u001b[0m\u001b[1;33m\u001b[0m\u001b[0m\n\u001b[0;32m      4\u001b[0m \u001b[0mdf3\u001b[0m\u001b[1;33m[\u001b[0m\u001b[1;34m'Value'\u001b[0m\u001b[1;33m]\u001b[0m \u001b[1;33m=\u001b[0m \u001b[0mdf3\u001b[0m\u001b[1;33m[\u001b[0m\u001b[1;34m'Value'\u001b[0m\u001b[1;33m]\u001b[0m\u001b[1;33m.\u001b[0m\u001b[0mstr\u001b[0m\u001b[1;33m.\u001b[0m\u001b[0mreplace\u001b[0m\u001b[1;33m(\u001b[0m\u001b[1;34mr'\\..*$'\u001b[0m\u001b[1;33m,\u001b[0m \u001b[1;34m''\u001b[0m\u001b[1;33m,\u001b[0m \u001b[0mregex\u001b[0m\u001b[1;33m=\u001b[0m\u001b[1;32mTrue\u001b[0m\u001b[1;33m)\u001b[0m\u001b[1;33m\u001b[0m\u001b[1;33m\u001b[0m\u001b[0m\n\u001b[0;32m      5\u001b[0m \u001b[0mdf3\u001b[0m\u001b[1;33m[\u001b[0m\u001b[1;34m'Value'\u001b[0m\u001b[1;33m]\u001b[0m \u001b[1;33m=\u001b[0m \u001b[0mdf3\u001b[0m\u001b[1;33m[\u001b[0m\u001b[1;34m'Value'\u001b[0m\u001b[1;33m]\u001b[0m\u001b[1;33m.\u001b[0m\u001b[0mastype\u001b[0m\u001b[1;33m(\u001b[0m\u001b[0mint\u001b[0m\u001b[1;33m)\u001b[0m\u001b[1;33m\u001b[0m\u001b[1;33m\u001b[0m\u001b[0m\n",
      "\u001b[1;31mNameError\u001b[0m: name 'df3' is not defined"
     ]
    }
   ],
   "source": [
    "#selecting only information about Italy and deleting decimal numbers from value\n",
    "df3 = df3[df3[\"LOCATION\"]==\"ITA\"]\n",
    "df3['Value'] = df3['Value'].astype(str)\n",
    "df3['Value'] = df3['Value'].str.replace(r'\\..*$', '', regex=True)\n",
    "df3['Value'] = df3['Value'].astype(int)\n",
    "df3"
   ]
  },
  {
   "cell_type": "code",
   "execution_count": 30,
   "id": "ff1f19fd",
   "metadata": {},
   "outputs": [],
   "source": [
    "df4 = (pd.read_csv(\"../_datasets/ISTAT_Unemployment_rate_region_2018_2022_.csv\", sep=\",\"))[infocol]\n",
    "df4 = df4[df4[\"Citizenship\"]==\"total\"]\n",
    "df4 = df4[df4[\"Gender\"]==\"total\"]\n",
    "df4 = df4[df4[\"Highest level of education attained\"]==\"total\"]\n",
    "df4 = df4[df4[\"Territory\"]==\"Italy\"]\n",
    "df4 = y_val(df4)\n",
    "tot_unemp = df4.head(5)"
   ]
  },
  {
   "cell_type": "code",
   "execution_count": 31,
   "id": "9b3c9f42",
   "metadata": {},
   "outputs": [
    {
     "ename": "FileNotFoundError",
     "evalue": "[Errno 2] No such file or directory: '../_datasets/OECD_Unemployment_Rate_2003_2023.csv'",
     "output_type": "error",
     "traceback": [
      "\u001b[1;31m---------------------------------------------------------------------------\u001b[0m",
      "\u001b[1;31mFileNotFoundError\u001b[0m                         Traceback (most recent call last)",
      "\u001b[1;32m~\\AppData\\Local\\Temp/ipykernel_6692/499249983.py\u001b[0m in \u001b[0;36m<module>\u001b[1;34m\u001b[0m\n\u001b[1;32m----> 1\u001b[1;33m \u001b[0mdfoecd\u001b[0m \u001b[1;33m=\u001b[0m \u001b[1;33m(\u001b[0m\u001b[0mpd\u001b[0m\u001b[1;33m.\u001b[0m\u001b[0mread_csv\u001b[0m\u001b[1;33m(\u001b[0m\u001b[1;34m\"../_datasets/OECD_Unemployment_Rate_2003_2023.csv\"\u001b[0m\u001b[1;33m,\u001b[0m \u001b[0msep\u001b[0m\u001b[1;33m=\u001b[0m\u001b[1;34m\",\"\u001b[0m\u001b[1;33m)\u001b[0m\u001b[1;33m)\u001b[0m\u001b[1;33m\u001b[0m\u001b[1;33m\u001b[0m\u001b[0m\n\u001b[0m\u001b[0;32m      2\u001b[0m \u001b[0mdfoecd\u001b[0m \u001b[1;33m=\u001b[0m \u001b[0mdfoecd\u001b[0m\u001b[1;33m[\u001b[0m\u001b[0mdfoecd\u001b[0m\u001b[1;33m[\u001b[0m\u001b[1;34m'LOCATION'\u001b[0m\u001b[1;33m]\u001b[0m\u001b[1;33m==\u001b[0m\u001b[1;34m\"ITA\"\u001b[0m\u001b[1;33m]\u001b[0m\u001b[1;33m\u001b[0m\u001b[1;33m\u001b[0m\u001b[0m\n\u001b[0;32m      3\u001b[0m \u001b[0mdfoecd\u001b[0m \u001b[1;33m=\u001b[0m \u001b[0mdfoecd\u001b[0m\u001b[1;33m[\u001b[0m\u001b[1;33m[\u001b[0m\u001b[1;34m'TIME'\u001b[0m\u001b[1;33m,\u001b[0m \u001b[1;34m'Value'\u001b[0m\u001b[1;33m]\u001b[0m\u001b[1;33m]\u001b[0m\u001b[1;33m\u001b[0m\u001b[1;33m\u001b[0m\u001b[0m\n\u001b[0;32m      4\u001b[0m \u001b[0mdfoecd\u001b[0m\u001b[1;33m.\u001b[0m\u001b[0minfo\u001b[0m\u001b[1;33m(\u001b[0m\u001b[1;33m)\u001b[0m\u001b[1;33m\u001b[0m\u001b[1;33m\u001b[0m\u001b[0m\n",
      "\u001b[1;32m~\\anaconda3\\lib\\site-packages\\pandas\\util\\_decorators.py\u001b[0m in \u001b[0;36mwrapper\u001b[1;34m(*args, **kwargs)\u001b[0m\n\u001b[0;32m    309\u001b[0m                     \u001b[0mstacklevel\u001b[0m\u001b[1;33m=\u001b[0m\u001b[0mstacklevel\u001b[0m\u001b[1;33m,\u001b[0m\u001b[1;33m\u001b[0m\u001b[1;33m\u001b[0m\u001b[0m\n\u001b[0;32m    310\u001b[0m                 )\n\u001b[1;32m--> 311\u001b[1;33m             \u001b[1;32mreturn\u001b[0m \u001b[0mfunc\u001b[0m\u001b[1;33m(\u001b[0m\u001b[1;33m*\u001b[0m\u001b[0margs\u001b[0m\u001b[1;33m,\u001b[0m \u001b[1;33m**\u001b[0m\u001b[0mkwargs\u001b[0m\u001b[1;33m)\u001b[0m\u001b[1;33m\u001b[0m\u001b[1;33m\u001b[0m\u001b[0m\n\u001b[0m\u001b[0;32m    312\u001b[0m \u001b[1;33m\u001b[0m\u001b[0m\n\u001b[0;32m    313\u001b[0m         \u001b[1;32mreturn\u001b[0m \u001b[0mwrapper\u001b[0m\u001b[1;33m\u001b[0m\u001b[1;33m\u001b[0m\u001b[0m\n",
      "\u001b[1;32m~\\anaconda3\\lib\\site-packages\\pandas\\io\\parsers\\readers.py\u001b[0m in \u001b[0;36mread_csv\u001b[1;34m(filepath_or_buffer, sep, delimiter, header, names, index_col, usecols, squeeze, prefix, mangle_dupe_cols, dtype, engine, converters, true_values, false_values, skipinitialspace, skiprows, skipfooter, nrows, na_values, keep_default_na, na_filter, verbose, skip_blank_lines, parse_dates, infer_datetime_format, keep_date_col, date_parser, dayfirst, cache_dates, iterator, chunksize, compression, thousands, decimal, lineterminator, quotechar, quoting, doublequote, escapechar, comment, encoding, encoding_errors, dialect, error_bad_lines, warn_bad_lines, on_bad_lines, delim_whitespace, low_memory, memory_map, float_precision, storage_options)\u001b[0m\n\u001b[0;32m    584\u001b[0m     \u001b[0mkwds\u001b[0m\u001b[1;33m.\u001b[0m\u001b[0mupdate\u001b[0m\u001b[1;33m(\u001b[0m\u001b[0mkwds_defaults\u001b[0m\u001b[1;33m)\u001b[0m\u001b[1;33m\u001b[0m\u001b[1;33m\u001b[0m\u001b[0m\n\u001b[0;32m    585\u001b[0m \u001b[1;33m\u001b[0m\u001b[0m\n\u001b[1;32m--> 586\u001b[1;33m     \u001b[1;32mreturn\u001b[0m \u001b[0m_read\u001b[0m\u001b[1;33m(\u001b[0m\u001b[0mfilepath_or_buffer\u001b[0m\u001b[1;33m,\u001b[0m \u001b[0mkwds\u001b[0m\u001b[1;33m)\u001b[0m\u001b[1;33m\u001b[0m\u001b[1;33m\u001b[0m\u001b[0m\n\u001b[0m\u001b[0;32m    587\u001b[0m \u001b[1;33m\u001b[0m\u001b[0m\n\u001b[0;32m    588\u001b[0m \u001b[1;33m\u001b[0m\u001b[0m\n",
      "\u001b[1;32m~\\anaconda3\\lib\\site-packages\\pandas\\io\\parsers\\readers.py\u001b[0m in \u001b[0;36m_read\u001b[1;34m(filepath_or_buffer, kwds)\u001b[0m\n\u001b[0;32m    480\u001b[0m \u001b[1;33m\u001b[0m\u001b[0m\n\u001b[0;32m    481\u001b[0m     \u001b[1;31m# Create the parser.\u001b[0m\u001b[1;33m\u001b[0m\u001b[1;33m\u001b[0m\u001b[0m\n\u001b[1;32m--> 482\u001b[1;33m     \u001b[0mparser\u001b[0m \u001b[1;33m=\u001b[0m \u001b[0mTextFileReader\u001b[0m\u001b[1;33m(\u001b[0m\u001b[0mfilepath_or_buffer\u001b[0m\u001b[1;33m,\u001b[0m \u001b[1;33m**\u001b[0m\u001b[0mkwds\u001b[0m\u001b[1;33m)\u001b[0m\u001b[1;33m\u001b[0m\u001b[1;33m\u001b[0m\u001b[0m\n\u001b[0m\u001b[0;32m    483\u001b[0m \u001b[1;33m\u001b[0m\u001b[0m\n\u001b[0;32m    484\u001b[0m     \u001b[1;32mif\u001b[0m \u001b[0mchunksize\u001b[0m \u001b[1;32mor\u001b[0m \u001b[0miterator\u001b[0m\u001b[1;33m:\u001b[0m\u001b[1;33m\u001b[0m\u001b[1;33m\u001b[0m\u001b[0m\n",
      "\u001b[1;32m~\\anaconda3\\lib\\site-packages\\pandas\\io\\parsers\\readers.py\u001b[0m in \u001b[0;36m__init__\u001b[1;34m(self, f, engine, **kwds)\u001b[0m\n\u001b[0;32m    809\u001b[0m             \u001b[0mself\u001b[0m\u001b[1;33m.\u001b[0m\u001b[0moptions\u001b[0m\u001b[1;33m[\u001b[0m\u001b[1;34m\"has_index_names\"\u001b[0m\u001b[1;33m]\u001b[0m \u001b[1;33m=\u001b[0m \u001b[0mkwds\u001b[0m\u001b[1;33m[\u001b[0m\u001b[1;34m\"has_index_names\"\u001b[0m\u001b[1;33m]\u001b[0m\u001b[1;33m\u001b[0m\u001b[1;33m\u001b[0m\u001b[0m\n\u001b[0;32m    810\u001b[0m \u001b[1;33m\u001b[0m\u001b[0m\n\u001b[1;32m--> 811\u001b[1;33m         \u001b[0mself\u001b[0m\u001b[1;33m.\u001b[0m\u001b[0m_engine\u001b[0m \u001b[1;33m=\u001b[0m \u001b[0mself\u001b[0m\u001b[1;33m.\u001b[0m\u001b[0m_make_engine\u001b[0m\u001b[1;33m(\u001b[0m\u001b[0mself\u001b[0m\u001b[1;33m.\u001b[0m\u001b[0mengine\u001b[0m\u001b[1;33m)\u001b[0m\u001b[1;33m\u001b[0m\u001b[1;33m\u001b[0m\u001b[0m\n\u001b[0m\u001b[0;32m    812\u001b[0m \u001b[1;33m\u001b[0m\u001b[0m\n\u001b[0;32m    813\u001b[0m     \u001b[1;32mdef\u001b[0m \u001b[0mclose\u001b[0m\u001b[1;33m(\u001b[0m\u001b[0mself\u001b[0m\u001b[1;33m)\u001b[0m\u001b[1;33m:\u001b[0m\u001b[1;33m\u001b[0m\u001b[1;33m\u001b[0m\u001b[0m\n",
      "\u001b[1;32m~\\anaconda3\\lib\\site-packages\\pandas\\io\\parsers\\readers.py\u001b[0m in \u001b[0;36m_make_engine\u001b[1;34m(self, engine)\u001b[0m\n\u001b[0;32m   1038\u001b[0m             )\n\u001b[0;32m   1039\u001b[0m         \u001b[1;31m# error: Too many arguments for \"ParserBase\"\u001b[0m\u001b[1;33m\u001b[0m\u001b[1;33m\u001b[0m\u001b[0m\n\u001b[1;32m-> 1040\u001b[1;33m         \u001b[1;32mreturn\u001b[0m \u001b[0mmapping\u001b[0m\u001b[1;33m[\u001b[0m\u001b[0mengine\u001b[0m\u001b[1;33m]\u001b[0m\u001b[1;33m(\u001b[0m\u001b[0mself\u001b[0m\u001b[1;33m.\u001b[0m\u001b[0mf\u001b[0m\u001b[1;33m,\u001b[0m \u001b[1;33m**\u001b[0m\u001b[0mself\u001b[0m\u001b[1;33m.\u001b[0m\u001b[0moptions\u001b[0m\u001b[1;33m)\u001b[0m  \u001b[1;31m# type: ignore[call-arg]\u001b[0m\u001b[1;33m\u001b[0m\u001b[1;33m\u001b[0m\u001b[0m\n\u001b[0m\u001b[0;32m   1041\u001b[0m \u001b[1;33m\u001b[0m\u001b[0m\n\u001b[0;32m   1042\u001b[0m     \u001b[1;32mdef\u001b[0m \u001b[0m_failover_to_python\u001b[0m\u001b[1;33m(\u001b[0m\u001b[0mself\u001b[0m\u001b[1;33m)\u001b[0m\u001b[1;33m:\u001b[0m\u001b[1;33m\u001b[0m\u001b[1;33m\u001b[0m\u001b[0m\n",
      "\u001b[1;32m~\\anaconda3\\lib\\site-packages\\pandas\\io\\parsers\\c_parser_wrapper.py\u001b[0m in \u001b[0;36m__init__\u001b[1;34m(self, src, **kwds)\u001b[0m\n\u001b[0;32m     49\u001b[0m \u001b[1;33m\u001b[0m\u001b[0m\n\u001b[0;32m     50\u001b[0m         \u001b[1;31m# open handles\u001b[0m\u001b[1;33m\u001b[0m\u001b[1;33m\u001b[0m\u001b[0m\n\u001b[1;32m---> 51\u001b[1;33m         \u001b[0mself\u001b[0m\u001b[1;33m.\u001b[0m\u001b[0m_open_handles\u001b[0m\u001b[1;33m(\u001b[0m\u001b[0msrc\u001b[0m\u001b[1;33m,\u001b[0m \u001b[0mkwds\u001b[0m\u001b[1;33m)\u001b[0m\u001b[1;33m\u001b[0m\u001b[1;33m\u001b[0m\u001b[0m\n\u001b[0m\u001b[0;32m     52\u001b[0m         \u001b[1;32massert\u001b[0m \u001b[0mself\u001b[0m\u001b[1;33m.\u001b[0m\u001b[0mhandles\u001b[0m \u001b[1;32mis\u001b[0m \u001b[1;32mnot\u001b[0m \u001b[1;32mNone\u001b[0m\u001b[1;33m\u001b[0m\u001b[1;33m\u001b[0m\u001b[0m\n\u001b[0;32m     53\u001b[0m \u001b[1;33m\u001b[0m\u001b[0m\n",
      "\u001b[1;32m~\\anaconda3\\lib\\site-packages\\pandas\\io\\parsers\\base_parser.py\u001b[0m in \u001b[0;36m_open_handles\u001b[1;34m(self, src, kwds)\u001b[0m\n\u001b[0;32m    220\u001b[0m         \u001b[0mLet\u001b[0m \u001b[0mthe\u001b[0m \u001b[0mreaders\u001b[0m \u001b[0mopen\u001b[0m \u001b[0mIOHandles\u001b[0m \u001b[0mafter\u001b[0m \u001b[0mthey\u001b[0m \u001b[0mare\u001b[0m \u001b[0mdone\u001b[0m \u001b[1;32mwith\u001b[0m \u001b[0mtheir\u001b[0m \u001b[0mpotential\u001b[0m \u001b[0mraises\u001b[0m\u001b[1;33m.\u001b[0m\u001b[1;33m\u001b[0m\u001b[1;33m\u001b[0m\u001b[0m\n\u001b[0;32m    221\u001b[0m         \"\"\"\n\u001b[1;32m--> 222\u001b[1;33m         self.handles = get_handle(\n\u001b[0m\u001b[0;32m    223\u001b[0m             \u001b[0msrc\u001b[0m\u001b[1;33m,\u001b[0m\u001b[1;33m\u001b[0m\u001b[1;33m\u001b[0m\u001b[0m\n\u001b[0;32m    224\u001b[0m             \u001b[1;34m\"r\"\u001b[0m\u001b[1;33m,\u001b[0m\u001b[1;33m\u001b[0m\u001b[1;33m\u001b[0m\u001b[0m\n",
      "\u001b[1;32m~\\anaconda3\\lib\\site-packages\\pandas\\io\\common.py\u001b[0m in \u001b[0;36mget_handle\u001b[1;34m(path_or_buf, mode, encoding, compression, memory_map, is_text, errors, storage_options)\u001b[0m\n\u001b[0;32m    700\u001b[0m         \u001b[1;32mif\u001b[0m \u001b[0mioargs\u001b[0m\u001b[1;33m.\u001b[0m\u001b[0mencoding\u001b[0m \u001b[1;32mand\u001b[0m \u001b[1;34m\"b\"\u001b[0m \u001b[1;32mnot\u001b[0m \u001b[1;32min\u001b[0m \u001b[0mioargs\u001b[0m\u001b[1;33m.\u001b[0m\u001b[0mmode\u001b[0m\u001b[1;33m:\u001b[0m\u001b[1;33m\u001b[0m\u001b[1;33m\u001b[0m\u001b[0m\n\u001b[0;32m    701\u001b[0m             \u001b[1;31m# Encoding\u001b[0m\u001b[1;33m\u001b[0m\u001b[1;33m\u001b[0m\u001b[0m\n\u001b[1;32m--> 702\u001b[1;33m             handle = open(\n\u001b[0m\u001b[0;32m    703\u001b[0m                 \u001b[0mhandle\u001b[0m\u001b[1;33m,\u001b[0m\u001b[1;33m\u001b[0m\u001b[1;33m\u001b[0m\u001b[0m\n\u001b[0;32m    704\u001b[0m                 \u001b[0mioargs\u001b[0m\u001b[1;33m.\u001b[0m\u001b[0mmode\u001b[0m\u001b[1;33m,\u001b[0m\u001b[1;33m\u001b[0m\u001b[1;33m\u001b[0m\u001b[0m\n",
      "\u001b[1;31mFileNotFoundError\u001b[0m: [Errno 2] No such file or directory: '../_datasets/OECD_Unemployment_Rate_2003_2023.csv'"
     ]
    }
   ],
   "source": [
    "dfoecd = (pd.read_csv(\"../_datasets/OECD_Unemployment_Rate_2003_2023.csv\", sep=\",\"))\n",
    "dfoecd = dfoecd[dfoecd['LOCATION']==\"ITA\"]\n",
    "dfoecd = dfoecd[['TIME', 'Value']]\n",
    "dfoecd.info()"
   ]
  },
  {
   "cell_type": "code",
   "execution_count": null,
   "id": "06e23c70",
   "metadata": {},
   "outputs": [],
   "source": [
    "# Specify the path to the JSON file\n",
    "file_path = \"../_datasets/Clean/D4/net_income_by_regions_data.json\"\n",
    "\n",
    "# Load the JSON file\n",
    "with open(file_path, \"r\") as file:\n",
    "    data = json.load(file)\n",
    "\n",
    "dfs = pd.DataFrame.from_dict(data['IT']) \n",
    "dfs = dfs.rename(columns={'TIME_PERIOD':'TIME'})\n",
    "dfs['TIME'] = dfs['TIME'].astype(int)\n",
    "dfs['ObsValue'] = dfs['ObsValue'].astype(np.float64)\n",
    "dfs.info()"
   ]
  },
  {
   "cell_type": "code",
   "execution_count": null,
   "id": "ad66eba0",
   "metadata": {},
   "outputs": [],
   "source": [
    "DF6 = pd.merge(dfoecd, dfs, on=['TIME'], how='outer')\n",
    "DF6"
   ]
  },
  {
   "cell_type": "code",
   "execution_count": null,
   "id": "c68169b0",
   "metadata": {},
   "outputs": [],
   "source": [
    "import seaborn as sns\n",
    "import matplotlib.pyplot as plt\n",
    "\n",
    "# Create a scatterplot using Seaborn\n",
    "plt.figure(figsize=(10, 6))\n",
    "plt.scatter(x=DF6['ObsValue'], y=DF6['Value'], label='Data Points', color='blue', marker='o')\n",
    "\n",
    "# Add labels and a title\n",
    "plt.xlabel('Annual Avarage Salary (€)')\n",
    "plt.ylabel('Unemployment Rate (%)')\n",
    "plt.title('Unemployment Rate x Annual Avarage Salary')\n",
    "\n",
    "# Show the plot\n",
    "plt.legend()\n",
    "plt.show()\n"
   ]
  },
  {
   "cell_type": "code",
   "execution_count": null,
   "id": "160393aa",
   "metadata": {},
   "outputs": [],
   "source": [
    "# importing package \n",
    "#import matplotlib.pyplot as plt \n",
    "#import numpy as np \n",
    "\n",
    "# plot lines \n",
    "#plt.plot(DF6['ObsValue'], label = \"line 1\") \n",
    "#plt.plot(DF6['Value'], label = \"line 2\") \n",
    "#plt.plot(DF6['TIME'], np.sin(DF6['TIME']), label = \"curve 1\") \n",
    "#plt.legend() \n",
    "#plt.show()\n"
   ]
  },
  {
   "cell_type": "code",
   "execution_count": 29,
   "id": "2bea6a05",
   "metadata": {},
   "outputs": [],
   "source": [
    "import plotly as plt\n",
    "import plotly.express as px\n",
    "import json\n",
    "from urllib.request import urlopen\n",
    "import pandas as pd"
   ]
  },
  {
   "cell_type": "code",
   "execution_count": 32,
   "id": "912fed3e",
   "metadata": {},
   "outputs": [
    {
     "data": {
      "text/plain": [
       "{'type': 'FeatureCollection',\n",
       " 'crs': {'type': 'name',\n",
       "  'properties': {'name': 'urn:ogc:def:crs:OGC:1.3:CRS84'}},\n",
       " 'features': [{'type': 'Feature',\n",
       "   'id': 1,\n",
       "   'properties': {'NUTS_ID': 'AT1',\n",
       "    'STAT_LEVL_': 1,\n",
       "    'SHAPE_AREA': 2.94056324358,\n",
       "    'SHAPE_LEN': 9.53405997073},\n",
       "   'geometry': {'type': 'Polygon',\n",
       "    'coordinates': [[[16.940278, 48.61724549899998],\n",
       "      [16.949778, 48.535791999000025],\n",
       "      [16.851106, 48.43863500100002],\n",
       "      [16.976203, 48.172244498],\n",
       "      [17.066741, 48.11868149899999],\n",
       "      [17.1607975, 48.006656501],\n",
       "      [17.093074, 47.708236],\n",
       "      [16.421846, 47.66470449899998],\n",
       "      [16.652076, 47.6229035],\n",
       "      [16.64622, 47.446597],\n",
       "      [16.4337615, 47.35291849999999],\n",
       "      [16.508267499999988, 47.00125599900002],\n",
       "      [16.113849, 46.86906799899998],\n",
       "      [15.996236, 46.8353985],\n",
       "      [16.121719499999983, 46.990666499999975],\n",
       "      [16.015158499999984, 47.36712749899999],\n",
       "      [16.171769499999982, 47.4224],\n",
       "      [15.847011, 47.567789499000014],\n",
       "      [15.217306, 47.7960275],\n",
       "      [15.0892495, 47.74147100099998],\n",
       "      [14.738462, 47.74872349999998],\n",
       "      [14.479043499999989, 48.10441450000002],\n",
       "      [14.521179, 48.23760949899997],\n",
       "      [14.8288425, 48.189076999],\n",
       "      [14.964447, 48.37851200099999],\n",
       "      [14.691014, 48.584301998],\n",
       "      [14.990445, 49.009649001000014],\n",
       "      [15.542449499999975, 48.907696997000016],\n",
       "      [15.753633499999978, 48.852178501000026],\n",
       "      [16.940278, 48.61724549899998]]]}},\n",
       "  {'type': 'Feature',\n",
       "   'id': 16,\n",
       "   'properties': {'NUTS_ID': 'AT2',\n",
       "    'STAT_LEVL_': 1,\n",
       "    'SHAPE_AREA': 3.09701419409,\n",
       "    'SHAPE_LEN': 9.7616838951},\n",
       "   'geometry': {'type': 'Polygon',\n",
       "    'coordinates': [[[15.996236, 46.8353985],\n",
       "      [16.038086, 46.65614549700001],\n",
       "      [15.786422, 46.7074695],\n",
       "      [15.649988, 46.705757],\n",
       "      [15.40197949899999, 46.65354849900001],\n",
       "      [15.065120499999978, 46.65211249700002],\n",
       "      [14.6745805, 46.450687500000015],\n",
       "      [14.5651755, 46.37245349699998],\n",
       "      [14.434500500000013, 46.442943501],\n",
       "      [13.714184999, 46.52270349999998],\n",
       "      [13.504249500000014, 46.56630399800002],\n",
       "      [12.73139299899998, 46.634288],\n",
       "      [12.690635, 46.656972000999986],\n",
       "      [12.841158, 46.860979499],\n",
       "      [12.6568335, 47.09951749700002],\n",
       "      [13.35451949999998, 47.09710400099999],\n",
       "      [13.784528498999975, 46.943882497],\n",
       "      [13.86417899899999, 47.25217],\n",
       "      [13.607597, 47.28356499900002],\n",
       "      [13.585662999000022, 47.47479949900003],\n",
       "      [13.722560499999986, 47.46211150099998],\n",
       "      [13.777418, 47.71452899899998],\n",
       "      [14.010598, 47.700891997999975],\n",
       "      [14.738462, 47.74872349999998],\n",
       "      [15.0892495, 47.74147100099998],\n",
       "      [15.217306, 47.7960275],\n",
       "      [15.847011, 47.567789499000014],\n",
       "      [16.171769499999982, 47.4224],\n",
       "      [16.015158499999984, 47.36712749899999],\n",
       "      [16.121719499999983, 46.990666499999975],\n",
       "      [15.996236, 46.8353985]]]}},\n",
       "  {'type': 'Feature',\n",
       "   'id': 28,\n",
       "   'properties': {'NUTS_ID': 'AT3',\n",
       "    'STAT_LEVL_': 1,\n",
       "    'SHAPE_AREA': 4.10890527593,\n",
       "    'SHAPE_LEN': 16.6428671319},\n",
       "   'geometry': {'type': 'Polygon',\n",
       "    'coordinates': [[[14.691014, 48.584301998],\n",
       "      [14.964447, 48.37851200099999],\n",
       "      [14.8288425, 48.189076999],\n",
       "      [14.521179, 48.23760949899997],\n",
       "      [14.479043499999989, 48.10441450000002],\n",
       "      [14.738462, 47.74872349999998],\n",
       "      [14.010598, 47.700891997999975],\n",
       "      [13.777418, 47.71452899899998],\n",
       "      [13.722560499999986, 47.46211150099998],\n",
       "      [13.585662999000022, 47.47479949900003],\n",
       "      [13.607597, 47.28356499900002],\n",
       "      [13.86417899899999, 47.25217],\n",
       "      [13.784528498999975, 46.943882497],\n",
       "      [13.35451949999998, 47.09710400099999],\n",
       "      [12.6568335, 47.09951749700002],\n",
       "      [12.841158, 46.860979499],\n",
       "      [12.690635, 46.656972000999986],\n",
       "      [12.477924, 46.67983549799999],\n",
       "      [12.143811, 46.913779998],\n",
       "      [12.2407455, 47.069168499],\n",
       "      [12.136014, 47.0806675],\n",
       "      [11.627199500000017, 47.013299],\n",
       "      [11.164281500000016, 46.96572250000003],\n",
       "      [11.02225, 46.765410498999984],\n",
       "      [10.4696515, 46.854909],\n",
       "      [10.389317999000014, 47.00052449999998],\n",
       "      [10.14497449999999, 46.851009498999986],\n",
       "      [9.607078, 47.0607745],\n",
       "      [9.620580500000017, 47.15164549999997],\n",
       "      [9.530749, 47.27058100099998],\n",
       "      [9.673370499999976, 47.38151050099998],\n",
       "      [9.5587205, 47.54189299900003],\n",
       "      [9.967813499999977, 47.546240496999985],\n",
       "      [9.999526, 47.48301699699999],\n",
       "      [10.178353, 47.27011399899999],\n",
       "      [10.454439, 47.55579699899999],\n",
       "      [10.886199, 47.536847998999974],\n",
       "      [10.991202499999986, 47.396131],\n",
       "      [11.0165005, 47.396368000999985],\n",
       "      [11.4214275, 47.44485199899998],\n",
       "      [11.410219, 47.49532400099997],\n",
       "      [11.632883, 47.59244599700003],\n",
       "      [12.060662, 47.618743499],\n",
       "      [12.338045498999975, 47.697087501],\n",
       "      [12.575026499999979, 47.632316],\n",
       "      [12.695795499999974, 47.682222998999976],\n",
       "      [13.046055500000023, 47.520502498999974],\n",
       "      [12.8757855, 47.962608999],\n",
       "      [12.86018150000001, 47.996639999000024],\n",
       "      [12.751555, 48.11281049799999],\n",
       "      [12.9446845, 48.206692498999985],\n",
       "      [13.177043, 48.294389997],\n",
       "      [13.407838, 48.372160501],\n",
       "      [13.438430499999981, 48.548895001],\n",
       "      [13.51336950000001, 48.59097799800003],\n",
       "      [13.727090499999974, 48.513019500999974],\n",
       "      [13.796107, 48.71360049899999],\n",
       "      [13.839507, 48.77160500100001],\n",
       "      [14.691014, 48.584301998]]]}},\n",
       "  {'type': 'Feature',\n",
       "   'id': 37,\n",
       "   'properties': {'NUTS_ID': 'BE3',\n",
       "    'STAT_LEVL_': 1,\n",
       "    'SHAPE_AREA': 2.19060725358,\n",
       "    'SHAPE_LEN': 9.20293155278},\n",
       "   'geometry': {'type': 'MultiPolygon',\n",
       "    'coordinates': [[[[6.020998999000028, 50.75429550000001],\n",
       "       [6.26861550000001, 50.625981],\n",
       "       [6.189312500000028, 50.56609400100001],\n",
       "       [6.192200499000023, 50.521055499],\n",
       "       [6.206287499999974, 50.52130200099998],\n",
       "       [6.315556, 50.497042498999974],\n",
       "       [6.405028500000014, 50.323308499],\n",
       "       [6.137662499999976, 50.129951499000015],\n",
       "       [6.0248995, 50.182779498],\n",
       "       [5.746319, 49.853595],\n",
       "       [5.910688, 49.66238800100001],\n",
       "       [5.818117, 49.5463105],\n",
       "       [5.734555999, 49.545690501000024],\n",
       "       [5.470882999000025, 49.49723799899999],\n",
       "       [5.393511, 49.617111],\n",
       "       [5.153738499999974, 49.717926],\n",
       "       [4.969431, 49.801825999000016],\n",
       "       [4.851578, 49.79325500099998],\n",
       "       [4.793194, 49.98199900100002],\n",
       "       [4.896794, 50.13742049899997],\n",
       "       [4.796697, 50.14867799899997],\n",
       "       [4.432494, 49.941615996999985],\n",
       "       [4.233133, 49.957828498000026],\n",
       "       [4.140853, 49.978759997],\n",
       "       [4.027774500000021, 50.358330498999976],\n",
       "       [3.710389, 50.30316549999998],\n",
       "       [3.65551, 50.461735498999985],\n",
       "       [3.615081499999974, 50.490399001000014],\n",
       "       [3.286492, 50.52756899799999],\n",
       "       [3.245294, 50.71300949800002],\n",
       "       [3.176996, 50.756164497999976],\n",
       "       [3.324118, 50.722308999],\n",
       "       [3.459731, 50.765968500999975],\n",
       "       [3.5412725, 50.733700499],\n",
       "       [3.775359499999979, 50.747729999],\n",
       "       [3.815390499999978, 50.75072499700002],\n",
       "       [3.895736499, 50.732944498999984],\n",
       "       [4.100483, 50.70595549799998],\n",
       "       [4.597269, 50.76353450099998],\n",
       "       [5.019701, 50.75097300099998],\n",
       "       [5.1018525, 50.70865249899998],\n",
       "       [5.236892, 50.72714600099999],\n",
       "       [5.431686500000012, 50.719803],\n",
       "       [5.687622, 50.81192399899999],\n",
       "       [5.682000499000026, 50.75744649799998],\n",
       "       [5.892073, 50.755237498999975],\n",
       "       [6.020998999000028, 50.75429550000001]]],\n",
       "     [[[3.0187085, 50.773532999],\n",
       "       [2.863276, 50.70834349699999],\n",
       "       [2.842169, 50.751404],\n",
       "       [2.945734077, 50.793946362999975],\n",
       "       [3.0187085, 50.773532999]]]]}},\n",
       "  {'type': 'Feature',\n",
       "   'id': 64,\n",
       "   'properties': {'NUTS_ID': 'BG3',\n",
       "    'STAT_LEVL_': 1,\n",
       "    'SHAPE_AREA': 7.5037102699,\n",
       "    'SHAPE_LEN': 16.9053059325},\n",
       "   'geometry': {'type': 'Polygon',\n",
       "    'coordinates': [[[24.641605998999978, 43.733412999],\n",
       "      [25.293740500000013, 43.654294],\n",
       "      [25.544640500000014, 43.64298149699999],\n",
       "      [25.671862499999975, 43.69133999899998],\n",
       "      [26.358359999000015, 44.038415500999974],\n",
       "      [26.379968, 44.04295099900003],\n",
       "      [27.271344999, 44.12633649899999],\n",
       "      [27.69541, 43.987343],\n",
       "      [28.578884, 43.738739],\n",
       "      [28.529502998999988, 43.42353799799997],\n",
       "      [28.0601805, 43.31644500099998],\n",
       "      [27.88262, 42.83841349800002],\n",
       "      [27.899066999000013, 42.70024550099998],\n",
       "      [27.4479045, 42.46148699899999],\n",
       "      [28.03551249999998, 41.983079498999984],\n",
       "      [27.559395, 41.90478149699999],\n",
       "      [27.059650499999975, 42.08833699799999],\n",
       "      [26.9492285, 42.00021349899998],\n",
       "      [26.561544500000025, 41.92627349899999],\n",
       "      [26.538056, 42.15419699900002],\n",
       "      [26.192733499999974, 42.208129997000015],\n",
       "      [26.057769499000017, 42.01765649999999],\n",
       "      [25.609251, 42.200959],\n",
       "      [25.348064, 42.11437749800001],\n",
       "      [25.007195500000023, 42.737618999],\n",
       "      [24.385927, 42.749953498000025],\n",
       "      [24.12798399899998, 42.77494799700003],\n",
       "      [24.165291501000013, 42.929701498999975],\n",
       "      [23.971503499999983, 43.06225149900001],\n",
       "      [23.566569, 42.993892999000025],\n",
       "      [23.412767, 43.16052199799998],\n",
       "      [23.00621, 43.19287849800003],\n",
       "      [22.747454, 43.38661299900002],\n",
       "      [22.666975499999978, 43.402747498999986],\n",
       "      [22.357130499999982, 43.80948199900001],\n",
       "      [22.536145, 44.045511499999975],\n",
       "      [22.6751615, 44.21566299699998],\n",
       "      [22.966399500000023, 44.09852499700003],\n",
       "      [23.045898, 44.06374949999997],\n",
       "      [22.838719, 43.877852001],\n",
       "      [22.997154500000022, 43.807626997],\n",
       "      [23.63008, 43.79125999799999],\n",
       "      [24.112719, 43.699566498000024],\n",
       "      [24.324132, 43.699567996999974],\n",
       "      [24.641605998999978, 43.733412999]]]}},\n",
       "  {'type': 'Feature',\n",
       "   'id': 87,\n",
       "   'properties': {'NUTS_ID': 'BG4',\n",
       "    'STAT_LEVL_': 1,\n",
       "    'SHAPE_AREA': 4.7374808307,\n",
       "    'SHAPE_LEN': 11.5242072777},\n",
       "   'geometry': {'type': 'Polygon',\n",
       "    'coordinates': [[[26.561544500000025, 41.92627349899999],\n",
       "      [26.357879, 41.71110449899999],\n",
       "      [26.060393, 41.68851600099998],\n",
       "      [26.158688499999982, 41.39118249699999],\n",
       "      [25.948626, 41.32034200099997],\n",
       "      [25.90643749999998, 41.307574998],\n",
       "      [25.224698499999988, 41.26463099799997],\n",
       "      [25.1793755, 41.310187998],\n",
       "      [24.783956, 41.36018899700002],\n",
       "      [24.525637, 41.568699998],\n",
       "      [24.059744, 41.522112],\n",
       "      [23.624222998999983, 41.375727497000014],\n",
       "      [22.9275915, 41.33853949899998],\n",
       "      [22.968327499999987, 41.51983549900001],\n",
       "      [22.867214, 42.022199496999974],\n",
       "      [22.510412, 42.15515849799999],\n",
       "      [22.3602065, 42.311157001000026],\n",
       "      [22.559255, 42.480283998],\n",
       "      [22.461472, 42.64849049899999],\n",
       "      [22.44282149899999, 42.82545650100002],\n",
       "      [22.5155105, 42.86853849800002],\n",
       "      [22.7483995, 42.889787496999986],\n",
       "      [23.00621, 43.19287849800003],\n",
       "      [23.412767, 43.16052199799998],\n",
       "      [23.566569, 42.993892999000025],\n",
       "      [23.971503499999983, 43.06225149900001],\n",
       "      [24.165291501000013, 42.929701498999975],\n",
       "      [24.12798399899998, 42.77494799700003],\n",
       "      [24.385927, 42.749953498000025],\n",
       "      [25.007195500000023, 42.737618999],\n",
       "      [25.348064, 42.11437749800001],\n",
       "      [25.609251, 42.200959],\n",
       "      [26.057769499000017, 42.01765649999999],\n",
       "      [26.192733499999974, 42.208129997000015],\n",
       "      [26.538056, 42.15419699900002],\n",
       "      [26.561544500000025, 41.92627349899999]]]}},\n",
       "  {'type': 'Feature',\n",
       "   'id': 101,\n",
       "   'properties': {'NUTS_ID': 'CY0',\n",
       "    'STAT_LEVL_': 1,\n",
       "    'SHAPE_AREA': 0.878547019024,\n",
       "    'SHAPE_LEN': 5.83093139812},\n",
       "   'geometry': {'type': 'Polygon',\n",
       "    'coordinates': [[[34.43715, 35.60157049899999],\n",
       "      [33.906834, 35.257218],\n",
       "      [34.07786149999998, 34.966491001],\n",
       "      [33.6778885, 34.971539999000015],\n",
       "      [33.006973499000026, 34.64828849999998],\n",
       "      [32.42596450000002, 34.743192497999985],\n",
       "      [32.269781, 35.06621399900001],\n",
       "      [32.881518, 35.16222],\n",
       "      [32.9214245, 35.403959998],\n",
       "      [33.652597, 35.35919099900002],\n",
       "      [34.588354, 35.69543449899999],\n",
       "      [34.43715, 35.60157049899999]]]}},\n",
       "  {'type': 'Feature',\n",
       "   'id': 105,\n",
       "   'properties': {'NUTS_ID': 'CZ0',\n",
       "    'STAT_LEVL_': 1,\n",
       "    'SHAPE_AREA': 9.85407163081,\n",
       "    'SHAPE_LEN': 17.3294302971},\n",
       "   'geometry': {'type': 'Polygon',\n",
       "    'coordinates': [[[14.823362, 50.87055049700001],\n",
       "      [15.032691, 51.021315999000024],\n",
       "      [15.535267499999975, 50.779375999000024],\n",
       "      [16.107318, 50.662072998999975],\n",
       "      [16.443536, 50.58625749999999],\n",
       "      [16.195729, 50.432135001],\n",
       "      [16.58029, 50.14278799800002],\n",
       "      [16.86327, 50.19812299900002],\n",
       "      [17.028323, 50.22999699899998],\n",
       "      [16.90792449999998, 50.44945400099999],\n",
       "      [17.429605, 50.25451300100002],\n",
       "      [17.718403998999975, 50.32095],\n",
       "      [17.758479, 50.206568],\n",
       "      [17.592736, 50.160014],\n",
       "      [17.868675, 49.972545997],\n",
       "      [18.035060999, 50.06577199899999],\n",
       "      [18.575724, 49.910423],\n",
       "      [18.851551, 49.51718900100002],\n",
       "      [18.4035955, 49.39674549900002],\n",
       "      [18.322436, 49.315059],\n",
       "      [17.64693, 48.85426599800002],\n",
       "      [17.3967255, 48.81334999799998],\n",
       "      [17.2016625, 48.878028997],\n",
       "      [16.940278, 48.61724549899998],\n",
       "      [15.753633499999978, 48.852178501000026],\n",
       "      [15.542449499999975, 48.907696997000016],\n",
       "      [14.990445, 49.009649001000014],\n",
       "      [14.691014, 48.584301998],\n",
       "      [13.839507, 48.77160500100001],\n",
       "      [13.5515785, 48.96778749700002],\n",
       "      [13.4166515, 48.980035499],\n",
       "      [13.170907999, 49.173579501],\n",
       "      [12.633763499999986, 49.47619499799998],\n",
       "      [12.593778499999985, 49.54219149900001],\n",
       "      [12.401524, 49.75837299800003],\n",
       "      [12.550988500000017, 49.905088001000024],\n",
       "      [12.260799, 50.05815649800002],\n",
       "      [12.160679, 50.219848997999975],\n",
       "      [12.100900500000023, 50.31802799799999],\n",
       "      [12.5837785, 50.40707899900002],\n",
       "      [12.948144500000012, 50.404311499000016],\n",
       "      [13.501846, 50.63364299900002],\n",
       "      [13.652174, 50.73035999799998],\n",
       "      [14.388335, 50.90029899799998],\n",
       "      [14.317873500000019, 51.05469899899998],\n",
       "      [14.491221, 51.043530498999985],\n",
       "      [14.6188, 50.85780449700002],\n",
       "      [14.823362, 50.87055049700001]]]}},\n",
       "  {'type': 'Feature',\n",
       "   'id': 129,\n",
       "   'properties': {'NUTS_ID': 'CH0',\n",
       "    'STAT_LEVL_': 1,\n",
       "    'SHAPE_AREA': 4.88721750373,\n",
       "    'SHAPE_LEN': 13.39682568},\n",
       "   'geometry': {'type': 'Polygon',\n",
       "    'coordinates': [[[9.5587205, 47.54189299900003],\n",
       "      [9.673370499999976, 47.38151050099998],\n",
       "      [9.530749, 47.27058100099998],\n",
       "      [9.4760475, 47.051797498999974],\n",
       "      [9.607078, 47.0607745],\n",
       "      [10.14497449999999, 46.851009498999986],\n",
       "      [10.389317999000014, 47.00052449999998],\n",
       "      [10.4696515, 46.854909],\n",
       "      [10.452801, 46.53068299900002],\n",
       "      [10.2448745, 46.62209199799997],\n",
       "      [9.714149500000019, 46.292708499000014],\n",
       "      [9.248531500000013, 46.23376800099999],\n",
       "      [9.1593775, 46.169601],\n",
       "      [8.988276499999984, 45.97228249800003],\n",
       "      [9.088803499999983, 45.89689700100001],\n",
       "      [8.912147, 45.830444999],\n",
       "      [8.713936, 46.097271998999986],\n",
       "      [8.384717, 46.452158499],\n",
       "      [7.8771375, 45.926954997999985],\n",
       "      [7.86407650000001, 45.91675049999998],\n",
       "      [7.044886, 45.92241299900002],\n",
       "      [6.797888999, 46.136798999],\n",
       "      [6.821063998999989, 46.42715449899998],\n",
       "      [6.24136, 46.343582497],\n",
       "      [6.231694, 46.329429498000025],\n",
       "      [6.219547, 46.31187799899999],\n",
       "      [6.310211, 46.24404549899998],\n",
       "      [5.956067, 46.1320955],\n",
       "      [6.125608, 46.317229999],\n",
       "      [6.064003, 46.41622899700002],\n",
       "      [6.138106, 46.55766699700001],\n",
       "      [6.460011, 46.85155149899998],\n",
       "      [6.858914, 47.16529449900003],\n",
       "      [7.061636, 47.34373449899999],\n",
       "      [6.879806, 47.35243999800002],\n",
       "      [6.939186, 47.433704499999976],\n",
       "      [7.130353, 47.503040499],\n",
       "      [7.326466, 47.43985350000003],\n",
       "      [7.380894, 47.431892499000014],\n",
       "      [7.42113949899999, 47.446387999000024],\n",
       "      [7.445019, 47.46172349699998],\n",
       "      [7.510905499999978, 47.50258249799998],\n",
       "      [7.5551595, 47.56456399699999],\n",
       "      [7.589039, 47.589877999],\n",
       "      [7.634097, 47.56111350100002],\n",
       "      [7.713784499999974, 47.539405],\n",
       "      [7.894107500000018, 47.586374998999986],\n",
       "      [8.426434500000028, 47.567548998],\n",
       "      [8.562841, 47.599432498],\n",
       "      [8.595602, 47.6055445],\n",
       "      [8.606369500000028, 47.66900549899998],\n",
       "      [8.510115, 47.776190499999984],\n",
       "      [8.61233, 47.801462],\n",
       "      [8.740104499999973, 47.752789001],\n",
       "      [8.7279815, 47.692680499],\n",
       "      [8.79570849999999, 47.675595499999986],\n",
       "      [8.843022, 47.71226249900002],\n",
       "      [8.8749985, 47.65597349799998],\n",
       "      [9.182192, 47.655890499],\n",
       "      [9.495604, 47.551454998999986],\n",
       "      [9.5587205, 47.54189299900003]]]}},\n",
       "  {'type': 'Feature',\n",
       "   'id': 158,\n",
       "   'properties': {'NUTS_ID': 'BE1',\n",
       "    'STAT_LEVL_': 1,\n",
       "    'SHAPE_AREA': 0.00302471512961,\n",
       "    'SHAPE_LEN': 0.493682162315},\n",
       "   'geometry': {'type': 'Polygon',\n",
       "    'coordinates': [[[4.47678350000001, 50.8203775],\n",
       "      [4.4804765, 50.794257999000024],\n",
       "      [4.2455665, 50.817627],\n",
       "      [4.47678350000001, 50.8203775]]]}},\n",
       "  {'type': 'Feature',\n",
       "   'id': 161,\n",
       "   'properties': {'NUTS_ID': 'BE2',\n",
       "    'STAT_LEVL_': 1,\n",
       "    'SHAPE_AREA': 1.72470830463,\n",
       "    'SHAPE_LEN': 7.85102938643},\n",
       "   'geometry': {'type': 'Polygon',\n",
       "    'coordinates': [[[3.0187085, 50.773532999],\n",
       "      [2.945734077, 50.793946362999975],\n",
       "      [2.842169, 50.751404],\n",
       "      [2.863276, 50.70834349699999],\n",
       "      [2.607036, 50.91268949900001],\n",
       "      [2.546011, 51.08938199800002],\n",
       "      [2.749051499000018, 51.161769999],\n",
       "      [3.110688499999981, 51.31225950100003],\n",
       "      [3.367216499999984, 51.368134499],\n",
       "      [3.380661, 51.274299497000015],\n",
       "      [3.8563395, 51.211056],\n",
       "      [3.9776665, 51.225131998999984],\n",
       "      [4.23481750000002, 51.348254],\n",
       "      [4.242049, 51.35396699900002],\n",
       "      [4.24366950000001, 51.37472949900001],\n",
       "      [4.279565, 51.37601749700002],\n",
       "      [4.669544, 51.426383999],\n",
       "      [4.759926, 51.50246449799999],\n",
       "      [5.10218, 51.42900499699999],\n",
       "      [5.237716499999976, 51.261600499],\n",
       "      [5.5662835, 51.22083649799998],\n",
       "      [5.798274, 51.059853498999985],\n",
       "      [5.766149, 51.00923549999999],\n",
       "      [5.758272498999986, 50.954795],\n",
       "      [5.687622, 50.81192399899999],\n",
       "      [5.431686500000012, 50.719803],\n",
       "      [5.236892, 50.72714600099999],\n",
       "      [5.1018525, 50.70865249899998],\n",
       "      [5.019701, 50.75097300099998],\n",
       "      [4.597269, 50.76353450099998],\n",
       "      [4.100483, 50.70595549799998],\n",
       "      [3.895736499, 50.732944498999984],\n",
       "      [3.815390499999978, 50.75072499700002],\n",
       "      [3.775359499999979, 50.747729999],\n",
       "      [3.5412725, 50.733700499],\n",
       "      [3.459731, 50.765968500999975],\n",
       "      [3.324118, 50.722308999],\n",
       "      [3.176996, 50.756164497999976],\n",
       "      [3.098481, 50.779019],\n",
       "      [3.0187085, 50.773532999]],\n",
       "     [[4.4804765, 50.794257999000024],\n",
       "      [4.47678350000001, 50.8203775],\n",
       "      [4.2455665, 50.817627],\n",
       "      [4.4804765, 50.794257999000024]]]}},\n",
       "  {'type': 'Feature',\n",
       "   'id': 203,\n",
       "   'properties': {'NUTS_ID': 'DE8',\n",
       "    'STAT_LEVL_': 1,\n",
       "    'SHAPE_AREA': 3.21364124189,\n",
       "    'SHAPE_LEN': 13.3120506311},\n",
       "   'geometry': {'type': 'MultiPolygon',\n",
       "    'coordinates': [[[[12.926951499999973, 54.427963998999985],\n",
       "       [12.363174500000014, 54.267097998999986],\n",
       "       [13.017391718999988, 54.43872077399999],\n",
       "       [13.109225, 54.27934049800001],\n",
       "       [13.319396, 54.19350599799998],\n",
       "       [13.344701499999985, 54.18111149700002],\n",
       "       [13.742715499999974, 54.031386499],\n",
       "       [13.819152499999973, 53.841944996999985],\n",
       "       [14.267542, 53.69780649699999],\n",
       "       [14.412157, 53.329635998000015],\n",
       "       [13.710065499999985, 53.4790625],\n",
       "       [13.2414035, 53.232401],\n",
       "       [12.984683, 53.1649855],\n",
       "       [12.3317515, 53.318011],\n",
       "       [12.325101500000017, 53.321301498000025],\n",
       "       [11.265732, 53.121978],\n",
       "       [11.171861499999977, 53.15664399799999],\n",
       "       [10.595047, 53.36392750099998],\n",
       "       [10.951918499999977, 53.64762249900002],\n",
       "       [10.76296450000001, 53.811153],\n",
       "       [10.903661500999988, 53.95682200099998],\n",
       "       [11.5617785, 54.02808849799999],\n",
       "       [11.998484500000018, 54.174969998999984],\n",
       "       [12.201068, 54.24469549899999],\n",
       "       [12.2855305, 54.274951999],\n",
       "       [12.520881067, 54.47423454199998],\n",
       "       [12.926951499999973, 54.427963998999985]]],\n",
       "     [[[13.39108349999998, 54.651317],\n",
       "       [13.67934, 54.56278249799999],\n",
       "       [13.6824535, 54.349581],\n",
       "       [13.394217500000025, 54.22250250000002],\n",
       "       [13.114586, 54.33190799699997],\n",
       "       [13.2614835, 54.38291650000002],\n",
       "       [13.270131, 54.48017349899999],\n",
       "       [13.144181, 54.546965499],\n",
       "       [13.39108349999998, 54.651317]]],\n",
       "     [[[14.2130775, 53.86647949899998],\n",
       "       [13.826150499999983, 53.84968499799999],\n",
       "       [13.750745999, 54.14996050100001],\n",
       "       [13.9720845, 54.06874749799999],\n",
       "       [14.226302, 53.92865299800002],\n",
       "       [14.2130775, 53.86647949899998]]]]}},\n",
       "  {'type': 'Feature',\n",
       "   'id': 213,\n",
       "   'properties': {'NUTS_ID': 'DE9',\n",
       "    'STAT_LEVL_': 1,\n",
       "    'SHAPE_AREA': 6.27225938538,\n",
       "    'SHAPE_LEN': 17.8805604202},\n",
       "   'geometry': {'type': 'Polygon',\n",
       "    'coordinates': [[[8.614913999, 53.882118],\n",
       "      [9.02991750000001, 53.825564997000015],\n",
       "      [9.02242, 53.87951750000002],\n",
       "      [9.199750999, 53.88010449799998],\n",
       "      [9.48589, 53.707664497999986],\n",
       "      [9.73010399899999, 53.557580997],\n",
       "      [9.768861, 53.50527899799999],\n",
       "      [10.308312, 53.43322149800002],\n",
       "      [10.469184, 53.385844],\n",
       "      [10.595047, 53.36392750099998],\n",
       "      [11.171861499999977, 53.15664399799999],\n",
       "      [11.265732, 53.121978],\n",
       "      [11.597784499999989, 53.03592649900003],\n",
       "      [11.505027, 52.941032499000016],\n",
       "      [10.841556, 52.852205],\n",
       "      [10.759314500000016, 52.79583050000002],\n",
       "      [11.0087815, 52.496747500000026],\n",
       "      [10.93454250000002, 52.471794999],\n",
       "      [11.086244, 52.22863399900001],\n",
       "      [10.964414499999975, 52.05664299799997],\n",
       "      [10.801428499999986, 52.0480005],\n",
       "      [10.561227, 52.00406599899998],\n",
       "      [10.701372, 51.64218749999998],\n",
       "      [10.677283, 51.63837600099998],\n",
       "      [10.488551, 51.574778498],\n",
       "      [10.365365, 51.55589100100002],\n",
       "      [9.928339, 51.375299],\n",
       "      [9.710295479000024, 51.30153775000002],\n",
       "      [9.568025, 51.34000149899998],\n",
       "      [9.557291, 51.35137849900002],\n",
       "      [9.647755500000017, 51.55251099899999],\n",
       "      [9.62582500100001, 51.580205],\n",
       "      [9.672377499999982, 51.568403999],\n",
       "      [9.685331, 51.58201649900002],\n",
       "      [9.440457, 51.650393999000016],\n",
       "      [9.417317500000024, 51.647269499],\n",
       "      [9.459648500000014, 51.86279749800002],\n",
       "      [9.323343500000021, 51.85506099700001],\n",
       "      [9.308893, 51.92271950100002],\n",
       "      [9.15560449899999, 52.09783],\n",
       "      [8.985787500000015, 52.19457649899999],\n",
       "      [9.125252499999988, 52.411993498000015],\n",
       "      [8.70300899900002, 52.500437998],\n",
       "      [8.2972135, 52.456497997999975],\n",
       "      [8.4661865, 52.267614],\n",
       "      [8.410586500000022, 52.11511499699998],\n",
       "      [8.096448, 52.05714500099998],\n",
       "      [7.885159, 52.0833025],\n",
       "      [8.007796, 52.115332997999985],\n",
       "      [7.956465, 52.2724905],\n",
       "      [7.964625500000011, 52.32485850099999],\n",
       "      [7.608038500000021, 52.47401599900002],\n",
       "      [7.317481, 52.28027199899998],\n",
       "      [7.099148999000022, 52.24305849699999],\n",
       "      [7.065685, 52.24137299900002],\n",
       "      [6.987941499999977, 52.469540999],\n",
       "      [6.697865499999978, 52.48628599800003],\n",
       "      [6.709732499999973, 52.62782349899999],\n",
       "      [7.006229500000018, 52.63876299899999],\n",
       "      [7.092692, 52.83820099899998],\n",
       "      [7.202794499999982, 53.11328149899998],\n",
       "      [7.208935, 53.243064498000024],\n",
       "      [7.2643, 53.32552649799999],\n",
       "      [6.999446499999976, 53.359887501],\n",
       "      [7.24368149899999, 53.66778199700002],\n",
       "      [7.550173, 53.67503749999997],\n",
       "      [7.809895499999982, 53.70766199899998],\n",
       "      [8.091291, 53.638109000999975],\n",
       "      [8.061327, 53.50595700100001],\n",
       "      [8.195555, 53.409171499000024],\n",
       "      [8.329544, 53.614027],\n",
       "      [8.554898499999979, 53.52513100099998],\n",
       "      [8.492652, 53.47242000099999],\n",
       "      [8.652134000999979, 53.51601699899999],\n",
       "      [8.650632499999972, 53.602565001000016],\n",
       "      [8.520410500000025, 53.60620500099998],\n",
       "      [8.614913999, 53.882118]],\n",
       "     [[8.711424, 53.044629997000015],\n",
       "      [8.915827, 53.011021497],\n",
       "      [8.979256, 53.045849499999974],\n",
       "      [8.984185500000024, 53.12607099899998],\n",
       "      [8.485330499999975, 53.22712],\n",
       "      [8.6548985, 53.10886449999998],\n",
       "      [8.711424, 53.044629997000015]]]}},\n",
       "  {'type': 'Feature',\n",
       "   'id': 264,\n",
       "   'properties': {'NUTS_ID': 'DEA',\n",
       "    'STAT_LEVL_': 1,\n",
       "    'SHAPE_AREA': 4.46273077362,\n",
       "    'SHAPE_LEN': 12.1282181866},\n",
       "   'geometry': {'type': 'Polygon',\n",
       "    'coordinates': [[[9.440457, 51.650393999000016],\n",
       "      [9.155410500000016, 51.44267499900002],\n",
       "      [8.970653500000026, 51.5067735],\n",
       "      [8.556348, 51.277495],\n",
       "      [8.7582145, 51.17718149900003],\n",
       "      [8.549084999, 51.101868001000014],\n",
       "      [8.477892, 50.96904749700002],\n",
       "      [8.355495999000027, 50.862001],\n",
       "      [8.125776499999972, 50.685813998000015],\n",
       "      [8.03969, 50.697375498999975],\n",
       "      [7.851496, 50.92583250000001],\n",
       "      [7.785898, 50.939913999],\n",
       "      [7.6610035, 50.82036450099997],\n",
       "      [7.44077199899999, 50.711437998],\n",
       "      [7.2123995, 50.623404999],\n",
       "      [7.210872, 50.649543499],\n",
       "      [7.1952005, 50.642722999],\n",
       "      [6.927901, 50.55861850000002],\n",
       "      [6.800711499999977, 50.36178149900002],\n",
       "      [6.425295, 50.32301199800003],\n",
       "      [6.405028500000014, 50.323308499],\n",
       "      [6.315556, 50.497042498999974],\n",
       "      [6.206287499999974, 50.52130200099998],\n",
       "      [6.192200499000023, 50.521055499],\n",
       "      [6.189312500000028, 50.56609400100001],\n",
       "      [6.26861550000001, 50.625981],\n",
       "      [6.020998999000028, 50.75429550000001],\n",
       "      [6.0869475, 50.91313499900002],\n",
       "      [5.877084998999976, 51.032101],\n",
       "      [6.174812, 51.1845135],\n",
       "      [6.072657, 51.24258749799998],\n",
       "      [6.224405, 51.364978999000016],\n",
       "      [5.953192, 51.747845998],\n",
       "      [6.167766, 51.900804499],\n",
       "      [6.4077795, 51.828092001000016],\n",
       "      [6.828513, 51.9640665],\n",
       "      [6.760465, 52.11856949999998],\n",
       "      [7.065685, 52.24137299900002],\n",
       "      [7.099148999000022, 52.24305849699999],\n",
       "      [7.317481, 52.28027199899998],\n",
       "      [7.608038500000021, 52.47401599900002],\n",
       "      [7.964625500000011, 52.32485850099999],\n",
       "      [7.956465, 52.2724905],\n",
       "      [8.007796, 52.115332997999985],\n",
       "      [7.885159, 52.0833025],\n",
       "      [8.096448, 52.05714500099998],\n",
       "      [8.410586500000022, 52.11511499699998],\n",
       "      [8.4661865, 52.267614],\n",
       "      [8.2972135, 52.456497997999975],\n",
       "      [8.70300899900002, 52.500437998],\n",
       "      [9.125252499999988, 52.411993498000015],\n",
       "      [8.985787500000015, 52.19457649899999],\n",
       "      [9.15560449899999, 52.09783],\n",
       "      [9.308893, 51.92271950100002],\n",
       "      [9.323343500000021, 51.85506099700001],\n",
       "      [9.459648500000014, 51.86279749800002],\n",
       "      [9.417317500000024, 51.647269499],\n",
       "      [9.440457, 51.650393999000016]]]}},\n",
       "  {'type': 'Feature',\n",
       "   'id': 335,\n",
       "   'properties': {'NUTS_ID': 'DE1',\n",
       "    'STAT_LEVL_': 1,\n",
       "    'SHAPE_AREA': 4.42148851569,\n",
       "    'SHAPE_LEN': 9.97707210506},\n",
       "   'geometry': {'type': 'Polygon',\n",
       "    'coordinates': [[[9.5587205, 47.54189299900003],\n",
       "      [9.495604, 47.551454998999986],\n",
       "      [9.182192, 47.655890499],\n",
       "      [8.8749985, 47.65597349799998],\n",
       "      [8.843022, 47.71226249900002],\n",
       "      [8.79570849999999, 47.675595499999986],\n",
       "      [8.7279815, 47.692680499],\n",
       "      [8.740104499999973, 47.752789001],\n",
       "      [8.61233, 47.801462],\n",
       "      [8.510115, 47.776190499999984],\n",
       "      [8.606369500000028, 47.66900549899998],\n",
       "      [8.595602, 47.6055445],\n",
       "      [8.562841, 47.599432498],\n",
       "      [8.426434500000028, 47.567548998],\n",
       "      [7.894107500000018, 47.586374998999986],\n",
       "      [7.713784499999974, 47.539405],\n",
       "      [7.634097, 47.56111350100002],\n",
       "      [7.589039, 47.589877999],\n",
       "      [7.545990500000016, 47.74357399899998],\n",
       "      [7.577291, 48.115654999000014],\n",
       "      [7.5779195, 48.121391999000025],\n",
       "      [7.680713, 48.25726699699999],\n",
       "      [7.9596305, 48.71858099899998],\n",
       "      [8.232632998999975, 48.966571500999976],\n",
       "      [8.261284, 48.98091699899999],\n",
       "      [8.277349, 48.98993900099998],\n",
       "      [8.33997, 49.080149999000014],\n",
       "      [8.4130725, 49.24981649900002],\n",
       "      [8.466985500000021, 49.28297550100001],\n",
       "      [8.487268, 49.29002649900002],\n",
       "      [8.4709155, 49.340712999],\n",
       "      [8.497316, 49.411347],\n",
       "      [8.474739704, 49.44061602900001],\n",
       "      [8.423068, 49.541821],\n",
       "      [8.422700500000019, 49.57419249899999],\n",
       "      [8.4224395, 49.583385498999974],\n",
       "      [8.581375, 49.51978049899998],\n",
       "      [8.899572499999977, 49.50365549899999],\n",
       "      [8.899355, 49.48455],\n",
       "      [8.950348500000018, 49.45499299900001],\n",
       "      [8.93188, 49.470636996999986],\n",
       "      [9.083426499999973, 49.52608699699999],\n",
       "      [9.103006, 49.577456],\n",
       "      [9.41092, 49.66350799899999],\n",
       "      [9.295673, 49.740530998999986],\n",
       "      [9.471497499, 49.77972650100003],\n",
       "      [9.648736, 49.791477499999985],\n",
       "      [9.926560999, 49.48483550100002],\n",
       "      [10.083623, 49.542955499000016],\n",
       "      [10.11832750000002, 49.47316949899999],\n",
       "      [10.1119665, 49.384910499],\n",
       "      [10.256763499999977, 49.059495],\n",
       "      [10.4098495, 48.97743549900002],\n",
       "      [10.423689, 48.744495997],\n",
       "      [10.487258, 48.69666200099999],\n",
       "      [10.278268, 48.51607449900001],\n",
       "      [10.230779499999983, 48.510511],\n",
       "      [10.1338955, 48.45487149899998],\n",
       "      [10.0326945, 48.45719649900002],\n",
       "      [9.997606, 48.35011799900002],\n",
       "      [10.095357499999977, 48.16401499900002],\n",
       "      [10.136457, 48.108459498],\n",
       "      [10.135728, 48.02376149700001],\n",
       "      [10.132387, 48.01539999900001],\n",
       "      [10.11495450000001, 47.97625750100002],\n",
       "      [10.104207, 47.974358497000026],\n",
       "      [10.11013650000001, 47.937149998999985],\n",
       "      [10.131928500000015, 47.820087496999975],\n",
       "      [10.0772925, 47.63927449800002],\n",
       "      [9.692543, 47.610768999000015],\n",
       "      [9.5587205, 47.54189299900003]]]}},\n",
       "  {'type': 'Feature',\n",
       "   'id': 384,\n",
       "   'properties': {'NUTS_ID': 'DE2',\n",
       "    'STAT_LEVL_': 1,\n",
       "    'SHAPE_AREA': 8.51294163941,\n",
       "    'SHAPE_LEN': 17.5443289328},\n",
       "   'geometry': {'type': 'Polygon',\n",
       "    'coordinates': [[[11.919884500000023, 50.42440349899999],\n",
       "      [12.100900500000023, 50.31802799799999],\n",
       "      [12.160679, 50.219848997999975],\n",
       "      [12.260799, 50.05815649800002],\n",
       "      [12.550988500000017, 49.905088001000024],\n",
       "      [12.401524, 49.75837299800003],\n",
       "      [12.593778499999985, 49.54219149900001],\n",
       "      [12.633763499999986, 49.47619499799998],\n",
       "      [13.170907999, 49.173579501],\n",
       "      [13.4166515, 48.980035499],\n",
       "      [13.5515785, 48.96778749700002],\n",
       "      [13.839507, 48.77160500100001],\n",
       "      [13.796107, 48.71360049899999],\n",
       "      [13.727090499999974, 48.513019500999974],\n",
       "      [13.51336950000001, 48.59097799800003],\n",
       "      [13.438430499999981, 48.548895001],\n",
       "      [13.407838, 48.372160501],\n",
       "      [13.177043, 48.294389997],\n",
       "      [12.9446845, 48.206692498999985],\n",
       "      [12.751555, 48.11281049799999],\n",
       "      [12.86018150000001, 47.996639999000024],\n",
       "      [12.8757855, 47.962608999],\n",
       "      [13.046055500000023, 47.520502498999974],\n",
       "      [12.695795499999974, 47.682222998999976],\n",
       "      [12.575026499999979, 47.632316],\n",
       "      [12.338045498999975, 47.697087501],\n",
       "      [12.060662, 47.618743499],\n",
       "      [11.632883, 47.59244599700003],\n",
       "      [11.410219, 47.49532400099997],\n",
       "      [11.4214275, 47.44485199899998],\n",
       "      [11.0165005, 47.396368000999985],\n",
       "      [10.991202499999986, 47.396131],\n",
       "      [10.886199, 47.536847998999974],\n",
       "      [10.454439, 47.55579699899999],\n",
       "      [10.178353, 47.27011399899999],\n",
       "      [9.999526, 47.48301699699999],\n",
       "      [9.967813499999977, 47.546240496999985],\n",
       "      [9.5587205, 47.54189299900003],\n",
       "      [9.692543, 47.610768999000015],\n",
       "      [10.0772925, 47.63927449800002],\n",
       "      [10.131928500000015, 47.820087496999975],\n",
       "      [10.11013650000001, 47.937149998999985],\n",
       "      [10.104207, 47.974358497000026],\n",
       "      [10.11495450000001, 47.97625750100002],\n",
       "      [10.132387, 48.01539999900001],\n",
       "      [10.135728, 48.02376149700001],\n",
       "      [10.136457, 48.108459498],\n",
       "      [10.095357499999977, 48.16401499900002],\n",
       "      [9.997606, 48.35011799900002],\n",
       "      [10.0326945, 48.45719649900002],\n",
       "      [10.1338955, 48.45487149899998],\n",
       "      [10.230779499999983, 48.510511],\n",
       "      [10.278268, 48.51607449900001],\n",
       "      [10.487258, 48.69666200099999],\n",
       "      [10.423689, 48.744495997],\n",
       "      [10.4098495, 48.97743549900002],\n",
       "      [10.256763499999977, 49.059495],\n",
       "      [10.1119665, 49.384910499],\n",
       "      [10.11832750000002, 49.47316949899999],\n",
       "      [10.083623, 49.542955499000016],\n",
       "      [9.926560999, 49.48483550100002],\n",
       "      [9.648736, 49.791477499999985],\n",
       "      [9.471497499, 49.77972650100003],\n",
       "      [9.295673, 49.740530998999986],\n",
       "      [9.41092, 49.66350799899999],\n",
       "      [9.103006, 49.577456],\n",
       "      [9.150809, 49.742850497],\n",
       "      [9.036080500000025, 49.846503998],\n",
       "      [9.05008, 49.866315000999975],\n",
       "      [9.016088500000023, 49.991340501000025],\n",
       "      [8.990559999000027, 50.06711900099998],\n",
       "      [9.404984500000012, 50.087734497999975],\n",
       "      [9.623150999000018, 50.22903999800002],\n",
       "      [9.7329145, 50.356149499000026],\n",
       "      [9.935655, 50.419606499999986],\n",
       "      [10.0413385, 50.51646949899998],\n",
       "      [10.450532, 50.4018595],\n",
       "      [10.610115, 50.227994998999975],\n",
       "      [10.729202, 50.23000549699998],\n",
       "      [10.8514945, 50.26276249900002],\n",
       "      [10.715266499999984, 50.363590998],\n",
       "      [10.9457185, 50.38646649899999],\n",
       "      [11.189943, 50.27118550099999],\n",
       "      [11.265938, 50.479421],\n",
       "      [11.481568, 50.431621501],\n",
       "      [11.603290500000014, 50.39876600100001],\n",
       "      [11.919884500000023, 50.42440349899999]]]}},\n",
       "  {'type': 'Feature',\n",
       "   'id': 488,\n",
       "   'properties': {'NUTS_ID': 'DE3',\n",
       "    'STAT_LEVL_': 1,\n",
       "    'SHAPE_AREA': 0.110168847705,\n",
       "    'SHAPE_LEN': 1.40958564946},\n",
       "   'geometry': {'type': 'Polygon',\n",
       "    'coordinates': [[[13.66698, 52.474166998999976],\n",
       "      [13.699738, 52.37788299800002],\n",
       "      [13.420984998999984, 52.376247001000024],\n",
       "      [13.31212, 52.39959950000002],\n",
       "      [13.165898, 52.39427549800001],\n",
       "      [13.153695500000026, 52.50182150099999],\n",
       "      [13.164263, 52.59890050000001],\n",
       "      [13.39854, 52.648194498],\n",
       "      [13.610827500000028, 52.54423550000001],\n",
       "      [13.66698, 52.474166998999976]]]}},\n",
       "  {'type': 'Feature',\n",
       "   'id': 491,\n",
       "   'properties': {'NUTS_ID': 'DE4',\n",
       "    'STAT_LEVL_': 1,\n",
       "    'SHAPE_AREA': 3.87565509606,\n",
       "    'SHAPE_LEN': 11.6715531899},\n",
       "   'geometry': {'type': 'Polygon',\n",
       "    'coordinates': [[[14.412157, 53.329635998000015],\n",
       "      [14.143658, 52.9613685],\n",
       "      [14.156692, 52.89559099899998],\n",
       "      [14.436438, 52.679900498999984],\n",
       "      [14.565063, 52.624497],\n",
       "      [14.534361999, 52.395008],\n",
       "      [14.600891499999989, 52.272051998999984],\n",
       "      [14.755227, 52.070024998],\n",
       "      [14.716716, 52.001188001],\n",
       "      [14.729862, 51.581776999],\n",
       "      [14.447771, 51.542068997],\n",
       "      [14.163324499999987, 51.54104299900001],\n",
       "      [13.835313, 51.37678999799999],\n",
       "      [13.691250500000024, 51.374012999],\n",
       "      [13.21015, 51.404735999000025],\n",
       "      [13.051025, 51.647677],\n",
       "      [13.1509135, 51.859610499999974],\n",
       "      [12.769780500000024, 51.979274499999974],\n",
       "      [12.3761225, 52.04511949800002],\n",
       "      [12.27672449900001, 52.104018],\n",
       "      [12.31718, 52.454095499],\n",
       "      [12.171555, 52.506336497],\n",
       "      [12.249203500000021, 52.79186199899999],\n",
       "      [12.126811499999974, 52.890199499],\n",
       "      [11.597784499999989, 53.03592649900003],\n",
       "      [11.265732, 53.121978],\n",
       "      [12.325101500000017, 53.321301498000025],\n",
       "      [12.3317515, 53.318011],\n",
       "      [12.984683, 53.1649855],\n",
       "      [13.2414035, 53.232401],\n",
       "      [13.710065499999985, 53.4790625],\n",
       "      [14.412157, 53.329635998000015]],\n",
       "     [[13.66698, 52.474166998999976],\n",
       "      [13.610827500000028, 52.54423550000001],\n",
       "      [13.39854, 52.648194498],\n",
       "      [13.164263, 52.59890050000001],\n",
       "      [13.153695500000026, 52.50182150099999],\n",
       "      [13.165898, 52.39427549800001],\n",
       "      [13.31212, 52.39959950000002],\n",
       "      [13.420984998999984, 52.376247001000024],\n",
       "      [13.699738, 52.37788299800002],\n",
       "      [13.66698, 52.474166998999976]]]}},\n",
       "  {'type': 'Feature',\n",
       "   'id': 511,\n",
       "   'properties': {'NUTS_ID': 'DE5',\n",
       "    'STAT_LEVL_': 1,\n",
       "    'SHAPE_AREA': 0.0612262295127,\n",
       "    'SHAPE_LEN': 1.76656281046},\n",
       "   'geometry': {'type': 'MultiPolygon',\n",
       "    'coordinates': [[[[8.979256, 53.045849499999974],\n",
       "       [8.915827, 53.011021497],\n",
       "       [8.711424, 53.044629997000015],\n",
       "       [8.6548985, 53.10886449999998],\n",
       "       [8.485330499999975, 53.22712],\n",
       "       [8.984185500000024, 53.12607099899998],\n",
       "       [8.979256, 53.045849499999974]]],\n",
       "     [[[8.652134000999979, 53.51601699899999],\n",
       "       [8.492652, 53.47242000099999],\n",
       "       [8.554898499999979, 53.52513100099998],\n",
       "       [8.4832025, 53.60049899799998],\n",
       "       [8.520410500000025, 53.60620500099998],\n",
       "       [8.650632499999972, 53.602565001000016],\n",
       "       [8.652134000999979, 53.51601699899999]]]]}},\n",
       "  {'type': 'Feature',\n",
       "   'id': 515,\n",
       "   'properties': {'NUTS_ID': 'DE6',\n",
       "    'STAT_LEVL_': 1,\n",
       "    'SHAPE_AREA': 0.0754843237068,\n",
       "    'SHAPE_LEN': 1.34870769215},\n",
       "   'geometry': {'type': 'Polygon',\n",
       "    'coordinates': [[[10.308312, 53.43322149800002],\n",
       "      [9.768861, 53.50527899799999],\n",
       "      [9.73010399899999, 53.557580997],\n",
       "      [9.945376, 53.652927998],\n",
       "      [10.072805, 53.709633999],\n",
       "      [10.236678499999982, 53.49635449800002],\n",
       "      [10.308312, 53.43322149800002]]]}},\n",
       "  {'type': 'Feature',\n",
       "   'id': 518,\n",
       "   'properties': {'NUTS_ID': 'DE7',\n",
       "    'STAT_LEVL_': 1,\n",
       "    'SHAPE_AREA': 2.68440140766,\n",
       "    'SHAPE_LEN': 8.82887373531},\n",
       "   'geometry': {'type': 'Polygon',\n",
       "    'coordinates': [[[9.928339, 51.375299],\n",
       "      [10.206942, 51.19064899699998],\n",
       "      [10.210013, 51.14408299899998],\n",
       "      [10.202181, 51.012009001000024],\n",
       "      [10.18234849999999, 50.99848750000001],\n",
       "      [10.021558500000026, 50.9929495],\n",
       "      [9.9261765, 50.76738999899999],\n",
       "      [10.077555500000017, 50.63762399699999],\n",
       "      [10.0413385, 50.51646949899998],\n",
       "      [9.935655, 50.419606499999986],\n",
       "      [9.7329145, 50.356149499000026],\n",
       "      [9.623150999000018, 50.22903999800002],\n",
       "      [9.404984500000012, 50.087734497999975],\n",
       "      [8.990559999000027, 50.06711900099998],\n",
       "      [9.016088500000023, 49.991340501000025],\n",
       "      [9.05008, 49.866315000999975],\n",
       "      [9.036080500000025, 49.846503998],\n",
       "      [9.150809, 49.742850497],\n",
       "      [9.103006, 49.577456],\n",
       "      [9.083426499999973, 49.52608699699999],\n",
       "      [8.93188, 49.470636996999986],\n",
       "      [8.950348500000018, 49.45499299900001],\n",
       "      [8.899355, 49.48455],\n",
       "      [8.899572499999977, 49.50365549899999],\n",
       "      [8.581375, 49.51978049899998],\n",
       "      [8.4224395, 49.583385498999974],\n",
       "      [8.414774, 49.595051997999974],\n",
       "      [8.44637749899999, 49.73079949700002],\n",
       "      [8.448365, 49.73366149899999],\n",
       "      [8.400055, 49.803675],\n",
       "      [8.3430305, 49.940506],\n",
       "      [8.288245, 49.995134],\n",
       "      [8.190038500000014, 50.03529599699999],\n",
       "      [8.17513550000001, 50.034255497],\n",
       "      [7.773997, 50.066539998999986],\n",
       "      [8.1219135, 50.277224999],\n",
       "      [7.971559500000012, 50.40622049900003],\n",
       "      [8.151592, 50.59937099899997],\n",
       "      [8.125776499999972, 50.685813998000015],\n",
       "      [8.355495999000027, 50.862001],\n",
       "      [8.477892, 50.96904749700002],\n",
       "      [8.549084999, 51.101868001000014],\n",
       "      [8.7582145, 51.17718149900003],\n",
       "      [8.556348, 51.277495],\n",
       "      [8.970653500000026, 51.5067735],\n",
       "      [9.155410500000016, 51.44267499900002],\n",
       "      [9.440457, 51.650393999000016],\n",
       "      [9.685331, 51.58201649900002],\n",
       "      [9.672377499999982, 51.568403999],\n",
       "      [9.62582500100001, 51.580205],\n",
       "      [9.647755500000017, 51.55251099899999],\n",
       "      [9.557291, 51.35137849900002],\n",
       "      [9.568025, 51.34000149899998],\n",
       "      [9.710295479000024, 51.30153775000002],\n",
       "      [9.928339, 51.375299]]]}},\n",
       "  {'type': 'Feature',\n",
       "   'id': 540,\n",
       "   'properties': {'NUTS_ID': 'DEB',\n",
       "    'STAT_LEVL_': 1,\n",
       "    'SHAPE_AREA': 2.46718641429,\n",
       "    'SHAPE_LEN': 8.19420084873},\n",
       "   'geometry': {'type': 'Polygon',\n",
       "    'coordinates': [[[8.125776499999972, 50.685813998000015],\n",
       "      [8.151592, 50.59937099899997],\n",
       "      [7.971559500000012, 50.40622049900003],\n",
       "      [8.1219135, 50.277224999],\n",
       "      [7.773997, 50.066539998999986],\n",
       "      [8.17513550000001, 50.034255497],\n",
       "      [8.190038500000014, 50.03529599699999],\n",
       "      [8.288245, 49.995134],\n",
       "      [8.3430305, 49.940506],\n",
       "      [8.400055, 49.803675],\n",
       "      [8.448365, 49.73366149899999],\n",
       "      [8.44637749899999, 49.73079949700002],\n",
       "      [8.414774, 49.595051997999974],\n",
       "      [8.4224395, 49.583385498999974],\n",
       "      [8.422700500000019, 49.57419249899999],\n",
       "      [8.423068, 49.541821],\n",
       "      [8.474739704, 49.44061602900001],\n",
       "      [8.497316, 49.411347],\n",
       "      [8.4709155, 49.340712999],\n",
       "      [8.487268, 49.29002649900002],\n",
       "      [8.466985500000021, 49.28297550100001],\n",
       "      [8.4130725, 49.24981649900002],\n",
       "      [8.33997, 49.080149999000014],\n",
       "      [8.277349, 48.98993900099998],\n",
       "      [8.261284, 48.98091699899999],\n",
       "      [8.232632998999975, 48.966571500999976],\n",
       "      [8.068407499999978, 48.999316497999985],\n",
       "      [7.910654500000021, 49.04516349900001],\n",
       "      [7.635651, 49.053950499999985],\n",
       "      [7.36875550000002, 49.16145799899999],\n",
       "      [7.320341, 49.18949899900002],\n",
       "      [7.394494, 49.316351998000016],\n",
       "      [7.402075500000024, 49.36771850100001],\n",
       "      [7.395898499999987, 49.37204599699999],\n",
       "      [7.292601499999989, 49.408222497],\n",
       "      [7.252589, 49.43146550099999],\n",
       "      [7.276622499999974, 49.54862350000002],\n",
       "      [7.02798, 49.63943849899999],\n",
       "      [6.891454, 49.61342249799998],\n",
       "      [6.380052499999977, 49.55110499900002],\n",
       "      [6.4749625, 49.821274999000025],\n",
       "      [6.137662499999976, 50.129951499000015],\n",
       "      [6.405028500000014, 50.323308499],\n",
       "      [6.425295, 50.32301199800003],\n",
       "      [6.800711499999977, 50.36178149900002],\n",
       "      [6.927901, 50.55861850000002],\n",
       "      [7.1952005, 50.642722999],\n",
       "      [7.210872, 50.649543499],\n",
       "      [7.2123995, 50.623404999],\n",
       "      [7.44077199899999, 50.711437998],\n",
       "      [7.6610035, 50.82036450099997],\n",
       "      [7.785898, 50.939913999],\n",
       "      [7.851496, 50.92583250000001],\n",
       "      [8.03969, 50.697375498999975],\n",
       "      [8.125776499999972, 50.685813998000015]]]}},\n",
       "  {'type': 'Feature',\n",
       "   'id': 595,\n",
       "   'properties': {'NUTS_ID': 'DEG',\n",
       "    'STAT_LEVL_': 1,\n",
       "    'SHAPE_AREA': 2.05802907599,\n",
       "    'SHAPE_LEN': 8.23291011002},\n",
       "   'geometry': {'type': 'Polygon',\n",
       "    'coordinates': [[[12.284594500000026, 51.09116249700003],\n",
       "      [12.617355, 50.98079299800003],\n",
       "      [12.652865500000019, 50.923678000999985],\n",
       "      [12.250825500000019, 50.818318498999986],\n",
       "      [12.3189165, 50.67653249900002],\n",
       "      [11.94413750000001, 50.591275499],\n",
       "      [11.919884500000023, 50.42440349899999],\n",
       "      [11.603290500000014, 50.39876600100001],\n",
       "      [11.481568, 50.431621501],\n",
       "      [11.265938, 50.479421],\n",
       "      [11.189943, 50.27118550099999],\n",
       "      [10.9457185, 50.38646649899999],\n",
       "      [10.715266499999984, 50.363590998],\n",
       "      [10.8514945, 50.26276249900002],\n",
       "      [10.729202, 50.23000549699998],\n",
       "      [10.610115, 50.227994998999975],\n",
       "      [10.450532, 50.4018595],\n",
       "      [10.0413385, 50.51646949899998],\n",
       "      [10.077555500000017, 50.63762399699999],\n",
       "      [9.9261765, 50.76738999899999],\n",
       "      [10.021558500000026, 50.9929495],\n",
       "      [10.18234849999999, 50.99848750000001],\n",
       "      [10.202181, 51.012009001000024],\n",
       "      [10.210013, 51.14408299899998],\n",
       "      [10.206942, 51.19064899699998],\n",
       "      [9.928339, 51.375299],\n",
       "      [10.365365, 51.55589100100002],\n",
       "      [10.488551, 51.574778498],\n",
       "      [10.677283, 51.63837600099998],\n",
       "      [10.701372, 51.64218749999998],\n",
       "      [10.916058998999972, 51.616374001],\n",
       "      [10.978113, 51.42688499899998],\n",
       "      [11.428868500000021, 51.33980999900001],\n",
       "      [11.473968, 51.29505849899999],\n",
       "      [11.385374500000012, 51.24588699899999],\n",
       "      [11.484608499999979, 51.105437499],\n",
       "      [11.696938499999987, 51.08749099800002],\n",
       "      [12.021018500000025, 50.96912249899998],\n",
       "      [12.163369499999988, 50.95882249800002],\n",
       "      [12.224169, 50.942934998],\n",
       "      [12.284594500000026, 51.09116249700003]]]}},\n",
       "  {'type': 'Feature',\n",
       "   'id': 621,\n",
       "   'properties': {'NUTS_ID': 'DK0',\n",
       "    'STAT_LEVL_': 1,\n",
       "    'SHAPE_AREA': 5.59886938163,\n",
       "    'SHAPE_LEN': 33.2484238583},\n",
       "   'geometry': {'type': 'MultiPolygon',\n",
       "    'coordinates': [[[[10.277603904999978, 56.70085894099998],\n",
       "       [9.801955, 56.6385995],\n",
       "       [10.194114500000012, 56.68469350100003],\n",
       "       [10.308140107999975, 56.606842685],\n",
       "       [10.9599055, 56.44208149899998],\n",
       "       [10.712867, 56.14205549799999],\n",
       "       [10.345911, 56.194126],\n",
       "       [10.009511, 55.70087800099998],\n",
       "       [9.671952499999975, 55.712069998],\n",
       "       [9.543939500000022, 55.706680999000014],\n",
       "       [9.860733, 55.625149],\n",
       "       [9.739651342, 55.529699214],\n",
       "       [10.493877499, 55.54795050000001],\n",
       "       [10.427106, 55.42914599900001],\n",
       "       [10.856239500000015, 55.29318950099997],\n",
       "       [10.5537165, 54.944484499],\n",
       "       [10.072239, 55.077411498],\n",
       "       [9.679817695, 55.51198248700001],\n",
       "       [9.663652053000021, 55.510181843],\n",
       "       [9.488094499999988, 55.49062699699999],\n",
       "       [9.422177499999975, 55.033451],\n",
       "       [10.0712885, 54.877284997],\n",
       "       [9.61926649999998, 54.93403200099999],\n",
       "       [9.420151499999974, 54.83195650099998],\n",
       "       [9.113097, 54.8736015],\n",
       "       [8.63592599899999, 54.911682998],\n",
       "       [8.684189, 55.15883999800002],\n",
       "       [8.620333500000015, 55.428672999000014],\n",
       "       [8.076632500000017, 55.556964999],\n",
       "       [8.17079, 55.815367],\n",
       "       [8.386469, 55.90727850000002],\n",
       "       [8.099594, 56.036021998000024],\n",
       "       [8.19683, 56.694996],\n",
       "       [8.668789, 56.4678495],\n",
       "       [9.002038860000027, 56.80120575],\n",
       "       [9.1771, 56.708271],\n",
       "       [9.05857850000001, 56.629835997999976],\n",
       "       [9.319437, 56.672226998999975],\n",
       "       [9.159611, 56.67793249800002],\n",
       "       [9.24345, 56.74848949699998],\n",
       "       [9.164284, 56.88882849999999],\n",
       "       [10.272072, 56.9368935],\n",
       "       [10.3327445, 56.70807649699998],\n",
       "       [10.277603904999978, 56.70085894099998]]],\n",
       "     [[[12.5641005, 55.994034],\n",
       "       [12.583112, 55.807791501],\n",
       "       [12.584052499999984, 55.72177349999998],\n",
       "       [12.6812885, 55.588256999],\n",
       "       [12.504888, 55.6374695],\n",
       "       [12.363498, 55.593827498999985],\n",
       "       [12.221227, 55.425629501],\n",
       "       [12.4563445, 55.29250699900001],\n",
       "       [12.0024285, 54.96804599699999],\n",
       "       [11.6157665, 55.08135999899997],\n",
       "       [11.828402499999982, 55.042315997],\n",
       "       [11.748527500000023, 55.219173497999975],\n",
       "       [11.243200499000011, 55.207942996999975],\n",
       "       [10.87105, 55.74376300099999],\n",
       "       [11.348573, 55.75773650000002],\n",
       "       [11.4824, 55.96112800100002],\n",
       "       [11.777166500000021, 55.9767685],\n",
       "       [11.743550500000026, 55.78957349799998],\n",
       "       [11.805708192, 55.68068123199998],\n",
       "       [11.87555, 55.73759149900002],\n",
       "       [11.9599945, 55.850509498],\n",
       "       [11.905017, 55.9359095],\n",
       "       [12.0596445, 55.73209000100002],\n",
       "       [11.980809, 55.730124998],\n",
       "       [11.951244, 55.67552199900001],\n",
       "       [12.084782, 55.65425400100003],\n",
       "       [12.08717468499998, 55.719519628],\n",
       "       [12.088165831000026, 55.746555279],\n",
       "       [12.089422, 55.78082],\n",
       "       [12.01011649899999, 55.96801749799999],\n",
       "       [11.844483500000024, 55.967036999000015],\n",
       "       [12.5641005, 55.994034]]],\n",
       "     [[[8.668212, 56.950069498],\n",
       "       [8.515605634, 56.68652384799998],\n",
       "       [8.577901844, 56.692498349],\n",
       "       [8.581561781, 56.695444119],\n",
       "       [8.9003495, 56.952026499],\n",
       "       [8.7765885, 56.694549498000015],\n",
       "       [8.595991889, 56.690836525],\n",
       "       [8.583263347000013, 56.69057483300003],\n",
       "       [8.4040455, 56.670237],\n",
       "       [8.232896, 56.798159499],\n",
       "       [8.589805500000011, 57.11797349699998],\n",
       "       [9.3992035, 57.164098497],\n",
       "       [9.95829550000002, 57.595298997999976],\n",
       "       [10.644709499999976, 57.74275549999999],\n",
       "       [10.42233349999998, 57.14775149799999],\n",
       "       [8.668212, 56.950069498]]],\n",
       "     [[[12.166872, 54.834666997],\n",
       "       [11.4617675, 54.610306],\n",
       "       [10.956038499999977, 54.81500649700001],\n",
       "       [12.166872, 54.834666997]]],\n",
       "     [[[14.779674, 55.29000449900002],\n",
       "       [15.158351, 55.083439],\n",
       "       [14.683027, 55.09734649699999],\n",
       "       [14.779674, 55.29000449900002]]]]}},\n",
       "  {'type': 'Feature',\n",
       "   'id': 639,\n",
       "   'properties': {'NUTS_ID': 'EE0',\n",
       "    'STAT_LEVL_': 1,\n",
       "    'SHAPE_AREA': 6.93883073087,\n",
       "    'SHAPE_LEN': 17.3750347655},\n",
       "   'geometry': {'type': 'MultiPolygon',\n",
       "    'coordinates': [[[[27.357049499000027, 58.787144001],\n",
       "       [27.621053500000016, 58.0051115],\n",
       "       [27.351579, 57.51823699900001],\n",
       "       [26.52490549999999, 57.516247497999984],\n",
       "       [26.056459, 57.84843149699998],\n",
       "       [25.046307, 58.04014600099998],\n",
       "       [24.834082500000022, 57.9727795],\n",
       "       [24.352817500000015, 57.87655650099998],\n",
       "       [24.58152, 58.32541549899997],\n",
       "       [24.11198250000001, 58.24046150100003],\n",
       "       [23.521601, 58.56487950000002],\n",
       "       [23.404937, 59.025805],\n",
       "       [23.730738499999973, 59.23713250100002],\n",
       "       [24.796578, 59.57180350099998],\n",
       "       [25.83015949899999, 59.564065],\n",
       "       [26.759436, 59.499518497999986],\n",
       "       [28.04186249999998, 59.4701025],\n",
       "       [28.209798001000024, 59.37138799899998],\n",
       "       [27.357049499000027, 58.787144001]]],\n",
       "     [[[23.34560750000003, 58.61022999800002],\n",
       "       [22.719874, 58.21216500100002],\n",
       "       [21.828614, 58.30703299800001],\n",
       "       [22.543011499999977, 58.64205149600002],\n",
       "       [23.34560750000003, 58.61022999800002]]],\n",
       "     [[[22.9317145, 58.97105100099998],\n",
       "       [23.069148, 58.838146000999984],\n",
       "       [22.393010999000012, 58.891237998],\n",
       "       [22.592449, 59.08807299699998],\n",
       "       [22.9317145, 58.97105100099998]]]]}},\n",
       "  {'type': 'Feature',\n",
       "   'id': 651,\n",
       "   'properties': {'NUTS_ID': 'EL3',\n",
       "    'STAT_LEVL_': 1,\n",
       "    'SHAPE_AREA': 0.349990482495,\n",
       "    'SHAPE_LEN': 4.11811841123},\n",
       "   'geometry': {'type': 'MultiPolygon',\n",
       "    'coordinates': [[[[24.079767, 38.16191199899998],\n",
       "       [24.072212499999978, 37.68205400099998],\n",
       "       [23.743593, 37.853809497999976],\n",
       "       [23.672225500000025, 37.94181999900002],\n",
       "       [23.5713945, 37.993224499],\n",
       "       [23.5969505, 38.01517499800002],\n",
       "       [23.179699500000027, 37.951589997999974],\n",
       "       [23.133437, 37.920439499],\n",
       "       [22.848893499999974, 38.02820650000001],\n",
       "       [23.117532, 38.060645997999984],\n",
       "       [23.126179, 38.168400001],\n",
       "       [23.63415550000002, 38.211311498999976],\n",
       "       [23.690418, 38.34029749899997],\n",
       "       [24.079767, 38.16191199899998]]],\n",
       "     [[[23.5226725, 37.518099499000016],\n",
       "       [23.4244195, 37.411700998000015],\n",
       "       [23.2003785, 37.59665300099999],\n",
       "       [23.386825499999986, 37.56118399899998],\n",
       "       [23.5226725, 37.518099499000016]]]]}},\n",
       "  {'type': 'Feature',\n",
       "   'id': 660,\n",
       "   'properties': {'NUTS_ID': 'EL4',\n",
       "    'STAT_LEVL_': 1,\n",
       "    'SHAPE_AREA': 1.18768899792,\n",
       "    'SHAPE_LEN': 13.9733443587},\n",
       "   'geometry': {'type': 'MultiPolygon',\n",
       "    'coordinates': [[[[23.596821, 35.628162498999984],\n",
       "       [23.8409785, 35.52808],\n",
       "       [24.174324, 35.58719999800002],\n",
       "       [24.317411, 35.353774998],\n",
       "       [24.92800349999999, 35.40690999899999],\n",
       "       [25.040821, 35.400146499000016],\n",
       "       [25.490698, 35.29833199799998],\n",
       "       [25.7719595, 35.34151849900002],\n",
       "       [25.7262935, 35.13115699799999],\n",
       "       [26.263292499999977, 35.265228501000024],\n",
       "       [26.281149, 35.111587499],\n",
       "       [25.550568, 34.99075699799999],\n",
       "       [24.7709425, 34.929885997999975],\n",
       "       [24.722517, 35.092544499999974],\n",
       "       [24.287523498999974, 35.17600650000003],\n",
       "       [23.515789, 35.289715],\n",
       "       [23.596821, 35.628162498999984]]],\n",
       "     [[[26.424524500000018, 39.33404150000001],\n",
       "       [26.609173, 39.010497998],\n",
       "       [25.831421, 39.18841949900002],\n",
       "       [26.424524500000018, 39.33404150000001]]],\n",
       "     [[[28.22072350000002, 36.45793699799998],\n",
       "       [27.863466500000015, 35.929278497999974],\n",
       "       [27.71846149999999, 35.94023049899999],\n",
       "       [27.703456500000016, 36.146589999000014],\n",
       "       [28.22072350000002, 36.45793699799998]]],\n",
       "     [[[26.159764, 38.55309299800001],\n",
       "       [26.03731349899999, 38.19849399899999],\n",
       "       [25.8641245, 38.24406799799999],\n",
       "       [25.857202500000028, 38.58042900100003],\n",
       "       [26.159764, 38.55309299800001]]],\n",
       "     [[[27.230274, 35.508568001000015],\n",
       "       [27.134781, 35.396366],\n",
       "       [27.061262, 35.59654999899999],\n",
       "       [27.2101575, 35.830795497999986],\n",
       "       [27.230274, 35.508568001000015]]],\n",
       "     [[[24.9576055, 37.89711749899999],\n",
       "       [24.9635755, 37.683925499],\n",
       "       [24.684284, 37.95106499899998],\n",
       "       [24.9576055, 37.89711749899999]]],\n",
       "     [[[26.8575075, 37.79709649799997],\n",
       "       [27.07025349999998, 37.717021998],\n",
       "       [26.5665095, 37.730647998999984],\n",
       "       [26.8575075, 37.79709649799997]]]]}},\n",
       "  {'type': 'Feature',\n",
       "   'id': 673,\n",
       "   'properties': {'NUTS_ID': 'EL5',\n",
       "    'STAT_LEVL_': 1,\n",
       "    'SHAPE_AREA': 5.52304863054,\n",
       "    'SHAPE_LEN': 20.8627648371},\n",
       "   'geometry': {'type': 'MultiPolygon',\n",
       "    'coordinates': [[[[26.628431499999976, 41.345533499],\n",
       "       [26.321652, 41.250406499],\n",
       "       [26.291015500000015, 40.93188349899998],\n",
       "       [26.032758, 40.730256999],\n",
       "       [25.632429, 40.862804498],\n",
       "       [25.139545, 40.99068749899999],\n",
       "       [24.81349, 40.858085499000026],\n",
       "       [24.508724, 40.95848099800003],\n",
       "       [24.088630500000022, 40.72168399899999],\n",
       "       [23.86774650000001, 40.77872849900001],\n",
       "       [23.765077500000018, 40.75789249899998],\n",
       "       [23.7568645, 40.63456349799998],\n",
       "       [24.010988, 40.389434499],\n",
       "       [24.005043, 40.31456749900002],\n",
       "       [23.861864, 40.37016300099998],\n",
       "       [23.694948, 40.30393999900002],\n",
       "       [23.997488499999974, 40.10770799900001],\n",
       "       [23.9472275, 39.93801899699997],\n",
       "       [23.65232450000002, 40.224617],\n",
       "       [23.005256498999984, 40.35036050100001],\n",
       "       [22.814283499999988, 40.47844299899998],\n",
       "       [22.947689500000024, 40.62663649799998],\n",
       "       [22.682419, 40.52896499899998],\n",
       "       [22.66395749999998, 40.49155449699998],\n",
       "       [22.54789549999998, 40.145462001],\n",
       "       [22.66243, 39.975547999000014],\n",
       "       [22.1152075, 40.18994899799998],\n",
       "       [21.918218500000023, 39.85261149899998],\n",
       "       [21.29648450000002, 39.85777299799997],\n",
       "       [21.181753, 39.501956999000015],\n",
       "       [21.373546499999975, 39.17473599800002],\n",
       "       [21.1086085, 39.04614650100001],\n",
       "       [20.738746, 39.01890949900002],\n",
       "       [20.4778215, 39.27484149899999],\n",
       "       [20.464247, 39.273101999],\n",
       "       [20.3006785, 39.31573499699999],\n",
       "       [20.008812499999976, 39.69129200100002],\n",
       "       [20.391308, 39.788483499999984],\n",
       "       [20.312236499999983, 39.991022498],\n",
       "       [20.778501, 40.34878899900002],\n",
       "       [21.05606849999998, 40.6166955],\n",
       "       [20.980204500000013, 40.855665],\n",
       "       [21.787378, 40.9311255],\n",
       "       [21.929438, 41.10035049800001],\n",
       "       [22.216216, 41.17045749800002],\n",
       "       [22.332052, 41.12027250099999],\n",
       "       [22.732037, 41.146391498000014],\n",
       "       [22.879178500000023, 41.340652998],\n",
       "       [22.9275915, 41.33853949899998],\n",
       "       [23.624222998999983, 41.375727497000014],\n",
       "       [24.059744, 41.522112],\n",
       "       [24.525637, 41.568699998],\n",
       "       [24.783956, 41.36018899700002],\n",
       "       [25.1793755, 41.310187998],\n",
       "       [25.224698499999988, 41.26463099799997],\n",
       "       [25.90643749999998, 41.307574998],\n",
       "       [25.948626, 41.32034200099997],\n",
       "       [26.158688499999982, 41.39118249699999],\n",
       "       [26.060393, 41.68851600099998],\n",
       "       [26.357879, 41.71110449899999],\n",
       "       [26.6001205, 41.60119899799997],\n",
       "       [26.628431499999976, 41.345533499]]],\n",
       "     [[[23.679613, 39.972439001],\n",
       "       [23.750192500000026, 39.91598499899999],\n",
       "       [23.355198, 39.95388049899998],\n",
       "       [23.3263685, 40.18334949899997],\n",
       "       [23.679613, 39.972439001]]]]}},\n",
       "  {'type': 'Feature',\n",
       "   'id': 692,\n",
       "   'properties': {'NUTS_ID': 'EL6',\n",
       "    'STAT_LEVL_': 1,\n",
       "    'SHAPE_AREA': 5.84357013068,\n",
       "    'SHAPE_LEN': 28.3432960344},\n",
       "   'geometry': {'type': 'MultiPolygon',\n",
       "    'coordinates': [[[[22.66243, 39.975547999000014],\n",
       "       [22.915911, 39.60293599900001],\n",
       "       [22.976824, 39.555328498999984],\n",
       "       [23.3514765, 39.18777449999999],\n",
       "       [23.07373050000001, 39.084652],\n",
       "       [23.212417500000015, 39.146873497],\n",
       "       [23.1633645, 39.2728995],\n",
       "       [22.821161500000017, 39.277507501],\n",
       "       [23.018066499999975, 39.00265499699998],\n",
       "       [22.527525, 38.85890949999998],\n",
       "       [23.3777905, 38.52575699800002],\n",
       "       [23.328289, 38.50122049999999],\n",
       "       [23.560117, 38.502597998],\n",
       "       [23.655134499999974, 38.35249699899998],\n",
       "       [23.690418, 38.34029749899997],\n",
       "       [23.63415550000002, 38.211311498999976],\n",
       "       [23.126179, 38.168400001],\n",
       "       [22.6080685, 38.359401499],\n",
       "       [21.851717, 38.374519497999984],\n",
       "       [21.486598730000026, 38.301853584000014],\n",
       "       [21.486297499999978, 38.32768649899998],\n",
       "       [21.48474447199999, 38.306621568000025],\n",
       "       [21.318926, 38.499629997],\n",
       "       [21.1428795, 38.3037875],\n",
       "       [21.105279793000022, 38.392762489],\n",
       "       [21.075875442999973, 38.462344194000025],\n",
       "       [20.988678, 38.66868599899999],\n",
       "       [20.726846500000022, 38.814430499000025],\n",
       "       [20.764536, 38.95730949900002],\n",
       "       [21.066231, 38.87713649900002],\n",
       "       [21.1086085, 39.04614650100001],\n",
       "       [21.373546499999975, 39.17473599800002],\n",
       "       [21.181753, 39.501956999000015],\n",
       "       [21.29648450000002, 39.85777299799997],\n",
       "       [21.918218500000023, 39.85261149899998],\n",
       "       [22.1152075, 40.18994899799998],\n",
       "       [22.66243, 39.975547999000014]]],\n",
       "     [[[23.2003785, 37.59665300099999],\n",
       "       [23.4244195, 37.411700998000015],\n",
       "       [22.725086, 37.572639498],\n",
       "       [22.982481, 37.04802699800001],\n",
       "       [23.196792500000015, 36.434662],\n",
       "       [22.7856215, 36.796966499],\n",
       "       [22.386833, 36.591141],\n",
       "       [22.149515, 37.01814649900001],\n",
       "       [21.9301395, 36.9811555],\n",
       "       [21.877396, 36.717616497999984],\n",
       "       [21.704893, 36.811290499999984],\n",
       "       [21.565725499, 37.163509499999975],\n",
       "       [21.680233, 37.377433999],\n",
       "       [21.105238, 37.848926499000015],\n",
       "       [21.351074, 38.10213849899998],\n",
       "       [21.871086, 38.334537497999975],\n",
       "       [22.3729725, 38.14222349800002],\n",
       "       [22.962061, 37.949569499],\n",
       "       [23.178438, 37.803564498000014],\n",
       "       [23.120031499999982, 37.72998499900001],\n",
       "       [23.2003785, 37.59665300099999]]],\n",
       "     [[[23.426233500000023, 38.90583049899999],\n",
       "       [24.155115, 38.651188],\n",
       "       [24.248035500000015, 38.22748199900002],\n",
       "       [24.58396349999998, 38.0242235],\n",
       "       [24.30678, 38.06962199899999],\n",
       "       [24.048601, 38.395148998000025],\n",
       "       [23.648699, 38.398697],\n",
       "       [23.511806499999977, 38.587054997999985],\n",
       "       [23.196602, 38.834670999000025],\n",
       "       [22.82939349999998, 38.825450999],\n",
       "       [23.317873, 39.038505499],\n",
       "       [23.426233500000023, 38.90583049899999]]],\n",
       "     [[[20.628674, 38.32527149700002],\n",
       "       [20.79628550000001, 38.065116999],\n",
       "       [20.341785500000015, 38.17613199700003],\n",
       "       [20.536981500000024, 38.469810499],\n",
       "       [20.628674, 38.32527149700002]]],\n",
       "     [[[20.899757, 37.77567349899999],\n",
       "       [20.988697, 37.70522249700002],\n",
       "       [20.878824, 37.729893],\n",
       "       [20.829103, 37.644634998000015],\n",
       "       [20.625544, 37.82070200099997],\n",
       "       [20.632630999000014, 37.88441899899999],\n",
       "       [20.71006, 37.922859999000025],\n",
       "       [20.899757, 37.77567349899999]]],\n",
       "     [[[19.841421500000024, 39.659159499],\n",
       "       [20.109863500000017, 39.360972],\n",
       "       [19.641207, 39.749874498999986],\n",
       "       [19.915536499999973, 39.79195249899999],\n",
       "       [19.841421500000024, 39.659159499]]],\n",
       "     [[[20.721731, 38.62622449899999],\n",
       "       [20.55155350000001, 38.57782749799998],\n",
       "       [20.5996705, 38.77957899799998],\n",
       "       [20.693756, 38.851817998],\n",
       "       [20.721731, 38.62622449899999]]]]}},\n",
       "  {'type': 'Feature',\n",
       "   'id': 717,\n",
       "   'properties': {'NUTS_ID': 'ES1',\n",
       "    'STAT_LEVL_': 1,\n",
       "    'SHAPE_AREA': 5.10932210777,\n",
       "    'SHAPE_LEN': 16.2252477086},\n",
       "   'geometry': {'type': 'Polygon',\n",
       "    'coordinates': [[[-3.153338, 43.35322199900003],\n",
       "      [-3.450147, 43.23620799899999],\n",
       "      [-3.417681500000015, 43.13336949799998],\n",
       "      [-3.945488, 43.005718496999975],\n",
       "      [-3.815811, 42.812561],\n",
       "      [-3.99967, 42.76893249699998],\n",
       "      [-4.002319, 42.830867497999975],\n",
       "      [-4.04593, 42.766566996999984],\n",
       "      [-4.081359, 42.761417499],\n",
       "      [-4.238510999000027, 42.95431499799997],\n",
       "      [-4.737022998999976, 43.02092349899999],\n",
       "      [-4.841038500000025, 43.18070949999998],\n",
       "      [-6.824167, 42.915012499],\n",
       "      [-7.076834, 42.50812399900002],\n",
       "      [-6.8227655, 42.490833001],\n",
       "      [-6.784308, 42.253608499999984],\n",
       "      [-6.983513500000015, 41.97290399899998],\n",
       "      [-7.20046450000001, 41.879749498000024],\n",
       "      [-8.051862500000027, 41.820613998],\n",
       "      [-8.1650755, 41.818302],\n",
       "      [-8.199000500000011, 42.15441899899997],\n",
       "      [-8.863186, 41.87206649900003],\n",
       "      [-8.898017, 42.1119195],\n",
       "      [-8.658873500000027, 42.29143499899999],\n",
       "      [-8.833692499999984, 42.47013449899998],\n",
       "      [-8.726749499999983, 42.68825149700001],\n",
       "      [-9.0309545, 42.69756299699998],\n",
       "      [-9.277219, 43.0441095],\n",
       "      [-7.904372500000022, 43.769103997],\n",
       "      [-7.699736499999972, 43.735115001],\n",
       "      [-7.031837, 43.54447149700002],\n",
       "      [-5.84171, 43.65595649900001],\n",
       "      [-4.51230099899999, 43.393204001000015],\n",
       "      [-3.426641001, 43.41351300100001],\n",
       "      [-3.153338, 43.35322199900003]]]}},\n",
       "  {'type': 'Feature',\n",
       "   'id': 727,\n",
       "   'properties': {'NUTS_ID': 'ES2',\n",
       "    'STAT_LEVL_': 1,\n",
       "    'SHAPE_AREA': 7.73144282332,\n",
       "    'SHAPE_LEN': 14.658468562},\n",
       "   'geometry': {'type': 'Polygon',\n",
       "    'coordinates': [[[-1.785978, 43.35047899699998],\n",
       "      [-1.728903, 43.29608899700003],\n",
       "      [-1.6087885, 43.251976001],\n",
       "      [-0.724501, 42.920158500000014],\n",
       "      [-0.551047, 42.777637500000026],\n",
       "      [-0.313342, 42.849364997],\n",
       "      [0.4777555, 42.70001999700003],\n",
       "      [0.660127, 42.69095249899999],\n",
       "      [0.767070499999988, 42.34881599800002],\n",
       "      [0.335948499999972, 41.40743249899998],\n",
       "      [0.385724, 41.278839498000025],\n",
       "      [0.220409500000017, 41.07143],\n",
       "      [0.170789500000012, 40.732837],\n",
       "      [-0.197124499999973, 40.78445799899998],\n",
       "      [-0.279997499999979, 40.36949949900003],\n",
       "      [-0.837749501000019, 39.97681799700001],\n",
       "      [-0.797643, 39.88107649900002],\n",
       "      [-0.912739, 39.87310750099999],\n",
       "      [-1.1423615, 39.971855499000014],\n",
       "      [-1.165154, 40.01010899800002],\n",
       "      [-1.448831499999983, 40.14535849700002],\n",
       "      [-1.806344, 40.39824699899998],\n",
       "      [-1.545494500000018, 40.59521099900002],\n",
       "      [-1.6174335, 40.94374099700002],\n",
       "      [-2.05169, 41.14685799900002],\n",
       "      [-2.170485499999984, 41.318836498999985],\n",
       "      [-1.825316, 41.778365999000016],\n",
       "      [-1.8565395, 41.966388498000015],\n",
       "      [-2.282167500000014, 42.13168699900001],\n",
       "      [-2.9136375, 42.02283849999998],\n",
       "      [-3.13429450000001, 42.54202249799999],\n",
       "      [-2.8581175, 42.63816849900002],\n",
       "      [-3.286797499999977, 42.885097497],\n",
       "      [-3.0369895, 42.98218549799998],\n",
       "      [-3.0890235, 43.00158299899999],\n",
       "      [-3.141396, 43.161483498999985],\n",
       "      [-3.417681500000015, 43.13336949799998],\n",
       "      [-3.450147, 43.23620799899999],\n",
       "      [-3.153338, 43.35322199900003],\n",
       "      [-2.508807499999989, 43.376544998999975],\n",
       "      [-2.412847, 43.321082998],\n",
       "      [-1.785978, 43.35047899699998]]]}},\n",
       "  {'type': 'Feature',\n",
       "   'id': 740,\n",
       "   'properties': {'NUTS_ID': 'ES3',\n",
       "    'STAT_LEVL_': 1,\n",
       "    'SHAPE_AREA': 0.812724790658,\n",
       "    'SHAPE_LEN': 4.32668763009},\n",
       "   'geometry': {'type': 'Polygon',\n",
       "    'coordinates': [[[-3.130407, 40.40515399899999],\n",
       "      [-3.194294500000012, 40.248005998999986],\n",
       "      [-3.067689, 40.157884998999975],\n",
       "      [-3.161419500000022, 40.06489699799999],\n",
       "      [-3.623443, 40.053848500000015],\n",
       "      [-4.190704, 40.29731599799999],\n",
       "      [-4.578901, 40.217157499],\n",
       "      [-4.160293500000023, 40.68985350000003],\n",
       "      [-3.539573, 41.16499349899999],\n",
       "      [-3.394300499999986, 41.000234498],\n",
       "      [-3.468398, 40.689896498999985],\n",
       "      [-3.130407, 40.40515399899999]]]}},\n",
       "  {'type': 'Feature',\n",
       "   'id': 743,\n",
       "   'properties': {'NUTS_ID': 'DEC',\n",
       "    'STAT_LEVL_': 1,\n",
       "    'SHAPE_AREA': 0.321613830253,\n",
       "    'SHAPE_LEN': 2.64664249277},\n",
       "   'geometry': {'type': 'Polygon',\n",
       "    'coordinates': [[[7.36875550000002, 49.16145799899999],\n",
       "      [7.101069, 49.155998],\n",
       "      [6.723465499999975, 49.21882899899998],\n",
       "      [6.556986, 49.41920849899998],\n",
       "      [6.367107499999975, 49.46950700100001],\n",
       "      [6.380052499999977, 49.55110499900002],\n",
       "      [6.891454, 49.61342249799998],\n",
       "      [7.02798, 49.63943849899999],\n",
       "      [7.276622499999974, 49.54862350000002],\n",
       "      [7.252589, 49.43146550099999],\n",
       "      [7.292601499999989, 49.408222497],\n",
       "      [7.395898499999987, 49.37204599699999],\n",
       "      [7.402075500000024, 49.36771850100001],\n",
       "      [7.394494, 49.316351998000016],\n",
       "      [7.320341, 49.18949899900002],\n",
       "      [7.36875550000002, 49.16145799899999]]]}},\n",
       "  {'type': 'Feature',\n",
       "   'id': 751,\n",
       "   'properties': {'NUTS_ID': 'DED',\n",
       "    'STAT_LEVL_': 1,\n",
       "    'SHAPE_AREA': 2.33772084505,\n",
       "    'SHAPE_LEN': 9.00332850707},\n",
       "   'geometry': {'type': 'Polygon',\n",
       "    'coordinates': [[[14.729862, 51.581776999],\n",
       "      [14.974183, 51.36394999700002],\n",
       "      [15.037271, 51.24374999899999],\n",
       "      [14.823362, 50.87055049700001],\n",
       "      [14.6188, 50.85780449700002],\n",
       "      [14.491221, 51.043530498999985],\n",
       "      [14.317873500000019, 51.05469899899998],\n",
       "      [14.388335, 50.90029899799998],\n",
       "      [13.652174, 50.73035999799998],\n",
       "      [13.501846, 50.63364299900002],\n",
       "      [12.948144500000012, 50.404311499000016],\n",
       "      [12.5837785, 50.40707899900002],\n",
       "      [12.100900500000023, 50.31802799799999],\n",
       "      [11.919884500000023, 50.42440349899999],\n",
       "      [11.94413750000001, 50.591275499],\n",
       "      [12.3189165, 50.67653249900002],\n",
       "      [12.250825500000019, 50.818318498999986],\n",
       "      [12.652865500000019, 50.923678000999985],\n",
       "      [12.617355, 50.98079299800003],\n",
       "      [12.284594500000026, 51.09116249700003],\n",
       "      [12.1709045, 51.2755085],\n",
       "      [12.193544499999973, 51.33251850099998],\n",
       "      [12.198939, 51.531320498000014],\n",
       "      [12.580263, 51.62606549999998],\n",
       "      [13.051025, 51.647677],\n",
       "      [13.21015, 51.404735999000025],\n",
       "      [13.691250500000024, 51.374012999],\n",
       "      [13.835313, 51.37678999799999],\n",
       "      [14.163324499999987, 51.54104299900001],\n",
       "      [14.447771, 51.542068997],\n",
       "      [14.729862, 51.581776999]]]}},\n",
       "  {'type': 'Feature',\n",
       "   'id': 768,\n",
       "   'properties': {'NUTS_ID': 'DEE',\n",
       "    'STAT_LEVL_': 1,\n",
       "    'SHAPE_AREA': 2.72983999607,\n",
       "    'SHAPE_LEN': 8.79586880201},\n",
       "   'geometry': {'type': 'Polygon',\n",
       "    'coordinates': [[[13.051025, 51.647677],\n",
       "      [12.580263, 51.62606549999998],\n",
       "      [12.198939, 51.531320498000014],\n",
       "      [12.193544499999973, 51.33251850099998],\n",
       "      [12.1709045, 51.2755085],\n",
       "      [12.284594500000026, 51.09116249700003],\n",
       "      [12.224169, 50.942934998],\n",
       "      [12.163369499999988, 50.95882249800002],\n",
       "      [12.021018500000025, 50.96912249899998],\n",
       "      [11.696938499999987, 51.08749099800002],\n",
       "      [11.484608499999979, 51.105437499],\n",
       "      [11.385374500000012, 51.24588699899999],\n",
       "      [11.473968, 51.29505849899999],\n",
       "      [11.428868500000021, 51.33980999900001],\n",
       "      [10.978113, 51.42688499899998],\n",
       "      [10.916058998999972, 51.616374001],\n",
       "      [10.701372, 51.64218749999998],\n",
       "      [10.561227, 52.00406599899998],\n",
       "      [10.801428499999986, 52.0480005],\n",
       "      [10.964414499999975, 52.05664299799997],\n",
       "      [11.086244, 52.22863399900001],\n",
       "      [10.93454250000002, 52.471794999],\n",
       "      [11.0087815, 52.496747500000026],\n",
       "      [10.759314500000016, 52.79583050000002],\n",
       "      [10.841556, 52.852205],\n",
       "      [11.505027, 52.941032499000016],\n",
       "      [11.597784499999989, 53.03592649900003],\n",
       "      [12.126811499999974, 52.890199499],\n",
       "      [12.249203500000021, 52.79186199899999],\n",
       "      [12.171555, 52.506336497],\n",
       "      [12.31718, 52.454095499],\n",
       "      [12.27672449900001, 52.104018],\n",
       "      [12.3761225, 52.04511949800002],\n",
       "      [12.769780500000024, 51.979274499999974],\n",
       "      [13.1509135, 51.859610499999974],\n",
       "      [13.051025, 51.647677]]]}},\n",
       "  {'type': 'Feature',\n",
       "   'id': 784,\n",
       "   'properties': {'NUTS_ID': 'DEF',\n",
       "    'STAT_LEVL_': 1,\n",
       "    'SHAPE_AREA': 2.07192772466,\n",
       "    'SHAPE_LEN': 8.32640217384},\n",
       "   'geometry': {'type': 'Polygon',\n",
       "    'coordinates': [[[9.420151499999974, 54.83195650099998],\n",
       "      [9.422934, 54.823222998],\n",
       "      [9.491949499999976, 54.822635499],\n",
       "      [10.03117, 54.63657500099998],\n",
       "      [10.168517, 54.432844998],\n",
       "      [10.174162, 54.345745498999975],\n",
       "      [10.713750499000014, 54.305072500999984],\n",
       "      [11.1256095, 54.373613499999976],\n",
       "      [11.093783, 54.19905050099999],\n",
       "      [10.755363499999987, 54.054051501],\n",
       "      [10.840886001, 53.99189399800002],\n",
       "      [10.903661500999988, 53.95682200099998],\n",
       "      [10.76296450000001, 53.811153],\n",
       "      [10.951918499999977, 53.64762249900002],\n",
       "      [10.595047, 53.36392750099998],\n",
       "      [10.469184, 53.385844],\n",
       "      [10.308312, 53.43322149800002],\n",
       "      [10.236678499999982, 53.49635449800002],\n",
       "      [10.072805, 53.709633999],\n",
       "      [9.945376, 53.652927998],\n",
       "      [9.73010399899999, 53.557580997],\n",
       "      [9.48589, 53.707664497999986],\n",
       "      [9.199750999, 53.88010449799998],\n",
       "      [9.02242, 53.87951750000002],\n",
       "      [8.8448045, 54.266328499999986],\n",
       "      [8.602134, 54.340507996999975],\n",
       "      [9.010464, 54.49682299900002],\n",
       "      [8.372664499999985, 54.89685649799998],\n",
       "      [8.63592599899999, 54.911682998],\n",
       "      [9.113097, 54.8736015],\n",
       "      [9.420151499999974, 54.83195650099998]]]}},\n",
       "  {'type': 'Feature',\n",
       "   'id': 799,\n",
       "   'properties': {'NUTS_ID': 'FR6',\n",
       "    'STAT_LEVL_': 1,\n",
       "    'SHAPE_AREA': 11.8789682494,\n",
       "    'SHAPE_LEN': 17.7463988788},\n",
       "   'geometry': {'type': 'Polygon',\n",
       "    'coordinates': [[[2.28104350000001, 46.420403497],\n",
       "      [2.565372500000024, 46.143036],\n",
       "      [2.60902149899999, 45.966643998999984],\n",
       "      [2.388014, 45.827372997],\n",
       "      [2.492129499999976, 45.73766999700001],\n",
       "      [2.50841250000002, 45.478501499],\n",
       "      [2.062908, 44.97650449899999],\n",
       "      [2.207473, 44.61552899899999],\n",
       "      [2.4789475, 44.64800999900001],\n",
       "      [2.7167695, 44.928827996999985],\n",
       "      [2.9816755, 44.64467299900002],\n",
       "      [3.120173500000021, 44.261838496999985],\n",
       "      [3.373648, 44.170759498999985],\n",
       "      [3.263114, 44.092425499],\n",
       "      [3.448355, 44.01910349899998],\n",
       "      [3.358362, 43.913829498999974],\n",
       "      [2.935457, 43.694664999],\n",
       "      [2.565782500000012, 43.422958],\n",
       "      [2.265415, 43.452913498999976],\n",
       "      [2.029134, 43.43689549700002],\n",
       "      [1.6884235, 43.27355449700002],\n",
       "      [1.949341, 43.120973],\n",
       "      [2.166049, 42.66391749899998],\n",
       "      [1.7860985, 42.573658],\n",
       "      [1.442566, 42.60366800100002],\n",
       "      [0.858215, 42.825740999],\n",
       "      [0.660127, 42.69095249899999],\n",
       "      [0.4777555, 42.70001999700003],\n",
       "      [-0.313342, 42.849364997],\n",
       "      [-0.551047, 42.777637500000026],\n",
       "      [-0.724501, 42.920158500000014],\n",
       "      [-1.6087885, 43.251976001],\n",
       "      [-1.728903, 43.29608899700003],\n",
       "      [-1.785978, 43.35047899699998],\n",
       "      [-1.52487050000002, 43.529700999],\n",
       "      [-1.253891, 44.467605499],\n",
       "      [-1.156919, 45.472530499000015],\n",
       "      [-0.708231, 45.32748049899999],\n",
       "      [-0.040197499999977, 45.10237999899999],\n",
       "      [0.004336, 45.191628],\n",
       "      [0.629741, 45.71456999700001],\n",
       "      [0.823432500000024, 46.128584499],\n",
       "      [1.177279, 46.383947998],\n",
       "      [1.4151855, 46.347215001],\n",
       "      [2.167784499999982, 46.424068998999985],\n",
       "      [2.28104350000001, 46.420403497]]]}},\n",
       "  {'type': 'Feature',\n",
       "   'id': 819,\n",
       "   'properties': {'NUTS_ID': 'FR7',\n",
       "    'STAT_LEVL_': 1,\n",
       "    'SHAPE_AREA': 8.23234563125,\n",
       "    'SHAPE_LEN': 16.8389421689},\n",
       "   'geometry': {'type': 'Polygon',\n",
       "    'coordinates': [[[5.310563499000011, 46.446769999000026],\n",
       "      [5.4736565, 46.26428400100002],\n",
       "      [6.064003, 46.41622899700002],\n",
       "      [6.125608, 46.317229999],\n",
       "      [5.956067, 46.1320955],\n",
       "      [6.310211, 46.24404549899998],\n",
       "      [6.219547, 46.31187799899999],\n",
       "      [6.231694, 46.329429498000025],\n",
       "      [6.24136, 46.343582497],\n",
       "      [6.821063998999989, 46.42715449899998],\n",
       "      [6.797888999, 46.136798999],\n",
       "      [7.044886, 45.92241299900002],\n",
       "      [6.8023685, 45.778562],\n",
       "      [7.104723, 45.46845449900002],\n",
       "      [7.125157, 45.243994498],\n",
       "      [6.630051, 45.10985649999998],\n",
       "      [6.26057, 45.12684399699998],\n",
       "      [6.203923499999974, 45.01247100099999],\n",
       "      [6.355365, 44.85482049900003],\n",
       "      [5.80147, 44.706777500999976],\n",
       "      [5.418397500000026, 44.42476849899998],\n",
       "      [5.676035999000021, 44.19142849899998],\n",
       "      [5.4987865, 44.11571649799998],\n",
       "      [4.804566, 44.30389699800003],\n",
       "      [4.650611, 44.329802997],\n",
       "      [4.6492275, 44.27036],\n",
       "      [4.258899499999984, 44.264422998999976],\n",
       "      [3.998161499999981, 44.459798498],\n",
       "      [3.862531, 44.743865997],\n",
       "      [3.361347500000022, 44.971408],\n",
       "      [3.103125, 44.884632497999974],\n",
       "      [2.9816755, 44.64467299900002],\n",
       "      [2.7167695, 44.928827996999985],\n",
       "      [2.4789475, 44.64800999900001],\n",
       "      [2.207473, 44.61552899899999],\n",
       "      [2.062908, 44.97650449899999],\n",
       "      [2.50841250000002, 45.478501499],\n",
       "      [2.492129499999976, 45.73766999700001],\n",
       "      [2.388014, 45.827372997],\n",
       "      [2.60902149899999, 45.966643998999984],\n",
       "      [2.565372500000024, 46.143036],\n",
       "      [2.28104350000001, 46.420403497],\n",
       "      [3.032063, 46.794909501],\n",
       "      [3.629422499999976, 46.74945649799997],\n",
       "      [3.998868500000015, 46.46486699899998],\n",
       "      [3.899538499000016, 46.275907999000026],\n",
       "      [4.388074500000016, 46.219790499],\n",
       "      [4.780208500000015, 46.176675999],\n",
       "      [4.953853998999989, 46.513422999],\n",
       "      [5.310563499000011, 46.446769999000026]]]}},\n",
       "  {'type': 'Feature',\n",
       "   'id': 834,\n",
       "   'properties': {'NUTS_ID': 'FR8',\n",
       "    'STAT_LEVL_': 1,\n",
       "    'SHAPE_AREA': 7.62662917567,\n",
       "    'SHAPE_LEN': 23.4369397915},\n",
       "   'geometry': {'type': 'MultiPolygon',\n",
       "    'coordinates': [[[[7.007760500000018, 44.23670049899999],\n",
       "       [7.714236500000027, 44.061513499],\n",
       "       [7.529827, 43.784007997],\n",
       "       [7.43605928, 43.76976996899998],\n",
       "       [7.413667280000027, 43.744077703000016],\n",
       "       [6.933721, 43.480064497],\n",
       "       [6.621062, 43.15778350099998],\n",
       "       [5.671879, 43.17926799899999],\n",
       "       [4.230281, 43.460186],\n",
       "       [4.101040500000011, 43.554370999000014],\n",
       "       [3.24056250000001, 43.21280299900002],\n",
       "       [2.9889005, 42.864599999],\n",
       "       [3.035430500000018, 42.8420695],\n",
       "       [3.050192, 42.870636],\n",
       "       [3.043504499999983, 42.83815],\n",
       "       [3.174803999, 42.435375],\n",
       "       [1.964552, 42.38215699900002],\n",
       "       [1.731011, 42.49240099899998],\n",
       "       [1.725801, 42.50440199899998],\n",
       "       [1.7860985, 42.573658],\n",
       "       [2.166049, 42.66391749899998],\n",
       "       [1.949341, 43.120973],\n",
       "       [1.6884235, 43.27355449700002],\n",
       "       [2.029134, 43.43689549700002],\n",
       "       [2.265415, 43.452913498999976],\n",
       "       [2.565782500000012, 43.422958],\n",
       "       [2.935457, 43.694664999],\n",
       "       [3.358362, 43.913829498999974],\n",
       "       [3.448355, 44.01910349899998],\n",
       "       [3.263114, 44.092425499],\n",
       "       [3.373648, 44.170759498999985],\n",
       "       [3.120173500000021, 44.261838496999985],\n",
       "       [2.9816755, 44.64467299900002],\n",
       "       [3.103125, 44.884632497999974],\n",
       "       [3.361347500000022, 44.971408],\n",
       "       [3.862531, 44.743865997],\n",
       "       [3.998161499999981, 44.459798498],\n",
       "       [4.258899499999984, 44.264422998999976],\n",
       "       [4.6492275, 44.27036],\n",
       "       [4.650611, 44.329802997],\n",
       "       [4.804566, 44.30389699800003],\n",
       "       [5.4987865, 44.11571649799998],\n",
       "       [5.676035999000021, 44.19142849899998],\n",
       "       [5.418397500000026, 44.42476849899998],\n",
       "       [5.80147, 44.706777500999976],\n",
       "       [6.355365, 44.85482049900003],\n",
       "       [6.203923499999974, 45.01247100099999],\n",
       "       [6.26057, 45.12684399699998],\n",
       "       [6.630051, 45.10985649999998],\n",
       "       [7.065755, 44.71346449700002],\n",
       "       [6.948443, 44.654741999],\n",
       "       [6.887428, 44.361287],\n",
       "       [7.007760500000018, 44.23670049899999]]],\n",
       "     [[[9.402272, 41.858703499],\n",
       "       [9.219715, 41.36760399899998],\n",
       "       [8.788534, 41.55707549700003],\n",
       "       [8.591134, 41.96215449699997],\n",
       "       [8.573006498999973, 42.238570998],\n",
       "       [8.691523500000017, 42.266464000999974],\n",
       "       [8.573408, 42.381405],\n",
       "       [8.727043, 42.561603499],\n",
       "       [9.301698499999986, 42.67863850100002],\n",
       "       [9.343248500000016, 42.99974049999997],\n",
       "       [9.4632805, 42.98673649900002],\n",
       "       [9.559117500000013, 42.196696997],\n",
       "       [9.402272, 41.858703499]]]]}},\n",
       "  {'type': 'Feature',\n",
       "   'id': 851,\n",
       "   'properties': {'NUTS_ID': 'FRA',\n",
       "    'STAT_LEVL_': 1,\n",
       "    'SHAPE_AREA': 7.28536211839,\n",
       "    'SHAPE_LEN': 16.8260370478},\n",
       "   'geometry': {'type': 'MultiPolygon',\n",
       "    'coordinates': [[[[-52.565187, 2.516254],\n",
       "       [-52.904169, 2.190938],\n",
       "       [-53.723031, 2.31207],\n",
       "       [-54.15237250000001, 2.119626501000027],\n",
       "       [-54.58785949999998, 2.32202350099999],\n",
       "       [-54.208187, 2.7777375],\n",
       "       [-53.979807, 3.606575],\n",
       "       [-54.35672649999998, 4.047393500999988],\n",
       "       [-54.468998, 4.890381],\n",
       "       [-54.008094501000016, 5.623116499999981],\n",
       "       [-53.9683655, 5.745176500000014],\n",
       "       [-53.7992595, 5.723899501],\n",
       "       [-52.94350750000001, 5.451987499999973],\n",
       "       [-52.364701, 4.9207345],\n",
       "       [-51.813244, 4.6343435],\n",
       "       [-51.62983550000001, 4.189126499],\n",
       "       [-52.565187, 2.516254]]],\n",
       "     [[[55.825796500000024, -21.143524499000023],\n",
       "       [55.797395, -21.350129498],\n",
       "       [55.292974, -21.229784998000014],\n",
       "       [55.283669, -20.92620949899998],\n",
       "       [55.6477375, -20.91560449799999],\n",
       "       [55.825796500000024, -21.143524499000023]]],\n",
       "     [[[-61.003888, 14.808371500000021],\n",
       "       [-60.85767550000003, 14.398175],\n",
       "       [-61.081969, 14.470402498999988],\n",
       "       [-61.229269, 14.822112499000013],\n",
       "       [-61.003888, 14.808371500000021]]],\n",
       "     [[[-61.555346499999985, 16.053240499000026],\n",
       "       [-61.6968005, 15.946588999000028],\n",
       "       [-61.80593, 16.257474498000022],\n",
       "       [-61.672612500000014, 16.324603500000023],\n",
       "       [-61.555346499999985, 16.053240499000026]]],\n",
       "     [[[-61.25487149999998, 16.256139],\n",
       "       [-61.52729849999997, 16.21912299899998],\n",
       "       [-61.54121049999998, 16.438073],\n",
       "       [-61.464057500000024, 16.513064499],\n",
       "       [-61.25487149999998, 16.256139]]],\n",
       "     [[[45.2132815, -12.873075500000027],\n",
       "       [45.1483005, -13.000090499],\n",
       "       [45.071559, -12.902030998999976],\n",
       "       [45.154967, -12.92356799800001],\n",
       "       [45.04258, -12.74402349899998],\n",
       "       [45.088423499999976, -12.669118998999977],\n",
       "       [45.125466999000025, -12.727415999000016],\n",
       "       [45.236856, -12.753384998],\n",
       "       [45.18605050000002, -12.839496],\n",
       "       [45.2132815, -12.873075500000027]]]]}},\n",
       "  {'type': 'Feature',\n",
       "   'id': 863,\n",
       "   'properties': {'NUTS_ID': 'HR0',\n",
       "    'STAT_LEVL_': 1,\n",
       "    'SHAPE_AREA': 6.27095154868,\n",
       "    'SHAPE_LEN': 27.3351270139},\n",
       "   'geometry': {'type': 'MultiPolygon',\n",
       "    'coordinates': [[[[14.589105421, 45.236414152],\n",
       "       [14.8205145, 44.97092799799998],\n",
       "       [14.438129499000013, 45.064864499],\n",
       "       [14.585924309, 45.238482154],\n",
       "       [14.332406, 45.35525500099999],\n",
       "       [14.2265825, 45.15383849900002],\n",
       "       [13.906588, 44.76863499900003],\n",
       "       [13.606798, 45.11697399799999],\n",
       "       [13.489867, 45.486835497000015],\n",
       "       [13.583067, 45.477409997],\n",
       "       [14.109059, 45.48245849699998],\n",
       "       [14.11819650000001, 45.48123899699999],\n",
       "       [14.570012500000018, 45.672944497],\n",
       "       [15.226437499999975, 45.42708799799999],\n",
       "       [15.385532, 45.48658049900001],\n",
       "       [15.277050499999973, 45.604461499000024],\n",
       "       [15.331290500000023, 45.76285499900001],\n",
       "       [15.404425, 45.792716997000014],\n",
       "       [15.70640450000002, 45.97534299900002],\n",
       "       [15.627262, 46.08595349900003],\n",
       "       [15.7914755, 46.259327497000015],\n",
       "       [15.8768685, 46.280055499000014],\n",
       "       [16.301549, 46.37828799699997],\n",
       "       [16.242148499999985, 46.49007549700002],\n",
       "       [16.596805, 46.47590249899997],\n",
       "       [16.854754999000022, 46.350440999],\n",
       "       [16.8760435, 46.32060249699998],\n",
       "       [17.294325, 45.98854450099998],\n",
       "       [17.651499, 45.847835499999974],\n",
       "       [17.911642, 45.79095099699998],\n",
       "       [18.446884, 45.73704899799998],\n",
       "       [18.821306, 45.91438299700002],\n",
       "       [18.889734, 45.92118049700002],\n",
       "       [19.033942, 45.48682149899997],\n",
       "       [19.004717, 45.435032],\n",
       "       [19.425167499999986, 45.167692499],\n",
       "       [19.0864565, 45.14539099900003],\n",
       "       [19.022069499999986, 44.85535399899999],\n",
       "       [18.53199749999999, 45.090629498],\n",
       "       [17.143591499000024, 45.162589500000024],\n",
       "       [16.529669, 45.226574],\n",
       "       [16.288761, 44.995689497],\n",
       "       [15.836288500000023, 45.22247699899998],\n",
       "       [15.736722, 44.93563099900001],\n",
       "       [16.131936999, 44.45468150099998],\n",
       "       [16.20829037599998, 44.21668289899998],\n",
       "       [16.544348, 43.974178498000015],\n",
       "       [16.81158449999998, 43.75549299800002],\n",
       "       [17.450845500000014, 43.17686850000001],\n",
       "       [17.4751225, 43.161456997000016],\n",
       "       [17.712072499999977, 42.973003499000015],\n",
       "       [17.581335, 42.93842299900001],\n",
       "       [17.355711, 43.084621501000015],\n",
       "       [16.3882865, 43.509128498999985],\n",
       "       [16.475813, 43.53484350100001],\n",
       "       [16.013214, 43.502506],\n",
       "       [15.558911500000022, 43.871951997],\n",
       "       [15.111249, 44.26010149799998],\n",
       "       [15.598931350999976, 44.172556789],\n",
       "       [15.2894715, 44.363227999],\n",
       "       [14.896002, 44.696899497],\n",
       "       [14.881313499999976, 45.034404999],\n",
       "       [14.589105421, 45.236414152]]],\n",
       "     [[[18.438104, 42.55570500099998],\n",
       "       [18.525213, 42.420462997000016],\n",
       "       [17.000639, 43.04675299899998],\n",
       "       [17.469783999000015, 42.91489399699998],\n",
       "       [17.6491565, 42.888923499999976],\n",
       "       [18.438104, 42.55570500099998]]],\n",
       "     [[[14.474727499999972, 44.95611549900002],\n",
       "       [14.517015500000014, 44.60891699899997],\n",
       "       [14.3020285, 44.93503199700001],\n",
       "       [14.3602285, 45.08841299900001],\n",
       "       [14.474727499999972, 44.95611549900002]]]]}},\n",
       "  {'type': 'Feature',\n",
       "   'id': 888,\n",
       "   'properties': {'NUTS_ID': 'ES4',\n",
       "    'STAT_LEVL_': 1,\n",
       "    'SHAPE_AREA': 22.8180761173,\n",
       "    'SHAPE_LEN': 31.0297545065},\n",
       "   'geometry': {'type': 'Polygon',\n",
       "    'coordinates': [[[-3.417681500000015, 43.13336949799998],\n",
       "      [-3.141396, 43.161483498999985],\n",
       "      [-3.0890235, 43.00158299899999],\n",
       "      [-3.0369895, 42.98218549799998],\n",
       "      [-3.286797499999977, 42.885097497],\n",
       "      [-2.8581175, 42.63816849900002],\n",
       "      [-3.13429450000001, 42.54202249799999],\n",
       "      [-2.9136375, 42.02283849999998],\n",
       "      [-2.282167500000014, 42.13168699900001],\n",
       "      [-1.8565395, 41.966388498000015],\n",
       "      [-1.825316, 41.778365999000016],\n",
       "      [-2.170485499999984, 41.318836498999985],\n",
       "      [-2.05169, 41.14685799900002],\n",
       "      [-1.6174335, 40.94374099700002],\n",
       "      [-1.545494500000018, 40.59521099900002],\n",
       "      [-1.806344, 40.39824699899998],\n",
       "      [-1.448831499999983, 40.14535849700002],\n",
       "      [-1.165154, 40.01010899800002],\n",
       "      [-1.1423615, 39.971855499000014],\n",
       "      [-1.505146500000023, 39.41801449799999],\n",
       "      [-1.161849, 39.305431499],\n",
       "      [-1.266710499999988, 39.05103250000002],\n",
       "      [-0.959359, 38.944587497999976],\n",
       "      [-0.928884499999981, 38.783839999],\n",
       "      [-1.02687, 38.655509498000015],\n",
       "      [-1.402179499999988, 38.690803500000015],\n",
       "      [-2.341602, 38.02601999900003],\n",
       "      [-2.551274001000024, 38.084118],\n",
       "      [-2.481576, 38.393101],\n",
       "      [-2.762069, 38.532779499000014],\n",
       "      [-4.268895, 38.347212997999975],\n",
       "      [-5.008071500000028, 38.71527499899997],\n",
       "      [-5.046996001000025, 38.72913349800001],\n",
       "      [-5.568977500000017, 38.43263999800001],\n",
       "      [-5.584845499999972, 38.131752],\n",
       "      [-5.874359, 38.158622998],\n",
       "      [-6.180307500000026, 37.941077998000026],\n",
       "      [-6.9317385, 38.208377998],\n",
       "      [-7.10795250000001, 38.18812150000002],\n",
       "      [-7.316636, 38.43987649899998],\n",
       "      [-7.203135, 38.75101749800001],\n",
       "      [-6.9513915, 39.024070499],\n",
       "      [-7.231467, 39.278431],\n",
       "      [-7.53490245, 39.661986891000026],\n",
       "      [-7.015405, 39.670856499000024],\n",
       "      [-6.864203, 40.011867498000015],\n",
       "      [-7.011960499999986, 40.126934],\n",
       "      [-6.9512985, 40.257445999000026],\n",
       "      [-6.865144, 40.270694499],\n",
       "      [-6.801935, 40.861045998],\n",
       "      [-6.929903500000023, 41.02946649900002],\n",
       "      [-6.689786, 41.20524149800002],\n",
       "      [-6.479713, 41.294379999],\n",
       "      [-6.189352, 41.575046499],\n",
       "      [-6.5884615, 41.967761998000015],\n",
       "      [-6.983513500000015, 41.97290399899998],\n",
       "      [-6.784308, 42.253608499999984],\n",
       "      [-6.8227655, 42.490833001],\n",
       "      [-7.076834, 42.50812399900002],\n",
       "      [-6.824167, 42.915012499],\n",
       "      [-4.841038500000025, 43.18070949999998],\n",
       "      [-4.737022998999976, 43.02092349899999],\n",
       "      [-4.238510999000027, 42.95431499799997],\n",
       "      [-4.081359, 42.761417499],\n",
       "      [-4.04593, 42.766566996999984],\n",
       "      [-4.002319, 42.830867497999975],\n",
       "      [-3.99967, 42.76893249699998],\n",
       "      [-3.815811, 42.812561],\n",
       "      [-3.945488, 43.005718496999975],\n",
       "      [-3.417681500000015, 43.13336949799998]],\n",
       "     [[-3.130407, 40.40515399899999],\n",
       "      [-3.468398, 40.689896498999985],\n",
       "      [-3.394300499999986, 41.000234498],\n",
       "      [-3.539573, 41.16499349899999],\n",
       "      [-4.160293500000023, 40.68985350000003],\n",
       "      [-4.578901, 40.217157499],\n",
       "      [-4.190704, 40.29731599799999],\n",
       "      [-3.623443, 40.053848500000015],\n",
       "      [-3.161419500000022, 40.06489699799999],\n",
       "      [-3.067689, 40.157884998999975],\n",
       "      [-3.194294500000012, 40.248005998999986],\n",
       "      [-3.130407, 40.40515399899999]]]}},\n",
       "  {'type': 'Feature',\n",
       "   'id': 908,\n",
       "   'properties': {'NUTS_ID': 'ES5',\n",
       "    'STAT_LEVL_': 1,\n",
       "    'SHAPE_AREA': 6.28681523868,\n",
       "    'SHAPE_LEN': 22.0314416853},\n",
       "   'geometry': {'type': 'MultiPolygon',\n",
       "    'coordinates': [[[[1.731011, 42.49240099899998],\n",
       "       [1.964552, 42.38215699900002],\n",
       "       [3.174803999, 42.435375],\n",
       "       [3.111661500000025, 42.20384949800001],\n",
       "       [3.21998050000002, 41.92232149900002],\n",
       "       [2.778513, 41.648807498],\n",
       "       [1.645323500000018, 41.19562149699999],\n",
       "       [0.966513, 41.028423498999985],\n",
       "       [0.5152385, 40.522918498000024],\n",
       "       [-0.188467, 39.721954498],\n",
       "       [-0.334561, 39.42353449900003],\n",
       "       [0.012785310000027, 38.86459284699998],\n",
       "       [0.205479500000024, 38.731944999],\n",
       "       [-0.301367, 38.48192949899999],\n",
       "       [-0.7621355, 37.84700799799998],\n",
       "       [-1.030276500000014, 38.09707649799998],\n",
       "       [-1.02687, 38.655509498000015],\n",
       "       [-0.928884499999981, 38.783839999],\n",
       "       [-0.959359, 38.944587497999976],\n",
       "       [-1.266710499999988, 39.05103250000002],\n",
       "       [-1.161849, 39.305431499],\n",
       "       [-1.505146500000023, 39.41801449799999],\n",
       "       [-1.1423615, 39.971855499000014],\n",
       "       [-0.912739, 39.87310750099999],\n",
       "       [-0.797643, 39.88107649900002],\n",
       "       [-0.837749501000019, 39.97681799700001],\n",
       "       [-0.279997499999979, 40.36949949900003],\n",
       "       [-0.197124499999973, 40.78445799899998],\n",
       "       [0.170789500000012, 40.732837],\n",
       "       [0.220409500000017, 41.07143],\n",
       "       [0.385724, 41.278839498000025],\n",
       "       [0.335948499999972, 41.40743249899998],\n",
       "       [0.767070499999988, 42.34881599800002],\n",
       "       [0.660127, 42.69095249899999],\n",
       "       [0.858215, 42.825740999],\n",
       "       [1.442566, 42.60366800100002],\n",
       "       [1.725801, 42.50440199899998],\n",
       "       [1.731011, 42.49240099899998]]],\n",
       "     [[[3.079701, 39.901542499000016],\n",
       "       [3.1449035, 39.77384950099997],\n",
       "       [3.3484785, 39.78888700099998],\n",
       "       [3.455952500000024, 39.65670399800001],\n",
       "       [3.0730825, 39.268691999],\n",
       "       [2.344436, 39.587226998],\n",
       "       [2.778520500000013, 39.85567899900002],\n",
       "       [3.213000500000021, 39.955375996999976],\n",
       "       [3.079701, 39.901542499000016]]],\n",
       "     [[[1.423349, 38.905044498999985],\n",
       "       [1.3711275, 38.830333498000016],\n",
       "       [1.213064499999973, 38.90135950000001],\n",
       "       [1.310512500000016, 39.04295349900002],\n",
       "       [1.603850500000021, 39.09101849799998],\n",
       "       [1.605787500000019, 39.02961349899999],\n",
       "       [1.423349, 38.905044498999985]]],\n",
       "     [[[4.094098, 40.05835349900002],\n",
       "       [4.28757, 39.814689499],\n",
       "       [3.791304, 40.01617799899998],\n",
       "       [4.094098, 40.05835349900002]]]]}},\n",
       "  {'type': 'Feature',\n",
       "   'id': 922,\n",
       "   'properties': {'NUTS_ID': 'ES6',\n",
       "    'STAT_LEVL_': 1,\n",
       "    'SHAPE_AREA': 10.1837262004,\n",
       "    'SHAPE_LEN': 17.9666525522},\n",
       "   'geometry': {'type': 'MultiPolygon',\n",
       "    'coordinates': [[[[-5.008071500000028, 38.71527499899997],\n",
       "       [-4.268895, 38.347212997999975],\n",
       "       [-2.762069, 38.532779499000014],\n",
       "       [-2.481576, 38.393101],\n",
       "       [-2.551274001000024, 38.084118],\n",
       "       [-2.341602, 38.02601999900003],\n",
       "       [-1.402179499999988, 38.690803500000015],\n",
       "       [-1.02687, 38.655509498000015],\n",
       "       [-1.030276500000014, 38.09707649799998],\n",
       "       [-0.7621355, 37.84700799799998],\n",
       "       [-0.8599795, 37.721446997999976],\n",
       "       [-0.720821, 37.605872998],\n",
       "       [-1.325323500000025, 37.562442498999985],\n",
       "       [-1.630033, 37.375182999],\n",
       "       [-2.12434, 36.73184200100002],\n",
       "       [-2.3680915, 36.841457499],\n",
       "       [-2.700591, 36.68272399799997],\n",
       "       [-3.128691, 36.750887998999985],\n",
       "       [-3.777457500000025, 36.737926500000015],\n",
       "       [-4.418207, 36.717219999],\n",
       "       [-5.252405, 36.311275498999976],\n",
       "       [-5.339225, 36.152034997999976],\n",
       "       [-5.351522499999987, 36.15256899899998],\n",
       "       [-5.395709008999972, 36.127541227999984],\n",
       "       [-5.60843, 36.007053497000015],\n",
       "       [-6.040427500000021, 36.19237899900003],\n",
       "       [-6.440116, 36.72086349800003],\n",
       "       [-6.345561, 36.79876699800002],\n",
       "       [-6.893693499999983, 37.161465],\n",
       "       [-7.401916500000027, 37.17482749800001],\n",
       "       [-7.512691500000017, 37.526256499],\n",
       "       [-7.2632845, 37.979908],\n",
       "       [-7.002483499999983, 38.0227165],\n",
       "       [-6.9317385, 38.208377998],\n",
       "       [-6.180307500000026, 37.941077998000026],\n",
       "       [-5.874359, 38.158622998],\n",
       "       [-5.584845499999972, 38.131752],\n",
       "       [-5.568977500000017, 38.43263999800001],\n",
       "       [-5.046996001000025, 38.72913349800001],\n",
       "       [-5.008071500000028, 38.71527499899997]]],\n",
       "     [[[-2.950587, 35.31841799900002],\n",
       "       [-2.92736, 35.274264],\n",
       "       [-2.970093500000019, 35.289367500000026],\n",
       "       [-2.950587, 35.31841799900002]]],\n",
       "     [[[-5.35072900099999, 35.909002998],\n",
       "       [-5.34252117599999, 35.87303803999998],\n",
       "       [-5.382034499999975, 35.91260649999998],\n",
       "       [-5.35072900099999, 35.909002998]]]]}},\n",
       "  {'type': 'Feature',\n",
       "   'id': 938,\n",
       "   'properties': {'NUTS_ID': 'ES7',\n",
       "    'STAT_LEVL_': 1,\n",
       "    'SHAPE_AREA': 0.581451062767,\n",
       "    'SHAPE_LEN': 9.15373346569},\n",
       "   'geometry': {'type': 'MultiPolygon',\n",
       "    'coordinates': [[[[-16.3605925, 28.379459499],\n",
       "       [-16.640173, 28.00498799799999],\n",
       "       [-16.924217, 28.350006],\n",
       "       [-16.134222, 28.5812585],\n",
       "       [-16.3605925, 28.379459499]]],\n",
       "     [[[-15.424459500000012, 27.80785549799998],\n",
       "       [-15.600111, 27.734939498000017],\n",
       "       [-15.8329905, 27.90972349899999],\n",
       "       [-15.709276000999978, 28.16573899799999],\n",
       "       [-15.4035465, 28.171691999000018],\n",
       "       [-15.424459500000012, 27.80785549799998]]],\n",
       "     [[[-14.2242965, 28.162038998000014],\n",
       "       [-14.492716, 28.083705999000017],\n",
       "       [-14.226619, 28.21153449799999],\n",
       "       [-14.016622499999983, 28.71499399800001],\n",
       "       [-13.877083500000026, 28.752040998999973],\n",
       "       [-13.922949, 28.247462998],\n",
       "       [-14.2242965, 28.162038998000014]]],\n",
       "     [[[-13.482365500000014, 28.999332498],\n",
       "       [-13.8541985, 28.862073998000028],\n",
       "       [-13.756207500000016, 29.0776095],\n",
       "       [-13.470518, 29.238542498000015],\n",
       "       [-13.464197, 29.12962349899999],\n",
       "       [-13.482365500000014, 28.999332498]]],\n",
       "     [[[-17.7602195, 28.569320999000013],\n",
       "       [-17.842235500000015, 28.452651499000012],\n",
       "       [-17.9487345, 28.840764997],\n",
       "       [-17.777729, 28.839669997999977],\n",
       "       [-17.7602195, 28.569320999000013]]],\n",
       "     [[[-17.09916050099997, 28.0943145],\n",
       "       [-17.199426500000015, 28.023731498000018],\n",
       "       [-17.3492185, 28.099218498000027],\n",
       "       [-17.318047, 28.204323999],\n",
       "       [-17.118093499999986, 28.149373998999977],\n",
       "       [-17.09916050099997, 28.0943145]]],\n",
       "     [[[-17.883365500000025, 27.80445449699999],\n",
       "       [-17.979040000999987, 27.640519998],\n",
       "       [-18.158359500000017, 27.712901499999987],\n",
       "       [-18.131494, 27.77158149899998],\n",
       "       [-18.036621001000015, 27.762228],\n",
       "       [-17.958796, 27.841646],\n",
       "       [-17.883365500000025, 27.80445449699999]]]]}},\n",
       "  {'type': 'Feature',\n",
       "   'id': 948,\n",
       "   'properties': {'NUTS_ID': 'FI1',\n",
       "    'STAT_LEVL_': 1,\n",
       "    'SHAPE_AREA': 61.2971727613,\n",
       "    'SHAPE_LEN': 51.1540911229},\n",
       "   'geometry': {'type': 'Polygon',\n",
       "    'coordinates': [[[28.8007675, 68.86928600099998],\n",
       "      [28.4339175, 68.539672],\n",
       "      [28.6461425, 68.19630450099999],\n",
       "      [30.0170405, 67.67355650000002],\n",
       "      [29.033642, 66.942135001],\n",
       "      [29.57293850000002, 66.432856],\n",
       "      [30.13848, 65.66868200099998],\n",
       "      [29.7547315, 65.49736949800001],\n",
       "      [29.64493, 64.86649549999998],\n",
       "      [30.086534500000027, 64.77399049899998],\n",
       "      [30.044892, 64.40202999799999],\n",
       "      [30.553427999, 64.13224799900001],\n",
       "      [29.971917, 63.757165499999985],\n",
       "      [31.586729, 62.90870200099999],\n",
       "      [30.143966499999976, 61.85223799900001],\n",
       "      [27.99127950000002, 60.668979],\n",
       "      [27.797273500000017, 60.54534300099999],\n",
       "      [26.453932, 60.487652500000024],\n",
       "      [26.00972368700002, 60.31647918800002],\n",
       "      [26.010455, 60.321357],\n",
       "      [25.993759220000015, 60.337336162999975],\n",
       "      [25.9122875, 60.366004498],\n",
       "      [25.863847, 60.323478497999986],\n",
       "      [25.936341, 60.26062],\n",
       "      [25.7869765, 60.237285997000015],\n",
       "      [25.627897500000017, 60.326478],\n",
       "      [25.7202395, 60.339234498],\n",
       "      [25.6696885, 60.383327501],\n",
       "      [25.432495500000016, 60.222521],\n",
       "      [25.21634410500002, 60.21141365599999],\n",
       "      [24.575224, 60.178468501],\n",
       "      [24.202054, 60.027420999000014],\n",
       "      [23.839481499999977, 60.018403001000024],\n",
       "      [23.956796, 60.004310997],\n",
       "      [23.69256456300002, 59.972044676999985],\n",
       "      [23.727499, 59.943315996000024],\n",
       "      [23.3554325, 59.91736499899997],\n",
       "      [23.186451499999976, 59.827804001],\n",
       "      [22.932191499999988, 59.824022],\n",
       "      [23.11882880799999, 60.00089512599999],\n",
       "      [23.028183, 60.10148650000002],\n",
       "      [22.87021, 60.1982375],\n",
       "      [23.079409, 60.375627],\n",
       "      [22.454013998999983, 60.265965000999984],\n",
       "      [22.60413649999998, 60.37388149999998],\n",
       "      [22.50068, 60.41853749799998],\n",
       "      [22.295877999000027, 60.38428949799999],\n",
       "      [22.253048428, 60.41175714899998],\n",
       "      [22.247403, 60.419651498],\n",
       "      [22.24190927799998, 60.41890473400002],\n",
       "      [21.846205, 60.63480049899999],\n",
       "      [21.585519498999986, 60.491007001000014],\n",
       "      [21.572621, 60.500252499],\n",
       "      [21.592718, 60.517643501],\n",
       "      [21.5593745, 60.55924500100002],\n",
       "      [21.462105, 60.581443501000024],\n",
       "      [21.1746465, 60.87034399700002],\n",
       "      [21.419929500000023, 61.047442998],\n",
       "      [21.7037775, 61.557694501000014],\n",
       "      [21.27957, 61.993263],\n",
       "      [21.366348, 62.370907],\n",
       "      [21.08101, 62.6323175],\n",
       "      [21.483848500000022, 62.97023950099998],\n",
       "      [21.45596771800001, 63.01229484999999],\n",
       "      [21.3373805, 63.0409545],\n",
       "      [22.13746955800002, 63.26130588799998],\n",
       "      [22.159774, 63.255317],\n",
       "      [22.224766719, 63.291334242],\n",
       "      [22.393028500000014, 63.33328150099999],\n",
       "      [22.324308499999972, 63.581827499999974],\n",
       "      [22.8713565, 63.8339785],\n",
       "      [22.927715464000016, 63.82609472199999],\n",
       "      [22.989051, 63.788022],\n",
       "      [23.027271499999983, 63.788767501],\n",
       "      [23.61733300100002, 64.048771998],\n",
       "      [24.53991050000002, 64.81454849699998],\n",
       "      [25.487671, 64.9614365],\n",
       "      [25.366445, 65.42749949900002],\n",
       "      [25.084607499000015, 65.58894949699999],\n",
       "      [24.8877245, 65.665782],\n",
       "      [24.155129, 65.816027],\n",
       "      [23.6455995, 66.3014085],\n",
       "      [23.995160500999987, 66.819708999],\n",
       "      [23.3940235, 67.485820999],\n",
       "      [23.652348999000026, 67.958793001],\n",
       "      [21.888943000999973, 68.5843835],\n",
       "      [20.548636499999986, 69.05996850100001],\n",
       "      [21.2788215, 69.31188399899997],\n",
       "      [21.9836115, 69.07289350000002],\n",
       "      [22.374526, 68.716667],\n",
       "      [24.903199500000028, 68.554591],\n",
       "      [25.777502500000026, 69.018279001],\n",
       "      [25.702101, 69.25366150100001],\n",
       "      [25.950607, 69.6965505],\n",
       "      [27.984522, 70.013965499],\n",
       "      [29.336974, 69.47831050000002],\n",
       "      [28.8057925, 69.111147],\n",
       "      [28.92968, 69.051905],\n",
       "      [28.415766500000018, 68.915452501],\n",
       "      [28.8007675, 68.86928600099998]]]}},\n",
       "  {'type': 'Feature',\n",
       "   'id': 971,\n",
       "   'properties': {'NUTS_ID': 'FI2',\n",
       "    'STAT_LEVL_': 1,\n",
       "    'SHAPE_AREA': 0.144539654431,\n",
       "    'SHAPE_LEN': 1.72365985858},\n",
       "   'geometry': {'type': 'Polygon',\n",
       "    'coordinates': [[[19.91603650000002, 60.42270650199998],\n",
       "      [20.2753515, 60.28527],\n",
       "      [20.168312500000013, 60.17514399800001],\n",
       "      [20.043062, 60.102843001],\n",
       "      [19.98094149999997, 60.104172],\n",
       "      [19.9577145, 60.060943501],\n",
       "      [19.513948, 60.178337],\n",
       "      [19.91603650000002, 60.42270650199998]]]}},\n",
       "  {'type': 'Feature',\n",
       "   'id': 975,\n",
       "   'properties': {'NUTS_ID': 'FR1',\n",
       "    'STAT_LEVL_': 1,\n",
       "    'SHAPE_AREA': 1.46444370405,\n",
       "    'SHAPE_LEN': 5.23839280907},\n",
       "   'geometry': {'type': 'Polygon',\n",
       "    'coordinates': [[[1.704359, 49.23219699700002],\n",
       "      [2.5905285, 49.079653999000016],\n",
       "      [3.07188, 49.117553500999975],\n",
       "      [3.4851835, 48.851910498999985],\n",
       "      [3.557419164, 48.61671378800003],\n",
       "      [3.414788999, 48.390268499],\n",
       "      [3.049454, 48.36002749900001],\n",
       "      [2.936316, 48.16339149999999],\n",
       "      [2.476016500000014, 48.1296365],\n",
       "      [2.402663, 48.3207175],\n",
       "      [1.99409, 48.286584],\n",
       "      [1.9221465, 48.457599499000025],\n",
       "      [1.501526500000011, 48.94105199799998],\n",
       "      [1.608799, 49.077894],\n",
       "      [1.704359, 49.23219699700002]]]}},\n",
       "  {'type': 'Feature',\n",
       "   'id': 985,\n",
       "   'properties': {'NUTS_ID': 'FR2',\n",
       "    'STAT_LEVL_': 1,\n",
       "    'SHAPE_AREA': 17.8281109099,\n",
       "    'SHAPE_LEN': 30.5063548789},\n",
       "   'geometry': {'type': 'Polygon',\n",
       "    'coordinates': [[[4.140853, 49.978759997],\n",
       "      [4.233133, 49.957828498000026],\n",
       "      [4.432494, 49.941615996999985],\n",
       "      [4.796697, 50.14867799899997],\n",
       "      [4.896794, 50.13742049899997],\n",
       "      [4.793194, 49.98199900100002],\n",
       "      [4.851578, 49.79325500099998],\n",
       "      [4.969431, 49.801825999000016],\n",
       "      [5.153738499999974, 49.717926],\n",
       "      [5.393511, 49.617111],\n",
       "      [5.107566500000019, 49.58468949899998],\n",
       "      [4.950990499999989, 49.23686749699999],\n",
       "      [4.9884305, 48.68442200099997],\n",
       "      [5.470055, 48.42092649900002],\n",
       "      [5.8847235, 47.92604649899999],\n",
       "      [5.37408, 47.604537999],\n",
       "      [5.477542, 47.60871849900002],\n",
       "      [5.375406999, 47.46016749900002],\n",
       "      [5.518537499999979, 47.304183998999974],\n",
       "      [5.255232499999977, 46.97988749899997],\n",
       "      [5.440604, 46.637912],\n",
       "      [5.310563499000011, 46.446769999000026],\n",
       "      [4.953853998999989, 46.513422999],\n",
       "      [4.780208500000015, 46.176675999],\n",
       "      [4.388074500000016, 46.219790499],\n",
       "      [3.899538499000016, 46.275907999000026],\n",
       "      [3.998868500000015, 46.46486699899998],\n",
       "      [3.629422499999976, 46.74945649799997],\n",
       "      [3.032063, 46.794909501],\n",
       "      [2.28104350000001, 46.420403497],\n",
       "      [2.167784499999982, 46.424068998999985],\n",
       "      [1.4151855, 46.347215001],\n",
       "      [1.177279, 46.383947998],\n",
       "      [0.867469, 46.74821649900002],\n",
       "      [0.05383, 47.16373349999998],\n",
       "      [0.230000500000017, 47.60839749899998],\n",
       "      [0.614432500000021, 47.694215497000016],\n",
       "      [0.841217498999981, 48.10305950100002],\n",
       "      [0.797658499000022, 48.19445500099999],\n",
       "      [0.35289, 48.459688],\n",
       "      [-0.054527, 48.3820045],\n",
       "      [-0.234124, 48.56184750099999],\n",
       "      [-0.86036, 48.50145849900002],\n",
       "      [-1.070164499999976, 48.508492],\n",
       "      [-1.42794, 48.46191500100002],\n",
       "      [-1.571089500000028, 48.626442],\n",
       "      [-1.391047, 48.64465349699998],\n",
       "      [-1.942384, 49.725959999],\n",
       "      [-1.266492500000027, 49.69559849699999],\n",
       "      [-1.3077705, 49.545719],\n",
       "      [-1.11962, 49.35556800099999],\n",
       "      [0.297224500000027, 49.429863001],\n",
       "      [0.3389785, 49.4409255],\n",
       "      [0.065609, 49.512576998999975],\n",
       "      [0.192298, 49.706962498999985],\n",
       "      [1.379698, 50.06500999799999],\n",
       "      [1.641539500000022, 50.352149997000026],\n",
       "      [3.090252, 50.053740499000014],\n",
       "      [3.1727045, 50.011996497999974],\n",
       "      [4.140853, 49.978759997]],\n",
       "     [[1.704359, 49.23219699700002],\n",
       "      [1.608799, 49.077894],\n",
       "      [1.501526500000011, 48.94105199799998],\n",
       "      [1.9221465, 48.457599499000025],\n",
       "      [1.99409, 48.286584],\n",
       "      [2.402663, 48.3207175],\n",
       "      [2.476016500000014, 48.1296365],\n",
       "      [2.936316, 48.16339149999999],\n",
       "      [3.049454, 48.36002749900001],\n",
       "      [3.414788999, 48.390268499],\n",
       "      [3.557419164, 48.61671378800003],\n",
       "      [3.4851835, 48.851910498999985],\n",
       "      [3.07188, 49.117553500999975],\n",
       "      [2.5905285, 49.079653999000016],\n",
       "      [1.704359, 49.23219699700002]]]}},\n",
       "  {'type': 'Feature',\n",
       "   'id': 1014,\n",
       "   'properties': {'NUTS_ID': 'FR3',\n",
       "    'STAT_LEVL_': 1,\n",
       "    'SHAPE_AREA': 1.54194314288,\n",
       "    'SHAPE_LEN': 6.43424027182},\n",
       "   'geometry': {'type': 'Polygon',\n",
       "    'coordinates': [[[2.863276, 50.70834349699999],\n",
       "      [3.0187085, 50.773532999],\n",
       "      [3.098481, 50.779019],\n",
       "      [3.176996, 50.756164497999976],\n",
       "      [3.245294, 50.71300949800002],\n",
       "      [3.286492, 50.52756899799999],\n",
       "      [3.615081499999974, 50.490399001000014],\n",
       "      [3.65551, 50.461735498999985],\n",
       "      [3.710389, 50.30316549999998],\n",
       "      [4.027774500000021, 50.358330498999976],\n",
       "      [4.140853, 49.978759997],\n",
       "      [3.1727045, 50.011996497999974],\n",
       "      [3.090252, 50.053740499000014],\n",
       "      [1.641539500000022, 50.352149997000026],\n",
       "      [1.580953, 50.8695525],\n",
       "      [2.067705, 51.00649999699999],\n",
       "      [2.546011, 51.08938199800002],\n",
       "      [2.607036, 50.91268949900001],\n",
       "      [2.863276, 50.70834349699999]]]}},\n",
       "  {'type': 'Feature',\n",
       "   'id': 1018,\n",
       "   'properties': {'NUTS_ID': 'FR4',\n",
       "    'STAT_LEVL_': 1,\n",
       "    'SHAPE_AREA': 5.88318751269,\n",
       "    'SHAPE_LEN': 12.4740951319},\n",
       "   'geometry': {'type': 'Polygon',\n",
       "    'coordinates': [[[5.818117, 49.5463105],\n",
       "      [5.893386, 49.496944498],\n",
       "      [6.367107499999975, 49.46950700100001],\n",
       "      [6.556986, 49.41920849899998],\n",
       "      [6.723465499999975, 49.21882899899998],\n",
       "      [7.101069, 49.155998],\n",
       "      [7.36875550000002, 49.16145799899999],\n",
       "      [7.635651, 49.053950499999985],\n",
       "      [7.910654500000021, 49.04516349900001],\n",
       "      [8.068407499999978, 48.999316497999985],\n",
       "      [8.232632998999975, 48.966571500999976],\n",
       "      [7.9596305, 48.71858099899998],\n",
       "      [7.680713, 48.25726699699999],\n",
       "      [7.5779195, 48.121391999000025],\n",
       "      [7.577291, 48.115654999000014],\n",
       "      [7.545990500000016, 47.74357399899998],\n",
       "      [7.589039, 47.589877999],\n",
       "      [7.5551595, 47.56456399699999],\n",
       "      [7.510905499999978, 47.50258249799998],\n",
       "      [7.445019, 47.46172349699998],\n",
       "      [7.42113949899999, 47.446387999000024],\n",
       "      [7.380894, 47.431892499000014],\n",
       "      [7.326466, 47.43985350000003],\n",
       "      [7.130353, 47.503040499],\n",
       "      [6.939186, 47.433704499999976],\n",
       "      [6.879806, 47.35243999800002],\n",
       "      [7.061636, 47.34373449899999],\n",
       "      [6.858914, 47.16529449900003],\n",
       "      [6.460011, 46.85155149899998],\n",
       "      [6.138106, 46.55766699700001],\n",
       "      [6.064003, 46.41622899700002],\n",
       "      [5.4736565, 46.26428400100002],\n",
       "      [5.310563499000011, 46.446769999000026],\n",
       "      [5.440604, 46.637912],\n",
       "      [5.255232499999977, 46.97988749899997],\n",
       "      [5.518537499999979, 47.304183998999974],\n",
       "      [5.375406999, 47.46016749900002],\n",
       "      [5.477542, 47.60871849900002],\n",
       "      [5.37408, 47.604537999],\n",
       "      [5.8847235, 47.92604649899999],\n",
       "      [5.470055, 48.42092649900002],\n",
       "      [4.9884305, 48.68442200099997],\n",
       "      [4.950990499999989, 49.23686749699999],\n",
       "      [5.107566500000019, 49.58468949899998],\n",
       "      [5.393511, 49.617111],\n",
       "      [5.470882999000025, 49.49723799899999],\n",
       "      [5.734555999, 49.545690501000024],\n",
       "      [5.818117, 49.5463105]]]}},\n",
       "  {'type': 'Feature',\n",
       "   'id': 1032,\n",
       "   'properties': {'NUTS_ID': 'FR5',\n",
       "    'STAT_LEVL_': 1,\n",
       "    'SHAPE_AREA': 9.91061827208,\n",
       "    'SHAPE_LEN': 18.9070341116},\n",
       "   'geometry': {'type': 'Polygon',\n",
       "    'coordinates': [[[-1.571089500000028, 48.626442],\n",
       "      [-1.42794, 48.46191500100002],\n",
       "      [-1.070164499999976, 48.508492],\n",
       "      [-0.86036, 48.50145849900002],\n",
       "      [-0.234124, 48.56184750099999],\n",
       "      [-0.054527, 48.3820045],\n",
       "      [0.35289, 48.459688],\n",
       "      [0.797658499000022, 48.19445500099999],\n",
       "      [0.841217498999981, 48.10305950100002],\n",
       "      [0.614432500000021, 47.694215497000016],\n",
       "      [0.230000500000017, 47.60839749899998],\n",
       "      [0.05383, 47.16373349999998],\n",
       "      [0.867469, 46.74821649900002],\n",
       "      [1.177279, 46.383947998],\n",
       "      [0.823432500000024, 46.128584499],\n",
       "      [0.629741, 45.71456999700001],\n",
       "      [0.004336, 45.191628],\n",
       "      [-0.040197499999977, 45.10237999899999],\n",
       "      [-0.708231, 45.32748049899999],\n",
       "      [-1.230697500000019, 45.680572498],\n",
       "      [-1.053074, 46.00383],\n",
       "      [-1.129406, 46.310271999],\n",
       "      [-1.8123445, 46.49341949799998],\n",
       "      [-2.141985, 46.81897349799999],\n",
       "      [-1.980413, 47.02890799900001],\n",
       "      [-2.547108001000026, 47.292373499],\n",
       "      [-2.458493, 47.44811999900003],\n",
       "      [-3.528605313000014, 47.778291696999986],\n",
       "      [-4.734697499999982, 48.03824249799999],\n",
       "      [-4.269574, 48.13277050099998],\n",
       "      [-4.2257935, 48.28749099700002],\n",
       "      [-4.273602501000028, 48.44343550000002],\n",
       "      [-4.772754, 48.329235],\n",
       "      [-4.7699215, 48.52113699900002],\n",
       "      [-3.950495, 48.65286999800003],\n",
       "      [-3.65915050000001, 48.659209998999984],\n",
       "      [-3.084001, 48.865695999000025],\n",
       "      [-2.6863985, 48.49315249900002],\n",
       "      [-2.123706500000026, 48.604404499],\n",
       "      [-2.148958, 48.633731996999984],\n",
       "      [-2.045604, 48.63681399699999],\n",
       "      [-2.006897, 48.566108498],\n",
       "      [-1.982181075000028, 48.55464302799999],\n",
       "      [-1.872124, 48.645713999],\n",
       "      [-1.571089500000028, 48.626442]]]}},\n",
       "  {'type': 'Feature',\n",
       "   'id': 1036,\n",
       "   'properties': {'NUTS_ID': 'HU1',\n",
       "    'STAT_LEVL_': 1,\n",
       "    'SHAPE_AREA': 0.863302933649,\n",
       "    'SHAPE_LEN': 4.10655738632},\n",
       "   'geometry': {'type': 'Polygon',\n",
       "    'coordinates': [[[18.965907500000014, 47.028965],\n",
       "      [18.688433499999974, 47.577067499],\n",
       "      [18.848478, 47.81822800100002],\n",
       "      [18.7548155, 47.975082499],\n",
       "      [18.928392, 48.056832499],\n",
       "      [19.086134500000014, 47.838170499],\n",
       "      [19.570937, 47.73490000100003],\n",
       "      [19.666329, 47.58855000099999],\n",
       "      [19.99046249999998, 47.346628001],\n",
       "      [20.094639, 47.0074265],\n",
       "      [18.965907500000014, 47.028965]]]}},\n",
       "  {'type': 'Feature',\n",
       "   'id': 1040,\n",
       "   'properties': {'NUTS_ID': 'HU2',\n",
       "    'STAT_LEVL_': 1,\n",
       "    'SHAPE_AREA': 4.31377565468,\n",
       "    'SHAPE_LEN': 9.32251745963},\n",
       "   'geometry': {'type': 'Polygon',\n",
       "    'coordinates': [[[18.848478, 47.81822800100002],\n",
       "      [18.688433499999974, 47.577067499],\n",
       "      [18.965907500000014, 47.028965],\n",
       "      [18.925097, 46.85716850099999],\n",
       "      [19.006243499999982, 46.70492349699998],\n",
       "      [18.802291, 46.108764999000016],\n",
       "      [18.821306, 45.91438299700002],\n",
       "      [18.446884, 45.73704899799998],\n",
       "      [17.911642, 45.79095099699998],\n",
       "      [17.651499, 45.847835499999974],\n",
       "      [17.294325, 45.98854450099998],\n",
       "      [16.8760435, 46.32060249699998],\n",
       "      [16.854754999000022, 46.350440999],\n",
       "      [16.596805, 46.47590249899997],\n",
       "      [16.3707935, 46.722243499],\n",
       "      [16.113849, 46.86906799899998],\n",
       "      [16.508267499999988, 47.00125599900002],\n",
       "      [16.4337615, 47.35291849999999],\n",
       "      [16.64622, 47.446597],\n",
       "      [16.652076, 47.6229035],\n",
       "      [16.421846, 47.66470449899998],\n",
       "      [17.093074, 47.708236],\n",
       "      [17.1607975, 48.006656501],\n",
       "      [17.247427500000015, 48.01200899899999],\n",
       "      [17.70543650000002, 47.75899249899999],\n",
       "      [17.893923, 47.739456999000026],\n",
       "      [18.848478, 47.81822800100002]]]}},\n",
       "  {'type': 'Feature',\n",
       "   'id': 1053,\n",
       "   'properties': {'NUTS_ID': 'HU3',\n",
       "    'STAT_LEVL_': 1,\n",
       "    'SHAPE_AREA': 5.84226099892,\n",
       "    'SHAPE_LEN': 13.2434117271},\n",
       "   'geometry': {'type': 'Polygon',\n",
       "    'coordinates': [[[22.155306, 48.403396499],\n",
       "      [22.896270500000014, 47.95412050099998],\n",
       "      [22.1808375, 47.60009449900002],\n",
       "      [22.12832, 47.59808949699999],\n",
       "      [21.658955, 47.02213149800002],\n",
       "      [21.441398, 46.651467],\n",
       "      [21.103170499999976, 46.26259049700002],\n",
       "      [20.7756, 46.27590999900002],\n",
       "      [20.705303500000014, 46.160937499],\n",
       "      [20.264296, 46.1263735],\n",
       "      [19.86539, 46.150334499],\n",
       "      [19.698099, 46.187930999],\n",
       "      [19.3027095, 45.99155050000002],\n",
       "      [18.889734, 45.92118049700002],\n",
       "      [18.821306, 45.91438299700002],\n",
       "      [18.802291, 46.108764999000016],\n",
       "      [19.006243499999982, 46.70492349699998],\n",
       "      [18.925097, 46.85716850099999],\n",
       "      [18.965907500000014, 47.028965],\n",
       "      [20.094639, 47.0074265],\n",
       "      [19.99046249999998, 47.346628001],\n",
       "      [19.666329, 47.58855000099999],\n",
       "      [19.570937, 47.73490000100003],\n",
       "      [19.086134500000014, 47.838170499],\n",
       "      [18.928392, 48.056832499],\n",
       "      [19.0143225, 48.077736499000025],\n",
       "      [20.051879, 48.16770399699999],\n",
       "      [20.463937, 48.463967],\n",
       "      [21.440056, 48.58523299900003],\n",
       "      [21.721957, 48.351050499],\n",
       "      [22.121077500000013, 48.378311499],\n",
       "      [22.155306, 48.403396499]]]}},\n",
       "  {'type': 'Feature',\n",
       "   'id': 1067,\n",
       "   'properties': {'NUTS_ID': 'IE0',\n",
       "    'STAT_LEVL_': 1,\n",
       "    'SHAPE_AREA': 9.35682111373,\n",
       "    'SHAPE_LEN': 24.5137708524},\n",
       "   'geometry': {'type': 'Polygon',\n",
       "    'coordinates': [[[-8.177718, 54.464973500999974],\n",
       "      [-7.565956, 54.126514499],\n",
       "      [-7.0286355, 54.42130649799998],\n",
       "      [-6.623778500000014, 54.03654849700001],\n",
       "      [-6.2680155, 54.102337],\n",
       "      [-6.1031835, 53.99999950099999],\n",
       "      [-6.3811025, 54.012704],\n",
       "      [-6.247098, 53.722454500000026],\n",
       "      [-6.2148995, 53.63340699899999],\n",
       "      [-6.102773, 53.210773],\n",
       "      [-6.144516501, 52.73769649899998],\n",
       "      [-6.360401500000023, 52.174297998999975],\n",
       "      [-7.842156, 51.95421849899998],\n",
       "      [-8.534105, 51.60396149899998],\n",
       "      [-9.820953499999973, 51.44911749900001],\n",
       "      [-9.4395065, 51.72339500099997],\n",
       "      [-10.143066499999975, 51.59705299900003],\n",
       "      [-10.359855687999982, 51.89811573899999],\n",
       "      [-10.292081, 51.9134095],\n",
       "      [-10.305404416999977, 51.91783544499998],\n",
       "      [-9.792653, 52.15557449900001],\n",
       "      [-10.472409, 52.180784501],\n",
       "      [-9.365306771, 52.572083917999976],\n",
       "      [-9.365192, 52.57212449999997],\n",
       "      [-8.733330465999984, 52.662677988999974],\n",
       "      [-8.72813801, 52.66342214100001],\n",
       "      [-8.728047772000025, 52.66343536199997],\n",
       "      [-8.728093624999985, 52.663433558],\n",
       "      [-8.733924531000014, 52.66327281299999],\n",
       "      [-9.545411424, 52.64089068099997],\n",
       "      [-9.546329543000013, 52.64086552100002],\n",
       "      [-9.546003731999974, 52.64148685499998],\n",
       "      [-9.282234397000025, 53.14464463600001],\n",
       "      [-9.282228877000023, 53.14465490600003],\n",
       "      [-9.282189335999988, 53.14465521599999],\n",
       "      [-9.009308499999975, 53.14081749899998],\n",
       "      [-9.009085012000014, 53.14119886499998],\n",
       "      [-8.933212, 53.270670997000025],\n",
       "      [-9.63143794299998, 53.296942788000024],\n",
       "      [-9.630072499999983, 53.29734849699997],\n",
       "      [-9.63144528700002, 53.29734542900002],\n",
       "      [-10.179155499999979, 53.40698899900002],\n",
       "      [-10.189941, 53.55608850099998],\n",
       "      [-9.80073826, 53.608912261],\n",
       "      [-9.900522, 53.764440997],\n",
       "      [-9.546066, 53.88420849900001],\n",
       "      [-10.070641500000022, 54.27627250099999],\n",
       "      [-9.132258499999978, 54.162360498],\n",
       "      [-8.508256, 54.216985497999985],\n",
       "      [-8.134833, 54.603353501000015],\n",
       "      [-8.7886565, 54.68891599699998],\n",
       "      [-8.28179849999998, 55.158847998],\n",
       "      [-7.339527, 55.374958],\n",
       "      [-6.924876, 55.23369450000001],\n",
       "      [-7.256068500000026, 55.067034998],\n",
       "      [-7.534506, 54.74713900099999],\n",
       "      [-7.921372, 54.69654449900003],\n",
       "      [-7.703411501, 54.60828799900003],\n",
       "      [-8.177718, 54.464973500999974]]]}},\n",
       "  {'type': 'Feature',\n",
       "   'id': 1090,\n",
       "   'properties': {'NUTS_ID': 'ITF',\n",
       "    'STAT_LEVL_': 1,\n",
       "    'SHAPE_AREA': 7.76554618345,\n",
       "    'SHAPE_LEN': 20.516959983},\n",
       "   'geometry': {'type': 'Polygon',\n",
       "    'coordinates': [[[17.388981, 40.89186349900001],\n",
       "      [18.097453, 40.515377999],\n",
       "      [18.517056, 40.135147999000026],\n",
       "      [18.369068, 39.793742001],\n",
       "      [18.04794750000002, 39.92847849899999],\n",
       "      [17.76350449900002, 40.295507],\n",
       "      [17.127098, 40.51762050000002],\n",
       "      [16.867264, 40.39784549900003],\n",
       "      [16.644317, 40.119095999000024],\n",
       "      [16.52795550000002, 39.66865950099998],\n",
       "      [17.025064499999985, 39.483578498999975],\n",
       "      [17.188881, 39.020471998],\n",
       "      [16.890732, 38.92712849899999],\n",
       "      [16.566985499999987, 38.765481998999974],\n",
       "      [16.5820845, 38.46979049700002],\n",
       "      [16.0638095, 37.924418996999975],\n",
       "      [15.678212, 37.95411949800001],\n",
       "      [15.636063, 38.231473498000014],\n",
       "      [15.652291742999978, 38.247265964],\n",
       "      [15.687350835000018, 38.28138256400001],\n",
       "      [15.918956, 38.50676149899999],\n",
       "      [15.8481175, 38.658864498000014],\n",
       "      [16.2137535, 38.81043999899998],\n",
       "      [16.093153, 39.04874299800002],\n",
       "      [15.75595850000002, 39.923496],\n",
       "      [15.644945499000016, 40.04279049899998],\n",
       "      [15.356917, 39.999090997999986],\n",
       "      [14.787251500000025, 40.66618049800002],\n",
       "      [14.747420499999976, 40.67764649899999],\n",
       "      [14.692414499999984, 40.63406599899997],\n",
       "      [14.528490499999975, 40.607152498],\n",
       "      [14.46862, 40.62020149900002],\n",
       "      [14.324673, 40.56908499899998],\n",
       "      [14.460677499999974, 40.74293050099999],\n",
       "      [14.0321305, 40.898838997999974],\n",
       "      [13.760795499999972, 41.22316799700002],\n",
       "      [13.8737185, 41.338294001],\n",
       "      [13.977928, 41.462454],\n",
       "      [13.941038499, 41.68794399699999],\n",
       "      [13.296299499999975, 41.94858850000003],\n",
       "      [13.0305745, 42.115353],\n",
       "      [13.1913805, 42.587491],\n",
       "      [13.39403149899999, 42.591233999],\n",
       "      [13.3577745, 42.694069997999975],\n",
       "      [13.9157315, 42.894577],\n",
       "      [14.1469065, 42.53059649900001],\n",
       "      [14.253960499000016, 42.444798499],\n",
       "      [14.779646999000022, 42.070021499],\n",
       "      [15.13817849999998, 41.92700749900001],\n",
       "      [16.17653150000001, 41.88478950000001],\n",
       "      [15.89714, 41.603231999],\n",
       "      [16.024738500000012, 41.425590499],\n",
       "      [16.542302499000016, 41.229441],\n",
       "      [17.388981, 40.89186349900001]]]}},\n",
       "  {'type': 'Feature',\n",
       "   'id': 1121,\n",
       "   'properties': {'NUTS_ID': 'ITG',\n",
       "    'STAT_LEVL_': 1,\n",
       "    'SHAPE_AREA': 5.11153895806,\n",
       "    'SHAPE_LEN': 15.5196852972},\n",
       "   'geometry': {'type': 'MultiPolygon',\n",
       "    'coordinates': [[[[15.572551, 38.234204998999985],\n",
       "       [15.2580825, 37.807223997999984],\n",
       "       [15.091499, 37.3577085],\n",
       "       [15.315962500000012, 37.035012498000015],\n",
       "       [15.116582, 36.67495599900002],\n",
       "       [15.000358, 36.70284749799998],\n",
       "       [14.493577, 36.78673349799999],\n",
       "       [14.337594500000023, 37.001979999000014],\n",
       "       [14.036207, 37.10602799899999],\n",
       "       [12.896496, 37.577118498],\n",
       "       [12.672787, 37.56008099899998],\n",
       "       [12.4429295, 37.81105199899997],\n",
       "       [12.561744499999975, 38.06556199800002],\n",
       "       [12.731687, 38.180297499],\n",
       "       [12.811005, 38.08151549799999],\n",
       "       [12.9772625, 38.04020599900002],\n",
       "       [13.36569350000002, 38.18228949899998],\n",
       "       [13.7438295, 37.97024649799999],\n",
       "       [14.183486, 38.01939649899998],\n",
       "       [15.652927, 38.26710399699999],\n",
       "       [15.572551, 38.234204998999985]]],\n",
       "     [[[9.423461998999983, 41.17674100099998],\n",
       "       [9.748871999000016, 40.660406997999985],\n",
       "       [9.8270205, 40.51211249900001],\n",
       "       [9.62652699900002, 40.22487699800001],\n",
       "       [9.7352045, 40.075661998999976],\n",
       "       [9.6511185, 39.54932399799998],\n",
       "       [9.555865, 39.133966997000016],\n",
       "       [9.1099865, 39.214018501],\n",
       "       [8.859653, 38.87746949899997],\n",
       "       [8.612392, 38.957787998000015],\n",
       "       [8.368104499000026, 39.21381050000002],\n",
       "       [8.393, 39.446529499],\n",
       "       [8.5022545, 39.713006999000015],\n",
       "       [8.399809, 40.40756849899998],\n",
       "       [8.135010500000021, 40.73634899899997],\n",
       "       [8.201709, 40.97256649799999],\n",
       "       [8.4171275, 40.83831349899998],\n",
       "       [8.802688499999988, 40.931047998],\n",
       "       [9.163662, 41.23562400100002],\n",
       "       [9.423461998999983, 41.17674100099998]]]]}},\n",
       "  {'type': 'Feature',\n",
       "   'id': 1141,\n",
       "   'properties': {'NUTS_ID': 'ITH',\n",
       "    'STAT_LEVL_': 1,\n",
       "    'SHAPE_AREA': 7.1090756829,\n",
       "    'SHAPE_LEN': 19.5663079898},\n",
       "   'geometry': {'type': 'Polygon',\n",
       "    'coordinates': [[[12.690635, 46.656972000999986],\n",
       "      [12.73139299899998, 46.634288],\n",
       "      [13.504249500000014, 46.56630399800002],\n",
       "      [13.714184999, 46.52270349999998],\n",
       "      [13.684032, 46.437472501],\n",
       "      [13.3754925, 46.29823249899999],\n",
       "      [13.66434750000002, 46.177549999],\n",
       "      [13.496938999, 46.051334999],\n",
       "      [13.597145, 45.81952250099999],\n",
       "      [13.596243, 45.807937501000026],\n",
       "      [13.9186565, 45.63351749899999],\n",
       "      [13.7228235, 45.59472549700001],\n",
       "      [13.579783, 45.786951499],\n",
       "      [13.40649350000001, 45.725175001000025],\n",
       "      [13.130853, 45.771844499999986],\n",
       "      [13.098785501, 45.644532997],\n",
       "      [12.434162500000014, 45.42448599699998],\n",
       "      [12.631836, 45.534338499],\n",
       "      [12.413683999, 45.544310500999984],\n",
       "      [12.132562, 45.300370499999985],\n",
       "      [12.200494, 45.257337],\n",
       "      [12.2045665, 45.19767599800002],\n",
       "      [12.33057150000002, 45.1605505],\n",
       "      [12.328777, 45.151860999],\n",
       "      [12.302155605999985, 45.13788754699999],\n",
       "      [12.279706042999976, 45.123266828],\n",
       "      [12.399056499999972, 44.792615501],\n",
       "      [12.269892, 44.630007497],\n",
       "      [12.384282, 44.224726499999974],\n",
       "      [12.450349, 44.162189496999986],\n",
       "      [12.75078, 43.970601500999976],\n",
       "      [12.669299, 43.823227498999984],\n",
       "      [12.493956, 43.91554650099999],\n",
       "      [12.513435500000014, 43.99126949700002],\n",
       "      [12.4046075, 43.95567850100002],\n",
       "      [12.4177, 43.899029997000014],\n",
       "      [12.2837975, 43.76489899799998],\n",
       "      [12.107464, 43.75375349699999],\n",
       "      [11.98652850000002, 43.76191399800001],\n",
       "      [11.710189, 43.877430498000024],\n",
       "      [11.715906500000017, 44.122540499000024],\n",
       "      [11.524959500000023, 44.157639999000025],\n",
       "      [11.202439500000025, 44.100721],\n",
       "      [11.049449, 44.09022999899997],\n",
       "      [10.814787, 44.11617449900001],\n",
       "      [10.624078, 44.120351501000016],\n",
       "      [10.470149, 44.226041001],\n",
       "      [10.253875, 44.26856699899997],\n",
       "      [10.142054499999972, 44.353852999000026],\n",
       "      [9.686725500000023, 44.36592199900002],\n",
       "      [9.4790595, 44.40924050000001],\n",
       "      [9.493363, 44.555858999],\n",
       "      [9.202995499999986, 44.613476499],\n",
       "      [9.200074, 44.68609949699999],\n",
       "      [9.3246605, 44.69],\n",
       "      [9.548684499999979, 45.13264849900003],\n",
       "      [9.8911015, 45.130898],\n",
       "      [10.083503, 45.04395850100002],\n",
       "      [10.464030499999978, 44.93717150100002],\n",
       "      [10.504344, 44.922417999],\n",
       "      [10.887909499999978, 44.914265999],\n",
       "      [11.246231500000022, 44.951427997],\n",
       "      [11.426765499999988, 44.950076],\n",
       "      [11.205502500000023, 45.10948749900001],\n",
       "      [10.6546555, 45.41582699899999],\n",
       "      [10.631074, 45.60951250099998],\n",
       "      [10.840176499999984, 45.832758501],\n",
       "      [10.502388, 45.830373],\n",
       "      [10.515751500000022, 46.34322449699999],\n",
       "      [10.622145499999988, 46.448101999000016],\n",
       "      [10.452801, 46.53068299900002],\n",
       "      [10.4696515, 46.854909],\n",
       "      [11.02225, 46.765410498999984],\n",
       "      [11.164281500000016, 46.96572250000003],\n",
       "      [11.627199500000017, 47.013299],\n",
       "      [12.136014, 47.0806675],\n",
       "      [12.2407455, 47.069168499],\n",
       "      [12.143811, 46.913779998],\n",
       "      [12.477924, 46.67983549799999],\n",
       "      [12.690635, 46.656972000999986]]]}},\n",
       "  {'type': 'Feature',\n",
       "   'id': 1169,\n",
       "   'properties': {'NUTS_ID': 'ITI',\n",
       "    'STAT_LEVL_': 1,\n",
       "    'SHAPE_AREA': 6.33140759553,\n",
       "    'SHAPE_LEN': 14.0181138018},\n",
       "   'geometry': {'type': 'Polygon',\n",
       "    'coordinates': [[[12.4177, 43.899029997000014],\n",
       "      [12.493956, 43.91554650099999],\n",
       "      [12.669299, 43.823227498999984],\n",
       "      [12.75078, 43.970601500999976],\n",
       "      [13.172615, 43.75034599899999],\n",
       "      [13.6420965, 43.47414249899998],\n",
       "      [13.742970499000023, 43.29414699900002],\n",
       "      [13.849453, 43.06665949799998],\n",
       "      [13.9157315, 42.894577],\n",
       "      [13.3577745, 42.694069997999975],\n",
       "      [13.39403149899999, 42.591233999],\n",
       "      [13.1913805, 42.587491],\n",
       "      [13.0305745, 42.115353],\n",
       "      [13.296299499999975, 41.94858850000003],\n",
       "      [13.941038499, 41.68794399699999],\n",
       "      [13.977928, 41.462454],\n",
       "      [13.8737185, 41.338294001],\n",
       "      [13.760795499999972, 41.22316799700002],\n",
       "      [13.067982, 41.221979],\n",
       "      [12.7733215, 41.41626399900002],\n",
       "      [11.733844, 42.15805899899999],\n",
       "      [11.449938499999973, 42.37767050100001],\n",
       "      [11.0979815, 42.393149499],\n",
       "      [11.1765795, 42.541544],\n",
       "      [10.7056725, 42.9418645],\n",
       "      [10.499046, 42.93527050099999],\n",
       "      [10.528247498999974, 43.231603999000015],\n",
       "      [10.299847, 43.58192899900001],\n",
       "      [10.258118, 43.81514699899998],\n",
       "      [10.143476, 43.97542049899999],\n",
       "      [10.018769500000019, 44.044535998000015],\n",
       "      [9.686725500000023, 44.36592199900002],\n",
       "      [10.142054499999972, 44.353852999000026],\n",
       "      [10.253875, 44.26856699899997],\n",
       "      [10.470149, 44.226041001],\n",
       "      [10.624078, 44.120351501000016],\n",
       "      [10.814787, 44.11617449900001],\n",
       "      [11.049449, 44.09022999899997],\n",
       "      [11.202439500000025, 44.100721],\n",
       "      [11.524959500000023, 44.157639999000025],\n",
       "      [11.715906500000017, 44.122540499000024],\n",
       "      [11.710189, 43.877430498000024],\n",
       "      [11.98652850000002, 43.76191399800001],\n",
       "      [12.107464, 43.75375349699999],\n",
       "      [12.2837975, 43.76489899799998],\n",
       "      [12.4177, 43.899029997000014]],\n",
       "     [[12.4466885, 41.90174499800003],\n",
       "      [12.458003, 41.90148549899999],\n",
       "      [12.45582, 41.907197499],\n",
       "      [12.4466885, 41.90174499800003]]]}},\n",
       "  {'type': 'Feature',\n",
       "   'id': 1197,\n",
       "   'properties': {'NUTS_ID': 'LI0',\n",
       "    'STAT_LEVL_': 1,\n",
       "    'SHAPE_AREA': 0.0189726305387,\n",
       "    'SHAPE_LEN': 0.597772729116},\n",
       "   'geometry': {'type': 'Polygon',\n",
       "    'coordinates': [[[9.607078, 47.0607745],\n",
       "      [9.4760475, 47.051797498999974],\n",
       "      [9.530749, 47.27058100099998],\n",
       "      [9.620580500000017, 47.15164549999997],\n",
       "      [9.607078, 47.0607745]]]}},\n",
       "  {'type': 'Feature',\n",
       "   'id': 1201,\n",
       "   'properties': {'NUTS_ID': 'LT0',\n",
       "    'STAT_LEVL_': 1,\n",
       "    'SHAPE_AREA': 9.11831989462,\n",
       "    'SHAPE_LEN': 14.7462669985},\n",
       "   'geometry': {'type': 'Polygon',\n",
       "    'coordinates': [[[24.91819, 56.440865],\n",
       "      [25.0920375, 56.186041998],\n",
       "      [25.821386500000017, 56.052179],\n",
       "      [26.0461545, 55.94410599899999],\n",
       "      [26.630365, 55.68066699899998],\n",
       "      [26.553886, 55.388916000999984],\n",
       "      [26.8356225, 55.285648498],\n",
       "      [26.743454, 55.254102998],\n",
       "      [25.779577500000016, 54.854839501000015],\n",
       "      [25.762614, 54.5768945],\n",
       "      [25.5319225, 54.34203149899997],\n",
       "      [25.779838, 54.16003700099998],\n",
       "      [25.497109500000022, 54.309776499],\n",
       "      [24.835949500000027, 54.149027499],\n",
       "      [24.435035500000026, 53.901003],\n",
       "      [23.51465, 53.95655999799999],\n",
       "      [23.32149850000002, 54.25332599799998],\n",
       "      [22.792095500000016, 54.36335899699998],\n",
       "      [22.588968, 55.070251498],\n",
       "      [21.651070999000012, 55.17998350099998],\n",
       "      [21.271226238999986, 55.24436935199998],\n",
       "      [21.2643495, 55.24553499799998],\n",
       "      [21.064238, 56.06913699900002],\n",
       "      [21.978209, 56.38514299899998],\n",
       "      [22.63556349999999, 56.368168],\n",
       "      [22.920517, 56.39914299899999],\n",
       "      [24.1518, 56.253348501],\n",
       "      [24.91819, 56.440865]]]}},\n",
       "  {'type': 'Feature',\n",
       "   'id': 1214,\n",
       "   'properties': {'NUTS_ID': 'LU0',\n",
       "    'STAT_LEVL_': 1,\n",
       "    'SHAPE_AREA': 0.334562602948,\n",
       "    'SHAPE_LEN': 2.34710743195},\n",
       "   'geometry': {'type': 'Polygon',\n",
       "    'coordinates': [[[6.137662499999976, 50.129951499000015],\n",
       "      [6.4749625, 49.821274999000025],\n",
       "      [6.380052499999977, 49.55110499900002],\n",
       "      [6.367107499999975, 49.46950700100001],\n",
       "      [5.893386, 49.496944498],\n",
       "      [5.818117, 49.5463105],\n",
       "      [5.910688, 49.66238800100001],\n",
       "      [5.746319, 49.853595],\n",
       "      [6.0248995, 50.182779498],\n",
       "      [6.137662499999976, 50.129951499000015]]]}},\n",
       "  {'type': 'Feature',\n",
       "   'id': 1218,\n",
       "   'properties': {'NUTS_ID': 'LV0',\n",
       "    'STAT_LEVL_': 1,\n",
       "    'SHAPE_AREA': 9.60205681199,\n",
       "    'SHAPE_LEN': 18.2246422222},\n",
       "   'geometry': {'type': 'Polygon',\n",
       "    'coordinates': [[[27.351579, 57.51823699900001],\n",
       "      [27.690777, 57.37056099900002],\n",
       "      [27.8701565, 57.28979499899998],\n",
       "      [27.6594445, 56.8343655],\n",
       "      [28.192765, 56.44856599899998],\n",
       "      [28.154555500000015, 56.169843501],\n",
       "      [27.615505499999983, 55.787071501000014],\n",
       "      [26.630365, 55.68066699899998],\n",
       "      [26.0461545, 55.94410599899999],\n",
       "      [25.821386500000017, 56.052179],\n",
       "      [25.0920375, 56.186041998],\n",
       "      [24.91819, 56.440865],\n",
       "      [24.1518, 56.253348501],\n",
       "      [22.920517, 56.39914299899999],\n",
       "      [22.63556349999999, 56.368168],\n",
       "      [21.978209, 56.38514299899998],\n",
       "      [21.064238, 56.06913699900002],\n",
       "      [20.97067850000002, 56.352584497],\n",
       "      [21.05211, 56.82362099900001],\n",
       "      [21.3748955, 57.00309699799999],\n",
       "      [21.419337, 57.290952499000014],\n",
       "      [21.7031505, 57.5685305],\n",
       "      [22.6050035, 57.75857399900002],\n",
       "      [23.146890499999984, 57.316258],\n",
       "      [23.304514, 57.06428949999997],\n",
       "      [23.93453249999999, 57.00637049699998],\n",
       "      [24.11920249999997, 57.086290001],\n",
       "      [24.410199499999976, 57.266025501],\n",
       "      [24.352817500000015, 57.87655650099998],\n",
       "      [24.834082500000022, 57.9727795],\n",
       "      [25.046307, 58.04014600099998],\n",
       "      [26.056459, 57.84843149699998],\n",
       "      [26.52490549999999, 57.516247497999984],\n",
       "      [27.351579, 57.51823699900001]]]}},\n",
       "  {'type': 'Feature',\n",
       "   'id': 1227,\n",
       "   'properties': {'NUTS_ID': 'ME0',\n",
       "    'STAT_LEVL_': 1,\n",
       "    'SHAPE_AREA': 1.46919018022,\n",
       "    'SHAPE_LEN': 5.89019509358},\n",
       "   'geometry': {'type': 'Polygon',\n",
       "    'coordinates': [[[18.525213, 42.420462997000016],\n",
       "      [18.438104, 42.55570500099998],\n",
       "      [18.5672495, 42.651405497999974],\n",
       "      [18.491927998999984, 42.98396299799998],\n",
       "      [18.683405, 43.24548699899998],\n",
       "      [19.224069, 43.527541],\n",
       "      [20.06393650000001, 43.006823999],\n",
       "      [20.35292850000002, 42.833381498999984],\n",
       "      [20.024653, 42.76513849899999],\n",
       "      [20.0763, 42.555823498999985],\n",
       "      [19.621872, 42.589744498000016],\n",
       "      [19.282484, 42.180015502],\n",
       "      [19.372067, 41.850320497999974],\n",
       "      [18.689521633000027, 42.464353484000014],\n",
       "      [18.525213, 42.420462997000016]]]}},\n",
       "  {'type': 'Feature',\n",
       "   'id': 1231,\n",
       "   'properties': {'NUTS_ID': 'MK0',\n",
       "    'STAT_LEVL_': 1,\n",
       "    'SHAPE_AREA': 2.70884348404,\n",
       "    'SHAPE_LEN': 6.70983097007},\n",
       "   'geometry': {'type': 'Polygon',\n",
       "    'coordinates': [[[22.9275915, 41.33853949899998],\n",
       "      [22.879178500000023, 41.340652998],\n",
       "      [22.732037, 41.146391498000014],\n",
       "      [22.332052, 41.12027250099999],\n",
       "      [22.216216, 41.17045749800002],\n",
       "      [21.929438, 41.10035049800001],\n",
       "      [21.787378, 40.9311255],\n",
       "      [20.980204500000013, 40.855665],\n",
       "      [20.837823, 40.92768299900001],\n",
       "      [20.515577, 41.23095550099998],\n",
       "      [20.45628449999998, 41.554024001000016],\n",
       "      [20.557774, 41.581870502000015],\n",
       "      [20.594286, 41.877327498],\n",
       "      [21.10894, 42.206170998],\n",
       "      [21.2126975, 42.110701001],\n",
       "      [21.4443185, 42.23493049899997],\n",
       "      [21.58694650000001, 42.262817498],\n",
       "      [22.3602065, 42.311157001000026],\n",
       "      [22.510412, 42.15515849799999],\n",
       "      [22.867214, 42.022199496999974],\n",
       "      [22.968327499999987, 41.51983549900001],\n",
       "      [22.9275915, 41.33853949899998]]]}},\n",
       "  {'type': 'Feature',\n",
       "   'id': 1242,\n",
       "   'properties': {'NUTS_ID': 'MT0',\n",
       "    'STAT_LEVL_': 1,\n",
       "    'SHAPE_AREA': 0.0251866693234,\n",
       "    'SHAPE_LEN': 1.05686311101},\n",
       "   'geometry': {'type': 'MultiPolygon',\n",
       "    'coordinates': [[[[14.5720435, 35.84975449799998],\n",
       "       [14.535398, 35.80750299800002],\n",
       "       [14.416679499999987, 35.82818949900002],\n",
       "       [14.342219999, 35.873474498],\n",
       "       [14.319842, 35.970368],\n",
       "       [14.376091499999973, 35.987453999000024],\n",
       "       [14.350481, 35.96995249899999],\n",
       "       [14.5720435, 35.84975449799998]]],\n",
       "     [[[14.336181, 36.03225849900002],\n",
       "       [14.218846, 36.02097449799999],\n",
       "       [14.186361, 36.036271999],\n",
       "       [14.184842, 36.074078498],\n",
       "       [14.300056499999982, 36.05719499899999],\n",
       "       [14.336181, 36.03225849900002]]]]}},\n",
       "  {'type': 'Feature',\n",
       "   'id': 1247,\n",
       "   'properties': {'NUTS_ID': 'NL1',\n",
       "    'STAT_LEVL_': 1,\n",
       "    'SHAPE_AREA': 1.12198002137,\n",
       "    'SHAPE_LEN': 4.96284475009},\n",
       "   'geometry': {'type': 'Polygon',\n",
       "    'coordinates': [[[7.208935, 53.243064498000024],\n",
       "      [7.202794499999982, 53.11328149899998],\n",
       "      [7.092692, 52.83820099899998],\n",
       "      [7.006229500000018, 52.63876299899999],\n",
       "      [6.709732499999973, 52.62782349899999],\n",
       "      [6.629429500000015, 52.669658500000025],\n",
       "      [6.1630035, 52.680061498999976],\n",
       "      [6.119814, 52.85426700099998],\n",
       "      [5.819826499999976, 52.81731750099999],\n",
       "      [5.795148499999982, 52.80649949899998],\n",
       "      [5.377261499999975, 52.764805],\n",
       "      [5.167425499999979, 52.998798498999975],\n",
       "      [5.164383499999985, 53.00091050100002],\n",
       "      [5.4112285, 53.15172449800002],\n",
       "      [6.1913015, 53.410937999],\n",
       "      [6.882578, 53.440654999],\n",
       "      [6.874905, 53.408012998],\n",
       "      [7.0927125, 53.25701749699999],\n",
       "      [7.208935, 53.243064498000024]]]}},\n",
       "  {'type': 'Feature',\n",
       "   'id': 1260,\n",
       "   'properties': {'NUTS_ID': 'NL2',\n",
       "    'STAT_LEVL_': 1,\n",
       "    'SHAPE_AREA': 1.46019485675,\n",
       "    'SHAPE_LEN': 6.53269045452},\n",
       "   'geometry': {'type': 'Polygon',\n",
       "    'coordinates': [[[6.709732499999973, 52.62782349899999],\n",
       "      [6.697865499999978, 52.48628599800003],\n",
       "      [6.987941499999977, 52.469540999],\n",
       "      [7.065685, 52.24137299900002],\n",
       "      [6.760465, 52.11856949999998],\n",
       "      [6.828513, 51.9640665],\n",
       "      [6.4077795, 51.828092001000016],\n",
       "      [6.167766, 51.900804499],\n",
       "      [5.953192, 51.747845998],\n",
       "      [5.8651585, 51.757407999],\n",
       "      [5.597879499999976, 51.828082999],\n",
       "      [5.128057500000011, 51.73761],\n",
       "      [5.000534, 51.82093799900002],\n",
       "      [5.149456, 51.933452499],\n",
       "      [5.606011500000022, 51.943248498],\n",
       "      [5.404633, 52.24962999899998],\n",
       "      [5.335462, 52.29021849899999],\n",
       "      [5.079161, 52.388653],\n",
       "      [5.0604265, 52.578937499],\n",
       "      [5.377261499999975, 52.764805],\n",
       "      [5.795148499999982, 52.80649949899998],\n",
       "      [5.819826499999976, 52.81731750099999],\n",
       "      [6.119814, 52.85426700099998],\n",
       "      [6.1630035, 52.680061498999976],\n",
       "      [6.629429500000015, 52.669658500000025],\n",
       "      [6.709732499999973, 52.62782349899999]]]}},\n",
       "  {'type': 'Feature',\n",
       "   'id': 1279,\n",
       "   'properties': {'NUTS_ID': 'IS0',\n",
       "    'STAT_LEVL_': 1,\n",
       "    'SHAPE_AREA': 19.5823054202,\n",
       "    'SHAPE_LEN': 42.7650159661},\n",
       "   'geometry': {'type': 'Polygon',\n",
       "    'coordinates': [[[-16.194012499999985, 66.53742000099999],\n",
       "      [-15.7608105, 66.28006149999999],\n",
       "      [-14.530650501000025, 66.377677],\n",
       "      [-15.1874295, 66.107847999],\n",
       "      [-14.604863500000022, 65.959309],\n",
       "      [-14.841373499999975, 65.72531300100002],\n",
       "      [-13.606742500999985, 65.510168],\n",
       "      [-13.495021, 65.07634249699998],\n",
       "      [-14.962440500000014, 64.23983099899999],\n",
       "      [-18.177745, 63.45859599800002],\n",
       "      [-22.007397, 63.83598750099998],\n",
       "      [-22.13086850000002, 63.83659800100003],\n",
       "      [-22.749017, 63.970331498],\n",
       "      [-22.125507, 64.040599],\n",
       "      [-21.3700475, 64.38032599899998],\n",
       "      [-22.03162150000003, 64.303023999],\n",
       "      [-22.4159795, 64.81220099900003],\n",
       "      [-24.04781, 64.87882700099999],\n",
       "      [-21.8073225, 65.02585000099998],\n",
       "      [-21.7099895, 65.159457998],\n",
       "      [-22.560879, 65.16934599899997],\n",
       "      [-21.681208, 65.451475],\n",
       "      [-24.53204249999999, 65.503079],\n",
       "      [-24.099384, 65.80526849900002],\n",
       "      [-23.171936500000015, 65.774955998],\n",
       "      [-23.868307, 65.88655649999998],\n",
       "      [-23.18220450000001, 65.83778449800002],\n",
       "      [-23.819687, 66.034912],\n",
       "      [-23.478353, 66.19469350000003],\n",
       "      [-22.360858, 65.925525999],\n",
       "      [-22.976494, 66.22213249999999],\n",
       "      [-22.36286050000001, 66.2698555],\n",
       "      [-23.1958975, 66.35003399700003],\n",
       "      [-22.9317105, 66.4693605],\n",
       "      [-21.32774649999999, 66.00619900100003],\n",
       "      [-21.3420165, 65.73476750100002],\n",
       "      [-21.7825325, 65.76451349799999],\n",
       "      [-21.094844500000022, 65.44756299900001],\n",
       "      [-20.264036, 65.72534549900001],\n",
       "      [-20.421178, 66.08405149999999],\n",
       "      [-19.473689, 65.73660650099998],\n",
       "      [-19.36108150000001, 65.829324],\n",
       "      [-19.4362145, 66.0476645],\n",
       "      [-18.77751, 66.19142700100002],\n",
       "      [-17.4125985, 65.992246497],\n",
       "      [-16.194012499999985, 66.53742000099999]]]}},\n",
       "  {'type': 'Feature',\n",
       "   'id': 1284,\n",
       "   'properties': {'NUTS_ID': 'ITC',\n",
       "    'STAT_LEVL_': 1,\n",
       "    'SHAPE_AREA': 6.68473353585,\n",
       "    'SHAPE_LEN': 17.1356662484},\n",
       "   'geometry': {'type': 'Polygon',\n",
       "    'coordinates': [[[10.452801, 46.53068299900002],\n",
       "      [10.622145499999988, 46.448101999000016],\n",
       "      [10.515751500000022, 46.34322449699999],\n",
       "      [10.502388, 45.830373],\n",
       "      [10.840176499999984, 45.832758501],\n",
       "      [10.631074, 45.60951250099998],\n",
       "      [10.6546555, 45.41582699899999],\n",
       "      [11.205502500000023, 45.10948749900001],\n",
       "      [11.426765499999988, 44.950076],\n",
       "      [11.246231500000022, 44.951427997],\n",
       "      [10.887909499999978, 44.914265999],\n",
       "      [10.504344, 44.922417999],\n",
       "      [10.464030499999978, 44.93717150100002],\n",
       "      [10.083503, 45.04395850100002],\n",
       "      [9.8911015, 45.130898],\n",
       "      [9.548684499999979, 45.13264849900003],\n",
       "      [9.3246605, 44.69],\n",
       "      [9.200074, 44.68609949699999],\n",
       "      [9.202995499999986, 44.613476499],\n",
       "      [9.493363, 44.555858999],\n",
       "      [9.4790595, 44.40924050000001],\n",
       "      [9.686725500000023, 44.36592199900002],\n",
       "      [10.018769500000019, 44.044535998000015],\n",
       "      [9.511344, 44.21667549799997],\n",
       "      [8.63301, 44.379803498],\n",
       "      [8.135350999000025, 43.93894049800002],\n",
       "      [7.529827, 43.784007997],\n",
       "      [7.714236500000027, 44.061513499],\n",
       "      [7.007760500000018, 44.23670049899999],\n",
       "      [6.887428, 44.361287],\n",
       "      [6.948443, 44.654741999],\n",
       "      [7.065755, 44.71346449700002],\n",
       "      [6.630051, 45.10985649999998],\n",
       "      [7.125157, 45.243994498],\n",
       "      [7.104723, 45.46845449900002],\n",
       "      [6.8023685, 45.778562],\n",
       "      [7.044886, 45.92241299900002],\n",
       "      [7.86407650000001, 45.91675049999998],\n",
       "      [7.8771375, 45.926954997999985],\n",
       "      [8.384717, 46.452158499],\n",
       "      [8.713936, 46.097271998999986],\n",
       "      [8.912147, 45.830444999],\n",
       "      [9.088803499999983, 45.89689700100001],\n",
       "      [8.988276499999984, 45.97228249800003],\n",
       "      [9.1593775, 46.169601],\n",
       "      [9.248531500000013, 46.23376800099999],\n",
       "      [9.714149500000019, 46.292708499000014],\n",
       "      [10.2448745, 46.62209199799997],\n",
       "      [10.452801, 46.53068299900002]]]}},\n",
       "  {'type': 'Feature',\n",
       "   'id': 1298,\n",
       "   'properties': {'NUTS_ID': 'PL5',\n",
       "    'STAT_LEVL_': 1,\n",
       "    'SHAPE_AREA': 3.83741154114,\n",
       "    'SHAPE_LEN': 10.978364321},\n",
       "   'geometry': {'type': 'Polygon',\n",
       "    'coordinates': [[[18.1636815, 51.172516997],\n",
       "      [18.672954499000014, 51.056902501000025],\n",
       "      [18.61587750000001, 50.85358750099999],\n",
       "      [18.607473500000026, 50.550011],\n",
       "      [18.425866499999984, 50.24896549800002],\n",
       "      [18.059780499999988, 50.17465249999998],\n",
       "      [18.035060999, 50.06577199899999],\n",
       "      [17.868675, 49.972545997],\n",
       "      [17.592736, 50.160014],\n",
       "      [17.758479, 50.206568],\n",
       "      [17.718403998999975, 50.32095],\n",
       "      [17.429605, 50.25451300100002],\n",
       "      [16.90792449999998, 50.44945400099999],\n",
       "      [17.028323, 50.22999699899998],\n",
       "      [16.86327, 50.19812299900002],\n",
       "      [16.58029, 50.14278799800002],\n",
       "      [16.195729, 50.432135001],\n",
       "      [16.443536, 50.58625749999999],\n",
       "      [16.107318, 50.662072998999975],\n",
       "      [15.535267499999975, 50.779375999000024],\n",
       "      [15.032691, 51.021315999000024],\n",
       "      [14.823362, 50.87055049700001],\n",
       "      [15.037271, 51.24374999899999],\n",
       "      [14.974183, 51.36394999700002],\n",
       "      [15.714032499999973, 51.51739699699999],\n",
       "      [15.979245, 51.802309001000026],\n",
       "      [16.416191, 51.784865],\n",
       "      [16.828372, 51.57218799899999],\n",
       "      [17.257433, 51.64284300100002],\n",
       "      [17.556245, 51.58430149899999],\n",
       "      [17.795269500000018, 51.19414600099998],\n",
       "      [17.939456, 51.10886499899999],\n",
       "      [18.1636815, 51.172516997]]]}},\n",
       "  {'type': 'Feature',\n",
       "   'id': 1308,\n",
       "   'properties': {'NUTS_ID': 'PL6',\n",
       "    'STAT_LEVL_': 1,\n",
       "    'SHAPE_AREA': 8.14210024579,\n",
       "    'SHAPE_LEN': 17.5522939752},\n",
       "   'geometry': {'type': 'Polygon',\n",
       "    'coordinates': [[[22.792095500000016, 54.36335899699998],\n",
       "      [22.476556500000015, 54.20130550099998],\n",
       "      [22.782806, 53.91548949899999],\n",
       "      [22.703502500000013, 53.767354496999985],\n",
       "      [22.135728, 53.544539998],\n",
       "      [21.598199912999974, 53.48018197099998],\n",
       "      [21.55169, 53.478128001000016],\n",
       "      [20.675953999, 53.269529498],\n",
       "      [20.411137, 53.214165],\n",
       "      [19.7615955, 53.15179649800001],\n",
       "      [19.684806, 52.963038998],\n",
       "      [19.444664, 52.93904250000003],\n",
       "      [19.522742999, 52.74920049799999],\n",
       "      [19.289184499999976, 52.39271249799998],\n",
       "      [19.04712, 52.33280399900002],\n",
       "      [18.377150500000027, 52.53746350099999],\n",
       "      [17.458523, 52.73894800099998],\n",
       "      [17.509582500000022, 52.917767997],\n",
       "      [17.3015565, 52.994803],\n",
       "      [17.438793499999974, 53.26751450099999],\n",
       "      [17.390653, 53.490964],\n",
       "      [16.892248, 53.655868999],\n",
       "      [16.982053499000017, 53.904909499999974],\n",
       "      [16.792764499999976, 53.98555049999999],\n",
       "      [16.858620499999972, 54.38257649799999],\n",
       "      [16.699085, 54.569247001],\n",
       "      [17.666607, 54.7832315],\n",
       "      [18.35961, 54.81719149700001],\n",
       "      [18.828968499999974, 54.60770799900001],\n",
       "      [18.3967745, 54.74728049999999],\n",
       "      [18.54172649999998, 54.58448],\n",
       "      [18.950029500000028, 54.358310501],\n",
       "      [19.639032, 54.458294498999976],\n",
       "      [19.648523, 54.453339],\n",
       "      [19.256953, 54.2784605],\n",
       "      [19.8037685, 54.4424105],\n",
       "      [20.313503, 54.40220200099998],\n",
       "      [21.559322, 54.322504],\n",
       "      [22.792095500000016, 54.36335899699998]]]}},\n",
       "  {'type': 'Feature',\n",
       "   'id': 1326,\n",
       "   'properties': {'NUTS_ID': 'PT1',\n",
       "    'STAT_LEVL_': 1,\n",
       "    'SHAPE_AREA': 9.31861382968,\n",
       "    'SHAPE_LEN': 17.9613633114},\n",
       "   'geometry': {'type': 'Polygon',\n",
       "    'coordinates': [[[-6.983513500000015, 41.97290399899998],\n",
       "      [-6.5884615, 41.967761998000015],\n",
       "      [-6.189352, 41.575046499],\n",
       "      [-6.479713, 41.294379999],\n",
       "      [-6.689786, 41.20524149800002],\n",
       "      [-6.929903500000023, 41.02946649900002],\n",
       "      [-6.801935, 40.861045998],\n",
       "      [-6.865144, 40.270694499],\n",
       "      [-6.9512985, 40.257445999000026],\n",
       "      [-7.011960499999986, 40.126934],\n",
       "      [-6.864203, 40.011867498000015],\n",
       "      [-7.015405, 39.670856499000024],\n",
       "      [-7.53490245, 39.661986891000026],\n",
       "      [-7.231467, 39.278431],\n",
       "      [-6.9513915, 39.024070499],\n",
       "      [-7.203135, 38.75101749800001],\n",
       "      [-7.316636, 38.43987649899998],\n",
       "      [-7.10795250000001, 38.18812150000002],\n",
       "      [-6.9317385, 38.208377998],\n",
       "      [-7.002483499999983, 38.0227165],\n",
       "      [-7.2632845, 37.979908],\n",
       "      [-7.512691500000017, 37.526256499],\n",
       "      [-7.401916500000027, 37.17482749800001],\n",
       "      [-7.8825875, 36.96182299899999],\n",
       "      [-8.592472, 37.1220545],\n",
       "      [-8.981500499999981, 37.02743849799998],\n",
       "      [-8.7963155, 37.442948],\n",
       "      [-8.735066500000016, 38.516034999],\n",
       "      [-9.222857499999975, 38.413747999],\n",
       "      [-9.260362499999985, 38.662664999000015],\n",
       "      [-8.924883500000021, 38.75867649999998],\n",
       "      [-8.968469, 38.827762499000016],\n",
       "      [-9.477468499999986, 38.70183849799997],\n",
       "      [-9.416459499999974, 39.054692999],\n",
       "      [-9.365950500999986, 39.34837799899998],\n",
       "      [-9.04026600100002, 39.74142200099999],\n",
       "      [-8.894938, 40.045502999],\n",
       "      [-8.784033, 40.52036649899998],\n",
       "      [-8.6531195, 40.964778497],\n",
       "      [-8.776427500000011, 41.471979497],\n",
       "      [-8.811573, 41.611576996999986],\n",
       "      [-8.863186, 41.87206649900003],\n",
       "      [-8.199000500000011, 42.15441899899997],\n",
       "      [-8.1650755, 41.818302],\n",
       "      [-8.051862500000027, 41.820613998],\n",
       "      [-7.20046450000001, 41.879749498000024],\n",
       "      [-6.983513500000015, 41.97290399899998]]]}},\n",
       "  {'type': 'Feature',\n",
       "   'id': 1355,\n",
       "   'properties': {'NUTS_ID': 'PT2',\n",
       "    'STAT_LEVL_': 1,\n",
       "    'SHAPE_AREA': 0.0439399922416,\n",
       "    'SHAPE_LEN': 1.48085390341},\n",
       "   'geometry': {'type': 'Polygon',\n",
       "    'coordinates': [[[-25.1341635, 37.80761749800001],\n",
       "      [-25.5115255, 37.708371499],\n",
       "      [-25.85274, 37.85310549899998],\n",
       "      [-25.689569, 37.84193950100001],\n",
       "      [-25.1341635, 37.80761749800001]]]}},\n",
       "  {'type': 'Feature',\n",
       "   'id': 1358,\n",
       "   'properties': {'NUTS_ID': 'PT3',\n",
       "    'STAT_LEVL_': 1,\n",
       "    'SHAPE_AREA': 0.0550188568202,\n",
       "    'SHAPE_LEN': 1.11196618179},\n",
       "   'geometry': {'type': 'Polygon',\n",
       "    'coordinates': [[[-16.746594500000015, 32.73417],\n",
       "      [-16.944882501, 32.632935498999984],\n",
       "      [-17.2126035, 32.736969999],\n",
       "      [-17.193386499999974, 32.870556498999974],\n",
       "      [-16.746594500000015, 32.73417]]]}},\n",
       "  {'type': 'Feature',\n",
       "   'id': 1362,\n",
       "   'properties': {'NUTS_ID': 'RO1',\n",
       "    'STAT_LEVL_': 1,\n",
       "    'SHAPE_AREA': 8.05386428598,\n",
       "    'SHAPE_LEN': 12.7418179266},\n",
       "   'geometry': {'type': 'Polygon',\n",
       "    'coordinates': [[[24.947100499999976, 47.729124],\n",
       "      [24.960837500000025, 47.596850999000026],\n",
       "      [25.063383, 47.13653849799999],\n",
       "      [25.2467105, 47.097919],\n",
       "      [25.66158249900002, 47.091646500000024],\n",
       "      [25.8619675, 46.92338349800002],\n",
       "      [25.79531, 46.71911749899999],\n",
       "      [25.975159500000018, 46.69731249900002],\n",
       "      [26.263439, 46.24633849700001],\n",
       "      [26.4399845, 46.038876499000025],\n",
       "      [26.392094499999985, 45.80238949699998],\n",
       "      [26.093334500000026, 45.51630599700002],\n",
       "      [26.0727185, 45.505787999],\n",
       "      [25.452539, 45.441341998999974],\n",
       "      [25.32157749999999, 45.381088998],\n",
       "      [25.103214, 45.58519399900001],\n",
       "      [24.68492550000002, 45.60411099700002],\n",
       "      [24.5128345, 45.58682499899999],\n",
       "      [23.703613, 45.49677200100001],\n",
       "      [23.59727049999998, 45.47347149900003],\n",
       "      [23.234864, 46.03050199699999],\n",
       "      [22.748716, 46.35120749999999],\n",
       "      [22.676575500000013, 46.40582549700002],\n",
       "      [21.441398, 46.651467],\n",
       "      [21.658955, 47.02213149800002],\n",
       "      [22.12832, 47.59808949699999],\n",
       "      [22.1808375, 47.60009449900002],\n",
       "      [22.896270500000014, 47.95412050099998],\n",
       "      [23.1885355, 48.10868799899998],\n",
       "      [23.493605, 47.96781149899999],\n",
       "      [24.583293500000025, 47.964851496999984],\n",
       "      [24.947100499999976, 47.729124]]]}},\n",
       "  {'type': 'Feature',\n",
       "   'id': 1377,\n",
       "   'properties': {'NUTS_ID': 'RO2',\n",
       "    'STAT_LEVL_': 1,\n",
       "    'SHAPE_AREA': 8.34952834643,\n",
       "    'SHAPE_LEN': 17.2443908003},\n",
       "   'geometry': {'type': 'Polygon',\n",
       "    'coordinates': [[[28.578884, 43.738739],\n",
       "      [27.69541, 43.987343],\n",
       "      [27.271344999, 44.12633649899999],\n",
       "      [28.01737399899997, 44.340248997],\n",
       "      [28.110168499999986, 44.439703501],\n",
       "      [27.881007, 44.76307649900002],\n",
       "      [27.20345850000001, 44.78707399899997],\n",
       "      [26.6055515, 44.856993998],\n",
       "      [26.0727185, 45.505787999],\n",
       "      [26.093334500000026, 45.51630599700002],\n",
       "      [26.392094499999985, 45.80238949699998],\n",
       "      [26.4399845, 46.038876499000025],\n",
       "      [26.263439, 46.24633849700001],\n",
       "      [25.975159500000018, 46.69731249900002],\n",
       "      [25.79531, 46.71911749899999],\n",
       "      [25.8619675, 46.92338349800002],\n",
       "      [25.66158249900002, 47.091646500000024],\n",
       "      [25.2467105, 47.097919],\n",
       "      [25.063383, 47.13653849799999],\n",
       "      [24.960837500000025, 47.596850999000026],\n",
       "      [24.947100499999976, 47.729124],\n",
       "      [26.098827500000027, 47.97879599700002],\n",
       "      [26.63056, 48.259749999],\n",
       "      [27.1646515, 47.99468349900002],\n",
       "      [27.3911665, 47.58939749699999],\n",
       "      [28.113805500000012, 46.838411001],\n",
       "      [28.260886, 46.43713949900001],\n",
       "      [28.115802, 46.10782699700002],\n",
       "      [28.088561500000026, 45.606112499],\n",
       "      [28.21136, 45.46727999900003],\n",
       "      [28.28599, 45.430630001],\n",
       "      [28.717, 45.224379999],\n",
       "      [29.42759, 45.44223999899998],\n",
       "      [29.6796395, 45.211838],\n",
       "      [29.600269, 44.83955449899997],\n",
       "      [28.994085, 44.679625498],\n",
       "      [28.62598250000002, 44.29703199800002],\n",
       "      [28.578884, 43.738739]]]}},\n",
       "  {'type': 'Feature',\n",
       "   'id': 1392,\n",
       "   'properties': {'NUTS_ID': 'RO3',\n",
       "    'STAT_LEVL_': 1,\n",
       "    'SHAPE_AREA': 4.14173980187,\n",
       "    'SHAPE_LEN': 10.0459472466},\n",
       "   'geometry': {'type': 'Polygon',\n",
       "    'coordinates': [[[26.0727185, 45.505787999],\n",
       "      [26.6055515, 44.856993998],\n",
       "      [27.20345850000001, 44.78707399899997],\n",
       "      [27.881007, 44.76307649900002],\n",
       "      [28.110168499999986, 44.439703501],\n",
       "      [28.01737399899997, 44.340248997],\n",
       "      [27.271344999, 44.12633649899999],\n",
       "      [26.379968, 44.04295099900003],\n",
       "      [26.358359999000015, 44.038415500999974],\n",
       "      [25.671862499999975, 43.69133999899998],\n",
       "      [25.544640500000014, 43.64298149699999],\n",
       "      [25.293740500000013, 43.654294],\n",
       "      [24.641605998999978, 43.733412999],\n",
       "      [24.755096, 43.81760149899998],\n",
       "      [24.613092499, 44.01415599799998],\n",
       "      [24.884019500000022, 44.38263649700002],\n",
       "      [24.438121, 44.845375499],\n",
       "      [24.5128345, 45.58682499899999],\n",
       "      [24.68492550000002, 45.60411099700002],\n",
       "      [25.103214, 45.58519399900001],\n",
       "      [25.32157749999999, 45.381088998],\n",
       "      [25.452539, 45.441341998999974],\n",
       "      [26.0727185, 45.505787999]]]}},\n",
       "  {'type': 'Feature',\n",
       "   'id': 1404,\n",
       "   'properties': {'NUTS_ID': 'RO4',\n",
       "    'STAT_LEVL_': 1,\n",
       "    'SHAPE_AREA': 6.93616372615,\n",
       "    'SHAPE_LEN': 13.9495964542},\n",
       "   'geometry': {'type': 'Polygon',\n",
       "    'coordinates': [[[24.5128345, 45.58682499899999],\n",
       "      [24.438121, 44.845375499],\n",
       "      [24.884019500000022, 44.38263649700002],\n",
       "      [24.613092499, 44.01415599799998],\n",
       "      [24.755096, 43.81760149899998],\n",
       "      [24.641605998999978, 43.733412999],\n",
       "      [24.324132, 43.699567996999974],\n",
       "      [24.112719, 43.699566498000024],\n",
       "      [23.63008, 43.79125999799999],\n",
       "      [22.997154500000022, 43.807626997],\n",
       "      [22.838719, 43.877852001],\n",
       "      [23.045898, 44.06374949999997],\n",
       "      [22.966399500000023, 44.09852499700003],\n",
       "      [22.6751615, 44.21566299699998],\n",
       "      [22.4573995, 44.4674665],\n",
       "      [22.705956500000013, 44.603216498999984],\n",
       "      [22.467334, 44.7147455],\n",
       "      [22.1595795, 44.471777498999984],\n",
       "      [22.016132500000026, 44.599202499],\n",
       "      [22.012350500000025, 44.60231849899998],\n",
       "      [21.35847, 44.82161199699999],\n",
       "      [21.560126500000024, 44.8890065],\n",
       "      [21.47917849999999, 45.19302750100002],\n",
       "      [21.016575, 45.324627497999984],\n",
       "      [20.662833, 45.794115998999985],\n",
       "      [20.264296, 46.1263735],\n",
       "      [20.705303500000014, 46.160937499],\n",
       "      [20.7756, 46.27590999900002],\n",
       "      [21.103170499999976, 46.26259049700002],\n",
       "      [21.441398, 46.651467],\n",
       "      [22.676575500000013, 46.40582549700002],\n",
       "      [22.748716, 46.35120749999999],\n",
       "      [23.234864, 46.03050199699999],\n",
       "      [23.59727049999998, 45.47347149900003],\n",
       "      [23.703613, 45.49677200100001],\n",
       "      [24.5128345, 45.58682499899999]]]}},\n",
       "  {'type': 'Feature',\n",
       "   'id': 1409,\n",
       "   'properties': {'NUTS_ID': 'NL3',\n",
       "    'STAT_LEVL_': 1,\n",
       "    'SHAPE_AREA': 1.22674453319,\n",
       "    'SHAPE_LEN': 9.6691880805},\n",
       "   'geometry': {'type': 'MultiPolygon',\n",
       "    'coordinates': [[[[4.249017, 51.6458015],\n",
       "       [4.279565, 51.37601749700002],\n",
       "       [4.24366950000001, 51.37472949900001],\n",
       "       [3.4342, 51.52615749900002],\n",
       "       [4.223578, 51.43865599700001],\n",
       "       [4.161857000999987, 51.66683157699998],\n",
       "       [4.135041090000016, 51.673303697999984],\n",
       "       [3.678739, 51.69532400100002],\n",
       "       [3.839083, 51.758297],\n",
       "       [4.1277885, 52.000542497000026],\n",
       "       [4.198018499999989, 52.05414449699998],\n",
       "       [4.3742325, 52.18708999699999],\n",
       "       [4.493847500000015, 52.32826000099999],\n",
       "       [4.560596499999974, 52.437426001],\n",
       "       [4.609676499999978, 52.57340100099998],\n",
       "       [4.649071, 52.75617749999998],\n",
       "       [4.730989, 52.96218849899998],\n",
       "       [5.164383499999985, 53.00091050100002],\n",
       "       [5.167425499999979, 52.998798498999975],\n",
       "       [5.377261499999975, 52.764805],\n",
       "       [5.0604265, 52.578937499],\n",
       "       [5.079161, 52.388653],\n",
       "       [5.335462, 52.29021849899999],\n",
       "       [5.404633, 52.24962999899998],\n",
       "       [5.606011500000022, 51.943248498],\n",
       "       [5.149456, 51.933452499],\n",
       "       [5.000534, 51.82093799900002],\n",
       "       [4.676294499999983, 51.7249185],\n",
       "       [4.620420500000023, 51.71412650000002],\n",
       "       [4.249017, 51.6458015]]],\n",
       "     [[[3.9776665, 51.225131998999984],\n",
       "       [3.8563395, 51.211056],\n",
       "       [3.380661, 51.274299497000015],\n",
       "       [3.367216499999984, 51.368134499],\n",
       "       [4.23481750000002, 51.348254],\n",
       "       [3.9776665, 51.225131998999984]]]]}},\n",
       "  {'type': 'Feature',\n",
       "   'id': 1430,\n",
       "   'properties': {'NUTS_ID': 'NL4',\n",
       "    'STAT_LEVL_': 1,\n",
       "    'SHAPE_AREA': 0.930530413897,\n",
       "    'SHAPE_LEN': 5.92775010687},\n",
       "   'geometry': {'type': 'Polygon',\n",
       "    'coordinates': [[[5.953192, 51.747845998],\n",
       "      [6.224405, 51.364978999000016],\n",
       "      [6.072657, 51.24258749799998],\n",
       "      [6.174812, 51.1845135],\n",
       "      [5.877084998999976, 51.032101],\n",
       "      [6.0869475, 50.91313499900002],\n",
       "      [6.020998999000028, 50.75429550000001],\n",
       "      [5.892073, 50.755237498999975],\n",
       "      [5.682000499000026, 50.75744649799998],\n",
       "      [5.687622, 50.81192399899999],\n",
       "      [5.758272498999986, 50.954795],\n",
       "      [5.766149, 51.00923549999999],\n",
       "      [5.798274, 51.059853498999985],\n",
       "      [5.5662835, 51.22083649799998],\n",
       "      [5.237716499999976, 51.261600499],\n",
       "      [5.10218, 51.42900499699999],\n",
       "      [4.759926, 51.50246449799999],\n",
       "      [4.669544, 51.426383999],\n",
       "      [4.279565, 51.37601749700002],\n",
       "      [4.249017, 51.6458015],\n",
       "      [4.620420500000023, 51.71412650000002],\n",
       "      [4.676294499999983, 51.7249185],\n",
       "      [5.000534, 51.82093799900002],\n",
       "      [5.128057500000011, 51.73761],\n",
       "      [5.597879499999976, 51.828082999],\n",
       "      [5.8651585, 51.757407999],\n",
       "      [5.953192, 51.747845998]]]}},\n",
       "  {'type': 'Feature',\n",
       "   'id': 1441,\n",
       "   'properties': {'NUTS_ID': 'NO0',\n",
       "    'STAT_LEVL_': 1,\n",
       "    'SHAPE_AREA': 55.9838279017,\n",
       "    'SHAPE_LEN': 166.537394279},\n",
       "   'geometry': {'type': 'MultiPolygon',\n",
       "    'coordinates': [[[[28.548399, 70.967239501],\n",
       "       [27.855804499999977, 70.43014549999998],\n",
       "       [28.510006, 70.447929999],\n",
       "       [28.397211, 70.542122001],\n",
       "       [28.96657349899999, 70.884941],\n",
       "       [31.060808, 70.28778850100002],\n",
       "       [28.73865071, 70.15556738999999],\n",
       "       [28.575159, 70.11865250099999],\n",
       "       [29.767906536, 69.823490934],\n",
       "       [29.459511, 69.64896400100002],\n",
       "       [30.839926, 69.77580800099997],\n",
       "       [30.954538500000012, 69.632432],\n",
       "       [30.085324500000013, 69.65810450100003],\n",
       "       [30.1884235, 69.56845750000002],\n",
       "       [28.92968, 69.051905],\n",
       "       [28.8057925, 69.111147],\n",
       "       [29.336974, 69.47831050000002],\n",
       "       [27.984522, 70.013965499],\n",
       "       [25.950607, 69.6965505],\n",
       "       [25.702101, 69.25366150100001],\n",
       "       [25.777502500000026, 69.018279001],\n",
       "       [24.903199500000028, 68.554591],\n",
       "       [22.374526, 68.716667],\n",
       "       [21.9836115, 69.07289350000002],\n",
       "       [21.2788215, 69.31188399899997],\n",
       "       [20.548636499999986, 69.05996850100001],\n",
       "       [20.0600475, 69.04575900100002],\n",
       "       [20.3358725, 68.80231250000003],\n",
       "       [19.921397, 68.356013001],\n",
       "       [18.125925, 68.53651599900002],\n",
       "       [18.151354, 68.19879],\n",
       "       [17.89976150000001, 67.969372],\n",
       "       [17.281524, 68.118815],\n",
       "       [16.15800150000001, 67.51915900099999],\n",
       "       [16.387759, 67.04546249999999],\n",
       "       [15.3772265, 66.48430399699998],\n",
       "       [15.453994500000022, 66.345233501],\n",
       "       [14.516289, 66.132579],\n",
       "       [14.6254765, 65.81180849999998],\n",
       "       [14.325985, 65.118916001],\n",
       "       [13.654257500000028, 64.58034049899999],\n",
       "       [14.113869500000021, 64.462484501],\n",
       "       [14.157109, 64.195054497],\n",
       "       [13.967524500000025, 64.00797],\n",
       "       [12.683565, 63.9742235],\n",
       "       [12.149767, 63.593946999000025],\n",
       "       [11.974581, 63.269228],\n",
       "       [12.0524555, 63.1834445],\n",
       "       [12.218231, 63.00033250000001],\n",
       "       [12.056142, 62.61191849900001],\n",
       "       [12.2546595, 62.33102449699999],\n",
       "       [12.29937, 62.267494],\n",
       "       [12.137665, 61.72381699800002],\n",
       "       [12.870847500000025, 61.35649499800002],\n",
       "       [12.670176500000025, 61.055976498],\n",
       "       [12.22399, 61.013078001],\n",
       "       [12.606881499999986, 60.51274249699998],\n",
       "       [12.499544999000022, 60.09765699799999],\n",
       "       [11.839729, 59.840767],\n",
       "       [11.926970499999982, 59.79047599900002],\n",
       "       [11.93987850000002, 59.69458099799999],\n",
       "       [11.691129, 59.58954749999998],\n",
       "       [11.8261965, 59.237849998],\n",
       "       [11.632557, 58.90830650100003],\n",
       "       [11.460827, 58.988658499],\n",
       "       [11.15222652599999, 59.068580457],\n",
       "       [11.133916596, 59.073322399],\n",
       "       [10.825053, 59.153312501000016],\n",
       "       [10.686118, 59.48940699899998],\n",
       "       [10.5818175, 59.756759500999976],\n",
       "       [10.764788, 59.8295445],\n",
       "       [10.681954881000024, 59.884828632999984],\n",
       "       [10.64198, 59.911508500000025],\n",
       "       [10.497314500000016, 59.7883385],\n",
       "       [10.54188649299999, 59.70815578000003],\n",
       "       [10.555847737000022, 59.68304020800002],\n",
       "       [10.617811, 59.571571499000015],\n",
       "       [10.421314, 59.52508150099999],\n",
       "       [10.4391965, 59.665851498999984],\n",
       "       [10.212189500000022, 59.737282],\n",
       "       [10.3198815, 59.691343501],\n",
       "       [10.374606, 59.67696749999999],\n",
       "       [10.386558499999978, 59.275020498],\n",
       "       [10.273399499999982, 59.04173650000001],\n",
       "       [9.839197001, 59.044178998],\n",
       "       [9.289463, 58.839130496],\n",
       "       [9.46771050000001, 58.829845498],\n",
       "       [9.365971, 58.771349],\n",
       "       [9.082190498999978, 58.74871449699998],\n",
       "       [9.0575915, 58.725215999],\n",
       "       [9.244501, 58.725330499999984],\n",
       "       [8.185152, 58.1429415],\n",
       "       [7.038199, 58.02142699900003],\n",
       "       [6.553461500000026, 58.117786498999976],\n",
       "       [6.89118, 58.2743605],\n",
       "       [6.438839, 58.2908195],\n",
       "       [5.491752, 58.75478],\n",
       "       [5.5742715, 59.03034250000002],\n",
       "       [5.995267500000011, 58.968890998],\n",
       "       [6.217452499999979, 59.266296497999974],\n",
       "       [5.941965499999981, 59.361309001],\n",
       "       [5.614074, 59.33062349900001],\n",
       "       [5.550886, 59.27162149999998],\n",
       "       [5.295012441999972, 59.370869887000026],\n",
       "       [5.298477, 59.145370501],\n",
       "       [5.175062500000024, 59.17837449799998],\n",
       "       [5.302875500000027, 59.481168001000015],\n",
       "       [5.534834, 59.7320785],\n",
       "       [5.506673157000023, 59.52538185899999],\n",
       "       [5.794665721, 59.65094391500003],\n",
       "       [6.381009, 59.874691],\n",
       "       [5.675114, 59.848640499],\n",
       "       [5.994348, 59.954563],\n",
       "       [6.0828945, 60.191448],\n",
       "       [6.353219500000023, 60.370498998000016],\n",
       "       [6.829082746999973, 60.471445758000016],\n",
       "       [6.716949, 60.520217996999975],\n",
       "       [6.0151285, 60.269165],\n",
       "       [5.817266, 59.983326],\n",
       "       [5.5750435, 60.153873498999985],\n",
       "       [5.756293, 60.399605],\n",
       "       [5.446748500000012, 60.15643700099997],\n",
       "       [5.2010105, 60.29023350199998],\n",
       "       [5.309116500000016, 60.388206502],\n",
       "       [5.262637499999983, 60.50583249699997],\n",
       "       [5.7384535, 60.459213499999976],\n",
       "       [5.7344455, 60.673576500000024],\n",
       "       [5.708317500000021, 60.471111501],\n",
       "       [5.339822, 60.541588],\n",
       "       [5.706546, 60.759361497999976],\n",
       "       [5.280158, 60.540760001000024],\n",
       "       [5.207727998999985, 60.621887001],\n",
       "       [5.281049, 60.632553],\n",
       "       [4.94567, 60.809383500000024],\n",
       "       [5.469385499999987, 60.659252],\n",
       "       [5.140299, 60.84025250000002],\n",
       "       [5.115073511999981, 60.96571541499998],\n",
       "       [5.026263, 61.01004050099999],\n",
       "       [5.426630526999986, 61.04311930900002],\n",
       "       [5.394584, 61.069965497],\n",
       "       [4.947169499999973, 61.25885],\n",
       "       [5.209688823000022, 61.334528406],\n",
       "       [4.977364500000022, 61.41730899800001],\n",
       "       [5.843049, 61.45913699800002],\n",
       "       [5.24131566599999, 61.583933230000014],\n",
       "       [4.994847999, 61.59115200100001],\n",
       "       [4.969778, 61.72112249700001],\n",
       "       [6.846349, 61.870303997],\n",
       "       [5.4584625, 61.93935],\n",
       "       [5.089433, 62.16728949999998],\n",
       "       [5.491458, 62.01478750000001],\n",
       "       [5.6237655, 62.06705450099997],\n",
       "       [5.405087499999979, 62.1274295],\n",
       "       [6.3250655, 62.06060050000002],\n",
       "       [5.931158, 62.21788399799999],\n",
       "       [6.328697, 62.37550749799999],\n",
       "       [6.653805499999976, 62.19379449799999],\n",
       "       [6.573409500000025, 62.54216],\n",
       "       [6.2564425, 62.529735500000015],\n",
       "       [6.334281499999975, 62.61331949800001],\n",
       "       [8.146601499999974, 62.68827050099998],\n",
       "       [6.898579, 62.909847501],\n",
       "       [7.3014915, 63.01026149699999],\n",
       "       [7.450778500000013, 62.90481949799999],\n",
       "       [8.11747, 62.921828998000024],\n",
       "       [8.107145499000012, 63.105423],\n",
       "       [8.764103, 63.18451],\n",
       "       [8.832189, 63.20198000099998],\n",
       "       [8.490692, 63.2775115],\n",
       "       [8.765663999000026, 63.34213649899999],\n",
       "       [8.650367, 63.400879],\n",
       "       [8.7551115, 63.424341],\n",
       "       [9.0929175, 63.287159],\n",
       "       [9.501772, 63.39708699800002],\n",
       "       [9.249117, 63.367828497],\n",
       "       [9.147209, 63.48814000099998],\n",
       "       [9.753410499999973, 63.645359000999974],\n",
       "       [9.714933499999972, 63.615505000999974],\n",
       "       [9.977688, 63.441615997999975],\n",
       "       [9.8231755, 63.312244501],\n",
       "       [10.85359, 63.43909349699999],\n",
       "       [10.941581, 63.564289],\n",
       "       [10.627927, 63.546741500999985],\n",
       "       [11.458975, 63.80233750000002],\n",
       "       [11.0724775, 63.858989501],\n",
       "       [11.501289499999984, 64.005218501],\n",
       "       [11.222313, 64.07421900100002],\n",
       "       [10.5912035, 63.804355499999986],\n",
       "       [11.07041750000002, 63.8419495],\n",
       "       [10.955013501, 63.7456095],\n",
       "       [10.170315, 63.52613449699999],\n",
       "       [9.8057985, 63.626873],\n",
       "       [10.130084, 63.75410449999998],\n",
       "       [9.529121499999974, 63.71239849699998],\n",
       "       [10.010268949000022, 64.04565076300003],\n",
       "       [10.63497412999999, 64.39100241699998],\n",
       "       [10.548171, 64.44136050100002],\n",
       "       [11.3407555, 64.436919998],\n",
       "       [11.225456, 64.31190500100001],\n",
       "       [11.7259625, 64.584793],\n",
       "       [11.1820715, 64.740906],\n",
       "       [11.514355244, 64.87855370800003],\n",
       "       [11.278464499999984, 64.85742949899998],\n",
       "       [11.9609795, 65.07714799799999],\n",
       "       [11.981972, 65.07081549700001],\n",
       "       [12.0461065, 65.06245],\n",
       "       [12.092824, 65.0398255],\n",
       "       [12.187348499999985, 65.00011149800002],\n",
       "       [12.182329, 64.981381],\n",
       "       [12.9642955, 65.32212049999998],\n",
       "       [12.041082500000016, 65.216194],\n",
       "       [12.292716, 65.58846299800001],\n",
       "       [12.781976499999985, 65.46252449999997],\n",
       "       [12.347975, 65.627327],\n",
       "       [12.646986, 65.81443799700003],\n",
       "       [12.666879418, 65.92070801099999],\n",
       "       [12.3801345, 65.894111],\n",
       "       [14.147304500000018, 66.330467],\n",
       "       [13.0099535, 66.191283999],\n",
       "       [13.562423500000023, 66.304679997],\n",
       "       [12.990386999, 66.348778],\n",
       "       [13.73341449999998, 66.60917650099998],\n",
       "       [13.2072895, 66.716881],\n",
       "       [14.000651, 66.79788950099999],\n",
       "       [13.492176, 66.94919650000003],\n",
       "       [14.01318550000002, 66.961944501],\n",
       "       [14.0676185, 67.161491501],\n",
       "       [14.511739499999976, 67.207649],\n",
       "       [15.08839799899999, 67.236534],\n",
       "       [15.433605, 67.10498050000001],\n",
       "       [15.481187, 67.1844635],\n",
       "       [15.162948498999981, 67.329765],\n",
       "       [14.308716, 67.263771],\n",
       "       [15.650709213000027, 67.53825820899999],\n",
       "       [15.160784499999977, 67.632698],\n",
       "       [15.855372499999987, 67.7099],\n",
       "       [14.75716, 67.80435949999998],\n",
       "       [16.001165500000013, 67.99621600299997],\n",
       "       [15.526616, 68.065216002],\n",
       "       [15.395943499999987, 68.036521999],\n",
       "       [15.440778500000022, 68.024948],\n",
       "       [15.4147835, 67.99591049999998],\n",
       "       [15.275926500000025, 68.050613],\n",
       "       [16.062347499, 68.255936001],\n",
       "       [16.819980499999986, 68.155219999],\n",
       "       [16.27568050000002, 68.37313849999998],\n",
       "       [17.900738, 68.417808],\n",
       "       [16.075683500000025, 68.414055001],\n",
       "       [16.5795895, 68.541367],\n",
       "       [17.685274, 68.67411049999998],\n",
       "       [17.251898, 68.75971199899999],\n",
       "       [17.805559, 68.74999250000002],\n",
       "       [17.447077, 68.90790550100002],\n",
       "       [18.166633499, 69.1502],\n",
       "       [17.96954549899999, 69.228561501],\n",
       "       [18.238685499999974, 69.482642999],\n",
       "       [19.54748749999999, 69.21487449900002],\n",
       "       [18.934316500000023, 69.59994500099998],\n",
       "       [19.2743185, 69.77920549999999],\n",
       "       [20.394979499999977, 69.89038799899998],\n",
       "       [19.93026550000002, 69.26666250099998],\n",
       "       [20.459503, 69.76207749899999],\n",
       "       [21.325062, 69.90923299899998],\n",
       "       [21.241577, 70.00890349999997],\n",
       "       [22.140845, 69.74519350100002],\n",
       "       [21.727436, 70.05191050000002],\n",
       "       [21.19089, 70.22124050000002],\n",
       "       [21.424858, 70.22282400099999],\n",
       "       [21.47847727599998, 70.200361853],\n",
       "       [21.493496359, 70.19927205599998],\n",
       "       [21.56427, 70.32338700100001],\n",
       "       [21.8320885, 70.16875450100002],\n",
       "       [21.78227049999998, 70.25872049999998],\n",
       "       [21.983658, 70.32945249900001],\n",
       "       [22.96682, 70.18936900099999],\n",
       "       [23.00179650000001, 69.91750349900002],\n",
       "       [23.407093, 69.96468349999998],\n",
       "       [23.52833, 70.015915],\n",
       "       [23.132837, 70.085571501],\n",
       "       [23.179638, 70.216247501],\n",
       "       [23.246681500000022, 70.248192],\n",
       "       [24.090675499999975, 70.541496499],\n",
       "       [24.298256, 70.68613450100003],\n",
       "       [24.236952, 70.8358915],\n",
       "       [24.553296499999988, 70.97564699899999],\n",
       "       [25.911754499999972, 70.87564850000001],\n",
       "       [25.08653049999998, 70.51461049900001],\n",
       "       [24.912155, 70.096092],\n",
       "       [25.153381500000023, 70.06489549999998],\n",
       "       [26.572368499999982, 70.95436850099998],\n",
       "       [26.733936500000027, 70.82489799899997],\n",
       "       [26.475652500000024, 70.354866],\n",
       "       [27.032476499999973, 70.48385599900001],\n",
       "       [26.951067, 70.546791],\n",
       "       [27.7029875, 70.80062100100002],\n",
       "       [27.1011425, 70.93241899899999],\n",
       "       [27.66123, 71.126999001],\n",
       "       [28.548399, 70.967239501]]],\n",
       "     [[[16.005573, 68.7555385],\n",
       "       [15.7227115, 68.536804001],\n",
       "       [16.076727, 68.74844349900002],\n",
       "       [16.302828, 68.715187001],\n",
       "       [16.123302500000023, 68.844161999],\n",
       "       [16.409397, 68.85786449900002],\n",
       "       [16.45695199900001, 68.55735799899998],\n",
       "       [14.98062149899999, 68.27394850000002],\n",
       "       [15.716285, 68.693619001],\n",
       "       [15.464602500000012, 68.753418001],\n",
       "       [15.619679500000018, 68.95270549999998],\n",
       "       [15.959016500000018, 68.88904549900002],\n",
       "       [15.963360495000018, 68.876588513],\n",
       "       [15.988082191999979, 68.80569573499997],\n",
       "       [16.005573, 68.7555385]]],\n",
       "     [[[23.4573385, 70.76512150000002],\n",
       "       [22.798172, 70.51382500099999],\n",
       "       [21.92859249999998, 70.64286049999998],\n",
       "       [23.4573385, 70.76512150000002]]],\n",
       "     [[[18.08016950000001, 69.42690300100003],\n",
       "       [16.782012999000017, 69.0575945],\n",
       "       [17.658531, 69.48767099899999],\n",
       "       [18.08016950000001, 69.42690300100003]]],\n",
       "     [[[15.41872, 68.7030565],\n",
       "       [14.368575998999972, 68.684494],\n",
       "       [15.317963500000019, 68.917221],\n",
       "       [15.253855, 68.75589000100001],\n",
       "       [15.41872, 68.7030565]]],\n",
       "     [[[15.16504550000002, 68.44262699900003],\n",
       "       [14.206444499999975, 68.17415599899999],\n",
       "       [14.4163855, 68.393623499],\n",
       "       [15.16504550000002, 68.44262699900003]]],\n",
       "     [[[5.396219498999983, 59.711742501],\n",
       "       [5.183555500000011, 59.57461550099998],\n",
       "       [5.0594595, 59.854045998],\n",
       "       [5.179249, 59.877666498999986],\n",
       "       [5.396219498999983, 59.711742501]]]]}},\n",
       "  {'type': 'Feature',\n",
       "   'id': 1469,\n",
       "   'properties': {'NUTS_ID': 'PL1',\n",
       "    'STAT_LEVL_': 1,\n",
       "    'SHAPE_AREA': 7.04343313819,\n",
       "    'SHAPE_LEN': 13.7039180622},\n",
       "   'geometry': {'type': 'Polygon',\n",
       "    'coordinates': [[[19.74706, 50.86597000099999],\n",
       "      [19.243142499999976, 51.036844497],\n",
       "      [18.672954499000014, 51.056902501000025],\n",
       "      [18.1636815, 51.172516997],\n",
       "      [18.0745215, 51.349915001],\n",
       "      [18.47196550000001, 51.851005499],\n",
       "      [18.685665500000027, 51.82100299799998],\n",
       "      [18.827809, 52.06418800099999],\n",
       "      [19.04712, 52.33280399900002],\n",
       "      [19.289184499999976, 52.39271249799998],\n",
       "      [19.522742999, 52.74920049799999],\n",
       "      [19.444664, 52.93904250000003],\n",
       "      [19.684806, 52.963038998],\n",
       "      [19.7615955, 53.15179649800001],\n",
       "      [20.411137, 53.214165],\n",
       "      [20.675953999, 53.269529498],\n",
       "      [21.55169, 53.478128001000016],\n",
       "      [21.598199912999974, 53.48018197099998],\n",
       "      [21.735427500000014, 53.312727999],\n",
       "      [21.694427500000018, 53.13809399799999],\n",
       "      [22.453771500000016, 52.78823849999998],\n",
       "      [22.408589, 52.60968999900001],\n",
       "      [22.58041350000002, 52.393157997],\n",
       "      [23.128409, 52.28784150000001],\n",
       "      [22.622901499000022, 52.018744497],\n",
       "      [21.889174500000024, 51.973184],\n",
       "      [21.879981, 51.69363149899999],\n",
       "      [21.6155425, 51.617562],\n",
       "      [21.87317600099999, 51.474913499000024],\n",
       "      [21.802998, 51.072078998999984],\n",
       "      [21.630164499999978, 51.06338899799999],\n",
       "      [20.432815, 51.33940499900001],\n",
       "      [19.993847, 51.18395400100002],\n",
       "      [20.0394705, 50.990206496999974],\n",
       "      [19.74706, 50.86597000099999]]]}},\n",
       "  {'type': 'Feature',\n",
       "   'id': 1485,\n",
       "   'properties': {'NUTS_ID': 'PL2',\n",
       "    'STAT_LEVL_': 1,\n",
       "    'SHAPE_AREA': 3.39450004581,\n",
       "    'SHAPE_LEN': 9.21836485534},\n",
       "   'geometry': {'type': 'Polygon',\n",
       "    'coordinates': [[[19.74706, 50.86597000099999],\n",
       "      [19.71294949999998, 50.72915600099998],\n",
       "      [19.949966500000016, 50.50478250100002],\n",
       "      [20.681539, 50.20587549700002],\n",
       "      [21.208831499999974, 50.354897499],\n",
       "      [21.150439, 49.976484500000026],\n",
       "      [21.29714949999999, 49.842864],\n",
       "      [21.241772, 49.776104499999974],\n",
       "      [21.39771250000001, 49.43379399899999],\n",
       "      [20.9237225, 49.29623449899998],\n",
       "      [20.6149395, 49.417832998999984],\n",
       "      [19.883929500000022, 49.204176999000026],\n",
       "      [19.467386499999975, 49.613767],\n",
       "      [19.153403, 49.40377700099998],\n",
       "      [18.851551, 49.51718900100002],\n",
       "      [18.575724, 49.910423],\n",
       "      [18.035060999, 50.06577199899999],\n",
       "      [18.059780499999988, 50.17465249999998],\n",
       "      [18.425866499999984, 50.24896549800002],\n",
       "      [18.607473500000026, 50.550011],\n",
       "      [18.61587750000001, 50.85358750099999],\n",
       "      [18.672954499000014, 51.056902501000025],\n",
       "      [19.243142499999976, 51.036844497],\n",
       "      [19.74706, 50.86597000099999]]]}},\n",
       "  {'type': 'Feature',\n",
       "   'id': 1502,\n",
       "   'properties': {'NUTS_ID': 'PL3',\n",
       "    'STAT_LEVL_': 1,\n",
       "    'SHAPE_AREA': 9.88880917622,\n",
       "    'SHAPE_LEN': 21.4364826057},\n",
       "   'geometry': {'type': 'Polygon',\n",
       "    'coordinates': [[[23.51465, 53.95655999799999],\n",
       "      [23.588702, 53.69592849700001],\n",
       "      [23.918259, 53.157621999000014],\n",
       "      [23.916239, 52.904812],\n",
       "      [23.93864, 52.712916001],\n",
       "      [23.178338, 52.28314099800002],\n",
       "      [23.653733, 52.072494999000014],\n",
       "      [23.529021, 51.731750998999985],\n",
       "      [23.617665999, 51.507613999],\n",
       "      [23.709221, 51.27764849800002],\n",
       "      [24.1457825, 50.869376999],\n",
       "      [24.0345575, 50.44484350099998],\n",
       "      [23.547642, 50.251602],\n",
       "      [22.6861495, 49.57316549699999],\n",
       "      [22.894087, 49.016692998999986],\n",
       "      [22.56684, 49.08837749899999],\n",
       "      [21.39771250000001, 49.43379399899999],\n",
       "      [21.241772, 49.776104499999974],\n",
       "      [21.29714949999999, 49.842864],\n",
       "      [21.150439, 49.976484500000026],\n",
       "      [21.208831499999974, 50.354897499],\n",
       "      [20.681539, 50.20587549700002],\n",
       "      [19.949966500000016, 50.50478250100002],\n",
       "      [19.71294949999998, 50.72915600099998],\n",
       "      [19.74706, 50.86597000099999],\n",
       "      [20.0394705, 50.990206496999974],\n",
       "      [19.993847, 51.18395400100002],\n",
       "      [20.432815, 51.33940499900001],\n",
       "      [21.630164499999978, 51.06338899799999],\n",
       "      [21.802998, 51.072078998999984],\n",
       "      [21.87317600099999, 51.474913499000024],\n",
       "      [21.6155425, 51.617562],\n",
       "      [21.879981, 51.69363149899999],\n",
       "      [21.889174500000024, 51.973184],\n",
       "      [22.622901499000022, 52.018744497],\n",
       "      [23.128409, 52.28784150000001],\n",
       "      [22.58041350000002, 52.393157997],\n",
       "      [22.408589, 52.60968999900001],\n",
       "      [22.453771500000016, 52.78823849999998],\n",
       "      [21.694427500000018, 53.13809399799999],\n",
       "      [21.735427500000014, 53.312727999],\n",
       "      [21.598199912999974, 53.48018197099998],\n",
       "      [22.135728, 53.544539998],\n",
       "      [22.703502500000013, 53.767354496999985],\n",
       "      [22.782806, 53.91548949899999],\n",
       "      [22.476556500000015, 54.20130550099998],\n",
       "      [22.792095500000016, 54.36335899699998],\n",
       "      [23.32149850000002, 54.25332599799998],\n",
       "      [23.51465, 53.95655999799999]]]}},\n",
       "  {'type': 'Feature',\n",
       "   'id': 1520,\n",
       "   'properties': {'NUTS_ID': 'PL4',\n",
       "    'STAT_LEVL_': 1,\n",
       "    'SHAPE_AREA': 8.96359473988,\n",
       "    'SHAPE_LEN': 15.9574634674},\n",
       "   'geometry': {'type': 'Polygon',\n",
       "    'coordinates': [[[19.04712, 52.33280399900002],\n",
       "      [18.827809, 52.06418800099999],\n",
       "      [18.685665500000027, 51.82100299799998],\n",
       "      [18.47196550000001, 51.851005499],\n",
       "      [18.0745215, 51.349915001],\n",
       "      [18.1636815, 51.172516997],\n",
       "      [17.939456, 51.10886499899999],\n",
       "      [17.795269500000018, 51.19414600099998],\n",
       "      [17.556245, 51.58430149899999],\n",
       "      [17.257433, 51.64284300100002],\n",
       "      [16.828372, 51.57218799899999],\n",
       "      [16.416191, 51.784865],\n",
       "      [15.979245, 51.802309001000026],\n",
       "      [15.714032499999973, 51.51739699699999],\n",
       "      [14.974183, 51.36394999700002],\n",
       "      [14.729862, 51.581776999],\n",
       "      [14.716716, 52.001188001],\n",
       "      [14.755227, 52.070024998],\n",
       "      [14.600891499999989, 52.272051998999984],\n",
       "      [14.534361999, 52.395008],\n",
       "      [14.565063, 52.624497],\n",
       "      [14.436438, 52.679900498999984],\n",
       "      [14.156692, 52.89559099899998],\n",
       "      [14.143658, 52.9613685],\n",
       "      [14.412157, 53.329635998000015],\n",
       "      [14.267542, 53.69780649699999],\n",
       "      [14.619581499999981, 53.64978399900002],\n",
       "      [14.573513, 53.849196999000014],\n",
       "      [14.2130775, 53.86647949899998],\n",
       "      [14.226302, 53.92865299800002],\n",
       "      [15.388074500000016, 54.158907],\n",
       "      [16.699085, 54.569247001],\n",
       "      [16.858620499999972, 54.38257649799999],\n",
       "      [16.792764499999976, 53.98555049999999],\n",
       "      [16.982053499000017, 53.904909499999974],\n",
       "      [16.892248, 53.655868999],\n",
       "      [17.390653, 53.490964],\n",
       "      [17.438793499999974, 53.26751450099999],\n",
       "      [17.3015565, 52.994803],\n",
       "      [17.509582500000022, 52.917767997],\n",
       "      [17.458523, 52.73894800099998],\n",
       "      [18.377150500000027, 52.53746350099999],\n",
       "      [19.04712, 52.33280399900002]]]}},\n",
       "  {'type': 'Feature',\n",
       "   'id': 1542,\n",
       "   'properties': {'NUTS_ID': 'SE1',\n",
       "    'STAT_LEVL_': 1,\n",
       "    'SHAPE_AREA': 7.6648856094,\n",
       "    'SHAPE_LEN': 18.1355650578},\n",
       "   'geometry': {'type': 'Polygon',\n",
       "    'coordinates': [[[17.370218, 60.654461500000025],\n",
       "      [17.675121999, 60.50564799699998],\n",
       "      [17.9892855, 60.6041095],\n",
       "      [18.617636, 60.23238250000003],\n",
       "      [18.310146499999973, 60.31662549999999],\n",
       "      [18.51326549999999, 60.14808899799999],\n",
       "      [18.838097, 60.110722501],\n",
       "      [19.0854185, 59.75826449700003],\n",
       "      [18.058382209, 59.37904236600002],\n",
       "      [18.138552267000023, 59.33231602400002],\n",
       "      [18.70854650000001, 59.29002999800002],\n",
       "      [17.991549570000018, 58.96697999000003],\n",
       "      [17.868635241999982, 58.847063186000014],\n",
       "      [17.850585, 58.90182599899998],\n",
       "      [17.827534277999973, 58.88462476199999],\n",
       "      [17.605396633, 58.94228633099999],\n",
       "      [17.592441408000013, 58.945649194],\n",
       "      [17.572396, 58.95085249800002],\n",
       "      [16.75066350100002, 58.626932001],\n",
       "      [16.218891636000023, 58.625096370999984],\n",
       "      [16.948542, 58.4797815],\n",
       "      [16.414471, 58.47595449900001],\n",
       "      [16.927406, 58.335789498],\n",
       "      [16.627013499999975, 58.356352500000014],\n",
       "      [16.854670499, 58.172553497000024],\n",
       "      [16.666683499999976, 57.99607649799998],\n",
       "      [16.239588, 58.13493349999999],\n",
       "      [15.94231399900002, 57.803287497999975],\n",
       "      [15.421051, 57.704879498000025],\n",
       "      [15.1283585, 57.716312501],\n",
       "      [14.982714, 58.1491125],\n",
       "      [14.41671, 58.187240497],\n",
       "      [14.778936499, 58.64599250100002],\n",
       "      [14.295995, 59.01277950100001],\n",
       "      [14.437155500000017, 60.02616099699998],\n",
       "      [15.42209250000002, 59.854747499999974],\n",
       "      [15.801567, 60.179103499],\n",
       "      [16.703831, 60.195720498000014],\n",
       "      [17.192478, 60.300712499999975],\n",
       "      [17.370218, 60.654461500000025]]]}},\n",
       "  {'type': 'Feature',\n",
       "   'id': 1551,\n",
       "   'properties': {'NUTS_ID': 'SE2',\n",
       "    'STAT_LEVL_': 1,\n",
       "    'SHAPE_AREA': 12.5635036565,\n",
       "    'SHAPE_LEN': 26.444577975},\n",
       "   'geometry': {'type': 'MultiPolygon',\n",
       "    'coordinates': [[[[12.228614499, 59.25669849899998],\n",
       "       [13.254575499999987, 58.72561999800001],\n",
       "       [13.589992, 59.059444499999984],\n",
       "       [14.295995, 59.01277950100001],\n",
       "       [14.778936499, 58.64599250100002],\n",
       "       [14.41671, 58.187240497],\n",
       "       [14.982714, 58.1491125],\n",
       "       [15.1283585, 57.716312501],\n",
       "       [15.421051, 57.704879498000025],\n",
       "       [15.94231399900002, 57.803287497999975],\n",
       "       [16.239588, 58.13493349999999],\n",
       "       [16.666683499999976, 57.99607649799998],\n",
       "       [16.690222393, 57.99604851399999],\n",
       "       [16.73475643099999, 57.995995569],\n",
       "       [16.813461, 57.995902],\n",
       "       [16.727634500000022, 57.44355299799997],\n",
       "       [16.0498715, 56.32188850099999],\n",
       "       [15.85154799899999, 56.085102498000026],\n",
       "       [15.592694, 56.211868998],\n",
       "       [15.348007, 56.124922501000015],\n",
       "       [14.687203, 56.167117],\n",
       "       [14.781868499999973, 56.034379999],\n",
       "       [14.721438499999977, 55.993557001],\n",
       "       [14.5463995, 56.06131749999997],\n",
       "       [14.220109499999978, 55.83045750000002],\n",
       "       [14.360844, 55.55425949800002],\n",
       "       [14.194909, 55.38403500099997],\n",
       "       [12.80983950000001, 55.37825650000002],\n",
       "       [13.063593, 55.670109497],\n",
       "       [12.445960500000012, 56.302680001],\n",
       "       [12.783795, 56.219567998],\n",
       "       [12.619629499999974, 56.42242299899999],\n",
       "       [12.899313, 56.4490045],\n",
       "       [12.936727500000018, 56.587077],\n",
       "       [11.913888, 57.40103749799999],\n",
       "       [11.922900500000026, 57.562223],\n",
       "       [11.990241500000025, 57.721453500999985],\n",
       "       [11.6737205, 57.84875499899999],\n",
       "       [11.84467728200002, 58.16014767299998],\n",
       "       [11.406957, 58.143874],\n",
       "       [11.702689, 58.433648],\n",
       "       [11.220071499000028, 58.40892949800002],\n",
       "       [11.3094795, 58.479590496000014],\n",
       "       [11.256905, 58.67768800099998],\n",
       "       [11.174135001000025, 58.71829249799998],\n",
       "       [11.23903150000001, 58.838971500000014],\n",
       "       [11.113543499, 58.99826349799997],\n",
       "       [11.460827, 58.988658499],\n",
       "       [11.632557, 58.90830650100003],\n",
       "       [11.8261965, 59.237849998],\n",
       "       [12.228614499, 59.25669849899998]]],\n",
       "     [[[18.711624, 57.24468649800002],\n",
       "       [18.340005500000018, 57.07232799899998],\n",
       "       [18.091156, 57.259374001000026],\n",
       "       [18.106193500000018, 57.53464150100001],\n",
       "       [18.777192500000012, 57.86741700099998],\n",
       "       [19.097435, 57.819173001000024],\n",
       "       [18.810876, 57.70597550100001],\n",
       "       [18.76146749999998, 57.469703501000026],\n",
       "       [18.917816500000015, 57.403347499],\n",
       "       [18.711624, 57.24468649800002]]],\n",
       "     [[[17.07371999899999, 57.179024001000016],\n",
       "       [16.400671, 56.19580699699998],\n",
       "       [16.413673, 56.58997449999998],\n",
       "       [16.959014, 57.29136349999999],\n",
       "       [17.07680430900001, 57.355879516000016],\n",
       "       [17.07371999899999, 57.179024001000016]]]]}},\n",
       "  {'type': 'Feature',\n",
       "   'id': 1563,\n",
       "   'properties': {'NUTS_ID': 'SK0',\n",
       "    'STAT_LEVL_': 1,\n",
       "    'SHAPE_AREA': 5.95783910452,\n",
       "    'SHAPE_LEN': 13.4472835294},\n",
       "   'geometry': {'type': 'Polygon',\n",
       "    'coordinates': [[[21.39771250000001, 49.43379399899999],\n",
       "      [22.56684, 49.08837749899999],\n",
       "      [22.382817499999987, 48.86226399899999],\n",
       "      [22.155306, 48.403396499],\n",
       "      [22.121077500000013, 48.378311499],\n",
       "      [21.721957, 48.351050499],\n",
       "      [21.440056, 48.58523299900003],\n",
       "      [20.463937, 48.463967],\n",
       "      [20.051879, 48.16770399699999],\n",
       "      [19.0143225, 48.077736499000025],\n",
       "      [18.928392, 48.056832499],\n",
       "      [18.7548155, 47.975082499],\n",
       "      [18.848478, 47.81822800100002],\n",
       "      [17.893923, 47.739456999000026],\n",
       "      [17.70543650000002, 47.75899249899999],\n",
       "      [17.247427500000015, 48.01200899899999],\n",
       "      [17.1607975, 48.006656501],\n",
       "      [17.066741, 48.11868149899999],\n",
       "      [16.976203, 48.172244498],\n",
       "      [16.851106, 48.43863500100002],\n",
       "      [16.949778, 48.535791999000025],\n",
       "      [16.940278, 48.61724549899998],\n",
       "      [17.2016625, 48.878028997],\n",
       "      [17.3967255, 48.81334999799998],\n",
       "      [17.64693, 48.85426599800002],\n",
       "      [18.322436, 49.315059],\n",
       "      [18.4035955, 49.39674549900002],\n",
       "      [18.851551, 49.51718900100002],\n",
       "      [19.153403, 49.40377700099998],\n",
       "      [19.467386499999975, 49.613767],\n",
       "      [19.883929500000022, 49.204176999000026],\n",
       "      [20.6149395, 49.417832998999984],\n",
       "      [20.9237225, 49.29623449899998],\n",
       "      [21.39771250000001, 49.43379399899999]]]}},\n",
       "  {'type': 'Feature',\n",
       "   'id': 1577,\n",
       "   'properties': {'NUTS_ID': 'TR1',\n",
       "    'STAT_LEVL_': 1,\n",
       "    'SHAPE_AREA': 0.635730770594,\n",
       "    'SHAPE_LEN': 4.87024398447},\n",
       "   'geometry': {'type': 'MultiPolygon',\n",
       "    'coordinates': [[[[29.0726335, 41.12454049899998],\n",
       "       [28.824152, 40.954229499],\n",
       "       [27.99110250000001, 41.018344997999975],\n",
       "       [28.181659498999977, 41.564058999],\n",
       "       [29.1158845, 41.228910498],\n",
       "       [29.037527, 41.15583999900002],\n",
       "       [29.0726335, 41.12454049899998]]],\n",
       "     [[[29.849114, 41.064824498],\n",
       "       [29.342517499999985, 40.807657499000015],\n",
       "       [29.031469500000014, 40.967085],\n",
       "       [29.08727049999999, 41.178521999],\n",
       "       [29.265264, 41.230552],\n",
       "       [29.865624500000024, 41.143447498],\n",
       "       [29.849114, 41.064824498]]]]}},\n",
       "  {'type': 'Feature',\n",
       "   'id': 1580,\n",
       "   'properties': {'NUTS_ID': 'TR2',\n",
       "    'STAT_LEVL_': 1,\n",
       "    'SHAPE_AREA': 4.579164777,\n",
       "    'SHAPE_LEN': 16.8351962426},\n",
       "   'geometry': {'type': 'MultiPolygon',\n",
       "    'coordinates': [[[[28.164779, 40.395613],\n",
       "       [28.06755049999998, 40.253133999],\n",
       "       [28.2650375, 39.870233998],\n",
       "       [28.968574, 39.60067749900003],\n",
       "       [28.885427, 39.372048998000025],\n",
       "       [28.597988, 39.280636],\n",
       "       [28.652546500000028, 39.14736849899998],\n",
       "       [28.15897, 39.05698399900001],\n",
       "       [27.800632, 39.313108],\n",
       "       [27.381316, 39.35274650100001],\n",
       "       [26.763921, 39.175209999],\n",
       "       [26.671144500000025, 39.279348497],\n",
       "       [26.950548500000025, 39.55996849899998],\n",
       "       [26.618685, 39.547879498999976],\n",
       "       [26.062643, 39.47949799899999],\n",
       "       [26.179243, 39.99143399799999],\n",
       "       [26.7568455, 40.40379899800001],\n",
       "       [27.31992150000002, 40.433412498],\n",
       "       [27.5062805, 40.30467799899998],\n",
       "       [27.879064500000027, 40.372956998],\n",
       "       [27.753523, 40.528421498],\n",
       "       [28.016809500000022, 40.447443],\n",
       "       [28.164779, 40.395613]]],\n",
       "     [[[27.059650499999975, 42.08833699799999],\n",
       "       [27.559395, 41.90478149699999],\n",
       "       [28.03551249999998, 41.983079498999984],\n",
       "       [28.152973, 41.57896249700002],\n",
       "       [28.181659498999977, 41.564058999],\n",
       "       [27.99110250000001, 41.018344997999975],\n",
       "       [27.5128535, 40.974729497],\n",
       "       [26.96865150000002, 40.553368998999986],\n",
       "       [26.165872499999978, 40.052561],\n",
       "       [26.218675500000018, 40.319448497],\n",
       "       [26.83819749999998, 40.58582499900001],\n",
       "       [26.734886500000016, 40.64293299799999],\n",
       "       [26.151155500000016, 40.5893155],\n",
       "       [26.032758, 40.730256999],\n",
       "       [26.291015500000015, 40.93188349899998],\n",
       "       [26.321652, 41.250406499],\n",
       "       [26.628431499999976, 41.345533499],\n",
       "       [26.6001205, 41.60119899799997],\n",
       "       [26.357879, 41.71110449899999],\n",
       "       [26.561544500000025, 41.92627349899999],\n",
       "       [26.9492285, 42.00021349899998],\n",
       "       [27.059650499999975, 42.08833699799999]]]]}},\n",
       "  {'type': 'Feature',\n",
       "   'id': 1588,\n",
       "   'properties': {'NUTS_ID': 'TR3',\n",
       "    'STAT_LEVL_': 1,\n",
       "    'SHAPE_AREA': 9.12009428475,\n",
       "    'SHAPE_LEN': 21.6883571686},\n",
       "   'geometry': {'type': 'Polygon',\n",
       "    'coordinates': [[[31.6197325, 39.10305549899999],\n",
       "      [31.621331, 38.61994749799999],\n",
       "      [31.233349499999974, 38.409972998],\n",
       "      [30.986741, 38.466414499],\n",
       "      [30.039979500000015, 37.752413999],\n",
       "      [29.852119, 37.75228549899998],\n",
       "      [29.500381, 37.618871997999975],\n",
       "      [29.60653050000002, 37.395360998],\n",
       "      [29.341447, 37.006848998],\n",
       "      [29.71326449899999, 36.956309498999985],\n",
       "      [29.637207, 36.669686001],\n",
       "      [29.2605615, 36.30439899800001],\n",
       "      [29.102026, 36.38672049799999],\n",
       "      [29.103811, 36.67034349800002],\n",
       "      [28.928788999, 36.754858001],\n",
       "      [28.851038, 36.662084499],\n",
       "      [28.27040649999998, 36.85247999799998],\n",
       "      [27.979345500000022, 36.553571498],\n",
       "      [28.131860500000016, 36.793966501],\n",
       "      [27.374422, 36.685484],\n",
       "      [28.032835, 36.787759999],\n",
       "      [28.330560499, 37.033395498],\n",
       "      [27.565542, 36.977285499],\n",
       "      [27.4248715, 37.03574199799999],\n",
       "      [27.264269, 36.964120998],\n",
       "      [27.32292, 37.15848349800001],\n",
       "      [27.47090350000002, 37.08077799900002],\n",
       "      [27.611025, 37.257513],\n",
       "      [27.404363, 37.368095],\n",
       "      [27.424582461, 37.407003472999975],\n",
       "      [27.419004802000018, 37.41190175600002],\n",
       "      [27.202436499999976, 37.35082449999999],\n",
       "      [27.21665, 37.59111199900002],\n",
       "      [27.003069, 37.65979599899998],\n",
       "      [27.234331, 37.72418399899999],\n",
       "      [27.264569, 37.87504849800001],\n",
       "      [26.757936500000028, 38.22147949999999],\n",
       "      [26.5912, 38.10275049799998],\n",
       "      [26.281446500000015, 38.26644349899999],\n",
       "      [26.344708121999986, 38.485118011],\n",
       "      [26.348637239000027, 38.49869967],\n",
       "      [26.397398, 38.66724949899998],\n",
       "      [26.6252955, 38.52710550099999],\n",
       "      [26.674020499999983, 38.311987],\n",
       "      [27.167742, 38.44041999900003],\n",
       "      [26.73378550000001, 38.65347099899998],\n",
       "      [27.06627450000002, 38.87722599799997],\n",
       "      [26.763921, 39.175209999],\n",
       "      [27.381316, 39.35274650100001],\n",
       "      [27.800632, 39.313108],\n",
       "      [28.15897, 39.05698399900001],\n",
       "      [28.652546500000028, 39.14736849899998],\n",
       "      [28.597988, 39.280636],\n",
       "      [28.885427, 39.372048998000025],\n",
       "      [28.968574, 39.60067749900003],\n",
       "      [29.1940935, 39.600573998000016],\n",
       "      [29.396933, 39.90101249999998],\n",
       "      [29.74218350000001, 39.871334],\n",
       "      [29.760535, 39.71012349799997],\n",
       "      [30.0601345, 39.658641],\n",
       "      [30.355477, 39.49900499900002],\n",
       "      [30.429491499999983, 39.21761249899998],\n",
       "      [30.741455499999972, 39.126772999000025],\n",
       "      [31.192543, 39.27911049800002],\n",
       "      [31.6197325, 39.10305549899999]]]}},\n",
       "  {'type': 'Feature',\n",
       "   'id': 1600,\n",
       "   'properties': {'NUTS_ID': 'TR4',\n",
       "    'STAT_LEVL_': 1,\n",
       "    'SHAPE_AREA': 5.14587501387,\n",
       "    'SHAPE_LEN': 15.4662318942},\n",
       "   'geometry': {'type': 'Polygon',\n",
       "    'coordinates': [[[31.2956565, 41.11632],\n",
       "      [31.75363, 41.005629999],\n",
       "      [32.134024, 41.030704],\n",
       "      [32.560043, 40.807477499000015],\n",
       "      [32.554816, 40.691943998],\n",
       "      [31.911622, 40.328740498],\n",
       "      [31.128547500000025, 40.36527999899999],\n",
       "      [30.82533, 40.12578449900002],\n",
       "      [31.676844, 40.035240500999976],\n",
       "      [32.069824, 39.27607099800002],\n",
       "      [31.8153175, 39.128693499],\n",
       "      [31.6197325, 39.10305549899999],\n",
       "      [31.192543, 39.27911049800002],\n",
       "      [30.741455499999972, 39.126772999000025],\n",
       "      [30.429491499999983, 39.21761249899998],\n",
       "      [30.355477, 39.49900499900002],\n",
       "      [30.0601345, 39.658641],\n",
       "      [29.760535, 39.71012349799997],\n",
       "      [29.74218350000001, 39.871334],\n",
       "      [29.396933, 39.90101249999998],\n",
       "      [29.1940935, 39.600573998000016],\n",
       "      [28.968574, 39.60067749900003],\n",
       "      [28.2650375, 39.870233998],\n",
       "      [28.06755049999998, 40.253133999],\n",
       "      [28.164779, 40.395613],\n",
       "      [29.154478, 40.425374998999985],\n",
       "      [28.991232500000024, 40.46627349800002],\n",
       "      [28.780161, 40.53619199799999],\n",
       "      [29.546993, 40.695436],\n",
       "      [29.9421865, 40.750489999000024],\n",
       "      [29.342517499999985, 40.807657499000015],\n",
       "      [29.849114, 41.064824498],\n",
       "      [29.865624500000024, 41.143447498],\n",
       "      [30.354686500000014, 41.184194499],\n",
       "      [30.9820555, 41.072602501],\n",
       "      [31.2956565, 41.11632]]]}},\n",
       "  {'type': 'Feature',\n",
       "   'id': 1611,\n",
       "   'properties': {'NUTS_ID': 'TR5',\n",
       "    'STAT_LEVL_': 1,\n",
       "    'SHAPE_AREA': 7.7779817104,\n",
       "    'SHAPE_LEN': 16.8500214368},\n",
       "   'geometry': {'type': 'Polygon',\n",
       "    'coordinates': [[[33.695422, 40.33224149900002],\n",
       "      [33.24737249999998, 39.64108699799999],\n",
       "      [33.441716, 39.35144900099999],\n",
       "      [33.886019, 39.043412499],\n",
       "      [33.722786, 38.94294799800002],\n",
       "      [33.7054745, 38.68082249999998],\n",
       "      [33.464405, 38.63659149900002],\n",
       "      [33.2033695, 38.27849400100001],\n",
       "      [33.3944535, 37.97126099799999],\n",
       "      [34.03357349999999, 38.00481099799998],\n",
       "      [34.4004265, 37.75167499899999],\n",
       "      [34.3350345, 37.47940749700001],\n",
       "      [34.42891450000002, 37.31638499899998],\n",
       "      [33.997476, 37.09766399799997],\n",
       "      [32.95091050000002, 36.831344999],\n",
       "      [33.238955499999975, 36.520920999],\n",
       "      [32.573227, 36.357624],\n",
       "      [32.45723149999998, 36.738470999000015],\n",
       "      [31.740267500000016, 37.35582599899999],\n",
       "      [31.4533915, 37.33383299899998],\n",
       "      [31.300975, 37.40425899799999],\n",
       "      [31.419393, 37.97350799700001],\n",
       "      [31.5975305, 38.0560855],\n",
       "      [31.233349499999974, 38.409972998],\n",
       "      [31.621331, 38.61994749799999],\n",
       "      [31.6197325, 39.10305549899999],\n",
       "      [31.8153175, 39.128693499],\n",
       "      [32.069824, 39.27607099800002],\n",
       "      [31.676844, 40.035240500999976],\n",
       "      [30.82533, 40.12578449900002],\n",
       "      [31.128547500000025, 40.36527999899999],\n",
       "      [31.911622, 40.328740498],\n",
       "      [32.554816, 40.691943998],\n",
       "      [32.97209549899998, 40.615893501000016],\n",
       "      [33.220758999, 40.32078449800002],\n",
       "      [33.695422, 40.33224149900002]]]}},\n",
       "  {'type': 'Feature',\n",
       "   'id': 1617,\n",
       "   'properties': {'NUTS_ID': 'TR6',\n",
       "    'STAT_LEVL_': 1,\n",
       "    'SHAPE_AREA': 9.03551239812,\n",
       "    'SHAPE_LEN': 27.3195071491},\n",
       "   'geometry': {'type': 'Polygon',\n",
       "    'coordinates': [[[37.6386675, 37.931167],\n",
       "      [37.432401, 37.641709],\n",
       "      [37.62321650000001, 37.511652497],\n",
       "      [37.08278, 37.175676],\n",
       "      [36.901796, 37.33366049900002],\n",
       "      [36.69738849999999, 37.218142496999974],\n",
       "      [36.465673, 36.94866749900001],\n",
       "      [36.66001039399998, 36.83323153600003],\n",
       "      [36.549576, 36.487769997999976],\n",
       "      [36.683648, 36.23678349900001],\n",
       "      [36.39222, 36.213326],\n",
       "      [36.37497, 35.99791399899999],\n",
       "      [36.168469, 35.81971799799999],\n",
       "      [35.917953, 35.928695499000014],\n",
       "      [35.978777, 36.01944149899998],\n",
       "      [35.779623, 36.31855599800002],\n",
       "      [36.2157305, 36.65963549899999],\n",
       "      [36.1485765, 36.855066498999975],\n",
       "      [35.963096, 36.902986999],\n",
       "      [35.56584, 36.5647945],\n",
       "      [35.339365, 36.538526499],\n",
       "      [34.899245, 36.73828099899998],\n",
       "      [34.5607205, 36.76816349699999],\n",
       "      [33.68421, 36.133401999],\n",
       "      [32.57634, 36.093232999],\n",
       "      [32.029032, 36.53820249900002],\n",
       "      [30.69816750000001, 36.884519497999975],\n",
       "      [30.327932499999974, 36.296952998999984],\n",
       "      [29.644518, 36.196329],\n",
       "      [29.2605615, 36.30439899800001],\n",
       "      [29.637207, 36.669686001],\n",
       "      [29.71326449899999, 36.956309498999985],\n",
       "      [29.341447, 37.006848998],\n",
       "      [29.60653050000002, 37.395360998],\n",
       "      [29.500381, 37.618871997999975],\n",
       "      [29.852119, 37.75228549899998],\n",
       "      [30.039979500000015, 37.752413999],\n",
       "      [30.986741, 38.466414499],\n",
       "      [31.233349499999974, 38.409972998],\n",
       "      [31.5975305, 38.0560855],\n",
       "      [31.419393, 37.97350799700001],\n",
       "      [31.300975, 37.40425899799999],\n",
       "      [31.4533915, 37.33383299899998],\n",
       "      [31.740267500000016, 37.35582599899999],\n",
       "      [32.45723149999998, 36.738470999000015],\n",
       "      [32.573227, 36.357624],\n",
       "      [33.238955499999975, 36.520920999],\n",
       "      [32.95091050000002, 36.831344999],\n",
       "      [33.997476, 37.09766399799997],\n",
       "      [34.42891450000002, 37.31638499899998],\n",
       "      [34.748, 37.409303998999974],\n",
       "      [34.8854045, 37.67054299900002],\n",
       "      [35.218708, 37.75922449900003],\n",
       "      [35.574764, 37.737158498999975],\n",
       "      [35.6144215, 37.962110999],\n",
       "      [36.253814, 38.379422998999985],\n",
       "      [36.440496, 38.21943249899999],\n",
       "      [36.769845499999974, 38.54643599899998],\n",
       "      [37.341487, 38.59351549899998],\n",
       "      [37.25953449999997, 38.479911],\n",
       "      [37.7602465, 38.20305099799998],\n",
       "      [37.6386675, 37.931167]]]}},\n",
       "  {'type': 'Feature',\n",
       "   'id': 1629,\n",
       "   'properties': {'NUTS_ID': 'TR7',\n",
       "    'STAT_LEVL_': 1,\n",
       "    'SHAPE_AREA': 9.45333977171,\n",
       "    'SHAPE_LEN': 16.9018960647},\n",
       "   'geometry': {'type': 'Polygon',\n",
       "    'coordinates': [[[38.78355, 40.08327149899998],\n",
       "      [38.3667795, 39.93940199799999],\n",
       "      [38.349975, 39.14994349699998],\n",
       "      [37.825541, 39.093950499000016],\n",
       "      [37.341487, 38.59351549899998],\n",
       "      [36.769845499999974, 38.54643599899998],\n",
       "      [36.440496, 38.21943249899999],\n",
       "      [36.253814, 38.379422998999985],\n",
       "      [35.6144215, 37.962110999],\n",
       "      [35.574764, 37.737158498999975],\n",
       "      [35.218708, 37.75922449900003],\n",
       "      [34.8854045, 37.67054299900002],\n",
       "      [34.748, 37.409303998999974],\n",
       "      [34.42891450000002, 37.31638499899998],\n",
       "      [34.3350345, 37.47940749700001],\n",
       "      [34.4004265, 37.75167499899999],\n",
       "      [34.03357349999999, 38.00481099799998],\n",
       "      [33.3944535, 37.97126099799999],\n",
       "      [33.2033695, 38.27849400100001],\n",
       "      [33.464405, 38.63659149900002],\n",
       "      [33.7054745, 38.68082249999998],\n",
       "      [33.722786, 38.94294799800002],\n",
       "      [33.886019, 39.043412499],\n",
       "      [33.441716, 39.35144900099999],\n",
       "      [33.24737249999998, 39.64108699799999],\n",
       "      [33.695422, 40.33224149900002],\n",
       "      [33.9162255, 40.263038],\n",
       "      [34.175507, 39.940434],\n",
       "      [35.072878, 40.01205649899998],\n",
       "      [35.1556395, 40.226113],\n",
       "      [35.35115, 40.2433805],\n",
       "      [35.442588, 40.23402249899999],\n",
       "      [36.003423, 39.95451049799999],\n",
       "      [36.606419500000015, 39.980525999],\n",
       "      [36.8059275, 40.228436999],\n",
       "      [37.450466, 40.17053549899998],\n",
       "      [37.584064, 40.42438699899998],\n",
       "      [37.73245750000001, 40.3425095],\n",
       "      [38.14845250000002, 40.52421849799998],\n",
       "      [38.213064, 40.21331249899998],\n",
       "      [38.78355, 40.08327149899998]]]}},\n",
       "  {'type': 'Feature',\n",
       "   'id': 1640,\n",
       "   'properties': {'NUTS_ID': 'TR8',\n",
       "    'STAT_LEVL_': 1,\n",
       "    'SHAPE_AREA': 8.02484354804,\n",
       "    'SHAPE_LEN': 15.605980006},\n",
       "   'geometry': {'type': 'Polygon',\n",
       "    'coordinates': [[[37.152348500000016, 41.148413498000025],\n",
       "      [36.671261, 40.91562949899998],\n",
       "      [37.632352, 40.54368199800001],\n",
       "      [37.584064, 40.42438699899998],\n",
       "      [37.450466, 40.17053549899998],\n",
       "      [36.8059275, 40.228436999],\n",
       "      [36.606419500000015, 39.980525999],\n",
       "      [36.003423, 39.95451049799999],\n",
       "      [35.442588, 40.23402249899999],\n",
       "      [35.35115, 40.2433805],\n",
       "      [35.1556395, 40.226113],\n",
       "      [35.072878, 40.01205649899998],\n",
       "      [34.175507, 39.940434],\n",
       "      [33.9162255, 40.263038],\n",
       "      [33.695422, 40.33224149900002],\n",
       "      [33.220758999, 40.32078449800002],\n",
       "      [32.97209549899998, 40.615893501000016],\n",
       "      [32.554816, 40.691943998],\n",
       "      [32.560043, 40.807477499000015],\n",
       "      [32.134024, 41.030704],\n",
       "      [31.75363, 41.005629999],\n",
       "      [31.2956565, 41.11632],\n",
       "      [31.403204, 41.317392498],\n",
       "      [32.062578, 41.58030599900002],\n",
       "      [32.73610350000001, 41.849009498999976],\n",
       "      [33.3196165, 42.01599299899999],\n",
       "      [34.22887849900002, 41.954958998999984],\n",
       "      [34.7977085, 41.954602997999984],\n",
       "      [34.943724, 42.09698299899998],\n",
       "      [35.51369949999997, 41.63597999900003],\n",
       "      [35.9609585, 41.734693],\n",
       "      [36.38541249999997, 41.256273498999974],\n",
       "      [36.651739, 41.383401999],\n",
       "      [37.152348500000016, 41.148413498000025]]]}},\n",
       "  {'type': 'Feature',\n",
       "   'id': 1654,\n",
       "   'properties': {'NUTS_ID': 'TR9',\n",
       "    'STAT_LEVL_': 1,\n",
       "    'SHAPE_AREA': 3.81807358941,\n",
       "    'SHAPE_LEN': 13.8823640195},\n",
       "   'geometry': {'type': 'Polygon',\n",
       "    'coordinates': [[[42.51517493199998, 41.43828241599999],\n",
       "      [42.596096, 41.2710925],\n",
       "      [42.28524950000002, 40.91643799899998],\n",
       "      [41.9458735, 40.950454997],\n",
       "      [41.80985750000002, 40.684673499999974],\n",
       "      [41.384645499999976, 40.567911998],\n",
       "      [41.164019499, 40.83493949899997],\n",
       "      [40.60606150000001, 40.536],\n",
       "      [40.461455, 40.52868399800002],\n",
       "      [40.089906, 40.572094999],\n",
       "      [39.643336499999975, 40.095837999000025],\n",
       "      [39.789502, 39.940146],\n",
       "      [39.4362185, 39.878558],\n",
       "      [38.95667850000001, 40.068511999],\n",
       "      [38.78355, 40.08327149899998],\n",
       "      [38.213064, 40.21331249899998],\n",
       "      [38.14845250000002, 40.52421849799998],\n",
       "      [37.73245750000001, 40.3425095],\n",
       "      [37.584064, 40.42438699899998],\n",
       "      [37.632352, 40.54368199800001],\n",
       "      [36.671261, 40.91562949899998],\n",
       "      [37.152348500000016, 41.148413498000025],\n",
       "      [38.109992499999976, 40.95851799799999],\n",
       "      [39.1793085, 41.074095999],\n",
       "      [40.32828749999999, 40.987883501],\n",
       "      [41.2519, 41.32993349899999],\n",
       "      [41.54713349999997, 41.52037549800002],\n",
       "      [42.51517493199998, 41.43828241599999]]]}},\n",
       "  {'type': 'Feature',\n",
       "   'id': 1662,\n",
       "   'properties': {'NUTS_ID': 'TRA',\n",
       "    'STAT_LEVL_': 1,\n",
       "    'SHAPE_AREA': 7.48327500968,\n",
       "    'SHAPE_LEN': 17.8303575657},\n",
       "   'geometry': {'type': 'Polygon',\n",
       "    'coordinates': [[[44.04995580999997, 39.36281542699999],\n",
       "      [43.716901, 39.20951250000002],\n",
       "      [43.412439, 39.39359249900002],\n",
       "      [43.1418885, 39.310626996999986],\n",
       "      [43.184449, 39.198752497999976],\n",
       "      [42.979636, 39.016623498],\n",
       "      [42.75008, 38.92519099899999],\n",
       "      [42.671909, 39.21350849800001],\n",
       "      [42.406795, 39.46710349900002],\n",
       "      [41.801216, 39.14470749899999],\n",
       "      [41.20683, 39.353699001],\n",
       "      [40.651635, 39.52291049899998],\n",
       "      [40.4484405, 39.52215549800002],\n",
       "      [39.82890149999997, 39.60165249800002],\n",
       "      [39.072714, 39.437300499],\n",
       "      [38.7295135, 39.13715549699998],\n",
       "      [38.768138, 39.00626299800001],\n",
       "      [38.6840535, 39.02384299900001],\n",
       "      [38.349975, 39.14994349699998],\n",
       "      [38.3667795, 39.93940199799999],\n",
       "      [38.78355, 40.08327149899998],\n",
       "      [38.95667850000001, 40.068511999],\n",
       "      [39.4362185, 39.878558],\n",
       "      [39.789502, 39.940146],\n",
       "      [39.643336499999975, 40.095837999000025],\n",
       "      [40.089906, 40.572094999],\n",
       "      [40.461455, 40.52868399800002],\n",
       "      [40.60606150000001, 40.536],\n",
       "      [41.164019499, 40.83493949899997],\n",
       "      [41.384645499999976, 40.567911998],\n",
       "      [41.80985750000002, 40.684673499999974],\n",
       "      [41.9458735, 40.950454997],\n",
       "      [42.28524950000002, 40.91643799899998],\n",
       "      [42.596096, 41.2710925],\n",
       "      [42.51517493199998, 41.43828241599999],\n",
       "      [42.836095, 41.58444249799999],\n",
       "      [43.473827, 41.12329749999998],\n",
       "      [43.469638, 41.05734499800002],\n",
       "      [43.750409, 40.74499899900002],\n",
       "      [43.583054, 40.45111099899998],\n",
       "      [43.653923, 40.13037749900002],\n",
       "      [44.351662, 40.02222099800002],\n",
       "      [44.76841, 39.714094498],\n",
       "      [44.81204250000002, 39.63174349799999],\n",
       "      [44.502099499999986, 39.7169935],\n",
       "      [44.401101, 39.41651599900001],\n",
       "      [44.04995580999997, 39.36281542699999]]]}},\n",
       "  {'type': 'Feature',\n",
       "   'id': 1672,\n",
       "   'properties': {'NUTS_ID': 'TRB',\n",
       "    'STAT_LEVL_': 1,\n",
       "    'SHAPE_AREA': 8.41900566962,\n",
       "    'SHAPE_LEN': 20.6506210916},\n",
       "   'geometry': {'type': 'Polygon',\n",
       "    'coordinates': [[[44.04995580999997, 39.36281542699999],\n",
       "      [44.30026699899997, 38.842627999],\n",
       "      [44.30526, 38.40053499800001],\n",
       "      [44.482518, 38.34129999800001],\n",
       "      [44.223969, 37.899149998999974],\n",
       "      [44.46285493800002, 37.80956816899999],\n",
       "      [44.617768, 37.717975998999975],\n",
       "      [44.588852, 37.443092998],\n",
       "      [44.801659, 37.32166299900001],\n",
       "      [44.793147499999975, 37.17628399900002],\n",
       "      [44.349709, 37.03832299800001],\n",
       "      [44.118882, 37.315686],\n",
       "      [43.424563, 37.275334499999985],\n",
       "      [43.307242, 37.43826649800002],\n",
       "      [43.505390499999976, 37.71352999800001],\n",
       "      [42.9662085, 37.762133],\n",
       "      [42.76799349999999, 37.91362949799998],\n",
       "      [41.702295, 38.246542998999985],\n",
       "      [41.506182, 38.564977999],\n",
       "      [41.38054999899998, 38.492253498000025],\n",
       "      [41.176564, 38.716726],\n",
       "      [40.459416499999975, 38.622623498999985],\n",
       "      [40.31407, 38.465824499],\n",
       "      [39.162863, 38.30443449799998],\n",
       "      [39.122747, 38.183312999],\n",
       "      [38.816859, 38.012205499],\n",
       "      [38.32978250000002, 38.204376998999976],\n",
       "      [38.09520250000003, 38.10833049799999],\n",
       "      [38.0894285, 37.95417299899998],\n",
       "      [37.6386675, 37.931167],\n",
       "      [37.7602465, 38.20305099799998],\n",
       "      [37.25953449999997, 38.479911],\n",
       "      [37.341487, 38.59351549899998],\n",
       "      [37.825541, 39.093950499000016],\n",
       "      [38.349975, 39.14994349699998],\n",
       "      [38.6840535, 39.02384299900001],\n",
       "      [38.768138, 39.00626299800001],\n",
       "      [38.7295135, 39.13715549699998],\n",
       "      [39.072714, 39.437300499],\n",
       "      [39.82890149999997, 39.60165249800002],\n",
       "      [40.4484405, 39.52215549800002],\n",
       "      [40.651635, 39.52291049899998],\n",
       "      [41.20683, 39.353699001],\n",
       "      [41.801216, 39.14470749899999],\n",
       "      [42.406795, 39.46710349900002],\n",
       "      [42.671909, 39.21350849800001],\n",
       "      [42.75008, 38.92519099899999],\n",
       "      [42.979636, 39.016623498],\n",
       "      [43.184449, 39.198752497999976],\n",
       "      [43.1418885, 39.310626996999986],\n",
       "      [43.412439, 39.39359249900002],\n",
       "      [43.716901, 39.20951250000002],\n",
       "      [44.04995580999997, 39.36281542699999]]]}},\n",
       "  {'type': 'Feature',\n",
       "   'id': 1683,\n",
       "   'properties': {'NUTS_ID': 'TRC',\n",
       "    'STAT_LEVL_': 1,\n",
       "    'SHAPE_AREA': 7.71640630013,\n",
       "    'SHAPE_LEN': 16.6352468686},\n",
       "   'geometry': {'type': 'Polygon',\n",
       "    'coordinates': [[[43.424563, 37.275334499999985],\n",
       "      [42.786801, 37.38367499899999],\n",
       "      [42.3556825, 37.10799350100001],\n",
       "      [42.180832, 37.29054199900003],\n",
       "      [41.663342, 37.10290349899998],\n",
       "      [40.770821, 37.11804999899999],\n",
       "      [40.226033, 36.90137349899999],\n",
       "      [39.221524, 36.66534099699999],\n",
       "      [38.386376, 36.89832999700002],\n",
       "      [38.047589500000015, 36.84555449700002],\n",
       "      [37.58551649999998, 36.70376849899998],\n",
       "      [37.127495, 36.659157],\n",
       "      [36.678777500000024, 36.83266099799999],\n",
       "      [36.66001039399998, 36.83323153600003],\n",
       "      [36.465673, 36.94866749900001],\n",
       "      [36.69738849999999, 37.218142496999974],\n",
       "      [36.901796, 37.33366049900002],\n",
       "      [37.08278, 37.175676],\n",
       "      [37.62321650000001, 37.511652497],\n",
       "      [37.432401, 37.641709],\n",
       "      [37.6386675, 37.931167],\n",
       "      [38.0894285, 37.95417299899998],\n",
       "      [38.09520250000003, 38.10833049799999],\n",
       "      [38.32978250000002, 38.204376998999976],\n",
       "      [38.816859, 38.012205499],\n",
       "      [39.122747, 38.183312999],\n",
       "      [39.162863, 38.30443449799998],\n",
       "      [40.31407, 38.465824499],\n",
       "      [40.459416499999975, 38.622623498999985],\n",
       "      [41.176564, 38.716726],\n",
       "      [41.38054999899998, 38.492253498000025],\n",
       "      [41.506182, 38.564977999],\n",
       "      [41.702295, 38.246542998999985],\n",
       "      [42.76799349999999, 37.91362949799998],\n",
       "      [42.9662085, 37.762133],\n",
       "      [43.505390499999976, 37.71352999800001],\n",
       "      [43.307242, 37.43826649800002],\n",
       "      [43.424563, 37.275334499999985]]]}},\n",
       "  {'type': 'Feature',\n",
       "   'id': 1697,\n",
       "   'properties': {'NUTS_ID': 'UKC',\n",
       "    'STAT_LEVL_': 1,\n",
       "    'SHAPE_AREA': 1.14146047987,\n",
       "    'SHAPE_LEN': 5.74234874984},\n",
       "   'geometry': {'type': 'Polygon',\n",
       "    'coordinates': [[[-0.7909065, 54.5594825],\n",
       "      [-1.234791, 54.51036849799999],\n",
       "      [-1.434778, 54.487514498999985],\n",
       "      [-1.696865, 54.536060501],\n",
       "      [-2.1701665, 54.458256],\n",
       "      [-2.312043001, 54.79108050000002],\n",
       "      [-2.567809, 54.8236425],\n",
       "      [-2.4862965, 55.08311849900002],\n",
       "      [-2.689751, 55.18906399799999],\n",
       "      [-2.165465499999982, 55.46846750100002],\n",
       "      [-2.335961, 55.63214499899999],\n",
       "      [-2.034329, 55.811165],\n",
       "      [-1.838949500000012, 55.642334],\n",
       "      [-1.639348, 55.578319497999985],\n",
       "      [-1.461693, 55.0743905],\n",
       "      [-1.3639015, 54.9441835],\n",
       "      [-1.3473725, 54.860690998999985],\n",
       "      [-1.2422295, 54.72259499799998],\n",
       "      [-1.261252, 54.571902997999985],\n",
       "      [-0.7909065, 54.5594825]]]}},\n",
       "  {'type': 'Feature',\n",
       "   'id': 1709,\n",
       "   'properties': {'NUTS_ID': 'SE3',\n",
       "    'STAT_LEVL_': 1,\n",
       "    'SHAPE_AREA': 58.2090154988,\n",
       "    'SHAPE_LEN': 45.1905492581},\n",
       "   'geometry': {'type': 'Polygon',\n",
       "    'coordinates': [[[24.155129, 65.816027],\n",
       "      [22.34076600100002, 65.86896049900002],\n",
       "      [22.402720499, 65.53735549700002],\n",
       "      [22.0356215, 65.4648855],\n",
       "      [21.524723359, 65.231805586],\n",
       "      [21.543604500000015, 65.06305899799997],\n",
       "      [21.156021, 64.81548450000003],\n",
       "      [21.605362500000012, 64.433961],\n",
       "      [20.31427, 63.674042500999974],\n",
       "      [19.8976955, 63.61702299900003],\n",
       "      [19.68303899900002, 63.434309000999974],\n",
       "      [19.286468, 63.4697195],\n",
       "      [18.331517, 63.05352650100002],\n",
       "      [18.55759150099999, 62.96259650000002],\n",
       "      [18.0637, 62.610071],\n",
       "      [17.4012075, 62.54936049899999],\n",
       "      [17.392239500000017, 62.32317900100003],\n",
       "      [17.6594715, 62.2330035],\n",
       "      [17.489299500000016, 62.13695049900002],\n",
       "      [17.3074195, 61.85283999699999],\n",
       "      [17.402429499999982, 61.7223975],\n",
       "      [17.037339499999973, 61.574806497],\n",
       "      [17.070646, 60.89967199900002],\n",
       "      [17.370218, 60.654461500000025],\n",
       "      [17.192478, 60.300712499999975],\n",
       "      [16.703831, 60.195720498000014],\n",
       "      [15.801567, 60.179103499],\n",
       "      [15.42209250000002, 59.854747499999974],\n",
       "      [14.437155500000017, 60.02616099699998],\n",
       "      [14.295995, 59.01277950100001],\n",
       "      [13.589992, 59.059444499999984],\n",
       "      [13.254575499999987, 58.72561999800001],\n",
       "      [12.228614499, 59.25669849899998],\n",
       "      [11.8261965, 59.237849998],\n",
       "      [11.691129, 59.58954749999998],\n",
       "      [11.93987850000002, 59.69458099799999],\n",
       "      [11.926970499999982, 59.79047599900002],\n",
       "      [11.839729, 59.840767],\n",
       "      [12.499544999000022, 60.09765699799999],\n",
       "      [12.606881499999986, 60.51274249699998],\n",
       "      [12.22399, 61.013078001],\n",
       "      [12.670176500000025, 61.055976498],\n",
       "      [12.870847500000025, 61.35649499800002],\n",
       "      [12.137665, 61.72381699800002],\n",
       "      [12.29937, 62.267494],\n",
       "      [12.2546595, 62.33102449699999],\n",
       "      [12.056142, 62.61191849900001],\n",
       "      [12.218231, 63.00033250000001],\n",
       "      [12.0524555, 63.1834445],\n",
       "      [11.974581, 63.269228],\n",
       "      [12.149767, 63.593946999000025],\n",
       "      [12.683565, 63.9742235],\n",
       "      [13.967524500000025, 64.00797],\n",
       "      [14.157109, 64.195054497],\n",
       "      [14.113869500000021, 64.462484501],\n",
       "      [13.654257500000028, 64.58034049899999],\n",
       "      [14.325985, 65.118916001],\n",
       "      [14.6254765, 65.81180849999998],\n",
       "      [14.516289, 66.132579],\n",
       "      [15.453994500000022, 66.345233501],\n",
       "      [15.3772265, 66.48430399699998],\n",
       "      [16.387759, 67.04546249999999],\n",
       "      [16.15800150000001, 67.51915900099999],\n",
       "      [17.281524, 68.118815],\n",
       "      [17.89976150000001, 67.969372],\n",
       "      [18.151354, 68.19879],\n",
       "      [18.125925, 68.53651599900002],\n",
       "      [19.921397, 68.356013001],\n",
       "      [20.3358725, 68.80231250000003],\n",
       "      [20.0600475, 69.04575900100002],\n",
       "      [20.548636499999986, 69.05996850100001],\n",
       "      [21.888943000999973, 68.5843835],\n",
       "      [23.652348999000026, 67.958793001],\n",
       "      [23.3940235, 67.485820999],\n",
       "      [23.995160500999987, 66.819708999],\n",
       "      [23.6455995, 66.3014085],\n",
       "      [24.155129, 65.816027]]]}},\n",
       "  {'type': 'Feature',\n",
       "   'id': 1721,\n",
       "   'properties': {'NUTS_ID': 'SI0',\n",
       "    'STAT_LEVL_': 1,\n",
       "    'SHAPE_AREA': 2.29714419791,\n",
       "    'SHAPE_LEN': 9.36830697837},\n",
       "   'geometry': {'type': 'Polygon',\n",
       "    'coordinates': [[[16.596805, 46.47590249899997],\n",
       "      [16.242148499999985, 46.49007549700002],\n",
       "      [16.301549, 46.37828799699997],\n",
       "      [15.8768685, 46.280055499000014],\n",
       "      [15.7914755, 46.259327497000015],\n",
       "      [15.627262, 46.08595349900003],\n",
       "      [15.70640450000002, 45.97534299900002],\n",
       "      [15.404425, 45.792716997000014],\n",
       "      [15.331290500000023, 45.76285499900001],\n",
       "      [15.277050499999973, 45.604461499000024],\n",
       "      [15.385532, 45.48658049900001],\n",
       "      [15.226437499999975, 45.42708799799999],\n",
       "      [14.570012500000018, 45.672944497],\n",
       "      [14.11819650000001, 45.48123899699999],\n",
       "      [14.109059, 45.48245849699998],\n",
       "      [13.583067, 45.477409997],\n",
       "      [13.7228235, 45.59472549700001],\n",
       "      [13.9186565, 45.63351749899999],\n",
       "      [13.596243, 45.807937501000026],\n",
       "      [13.597145, 45.81952250099999],\n",
       "      [13.496938999, 46.051334999],\n",
       "      [13.66434750000002, 46.177549999],\n",
       "      [13.3754925, 46.29823249899999],\n",
       "      [13.684032, 46.437472501],\n",
       "      [13.714184999, 46.52270349999998],\n",
       "      [14.434500500000013, 46.442943501],\n",
       "      [14.5651755, 46.37245349699998],\n",
       "      [14.6745805, 46.450687500000015],\n",
       "      [15.065120499999978, 46.65211249700002],\n",
       "      [15.40197949899999, 46.65354849900001],\n",
       "      [15.649988, 46.705757],\n",
       "      [15.786422, 46.7074695],\n",
       "      [16.038086, 46.65614549700001],\n",
       "      [15.996236, 46.8353985],\n",
       "      [16.113849, 46.86906799899998],\n",
       "      [16.3707935, 46.722243499],\n",
       "      [16.596805, 46.47590249899997]]]}},\n",
       "  {'type': 'Feature',\n",
       "   'id': 1743,\n",
       "   'properties': {'NUTS_ID': 'UKD',\n",
       "    'STAT_LEVL_': 1,\n",
       "    'SHAPE_AREA': 1.92985669092,\n",
       "    'SHAPE_LEN': 8.64318543861},\n",
       "   'geometry': {'type': 'Polygon',\n",
       "    'coordinates': [[[-2.1701665, 54.458256],\n",
       "      [-2.4608275, 54.22676449800002],\n",
       "      [-2.469517, 54.04625699799999],\n",
       "      [-2.1844825, 53.95230499899998],\n",
       "      [-2.046089, 53.850178],\n",
       "      [-2.06121, 53.825671999],\n",
       "      [-2.146293001, 53.682266],\n",
       "      [-1.909583, 53.53842149899998],\n",
       "      [-1.9633505, 53.50985349699999],\n",
       "      [-2.0310235, 53.370289001],\n",
       "      [-1.987376, 53.213608],\n",
       "      [-2.380768, 52.99842849999999],\n",
       "      [-2.69927450099999, 52.995460501000025],\n",
       "      [-2.726823500000023, 52.9832955],\n",
       "      [-3.084193, 53.256122498000025],\n",
       "      [-3.110706, 53.296317999],\n",
       "      [-3.200367501000017, 53.387527499999976],\n",
       "      [-2.928556500000013, 53.308277],\n",
       "      [-2.7524115, 53.3147545],\n",
       "      [-2.675166499999989, 53.35448450000001],\n",
       "      [-2.693358, 53.361835498],\n",
       "      [-2.826677, 53.331672501000014],\n",
       "      [-3.008742, 53.43841149899998],\n",
       "      [-3.1054585, 53.551548001000015],\n",
       "      [-2.956203, 53.69752900100002],\n",
       "      [-2.833743, 53.722129999],\n",
       "      [-3.057371499999988, 53.776481499],\n",
       "      [-3.047940499999982, 53.87577449899999],\n",
       "      [-2.86947, 54.17673849900001],\n",
       "      [-3.149062, 54.093601],\n",
       "      [-3.174973, 54.11490649900003],\n",
       "      [-3.2049515, 54.21513000099998],\n",
       "      [-3.223693609, 54.249058382999976],\n",
       "      [-3.613598, 54.52509699900003],\n",
       "      [-3.3986365, 54.869125499],\n",
       "      [-3.11915, 54.927886999],\n",
       "      [-3.091623992999985, 54.97554629199999],\n",
       "      [-2.858508, 55.10842499900002],\n",
       "      [-2.689751, 55.18906399799999],\n",
       "      [-2.4862965, 55.08311849900002],\n",
       "      [-2.567809, 54.8236425],\n",
       "      [-2.312043001, 54.79108050000002],\n",
       "      [-2.1701665, 54.458256]]]}},\n",
       "  {'type': 'Feature',\n",
       "   'id': 1769,\n",
       "   'properties': {'NUTS_ID': 'UKE',\n",
       "    'STAT_LEVL_': 1,\n",
       "    'SHAPE_AREA': 2.12376823527,\n",
       "    'SHAPE_LEN': 8.28625907227},\n",
       "   'geometry': {'type': 'Polygon',\n",
       "    'coordinates': [[[0.017378, 53.525367501],\n",
       "      [-0.738485500000024, 53.51986699899999],\n",
       "      [-0.741809832, 53.516955832],\n",
       "      [-0.7974175, 53.455085998000015],\n",
       "      [-0.935518, 53.50252149900001],\n",
       "      [-1.199686499999984, 53.311454997],\n",
       "      [-1.324675, 53.328853498],\n",
       "      [-1.599034500000016, 53.311401498],\n",
       "      [-1.801430499999981, 53.481018001],\n",
       "      [-1.822188499999982, 53.52111799800002],\n",
       "      [-1.909583, 53.53842149899998],\n",
       "      [-2.146293001, 53.682266],\n",
       "      [-2.06121, 53.825671999],\n",
       "      [-2.046089, 53.850178],\n",
       "      [-2.1844825, 53.95230499899998],\n",
       "      [-2.469517, 54.04625699799999],\n",
       "      [-2.4608275, 54.22676449800002],\n",
       "      [-2.1701665, 54.458256],\n",
       "      [-1.696865, 54.536060501],\n",
       "      [-1.434778, 54.487514498999985],\n",
       "      [-1.234791, 54.51036849799999],\n",
       "      [-0.7909065, 54.5594825],\n",
       "      [-0.2124495, 54.15762700099998],\n",
       "      [0.141740261999985, 53.61067700699999],\n",
       "      [-0.250096, 53.733318500999985],\n",
       "      [-0.419136501000025, 53.719619997],\n",
       "      [-0.698366, 53.68465399899998],\n",
       "      [-0.722945813000024, 53.611722574],\n",
       "      [-0.7450505, 53.57120149899998],\n",
       "      [-0.739235033, 53.52388799],\n",
       "      [-0.720730575, 53.61118798299998],\n",
       "      [-0.295713499999977, 53.713866999],\n",
       "      [0.017378, 53.525367501]]]}},\n",
       "  {'type': 'Feature',\n",
       "   'id': 1785,\n",
       "   'properties': {'NUTS_ID': 'UKF',\n",
       "    'STAT_LEVL_': 1,\n",
       "    'SHAPE_AREA': 2.09916441718,\n",
       "    'SHAPE_LEN': 7.27858987634},\n",
       "   'geometry': {'type': 'Polygon',\n",
       "    'coordinates': [[[-1.801430499999981, 53.481018001],\n",
       "      [-1.599034500000016, 53.311401498],\n",
       "      [-1.324675, 53.328853498],\n",
       "      [-1.199686499999984, 53.311454997],\n",
       "      [-0.935518, 53.50252149900001],\n",
       "      [-0.7974175, 53.455085998000015],\n",
       "      [-0.741809832, 53.516955832],\n",
       "      [-0.738485500000024, 53.51986699899999],\n",
       "      [0.017378, 53.525367501],\n",
       "      [0.355712, 53.192062498999974],\n",
       "      [0.043715500000019, 52.903881],\n",
       "      [0.26596, 52.81011600099998],\n",
       "      [0.171689, 52.73803699899997],\n",
       "      [-0.031214, 52.66153699900002],\n",
       "      [-0.4948475, 52.64027975099998],\n",
       "      [-0.41533, 52.578746997],\n",
       "      [-0.341543, 52.46694549900002],\n",
       "      [-0.465321500000016, 52.32295600100002],\n",
       "      [-0.668097, 52.195033998999975],\n",
       "      [-0.70541750000001, 52.191570497999976],\n",
       "      [-0.871292499999981, 52.0402525],\n",
       "      [-1.118058, 52.01542649800001],\n",
       "      [-1.331868499999985, 52.168487500000026],\n",
       "      [-1.20158, 52.396735998999986],\n",
       "      [-1.589611, 52.68727099900002],\n",
       "      [-1.597507, 52.70043199899999],\n",
       "      [-1.987376, 53.213608],\n",
       "      [-2.0310235, 53.370289001],\n",
       "      [-1.9633505, 53.50985349699999],\n",
       "      [-1.909583, 53.53842149899998],\n",
       "      [-1.822188499999982, 53.52111799800002],\n",
       "      [-1.801430499999981, 53.481018001]]]}},\n",
       "  {'type': 'Feature',\n",
       "   'id': 1800,\n",
       "   'properties': {'NUTS_ID': 'UKG',\n",
       "    'STAT_LEVL_': 1,\n",
       "    'SHAPE_AREA': 1.70636120804,\n",
       "    'SHAPE_LEN': 5.77470782845},\n",
       "   'geometry': {'type': 'Polygon',\n",
       "    'coordinates': [[[-1.331868499999985, 52.168487500000026],\n",
       "      [-1.6657325, 51.987491498],\n",
       "      [-1.76762700099999, 52.11259449900001],\n",
       "      [-2.351362, 52.02136599900001],\n",
       "      [-2.6502135, 51.82615299899999],\n",
       "      [-3.067357500000014, 51.98315050100001],\n",
       "      [-3.1419115, 52.127876499000024],\n",
       "      [-2.954719, 52.34925850000002],\n",
       "      [-3.235562, 52.44255049899999],\n",
       "      [-3.14748, 52.89015599800001],\n",
       "      [-2.726823500000023, 52.9832955],\n",
       "      [-2.69927450099999, 52.995460501000025],\n",
       "      [-2.380768, 52.99842849999999],\n",
       "      [-1.987376, 53.213608],\n",
       "      [-1.597507, 52.70043199899999],\n",
       "      [-1.589611, 52.68727099900002],\n",
       "      [-1.20158, 52.396735998999986],\n",
       "      [-1.331868499999985, 52.168487500000026]]]}},\n",
       "  {'type': 'Feature',\n",
       "   'id': 1818,\n",
       "   'properties': {'NUTS_ID': 'UKH',\n",
       "    'STAT_LEVL_': 1,\n",
       "    'SHAPE_AREA': 2.39062742389,\n",
       "    'SHAPE_LEN': 8.43591919646},\n",
       "   'geometry': {'type': 'Polygon',\n",
       "    'coordinates': [[[1.2919645, 51.870651],\n",
       "      [0.844628, 51.781318499],\n",
       "      [0.71307, 51.71509150000003],\n",
       "      [0.756304, 51.691742],\n",
       "      [0.9458965, 51.716212998],\n",
       "      [0.776491998999973, 51.63602449899997],\n",
       "      [0.76434071599999, 51.63674747499999],\n",
       "      [0.85409737399999, 51.601599641],\n",
       "      [0.958179500000028, 51.61969],\n",
       "      [0.821244, 51.540714498],\n",
       "      [0.626791, 51.53217299900001],\n",
       "      [0.51370350000002, 51.531184998000015],\n",
       "      [0.40186059199999, 51.45663058500003],\n",
       "      [0.379662895000024, 51.457289678999985],\n",
       "      [0.217437, 51.480072],\n",
       "      [0.210514, 51.490035998999986],\n",
       "      [0.313079500000015, 51.565814999],\n",
       "      [0.200354, 51.62493149900001],\n",
       "      [0.138225499999976, 51.623543],\n",
       "      [-0.012219500000015, 51.646228998000026],\n",
       "      [-0.011878500000023, 51.6808775],\n",
       "      [-0.18204750000001, 51.668601997],\n",
       "      [-0.304423, 51.636348499],\n",
       "      [-0.5005615, 51.599689497999975],\n",
       "      [-0.745649501, 51.842094498999984],\n",
       "      [-0.553598, 51.8267095],\n",
       "      [-0.652946499999985, 51.96923050100003],\n",
       "      [-0.5917725, 52.110691],\n",
       "      [-0.668097, 52.195033998999975],\n",
       "      [-0.465321500000016, 52.32295600100002],\n",
       "      [-0.341543, 52.46694549900002],\n",
       "      [-0.41533, 52.578746997],\n",
       "      [-0.4948475, 52.64027975099998],\n",
       "      [-0.031214, 52.66153699900002],\n",
       "      [0.171689, 52.73803699899997],\n",
       "      [0.26596, 52.81011600099998],\n",
       "      [0.695918, 52.98762899799999],\n",
       "      [1.675478, 52.74269099899999],\n",
       "      [1.7405435, 52.53210050000001],\n",
       "      [1.756430500000022, 52.47172549800001],\n",
       "      [1.391530358000011, 51.98931597],\n",
       "      [1.05638, 51.95149249799999],\n",
       "      [1.2919645, 51.870651]]]}},\n",
       "  {'type': 'Feature',\n",
       "   'id': 1838,\n",
       "   'properties': {'NUTS_ID': 'UKI',\n",
       "    'STAT_LEVL_': 1,\n",
       "    'SHAPE_AREA': 0.202723101494,\n",
       "    'SHAPE_LEN': 2.06825609743},\n",
       "   'geometry': {'type': 'Polygon',\n",
       "    'coordinates': [[[0.210514, 51.490035998999986],\n",
       "      [0.217437, 51.480072],\n",
       "      [0.152974, 51.40870299900001],\n",
       "      [0.148871, 51.4085045],\n",
       "      [0.042433500000016, 51.292667498000014],\n",
       "      [0.002330500000028, 51.329132],\n",
       "      [-0.156508, 51.3215065],\n",
       "      [-0.330622, 51.32900600099998],\n",
       "      [-0.317662, 51.393665499],\n",
       "      [-0.458605499999976, 51.456314],\n",
       "      [-0.509666501000027, 51.46917350000001],\n",
       "      [-0.489989499999979, 51.494747],\n",
       "      [-0.5005615, 51.599689497999975],\n",
       "      [-0.304423, 51.636348499],\n",
       "      [-0.18204750000001, 51.668601997],\n",
       "      [-0.011878500000023, 51.6808775],\n",
       "      [-0.012219500000015, 51.646228998000026],\n",
       "      [0.138225499999976, 51.623543],\n",
       "      [0.200354, 51.62493149900001],\n",
       "      [0.313079500000015, 51.565814999],\n",
       "      [0.210514, 51.490035998999986]]]}},\n",
       "  {'type': 'Feature',\n",
       "   'id': 1865,\n",
       "   'properties': {'NUTS_ID': 'UKJ',\n",
       "    'STAT_LEVL_': 1,\n",
       "    'SHAPE_AREA': 2.34846795416,\n",
       "    'SHAPE_LEN': 11.5018125992},\n",
       "   'geometry': {'type': 'MultiPolygon',\n",
       "    'coordinates': [[[[-0.5917725, 52.110691],\n",
       "       [-0.652946499999985, 51.96923050100003],\n",
       "       [-0.553598, 51.8267095],\n",
       "       [-0.745649501, 51.842094498999984],\n",
       "       [-0.5005615, 51.599689497999975],\n",
       "       [-0.489989499999979, 51.494747],\n",
       "       [-0.509666501000027, 51.46917350000001],\n",
       "       [-0.458605499999976, 51.456314],\n",
       "       [-0.317662, 51.393665499],\n",
       "       [-0.330622, 51.32900600099998],\n",
       "       [-0.156508, 51.3215065],\n",
       "       [0.002330500000028, 51.329132],\n",
       "       [0.042433500000016, 51.292667498000014],\n",
       "       [0.148871, 51.4085045],\n",
       "       [0.152974, 51.40870299900001],\n",
       "       [0.217437, 51.480072],\n",
       "       [0.379662895000024, 51.457289678999985],\n",
       "       [0.40186059199999, 51.45663058500003],\n",
       "       [0.458900500000027, 51.45493699899998],\n",
       "       [0.720437, 51.45972799899999],\n",
       "       [0.539261022, 51.407019827],\n",
       "       [0.6268945, 51.37521],\n",
       "       [0.951056, 51.373244999],\n",
       "       [0.950297499999976, 51.345749],\n",
       "       [1.4497465, 51.37717799799998],\n",
       "       [1.3796385, 51.1421585],\n",
       "       [0.854784, 50.92370999899998],\n",
       "       [-0.03817650000002, 50.799503499000025],\n",
       "       [-0.216009, 50.82756399700003],\n",
       "       [-0.932831, 50.843151],\n",
       "       [-1.021779507000019, 50.835727013],\n",
       "       [-1.116579, 50.842498998],\n",
       "       [-1.3651595, 50.88006949700002],\n",
       "       [-1.4770375, 50.923957997],\n",
       "       [-1.306856, 50.81985449899997],\n",
       "       [-1.6920495, 50.73662549800002],\n",
       "       [-1.956807, 50.98982999899999],\n",
       "       [-1.6233815, 50.954635500999984],\n",
       "       [-1.49828, 51.329376],\n",
       "       [-1.584689500000025, 51.52491399899998],\n",
       "       [-1.602793500000018, 51.518295498999976],\n",
       "       [-1.6830405, 51.69011299700003],\n",
       "       [-1.6657325, 51.987491498],\n",
       "       [-1.331868499999985, 52.168487500000026],\n",
       "       [-1.118058, 52.01542649800001],\n",
       "       [-0.871292499999981, 52.0402525],\n",
       "       [-0.70541750000001, 52.191570497999976],\n",
       "       [-0.668097, 52.195033998999975],\n",
       "       [-0.5917725, 52.110691]]],\n",
       "     [[[-1.069896, 50.683647001],\n",
       "       [-1.303737500000011, 50.576045997999984],\n",
       "       [-1.586375, 50.66316599700002],\n",
       "       [-1.292164500000013, 50.75799949899999],\n",
       "       [-1.069896, 50.683647001]]]]}},\n",
       "  {'type': 'Feature',\n",
       "   'id': 1891,\n",
       "   'properties': {'NUTS_ID': 'UKK',\n",
       "    'STAT_LEVL_': 1,\n",
       "    'SHAPE_AREA': 3.16405684108,\n",
       "    'SHAPE_LEN': 11.3657412761},\n",
       "   'geometry': {'type': 'Polygon',\n",
       "    'coordinates': [[[-1.6657325, 51.987491498],\n",
       "      [-1.6830405, 51.69011299700003],\n",
       "      [-1.602793500000018, 51.518295498999976],\n",
       "      [-1.584689500000025, 51.52491399899998],\n",
       "      [-1.49828, 51.329376],\n",
       "      [-1.6233815, 50.954635500999984],\n",
       "      [-1.956807, 50.98982999899999],\n",
       "      [-1.6920495, 50.73662549800002],\n",
       "      [-1.7407255, 50.7215385],\n",
       "      [-2.0406, 50.71996299900002],\n",
       "      [-1.953566001000013, 50.594131499000014],\n",
       "      [-2.947815000999981, 50.71830750100003],\n",
       "      [-3.5090305, 50.51651400100002],\n",
       "      [-3.507436, 50.378989999],\n",
       "      [-3.723704, 50.201519],\n",
       "      [-4.1231325, 50.346740497999974],\n",
       "      [-4.177532638, 50.36402146900002],\n",
       "      [-4.76328, 50.326236498000014],\n",
       "      [-5.185075499999982, 49.96316549699998],\n",
       "      [-5.479827, 50.126014499],\n",
       "      [-4.545959499999981, 50.92835249900003],\n",
       "      [-4.139783841, 51.077219300000024],\n",
       "      [-4.200037001, 51.200939],\n",
       "      [-3.7207785, 51.233093499],\n",
       "      [-2.992948, 51.32031999899999],\n",
       "      [-2.679612, 51.480212999],\n",
       "      [-2.674005500000021, 51.544273498999985],\n",
       "      [-2.534737, 51.67724599899998],\n",
       "      [-2.66065692, 51.627663196000015],\n",
       "      [-2.6502135, 51.82615299899999],\n",
       "      [-2.351362, 52.02136599900001],\n",
       "      [-1.76762700099999, 52.11259449900001],\n",
       "      [-1.6657325, 51.987491498]]]}},\n",
       "  {'type': 'Feature',\n",
       "   'id': 1908,\n",
       "   'properties': {'NUTS_ID': 'UKL',\n",
       "    'STAT_LEVL_': 1,\n",
       "    'SHAPE_AREA': 2.60665836629,\n",
       "    'SHAPE_LEN': 12.0472297864},\n",
       "   'geometry': {'type': 'Polygon',\n",
       "    'coordinates': [[[-3.084193, 53.256122498000025],\n",
       "      [-2.726823500000023, 52.9832955],\n",
       "      [-3.14748, 52.89015599800001],\n",
       "      [-3.235562, 52.44255049899999],\n",
       "      [-2.954719, 52.34925850000002],\n",
       "      [-3.1419115, 52.127876499000024],\n",
       "      [-3.067357500000014, 51.98315050100001],\n",
       "      [-2.6502135, 51.82615299899999],\n",
       "      [-2.66065692, 51.627663196000015],\n",
       "      [-3.082688, 51.501907499000026],\n",
       "      [-3.6378555, 51.469840998],\n",
       "      [-3.88623, 51.617385997999975],\n",
       "      [-4.307776, 51.610301999],\n",
       "      [-4.05255, 51.703281498000024],\n",
       "      [-4.929975500000012, 51.59847650099999],\n",
       "      [-5.3202485, 51.86160299900001],\n",
       "      [-4.207504501000017, 52.26382049799997],\n",
       "      [-3.9310135, 52.553612],\n",
       "      [-4.128679, 52.61278149999998],\n",
       "      [-4.058637499999975, 52.920723001],\n",
       "      [-4.767578500000013, 52.79496],\n",
       "      [-4.216110416999982, 53.19851737099998],\n",
       "      [-4.69663, 53.30674349899999],\n",
       "      [-4.040188, 53.31065349900001],\n",
       "      [-4.196792116999973, 53.21081699400003],\n",
       "      [-4.007376, 53.24692899899998],\n",
       "      [-3.363392499999975, 53.352028],\n",
       "      [-3.084193, 53.256122498000025]]]}},\n",
       "  {'type': 'Feature',\n",
       "   'id': 1923,\n",
       "   'properties': {'NUTS_ID': 'UKM',\n",
       "    'STAT_LEVL_': 1,\n",
       "    'SHAPE_AREA': 10.7659037242,\n",
       "    'SHAPE_LEN': 41.2335910481},\n",
       "   'geometry': {'type': 'MultiPolygon',\n",
       "    'coordinates': [[[[-3.771491500000025, 57.867034999],\n",
       "       [-4.4320525, 57.49435400099998],\n",
       "       [-2.801509, 57.6952475],\n",
       "       [-1.78944, 57.503555498000026],\n",
       "       [-2.425346, 56.755187997],\n",
       "       [-3.051892501, 56.45849999799998],\n",
       "       [-3.27144769, 56.35318407300002],\n",
       "       [-3.2769755, 56.350532500999975],\n",
       "       [-3.264612652999972, 56.352858137],\n",
       "       [-3.243498734000013, 56.356829979999986],\n",
       "       [-2.803087, 56.43967799799998],\n",
       "       [-2.620387, 56.2611885],\n",
       "       [-3.391451500000016, 56.00593199799999],\n",
       "       [-3.866839500000026, 56.1206625],\n",
       "       [-3.820153, 56.09911750100002],\n",
       "       [-3.515724, 56.00225850099997],\n",
       "       [-3.425330499999973, 55.994030001],\n",
       "       [-3.077645500000017, 55.94689549899999],\n",
       "       [-2.3666235, 55.94611349899998],\n",
       "       [-2.034329, 55.811165],\n",
       "       [-2.335961, 55.63214499899999],\n",
       "       [-2.165465499999982, 55.46846750100002],\n",
       "       [-2.689751, 55.18906399799999],\n",
       "       [-2.858508, 55.10842499900002],\n",
       "       [-3.091623992999985, 54.97554629199999],\n",
       "       [-4.4054395, 54.677509500999975],\n",
       "       [-5.183450000999983, 54.912364998999976],\n",
       "       [-5.040228500000012, 54.99772650099999],\n",
       "       [-4.65827250000001, 55.57028949900001],\n",
       "       [-4.888966499999981, 55.87478999699999],\n",
       "       [-4.7651305, 55.95777149999998],\n",
       "       [-4.392671741000015, 55.88981584200002],\n",
       "       [-4.609648, 55.94667449799999],\n",
       "       [-4.828885, 56.079009998],\n",
       "       [-5.419614, 55.896728498000016],\n",
       "       [-5.520004500000027, 55.36192299800001],\n",
       "       [-5.799178, 55.299698001000024],\n",
       "       [-5.436028, 55.85756299899998],\n",
       "       [-5.666273499999988, 55.800583001],\n",
       "       [-5.487101000999985, 56.256931501],\n",
       "       [-5.654321, 56.297649497],\n",
       "       [-5.38434560799999, 56.53174224000003],\n",
       "       [-5.122688000999972, 56.827274499],\n",
       "       [-5.684919, 56.4972955],\n",
       "       [-6.226232, 56.710991001000025],\n",
       "       [-5.75170300100001, 56.78216549799998],\n",
       "       [-5.924258, 56.89156349799998],\n",
       "       [-5.72895, 57.101478498],\n",
       "       [-5.5094375, 57.097774499000025],\n",
       "       [-5.681389, 57.1505305],\n",
       "       [-5.670602562999989, 57.208438753999985],\n",
       "       [-6.017994, 57.017947999],\n",
       "       [-6.7897145, 57.42120749899999],\n",
       "       [-6.296708, 57.70756149800002],\n",
       "       [-6.146597000999975, 57.57447449799997],\n",
       "       [-6.130341, 57.316936499],\n",
       "       [-5.885413500000027, 57.23816700100002],\n",
       "       [-5.6476125, 57.25529499800001],\n",
       "       [-5.664395153999976, 57.219288447],\n",
       "       [-5.415392, 57.230156],\n",
       "       [-5.82202, 57.36364749699999],\n",
       "       [-5.8141635, 57.858711],\n",
       "       [-5.071033000999989, 57.81991949799999],\n",
       "       [-5.458675, 58.07440949599999],\n",
       "       [-5.0071175, 58.625992000999986],\n",
       "       [-3.024449, 58.64426400100001],\n",
       "       [-3.116977500000019, 58.36858],\n",
       "       [-4.400494, 57.91898749799998],\n",
       "       [-3.771491500000025, 57.867034999]]],\n",
       "     [[[-6.180591, 58.467010500000015],\n",
       "       [-6.344816, 58.234204497],\n",
       "       [-6.135358, 58.259441498],\n",
       "       [-6.967598, 57.72789400099998],\n",
       "       [-7.1331955, 57.836654501],\n",
       "       [-6.8160135, 57.90083699899998],\n",
       "       [-7.079999499999985, 57.96723200100001],\n",
       "       [-6.907952, 58.049675001000026],\n",
       "       [-7.10329500099999, 58.07354750000002],\n",
       "       [-7.027442, 58.24435399700002],\n",
       "       [-6.180591, 58.467010500000015]]],\n",
       "     [[[-1.155833500000028, 60.33803549999999],\n",
       "       [-1.277545, 59.85259999800002],\n",
       "       [-1.702932, 60.255359499],\n",
       "       [-1.339904500999978, 60.359771497999986],\n",
       "       [-1.632932, 60.483162],\n",
       "       [-1.499491319000015, 60.54365987199998],\n",
       "       [-1.304159, 60.623996499999976],\n",
       "       [-1.155833500000028, 60.33803549999999]]],\n",
       "     [[[-5.646332, 56.440559501],\n",
       "       [-6.385666501, 56.288787997999975],\n",
       "       [-6.323570501, 56.606162998],\n",
       "       [-5.646332, 56.440559501]]],\n",
       "     [[[-2.9119245, 59.006061499],\n",
       "       [-2.704751499999986, 58.961914001000025],\n",
       "       [-3.368161499999985, 58.998829],\n",
       "       [-2.9119245, 59.006061499]]]]}},\n",
       "  {'type': 'Feature',\n",
       "   'id': 1943,\n",
       "   'properties': {'NUTS_ID': 'UKN',\n",
       "    'STAT_LEVL_': 1,\n",
       "    'SHAPE_AREA': 1.88082099117,\n",
       "    'SHAPE_LEN': 7.41041947305},\n",
       "   'geometry': {'type': 'Polygon',\n",
       "    'coordinates': [[[-6.2680155, 54.102337],\n",
       "      [-6.623778500000014, 54.03654849700001],\n",
       "      [-7.0286355, 54.42130649799998],\n",
       "      [-7.565956, 54.126514499],\n",
       "      [-8.177718, 54.464973500999974],\n",
       "      [-7.703411501, 54.60828799900003],\n",
       "      [-7.921372, 54.69654449900003],\n",
       "      [-7.534506, 54.74713900099999],\n",
       "      [-7.256068500000026, 55.067034998],\n",
       "      [-7.099074804999987, 55.10080792000002],\n",
       "      [-6.455277, 55.2393035],\n",
       "      [-5.976527499999975, 55.056598501],\n",
       "      [-5.992633500000011, 54.989261999],\n",
       "      [-5.721779, 54.772852496999974],\n",
       "      [-5.720909001, 54.77263649899999],\n",
       "      [-5.691673, 54.80959299900002],\n",
       "      [-5.690664001000016, 54.769462497],\n",
       "      [-5.912931500000013, 54.648036998],\n",
       "      [-5.855336, 54.63377],\n",
       "      [-5.575003, 54.67019650100002],\n",
       "      [-5.432802, 54.48764399800001],\n",
       "      [-5.499689499999988, 54.338054499],\n",
       "      [-5.874409, 54.184848500999976],\n",
       "      [-6.2680155, 54.102337]]]}}]}"
      ]
     },
     "execution_count": 32,
     "metadata": {},
     "output_type": "execute_result"
    }
   ],
   "source": [
    "with urlopen('https://raw.githubusercontent.com/openaccesstoimmigrants/openaccesstoimmigrants/main/_datasets/nuts_rg_60m_2013_lvl_1.geojson') as response:\n",
    " it_map = json.load(response)\n",
    "\n",
    "it_map"
   ]
  },
  {
   "cell_type": "code",
   "execution_count": 33,
   "id": "ab46c688",
   "metadata": {},
   "outputs": [],
   "source": [
    "def find_key_in_json(json_data, target_key):\n",
    "    found_items = []\n",
    "\n",
    "    # Recursive function to search for the key\n",
    "    def find_key_recursive(obj, key):\n",
    "        if isinstance(obj, dict):\n",
    "            for k, v in obj.items():\n",
    "                if k == key:\n",
    "                    found_items.append({k: v})\n",
    "                elif isinstance(v, (dict, list)):\n",
    "                    find_key_recursive(v, key)\n",
    "        elif isinstance(obj, list):\n",
    "            for item in obj:\n",
    "                find_key_recursive(item, key)\n",
    "\n",
    "    find_key_recursive(json_data, target_key)\n",
    "    return found_items"
   ]
  },
  {
   "cell_type": "code",
   "execution_count": 34,
   "id": "efdf7158",
   "metadata": {},
   "outputs": [
    {
     "name": "stdout",
     "output_type": "stream",
     "text": [
      "[{'NUTS_ID': 'AT1'}, {'NUTS_ID': 'AT2'}, {'NUTS_ID': 'AT3'}, {'NUTS_ID': 'BE3'}, {'NUTS_ID': 'BG3'}, {'NUTS_ID': 'BG4'}, {'NUTS_ID': 'CY0'}, {'NUTS_ID': 'CZ0'}, {'NUTS_ID': 'CH0'}, {'NUTS_ID': 'BE1'}, {'NUTS_ID': 'BE2'}, {'NUTS_ID': 'DE8'}, {'NUTS_ID': 'DE9'}, {'NUTS_ID': 'DEA'}, {'NUTS_ID': 'DE1'}, {'NUTS_ID': 'DE2'}, {'NUTS_ID': 'DE3'}, {'NUTS_ID': 'DE4'}, {'NUTS_ID': 'DE5'}, {'NUTS_ID': 'DE6'}, {'NUTS_ID': 'DE7'}, {'NUTS_ID': 'DEB'}, {'NUTS_ID': 'DEG'}, {'NUTS_ID': 'DK0'}, {'NUTS_ID': 'EE0'}, {'NUTS_ID': 'EL3'}, {'NUTS_ID': 'EL4'}, {'NUTS_ID': 'EL5'}, {'NUTS_ID': 'EL6'}, {'NUTS_ID': 'ES1'}, {'NUTS_ID': 'ES2'}, {'NUTS_ID': 'ES3'}, {'NUTS_ID': 'DEC'}, {'NUTS_ID': 'DED'}, {'NUTS_ID': 'DEE'}, {'NUTS_ID': 'DEF'}, {'NUTS_ID': 'FR6'}, {'NUTS_ID': 'FR7'}, {'NUTS_ID': 'FR8'}, {'NUTS_ID': 'FRA'}, {'NUTS_ID': 'HR0'}, {'NUTS_ID': 'ES4'}, {'NUTS_ID': 'ES5'}, {'NUTS_ID': 'ES6'}, {'NUTS_ID': 'ES7'}, {'NUTS_ID': 'FI1'}, {'NUTS_ID': 'FI2'}, {'NUTS_ID': 'FR1'}, {'NUTS_ID': 'FR2'}, {'NUTS_ID': 'FR3'}, {'NUTS_ID': 'FR4'}, {'NUTS_ID': 'FR5'}, {'NUTS_ID': 'HU1'}, {'NUTS_ID': 'HU2'}, {'NUTS_ID': 'HU3'}, {'NUTS_ID': 'IE0'}, {'NUTS_ID': 'ITF'}, {'NUTS_ID': 'ITG'}, {'NUTS_ID': 'ITH'}, {'NUTS_ID': 'ITI'}, {'NUTS_ID': 'LI0'}, {'NUTS_ID': 'LT0'}, {'NUTS_ID': 'LU0'}, {'NUTS_ID': 'LV0'}, {'NUTS_ID': 'ME0'}, {'NUTS_ID': 'MK0'}, {'NUTS_ID': 'MT0'}, {'NUTS_ID': 'NL1'}, {'NUTS_ID': 'NL2'}, {'NUTS_ID': 'IS0'}, {'NUTS_ID': 'ITC'}, {'NUTS_ID': 'PL5'}, {'NUTS_ID': 'PL6'}, {'NUTS_ID': 'PT1'}, {'NUTS_ID': 'PT2'}, {'NUTS_ID': 'PT3'}, {'NUTS_ID': 'RO1'}, {'NUTS_ID': 'RO2'}, {'NUTS_ID': 'RO3'}, {'NUTS_ID': 'RO4'}, {'NUTS_ID': 'NL3'}, {'NUTS_ID': 'NL4'}, {'NUTS_ID': 'NO0'}, {'NUTS_ID': 'PL1'}, {'NUTS_ID': 'PL2'}, {'NUTS_ID': 'PL3'}, {'NUTS_ID': 'PL4'}, {'NUTS_ID': 'SE1'}, {'NUTS_ID': 'SE2'}, {'NUTS_ID': 'SK0'}, {'NUTS_ID': 'TR1'}, {'NUTS_ID': 'TR2'}, {'NUTS_ID': 'TR3'}, {'NUTS_ID': 'TR4'}, {'NUTS_ID': 'TR5'}, {'NUTS_ID': 'TR6'}, {'NUTS_ID': 'TR7'}, {'NUTS_ID': 'TR8'}, {'NUTS_ID': 'TR9'}, {'NUTS_ID': 'TRA'}, {'NUTS_ID': 'TRB'}, {'NUTS_ID': 'TRC'}, {'NUTS_ID': 'UKC'}, {'NUTS_ID': 'SE3'}, {'NUTS_ID': 'SI0'}, {'NUTS_ID': 'UKD'}, {'NUTS_ID': 'UKE'}, {'NUTS_ID': 'UKF'}, {'NUTS_ID': 'UKG'}, {'NUTS_ID': 'UKH'}, {'NUTS_ID': 'UKI'}, {'NUTS_ID': 'UKJ'}, {'NUTS_ID': 'UKK'}, {'NUTS_ID': 'UKL'}, {'NUTS_ID': 'UKM'}, {'NUTS_ID': 'UKN'}]\n"
     ]
    }
   ],
   "source": [
    "target_key = \"NUTS_ID\"\n",
    "result = find_key_in_json(it_map, target_key)\n",
    "print(result)"
   ]
  },
  {
   "cell_type": "code",
   "execution_count": 39,
   "id": "04817d7b",
   "metadata": {},
   "outputs": [
    {
     "data": {
      "text/plain": [
       "{'type': 'FeatureCollection',\n",
       " 'features': [{'type': 'Feature',\n",
       "   'id': 1090,\n",
       "   'properties': {'NUTS_ID': 'ITF',\n",
       "    'STAT_LEVL_': 1,\n",
       "    'SHAPE_AREA': 7.76554618345,\n",
       "    'SHAPE_LEN': 20.516959983},\n",
       "   'geometry': {'type': 'Polygon',\n",
       "    'coordinates': [[[17.388981, 40.89186349900001],\n",
       "      [18.097453, 40.515377999],\n",
       "      [18.517056, 40.135147999000026],\n",
       "      [18.369068, 39.793742001],\n",
       "      [18.04794750000002, 39.92847849899999],\n",
       "      [17.76350449900002, 40.295507],\n",
       "      [17.127098, 40.51762050000002],\n",
       "      [16.867264, 40.39784549900003],\n",
       "      [16.644317, 40.119095999000024],\n",
       "      [16.52795550000002, 39.66865950099998],\n",
       "      [17.025064499999985, 39.483578498999975],\n",
       "      [17.188881, 39.020471998],\n",
       "      [16.890732, 38.92712849899999],\n",
       "      [16.566985499999987, 38.765481998999974],\n",
       "      [16.5820845, 38.46979049700002],\n",
       "      [16.0638095, 37.924418996999975],\n",
       "      [15.678212, 37.95411949800001],\n",
       "      [15.636063, 38.231473498000014],\n",
       "      [15.652291742999978, 38.247265964],\n",
       "      [15.687350835000018, 38.28138256400001],\n",
       "      [15.918956, 38.50676149899999],\n",
       "      [15.8481175, 38.658864498000014],\n",
       "      [16.2137535, 38.81043999899998],\n",
       "      [16.093153, 39.04874299800002],\n",
       "      [15.75595850000002, 39.923496],\n",
       "      [15.644945499000016, 40.04279049899998],\n",
       "      [15.356917, 39.999090997999986],\n",
       "      [14.787251500000025, 40.66618049800002],\n",
       "      [14.747420499999976, 40.67764649899999],\n",
       "      [14.692414499999984, 40.63406599899997],\n",
       "      [14.528490499999975, 40.607152498],\n",
       "      [14.46862, 40.62020149900002],\n",
       "      [14.324673, 40.56908499899998],\n",
       "      [14.460677499999974, 40.74293050099999],\n",
       "      [14.0321305, 40.898838997999974],\n",
       "      [13.760795499999972, 41.22316799700002],\n",
       "      [13.8737185, 41.338294001],\n",
       "      [13.977928, 41.462454],\n",
       "      [13.941038499, 41.68794399699999],\n",
       "      [13.296299499999975, 41.94858850000003],\n",
       "      [13.0305745, 42.115353],\n",
       "      [13.1913805, 42.587491],\n",
       "      [13.39403149899999, 42.591233999],\n",
       "      [13.3577745, 42.694069997999975],\n",
       "      [13.9157315, 42.894577],\n",
       "      [14.1469065, 42.53059649900001],\n",
       "      [14.253960499000016, 42.444798499],\n",
       "      [14.779646999000022, 42.070021499],\n",
       "      [15.13817849999998, 41.92700749900001],\n",
       "      [16.17653150000001, 41.88478950000001],\n",
       "      [15.89714, 41.603231999],\n",
       "      [16.024738500000012, 41.425590499],\n",
       "      [16.542302499000016, 41.229441],\n",
       "      [17.388981, 40.89186349900001]]]}},\n",
       "  {'type': 'Feature',\n",
       "   'id': 1121,\n",
       "   'properties': {'NUTS_ID': 'ITG',\n",
       "    'STAT_LEVL_': 1,\n",
       "    'SHAPE_AREA': 5.11153895806,\n",
       "    'SHAPE_LEN': 15.5196852972},\n",
       "   'geometry': {'type': 'MultiPolygon',\n",
       "    'coordinates': [[[[15.572551, 38.234204998999985],\n",
       "       [15.2580825, 37.807223997999984],\n",
       "       [15.091499, 37.3577085],\n",
       "       [15.315962500000012, 37.035012498000015],\n",
       "       [15.116582, 36.67495599900002],\n",
       "       [15.000358, 36.70284749799998],\n",
       "       [14.493577, 36.78673349799999],\n",
       "       [14.337594500000023, 37.001979999000014],\n",
       "       [14.036207, 37.10602799899999],\n",
       "       [12.896496, 37.577118498],\n",
       "       [12.672787, 37.56008099899998],\n",
       "       [12.4429295, 37.81105199899997],\n",
       "       [12.561744499999975, 38.06556199800002],\n",
       "       [12.731687, 38.180297499],\n",
       "       [12.811005, 38.08151549799999],\n",
       "       [12.9772625, 38.04020599900002],\n",
       "       [13.36569350000002, 38.18228949899998],\n",
       "       [13.7438295, 37.97024649799999],\n",
       "       [14.183486, 38.01939649899998],\n",
       "       [15.652927, 38.26710399699999],\n",
       "       [15.572551, 38.234204998999985]]],\n",
       "     [[[9.423461998999983, 41.17674100099998],\n",
       "       [9.748871999000016, 40.660406997999985],\n",
       "       [9.8270205, 40.51211249900001],\n",
       "       [9.62652699900002, 40.22487699800001],\n",
       "       [9.7352045, 40.075661998999976],\n",
       "       [9.6511185, 39.54932399799998],\n",
       "       [9.555865, 39.133966997000016],\n",
       "       [9.1099865, 39.214018501],\n",
       "       [8.859653, 38.87746949899997],\n",
       "       [8.612392, 38.957787998000015],\n",
       "       [8.368104499000026, 39.21381050000002],\n",
       "       [8.393, 39.446529499],\n",
       "       [8.5022545, 39.713006999000015],\n",
       "       [8.399809, 40.40756849899998],\n",
       "       [8.135010500000021, 40.73634899899997],\n",
       "       [8.201709, 40.97256649799999],\n",
       "       [8.4171275, 40.83831349899998],\n",
       "       [8.802688499999988, 40.931047998],\n",
       "       [9.163662, 41.23562400100002],\n",
       "       [9.423461998999983, 41.17674100099998]]]]}},\n",
       "  {'type': 'Feature',\n",
       "   'id': 1141,\n",
       "   'properties': {'NUTS_ID': 'ITH',\n",
       "    'STAT_LEVL_': 1,\n",
       "    'SHAPE_AREA': 7.1090756829,\n",
       "    'SHAPE_LEN': 19.5663079898},\n",
       "   'geometry': {'type': 'Polygon',\n",
       "    'coordinates': [[[12.690635, 46.656972000999986],\n",
       "      [12.73139299899998, 46.634288],\n",
       "      [13.504249500000014, 46.56630399800002],\n",
       "      [13.714184999, 46.52270349999998],\n",
       "      [13.684032, 46.437472501],\n",
       "      [13.3754925, 46.29823249899999],\n",
       "      [13.66434750000002, 46.177549999],\n",
       "      [13.496938999, 46.051334999],\n",
       "      [13.597145, 45.81952250099999],\n",
       "      [13.596243, 45.807937501000026],\n",
       "      [13.9186565, 45.63351749899999],\n",
       "      [13.7228235, 45.59472549700001],\n",
       "      [13.579783, 45.786951499],\n",
       "      [13.40649350000001, 45.725175001000025],\n",
       "      [13.130853, 45.771844499999986],\n",
       "      [13.098785501, 45.644532997],\n",
       "      [12.434162500000014, 45.42448599699998],\n",
       "      [12.631836, 45.534338499],\n",
       "      [12.413683999, 45.544310500999984],\n",
       "      [12.132562, 45.300370499999985],\n",
       "      [12.200494, 45.257337],\n",
       "      [12.2045665, 45.19767599800002],\n",
       "      [12.33057150000002, 45.1605505],\n",
       "      [12.328777, 45.151860999],\n",
       "      [12.302155605999985, 45.13788754699999],\n",
       "      [12.279706042999976, 45.123266828],\n",
       "      [12.399056499999972, 44.792615501],\n",
       "      [12.269892, 44.630007497],\n",
       "      [12.384282, 44.224726499999974],\n",
       "      [12.450349, 44.162189496999986],\n",
       "      [12.75078, 43.970601500999976],\n",
       "      [12.669299, 43.823227498999984],\n",
       "      [12.493956, 43.91554650099999],\n",
       "      [12.513435500000014, 43.99126949700002],\n",
       "      [12.4046075, 43.95567850100002],\n",
       "      [12.4177, 43.899029997000014],\n",
       "      [12.2837975, 43.76489899799998],\n",
       "      [12.107464, 43.75375349699999],\n",
       "      [11.98652850000002, 43.76191399800001],\n",
       "      [11.710189, 43.877430498000024],\n",
       "      [11.715906500000017, 44.122540499000024],\n",
       "      [11.524959500000023, 44.157639999000025],\n",
       "      [11.202439500000025, 44.100721],\n",
       "      [11.049449, 44.09022999899997],\n",
       "      [10.814787, 44.11617449900001],\n",
       "      [10.624078, 44.120351501000016],\n",
       "      [10.470149, 44.226041001],\n",
       "      [10.253875, 44.26856699899997],\n",
       "      [10.142054499999972, 44.353852999000026],\n",
       "      [9.686725500000023, 44.36592199900002],\n",
       "      [9.4790595, 44.40924050000001],\n",
       "      [9.493363, 44.555858999],\n",
       "      [9.202995499999986, 44.613476499],\n",
       "      [9.200074, 44.68609949699999],\n",
       "      [9.3246605, 44.69],\n",
       "      [9.548684499999979, 45.13264849900003],\n",
       "      [9.8911015, 45.130898],\n",
       "      [10.083503, 45.04395850100002],\n",
       "      [10.464030499999978, 44.93717150100002],\n",
       "      [10.504344, 44.922417999],\n",
       "      [10.887909499999978, 44.914265999],\n",
       "      [11.246231500000022, 44.951427997],\n",
       "      [11.426765499999988, 44.950076],\n",
       "      [11.205502500000023, 45.10948749900001],\n",
       "      [10.6546555, 45.41582699899999],\n",
       "      [10.631074, 45.60951250099998],\n",
       "      [10.840176499999984, 45.832758501],\n",
       "      [10.502388, 45.830373],\n",
       "      [10.515751500000022, 46.34322449699999],\n",
       "      [10.622145499999988, 46.448101999000016],\n",
       "      [10.452801, 46.53068299900002],\n",
       "      [10.4696515, 46.854909],\n",
       "      [11.02225, 46.765410498999984],\n",
       "      [11.164281500000016, 46.96572250000003],\n",
       "      [11.627199500000017, 47.013299],\n",
       "      [12.136014, 47.0806675],\n",
       "      [12.2407455, 47.069168499],\n",
       "      [12.143811, 46.913779998],\n",
       "      [12.477924, 46.67983549799999],\n",
       "      [12.690635, 46.656972000999986]]]}},\n",
       "  {'type': 'Feature',\n",
       "   'id': 1169,\n",
       "   'properties': {'NUTS_ID': 'ITI',\n",
       "    'STAT_LEVL_': 1,\n",
       "    'SHAPE_AREA': 6.33140759553,\n",
       "    'SHAPE_LEN': 14.0181138018},\n",
       "   'geometry': {'type': 'Polygon',\n",
       "    'coordinates': [[[12.4177, 43.899029997000014],\n",
       "      [12.493956, 43.91554650099999],\n",
       "      [12.669299, 43.823227498999984],\n",
       "      [12.75078, 43.970601500999976],\n",
       "      [13.172615, 43.75034599899999],\n",
       "      [13.6420965, 43.47414249899998],\n",
       "      [13.742970499000023, 43.29414699900002],\n",
       "      [13.849453, 43.06665949799998],\n",
       "      [13.9157315, 42.894577],\n",
       "      [13.3577745, 42.694069997999975],\n",
       "      [13.39403149899999, 42.591233999],\n",
       "      [13.1913805, 42.587491],\n",
       "      [13.0305745, 42.115353],\n",
       "      [13.296299499999975, 41.94858850000003],\n",
       "      [13.941038499, 41.68794399699999],\n",
       "      [13.977928, 41.462454],\n",
       "      [13.8737185, 41.338294001],\n",
       "      [13.760795499999972, 41.22316799700002],\n",
       "      [13.067982, 41.221979],\n",
       "      [12.7733215, 41.41626399900002],\n",
       "      [11.733844, 42.15805899899999],\n",
       "      [11.449938499999973, 42.37767050100001],\n",
       "      [11.0979815, 42.393149499],\n",
       "      [11.1765795, 42.541544],\n",
       "      [10.7056725, 42.9418645],\n",
       "      [10.499046, 42.93527050099999],\n",
       "      [10.528247498999974, 43.231603999000015],\n",
       "      [10.299847, 43.58192899900001],\n",
       "      [10.258118, 43.81514699899998],\n",
       "      [10.143476, 43.97542049899999],\n",
       "      [10.018769500000019, 44.044535998000015],\n",
       "      [9.686725500000023, 44.36592199900002],\n",
       "      [10.142054499999972, 44.353852999000026],\n",
       "      [10.253875, 44.26856699899997],\n",
       "      [10.470149, 44.226041001],\n",
       "      [10.624078, 44.120351501000016],\n",
       "      [10.814787, 44.11617449900001],\n",
       "      [11.049449, 44.09022999899997],\n",
       "      [11.202439500000025, 44.100721],\n",
       "      [11.524959500000023, 44.157639999000025],\n",
       "      [11.715906500000017, 44.122540499000024],\n",
       "      [11.710189, 43.877430498000024],\n",
       "      [11.98652850000002, 43.76191399800001],\n",
       "      [12.107464, 43.75375349699999],\n",
       "      [12.2837975, 43.76489899799998],\n",
       "      [12.4177, 43.899029997000014]],\n",
       "     [[12.4466885, 41.90174499800003],\n",
       "      [12.458003, 41.90148549899999],\n",
       "      [12.45582, 41.907197499],\n",
       "      [12.4466885, 41.90174499800003]]]}},\n",
       "  {'type': 'Feature',\n",
       "   'id': 1284,\n",
       "   'properties': {'NUTS_ID': 'ITC',\n",
       "    'STAT_LEVL_': 1,\n",
       "    'SHAPE_AREA': 6.68473353585,\n",
       "    'SHAPE_LEN': 17.1356662484},\n",
       "   'geometry': {'type': 'Polygon',\n",
       "    'coordinates': [[[10.452801, 46.53068299900002],\n",
       "      [10.622145499999988, 46.448101999000016],\n",
       "      [10.515751500000022, 46.34322449699999],\n",
       "      [10.502388, 45.830373],\n",
       "      [10.840176499999984, 45.832758501],\n",
       "      [10.631074, 45.60951250099998],\n",
       "      [10.6546555, 45.41582699899999],\n",
       "      [11.205502500000023, 45.10948749900001],\n",
       "      [11.426765499999988, 44.950076],\n",
       "      [11.246231500000022, 44.951427997],\n",
       "      [10.887909499999978, 44.914265999],\n",
       "      [10.504344, 44.922417999],\n",
       "      [10.464030499999978, 44.93717150100002],\n",
       "      [10.083503, 45.04395850100002],\n",
       "      [9.8911015, 45.130898],\n",
       "      [9.548684499999979, 45.13264849900003],\n",
       "      [9.3246605, 44.69],\n",
       "      [9.200074, 44.68609949699999],\n",
       "      [9.202995499999986, 44.613476499],\n",
       "      [9.493363, 44.555858999],\n",
       "      [9.4790595, 44.40924050000001],\n",
       "      [9.686725500000023, 44.36592199900002],\n",
       "      [10.018769500000019, 44.044535998000015],\n",
       "      [9.511344, 44.21667549799997],\n",
       "      [8.63301, 44.379803498],\n",
       "      [8.135350999000025, 43.93894049800002],\n",
       "      [7.529827, 43.784007997],\n",
       "      [7.714236500000027, 44.061513499],\n",
       "      [7.007760500000018, 44.23670049899999],\n",
       "      [6.887428, 44.361287],\n",
       "      [6.948443, 44.654741999],\n",
       "      [7.065755, 44.71346449700002],\n",
       "      [6.630051, 45.10985649999998],\n",
       "      [7.125157, 45.243994498],\n",
       "      [7.104723, 45.46845449900002],\n",
       "      [6.8023685, 45.778562],\n",
       "      [7.044886, 45.92241299900002],\n",
       "      [7.86407650000001, 45.91675049999998],\n",
       "      [7.8771375, 45.926954997999985],\n",
       "      [8.384717, 46.452158499],\n",
       "      [8.713936, 46.097271998999986],\n",
       "      [8.912147, 45.830444999],\n",
       "      [9.088803499999983, 45.89689700100001],\n",
       "      [8.988276499999984, 45.97228249800003],\n",
       "      [9.1593775, 46.169601],\n",
       "      [9.248531500000013, 46.23376800099999],\n",
       "      [9.714149500000019, 46.292708499000014],\n",
       "      [10.2448745, 46.62209199799997],\n",
       "      [10.452801, 46.53068299900002]]]}}]}"
      ]
     },
     "execution_count": 39,
     "metadata": {},
     "output_type": "execute_result"
    }
   ],
   "source": [
    "import json\n",
    "\n",
    "def filter_geojson_by_prefix(geojson_file, prefix):\n",
    "\n",
    "    # Filter features based on the prefix\n",
    "    filtered_features = [feature for feature in geojson_file['features'] if feature['properties']['NUTS_ID'].startswith(prefix)]\n",
    "\n",
    "    # Create a new GeoJSON object with filtered features\n",
    "    filtered_geojson = {\n",
    "        \"type\": \"FeatureCollection\",\n",
    "        \"features\": filtered_features\n",
    "    }\n",
    "\n",
    "    return filtered_geojson\n",
    "\n",
    "# Example usage\n",
    "filtered_geojson = filter_geojson_by_prefix(it_map, 'IT')\n",
    "filtered_geojson"
   ]
  },
  {
   "cell_type": "code",
   "execution_count": 40,
   "id": "c741a633",
   "metadata": {},
   "outputs": [
    {
     "name": "stdout",
     "output_type": "stream",
     "text": [
      "[{'NUTS_ID': 'ITF'}, {'NUTS_ID': 'ITG'}, {'NUTS_ID': 'ITH'}, {'NUTS_ID': 'ITI'}, {'NUTS_ID': 'ITC'}]\n"
     ]
    }
   ],
   "source": [
    "target_key = \"NUTS_ID\"\n",
    "result = find_key_in_json(filtered_geojson, target_key)\n",
    "print(result)"
   ]
  },
  {
   "cell_type": "code",
   "execution_count": 44,
   "id": "f504e7fc",
   "metadata": {},
   "outputs": [],
   "source": [
    "import json\n",
    "\n",
    "def replace_value_in_geojson(geojson_file, key_to_replace, old_value, new_value):\n",
    "\n",
    "    # Iterate through features and replace the value if found\n",
    "    for feature in geojson_file['features']:\n",
    "        if key_to_replace in feature['properties'] and feature['properties'][key_to_replace] == old_value:\n",
    "            feature['properties'][key_to_replace] = new_value\n",
    "\n",
    "# Applying function to replace values to be according to ISTAT division\n",
    "replace_value_in_geojson(filtered_geojson, 'NUTS_ID', 'ITI', 'ITE')\n",
    "replace_value_in_geojson(filtered_geojson, 'NUTS_ID', 'ITH', 'ITD')"
   ]
  },
  {
   "cell_type": "code",
   "execution_count": 45,
   "id": "93767282",
   "metadata": {},
   "outputs": [
    {
     "name": "stdout",
     "output_type": "stream",
     "text": [
      "[{'NUTS_ID': 'ITF'}, {'NUTS_ID': 'ITG'}, {'NUTS_ID': 'ITD'}, {'NUTS_ID': 'ITE'}, {'NUTS_ID': 'ITC'}]\n"
     ]
    }
   ],
   "source": [
    "target_key = \"NUTS_ID\"\n",
    "result = find_key_in_json(filtered_geojson, target_key)\n",
    "print(result)"
   ]
  },
  {
   "cell_type": "code",
   "execution_count": 51,
   "id": "1a3ffc80",
   "metadata": {},
   "outputs": [],
   "source": [
    "state_id_map = {}\n",
    "for feature in it_map ['features']:\n",
    " feature['id'] = feature['properties']['NUTS_ID']\n",
    " state_id_map[feature['properties']['NUTS_ID']] = feature['id']"
   ]
  },
  {
   "cell_type": "code",
   "execution_count": 52,
   "id": "ae3d0a84",
   "metadata": {},
   "outputs": [
    {
     "data": {
      "text/html": [
       "<div>\n",
       "<style scoped>\n",
       "    .dataframe tbody tr th:only-of-type {\n",
       "        vertical-align: middle;\n",
       "    }\n",
       "\n",
       "    .dataframe tbody tr th {\n",
       "        vertical-align: top;\n",
       "    }\n",
       "\n",
       "    .dataframe thead th {\n",
       "        text-align: right;\n",
       "    }\n",
       "</style>\n",
       "<table border=\"1\" class=\"dataframe\">\n",
       "  <thead>\n",
       "    <tr style=\"text-align: right;\">\n",
       "      <th></th>\n",
       "      <th>Territory</th>\n",
       "      <th>Year</th>\n",
       "      <th>Sex</th>\n",
       "      <th>Age</th>\n",
       "      <th>Quantity</th>\n",
       "    </tr>\n",
       "  </thead>\n",
       "  <tbody>\n",
       "    <tr>\n",
       "      <th>1</th>\n",
       "      <td>ITC</td>\n",
       "      <td>2018</td>\n",
       "      <td>TOTAL</td>\n",
       "      <td>TOTAL</td>\n",
       "      <td>1656416</td>\n",
       "    </tr>\n",
       "    <tr>\n",
       "      <th>2</th>\n",
       "      <td>ITCD</td>\n",
       "      <td>2018</td>\n",
       "      <td>TOTAL</td>\n",
       "      <td>TOTAL</td>\n",
       "      <td>2835528</td>\n",
       "    </tr>\n",
       "    <tr>\n",
       "      <th>3</th>\n",
       "      <td>ITD</td>\n",
       "      <td>2018</td>\n",
       "      <td>TOTAL</td>\n",
       "      <td>TOTAL</td>\n",
       "      <td>1179112</td>\n",
       "    </tr>\n",
       "    <tr>\n",
       "      <th>4</th>\n",
       "      <td>ITE</td>\n",
       "      <td>2018</td>\n",
       "      <td>TOTAL</td>\n",
       "      <td>TOTAL</td>\n",
       "      <td>1222811</td>\n",
       "    </tr>\n",
       "    <tr>\n",
       "      <th>5</th>\n",
       "      <td>ITF</td>\n",
       "      <td>2018</td>\n",
       "      <td>TOTAL</td>\n",
       "      <td>TOTAL</td>\n",
       "      <td>592528</td>\n",
       "    </tr>\n",
       "    <tr>\n",
       "      <th>6</th>\n",
       "      <td>ITG</td>\n",
       "      <td>2018</td>\n",
       "      <td>TOTAL</td>\n",
       "      <td>TOTAL</td>\n",
       "      <td>232584</td>\n",
       "    </tr>\n",
       "    <tr>\n",
       "      <th>8</th>\n",
       "      <td>ITC</td>\n",
       "      <td>2019</td>\n",
       "      <td>TOTAL</td>\n",
       "      <td>TOTAL</td>\n",
       "      <td>1687560</td>\n",
       "    </tr>\n",
       "    <tr>\n",
       "      <th>9</th>\n",
       "      <td>ITCD</td>\n",
       "      <td>2019</td>\n",
       "      <td>TOTAL</td>\n",
       "      <td>TOTAL</td>\n",
       "      <td>2900417</td>\n",
       "    </tr>\n",
       "    <tr>\n",
       "      <th>10</th>\n",
       "      <td>ITD</td>\n",
       "      <td>2019</td>\n",
       "      <td>TOTAL</td>\n",
       "      <td>TOTAL</td>\n",
       "      <td>1212857</td>\n",
       "    </tr>\n",
       "    <tr>\n",
       "      <th>11</th>\n",
       "      <td>ITE</td>\n",
       "      <td>2019</td>\n",
       "      <td>TOTAL</td>\n",
       "      <td>TOTAL</td>\n",
       "      <td>1246779</td>\n",
       "    </tr>\n",
       "    <tr>\n",
       "      <th>12</th>\n",
       "      <td>ITF</td>\n",
       "      <td>2019</td>\n",
       "      <td>TOTAL</td>\n",
       "      <td>TOTAL</td>\n",
       "      <td>609173</td>\n",
       "    </tr>\n",
       "    <tr>\n",
       "      <th>13</th>\n",
       "      <td>ITG</td>\n",
       "      <td>2019</td>\n",
       "      <td>TOTAL</td>\n",
       "      <td>TOTAL</td>\n",
       "      <td>239789</td>\n",
       "    </tr>\n",
       "    <tr>\n",
       "      <th>15</th>\n",
       "      <td>ITC</td>\n",
       "      <td>2020</td>\n",
       "      <td>TOTAL</td>\n",
       "      <td>TOTAL</td>\n",
       "      <td>1708639</td>\n",
       "    </tr>\n",
       "    <tr>\n",
       "      <th>16</th>\n",
       "      <td>ITCD</td>\n",
       "      <td>2020</td>\n",
       "      <td>TOTAL</td>\n",
       "      <td>TOTAL</td>\n",
       "      <td>2936602</td>\n",
       "    </tr>\n",
       "    <tr>\n",
       "      <th>17</th>\n",
       "      <td>ITD</td>\n",
       "      <td>2020</td>\n",
       "      <td>TOTAL</td>\n",
       "      <td>TOTAL</td>\n",
       "      <td>1227963</td>\n",
       "    </tr>\n",
       "    <tr>\n",
       "      <th>18</th>\n",
       "      <td>ITE</td>\n",
       "      <td>2020</td>\n",
       "      <td>TOTAL</td>\n",
       "      <td>TOTAL</td>\n",
       "      <td>1250276</td>\n",
       "    </tr>\n",
       "    <tr>\n",
       "      <th>19</th>\n",
       "      <td>ITF</td>\n",
       "      <td>2020</td>\n",
       "      <td>TOTAL</td>\n",
       "      <td>TOTAL</td>\n",
       "      <td>610717</td>\n",
       "    </tr>\n",
       "    <tr>\n",
       "      <th>20</th>\n",
       "      <td>ITG</td>\n",
       "      <td>2020</td>\n",
       "      <td>TOTAL</td>\n",
       "      <td>TOTAL</td>\n",
       "      <td>242042</td>\n",
       "    </tr>\n",
       "    <tr>\n",
       "      <th>22</th>\n",
       "      <td>ITC</td>\n",
       "      <td>2021</td>\n",
       "      <td>TOTAL</td>\n",
       "      <td>TOTAL</td>\n",
       "      <td>1766425</td>\n",
       "    </tr>\n",
       "    <tr>\n",
       "      <th>23</th>\n",
       "      <td>ITCD</td>\n",
       "      <td>2021</td>\n",
       "      <td>TOTAL</td>\n",
       "      <td>TOTAL</td>\n",
       "      <td>3058724</td>\n",
       "    </tr>\n",
       "    <tr>\n",
       "      <th>24</th>\n",
       "      <td>ITD</td>\n",
       "      <td>2021</td>\n",
       "      <td>TOTAL</td>\n",
       "      <td>TOTAL</td>\n",
       "      <td>1292299</td>\n",
       "    </tr>\n",
       "    <tr>\n",
       "      <th>25</th>\n",
       "      <td>ITE</td>\n",
       "      <td>2021</td>\n",
       "      <td>TOTAL</td>\n",
       "      <td>TOTAL</td>\n",
       "      <td>1284499</td>\n",
       "    </tr>\n",
       "    <tr>\n",
       "      <th>26</th>\n",
       "      <td>ITF</td>\n",
       "      <td>2021</td>\n",
       "      <td>TOTAL</td>\n",
       "      <td>TOTAL</td>\n",
       "      <td>593154</td>\n",
       "    </tr>\n",
       "    <tr>\n",
       "      <th>27</th>\n",
       "      <td>ITG</td>\n",
       "      <td>2021</td>\n",
       "      <td>TOTAL</td>\n",
       "      <td>TOTAL</td>\n",
       "      <td>235517</td>\n",
       "    </tr>\n",
       "    <tr>\n",
       "      <th>29</th>\n",
       "      <td>ITC</td>\n",
       "      <td>2022</td>\n",
       "      <td>TOTAL</td>\n",
       "      <td>TOTAL</td>\n",
       "      <td>1720043</td>\n",
       "    </tr>\n",
       "    <tr>\n",
       "      <th>30</th>\n",
       "      <td>ITCD</td>\n",
       "      <td>2022</td>\n",
       "      <td>TOTAL</td>\n",
       "      <td>TOTAL</td>\n",
       "      <td>2973523</td>\n",
       "    </tr>\n",
       "    <tr>\n",
       "      <th>31</th>\n",
       "      <td>ITD</td>\n",
       "      <td>2022</td>\n",
       "      <td>TOTAL</td>\n",
       "      <td>TOTAL</td>\n",
       "      <td>1253480</td>\n",
       "    </tr>\n",
       "    <tr>\n",
       "      <th>32</th>\n",
       "      <td>ITE</td>\n",
       "      <td>2022</td>\n",
       "      <td>TOTAL</td>\n",
       "      <td>TOTAL</td>\n",
       "      <td>1241133</td>\n",
       "    </tr>\n",
       "    <tr>\n",
       "      <th>33</th>\n",
       "      <td>ITF</td>\n",
       "      <td>2022</td>\n",
       "      <td>TOTAL</td>\n",
       "      <td>TOTAL</td>\n",
       "      <td>583055</td>\n",
       "    </tr>\n",
       "    <tr>\n",
       "      <th>34</th>\n",
       "      <td>ITG</td>\n",
       "      <td>2022</td>\n",
       "      <td>TOTAL</td>\n",
       "      <td>TOTAL</td>\n",
       "      <td>233005</td>\n",
       "    </tr>\n",
       "    <tr>\n",
       "      <th>36</th>\n",
       "      <td>ITC</td>\n",
       "      <td>2023</td>\n",
       "      <td>TOTAL</td>\n",
       "      <td>TOTAL</td>\n",
       "      <td>1733946</td>\n",
       "    </tr>\n",
       "    <tr>\n",
       "      <th>37</th>\n",
       "      <td>ITCD</td>\n",
       "      <td>2023</td>\n",
       "      <td>TOTAL</td>\n",
       "      <td>TOTAL</td>\n",
       "      <td>2988537</td>\n",
       "    </tr>\n",
       "    <tr>\n",
       "      <th>38</th>\n",
       "      <td>ITD</td>\n",
       "      <td>2023</td>\n",
       "      <td>TOTAL</td>\n",
       "      <td>TOTAL</td>\n",
       "      <td>1254591</td>\n",
       "    </tr>\n",
       "    <tr>\n",
       "      <th>39</th>\n",
       "      <td>ITE</td>\n",
       "      <td>2023</td>\n",
       "      <td>TOTAL</td>\n",
       "      <td>TOTAL</td>\n",
       "      <td>1238153</td>\n",
       "    </tr>\n",
       "    <tr>\n",
       "      <th>40</th>\n",
       "      <td>ITF</td>\n",
       "      <td>2023</td>\n",
       "      <td>TOTAL</td>\n",
       "      <td>TOTAL</td>\n",
       "      <td>590189</td>\n",
       "    </tr>\n",
       "    <tr>\n",
       "      <th>41</th>\n",
       "      <td>ITG</td>\n",
       "      <td>2023</td>\n",
       "      <td>TOTAL</td>\n",
       "      <td>TOTAL</td>\n",
       "      <td>233378</td>\n",
       "    </tr>\n",
       "  </tbody>\n",
       "</table>\n",
       "</div>"
      ],
      "text/plain": [
       "   Territory  Year    Sex    Age  Quantity\n",
       "1        ITC  2018  TOTAL  TOTAL   1656416\n",
       "2       ITCD  2018  TOTAL  TOTAL   2835528\n",
       "3        ITD  2018  TOTAL  TOTAL   1179112\n",
       "4        ITE  2018  TOTAL  TOTAL   1222811\n",
       "5        ITF  2018  TOTAL  TOTAL    592528\n",
       "6        ITG  2018  TOTAL  TOTAL    232584\n",
       "8        ITC  2019  TOTAL  TOTAL   1687560\n",
       "9       ITCD  2019  TOTAL  TOTAL   2900417\n",
       "10       ITD  2019  TOTAL  TOTAL   1212857\n",
       "11       ITE  2019  TOTAL  TOTAL   1246779\n",
       "12       ITF  2019  TOTAL  TOTAL    609173\n",
       "13       ITG  2019  TOTAL  TOTAL    239789\n",
       "15       ITC  2020  TOTAL  TOTAL   1708639\n",
       "16      ITCD  2020  TOTAL  TOTAL   2936602\n",
       "17       ITD  2020  TOTAL  TOTAL   1227963\n",
       "18       ITE  2020  TOTAL  TOTAL   1250276\n",
       "19       ITF  2020  TOTAL  TOTAL    610717\n",
       "20       ITG  2020  TOTAL  TOTAL    242042\n",
       "22       ITC  2021  TOTAL  TOTAL   1766425\n",
       "23      ITCD  2021  TOTAL  TOTAL   3058724\n",
       "24       ITD  2021  TOTAL  TOTAL   1292299\n",
       "25       ITE  2021  TOTAL  TOTAL   1284499\n",
       "26       ITF  2021  TOTAL  TOTAL    593154\n",
       "27       ITG  2021  TOTAL  TOTAL    235517\n",
       "29       ITC  2022  TOTAL  TOTAL   1720043\n",
       "30      ITCD  2022  TOTAL  TOTAL   2973523\n",
       "31       ITD  2022  TOTAL  TOTAL   1253480\n",
       "32       ITE  2022  TOTAL  TOTAL   1241133\n",
       "33       ITF  2022  TOTAL  TOTAL    583055\n",
       "34       ITG  2022  TOTAL  TOTAL    233005\n",
       "36       ITC  2023  TOTAL  TOTAL   1733946\n",
       "37      ITCD  2023  TOTAL  TOTAL   2988537\n",
       "38       ITD  2023  TOTAL  TOTAL   1254591\n",
       "39       ITE  2023  TOTAL  TOTAL   1238153\n",
       "40       ITF  2023  TOTAL  TOTAL    590189\n",
       "41       ITG  2023  TOTAL  TOTAL    233378"
      ]
     },
     "execution_count": 52,
     "metadata": {},
     "output_type": "execute_result"
    }
   ],
   "source": [
    "df_dist = pd.read_json('https://raw.githubusercontent.com/openaccesstoimmigrants/openaccesstoimmigrants/main/_datasets/Clean/D1(b)/combined_immigrants_distribution.json')\n",
    "\n",
    "df_dist = df_dist[df_dist[\"Territory\"] !=\"IT\"]\n",
    "\n",
    "df_dist"
   ]
  },
  {
   "cell_type": "code",
   "execution_count": 53,
   "id": "192400ac",
   "metadata": {
    "scrolled": true
   },
   "outputs": [
    {
     "data": {
      "application/vnd.plotly.v1+json": {
       "config": {
        "plotlyServerURL": "https://plot.ly"
       },
       "data": [
        {
         "coloraxis": "coloraxis",
         "customdata": [
          [
           1656416
          ],
          [
           2835528
          ],
          [
           1179112
          ],
          [
           1222811
          ],
          [
           592528
          ],
          [
           232584
          ]
         ],
         "geo": "geo",
         "geojson": {
          "features": [
           {
            "geometry": {
             "coordinates": [
              [
               [
                17.388981,
                40.89186349900001
               ],
               [
                18.097453,
                40.515377999
               ],
               [
                18.517056,
                40.135147999000026
               ],
               [
                18.369068,
                39.793742001
               ],
               [
                18.04794750000002,
                39.92847849899999
               ],
               [
                17.76350449900002,
                40.295507
               ],
               [
                17.127098,
                40.51762050000002
               ],
               [
                16.867264,
                40.39784549900003
               ],
               [
                16.644317,
                40.119095999000024
               ],
               [
                16.52795550000002,
                39.66865950099998
               ],
               [
                17.025064499999985,
                39.483578498999975
               ],
               [
                17.188881,
                39.020471998
               ],
               [
                16.890732,
                38.92712849899999
               ],
               [
                16.566985499999987,
                38.765481998999974
               ],
               [
                16.5820845,
                38.46979049700002
               ],
               [
                16.0638095,
                37.924418996999975
               ],
               [
                15.678212,
                37.95411949800001
               ],
               [
                15.636063,
                38.231473498000014
               ],
               [
                15.652291742999978,
                38.247265964
               ],
               [
                15.687350835000018,
                38.28138256400001
               ],
               [
                15.918956,
                38.50676149899999
               ],
               [
                15.8481175,
                38.658864498000014
               ],
               [
                16.2137535,
                38.81043999899998
               ],
               [
                16.093153,
                39.04874299800002
               ],
               [
                15.75595850000002,
                39.923496
               ],
               [
                15.644945499000016,
                40.04279049899998
               ],
               [
                15.356917,
                39.999090997999986
               ],
               [
                14.787251500000025,
                40.66618049800002
               ],
               [
                14.747420499999976,
                40.67764649899999
               ],
               [
                14.692414499999984,
                40.63406599899997
               ],
               [
                14.528490499999975,
                40.607152498
               ],
               [
                14.46862,
                40.62020149900002
               ],
               [
                14.324673,
                40.56908499899998
               ],
               [
                14.460677499999974,
                40.74293050099999
               ],
               [
                14.0321305,
                40.898838997999974
               ],
               [
                13.760795499999972,
                41.22316799700002
               ],
               [
                13.8737185,
                41.338294001
               ],
               [
                13.977928,
                41.462454
               ],
               [
                13.941038499,
                41.68794399699999
               ],
               [
                13.296299499999975,
                41.94858850000003
               ],
               [
                13.0305745,
                42.115353
               ],
               [
                13.1913805,
                42.587491
               ],
               [
                13.39403149899999,
                42.591233999
               ],
               [
                13.3577745,
                42.694069997999975
               ],
               [
                13.9157315,
                42.894577
               ],
               [
                14.1469065,
                42.53059649900001
               ],
               [
                14.253960499000016,
                42.444798499
               ],
               [
                14.779646999000022,
                42.070021499
               ],
               [
                15.13817849999998,
                41.92700749900001
               ],
               [
                16.17653150000001,
                41.88478950000001
               ],
               [
                15.89714,
                41.603231999
               ],
               [
                16.024738500000012,
                41.425590499
               ],
               [
                16.542302499000016,
                41.229441
               ],
               [
                17.388981,
                40.89186349900001
               ]
              ]
             ],
             "type": "Polygon"
            },
            "id": "ITF",
            "properties": {
             "NUTS_ID": "ITF",
             "SHAPE_AREA": 7.76554618345,
             "SHAPE_LEN": 20.516959983,
             "STAT_LEVL_": 1
            },
            "type": "Feature"
           },
           {
            "geometry": {
             "coordinates": [
              [
               [
                [
                 15.572551,
                 38.234204998999985
                ],
                [
                 15.2580825,
                 37.807223997999984
                ],
                [
                 15.091499,
                 37.3577085
                ],
                [
                 15.315962500000012,
                 37.035012498000015
                ],
                [
                 15.116582,
                 36.67495599900002
                ],
                [
                 15.000358,
                 36.70284749799998
                ],
                [
                 14.493577,
                 36.78673349799999
                ],
                [
                 14.337594500000023,
                 37.001979999000014
                ],
                [
                 14.036207,
                 37.10602799899999
                ],
                [
                 12.896496,
                 37.577118498
                ],
                [
                 12.672787,
                 37.56008099899998
                ],
                [
                 12.4429295,
                 37.81105199899997
                ],
                [
                 12.561744499999975,
                 38.06556199800002
                ],
                [
                 12.731687,
                 38.180297499
                ],
                [
                 12.811005,
                 38.08151549799999
                ],
                [
                 12.9772625,
                 38.04020599900002
                ],
                [
                 13.36569350000002,
                 38.18228949899998
                ],
                [
                 13.7438295,
                 37.97024649799999
                ],
                [
                 14.183486,
                 38.01939649899998
                ],
                [
                 15.652927,
                 38.26710399699999
                ],
                [
                 15.572551,
                 38.234204998999985
                ]
               ]
              ],
              [
               [
                [
                 9.423461998999983,
                 41.17674100099998
                ],
                [
                 9.748871999000016,
                 40.660406997999985
                ],
                [
                 9.8270205,
                 40.51211249900001
                ],
                [
                 9.62652699900002,
                 40.22487699800001
                ],
                [
                 9.7352045,
                 40.075661998999976
                ],
                [
                 9.6511185,
                 39.54932399799998
                ],
                [
                 9.555865,
                 39.133966997000016
                ],
                [
                 9.1099865,
                 39.214018501
                ],
                [
                 8.859653,
                 38.87746949899997
                ],
                [
                 8.612392,
                 38.957787998000015
                ],
                [
                 8.368104499000026,
                 39.21381050000002
                ],
                [
                 8.393,
                 39.446529499
                ],
                [
                 8.5022545,
                 39.713006999000015
                ],
                [
                 8.399809,
                 40.40756849899998
                ],
                [
                 8.135010500000021,
                 40.73634899899997
                ],
                [
                 8.201709,
                 40.97256649799999
                ],
                [
                 8.4171275,
                 40.83831349899998
                ],
                [
                 8.802688499999988,
                 40.931047998
                ],
                [
                 9.163662,
                 41.23562400100002
                ],
                [
                 9.423461998999983,
                 41.17674100099998
                ]
               ]
              ]
             ],
             "type": "MultiPolygon"
            },
            "id": "ITG",
            "properties": {
             "NUTS_ID": "ITG",
             "SHAPE_AREA": 5.11153895806,
             "SHAPE_LEN": 15.5196852972,
             "STAT_LEVL_": 1
            },
            "type": "Feature"
           },
           {
            "geometry": {
             "coordinates": [
              [
               [
                12.690635,
                46.656972000999986
               ],
               [
                12.73139299899998,
                46.634288
               ],
               [
                13.504249500000014,
                46.56630399800002
               ],
               [
                13.714184999,
                46.52270349999998
               ],
               [
                13.684032,
                46.437472501
               ],
               [
                13.3754925,
                46.29823249899999
               ],
               [
                13.66434750000002,
                46.177549999
               ],
               [
                13.496938999,
                46.051334999
               ],
               [
                13.597145,
                45.81952250099999
               ],
               [
                13.596243,
                45.807937501000026
               ],
               [
                13.9186565,
                45.63351749899999
               ],
               [
                13.7228235,
                45.59472549700001
               ],
               [
                13.579783,
                45.786951499
               ],
               [
                13.40649350000001,
                45.725175001000025
               ],
               [
                13.130853,
                45.771844499999986
               ],
               [
                13.098785501,
                45.644532997
               ],
               [
                12.434162500000014,
                45.42448599699998
               ],
               [
                12.631836,
                45.534338499
               ],
               [
                12.413683999,
                45.544310500999984
               ],
               [
                12.132562,
                45.300370499999985
               ],
               [
                12.200494,
                45.257337
               ],
               [
                12.2045665,
                45.19767599800002
               ],
               [
                12.33057150000002,
                45.1605505
               ],
               [
                12.328777,
                45.151860999
               ],
               [
                12.302155605999985,
                45.13788754699999
               ],
               [
                12.279706042999976,
                45.123266828
               ],
               [
                12.399056499999972,
                44.792615501
               ],
               [
                12.269892,
                44.630007497
               ],
               [
                12.384282,
                44.224726499999974
               ],
               [
                12.450349,
                44.162189496999986
               ],
               [
                12.75078,
                43.970601500999976
               ],
               [
                12.669299,
                43.823227498999984
               ],
               [
                12.493956,
                43.91554650099999
               ],
               [
                12.513435500000014,
                43.99126949700002
               ],
               [
                12.4046075,
                43.95567850100002
               ],
               [
                12.4177,
                43.899029997000014
               ],
               [
                12.2837975,
                43.76489899799998
               ],
               [
                12.107464,
                43.75375349699999
               ],
               [
                11.98652850000002,
                43.76191399800001
               ],
               [
                11.710189,
                43.877430498000024
               ],
               [
                11.715906500000017,
                44.122540499000024
               ],
               [
                11.524959500000023,
                44.157639999000025
               ],
               [
                11.202439500000025,
                44.100721
               ],
               [
                11.049449,
                44.09022999899997
               ],
               [
                10.814787,
                44.11617449900001
               ],
               [
                10.624078,
                44.120351501000016
               ],
               [
                10.470149,
                44.226041001
               ],
               [
                10.253875,
                44.26856699899997
               ],
               [
                10.142054499999972,
                44.353852999000026
               ],
               [
                9.686725500000023,
                44.36592199900002
               ],
               [
                9.4790595,
                44.40924050000001
               ],
               [
                9.493363,
                44.555858999
               ],
               [
                9.202995499999986,
                44.613476499
               ],
               [
                9.200074,
                44.68609949699999
               ],
               [
                9.3246605,
                44.69
               ],
               [
                9.548684499999979,
                45.13264849900003
               ],
               [
                9.8911015,
                45.130898
               ],
               [
                10.083503,
                45.04395850100002
               ],
               [
                10.464030499999978,
                44.93717150100002
               ],
               [
                10.504344,
                44.922417999
               ],
               [
                10.887909499999978,
                44.914265999
               ],
               [
                11.246231500000022,
                44.951427997
               ],
               [
                11.426765499999988,
                44.950076
               ],
               [
                11.205502500000023,
                45.10948749900001
               ],
               [
                10.6546555,
                45.41582699899999
               ],
               [
                10.631074,
                45.60951250099998
               ],
               [
                10.840176499999984,
                45.832758501
               ],
               [
                10.502388,
                45.830373
               ],
               [
                10.515751500000022,
                46.34322449699999
               ],
               [
                10.622145499999988,
                46.448101999000016
               ],
               [
                10.452801,
                46.53068299900002
               ],
               [
                10.4696515,
                46.854909
               ],
               [
                11.02225,
                46.765410498999984
               ],
               [
                11.164281500000016,
                46.96572250000003
               ],
               [
                11.627199500000017,
                47.013299
               ],
               [
                12.136014,
                47.0806675
               ],
               [
                12.2407455,
                47.069168499
               ],
               [
                12.143811,
                46.913779998
               ],
               [
                12.477924,
                46.67983549799999
               ],
               [
                12.690635,
                46.656972000999986
               ]
              ]
             ],
             "type": "Polygon"
            },
            "id": "ITD",
            "properties": {
             "NUTS_ID": "ITD",
             "SHAPE_AREA": 7.1090756829,
             "SHAPE_LEN": 19.5663079898,
             "STAT_LEVL_": 1
            },
            "type": "Feature"
           },
           {
            "geometry": {
             "coordinates": [
              [
               [
                12.4177,
                43.899029997000014
               ],
               [
                12.493956,
                43.91554650099999
               ],
               [
                12.669299,
                43.823227498999984
               ],
               [
                12.75078,
                43.970601500999976
               ],
               [
                13.172615,
                43.75034599899999
               ],
               [
                13.6420965,
                43.47414249899998
               ],
               [
                13.742970499000023,
                43.29414699900002
               ],
               [
                13.849453,
                43.06665949799998
               ],
               [
                13.9157315,
                42.894577
               ],
               [
                13.3577745,
                42.694069997999975
               ],
               [
                13.39403149899999,
                42.591233999
               ],
               [
                13.1913805,
                42.587491
               ],
               [
                13.0305745,
                42.115353
               ],
               [
                13.296299499999975,
                41.94858850000003
               ],
               [
                13.941038499,
                41.68794399699999
               ],
               [
                13.977928,
                41.462454
               ],
               [
                13.8737185,
                41.338294001
               ],
               [
                13.760795499999972,
                41.22316799700002
               ],
               [
                13.067982,
                41.221979
               ],
               [
                12.7733215,
                41.41626399900002
               ],
               [
                11.733844,
                42.15805899899999
               ],
               [
                11.449938499999973,
                42.37767050100001
               ],
               [
                11.0979815,
                42.393149499
               ],
               [
                11.1765795,
                42.541544
               ],
               [
                10.7056725,
                42.9418645
               ],
               [
                10.499046,
                42.93527050099999
               ],
               [
                10.528247498999974,
                43.231603999000015
               ],
               [
                10.299847,
                43.58192899900001
               ],
               [
                10.258118,
                43.81514699899998
               ],
               [
                10.143476,
                43.97542049899999
               ],
               [
                10.018769500000019,
                44.044535998000015
               ],
               [
                9.686725500000023,
                44.36592199900002
               ],
               [
                10.142054499999972,
                44.353852999000026
               ],
               [
                10.253875,
                44.26856699899997
               ],
               [
                10.470149,
                44.226041001
               ],
               [
                10.624078,
                44.120351501000016
               ],
               [
                10.814787,
                44.11617449900001
               ],
               [
                11.049449,
                44.09022999899997
               ],
               [
                11.202439500000025,
                44.100721
               ],
               [
                11.524959500000023,
                44.157639999000025
               ],
               [
                11.715906500000017,
                44.122540499000024
               ],
               [
                11.710189,
                43.877430498000024
               ],
               [
                11.98652850000002,
                43.76191399800001
               ],
               [
                12.107464,
                43.75375349699999
               ],
               [
                12.2837975,
                43.76489899799998
               ],
               [
                12.4177,
                43.899029997000014
               ]
              ],
              [
               [
                12.4466885,
                41.90174499800003
               ],
               [
                12.458003,
                41.90148549899999
               ],
               [
                12.45582,
                41.907197499
               ],
               [
                12.4466885,
                41.90174499800003
               ]
              ]
             ],
             "type": "Polygon"
            },
            "id": "ITE",
            "properties": {
             "NUTS_ID": "ITE",
             "SHAPE_AREA": 6.33140759553,
             "SHAPE_LEN": 14.0181138018,
             "STAT_LEVL_": 1
            },
            "type": "Feature"
           },
           {
            "geometry": {
             "coordinates": [
              [
               [
                10.452801,
                46.53068299900002
               ],
               [
                10.622145499999988,
                46.448101999000016
               ],
               [
                10.515751500000022,
                46.34322449699999
               ],
               [
                10.502388,
                45.830373
               ],
               [
                10.840176499999984,
                45.832758501
               ],
               [
                10.631074,
                45.60951250099998
               ],
               [
                10.6546555,
                45.41582699899999
               ],
               [
                11.205502500000023,
                45.10948749900001
               ],
               [
                11.426765499999988,
                44.950076
               ],
               [
                11.246231500000022,
                44.951427997
               ],
               [
                10.887909499999978,
                44.914265999
               ],
               [
                10.504344,
                44.922417999
               ],
               [
                10.464030499999978,
                44.93717150100002
               ],
               [
                10.083503,
                45.04395850100002
               ],
               [
                9.8911015,
                45.130898
               ],
               [
                9.548684499999979,
                45.13264849900003
               ],
               [
                9.3246605,
                44.69
               ],
               [
                9.200074,
                44.68609949699999
               ],
               [
                9.202995499999986,
                44.613476499
               ],
               [
                9.493363,
                44.555858999
               ],
               [
                9.4790595,
                44.40924050000001
               ],
               [
                9.686725500000023,
                44.36592199900002
               ],
               [
                10.018769500000019,
                44.044535998000015
               ],
               [
                9.511344,
                44.21667549799997
               ],
               [
                8.63301,
                44.379803498
               ],
               [
                8.135350999000025,
                43.93894049800002
               ],
               [
                7.529827,
                43.784007997
               ],
               [
                7.714236500000027,
                44.061513499
               ],
               [
                7.007760500000018,
                44.23670049899999
               ],
               [
                6.887428,
                44.361287
               ],
               [
                6.948443,
                44.654741999
               ],
               [
                7.065755,
                44.71346449700002
               ],
               [
                6.630051,
                45.10985649999998
               ],
               [
                7.125157,
                45.243994498
               ],
               [
                7.104723,
                45.46845449900002
               ],
               [
                6.8023685,
                45.778562
               ],
               [
                7.044886,
                45.92241299900002
               ],
               [
                7.86407650000001,
                45.91675049999998
               ],
               [
                7.8771375,
                45.926954997999985
               ],
               [
                8.384717,
                46.452158499
               ],
               [
                8.713936,
                46.097271998999986
               ],
               [
                8.912147,
                45.830444999
               ],
               [
                9.088803499999983,
                45.89689700100001
               ],
               [
                8.988276499999984,
                45.97228249800003
               ],
               [
                9.1593775,
                46.169601
               ],
               [
                9.248531500000013,
                46.23376800099999
               ],
               [
                9.714149500000019,
                46.292708499000014
               ],
               [
                10.2448745,
                46.62209199799997
               ],
               [
                10.452801,
                46.53068299900002
               ]
              ]
             ],
             "type": "Polygon"
            },
            "id": "ITC",
            "properties": {
             "NUTS_ID": "ITC",
             "SHAPE_AREA": 6.68473353585,
             "SHAPE_LEN": 17.1356662484,
             "STAT_LEVL_": 1
            },
            "type": "Feature"
           }
          ],
          "type": "FeatureCollection"
         },
         "hovertemplate": "<b>%{hovertext}</b><br><br>Year=2018<br>Territory=%{location}<br>Quantity=%{z}<extra></extra>",
         "hovertext": [
          "ITC",
          "ITCD",
          "ITD",
          "ITE",
          "ITF",
          "ITG"
         ],
         "locations": [
          "ITC",
          "ITCD",
          "ITD",
          "ITE",
          "ITF",
          "ITG"
         ],
         "name": "",
         "type": "choropleth",
         "z": [
          1656416,
          2835528,
          1179112,
          1222811,
          592528,
          232584
         ]
        }
       ],
       "frames": [
        {
         "data": [
          {
           "coloraxis": "coloraxis",
           "customdata": [
            [
             1656416
            ],
            [
             2835528
            ],
            [
             1179112
            ],
            [
             1222811
            ],
            [
             592528
            ],
            [
             232584
            ]
           ],
           "geo": "geo",
           "geojson": {
            "features": [
             {
              "geometry": {
               "coordinates": [
                [
                 [
                  17.388981,
                  40.89186349900001
                 ],
                 [
                  18.097453,
                  40.515377999
                 ],
                 [
                  18.517056,
                  40.135147999000026
                 ],
                 [
                  18.369068,
                  39.793742001
                 ],
                 [
                  18.04794750000002,
                  39.92847849899999
                 ],
                 [
                  17.76350449900002,
                  40.295507
                 ],
                 [
                  17.127098,
                  40.51762050000002
                 ],
                 [
                  16.867264,
                  40.39784549900003
                 ],
                 [
                  16.644317,
                  40.119095999000024
                 ],
                 [
                  16.52795550000002,
                  39.66865950099998
                 ],
                 [
                  17.025064499999985,
                  39.483578498999975
                 ],
                 [
                  17.188881,
                  39.020471998
                 ],
                 [
                  16.890732,
                  38.92712849899999
                 ],
                 [
                  16.566985499999987,
                  38.765481998999974
                 ],
                 [
                  16.5820845,
                  38.46979049700002
                 ],
                 [
                  16.0638095,
                  37.924418996999975
                 ],
                 [
                  15.678212,
                  37.95411949800001
                 ],
                 [
                  15.636063,
                  38.231473498000014
                 ],
                 [
                  15.652291742999978,
                  38.247265964
                 ],
                 [
                  15.687350835000018,
                  38.28138256400001
                 ],
                 [
                  15.918956,
                  38.50676149899999
                 ],
                 [
                  15.8481175,
                  38.658864498000014
                 ],
                 [
                  16.2137535,
                  38.81043999899998
                 ],
                 [
                  16.093153,
                  39.04874299800002
                 ],
                 [
                  15.75595850000002,
                  39.923496
                 ],
                 [
                  15.644945499000016,
                  40.04279049899998
                 ],
                 [
                  15.356917,
                  39.999090997999986
                 ],
                 [
                  14.787251500000025,
                  40.66618049800002
                 ],
                 [
                  14.747420499999976,
                  40.67764649899999
                 ],
                 [
                  14.692414499999984,
                  40.63406599899997
                 ],
                 [
                  14.528490499999975,
                  40.607152498
                 ],
                 [
                  14.46862,
                  40.62020149900002
                 ],
                 [
                  14.324673,
                  40.56908499899998
                 ],
                 [
                  14.460677499999974,
                  40.74293050099999
                 ],
                 [
                  14.0321305,
                  40.898838997999974
                 ],
                 [
                  13.760795499999972,
                  41.22316799700002
                 ],
                 [
                  13.8737185,
                  41.338294001
                 ],
                 [
                  13.977928,
                  41.462454
                 ],
                 [
                  13.941038499,
                  41.68794399699999
                 ],
                 [
                  13.296299499999975,
                  41.94858850000003
                 ],
                 [
                  13.0305745,
                  42.115353
                 ],
                 [
                  13.1913805,
                  42.587491
                 ],
                 [
                  13.39403149899999,
                  42.591233999
                 ],
                 [
                  13.3577745,
                  42.694069997999975
                 ],
                 [
                  13.9157315,
                  42.894577
                 ],
                 [
                  14.1469065,
                  42.53059649900001
                 ],
                 [
                  14.253960499000016,
                  42.444798499
                 ],
                 [
                  14.779646999000022,
                  42.070021499
                 ],
                 [
                  15.13817849999998,
                  41.92700749900001
                 ],
                 [
                  16.17653150000001,
                  41.88478950000001
                 ],
                 [
                  15.89714,
                  41.603231999
                 ],
                 [
                  16.024738500000012,
                  41.425590499
                 ],
                 [
                  16.542302499000016,
                  41.229441
                 ],
                 [
                  17.388981,
                  40.89186349900001
                 ]
                ]
               ],
               "type": "Polygon"
              },
              "id": "ITF",
              "properties": {
               "NUTS_ID": "ITF",
               "SHAPE_AREA": 7.76554618345,
               "SHAPE_LEN": 20.516959983,
               "STAT_LEVL_": 1
              },
              "type": "Feature"
             },
             {
              "geometry": {
               "coordinates": [
                [
                 [
                  [
                   15.572551,
                   38.234204998999985
                  ],
                  [
                   15.2580825,
                   37.807223997999984
                  ],
                  [
                   15.091499,
                   37.3577085
                  ],
                  [
                   15.315962500000012,
                   37.035012498000015
                  ],
                  [
                   15.116582,
                   36.67495599900002
                  ],
                  [
                   15.000358,
                   36.70284749799998
                  ],
                  [
                   14.493577,
                   36.78673349799999
                  ],
                  [
                   14.337594500000023,
                   37.001979999000014
                  ],
                  [
                   14.036207,
                   37.10602799899999
                  ],
                  [
                   12.896496,
                   37.577118498
                  ],
                  [
                   12.672787,
                   37.56008099899998
                  ],
                  [
                   12.4429295,
                   37.81105199899997
                  ],
                  [
                   12.561744499999975,
                   38.06556199800002
                  ],
                  [
                   12.731687,
                   38.180297499
                  ],
                  [
                   12.811005,
                   38.08151549799999
                  ],
                  [
                   12.9772625,
                   38.04020599900002
                  ],
                  [
                   13.36569350000002,
                   38.18228949899998
                  ],
                  [
                   13.7438295,
                   37.97024649799999
                  ],
                  [
                   14.183486,
                   38.01939649899998
                  ],
                  [
                   15.652927,
                   38.26710399699999
                  ],
                  [
                   15.572551,
                   38.234204998999985
                  ]
                 ]
                ],
                [
                 [
                  [
                   9.423461998999983,
                   41.17674100099998
                  ],
                  [
                   9.748871999000016,
                   40.660406997999985
                  ],
                  [
                   9.8270205,
                   40.51211249900001
                  ],
                  [
                   9.62652699900002,
                   40.22487699800001
                  ],
                  [
                   9.7352045,
                   40.075661998999976
                  ],
                  [
                   9.6511185,
                   39.54932399799998
                  ],
                  [
                   9.555865,
                   39.133966997000016
                  ],
                  [
                   9.1099865,
                   39.214018501
                  ],
                  [
                   8.859653,
                   38.87746949899997
                  ],
                  [
                   8.612392,
                   38.957787998000015
                  ],
                  [
                   8.368104499000026,
                   39.21381050000002
                  ],
                  [
                   8.393,
                   39.446529499
                  ],
                  [
                   8.5022545,
                   39.713006999000015
                  ],
                  [
                   8.399809,
                   40.40756849899998
                  ],
                  [
                   8.135010500000021,
                   40.73634899899997
                  ],
                  [
                   8.201709,
                   40.97256649799999
                  ],
                  [
                   8.4171275,
                   40.83831349899998
                  ],
                  [
                   8.802688499999988,
                   40.931047998
                  ],
                  [
                   9.163662,
                   41.23562400100002
                  ],
                  [
                   9.423461998999983,
                   41.17674100099998
                  ]
                 ]
                ]
               ],
               "type": "MultiPolygon"
              },
              "id": "ITG",
              "properties": {
               "NUTS_ID": "ITG",
               "SHAPE_AREA": 5.11153895806,
               "SHAPE_LEN": 15.5196852972,
               "STAT_LEVL_": 1
              },
              "type": "Feature"
             },
             {
              "geometry": {
               "coordinates": [
                [
                 [
                  12.690635,
                  46.656972000999986
                 ],
                 [
                  12.73139299899998,
                  46.634288
                 ],
                 [
                  13.504249500000014,
                  46.56630399800002
                 ],
                 [
                  13.714184999,
                  46.52270349999998
                 ],
                 [
                  13.684032,
                  46.437472501
                 ],
                 [
                  13.3754925,
                  46.29823249899999
                 ],
                 [
                  13.66434750000002,
                  46.177549999
                 ],
                 [
                  13.496938999,
                  46.051334999
                 ],
                 [
                  13.597145,
                  45.81952250099999
                 ],
                 [
                  13.596243,
                  45.807937501000026
                 ],
                 [
                  13.9186565,
                  45.63351749899999
                 ],
                 [
                  13.7228235,
                  45.59472549700001
                 ],
                 [
                  13.579783,
                  45.786951499
                 ],
                 [
                  13.40649350000001,
                  45.725175001000025
                 ],
                 [
                  13.130853,
                  45.771844499999986
                 ],
                 [
                  13.098785501,
                  45.644532997
                 ],
                 [
                  12.434162500000014,
                  45.42448599699998
                 ],
                 [
                  12.631836,
                  45.534338499
                 ],
                 [
                  12.413683999,
                  45.544310500999984
                 ],
                 [
                  12.132562,
                  45.300370499999985
                 ],
                 [
                  12.200494,
                  45.257337
                 ],
                 [
                  12.2045665,
                  45.19767599800002
                 ],
                 [
                  12.33057150000002,
                  45.1605505
                 ],
                 [
                  12.328777,
                  45.151860999
                 ],
                 [
                  12.302155605999985,
                  45.13788754699999
                 ],
                 [
                  12.279706042999976,
                  45.123266828
                 ],
                 [
                  12.399056499999972,
                  44.792615501
                 ],
                 [
                  12.269892,
                  44.630007497
                 ],
                 [
                  12.384282,
                  44.224726499999974
                 ],
                 [
                  12.450349,
                  44.162189496999986
                 ],
                 [
                  12.75078,
                  43.970601500999976
                 ],
                 [
                  12.669299,
                  43.823227498999984
                 ],
                 [
                  12.493956,
                  43.91554650099999
                 ],
                 [
                  12.513435500000014,
                  43.99126949700002
                 ],
                 [
                  12.4046075,
                  43.95567850100002
                 ],
                 [
                  12.4177,
                  43.899029997000014
                 ],
                 [
                  12.2837975,
                  43.76489899799998
                 ],
                 [
                  12.107464,
                  43.75375349699999
                 ],
                 [
                  11.98652850000002,
                  43.76191399800001
                 ],
                 [
                  11.710189,
                  43.877430498000024
                 ],
                 [
                  11.715906500000017,
                  44.122540499000024
                 ],
                 [
                  11.524959500000023,
                  44.157639999000025
                 ],
                 [
                  11.202439500000025,
                  44.100721
                 ],
                 [
                  11.049449,
                  44.09022999899997
                 ],
                 [
                  10.814787,
                  44.11617449900001
                 ],
                 [
                  10.624078,
                  44.120351501000016
                 ],
                 [
                  10.470149,
                  44.226041001
                 ],
                 [
                  10.253875,
                  44.26856699899997
                 ],
                 [
                  10.142054499999972,
                  44.353852999000026
                 ],
                 [
                  9.686725500000023,
                  44.36592199900002
                 ],
                 [
                  9.4790595,
                  44.40924050000001
                 ],
                 [
                  9.493363,
                  44.555858999
                 ],
                 [
                  9.202995499999986,
                  44.613476499
                 ],
                 [
                  9.200074,
                  44.68609949699999
                 ],
                 [
                  9.3246605,
                  44.69
                 ],
                 [
                  9.548684499999979,
                  45.13264849900003
                 ],
                 [
                  9.8911015,
                  45.130898
                 ],
                 [
                  10.083503,
                  45.04395850100002
                 ],
                 [
                  10.464030499999978,
                  44.93717150100002
                 ],
                 [
                  10.504344,
                  44.922417999
                 ],
                 [
                  10.887909499999978,
                  44.914265999
                 ],
                 [
                  11.246231500000022,
                  44.951427997
                 ],
                 [
                  11.426765499999988,
                  44.950076
                 ],
                 [
                  11.205502500000023,
                  45.10948749900001
                 ],
                 [
                  10.6546555,
                  45.41582699899999
                 ],
                 [
                  10.631074,
                  45.60951250099998
                 ],
                 [
                  10.840176499999984,
                  45.832758501
                 ],
                 [
                  10.502388,
                  45.830373
                 ],
                 [
                  10.515751500000022,
                  46.34322449699999
                 ],
                 [
                  10.622145499999988,
                  46.448101999000016
                 ],
                 [
                  10.452801,
                  46.53068299900002
                 ],
                 [
                  10.4696515,
                  46.854909
                 ],
                 [
                  11.02225,
                  46.765410498999984
                 ],
                 [
                  11.164281500000016,
                  46.96572250000003
                 ],
                 [
                  11.627199500000017,
                  47.013299
                 ],
                 [
                  12.136014,
                  47.0806675
                 ],
                 [
                  12.2407455,
                  47.069168499
                 ],
                 [
                  12.143811,
                  46.913779998
                 ],
                 [
                  12.477924,
                  46.67983549799999
                 ],
                 [
                  12.690635,
                  46.656972000999986
                 ]
                ]
               ],
               "type": "Polygon"
              },
              "id": "ITD",
              "properties": {
               "NUTS_ID": "ITD",
               "SHAPE_AREA": 7.1090756829,
               "SHAPE_LEN": 19.5663079898,
               "STAT_LEVL_": 1
              },
              "type": "Feature"
             },
             {
              "geometry": {
               "coordinates": [
                [
                 [
                  12.4177,
                  43.899029997000014
                 ],
                 [
                  12.493956,
                  43.91554650099999
                 ],
                 [
                  12.669299,
                  43.823227498999984
                 ],
                 [
                  12.75078,
                  43.970601500999976
                 ],
                 [
                  13.172615,
                  43.75034599899999
                 ],
                 [
                  13.6420965,
                  43.47414249899998
                 ],
                 [
                  13.742970499000023,
                  43.29414699900002
                 ],
                 [
                  13.849453,
                  43.06665949799998
                 ],
                 [
                  13.9157315,
                  42.894577
                 ],
                 [
                  13.3577745,
                  42.694069997999975
                 ],
                 [
                  13.39403149899999,
                  42.591233999
                 ],
                 [
                  13.1913805,
                  42.587491
                 ],
                 [
                  13.0305745,
                  42.115353
                 ],
                 [
                  13.296299499999975,
                  41.94858850000003
                 ],
                 [
                  13.941038499,
                  41.68794399699999
                 ],
                 [
                  13.977928,
                  41.462454
                 ],
                 [
                  13.8737185,
                  41.338294001
                 ],
                 [
                  13.760795499999972,
                  41.22316799700002
                 ],
                 [
                  13.067982,
                  41.221979
                 ],
                 [
                  12.7733215,
                  41.41626399900002
                 ],
                 [
                  11.733844,
                  42.15805899899999
                 ],
                 [
                  11.449938499999973,
                  42.37767050100001
                 ],
                 [
                  11.0979815,
                  42.393149499
                 ],
                 [
                  11.1765795,
                  42.541544
                 ],
                 [
                  10.7056725,
                  42.9418645
                 ],
                 [
                  10.499046,
                  42.93527050099999
                 ],
                 [
                  10.528247498999974,
                  43.231603999000015
                 ],
                 [
                  10.299847,
                  43.58192899900001
                 ],
                 [
                  10.258118,
                  43.81514699899998
                 ],
                 [
                  10.143476,
                  43.97542049899999
                 ],
                 [
                  10.018769500000019,
                  44.044535998000015
                 ],
                 [
                  9.686725500000023,
                  44.36592199900002
                 ],
                 [
                  10.142054499999972,
                  44.353852999000026
                 ],
                 [
                  10.253875,
                  44.26856699899997
                 ],
                 [
                  10.470149,
                  44.226041001
                 ],
                 [
                  10.624078,
                  44.120351501000016
                 ],
                 [
                  10.814787,
                  44.11617449900001
                 ],
                 [
                  11.049449,
                  44.09022999899997
                 ],
                 [
                  11.202439500000025,
                  44.100721
                 ],
                 [
                  11.524959500000023,
                  44.157639999000025
                 ],
                 [
                  11.715906500000017,
                  44.122540499000024
                 ],
                 [
                  11.710189,
                  43.877430498000024
                 ],
                 [
                  11.98652850000002,
                  43.76191399800001
                 ],
                 [
                  12.107464,
                  43.75375349699999
                 ],
                 [
                  12.2837975,
                  43.76489899799998
                 ],
                 [
                  12.4177,
                  43.899029997000014
                 ]
                ],
                [
                 [
                  12.4466885,
                  41.90174499800003
                 ],
                 [
                  12.458003,
                  41.90148549899999
                 ],
                 [
                  12.45582,
                  41.907197499
                 ],
                 [
                  12.4466885,
                  41.90174499800003
                 ]
                ]
               ],
               "type": "Polygon"
              },
              "id": "ITE",
              "properties": {
               "NUTS_ID": "ITE",
               "SHAPE_AREA": 6.33140759553,
               "SHAPE_LEN": 14.0181138018,
               "STAT_LEVL_": 1
              },
              "type": "Feature"
             },
             {
              "geometry": {
               "coordinates": [
                [
                 [
                  10.452801,
                  46.53068299900002
                 ],
                 [
                  10.622145499999988,
                  46.448101999000016
                 ],
                 [
                  10.515751500000022,
                  46.34322449699999
                 ],
                 [
                  10.502388,
                  45.830373
                 ],
                 [
                  10.840176499999984,
                  45.832758501
                 ],
                 [
                  10.631074,
                  45.60951250099998
                 ],
                 [
                  10.6546555,
                  45.41582699899999
                 ],
                 [
                  11.205502500000023,
                  45.10948749900001
                 ],
                 [
                  11.426765499999988,
                  44.950076
                 ],
                 [
                  11.246231500000022,
                  44.951427997
                 ],
                 [
                  10.887909499999978,
                  44.914265999
                 ],
                 [
                  10.504344,
                  44.922417999
                 ],
                 [
                  10.464030499999978,
                  44.93717150100002
                 ],
                 [
                  10.083503,
                  45.04395850100002
                 ],
                 [
                  9.8911015,
                  45.130898
                 ],
                 [
                  9.548684499999979,
                  45.13264849900003
                 ],
                 [
                  9.3246605,
                  44.69
                 ],
                 [
                  9.200074,
                  44.68609949699999
                 ],
                 [
                  9.202995499999986,
                  44.613476499
                 ],
                 [
                  9.493363,
                  44.555858999
                 ],
                 [
                  9.4790595,
                  44.40924050000001
                 ],
                 [
                  9.686725500000023,
                  44.36592199900002
                 ],
                 [
                  10.018769500000019,
                  44.044535998000015
                 ],
                 [
                  9.511344,
                  44.21667549799997
                 ],
                 [
                  8.63301,
                  44.379803498
                 ],
                 [
                  8.135350999000025,
                  43.93894049800002
                 ],
                 [
                  7.529827,
                  43.784007997
                 ],
                 [
                  7.714236500000027,
                  44.061513499
                 ],
                 [
                  7.007760500000018,
                  44.23670049899999
                 ],
                 [
                  6.887428,
                  44.361287
                 ],
                 [
                  6.948443,
                  44.654741999
                 ],
                 [
                  7.065755,
                  44.71346449700002
                 ],
                 [
                  6.630051,
                  45.10985649999998
                 ],
                 [
                  7.125157,
                  45.243994498
                 ],
                 [
                  7.104723,
                  45.46845449900002
                 ],
                 [
                  6.8023685,
                  45.778562
                 ],
                 [
                  7.044886,
                  45.92241299900002
                 ],
                 [
                  7.86407650000001,
                  45.91675049999998
                 ],
                 [
                  7.8771375,
                  45.926954997999985
                 ],
                 [
                  8.384717,
                  46.452158499
                 ],
                 [
                  8.713936,
                  46.097271998999986
                 ],
                 [
                  8.912147,
                  45.830444999
                 ],
                 [
                  9.088803499999983,
                  45.89689700100001
                 ],
                 [
                  8.988276499999984,
                  45.97228249800003
                 ],
                 [
                  9.1593775,
                  46.169601
                 ],
                 [
                  9.248531500000013,
                  46.23376800099999
                 ],
                 [
                  9.714149500000019,
                  46.292708499000014
                 ],
                 [
                  10.2448745,
                  46.62209199799997
                 ],
                 [
                  10.452801,
                  46.53068299900002
                 ]
                ]
               ],
               "type": "Polygon"
              },
              "id": "ITC",
              "properties": {
               "NUTS_ID": "ITC",
               "SHAPE_AREA": 6.68473353585,
               "SHAPE_LEN": 17.1356662484,
               "STAT_LEVL_": 1
              },
              "type": "Feature"
             }
            ],
            "type": "FeatureCollection"
           },
           "hovertemplate": "<b>%{hovertext}</b><br><br>Year=2018<br>Territory=%{location}<br>Quantity=%{z}<extra></extra>",
           "hovertext": [
            "ITC",
            "ITCD",
            "ITD",
            "ITE",
            "ITF",
            "ITG"
           ],
           "locations": [
            "ITC",
            "ITCD",
            "ITD",
            "ITE",
            "ITF",
            "ITG"
           ],
           "name": "",
           "type": "choropleth",
           "z": [
            1656416,
            2835528,
            1179112,
            1222811,
            592528,
            232584
           ]
          }
         ],
         "name": "2018"
        },
        {
         "data": [
          {
           "coloraxis": "coloraxis",
           "customdata": [
            [
             1687560
            ],
            [
             2900417
            ],
            [
             1212857
            ],
            [
             1246779
            ],
            [
             609173
            ],
            [
             239789
            ]
           ],
           "geo": "geo",
           "geojson": {
            "features": [
             {
              "geometry": {
               "coordinates": [
                [
                 [
                  17.388981,
                  40.89186349900001
                 ],
                 [
                  18.097453,
                  40.515377999
                 ],
                 [
                  18.517056,
                  40.135147999000026
                 ],
                 [
                  18.369068,
                  39.793742001
                 ],
                 [
                  18.04794750000002,
                  39.92847849899999
                 ],
                 [
                  17.76350449900002,
                  40.295507
                 ],
                 [
                  17.127098,
                  40.51762050000002
                 ],
                 [
                  16.867264,
                  40.39784549900003
                 ],
                 [
                  16.644317,
                  40.119095999000024
                 ],
                 [
                  16.52795550000002,
                  39.66865950099998
                 ],
                 [
                  17.025064499999985,
                  39.483578498999975
                 ],
                 [
                  17.188881,
                  39.020471998
                 ],
                 [
                  16.890732,
                  38.92712849899999
                 ],
                 [
                  16.566985499999987,
                  38.765481998999974
                 ],
                 [
                  16.5820845,
                  38.46979049700002
                 ],
                 [
                  16.0638095,
                  37.924418996999975
                 ],
                 [
                  15.678212,
                  37.95411949800001
                 ],
                 [
                  15.636063,
                  38.231473498000014
                 ],
                 [
                  15.652291742999978,
                  38.247265964
                 ],
                 [
                  15.687350835000018,
                  38.28138256400001
                 ],
                 [
                  15.918956,
                  38.50676149899999
                 ],
                 [
                  15.8481175,
                  38.658864498000014
                 ],
                 [
                  16.2137535,
                  38.81043999899998
                 ],
                 [
                  16.093153,
                  39.04874299800002
                 ],
                 [
                  15.75595850000002,
                  39.923496
                 ],
                 [
                  15.644945499000016,
                  40.04279049899998
                 ],
                 [
                  15.356917,
                  39.999090997999986
                 ],
                 [
                  14.787251500000025,
                  40.66618049800002
                 ],
                 [
                  14.747420499999976,
                  40.67764649899999
                 ],
                 [
                  14.692414499999984,
                  40.63406599899997
                 ],
                 [
                  14.528490499999975,
                  40.607152498
                 ],
                 [
                  14.46862,
                  40.62020149900002
                 ],
                 [
                  14.324673,
                  40.56908499899998
                 ],
                 [
                  14.460677499999974,
                  40.74293050099999
                 ],
                 [
                  14.0321305,
                  40.898838997999974
                 ],
                 [
                  13.760795499999972,
                  41.22316799700002
                 ],
                 [
                  13.8737185,
                  41.338294001
                 ],
                 [
                  13.977928,
                  41.462454
                 ],
                 [
                  13.941038499,
                  41.68794399699999
                 ],
                 [
                  13.296299499999975,
                  41.94858850000003
                 ],
                 [
                  13.0305745,
                  42.115353
                 ],
                 [
                  13.1913805,
                  42.587491
                 ],
                 [
                  13.39403149899999,
                  42.591233999
                 ],
                 [
                  13.3577745,
                  42.694069997999975
                 ],
                 [
                  13.9157315,
                  42.894577
                 ],
                 [
                  14.1469065,
                  42.53059649900001
                 ],
                 [
                  14.253960499000016,
                  42.444798499
                 ],
                 [
                  14.779646999000022,
                  42.070021499
                 ],
                 [
                  15.13817849999998,
                  41.92700749900001
                 ],
                 [
                  16.17653150000001,
                  41.88478950000001
                 ],
                 [
                  15.89714,
                  41.603231999
                 ],
                 [
                  16.024738500000012,
                  41.425590499
                 ],
                 [
                  16.542302499000016,
                  41.229441
                 ],
                 [
                  17.388981,
                  40.89186349900001
                 ]
                ]
               ],
               "type": "Polygon"
              },
              "id": "ITF",
              "properties": {
               "NUTS_ID": "ITF",
               "SHAPE_AREA": 7.76554618345,
               "SHAPE_LEN": 20.516959983,
               "STAT_LEVL_": 1
              },
              "type": "Feature"
             },
             {
              "geometry": {
               "coordinates": [
                [
                 [
                  [
                   15.572551,
                   38.234204998999985
                  ],
                  [
                   15.2580825,
                   37.807223997999984
                  ],
                  [
                   15.091499,
                   37.3577085
                  ],
                  [
                   15.315962500000012,
                   37.035012498000015
                  ],
                  [
                   15.116582,
                   36.67495599900002
                  ],
                  [
                   15.000358,
                   36.70284749799998
                  ],
                  [
                   14.493577,
                   36.78673349799999
                  ],
                  [
                   14.337594500000023,
                   37.001979999000014
                  ],
                  [
                   14.036207,
                   37.10602799899999
                  ],
                  [
                   12.896496,
                   37.577118498
                  ],
                  [
                   12.672787,
                   37.56008099899998
                  ],
                  [
                   12.4429295,
                   37.81105199899997
                  ],
                  [
                   12.561744499999975,
                   38.06556199800002
                  ],
                  [
                   12.731687,
                   38.180297499
                  ],
                  [
                   12.811005,
                   38.08151549799999
                  ],
                  [
                   12.9772625,
                   38.04020599900002
                  ],
                  [
                   13.36569350000002,
                   38.18228949899998
                  ],
                  [
                   13.7438295,
                   37.97024649799999
                  ],
                  [
                   14.183486,
                   38.01939649899998
                  ],
                  [
                   15.652927,
                   38.26710399699999
                  ],
                  [
                   15.572551,
                   38.234204998999985
                  ]
                 ]
                ],
                [
                 [
                  [
                   9.423461998999983,
                   41.17674100099998
                  ],
                  [
                   9.748871999000016,
                   40.660406997999985
                  ],
                  [
                   9.8270205,
                   40.51211249900001
                  ],
                  [
                   9.62652699900002,
                   40.22487699800001
                  ],
                  [
                   9.7352045,
                   40.075661998999976
                  ],
                  [
                   9.6511185,
                   39.54932399799998
                  ],
                  [
                   9.555865,
                   39.133966997000016
                  ],
                  [
                   9.1099865,
                   39.214018501
                  ],
                  [
                   8.859653,
                   38.87746949899997
                  ],
                  [
                   8.612392,
                   38.957787998000015
                  ],
                  [
                   8.368104499000026,
                   39.21381050000002
                  ],
                  [
                   8.393,
                   39.446529499
                  ],
                  [
                   8.5022545,
                   39.713006999000015
                  ],
                  [
                   8.399809,
                   40.40756849899998
                  ],
                  [
                   8.135010500000021,
                   40.73634899899997
                  ],
                  [
                   8.201709,
                   40.97256649799999
                  ],
                  [
                   8.4171275,
                   40.83831349899998
                  ],
                  [
                   8.802688499999988,
                   40.931047998
                  ],
                  [
                   9.163662,
                   41.23562400100002
                  ],
                  [
                   9.423461998999983,
                   41.17674100099998
                  ]
                 ]
                ]
               ],
               "type": "MultiPolygon"
              },
              "id": "ITG",
              "properties": {
               "NUTS_ID": "ITG",
               "SHAPE_AREA": 5.11153895806,
               "SHAPE_LEN": 15.5196852972,
               "STAT_LEVL_": 1
              },
              "type": "Feature"
             },
             {
              "geometry": {
               "coordinates": [
                [
                 [
                  12.690635,
                  46.656972000999986
                 ],
                 [
                  12.73139299899998,
                  46.634288
                 ],
                 [
                  13.504249500000014,
                  46.56630399800002
                 ],
                 [
                  13.714184999,
                  46.52270349999998
                 ],
                 [
                  13.684032,
                  46.437472501
                 ],
                 [
                  13.3754925,
                  46.29823249899999
                 ],
                 [
                  13.66434750000002,
                  46.177549999
                 ],
                 [
                  13.496938999,
                  46.051334999
                 ],
                 [
                  13.597145,
                  45.81952250099999
                 ],
                 [
                  13.596243,
                  45.807937501000026
                 ],
                 [
                  13.9186565,
                  45.63351749899999
                 ],
                 [
                  13.7228235,
                  45.59472549700001
                 ],
                 [
                  13.579783,
                  45.786951499
                 ],
                 [
                  13.40649350000001,
                  45.725175001000025
                 ],
                 [
                  13.130853,
                  45.771844499999986
                 ],
                 [
                  13.098785501,
                  45.644532997
                 ],
                 [
                  12.434162500000014,
                  45.42448599699998
                 ],
                 [
                  12.631836,
                  45.534338499
                 ],
                 [
                  12.413683999,
                  45.544310500999984
                 ],
                 [
                  12.132562,
                  45.300370499999985
                 ],
                 [
                  12.200494,
                  45.257337
                 ],
                 [
                  12.2045665,
                  45.19767599800002
                 ],
                 [
                  12.33057150000002,
                  45.1605505
                 ],
                 [
                  12.328777,
                  45.151860999
                 ],
                 [
                  12.302155605999985,
                  45.13788754699999
                 ],
                 [
                  12.279706042999976,
                  45.123266828
                 ],
                 [
                  12.399056499999972,
                  44.792615501
                 ],
                 [
                  12.269892,
                  44.630007497
                 ],
                 [
                  12.384282,
                  44.224726499999974
                 ],
                 [
                  12.450349,
                  44.162189496999986
                 ],
                 [
                  12.75078,
                  43.970601500999976
                 ],
                 [
                  12.669299,
                  43.823227498999984
                 ],
                 [
                  12.493956,
                  43.91554650099999
                 ],
                 [
                  12.513435500000014,
                  43.99126949700002
                 ],
                 [
                  12.4046075,
                  43.95567850100002
                 ],
                 [
                  12.4177,
                  43.899029997000014
                 ],
                 [
                  12.2837975,
                  43.76489899799998
                 ],
                 [
                  12.107464,
                  43.75375349699999
                 ],
                 [
                  11.98652850000002,
                  43.76191399800001
                 ],
                 [
                  11.710189,
                  43.877430498000024
                 ],
                 [
                  11.715906500000017,
                  44.122540499000024
                 ],
                 [
                  11.524959500000023,
                  44.157639999000025
                 ],
                 [
                  11.202439500000025,
                  44.100721
                 ],
                 [
                  11.049449,
                  44.09022999899997
                 ],
                 [
                  10.814787,
                  44.11617449900001
                 ],
                 [
                  10.624078,
                  44.120351501000016
                 ],
                 [
                  10.470149,
                  44.226041001
                 ],
                 [
                  10.253875,
                  44.26856699899997
                 ],
                 [
                  10.142054499999972,
                  44.353852999000026
                 ],
                 [
                  9.686725500000023,
                  44.36592199900002
                 ],
                 [
                  9.4790595,
                  44.40924050000001
                 ],
                 [
                  9.493363,
                  44.555858999
                 ],
                 [
                  9.202995499999986,
                  44.613476499
                 ],
                 [
                  9.200074,
                  44.68609949699999
                 ],
                 [
                  9.3246605,
                  44.69
                 ],
                 [
                  9.548684499999979,
                  45.13264849900003
                 ],
                 [
                  9.8911015,
                  45.130898
                 ],
                 [
                  10.083503,
                  45.04395850100002
                 ],
                 [
                  10.464030499999978,
                  44.93717150100002
                 ],
                 [
                  10.504344,
                  44.922417999
                 ],
                 [
                  10.887909499999978,
                  44.914265999
                 ],
                 [
                  11.246231500000022,
                  44.951427997
                 ],
                 [
                  11.426765499999988,
                  44.950076
                 ],
                 [
                  11.205502500000023,
                  45.10948749900001
                 ],
                 [
                  10.6546555,
                  45.41582699899999
                 ],
                 [
                  10.631074,
                  45.60951250099998
                 ],
                 [
                  10.840176499999984,
                  45.832758501
                 ],
                 [
                  10.502388,
                  45.830373
                 ],
                 [
                  10.515751500000022,
                  46.34322449699999
                 ],
                 [
                  10.622145499999988,
                  46.448101999000016
                 ],
                 [
                  10.452801,
                  46.53068299900002
                 ],
                 [
                  10.4696515,
                  46.854909
                 ],
                 [
                  11.02225,
                  46.765410498999984
                 ],
                 [
                  11.164281500000016,
                  46.96572250000003
                 ],
                 [
                  11.627199500000017,
                  47.013299
                 ],
                 [
                  12.136014,
                  47.0806675
                 ],
                 [
                  12.2407455,
                  47.069168499
                 ],
                 [
                  12.143811,
                  46.913779998
                 ],
                 [
                  12.477924,
                  46.67983549799999
                 ],
                 [
                  12.690635,
                  46.656972000999986
                 ]
                ]
               ],
               "type": "Polygon"
              },
              "id": "ITD",
              "properties": {
               "NUTS_ID": "ITD",
               "SHAPE_AREA": 7.1090756829,
               "SHAPE_LEN": 19.5663079898,
               "STAT_LEVL_": 1
              },
              "type": "Feature"
             },
             {
              "geometry": {
               "coordinates": [
                [
                 [
                  12.4177,
                  43.899029997000014
                 ],
                 [
                  12.493956,
                  43.91554650099999
                 ],
                 [
                  12.669299,
                  43.823227498999984
                 ],
                 [
                  12.75078,
                  43.970601500999976
                 ],
                 [
                  13.172615,
                  43.75034599899999
                 ],
                 [
                  13.6420965,
                  43.47414249899998
                 ],
                 [
                  13.742970499000023,
                  43.29414699900002
                 ],
                 [
                  13.849453,
                  43.06665949799998
                 ],
                 [
                  13.9157315,
                  42.894577
                 ],
                 [
                  13.3577745,
                  42.694069997999975
                 ],
                 [
                  13.39403149899999,
                  42.591233999
                 ],
                 [
                  13.1913805,
                  42.587491
                 ],
                 [
                  13.0305745,
                  42.115353
                 ],
                 [
                  13.296299499999975,
                  41.94858850000003
                 ],
                 [
                  13.941038499,
                  41.68794399699999
                 ],
                 [
                  13.977928,
                  41.462454
                 ],
                 [
                  13.8737185,
                  41.338294001
                 ],
                 [
                  13.760795499999972,
                  41.22316799700002
                 ],
                 [
                  13.067982,
                  41.221979
                 ],
                 [
                  12.7733215,
                  41.41626399900002
                 ],
                 [
                  11.733844,
                  42.15805899899999
                 ],
                 [
                  11.449938499999973,
                  42.37767050100001
                 ],
                 [
                  11.0979815,
                  42.393149499
                 ],
                 [
                  11.1765795,
                  42.541544
                 ],
                 [
                  10.7056725,
                  42.9418645
                 ],
                 [
                  10.499046,
                  42.93527050099999
                 ],
                 [
                  10.528247498999974,
                  43.231603999000015
                 ],
                 [
                  10.299847,
                  43.58192899900001
                 ],
                 [
                  10.258118,
                  43.81514699899998
                 ],
                 [
                  10.143476,
                  43.97542049899999
                 ],
                 [
                  10.018769500000019,
                  44.044535998000015
                 ],
                 [
                  9.686725500000023,
                  44.36592199900002
                 ],
                 [
                  10.142054499999972,
                  44.353852999000026
                 ],
                 [
                  10.253875,
                  44.26856699899997
                 ],
                 [
                  10.470149,
                  44.226041001
                 ],
                 [
                  10.624078,
                  44.120351501000016
                 ],
                 [
                  10.814787,
                  44.11617449900001
                 ],
                 [
                  11.049449,
                  44.09022999899997
                 ],
                 [
                  11.202439500000025,
                  44.100721
                 ],
                 [
                  11.524959500000023,
                  44.157639999000025
                 ],
                 [
                  11.715906500000017,
                  44.122540499000024
                 ],
                 [
                  11.710189,
                  43.877430498000024
                 ],
                 [
                  11.98652850000002,
                  43.76191399800001
                 ],
                 [
                  12.107464,
                  43.75375349699999
                 ],
                 [
                  12.2837975,
                  43.76489899799998
                 ],
                 [
                  12.4177,
                  43.899029997000014
                 ]
                ],
                [
                 [
                  12.4466885,
                  41.90174499800003
                 ],
                 [
                  12.458003,
                  41.90148549899999
                 ],
                 [
                  12.45582,
                  41.907197499
                 ],
                 [
                  12.4466885,
                  41.90174499800003
                 ]
                ]
               ],
               "type": "Polygon"
              },
              "id": "ITE",
              "properties": {
               "NUTS_ID": "ITE",
               "SHAPE_AREA": 6.33140759553,
               "SHAPE_LEN": 14.0181138018,
               "STAT_LEVL_": 1
              },
              "type": "Feature"
             },
             {
              "geometry": {
               "coordinates": [
                [
                 [
                  10.452801,
                  46.53068299900002
                 ],
                 [
                  10.622145499999988,
                  46.448101999000016
                 ],
                 [
                  10.515751500000022,
                  46.34322449699999
                 ],
                 [
                  10.502388,
                  45.830373
                 ],
                 [
                  10.840176499999984,
                  45.832758501
                 ],
                 [
                  10.631074,
                  45.60951250099998
                 ],
                 [
                  10.6546555,
                  45.41582699899999
                 ],
                 [
                  11.205502500000023,
                  45.10948749900001
                 ],
                 [
                  11.426765499999988,
                  44.950076
                 ],
                 [
                  11.246231500000022,
                  44.951427997
                 ],
                 [
                  10.887909499999978,
                  44.914265999
                 ],
                 [
                  10.504344,
                  44.922417999
                 ],
                 [
                  10.464030499999978,
                  44.93717150100002
                 ],
                 [
                  10.083503,
                  45.04395850100002
                 ],
                 [
                  9.8911015,
                  45.130898
                 ],
                 [
                  9.548684499999979,
                  45.13264849900003
                 ],
                 [
                  9.3246605,
                  44.69
                 ],
                 [
                  9.200074,
                  44.68609949699999
                 ],
                 [
                  9.202995499999986,
                  44.613476499
                 ],
                 [
                  9.493363,
                  44.555858999
                 ],
                 [
                  9.4790595,
                  44.40924050000001
                 ],
                 [
                  9.686725500000023,
                  44.36592199900002
                 ],
                 [
                  10.018769500000019,
                  44.044535998000015
                 ],
                 [
                  9.511344,
                  44.21667549799997
                 ],
                 [
                  8.63301,
                  44.379803498
                 ],
                 [
                  8.135350999000025,
                  43.93894049800002
                 ],
                 [
                  7.529827,
                  43.784007997
                 ],
                 [
                  7.714236500000027,
                  44.061513499
                 ],
                 [
                  7.007760500000018,
                  44.23670049899999
                 ],
                 [
                  6.887428,
                  44.361287
                 ],
                 [
                  6.948443,
                  44.654741999
                 ],
                 [
                  7.065755,
                  44.71346449700002
                 ],
                 [
                  6.630051,
                  45.10985649999998
                 ],
                 [
                  7.125157,
                  45.243994498
                 ],
                 [
                  7.104723,
                  45.46845449900002
                 ],
                 [
                  6.8023685,
                  45.778562
                 ],
                 [
                  7.044886,
                  45.92241299900002
                 ],
                 [
                  7.86407650000001,
                  45.91675049999998
                 ],
                 [
                  7.8771375,
                  45.926954997999985
                 ],
                 [
                  8.384717,
                  46.452158499
                 ],
                 [
                  8.713936,
                  46.097271998999986
                 ],
                 [
                  8.912147,
                  45.830444999
                 ],
                 [
                  9.088803499999983,
                  45.89689700100001
                 ],
                 [
                  8.988276499999984,
                  45.97228249800003
                 ],
                 [
                  9.1593775,
                  46.169601
                 ],
                 [
                  9.248531500000013,
                  46.23376800099999
                 ],
                 [
                  9.714149500000019,
                  46.292708499000014
                 ],
                 [
                  10.2448745,
                  46.62209199799997
                 ],
                 [
                  10.452801,
                  46.53068299900002
                 ]
                ]
               ],
               "type": "Polygon"
              },
              "id": "ITC",
              "properties": {
               "NUTS_ID": "ITC",
               "SHAPE_AREA": 6.68473353585,
               "SHAPE_LEN": 17.1356662484,
               "STAT_LEVL_": 1
              },
              "type": "Feature"
             }
            ],
            "type": "FeatureCollection"
           },
           "hovertemplate": "<b>%{hovertext}</b><br><br>Year=2019<br>Territory=%{location}<br>Quantity=%{z}<extra></extra>",
           "hovertext": [
            "ITC",
            "ITCD",
            "ITD",
            "ITE",
            "ITF",
            "ITG"
           ],
           "locations": [
            "ITC",
            "ITCD",
            "ITD",
            "ITE",
            "ITF",
            "ITG"
           ],
           "name": "",
           "type": "choropleth",
           "z": [
            1687560,
            2900417,
            1212857,
            1246779,
            609173,
            239789
           ]
          }
         ],
         "name": "2019"
        },
        {
         "data": [
          {
           "coloraxis": "coloraxis",
           "customdata": [
            [
             1708639
            ],
            [
             2936602
            ],
            [
             1227963
            ],
            [
             1250276
            ],
            [
             610717
            ],
            [
             242042
            ]
           ],
           "geo": "geo",
           "geojson": {
            "features": [
             {
              "geometry": {
               "coordinates": [
                [
                 [
                  17.388981,
                  40.89186349900001
                 ],
                 [
                  18.097453,
                  40.515377999
                 ],
                 [
                  18.517056,
                  40.135147999000026
                 ],
                 [
                  18.369068,
                  39.793742001
                 ],
                 [
                  18.04794750000002,
                  39.92847849899999
                 ],
                 [
                  17.76350449900002,
                  40.295507
                 ],
                 [
                  17.127098,
                  40.51762050000002
                 ],
                 [
                  16.867264,
                  40.39784549900003
                 ],
                 [
                  16.644317,
                  40.119095999000024
                 ],
                 [
                  16.52795550000002,
                  39.66865950099998
                 ],
                 [
                  17.025064499999985,
                  39.483578498999975
                 ],
                 [
                  17.188881,
                  39.020471998
                 ],
                 [
                  16.890732,
                  38.92712849899999
                 ],
                 [
                  16.566985499999987,
                  38.765481998999974
                 ],
                 [
                  16.5820845,
                  38.46979049700002
                 ],
                 [
                  16.0638095,
                  37.924418996999975
                 ],
                 [
                  15.678212,
                  37.95411949800001
                 ],
                 [
                  15.636063,
                  38.231473498000014
                 ],
                 [
                  15.652291742999978,
                  38.247265964
                 ],
                 [
                  15.687350835000018,
                  38.28138256400001
                 ],
                 [
                  15.918956,
                  38.50676149899999
                 ],
                 [
                  15.8481175,
                  38.658864498000014
                 ],
                 [
                  16.2137535,
                  38.81043999899998
                 ],
                 [
                  16.093153,
                  39.04874299800002
                 ],
                 [
                  15.75595850000002,
                  39.923496
                 ],
                 [
                  15.644945499000016,
                  40.04279049899998
                 ],
                 [
                  15.356917,
                  39.999090997999986
                 ],
                 [
                  14.787251500000025,
                  40.66618049800002
                 ],
                 [
                  14.747420499999976,
                  40.67764649899999
                 ],
                 [
                  14.692414499999984,
                  40.63406599899997
                 ],
                 [
                  14.528490499999975,
                  40.607152498
                 ],
                 [
                  14.46862,
                  40.62020149900002
                 ],
                 [
                  14.324673,
                  40.56908499899998
                 ],
                 [
                  14.460677499999974,
                  40.74293050099999
                 ],
                 [
                  14.0321305,
                  40.898838997999974
                 ],
                 [
                  13.760795499999972,
                  41.22316799700002
                 ],
                 [
                  13.8737185,
                  41.338294001
                 ],
                 [
                  13.977928,
                  41.462454
                 ],
                 [
                  13.941038499,
                  41.68794399699999
                 ],
                 [
                  13.296299499999975,
                  41.94858850000003
                 ],
                 [
                  13.0305745,
                  42.115353
                 ],
                 [
                  13.1913805,
                  42.587491
                 ],
                 [
                  13.39403149899999,
                  42.591233999
                 ],
                 [
                  13.3577745,
                  42.694069997999975
                 ],
                 [
                  13.9157315,
                  42.894577
                 ],
                 [
                  14.1469065,
                  42.53059649900001
                 ],
                 [
                  14.253960499000016,
                  42.444798499
                 ],
                 [
                  14.779646999000022,
                  42.070021499
                 ],
                 [
                  15.13817849999998,
                  41.92700749900001
                 ],
                 [
                  16.17653150000001,
                  41.88478950000001
                 ],
                 [
                  15.89714,
                  41.603231999
                 ],
                 [
                  16.024738500000012,
                  41.425590499
                 ],
                 [
                  16.542302499000016,
                  41.229441
                 ],
                 [
                  17.388981,
                  40.89186349900001
                 ]
                ]
               ],
               "type": "Polygon"
              },
              "id": "ITF",
              "properties": {
               "NUTS_ID": "ITF",
               "SHAPE_AREA": 7.76554618345,
               "SHAPE_LEN": 20.516959983,
               "STAT_LEVL_": 1
              },
              "type": "Feature"
             },
             {
              "geometry": {
               "coordinates": [
                [
                 [
                  [
                   15.572551,
                   38.234204998999985
                  ],
                  [
                   15.2580825,
                   37.807223997999984
                  ],
                  [
                   15.091499,
                   37.3577085
                  ],
                  [
                   15.315962500000012,
                   37.035012498000015
                  ],
                  [
                   15.116582,
                   36.67495599900002
                  ],
                  [
                   15.000358,
                   36.70284749799998
                  ],
                  [
                   14.493577,
                   36.78673349799999
                  ],
                  [
                   14.337594500000023,
                   37.001979999000014
                  ],
                  [
                   14.036207,
                   37.10602799899999
                  ],
                  [
                   12.896496,
                   37.577118498
                  ],
                  [
                   12.672787,
                   37.56008099899998
                  ],
                  [
                   12.4429295,
                   37.81105199899997
                  ],
                  [
                   12.561744499999975,
                   38.06556199800002
                  ],
                  [
                   12.731687,
                   38.180297499
                  ],
                  [
                   12.811005,
                   38.08151549799999
                  ],
                  [
                   12.9772625,
                   38.04020599900002
                  ],
                  [
                   13.36569350000002,
                   38.18228949899998
                  ],
                  [
                   13.7438295,
                   37.97024649799999
                  ],
                  [
                   14.183486,
                   38.01939649899998
                  ],
                  [
                   15.652927,
                   38.26710399699999
                  ],
                  [
                   15.572551,
                   38.234204998999985
                  ]
                 ]
                ],
                [
                 [
                  [
                   9.423461998999983,
                   41.17674100099998
                  ],
                  [
                   9.748871999000016,
                   40.660406997999985
                  ],
                  [
                   9.8270205,
                   40.51211249900001
                  ],
                  [
                   9.62652699900002,
                   40.22487699800001
                  ],
                  [
                   9.7352045,
                   40.075661998999976
                  ],
                  [
                   9.6511185,
                   39.54932399799998
                  ],
                  [
                   9.555865,
                   39.133966997000016
                  ],
                  [
                   9.1099865,
                   39.214018501
                  ],
                  [
                   8.859653,
                   38.87746949899997
                  ],
                  [
                   8.612392,
                   38.957787998000015
                  ],
                  [
                   8.368104499000026,
                   39.21381050000002
                  ],
                  [
                   8.393,
                   39.446529499
                  ],
                  [
                   8.5022545,
                   39.713006999000015
                  ],
                  [
                   8.399809,
                   40.40756849899998
                  ],
                  [
                   8.135010500000021,
                   40.73634899899997
                  ],
                  [
                   8.201709,
                   40.97256649799999
                  ],
                  [
                   8.4171275,
                   40.83831349899998
                  ],
                  [
                   8.802688499999988,
                   40.931047998
                  ],
                  [
                   9.163662,
                   41.23562400100002
                  ],
                  [
                   9.423461998999983,
                   41.17674100099998
                  ]
                 ]
                ]
               ],
               "type": "MultiPolygon"
              },
              "id": "ITG",
              "properties": {
               "NUTS_ID": "ITG",
               "SHAPE_AREA": 5.11153895806,
               "SHAPE_LEN": 15.5196852972,
               "STAT_LEVL_": 1
              },
              "type": "Feature"
             },
             {
              "geometry": {
               "coordinates": [
                [
                 [
                  12.690635,
                  46.656972000999986
                 ],
                 [
                  12.73139299899998,
                  46.634288
                 ],
                 [
                  13.504249500000014,
                  46.56630399800002
                 ],
                 [
                  13.714184999,
                  46.52270349999998
                 ],
                 [
                  13.684032,
                  46.437472501
                 ],
                 [
                  13.3754925,
                  46.29823249899999
                 ],
                 [
                  13.66434750000002,
                  46.177549999
                 ],
                 [
                  13.496938999,
                  46.051334999
                 ],
                 [
                  13.597145,
                  45.81952250099999
                 ],
                 [
                  13.596243,
                  45.807937501000026
                 ],
                 [
                  13.9186565,
                  45.63351749899999
                 ],
                 [
                  13.7228235,
                  45.59472549700001
                 ],
                 [
                  13.579783,
                  45.786951499
                 ],
                 [
                  13.40649350000001,
                  45.725175001000025
                 ],
                 [
                  13.130853,
                  45.771844499999986
                 ],
                 [
                  13.098785501,
                  45.644532997
                 ],
                 [
                  12.434162500000014,
                  45.42448599699998
                 ],
                 [
                  12.631836,
                  45.534338499
                 ],
                 [
                  12.413683999,
                  45.544310500999984
                 ],
                 [
                  12.132562,
                  45.300370499999985
                 ],
                 [
                  12.200494,
                  45.257337
                 ],
                 [
                  12.2045665,
                  45.19767599800002
                 ],
                 [
                  12.33057150000002,
                  45.1605505
                 ],
                 [
                  12.328777,
                  45.151860999
                 ],
                 [
                  12.302155605999985,
                  45.13788754699999
                 ],
                 [
                  12.279706042999976,
                  45.123266828
                 ],
                 [
                  12.399056499999972,
                  44.792615501
                 ],
                 [
                  12.269892,
                  44.630007497
                 ],
                 [
                  12.384282,
                  44.224726499999974
                 ],
                 [
                  12.450349,
                  44.162189496999986
                 ],
                 [
                  12.75078,
                  43.970601500999976
                 ],
                 [
                  12.669299,
                  43.823227498999984
                 ],
                 [
                  12.493956,
                  43.91554650099999
                 ],
                 [
                  12.513435500000014,
                  43.99126949700002
                 ],
                 [
                  12.4046075,
                  43.95567850100002
                 ],
                 [
                  12.4177,
                  43.899029997000014
                 ],
                 [
                  12.2837975,
                  43.76489899799998
                 ],
                 [
                  12.107464,
                  43.75375349699999
                 ],
                 [
                  11.98652850000002,
                  43.76191399800001
                 ],
                 [
                  11.710189,
                  43.877430498000024
                 ],
                 [
                  11.715906500000017,
                  44.122540499000024
                 ],
                 [
                  11.524959500000023,
                  44.157639999000025
                 ],
                 [
                  11.202439500000025,
                  44.100721
                 ],
                 [
                  11.049449,
                  44.09022999899997
                 ],
                 [
                  10.814787,
                  44.11617449900001
                 ],
                 [
                  10.624078,
                  44.120351501000016
                 ],
                 [
                  10.470149,
                  44.226041001
                 ],
                 [
                  10.253875,
                  44.26856699899997
                 ],
                 [
                  10.142054499999972,
                  44.353852999000026
                 ],
                 [
                  9.686725500000023,
                  44.36592199900002
                 ],
                 [
                  9.4790595,
                  44.40924050000001
                 ],
                 [
                  9.493363,
                  44.555858999
                 ],
                 [
                  9.202995499999986,
                  44.613476499
                 ],
                 [
                  9.200074,
                  44.68609949699999
                 ],
                 [
                  9.3246605,
                  44.69
                 ],
                 [
                  9.548684499999979,
                  45.13264849900003
                 ],
                 [
                  9.8911015,
                  45.130898
                 ],
                 [
                  10.083503,
                  45.04395850100002
                 ],
                 [
                  10.464030499999978,
                  44.93717150100002
                 ],
                 [
                  10.504344,
                  44.922417999
                 ],
                 [
                  10.887909499999978,
                  44.914265999
                 ],
                 [
                  11.246231500000022,
                  44.951427997
                 ],
                 [
                  11.426765499999988,
                  44.950076
                 ],
                 [
                  11.205502500000023,
                  45.10948749900001
                 ],
                 [
                  10.6546555,
                  45.41582699899999
                 ],
                 [
                  10.631074,
                  45.60951250099998
                 ],
                 [
                  10.840176499999984,
                  45.832758501
                 ],
                 [
                  10.502388,
                  45.830373
                 ],
                 [
                  10.515751500000022,
                  46.34322449699999
                 ],
                 [
                  10.622145499999988,
                  46.448101999000016
                 ],
                 [
                  10.452801,
                  46.53068299900002
                 ],
                 [
                  10.4696515,
                  46.854909
                 ],
                 [
                  11.02225,
                  46.765410498999984
                 ],
                 [
                  11.164281500000016,
                  46.96572250000003
                 ],
                 [
                  11.627199500000017,
                  47.013299
                 ],
                 [
                  12.136014,
                  47.0806675
                 ],
                 [
                  12.2407455,
                  47.069168499
                 ],
                 [
                  12.143811,
                  46.913779998
                 ],
                 [
                  12.477924,
                  46.67983549799999
                 ],
                 [
                  12.690635,
                  46.656972000999986
                 ]
                ]
               ],
               "type": "Polygon"
              },
              "id": "ITD",
              "properties": {
               "NUTS_ID": "ITD",
               "SHAPE_AREA": 7.1090756829,
               "SHAPE_LEN": 19.5663079898,
               "STAT_LEVL_": 1
              },
              "type": "Feature"
             },
             {
              "geometry": {
               "coordinates": [
                [
                 [
                  12.4177,
                  43.899029997000014
                 ],
                 [
                  12.493956,
                  43.91554650099999
                 ],
                 [
                  12.669299,
                  43.823227498999984
                 ],
                 [
                  12.75078,
                  43.970601500999976
                 ],
                 [
                  13.172615,
                  43.75034599899999
                 ],
                 [
                  13.6420965,
                  43.47414249899998
                 ],
                 [
                  13.742970499000023,
                  43.29414699900002
                 ],
                 [
                  13.849453,
                  43.06665949799998
                 ],
                 [
                  13.9157315,
                  42.894577
                 ],
                 [
                  13.3577745,
                  42.694069997999975
                 ],
                 [
                  13.39403149899999,
                  42.591233999
                 ],
                 [
                  13.1913805,
                  42.587491
                 ],
                 [
                  13.0305745,
                  42.115353
                 ],
                 [
                  13.296299499999975,
                  41.94858850000003
                 ],
                 [
                  13.941038499,
                  41.68794399699999
                 ],
                 [
                  13.977928,
                  41.462454
                 ],
                 [
                  13.8737185,
                  41.338294001
                 ],
                 [
                  13.760795499999972,
                  41.22316799700002
                 ],
                 [
                  13.067982,
                  41.221979
                 ],
                 [
                  12.7733215,
                  41.41626399900002
                 ],
                 [
                  11.733844,
                  42.15805899899999
                 ],
                 [
                  11.449938499999973,
                  42.37767050100001
                 ],
                 [
                  11.0979815,
                  42.393149499
                 ],
                 [
                  11.1765795,
                  42.541544
                 ],
                 [
                  10.7056725,
                  42.9418645
                 ],
                 [
                  10.499046,
                  42.93527050099999
                 ],
                 [
                  10.528247498999974,
                  43.231603999000015
                 ],
                 [
                  10.299847,
                  43.58192899900001
                 ],
                 [
                  10.258118,
                  43.81514699899998
                 ],
                 [
                  10.143476,
                  43.97542049899999
                 ],
                 [
                  10.018769500000019,
                  44.044535998000015
                 ],
                 [
                  9.686725500000023,
                  44.36592199900002
                 ],
                 [
                  10.142054499999972,
                  44.353852999000026
                 ],
                 [
                  10.253875,
                  44.26856699899997
                 ],
                 [
                  10.470149,
                  44.226041001
                 ],
                 [
                  10.624078,
                  44.120351501000016
                 ],
                 [
                  10.814787,
                  44.11617449900001
                 ],
                 [
                  11.049449,
                  44.09022999899997
                 ],
                 [
                  11.202439500000025,
                  44.100721
                 ],
                 [
                  11.524959500000023,
                  44.157639999000025
                 ],
                 [
                  11.715906500000017,
                  44.122540499000024
                 ],
                 [
                  11.710189,
                  43.877430498000024
                 ],
                 [
                  11.98652850000002,
                  43.76191399800001
                 ],
                 [
                  12.107464,
                  43.75375349699999
                 ],
                 [
                  12.2837975,
                  43.76489899799998
                 ],
                 [
                  12.4177,
                  43.899029997000014
                 ]
                ],
                [
                 [
                  12.4466885,
                  41.90174499800003
                 ],
                 [
                  12.458003,
                  41.90148549899999
                 ],
                 [
                  12.45582,
                  41.907197499
                 ],
                 [
                  12.4466885,
                  41.90174499800003
                 ]
                ]
               ],
               "type": "Polygon"
              },
              "id": "ITE",
              "properties": {
               "NUTS_ID": "ITE",
               "SHAPE_AREA": 6.33140759553,
               "SHAPE_LEN": 14.0181138018,
               "STAT_LEVL_": 1
              },
              "type": "Feature"
             },
             {
              "geometry": {
               "coordinates": [
                [
                 [
                  10.452801,
                  46.53068299900002
                 ],
                 [
                  10.622145499999988,
                  46.448101999000016
                 ],
                 [
                  10.515751500000022,
                  46.34322449699999
                 ],
                 [
                  10.502388,
                  45.830373
                 ],
                 [
                  10.840176499999984,
                  45.832758501
                 ],
                 [
                  10.631074,
                  45.60951250099998
                 ],
                 [
                  10.6546555,
                  45.41582699899999
                 ],
                 [
                  11.205502500000023,
                  45.10948749900001
                 ],
                 [
                  11.426765499999988,
                  44.950076
                 ],
                 [
                  11.246231500000022,
                  44.951427997
                 ],
                 [
                  10.887909499999978,
                  44.914265999
                 ],
                 [
                  10.504344,
                  44.922417999
                 ],
                 [
                  10.464030499999978,
                  44.93717150100002
                 ],
                 [
                  10.083503,
                  45.04395850100002
                 ],
                 [
                  9.8911015,
                  45.130898
                 ],
                 [
                  9.548684499999979,
                  45.13264849900003
                 ],
                 [
                  9.3246605,
                  44.69
                 ],
                 [
                  9.200074,
                  44.68609949699999
                 ],
                 [
                  9.202995499999986,
                  44.613476499
                 ],
                 [
                  9.493363,
                  44.555858999
                 ],
                 [
                  9.4790595,
                  44.40924050000001
                 ],
                 [
                  9.686725500000023,
                  44.36592199900002
                 ],
                 [
                  10.018769500000019,
                  44.044535998000015
                 ],
                 [
                  9.511344,
                  44.21667549799997
                 ],
                 [
                  8.63301,
                  44.379803498
                 ],
                 [
                  8.135350999000025,
                  43.93894049800002
                 ],
                 [
                  7.529827,
                  43.784007997
                 ],
                 [
                  7.714236500000027,
                  44.061513499
                 ],
                 [
                  7.007760500000018,
                  44.23670049899999
                 ],
                 [
                  6.887428,
                  44.361287
                 ],
                 [
                  6.948443,
                  44.654741999
                 ],
                 [
                  7.065755,
                  44.71346449700002
                 ],
                 [
                  6.630051,
                  45.10985649999998
                 ],
                 [
                  7.125157,
                  45.243994498
                 ],
                 [
                  7.104723,
                  45.46845449900002
                 ],
                 [
                  6.8023685,
                  45.778562
                 ],
                 [
                  7.044886,
                  45.92241299900002
                 ],
                 [
                  7.86407650000001,
                  45.91675049999998
                 ],
                 [
                  7.8771375,
                  45.926954997999985
                 ],
                 [
                  8.384717,
                  46.452158499
                 ],
                 [
                  8.713936,
                  46.097271998999986
                 ],
                 [
                  8.912147,
                  45.830444999
                 ],
                 [
                  9.088803499999983,
                  45.89689700100001
                 ],
                 [
                  8.988276499999984,
                  45.97228249800003
                 ],
                 [
                  9.1593775,
                  46.169601
                 ],
                 [
                  9.248531500000013,
                  46.23376800099999
                 ],
                 [
                  9.714149500000019,
                  46.292708499000014
                 ],
                 [
                  10.2448745,
                  46.62209199799997
                 ],
                 [
                  10.452801,
                  46.53068299900002
                 ]
                ]
               ],
               "type": "Polygon"
              },
              "id": "ITC",
              "properties": {
               "NUTS_ID": "ITC",
               "SHAPE_AREA": 6.68473353585,
               "SHAPE_LEN": 17.1356662484,
               "STAT_LEVL_": 1
              },
              "type": "Feature"
             }
            ],
            "type": "FeatureCollection"
           },
           "hovertemplate": "<b>%{hovertext}</b><br><br>Year=2020<br>Territory=%{location}<br>Quantity=%{z}<extra></extra>",
           "hovertext": [
            "ITC",
            "ITCD",
            "ITD",
            "ITE",
            "ITF",
            "ITG"
           ],
           "locations": [
            "ITC",
            "ITCD",
            "ITD",
            "ITE",
            "ITF",
            "ITG"
           ],
           "name": "",
           "type": "choropleth",
           "z": [
            1708639,
            2936602,
            1227963,
            1250276,
            610717,
            242042
           ]
          }
         ],
         "name": "2020"
        },
        {
         "data": [
          {
           "coloraxis": "coloraxis",
           "customdata": [
            [
             1766425
            ],
            [
             3058724
            ],
            [
             1292299
            ],
            [
             1284499
            ],
            [
             593154
            ],
            [
             235517
            ]
           ],
           "geo": "geo",
           "geojson": {
            "features": [
             {
              "geometry": {
               "coordinates": [
                [
                 [
                  17.388981,
                  40.89186349900001
                 ],
                 [
                  18.097453,
                  40.515377999
                 ],
                 [
                  18.517056,
                  40.135147999000026
                 ],
                 [
                  18.369068,
                  39.793742001
                 ],
                 [
                  18.04794750000002,
                  39.92847849899999
                 ],
                 [
                  17.76350449900002,
                  40.295507
                 ],
                 [
                  17.127098,
                  40.51762050000002
                 ],
                 [
                  16.867264,
                  40.39784549900003
                 ],
                 [
                  16.644317,
                  40.119095999000024
                 ],
                 [
                  16.52795550000002,
                  39.66865950099998
                 ],
                 [
                  17.025064499999985,
                  39.483578498999975
                 ],
                 [
                  17.188881,
                  39.020471998
                 ],
                 [
                  16.890732,
                  38.92712849899999
                 ],
                 [
                  16.566985499999987,
                  38.765481998999974
                 ],
                 [
                  16.5820845,
                  38.46979049700002
                 ],
                 [
                  16.0638095,
                  37.924418996999975
                 ],
                 [
                  15.678212,
                  37.95411949800001
                 ],
                 [
                  15.636063,
                  38.231473498000014
                 ],
                 [
                  15.652291742999978,
                  38.247265964
                 ],
                 [
                  15.687350835000018,
                  38.28138256400001
                 ],
                 [
                  15.918956,
                  38.50676149899999
                 ],
                 [
                  15.8481175,
                  38.658864498000014
                 ],
                 [
                  16.2137535,
                  38.81043999899998
                 ],
                 [
                  16.093153,
                  39.04874299800002
                 ],
                 [
                  15.75595850000002,
                  39.923496
                 ],
                 [
                  15.644945499000016,
                  40.04279049899998
                 ],
                 [
                  15.356917,
                  39.999090997999986
                 ],
                 [
                  14.787251500000025,
                  40.66618049800002
                 ],
                 [
                  14.747420499999976,
                  40.67764649899999
                 ],
                 [
                  14.692414499999984,
                  40.63406599899997
                 ],
                 [
                  14.528490499999975,
                  40.607152498
                 ],
                 [
                  14.46862,
                  40.62020149900002
                 ],
                 [
                  14.324673,
                  40.56908499899998
                 ],
                 [
                  14.460677499999974,
                  40.74293050099999
                 ],
                 [
                  14.0321305,
                  40.898838997999974
                 ],
                 [
                  13.760795499999972,
                  41.22316799700002
                 ],
                 [
                  13.8737185,
                  41.338294001
                 ],
                 [
                  13.977928,
                  41.462454
                 ],
                 [
                  13.941038499,
                  41.68794399699999
                 ],
                 [
                  13.296299499999975,
                  41.94858850000003
                 ],
                 [
                  13.0305745,
                  42.115353
                 ],
                 [
                  13.1913805,
                  42.587491
                 ],
                 [
                  13.39403149899999,
                  42.591233999
                 ],
                 [
                  13.3577745,
                  42.694069997999975
                 ],
                 [
                  13.9157315,
                  42.894577
                 ],
                 [
                  14.1469065,
                  42.53059649900001
                 ],
                 [
                  14.253960499000016,
                  42.444798499
                 ],
                 [
                  14.779646999000022,
                  42.070021499
                 ],
                 [
                  15.13817849999998,
                  41.92700749900001
                 ],
                 [
                  16.17653150000001,
                  41.88478950000001
                 ],
                 [
                  15.89714,
                  41.603231999
                 ],
                 [
                  16.024738500000012,
                  41.425590499
                 ],
                 [
                  16.542302499000016,
                  41.229441
                 ],
                 [
                  17.388981,
                  40.89186349900001
                 ]
                ]
               ],
               "type": "Polygon"
              },
              "id": "ITF",
              "properties": {
               "NUTS_ID": "ITF",
               "SHAPE_AREA": 7.76554618345,
               "SHAPE_LEN": 20.516959983,
               "STAT_LEVL_": 1
              },
              "type": "Feature"
             },
             {
              "geometry": {
               "coordinates": [
                [
                 [
                  [
                   15.572551,
                   38.234204998999985
                  ],
                  [
                   15.2580825,
                   37.807223997999984
                  ],
                  [
                   15.091499,
                   37.3577085
                  ],
                  [
                   15.315962500000012,
                   37.035012498000015
                  ],
                  [
                   15.116582,
                   36.67495599900002
                  ],
                  [
                   15.000358,
                   36.70284749799998
                  ],
                  [
                   14.493577,
                   36.78673349799999
                  ],
                  [
                   14.337594500000023,
                   37.001979999000014
                  ],
                  [
                   14.036207,
                   37.10602799899999
                  ],
                  [
                   12.896496,
                   37.577118498
                  ],
                  [
                   12.672787,
                   37.56008099899998
                  ],
                  [
                   12.4429295,
                   37.81105199899997
                  ],
                  [
                   12.561744499999975,
                   38.06556199800002
                  ],
                  [
                   12.731687,
                   38.180297499
                  ],
                  [
                   12.811005,
                   38.08151549799999
                  ],
                  [
                   12.9772625,
                   38.04020599900002
                  ],
                  [
                   13.36569350000002,
                   38.18228949899998
                  ],
                  [
                   13.7438295,
                   37.97024649799999
                  ],
                  [
                   14.183486,
                   38.01939649899998
                  ],
                  [
                   15.652927,
                   38.26710399699999
                  ],
                  [
                   15.572551,
                   38.234204998999985
                  ]
                 ]
                ],
                [
                 [
                  [
                   9.423461998999983,
                   41.17674100099998
                  ],
                  [
                   9.748871999000016,
                   40.660406997999985
                  ],
                  [
                   9.8270205,
                   40.51211249900001
                  ],
                  [
                   9.62652699900002,
                   40.22487699800001
                  ],
                  [
                   9.7352045,
                   40.075661998999976
                  ],
                  [
                   9.6511185,
                   39.54932399799998
                  ],
                  [
                   9.555865,
                   39.133966997000016
                  ],
                  [
                   9.1099865,
                   39.214018501
                  ],
                  [
                   8.859653,
                   38.87746949899997
                  ],
                  [
                   8.612392,
                   38.957787998000015
                  ],
                  [
                   8.368104499000026,
                   39.21381050000002
                  ],
                  [
                   8.393,
                   39.446529499
                  ],
                  [
                   8.5022545,
                   39.713006999000015
                  ],
                  [
                   8.399809,
                   40.40756849899998
                  ],
                  [
                   8.135010500000021,
                   40.73634899899997
                  ],
                  [
                   8.201709,
                   40.97256649799999
                  ],
                  [
                   8.4171275,
                   40.83831349899998
                  ],
                  [
                   8.802688499999988,
                   40.931047998
                  ],
                  [
                   9.163662,
                   41.23562400100002
                  ],
                  [
                   9.423461998999983,
                   41.17674100099998
                  ]
                 ]
                ]
               ],
               "type": "MultiPolygon"
              },
              "id": "ITG",
              "properties": {
               "NUTS_ID": "ITG",
               "SHAPE_AREA": 5.11153895806,
               "SHAPE_LEN": 15.5196852972,
               "STAT_LEVL_": 1
              },
              "type": "Feature"
             },
             {
              "geometry": {
               "coordinates": [
                [
                 [
                  12.690635,
                  46.656972000999986
                 ],
                 [
                  12.73139299899998,
                  46.634288
                 ],
                 [
                  13.504249500000014,
                  46.56630399800002
                 ],
                 [
                  13.714184999,
                  46.52270349999998
                 ],
                 [
                  13.684032,
                  46.437472501
                 ],
                 [
                  13.3754925,
                  46.29823249899999
                 ],
                 [
                  13.66434750000002,
                  46.177549999
                 ],
                 [
                  13.496938999,
                  46.051334999
                 ],
                 [
                  13.597145,
                  45.81952250099999
                 ],
                 [
                  13.596243,
                  45.807937501000026
                 ],
                 [
                  13.9186565,
                  45.63351749899999
                 ],
                 [
                  13.7228235,
                  45.59472549700001
                 ],
                 [
                  13.579783,
                  45.786951499
                 ],
                 [
                  13.40649350000001,
                  45.725175001000025
                 ],
                 [
                  13.130853,
                  45.771844499999986
                 ],
                 [
                  13.098785501,
                  45.644532997
                 ],
                 [
                  12.434162500000014,
                  45.42448599699998
                 ],
                 [
                  12.631836,
                  45.534338499
                 ],
                 [
                  12.413683999,
                  45.544310500999984
                 ],
                 [
                  12.132562,
                  45.300370499999985
                 ],
                 [
                  12.200494,
                  45.257337
                 ],
                 [
                  12.2045665,
                  45.19767599800002
                 ],
                 [
                  12.33057150000002,
                  45.1605505
                 ],
                 [
                  12.328777,
                  45.151860999
                 ],
                 [
                  12.302155605999985,
                  45.13788754699999
                 ],
                 [
                  12.279706042999976,
                  45.123266828
                 ],
                 [
                  12.399056499999972,
                  44.792615501
                 ],
                 [
                  12.269892,
                  44.630007497
                 ],
                 [
                  12.384282,
                  44.224726499999974
                 ],
                 [
                  12.450349,
                  44.162189496999986
                 ],
                 [
                  12.75078,
                  43.970601500999976
                 ],
                 [
                  12.669299,
                  43.823227498999984
                 ],
                 [
                  12.493956,
                  43.91554650099999
                 ],
                 [
                  12.513435500000014,
                  43.99126949700002
                 ],
                 [
                  12.4046075,
                  43.95567850100002
                 ],
                 [
                  12.4177,
                  43.899029997000014
                 ],
                 [
                  12.2837975,
                  43.76489899799998
                 ],
                 [
                  12.107464,
                  43.75375349699999
                 ],
                 [
                  11.98652850000002,
                  43.76191399800001
                 ],
                 [
                  11.710189,
                  43.877430498000024
                 ],
                 [
                  11.715906500000017,
                  44.122540499000024
                 ],
                 [
                  11.524959500000023,
                  44.157639999000025
                 ],
                 [
                  11.202439500000025,
                  44.100721
                 ],
                 [
                  11.049449,
                  44.09022999899997
                 ],
                 [
                  10.814787,
                  44.11617449900001
                 ],
                 [
                  10.624078,
                  44.120351501000016
                 ],
                 [
                  10.470149,
                  44.226041001
                 ],
                 [
                  10.253875,
                  44.26856699899997
                 ],
                 [
                  10.142054499999972,
                  44.353852999000026
                 ],
                 [
                  9.686725500000023,
                  44.36592199900002
                 ],
                 [
                  9.4790595,
                  44.40924050000001
                 ],
                 [
                  9.493363,
                  44.555858999
                 ],
                 [
                  9.202995499999986,
                  44.613476499
                 ],
                 [
                  9.200074,
                  44.68609949699999
                 ],
                 [
                  9.3246605,
                  44.69
                 ],
                 [
                  9.548684499999979,
                  45.13264849900003
                 ],
                 [
                  9.8911015,
                  45.130898
                 ],
                 [
                  10.083503,
                  45.04395850100002
                 ],
                 [
                  10.464030499999978,
                  44.93717150100002
                 ],
                 [
                  10.504344,
                  44.922417999
                 ],
                 [
                  10.887909499999978,
                  44.914265999
                 ],
                 [
                  11.246231500000022,
                  44.951427997
                 ],
                 [
                  11.426765499999988,
                  44.950076
                 ],
                 [
                  11.205502500000023,
                  45.10948749900001
                 ],
                 [
                  10.6546555,
                  45.41582699899999
                 ],
                 [
                  10.631074,
                  45.60951250099998
                 ],
                 [
                  10.840176499999984,
                  45.832758501
                 ],
                 [
                  10.502388,
                  45.830373
                 ],
                 [
                  10.515751500000022,
                  46.34322449699999
                 ],
                 [
                  10.622145499999988,
                  46.448101999000016
                 ],
                 [
                  10.452801,
                  46.53068299900002
                 ],
                 [
                  10.4696515,
                  46.854909
                 ],
                 [
                  11.02225,
                  46.765410498999984
                 ],
                 [
                  11.164281500000016,
                  46.96572250000003
                 ],
                 [
                  11.627199500000017,
                  47.013299
                 ],
                 [
                  12.136014,
                  47.0806675
                 ],
                 [
                  12.2407455,
                  47.069168499
                 ],
                 [
                  12.143811,
                  46.913779998
                 ],
                 [
                  12.477924,
                  46.67983549799999
                 ],
                 [
                  12.690635,
                  46.656972000999986
                 ]
                ]
               ],
               "type": "Polygon"
              },
              "id": "ITD",
              "properties": {
               "NUTS_ID": "ITD",
               "SHAPE_AREA": 7.1090756829,
               "SHAPE_LEN": 19.5663079898,
               "STAT_LEVL_": 1
              },
              "type": "Feature"
             },
             {
              "geometry": {
               "coordinates": [
                [
                 [
                  12.4177,
                  43.899029997000014
                 ],
                 [
                  12.493956,
                  43.91554650099999
                 ],
                 [
                  12.669299,
                  43.823227498999984
                 ],
                 [
                  12.75078,
                  43.970601500999976
                 ],
                 [
                  13.172615,
                  43.75034599899999
                 ],
                 [
                  13.6420965,
                  43.47414249899998
                 ],
                 [
                  13.742970499000023,
                  43.29414699900002
                 ],
                 [
                  13.849453,
                  43.06665949799998
                 ],
                 [
                  13.9157315,
                  42.894577
                 ],
                 [
                  13.3577745,
                  42.694069997999975
                 ],
                 [
                  13.39403149899999,
                  42.591233999
                 ],
                 [
                  13.1913805,
                  42.587491
                 ],
                 [
                  13.0305745,
                  42.115353
                 ],
                 [
                  13.296299499999975,
                  41.94858850000003
                 ],
                 [
                  13.941038499,
                  41.68794399699999
                 ],
                 [
                  13.977928,
                  41.462454
                 ],
                 [
                  13.8737185,
                  41.338294001
                 ],
                 [
                  13.760795499999972,
                  41.22316799700002
                 ],
                 [
                  13.067982,
                  41.221979
                 ],
                 [
                  12.7733215,
                  41.41626399900002
                 ],
                 [
                  11.733844,
                  42.15805899899999
                 ],
                 [
                  11.449938499999973,
                  42.37767050100001
                 ],
                 [
                  11.0979815,
                  42.393149499
                 ],
                 [
                  11.1765795,
                  42.541544
                 ],
                 [
                  10.7056725,
                  42.9418645
                 ],
                 [
                  10.499046,
                  42.93527050099999
                 ],
                 [
                  10.528247498999974,
                  43.231603999000015
                 ],
                 [
                  10.299847,
                  43.58192899900001
                 ],
                 [
                  10.258118,
                  43.81514699899998
                 ],
                 [
                  10.143476,
                  43.97542049899999
                 ],
                 [
                  10.018769500000019,
                  44.044535998000015
                 ],
                 [
                  9.686725500000023,
                  44.36592199900002
                 ],
                 [
                  10.142054499999972,
                  44.353852999000026
                 ],
                 [
                  10.253875,
                  44.26856699899997
                 ],
                 [
                  10.470149,
                  44.226041001
                 ],
                 [
                  10.624078,
                  44.120351501000016
                 ],
                 [
                  10.814787,
                  44.11617449900001
                 ],
                 [
                  11.049449,
                  44.09022999899997
                 ],
                 [
                  11.202439500000025,
                  44.100721
                 ],
                 [
                  11.524959500000023,
                  44.157639999000025
                 ],
                 [
                  11.715906500000017,
                  44.122540499000024
                 ],
                 [
                  11.710189,
                  43.877430498000024
                 ],
                 [
                  11.98652850000002,
                  43.76191399800001
                 ],
                 [
                  12.107464,
                  43.75375349699999
                 ],
                 [
                  12.2837975,
                  43.76489899799998
                 ],
                 [
                  12.4177,
                  43.899029997000014
                 ]
                ],
                [
                 [
                  12.4466885,
                  41.90174499800003
                 ],
                 [
                  12.458003,
                  41.90148549899999
                 ],
                 [
                  12.45582,
                  41.907197499
                 ],
                 [
                  12.4466885,
                  41.90174499800003
                 ]
                ]
               ],
               "type": "Polygon"
              },
              "id": "ITE",
              "properties": {
               "NUTS_ID": "ITE",
               "SHAPE_AREA": 6.33140759553,
               "SHAPE_LEN": 14.0181138018,
               "STAT_LEVL_": 1
              },
              "type": "Feature"
             },
             {
              "geometry": {
               "coordinates": [
                [
                 [
                  10.452801,
                  46.53068299900002
                 ],
                 [
                  10.622145499999988,
                  46.448101999000016
                 ],
                 [
                  10.515751500000022,
                  46.34322449699999
                 ],
                 [
                  10.502388,
                  45.830373
                 ],
                 [
                  10.840176499999984,
                  45.832758501
                 ],
                 [
                  10.631074,
                  45.60951250099998
                 ],
                 [
                  10.6546555,
                  45.41582699899999
                 ],
                 [
                  11.205502500000023,
                  45.10948749900001
                 ],
                 [
                  11.426765499999988,
                  44.950076
                 ],
                 [
                  11.246231500000022,
                  44.951427997
                 ],
                 [
                  10.887909499999978,
                  44.914265999
                 ],
                 [
                  10.504344,
                  44.922417999
                 ],
                 [
                  10.464030499999978,
                  44.93717150100002
                 ],
                 [
                  10.083503,
                  45.04395850100002
                 ],
                 [
                  9.8911015,
                  45.130898
                 ],
                 [
                  9.548684499999979,
                  45.13264849900003
                 ],
                 [
                  9.3246605,
                  44.69
                 ],
                 [
                  9.200074,
                  44.68609949699999
                 ],
                 [
                  9.202995499999986,
                  44.613476499
                 ],
                 [
                  9.493363,
                  44.555858999
                 ],
                 [
                  9.4790595,
                  44.40924050000001
                 ],
                 [
                  9.686725500000023,
                  44.36592199900002
                 ],
                 [
                  10.018769500000019,
                  44.044535998000015
                 ],
                 [
                  9.511344,
                  44.21667549799997
                 ],
                 [
                  8.63301,
                  44.379803498
                 ],
                 [
                  8.135350999000025,
                  43.93894049800002
                 ],
                 [
                  7.529827,
                  43.784007997
                 ],
                 [
                  7.714236500000027,
                  44.061513499
                 ],
                 [
                  7.007760500000018,
                  44.23670049899999
                 ],
                 [
                  6.887428,
                  44.361287
                 ],
                 [
                  6.948443,
                  44.654741999
                 ],
                 [
                  7.065755,
                  44.71346449700002
                 ],
                 [
                  6.630051,
                  45.10985649999998
                 ],
                 [
                  7.125157,
                  45.243994498
                 ],
                 [
                  7.104723,
                  45.46845449900002
                 ],
                 [
                  6.8023685,
                  45.778562
                 ],
                 [
                  7.044886,
                  45.92241299900002
                 ],
                 [
                  7.86407650000001,
                  45.91675049999998
                 ],
                 [
                  7.8771375,
                  45.926954997999985
                 ],
                 [
                  8.384717,
                  46.452158499
                 ],
                 [
                  8.713936,
                  46.097271998999986
                 ],
                 [
                  8.912147,
                  45.830444999
                 ],
                 [
                  9.088803499999983,
                  45.89689700100001
                 ],
                 [
                  8.988276499999984,
                  45.97228249800003
                 ],
                 [
                  9.1593775,
                  46.169601
                 ],
                 [
                  9.248531500000013,
                  46.23376800099999
                 ],
                 [
                  9.714149500000019,
                  46.292708499000014
                 ],
                 [
                  10.2448745,
                  46.62209199799997
                 ],
                 [
                  10.452801,
                  46.53068299900002
                 ]
                ]
               ],
               "type": "Polygon"
              },
              "id": "ITC",
              "properties": {
               "NUTS_ID": "ITC",
               "SHAPE_AREA": 6.68473353585,
               "SHAPE_LEN": 17.1356662484,
               "STAT_LEVL_": 1
              },
              "type": "Feature"
             }
            ],
            "type": "FeatureCollection"
           },
           "hovertemplate": "<b>%{hovertext}</b><br><br>Year=2021<br>Territory=%{location}<br>Quantity=%{z}<extra></extra>",
           "hovertext": [
            "ITC",
            "ITCD",
            "ITD",
            "ITE",
            "ITF",
            "ITG"
           ],
           "locations": [
            "ITC",
            "ITCD",
            "ITD",
            "ITE",
            "ITF",
            "ITG"
           ],
           "name": "",
           "type": "choropleth",
           "z": [
            1766425,
            3058724,
            1292299,
            1284499,
            593154,
            235517
           ]
          }
         ],
         "name": "2021"
        },
        {
         "data": [
          {
           "coloraxis": "coloraxis",
           "customdata": [
            [
             1720043
            ],
            [
             2973523
            ],
            [
             1253480
            ],
            [
             1241133
            ],
            [
             583055
            ],
            [
             233005
            ]
           ],
           "geo": "geo",
           "geojson": {
            "features": [
             {
              "geometry": {
               "coordinates": [
                [
                 [
                  17.388981,
                  40.89186349900001
                 ],
                 [
                  18.097453,
                  40.515377999
                 ],
                 [
                  18.517056,
                  40.135147999000026
                 ],
                 [
                  18.369068,
                  39.793742001
                 ],
                 [
                  18.04794750000002,
                  39.92847849899999
                 ],
                 [
                  17.76350449900002,
                  40.295507
                 ],
                 [
                  17.127098,
                  40.51762050000002
                 ],
                 [
                  16.867264,
                  40.39784549900003
                 ],
                 [
                  16.644317,
                  40.119095999000024
                 ],
                 [
                  16.52795550000002,
                  39.66865950099998
                 ],
                 [
                  17.025064499999985,
                  39.483578498999975
                 ],
                 [
                  17.188881,
                  39.020471998
                 ],
                 [
                  16.890732,
                  38.92712849899999
                 ],
                 [
                  16.566985499999987,
                  38.765481998999974
                 ],
                 [
                  16.5820845,
                  38.46979049700002
                 ],
                 [
                  16.0638095,
                  37.924418996999975
                 ],
                 [
                  15.678212,
                  37.95411949800001
                 ],
                 [
                  15.636063,
                  38.231473498000014
                 ],
                 [
                  15.652291742999978,
                  38.247265964
                 ],
                 [
                  15.687350835000018,
                  38.28138256400001
                 ],
                 [
                  15.918956,
                  38.50676149899999
                 ],
                 [
                  15.8481175,
                  38.658864498000014
                 ],
                 [
                  16.2137535,
                  38.81043999899998
                 ],
                 [
                  16.093153,
                  39.04874299800002
                 ],
                 [
                  15.75595850000002,
                  39.923496
                 ],
                 [
                  15.644945499000016,
                  40.04279049899998
                 ],
                 [
                  15.356917,
                  39.999090997999986
                 ],
                 [
                  14.787251500000025,
                  40.66618049800002
                 ],
                 [
                  14.747420499999976,
                  40.67764649899999
                 ],
                 [
                  14.692414499999984,
                  40.63406599899997
                 ],
                 [
                  14.528490499999975,
                  40.607152498
                 ],
                 [
                  14.46862,
                  40.62020149900002
                 ],
                 [
                  14.324673,
                  40.56908499899998
                 ],
                 [
                  14.460677499999974,
                  40.74293050099999
                 ],
                 [
                  14.0321305,
                  40.898838997999974
                 ],
                 [
                  13.760795499999972,
                  41.22316799700002
                 ],
                 [
                  13.8737185,
                  41.338294001
                 ],
                 [
                  13.977928,
                  41.462454
                 ],
                 [
                  13.941038499,
                  41.68794399699999
                 ],
                 [
                  13.296299499999975,
                  41.94858850000003
                 ],
                 [
                  13.0305745,
                  42.115353
                 ],
                 [
                  13.1913805,
                  42.587491
                 ],
                 [
                  13.39403149899999,
                  42.591233999
                 ],
                 [
                  13.3577745,
                  42.694069997999975
                 ],
                 [
                  13.9157315,
                  42.894577
                 ],
                 [
                  14.1469065,
                  42.53059649900001
                 ],
                 [
                  14.253960499000016,
                  42.444798499
                 ],
                 [
                  14.779646999000022,
                  42.070021499
                 ],
                 [
                  15.13817849999998,
                  41.92700749900001
                 ],
                 [
                  16.17653150000001,
                  41.88478950000001
                 ],
                 [
                  15.89714,
                  41.603231999
                 ],
                 [
                  16.024738500000012,
                  41.425590499
                 ],
                 [
                  16.542302499000016,
                  41.229441
                 ],
                 [
                  17.388981,
                  40.89186349900001
                 ]
                ]
               ],
               "type": "Polygon"
              },
              "id": "ITF",
              "properties": {
               "NUTS_ID": "ITF",
               "SHAPE_AREA": 7.76554618345,
               "SHAPE_LEN": 20.516959983,
               "STAT_LEVL_": 1
              },
              "type": "Feature"
             },
             {
              "geometry": {
               "coordinates": [
                [
                 [
                  [
                   15.572551,
                   38.234204998999985
                  ],
                  [
                   15.2580825,
                   37.807223997999984
                  ],
                  [
                   15.091499,
                   37.3577085
                  ],
                  [
                   15.315962500000012,
                   37.035012498000015
                  ],
                  [
                   15.116582,
                   36.67495599900002
                  ],
                  [
                   15.000358,
                   36.70284749799998
                  ],
                  [
                   14.493577,
                   36.78673349799999
                  ],
                  [
                   14.337594500000023,
                   37.001979999000014
                  ],
                  [
                   14.036207,
                   37.10602799899999
                  ],
                  [
                   12.896496,
                   37.577118498
                  ],
                  [
                   12.672787,
                   37.56008099899998
                  ],
                  [
                   12.4429295,
                   37.81105199899997
                  ],
                  [
                   12.561744499999975,
                   38.06556199800002
                  ],
                  [
                   12.731687,
                   38.180297499
                  ],
                  [
                   12.811005,
                   38.08151549799999
                  ],
                  [
                   12.9772625,
                   38.04020599900002
                  ],
                  [
                   13.36569350000002,
                   38.18228949899998
                  ],
                  [
                   13.7438295,
                   37.97024649799999
                  ],
                  [
                   14.183486,
                   38.01939649899998
                  ],
                  [
                   15.652927,
                   38.26710399699999
                  ],
                  [
                   15.572551,
                   38.234204998999985
                  ]
                 ]
                ],
                [
                 [
                  [
                   9.423461998999983,
                   41.17674100099998
                  ],
                  [
                   9.748871999000016,
                   40.660406997999985
                  ],
                  [
                   9.8270205,
                   40.51211249900001
                  ],
                  [
                   9.62652699900002,
                   40.22487699800001
                  ],
                  [
                   9.7352045,
                   40.075661998999976
                  ],
                  [
                   9.6511185,
                   39.54932399799998
                  ],
                  [
                   9.555865,
                   39.133966997000016
                  ],
                  [
                   9.1099865,
                   39.214018501
                  ],
                  [
                   8.859653,
                   38.87746949899997
                  ],
                  [
                   8.612392,
                   38.957787998000015
                  ],
                  [
                   8.368104499000026,
                   39.21381050000002
                  ],
                  [
                   8.393,
                   39.446529499
                  ],
                  [
                   8.5022545,
                   39.713006999000015
                  ],
                  [
                   8.399809,
                   40.40756849899998
                  ],
                  [
                   8.135010500000021,
                   40.73634899899997
                  ],
                  [
                   8.201709,
                   40.97256649799999
                  ],
                  [
                   8.4171275,
                   40.83831349899998
                  ],
                  [
                   8.802688499999988,
                   40.931047998
                  ],
                  [
                   9.163662,
                   41.23562400100002
                  ],
                  [
                   9.423461998999983,
                   41.17674100099998
                  ]
                 ]
                ]
               ],
               "type": "MultiPolygon"
              },
              "id": "ITG",
              "properties": {
               "NUTS_ID": "ITG",
               "SHAPE_AREA": 5.11153895806,
               "SHAPE_LEN": 15.5196852972,
               "STAT_LEVL_": 1
              },
              "type": "Feature"
             },
             {
              "geometry": {
               "coordinates": [
                [
                 [
                  12.690635,
                  46.656972000999986
                 ],
                 [
                  12.73139299899998,
                  46.634288
                 ],
                 [
                  13.504249500000014,
                  46.56630399800002
                 ],
                 [
                  13.714184999,
                  46.52270349999998
                 ],
                 [
                  13.684032,
                  46.437472501
                 ],
                 [
                  13.3754925,
                  46.29823249899999
                 ],
                 [
                  13.66434750000002,
                  46.177549999
                 ],
                 [
                  13.496938999,
                  46.051334999
                 ],
                 [
                  13.597145,
                  45.81952250099999
                 ],
                 [
                  13.596243,
                  45.807937501000026
                 ],
                 [
                  13.9186565,
                  45.63351749899999
                 ],
                 [
                  13.7228235,
                  45.59472549700001
                 ],
                 [
                  13.579783,
                  45.786951499
                 ],
                 [
                  13.40649350000001,
                  45.725175001000025
                 ],
                 [
                  13.130853,
                  45.771844499999986
                 ],
                 [
                  13.098785501,
                  45.644532997
                 ],
                 [
                  12.434162500000014,
                  45.42448599699998
                 ],
                 [
                  12.631836,
                  45.534338499
                 ],
                 [
                  12.413683999,
                  45.544310500999984
                 ],
                 [
                  12.132562,
                  45.300370499999985
                 ],
                 [
                  12.200494,
                  45.257337
                 ],
                 [
                  12.2045665,
                  45.19767599800002
                 ],
                 [
                  12.33057150000002,
                  45.1605505
                 ],
                 [
                  12.328777,
                  45.151860999
                 ],
                 [
                  12.302155605999985,
                  45.13788754699999
                 ],
                 [
                  12.279706042999976,
                  45.123266828
                 ],
                 [
                  12.399056499999972,
                  44.792615501
                 ],
                 [
                  12.269892,
                  44.630007497
                 ],
                 [
                  12.384282,
                  44.224726499999974
                 ],
                 [
                  12.450349,
                  44.162189496999986
                 ],
                 [
                  12.75078,
                  43.970601500999976
                 ],
                 [
                  12.669299,
                  43.823227498999984
                 ],
                 [
                  12.493956,
                  43.91554650099999
                 ],
                 [
                  12.513435500000014,
                  43.99126949700002
                 ],
                 [
                  12.4046075,
                  43.95567850100002
                 ],
                 [
                  12.4177,
                  43.899029997000014
                 ],
                 [
                  12.2837975,
                  43.76489899799998
                 ],
                 [
                  12.107464,
                  43.75375349699999
                 ],
                 [
                  11.98652850000002,
                  43.76191399800001
                 ],
                 [
                  11.710189,
                  43.877430498000024
                 ],
                 [
                  11.715906500000017,
                  44.122540499000024
                 ],
                 [
                  11.524959500000023,
                  44.157639999000025
                 ],
                 [
                  11.202439500000025,
                  44.100721
                 ],
                 [
                  11.049449,
                  44.09022999899997
                 ],
                 [
                  10.814787,
                  44.11617449900001
                 ],
                 [
                  10.624078,
                  44.120351501000016
                 ],
                 [
                  10.470149,
                  44.226041001
                 ],
                 [
                  10.253875,
                  44.26856699899997
                 ],
                 [
                  10.142054499999972,
                  44.353852999000026
                 ],
                 [
                  9.686725500000023,
                  44.36592199900002
                 ],
                 [
                  9.4790595,
                  44.40924050000001
                 ],
                 [
                  9.493363,
                  44.555858999
                 ],
                 [
                  9.202995499999986,
                  44.613476499
                 ],
                 [
                  9.200074,
                  44.68609949699999
                 ],
                 [
                  9.3246605,
                  44.69
                 ],
                 [
                  9.548684499999979,
                  45.13264849900003
                 ],
                 [
                  9.8911015,
                  45.130898
                 ],
                 [
                  10.083503,
                  45.04395850100002
                 ],
                 [
                  10.464030499999978,
                  44.93717150100002
                 ],
                 [
                  10.504344,
                  44.922417999
                 ],
                 [
                  10.887909499999978,
                  44.914265999
                 ],
                 [
                  11.246231500000022,
                  44.951427997
                 ],
                 [
                  11.426765499999988,
                  44.950076
                 ],
                 [
                  11.205502500000023,
                  45.10948749900001
                 ],
                 [
                  10.6546555,
                  45.41582699899999
                 ],
                 [
                  10.631074,
                  45.60951250099998
                 ],
                 [
                  10.840176499999984,
                  45.832758501
                 ],
                 [
                  10.502388,
                  45.830373
                 ],
                 [
                  10.515751500000022,
                  46.34322449699999
                 ],
                 [
                  10.622145499999988,
                  46.448101999000016
                 ],
                 [
                  10.452801,
                  46.53068299900002
                 ],
                 [
                  10.4696515,
                  46.854909
                 ],
                 [
                  11.02225,
                  46.765410498999984
                 ],
                 [
                  11.164281500000016,
                  46.96572250000003
                 ],
                 [
                  11.627199500000017,
                  47.013299
                 ],
                 [
                  12.136014,
                  47.0806675
                 ],
                 [
                  12.2407455,
                  47.069168499
                 ],
                 [
                  12.143811,
                  46.913779998
                 ],
                 [
                  12.477924,
                  46.67983549799999
                 ],
                 [
                  12.690635,
                  46.656972000999986
                 ]
                ]
               ],
               "type": "Polygon"
              },
              "id": "ITD",
              "properties": {
               "NUTS_ID": "ITD",
               "SHAPE_AREA": 7.1090756829,
               "SHAPE_LEN": 19.5663079898,
               "STAT_LEVL_": 1
              },
              "type": "Feature"
             },
             {
              "geometry": {
               "coordinates": [
                [
                 [
                  12.4177,
                  43.899029997000014
                 ],
                 [
                  12.493956,
                  43.91554650099999
                 ],
                 [
                  12.669299,
                  43.823227498999984
                 ],
                 [
                  12.75078,
                  43.970601500999976
                 ],
                 [
                  13.172615,
                  43.75034599899999
                 ],
                 [
                  13.6420965,
                  43.47414249899998
                 ],
                 [
                  13.742970499000023,
                  43.29414699900002
                 ],
                 [
                  13.849453,
                  43.06665949799998
                 ],
                 [
                  13.9157315,
                  42.894577
                 ],
                 [
                  13.3577745,
                  42.694069997999975
                 ],
                 [
                  13.39403149899999,
                  42.591233999
                 ],
                 [
                  13.1913805,
                  42.587491
                 ],
                 [
                  13.0305745,
                  42.115353
                 ],
                 [
                  13.296299499999975,
                  41.94858850000003
                 ],
                 [
                  13.941038499,
                  41.68794399699999
                 ],
                 [
                  13.977928,
                  41.462454
                 ],
                 [
                  13.8737185,
                  41.338294001
                 ],
                 [
                  13.760795499999972,
                  41.22316799700002
                 ],
                 [
                  13.067982,
                  41.221979
                 ],
                 [
                  12.7733215,
                  41.41626399900002
                 ],
                 [
                  11.733844,
                  42.15805899899999
                 ],
                 [
                  11.449938499999973,
                  42.37767050100001
                 ],
                 [
                  11.0979815,
                  42.393149499
                 ],
                 [
                  11.1765795,
                  42.541544
                 ],
                 [
                  10.7056725,
                  42.9418645
                 ],
                 [
                  10.499046,
                  42.93527050099999
                 ],
                 [
                  10.528247498999974,
                  43.231603999000015
                 ],
                 [
                  10.299847,
                  43.58192899900001
                 ],
                 [
                  10.258118,
                  43.81514699899998
                 ],
                 [
                  10.143476,
                  43.97542049899999
                 ],
                 [
                  10.018769500000019,
                  44.044535998000015
                 ],
                 [
                  9.686725500000023,
                  44.36592199900002
                 ],
                 [
                  10.142054499999972,
                  44.353852999000026
                 ],
                 [
                  10.253875,
                  44.26856699899997
                 ],
                 [
                  10.470149,
                  44.226041001
                 ],
                 [
                  10.624078,
                  44.120351501000016
                 ],
                 [
                  10.814787,
                  44.11617449900001
                 ],
                 [
                  11.049449,
                  44.09022999899997
                 ],
                 [
                  11.202439500000025,
                  44.100721
                 ],
                 [
                  11.524959500000023,
                  44.157639999000025
                 ],
                 [
                  11.715906500000017,
                  44.122540499000024
                 ],
                 [
                  11.710189,
                  43.877430498000024
                 ],
                 [
                  11.98652850000002,
                  43.76191399800001
                 ],
                 [
                  12.107464,
                  43.75375349699999
                 ],
                 [
                  12.2837975,
                  43.76489899799998
                 ],
                 [
                  12.4177,
                  43.899029997000014
                 ]
                ],
                [
                 [
                  12.4466885,
                  41.90174499800003
                 ],
                 [
                  12.458003,
                  41.90148549899999
                 ],
                 [
                  12.45582,
                  41.907197499
                 ],
                 [
                  12.4466885,
                  41.90174499800003
                 ]
                ]
               ],
               "type": "Polygon"
              },
              "id": "ITE",
              "properties": {
               "NUTS_ID": "ITE",
               "SHAPE_AREA": 6.33140759553,
               "SHAPE_LEN": 14.0181138018,
               "STAT_LEVL_": 1
              },
              "type": "Feature"
             },
             {
              "geometry": {
               "coordinates": [
                [
                 [
                  10.452801,
                  46.53068299900002
                 ],
                 [
                  10.622145499999988,
                  46.448101999000016
                 ],
                 [
                  10.515751500000022,
                  46.34322449699999
                 ],
                 [
                  10.502388,
                  45.830373
                 ],
                 [
                  10.840176499999984,
                  45.832758501
                 ],
                 [
                  10.631074,
                  45.60951250099998
                 ],
                 [
                  10.6546555,
                  45.41582699899999
                 ],
                 [
                  11.205502500000023,
                  45.10948749900001
                 ],
                 [
                  11.426765499999988,
                  44.950076
                 ],
                 [
                  11.246231500000022,
                  44.951427997
                 ],
                 [
                  10.887909499999978,
                  44.914265999
                 ],
                 [
                  10.504344,
                  44.922417999
                 ],
                 [
                  10.464030499999978,
                  44.93717150100002
                 ],
                 [
                  10.083503,
                  45.04395850100002
                 ],
                 [
                  9.8911015,
                  45.130898
                 ],
                 [
                  9.548684499999979,
                  45.13264849900003
                 ],
                 [
                  9.3246605,
                  44.69
                 ],
                 [
                  9.200074,
                  44.68609949699999
                 ],
                 [
                  9.202995499999986,
                  44.613476499
                 ],
                 [
                  9.493363,
                  44.555858999
                 ],
                 [
                  9.4790595,
                  44.40924050000001
                 ],
                 [
                  9.686725500000023,
                  44.36592199900002
                 ],
                 [
                  10.018769500000019,
                  44.044535998000015
                 ],
                 [
                  9.511344,
                  44.21667549799997
                 ],
                 [
                  8.63301,
                  44.379803498
                 ],
                 [
                  8.135350999000025,
                  43.93894049800002
                 ],
                 [
                  7.529827,
                  43.784007997
                 ],
                 [
                  7.714236500000027,
                  44.061513499
                 ],
                 [
                  7.007760500000018,
                  44.23670049899999
                 ],
                 [
                  6.887428,
                  44.361287
                 ],
                 [
                  6.948443,
                  44.654741999
                 ],
                 [
                  7.065755,
                  44.71346449700002
                 ],
                 [
                  6.630051,
                  45.10985649999998
                 ],
                 [
                  7.125157,
                  45.243994498
                 ],
                 [
                  7.104723,
                  45.46845449900002
                 ],
                 [
                  6.8023685,
                  45.778562
                 ],
                 [
                  7.044886,
                  45.92241299900002
                 ],
                 [
                  7.86407650000001,
                  45.91675049999998
                 ],
                 [
                  7.8771375,
                  45.926954997999985
                 ],
                 [
                  8.384717,
                  46.452158499
                 ],
                 [
                  8.713936,
                  46.097271998999986
                 ],
                 [
                  8.912147,
                  45.830444999
                 ],
                 [
                  9.088803499999983,
                  45.89689700100001
                 ],
                 [
                  8.988276499999984,
                  45.97228249800003
                 ],
                 [
                  9.1593775,
                  46.169601
                 ],
                 [
                  9.248531500000013,
                  46.23376800099999
                 ],
                 [
                  9.714149500000019,
                  46.292708499000014
                 ],
                 [
                  10.2448745,
                  46.62209199799997
                 ],
                 [
                  10.452801,
                  46.53068299900002
                 ]
                ]
               ],
               "type": "Polygon"
              },
              "id": "ITC",
              "properties": {
               "NUTS_ID": "ITC",
               "SHAPE_AREA": 6.68473353585,
               "SHAPE_LEN": 17.1356662484,
               "STAT_LEVL_": 1
              },
              "type": "Feature"
             }
            ],
            "type": "FeatureCollection"
           },
           "hovertemplate": "<b>%{hovertext}</b><br><br>Year=2022<br>Territory=%{location}<br>Quantity=%{z}<extra></extra>",
           "hovertext": [
            "ITC",
            "ITCD",
            "ITD",
            "ITE",
            "ITF",
            "ITG"
           ],
           "locations": [
            "ITC",
            "ITCD",
            "ITD",
            "ITE",
            "ITF",
            "ITG"
           ],
           "name": "",
           "type": "choropleth",
           "z": [
            1720043,
            2973523,
            1253480,
            1241133,
            583055,
            233005
           ]
          }
         ],
         "name": "2022"
        },
        {
         "data": [
          {
           "coloraxis": "coloraxis",
           "customdata": [
            [
             1733946
            ],
            [
             2988537
            ],
            [
             1254591
            ],
            [
             1238153
            ],
            [
             590189
            ],
            [
             233378
            ]
           ],
           "geo": "geo",
           "geojson": {
            "features": [
             {
              "geometry": {
               "coordinates": [
                [
                 [
                  17.388981,
                  40.89186349900001
                 ],
                 [
                  18.097453,
                  40.515377999
                 ],
                 [
                  18.517056,
                  40.135147999000026
                 ],
                 [
                  18.369068,
                  39.793742001
                 ],
                 [
                  18.04794750000002,
                  39.92847849899999
                 ],
                 [
                  17.76350449900002,
                  40.295507
                 ],
                 [
                  17.127098,
                  40.51762050000002
                 ],
                 [
                  16.867264,
                  40.39784549900003
                 ],
                 [
                  16.644317,
                  40.119095999000024
                 ],
                 [
                  16.52795550000002,
                  39.66865950099998
                 ],
                 [
                  17.025064499999985,
                  39.483578498999975
                 ],
                 [
                  17.188881,
                  39.020471998
                 ],
                 [
                  16.890732,
                  38.92712849899999
                 ],
                 [
                  16.566985499999987,
                  38.765481998999974
                 ],
                 [
                  16.5820845,
                  38.46979049700002
                 ],
                 [
                  16.0638095,
                  37.924418996999975
                 ],
                 [
                  15.678212,
                  37.95411949800001
                 ],
                 [
                  15.636063,
                  38.231473498000014
                 ],
                 [
                  15.652291742999978,
                  38.247265964
                 ],
                 [
                  15.687350835000018,
                  38.28138256400001
                 ],
                 [
                  15.918956,
                  38.50676149899999
                 ],
                 [
                  15.8481175,
                  38.658864498000014
                 ],
                 [
                  16.2137535,
                  38.81043999899998
                 ],
                 [
                  16.093153,
                  39.04874299800002
                 ],
                 [
                  15.75595850000002,
                  39.923496
                 ],
                 [
                  15.644945499000016,
                  40.04279049899998
                 ],
                 [
                  15.356917,
                  39.999090997999986
                 ],
                 [
                  14.787251500000025,
                  40.66618049800002
                 ],
                 [
                  14.747420499999976,
                  40.67764649899999
                 ],
                 [
                  14.692414499999984,
                  40.63406599899997
                 ],
                 [
                  14.528490499999975,
                  40.607152498
                 ],
                 [
                  14.46862,
                  40.62020149900002
                 ],
                 [
                  14.324673,
                  40.56908499899998
                 ],
                 [
                  14.460677499999974,
                  40.74293050099999
                 ],
                 [
                  14.0321305,
                  40.898838997999974
                 ],
                 [
                  13.760795499999972,
                  41.22316799700002
                 ],
                 [
                  13.8737185,
                  41.338294001
                 ],
                 [
                  13.977928,
                  41.462454
                 ],
                 [
                  13.941038499,
                  41.68794399699999
                 ],
                 [
                  13.296299499999975,
                  41.94858850000003
                 ],
                 [
                  13.0305745,
                  42.115353
                 ],
                 [
                  13.1913805,
                  42.587491
                 ],
                 [
                  13.39403149899999,
                  42.591233999
                 ],
                 [
                  13.3577745,
                  42.694069997999975
                 ],
                 [
                  13.9157315,
                  42.894577
                 ],
                 [
                  14.1469065,
                  42.53059649900001
                 ],
                 [
                  14.253960499000016,
                  42.444798499
                 ],
                 [
                  14.779646999000022,
                  42.070021499
                 ],
                 [
                  15.13817849999998,
                  41.92700749900001
                 ],
                 [
                  16.17653150000001,
                  41.88478950000001
                 ],
                 [
                  15.89714,
                  41.603231999
                 ],
                 [
                  16.024738500000012,
                  41.425590499
                 ],
                 [
                  16.542302499000016,
                  41.229441
                 ],
                 [
                  17.388981,
                  40.89186349900001
                 ]
                ]
               ],
               "type": "Polygon"
              },
              "id": "ITF",
              "properties": {
               "NUTS_ID": "ITF",
               "SHAPE_AREA": 7.76554618345,
               "SHAPE_LEN": 20.516959983,
               "STAT_LEVL_": 1
              },
              "type": "Feature"
             },
             {
              "geometry": {
               "coordinates": [
                [
                 [
                  [
                   15.572551,
                   38.234204998999985
                  ],
                  [
                   15.2580825,
                   37.807223997999984
                  ],
                  [
                   15.091499,
                   37.3577085
                  ],
                  [
                   15.315962500000012,
                   37.035012498000015
                  ],
                  [
                   15.116582,
                   36.67495599900002
                  ],
                  [
                   15.000358,
                   36.70284749799998
                  ],
                  [
                   14.493577,
                   36.78673349799999
                  ],
                  [
                   14.337594500000023,
                   37.001979999000014
                  ],
                  [
                   14.036207,
                   37.10602799899999
                  ],
                  [
                   12.896496,
                   37.577118498
                  ],
                  [
                   12.672787,
                   37.56008099899998
                  ],
                  [
                   12.4429295,
                   37.81105199899997
                  ],
                  [
                   12.561744499999975,
                   38.06556199800002
                  ],
                  [
                   12.731687,
                   38.180297499
                  ],
                  [
                   12.811005,
                   38.08151549799999
                  ],
                  [
                   12.9772625,
                   38.04020599900002
                  ],
                  [
                   13.36569350000002,
                   38.18228949899998
                  ],
                  [
                   13.7438295,
                   37.97024649799999
                  ],
                  [
                   14.183486,
                   38.01939649899998
                  ],
                  [
                   15.652927,
                   38.26710399699999
                  ],
                  [
                   15.572551,
                   38.234204998999985
                  ]
                 ]
                ],
                [
                 [
                  [
                   9.423461998999983,
                   41.17674100099998
                  ],
                  [
                   9.748871999000016,
                   40.660406997999985
                  ],
                  [
                   9.8270205,
                   40.51211249900001
                  ],
                  [
                   9.62652699900002,
                   40.22487699800001
                  ],
                  [
                   9.7352045,
                   40.075661998999976
                  ],
                  [
                   9.6511185,
                   39.54932399799998
                  ],
                  [
                   9.555865,
                   39.133966997000016
                  ],
                  [
                   9.1099865,
                   39.214018501
                  ],
                  [
                   8.859653,
                   38.87746949899997
                  ],
                  [
                   8.612392,
                   38.957787998000015
                  ],
                  [
                   8.368104499000026,
                   39.21381050000002
                  ],
                  [
                   8.393,
                   39.446529499
                  ],
                  [
                   8.5022545,
                   39.713006999000015
                  ],
                  [
                   8.399809,
                   40.40756849899998
                  ],
                  [
                   8.135010500000021,
                   40.73634899899997
                  ],
                  [
                   8.201709,
                   40.97256649799999
                  ],
                  [
                   8.4171275,
                   40.83831349899998
                  ],
                  [
                   8.802688499999988,
                   40.931047998
                  ],
                  [
                   9.163662,
                   41.23562400100002
                  ],
                  [
                   9.423461998999983,
                   41.17674100099998
                  ]
                 ]
                ]
               ],
               "type": "MultiPolygon"
              },
              "id": "ITG",
              "properties": {
               "NUTS_ID": "ITG",
               "SHAPE_AREA": 5.11153895806,
               "SHAPE_LEN": 15.5196852972,
               "STAT_LEVL_": 1
              },
              "type": "Feature"
             },
             {
              "geometry": {
               "coordinates": [
                [
                 [
                  12.690635,
                  46.656972000999986
                 ],
                 [
                  12.73139299899998,
                  46.634288
                 ],
                 [
                  13.504249500000014,
                  46.56630399800002
                 ],
                 [
                  13.714184999,
                  46.52270349999998
                 ],
                 [
                  13.684032,
                  46.437472501
                 ],
                 [
                  13.3754925,
                  46.29823249899999
                 ],
                 [
                  13.66434750000002,
                  46.177549999
                 ],
                 [
                  13.496938999,
                  46.051334999
                 ],
                 [
                  13.597145,
                  45.81952250099999
                 ],
                 [
                  13.596243,
                  45.807937501000026
                 ],
                 [
                  13.9186565,
                  45.63351749899999
                 ],
                 [
                  13.7228235,
                  45.59472549700001
                 ],
                 [
                  13.579783,
                  45.786951499
                 ],
                 [
                  13.40649350000001,
                  45.725175001000025
                 ],
                 [
                  13.130853,
                  45.771844499999986
                 ],
                 [
                  13.098785501,
                  45.644532997
                 ],
                 [
                  12.434162500000014,
                  45.42448599699998
                 ],
                 [
                  12.631836,
                  45.534338499
                 ],
                 [
                  12.413683999,
                  45.544310500999984
                 ],
                 [
                  12.132562,
                  45.300370499999985
                 ],
                 [
                  12.200494,
                  45.257337
                 ],
                 [
                  12.2045665,
                  45.19767599800002
                 ],
                 [
                  12.33057150000002,
                  45.1605505
                 ],
                 [
                  12.328777,
                  45.151860999
                 ],
                 [
                  12.302155605999985,
                  45.13788754699999
                 ],
                 [
                  12.279706042999976,
                  45.123266828
                 ],
                 [
                  12.399056499999972,
                  44.792615501
                 ],
                 [
                  12.269892,
                  44.630007497
                 ],
                 [
                  12.384282,
                  44.224726499999974
                 ],
                 [
                  12.450349,
                  44.162189496999986
                 ],
                 [
                  12.75078,
                  43.970601500999976
                 ],
                 [
                  12.669299,
                  43.823227498999984
                 ],
                 [
                  12.493956,
                  43.91554650099999
                 ],
                 [
                  12.513435500000014,
                  43.99126949700002
                 ],
                 [
                  12.4046075,
                  43.95567850100002
                 ],
                 [
                  12.4177,
                  43.899029997000014
                 ],
                 [
                  12.2837975,
                  43.76489899799998
                 ],
                 [
                  12.107464,
                  43.75375349699999
                 ],
                 [
                  11.98652850000002,
                  43.76191399800001
                 ],
                 [
                  11.710189,
                  43.877430498000024
                 ],
                 [
                  11.715906500000017,
                  44.122540499000024
                 ],
                 [
                  11.524959500000023,
                  44.157639999000025
                 ],
                 [
                  11.202439500000025,
                  44.100721
                 ],
                 [
                  11.049449,
                  44.09022999899997
                 ],
                 [
                  10.814787,
                  44.11617449900001
                 ],
                 [
                  10.624078,
                  44.120351501000016
                 ],
                 [
                  10.470149,
                  44.226041001
                 ],
                 [
                  10.253875,
                  44.26856699899997
                 ],
                 [
                  10.142054499999972,
                  44.353852999000026
                 ],
                 [
                  9.686725500000023,
                  44.36592199900002
                 ],
                 [
                  9.4790595,
                  44.40924050000001
                 ],
                 [
                  9.493363,
                  44.555858999
                 ],
                 [
                  9.202995499999986,
                  44.613476499
                 ],
                 [
                  9.200074,
                  44.68609949699999
                 ],
                 [
                  9.3246605,
                  44.69
                 ],
                 [
                  9.548684499999979,
                  45.13264849900003
                 ],
                 [
                  9.8911015,
                  45.130898
                 ],
                 [
                  10.083503,
                  45.04395850100002
                 ],
                 [
                  10.464030499999978,
                  44.93717150100002
                 ],
                 [
                  10.504344,
                  44.922417999
                 ],
                 [
                  10.887909499999978,
                  44.914265999
                 ],
                 [
                  11.246231500000022,
                  44.951427997
                 ],
                 [
                  11.426765499999988,
                  44.950076
                 ],
                 [
                  11.205502500000023,
                  45.10948749900001
                 ],
                 [
                  10.6546555,
                  45.41582699899999
                 ],
                 [
                  10.631074,
                  45.60951250099998
                 ],
                 [
                  10.840176499999984,
                  45.832758501
                 ],
                 [
                  10.502388,
                  45.830373
                 ],
                 [
                  10.515751500000022,
                  46.34322449699999
                 ],
                 [
                  10.622145499999988,
                  46.448101999000016
                 ],
                 [
                  10.452801,
                  46.53068299900002
                 ],
                 [
                  10.4696515,
                  46.854909
                 ],
                 [
                  11.02225,
                  46.765410498999984
                 ],
                 [
                  11.164281500000016,
                  46.96572250000003
                 ],
                 [
                  11.627199500000017,
                  47.013299
                 ],
                 [
                  12.136014,
                  47.0806675
                 ],
                 [
                  12.2407455,
                  47.069168499
                 ],
                 [
                  12.143811,
                  46.913779998
                 ],
                 [
                  12.477924,
                  46.67983549799999
                 ],
                 [
                  12.690635,
                  46.656972000999986
                 ]
                ]
               ],
               "type": "Polygon"
              },
              "id": "ITD",
              "properties": {
               "NUTS_ID": "ITD",
               "SHAPE_AREA": 7.1090756829,
               "SHAPE_LEN": 19.5663079898,
               "STAT_LEVL_": 1
              },
              "type": "Feature"
             },
             {
              "geometry": {
               "coordinates": [
                [
                 [
                  12.4177,
                  43.899029997000014
                 ],
                 [
                  12.493956,
                  43.91554650099999
                 ],
                 [
                  12.669299,
                  43.823227498999984
                 ],
                 [
                  12.75078,
                  43.970601500999976
                 ],
                 [
                  13.172615,
                  43.75034599899999
                 ],
                 [
                  13.6420965,
                  43.47414249899998
                 ],
                 [
                  13.742970499000023,
                  43.29414699900002
                 ],
                 [
                  13.849453,
                  43.06665949799998
                 ],
                 [
                  13.9157315,
                  42.894577
                 ],
                 [
                  13.3577745,
                  42.694069997999975
                 ],
                 [
                  13.39403149899999,
                  42.591233999
                 ],
                 [
                  13.1913805,
                  42.587491
                 ],
                 [
                  13.0305745,
                  42.115353
                 ],
                 [
                  13.296299499999975,
                  41.94858850000003
                 ],
                 [
                  13.941038499,
                  41.68794399699999
                 ],
                 [
                  13.977928,
                  41.462454
                 ],
                 [
                  13.8737185,
                  41.338294001
                 ],
                 [
                  13.760795499999972,
                  41.22316799700002
                 ],
                 [
                  13.067982,
                  41.221979
                 ],
                 [
                  12.7733215,
                  41.41626399900002
                 ],
                 [
                  11.733844,
                  42.15805899899999
                 ],
                 [
                  11.449938499999973,
                  42.37767050100001
                 ],
                 [
                  11.0979815,
                  42.393149499
                 ],
                 [
                  11.1765795,
                  42.541544
                 ],
                 [
                  10.7056725,
                  42.9418645
                 ],
                 [
                  10.499046,
                  42.93527050099999
                 ],
                 [
                  10.528247498999974,
                  43.231603999000015
                 ],
                 [
                  10.299847,
                  43.58192899900001
                 ],
                 [
                  10.258118,
                  43.81514699899998
                 ],
                 [
                  10.143476,
                  43.97542049899999
                 ],
                 [
                  10.018769500000019,
                  44.044535998000015
                 ],
                 [
                  9.686725500000023,
                  44.36592199900002
                 ],
                 [
                  10.142054499999972,
                  44.353852999000026
                 ],
                 [
                  10.253875,
                  44.26856699899997
                 ],
                 [
                  10.470149,
                  44.226041001
                 ],
                 [
                  10.624078,
                  44.120351501000016
                 ],
                 [
                  10.814787,
                  44.11617449900001
                 ],
                 [
                  11.049449,
                  44.09022999899997
                 ],
                 [
                  11.202439500000025,
                  44.100721
                 ],
                 [
                  11.524959500000023,
                  44.157639999000025
                 ],
                 [
                  11.715906500000017,
                  44.122540499000024
                 ],
                 [
                  11.710189,
                  43.877430498000024
                 ],
                 [
                  11.98652850000002,
                  43.76191399800001
                 ],
                 [
                  12.107464,
                  43.75375349699999
                 ],
                 [
                  12.2837975,
                  43.76489899799998
                 ],
                 [
                  12.4177,
                  43.899029997000014
                 ]
                ],
                [
                 [
                  12.4466885,
                  41.90174499800003
                 ],
                 [
                  12.458003,
                  41.90148549899999
                 ],
                 [
                  12.45582,
                  41.907197499
                 ],
                 [
                  12.4466885,
                  41.90174499800003
                 ]
                ]
               ],
               "type": "Polygon"
              },
              "id": "ITE",
              "properties": {
               "NUTS_ID": "ITE",
               "SHAPE_AREA": 6.33140759553,
               "SHAPE_LEN": 14.0181138018,
               "STAT_LEVL_": 1
              },
              "type": "Feature"
             },
             {
              "geometry": {
               "coordinates": [
                [
                 [
                  10.452801,
                  46.53068299900002
                 ],
                 [
                  10.622145499999988,
                  46.448101999000016
                 ],
                 [
                  10.515751500000022,
                  46.34322449699999
                 ],
                 [
                  10.502388,
                  45.830373
                 ],
                 [
                  10.840176499999984,
                  45.832758501
                 ],
                 [
                  10.631074,
                  45.60951250099998
                 ],
                 [
                  10.6546555,
                  45.41582699899999
                 ],
                 [
                  11.205502500000023,
                  45.10948749900001
                 ],
                 [
                  11.426765499999988,
                  44.950076
                 ],
                 [
                  11.246231500000022,
                  44.951427997
                 ],
                 [
                  10.887909499999978,
                  44.914265999
                 ],
                 [
                  10.504344,
                  44.922417999
                 ],
                 [
                  10.464030499999978,
                  44.93717150100002
                 ],
                 [
                  10.083503,
                  45.04395850100002
                 ],
                 [
                  9.8911015,
                  45.130898
                 ],
                 [
                  9.548684499999979,
                  45.13264849900003
                 ],
                 [
                  9.3246605,
                  44.69
                 ],
                 [
                  9.200074,
                  44.68609949699999
                 ],
                 [
                  9.202995499999986,
                  44.613476499
                 ],
                 [
                  9.493363,
                  44.555858999
                 ],
                 [
                  9.4790595,
                  44.40924050000001
                 ],
                 [
                  9.686725500000023,
                  44.36592199900002
                 ],
                 [
                  10.018769500000019,
                  44.044535998000015
                 ],
                 [
                  9.511344,
                  44.21667549799997
                 ],
                 [
                  8.63301,
                  44.379803498
                 ],
                 [
                  8.135350999000025,
                  43.93894049800002
                 ],
                 [
                  7.529827,
                  43.784007997
                 ],
                 [
                  7.714236500000027,
                  44.061513499
                 ],
                 [
                  7.007760500000018,
                  44.23670049899999
                 ],
                 [
                  6.887428,
                  44.361287
                 ],
                 [
                  6.948443,
                  44.654741999
                 ],
                 [
                  7.065755,
                  44.71346449700002
                 ],
                 [
                  6.630051,
                  45.10985649999998
                 ],
                 [
                  7.125157,
                  45.243994498
                 ],
                 [
                  7.104723,
                  45.46845449900002
                 ],
                 [
                  6.8023685,
                  45.778562
                 ],
                 [
                  7.044886,
                  45.92241299900002
                 ],
                 [
                  7.86407650000001,
                  45.91675049999998
                 ],
                 [
                  7.8771375,
                  45.926954997999985
                 ],
                 [
                  8.384717,
                  46.452158499
                 ],
                 [
                  8.713936,
                  46.097271998999986
                 ],
                 [
                  8.912147,
                  45.830444999
                 ],
                 [
                  9.088803499999983,
                  45.89689700100001
                 ],
                 [
                  8.988276499999984,
                  45.97228249800003
                 ],
                 [
                  9.1593775,
                  46.169601
                 ],
                 [
                  9.248531500000013,
                  46.23376800099999
                 ],
                 [
                  9.714149500000019,
                  46.292708499000014
                 ],
                 [
                  10.2448745,
                  46.62209199799997
                 ],
                 [
                  10.452801,
                  46.53068299900002
                 ]
                ]
               ],
               "type": "Polygon"
              },
              "id": "ITC",
              "properties": {
               "NUTS_ID": "ITC",
               "SHAPE_AREA": 6.68473353585,
               "SHAPE_LEN": 17.1356662484,
               "STAT_LEVL_": 1
              },
              "type": "Feature"
             }
            ],
            "type": "FeatureCollection"
           },
           "hovertemplate": "<b>%{hovertext}</b><br><br>Year=2023<br>Territory=%{location}<br>Quantity=%{z}<extra></extra>",
           "hovertext": [
            "ITC",
            "ITCD",
            "ITD",
            "ITE",
            "ITF",
            "ITG"
           ],
           "locations": [
            "ITC",
            "ITCD",
            "ITD",
            "ITE",
            "ITF",
            "ITG"
           ],
           "name": "",
           "type": "choropleth",
           "z": [
            1733946,
            2988537,
            1254591,
            1238153,
            590189,
            233378
           ]
          }
         ],
         "name": "2023"
        }
       ],
       "layout": {
        "coloraxis": {
         "colorbar": {
          "title": {
           "text": "Quantity"
          }
         },
         "colorscale": [
          [
           0,
           "#0d0887"
          ],
          [
           0.1111111111111111,
           "#46039f"
          ],
          [
           0.2222222222222222,
           "#7201a8"
          ],
          [
           0.3333333333333333,
           "#9c179e"
          ],
          [
           0.4444444444444444,
           "#bd3786"
          ],
          [
           0.5555555555555556,
           "#d8576b"
          ],
          [
           0.6666666666666666,
           "#ed7953"
          ],
          [
           0.7777777777777778,
           "#fb9f3a"
          ],
          [
           0.8888888888888888,
           "#fdca26"
          ],
          [
           1,
           "#f0f921"
          ]
         ]
        },
        "geo": {
         "center": {},
         "domain": {
          "x": [
           0,
           1
          ],
          "y": [
           0,
           1
          ]
         },
         "fitbounds": "locations",
         "visible": false
        },
        "legend": {
         "tracegroupgap": 0
        },
        "sliders": [
         {
          "active": 0,
          "currentvalue": {
           "prefix": "Year="
          },
          "len": 0.9,
          "pad": {
           "b": 10,
           "t": 60
          },
          "steps": [
           {
            "args": [
             [
              "2018"
             ],
             {
              "frame": {
               "duration": 0,
               "redraw": true
              },
              "fromcurrent": true,
              "mode": "immediate",
              "transition": {
               "duration": 0,
               "easing": "linear"
              }
             }
            ],
            "label": "2018",
            "method": "animate"
           },
           {
            "args": [
             [
              "2019"
             ],
             {
              "frame": {
               "duration": 0,
               "redraw": true
              },
              "fromcurrent": true,
              "mode": "immediate",
              "transition": {
               "duration": 0,
               "easing": "linear"
              }
             }
            ],
            "label": "2019",
            "method": "animate"
           },
           {
            "args": [
             [
              "2020"
             ],
             {
              "frame": {
               "duration": 0,
               "redraw": true
              },
              "fromcurrent": true,
              "mode": "immediate",
              "transition": {
               "duration": 0,
               "easing": "linear"
              }
             }
            ],
            "label": "2020",
            "method": "animate"
           },
           {
            "args": [
             [
              "2021"
             ],
             {
              "frame": {
               "duration": 0,
               "redraw": true
              },
              "fromcurrent": true,
              "mode": "immediate",
              "transition": {
               "duration": 0,
               "easing": "linear"
              }
             }
            ],
            "label": "2021",
            "method": "animate"
           },
           {
            "args": [
             [
              "2022"
             ],
             {
              "frame": {
               "duration": 0,
               "redraw": true
              },
              "fromcurrent": true,
              "mode": "immediate",
              "transition": {
               "duration": 0,
               "easing": "linear"
              }
             }
            ],
            "label": "2022",
            "method": "animate"
           },
           {
            "args": [
             [
              "2023"
             ],
             {
              "frame": {
               "duration": 0,
               "redraw": true
              },
              "fromcurrent": true,
              "mode": "immediate",
              "transition": {
               "duration": 0,
               "easing": "linear"
              }
             }
            ],
            "label": "2023",
            "method": "animate"
           }
          ],
          "x": 0.1,
          "xanchor": "left",
          "y": 0,
          "yanchor": "top"
         }
        ],
        "template": {
         "data": {
          "bar": [
           {
            "error_x": {
             "color": "#2a3f5f"
            },
            "error_y": {
             "color": "#2a3f5f"
            },
            "marker": {
             "line": {
              "color": "#E5ECF6",
              "width": 0.5
             },
             "pattern": {
              "fillmode": "overlay",
              "size": 10,
              "solidity": 0.2
             }
            },
            "type": "bar"
           }
          ],
          "barpolar": [
           {
            "marker": {
             "line": {
              "color": "#E5ECF6",
              "width": 0.5
             },
             "pattern": {
              "fillmode": "overlay",
              "size": 10,
              "solidity": 0.2
             }
            },
            "type": "barpolar"
           }
          ],
          "carpet": [
           {
            "aaxis": {
             "endlinecolor": "#2a3f5f",
             "gridcolor": "white",
             "linecolor": "white",
             "minorgridcolor": "white",
             "startlinecolor": "#2a3f5f"
            },
            "baxis": {
             "endlinecolor": "#2a3f5f",
             "gridcolor": "white",
             "linecolor": "white",
             "minorgridcolor": "white",
             "startlinecolor": "#2a3f5f"
            },
            "type": "carpet"
           }
          ],
          "choropleth": [
           {
            "colorbar": {
             "outlinewidth": 0,
             "ticks": ""
            },
            "type": "choropleth"
           }
          ],
          "contour": [
           {
            "colorbar": {
             "outlinewidth": 0,
             "ticks": ""
            },
            "colorscale": [
             [
              0,
              "#0d0887"
             ],
             [
              0.1111111111111111,
              "#46039f"
             ],
             [
              0.2222222222222222,
              "#7201a8"
             ],
             [
              0.3333333333333333,
              "#9c179e"
             ],
             [
              0.4444444444444444,
              "#bd3786"
             ],
             [
              0.5555555555555556,
              "#d8576b"
             ],
             [
              0.6666666666666666,
              "#ed7953"
             ],
             [
              0.7777777777777778,
              "#fb9f3a"
             ],
             [
              0.8888888888888888,
              "#fdca26"
             ],
             [
              1,
              "#f0f921"
             ]
            ],
            "type": "contour"
           }
          ],
          "contourcarpet": [
           {
            "colorbar": {
             "outlinewidth": 0,
             "ticks": ""
            },
            "type": "contourcarpet"
           }
          ],
          "heatmap": [
           {
            "colorbar": {
             "outlinewidth": 0,
             "ticks": ""
            },
            "colorscale": [
             [
              0,
              "#0d0887"
             ],
             [
              0.1111111111111111,
              "#46039f"
             ],
             [
              0.2222222222222222,
              "#7201a8"
             ],
             [
              0.3333333333333333,
              "#9c179e"
             ],
             [
              0.4444444444444444,
              "#bd3786"
             ],
             [
              0.5555555555555556,
              "#d8576b"
             ],
             [
              0.6666666666666666,
              "#ed7953"
             ],
             [
              0.7777777777777778,
              "#fb9f3a"
             ],
             [
              0.8888888888888888,
              "#fdca26"
             ],
             [
              1,
              "#f0f921"
             ]
            ],
            "type": "heatmap"
           }
          ],
          "heatmapgl": [
           {
            "colorbar": {
             "outlinewidth": 0,
             "ticks": ""
            },
            "colorscale": [
             [
              0,
              "#0d0887"
             ],
             [
              0.1111111111111111,
              "#46039f"
             ],
             [
              0.2222222222222222,
              "#7201a8"
             ],
             [
              0.3333333333333333,
              "#9c179e"
             ],
             [
              0.4444444444444444,
              "#bd3786"
             ],
             [
              0.5555555555555556,
              "#d8576b"
             ],
             [
              0.6666666666666666,
              "#ed7953"
             ],
             [
              0.7777777777777778,
              "#fb9f3a"
             ],
             [
              0.8888888888888888,
              "#fdca26"
             ],
             [
              1,
              "#f0f921"
             ]
            ],
            "type": "heatmapgl"
           }
          ],
          "histogram": [
           {
            "marker": {
             "pattern": {
              "fillmode": "overlay",
              "size": 10,
              "solidity": 0.2
             }
            },
            "type": "histogram"
           }
          ],
          "histogram2d": [
           {
            "colorbar": {
             "outlinewidth": 0,
             "ticks": ""
            },
            "colorscale": [
             [
              0,
              "#0d0887"
             ],
             [
              0.1111111111111111,
              "#46039f"
             ],
             [
              0.2222222222222222,
              "#7201a8"
             ],
             [
              0.3333333333333333,
              "#9c179e"
             ],
             [
              0.4444444444444444,
              "#bd3786"
             ],
             [
              0.5555555555555556,
              "#d8576b"
             ],
             [
              0.6666666666666666,
              "#ed7953"
             ],
             [
              0.7777777777777778,
              "#fb9f3a"
             ],
             [
              0.8888888888888888,
              "#fdca26"
             ],
             [
              1,
              "#f0f921"
             ]
            ],
            "type": "histogram2d"
           }
          ],
          "histogram2dcontour": [
           {
            "colorbar": {
             "outlinewidth": 0,
             "ticks": ""
            },
            "colorscale": [
             [
              0,
              "#0d0887"
             ],
             [
              0.1111111111111111,
              "#46039f"
             ],
             [
              0.2222222222222222,
              "#7201a8"
             ],
             [
              0.3333333333333333,
              "#9c179e"
             ],
             [
              0.4444444444444444,
              "#bd3786"
             ],
             [
              0.5555555555555556,
              "#d8576b"
             ],
             [
              0.6666666666666666,
              "#ed7953"
             ],
             [
              0.7777777777777778,
              "#fb9f3a"
             ],
             [
              0.8888888888888888,
              "#fdca26"
             ],
             [
              1,
              "#f0f921"
             ]
            ],
            "type": "histogram2dcontour"
           }
          ],
          "mesh3d": [
           {
            "colorbar": {
             "outlinewidth": 0,
             "ticks": ""
            },
            "type": "mesh3d"
           }
          ],
          "parcoords": [
           {
            "line": {
             "colorbar": {
              "outlinewidth": 0,
              "ticks": ""
             }
            },
            "type": "parcoords"
           }
          ],
          "pie": [
           {
            "automargin": true,
            "type": "pie"
           }
          ],
          "scatter": [
           {
            "fillpattern": {
             "fillmode": "overlay",
             "size": 10,
             "solidity": 0.2
            },
            "type": "scatter"
           }
          ],
          "scatter3d": [
           {
            "line": {
             "colorbar": {
              "outlinewidth": 0,
              "ticks": ""
             }
            },
            "marker": {
             "colorbar": {
              "outlinewidth": 0,
              "ticks": ""
             }
            },
            "type": "scatter3d"
           }
          ],
          "scattercarpet": [
           {
            "marker": {
             "colorbar": {
              "outlinewidth": 0,
              "ticks": ""
             }
            },
            "type": "scattercarpet"
           }
          ],
          "scattergeo": [
           {
            "marker": {
             "colorbar": {
              "outlinewidth": 0,
              "ticks": ""
             }
            },
            "type": "scattergeo"
           }
          ],
          "scattergl": [
           {
            "marker": {
             "colorbar": {
              "outlinewidth": 0,
              "ticks": ""
             }
            },
            "type": "scattergl"
           }
          ],
          "scattermapbox": [
           {
            "marker": {
             "colorbar": {
              "outlinewidth": 0,
              "ticks": ""
             }
            },
            "type": "scattermapbox"
           }
          ],
          "scatterpolar": [
           {
            "marker": {
             "colorbar": {
              "outlinewidth": 0,
              "ticks": ""
             }
            },
            "type": "scatterpolar"
           }
          ],
          "scatterpolargl": [
           {
            "marker": {
             "colorbar": {
              "outlinewidth": 0,
              "ticks": ""
             }
            },
            "type": "scatterpolargl"
           }
          ],
          "scatterternary": [
           {
            "marker": {
             "colorbar": {
              "outlinewidth": 0,
              "ticks": ""
             }
            },
            "type": "scatterternary"
           }
          ],
          "surface": [
           {
            "colorbar": {
             "outlinewidth": 0,
             "ticks": ""
            },
            "colorscale": [
             [
              0,
              "#0d0887"
             ],
             [
              0.1111111111111111,
              "#46039f"
             ],
             [
              0.2222222222222222,
              "#7201a8"
             ],
             [
              0.3333333333333333,
              "#9c179e"
             ],
             [
              0.4444444444444444,
              "#bd3786"
             ],
             [
              0.5555555555555556,
              "#d8576b"
             ],
             [
              0.6666666666666666,
              "#ed7953"
             ],
             [
              0.7777777777777778,
              "#fb9f3a"
             ],
             [
              0.8888888888888888,
              "#fdca26"
             ],
             [
              1,
              "#f0f921"
             ]
            ],
            "type": "surface"
           }
          ],
          "table": [
           {
            "cells": {
             "fill": {
              "color": "#EBF0F8"
             },
             "line": {
              "color": "white"
             }
            },
            "header": {
             "fill": {
              "color": "#C8D4E3"
             },
             "line": {
              "color": "white"
             }
            },
            "type": "table"
           }
          ]
         },
         "layout": {
          "annotationdefaults": {
           "arrowcolor": "#2a3f5f",
           "arrowhead": 0,
           "arrowwidth": 1
          },
          "autotypenumbers": "strict",
          "coloraxis": {
           "colorbar": {
            "outlinewidth": 0,
            "ticks": ""
           }
          },
          "colorscale": {
           "diverging": [
            [
             0,
             "#8e0152"
            ],
            [
             0.1,
             "#c51b7d"
            ],
            [
             0.2,
             "#de77ae"
            ],
            [
             0.3,
             "#f1b6da"
            ],
            [
             0.4,
             "#fde0ef"
            ],
            [
             0.5,
             "#f7f7f7"
            ],
            [
             0.6,
             "#e6f5d0"
            ],
            [
             0.7,
             "#b8e186"
            ],
            [
             0.8,
             "#7fbc41"
            ],
            [
             0.9,
             "#4d9221"
            ],
            [
             1,
             "#276419"
            ]
           ],
           "sequential": [
            [
             0,
             "#0d0887"
            ],
            [
             0.1111111111111111,
             "#46039f"
            ],
            [
             0.2222222222222222,
             "#7201a8"
            ],
            [
             0.3333333333333333,
             "#9c179e"
            ],
            [
             0.4444444444444444,
             "#bd3786"
            ],
            [
             0.5555555555555556,
             "#d8576b"
            ],
            [
             0.6666666666666666,
             "#ed7953"
            ],
            [
             0.7777777777777778,
             "#fb9f3a"
            ],
            [
             0.8888888888888888,
             "#fdca26"
            ],
            [
             1,
             "#f0f921"
            ]
           ],
           "sequentialminus": [
            [
             0,
             "#0d0887"
            ],
            [
             0.1111111111111111,
             "#46039f"
            ],
            [
             0.2222222222222222,
             "#7201a8"
            ],
            [
             0.3333333333333333,
             "#9c179e"
            ],
            [
             0.4444444444444444,
             "#bd3786"
            ],
            [
             0.5555555555555556,
             "#d8576b"
            ],
            [
             0.6666666666666666,
             "#ed7953"
            ],
            [
             0.7777777777777778,
             "#fb9f3a"
            ],
            [
             0.8888888888888888,
             "#fdca26"
            ],
            [
             1,
             "#f0f921"
            ]
           ]
          },
          "colorway": [
           "#636efa",
           "#EF553B",
           "#00cc96",
           "#ab63fa",
           "#FFA15A",
           "#19d3f3",
           "#FF6692",
           "#B6E880",
           "#FF97FF",
           "#FECB52"
          ],
          "font": {
           "color": "#2a3f5f"
          },
          "geo": {
           "bgcolor": "white",
           "lakecolor": "white",
           "landcolor": "#E5ECF6",
           "showlakes": true,
           "showland": true,
           "subunitcolor": "white"
          },
          "hoverlabel": {
           "align": "left"
          },
          "hovermode": "closest",
          "mapbox": {
           "style": "light"
          },
          "paper_bgcolor": "white",
          "plot_bgcolor": "#E5ECF6",
          "polar": {
           "angularaxis": {
            "gridcolor": "white",
            "linecolor": "white",
            "ticks": ""
           },
           "bgcolor": "#E5ECF6",
           "radialaxis": {
            "gridcolor": "white",
            "linecolor": "white",
            "ticks": ""
           }
          },
          "scene": {
           "xaxis": {
            "backgroundcolor": "#E5ECF6",
            "gridcolor": "white",
            "gridwidth": 2,
            "linecolor": "white",
            "showbackground": true,
            "ticks": "",
            "zerolinecolor": "white"
           },
           "yaxis": {
            "backgroundcolor": "#E5ECF6",
            "gridcolor": "white",
            "gridwidth": 2,
            "linecolor": "white",
            "showbackground": true,
            "ticks": "",
            "zerolinecolor": "white"
           },
           "zaxis": {
            "backgroundcolor": "#E5ECF6",
            "gridcolor": "white",
            "gridwidth": 2,
            "linecolor": "white",
            "showbackground": true,
            "ticks": "",
            "zerolinecolor": "white"
           }
          },
          "shapedefaults": {
           "line": {
            "color": "#2a3f5f"
           }
          },
          "ternary": {
           "aaxis": {
            "gridcolor": "white",
            "linecolor": "white",
            "ticks": ""
           },
           "baxis": {
            "gridcolor": "white",
            "linecolor": "white",
            "ticks": ""
           },
           "bgcolor": "#E5ECF6",
           "caxis": {
            "gridcolor": "white",
            "linecolor": "white",
            "ticks": ""
           }
          },
          "title": {
           "x": 0.05
          },
          "xaxis": {
           "automargin": true,
           "gridcolor": "white",
           "linecolor": "white",
           "ticks": "",
           "title": {
            "standoff": 15
           },
           "zerolinecolor": "white",
           "zerolinewidth": 2
          },
          "yaxis": {
           "automargin": true,
           "gridcolor": "white",
           "linecolor": "white",
           "ticks": "",
           "title": {
            "standoff": 15
           },
           "zerolinecolor": "white",
           "zerolinewidth": 2
          }
         }
        },
        "title": {
         "text": "Immigrants by Region"
        },
        "updatemenus": [
         {
          "buttons": [
           {
            "args": [
             null,
             {
              "frame": {
               "duration": 500,
               "redraw": true
              },
              "fromcurrent": true,
              "mode": "immediate",
              "transition": {
               "duration": 500,
               "easing": "linear"
              }
             }
            ],
            "label": "&#9654;",
            "method": "animate"
           },
           {
            "args": [
             [
              null
             ],
             {
              "frame": {
               "duration": 0,
               "redraw": true
              },
              "fromcurrent": true,
              "mode": "immediate",
              "transition": {
               "duration": 0,
               "easing": "linear"
              }
             }
            ],
            "label": "&#9724;",
            "method": "animate"
           }
          ],
          "direction": "left",
          "pad": {
           "r": 10,
           "t": 70
          },
          "showactive": false,
          "type": "buttons",
          "x": 0.1,
          "xanchor": "right",
          "y": 0,
          "yanchor": "top"
         }
        ]
       }
      },
      "text/html": [
       "<div>                            <div id=\"9a7924b1-a51d-49cc-84ba-db211c20a141\" class=\"plotly-graph-div\" style=\"height:525px; width:100%;\"></div>            <script type=\"text/javascript\">                require([\"plotly\"], function(Plotly) {                    window.PLOTLYENV=window.PLOTLYENV || {};                                    if (document.getElementById(\"9a7924b1-a51d-49cc-84ba-db211c20a141\")) {                    Plotly.newPlot(                        \"9a7924b1-a51d-49cc-84ba-db211c20a141\",                        [{\"coloraxis\":\"coloraxis\",\"customdata\":[[1656416],[2835528],[1179112],[1222811],[592528],[232584]],\"geo\":\"geo\",\"geojson\":{\"type\":\"FeatureCollection\",\"features\":[{\"type\":\"Feature\",\"id\":\"ITF\",\"properties\":{\"NUTS_ID\":\"ITF\",\"STAT_LEVL_\":1,\"SHAPE_AREA\":7.76554618345,\"SHAPE_LEN\":20.516959983},\"geometry\":{\"type\":\"Polygon\",\"coordinates\":[[[17.388981,40.89186349900001],[18.097453,40.515377999],[18.517056,40.135147999000026],[18.369068,39.793742001],[18.04794750000002,39.92847849899999],[17.76350449900002,40.295507],[17.127098,40.51762050000002],[16.867264,40.39784549900003],[16.644317,40.119095999000024],[16.52795550000002,39.66865950099998],[17.025064499999985,39.483578498999975],[17.188881,39.020471998],[16.890732,38.92712849899999],[16.566985499999987,38.765481998999974],[16.5820845,38.46979049700002],[16.0638095,37.924418996999975],[15.678212,37.95411949800001],[15.636063,38.231473498000014],[15.652291742999978,38.247265964],[15.687350835000018,38.28138256400001],[15.918956,38.50676149899999],[15.8481175,38.658864498000014],[16.2137535,38.81043999899998],[16.093153,39.04874299800002],[15.75595850000002,39.923496],[15.644945499000016,40.04279049899998],[15.356917,39.999090997999986],[14.787251500000025,40.66618049800002],[14.747420499999976,40.67764649899999],[14.692414499999984,40.63406599899997],[14.528490499999975,40.607152498],[14.46862,40.62020149900002],[14.324673,40.56908499899998],[14.460677499999974,40.74293050099999],[14.0321305,40.898838997999974],[13.760795499999972,41.22316799700002],[13.8737185,41.338294001],[13.977928,41.462454],[13.941038499,41.68794399699999],[13.296299499999975,41.94858850000003],[13.0305745,42.115353],[13.1913805,42.587491],[13.39403149899999,42.591233999],[13.3577745,42.694069997999975],[13.9157315,42.894577],[14.1469065,42.53059649900001],[14.253960499000016,42.444798499],[14.779646999000022,42.070021499],[15.13817849999998,41.92700749900001],[16.17653150000001,41.88478950000001],[15.89714,41.603231999],[16.024738500000012,41.425590499],[16.542302499000016,41.229441],[17.388981,40.89186349900001]]]}},{\"type\":\"Feature\",\"id\":\"ITG\",\"properties\":{\"NUTS_ID\":\"ITG\",\"STAT_LEVL_\":1,\"SHAPE_AREA\":5.11153895806,\"SHAPE_LEN\":15.5196852972},\"geometry\":{\"type\":\"MultiPolygon\",\"coordinates\":[[[[15.572551,38.234204998999985],[15.2580825,37.807223997999984],[15.091499,37.3577085],[15.315962500000012,37.035012498000015],[15.116582,36.67495599900002],[15.000358,36.70284749799998],[14.493577,36.78673349799999],[14.337594500000023,37.001979999000014],[14.036207,37.10602799899999],[12.896496,37.577118498],[12.672787,37.56008099899998],[12.4429295,37.81105199899997],[12.561744499999975,38.06556199800002],[12.731687,38.180297499],[12.811005,38.08151549799999],[12.9772625,38.04020599900002],[13.36569350000002,38.18228949899998],[13.7438295,37.97024649799999],[14.183486,38.01939649899998],[15.652927,38.26710399699999],[15.572551,38.234204998999985]]],[[[9.423461998999983,41.17674100099998],[9.748871999000016,40.660406997999985],[9.8270205,40.51211249900001],[9.62652699900002,40.22487699800001],[9.7352045,40.075661998999976],[9.6511185,39.54932399799998],[9.555865,39.133966997000016],[9.1099865,39.214018501],[8.859653,38.87746949899997],[8.612392,38.957787998000015],[8.368104499000026,39.21381050000002],[8.393,39.446529499],[8.5022545,39.713006999000015],[8.399809,40.40756849899998],[8.135010500000021,40.73634899899997],[8.201709,40.97256649799999],[8.4171275,40.83831349899998],[8.802688499999988,40.931047998],[9.163662,41.23562400100002],[9.423461998999983,41.17674100099998]]]]}},{\"type\":\"Feature\",\"id\":\"ITD\",\"properties\":{\"NUTS_ID\":\"ITD\",\"STAT_LEVL_\":1,\"SHAPE_AREA\":7.1090756829,\"SHAPE_LEN\":19.5663079898},\"geometry\":{\"type\":\"Polygon\",\"coordinates\":[[[12.690635,46.656972000999986],[12.73139299899998,46.634288],[13.504249500000014,46.56630399800002],[13.714184999,46.52270349999998],[13.684032,46.437472501],[13.3754925,46.29823249899999],[13.66434750000002,46.177549999],[13.496938999,46.051334999],[13.597145,45.81952250099999],[13.596243,45.807937501000026],[13.9186565,45.63351749899999],[13.7228235,45.59472549700001],[13.579783,45.786951499],[13.40649350000001,45.725175001000025],[13.130853,45.771844499999986],[13.098785501,45.644532997],[12.434162500000014,45.42448599699998],[12.631836,45.534338499],[12.413683999,45.544310500999984],[12.132562,45.300370499999985],[12.200494,45.257337],[12.2045665,45.19767599800002],[12.33057150000002,45.1605505],[12.328777,45.151860999],[12.302155605999985,45.13788754699999],[12.279706042999976,45.123266828],[12.399056499999972,44.792615501],[12.269892,44.630007497],[12.384282,44.224726499999974],[12.450349,44.162189496999986],[12.75078,43.970601500999976],[12.669299,43.823227498999984],[12.493956,43.91554650099999],[12.513435500000014,43.99126949700002],[12.4046075,43.95567850100002],[12.4177,43.899029997000014],[12.2837975,43.76489899799998],[12.107464,43.75375349699999],[11.98652850000002,43.76191399800001],[11.710189,43.877430498000024],[11.715906500000017,44.122540499000024],[11.524959500000023,44.157639999000025],[11.202439500000025,44.100721],[11.049449,44.09022999899997],[10.814787,44.11617449900001],[10.624078,44.120351501000016],[10.470149,44.226041001],[10.253875,44.26856699899997],[10.142054499999972,44.353852999000026],[9.686725500000023,44.36592199900002],[9.4790595,44.40924050000001],[9.493363,44.555858999],[9.202995499999986,44.613476499],[9.200074,44.68609949699999],[9.3246605,44.69],[9.548684499999979,45.13264849900003],[9.8911015,45.130898],[10.083503,45.04395850100002],[10.464030499999978,44.93717150100002],[10.504344,44.922417999],[10.887909499999978,44.914265999],[11.246231500000022,44.951427997],[11.426765499999988,44.950076],[11.205502500000023,45.10948749900001],[10.6546555,45.41582699899999],[10.631074,45.60951250099998],[10.840176499999984,45.832758501],[10.502388,45.830373],[10.515751500000022,46.34322449699999],[10.622145499999988,46.448101999000016],[10.452801,46.53068299900002],[10.4696515,46.854909],[11.02225,46.765410498999984],[11.164281500000016,46.96572250000003],[11.627199500000017,47.013299],[12.136014,47.0806675],[12.2407455,47.069168499],[12.143811,46.913779998],[12.477924,46.67983549799999],[12.690635,46.656972000999986]]]}},{\"type\":\"Feature\",\"id\":\"ITE\",\"properties\":{\"NUTS_ID\":\"ITE\",\"STAT_LEVL_\":1,\"SHAPE_AREA\":6.33140759553,\"SHAPE_LEN\":14.0181138018},\"geometry\":{\"type\":\"Polygon\",\"coordinates\":[[[12.4177,43.899029997000014],[12.493956,43.91554650099999],[12.669299,43.823227498999984],[12.75078,43.970601500999976],[13.172615,43.75034599899999],[13.6420965,43.47414249899998],[13.742970499000023,43.29414699900002],[13.849453,43.06665949799998],[13.9157315,42.894577],[13.3577745,42.694069997999975],[13.39403149899999,42.591233999],[13.1913805,42.587491],[13.0305745,42.115353],[13.296299499999975,41.94858850000003],[13.941038499,41.68794399699999],[13.977928,41.462454],[13.8737185,41.338294001],[13.760795499999972,41.22316799700002],[13.067982,41.221979],[12.7733215,41.41626399900002],[11.733844,42.15805899899999],[11.449938499999973,42.37767050100001],[11.0979815,42.393149499],[11.1765795,42.541544],[10.7056725,42.9418645],[10.499046,42.93527050099999],[10.528247498999974,43.231603999000015],[10.299847,43.58192899900001],[10.258118,43.81514699899998],[10.143476,43.97542049899999],[10.018769500000019,44.044535998000015],[9.686725500000023,44.36592199900002],[10.142054499999972,44.353852999000026],[10.253875,44.26856699899997],[10.470149,44.226041001],[10.624078,44.120351501000016],[10.814787,44.11617449900001],[11.049449,44.09022999899997],[11.202439500000025,44.100721],[11.524959500000023,44.157639999000025],[11.715906500000017,44.122540499000024],[11.710189,43.877430498000024],[11.98652850000002,43.76191399800001],[12.107464,43.75375349699999],[12.2837975,43.76489899799998],[12.4177,43.899029997000014]],[[12.4466885,41.90174499800003],[12.458003,41.90148549899999],[12.45582,41.907197499],[12.4466885,41.90174499800003]]]}},{\"type\":\"Feature\",\"id\":\"ITC\",\"properties\":{\"NUTS_ID\":\"ITC\",\"STAT_LEVL_\":1,\"SHAPE_AREA\":6.68473353585,\"SHAPE_LEN\":17.1356662484},\"geometry\":{\"type\":\"Polygon\",\"coordinates\":[[[10.452801,46.53068299900002],[10.622145499999988,46.448101999000016],[10.515751500000022,46.34322449699999],[10.502388,45.830373],[10.840176499999984,45.832758501],[10.631074,45.60951250099998],[10.6546555,45.41582699899999],[11.205502500000023,45.10948749900001],[11.426765499999988,44.950076],[11.246231500000022,44.951427997],[10.887909499999978,44.914265999],[10.504344,44.922417999],[10.464030499999978,44.93717150100002],[10.083503,45.04395850100002],[9.8911015,45.130898],[9.548684499999979,45.13264849900003],[9.3246605,44.69],[9.200074,44.68609949699999],[9.202995499999986,44.613476499],[9.493363,44.555858999],[9.4790595,44.40924050000001],[9.686725500000023,44.36592199900002],[10.018769500000019,44.044535998000015],[9.511344,44.21667549799997],[8.63301,44.379803498],[8.135350999000025,43.93894049800002],[7.529827,43.784007997],[7.714236500000027,44.061513499],[7.007760500000018,44.23670049899999],[6.887428,44.361287],[6.948443,44.654741999],[7.065755,44.71346449700002],[6.630051,45.10985649999998],[7.125157,45.243994498],[7.104723,45.46845449900002],[6.8023685,45.778562],[7.044886,45.92241299900002],[7.86407650000001,45.91675049999998],[7.8771375,45.926954997999985],[8.384717,46.452158499],[8.713936,46.097271998999986],[8.912147,45.830444999],[9.088803499999983,45.89689700100001],[8.988276499999984,45.97228249800003],[9.1593775,46.169601],[9.248531500000013,46.23376800099999],[9.714149500000019,46.292708499000014],[10.2448745,46.62209199799997],[10.452801,46.53068299900002]]]}}]},\"hovertemplate\":\"<b>%{hovertext}</b><br><br>Year=2018<br>Territory=%{location}<br>Quantity=%{z}<extra></extra>\",\"hovertext\":[\"ITC\",\"ITCD\",\"ITD\",\"ITE\",\"ITF\",\"ITG\"],\"locations\":[\"ITC\",\"ITCD\",\"ITD\",\"ITE\",\"ITF\",\"ITG\"],\"name\":\"\",\"z\":[1656416,2835528,1179112,1222811,592528,232584],\"type\":\"choropleth\"}],                        {\"template\":{\"data\":{\"histogram2dcontour\":[{\"type\":\"histogram2dcontour\",\"colorbar\":{\"outlinewidth\":0,\"ticks\":\"\"},\"colorscale\":[[0.0,\"#0d0887\"],[0.1111111111111111,\"#46039f\"],[0.2222222222222222,\"#7201a8\"],[0.3333333333333333,\"#9c179e\"],[0.4444444444444444,\"#bd3786\"],[0.5555555555555556,\"#d8576b\"],[0.6666666666666666,\"#ed7953\"],[0.7777777777777778,\"#fb9f3a\"],[0.8888888888888888,\"#fdca26\"],[1.0,\"#f0f921\"]]}],\"choropleth\":[{\"type\":\"choropleth\",\"colorbar\":{\"outlinewidth\":0,\"ticks\":\"\"}}],\"histogram2d\":[{\"type\":\"histogram2d\",\"colorbar\":{\"outlinewidth\":0,\"ticks\":\"\"},\"colorscale\":[[0.0,\"#0d0887\"],[0.1111111111111111,\"#46039f\"],[0.2222222222222222,\"#7201a8\"],[0.3333333333333333,\"#9c179e\"],[0.4444444444444444,\"#bd3786\"],[0.5555555555555556,\"#d8576b\"],[0.6666666666666666,\"#ed7953\"],[0.7777777777777778,\"#fb9f3a\"],[0.8888888888888888,\"#fdca26\"],[1.0,\"#f0f921\"]]}],\"heatmap\":[{\"type\":\"heatmap\",\"colorbar\":{\"outlinewidth\":0,\"ticks\":\"\"},\"colorscale\":[[0.0,\"#0d0887\"],[0.1111111111111111,\"#46039f\"],[0.2222222222222222,\"#7201a8\"],[0.3333333333333333,\"#9c179e\"],[0.4444444444444444,\"#bd3786\"],[0.5555555555555556,\"#d8576b\"],[0.6666666666666666,\"#ed7953\"],[0.7777777777777778,\"#fb9f3a\"],[0.8888888888888888,\"#fdca26\"],[1.0,\"#f0f921\"]]}],\"heatmapgl\":[{\"type\":\"heatmapgl\",\"colorbar\":{\"outlinewidth\":0,\"ticks\":\"\"},\"colorscale\":[[0.0,\"#0d0887\"],[0.1111111111111111,\"#46039f\"],[0.2222222222222222,\"#7201a8\"],[0.3333333333333333,\"#9c179e\"],[0.4444444444444444,\"#bd3786\"],[0.5555555555555556,\"#d8576b\"],[0.6666666666666666,\"#ed7953\"],[0.7777777777777778,\"#fb9f3a\"],[0.8888888888888888,\"#fdca26\"],[1.0,\"#f0f921\"]]}],\"contourcarpet\":[{\"type\":\"contourcarpet\",\"colorbar\":{\"outlinewidth\":0,\"ticks\":\"\"}}],\"contour\":[{\"type\":\"contour\",\"colorbar\":{\"outlinewidth\":0,\"ticks\":\"\"},\"colorscale\":[[0.0,\"#0d0887\"],[0.1111111111111111,\"#46039f\"],[0.2222222222222222,\"#7201a8\"],[0.3333333333333333,\"#9c179e\"],[0.4444444444444444,\"#bd3786\"],[0.5555555555555556,\"#d8576b\"],[0.6666666666666666,\"#ed7953\"],[0.7777777777777778,\"#fb9f3a\"],[0.8888888888888888,\"#fdca26\"],[1.0,\"#f0f921\"]]}],\"surface\":[{\"type\":\"surface\",\"colorbar\":{\"outlinewidth\":0,\"ticks\":\"\"},\"colorscale\":[[0.0,\"#0d0887\"],[0.1111111111111111,\"#46039f\"],[0.2222222222222222,\"#7201a8\"],[0.3333333333333333,\"#9c179e\"],[0.4444444444444444,\"#bd3786\"],[0.5555555555555556,\"#d8576b\"],[0.6666666666666666,\"#ed7953\"],[0.7777777777777778,\"#fb9f3a\"],[0.8888888888888888,\"#fdca26\"],[1.0,\"#f0f921\"]]}],\"mesh3d\":[{\"type\":\"mesh3d\",\"colorbar\":{\"outlinewidth\":0,\"ticks\":\"\"}}],\"scatter\":[{\"fillpattern\":{\"fillmode\":\"overlay\",\"size\":10,\"solidity\":0.2},\"type\":\"scatter\"}],\"parcoords\":[{\"type\":\"parcoords\",\"line\":{\"colorbar\":{\"outlinewidth\":0,\"ticks\":\"\"}}}],\"scatterpolargl\":[{\"type\":\"scatterpolargl\",\"marker\":{\"colorbar\":{\"outlinewidth\":0,\"ticks\":\"\"}}}],\"bar\":[{\"error_x\":{\"color\":\"#2a3f5f\"},\"error_y\":{\"color\":\"#2a3f5f\"},\"marker\":{\"line\":{\"color\":\"#E5ECF6\",\"width\":0.5},\"pattern\":{\"fillmode\":\"overlay\",\"size\":10,\"solidity\":0.2}},\"type\":\"bar\"}],\"scattergeo\":[{\"type\":\"scattergeo\",\"marker\":{\"colorbar\":{\"outlinewidth\":0,\"ticks\":\"\"}}}],\"scatterpolar\":[{\"type\":\"scatterpolar\",\"marker\":{\"colorbar\":{\"outlinewidth\":0,\"ticks\":\"\"}}}],\"histogram\":[{\"marker\":{\"pattern\":{\"fillmode\":\"overlay\",\"size\":10,\"solidity\":0.2}},\"type\":\"histogram\"}],\"scattergl\":[{\"type\":\"scattergl\",\"marker\":{\"colorbar\":{\"outlinewidth\":0,\"ticks\":\"\"}}}],\"scatter3d\":[{\"type\":\"scatter3d\",\"line\":{\"colorbar\":{\"outlinewidth\":0,\"ticks\":\"\"}},\"marker\":{\"colorbar\":{\"outlinewidth\":0,\"ticks\":\"\"}}}],\"scattermapbox\":[{\"type\":\"scattermapbox\",\"marker\":{\"colorbar\":{\"outlinewidth\":0,\"ticks\":\"\"}}}],\"scatterternary\":[{\"type\":\"scatterternary\",\"marker\":{\"colorbar\":{\"outlinewidth\":0,\"ticks\":\"\"}}}],\"scattercarpet\":[{\"type\":\"scattercarpet\",\"marker\":{\"colorbar\":{\"outlinewidth\":0,\"ticks\":\"\"}}}],\"carpet\":[{\"aaxis\":{\"endlinecolor\":\"#2a3f5f\",\"gridcolor\":\"white\",\"linecolor\":\"white\",\"minorgridcolor\":\"white\",\"startlinecolor\":\"#2a3f5f\"},\"baxis\":{\"endlinecolor\":\"#2a3f5f\",\"gridcolor\":\"white\",\"linecolor\":\"white\",\"minorgridcolor\":\"white\",\"startlinecolor\":\"#2a3f5f\"},\"type\":\"carpet\"}],\"table\":[{\"cells\":{\"fill\":{\"color\":\"#EBF0F8\"},\"line\":{\"color\":\"white\"}},\"header\":{\"fill\":{\"color\":\"#C8D4E3\"},\"line\":{\"color\":\"white\"}},\"type\":\"table\"}],\"barpolar\":[{\"marker\":{\"line\":{\"color\":\"#E5ECF6\",\"width\":0.5},\"pattern\":{\"fillmode\":\"overlay\",\"size\":10,\"solidity\":0.2}},\"type\":\"barpolar\"}],\"pie\":[{\"automargin\":true,\"type\":\"pie\"}]},\"layout\":{\"autotypenumbers\":\"strict\",\"colorway\":[\"#636efa\",\"#EF553B\",\"#00cc96\",\"#ab63fa\",\"#FFA15A\",\"#19d3f3\",\"#FF6692\",\"#B6E880\",\"#FF97FF\",\"#FECB52\"],\"font\":{\"color\":\"#2a3f5f\"},\"hovermode\":\"closest\",\"hoverlabel\":{\"align\":\"left\"},\"paper_bgcolor\":\"white\",\"plot_bgcolor\":\"#E5ECF6\",\"polar\":{\"bgcolor\":\"#E5ECF6\",\"angularaxis\":{\"gridcolor\":\"white\",\"linecolor\":\"white\",\"ticks\":\"\"},\"radialaxis\":{\"gridcolor\":\"white\",\"linecolor\":\"white\",\"ticks\":\"\"}},\"ternary\":{\"bgcolor\":\"#E5ECF6\",\"aaxis\":{\"gridcolor\":\"white\",\"linecolor\":\"white\",\"ticks\":\"\"},\"baxis\":{\"gridcolor\":\"white\",\"linecolor\":\"white\",\"ticks\":\"\"},\"caxis\":{\"gridcolor\":\"white\",\"linecolor\":\"white\",\"ticks\":\"\"}},\"coloraxis\":{\"colorbar\":{\"outlinewidth\":0,\"ticks\":\"\"}},\"colorscale\":{\"sequential\":[[0.0,\"#0d0887\"],[0.1111111111111111,\"#46039f\"],[0.2222222222222222,\"#7201a8\"],[0.3333333333333333,\"#9c179e\"],[0.4444444444444444,\"#bd3786\"],[0.5555555555555556,\"#d8576b\"],[0.6666666666666666,\"#ed7953\"],[0.7777777777777778,\"#fb9f3a\"],[0.8888888888888888,\"#fdca26\"],[1.0,\"#f0f921\"]],\"sequentialminus\":[[0.0,\"#0d0887\"],[0.1111111111111111,\"#46039f\"],[0.2222222222222222,\"#7201a8\"],[0.3333333333333333,\"#9c179e\"],[0.4444444444444444,\"#bd3786\"],[0.5555555555555556,\"#d8576b\"],[0.6666666666666666,\"#ed7953\"],[0.7777777777777778,\"#fb9f3a\"],[0.8888888888888888,\"#fdca26\"],[1.0,\"#f0f921\"]],\"diverging\":[[0,\"#8e0152\"],[0.1,\"#c51b7d\"],[0.2,\"#de77ae\"],[0.3,\"#f1b6da\"],[0.4,\"#fde0ef\"],[0.5,\"#f7f7f7\"],[0.6,\"#e6f5d0\"],[0.7,\"#b8e186\"],[0.8,\"#7fbc41\"],[0.9,\"#4d9221\"],[1,\"#276419\"]]},\"xaxis\":{\"gridcolor\":\"white\",\"linecolor\":\"white\",\"ticks\":\"\",\"title\":{\"standoff\":15},\"zerolinecolor\":\"white\",\"automargin\":true,\"zerolinewidth\":2},\"yaxis\":{\"gridcolor\":\"white\",\"linecolor\":\"white\",\"ticks\":\"\",\"title\":{\"standoff\":15},\"zerolinecolor\":\"white\",\"automargin\":true,\"zerolinewidth\":2},\"scene\":{\"xaxis\":{\"backgroundcolor\":\"#E5ECF6\",\"gridcolor\":\"white\",\"linecolor\":\"white\",\"showbackground\":true,\"ticks\":\"\",\"zerolinecolor\":\"white\",\"gridwidth\":2},\"yaxis\":{\"backgroundcolor\":\"#E5ECF6\",\"gridcolor\":\"white\",\"linecolor\":\"white\",\"showbackground\":true,\"ticks\":\"\",\"zerolinecolor\":\"white\",\"gridwidth\":2},\"zaxis\":{\"backgroundcolor\":\"#E5ECF6\",\"gridcolor\":\"white\",\"linecolor\":\"white\",\"showbackground\":true,\"ticks\":\"\",\"zerolinecolor\":\"white\",\"gridwidth\":2}},\"shapedefaults\":{\"line\":{\"color\":\"#2a3f5f\"}},\"annotationdefaults\":{\"arrowcolor\":\"#2a3f5f\",\"arrowhead\":0,\"arrowwidth\":1},\"geo\":{\"bgcolor\":\"white\",\"landcolor\":\"#E5ECF6\",\"subunitcolor\":\"white\",\"showland\":true,\"showlakes\":true,\"lakecolor\":\"white\"},\"title\":{\"x\":0.05},\"mapbox\":{\"style\":\"light\"}}},\"geo\":{\"domain\":{\"x\":[0.0,1.0],\"y\":[0.0,1.0]},\"center\":{},\"fitbounds\":\"locations\",\"visible\":false},\"coloraxis\":{\"colorbar\":{\"title\":{\"text\":\"Quantity\"}},\"colorscale\":[[0.0,\"#0d0887\"],[0.1111111111111111,\"#46039f\"],[0.2222222222222222,\"#7201a8\"],[0.3333333333333333,\"#9c179e\"],[0.4444444444444444,\"#bd3786\"],[0.5555555555555556,\"#d8576b\"],[0.6666666666666666,\"#ed7953\"],[0.7777777777777778,\"#fb9f3a\"],[0.8888888888888888,\"#fdca26\"],[1.0,\"#f0f921\"]]},\"legend\":{\"tracegroupgap\":0},\"title\":{\"text\":\"Immigrants by Region\"},\"updatemenus\":[{\"buttons\":[{\"args\":[null,{\"frame\":{\"duration\":500,\"redraw\":true},\"mode\":\"immediate\",\"fromcurrent\":true,\"transition\":{\"duration\":500,\"easing\":\"linear\"}}],\"label\":\"&#9654;\",\"method\":\"animate\"},{\"args\":[[null],{\"frame\":{\"duration\":0,\"redraw\":true},\"mode\":\"immediate\",\"fromcurrent\":true,\"transition\":{\"duration\":0,\"easing\":\"linear\"}}],\"label\":\"&#9724;\",\"method\":\"animate\"}],\"direction\":\"left\",\"pad\":{\"r\":10,\"t\":70},\"showactive\":false,\"type\":\"buttons\",\"x\":0.1,\"xanchor\":\"right\",\"y\":0,\"yanchor\":\"top\"}],\"sliders\":[{\"active\":0,\"currentvalue\":{\"prefix\":\"Year=\"},\"len\":0.9,\"pad\":{\"b\":10,\"t\":60},\"steps\":[{\"args\":[[\"2018\"],{\"frame\":{\"duration\":0,\"redraw\":true},\"mode\":\"immediate\",\"fromcurrent\":true,\"transition\":{\"duration\":0,\"easing\":\"linear\"}}],\"label\":\"2018\",\"method\":\"animate\"},{\"args\":[[\"2019\"],{\"frame\":{\"duration\":0,\"redraw\":true},\"mode\":\"immediate\",\"fromcurrent\":true,\"transition\":{\"duration\":0,\"easing\":\"linear\"}}],\"label\":\"2019\",\"method\":\"animate\"},{\"args\":[[\"2020\"],{\"frame\":{\"duration\":0,\"redraw\":true},\"mode\":\"immediate\",\"fromcurrent\":true,\"transition\":{\"duration\":0,\"easing\":\"linear\"}}],\"label\":\"2020\",\"method\":\"animate\"},{\"args\":[[\"2021\"],{\"frame\":{\"duration\":0,\"redraw\":true},\"mode\":\"immediate\",\"fromcurrent\":true,\"transition\":{\"duration\":0,\"easing\":\"linear\"}}],\"label\":\"2021\",\"method\":\"animate\"},{\"args\":[[\"2022\"],{\"frame\":{\"duration\":0,\"redraw\":true},\"mode\":\"immediate\",\"fromcurrent\":true,\"transition\":{\"duration\":0,\"easing\":\"linear\"}}],\"label\":\"2022\",\"method\":\"animate\"},{\"args\":[[\"2023\"],{\"frame\":{\"duration\":0,\"redraw\":true},\"mode\":\"immediate\",\"fromcurrent\":true,\"transition\":{\"duration\":0,\"easing\":\"linear\"}}],\"label\":\"2023\",\"method\":\"animate\"}],\"x\":0.1,\"xanchor\":\"left\",\"y\":0,\"yanchor\":\"top\"}]},                        {\"responsive\": true}                    ).then(function(){\n",
       "                            Plotly.addFrames('9a7924b1-a51d-49cc-84ba-db211c20a141', [{\"data\":[{\"coloraxis\":\"coloraxis\",\"customdata\":[[1656416],[2835528],[1179112],[1222811],[592528],[232584]],\"geo\":\"geo\",\"geojson\":{\"type\":\"FeatureCollection\",\"features\":[{\"type\":\"Feature\",\"id\":\"ITF\",\"properties\":{\"NUTS_ID\":\"ITF\",\"STAT_LEVL_\":1,\"SHAPE_AREA\":7.76554618345,\"SHAPE_LEN\":20.516959983},\"geometry\":{\"type\":\"Polygon\",\"coordinates\":[[[17.388981,40.89186349900001],[18.097453,40.515377999],[18.517056,40.135147999000026],[18.369068,39.793742001],[18.04794750000002,39.92847849899999],[17.76350449900002,40.295507],[17.127098,40.51762050000002],[16.867264,40.39784549900003],[16.644317,40.119095999000024],[16.52795550000002,39.66865950099998],[17.025064499999985,39.483578498999975],[17.188881,39.020471998],[16.890732,38.92712849899999],[16.566985499999987,38.765481998999974],[16.5820845,38.46979049700002],[16.0638095,37.924418996999975],[15.678212,37.95411949800001],[15.636063,38.231473498000014],[15.652291742999978,38.247265964],[15.687350835000018,38.28138256400001],[15.918956,38.50676149899999],[15.8481175,38.658864498000014],[16.2137535,38.81043999899998],[16.093153,39.04874299800002],[15.75595850000002,39.923496],[15.644945499000016,40.04279049899998],[15.356917,39.999090997999986],[14.787251500000025,40.66618049800002],[14.747420499999976,40.67764649899999],[14.692414499999984,40.63406599899997],[14.528490499999975,40.607152498],[14.46862,40.62020149900002],[14.324673,40.56908499899998],[14.460677499999974,40.74293050099999],[14.0321305,40.898838997999974],[13.760795499999972,41.22316799700002],[13.8737185,41.338294001],[13.977928,41.462454],[13.941038499,41.68794399699999],[13.296299499999975,41.94858850000003],[13.0305745,42.115353],[13.1913805,42.587491],[13.39403149899999,42.591233999],[13.3577745,42.694069997999975],[13.9157315,42.894577],[14.1469065,42.53059649900001],[14.253960499000016,42.444798499],[14.779646999000022,42.070021499],[15.13817849999998,41.92700749900001],[16.17653150000001,41.88478950000001],[15.89714,41.603231999],[16.024738500000012,41.425590499],[16.542302499000016,41.229441],[17.388981,40.89186349900001]]]}},{\"type\":\"Feature\",\"id\":\"ITG\",\"properties\":{\"NUTS_ID\":\"ITG\",\"STAT_LEVL_\":1,\"SHAPE_AREA\":5.11153895806,\"SHAPE_LEN\":15.5196852972},\"geometry\":{\"type\":\"MultiPolygon\",\"coordinates\":[[[[15.572551,38.234204998999985],[15.2580825,37.807223997999984],[15.091499,37.3577085],[15.315962500000012,37.035012498000015],[15.116582,36.67495599900002],[15.000358,36.70284749799998],[14.493577,36.78673349799999],[14.337594500000023,37.001979999000014],[14.036207,37.10602799899999],[12.896496,37.577118498],[12.672787,37.56008099899998],[12.4429295,37.81105199899997],[12.561744499999975,38.06556199800002],[12.731687,38.180297499],[12.811005,38.08151549799999],[12.9772625,38.04020599900002],[13.36569350000002,38.18228949899998],[13.7438295,37.97024649799999],[14.183486,38.01939649899998],[15.652927,38.26710399699999],[15.572551,38.234204998999985]]],[[[9.423461998999983,41.17674100099998],[9.748871999000016,40.660406997999985],[9.8270205,40.51211249900001],[9.62652699900002,40.22487699800001],[9.7352045,40.075661998999976],[9.6511185,39.54932399799998],[9.555865,39.133966997000016],[9.1099865,39.214018501],[8.859653,38.87746949899997],[8.612392,38.957787998000015],[8.368104499000026,39.21381050000002],[8.393,39.446529499],[8.5022545,39.713006999000015],[8.399809,40.40756849899998],[8.135010500000021,40.73634899899997],[8.201709,40.97256649799999],[8.4171275,40.83831349899998],[8.802688499999988,40.931047998],[9.163662,41.23562400100002],[9.423461998999983,41.17674100099998]]]]}},{\"type\":\"Feature\",\"id\":\"ITD\",\"properties\":{\"NUTS_ID\":\"ITD\",\"STAT_LEVL_\":1,\"SHAPE_AREA\":7.1090756829,\"SHAPE_LEN\":19.5663079898},\"geometry\":{\"type\":\"Polygon\",\"coordinates\":[[[12.690635,46.656972000999986],[12.73139299899998,46.634288],[13.504249500000014,46.56630399800002],[13.714184999,46.52270349999998],[13.684032,46.437472501],[13.3754925,46.29823249899999],[13.66434750000002,46.177549999],[13.496938999,46.051334999],[13.597145,45.81952250099999],[13.596243,45.807937501000026],[13.9186565,45.63351749899999],[13.7228235,45.59472549700001],[13.579783,45.786951499],[13.40649350000001,45.725175001000025],[13.130853,45.771844499999986],[13.098785501,45.644532997],[12.434162500000014,45.42448599699998],[12.631836,45.534338499],[12.413683999,45.544310500999984],[12.132562,45.300370499999985],[12.200494,45.257337],[12.2045665,45.19767599800002],[12.33057150000002,45.1605505],[12.328777,45.151860999],[12.302155605999985,45.13788754699999],[12.279706042999976,45.123266828],[12.399056499999972,44.792615501],[12.269892,44.630007497],[12.384282,44.224726499999974],[12.450349,44.162189496999986],[12.75078,43.970601500999976],[12.669299,43.823227498999984],[12.493956,43.91554650099999],[12.513435500000014,43.99126949700002],[12.4046075,43.95567850100002],[12.4177,43.899029997000014],[12.2837975,43.76489899799998],[12.107464,43.75375349699999],[11.98652850000002,43.76191399800001],[11.710189,43.877430498000024],[11.715906500000017,44.122540499000024],[11.524959500000023,44.157639999000025],[11.202439500000025,44.100721],[11.049449,44.09022999899997],[10.814787,44.11617449900001],[10.624078,44.120351501000016],[10.470149,44.226041001],[10.253875,44.26856699899997],[10.142054499999972,44.353852999000026],[9.686725500000023,44.36592199900002],[9.4790595,44.40924050000001],[9.493363,44.555858999],[9.202995499999986,44.613476499],[9.200074,44.68609949699999],[9.3246605,44.69],[9.548684499999979,45.13264849900003],[9.8911015,45.130898],[10.083503,45.04395850100002],[10.464030499999978,44.93717150100002],[10.504344,44.922417999],[10.887909499999978,44.914265999],[11.246231500000022,44.951427997],[11.426765499999988,44.950076],[11.205502500000023,45.10948749900001],[10.6546555,45.41582699899999],[10.631074,45.60951250099998],[10.840176499999984,45.832758501],[10.502388,45.830373],[10.515751500000022,46.34322449699999],[10.622145499999988,46.448101999000016],[10.452801,46.53068299900002],[10.4696515,46.854909],[11.02225,46.765410498999984],[11.164281500000016,46.96572250000003],[11.627199500000017,47.013299],[12.136014,47.0806675],[12.2407455,47.069168499],[12.143811,46.913779998],[12.477924,46.67983549799999],[12.690635,46.656972000999986]]]}},{\"type\":\"Feature\",\"id\":\"ITE\",\"properties\":{\"NUTS_ID\":\"ITE\",\"STAT_LEVL_\":1,\"SHAPE_AREA\":6.33140759553,\"SHAPE_LEN\":14.0181138018},\"geometry\":{\"type\":\"Polygon\",\"coordinates\":[[[12.4177,43.899029997000014],[12.493956,43.91554650099999],[12.669299,43.823227498999984],[12.75078,43.970601500999976],[13.172615,43.75034599899999],[13.6420965,43.47414249899998],[13.742970499000023,43.29414699900002],[13.849453,43.06665949799998],[13.9157315,42.894577],[13.3577745,42.694069997999975],[13.39403149899999,42.591233999],[13.1913805,42.587491],[13.0305745,42.115353],[13.296299499999975,41.94858850000003],[13.941038499,41.68794399699999],[13.977928,41.462454],[13.8737185,41.338294001],[13.760795499999972,41.22316799700002],[13.067982,41.221979],[12.7733215,41.41626399900002],[11.733844,42.15805899899999],[11.449938499999973,42.37767050100001],[11.0979815,42.393149499],[11.1765795,42.541544],[10.7056725,42.9418645],[10.499046,42.93527050099999],[10.528247498999974,43.231603999000015],[10.299847,43.58192899900001],[10.258118,43.81514699899998],[10.143476,43.97542049899999],[10.018769500000019,44.044535998000015],[9.686725500000023,44.36592199900002],[10.142054499999972,44.353852999000026],[10.253875,44.26856699899997],[10.470149,44.226041001],[10.624078,44.120351501000016],[10.814787,44.11617449900001],[11.049449,44.09022999899997],[11.202439500000025,44.100721],[11.524959500000023,44.157639999000025],[11.715906500000017,44.122540499000024],[11.710189,43.877430498000024],[11.98652850000002,43.76191399800001],[12.107464,43.75375349699999],[12.2837975,43.76489899799998],[12.4177,43.899029997000014]],[[12.4466885,41.90174499800003],[12.458003,41.90148549899999],[12.45582,41.907197499],[12.4466885,41.90174499800003]]]}},{\"type\":\"Feature\",\"id\":\"ITC\",\"properties\":{\"NUTS_ID\":\"ITC\",\"STAT_LEVL_\":1,\"SHAPE_AREA\":6.68473353585,\"SHAPE_LEN\":17.1356662484},\"geometry\":{\"type\":\"Polygon\",\"coordinates\":[[[10.452801,46.53068299900002],[10.622145499999988,46.448101999000016],[10.515751500000022,46.34322449699999],[10.502388,45.830373],[10.840176499999984,45.832758501],[10.631074,45.60951250099998],[10.6546555,45.41582699899999],[11.205502500000023,45.10948749900001],[11.426765499999988,44.950076],[11.246231500000022,44.951427997],[10.887909499999978,44.914265999],[10.504344,44.922417999],[10.464030499999978,44.93717150100002],[10.083503,45.04395850100002],[9.8911015,45.130898],[9.548684499999979,45.13264849900003],[9.3246605,44.69],[9.200074,44.68609949699999],[9.202995499999986,44.613476499],[9.493363,44.555858999],[9.4790595,44.40924050000001],[9.686725500000023,44.36592199900002],[10.018769500000019,44.044535998000015],[9.511344,44.21667549799997],[8.63301,44.379803498],[8.135350999000025,43.93894049800002],[7.529827,43.784007997],[7.714236500000027,44.061513499],[7.007760500000018,44.23670049899999],[6.887428,44.361287],[6.948443,44.654741999],[7.065755,44.71346449700002],[6.630051,45.10985649999998],[7.125157,45.243994498],[7.104723,45.46845449900002],[6.8023685,45.778562],[7.044886,45.92241299900002],[7.86407650000001,45.91675049999998],[7.8771375,45.926954997999985],[8.384717,46.452158499],[8.713936,46.097271998999986],[8.912147,45.830444999],[9.088803499999983,45.89689700100001],[8.988276499999984,45.97228249800003],[9.1593775,46.169601],[9.248531500000013,46.23376800099999],[9.714149500000019,46.292708499000014],[10.2448745,46.62209199799997],[10.452801,46.53068299900002]]]}}]},\"hovertemplate\":\"<b>%{hovertext}</b><br><br>Year=2018<br>Territory=%{location}<br>Quantity=%{z}<extra></extra>\",\"hovertext\":[\"ITC\",\"ITCD\",\"ITD\",\"ITE\",\"ITF\",\"ITG\"],\"locations\":[\"ITC\",\"ITCD\",\"ITD\",\"ITE\",\"ITF\",\"ITG\"],\"name\":\"\",\"z\":[1656416,2835528,1179112,1222811,592528,232584],\"type\":\"choropleth\"}],\"name\":\"2018\"},{\"data\":[{\"coloraxis\":\"coloraxis\",\"customdata\":[[1687560],[2900417],[1212857],[1246779],[609173],[239789]],\"geo\":\"geo\",\"geojson\":{\"type\":\"FeatureCollection\",\"features\":[{\"type\":\"Feature\",\"id\":\"ITF\",\"properties\":{\"NUTS_ID\":\"ITF\",\"STAT_LEVL_\":1,\"SHAPE_AREA\":7.76554618345,\"SHAPE_LEN\":20.516959983},\"geometry\":{\"type\":\"Polygon\",\"coordinates\":[[[17.388981,40.89186349900001],[18.097453,40.515377999],[18.517056,40.135147999000026],[18.369068,39.793742001],[18.04794750000002,39.92847849899999],[17.76350449900002,40.295507],[17.127098,40.51762050000002],[16.867264,40.39784549900003],[16.644317,40.119095999000024],[16.52795550000002,39.66865950099998],[17.025064499999985,39.483578498999975],[17.188881,39.020471998],[16.890732,38.92712849899999],[16.566985499999987,38.765481998999974],[16.5820845,38.46979049700002],[16.0638095,37.924418996999975],[15.678212,37.95411949800001],[15.636063,38.231473498000014],[15.652291742999978,38.247265964],[15.687350835000018,38.28138256400001],[15.918956,38.50676149899999],[15.8481175,38.658864498000014],[16.2137535,38.81043999899998],[16.093153,39.04874299800002],[15.75595850000002,39.923496],[15.644945499000016,40.04279049899998],[15.356917,39.999090997999986],[14.787251500000025,40.66618049800002],[14.747420499999976,40.67764649899999],[14.692414499999984,40.63406599899997],[14.528490499999975,40.607152498],[14.46862,40.62020149900002],[14.324673,40.56908499899998],[14.460677499999974,40.74293050099999],[14.0321305,40.898838997999974],[13.760795499999972,41.22316799700002],[13.8737185,41.338294001],[13.977928,41.462454],[13.941038499,41.68794399699999],[13.296299499999975,41.94858850000003],[13.0305745,42.115353],[13.1913805,42.587491],[13.39403149899999,42.591233999],[13.3577745,42.694069997999975],[13.9157315,42.894577],[14.1469065,42.53059649900001],[14.253960499000016,42.444798499],[14.779646999000022,42.070021499],[15.13817849999998,41.92700749900001],[16.17653150000001,41.88478950000001],[15.89714,41.603231999],[16.024738500000012,41.425590499],[16.542302499000016,41.229441],[17.388981,40.89186349900001]]]}},{\"type\":\"Feature\",\"id\":\"ITG\",\"properties\":{\"NUTS_ID\":\"ITG\",\"STAT_LEVL_\":1,\"SHAPE_AREA\":5.11153895806,\"SHAPE_LEN\":15.5196852972},\"geometry\":{\"type\":\"MultiPolygon\",\"coordinates\":[[[[15.572551,38.234204998999985],[15.2580825,37.807223997999984],[15.091499,37.3577085],[15.315962500000012,37.035012498000015],[15.116582,36.67495599900002],[15.000358,36.70284749799998],[14.493577,36.78673349799999],[14.337594500000023,37.001979999000014],[14.036207,37.10602799899999],[12.896496,37.577118498],[12.672787,37.56008099899998],[12.4429295,37.81105199899997],[12.561744499999975,38.06556199800002],[12.731687,38.180297499],[12.811005,38.08151549799999],[12.9772625,38.04020599900002],[13.36569350000002,38.18228949899998],[13.7438295,37.97024649799999],[14.183486,38.01939649899998],[15.652927,38.26710399699999],[15.572551,38.234204998999985]]],[[[9.423461998999983,41.17674100099998],[9.748871999000016,40.660406997999985],[9.8270205,40.51211249900001],[9.62652699900002,40.22487699800001],[9.7352045,40.075661998999976],[9.6511185,39.54932399799998],[9.555865,39.133966997000016],[9.1099865,39.214018501],[8.859653,38.87746949899997],[8.612392,38.957787998000015],[8.368104499000026,39.21381050000002],[8.393,39.446529499],[8.5022545,39.713006999000015],[8.399809,40.40756849899998],[8.135010500000021,40.73634899899997],[8.201709,40.97256649799999],[8.4171275,40.83831349899998],[8.802688499999988,40.931047998],[9.163662,41.23562400100002],[9.423461998999983,41.17674100099998]]]]}},{\"type\":\"Feature\",\"id\":\"ITD\",\"properties\":{\"NUTS_ID\":\"ITD\",\"STAT_LEVL_\":1,\"SHAPE_AREA\":7.1090756829,\"SHAPE_LEN\":19.5663079898},\"geometry\":{\"type\":\"Polygon\",\"coordinates\":[[[12.690635,46.656972000999986],[12.73139299899998,46.634288],[13.504249500000014,46.56630399800002],[13.714184999,46.52270349999998],[13.684032,46.437472501],[13.3754925,46.29823249899999],[13.66434750000002,46.177549999],[13.496938999,46.051334999],[13.597145,45.81952250099999],[13.596243,45.807937501000026],[13.9186565,45.63351749899999],[13.7228235,45.59472549700001],[13.579783,45.786951499],[13.40649350000001,45.725175001000025],[13.130853,45.771844499999986],[13.098785501,45.644532997],[12.434162500000014,45.42448599699998],[12.631836,45.534338499],[12.413683999,45.544310500999984],[12.132562,45.300370499999985],[12.200494,45.257337],[12.2045665,45.19767599800002],[12.33057150000002,45.1605505],[12.328777,45.151860999],[12.302155605999985,45.13788754699999],[12.279706042999976,45.123266828],[12.399056499999972,44.792615501],[12.269892,44.630007497],[12.384282,44.224726499999974],[12.450349,44.162189496999986],[12.75078,43.970601500999976],[12.669299,43.823227498999984],[12.493956,43.91554650099999],[12.513435500000014,43.99126949700002],[12.4046075,43.95567850100002],[12.4177,43.899029997000014],[12.2837975,43.76489899799998],[12.107464,43.75375349699999],[11.98652850000002,43.76191399800001],[11.710189,43.877430498000024],[11.715906500000017,44.122540499000024],[11.524959500000023,44.157639999000025],[11.202439500000025,44.100721],[11.049449,44.09022999899997],[10.814787,44.11617449900001],[10.624078,44.120351501000016],[10.470149,44.226041001],[10.253875,44.26856699899997],[10.142054499999972,44.353852999000026],[9.686725500000023,44.36592199900002],[9.4790595,44.40924050000001],[9.493363,44.555858999],[9.202995499999986,44.613476499],[9.200074,44.68609949699999],[9.3246605,44.69],[9.548684499999979,45.13264849900003],[9.8911015,45.130898],[10.083503,45.04395850100002],[10.464030499999978,44.93717150100002],[10.504344,44.922417999],[10.887909499999978,44.914265999],[11.246231500000022,44.951427997],[11.426765499999988,44.950076],[11.205502500000023,45.10948749900001],[10.6546555,45.41582699899999],[10.631074,45.60951250099998],[10.840176499999984,45.832758501],[10.502388,45.830373],[10.515751500000022,46.34322449699999],[10.622145499999988,46.448101999000016],[10.452801,46.53068299900002],[10.4696515,46.854909],[11.02225,46.765410498999984],[11.164281500000016,46.96572250000003],[11.627199500000017,47.013299],[12.136014,47.0806675],[12.2407455,47.069168499],[12.143811,46.913779998],[12.477924,46.67983549799999],[12.690635,46.656972000999986]]]}},{\"type\":\"Feature\",\"id\":\"ITE\",\"properties\":{\"NUTS_ID\":\"ITE\",\"STAT_LEVL_\":1,\"SHAPE_AREA\":6.33140759553,\"SHAPE_LEN\":14.0181138018},\"geometry\":{\"type\":\"Polygon\",\"coordinates\":[[[12.4177,43.899029997000014],[12.493956,43.91554650099999],[12.669299,43.823227498999984],[12.75078,43.970601500999976],[13.172615,43.75034599899999],[13.6420965,43.47414249899998],[13.742970499000023,43.29414699900002],[13.849453,43.06665949799998],[13.9157315,42.894577],[13.3577745,42.694069997999975],[13.39403149899999,42.591233999],[13.1913805,42.587491],[13.0305745,42.115353],[13.296299499999975,41.94858850000003],[13.941038499,41.68794399699999],[13.977928,41.462454],[13.8737185,41.338294001],[13.760795499999972,41.22316799700002],[13.067982,41.221979],[12.7733215,41.41626399900002],[11.733844,42.15805899899999],[11.449938499999973,42.37767050100001],[11.0979815,42.393149499],[11.1765795,42.541544],[10.7056725,42.9418645],[10.499046,42.93527050099999],[10.528247498999974,43.231603999000015],[10.299847,43.58192899900001],[10.258118,43.81514699899998],[10.143476,43.97542049899999],[10.018769500000019,44.044535998000015],[9.686725500000023,44.36592199900002],[10.142054499999972,44.353852999000026],[10.253875,44.26856699899997],[10.470149,44.226041001],[10.624078,44.120351501000016],[10.814787,44.11617449900001],[11.049449,44.09022999899997],[11.202439500000025,44.100721],[11.524959500000023,44.157639999000025],[11.715906500000017,44.122540499000024],[11.710189,43.877430498000024],[11.98652850000002,43.76191399800001],[12.107464,43.75375349699999],[12.2837975,43.76489899799998],[12.4177,43.899029997000014]],[[12.4466885,41.90174499800003],[12.458003,41.90148549899999],[12.45582,41.907197499],[12.4466885,41.90174499800003]]]}},{\"type\":\"Feature\",\"id\":\"ITC\",\"properties\":{\"NUTS_ID\":\"ITC\",\"STAT_LEVL_\":1,\"SHAPE_AREA\":6.68473353585,\"SHAPE_LEN\":17.1356662484},\"geometry\":{\"type\":\"Polygon\",\"coordinates\":[[[10.452801,46.53068299900002],[10.622145499999988,46.448101999000016],[10.515751500000022,46.34322449699999],[10.502388,45.830373],[10.840176499999984,45.832758501],[10.631074,45.60951250099998],[10.6546555,45.41582699899999],[11.205502500000023,45.10948749900001],[11.426765499999988,44.950076],[11.246231500000022,44.951427997],[10.887909499999978,44.914265999],[10.504344,44.922417999],[10.464030499999978,44.93717150100002],[10.083503,45.04395850100002],[9.8911015,45.130898],[9.548684499999979,45.13264849900003],[9.3246605,44.69],[9.200074,44.68609949699999],[9.202995499999986,44.613476499],[9.493363,44.555858999],[9.4790595,44.40924050000001],[9.686725500000023,44.36592199900002],[10.018769500000019,44.044535998000015],[9.511344,44.21667549799997],[8.63301,44.379803498],[8.135350999000025,43.93894049800002],[7.529827,43.784007997],[7.714236500000027,44.061513499],[7.007760500000018,44.23670049899999],[6.887428,44.361287],[6.948443,44.654741999],[7.065755,44.71346449700002],[6.630051,45.10985649999998],[7.125157,45.243994498],[7.104723,45.46845449900002],[6.8023685,45.778562],[7.044886,45.92241299900002],[7.86407650000001,45.91675049999998],[7.8771375,45.926954997999985],[8.384717,46.452158499],[8.713936,46.097271998999986],[8.912147,45.830444999],[9.088803499999983,45.89689700100001],[8.988276499999984,45.97228249800003],[9.1593775,46.169601],[9.248531500000013,46.23376800099999],[9.714149500000019,46.292708499000014],[10.2448745,46.62209199799997],[10.452801,46.53068299900002]]]}}]},\"hovertemplate\":\"<b>%{hovertext}</b><br><br>Year=2019<br>Territory=%{location}<br>Quantity=%{z}<extra></extra>\",\"hovertext\":[\"ITC\",\"ITCD\",\"ITD\",\"ITE\",\"ITF\",\"ITG\"],\"locations\":[\"ITC\",\"ITCD\",\"ITD\",\"ITE\",\"ITF\",\"ITG\"],\"name\":\"\",\"z\":[1687560,2900417,1212857,1246779,609173,239789],\"type\":\"choropleth\"}],\"name\":\"2019\"},{\"data\":[{\"coloraxis\":\"coloraxis\",\"customdata\":[[1708639],[2936602],[1227963],[1250276],[610717],[242042]],\"geo\":\"geo\",\"geojson\":{\"type\":\"FeatureCollection\",\"features\":[{\"type\":\"Feature\",\"id\":\"ITF\",\"properties\":{\"NUTS_ID\":\"ITF\",\"STAT_LEVL_\":1,\"SHAPE_AREA\":7.76554618345,\"SHAPE_LEN\":20.516959983},\"geometry\":{\"type\":\"Polygon\",\"coordinates\":[[[17.388981,40.89186349900001],[18.097453,40.515377999],[18.517056,40.135147999000026],[18.369068,39.793742001],[18.04794750000002,39.92847849899999],[17.76350449900002,40.295507],[17.127098,40.51762050000002],[16.867264,40.39784549900003],[16.644317,40.119095999000024],[16.52795550000002,39.66865950099998],[17.025064499999985,39.483578498999975],[17.188881,39.020471998],[16.890732,38.92712849899999],[16.566985499999987,38.765481998999974],[16.5820845,38.46979049700002],[16.0638095,37.924418996999975],[15.678212,37.95411949800001],[15.636063,38.231473498000014],[15.652291742999978,38.247265964],[15.687350835000018,38.28138256400001],[15.918956,38.50676149899999],[15.8481175,38.658864498000014],[16.2137535,38.81043999899998],[16.093153,39.04874299800002],[15.75595850000002,39.923496],[15.644945499000016,40.04279049899998],[15.356917,39.999090997999986],[14.787251500000025,40.66618049800002],[14.747420499999976,40.67764649899999],[14.692414499999984,40.63406599899997],[14.528490499999975,40.607152498],[14.46862,40.62020149900002],[14.324673,40.56908499899998],[14.460677499999974,40.74293050099999],[14.0321305,40.898838997999974],[13.760795499999972,41.22316799700002],[13.8737185,41.338294001],[13.977928,41.462454],[13.941038499,41.68794399699999],[13.296299499999975,41.94858850000003],[13.0305745,42.115353],[13.1913805,42.587491],[13.39403149899999,42.591233999],[13.3577745,42.694069997999975],[13.9157315,42.894577],[14.1469065,42.53059649900001],[14.253960499000016,42.444798499],[14.779646999000022,42.070021499],[15.13817849999998,41.92700749900001],[16.17653150000001,41.88478950000001],[15.89714,41.603231999],[16.024738500000012,41.425590499],[16.542302499000016,41.229441],[17.388981,40.89186349900001]]]}},{\"type\":\"Feature\",\"id\":\"ITG\",\"properties\":{\"NUTS_ID\":\"ITG\",\"STAT_LEVL_\":1,\"SHAPE_AREA\":5.11153895806,\"SHAPE_LEN\":15.5196852972},\"geometry\":{\"type\":\"MultiPolygon\",\"coordinates\":[[[[15.572551,38.234204998999985],[15.2580825,37.807223997999984],[15.091499,37.3577085],[15.315962500000012,37.035012498000015],[15.116582,36.67495599900002],[15.000358,36.70284749799998],[14.493577,36.78673349799999],[14.337594500000023,37.001979999000014],[14.036207,37.10602799899999],[12.896496,37.577118498],[12.672787,37.56008099899998],[12.4429295,37.81105199899997],[12.561744499999975,38.06556199800002],[12.731687,38.180297499],[12.811005,38.08151549799999],[12.9772625,38.04020599900002],[13.36569350000002,38.18228949899998],[13.7438295,37.97024649799999],[14.183486,38.01939649899998],[15.652927,38.26710399699999],[15.572551,38.234204998999985]]],[[[9.423461998999983,41.17674100099998],[9.748871999000016,40.660406997999985],[9.8270205,40.51211249900001],[9.62652699900002,40.22487699800001],[9.7352045,40.075661998999976],[9.6511185,39.54932399799998],[9.555865,39.133966997000016],[9.1099865,39.214018501],[8.859653,38.87746949899997],[8.612392,38.957787998000015],[8.368104499000026,39.21381050000002],[8.393,39.446529499],[8.5022545,39.713006999000015],[8.399809,40.40756849899998],[8.135010500000021,40.73634899899997],[8.201709,40.97256649799999],[8.4171275,40.83831349899998],[8.802688499999988,40.931047998],[9.163662,41.23562400100002],[9.423461998999983,41.17674100099998]]]]}},{\"type\":\"Feature\",\"id\":\"ITD\",\"properties\":{\"NUTS_ID\":\"ITD\",\"STAT_LEVL_\":1,\"SHAPE_AREA\":7.1090756829,\"SHAPE_LEN\":19.5663079898},\"geometry\":{\"type\":\"Polygon\",\"coordinates\":[[[12.690635,46.656972000999986],[12.73139299899998,46.634288],[13.504249500000014,46.56630399800002],[13.714184999,46.52270349999998],[13.684032,46.437472501],[13.3754925,46.29823249899999],[13.66434750000002,46.177549999],[13.496938999,46.051334999],[13.597145,45.81952250099999],[13.596243,45.807937501000026],[13.9186565,45.63351749899999],[13.7228235,45.59472549700001],[13.579783,45.786951499],[13.40649350000001,45.725175001000025],[13.130853,45.771844499999986],[13.098785501,45.644532997],[12.434162500000014,45.42448599699998],[12.631836,45.534338499],[12.413683999,45.544310500999984],[12.132562,45.300370499999985],[12.200494,45.257337],[12.2045665,45.19767599800002],[12.33057150000002,45.1605505],[12.328777,45.151860999],[12.302155605999985,45.13788754699999],[12.279706042999976,45.123266828],[12.399056499999972,44.792615501],[12.269892,44.630007497],[12.384282,44.224726499999974],[12.450349,44.162189496999986],[12.75078,43.970601500999976],[12.669299,43.823227498999984],[12.493956,43.91554650099999],[12.513435500000014,43.99126949700002],[12.4046075,43.95567850100002],[12.4177,43.899029997000014],[12.2837975,43.76489899799998],[12.107464,43.75375349699999],[11.98652850000002,43.76191399800001],[11.710189,43.877430498000024],[11.715906500000017,44.122540499000024],[11.524959500000023,44.157639999000025],[11.202439500000025,44.100721],[11.049449,44.09022999899997],[10.814787,44.11617449900001],[10.624078,44.120351501000016],[10.470149,44.226041001],[10.253875,44.26856699899997],[10.142054499999972,44.353852999000026],[9.686725500000023,44.36592199900002],[9.4790595,44.40924050000001],[9.493363,44.555858999],[9.202995499999986,44.613476499],[9.200074,44.68609949699999],[9.3246605,44.69],[9.548684499999979,45.13264849900003],[9.8911015,45.130898],[10.083503,45.04395850100002],[10.464030499999978,44.93717150100002],[10.504344,44.922417999],[10.887909499999978,44.914265999],[11.246231500000022,44.951427997],[11.426765499999988,44.950076],[11.205502500000023,45.10948749900001],[10.6546555,45.41582699899999],[10.631074,45.60951250099998],[10.840176499999984,45.832758501],[10.502388,45.830373],[10.515751500000022,46.34322449699999],[10.622145499999988,46.448101999000016],[10.452801,46.53068299900002],[10.4696515,46.854909],[11.02225,46.765410498999984],[11.164281500000016,46.96572250000003],[11.627199500000017,47.013299],[12.136014,47.0806675],[12.2407455,47.069168499],[12.143811,46.913779998],[12.477924,46.67983549799999],[12.690635,46.656972000999986]]]}},{\"type\":\"Feature\",\"id\":\"ITE\",\"properties\":{\"NUTS_ID\":\"ITE\",\"STAT_LEVL_\":1,\"SHAPE_AREA\":6.33140759553,\"SHAPE_LEN\":14.0181138018},\"geometry\":{\"type\":\"Polygon\",\"coordinates\":[[[12.4177,43.899029997000014],[12.493956,43.91554650099999],[12.669299,43.823227498999984],[12.75078,43.970601500999976],[13.172615,43.75034599899999],[13.6420965,43.47414249899998],[13.742970499000023,43.29414699900002],[13.849453,43.06665949799998],[13.9157315,42.894577],[13.3577745,42.694069997999975],[13.39403149899999,42.591233999],[13.1913805,42.587491],[13.0305745,42.115353],[13.296299499999975,41.94858850000003],[13.941038499,41.68794399699999],[13.977928,41.462454],[13.8737185,41.338294001],[13.760795499999972,41.22316799700002],[13.067982,41.221979],[12.7733215,41.41626399900002],[11.733844,42.15805899899999],[11.449938499999973,42.37767050100001],[11.0979815,42.393149499],[11.1765795,42.541544],[10.7056725,42.9418645],[10.499046,42.93527050099999],[10.528247498999974,43.231603999000015],[10.299847,43.58192899900001],[10.258118,43.81514699899998],[10.143476,43.97542049899999],[10.018769500000019,44.044535998000015],[9.686725500000023,44.36592199900002],[10.142054499999972,44.353852999000026],[10.253875,44.26856699899997],[10.470149,44.226041001],[10.624078,44.120351501000016],[10.814787,44.11617449900001],[11.049449,44.09022999899997],[11.202439500000025,44.100721],[11.524959500000023,44.157639999000025],[11.715906500000017,44.122540499000024],[11.710189,43.877430498000024],[11.98652850000002,43.76191399800001],[12.107464,43.75375349699999],[12.2837975,43.76489899799998],[12.4177,43.899029997000014]],[[12.4466885,41.90174499800003],[12.458003,41.90148549899999],[12.45582,41.907197499],[12.4466885,41.90174499800003]]]}},{\"type\":\"Feature\",\"id\":\"ITC\",\"properties\":{\"NUTS_ID\":\"ITC\",\"STAT_LEVL_\":1,\"SHAPE_AREA\":6.68473353585,\"SHAPE_LEN\":17.1356662484},\"geometry\":{\"type\":\"Polygon\",\"coordinates\":[[[10.452801,46.53068299900002],[10.622145499999988,46.448101999000016],[10.515751500000022,46.34322449699999],[10.502388,45.830373],[10.840176499999984,45.832758501],[10.631074,45.60951250099998],[10.6546555,45.41582699899999],[11.205502500000023,45.10948749900001],[11.426765499999988,44.950076],[11.246231500000022,44.951427997],[10.887909499999978,44.914265999],[10.504344,44.922417999],[10.464030499999978,44.93717150100002],[10.083503,45.04395850100002],[9.8911015,45.130898],[9.548684499999979,45.13264849900003],[9.3246605,44.69],[9.200074,44.68609949699999],[9.202995499999986,44.613476499],[9.493363,44.555858999],[9.4790595,44.40924050000001],[9.686725500000023,44.36592199900002],[10.018769500000019,44.044535998000015],[9.511344,44.21667549799997],[8.63301,44.379803498],[8.135350999000025,43.93894049800002],[7.529827,43.784007997],[7.714236500000027,44.061513499],[7.007760500000018,44.23670049899999],[6.887428,44.361287],[6.948443,44.654741999],[7.065755,44.71346449700002],[6.630051,45.10985649999998],[7.125157,45.243994498],[7.104723,45.46845449900002],[6.8023685,45.778562],[7.044886,45.92241299900002],[7.86407650000001,45.91675049999998],[7.8771375,45.926954997999985],[8.384717,46.452158499],[8.713936,46.097271998999986],[8.912147,45.830444999],[9.088803499999983,45.89689700100001],[8.988276499999984,45.97228249800003],[9.1593775,46.169601],[9.248531500000013,46.23376800099999],[9.714149500000019,46.292708499000014],[10.2448745,46.62209199799997],[10.452801,46.53068299900002]]]}}]},\"hovertemplate\":\"<b>%{hovertext}</b><br><br>Year=2020<br>Territory=%{location}<br>Quantity=%{z}<extra></extra>\",\"hovertext\":[\"ITC\",\"ITCD\",\"ITD\",\"ITE\",\"ITF\",\"ITG\"],\"locations\":[\"ITC\",\"ITCD\",\"ITD\",\"ITE\",\"ITF\",\"ITG\"],\"name\":\"\",\"z\":[1708639,2936602,1227963,1250276,610717,242042],\"type\":\"choropleth\"}],\"name\":\"2020\"},{\"data\":[{\"coloraxis\":\"coloraxis\",\"customdata\":[[1766425],[3058724],[1292299],[1284499],[593154],[235517]],\"geo\":\"geo\",\"geojson\":{\"type\":\"FeatureCollection\",\"features\":[{\"type\":\"Feature\",\"id\":\"ITF\",\"properties\":{\"NUTS_ID\":\"ITF\",\"STAT_LEVL_\":1,\"SHAPE_AREA\":7.76554618345,\"SHAPE_LEN\":20.516959983},\"geometry\":{\"type\":\"Polygon\",\"coordinates\":[[[17.388981,40.89186349900001],[18.097453,40.515377999],[18.517056,40.135147999000026],[18.369068,39.793742001],[18.04794750000002,39.92847849899999],[17.76350449900002,40.295507],[17.127098,40.51762050000002],[16.867264,40.39784549900003],[16.644317,40.119095999000024],[16.52795550000002,39.66865950099998],[17.025064499999985,39.483578498999975],[17.188881,39.020471998],[16.890732,38.92712849899999],[16.566985499999987,38.765481998999974],[16.5820845,38.46979049700002],[16.0638095,37.924418996999975],[15.678212,37.95411949800001],[15.636063,38.231473498000014],[15.652291742999978,38.247265964],[15.687350835000018,38.28138256400001],[15.918956,38.50676149899999],[15.8481175,38.658864498000014],[16.2137535,38.81043999899998],[16.093153,39.04874299800002],[15.75595850000002,39.923496],[15.644945499000016,40.04279049899998],[15.356917,39.999090997999986],[14.787251500000025,40.66618049800002],[14.747420499999976,40.67764649899999],[14.692414499999984,40.63406599899997],[14.528490499999975,40.607152498],[14.46862,40.62020149900002],[14.324673,40.56908499899998],[14.460677499999974,40.74293050099999],[14.0321305,40.898838997999974],[13.760795499999972,41.22316799700002],[13.8737185,41.338294001],[13.977928,41.462454],[13.941038499,41.68794399699999],[13.296299499999975,41.94858850000003],[13.0305745,42.115353],[13.1913805,42.587491],[13.39403149899999,42.591233999],[13.3577745,42.694069997999975],[13.9157315,42.894577],[14.1469065,42.53059649900001],[14.253960499000016,42.444798499],[14.779646999000022,42.070021499],[15.13817849999998,41.92700749900001],[16.17653150000001,41.88478950000001],[15.89714,41.603231999],[16.024738500000012,41.425590499],[16.542302499000016,41.229441],[17.388981,40.89186349900001]]]}},{\"type\":\"Feature\",\"id\":\"ITG\",\"properties\":{\"NUTS_ID\":\"ITG\",\"STAT_LEVL_\":1,\"SHAPE_AREA\":5.11153895806,\"SHAPE_LEN\":15.5196852972},\"geometry\":{\"type\":\"MultiPolygon\",\"coordinates\":[[[[15.572551,38.234204998999985],[15.2580825,37.807223997999984],[15.091499,37.3577085],[15.315962500000012,37.035012498000015],[15.116582,36.67495599900002],[15.000358,36.70284749799998],[14.493577,36.78673349799999],[14.337594500000023,37.001979999000014],[14.036207,37.10602799899999],[12.896496,37.577118498],[12.672787,37.56008099899998],[12.4429295,37.81105199899997],[12.561744499999975,38.06556199800002],[12.731687,38.180297499],[12.811005,38.08151549799999],[12.9772625,38.04020599900002],[13.36569350000002,38.18228949899998],[13.7438295,37.97024649799999],[14.183486,38.01939649899998],[15.652927,38.26710399699999],[15.572551,38.234204998999985]]],[[[9.423461998999983,41.17674100099998],[9.748871999000016,40.660406997999985],[9.8270205,40.51211249900001],[9.62652699900002,40.22487699800001],[9.7352045,40.075661998999976],[9.6511185,39.54932399799998],[9.555865,39.133966997000016],[9.1099865,39.214018501],[8.859653,38.87746949899997],[8.612392,38.957787998000015],[8.368104499000026,39.21381050000002],[8.393,39.446529499],[8.5022545,39.713006999000015],[8.399809,40.40756849899998],[8.135010500000021,40.73634899899997],[8.201709,40.97256649799999],[8.4171275,40.83831349899998],[8.802688499999988,40.931047998],[9.163662,41.23562400100002],[9.423461998999983,41.17674100099998]]]]}},{\"type\":\"Feature\",\"id\":\"ITD\",\"properties\":{\"NUTS_ID\":\"ITD\",\"STAT_LEVL_\":1,\"SHAPE_AREA\":7.1090756829,\"SHAPE_LEN\":19.5663079898},\"geometry\":{\"type\":\"Polygon\",\"coordinates\":[[[12.690635,46.656972000999986],[12.73139299899998,46.634288],[13.504249500000014,46.56630399800002],[13.714184999,46.52270349999998],[13.684032,46.437472501],[13.3754925,46.29823249899999],[13.66434750000002,46.177549999],[13.496938999,46.051334999],[13.597145,45.81952250099999],[13.596243,45.807937501000026],[13.9186565,45.63351749899999],[13.7228235,45.59472549700001],[13.579783,45.786951499],[13.40649350000001,45.725175001000025],[13.130853,45.771844499999986],[13.098785501,45.644532997],[12.434162500000014,45.42448599699998],[12.631836,45.534338499],[12.413683999,45.544310500999984],[12.132562,45.300370499999985],[12.200494,45.257337],[12.2045665,45.19767599800002],[12.33057150000002,45.1605505],[12.328777,45.151860999],[12.302155605999985,45.13788754699999],[12.279706042999976,45.123266828],[12.399056499999972,44.792615501],[12.269892,44.630007497],[12.384282,44.224726499999974],[12.450349,44.162189496999986],[12.75078,43.970601500999976],[12.669299,43.823227498999984],[12.493956,43.91554650099999],[12.513435500000014,43.99126949700002],[12.4046075,43.95567850100002],[12.4177,43.899029997000014],[12.2837975,43.76489899799998],[12.107464,43.75375349699999],[11.98652850000002,43.76191399800001],[11.710189,43.877430498000024],[11.715906500000017,44.122540499000024],[11.524959500000023,44.157639999000025],[11.202439500000025,44.100721],[11.049449,44.09022999899997],[10.814787,44.11617449900001],[10.624078,44.120351501000016],[10.470149,44.226041001],[10.253875,44.26856699899997],[10.142054499999972,44.353852999000026],[9.686725500000023,44.36592199900002],[9.4790595,44.40924050000001],[9.493363,44.555858999],[9.202995499999986,44.613476499],[9.200074,44.68609949699999],[9.3246605,44.69],[9.548684499999979,45.13264849900003],[9.8911015,45.130898],[10.083503,45.04395850100002],[10.464030499999978,44.93717150100002],[10.504344,44.922417999],[10.887909499999978,44.914265999],[11.246231500000022,44.951427997],[11.426765499999988,44.950076],[11.205502500000023,45.10948749900001],[10.6546555,45.41582699899999],[10.631074,45.60951250099998],[10.840176499999984,45.832758501],[10.502388,45.830373],[10.515751500000022,46.34322449699999],[10.622145499999988,46.448101999000016],[10.452801,46.53068299900002],[10.4696515,46.854909],[11.02225,46.765410498999984],[11.164281500000016,46.96572250000003],[11.627199500000017,47.013299],[12.136014,47.0806675],[12.2407455,47.069168499],[12.143811,46.913779998],[12.477924,46.67983549799999],[12.690635,46.656972000999986]]]}},{\"type\":\"Feature\",\"id\":\"ITE\",\"properties\":{\"NUTS_ID\":\"ITE\",\"STAT_LEVL_\":1,\"SHAPE_AREA\":6.33140759553,\"SHAPE_LEN\":14.0181138018},\"geometry\":{\"type\":\"Polygon\",\"coordinates\":[[[12.4177,43.899029997000014],[12.493956,43.91554650099999],[12.669299,43.823227498999984],[12.75078,43.970601500999976],[13.172615,43.75034599899999],[13.6420965,43.47414249899998],[13.742970499000023,43.29414699900002],[13.849453,43.06665949799998],[13.9157315,42.894577],[13.3577745,42.694069997999975],[13.39403149899999,42.591233999],[13.1913805,42.587491],[13.0305745,42.115353],[13.296299499999975,41.94858850000003],[13.941038499,41.68794399699999],[13.977928,41.462454],[13.8737185,41.338294001],[13.760795499999972,41.22316799700002],[13.067982,41.221979],[12.7733215,41.41626399900002],[11.733844,42.15805899899999],[11.449938499999973,42.37767050100001],[11.0979815,42.393149499],[11.1765795,42.541544],[10.7056725,42.9418645],[10.499046,42.93527050099999],[10.528247498999974,43.231603999000015],[10.299847,43.58192899900001],[10.258118,43.81514699899998],[10.143476,43.97542049899999],[10.018769500000019,44.044535998000015],[9.686725500000023,44.36592199900002],[10.142054499999972,44.353852999000026],[10.253875,44.26856699899997],[10.470149,44.226041001],[10.624078,44.120351501000016],[10.814787,44.11617449900001],[11.049449,44.09022999899997],[11.202439500000025,44.100721],[11.524959500000023,44.157639999000025],[11.715906500000017,44.122540499000024],[11.710189,43.877430498000024],[11.98652850000002,43.76191399800001],[12.107464,43.75375349699999],[12.2837975,43.76489899799998],[12.4177,43.899029997000014]],[[12.4466885,41.90174499800003],[12.458003,41.90148549899999],[12.45582,41.907197499],[12.4466885,41.90174499800003]]]}},{\"type\":\"Feature\",\"id\":\"ITC\",\"properties\":{\"NUTS_ID\":\"ITC\",\"STAT_LEVL_\":1,\"SHAPE_AREA\":6.68473353585,\"SHAPE_LEN\":17.1356662484},\"geometry\":{\"type\":\"Polygon\",\"coordinates\":[[[10.452801,46.53068299900002],[10.622145499999988,46.448101999000016],[10.515751500000022,46.34322449699999],[10.502388,45.830373],[10.840176499999984,45.832758501],[10.631074,45.60951250099998],[10.6546555,45.41582699899999],[11.205502500000023,45.10948749900001],[11.426765499999988,44.950076],[11.246231500000022,44.951427997],[10.887909499999978,44.914265999],[10.504344,44.922417999],[10.464030499999978,44.93717150100002],[10.083503,45.04395850100002],[9.8911015,45.130898],[9.548684499999979,45.13264849900003],[9.3246605,44.69],[9.200074,44.68609949699999],[9.202995499999986,44.613476499],[9.493363,44.555858999],[9.4790595,44.40924050000001],[9.686725500000023,44.36592199900002],[10.018769500000019,44.044535998000015],[9.511344,44.21667549799997],[8.63301,44.379803498],[8.135350999000025,43.93894049800002],[7.529827,43.784007997],[7.714236500000027,44.061513499],[7.007760500000018,44.23670049899999],[6.887428,44.361287],[6.948443,44.654741999],[7.065755,44.71346449700002],[6.630051,45.10985649999998],[7.125157,45.243994498],[7.104723,45.46845449900002],[6.8023685,45.778562],[7.044886,45.92241299900002],[7.86407650000001,45.91675049999998],[7.8771375,45.926954997999985],[8.384717,46.452158499],[8.713936,46.097271998999986],[8.912147,45.830444999],[9.088803499999983,45.89689700100001],[8.988276499999984,45.97228249800003],[9.1593775,46.169601],[9.248531500000013,46.23376800099999],[9.714149500000019,46.292708499000014],[10.2448745,46.62209199799997],[10.452801,46.53068299900002]]]}}]},\"hovertemplate\":\"<b>%{hovertext}</b><br><br>Year=2021<br>Territory=%{location}<br>Quantity=%{z}<extra></extra>\",\"hovertext\":[\"ITC\",\"ITCD\",\"ITD\",\"ITE\",\"ITF\",\"ITG\"],\"locations\":[\"ITC\",\"ITCD\",\"ITD\",\"ITE\",\"ITF\",\"ITG\"],\"name\":\"\",\"z\":[1766425,3058724,1292299,1284499,593154,235517],\"type\":\"choropleth\"}],\"name\":\"2021\"},{\"data\":[{\"coloraxis\":\"coloraxis\",\"customdata\":[[1720043],[2973523],[1253480],[1241133],[583055],[233005]],\"geo\":\"geo\",\"geojson\":{\"type\":\"FeatureCollection\",\"features\":[{\"type\":\"Feature\",\"id\":\"ITF\",\"properties\":{\"NUTS_ID\":\"ITF\",\"STAT_LEVL_\":1,\"SHAPE_AREA\":7.76554618345,\"SHAPE_LEN\":20.516959983},\"geometry\":{\"type\":\"Polygon\",\"coordinates\":[[[17.388981,40.89186349900001],[18.097453,40.515377999],[18.517056,40.135147999000026],[18.369068,39.793742001],[18.04794750000002,39.92847849899999],[17.76350449900002,40.295507],[17.127098,40.51762050000002],[16.867264,40.39784549900003],[16.644317,40.119095999000024],[16.52795550000002,39.66865950099998],[17.025064499999985,39.483578498999975],[17.188881,39.020471998],[16.890732,38.92712849899999],[16.566985499999987,38.765481998999974],[16.5820845,38.46979049700002],[16.0638095,37.924418996999975],[15.678212,37.95411949800001],[15.636063,38.231473498000014],[15.652291742999978,38.247265964],[15.687350835000018,38.28138256400001],[15.918956,38.50676149899999],[15.8481175,38.658864498000014],[16.2137535,38.81043999899998],[16.093153,39.04874299800002],[15.75595850000002,39.923496],[15.644945499000016,40.04279049899998],[15.356917,39.999090997999986],[14.787251500000025,40.66618049800002],[14.747420499999976,40.67764649899999],[14.692414499999984,40.63406599899997],[14.528490499999975,40.607152498],[14.46862,40.62020149900002],[14.324673,40.56908499899998],[14.460677499999974,40.74293050099999],[14.0321305,40.898838997999974],[13.760795499999972,41.22316799700002],[13.8737185,41.338294001],[13.977928,41.462454],[13.941038499,41.68794399699999],[13.296299499999975,41.94858850000003],[13.0305745,42.115353],[13.1913805,42.587491],[13.39403149899999,42.591233999],[13.3577745,42.694069997999975],[13.9157315,42.894577],[14.1469065,42.53059649900001],[14.253960499000016,42.444798499],[14.779646999000022,42.070021499],[15.13817849999998,41.92700749900001],[16.17653150000001,41.88478950000001],[15.89714,41.603231999],[16.024738500000012,41.425590499],[16.542302499000016,41.229441],[17.388981,40.89186349900001]]]}},{\"type\":\"Feature\",\"id\":\"ITG\",\"properties\":{\"NUTS_ID\":\"ITG\",\"STAT_LEVL_\":1,\"SHAPE_AREA\":5.11153895806,\"SHAPE_LEN\":15.5196852972},\"geometry\":{\"type\":\"MultiPolygon\",\"coordinates\":[[[[15.572551,38.234204998999985],[15.2580825,37.807223997999984],[15.091499,37.3577085],[15.315962500000012,37.035012498000015],[15.116582,36.67495599900002],[15.000358,36.70284749799998],[14.493577,36.78673349799999],[14.337594500000023,37.001979999000014],[14.036207,37.10602799899999],[12.896496,37.577118498],[12.672787,37.56008099899998],[12.4429295,37.81105199899997],[12.561744499999975,38.06556199800002],[12.731687,38.180297499],[12.811005,38.08151549799999],[12.9772625,38.04020599900002],[13.36569350000002,38.18228949899998],[13.7438295,37.97024649799999],[14.183486,38.01939649899998],[15.652927,38.26710399699999],[15.572551,38.234204998999985]]],[[[9.423461998999983,41.17674100099998],[9.748871999000016,40.660406997999985],[9.8270205,40.51211249900001],[9.62652699900002,40.22487699800001],[9.7352045,40.075661998999976],[9.6511185,39.54932399799998],[9.555865,39.133966997000016],[9.1099865,39.214018501],[8.859653,38.87746949899997],[8.612392,38.957787998000015],[8.368104499000026,39.21381050000002],[8.393,39.446529499],[8.5022545,39.713006999000015],[8.399809,40.40756849899998],[8.135010500000021,40.73634899899997],[8.201709,40.97256649799999],[8.4171275,40.83831349899998],[8.802688499999988,40.931047998],[9.163662,41.23562400100002],[9.423461998999983,41.17674100099998]]]]}},{\"type\":\"Feature\",\"id\":\"ITD\",\"properties\":{\"NUTS_ID\":\"ITD\",\"STAT_LEVL_\":1,\"SHAPE_AREA\":7.1090756829,\"SHAPE_LEN\":19.5663079898},\"geometry\":{\"type\":\"Polygon\",\"coordinates\":[[[12.690635,46.656972000999986],[12.73139299899998,46.634288],[13.504249500000014,46.56630399800002],[13.714184999,46.52270349999998],[13.684032,46.437472501],[13.3754925,46.29823249899999],[13.66434750000002,46.177549999],[13.496938999,46.051334999],[13.597145,45.81952250099999],[13.596243,45.807937501000026],[13.9186565,45.63351749899999],[13.7228235,45.59472549700001],[13.579783,45.786951499],[13.40649350000001,45.725175001000025],[13.130853,45.771844499999986],[13.098785501,45.644532997],[12.434162500000014,45.42448599699998],[12.631836,45.534338499],[12.413683999,45.544310500999984],[12.132562,45.300370499999985],[12.200494,45.257337],[12.2045665,45.19767599800002],[12.33057150000002,45.1605505],[12.328777,45.151860999],[12.302155605999985,45.13788754699999],[12.279706042999976,45.123266828],[12.399056499999972,44.792615501],[12.269892,44.630007497],[12.384282,44.224726499999974],[12.450349,44.162189496999986],[12.75078,43.970601500999976],[12.669299,43.823227498999984],[12.493956,43.91554650099999],[12.513435500000014,43.99126949700002],[12.4046075,43.95567850100002],[12.4177,43.899029997000014],[12.2837975,43.76489899799998],[12.107464,43.75375349699999],[11.98652850000002,43.76191399800001],[11.710189,43.877430498000024],[11.715906500000017,44.122540499000024],[11.524959500000023,44.157639999000025],[11.202439500000025,44.100721],[11.049449,44.09022999899997],[10.814787,44.11617449900001],[10.624078,44.120351501000016],[10.470149,44.226041001],[10.253875,44.26856699899997],[10.142054499999972,44.353852999000026],[9.686725500000023,44.36592199900002],[9.4790595,44.40924050000001],[9.493363,44.555858999],[9.202995499999986,44.613476499],[9.200074,44.68609949699999],[9.3246605,44.69],[9.548684499999979,45.13264849900003],[9.8911015,45.130898],[10.083503,45.04395850100002],[10.464030499999978,44.93717150100002],[10.504344,44.922417999],[10.887909499999978,44.914265999],[11.246231500000022,44.951427997],[11.426765499999988,44.950076],[11.205502500000023,45.10948749900001],[10.6546555,45.41582699899999],[10.631074,45.60951250099998],[10.840176499999984,45.832758501],[10.502388,45.830373],[10.515751500000022,46.34322449699999],[10.622145499999988,46.448101999000016],[10.452801,46.53068299900002],[10.4696515,46.854909],[11.02225,46.765410498999984],[11.164281500000016,46.96572250000003],[11.627199500000017,47.013299],[12.136014,47.0806675],[12.2407455,47.069168499],[12.143811,46.913779998],[12.477924,46.67983549799999],[12.690635,46.656972000999986]]]}},{\"type\":\"Feature\",\"id\":\"ITE\",\"properties\":{\"NUTS_ID\":\"ITE\",\"STAT_LEVL_\":1,\"SHAPE_AREA\":6.33140759553,\"SHAPE_LEN\":14.0181138018},\"geometry\":{\"type\":\"Polygon\",\"coordinates\":[[[12.4177,43.899029997000014],[12.493956,43.91554650099999],[12.669299,43.823227498999984],[12.75078,43.970601500999976],[13.172615,43.75034599899999],[13.6420965,43.47414249899998],[13.742970499000023,43.29414699900002],[13.849453,43.06665949799998],[13.9157315,42.894577],[13.3577745,42.694069997999975],[13.39403149899999,42.591233999],[13.1913805,42.587491],[13.0305745,42.115353],[13.296299499999975,41.94858850000003],[13.941038499,41.68794399699999],[13.977928,41.462454],[13.8737185,41.338294001],[13.760795499999972,41.22316799700002],[13.067982,41.221979],[12.7733215,41.41626399900002],[11.733844,42.15805899899999],[11.449938499999973,42.37767050100001],[11.0979815,42.393149499],[11.1765795,42.541544],[10.7056725,42.9418645],[10.499046,42.93527050099999],[10.528247498999974,43.231603999000015],[10.299847,43.58192899900001],[10.258118,43.81514699899998],[10.143476,43.97542049899999],[10.018769500000019,44.044535998000015],[9.686725500000023,44.36592199900002],[10.142054499999972,44.353852999000026],[10.253875,44.26856699899997],[10.470149,44.226041001],[10.624078,44.120351501000016],[10.814787,44.11617449900001],[11.049449,44.09022999899997],[11.202439500000025,44.100721],[11.524959500000023,44.157639999000025],[11.715906500000017,44.122540499000024],[11.710189,43.877430498000024],[11.98652850000002,43.76191399800001],[12.107464,43.75375349699999],[12.2837975,43.76489899799998],[12.4177,43.899029997000014]],[[12.4466885,41.90174499800003],[12.458003,41.90148549899999],[12.45582,41.907197499],[12.4466885,41.90174499800003]]]}},{\"type\":\"Feature\",\"id\":\"ITC\",\"properties\":{\"NUTS_ID\":\"ITC\",\"STAT_LEVL_\":1,\"SHAPE_AREA\":6.68473353585,\"SHAPE_LEN\":17.1356662484},\"geometry\":{\"type\":\"Polygon\",\"coordinates\":[[[10.452801,46.53068299900002],[10.622145499999988,46.448101999000016],[10.515751500000022,46.34322449699999],[10.502388,45.830373],[10.840176499999984,45.832758501],[10.631074,45.60951250099998],[10.6546555,45.41582699899999],[11.205502500000023,45.10948749900001],[11.426765499999988,44.950076],[11.246231500000022,44.951427997],[10.887909499999978,44.914265999],[10.504344,44.922417999],[10.464030499999978,44.93717150100002],[10.083503,45.04395850100002],[9.8911015,45.130898],[9.548684499999979,45.13264849900003],[9.3246605,44.69],[9.200074,44.68609949699999],[9.202995499999986,44.613476499],[9.493363,44.555858999],[9.4790595,44.40924050000001],[9.686725500000023,44.36592199900002],[10.018769500000019,44.044535998000015],[9.511344,44.21667549799997],[8.63301,44.379803498],[8.135350999000025,43.93894049800002],[7.529827,43.784007997],[7.714236500000027,44.061513499],[7.007760500000018,44.23670049899999],[6.887428,44.361287],[6.948443,44.654741999],[7.065755,44.71346449700002],[6.630051,45.10985649999998],[7.125157,45.243994498],[7.104723,45.46845449900002],[6.8023685,45.778562],[7.044886,45.92241299900002],[7.86407650000001,45.91675049999998],[7.8771375,45.926954997999985],[8.384717,46.452158499],[8.713936,46.097271998999986],[8.912147,45.830444999],[9.088803499999983,45.89689700100001],[8.988276499999984,45.97228249800003],[9.1593775,46.169601],[9.248531500000013,46.23376800099999],[9.714149500000019,46.292708499000014],[10.2448745,46.62209199799997],[10.452801,46.53068299900002]]]}}]},\"hovertemplate\":\"<b>%{hovertext}</b><br><br>Year=2022<br>Territory=%{location}<br>Quantity=%{z}<extra></extra>\",\"hovertext\":[\"ITC\",\"ITCD\",\"ITD\",\"ITE\",\"ITF\",\"ITG\"],\"locations\":[\"ITC\",\"ITCD\",\"ITD\",\"ITE\",\"ITF\",\"ITG\"],\"name\":\"\",\"z\":[1720043,2973523,1253480,1241133,583055,233005],\"type\":\"choropleth\"}],\"name\":\"2022\"},{\"data\":[{\"coloraxis\":\"coloraxis\",\"customdata\":[[1733946],[2988537],[1254591],[1238153],[590189],[233378]],\"geo\":\"geo\",\"geojson\":{\"type\":\"FeatureCollection\",\"features\":[{\"type\":\"Feature\",\"id\":\"ITF\",\"properties\":{\"NUTS_ID\":\"ITF\",\"STAT_LEVL_\":1,\"SHAPE_AREA\":7.76554618345,\"SHAPE_LEN\":20.516959983},\"geometry\":{\"type\":\"Polygon\",\"coordinates\":[[[17.388981,40.89186349900001],[18.097453,40.515377999],[18.517056,40.135147999000026],[18.369068,39.793742001],[18.04794750000002,39.92847849899999],[17.76350449900002,40.295507],[17.127098,40.51762050000002],[16.867264,40.39784549900003],[16.644317,40.119095999000024],[16.52795550000002,39.66865950099998],[17.025064499999985,39.483578498999975],[17.188881,39.020471998],[16.890732,38.92712849899999],[16.566985499999987,38.765481998999974],[16.5820845,38.46979049700002],[16.0638095,37.924418996999975],[15.678212,37.95411949800001],[15.636063,38.231473498000014],[15.652291742999978,38.247265964],[15.687350835000018,38.28138256400001],[15.918956,38.50676149899999],[15.8481175,38.658864498000014],[16.2137535,38.81043999899998],[16.093153,39.04874299800002],[15.75595850000002,39.923496],[15.644945499000016,40.04279049899998],[15.356917,39.999090997999986],[14.787251500000025,40.66618049800002],[14.747420499999976,40.67764649899999],[14.692414499999984,40.63406599899997],[14.528490499999975,40.607152498],[14.46862,40.62020149900002],[14.324673,40.56908499899998],[14.460677499999974,40.74293050099999],[14.0321305,40.898838997999974],[13.760795499999972,41.22316799700002],[13.8737185,41.338294001],[13.977928,41.462454],[13.941038499,41.68794399699999],[13.296299499999975,41.94858850000003],[13.0305745,42.115353],[13.1913805,42.587491],[13.39403149899999,42.591233999],[13.3577745,42.694069997999975],[13.9157315,42.894577],[14.1469065,42.53059649900001],[14.253960499000016,42.444798499],[14.779646999000022,42.070021499],[15.13817849999998,41.92700749900001],[16.17653150000001,41.88478950000001],[15.89714,41.603231999],[16.024738500000012,41.425590499],[16.542302499000016,41.229441],[17.388981,40.89186349900001]]]}},{\"type\":\"Feature\",\"id\":\"ITG\",\"properties\":{\"NUTS_ID\":\"ITG\",\"STAT_LEVL_\":1,\"SHAPE_AREA\":5.11153895806,\"SHAPE_LEN\":15.5196852972},\"geometry\":{\"type\":\"MultiPolygon\",\"coordinates\":[[[[15.572551,38.234204998999985],[15.2580825,37.807223997999984],[15.091499,37.3577085],[15.315962500000012,37.035012498000015],[15.116582,36.67495599900002],[15.000358,36.70284749799998],[14.493577,36.78673349799999],[14.337594500000023,37.001979999000014],[14.036207,37.10602799899999],[12.896496,37.577118498],[12.672787,37.56008099899998],[12.4429295,37.81105199899997],[12.561744499999975,38.06556199800002],[12.731687,38.180297499],[12.811005,38.08151549799999],[12.9772625,38.04020599900002],[13.36569350000002,38.18228949899998],[13.7438295,37.97024649799999],[14.183486,38.01939649899998],[15.652927,38.26710399699999],[15.572551,38.234204998999985]]],[[[9.423461998999983,41.17674100099998],[9.748871999000016,40.660406997999985],[9.8270205,40.51211249900001],[9.62652699900002,40.22487699800001],[9.7352045,40.075661998999976],[9.6511185,39.54932399799998],[9.555865,39.133966997000016],[9.1099865,39.214018501],[8.859653,38.87746949899997],[8.612392,38.957787998000015],[8.368104499000026,39.21381050000002],[8.393,39.446529499],[8.5022545,39.713006999000015],[8.399809,40.40756849899998],[8.135010500000021,40.73634899899997],[8.201709,40.97256649799999],[8.4171275,40.83831349899998],[8.802688499999988,40.931047998],[9.163662,41.23562400100002],[9.423461998999983,41.17674100099998]]]]}},{\"type\":\"Feature\",\"id\":\"ITD\",\"properties\":{\"NUTS_ID\":\"ITD\",\"STAT_LEVL_\":1,\"SHAPE_AREA\":7.1090756829,\"SHAPE_LEN\":19.5663079898},\"geometry\":{\"type\":\"Polygon\",\"coordinates\":[[[12.690635,46.656972000999986],[12.73139299899998,46.634288],[13.504249500000014,46.56630399800002],[13.714184999,46.52270349999998],[13.684032,46.437472501],[13.3754925,46.29823249899999],[13.66434750000002,46.177549999],[13.496938999,46.051334999],[13.597145,45.81952250099999],[13.596243,45.807937501000026],[13.9186565,45.63351749899999],[13.7228235,45.59472549700001],[13.579783,45.786951499],[13.40649350000001,45.725175001000025],[13.130853,45.771844499999986],[13.098785501,45.644532997],[12.434162500000014,45.42448599699998],[12.631836,45.534338499],[12.413683999,45.544310500999984],[12.132562,45.300370499999985],[12.200494,45.257337],[12.2045665,45.19767599800002],[12.33057150000002,45.1605505],[12.328777,45.151860999],[12.302155605999985,45.13788754699999],[12.279706042999976,45.123266828],[12.399056499999972,44.792615501],[12.269892,44.630007497],[12.384282,44.224726499999974],[12.450349,44.162189496999986],[12.75078,43.970601500999976],[12.669299,43.823227498999984],[12.493956,43.91554650099999],[12.513435500000014,43.99126949700002],[12.4046075,43.95567850100002],[12.4177,43.899029997000014],[12.2837975,43.76489899799998],[12.107464,43.75375349699999],[11.98652850000002,43.76191399800001],[11.710189,43.877430498000024],[11.715906500000017,44.122540499000024],[11.524959500000023,44.157639999000025],[11.202439500000025,44.100721],[11.049449,44.09022999899997],[10.814787,44.11617449900001],[10.624078,44.120351501000016],[10.470149,44.226041001],[10.253875,44.26856699899997],[10.142054499999972,44.353852999000026],[9.686725500000023,44.36592199900002],[9.4790595,44.40924050000001],[9.493363,44.555858999],[9.202995499999986,44.613476499],[9.200074,44.68609949699999],[9.3246605,44.69],[9.548684499999979,45.13264849900003],[9.8911015,45.130898],[10.083503,45.04395850100002],[10.464030499999978,44.93717150100002],[10.504344,44.922417999],[10.887909499999978,44.914265999],[11.246231500000022,44.951427997],[11.426765499999988,44.950076],[11.205502500000023,45.10948749900001],[10.6546555,45.41582699899999],[10.631074,45.60951250099998],[10.840176499999984,45.832758501],[10.502388,45.830373],[10.515751500000022,46.34322449699999],[10.622145499999988,46.448101999000016],[10.452801,46.53068299900002],[10.4696515,46.854909],[11.02225,46.765410498999984],[11.164281500000016,46.96572250000003],[11.627199500000017,47.013299],[12.136014,47.0806675],[12.2407455,47.069168499],[12.143811,46.913779998],[12.477924,46.67983549799999],[12.690635,46.656972000999986]]]}},{\"type\":\"Feature\",\"id\":\"ITE\",\"properties\":{\"NUTS_ID\":\"ITE\",\"STAT_LEVL_\":1,\"SHAPE_AREA\":6.33140759553,\"SHAPE_LEN\":14.0181138018},\"geometry\":{\"type\":\"Polygon\",\"coordinates\":[[[12.4177,43.899029997000014],[12.493956,43.91554650099999],[12.669299,43.823227498999984],[12.75078,43.970601500999976],[13.172615,43.75034599899999],[13.6420965,43.47414249899998],[13.742970499000023,43.29414699900002],[13.849453,43.06665949799998],[13.9157315,42.894577],[13.3577745,42.694069997999975],[13.39403149899999,42.591233999],[13.1913805,42.587491],[13.0305745,42.115353],[13.296299499999975,41.94858850000003],[13.941038499,41.68794399699999],[13.977928,41.462454],[13.8737185,41.338294001],[13.760795499999972,41.22316799700002],[13.067982,41.221979],[12.7733215,41.41626399900002],[11.733844,42.15805899899999],[11.449938499999973,42.37767050100001],[11.0979815,42.393149499],[11.1765795,42.541544],[10.7056725,42.9418645],[10.499046,42.93527050099999],[10.528247498999974,43.231603999000015],[10.299847,43.58192899900001],[10.258118,43.81514699899998],[10.143476,43.97542049899999],[10.018769500000019,44.044535998000015],[9.686725500000023,44.36592199900002],[10.142054499999972,44.353852999000026],[10.253875,44.26856699899997],[10.470149,44.226041001],[10.624078,44.120351501000016],[10.814787,44.11617449900001],[11.049449,44.09022999899997],[11.202439500000025,44.100721],[11.524959500000023,44.157639999000025],[11.715906500000017,44.122540499000024],[11.710189,43.877430498000024],[11.98652850000002,43.76191399800001],[12.107464,43.75375349699999],[12.2837975,43.76489899799998],[12.4177,43.899029997000014]],[[12.4466885,41.90174499800003],[12.458003,41.90148549899999],[12.45582,41.907197499],[12.4466885,41.90174499800003]]]}},{\"type\":\"Feature\",\"id\":\"ITC\",\"properties\":{\"NUTS_ID\":\"ITC\",\"STAT_LEVL_\":1,\"SHAPE_AREA\":6.68473353585,\"SHAPE_LEN\":17.1356662484},\"geometry\":{\"type\":\"Polygon\",\"coordinates\":[[[10.452801,46.53068299900002],[10.622145499999988,46.448101999000016],[10.515751500000022,46.34322449699999],[10.502388,45.830373],[10.840176499999984,45.832758501],[10.631074,45.60951250099998],[10.6546555,45.41582699899999],[11.205502500000023,45.10948749900001],[11.426765499999988,44.950076],[11.246231500000022,44.951427997],[10.887909499999978,44.914265999],[10.504344,44.922417999],[10.464030499999978,44.93717150100002],[10.083503,45.04395850100002],[9.8911015,45.130898],[9.548684499999979,45.13264849900003],[9.3246605,44.69],[9.200074,44.68609949699999],[9.202995499999986,44.613476499],[9.493363,44.555858999],[9.4790595,44.40924050000001],[9.686725500000023,44.36592199900002],[10.018769500000019,44.044535998000015],[9.511344,44.21667549799997],[8.63301,44.379803498],[8.135350999000025,43.93894049800002],[7.529827,43.784007997],[7.714236500000027,44.061513499],[7.007760500000018,44.23670049899999],[6.887428,44.361287],[6.948443,44.654741999],[7.065755,44.71346449700002],[6.630051,45.10985649999998],[7.125157,45.243994498],[7.104723,45.46845449900002],[6.8023685,45.778562],[7.044886,45.92241299900002],[7.86407650000001,45.91675049999998],[7.8771375,45.926954997999985],[8.384717,46.452158499],[8.713936,46.097271998999986],[8.912147,45.830444999],[9.088803499999983,45.89689700100001],[8.988276499999984,45.97228249800003],[9.1593775,46.169601],[9.248531500000013,46.23376800099999],[9.714149500000019,46.292708499000014],[10.2448745,46.62209199799997],[10.452801,46.53068299900002]]]}}]},\"hovertemplate\":\"<b>%{hovertext}</b><br><br>Year=2023<br>Territory=%{location}<br>Quantity=%{z}<extra></extra>\",\"hovertext\":[\"ITC\",\"ITCD\",\"ITD\",\"ITE\",\"ITF\",\"ITG\"],\"locations\":[\"ITC\",\"ITCD\",\"ITD\",\"ITE\",\"ITF\",\"ITG\"],\"name\":\"\",\"z\":[1733946,2988537,1254591,1238153,590189,233378],\"type\":\"choropleth\"}],\"name\":\"2023\"}]);\n",
       "                        }).then(function(){\n",
       "                            \n",
       "var gd = document.getElementById('9a7924b1-a51d-49cc-84ba-db211c20a141');\n",
       "var x = new MutationObserver(function (mutations, observer) {{\n",
       "        var display = window.getComputedStyle(gd).display;\n",
       "        if (!display || display === 'none') {{\n",
       "            console.log([gd, 'removed!']);\n",
       "            Plotly.purge(gd);\n",
       "            observer.disconnect();\n",
       "        }}\n",
       "}});\n",
       "\n",
       "// Listen for the removal of the full notebook cells\n",
       "var notebookContainer = gd.closest('#notebook-container');\n",
       "if (notebookContainer) {{\n",
       "    x.observe(notebookContainer, {childList: true});\n",
       "}}\n",
       "\n",
       "// Listen for the clearing of the current output cell\n",
       "var outputEl = gd.closest('.output');\n",
       "if (outputEl) {{\n",
       "    x.observe(outputEl, {childList: true});\n",
       "}}\n",
       "\n",
       "                        })                };                });            </script>        </div>"
      ]
     },
     "metadata": {},
     "output_type": "display_data"
    }
   ],
   "source": [
    "fig = px.choropleth(\n",
    " df_dist,#soybean database\n",
    " geojson = filtered_geojson,\n",
    " locations=\"Territory\", #define the limits on the map/geography\n",
    "  #shape information\n",
    " color = \"Quantity\", #defining the color of the scale through the database\n",
    " hover_name = \"Territory\",\n",
    " hover_data =[\"Quantity\"],\n",
    " title = \"Immigrants by Region\", #title of the map\n",
    " animation_frame = 'Year' #creating the application based on the year\n",
    ")\n",
    "fig.update_geos(fitbounds = \"locations\", visible = False)\n",
    "fig.show()"
   ]
  },
  {
   "cell_type": "code",
   "execution_count": 54,
   "id": "b4d9de39",
   "metadata": {},
   "outputs": [
    {
     "name": "stdout",
     "output_type": "stream",
     "text": [
      "Collecting dash"
     ]
    },
    {
     "name": "stderr",
     "output_type": "stream",
     "text": [
      "\n",
      "[notice] A new release of pip is available: 23.1 -> 23.3.1\n",
      "[notice] To update, run: python.exe -m pip install --upgrade pip\n"
     ]
    },
    {
     "name": "stdout",
     "output_type": "stream",
     "text": [
      "\n",
      "  Downloading dash-2.14.1-py3-none-any.whl (10.4 MB)\n",
      "     ---------------------------------------- 10.4/10.4 MB 4.6 MB/s eta 0:00:00\n",
      "Requirement already satisfied: Flask<3.1,>=1.0.4 in c:\\users\\user\\anaconda3\\lib\\site-packages (from dash) (1.1.2)\n",
      "Requirement already satisfied: Werkzeug<3.1 in c:\\users\\user\\anaconda3\\lib\\site-packages (from dash) (2.0.2)\n",
      "Requirement already satisfied: plotly>=5.0.0 in c:\\users\\user\\anaconda3\\lib\\site-packages (from dash) (5.13.0)\n",
      "Collecting dash-html-components==2.0.0 (from dash)\n",
      "  Downloading dash_html_components-2.0.0-py3-none-any.whl (4.1 kB)\n",
      "Collecting dash-core-components==2.0.0 (from dash)\n",
      "  Downloading dash_core_components-2.0.0-py3-none-any.whl (3.8 kB)\n",
      "Collecting dash-table==5.0.0 (from dash)\n",
      "  Downloading dash_table-5.0.0-py3-none-any.whl (3.9 kB)\n",
      "Requirement already satisfied: typing-extensions>=4.1.1 in c:\\users\\user\\anaconda3\\lib\\site-packages (from dash) (4.4.0)\n",
      "Requirement already satisfied: requests in c:\\users\\user\\anaconda3\\lib\\site-packages (from dash) (2.26.0)\n",
      "Requirement already satisfied: retrying in c:\\users\\user\\anaconda3\\lib\\site-packages (from dash) (1.3.4)\n",
      "Collecting ansi2html (from dash)\n",
      "  Downloading ansi2html-1.8.0-py3-none-any.whl (16 kB)\n",
      "Requirement already satisfied: nest-asyncio in c:\\users\\user\\anaconda3\\lib\\site-packages (from dash) (1.5.1)\n",
      "Requirement already satisfied: setuptools in c:\\users\\user\\anaconda3\\lib\\site-packages (from dash) (58.0.4)\n",
      "Requirement already satisfied: importlib-metadata in c:\\users\\user\\anaconda3\\lib\\site-packages (from dash) (4.8.1)\n",
      "Requirement already satisfied: Jinja2>=2.10.1 in c:\\users\\user\\anaconda3\\lib\\site-packages (from Flask<3.1,>=1.0.4->dash) (2.11.3)\n",
      "Requirement already satisfied: itsdangerous>=0.24 in c:\\users\\user\\anaconda3\\lib\\site-packages (from Flask<3.1,>=1.0.4->dash) (2.0.1)\n",
      "Requirement already satisfied: click>=5.1 in c:\\users\\user\\anaconda3\\lib\\site-packages (from Flask<3.1,>=1.0.4->dash) (8.0.3)\n",
      "Requirement already satisfied: tenacity>=6.2.0 in c:\\users\\user\\anaconda3\\lib\\site-packages (from plotly>=5.0.0->dash) (8.2.1)\n",
      "Requirement already satisfied: zipp>=0.5 in c:\\users\\user\\anaconda3\\lib\\site-packages (from importlib-metadata->dash) (3.6.0)\n",
      "Requirement already satisfied: urllib3<1.27,>=1.21.1 in c:\\users\\user\\anaconda3\\lib\\site-packages (from requests->dash) (1.26.7)\n",
      "Requirement already satisfied: certifi>=2017.4.17 in c:\\users\\user\\anaconda3\\lib\\site-packages (from requests->dash) (2022.12.7)\n",
      "Requirement already satisfied: charset-normalizer~=2.0.0 in c:\\users\\user\\anaconda3\\lib\\site-packages (from requests->dash) (2.0.4)\n",
      "Requirement already satisfied: idna<4,>=2.5 in c:\\users\\user\\anaconda3\\lib\\site-packages (from requests->dash) (3.2)\n",
      "Requirement already satisfied: six>=1.7.0 in c:\\users\\user\\anaconda3\\lib\\site-packages (from retrying->dash) (1.16.0)\n",
      "Requirement already satisfied: colorama in c:\\users\\user\\anaconda3\\lib\\site-packages (from click>=5.1->Flask<3.1,>=1.0.4->dash) (0.4.4)\n",
      "Requirement already satisfied: MarkupSafe>=0.23 in c:\\users\\user\\anaconda3\\lib\\site-packages (from Jinja2>=2.10.1->Flask<3.1,>=1.0.4->dash) (1.1.1)\n",
      "Installing collected packages: dash-table, dash-html-components, dash-core-components, ansi2html, dash\n",
      "Successfully installed ansi2html-1.8.0 dash-2.14.1 dash-core-components-2.0.0 dash-html-components-2.0.0 dash-table-5.0.0\n"
     ]
    }
   ],
   "source": [
    "!pip install dash"
   ]
  },
  {
   "cell_type": "code",
   "execution_count": 58,
   "id": "ba717484",
   "metadata": {},
   "outputs": [
    {
     "data": {
      "text/html": [
       "\n",
       "        <iframe\n",
       "            width=\"100%\"\n",
       "            height=\"650\"\n",
       "            src=\"http://127.0.0.1:8050/\"\n",
       "            frameborder=\"0\"\n",
       "            allowfullscreen\n",
       "            \n",
       "        ></iframe>\n",
       "        "
      ],
      "text/plain": [
       "<IPython.lib.display.IFrame at 0x21a06e3f3a0>"
      ]
     },
     "metadata": {},
     "output_type": "display_data"
    }
   ],
   "source": [
    "from dash import Dash, dcc, html, Input, Output\n",
    "import plotly.express as px\n",
    "\n",
    "app = Dash(__name__)\n",
    "\n",
    "\n",
    "app.layout = html.Div([\n",
    "    html.H4('Immigrants distribution'),\n",
    "    html.P(\"Select a year:\"),\n",
    "    dcc.RadioItems(\n",
    "        id='Year', \n",
    "        options=[\"2018\", \"2019\", \"2020\", \"2021\",\"2022\"],\n",
    "        value=\"Quantity\",\n",
    "        inline=True\n",
    "    ),\n",
    "    dcc.Graph(id=\"graph\"),\n",
    "])\n",
    "\n",
    "\n",
    "@app.callback(\n",
    "    Output(\"graph\", \"figure\"), \n",
    "    Input(\"Year\", \"Quantity\"))\n",
    "def display_choropleth(year):\n",
    "    df = df_dist # replace with your own data source\n",
    "    geojson = filtered_geojson\n",
    "    fig = px.choropleth(\n",
    "        df, geojson=geojson, color=year,\n",
    "        locations=\"Territory\", featureidkey=\"properties.NUTS_ID\",\n",
    "        projection=\"mercator\", range_color=[0, 6500])\n",
    "    fig.update_geos(fitbounds=\"locations\", visible=False)\n",
    "    fig.update_layout(margin={\"r\":0,\"t\":0,\"l\":0,\"b\":0})\n",
    "    return fig\n",
    "\n",
    "\n",
    "app.run_server(debug=True)\n"
   ]
  },
  {
   "cell_type": "markdown",
   "id": "02343111",
   "metadata": {},
   "source": [
    "## USE ISTAT DIVISION OF REGIONS FOR MAP"
   ]
  },
  {
   "cell_type": "code",
   "execution_count": 57,
   "id": "c3472318",
   "metadata": {},
   "outputs": [
    {
     "data": {
      "application/vnd.plotly.v1+json": {
       "config": {
        "plotlyServerURL": "https://plot.ly"
       },
       "data": [
        {
         "coloraxis": "coloraxis",
         "featureidkey": "properties.NUTS_ID",
         "geo": "geo",
         "geojson": {
          "features": [
           {
            "geometry": {
             "coordinates": [
              [
               [
                17.388981,
                40.89186349900001
               ],
               [
                18.097453,
                40.515377999
               ],
               [
                18.517056,
                40.135147999000026
               ],
               [
                18.369068,
                39.793742001
               ],
               [
                18.04794750000002,
                39.92847849899999
               ],
               [
                17.76350449900002,
                40.295507
               ],
               [
                17.127098,
                40.51762050000002
               ],
               [
                16.867264,
                40.39784549900003
               ],
               [
                16.644317,
                40.119095999000024
               ],
               [
                16.52795550000002,
                39.66865950099998
               ],
               [
                17.025064499999985,
                39.483578498999975
               ],
               [
                17.188881,
                39.020471998
               ],
               [
                16.890732,
                38.92712849899999
               ],
               [
                16.566985499999987,
                38.765481998999974
               ],
               [
                16.5820845,
                38.46979049700002
               ],
               [
                16.0638095,
                37.924418996999975
               ],
               [
                15.678212,
                37.95411949800001
               ],
               [
                15.636063,
                38.231473498000014
               ],
               [
                15.652291742999978,
                38.247265964
               ],
               [
                15.687350835000018,
                38.28138256400001
               ],
               [
                15.918956,
                38.50676149899999
               ],
               [
                15.8481175,
                38.658864498000014
               ],
               [
                16.2137535,
                38.81043999899998
               ],
               [
                16.093153,
                39.04874299800002
               ],
               [
                15.75595850000002,
                39.923496
               ],
               [
                15.644945499000016,
                40.04279049899998
               ],
               [
                15.356917,
                39.999090997999986
               ],
               [
                14.787251500000025,
                40.66618049800002
               ],
               [
                14.747420499999976,
                40.67764649899999
               ],
               [
                14.692414499999984,
                40.63406599899997
               ],
               [
                14.528490499999975,
                40.607152498
               ],
               [
                14.46862,
                40.62020149900002
               ],
               [
                14.324673,
                40.56908499899998
               ],
               [
                14.460677499999974,
                40.74293050099999
               ],
               [
                14.0321305,
                40.898838997999974
               ],
               [
                13.760795499999972,
                41.22316799700002
               ],
               [
                13.8737185,
                41.338294001
               ],
               [
                13.977928,
                41.462454
               ],
               [
                13.941038499,
                41.68794399699999
               ],
               [
                13.296299499999975,
                41.94858850000003
               ],
               [
                13.0305745,
                42.115353
               ],
               [
                13.1913805,
                42.587491
               ],
               [
                13.39403149899999,
                42.591233999
               ],
               [
                13.3577745,
                42.694069997999975
               ],
               [
                13.9157315,
                42.894577
               ],
               [
                14.1469065,
                42.53059649900001
               ],
               [
                14.253960499000016,
                42.444798499
               ],
               [
                14.779646999000022,
                42.070021499
               ],
               [
                15.13817849999998,
                41.92700749900001
               ],
               [
                16.17653150000001,
                41.88478950000001
               ],
               [
                15.89714,
                41.603231999
               ],
               [
                16.024738500000012,
                41.425590499
               ],
               [
                16.542302499000016,
                41.229441
               ],
               [
                17.388981,
                40.89186349900001
               ]
              ]
             ],
             "type": "Polygon"
            },
            "id": "ITF",
            "properties": {
             "NUTS_ID": "ITF",
             "SHAPE_AREA": 7.76554618345,
             "SHAPE_LEN": 20.516959983,
             "STAT_LEVL_": 1
            },
            "type": "Feature"
           },
           {
            "geometry": {
             "coordinates": [
              [
               [
                [
                 15.572551,
                 38.234204998999985
                ],
                [
                 15.2580825,
                 37.807223997999984
                ],
                [
                 15.091499,
                 37.3577085
                ],
                [
                 15.315962500000012,
                 37.035012498000015
                ],
                [
                 15.116582,
                 36.67495599900002
                ],
                [
                 15.000358,
                 36.70284749799998
                ],
                [
                 14.493577,
                 36.78673349799999
                ],
                [
                 14.337594500000023,
                 37.001979999000014
                ],
                [
                 14.036207,
                 37.10602799899999
                ],
                [
                 12.896496,
                 37.577118498
                ],
                [
                 12.672787,
                 37.56008099899998
                ],
                [
                 12.4429295,
                 37.81105199899997
                ],
                [
                 12.561744499999975,
                 38.06556199800002
                ],
                [
                 12.731687,
                 38.180297499
                ],
                [
                 12.811005,
                 38.08151549799999
                ],
                [
                 12.9772625,
                 38.04020599900002
                ],
                [
                 13.36569350000002,
                 38.18228949899998
                ],
                [
                 13.7438295,
                 37.97024649799999
                ],
                [
                 14.183486,
                 38.01939649899998
                ],
                [
                 15.652927,
                 38.26710399699999
                ],
                [
                 15.572551,
                 38.234204998999985
                ]
               ]
              ],
              [
               [
                [
                 9.423461998999983,
                 41.17674100099998
                ],
                [
                 9.748871999000016,
                 40.660406997999985
                ],
                [
                 9.8270205,
                 40.51211249900001
                ],
                [
                 9.62652699900002,
                 40.22487699800001
                ],
                [
                 9.7352045,
                 40.075661998999976
                ],
                [
                 9.6511185,
                 39.54932399799998
                ],
                [
                 9.555865,
                 39.133966997000016
                ],
                [
                 9.1099865,
                 39.214018501
                ],
                [
                 8.859653,
                 38.87746949899997
                ],
                [
                 8.612392,
                 38.957787998000015
                ],
                [
                 8.368104499000026,
                 39.21381050000002
                ],
                [
                 8.393,
                 39.446529499
                ],
                [
                 8.5022545,
                 39.713006999000015
                ],
                [
                 8.399809,
                 40.40756849899998
                ],
                [
                 8.135010500000021,
                 40.73634899899997
                ],
                [
                 8.201709,
                 40.97256649799999
                ],
                [
                 8.4171275,
                 40.83831349899998
                ],
                [
                 8.802688499999988,
                 40.931047998
                ],
                [
                 9.163662,
                 41.23562400100002
                ],
                [
                 9.423461998999983,
                 41.17674100099998
                ]
               ]
              ]
             ],
             "type": "MultiPolygon"
            },
            "id": "ITG",
            "properties": {
             "NUTS_ID": "ITG",
             "SHAPE_AREA": 5.11153895806,
             "SHAPE_LEN": 15.5196852972,
             "STAT_LEVL_": 1
            },
            "type": "Feature"
           },
           {
            "geometry": {
             "coordinates": [
              [
               [
                12.690635,
                46.656972000999986
               ],
               [
                12.73139299899998,
                46.634288
               ],
               [
                13.504249500000014,
                46.56630399800002
               ],
               [
                13.714184999,
                46.52270349999998
               ],
               [
                13.684032,
                46.437472501
               ],
               [
                13.3754925,
                46.29823249899999
               ],
               [
                13.66434750000002,
                46.177549999
               ],
               [
                13.496938999,
                46.051334999
               ],
               [
                13.597145,
                45.81952250099999
               ],
               [
                13.596243,
                45.807937501000026
               ],
               [
                13.9186565,
                45.63351749899999
               ],
               [
                13.7228235,
                45.59472549700001
               ],
               [
                13.579783,
                45.786951499
               ],
               [
                13.40649350000001,
                45.725175001000025
               ],
               [
                13.130853,
                45.771844499999986
               ],
               [
                13.098785501,
                45.644532997
               ],
               [
                12.434162500000014,
                45.42448599699998
               ],
               [
                12.631836,
                45.534338499
               ],
               [
                12.413683999,
                45.544310500999984
               ],
               [
                12.132562,
                45.300370499999985
               ],
               [
                12.200494,
                45.257337
               ],
               [
                12.2045665,
                45.19767599800002
               ],
               [
                12.33057150000002,
                45.1605505
               ],
               [
                12.328777,
                45.151860999
               ],
               [
                12.302155605999985,
                45.13788754699999
               ],
               [
                12.279706042999976,
                45.123266828
               ],
               [
                12.399056499999972,
                44.792615501
               ],
               [
                12.269892,
                44.630007497
               ],
               [
                12.384282,
                44.224726499999974
               ],
               [
                12.450349,
                44.162189496999986
               ],
               [
                12.75078,
                43.970601500999976
               ],
               [
                12.669299,
                43.823227498999984
               ],
               [
                12.493956,
                43.91554650099999
               ],
               [
                12.513435500000014,
                43.99126949700002
               ],
               [
                12.4046075,
                43.95567850100002
               ],
               [
                12.4177,
                43.899029997000014
               ],
               [
                12.2837975,
                43.76489899799998
               ],
               [
                12.107464,
                43.75375349699999
               ],
               [
                11.98652850000002,
                43.76191399800001
               ],
               [
                11.710189,
                43.877430498000024
               ],
               [
                11.715906500000017,
                44.122540499000024
               ],
               [
                11.524959500000023,
                44.157639999000025
               ],
               [
                11.202439500000025,
                44.100721
               ],
               [
                11.049449,
                44.09022999899997
               ],
               [
                10.814787,
                44.11617449900001
               ],
               [
                10.624078,
                44.120351501000016
               ],
               [
                10.470149,
                44.226041001
               ],
               [
                10.253875,
                44.26856699899997
               ],
               [
                10.142054499999972,
                44.353852999000026
               ],
               [
                9.686725500000023,
                44.36592199900002
               ],
               [
                9.4790595,
                44.40924050000001
               ],
               [
                9.493363,
                44.555858999
               ],
               [
                9.202995499999986,
                44.613476499
               ],
               [
                9.200074,
                44.68609949699999
               ],
               [
                9.3246605,
                44.69
               ],
               [
                9.548684499999979,
                45.13264849900003
               ],
               [
                9.8911015,
                45.130898
               ],
               [
                10.083503,
                45.04395850100002
               ],
               [
                10.464030499999978,
                44.93717150100002
               ],
               [
                10.504344,
                44.922417999
               ],
               [
                10.887909499999978,
                44.914265999
               ],
               [
                11.246231500000022,
                44.951427997
               ],
               [
                11.426765499999988,
                44.950076
               ],
               [
                11.205502500000023,
                45.10948749900001
               ],
               [
                10.6546555,
                45.41582699899999
               ],
               [
                10.631074,
                45.60951250099998
               ],
               [
                10.840176499999984,
                45.832758501
               ],
               [
                10.502388,
                45.830373
               ],
               [
                10.515751500000022,
                46.34322449699999
               ],
               [
                10.622145499999988,
                46.448101999000016
               ],
               [
                10.452801,
                46.53068299900002
               ],
               [
                10.4696515,
                46.854909
               ],
               [
                11.02225,
                46.765410498999984
               ],
               [
                11.164281500000016,
                46.96572250000003
               ],
               [
                11.627199500000017,
                47.013299
               ],
               [
                12.136014,
                47.0806675
               ],
               [
                12.2407455,
                47.069168499
               ],
               [
                12.143811,
                46.913779998
               ],
               [
                12.477924,
                46.67983549799999
               ],
               [
                12.690635,
                46.656972000999986
               ]
              ]
             ],
             "type": "Polygon"
            },
            "id": "ITD",
            "properties": {
             "NUTS_ID": "ITD",
             "SHAPE_AREA": 7.1090756829,
             "SHAPE_LEN": 19.5663079898,
             "STAT_LEVL_": 1
            },
            "type": "Feature"
           },
           {
            "geometry": {
             "coordinates": [
              [
               [
                12.4177,
                43.899029997000014
               ],
               [
                12.493956,
                43.91554650099999
               ],
               [
                12.669299,
                43.823227498999984
               ],
               [
                12.75078,
                43.970601500999976
               ],
               [
                13.172615,
                43.75034599899999
               ],
               [
                13.6420965,
                43.47414249899998
               ],
               [
                13.742970499000023,
                43.29414699900002
               ],
               [
                13.849453,
                43.06665949799998
               ],
               [
                13.9157315,
                42.894577
               ],
               [
                13.3577745,
                42.694069997999975
               ],
               [
                13.39403149899999,
                42.591233999
               ],
               [
                13.1913805,
                42.587491
               ],
               [
                13.0305745,
                42.115353
               ],
               [
                13.296299499999975,
                41.94858850000003
               ],
               [
                13.941038499,
                41.68794399699999
               ],
               [
                13.977928,
                41.462454
               ],
               [
                13.8737185,
                41.338294001
               ],
               [
                13.760795499999972,
                41.22316799700002
               ],
               [
                13.067982,
                41.221979
               ],
               [
                12.7733215,
                41.41626399900002
               ],
               [
                11.733844,
                42.15805899899999
               ],
               [
                11.449938499999973,
                42.37767050100001
               ],
               [
                11.0979815,
                42.393149499
               ],
               [
                11.1765795,
                42.541544
               ],
               [
                10.7056725,
                42.9418645
               ],
               [
                10.499046,
                42.93527050099999
               ],
               [
                10.528247498999974,
                43.231603999000015
               ],
               [
                10.299847,
                43.58192899900001
               ],
               [
                10.258118,
                43.81514699899998
               ],
               [
                10.143476,
                43.97542049899999
               ],
               [
                10.018769500000019,
                44.044535998000015
               ],
               [
                9.686725500000023,
                44.36592199900002
               ],
               [
                10.142054499999972,
                44.353852999000026
               ],
               [
                10.253875,
                44.26856699899997
               ],
               [
                10.470149,
                44.226041001
               ],
               [
                10.624078,
                44.120351501000016
               ],
               [
                10.814787,
                44.11617449900001
               ],
               [
                11.049449,
                44.09022999899997
               ],
               [
                11.202439500000025,
                44.100721
               ],
               [
                11.524959500000023,
                44.157639999000025
               ],
               [
                11.715906500000017,
                44.122540499000024
               ],
               [
                11.710189,
                43.877430498000024
               ],
               [
                11.98652850000002,
                43.76191399800001
               ],
               [
                12.107464,
                43.75375349699999
               ],
               [
                12.2837975,
                43.76489899799998
               ],
               [
                12.4177,
                43.899029997000014
               ]
              ],
              [
               [
                12.4466885,
                41.90174499800003
               ],
               [
                12.458003,
                41.90148549899999
               ],
               [
                12.45582,
                41.907197499
               ],
               [
                12.4466885,
                41.90174499800003
               ]
              ]
             ],
             "type": "Polygon"
            },
            "id": "ITE",
            "properties": {
             "NUTS_ID": "ITE",
             "SHAPE_AREA": 6.33140759553,
             "SHAPE_LEN": 14.0181138018,
             "STAT_LEVL_": 1
            },
            "type": "Feature"
           },
           {
            "geometry": {
             "coordinates": [
              [
               [
                10.452801,
                46.53068299900002
               ],
               [
                10.622145499999988,
                46.448101999000016
               ],
               [
                10.515751500000022,
                46.34322449699999
               ],
               [
                10.502388,
                45.830373
               ],
               [
                10.840176499999984,
                45.832758501
               ],
               [
                10.631074,
                45.60951250099998
               ],
               [
                10.6546555,
                45.41582699899999
               ],
               [
                11.205502500000023,
                45.10948749900001
               ],
               [
                11.426765499999988,
                44.950076
               ],
               [
                11.246231500000022,
                44.951427997
               ],
               [
                10.887909499999978,
                44.914265999
               ],
               [
                10.504344,
                44.922417999
               ],
               [
                10.464030499999978,
                44.93717150100002
               ],
               [
                10.083503,
                45.04395850100002
               ],
               [
                9.8911015,
                45.130898
               ],
               [
                9.548684499999979,
                45.13264849900003
               ],
               [
                9.3246605,
                44.69
               ],
               [
                9.200074,
                44.68609949699999
               ],
               [
                9.202995499999986,
                44.613476499
               ],
               [
                9.493363,
                44.555858999
               ],
               [
                9.4790595,
                44.40924050000001
               ],
               [
                9.686725500000023,
                44.36592199900002
               ],
               [
                10.018769500000019,
                44.044535998000015
               ],
               [
                9.511344,
                44.21667549799997
               ],
               [
                8.63301,
                44.379803498
               ],
               [
                8.135350999000025,
                43.93894049800002
               ],
               [
                7.529827,
                43.784007997
               ],
               [
                7.714236500000027,
                44.061513499
               ],
               [
                7.007760500000018,
                44.23670049899999
               ],
               [
                6.887428,
                44.361287
               ],
               [
                6.948443,
                44.654741999
               ],
               [
                7.065755,
                44.71346449700002
               ],
               [
                6.630051,
                45.10985649999998
               ],
               [
                7.125157,
                45.243994498
               ],
               [
                7.104723,
                45.46845449900002
               ],
               [
                6.8023685,
                45.778562
               ],
               [
                7.044886,
                45.92241299900002
               ],
               [
                7.86407650000001,
                45.91675049999998
               ],
               [
                7.8771375,
                45.926954997999985
               ],
               [
                8.384717,
                46.452158499
               ],
               [
                8.713936,
                46.097271998999986
               ],
               [
                8.912147,
                45.830444999
               ],
               [
                9.088803499999983,
                45.89689700100001
               ],
               [
                8.988276499999984,
                45.97228249800003
               ],
               [
                9.1593775,
                46.169601
               ],
               [
                9.248531500000013,
                46.23376800099999
               ],
               [
                9.714149500000019,
                46.292708499000014
               ],
               [
                10.2448745,
                46.62209199799997
               ],
               [
                10.452801,
                46.53068299900002
               ]
              ]
             ],
             "type": "Polygon"
            },
            "id": "ITC",
            "properties": {
             "NUTS_ID": "ITC",
             "SHAPE_AREA": 6.68473353585,
             "SHAPE_LEN": 17.1356662484,
             "STAT_LEVL_": 1
            },
            "type": "Feature"
           }
          ],
          "type": "FeatureCollection"
         },
         "hovertemplate": "Territory=%{location}<br>Quantity=%{z}<extra></extra>",
         "locations": [
          "ITC",
          "ITCD",
          "ITD",
          "ITE",
          "ITF",
          "ITG",
          "ITC",
          "ITCD",
          "ITD",
          "ITE",
          "ITF",
          "ITG",
          "ITC",
          "ITCD",
          "ITD",
          "ITE",
          "ITF",
          "ITG",
          "ITC",
          "ITCD",
          "ITD",
          "ITE",
          "ITF",
          "ITG",
          "ITC",
          "ITCD",
          "ITD",
          "ITE",
          "ITF",
          "ITG",
          "ITC",
          "ITCD",
          "ITD",
          "ITE",
          "ITF",
          "ITG"
         ],
         "name": "",
         "type": "choropleth",
         "z": [
          1656416,
          2835528,
          1179112,
          1222811,
          592528,
          232584,
          1687560,
          2900417,
          1212857,
          1246779,
          609173,
          239789,
          1708639,
          2936602,
          1227963,
          1250276,
          610717,
          242042,
          1766425,
          3058724,
          1292299,
          1284499,
          593154,
          235517,
          1720043,
          2973523,
          1253480,
          1241133,
          583055,
          233005,
          1733946,
          2988537,
          1254591,
          1238153,
          590189,
          233378
         ]
        }
       ],
       "layout": {
        "coloraxis": {
         "colorbar": {
          "title": {
           "text": "Quantity"
          }
         },
         "colorscale": [
          [
           0,
           "#0d0887"
          ],
          [
           0.1111111111111111,
           "#46039f"
          ],
          [
           0.2222222222222222,
           "#7201a8"
          ],
          [
           0.3333333333333333,
           "#9c179e"
          ],
          [
           0.4444444444444444,
           "#bd3786"
          ],
          [
           0.5555555555555556,
           "#d8576b"
          ],
          [
           0.6666666666666666,
           "#ed7953"
          ],
          [
           0.7777777777777778,
           "#fb9f3a"
          ],
          [
           0.8888888888888888,
           "#fdca26"
          ],
          [
           1,
           "#f0f921"
          ]
         ]
        },
        "geo": {
         "center": {},
         "domain": {
          "x": [
           0,
           1
          ],
          "y": [
           0,
           1
          ]
         },
         "fitbounds": "locations",
         "projection": {
          "type": "mercator"
         },
         "visible": false
        },
        "legend": {
         "tracegroupgap": 0
        },
        "margin": {
         "b": 0,
         "l": 0,
         "r": 0,
         "t": 0
        },
        "template": {
         "data": {
          "bar": [
           {
            "error_x": {
             "color": "#2a3f5f"
            },
            "error_y": {
             "color": "#2a3f5f"
            },
            "marker": {
             "line": {
              "color": "#E5ECF6",
              "width": 0.5
             },
             "pattern": {
              "fillmode": "overlay",
              "size": 10,
              "solidity": 0.2
             }
            },
            "type": "bar"
           }
          ],
          "barpolar": [
           {
            "marker": {
             "line": {
              "color": "#E5ECF6",
              "width": 0.5
             },
             "pattern": {
              "fillmode": "overlay",
              "size": 10,
              "solidity": 0.2
             }
            },
            "type": "barpolar"
           }
          ],
          "carpet": [
           {
            "aaxis": {
             "endlinecolor": "#2a3f5f",
             "gridcolor": "white",
             "linecolor": "white",
             "minorgridcolor": "white",
             "startlinecolor": "#2a3f5f"
            },
            "baxis": {
             "endlinecolor": "#2a3f5f",
             "gridcolor": "white",
             "linecolor": "white",
             "minorgridcolor": "white",
             "startlinecolor": "#2a3f5f"
            },
            "type": "carpet"
           }
          ],
          "choropleth": [
           {
            "colorbar": {
             "outlinewidth": 0,
             "ticks": ""
            },
            "type": "choropleth"
           }
          ],
          "contour": [
           {
            "colorbar": {
             "outlinewidth": 0,
             "ticks": ""
            },
            "colorscale": [
             [
              0,
              "#0d0887"
             ],
             [
              0.1111111111111111,
              "#46039f"
             ],
             [
              0.2222222222222222,
              "#7201a8"
             ],
             [
              0.3333333333333333,
              "#9c179e"
             ],
             [
              0.4444444444444444,
              "#bd3786"
             ],
             [
              0.5555555555555556,
              "#d8576b"
             ],
             [
              0.6666666666666666,
              "#ed7953"
             ],
             [
              0.7777777777777778,
              "#fb9f3a"
             ],
             [
              0.8888888888888888,
              "#fdca26"
             ],
             [
              1,
              "#f0f921"
             ]
            ],
            "type": "contour"
           }
          ],
          "contourcarpet": [
           {
            "colorbar": {
             "outlinewidth": 0,
             "ticks": ""
            },
            "type": "contourcarpet"
           }
          ],
          "heatmap": [
           {
            "colorbar": {
             "outlinewidth": 0,
             "ticks": ""
            },
            "colorscale": [
             [
              0,
              "#0d0887"
             ],
             [
              0.1111111111111111,
              "#46039f"
             ],
             [
              0.2222222222222222,
              "#7201a8"
             ],
             [
              0.3333333333333333,
              "#9c179e"
             ],
             [
              0.4444444444444444,
              "#bd3786"
             ],
             [
              0.5555555555555556,
              "#d8576b"
             ],
             [
              0.6666666666666666,
              "#ed7953"
             ],
             [
              0.7777777777777778,
              "#fb9f3a"
             ],
             [
              0.8888888888888888,
              "#fdca26"
             ],
             [
              1,
              "#f0f921"
             ]
            ],
            "type": "heatmap"
           }
          ],
          "heatmapgl": [
           {
            "colorbar": {
             "outlinewidth": 0,
             "ticks": ""
            },
            "colorscale": [
             [
              0,
              "#0d0887"
             ],
             [
              0.1111111111111111,
              "#46039f"
             ],
             [
              0.2222222222222222,
              "#7201a8"
             ],
             [
              0.3333333333333333,
              "#9c179e"
             ],
             [
              0.4444444444444444,
              "#bd3786"
             ],
             [
              0.5555555555555556,
              "#d8576b"
             ],
             [
              0.6666666666666666,
              "#ed7953"
             ],
             [
              0.7777777777777778,
              "#fb9f3a"
             ],
             [
              0.8888888888888888,
              "#fdca26"
             ],
             [
              1,
              "#f0f921"
             ]
            ],
            "type": "heatmapgl"
           }
          ],
          "histogram": [
           {
            "marker": {
             "pattern": {
              "fillmode": "overlay",
              "size": 10,
              "solidity": 0.2
             }
            },
            "type": "histogram"
           }
          ],
          "histogram2d": [
           {
            "colorbar": {
             "outlinewidth": 0,
             "ticks": ""
            },
            "colorscale": [
             [
              0,
              "#0d0887"
             ],
             [
              0.1111111111111111,
              "#46039f"
             ],
             [
              0.2222222222222222,
              "#7201a8"
             ],
             [
              0.3333333333333333,
              "#9c179e"
             ],
             [
              0.4444444444444444,
              "#bd3786"
             ],
             [
              0.5555555555555556,
              "#d8576b"
             ],
             [
              0.6666666666666666,
              "#ed7953"
             ],
             [
              0.7777777777777778,
              "#fb9f3a"
             ],
             [
              0.8888888888888888,
              "#fdca26"
             ],
             [
              1,
              "#f0f921"
             ]
            ],
            "type": "histogram2d"
           }
          ],
          "histogram2dcontour": [
           {
            "colorbar": {
             "outlinewidth": 0,
             "ticks": ""
            },
            "colorscale": [
             [
              0,
              "#0d0887"
             ],
             [
              0.1111111111111111,
              "#46039f"
             ],
             [
              0.2222222222222222,
              "#7201a8"
             ],
             [
              0.3333333333333333,
              "#9c179e"
             ],
             [
              0.4444444444444444,
              "#bd3786"
             ],
             [
              0.5555555555555556,
              "#d8576b"
             ],
             [
              0.6666666666666666,
              "#ed7953"
             ],
             [
              0.7777777777777778,
              "#fb9f3a"
             ],
             [
              0.8888888888888888,
              "#fdca26"
             ],
             [
              1,
              "#f0f921"
             ]
            ],
            "type": "histogram2dcontour"
           }
          ],
          "mesh3d": [
           {
            "colorbar": {
             "outlinewidth": 0,
             "ticks": ""
            },
            "type": "mesh3d"
           }
          ],
          "parcoords": [
           {
            "line": {
             "colorbar": {
              "outlinewidth": 0,
              "ticks": ""
             }
            },
            "type": "parcoords"
           }
          ],
          "pie": [
           {
            "automargin": true,
            "type": "pie"
           }
          ],
          "scatter": [
           {
            "fillpattern": {
             "fillmode": "overlay",
             "size": 10,
             "solidity": 0.2
            },
            "type": "scatter"
           }
          ],
          "scatter3d": [
           {
            "line": {
             "colorbar": {
              "outlinewidth": 0,
              "ticks": ""
             }
            },
            "marker": {
             "colorbar": {
              "outlinewidth": 0,
              "ticks": ""
             }
            },
            "type": "scatter3d"
           }
          ],
          "scattercarpet": [
           {
            "marker": {
             "colorbar": {
              "outlinewidth": 0,
              "ticks": ""
             }
            },
            "type": "scattercarpet"
           }
          ],
          "scattergeo": [
           {
            "marker": {
             "colorbar": {
              "outlinewidth": 0,
              "ticks": ""
             }
            },
            "type": "scattergeo"
           }
          ],
          "scattergl": [
           {
            "marker": {
             "colorbar": {
              "outlinewidth": 0,
              "ticks": ""
             }
            },
            "type": "scattergl"
           }
          ],
          "scattermapbox": [
           {
            "marker": {
             "colorbar": {
              "outlinewidth": 0,
              "ticks": ""
             }
            },
            "type": "scattermapbox"
           }
          ],
          "scatterpolar": [
           {
            "marker": {
             "colorbar": {
              "outlinewidth": 0,
              "ticks": ""
             }
            },
            "type": "scatterpolar"
           }
          ],
          "scatterpolargl": [
           {
            "marker": {
             "colorbar": {
              "outlinewidth": 0,
              "ticks": ""
             }
            },
            "type": "scatterpolargl"
           }
          ],
          "scatterternary": [
           {
            "marker": {
             "colorbar": {
              "outlinewidth": 0,
              "ticks": ""
             }
            },
            "type": "scatterternary"
           }
          ],
          "surface": [
           {
            "colorbar": {
             "outlinewidth": 0,
             "ticks": ""
            },
            "colorscale": [
             [
              0,
              "#0d0887"
             ],
             [
              0.1111111111111111,
              "#46039f"
             ],
             [
              0.2222222222222222,
              "#7201a8"
             ],
             [
              0.3333333333333333,
              "#9c179e"
             ],
             [
              0.4444444444444444,
              "#bd3786"
             ],
             [
              0.5555555555555556,
              "#d8576b"
             ],
             [
              0.6666666666666666,
              "#ed7953"
             ],
             [
              0.7777777777777778,
              "#fb9f3a"
             ],
             [
              0.8888888888888888,
              "#fdca26"
             ],
             [
              1,
              "#f0f921"
             ]
            ],
            "type": "surface"
           }
          ],
          "table": [
           {
            "cells": {
             "fill": {
              "color": "#EBF0F8"
             },
             "line": {
              "color": "white"
             }
            },
            "header": {
             "fill": {
              "color": "#C8D4E3"
             },
             "line": {
              "color": "white"
             }
            },
            "type": "table"
           }
          ]
         },
         "layout": {
          "annotationdefaults": {
           "arrowcolor": "#2a3f5f",
           "arrowhead": 0,
           "arrowwidth": 1
          },
          "autotypenumbers": "strict",
          "coloraxis": {
           "colorbar": {
            "outlinewidth": 0,
            "ticks": ""
           }
          },
          "colorscale": {
           "diverging": [
            [
             0,
             "#8e0152"
            ],
            [
             0.1,
             "#c51b7d"
            ],
            [
             0.2,
             "#de77ae"
            ],
            [
             0.3,
             "#f1b6da"
            ],
            [
             0.4,
             "#fde0ef"
            ],
            [
             0.5,
             "#f7f7f7"
            ],
            [
             0.6,
             "#e6f5d0"
            ],
            [
             0.7,
             "#b8e186"
            ],
            [
             0.8,
             "#7fbc41"
            ],
            [
             0.9,
             "#4d9221"
            ],
            [
             1,
             "#276419"
            ]
           ],
           "sequential": [
            [
             0,
             "#0d0887"
            ],
            [
             0.1111111111111111,
             "#46039f"
            ],
            [
             0.2222222222222222,
             "#7201a8"
            ],
            [
             0.3333333333333333,
             "#9c179e"
            ],
            [
             0.4444444444444444,
             "#bd3786"
            ],
            [
             0.5555555555555556,
             "#d8576b"
            ],
            [
             0.6666666666666666,
             "#ed7953"
            ],
            [
             0.7777777777777778,
             "#fb9f3a"
            ],
            [
             0.8888888888888888,
             "#fdca26"
            ],
            [
             1,
             "#f0f921"
            ]
           ],
           "sequentialminus": [
            [
             0,
             "#0d0887"
            ],
            [
             0.1111111111111111,
             "#46039f"
            ],
            [
             0.2222222222222222,
             "#7201a8"
            ],
            [
             0.3333333333333333,
             "#9c179e"
            ],
            [
             0.4444444444444444,
             "#bd3786"
            ],
            [
             0.5555555555555556,
             "#d8576b"
            ],
            [
             0.6666666666666666,
             "#ed7953"
            ],
            [
             0.7777777777777778,
             "#fb9f3a"
            ],
            [
             0.8888888888888888,
             "#fdca26"
            ],
            [
             1,
             "#f0f921"
            ]
           ]
          },
          "colorway": [
           "#636efa",
           "#EF553B",
           "#00cc96",
           "#ab63fa",
           "#FFA15A",
           "#19d3f3",
           "#FF6692",
           "#B6E880",
           "#FF97FF",
           "#FECB52"
          ],
          "font": {
           "color": "#2a3f5f"
          },
          "geo": {
           "bgcolor": "white",
           "lakecolor": "white",
           "landcolor": "#E5ECF6",
           "showlakes": true,
           "showland": true,
           "subunitcolor": "white"
          },
          "hoverlabel": {
           "align": "left"
          },
          "hovermode": "closest",
          "mapbox": {
           "style": "light"
          },
          "paper_bgcolor": "white",
          "plot_bgcolor": "#E5ECF6",
          "polar": {
           "angularaxis": {
            "gridcolor": "white",
            "linecolor": "white",
            "ticks": ""
           },
           "bgcolor": "#E5ECF6",
           "radialaxis": {
            "gridcolor": "white",
            "linecolor": "white",
            "ticks": ""
           }
          },
          "scene": {
           "xaxis": {
            "backgroundcolor": "#E5ECF6",
            "gridcolor": "white",
            "gridwidth": 2,
            "linecolor": "white",
            "showbackground": true,
            "ticks": "",
            "zerolinecolor": "white"
           },
           "yaxis": {
            "backgroundcolor": "#E5ECF6",
            "gridcolor": "white",
            "gridwidth": 2,
            "linecolor": "white",
            "showbackground": true,
            "ticks": "",
            "zerolinecolor": "white"
           },
           "zaxis": {
            "backgroundcolor": "#E5ECF6",
            "gridcolor": "white",
            "gridwidth": 2,
            "linecolor": "white",
            "showbackground": true,
            "ticks": "",
            "zerolinecolor": "white"
           }
          },
          "shapedefaults": {
           "line": {
            "color": "#2a3f5f"
           }
          },
          "ternary": {
           "aaxis": {
            "gridcolor": "white",
            "linecolor": "white",
            "ticks": ""
           },
           "baxis": {
            "gridcolor": "white",
            "linecolor": "white",
            "ticks": ""
           },
           "bgcolor": "#E5ECF6",
           "caxis": {
            "gridcolor": "white",
            "linecolor": "white",
            "ticks": ""
           }
          },
          "title": {
           "x": 0.05
          },
          "xaxis": {
           "automargin": true,
           "gridcolor": "white",
           "linecolor": "white",
           "ticks": "",
           "title": {
            "standoff": 15
           },
           "zerolinecolor": "white",
           "zerolinewidth": 2
          },
          "yaxis": {
           "automargin": true,
           "gridcolor": "white",
           "linecolor": "white",
           "ticks": "",
           "title": {
            "standoff": 15
           },
           "zerolinecolor": "white",
           "zerolinewidth": 2
          }
         }
        }
       }
      },
      "text/html": [
       "<div>                            <div id=\"d6113738-54b3-4882-b3d6-4e860b5c3788\" class=\"plotly-graph-div\" style=\"height:525px; width:100%;\"></div>            <script type=\"text/javascript\">                require([\"plotly\"], function(Plotly) {                    window.PLOTLYENV=window.PLOTLYENV || {};                                    if (document.getElementById(\"d6113738-54b3-4882-b3d6-4e860b5c3788\")) {                    Plotly.newPlot(                        \"d6113738-54b3-4882-b3d6-4e860b5c3788\",                        [{\"coloraxis\":\"coloraxis\",\"featureidkey\":\"properties.NUTS_ID\",\"geo\":\"geo\",\"geojson\":{\"type\":\"FeatureCollection\",\"features\":[{\"type\":\"Feature\",\"id\":\"ITF\",\"properties\":{\"NUTS_ID\":\"ITF\",\"STAT_LEVL_\":1,\"SHAPE_AREA\":7.76554618345,\"SHAPE_LEN\":20.516959983},\"geometry\":{\"type\":\"Polygon\",\"coordinates\":[[[17.388981,40.89186349900001],[18.097453,40.515377999],[18.517056,40.135147999000026],[18.369068,39.793742001],[18.04794750000002,39.92847849899999],[17.76350449900002,40.295507],[17.127098,40.51762050000002],[16.867264,40.39784549900003],[16.644317,40.119095999000024],[16.52795550000002,39.66865950099998],[17.025064499999985,39.483578498999975],[17.188881,39.020471998],[16.890732,38.92712849899999],[16.566985499999987,38.765481998999974],[16.5820845,38.46979049700002],[16.0638095,37.924418996999975],[15.678212,37.95411949800001],[15.636063,38.231473498000014],[15.652291742999978,38.247265964],[15.687350835000018,38.28138256400001],[15.918956,38.50676149899999],[15.8481175,38.658864498000014],[16.2137535,38.81043999899998],[16.093153,39.04874299800002],[15.75595850000002,39.923496],[15.644945499000016,40.04279049899998],[15.356917,39.999090997999986],[14.787251500000025,40.66618049800002],[14.747420499999976,40.67764649899999],[14.692414499999984,40.63406599899997],[14.528490499999975,40.607152498],[14.46862,40.62020149900002],[14.324673,40.56908499899998],[14.460677499999974,40.74293050099999],[14.0321305,40.898838997999974],[13.760795499999972,41.22316799700002],[13.8737185,41.338294001],[13.977928,41.462454],[13.941038499,41.68794399699999],[13.296299499999975,41.94858850000003],[13.0305745,42.115353],[13.1913805,42.587491],[13.39403149899999,42.591233999],[13.3577745,42.694069997999975],[13.9157315,42.894577],[14.1469065,42.53059649900001],[14.253960499000016,42.444798499],[14.779646999000022,42.070021499],[15.13817849999998,41.92700749900001],[16.17653150000001,41.88478950000001],[15.89714,41.603231999],[16.024738500000012,41.425590499],[16.542302499000016,41.229441],[17.388981,40.89186349900001]]]}},{\"type\":\"Feature\",\"id\":\"ITG\",\"properties\":{\"NUTS_ID\":\"ITG\",\"STAT_LEVL_\":1,\"SHAPE_AREA\":5.11153895806,\"SHAPE_LEN\":15.5196852972},\"geometry\":{\"type\":\"MultiPolygon\",\"coordinates\":[[[[15.572551,38.234204998999985],[15.2580825,37.807223997999984],[15.091499,37.3577085],[15.315962500000012,37.035012498000015],[15.116582,36.67495599900002],[15.000358,36.70284749799998],[14.493577,36.78673349799999],[14.337594500000023,37.001979999000014],[14.036207,37.10602799899999],[12.896496,37.577118498],[12.672787,37.56008099899998],[12.4429295,37.81105199899997],[12.561744499999975,38.06556199800002],[12.731687,38.180297499],[12.811005,38.08151549799999],[12.9772625,38.04020599900002],[13.36569350000002,38.18228949899998],[13.7438295,37.97024649799999],[14.183486,38.01939649899998],[15.652927,38.26710399699999],[15.572551,38.234204998999985]]],[[[9.423461998999983,41.17674100099998],[9.748871999000016,40.660406997999985],[9.8270205,40.51211249900001],[9.62652699900002,40.22487699800001],[9.7352045,40.075661998999976],[9.6511185,39.54932399799998],[9.555865,39.133966997000016],[9.1099865,39.214018501],[8.859653,38.87746949899997],[8.612392,38.957787998000015],[8.368104499000026,39.21381050000002],[8.393,39.446529499],[8.5022545,39.713006999000015],[8.399809,40.40756849899998],[8.135010500000021,40.73634899899997],[8.201709,40.97256649799999],[8.4171275,40.83831349899998],[8.802688499999988,40.931047998],[9.163662,41.23562400100002],[9.423461998999983,41.17674100099998]]]]}},{\"type\":\"Feature\",\"id\":\"ITD\",\"properties\":{\"NUTS_ID\":\"ITD\",\"STAT_LEVL_\":1,\"SHAPE_AREA\":7.1090756829,\"SHAPE_LEN\":19.5663079898},\"geometry\":{\"type\":\"Polygon\",\"coordinates\":[[[12.690635,46.656972000999986],[12.73139299899998,46.634288],[13.504249500000014,46.56630399800002],[13.714184999,46.52270349999998],[13.684032,46.437472501],[13.3754925,46.29823249899999],[13.66434750000002,46.177549999],[13.496938999,46.051334999],[13.597145,45.81952250099999],[13.596243,45.807937501000026],[13.9186565,45.63351749899999],[13.7228235,45.59472549700001],[13.579783,45.786951499],[13.40649350000001,45.725175001000025],[13.130853,45.771844499999986],[13.098785501,45.644532997],[12.434162500000014,45.42448599699998],[12.631836,45.534338499],[12.413683999,45.544310500999984],[12.132562,45.300370499999985],[12.200494,45.257337],[12.2045665,45.19767599800002],[12.33057150000002,45.1605505],[12.328777,45.151860999],[12.302155605999985,45.13788754699999],[12.279706042999976,45.123266828],[12.399056499999972,44.792615501],[12.269892,44.630007497],[12.384282,44.224726499999974],[12.450349,44.162189496999986],[12.75078,43.970601500999976],[12.669299,43.823227498999984],[12.493956,43.91554650099999],[12.513435500000014,43.99126949700002],[12.4046075,43.95567850100002],[12.4177,43.899029997000014],[12.2837975,43.76489899799998],[12.107464,43.75375349699999],[11.98652850000002,43.76191399800001],[11.710189,43.877430498000024],[11.715906500000017,44.122540499000024],[11.524959500000023,44.157639999000025],[11.202439500000025,44.100721],[11.049449,44.09022999899997],[10.814787,44.11617449900001],[10.624078,44.120351501000016],[10.470149,44.226041001],[10.253875,44.26856699899997],[10.142054499999972,44.353852999000026],[9.686725500000023,44.36592199900002],[9.4790595,44.40924050000001],[9.493363,44.555858999],[9.202995499999986,44.613476499],[9.200074,44.68609949699999],[9.3246605,44.69],[9.548684499999979,45.13264849900003],[9.8911015,45.130898],[10.083503,45.04395850100002],[10.464030499999978,44.93717150100002],[10.504344,44.922417999],[10.887909499999978,44.914265999],[11.246231500000022,44.951427997],[11.426765499999988,44.950076],[11.205502500000023,45.10948749900001],[10.6546555,45.41582699899999],[10.631074,45.60951250099998],[10.840176499999984,45.832758501],[10.502388,45.830373],[10.515751500000022,46.34322449699999],[10.622145499999988,46.448101999000016],[10.452801,46.53068299900002],[10.4696515,46.854909],[11.02225,46.765410498999984],[11.164281500000016,46.96572250000003],[11.627199500000017,47.013299],[12.136014,47.0806675],[12.2407455,47.069168499],[12.143811,46.913779998],[12.477924,46.67983549799999],[12.690635,46.656972000999986]]]}},{\"type\":\"Feature\",\"id\":\"ITE\",\"properties\":{\"NUTS_ID\":\"ITE\",\"STAT_LEVL_\":1,\"SHAPE_AREA\":6.33140759553,\"SHAPE_LEN\":14.0181138018},\"geometry\":{\"type\":\"Polygon\",\"coordinates\":[[[12.4177,43.899029997000014],[12.493956,43.91554650099999],[12.669299,43.823227498999984],[12.75078,43.970601500999976],[13.172615,43.75034599899999],[13.6420965,43.47414249899998],[13.742970499000023,43.29414699900002],[13.849453,43.06665949799998],[13.9157315,42.894577],[13.3577745,42.694069997999975],[13.39403149899999,42.591233999],[13.1913805,42.587491],[13.0305745,42.115353],[13.296299499999975,41.94858850000003],[13.941038499,41.68794399699999],[13.977928,41.462454],[13.8737185,41.338294001],[13.760795499999972,41.22316799700002],[13.067982,41.221979],[12.7733215,41.41626399900002],[11.733844,42.15805899899999],[11.449938499999973,42.37767050100001],[11.0979815,42.393149499],[11.1765795,42.541544],[10.7056725,42.9418645],[10.499046,42.93527050099999],[10.528247498999974,43.231603999000015],[10.299847,43.58192899900001],[10.258118,43.81514699899998],[10.143476,43.97542049899999],[10.018769500000019,44.044535998000015],[9.686725500000023,44.36592199900002],[10.142054499999972,44.353852999000026],[10.253875,44.26856699899997],[10.470149,44.226041001],[10.624078,44.120351501000016],[10.814787,44.11617449900001],[11.049449,44.09022999899997],[11.202439500000025,44.100721],[11.524959500000023,44.157639999000025],[11.715906500000017,44.122540499000024],[11.710189,43.877430498000024],[11.98652850000002,43.76191399800001],[12.107464,43.75375349699999],[12.2837975,43.76489899799998],[12.4177,43.899029997000014]],[[12.4466885,41.90174499800003],[12.458003,41.90148549899999],[12.45582,41.907197499],[12.4466885,41.90174499800003]]]}},{\"type\":\"Feature\",\"id\":\"ITC\",\"properties\":{\"NUTS_ID\":\"ITC\",\"STAT_LEVL_\":1,\"SHAPE_AREA\":6.68473353585,\"SHAPE_LEN\":17.1356662484},\"geometry\":{\"type\":\"Polygon\",\"coordinates\":[[[10.452801,46.53068299900002],[10.622145499999988,46.448101999000016],[10.515751500000022,46.34322449699999],[10.502388,45.830373],[10.840176499999984,45.832758501],[10.631074,45.60951250099998],[10.6546555,45.41582699899999],[11.205502500000023,45.10948749900001],[11.426765499999988,44.950076],[11.246231500000022,44.951427997],[10.887909499999978,44.914265999],[10.504344,44.922417999],[10.464030499999978,44.93717150100002],[10.083503,45.04395850100002],[9.8911015,45.130898],[9.548684499999979,45.13264849900003],[9.3246605,44.69],[9.200074,44.68609949699999],[9.202995499999986,44.613476499],[9.493363,44.555858999],[9.4790595,44.40924050000001],[9.686725500000023,44.36592199900002],[10.018769500000019,44.044535998000015],[9.511344,44.21667549799997],[8.63301,44.379803498],[8.135350999000025,43.93894049800002],[7.529827,43.784007997],[7.714236500000027,44.061513499],[7.007760500000018,44.23670049899999],[6.887428,44.361287],[6.948443,44.654741999],[7.065755,44.71346449700002],[6.630051,45.10985649999998],[7.125157,45.243994498],[7.104723,45.46845449900002],[6.8023685,45.778562],[7.044886,45.92241299900002],[7.86407650000001,45.91675049999998],[7.8771375,45.926954997999985],[8.384717,46.452158499],[8.713936,46.097271998999986],[8.912147,45.830444999],[9.088803499999983,45.89689700100001],[8.988276499999984,45.97228249800003],[9.1593775,46.169601],[9.248531500000013,46.23376800099999],[9.714149500000019,46.292708499000014],[10.2448745,46.62209199799997],[10.452801,46.53068299900002]]]}}]},\"hovertemplate\":\"Territory=%{location}<br>Quantity=%{z}<extra></extra>\",\"locations\":[\"ITC\",\"ITCD\",\"ITD\",\"ITE\",\"ITF\",\"ITG\",\"ITC\",\"ITCD\",\"ITD\",\"ITE\",\"ITF\",\"ITG\",\"ITC\",\"ITCD\",\"ITD\",\"ITE\",\"ITF\",\"ITG\",\"ITC\",\"ITCD\",\"ITD\",\"ITE\",\"ITF\",\"ITG\",\"ITC\",\"ITCD\",\"ITD\",\"ITE\",\"ITF\",\"ITG\",\"ITC\",\"ITCD\",\"ITD\",\"ITE\",\"ITF\",\"ITG\"],\"name\":\"\",\"z\":[1656416,2835528,1179112,1222811,592528,232584,1687560,2900417,1212857,1246779,609173,239789,1708639,2936602,1227963,1250276,610717,242042,1766425,3058724,1292299,1284499,593154,235517,1720043,2973523,1253480,1241133,583055,233005,1733946,2988537,1254591,1238153,590189,233378],\"type\":\"choropleth\"}],                        {\"template\":{\"data\":{\"histogram2dcontour\":[{\"type\":\"histogram2dcontour\",\"colorbar\":{\"outlinewidth\":0,\"ticks\":\"\"},\"colorscale\":[[0.0,\"#0d0887\"],[0.1111111111111111,\"#46039f\"],[0.2222222222222222,\"#7201a8\"],[0.3333333333333333,\"#9c179e\"],[0.4444444444444444,\"#bd3786\"],[0.5555555555555556,\"#d8576b\"],[0.6666666666666666,\"#ed7953\"],[0.7777777777777778,\"#fb9f3a\"],[0.8888888888888888,\"#fdca26\"],[1.0,\"#f0f921\"]]}],\"choropleth\":[{\"type\":\"choropleth\",\"colorbar\":{\"outlinewidth\":0,\"ticks\":\"\"}}],\"histogram2d\":[{\"type\":\"histogram2d\",\"colorbar\":{\"outlinewidth\":0,\"ticks\":\"\"},\"colorscale\":[[0.0,\"#0d0887\"],[0.1111111111111111,\"#46039f\"],[0.2222222222222222,\"#7201a8\"],[0.3333333333333333,\"#9c179e\"],[0.4444444444444444,\"#bd3786\"],[0.5555555555555556,\"#d8576b\"],[0.6666666666666666,\"#ed7953\"],[0.7777777777777778,\"#fb9f3a\"],[0.8888888888888888,\"#fdca26\"],[1.0,\"#f0f921\"]]}],\"heatmap\":[{\"type\":\"heatmap\",\"colorbar\":{\"outlinewidth\":0,\"ticks\":\"\"},\"colorscale\":[[0.0,\"#0d0887\"],[0.1111111111111111,\"#46039f\"],[0.2222222222222222,\"#7201a8\"],[0.3333333333333333,\"#9c179e\"],[0.4444444444444444,\"#bd3786\"],[0.5555555555555556,\"#d8576b\"],[0.6666666666666666,\"#ed7953\"],[0.7777777777777778,\"#fb9f3a\"],[0.8888888888888888,\"#fdca26\"],[1.0,\"#f0f921\"]]}],\"heatmapgl\":[{\"type\":\"heatmapgl\",\"colorbar\":{\"outlinewidth\":0,\"ticks\":\"\"},\"colorscale\":[[0.0,\"#0d0887\"],[0.1111111111111111,\"#46039f\"],[0.2222222222222222,\"#7201a8\"],[0.3333333333333333,\"#9c179e\"],[0.4444444444444444,\"#bd3786\"],[0.5555555555555556,\"#d8576b\"],[0.6666666666666666,\"#ed7953\"],[0.7777777777777778,\"#fb9f3a\"],[0.8888888888888888,\"#fdca26\"],[1.0,\"#f0f921\"]]}],\"contourcarpet\":[{\"type\":\"contourcarpet\",\"colorbar\":{\"outlinewidth\":0,\"ticks\":\"\"}}],\"contour\":[{\"type\":\"contour\",\"colorbar\":{\"outlinewidth\":0,\"ticks\":\"\"},\"colorscale\":[[0.0,\"#0d0887\"],[0.1111111111111111,\"#46039f\"],[0.2222222222222222,\"#7201a8\"],[0.3333333333333333,\"#9c179e\"],[0.4444444444444444,\"#bd3786\"],[0.5555555555555556,\"#d8576b\"],[0.6666666666666666,\"#ed7953\"],[0.7777777777777778,\"#fb9f3a\"],[0.8888888888888888,\"#fdca26\"],[1.0,\"#f0f921\"]]}],\"surface\":[{\"type\":\"surface\",\"colorbar\":{\"outlinewidth\":0,\"ticks\":\"\"},\"colorscale\":[[0.0,\"#0d0887\"],[0.1111111111111111,\"#46039f\"],[0.2222222222222222,\"#7201a8\"],[0.3333333333333333,\"#9c179e\"],[0.4444444444444444,\"#bd3786\"],[0.5555555555555556,\"#d8576b\"],[0.6666666666666666,\"#ed7953\"],[0.7777777777777778,\"#fb9f3a\"],[0.8888888888888888,\"#fdca26\"],[1.0,\"#f0f921\"]]}],\"mesh3d\":[{\"type\":\"mesh3d\",\"colorbar\":{\"outlinewidth\":0,\"ticks\":\"\"}}],\"scatter\":[{\"fillpattern\":{\"fillmode\":\"overlay\",\"size\":10,\"solidity\":0.2},\"type\":\"scatter\"}],\"parcoords\":[{\"type\":\"parcoords\",\"line\":{\"colorbar\":{\"outlinewidth\":0,\"ticks\":\"\"}}}],\"scatterpolargl\":[{\"type\":\"scatterpolargl\",\"marker\":{\"colorbar\":{\"outlinewidth\":0,\"ticks\":\"\"}}}],\"bar\":[{\"error_x\":{\"color\":\"#2a3f5f\"},\"error_y\":{\"color\":\"#2a3f5f\"},\"marker\":{\"line\":{\"color\":\"#E5ECF6\",\"width\":0.5},\"pattern\":{\"fillmode\":\"overlay\",\"size\":10,\"solidity\":0.2}},\"type\":\"bar\"}],\"scattergeo\":[{\"type\":\"scattergeo\",\"marker\":{\"colorbar\":{\"outlinewidth\":0,\"ticks\":\"\"}}}],\"scatterpolar\":[{\"type\":\"scatterpolar\",\"marker\":{\"colorbar\":{\"outlinewidth\":0,\"ticks\":\"\"}}}],\"histogram\":[{\"marker\":{\"pattern\":{\"fillmode\":\"overlay\",\"size\":10,\"solidity\":0.2}},\"type\":\"histogram\"}],\"scattergl\":[{\"type\":\"scattergl\",\"marker\":{\"colorbar\":{\"outlinewidth\":0,\"ticks\":\"\"}}}],\"scatter3d\":[{\"type\":\"scatter3d\",\"line\":{\"colorbar\":{\"outlinewidth\":0,\"ticks\":\"\"}},\"marker\":{\"colorbar\":{\"outlinewidth\":0,\"ticks\":\"\"}}}],\"scattermapbox\":[{\"type\":\"scattermapbox\",\"marker\":{\"colorbar\":{\"outlinewidth\":0,\"ticks\":\"\"}}}],\"scatterternary\":[{\"type\":\"scatterternary\",\"marker\":{\"colorbar\":{\"outlinewidth\":0,\"ticks\":\"\"}}}],\"scattercarpet\":[{\"type\":\"scattercarpet\",\"marker\":{\"colorbar\":{\"outlinewidth\":0,\"ticks\":\"\"}}}],\"carpet\":[{\"aaxis\":{\"endlinecolor\":\"#2a3f5f\",\"gridcolor\":\"white\",\"linecolor\":\"white\",\"minorgridcolor\":\"white\",\"startlinecolor\":\"#2a3f5f\"},\"baxis\":{\"endlinecolor\":\"#2a3f5f\",\"gridcolor\":\"white\",\"linecolor\":\"white\",\"minorgridcolor\":\"white\",\"startlinecolor\":\"#2a3f5f\"},\"type\":\"carpet\"}],\"table\":[{\"cells\":{\"fill\":{\"color\":\"#EBF0F8\"},\"line\":{\"color\":\"white\"}},\"header\":{\"fill\":{\"color\":\"#C8D4E3\"},\"line\":{\"color\":\"white\"}},\"type\":\"table\"}],\"barpolar\":[{\"marker\":{\"line\":{\"color\":\"#E5ECF6\",\"width\":0.5},\"pattern\":{\"fillmode\":\"overlay\",\"size\":10,\"solidity\":0.2}},\"type\":\"barpolar\"}],\"pie\":[{\"automargin\":true,\"type\":\"pie\"}]},\"layout\":{\"autotypenumbers\":\"strict\",\"colorway\":[\"#636efa\",\"#EF553B\",\"#00cc96\",\"#ab63fa\",\"#FFA15A\",\"#19d3f3\",\"#FF6692\",\"#B6E880\",\"#FF97FF\",\"#FECB52\"],\"font\":{\"color\":\"#2a3f5f\"},\"hovermode\":\"closest\",\"hoverlabel\":{\"align\":\"left\"},\"paper_bgcolor\":\"white\",\"plot_bgcolor\":\"#E5ECF6\",\"polar\":{\"bgcolor\":\"#E5ECF6\",\"angularaxis\":{\"gridcolor\":\"white\",\"linecolor\":\"white\",\"ticks\":\"\"},\"radialaxis\":{\"gridcolor\":\"white\",\"linecolor\":\"white\",\"ticks\":\"\"}},\"ternary\":{\"bgcolor\":\"#E5ECF6\",\"aaxis\":{\"gridcolor\":\"white\",\"linecolor\":\"white\",\"ticks\":\"\"},\"baxis\":{\"gridcolor\":\"white\",\"linecolor\":\"white\",\"ticks\":\"\"},\"caxis\":{\"gridcolor\":\"white\",\"linecolor\":\"white\",\"ticks\":\"\"}},\"coloraxis\":{\"colorbar\":{\"outlinewidth\":0,\"ticks\":\"\"}},\"colorscale\":{\"sequential\":[[0.0,\"#0d0887\"],[0.1111111111111111,\"#46039f\"],[0.2222222222222222,\"#7201a8\"],[0.3333333333333333,\"#9c179e\"],[0.4444444444444444,\"#bd3786\"],[0.5555555555555556,\"#d8576b\"],[0.6666666666666666,\"#ed7953\"],[0.7777777777777778,\"#fb9f3a\"],[0.8888888888888888,\"#fdca26\"],[1.0,\"#f0f921\"]],\"sequentialminus\":[[0.0,\"#0d0887\"],[0.1111111111111111,\"#46039f\"],[0.2222222222222222,\"#7201a8\"],[0.3333333333333333,\"#9c179e\"],[0.4444444444444444,\"#bd3786\"],[0.5555555555555556,\"#d8576b\"],[0.6666666666666666,\"#ed7953\"],[0.7777777777777778,\"#fb9f3a\"],[0.8888888888888888,\"#fdca26\"],[1.0,\"#f0f921\"]],\"diverging\":[[0,\"#8e0152\"],[0.1,\"#c51b7d\"],[0.2,\"#de77ae\"],[0.3,\"#f1b6da\"],[0.4,\"#fde0ef\"],[0.5,\"#f7f7f7\"],[0.6,\"#e6f5d0\"],[0.7,\"#b8e186\"],[0.8,\"#7fbc41\"],[0.9,\"#4d9221\"],[1,\"#276419\"]]},\"xaxis\":{\"gridcolor\":\"white\",\"linecolor\":\"white\",\"ticks\":\"\",\"title\":{\"standoff\":15},\"zerolinecolor\":\"white\",\"automargin\":true,\"zerolinewidth\":2},\"yaxis\":{\"gridcolor\":\"white\",\"linecolor\":\"white\",\"ticks\":\"\",\"title\":{\"standoff\":15},\"zerolinecolor\":\"white\",\"automargin\":true,\"zerolinewidth\":2},\"scene\":{\"xaxis\":{\"backgroundcolor\":\"#E5ECF6\",\"gridcolor\":\"white\",\"linecolor\":\"white\",\"showbackground\":true,\"ticks\":\"\",\"zerolinecolor\":\"white\",\"gridwidth\":2},\"yaxis\":{\"backgroundcolor\":\"#E5ECF6\",\"gridcolor\":\"white\",\"linecolor\":\"white\",\"showbackground\":true,\"ticks\":\"\",\"zerolinecolor\":\"white\",\"gridwidth\":2},\"zaxis\":{\"backgroundcolor\":\"#E5ECF6\",\"gridcolor\":\"white\",\"linecolor\":\"white\",\"showbackground\":true,\"ticks\":\"\",\"zerolinecolor\":\"white\",\"gridwidth\":2}},\"shapedefaults\":{\"line\":{\"color\":\"#2a3f5f\"}},\"annotationdefaults\":{\"arrowcolor\":\"#2a3f5f\",\"arrowhead\":0,\"arrowwidth\":1},\"geo\":{\"bgcolor\":\"white\",\"landcolor\":\"#E5ECF6\",\"subunitcolor\":\"white\",\"showland\":true,\"showlakes\":true,\"lakecolor\":\"white\"},\"title\":{\"x\":0.05},\"mapbox\":{\"style\":\"light\"}}},\"geo\":{\"domain\":{\"x\":[0.0,1.0],\"y\":[0.0,1.0]},\"projection\":{\"type\":\"mercator\"},\"center\":{},\"fitbounds\":\"locations\",\"visible\":false},\"coloraxis\":{\"colorbar\":{\"title\":{\"text\":\"Quantity\"}},\"colorscale\":[[0.0,\"#0d0887\"],[0.1111111111111111,\"#46039f\"],[0.2222222222222222,\"#7201a8\"],[0.3333333333333333,\"#9c179e\"],[0.4444444444444444,\"#bd3786\"],[0.5555555555555556,\"#d8576b\"],[0.6666666666666666,\"#ed7953\"],[0.7777777777777778,\"#fb9f3a\"],[0.8888888888888888,\"#fdca26\"],[1.0,\"#f0f921\"]]},\"legend\":{\"tracegroupgap\":0},\"margin\":{\"t\":0,\"r\":0,\"l\":0,\"b\":0}},                        {\"responsive\": true}                    ).then(function(){\n",
       "                            \n",
       "var gd = document.getElementById('d6113738-54b3-4882-b3d6-4e860b5c3788');\n",
       "var x = new MutationObserver(function (mutations, observer) {{\n",
       "        var display = window.getComputedStyle(gd).display;\n",
       "        if (!display || display === 'none') {{\n",
       "            console.log([gd, 'removed!']);\n",
       "            Plotly.purge(gd);\n",
       "            observer.disconnect();\n",
       "        }}\n",
       "}});\n",
       "\n",
       "// Listen for the removal of the full notebook cells\n",
       "var notebookContainer = gd.closest('#notebook-container');\n",
       "if (notebookContainer) {{\n",
       "    x.observe(notebookContainer, {childList: true});\n",
       "}}\n",
       "\n",
       "// Listen for the clearing of the current output cell\n",
       "var outputEl = gd.closest('.output');\n",
       "if (outputEl) {{\n",
       "    x.observe(outputEl, {childList: true});\n",
       "}}\n",
       "\n",
       "                        })                };                });            </script>        </div>"
      ]
     },
     "metadata": {},
     "output_type": "display_data"
    }
   ],
   "source": [
    "import plotly.express as px\n",
    "\n",
    "df = df_dist\n",
    "geojson = it_map\n",
    "\n",
    "fig = px.choropleth(df, geojson=filtered_geojson, color=\"Quantity\",\n",
    "                    locations=\"Territory\", featureidkey=\"properties.NUTS_ID\",\n",
    "                    projection=\"mercator\"\n",
    "                   )\n",
    "fig.update_geos(fitbounds=\"locations\", visible=False)\n",
    "fig.update_layout(margin={\"r\":0,\"t\":0,\"l\":0,\"b\":0})\n",
    "fig.show()"
   ]
  },
  {
   "cell_type": "code",
   "execution_count": null,
   "id": "fe7fc5fd",
   "metadata": {},
   "outputs": [],
   "source": []
  }
 ],
 "metadata": {
  "kernelspec": {
   "display_name": "Python 3 (ipykernel)",
   "language": "python",
   "name": "python3"
  },
  "language_info": {
   "codemirror_mode": {
    "name": "ipython",
    "version": 3
   },
   "file_extension": ".py",
   "mimetype": "text/x-python",
   "name": "python",
   "nbconvert_exporter": "python",
   "pygments_lexer": "ipython3",
   "version": "3.9.7"
  }
 },
 "nbformat": 4,
 "nbformat_minor": 5
}
