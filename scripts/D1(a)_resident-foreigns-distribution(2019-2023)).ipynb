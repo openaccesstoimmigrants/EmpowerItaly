{
 "cells": [
  {
   "cell_type": "markdown",
   "id": "a793f383-bd06-40a8-a7c6-a1581ccb2527",
   "metadata": {},
   "source": [
    "# D1(a)\n",
    "## ISTAT SDMX - Resident foreigners on 1st January\n",
    "\n",
    "[See on IstatData](https://esploradati.istat.it/databrowser/#/it/dw/categories/IT1,POP,1.0/POP_FOREIGNIM/DCIS_POPSTRRES1/IT1,29_7_DF_DCIS_POPSTRRES1_1,1.0)"
   ]
  },
  {
   "cell_type": "code",
   "execution_count": 1,
   "id": "a9b275bf-4246-4d46-ad8d-f2bbf769fa12",
   "metadata": {},
   "outputs": [],
   "source": [
    "#!pip install pandasdmx requests requests_cache xmltodict"
   ]
  },
  {
   "cell_type": "code",
   "execution_count": 6,
   "id": "68d72ee9-a8d2-4c2e-92dd-b6ef90f15629",
   "metadata": {},
   "outputs": [],
   "source": [
    "import pandas as pd\n",
    "import pandasdmx as sdmx\n",
    "import json\n",
    "import requests\n",
    "# from pandasdmx import Request\n",
    "import xmltodict\n",
    "from datetime import datetime\n",
    "import os"
   ]
  },
  {
   "cell_type": "code",
   "execution_count": 7,
   "id": "f1234ed9-87a8-471a-b37b-1c420558108a",
   "metadata": {},
   "outputs": [
    {
     "name": "stdout",
     "output_type": "stream",
     "text": [
      "200\n"
     ]
    },
    {
     "data": {
      "text/plain": [
       "str"
      ]
     },
     "execution_count": 7,
     "metadata": {},
     "output_type": "execute_result"
    }
   ],
   "source": [
    "# 1 -  EXPLORE DATASTRUCTURE\n",
    "response = requests.get('http://sdmx.istat.it/SDMXWS/rest/datastructure/IT1/DCIS_POPSTRRES1/')\n",
    "print(response.status_code)\n",
    "\n",
    "if response.status_code == 200:\n",
    "    content = response.content\n",
    "    \n",
    "    if len(content) > 0:\n",
    "        try:\n",
    "            xml_data = xmltodict.parse(content)\n",
    "            json_string_data = json.dumps(xml_data,\n",
    "                                    allow_nan = True, # If we hadn't set allow_nan to\n",
    "                                                      # true we would have got\n",
    "                                                      # ValueError: Out of range float\n",
    "                                                      # values are not JSON compliant\n",
    "                                    indent = 6) # Indentation can be used for pretty-printing\n",
    "            # Now you can work with the parsed JSON data\n",
    "        except json.JSONDecodeError as e:\n",
    "            print(\"Error decoding JSON:\", e)\n",
    "    else:\n",
    "        print(\"Empty content received.\")\n",
    "else:\n",
    "    print(\"Request failed with status code:\", response.status_code)\n",
    "\n",
    "# print(json_string_data)\n",
    "type(json_string_data)"
   ]
  },
  {
   "cell_type": "markdown",
   "id": "b486eee9-de88-4206-8587-2bb6f062f3a8",
   "metadata": {},
   "source": [
    "By querying the API, we will obtain an XML output that includes the structure:DimensionList tag, which contains the list of dimensions, i.e., the data schema of the dataset. In our case, the dimensions are as follows: `FREQ`, `ETA`, `ITTER107`, `SESSO`, `TIPO_INDDEM` and `TIME_PERIOD`.\n",
    "\n",
    "To understand the meaning of this abbreviations we can look at the package called `codelist`. It can be queried by the previous discovered IDs. Let's for example explore `ITTER107`. Reading the XML above we see that the ID to query relative to the package `codelist` is: `CL_ITTER107`. Querying the URL `http://sdmx.istat.it/SDMXWS/rest/codelist/IT1/CL_ITTER107` in Postman (some API response are too long to be loaded in a Jupyter Notebook) we can see that this dimension is relative to the territory of Italy and all Italian Municipality are listed with full name and ID. An example of one record is shown below:\n",
    "\n",
    "\n",
    "`<structure:Code id=\"SLL_2011_116\" urn=\"urn:sdmx:org.sdmx.infomodel.codelist.Code=IT1:CL_ITTER107(5.6).SLL_2011_116\">`\n",
    "<br>\n",
    "`    <common:Name xml:lang=\"it\">Fossano</common:Name>`\n",
    "    <br>\n",
    "`    <common:Name xml:lang=\"en\">Fossano</common:Name>`\n",
    "    <br>\n",
    "`    <structure:Parent>`\n",
    "    <br>\n",
    "`        <Ref id=\"IT\" />`\n",
    "        <br>\n",
    "`    </structure:Parent>`\n",
    "    <br>\n",
    "`</structure:Code>`\n",
    "\n",
    "Since we are interested in geograèhical regions, we find that:\n",
    "- `ITCD` is the ID for `nord`\n",
    "- `ITD` is the ID for `nord-est`\n",
    "- `ITC` is the ID for `nord-ovest`\n",
    "- `ITE`is the ID for `centro`\n",
    "- `ITF` is the ID for `sud`\n",
    "- `ITG` is the ID for `island`, Sardinia and Sicily\n",
    "- `IT` is the ID for the whole `Italy`\n",
    "We will need for our API request for this dimension:Code>"
   ]
  },
  {
   "cell_type": "code",
   "execution_count": 8,
   "id": "2374c975-877e-45b1-a467-595b543deaf3",
   "metadata": {},
   "outputs": [
    {
     "name": "stdout",
     "output_type": "stream",
     "text": [
      "200\n"
     ]
    }
   ],
   "source": [
    "# 2 - Explore the meaning of the dimensions of the dataset\n",
    "\n",
    "response = requests.get('http://sdmx.istat.it/SDMXWS/rest/codelist/IT1/CL_ITTER107')\n",
    "print(response.status_code)\n",
    "\n",
    "if response.status_code == 200:\n",
    "    content = response.content\n",
    "    \n",
    "    if len(content) > 0:\n",
    "        try:\n",
    "            xml_data = xmltodict.parse(content)\n",
    "            json_string_data = json.dumps(xml_data,\n",
    "                                    allow_nan = True, # If we hadn't set allow_nan to\n",
    "                                                      # true we would have got\n",
    "                                                      # ValueError: Out of range float\n",
    "                                                      # values are not JSON compliant\n",
    "                                    indent = 6) # Indentation can be used for pretty-printing\n",
    "            # Now you can work with the parsed JSON data\n",
    "        except json.JSONDecodeError as e:\n",
    "            print(\"Error decoding JSON:\", e)\n",
    "    else:\n",
    "        print(\"Empty content received.\")\n",
    "else:\n",
    "    print(\"Request failed with status code:\", response.status_code)\n",
    "\n",
    "# print(json_string_data)"
   ]
  },
  {
   "cell_type": "markdown",
   "id": "da8d5db1-b08c-4783-b3c6-275576082c8f",
   "metadata": {},
   "source": [
    "We explore all the other dimensions and since for our purpose we need all the ages we will have to understand how the are divided and which are the values. In order to do that we need to know the ID of our datasets. We can checkit in the URL on IstatData, and we see that is `29_7`.\n",
    "We can query the API rest service like this to obtain our result:"
   ]
  },
  {
   "cell_type": "code",
   "execution_count": 9,
   "id": "8c726e51-d479-4a54-8009-5ee59d60b402",
   "metadata": {},
   "outputs": [
    {
     "name": "stdout",
     "output_type": "stream",
     "text": [
      "200\n"
     ]
    }
   ],
   "source": [
    "# 3 -  EXPLORE VALUES IN DIMENSIONS\n",
    "response = requests.get('http://sdmx.istat.it/SDMXWS/rest/availableconstraint/29_7')\n",
    "print(response.status_code)\n",
    "\n",
    "if response.status_code == 200:\n",
    "    content = response.content\n",
    "    \n",
    "    if len(content) > 0:\n",
    "        try:\n",
    "            xml_data = xmltodict.parse(content)\n",
    "            json_string_data = json.dumps(xml_data,\n",
    "                                    allow_nan = True, # If we hadn't set allow_nan to\n",
    "                                                      # true we would have got\n",
    "                                                      # ValueError: Out of range float\n",
    "                                                      # values are not JSON compliant\n",
    "                                    indent = 6) # Indentation can be used for pretty-printing\n",
    "            # Now you can work with the parsed JSON data\n",
    "        except json.JSONDecodeError as e:\n",
    "            print(\"Error decoding JSON:\", e)\n",
    "    else:\n",
    "        print(\"Empty content received.\")\n",
    "else:\n",
    "    print(\"Request failed with status code:\", response.status_code)\n",
    "\n",
    "# Print is disable in documentation since the response is too long to be shown here. Uncomment to see it.\n",
    "# print(json_string_data)"
   ]
  },
  {
   "cell_type": "markdown",
   "id": "20aa2a23-7718-4891-8003-7c554c46040d",
   "metadata": {},
   "source": [
    "We can now compose our final query for retrive all values relative of all ages, for all Italy, divided by sex.\n",
    "Our final URL will be: http://sdmx.istat.it/SDMXWS/rest/data/29_7/.TOTAL.IT+ITCD+ITD+ITC+ITE+ITF.9./\n",
    "\n",
    "The filters we apply after the `data` request are:\n",
    "- `TOTAL` where we specify we want the whole ages not divided\n",
    "-`IT`that is equal to whole Italian nation plus all the regions (nord, nord-est, nord-ovet, center and sud)\n",
    "- `9`where we specify we want the data not divided by males and females."
   ]
  },
  {
   "cell_type": "code",
   "execution_count": 10,
   "id": "914cc97f-57de-485a-8d2e-27208405fdbb",
   "metadata": {},
   "outputs": [
    {
     "name": "stdout",
     "output_type": "stream",
     "text": [
      "200\n"
     ]
    }
   ],
   "source": [
    "# 4 -  FINAL QUERY WITH FILTERS\n",
    "response = requests.get('http://sdmx.istat.it/SDMXWS/rest/data/29_7/.TOTAL.IT+ITCD+ITD+ITC+ITE+ITF+ITG.9./')\n",
    "print(response.status_code)\n",
    "\n",
    "if response.status_code == 200:\n",
    "    content = response.content\n",
    "    \n",
    "    if len(content) > 0:\n",
    "        try:\n",
    "            xml_data = xmltodict.parse(content)\n",
    "            json_string_data = json.dumps(xml_data,\n",
    "                                    allow_nan = True, # If we hadn't set allow_nan to\n",
    "                                                      # true we would have got\n",
    "                                                      # ValueError: Out of range float\n",
    "                                                      # values are not JSON compliant\n",
    "                                    indent = 6) # Indentation can be used for pretty-printing\n",
    "            # Now you can work with the parsed JSON data\n",
    "        except json.JSONDecodeError as e:\n",
    "            print(\"Error decoding JSON:\", e)\n",
    "    else:\n",
    "        print(\"Empty content received.\")\n",
    "else:\n",
    "    print(\"Request failed with status code:\", response.status_code)\n",
    "\n",
    "# Print is disable in documentation since the response is too long to be shown here. Uncomment to see it.\n",
    "# print(json_string_data)"
   ]
  },
  {
   "cell_type": "markdown",
   "id": "8ee2dc08-7e2a-4625-be5b-e6b323a24e94",
   "metadata": {},
   "source": [
    "Now we crate a well formed JSON sting from the response.\n",
    "\n",
    "The code snippet performs the following tasks:\n",
    "\n",
    "1. It takes a JSON string called `json_string_data` and creates a nested dictionary, `nested_dict`, using the `json.loads()` function. This step is essential to process and extract information from the JSON data.\n",
    "\n",
    "2. It defines a translation dictionary, `sex_translation`, which maps numeric codes to corresponding gender labels ('1' to 'Male' and '2' to 'Female'). This dictionary will be used to translate the sex values later.\n",
    "\n",
    "3. It initializes an empty list, `result`, which will store the extracted information from the nested dictionary.\n",
    "\n",
    "4. It iterates over the series data in the nested dictionary. Each series represents a set of observations for a specific combination of variables.\n",
    "\n",
    "5. Within each series, it retrieves the territory and sex values by searching for specific keys ('ITTER107' and 'SESSO') in the series key. If found, it assigns the corresponding values to the `territory` and `sex` variables, respectively. The sex value is translated using the `sex_translation` dictionary.\n",
    "\n",
    "6. It retrieves the observation values (`obs_values`) for each series and iterates over them. Each observation contains information about the year, age, and quantity.\n",
    "\n",
    "7. It creates an entry dictionary that contains the extracted information, including the territory, year, sex, age, and quantity.\n",
    "\n",
    "8. The entry dictionary is appended to the `result` list.\n",
    "\n",
    "9. Finally, the `result` list is converted to a JSON string, `immigrants_distribution`, using `json.dumps()`. The type of the `immigrants_distribution` variable is printed to verify that it is a string.\n",
    "\n",
    "In summary, sintethis code processes the nested dictionary, extracts specific information, translates values, and organizes the extracted data into a clean JSON format suitable for visualization or further analysis."
   ]
  },
  {
   "cell_type": "code",
   "execution_count": 11,
   "id": "6953301e-5042-4aae-8e99-2e10e5b04df2",
   "metadata": {},
   "outputs": [
    {
     "name": "stdout",
     "output_type": "stream",
     "text": [
      "<class 'str'>\n",
      "[{\"Territory\": \"IT\", \"Year\": 2019, \"Sex\": \"TOTAL\", \"Age\": \"TOTAL\", \"Quantity\": 4996158}, {\"Territory\": \"IT\", \"Year\": 2020, \"Sex\": \"TOTAL\", \"Age\": \"TOTAL\", \"Quantity\": 5039637}, {\"Territory\": \"IT\", \"Year\": 2021, \"Sex\": \"TOTAL\", \"Age\": \"TOTAL\", \"Quantity\": 5171894}, {\"Territory\": \"IT\", \"Year\": 2022, \"Sex\": \"TOTAL\", \"Age\": \"TOTAL\", \"Quantity\": 5030716}, {\"Territory\": \"IT\", \"Year\": 2023, \"Sex\": \"TOTAL\", \"Age\": \"TOTAL\", \"Quantity\": 5050257}, {\"Territory\": \"ITC\", \"Year\": 2019, \"Sex\": \"TOTAL\", \"Age\": \"TOTAL\", \"Quantity\": 1687560}, {\"Territory\": \"ITC\", \"Year\": 2020, \"Sex\": \"TOTAL\", \"Age\": \"TOTAL\", \"Quantity\": 1708639}, {\"Territory\": \"ITC\", \"Year\": 2021, \"Sex\": \"TOTAL\", \"Age\": \"TOTAL\", \"Quantity\": 1766425}, {\"Territory\": \"ITC\", \"Year\": 2022, \"Sex\": \"TOTAL\", \"Age\": \"TOTAL\", \"Quantity\": 1720043}, {\"Territory\": \"ITC\", \"Year\": 2023, \"Sex\": \"TOTAL\", \"Age\": \"TOTAL\", \"Quantity\": 1733946}, {\"Territory\": \"ITCD\", \"Year\": 2019, \"Sex\": \"TOTAL\", \"Age\": \"TOTAL\", \"Quantity\": 2900417}, {\"Territory\": \"ITCD\", \"Year\": 2020, \"Sex\": \"TOTAL\", \"Age\": \"TOTAL\", \"Quantity\": 2936602}, {\"Territory\": \"ITCD\", \"Year\": 2021, \"Sex\": \"TOTAL\", \"Age\": \"TOTAL\", \"Quantity\": 3058724}, {\"Territory\": \"ITCD\", \"Year\": 2022, \"Sex\": \"TOTAL\", \"Age\": \"TOTAL\", \"Quantity\": 2973523}, {\"Territory\": \"ITCD\", \"Year\": 2023, \"Sex\": \"TOTAL\", \"Age\": \"TOTAL\", \"Quantity\": 2988537}, {\"Territory\": \"ITD\", \"Year\": 2019, \"Sex\": \"TOTAL\", \"Age\": \"TOTAL\", \"Quantity\": 1212857}, {\"Territory\": \"ITD\", \"Year\": 2020, \"Sex\": \"TOTAL\", \"Age\": \"TOTAL\", \"Quantity\": 1227963}, {\"Territory\": \"ITD\", \"Year\": 2021, \"Sex\": \"TOTAL\", \"Age\": \"TOTAL\", \"Quantity\": 1292299}, {\"Territory\": \"ITD\", \"Year\": 2022, \"Sex\": \"TOTAL\", \"Age\": \"TOTAL\", \"Quantity\": 1253480}, {\"Territory\": \"ITD\", \"Year\": 2023, \"Sex\": \"TOTAL\", \"Age\": \"TOTAL\", \"Quantity\": 1254591}, {\"Territory\": \"ITE\", \"Year\": 2019, \"Sex\": \"TOTAL\", \"Age\": \"TOTAL\", \"Quantity\": 1246779}, {\"Territory\": \"ITE\", \"Year\": 2020, \"Sex\": \"TOTAL\", \"Age\": \"TOTAL\", \"Quantity\": 1250276}, {\"Territory\": \"ITE\", \"Year\": 2021, \"Sex\": \"TOTAL\", \"Age\": \"TOTAL\", \"Quantity\": 1284499}, {\"Territory\": \"ITE\", \"Year\": 2022, \"Sex\": \"TOTAL\", \"Age\": \"TOTAL\", \"Quantity\": 1241133}, {\"Territory\": \"ITE\", \"Year\": 2023, \"Sex\": \"TOTAL\", \"Age\": \"TOTAL\", \"Quantity\": 1238153}, {\"Territory\": \"ITF\", \"Year\": 2019, \"Sex\": \"TOTAL\", \"Age\": \"TOTAL\", \"Quantity\": 609173}, {\"Territory\": \"ITF\", \"Year\": 2020, \"Sex\": \"TOTAL\", \"Age\": \"TOTAL\", \"Quantity\": 610717}, {\"Territory\": \"ITF\", \"Year\": 2021, \"Sex\": \"TOTAL\", \"Age\": \"TOTAL\", \"Quantity\": 593154}, {\"Territory\": \"ITF\", \"Year\": 2022, \"Sex\": \"TOTAL\", \"Age\": \"TOTAL\", \"Quantity\": 583055}, {\"Territory\": \"ITF\", \"Year\": 2023, \"Sex\": \"TOTAL\", \"Age\": \"TOTAL\", \"Quantity\": 590189}, {\"Territory\": \"ITG\", \"Year\": 2019, \"Sex\": \"TOTAL\", \"Age\": \"TOTAL\", \"Quantity\": 239789}, {\"Territory\": \"ITG\", \"Year\": 2020, \"Sex\": \"TOTAL\", \"Age\": \"TOTAL\", \"Quantity\": 242042}, {\"Territory\": \"ITG\", \"Year\": 2021, \"Sex\": \"TOTAL\", \"Age\": \"TOTAL\", \"Quantity\": 235517}, {\"Territory\": \"ITG\", \"Year\": 2022, \"Sex\": \"TOTAL\", \"Age\": \"TOTAL\", \"Quantity\": 233005}, {\"Territory\": \"ITG\", \"Year\": 2023, \"Sex\": \"TOTAL\", \"Age\": \"TOTAL\", \"Quantity\": 233378}]\n"
     ]
    }
   ],
   "source": [
    "# Creating a nested dictonary from the response in order to create a clean JSON for our visualization\n",
    "nested_dict = json.loads(json_string_data)\n",
    "\n",
    "# Translation dictionary\n",
    "sex_translation = {\n",
    "    '1': 'Male',\n",
    "    '2': 'Female',\n",
    "    '9': 'TOTAL'\n",
    "}\n",
    "\n",
    "# Extracting information\n",
    "result = []\n",
    "\n",
    "series_data = nested_dict['message:GenericData']['message:DataSet']['generic:Series']\n",
    "for series in series_data:\n",
    "    series_key = series['generic:SeriesKey']\n",
    "    territory = None\n",
    "    sex = None\n",
    "\n",
    "    for value in series_key['generic:Value']:\n",
    "        if value['@id'] == 'ITTER107':\n",
    "            territory = value['@value']\n",
    "        elif value['@id'] == 'SESSO':\n",
    "            sex_value = value['@value']\n",
    "            sex = sex_translation.get(sex_value)\n",
    "\n",
    "    obs_values = series['generic:Obs']\n",
    "    for obs in obs_values:\n",
    "        year = obs['generic:ObsDimension']['@value']\n",
    "        age = series_key['generic:Value'][1]['@value']\n",
    "        quantity = obs['generic:ObsValue']['@value']\n",
    "\n",
    "        entry = {\n",
    "            'Territory': territory,\n",
    "            'Year': int(year),\n",
    "            'Sex': sex,\n",
    "            'Age': age,\n",
    "            'Quantity': int(quantity)\n",
    "        }\n",
    "        result.append(entry)\n",
    "\n",
    "# Convert result to JSON\n",
    "immigrants_distribution = json.dumps(result)\n",
    "print(type(immigrants_distribution))\n",
    "print(immigrants_distribution)"
   ]
  },
  {
   "cell_type": "markdown",
   "id": "318bba8a-2e13-41e6-954b-5a18e26f60d7",
   "metadata": {},
   "source": [
    "The next code snippet performs the following tasks:\n",
    "\n",
    "1. It converts the `immigrants_distribution` string, which contains a JSON representation, into a JSON object using `json.loads()`. This step allows easier manipulation and access to the data.\n",
    "\n",
    "2. It specifies the folder path where the resulting JSON file will be saved. In this case, the folder path is \"../_datasets/Clean\".\n",
    "\n",
    "3. It creates the specified folder if it does not already exist using `os.makedirs()`. This ensures that the folder is available to store the JSON file.\n",
    "\n",
    "4. It defines the filename for the JSON file as \"immigrants_demographic.json\".\n",
    "\n",
    "5. It generates the complete file path by joining the folder path and filename using `os.path.join()`.\n",
    "\n",
    "6. It saves the `immigrants_distribution_json` JSON object to a file specified by the file path. This is achieved using `json.dump()` with the file opened in write mode (\"w\").\n",
    "\n",
    "7. The JSON data is formatted with an indent of 4 spaces to improve readability within the file.\n",
    "\n",
    "8. Finally, it prints a message confirming the successful saving of the JSON data, along with the file path where it was saved.\n",
    "\n",
    "So basically this code snippet takes a JSON object, saves it as a JSON file in a specified directory, and provides feedback on the successful saving of the file."
   ]
  },
  {
   "cell_type": "code",
   "execution_count": 12,
   "id": "785532af-7dd4-4cab-bac1-b75b68c67c83",
   "metadata": {},
   "outputs": [
    {
     "name": "stdout",
     "output_type": "stream",
     "text": [
      "JSON data saved to: ../_datasets/Clean/immigrants_distribution.json\n"
     ]
    }
   ],
   "source": [
    "\n",
    "# Convert immigrants_distribution string to JSON object\n",
    "immigrants_distribution_json = json.loads(immigrants_distribution)\n",
    "\n",
    "# Specify the folder path to save the JSON file\n",
    "folder_path = \"../_datasets/Clean/D1(a)\"\n",
    "\n",
    "# Create the folder if it doesn't exist\n",
    "os.makedirs(folder_path, exist_ok=True)\n",
    "\n",
    "# Define the filename for the JSON file\n",
    "filename = \"immigrants_distribution.json\"\n",
    "\n",
    "# Generate the file path\n",
    "file_path = os.path.join(folder_path, filename)\n",
    "\n",
    "# Save the immigrants_demographic JSON object to file\n",
    "with open(file_path, \"w\") as file:\n",
    "    json.dump(immigrants_distribution_json, file, indent=4)\n",
    "\n",
    "print(f\"JSON data saved to: {file_path}\")"
   ]
  },
  {
   "cell_type": "code",
   "execution_count": null,
   "id": "539e1c3b-a8dd-46e3-89b7-8f1399a699b9",
   "metadata": {},
   "outputs": [],
   "source": []
  }
 ],
 "metadata": {
  "kernelspec": {
   "display_name": "Python 3 (ipykernel)",
   "language": "python",
   "name": "python3"
  },
  "language_info": {
   "codemirror_mode": {
    "name": "ipython",
    "version": 3
   },
   "file_extension": ".py",
   "mimetype": "text/x-python",
   "name": "python",
   "nbconvert_exporter": "python",
   "pygments_lexer": "ipython3",
   "version": "3.9.7"
  }
 },
 "nbformat": 4,
 "nbformat_minor": 5
}
