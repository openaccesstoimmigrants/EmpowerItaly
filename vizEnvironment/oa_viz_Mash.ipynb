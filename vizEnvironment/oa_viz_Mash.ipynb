{
 "cells": [
  {
   "cell_type": "markdown",
   "metadata": {
    "id": "TgoRPlNXEbbL"
   },
   "source": [
    "### content for the documentation\n",
    "\n",
    ">>> sitography\n",
    "https://pypi.org/project/chart-studio/\n",
    "https://github.com/plotly/plotly.py\n"
   ]
  },
  {
   "cell_type": "markdown",
   "metadata": {
    "id": "eBlMmfM8Ej4c"
   },
   "source": [
    "## code pipeline#"
   ]
  },
  {
   "cell_type": "code",
   "execution_count": 1,
   "metadata": {
    "colab": {
     "base_uri": "https://localhost:8080/"
    },
    "id": "AyYfrB3uENxf",
    "outputId": "7a346a95-c1fb-44de-b282-45bfe2c9454b"
   },
   "outputs": [
    {
     "name": "stdout",
     "output_type": "stream",
     "text": [
      "Requirement already satisfied: plotly in c:\\users\\user\\anaconda3\\lib\\site-packages (5.13.0)\n",
      "Requirement already satisfied: tenacity>=6.2.0 in c:\\users\\user\\anaconda3\\lib\\site-packages (from plotly) (8.2.1)\n"
     ]
    },
    {
     "name": "stderr",
     "output_type": "stream",
     "text": [
      "\n",
      "[notice] A new release of pip is available: 23.1 -> 23.3.1\n",
      "[notice] To update, run: python.exe -m pip install --upgrade pip\n"
     ]
    },
    {
     "name": "stdout",
     "output_type": "stream",
     "text": [
      "Collecting chart_studio\n",
      "  Downloading chart_studio-1.1.0-py3-none-any.whl (64 kB)\n",
      "     ---------------------------------------- 64.4/64.4 kB 1.7 MB/s eta 0:00:00\n",
      "Requirement already satisfied: plotly in c:\\users\\user\\anaconda3\\lib\\site-packages (from chart_studio) (5.13.0)\n",
      "Requirement already satisfied: requests in c:\\users\\user\\anaconda3\\lib\\site-packages (from chart_studio) (2.26.0)\n",
      "Collecting retrying>=1.3.3 (from chart_studio)\n",
      "  Downloading retrying-1.3.4-py3-none-any.whl (11 kB)\n",
      "Requirement already satisfied: six in c:\\users\\user\\anaconda3\\lib\\site-packages (from chart_studio) (1.16.0)\n",
      "Requirement already satisfied: tenacity>=6.2.0 in c:\\users\\user\\anaconda3\\lib\\site-packages (from plotly->chart_studio) (8.2.1)\n",
      "Requirement already satisfied: urllib3<1.27,>=1.21.1 in c:\\users\\user\\anaconda3\\lib\\site-packages (from requests->chart_studio) (1.26.7)\n",
      "Requirement already satisfied: certifi>=2017.4.17 in c:\\users\\user\\anaconda3\\lib\\site-packages (from requests->chart_studio) (2022.12.7)\n",
      "Requirement already satisfied: charset-normalizer~=2.0.0 in c:\\users\\user\\anaconda3\\lib\\site-packages (from requests->chart_studio) (2.0.4)\n",
      "Requirement already satisfied: idna<4,>=2.5 in c:\\users\\user\\anaconda3\\lib\\site-packages (from requests->chart_studio) (3.2)\n",
      "Installing collected packages: retrying, chart_studio\n",
      "Successfully installed chart_studio-1.1.0 retrying-1.3.4\n"
     ]
    },
    {
     "name": "stderr",
     "output_type": "stream",
     "text": [
      "\n",
      "[notice] A new release of pip is available: 23.1 -> 23.3.1\n",
      "[notice] To update, run: python.exe -m pip install --upgrade pip\n"
     ]
    }
   ],
   "source": [
    "# install packages\n",
    "!pip install plotly\n",
    "!pip install chart_studio"
   ]
  },
  {
   "cell_type": "code",
   "execution_count": 2,
   "metadata": {
    "colab": {
     "base_uri": "https://localhost:8080/",
     "height": 161
    },
    "id": "PSGmyKUCRATy",
    "outputId": "96079ff5-2c8f-46d4-bace-14d496f4540d"
   },
   "outputs": [
    {
     "ename": "ModuleNotFoundError",
     "evalue": "No module named 'dash_core_components'",
     "output_type": "error",
     "traceback": [
      "\u001b[1;31m---------------------------------------------------------------------------\u001b[0m",
      "\u001b[1;31mModuleNotFoundError\u001b[0m                       Traceback (most recent call last)",
      "\u001b[1;32m~\\AppData\\Local\\Temp/ipykernel_7428/361455394.py\u001b[0m in \u001b[0;36m<module>\u001b[1;34m\u001b[0m\n\u001b[0;32m      6\u001b[0m \u001b[1;32mimport\u001b[0m \u001b[0mchart_studio\u001b[0m\u001b[1;33m.\u001b[0m\u001b[0mplotly\u001b[0m \u001b[1;32mas\u001b[0m \u001b[0mpy\u001b[0m\u001b[1;33m\u001b[0m\u001b[1;33m\u001b[0m\u001b[0m\n\u001b[0;32m      7\u001b[0m \u001b[1;32mimport\u001b[0m \u001b[0mplotly\u001b[0m\u001b[1;33m.\u001b[0m\u001b[0mgraph_objects\u001b[0m \u001b[1;32mas\u001b[0m \u001b[0mgo\u001b[0m\u001b[1;33m\u001b[0m\u001b[1;33m\u001b[0m\u001b[0m\n\u001b[1;32m----> 8\u001b[1;33m \u001b[1;32mimport\u001b[0m \u001b[0mdash_core_components\u001b[0m \u001b[1;32mas\u001b[0m \u001b[0mdcc\u001b[0m\u001b[1;33m\u001b[0m\u001b[1;33m\u001b[0m\u001b[0m\n\u001b[0m\u001b[0;32m      9\u001b[0m \u001b[1;32mimport\u001b[0m \u001b[0mdash_html_components\u001b[0m \u001b[1;32mas\u001b[0m \u001b[0mhtml\u001b[0m\u001b[1;33m\u001b[0m\u001b[1;33m\u001b[0m\u001b[0m\n\u001b[0;32m     10\u001b[0m \u001b[1;32mfrom\u001b[0m \u001b[0mdash\u001b[0m\u001b[1;33m.\u001b[0m\u001b[0mdependencies\u001b[0m \u001b[1;32mimport\u001b[0m \u001b[0mInput\u001b[0m\u001b[1;33m,\u001b[0m \u001b[0mOutput\u001b[0m\u001b[1;33m\u001b[0m\u001b[1;33m\u001b[0m\u001b[0m\n",
      "\u001b[1;31mModuleNotFoundError\u001b[0m: No module named 'dash_core_components'"
     ]
    }
   ],
   "source": [
    "# import packages\n",
    "import pandas as pd\n",
    "import numpy as np\n",
    "import scipy as sp\n",
    "import plotly.express as px\n",
    "import chart_studio.plotly as py\n",
    "import plotly.graph_objects as go\n",
    "import dash_core_components as dcc\n",
    "import dash_html_components as html\n",
    "from dash.dependencies import Input, Output"
   ]
  },
  {
   "cell_type": "markdown",
   "metadata": {
    "id": "E0AVsliEA_Ob"
   },
   "source": [
    "# INVESTIGATION NO.1 - MAIN\n",
    "TOTAL ACTIVITY RATE X UNEMPLOYMENT RATE\n",
    "Here the discriminant factor is the activity rate, i.e. the effort to search for opportunities - formally, the activity rate is [TBT definition on GDrive]"
   ]
  },
  {
   "cell_type": "code",
   "execution_count": null,
   "metadata": {
    "colab": {
     "base_uri": "https://localhost:8080/",
     "height": 542
    },
    "id": "jE7E7MFSDjA-",
    "outputId": "5ee04c46-3bd8-4d11-ef40-86bf6014fcf4"
   },
   "outputs": [],
   "source": [
    "# WHAT: ANALYSIS OF THE TOTAL UNEMPLOYMENT X ACTIVITY RATE (i.e. WIHTOUT PAYING ATTENTION TO THE EDUCATIONAL LEVEL)\n",
    "# INSIGHT: The level of activity has more or less the same starting rate as the second level.\n",
    "# The more we go upper on the educational level, the more the unemployment rate has a upper-defined span in the line.\n",
    "# Furthermore, we notice how in 2022 the unemployment rate is downgraded, and the activity rate is raised in a significative way.\n",
    "\n",
    "dunnoDf = pd.read_csv('https://raw.githubusercontent.com/openaccesstoimmigrants/openaccesstoimmigrants/main/vizEnvironment/dunnoMashup.csv')\n",
    "# dunnoDf = dunnoDf.replace('italian',0)\n",
    "# dunnoDf = dunnoDf.replace('foreign',1)\n",
    "\n",
    "fig2 = px.scatter(\n",
    "    dunnoDf, #dataframe\n",
    "    x=\"Territory\", #regions\n",
    "    y=\"total_y\", #activity rate  ||\n",
    "    size=\"total_x\", #bubble size, directly proportional to unemployment rate ||\n",
    "    color=\"Citizenship\",#foreign/italian color relation  ||\n",
    "    color_continuous_scale=px.colors.sequential.Plotly3, #color theme\n",
    "    marginal_y=\"box\",\n",
    "    title=\"Unemployment Rate x Activity Rate by Region (from 2018 to 2022)\", #chart title\n",
    ")\n",
    "fig2.update_layout(\n",
    "    xaxis_tickangle=30,#angle of the tick on x-axis\n",
    "    title=dict(x=0.5), #set the title in center\n",
    "    xaxis_tickfont=dict(size=9), #set the font for x-axis\n",
    "    yaxis_tickfont=dict(size=9), #set the font for y-axis\n",
    "    margin=dict(l=500, r=20, t=50, b=20), #set the margin\n",
    "    paper_bgcolor=\"LightSteelblue\", #set the background color for chart\n",
    ")"
   ]
  },
  {
   "cell_type": "markdown",
   "metadata": {
    "id": "dVvuUORVOr3K"
   },
   "source": [
    "# INVESTIGATION NO.1 - COLLATERAL STUDIES"
   ]
  },
  {
   "cell_type": "code",
   "execution_count": null,
   "metadata": {
    "colab": {
     "base_uri": "https://localhost:8080/",
     "height": 542
    },
    "id": "Y55yos8AIesb",
    "outputId": "d7fe23c8-3ede-4668-ddc5-e9eb70614eab"
   },
   "outputs": [],
   "source": [
    "# >>> COLLATERAL STUDY >>> LEVEL OF EDUCATION 1 >>>  NO TERRITORY DISCRIMINANT\n",
    "# Here we can envision the comparison, by year, of the rate of activity and unemployment for the first level of education.\n",
    "# NB: for the sake of the visualization, now the ACTIVITY RATE IS ON THE X AXIS.\n",
    "# What do we notice? - Here we see how during the years foreigners have always been more active than natives, despite of the level of their unemployment rate.\n",
    "# At the same time, zooming in on the boxplots we may notice some non-significative outliers in the red box, showing that some natives have also been more inactive and unemployed than the foreigners.\n",
    "\n",
    "# ***go down for the second and third educational level comparison.***\n",
    "\n",
    "fig = px.scatter(dunnoDf, x=\"ACT_ED_1\", y=\"UNEMP_ED_1\", color=\"Citizenship\", facet_col=\"Year\",\n",
    "                  marginal_x=\"box\")\n",
    "fig.show()\n"
   ]
  },
  {
   "cell_type": "code",
   "execution_count": null,
   "metadata": {
    "colab": {
     "base_uri": "https://localhost:8080/",
     "height": 542
    },
    "id": "JdZbk-dTN_-N",
    "outputId": "52e7b24d-e984-483a-fc09-94223d875f98"
   },
   "outputs": [],
   "source": [
    "# >>> COLLATERAL STUDY >>> LEVEL OF EDUCATION 2 >>>  NO TERRITORY DISCRIMINANT\n",
    "\n",
    "fig = px.scatter(dunnoDf, x=\"ACT_ED_2\", y=\"UNEMP_ED_2\", color=\"Citizenship\", facet_col=\"Year\",\n",
    "                  marginal_x=\"box\")\n",
    "fig.show()\n"
   ]
  },
  {
   "cell_type": "code",
   "execution_count": null,
   "metadata": {
    "colab": {
     "base_uri": "https://localhost:8080/",
     "height": 542
    },
    "id": "p6k58zwDOLLh",
    "outputId": "f7fa0ae7-3cf9-4b4a-ed23-3947a0c7069c"
   },
   "outputs": [],
   "source": [
    "# >>> COLLATERAL STUDY >>> LEVEL OF EDUCATION 2 >>> NO TERRITORY DISCRIMINANT\n",
    "\n",
    "fig = px.scatter(dunnoDf, x=\"ACT_ED_2\", y=\"UNEMP_ED_2\", color=\"Citizenship\", facet_col=\"Year\",\n",
    "                  marginal_x=\"box\")\n",
    "fig.show()\n"
   ]
  },
  {
   "cell_type": "code",
   "execution_count": null,
   "metadata": {
    "colab": {
     "base_uri": "https://localhost:8080/",
     "height": 542
    },
    "id": "sd7KqFLjZH0y",
    "outputId": "d81e8de3-c134-4da4-e353-c6a7644fe48f"
   },
   "outputs": [],
   "source": [
    "# >>> COLLATERAL STUDY >>> UNEMPLOTMENT X ACTIVITY RATE ACCORDING TO THE FIRST DEGREE OF EDUCATIONAL LEVEL\n",
    "# INSIGHT: In Mezzogiorno area the levels of unemployment rate are higher, but so that are the level of activity rate.\n",
    "# This result goes along with the Italian trend of NEET - (not in education, employment, or training) - together with the general sentiment of not being active part of the society (disillusionment).\n",
    "# Taking a look at the `unemployment rate` for the very basic (i.e. the lower) level of education, we can see how paradoxically the unemployment rate is higher for the native/resident population.\n",
    "# This makes us think that Italians are potentially more 'desperate' in terms of unemployment, comparing them with foreigners, but at the same time are less active than foreigners.\n",
    "\n",
    "dunnoDf = pd.read_csv('/content/dunnoMashup.csv')\n",
    "\n",
    "fig2 = px.scatter(\n",
    "    dunnoDf, #dataframe\n",
    "    x=\"Territory\", #x\n",
    "    y=\"UNEMP_ED_1\", #y\n",
    "    size=\"Year\", #bubble size\n",
    "    color=\"ACT_ED_1\",#bubble color\n",
    "    color_continuous_scale=px.colors.sequential.Plotly3, #color theme\n",
    "    title=\"Unemployment Rate x Activity Rate by (Macro)Region\", #chart title\n",
    ")\n",
    "fig2.update_layout(\n",
    "    xaxis_tickangle=30,#angle of the tick on x-axis\n",
    "    title=dict(x=0.5), #set the title in center\n",
    "    xaxis_tickfont=dict(size=9), #set the font for x-axis\n",
    "    yaxis_tickfont=dict(size=9), #set the font for y-axis\n",
    "    margin=dict(l=500, r=20, t=50, b=20), #set the margin\n",
    "    paper_bgcolor=\"LightSteelblue\", #set the background color for chart\n",
    ")"
   ]
  },
  {
   "cell_type": "markdown",
   "metadata": {
    "id": "DBpVy8FtRR9m"
   },
   "source": [
    "# FINAL CONSIDERATIONS (FOR NOW)\n",
    "\n",
    "## > WE NEED\n",
    "1. For comment - documentation purposes, we need the exact number of foreigners and Natives per year (2018-2022)\n"
   ]
  }
 ],
 "metadata": {
  "colab": {
   "provenance": []
  },
  "kernelspec": {
   "display_name": "Python 3 (ipykernel)",
   "language": "python",
   "name": "python3"
  },
  "language_info": {
   "codemirror_mode": {
    "name": "ipython",
    "version": 3
   },
   "file_extension": ".py",
   "mimetype": "text/x-python",
   "name": "python",
   "nbconvert_exporter": "python",
   "pygments_lexer": "ipython3",
   "version": "3.9.7"
  }
 },
 "nbformat": 4,
 "nbformat_minor": 1
}
