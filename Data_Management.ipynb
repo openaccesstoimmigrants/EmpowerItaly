{
 "cells": [
  {
   "attachments": {},
   "cell_type": "markdown",
   "metadata": {},
   "source": [
    " ##Data Management Notebook for Open Acess"
   ]
  },
  {
   "attachments": {},
   "cell_type": "markdown",
   "metadata": {},
   "source": [
    "###Importing libraries:"
   ]
  },
  {
   "cell_type": "code",
   "execution_count": 5,
   "metadata": {},
   "outputs": [
    {
     "name": "stdout",
     "output_type": "stream",
     "text": [
      "Requirement already satisfied: pandas in c:\\users\\user\\appdata\\local\\programs\\python\\python311\\lib\\site-packages (1.5.3)\n",
      "Requirement already satisfied: python-dateutil>=2.8.1 in c:\\users\\user\\appdata\\roaming\\python\\python311\\site-packages (from pandas) (2.8.2)\n",
      "Requirement already satisfied: pytz>=2020.1 in c:\\users\\user\\appdata\\local\\programs\\python\\python311\\lib\\site-packages (from pandas) (2022.7.1)\n",
      "Requirement already satisfied: numpy>=1.21.0 in c:\\users\\user\\appdata\\local\\programs\\python\\python311\\lib\\site-packages (from pandas) (1.24.2)\n",
      "Requirement already satisfied: six>=1.5 in c:\\users\\user\\appdata\\roaming\\python\\python311\\site-packages (from python-dateutil>=2.8.1->pandas) (1.16.0)\n"
     ]
    },
    {
     "name": "stderr",
     "output_type": "stream",
     "text": [
      "\n",
      "[notice] A new release of pip is available: 23.0 -> 23.1\n",
      "[notice] To update, run: python.exe -m pip install --upgrade pip\n"
     ]
    },
    {
     "name": "stdout",
     "output_type": "stream",
     "text": [
      "Requirement already satisfied: seaborn in c:\\users\\user\\appdata\\local\\programs\\python\\python311\\lib\\site-packages (0.12.2)\n",
      "Requirement already satisfied: numpy!=1.24.0,>=1.17 in c:\\users\\user\\appdata\\local\\programs\\python\\python311\\lib\\site-packages (from seaborn) (1.24.2)\n",
      "Requirement already satisfied: pandas>=0.25 in c:\\users\\user\\appdata\\local\\programs\\python\\python311\\lib\\site-packages (from seaborn) (1.5.3)\n",
      "Requirement already satisfied: matplotlib!=3.6.1,>=3.1 in c:\\users\\user\\appdata\\local\\programs\\python\\python311\\lib\\site-packages (from seaborn) (3.6.3)\n",
      "Requirement already satisfied: contourpy>=1.0.1 in c:\\users\\user\\appdata\\local\\programs\\python\\python311\\lib\\site-packages (from matplotlib!=3.6.1,>=3.1->seaborn) (1.0.7)\n",
      "Requirement already satisfied: cycler>=0.10 in c:\\users\\user\\appdata\\local\\programs\\python\\python311\\lib\\site-packages (from matplotlib!=3.6.1,>=3.1->seaborn) (0.11.0)\n",
      "Requirement already satisfied: fonttools>=4.22.0 in c:\\users\\user\\appdata\\local\\programs\\python\\python311\\lib\\site-packages (from matplotlib!=3.6.1,>=3.1->seaborn) (4.38.0)\n",
      "Requirement already satisfied: kiwisolver>=1.0.1 in c:\\users\\user\\appdata\\local\\programs\\python\\python311\\lib\\site-packages (from matplotlib!=3.6.1,>=3.1->seaborn) (1.4.4)\n",
      "Requirement already satisfied: packaging>=20.0 in c:\\users\\user\\appdata\\roaming\\python\\python311\\site-packages (from matplotlib!=3.6.1,>=3.1->seaborn) (23.0)\n",
      "Requirement already satisfied: pillow>=6.2.0 in c:\\users\\user\\appdata\\local\\programs\\python\\python311\\lib\\site-packages (from matplotlib!=3.6.1,>=3.1->seaborn) (9.4.0)\n",
      "Requirement already satisfied: pyparsing>=2.2.1 in c:\\users\\user\\appdata\\local\\programs\\python\\python311\\lib\\site-packages (from matplotlib!=3.6.1,>=3.1->seaborn) (3.0.9)\n",
      "Requirement already satisfied: python-dateutil>=2.7 in c:\\users\\user\\appdata\\roaming\\python\\python311\\site-packages (from matplotlib!=3.6.1,>=3.1->seaborn) (2.8.2)\n",
      "Requirement already satisfied: pytz>=2020.1 in c:\\users\\user\\appdata\\local\\programs\\python\\python311\\lib\\site-packages (from pandas>=0.25->seaborn) (2022.7.1)\n",
      "Requirement already satisfied: six>=1.5 in c:\\users\\user\\appdata\\roaming\\python\\python311\\site-packages (from python-dateutil>=2.7->matplotlib!=3.6.1,>=3.1->seaborn) (1.16.0)\n"
     ]
    },
    {
     "name": "stderr",
     "output_type": "stream",
     "text": [
      "\n",
      "[notice] A new release of pip is available: 23.0 -> 23.1\n",
      "[notice] To update, run: python.exe -m pip install --upgrade pip\n"
     ]
    },
    {
     "name": "stdout",
     "output_type": "stream",
     "text": [
      "Requirement already satisfied: matplotlib in c:\\users\\user\\appdata\\local\\programs\\python\\python311\\lib\\site-packages (3.6.3)\n",
      "Requirement already satisfied: contourpy>=1.0.1 in c:\\users\\user\\appdata\\local\\programs\\python\\python311\\lib\\site-packages (from matplotlib) (1.0.7)\n",
      "Requirement already satisfied: cycler>=0.10 in c:\\users\\user\\appdata\\local\\programs\\python\\python311\\lib\\site-packages (from matplotlib) (0.11.0)\n",
      "Requirement already satisfied: fonttools>=4.22.0 in c:\\users\\user\\appdata\\local\\programs\\python\\python311\\lib\\site-packages (from matplotlib) (4.38.0)\n",
      "Requirement already satisfied: kiwisolver>=1.0.1 in c:\\users\\user\\appdata\\local\\programs\\python\\python311\\lib\\site-packages (from matplotlib) (1.4.4)\n",
      "Requirement already satisfied: numpy>=1.19 in c:\\users\\user\\appdata\\local\\programs\\python\\python311\\lib\\site-packages (from matplotlib) (1.24.2)\n",
      "Requirement already satisfied: packaging>=20.0 in c:\\users\\user\\appdata\\roaming\\python\\python311\\site-packages (from matplotlib) (23.0)\n",
      "Requirement already satisfied: pillow>=6.2.0 in c:\\users\\user\\appdata\\local\\programs\\python\\python311\\lib\\site-packages (from matplotlib) (9.4.0)\n",
      "Requirement already satisfied: pyparsing>=2.2.1 in c:\\users\\user\\appdata\\local\\programs\\python\\python311\\lib\\site-packages (from matplotlib) (3.0.9)\n",
      "Requirement already satisfied: python-dateutil>=2.7 in c:\\users\\user\\appdata\\roaming\\python\\python311\\site-packages (from matplotlib) (2.8.2)\n",
      "Requirement already satisfied: six>=1.5 in c:\\users\\user\\appdata\\roaming\\python\\python311\\site-packages (from python-dateutil>=2.7->matplotlib) (1.16.0)\n"
     ]
    },
    {
     "name": "stderr",
     "output_type": "stream",
     "text": [
      "\n",
      "[notice] A new release of pip is available: 23.0 -> 23.1\n",
      "[notice] To update, run: python.exe -m pip install --upgrade pip\n"
     ]
    }
   ],
   "source": [
    "!pip install pandas\n",
    "!pip install seaborn\n",
    "!pip install matplotlib\n",
    "import pandas as pd\n",
    "from pandas import read_csv\n",
    "import matplotlib.pyplot as plt\n",
    "import matplotlib.cm as cm\n",
    "import numpy as np"
   ]
  },
  {
   "attachments": {},
   "cell_type": "markdown",
   "metadata": {},
   "source": [
    "###The number of immigrants currently active and inactive\n",
    "####employed persons and job-seekers"
   ]
  },
  {
   "cell_type": "code",
   "execution_count": 6,
   "metadata": {},
   "outputs": [
    {
     "name": "stderr",
     "output_type": "stream",
     "text": [
      "C:\\Users\\User\\AppData\\Local\\Temp\\ipykernel_12692\\594164485.py:7: SettingWithCopyWarning: \n",
      "A value is trying to be set on a copy of a slice from a DataFrame.\n",
      "Try using .loc[row_indexer,col_indexer] = value instead\n",
      "\n",
      "See the caveats in the documentation: https://pandas.pydata.org/pandas-docs/stable/user_guide/indexing.html#returning-a-view-versus-a-copy\n",
      "  act_females['TIME'] = act_females['TIME'].astype('str')\n",
      "C:\\Users\\User\\AppData\\Local\\Temp\\ipykernel_12692\\594164485.py:13: SettingWithCopyWarning: \n",
      "A value is trying to be set on a copy of a slice from a DataFrame\n",
      "\n",
      "See the caveats in the documentation: https://pandas.pydata.org/pandas-docs/stable/user_guide/indexing.html#returning-a-view-versus-a-copy\n",
      "  act_females_final.rename(columns = {'Highest level of education attained':'Education', 'TIME':'Year'}, inplace = True)\n"
     ]
    },
    {
     "data": {
      "text/html": [
       "<div>\n",
       "<style scoped>\n",
       "    .dataframe tbody tr th:only-of-type {\n",
       "        vertical-align: middle;\n",
       "    }\n",
       "\n",
       "    .dataframe tbody tr th {\n",
       "        vertical-align: top;\n",
       "    }\n",
       "\n",
       "    .dataframe thead th {\n",
       "        text-align: right;\n",
       "    }\n",
       "</style>\n",
       "<table border=\"1\" class=\"dataframe\">\n",
       "  <thead>\n",
       "    <tr style=\"text-align: right;\">\n",
       "      <th></th>\n",
       "      <th>Gender</th>\n",
       "      <th>Age class</th>\n",
       "      <th>Education</th>\n",
       "      <th>Year</th>\n",
       "      <th>Value</th>\n",
       "    </tr>\n",
       "  </thead>\n",
       "  <tbody>\n",
       "    <tr>\n",
       "      <th>75</th>\n",
       "      <td>females</td>\n",
       "      <td>15-64 years</td>\n",
       "      <td>upper and post secondary</td>\n",
       "      <td>2018</td>\n",
       "      <td>67.333505</td>\n",
       "    </tr>\n",
       "    <tr>\n",
       "      <th>80</th>\n",
       "      <td>females</td>\n",
       "      <td>15-64 years</td>\n",
       "      <td>upper and post secondary</td>\n",
       "      <td>2019</td>\n",
       "      <td>65.892842</td>\n",
       "    </tr>\n",
       "    <tr>\n",
       "      <th>85</th>\n",
       "      <td>females</td>\n",
       "      <td>15-64 years</td>\n",
       "      <td>upper and post secondary</td>\n",
       "      <td>2020</td>\n",
       "      <td>59.762553</td>\n",
       "    </tr>\n",
       "    <tr>\n",
       "      <th>90</th>\n",
       "      <td>females</td>\n",
       "      <td>15-64 years</td>\n",
       "      <td>upper and post secondary</td>\n",
       "      <td>2021</td>\n",
       "      <td>62.995636</td>\n",
       "    </tr>\n",
       "    <tr>\n",
       "      <th>91</th>\n",
       "      <td>females</td>\n",
       "      <td>15-64 years</td>\n",
       "      <td>upper and post secondary</td>\n",
       "      <td>2022</td>\n",
       "      <td>63.102924</td>\n",
       "    </tr>\n",
       "    <tr>\n",
       "      <th>100</th>\n",
       "      <td>females</td>\n",
       "      <td>15-64 years</td>\n",
       "      <td>tertiary (university, doctoral and specializat...</td>\n",
       "      <td>2018</td>\n",
       "      <td>71.341341</td>\n",
       "    </tr>\n",
       "    <tr>\n",
       "      <th>105</th>\n",
       "      <td>females</td>\n",
       "      <td>15-64 years</td>\n",
       "      <td>tertiary (university, doctoral and specializat...</td>\n",
       "      <td>2019</td>\n",
       "      <td>69.690972</td>\n",
       "    </tr>\n",
       "    <tr>\n",
       "      <th>110</th>\n",
       "      <td>females</td>\n",
       "      <td>15-64 years</td>\n",
       "      <td>tertiary (university, doctoral and specializat...</td>\n",
       "      <td>2020</td>\n",
       "      <td>61.267579</td>\n",
       "    </tr>\n",
       "    <tr>\n",
       "      <th>115</th>\n",
       "      <td>females</td>\n",
       "      <td>15-64 years</td>\n",
       "      <td>tertiary (university, doctoral and specializat...</td>\n",
       "      <td>2021</td>\n",
       "      <td>65.488050</td>\n",
       "    </tr>\n",
       "    <tr>\n",
       "      <th>116</th>\n",
       "      <td>females</td>\n",
       "      <td>15-64 years</td>\n",
       "      <td>tertiary (university, doctoral and specializat...</td>\n",
       "      <td>2022</td>\n",
       "      <td>67.064311</td>\n",
       "    </tr>\n",
       "    <tr>\n",
       "      <th>225</th>\n",
       "      <td>females</td>\n",
       "      <td>15-64 years</td>\n",
       "      <td>no educational degree, primary and lower secon...</td>\n",
       "      <td>2018</td>\n",
       "      <td>51.906909</td>\n",
       "    </tr>\n",
       "    <tr>\n",
       "      <th>230</th>\n",
       "      <td>females</td>\n",
       "      <td>15-64 years</td>\n",
       "      <td>no educational degree, primary and lower secon...</td>\n",
       "      <td>2019</td>\n",
       "      <td>51.645182</td>\n",
       "    </tr>\n",
       "    <tr>\n",
       "      <th>235</th>\n",
       "      <td>females</td>\n",
       "      <td>15-64 years</td>\n",
       "      <td>no educational degree, primary and lower secon...</td>\n",
       "      <td>2020</td>\n",
       "      <td>44.815162</td>\n",
       "    </tr>\n",
       "    <tr>\n",
       "      <th>240</th>\n",
       "      <td>females</td>\n",
       "      <td>15-64 years</td>\n",
       "      <td>no educational degree, primary and lower secon...</td>\n",
       "      <td>2021</td>\n",
       "      <td>45.968750</td>\n",
       "    </tr>\n",
       "    <tr>\n",
       "      <th>241</th>\n",
       "      <td>females</td>\n",
       "      <td>15-64 years</td>\n",
       "      <td>no educational degree, primary and lower secon...</td>\n",
       "      <td>2022</td>\n",
       "      <td>47.164028</td>\n",
       "    </tr>\n",
       "  </tbody>\n",
       "</table>\n",
       "</div>"
      ],
      "text/plain": [
       "      Gender    Age class                                          Education  \\\n",
       "75   females  15-64 years                           upper and post secondary   \n",
       "80   females  15-64 years                           upper and post secondary   \n",
       "85   females  15-64 years                           upper and post secondary   \n",
       "90   females  15-64 years                           upper and post secondary   \n",
       "91   females  15-64 years                           upper and post secondary   \n",
       "100  females  15-64 years  tertiary (university, doctoral and specializat...   \n",
       "105  females  15-64 years  tertiary (university, doctoral and specializat...   \n",
       "110  females  15-64 years  tertiary (university, doctoral and specializat...   \n",
       "115  females  15-64 years  tertiary (university, doctoral and specializat...   \n",
       "116  females  15-64 years  tertiary (university, doctoral and specializat...   \n",
       "225  females  15-64 years  no educational degree, primary and lower secon...   \n",
       "230  females  15-64 years  no educational degree, primary and lower secon...   \n",
       "235  females  15-64 years  no educational degree, primary and lower secon...   \n",
       "240  females  15-64 years  no educational degree, primary and lower secon...   \n",
       "241  females  15-64 years  no educational degree, primary and lower secon...   \n",
       "\n",
       "     Year      Value  \n",
       "75   2018  67.333505  \n",
       "80   2019  65.892842  \n",
       "85   2020  59.762553  \n",
       "90   2021  62.995636  \n",
       "91   2022  63.102924  \n",
       "100  2018  71.341341  \n",
       "105  2019  69.690972  \n",
       "110  2020  61.267579  \n",
       "115  2021  65.488050  \n",
       "116  2022  67.064311  \n",
       "225  2018  51.906909  \n",
       "230  2019  51.645182  \n",
       "235  2020  44.815162  \n",
       "240  2021  45.968750  \n",
       "241  2022  47.164028  "
      ]
     },
     "execution_count": 6,
     "metadata": {},
     "output_type": "execute_result"
    }
   ],
   "source": [
    "df_act = pd.read_csv(\"https://raw.githubusercontent.com/openaccesstoimmigrants/openaccesstoimmigrants/main/_datasets/ISTAT_Active_Foreigners%5B2018-2022%5D.csv\", sep=\",\")\n",
    "\n",
    "df2 = df_act[[\"Gender\", \"Age class\", \"Highest level of education attained\", \"TIME\", \"Value\"]]\n",
    "\n",
    "act_females = df2[df2[\"Gender\"] == 'females']\n",
    "\n",
    "act_females['TIME'] = act_females['TIME'].astype('str')\n",
    "mask = (act_females['TIME'].str.len() == 4)\n",
    "act_females = act_females.loc[mask]\n",
    "\n",
    "act_females_final = act_females[act_females[\"Highest level of education attained\"] != 'total']\n",
    "\n",
    "act_females_final.rename(columns = {'Highest level of education attained':'Education', 'TIME':'Year'}, inplace = True)\n",
    "\n",
    "act_females_final"
   ]
  },
  {
   "cell_type": "code",
   "execution_count": 7,
   "metadata": {},
   "outputs": [],
   "source": [
    "act_females_18 = act_females_final[act_females_final[\"Year\"]=='2018']"
   ]
  },
  {
   "cell_type": "code",
   "execution_count": 10,
   "metadata": {},
   "outputs": [],
   "source": [
    "ED2 = act_females_final[act_females_final[\"Education\"] == \"upper and post secondary\"]\n",
    "from pathlib import Path  \n",
    "filepath = Path('openaccesstoimmigrants/D2.csv')  \n",
    "filepath.parent.mkdir(parents=True, exist_ok=True)  \n",
    "ED2.to_csv(filepath) "
   ]
  },
  {
   "cell_type": "code",
   "execution_count": 6,
   "metadata": {},
   "outputs": [
    {
     "data": {
      "text/html": [
       "<div>\n",
       "<style scoped>\n",
       "    .dataframe tbody tr th:only-of-type {\n",
       "        vertical-align: middle;\n",
       "    }\n",
       "\n",
       "    .dataframe tbody tr th {\n",
       "        vertical-align: top;\n",
       "    }\n",
       "\n",
       "    .dataframe thead th {\n",
       "        text-align: right;\n",
       "    }\n",
       "</style>\n",
       "<table border=\"1\" class=\"dataframe\">\n",
       "  <thead>\n",
       "    <tr style=\"text-align: right;\">\n",
       "      <th></th>\n",
       "      <th>Gender</th>\n",
       "      <th>Age class</th>\n",
       "      <th>Education</th>\n",
       "      <th>Year</th>\n",
       "      <th>Value</th>\n",
       "    </tr>\n",
       "  </thead>\n",
       "  <tbody>\n",
       "    <tr>\n",
       "      <th>75</th>\n",
       "      <td>females</td>\n",
       "      <td>15-64 years</td>\n",
       "      <td>upper and post secondary</td>\n",
       "      <td>2018</td>\n",
       "      <td>67.333505</td>\n",
       "    </tr>\n",
       "    <tr>\n",
       "      <th>100</th>\n",
       "      <td>females</td>\n",
       "      <td>15-64 years</td>\n",
       "      <td>tertiary (university, doctoral and specializat...</td>\n",
       "      <td>2018</td>\n",
       "      <td>71.341341</td>\n",
       "    </tr>\n",
       "    <tr>\n",
       "      <th>225</th>\n",
       "      <td>females</td>\n",
       "      <td>15-64 years</td>\n",
       "      <td>no educational degree, primary and lower secon...</td>\n",
       "      <td>2018</td>\n",
       "      <td>51.906909</td>\n",
       "    </tr>\n",
       "  </tbody>\n",
       "</table>\n",
       "</div>"
      ],
      "text/plain": [
       "      Gender    Age class                                          Education  \\\n",
       "75   females  15-64 years                           upper and post secondary   \n",
       "100  females  15-64 years  tertiary (university, doctoral and specializat...   \n",
       "225  females  15-64 years  no educational degree, primary and lower secon...   \n",
       "\n",
       "     Year      Value  \n",
       "75   2018  67.333505  \n",
       "100  2018  71.341341  \n",
       "225  2018  51.906909  "
      ]
     },
     "execution_count": 6,
     "metadata": {},
     "output_type": "execute_result"
    }
   ],
   "source": [
    "act_females_18"
   ]
  },
  {
   "cell_type": "code",
   "execution_count": 7,
   "metadata": {},
   "outputs": [
    {
     "name": "stderr",
     "output_type": "stream",
     "text": [
      "C:\\Users\\User\\AppData\\Local\\Temp\\ipykernel_11084\\553527974.py:3: SettingWithCopyWarning: \n",
      "A value is trying to be set on a copy of a slice from a DataFrame.\n",
      "Try using .loc[row_indexer,col_indexer] = value instead\n",
      "\n",
      "See the caveats in the documentation: https://pandas.pydata.org/pandas-docs/stable/user_guide/indexing.html#returning-a-view-versus-a-copy\n",
      "  act_males['TIME'] = act_males['TIME'].astype('str')\n",
      "C:\\Users\\User\\AppData\\Local\\Temp\\ipykernel_11084\\553527974.py:9: SettingWithCopyWarning: \n",
      "A value is trying to be set on a copy of a slice from a DataFrame\n",
      "\n",
      "See the caveats in the documentation: https://pandas.pydata.org/pandas-docs/stable/user_guide/indexing.html#returning-a-view-versus-a-copy\n",
      "  act_males_final.rename(columns = {'Highest level of education attained':'Education', 'TIME':'Year'}, inplace = True)\n"
     ]
    },
    {
     "data": {
      "text/html": [
       "<div>\n",
       "<style scoped>\n",
       "    .dataframe tbody tr th:only-of-type {\n",
       "        vertical-align: middle;\n",
       "    }\n",
       "\n",
       "    .dataframe tbody tr th {\n",
       "        vertical-align: top;\n",
       "    }\n",
       "\n",
       "    .dataframe thead th {\n",
       "        text-align: right;\n",
       "    }\n",
       "</style>\n",
       "<table border=\"1\" class=\"dataframe\">\n",
       "  <thead>\n",
       "    <tr style=\"text-align: right;\">\n",
       "      <th></th>\n",
       "      <th>Gender</th>\n",
       "      <th>Age class</th>\n",
       "      <th>Education</th>\n",
       "      <th>Year</th>\n",
       "      <th>Value</th>\n",
       "    </tr>\n",
       "  </thead>\n",
       "  <tbody>\n",
       "    <tr>\n",
       "      <th>0</th>\n",
       "      <td>males</td>\n",
       "      <td>15-64 years</td>\n",
       "      <td>upper and post secondary</td>\n",
       "      <td>2018</td>\n",
       "      <td>88.153575</td>\n",
       "    </tr>\n",
       "    <tr>\n",
       "      <th>25</th>\n",
       "      <td>males</td>\n",
       "      <td>15-64 years</td>\n",
       "      <td>tertiary (university, doctoral and specializat...</td>\n",
       "      <td>2018</td>\n",
       "      <td>88.981594</td>\n",
       "    </tr>\n",
       "    <tr>\n",
       "      <th>250</th>\n",
       "      <td>males</td>\n",
       "      <td>15-64 years</td>\n",
       "      <td>no educational degree, primary and lower secon...</td>\n",
       "      <td>2018</td>\n",
       "      <td>80.831575</td>\n",
       "    </tr>\n",
       "  </tbody>\n",
       "</table>\n",
       "</div>"
      ],
      "text/plain": [
       "    Gender    Age class                                          Education  \\\n",
       "0    males  15-64 years                           upper and post secondary   \n",
       "25   males  15-64 years  tertiary (university, doctoral and specializat...   \n",
       "250  males  15-64 years  no educational degree, primary and lower secon...   \n",
       "\n",
       "     Year      Value  \n",
       "0    2018  88.153575  \n",
       "25   2018  88.981594  \n",
       "250  2018  80.831575  "
      ]
     },
     "execution_count": 7,
     "metadata": {},
     "output_type": "execute_result"
    }
   ],
   "source": [
    "act_males = df2[df2[\"Gender\"]=='males']\n",
    "\n",
    "act_males['TIME'] = act_males['TIME'].astype('str')\n",
    "mask = (act_males['TIME'].str.len() == 4)\n",
    "act_males = act_males.loc[mask]\n",
    "\n",
    "act_males_final = act_males[act_males[\"Highest level of education attained\"] != 'total']\n",
    "\n",
    "act_males_final.rename(columns = {'Highest level of education attained':'Education', 'TIME':'Year'}, inplace = True)\n",
    "\n",
    "act_males_18 = act_males_final[act_males_final[\"Year\"]=='2018']\n",
    "\n",
    "act_males_18"
   ]
  },
  {
   "cell_type": "code",
   "execution_count": 9,
   "metadata": {},
   "outputs": [],
   "source": [
    "merged = pd.concat([act_females_18, act_males_18])\n",
    "\n",
    "merged.replace(\"    \",\"\")\n",
    "\n",
    "from pathlib import Path  \n",
    "filepath = Path('openaccesstoimmigrants/D1.csv')  \n",
    "filepath.parent.mkdir(parents=True, exist_ok=True)  \n",
    "merged.to_csv(filepath)  "
   ]
  },
  {
   "cell_type": "code",
   "execution_count": 14,
   "metadata": {},
   "outputs": [
    {
     "data": {
      "text/plain": [
       "<AxesSubplot: xlabel='Education', ylabel='Value'>"
      ]
     },
     "execution_count": 14,
     "metadata": {},
     "output_type": "execute_result"
    },
    {
     "data": {
      "image/png": "[encoded data removed]",
      "text/plain": [
       "<Figure size 640x480 with 1 Axes>"
      ]
     },
     "metadata": {},
     "output_type": "display_data"
    }
   ],
   "source": [
    "import seaborn as sns\n",
    "\n",
    "sns.boxplot(data=act_females_18, x='Education', y='Value', palette='Blues')"
   ]
  }
 ],
 "metadata": {
  "kernelspec": {
   "display_name": "Python 3",
   "language": "python",
   "name": "python3"
  },
  "language_info": {
   "codemirror_mode": {
    "name": "ipython",
    "version": 3
   },
   "file_extension": ".py",
   "mimetype": "text/x-python",
   "name": "python",
   "nbconvert_exporter": "python",
   "pygments_lexer": "ipython3",
   "version": "3.11.1"
  },
  "orig_nbformat": 4
 },
 "nbformat": 4,
 "nbformat_minor": 2
}
