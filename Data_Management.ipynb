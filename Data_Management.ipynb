{
 "cells": [
  {
   "attachments": {},
   "cell_type": "markdown",
   "metadata": {},
   "source": [
    " ##Data Management Notebook for Open Acess"
   ]
  },
  {
   "attachments": {},
   "cell_type": "markdown",
   "metadata": {},
   "source": [
    "###Importing libraries:"
   ]
  },
  {
   "cell_type": "code",
   "execution_count": 2,
   "metadata": {},
   "outputs": [
    {
     "name": "stdout",
     "output_type": "stream",
     "text": [
      "Requirement already satisfied: pandas in c:\\users\\user\\appdata\\local\\programs\\python\\python311\\lib\\site-packages (1.5.3)\n",
      "Requirement already satisfied: python-dateutil>=2.8.1 in c:\\users\\user\\appdata\\roaming\\python\\python311\\site-packages (from pandas) (2.8.2)\n",
      "Requirement already satisfied: pytz>=2020.1 in c:\\users\\user\\appdata\\local\\programs\\python\\python311\\lib\\site-packages (from pandas) (2022.7.1)\n",
      "Requirement already satisfied: numpy>=1.21.0 in c:\\users\\user\\appdata\\local\\programs\\python\\python311\\lib\\site-packages (from pandas) (1.24.2)\n",
      "Requirement already satisfied: six>=1.5 in c:\\users\\user\\appdata\\roaming\\python\\python311\\site-packages (from python-dateutil>=2.8.1->pandas) (1.16.0)\n"
     ]
    },
    {
     "name": "stderr",
     "output_type": "stream",
     "text": [
      "\n",
      "[notice] A new release of pip is available: 23.0 -> 23.1\n",
      "[notice] To update, run: python.exe -m pip install --upgrade pip\n"
     ]
    },
    {
     "name": "stdout",
     "output_type": "stream",
     "text": [
      "Requirement already satisfied: seaborn in c:\\users\\user\\appdata\\local\\programs\\python\\python311\\lib\\site-packages (0.12.2)\n",
      "Requirement already satisfied: numpy!=1.24.0,>=1.17 in c:\\users\\user\\appdata\\local\\programs\\python\\python311\\lib\\site-packages (from seaborn) (1.24.2)\n",
      "Requirement already satisfied: pandas>=0.25 in c:\\users\\user\\appdata\\local\\programs\\python\\python311\\lib\\site-packages (from seaborn) (1.5.3)\n",
      "Requirement already satisfied: matplotlib!=3.6.1,>=3.1 in c:\\users\\user\\appdata\\local\\programs\\python\\python311\\lib\\site-packages (from seaborn) (3.6.3)\n",
      "Requirement already satisfied: contourpy>=1.0.1 in c:\\users\\user\\appdata\\local\\programs\\python\\python311\\lib\\site-packages (from matplotlib!=3.6.1,>=3.1->seaborn) (1.0.7)\n",
      "Requirement already satisfied: cycler>=0.10 in c:\\users\\user\\appdata\\local\\programs\\python\\python311\\lib\\site-packages (from matplotlib!=3.6.1,>=3.1->seaborn) (0.11.0)\n",
      "Requirement already satisfied: fonttools>=4.22.0 in c:\\users\\user\\appdata\\local\\programs\\python\\python311\\lib\\site-packages (from matplotlib!=3.6.1,>=3.1->seaborn) (4.38.0)\n",
      "Requirement already satisfied: kiwisolver>=1.0.1 in c:\\users\\user\\appdata\\local\\programs\\python\\python311\\lib\\site-packages (from matplotlib!=3.6.1,>=3.1->seaborn) (1.4.4)\n",
      "Requirement already satisfied: packaging>=20.0 in c:\\users\\user\\appdata\\roaming\\python\\python311\\site-packages (from matplotlib!=3.6.1,>=3.1->seaborn) (23.0)\n",
      "Requirement already satisfied: pillow>=6.2.0 in c:\\users\\user\\appdata\\local\\programs\\python\\python311\\lib\\site-packages (from matplotlib!=3.6.1,>=3.1->seaborn) (9.4.0)\n",
      "Requirement already satisfied: pyparsing>=2.2.1 in c:\\users\\user\\appdata\\local\\programs\\python\\python311\\lib\\site-packages (from matplotlib!=3.6.1,>=3.1->seaborn) (3.0.9)\n",
      "Requirement already satisfied: python-dateutil>=2.7 in c:\\users\\user\\appdata\\roaming\\python\\python311\\site-packages (from matplotlib!=3.6.1,>=3.1->seaborn) (2.8.2)\n",
      "Requirement already satisfied: pytz>=2020.1 in c:\\users\\user\\appdata\\local\\programs\\python\\python311\\lib\\site-packages (from pandas>=0.25->seaborn) (2022.7.1)\n",
      "Requirement already satisfied: six>=1.5 in c:\\users\\user\\appdata\\roaming\\python\\python311\\site-packages (from python-dateutil>=2.7->matplotlib!=3.6.1,>=3.1->seaborn) (1.16.0)\n"
     ]
    },
    {
     "name": "stderr",
     "output_type": "stream",
     "text": [
      "\n",
      "[notice] A new release of pip is available: 23.0 -> 23.1\n",
      "[notice] To update, run: python.exe -m pip install --upgrade pip\n"
     ]
    },
    {
     "name": "stdout",
     "output_type": "stream",
     "text": [
      "Requirement already satisfied: matplotlib in c:\\users\\user\\appdata\\local\\programs\\python\\python311\\lib\\site-packages (3.6.3)\n",
      "Requirement already satisfied: contourpy>=1.0.1 in c:\\users\\user\\appdata\\local\\programs\\python\\python311\\lib\\site-packages (from matplotlib) (1.0.7)\n",
      "Requirement already satisfied: cycler>=0.10 in c:\\users\\user\\appdata\\local\\programs\\python\\python311\\lib\\site-packages (from matplotlib) (0.11.0)\n",
      "Requirement already satisfied: fonttools>=4.22.0 in c:\\users\\user\\appdata\\local\\programs\\python\\python311\\lib\\site-packages (from matplotlib) (4.38.0)\n",
      "Requirement already satisfied: kiwisolver>=1.0.1 in c:\\users\\user\\appdata\\local\\programs\\python\\python311\\lib\\site-packages (from matplotlib) (1.4.4)\n",
      "Requirement already satisfied: numpy>=1.19 in c:\\users\\user\\appdata\\local\\programs\\python\\python311\\lib\\site-packages (from matplotlib) (1.24.2)\n",
      "Requirement already satisfied: packaging>=20.0 in c:\\users\\user\\appdata\\roaming\\python\\python311\\site-packages (from matplotlib) (23.0)\n",
      "Requirement already satisfied: pillow>=6.2.0 in c:\\users\\user\\appdata\\local\\programs\\python\\python311\\lib\\site-packages (from matplotlib) (9.4.0)\n",
      "Requirement already satisfied: pyparsing>=2.2.1 in c:\\users\\user\\appdata\\local\\programs\\python\\python311\\lib\\site-packages (from matplotlib) (3.0.9)\n",
      "Requirement already satisfied: python-dateutil>=2.7 in c:\\users\\user\\appdata\\roaming\\python\\python311\\site-packages (from matplotlib) (2.8.2)\n",
      "Requirement already satisfied: six>=1.5 in c:\\users\\user\\appdata\\roaming\\python\\python311\\site-packages (from python-dateutil>=2.7->matplotlib) (1.16.0)\n"
     ]
    },
    {
     "name": "stderr",
     "output_type": "stream",
     "text": [
      "\n",
      "[notice] A new release of pip is available: 23.0 -> 23.1\n",
      "[notice] To update, run: python.exe -m pip install --upgrade pip\n",
      "\n",
      "[notice] A new release of pip is available: 23.0 -> 23.1\n",
      "[notice] To update, run: python.exe -m pip install --upgrade pip\n"
     ]
    },
    {
     "name": "stdout",
     "output_type": "stream",
     "text": [
      "Requirement already satisfied: mpld3 in c:\\users\\user\\appdata\\local\\programs\\python\\python311\\lib\\site-packages (0.5.9)\n",
      "Requirement already satisfied: jinja2 in c:\\users\\user\\appdata\\local\\programs\\python\\python311\\lib\\site-packages (from mpld3) (3.1.2)\n",
      "Requirement already satisfied: matplotlib in c:\\users\\user\\appdata\\local\\programs\\python\\python311\\lib\\site-packages (from mpld3) (3.6.3)\n",
      "Requirement already satisfied: MarkupSafe>=2.0 in c:\\users\\user\\appdata\\local\\programs\\python\\python311\\lib\\site-packages (from jinja2->mpld3) (2.1.2)\n",
      "Requirement already satisfied: contourpy>=1.0.1 in c:\\users\\user\\appdata\\local\\programs\\python\\python311\\lib\\site-packages (from matplotlib->mpld3) (1.0.7)\n",
      "Requirement already satisfied: cycler>=0.10 in c:\\users\\user\\appdata\\local\\programs\\python\\python311\\lib\\site-packages (from matplotlib->mpld3) (0.11.0)\n",
      "Requirement already satisfied: fonttools>=4.22.0 in c:\\users\\user\\appdata\\local\\programs\\python\\python311\\lib\\site-packages (from matplotlib->mpld3) (4.38.0)\n",
      "Requirement already satisfied: kiwisolver>=1.0.1 in c:\\users\\user\\appdata\\local\\programs\\python\\python311\\lib\\site-packages (from matplotlib->mpld3) (1.4.4)\n",
      "Requirement already satisfied: numpy>=1.19 in c:\\users\\user\\appdata\\local\\programs\\python\\python311\\lib\\site-packages (from matplotlib->mpld3) (1.24.2)\n",
      "Requirement already satisfied: packaging>=20.0 in c:\\users\\user\\appdata\\roaming\\python\\python311\\site-packages (from matplotlib->mpld3) (23.0)\n",
      "Requirement already satisfied: pillow>=6.2.0 in c:\\users\\user\\appdata\\local\\programs\\python\\python311\\lib\\site-packages (from matplotlib->mpld3) (9.4.0)\n",
      "Requirement already satisfied: pyparsing>=2.2.1 in c:\\users\\user\\appdata\\local\\programs\\python\\python311\\lib\\site-packages (from matplotlib->mpld3) (3.0.9)\n",
      "Requirement already satisfied: python-dateutil>=2.7 in c:\\users\\user\\appdata\\roaming\\python\\python311\\site-packages (from matplotlib->mpld3) (2.8.2)\n",
      "Requirement already satisfied: six>=1.5 in c:\\users\\user\\appdata\\roaming\\python\\python311\\site-packages (from python-dateutil>=2.7->matplotlib->mpld3) (1.16.0)\n"
     ]
    }
   ],
   "source": [
    "!pip install pandas\n",
    "!pip install seaborn\n",
    "!pip install matplotlib\n",
    "!pip install mpld3\n",
    "import pandas as pd\n",
    "from pandas import read_csv\n",
    "import matplotlib.pyplot as plt\n",
    "import matplotlib.cm as cm\n",
    "import numpy as np"
   ]
  },
  {
   "attachments": {},
   "cell_type": "markdown",
   "metadata": {},
   "source": [
    "###The number of immigrants currently active and inactive\n",
    "####employed persons and job-seekers"
   ]
  },
  {
   "cell_type": "code",
   "execution_count": 2,
   "metadata": {},
   "outputs": [
    {
     "name": "stderr",
     "output_type": "stream",
     "text": [
      "C:\\Users\\User\\AppData\\Local\\Temp\\ipykernel_8532\\3948419923.py:7: SettingWithCopyWarning: \n",
      "A value is trying to be set on a copy of a slice from a DataFrame.\n",
      "Try using .loc[row_indexer,col_indexer] = value instead\n",
      "\n",
      "See the caveats in the documentation: https://pandas.pydata.org/pandas-docs/stable/user_guide/indexing.html#returning-a-view-versus-a-copy\n",
      "  act_females['TIME'] = act_females['TIME'].astype('str')\n",
      "C:\\Users\\User\\AppData\\Local\\Temp\\ipykernel_8532\\3948419923.py:13: SettingWithCopyWarning: \n",
      "A value is trying to be set on a copy of a slice from a DataFrame\n",
      "\n",
      "See the caveats in the documentation: https://pandas.pydata.org/pandas-docs/stable/user_guide/indexing.html#returning-a-view-versus-a-copy\n",
      "  act_females_final.rename(columns = {'Highest level of education attained':'Education', 'TIME':'Year'}, inplace = True)\n",
      "C:\\Users\\User\\AppData\\Local\\Temp\\ipykernel_8532\\3948419923.py:14: SettingWithCopyWarning: \n",
      "A value is trying to be set on a copy of a slice from a DataFrame.\n",
      "Try using .loc[row_indexer,col_indexer] = value instead\n",
      "\n",
      "See the caveats in the documentation: https://pandas.pydata.org/pandas-docs/stable/user_guide/indexing.html#returning-a-view-versus-a-copy\n",
      "  act_females_final['Year'] = act_females_final['Year'].astype(int)\n"
     ]
    }
   ],
   "source": [
    "df_act = pd.read_csv(\"https://raw.githubusercontent.com/openaccesstoimmigrants/openaccesstoimmigrants/main/_datasets/ISTAT_Active_Foreigners%5B2018-2022%5D.csv\", sep=\",\")\n",
    "\n",
    "df2 = df_act[[\"Gender\", \"Age class\", \"Highest level of education attained\", \"TIME\", \"Value\"]]\n",
    "\n",
    "act_females = df2[df2[\"Gender\"] == 'females']\n",
    "\n",
    "act_females['TIME'] = act_females['TIME'].astype('str')\n",
    "mask = (act_females['TIME'].str.len() == 4)\n",
    "act_females = act_females.loc[mask]\n",
    "\n",
    "act_females_final = act_females[act_females[\"Highest level of education attained\"] != 'total']\n",
    "\n",
    "act_females_final.rename(columns = {'Highest level of education attained':'Education', 'TIME':'Year'}, inplace = True)\n",
    "act_females_final['Year'] = act_females_final['Year'].astype(int)"
   ]
  },
  {
   "cell_type": "code",
   "execution_count": 3,
   "metadata": {},
   "outputs": [],
   "source": [
    "act_females_ed_1 = act_females_final[act_females_final[\"Education\"]=='no educational degree, primary and lower secondary school certificate']\n",
    "act_females_ed_2 = act_females_final[act_females_final[\"Education\"]=='upper and post secondary']\n",
    "act_females_ed_3 = act_females_final[act_females_final[\"Education\"]== 'tertiary (university, doctoral and specialization courses)']"
   ]
  },
  {
   "cell_type": "code",
   "execution_count": 7,
   "metadata": {},
   "outputs": [
    {
     "name": "stderr",
     "output_type": "stream",
     "text": [
      "C:\\Users\\User\\AppData\\Local\\Temp\\ipykernel_8532\\3091831890.py:7: SettingWithCopyWarning: \n",
      "A value is trying to be set on a copy of a slice from a DataFrame.\n",
      "Try using .loc[row_indexer,col_indexer] = value instead\n",
      "\n",
      "See the caveats in the documentation: https://pandas.pydata.org/pandas-docs/stable/user_guide/indexing.html#returning-a-view-versus-a-copy\n",
      "  data['internalId'] = pd.Series(ed_internal_id)\n",
      "C:\\Users\\User\\AppData\\Local\\Temp\\ipykernel_8532\\3091831890.py:7: SettingWithCopyWarning: \n",
      "A value is trying to be set on a copy of a slice from a DataFrame.\n",
      "Try using .loc[row_indexer,col_indexer] = value instead\n",
      "\n",
      "See the caveats in the documentation: https://pandas.pydata.org/pandas-docs/stable/user_guide/indexing.html#returning-a-view-versus-a-copy\n",
      "  data['internalId'] = pd.Series(ed_internal_id)\n"
     ]
    },
    {
     "data": {
      "text/html": [
       "<div>\n",
       "<style scoped>\n",
       "    .dataframe tbody tr th:only-of-type {\n",
       "        vertical-align: middle;\n",
       "    }\n",
       "\n",
       "    .dataframe tbody tr th {\n",
       "        vertical-align: top;\n",
       "    }\n",
       "\n",
       "    .dataframe thead th {\n",
       "        text-align: right;\n",
       "    }\n",
       "</style>\n",
       "<table border=\"1\" class=\"dataframe\">\n",
       "  <thead>\n",
       "    <tr style=\"text-align: right;\">\n",
       "      <th></th>\n",
       "      <th>Gender</th>\n",
       "      <th>Age class</th>\n",
       "      <th>Education</th>\n",
       "      <th>Year</th>\n",
       "      <th>Value</th>\n",
       "      <th>internalId</th>\n",
       "    </tr>\n",
       "  </thead>\n",
       "  <tbody>\n",
       "    <tr>\n",
       "      <th>75</th>\n",
       "      <td>females</td>\n",
       "      <td>15-64 years</td>\n",
       "      <td>upper and post secondary</td>\n",
       "      <td>2018</td>\n",
       "      <td>67.333505</td>\n",
       "      <td>NaN</td>\n",
       "    </tr>\n",
       "    <tr>\n",
       "      <th>80</th>\n",
       "      <td>females</td>\n",
       "      <td>15-64 years</td>\n",
       "      <td>upper and post secondary</td>\n",
       "      <td>2019</td>\n",
       "      <td>65.892842</td>\n",
       "      <td>NaN</td>\n",
       "    </tr>\n",
       "    <tr>\n",
       "      <th>85</th>\n",
       "      <td>females</td>\n",
       "      <td>15-64 years</td>\n",
       "      <td>upper and post secondary</td>\n",
       "      <td>2020</td>\n",
       "      <td>59.762553</td>\n",
       "      <td>NaN</td>\n",
       "    </tr>\n",
       "    <tr>\n",
       "      <th>90</th>\n",
       "      <td>females</td>\n",
       "      <td>15-64 years</td>\n",
       "      <td>upper and post secondary</td>\n",
       "      <td>2021</td>\n",
       "      <td>62.995636</td>\n",
       "      <td>NaN</td>\n",
       "    </tr>\n",
       "    <tr>\n",
       "      <th>91</th>\n",
       "      <td>females</td>\n",
       "      <td>15-64 years</td>\n",
       "      <td>upper and post secondary</td>\n",
       "      <td>2022</td>\n",
       "      <td>63.102924</td>\n",
       "      <td>NaN</td>\n",
       "    </tr>\n",
       "  </tbody>\n",
       "</table>\n",
       "</div>"
      ],
      "text/plain": [
       "     Gender    Age class                 Education  Year      Value internalId\n",
       "75  females  15-64 years  upper and post secondary  2018  67.333505        NaN\n",
       "80  females  15-64 years  upper and post secondary  2019  65.892842        NaN\n",
       "85  females  15-64 years  upper and post secondary  2020  59.762553        NaN\n",
       "90  females  15-64 years  upper and post secondary  2021  62.995636        NaN\n",
       "91  females  15-64 years  upper and post secondary  2022  63.102924        NaN"
      ]
     },
     "execution_count": 7,
     "metadata": {},
     "output_type": "execute_result"
    }
   ],
   "source": [
    "ed_internal_id = []\n",
    "\n",
    "def int_id(data):\n",
    "    for i, row in data.iterrows():\n",
    "        ed_internal_id.append(\"ed-\" + str(i))\n",
    "        \n",
    "    data['internalId'] = pd.Series(ed_internal_id)\n",
    "\n",
    "int_id(act_females_ed_1)\n",
    "int_id(act_females_ed_2)\n",
    "\n",
    "act_females_ed_2"
   ]
  },
  {
   "cell_type": "code",
   "execution_count": 19,
   "metadata": {},
   "outputs": [
    {
     "data": {
      "image/png": "[encoded data removed]",
      "text/plain": [
       "<Figure size 640x480 with 1 Axes>"
      ]
     },
     "metadata": {},
     "output_type": "display_data"
    }
   ],
   "source": [
    "import seaborn as sns\n",
    "import matplotlib.pyplot as plt, mpld3\n",
    "import pandas as pd\n",
    "import numpy as np\n",
    "plt.style.use('ggplot')\n",
    "\n",
    "fig, ax = plt.subplots()\n",
    "ax= sns.lineplot(x='Year', y='Value', data=act_females_ed_1)\n",
    "ax1 = sns.lineplot(x='Year', y='Value', data=act_females_ed_2)\n",
    "ax2 = sns.lineplot(x='Year', y='Value', data=act_females_ed_3)"
   ]
  },
  {
   "cell_type": "code",
   "execution_count": 12,
   "metadata": {},
   "outputs": [
    {
     "ename": "TypeError",
     "evalue": "DatetimeIndex.__new__() got an unexpected keyword argument 'start'",
     "output_type": "error",
     "traceback": [
      "\u001b[1;31m---------------------------------------------------------------------------\u001b[0m",
      "\u001b[1;31mTypeError\u001b[0m                                 Traceback (most recent call last)",
      "Cell \u001b[1;32mIn[12], line 7\u001b[0m\n\u001b[0;32m      4\u001b[0m \u001b[39mfrom\u001b[39;00m \u001b[39mbokeh\u001b[39;00m\u001b[39m.\u001b[39;00m\u001b[39mplotting\u001b[39;00m \u001b[39mimport\u001b[39;00m figure, show, output_file\n\u001b[0;32m      5\u001b[0m output_file(\u001b[39m'\u001b[39m\u001b[39mtemp.html\u001b[39m\u001b[39m'\u001b[39m)\n\u001b[1;32m----> 7\u001b[0m toy_df \u001b[39m=\u001b[39m pd\u001b[39m.\u001b[39mDataFrame(data\u001b[39m=\u001b[39mnp\u001b[39m.\u001b[39mrandom\u001b[39m.\u001b[39mrand(\u001b[39m5\u001b[39m,\u001b[39m3\u001b[39m), columns \u001b[39m=\u001b[39m (\u001b[39m'\u001b[39m\u001b[39ma\u001b[39m\u001b[39m'\u001b[39m, \u001b[39m'\u001b[39m\u001b[39mb\u001b[39m\u001b[39m'\u001b[39m ,\u001b[39m'\u001b[39m\u001b[39mc\u001b[39m\u001b[39m'\u001b[39m), index \u001b[39m=\u001b[39m pd\u001b[39m.\u001b[39;49mDatetimeIndex(start\u001b[39m=\u001b[39;49m\u001b[39m'\u001b[39;49m\u001b[39m01-01-2015\u001b[39;49m\u001b[39m'\u001b[39;49m,periods\u001b[39m=\u001b[39;49m\u001b[39m5\u001b[39;49m, freq\u001b[39m=\u001b[39;49m\u001b[39m'\u001b[39;49m\u001b[39md\u001b[39;49m\u001b[39m'\u001b[39;49m))   \n\u001b[0;32m      9\u001b[0m numlines\u001b[39m=\u001b[39m\u001b[39mlen\u001b[39m(toy_df\u001b[39m.\u001b[39mcolumns)\n\u001b[0;32m     10\u001b[0m mypalette\u001b[39m=\u001b[39mSpectral11[\u001b[39m0\u001b[39m:numlines]\n",
      "\u001b[1;31mTypeError\u001b[0m: DatetimeIndex.__new__() got an unexpected keyword argument 'start'"
     ]
    }
   ],
   "source": [
    "import pandas as pd\n",
    "import numpy as np\n",
    "from bokeh.palettes import Spectral11\n",
    "from bokeh.plotting import figure, show, output_file\n",
    "output_file('temp.html')\n",
    "\n",
    "toy_df = pd.DataFrame(data=np.random.rand(5,3), columns = ('a', 'b' ,'c'), index = pd.DatetimeIndex(start='01-01-2015',periods=5, freq='d'))   \n",
    "\n",
    "numlines=len(toy_df.columns)\n",
    "mypalette=Spectral11[0:numlines]\n",
    "\n",
    "p = figure(width=500, height=300, x_axis_type=\"datetime\") \n",
    "p.multi_line(xs=[toy_df.index.values]*numlines,\n",
    "                ys=[toy_df[name].values for name in toy_df],\n",
    "                line_color=mypalette,\n",
    "                line_width=5)\n",
    "show(p)"
   ]
  },
  {
   "cell_type": "code",
   "execution_count": 22,
   "metadata": {},
   "outputs": [
    {
     "name": "stderr",
     "output_type": "stream",
     "text": [
      "WARNING:bokeh.core.validation.check:W-1000 (MISSING_RENDERERS): Plot has no renderers: figure(id='p1001', ...)\n"
     ]
    }
   ],
   "source": [
    "x = [2018, 2019, 2020, 2021, 2022]\n",
    "from bokeh.plotting import figure, show\n",
    "p = figure(title=\"Active rate\", x_axis_label='x', y_axis_label='Value')\n",
    "show(p)"
   ]
  },
  {
   "cell_type": "code",
   "execution_count": 5,
   "metadata": {},
   "outputs": [],
   "source": [
    "ED2 = act_females_final[act_females_final[\"Education\"] == \"upper and post secondary\"]\n",
    "from pathlib import Path  \n",
    "filepath = Path('openaccesstoimmigrants/ED2.csv')  \n",
    "filepath.parent.mkdir(parents=True, exist_ok=True)  \n",
    "ED2.to_csv(filepath)"
   ]
  },
  {
   "cell_type": "code",
   "execution_count": 31,
   "metadata": {},
   "outputs": [
    {
     "name": "stderr",
     "output_type": "stream",
     "text": [
      "C:\\Users\\User\\AppData\\Local\\Temp\\ipykernel_8532\\3079780356.py:3: SettingWithCopyWarning: \n",
      "A value is trying to be set on a copy of a slice from a DataFrame.\n",
      "Try using .loc[row_indexer,col_indexer] = value instead\n",
      "\n",
      "See the caveats in the documentation: https://pandas.pydata.org/pandas-docs/stable/user_guide/indexing.html#returning-a-view-versus-a-copy\n",
      "  act_males['TIME'] = act_males['TIME'].astype('str')\n",
      "C:\\Users\\User\\AppData\\Local\\Temp\\ipykernel_8532\\3079780356.py:9: SettingWithCopyWarning: \n",
      "A value is trying to be set on a copy of a slice from a DataFrame\n",
      "\n",
      "See the caveats in the documentation: https://pandas.pydata.org/pandas-docs/stable/user_guide/indexing.html#returning-a-view-versus-a-copy\n",
      "  act_males_final.rename(columns = {'Highest level of education attained':'Education', 'TIME':'Year'}, inplace = True)\n",
      "C:\\Users\\User\\AppData\\Local\\Temp\\ipykernel_8532\\3079780356.py:10: SettingWithCopyWarning: \n",
      "A value is trying to be set on a copy of a slice from a DataFrame.\n",
      "Try using .loc[row_indexer,col_indexer] = value instead\n",
      "\n",
      "See the caveats in the documentation: https://pandas.pydata.org/pandas-docs/stable/user_guide/indexing.html#returning-a-view-versus-a-copy\n",
      "  act_females_final['Year'] = act_females_final['Year'].astype(int)\n"
     ]
    }
   ],
   "source": [
    "act_males = df2[df2[\"Gender\"]=='males']\n",
    "\n",
    "act_males['TIME'] = act_males['TIME'].astype('str')\n",
    "mask = (act_males['TIME'].str.len() == 4)\n",
    "act_males = act_males.loc[mask]\n",
    "\n",
    "act_males_final = act_males[act_males[\"Highest level of education attained\"] != 'total']\n",
    "\n",
    "act_males_final.rename(columns = {'Highest level of education attained':'Education', 'TIME':'Year'}, inplace = True)\n",
    "act_females_final['Year'] = act_females_final['Year'].astype(int)\n",
    "\n",
    "act_males_ed_1 = act_males_final[act_males_final[\"Education\"]=='no educational degree, primary and lower secondary school certificate']\n",
    "act_males_ed_2 = act_males_final[act_males_final[\"Education\"]=='upper and post secondary']\n",
    "act_males_ed_3 = act_males_final[act_males_final[\"Education\"]== 'tertiary (university, doctoral and specialization courses)']"
   ]
  },
  {
   "cell_type": "code",
   "execution_count": 33,
   "metadata": {},
   "outputs": [
    {
     "data": {
      "image/png": "[encoded data removed]",
      "text/plain": [
       "<Figure size 640x480 with 1 Axes>"
      ]
     },
     "metadata": {},
     "output_type": "display_data"
    }
   ],
   "source": [
    "plt.style.use('ggplot')\n",
    "\n",
    "fig, ax = plt.subplots()\n",
    "ax= sns.lineplot(x='Year', y='Value', data=act_males_ed_1)\n",
    "ax1 = sns.lineplot(x='Year', y='Value', data=act_males_ed_2)\n",
    "ax2 = sns.lineplot(x='Year', y='Value', data=act_males_ed_3)"
   ]
  },
  {
   "cell_type": "code",
   "execution_count": 9,
   "metadata": {},
   "outputs": [],
   "source": [
    "#from pathlib import Path  \n",
    "#filepath = Path('openaccesstoimmigrants/D1.csv')  \n",
    "#filepath.parent.mkdir(parents=True, exist_ok=True)  \n",
    "#merged.to_csv(filepath)  "
   ]
  },
  {
   "cell_type": "code",
   "execution_count": 18,
   "metadata": {},
   "outputs": [
    {
     "name": "stderr",
     "output_type": "stream",
     "text": [
      "C:\\Users\\User\\AppData\\Local\\Temp\\ipykernel_12396\\3191642807.py:1: DtypeWarning: Columns (9) have mixed types. Specify dtype option on import or set low_memory=False.\n",
      "  df_occ = pd.read_csv(\"_datasets/EMP_TEMP_SEX_OCU_EDU_NB_A.csv\", sep=\",\")\n"
     ]
    },
    {
     "data": {
      "text/html": [
       "<div>\n",
       "<style scoped>\n",
       "    .dataframe tbody tr th:only-of-type {\n",
       "        vertical-align: middle;\n",
       "    }\n",
       "\n",
       "    .dataframe tbody tr th {\n",
       "        vertical-align: top;\n",
       "    }\n",
       "\n",
       "    .dataframe thead th {\n",
       "        text-align: right;\n",
       "    }\n",
       "</style>\n",
       "<table border=\"1\" class=\"dataframe\">\n",
       "  <thead>\n",
       "    <tr style=\"text-align: right;\">\n",
       "      <th></th>\n",
       "      <th>ref_area</th>\n",
       "      <th>sex</th>\n",
       "      <th>classif1</th>\n",
       "      <th>classif2</th>\n",
       "      <th>time</th>\n",
       "      <th>obs_value</th>\n",
       "    </tr>\n",
       "  </thead>\n",
       "  <tbody>\n",
       "    <tr>\n",
       "      <th>0</th>\n",
       "      <td>AFG</td>\n",
       "      <td>SEX_T</td>\n",
       "      <td>OCU_SKILL_TOTAL</td>\n",
       "      <td>EDU_AGGREGATE_TOTAL</td>\n",
       "      <td>2021</td>\n",
       "      <td>7699.765</td>\n",
       "    </tr>\n",
       "    <tr>\n",
       "      <th>1</th>\n",
       "      <td>AFG</td>\n",
       "      <td>SEX_T</td>\n",
       "      <td>OCU_SKILL_TOTAL</td>\n",
       "      <td>EDU_AGGREGATE_LTB</td>\n",
       "      <td>2021</td>\n",
       "      <td>4455.287</td>\n",
       "    </tr>\n",
       "    <tr>\n",
       "      <th>2</th>\n",
       "      <td>AFG</td>\n",
       "      <td>SEX_T</td>\n",
       "      <td>OCU_SKILL_TOTAL</td>\n",
       "      <td>EDU_AGGREGATE_BAS</td>\n",
       "      <td>2021</td>\n",
       "      <td>1455.178</td>\n",
       "    </tr>\n",
       "    <tr>\n",
       "      <th>3</th>\n",
       "      <td>AFG</td>\n",
       "      <td>SEX_T</td>\n",
       "      <td>OCU_SKILL_TOTAL</td>\n",
       "      <td>EDU_AGGREGATE_INT</td>\n",
       "      <td>2021</td>\n",
       "      <td>1189.710</td>\n",
       "    </tr>\n",
       "    <tr>\n",
       "      <th>4</th>\n",
       "      <td>AFG</td>\n",
       "      <td>SEX_T</td>\n",
       "      <td>OCU_SKILL_TOTAL</td>\n",
       "      <td>EDU_AGGREGATE_ADV</td>\n",
       "      <td>2021</td>\n",
       "      <td>458.157</td>\n",
       "    </tr>\n",
       "    <tr>\n",
       "      <th>...</th>\n",
       "      <td>...</td>\n",
       "      <td>...</td>\n",
       "      <td>...</td>\n",
       "      <td>...</td>\n",
       "      <td>...</td>\n",
       "      <td>...</td>\n",
       "    </tr>\n",
       "    <tr>\n",
       "      <th>738773</th>\n",
       "      <td>ZWE</td>\n",
       "      <td>SEX_F</td>\n",
       "      <td>OCU_ISCO08_0</td>\n",
       "      <td>EDU_ISCED97_5</td>\n",
       "      <td>2011</td>\n",
       "      <td>NaN</td>\n",
       "    </tr>\n",
       "    <tr>\n",
       "      <th>738774</th>\n",
       "      <td>ZWE</td>\n",
       "      <td>SEX_F</td>\n",
       "      <td>OCU_ISCO08_X</td>\n",
       "      <td>EDU_ISCED97_TOTAL</td>\n",
       "      <td>2011</td>\n",
       "      <td>4.172</td>\n",
       "    </tr>\n",
       "    <tr>\n",
       "      <th>738775</th>\n",
       "      <td>ZWE</td>\n",
       "      <td>SEX_F</td>\n",
       "      <td>OCU_ISCO08_X</td>\n",
       "      <td>EDU_ISCED97_1</td>\n",
       "      <td>2011</td>\n",
       "      <td>NaN</td>\n",
       "    </tr>\n",
       "    <tr>\n",
       "      <th>738776</th>\n",
       "      <td>ZWE</td>\n",
       "      <td>SEX_F</td>\n",
       "      <td>OCU_ISCO08_X</td>\n",
       "      <td>EDU_ISCED97_2</td>\n",
       "      <td>2011</td>\n",
       "      <td>2.458</td>\n",
       "    </tr>\n",
       "    <tr>\n",
       "      <th>738777</th>\n",
       "      <td>ZWE</td>\n",
       "      <td>SEX_F</td>\n",
       "      <td>OCU_ISCO08_X</td>\n",
       "      <td>EDU_ISCED97_5</td>\n",
       "      <td>2011</td>\n",
       "      <td>NaN</td>\n",
       "    </tr>\n",
       "  </tbody>\n",
       "</table>\n",
       "<p>738778 rows × 6 columns</p>\n",
       "</div>"
      ],
      "text/plain": [
       "       ref_area    sex         classif1             classif2  time  obs_value\n",
       "0           AFG  SEX_T  OCU_SKILL_TOTAL  EDU_AGGREGATE_TOTAL  2021   7699.765\n",
       "1           AFG  SEX_T  OCU_SKILL_TOTAL    EDU_AGGREGATE_LTB  2021   4455.287\n",
       "2           AFG  SEX_T  OCU_SKILL_TOTAL    EDU_AGGREGATE_BAS  2021   1455.178\n",
       "3           AFG  SEX_T  OCU_SKILL_TOTAL    EDU_AGGREGATE_INT  2021   1189.710\n",
       "4           AFG  SEX_T  OCU_SKILL_TOTAL    EDU_AGGREGATE_ADV  2021    458.157\n",
       "...         ...    ...              ...                  ...   ...        ...\n",
       "738773      ZWE  SEX_F     OCU_ISCO08_0        EDU_ISCED97_5  2011        NaN\n",
       "738774      ZWE  SEX_F     OCU_ISCO08_X    EDU_ISCED97_TOTAL  2011      4.172\n",
       "738775      ZWE  SEX_F     OCU_ISCO08_X        EDU_ISCED97_1  2011        NaN\n",
       "738776      ZWE  SEX_F     OCU_ISCO08_X        EDU_ISCED97_2  2011      2.458\n",
       "738777      ZWE  SEX_F     OCU_ISCO08_X        EDU_ISCED97_5  2011        NaN\n",
       "\n",
       "[738778 rows x 6 columns]"
      ]
     },
     "execution_count": 18,
     "metadata": {},
     "output_type": "execute_result"
    }
   ],
   "source": [
    "df_occ = pd.read_csv(\"_datasets/EMP_TEMP_SEX_OCU_EDU_NB_A.csv\", sep=\",\")\n",
    "\n",
    "df_occ = df_occ[['ref_area', \n",
    "                 'sex',\n",
    "                 'classif1',\n",
    "                 'classif2',\n",
    "                 'time',\n",
    "                 'obs_value']].copy()\n",
    "\n",
    "df_occ_ITA = df_occ.loc[df_occ['ref_area']=='ITA']\n",
    "\n",
    "df_occ"
   ]
  }
 ],
 "metadata": {
  "kernelspec": {
   "display_name": "Python 3",
   "language": "python",
   "name": "python3"
  },
  "language_info": {
   "codemirror_mode": {
    "name": "ipython",
    "version": 3
   },
   "file_extension": ".py",
   "mimetype": "text/x-python",
   "name": "python",
   "nbconvert_exporter": "python",
   "pygments_lexer": "ipython3",
   "version": "3.11.1"
  },
  "orig_nbformat": 4
 },
 "nbformat": 4,
 "nbformat_minor": 2
}
