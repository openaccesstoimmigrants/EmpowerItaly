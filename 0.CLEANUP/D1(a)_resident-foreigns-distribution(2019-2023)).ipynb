{
 "cells": [
  {
   "cell_type": "markdown",
   "id": "a793f383-bd06-40a8-a7c6-a1581ccb2527",
   "metadata": {},
   "source": [
    "# D1(a)\n",
    "## Resident foreigners on 1st January (2019-2023)\n",
    "### [IstatData](https://esploradati.istat.it/databrowser/#/it/dw/categories/IT1,POP,1.0/POP_FOREIGNIM/DCIS_POPSTRRES1/IT1,29_7_DF_DCIS_POPSTRRES1_1,1.0)"
   ]
  },
  {
   "cell_type": "code",
   "execution_count": 1,
   "id": "a9b275bf-4246-4d46-ad8d-f2bbf769fa12",
   "metadata": {},
   "outputs": [],
   "source": [
    "#!pip install pandas requests requests_cache xmltodict"
   ]
  },
  {
   "cell_type": "code",
   "execution_count": 2,
   "id": "68d72ee9-a8d2-4c2e-92dd-b6ef90f15629",
   "metadata": {},
   "outputs": [],
   "source": [
    "import pandas as pd\n",
    "import json\n",
    "import requests\n",
    "import xmltodict\n",
    "from datetime import datetime\n",
    "import os"
   ]
  },
  {
   "cell_type": "code",
   "execution_count": 4,
   "id": "f1234ed9-87a8-471a-b37b-1c420558108a",
   "metadata": {},
   "outputs": [
    {
     "name": "stdout",
     "output_type": "stream",
     "text": [
      "200\n"
     ]
    },
    {
     "data": {
      "text/plain": [
       "str"
      ]
     },
     "execution_count": 4,
     "metadata": {},
     "output_type": "execute_result"
    }
   ],
   "source": [
    "# 1 -  Explore datastructure\n",
    "\n",
    "response = requests.get('https://esploradati.istat.it/SDMXWS/rest/datastructure/IT1/DCIS_POPSTRRES1/')\n",
    "print(response.status_code)\n",
    "\n",
    "if response.status_code == 200:\n",
    "    content = response.content\n",
    "    \n",
    "    if len(content) > 0:\n",
    "        try:\n",
    "            xml_data = xmltodict.parse(content)\n",
    "            json_string_data = json.dumps(xml_data,\n",
    "                                    allow_nan = True, # If we hadn't set allow_nan to\n",
    "                                                      # true we would have got\n",
    "                                                      # ValueError: Out of range float\n",
    "                                                      # values are not JSON compliant\n",
    "                                    indent = 6) # Indentation can be used for pretty-printing\n",
    "            # Now you can work with the parsed JSON data\n",
    "        except json.JSONDecodeError as e:\n",
    "            print(\"Error decoding JSON:\", e)\n",
    "    else:\n",
    "        print(\"Empty content received.\")\n",
    "else:\n",
    "    print(\"Request failed with status code:\", response.status_code)\n",
    "\n",
    "# Uncomment the following line to see the resulting JSON string\n",
    "# print(json_string_data)\n",
    "type(json_string_data)"
   ]
  },
  {
   "cell_type": "code",
   "execution_count": 8,
   "id": "2374c975-877e-45b1-a467-595b543deaf3",
   "metadata": {},
   "outputs": [
    {
     "name": "stdout",
     "output_type": "stream",
     "text": [
      "200\n"
     ]
    }
   ],
   "source": [
    "# 2 - Explore the meaning of the dimensions of the dataset\n",
    "\n",
    "response = requests.get('https://esploradati.istat.it/SDMXWS/rest/codelist/IT1/CL_ITTER107')\n",
    "print(response.status_code)\n",
    "\n",
    "if response.status_code == 200:\n",
    "    content = response.content\n",
    "    \n",
    "    if len(content) > 0:\n",
    "        try:\n",
    "            xml_data = xmltodict.parse(content)\n",
    "            json_string_data = json.dumps(xml_data,\n",
    "                                    allow_nan = True, # If we hadn't set allow_nan to\n",
    "                                                      # true we would have got\n",
    "                                                      # ValueError: Out of range float\n",
    "                                                      # values are not JSON compliant\n",
    "                                    indent = 6) # Indentation can be used for pretty-printing\n",
    "            # Now you can work with the parsed JSON data\n",
    "        except json.JSONDecodeError as e:\n",
    "            print(\"Error decoding JSON:\", e)\n",
    "    else:\n",
    "        print(\"Empty content received.\")\n",
    "else:\n",
    "    print(\"Request failed with status code:\", response.status_code)\n",
    "\n",
    "# Uncomment the following line to see the resulting JSON string\n",
    "# print(json_string_data)"
   ]
  },
  {
   "cell_type": "code",
   "execution_count": 9,
   "id": "8c726e51-d479-4a54-8009-5ee59d60b402",
   "metadata": {},
   "outputs": [
    {
     "name": "stdout",
     "output_type": "stream",
     "text": [
      "200\n"
     ]
    }
   ],
   "source": [
    "# 3 -  Explore values in Dimensions\n",
    "\n",
    "response = requests.get('https://esploradati.istat.it/SDMXWS/rest/availableconstraint/29_7_DF_DCIS_POPSTRRES1_1')\n",
    "print(response.status_code)\n",
    "\n",
    "if response.status_code == 200:\n",
    "    content = response.content\n",
    "    \n",
    "    if len(content) > 0:\n",
    "        try:\n",
    "            xml_data = xmltodict.parse(content)\n",
    "            json_string_data = json.dumps(xml_data,\n",
    "                                    allow_nan = True, # If we hadn't set allow_nan to\n",
    "                                                      # true we would have got\n",
    "                                                      # ValueError: Out of range float\n",
    "                                                      # values are not JSON compliant\n",
    "                                    indent = 6) # Indentation can be used for pretty-printing\n",
    "            # Now you can work with the parsed JSON data\n",
    "        except json.JSONDecodeError as e:\n",
    "            print(\"Error decoding JSON:\", e)\n",
    "    else:\n",
    "        print(\"Empty content received.\")\n",
    "else:\n",
    "    print(\"Request failed with status code:\", response.status_code)\n",
    "\n",
    "# Print is disable in documentation since the response is too long to be shown here. Uncomment to see it.\n",
    "# print(json_string_data)"
   ]
  },
  {
   "cell_type": "code",
   "execution_count": 3,
   "id": "914cc97f-57de-485a-8d2e-27208405fdbb",
   "metadata": {},
   "outputs": [
    {
     "name": "stdout",
     "output_type": "stream",
     "text": [
      "200\n"
     ]
    }
   ],
   "source": [
    "# 4 -  Final query with filters\n",
    "\n",
    "response = requests.get('https://esploradati.istat.it/SDMXWS/rest/data/29_7_DF_DCIS_POPSTRRES1_1/A.IT+ITCD+ITC+ITD+ITE+ITF+ITG.JAN.9.TOTAL')\n",
    "print(response.status_code)\n",
    "\n",
    "if response.status_code == 200:\n",
    "    content = response.content\n",
    "    \n",
    "    if len(content) > 0:\n",
    "        try:\n",
    "            xml_data = xmltodict.parse(content)\n",
    "            json_string_data = json.dumps(xml_data,\n",
    "                                    allow_nan = True, # If we hadn't set allow_nan to\n",
    "                                                      # true we would have got\n",
    "                                                      # ValueError: Out of range float\n",
    "                                                      # values are not JSON compliant\n",
    "                                    indent = 6) # Indentation can be used for pretty-printing\n",
    "            # Now you can work with the parsed JSON data\n",
    "        except json.JSONDecodeError as e:\n",
    "            print(\"Error decoding JSON:\", e)\n",
    "    else:\n",
    "        print(\"Empty content received.\")\n",
    "else:\n",
    "    print(\"Request failed with status code:\", response.status_code)\n",
    "\n",
    "# Uncomment the following line to see the resulting JSON string\n",
    "# print(json_string_data)"
   ]
  },
  {
   "cell_type": "code",
   "execution_count": 6,
   "id": "6953301e-5042-4aae-8e99-2e10e5b04df2",
   "metadata": {},
   "outputs": [
    {
     "data": {
      "text/plain": [
       "str"
      ]
     },
     "execution_count": 6,
     "metadata": {},
     "output_type": "execute_result"
    }
   ],
   "source": [
    "# Creating a nested dictonary from the response in order to create a clean JSON for our visualization\n",
    "\n",
    "nested_dict = json.loads(json_string_data)\n",
    "\n",
    "# Translation dictionary\n",
    "sex_translation = {\n",
    "    '1': 'Male',\n",
    "    '2': 'Female',\n",
    "    '9': 'TOTAL'\n",
    "}\n",
    "\n",
    "# Extracting information\n",
    "result = []\n",
    "\n",
    "series_data = nested_dict['message:GenericData']['message:DataSet']['generic:Series']\n",
    "for series in series_data:\n",
    "    series_key = series['generic:SeriesKey']\n",
    "    territory = None\n",
    "    sex = None\n",
    "\n",
    "    for value in series_key['generic:Value']:\n",
    "        if value['@id'] == 'REF_AREA':\n",
    "            territory = value['@value']\n",
    "        elif value['@id'] == 'SEX':\n",
    "            sex_value = value['@value']\n",
    "            sex = sex_translation.get(sex_value)\n",
    "\n",
    "    obs_values = series['generic:Obs']\n",
    "    for obs in obs_values:\n",
    "        year = obs['generic:ObsDimension']['@value']\n",
    "        age = series_key['generic:Value'][4]['@value']\n",
    "        quantity = obs['generic:ObsValue']['@value']\n",
    "\n",
    "        entry = {\n",
    "            'Territory': territory,\n",
    "            'Year': int(year),\n",
    "            'Sex': sex,\n",
    "            'Age': age,\n",
    "            'Quantity': int(quantity)\n",
    "        }\n",
    "        result.append(entry)\n",
    "\n",
    "# Convert result to JSON\n",
    "immigrants_distribution = json.dumps(result)\n",
    "\n",
    "# Uncomment the following line to see the resulting JSON string\n",
    "# print(immigrants_distribution)\n",
    "type(immigrants_distribution)"
   ]
  },
  {
   "cell_type": "code",
   "execution_count": 7,
   "id": "785532af-7dd4-4cab-bac1-b75b68c67c83",
   "metadata": {},
   "outputs": [
    {
     "name": "stdout",
     "output_type": "stream",
     "text": [
      "JSON data saved to: ../_datasets/Clean/D1(a)/immigrants_distribution.json\n"
     ]
    }
   ],
   "source": [
    "# Convert immigrants_distribution string to JSON object\n",
    "immigrants_distribution_json = json.loads(immigrants_distribution)\n",
    "\n",
    "# Specify the folder path to save the JSON file\n",
    "folder_path = \"../_datasets/Clean/D1(a)\"\n",
    "\n",
    "# Create the folder if it doesn't exist\n",
    "os.makedirs(folder_path, exist_ok=True)\n",
    "\n",
    "# Define the filename for the JSON file\n",
    "filename = \"immigrants_distribution.json\"\n",
    "\n",
    "# Generate the file path\n",
    "file_path = os.path.join(folder_path, filename)\n",
    "\n",
    "# Save the immigrants_demographic JSON object to file\n",
    "with open(file_path, \"w\") as file:\n",
    "    json.dump(immigrants_distribution_json, file, indent=4)\n",
    "\n",
    "print(f\"JSON data saved to: {file_path}\")"
   ]
  },
  {
   "cell_type": "code",
   "execution_count": null,
   "id": "539e1c3b-a8dd-46e3-89b7-8f1399a699b9",
   "metadata": {},
   "outputs": [],
   "source": []
  }
 ],
 "metadata": {
  "kernelspec": {
   "display_name": "Python 3 (ipykernel)",
   "language": "python",
   "name": "python3"
  },
  "language_info": {
   "codemirror_mode": {
    "name": "ipython",
    "version": 3
   },
   "file_extension": ".py",
   "mimetype": "text/x-python",
   "name": "python",
   "nbconvert_exporter": "python",
   "pygments_lexer": "ipython3",
   "version": "3.11.5"
  }
 },
 "nbformat": 4,
 "nbformat_minor": 5
}
