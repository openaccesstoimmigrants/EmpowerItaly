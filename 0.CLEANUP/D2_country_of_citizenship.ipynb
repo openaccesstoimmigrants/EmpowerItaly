{
 "cells": [
  {
   "cell_type": "markdown",
   "id": "5f6250cd-3e39-46f7-a283-1bf074e2a523",
   "metadata": {},
   "source": [
    "# D2\n",
    "## Country of Citizenship\n",
    "### [See on IstatData](https://esploradati.istat.it/databrowser/#/en/dw/categories/IT1,POP,1.0/POP_FOREIGNIM/DCIS_POPSTRCIT1/IT1,29_317_DF_DCIS_POPSTRCIT1_1,1.0)"
   ]
  },
  {
   "cell_type": "code",
   "execution_count": 1,
   "id": "a9b275bf-4246-4d46-ad8d-f2bbf769fa12",
   "metadata": {},
   "outputs": [],
   "source": [
    "#!pip install pandas requests requests_cache xmltodict pycountry"
   ]
  },
  {
   "cell_type": "code",
   "execution_count": 2,
   "id": "68d72ee9-a8d2-4c2e-92dd-b6ef90f15629",
   "metadata": {},
   "outputs": [],
   "source": [
    "import pandas as pd\n",
    "import json\n",
    "import requests\n",
    "import xmltodict\n",
    "from datetime import datetime\n",
    "import os\n",
    "import pycountry # converts ISO country code to country name"
   ]
  },
  {
   "cell_type": "code",
   "execution_count": 3,
   "id": "2ad7e17b-0c8b-4d10-8beb-10137ac56d2f",
   "metadata": {},
   "outputs": [
    {
     "name": "stdout",
     "output_type": "stream",
     "text": [
      "200\n"
     ]
    },
    {
     "data": {
      "text/plain": [
       "str"
      ]
     },
     "execution_count": 3,
     "metadata": {},
     "output_type": "execute_result"
    }
   ],
   "source": [
    "# 1 -  Explore datastructure\n",
    "\n",
    "response = requests.get('https://esploradati.istat.it/SDMXWS/rest/datastructure/IT1/DCIS_POPSTRCIT1/')\n",
    "print(response.status_code)\n",
    "\n",
    "if response.status_code == 200:\n",
    "    content = response.content\n",
    "    \n",
    "    if len(content) > 0:\n",
    "        try:\n",
    "            xml_data = xmltodict.parse(content)\n",
    "            json_string_data = json.dumps(xml_data,\n",
    "                                    allow_nan = True, # If we hadn't set allow_nan to\n",
    "                                                      # true we would have got\n",
    "                                                      # ValueError: Out of range float\n",
    "                                                      # values are not JSON compliant\n",
    "                                    indent = 6) # Indentation can be used for pretty-printing\n",
    "            # Now you can work with the parsed JSON data\n",
    "        except json.JSONDecodeError as e:\n",
    "            print(\"Error decoding JSON:\", e)\n",
    "    else:\n",
    "        print(\"Empty content received.\")\n",
    "else:\n",
    "    print(\"Request failed with status code:\", response.status_code)\n",
    "\n",
    "# Uncomment the following line to see the resulting JSON string\n",
    "# print(json_string_data)\n",
    "type(json_string_data)"
   ]
  },
  {
   "cell_type": "code",
   "execution_count": 4,
   "id": "5049494b-5a87-4dfb-901d-e47bacb34a7c",
   "metadata": {},
   "outputs": [
    {
     "name": "stdout",
     "output_type": "stream",
     "text": [
      "200\n"
     ]
    }
   ],
   "source": [
    "# 2 - Explore the meaning of the dimensions of the dataset\n",
    "\n",
    "response = requests.get('https://esploradati.istat.it/SDMXWS/rest/codelist/IT1/CL_TIPO_DATO15')\n",
    "print(response.status_code)\n",
    "\n",
    "if response.status_code == 200:\n",
    "    content = response.content\n",
    "    \n",
    "    if len(content) > 0:\n",
    "        try:\n",
    "            xml_data = xmltodict.parse(content)\n",
    "            json_string_data = json.dumps(xml_data,\n",
    "                                    allow_nan = True, # If we hadn't set allow_nan to\n",
    "                                                      # true we would have got\n",
    "                                                      # ValueError: Out of range float\n",
    "                                                      # values are not JSON compliant\n",
    "                                    indent = 6) # Indentation can be used for pretty-printing\n",
    "            # Now you can work with the parsed JSON data\n",
    "        except json.JSONDecodeError as e:\n",
    "            print(\"Error decoding JSON:\", e)\n",
    "    else:\n",
    "        print(\"Empty content received.\")\n",
    "else:\n",
    "    print(\"Request failed with status code:\", response.status_code)\n",
    "\n",
    "# Uncomment the following line to see the resulting JSON string\n",
    "#print(json_string_data)"
   ]
  },
  {
   "cell_type": "code",
   "execution_count": 5,
   "id": "279baa2c-076c-4539-b6e8-8131689ae9ee",
   "metadata": {},
   "outputs": [
    {
     "name": "stdout",
     "output_type": "stream",
     "text": [
      "200\n"
     ]
    }
   ],
   "source": [
    "# 3 -  Explore values in Dimensions\n",
    "\n",
    "response = requests.get('https://esploradati.istat.it/SDMXWS/rest/availableconstraint/29_317_DF_DCIS_POPSTRCIT1_1')\n",
    "print(response.status_code)\n",
    "\n",
    "if response.status_code == 200:\n",
    "    content = response.content\n",
    "    \n",
    "    if len(content) > 0:\n",
    "        try:\n",
    "            xml_data = xmltodict.parse(content)\n",
    "            json_string_data = json.dumps(xml_data,\n",
    "                                    allow_nan = True, # If we hadn't set allow_nan to\n",
    "                                                      # true we would have got\n",
    "                                                      # ValueError: Out of range float\n",
    "                                                      # values are not JSON compliant\n",
    "                                    indent = 6) # Indentation can be used for pretty-printing\n",
    "            # Now you can work with the parsed JSON data\n",
    "        except json.JSONDecodeError as e:\n",
    "            print(\"Error decoding JSON:\", e)\n",
    "    else:\n",
    "        print(\"Empty content received.\")\n",
    "else:\n",
    "    print(\"Request failed with status code:\", response.status_code)\n",
    "\n",
    "# Print is disable in documentation since the response is too long to be shown here. Uncomment to see it.\n",
    "# print(json_string_data)"
   ]
  },
  {
   "cell_type": "code",
   "execution_count": 6,
   "id": "96a91f14-d62a-452c-931f-3f472292cf19",
   "metadata": {},
   "outputs": [
    {
     "name": "stdout",
     "output_type": "stream",
     "text": [
      "200\n"
     ]
    }
   ],
   "source": [
    "# 4 -  Final query with filters\n",
    "\n",
    "response = requests.get('https://esploradati.istat.it/SDMXWS/rest/data/29_317_DF_DCIS_POPSTRCIT1_1/A.IT.FJAN.9..')\n",
    "print(response.status_code)\n",
    "\n",
    "if response.status_code == 200:\n",
    "    content = response.content\n",
    "    \n",
    "    if len(content) > 0:\n",
    "        try:\n",
    "            xml_data = xmltodict.parse(content)\n",
    "            json_string_data = json.dumps(xml_data,\n",
    "                                    allow_nan = True, # If we hadn't set allow_nan to\n",
    "                                                      # true we would have got\n",
    "                                                      # ValueError: Out of range float\n",
    "                                                      # values are not JSON compliant\n",
    "                                    indent = 6) # Indentation can be used for pretty-printing\n",
    "            # Now you can work with the parsed JSON data\n",
    "        except json.JSONDecodeError as e:\n",
    "            print(\"Error decoding JSON:\", e)\n",
    "    else:\n",
    "        print(\"Empty content received.\")\n",
    "else:\n",
    "    print(\"Request failed with status code:\", response.status_code)\n",
    "\n",
    "# Uncomment the following line to see the resulting JSON string\n",
    "#print(json_string_data)"
   ]
  },
  {
   "cell_type": "code",
   "execution_count": 7,
   "id": "a35217ac-a0b1-410a-b571-1e7f25b00354",
   "metadata": {},
   "outputs": [],
   "source": [
    "import json\n",
    "\n",
    "# Assuming json_string_data contains the JSON structure provided\n",
    "\n",
    "data = json.loads(json_string_data)\n",
    "\n",
    "result = []\n",
    "\n",
    "for series in data['message:GenericData']['message:DataSet']['generic:Series']:\n",
    "    series_key = series['generic:SeriesKey']['generic:Value']\n",
    "    obs_list = series['generic:Obs']\n",
    "    \n",
    "    territory = None\n",
    "    sex = None\n",
    "    citizenship = None\n",
    "    \n",
    "    for item in series_key:\n",
    "        if item['@id'] == 'REF_AREA':\n",
    "            territory = item['@value']\n",
    "        elif item['@id'] == 'SEX':\n",
    "            sex = item['@value']\n",
    "        elif item['@id'] == 'CITIZENSHIP':\n",
    "            citizenship = item['@value']\n",
    "    \n",
    "    for obs in obs_list:\n",
    "        if isinstance(obs, dict):\n",
    "            obs_dimensions = obs.get('generic:ObsDimension')\n",
    "            if isinstance(obs_dimensions, dict) and obs_dimensions.get('@id') == 'TIME_PERIOD':\n",
    "                year = int(obs_dimensions.get('@value'))\n",
    "                obs_value = obs['generic:ObsValue']['@value']\n",
    "                population = int(obs_value)\n",
    "                \n",
    "                result.append({\n",
    "                    'TERRITORY': territory,\n",
    "                    'YEAR': year,\n",
    "                    'SEX': sex,\n",
    "                    'CITIZENSHIP': citizenship,\n",
    "                    'POPULATION': population\n",
    "                })\n",
    "\n",
    "# Convert the result list to JSON\n",
    "cleaned_json = json.dumps(result, indent=4)\n",
    "#print(cleaned_json)"
   ]
  },
  {
   "cell_type": "code",
   "execution_count": 8,
   "id": "df3dafc6-0d58-413a-88c9-a29c22660dca",
   "metadata": {},
   "outputs": [],
   "source": [
    "# Convert the cleaned JSON string back to a list of dictionaries\n",
    "data = json.loads(cleaned_json)\n",
    "\n",
    "# Filter out entries with specific citizenship values\n",
    "filtered_data = [entry for entry in data if entry['CITIZENSHIP'] not in ('ASI_W', 'ASI_E', 'XASI_C_S', 'AME_N', 'AME_C_S', 'EU28', 'AFR_E', 'AFR_C_S', 'AFR_W', 'AFR_N')]\n",
    "\n",
    "# Convert the filtered list back to JSON\n",
    "cleaned_filtered_json = json.dumps(filtered_data, indent=4)\n",
    "#print(cleaned_filtered_json)"
   ]
  },
  {
   "cell_type": "code",
   "execution_count": 10,
   "id": "e8ba1432-2ee2-40d7-a93d-e3314f00066f",
   "metadata": {},
   "outputs": [],
   "source": [
    "import json\n",
    "import pycountry\n",
    "# Assuming 'cleaned_filtered_json' contains the JSON data as a string after filtering\n",
    "\n",
    "# Convert the JSON string back to a list of dictionaries\n",
    "data = json.loads(cleaned_filtered_json)\n",
    "\n",
    "# Function to get country name from abbreviation\n",
    "def get_country_name(abbreviation):\n",
    "    try:\n",
    "        return pycountry.countries.get(alpha_2=abbreviation).name\n",
    "    except AttributeError:\n",
    "        return None\n",
    "\n",
    "# Iterate through the data and replace the abbreviations with country names\n",
    "for entry in data:\n",
    "    country_name = get_country_name(entry['CITIZENSHIP'])\n",
    "    if country_name:\n",
    "        entry['CITIZENSHIP'] = country_name\n",
    "\n",
    "# Convert the updated list back to JSON\n",
    "updated_json = json.dumps(data, indent=4)\n",
    "#print(updated_json)"
   ]
  },
  {
   "cell_type": "code",
   "execution_count": 11,
   "id": "f6c2f534-e314-4d87-b87c-058f28c96394",
   "metadata": {},
   "outputs": [
    {
     "name": "stdout",
     "output_type": "stream",
     "text": [
      "JSON data saved to: ../_datasets/Clean/D2/immigrants_citizenship.json\n"
     ]
    }
   ],
   "source": [
    "# Convert immigrants_distribution string to JSON object\n",
    "immigrants_citizenship_json = json.loads(updated_json)\n",
    "\n",
    "# Specify the folder path to save the JSON file\n",
    "folder_path = \"../_datasets/Clean/D2\"\n",
    "\n",
    "# Create the folder if it doesn't exist\n",
    "os.makedirs(folder_path, exist_ok=True)\n",
    "\n",
    "# Define the filename for the JSON file\n",
    "filename = \"immigrants_citizenship.json\"\n",
    "\n",
    "# Generate the file path\n",
    "file_path = os.path.join(folder_path, filename)\n",
    "\n",
    "# Save the immigrants_demographic JSON object to file\n",
    "with open(file_path, \"w\") as file:\n",
    "    json.dump(immigrants_citizenship_json, file, indent=4)\n",
    "\n",
    "print(f\"JSON data saved to: {file_path}\")"
   ]
  },
  {
   "cell_type": "markdown",
   "id": "67232512-4f87-4cb3-b1e8-e31082f43761",
   "metadata": {},
   "source": [
    "\n",
    "\n",
    "## RETRIVING GEOGRAPHICAL ARRIVAL FOR TOTAL IMMIGRANTS.\n",
    "\n",
    "We will use the same dataset for two different measures. We saw the one and we will also retrive the distribution of total immigrants divided by region.\n",
    "\n",
    "In order to do so we will mantain the same filters besides for the \n",
    "\n",
    "- \"CITIZENSHIP\" whete the geopolitical origin is declared, we will select the total.\n",
    "- \"TERRITORY_NEXT_RESID\" for the new residence's geographic area. In our case we decided to look at group of regions. So we filter for: ITC for Northwest Italy; ITD for Northeast Italy; ITE for Central Italy; ITF for South Italy; ITG Insular Italy (Sicily and Sardinia)."
   ]
  },
  {
   "cell_type": "code",
   "execution_count": 34,
   "id": "97b39172-0be5-4f2a-9186-e83da392fed7",
   "metadata": {},
   "outputs": [
    {
     "name": "stdout",
     "output_type": "stream",
     "text": [
      "200\n"
     ]
    },
    {
     "data": {
      "text/plain": [
       "str"
      ]
     },
     "execution_count": 34,
     "metadata": {},
     "output_type": "execute_result"
    }
   ],
   "source": [
    "# 5 - QUERY WITH FILTERS\n",
    "# Query all immigrants from the whole world, both sexes, every age, divided by region of arrival.\n",
    "response = requests.get('https://esploradati.istat.it/SDMXWS/rest/data/28_185/A..TREG.FREIGN..9.TOTAL.ITC+ITD+ITE+ITF+ITG.X1033.X1033')\n",
    "print(response.status_code)\n",
    "\n",
    "if response.status_code == 200:\n",
    "    content = response.content\n",
    "    \n",
    "    if len(content) > 0:\n",
    "        try:\n",
    "            xml_data = xmltodict.parse(content)\n",
    "            json_string_data = json.dumps(xml_data,\n",
    "                                    allow_nan = True, # If we hadn't set allow_nan to\n",
    "                                                      # true we would have got\n",
    "                                                      # ValueError: Out of range float\n",
    "                                                      # values are not JSON compliant\n",
    "                                    indent = 6) # Indentation can be used for pretty-printing\n",
    "            # Now you can work with the parsed JSON data\n",
    "        except json.JSONDecodeError as e:\n",
    "            print(\"Error decoding JSON:\", e)\n",
    "    else:\n",
    "        print(\"Empty content received.\")\n",
    "else:\n",
    "    print(\"Request failed with status code:\", response.status_code)\n",
    "\n",
    "# print(json_string_data)\n",
    "type(json_string_data)"
   ]
  },
  {
   "cell_type": "code",
   "execution_count": 1,
   "id": "e39923ff-3e61-4456-a666-6c9fdb449a8c",
   "metadata": {},
   "outputs": [
    {
     "ename": "NameError",
     "evalue": "name 'data' is not defined",
     "output_type": "error",
     "traceback": [
      "\u001b[0;31m---------------------------------------------------------------------------\u001b[0m",
      "\u001b[0;31mNameError\u001b[0m                                 Traceback (most recent call last)",
      "Cell \u001b[0;32mIn[1], line 3\u001b[0m\n\u001b[1;32m      1\u001b[0m region_data \u001b[38;5;241m=\u001b[39m {}\n\u001b[0;32m----> 3\u001b[0m series \u001b[38;5;241m=\u001b[39m \u001b[43mdata\u001b[49m[\u001b[38;5;124m'\u001b[39m\u001b[38;5;124mmessage:GenericData\u001b[39m\u001b[38;5;124m'\u001b[39m][\u001b[38;5;124m'\u001b[39m\u001b[38;5;124mmessage:DataSet\u001b[39m\u001b[38;5;124m'\u001b[39m][\u001b[38;5;124m'\u001b[39m\u001b[38;5;124mgeneric:Series\u001b[39m\u001b[38;5;124m'\u001b[39m]\n\u001b[1;32m      5\u001b[0m \u001b[38;5;28;01mfor\u001b[39;00m s \u001b[38;5;129;01min\u001b[39;00m series:\n\u001b[1;32m      6\u001b[0m     series_key \u001b[38;5;241m=\u001b[39m s[\u001b[38;5;124m'\u001b[39m\u001b[38;5;124mgeneric:SeriesKey\u001b[39m\u001b[38;5;124m'\u001b[39m][\u001b[38;5;124m'\u001b[39m\u001b[38;5;124mgeneric:Value\u001b[39m\u001b[38;5;124m'\u001b[39m]\n",
      "\u001b[0;31mNameError\u001b[0m: name 'data' is not defined"
     ]
    }
   ],
   "source": [
    "region_data = {}\n",
    "\n",
    "series = data['message:GenericData']['message:DataSet']['generic:Series']\n",
    "\n",
    "for s in series:\n",
    "    series_key = s['generic:SeriesKey']['generic:Value']\n",
    "    obs = s['generic:Obs']\n",
    "\n",
    "    region = None\n",
    "\n",
    "    for key in series_key:\n",
    "        if key['@id'] == 'TERRITORY_NEXT_RESID':\n",
    "            region = key['@value']\n",
    "            break\n",
    "\n",
    "    if region:\n",
    "        if region not in region_data:\n",
    "            region_data[region] = []\n",
    "\n",
    "        for o in obs:\n",
    "            year = int(o['generic:ObsDimension']['@value'])\n",
    "            value = o['generic:ObsValue']['@value']\n",
    "\n",
    "            # Set the year as a date type with the last day of the year\n",
    "            year_date = datetime(year=year, month=12, day=31)\n",
    "\n",
    "            region_data[region].append({\"date\": year_date.strftime(\"%Y-%m-%d\"), \"tot_immigrants\": int(value)})\n",
    "\n",
    "# Convert the region data to JSON\n",
    "region_json = json.dumps(region_data, indent=4)\n",
    "\n",
    "# print(region_json)\n",
    "type(region_json)"
   ]
  },
  {
   "cell_type": "code",
   "execution_count": 35,
   "id": "9f1f1515-f730-4e20-ae8f-95f0de4e6c15",
   "metadata": {},
   "outputs": [
    {
     "name": "stdout",
     "output_type": "stream",
     "text": [
      "JSON data saved to: ../_datasets/Clean/regional_immigration_data.json\n"
     ]
    }
   ],
   "source": [
    "# Save the new file\n",
    "\n",
    "# Specify the folder path to save the JSON file\n",
    "folder_path = \"../_datasets/Clean\"\n",
    "\n",
    "# Create the folder if it doesn't exist\n",
    "os.makedirs(folder_path, exist_ok=True)\n",
    "\n",
    "# Define the filename for the JSON file\n",
    "filename = \"regional_immigration_data.json\"\n",
    "\n",
    "# Generate the file path\n",
    "file_path = os.path.join(folder_path, filename)\n",
    "\n",
    "# Save the continent JSON to the file\n",
    "with open(file_path, \"w\") as file:\n",
    "    json.dump(region_data, file, indent=4)\n",
    "\n",
    "print(f\"JSON data saved to: {file_path}\")"
   ]
  }
 ],
 "metadata": {
  "kernelspec": {
   "display_name": "Python 3 (ipykernel)",
   "language": "python",
   "name": "python3"
  },
  "language_info": {
   "codemirror_mode": {
    "name": "ipython",
    "version": 3
   },
   "file_extension": ".py",
   "mimetype": "text/x-python",
   "name": "python",
   "nbconvert_exporter": "python",
   "pygments_lexer": "ipython3",
   "version": "3.11.5"
  }
 },
 "nbformat": 4,
 "nbformat_minor": 5
}
