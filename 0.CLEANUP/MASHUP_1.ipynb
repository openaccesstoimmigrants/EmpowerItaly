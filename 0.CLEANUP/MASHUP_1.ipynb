{
 "cells": [
  {
   "cell_type": "code",
   "execution_count": 2,
   "id": "f5625c4d-ae71-4169-91f2-c113158c8899",
   "metadata": {},
   "outputs": [],
   "source": [
    "import pandas as pd\n",
    "import json\n",
    "import os"
   ]
  },
  {
   "cell_type": "code",
   "execution_count": 4,
   "id": "9448b561-6342-4191-b037-bf41a4ffd2b8",
   "metadata": {},
   "outputs": [
    {
     "name": "stdout",
     "output_type": "stream",
     "text": [
      "JSON data saved to: ../_datasets/Clean/MASHUP_1/mashup_1.json\n"
     ]
    }
   ],
   "source": [
    "# Read the CSV file\n",
    "df = pd.read_csv('../2.VISUALIZE/mashupVizEnvironment/dunnoMashup.csv')\n",
    "\n",
    "# Drop the 'Unnamed: 0' column\n",
    "df = df.drop('Unnamed: 0', axis=1)\n",
    "\n",
    "# Convert DataFrame to JSON\n",
    "json_data = df.to_json(orient='records')\n",
    "\n",
    "# Save the new file\n",
    "\n",
    "# Specify the folder path to save the JSON file\n",
    "folder_path = \"../_datasets/Clean/MASHUP_1/\"\n",
    "\n",
    "# Create the folder if it doesn't exist\n",
    "os.makedirs(folder_path, exist_ok=True)\n",
    "\n",
    "# Define the filename for the JSON file\n",
    "filename = \"mashup_1.json\"\n",
    "\n",
    "# Generate the file path\n",
    "file_path = os.path.join(folder_path, filename)\n",
    "\n",
    "# Write JSON data to a file\n",
    "with open(file_path, \"w\") as file:\n",
    "    file.write(json_data)\n",
    "\n",
    "print(f\"JSON data saved to: {file_path}\")"
   ]
  },
  {
   "cell_type": "code",
   "execution_count": null,
   "id": "2b67705f-9dca-43b0-959f-c367635ac1bd",
   "metadata": {},
   "outputs": [],
   "source": []
  }
 ],
 "metadata": {
  "kernelspec": {
   "display_name": "Python 3 (ipykernel)",
   "language": "python",
   "name": "python3"
  },
  "language_info": {
   "codemirror_mode": {
    "name": "ipython",
    "version": 3
   },
   "file_extension": ".py",
   "mimetype": "text/x-python",
   "name": "python",
   "nbconvert_exporter": "python",
   "pygments_lexer": "ipython3",
   "version": "3.9.7"
  }
 },
 "nbformat": 4,
 "nbformat_minor": 5
}
