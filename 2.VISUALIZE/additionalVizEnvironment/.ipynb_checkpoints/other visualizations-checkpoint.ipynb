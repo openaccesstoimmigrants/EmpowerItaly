{
 "cells": [
  {
   "cell_type": "code",
   "execution_count": 1,
   "id": "b068bf69",
   "metadata": {},
   "outputs": [
    {
     "name": "stdout",
     "output_type": "stream",
     "text": [
      "Requirement already satisfied: pandas in c:\\users\\user\\anaconda3\\lib\\site-packages (1.3.4)\n",
      "Requirement already satisfied: python-dateutil>=2.7.3 in c:\\users\\user\\anaconda3\\lib\\site-packages (from pandas) (2.8.2)\n",
      "Requirement already satisfied: pytz>=2017.3 in c:\\users\\user\\anaconda3\\lib\\site-packages (from pandas) (2021.3)\n",
      "Requirement already satisfied: numpy>=1.17.3 in c:\\users\\user\\anaconda3\\lib\\site-packages (from pandas) (1.20.3)\n",
      "Requirement already satisfied: six>=1.5 in c:\\users\\user\\anaconda3\\lib\\site-packages (from python-dateutil>=2.7.3->pandas) (1.16.0)\n"
     ]
    },
    {
     "name": "stderr",
     "output_type": "stream",
     "text": [
      "\n",
      "[notice] A new release of pip is available: 23.1 -> 23.3.1\n",
      "[notice] To update, run: python.exe -m pip install --upgrade pip\n"
     ]
    },
    {
     "name": "stdout",
     "output_type": "stream",
     "text": [
      "Requirement already satisfied: seaborn in c:\\users\\user\\anaconda3\\lib\\site-packages (0.11.2)\n",
      "Requirement already satisfied: numpy>=1.15 in c:\\users\\user\\anaconda3\\lib\\site-packages (from seaborn) (1.20.3)\n",
      "Requirement already satisfied: scipy>=1.0 in c:\\users\\user\\anaconda3\\lib\\site-packages (from seaborn) (1.7.1)\n",
      "Requirement already satisfied: pandas>=0.23 in c:\\users\\user\\anaconda3\\lib\\site-packages (from seaborn) (1.3.4)\n",
      "Requirement already satisfied: matplotlib>=2.2 in c:\\users\\user\\anaconda3\\lib\\site-packages (from seaborn) (3.4.3)\n",
      "Requirement already satisfied: cycler>=0.10 in c:\\users\\user\\anaconda3\\lib\\site-packages (from matplotlib>=2.2->seaborn) (0.10.0)\n",
      "Requirement already satisfied: kiwisolver>=1.0.1 in c:\\users\\user\\anaconda3\\lib\\site-packages (from matplotlib>=2.2->seaborn) (1.3.1)\n",
      "Requirement already satisfied: pillow>=6.2.0 in c:\\users\\user\\anaconda3\\lib\\site-packages (from matplotlib>=2.2->seaborn) (8.4.0)\n",
      "Requirement already satisfied: pyparsing>=2.2.1 in c:\\users\\user\\anaconda3\\lib\\site-packages (from matplotlib>=2.2->seaborn) (3.0.4)\n",
      "Requirement already satisfied: python-dateutil>=2.7 in c:\\users\\user\\anaconda3\\lib\\site-packages (from matplotlib>=2.2->seaborn) (2.8.2)\n",
      "Requirement already satisfied: pytz>=2017.3 in c:\\users\\user\\anaconda3\\lib\\site-packages (from pandas>=0.23->seaborn) (2021.3)\n",
      "Requirement already satisfied: six in c:\\users\\user\\anaconda3\\lib\\site-packages (from cycler>=0.10->matplotlib>=2.2->seaborn) (1.16.0)\n"
     ]
    },
    {
     "name": "stderr",
     "output_type": "stream",
     "text": [
      "\n",
      "[notice] A new release of pip is available: 23.1 -> 23.3.1\n",
      "[notice] To update, run: python.exe -m pip install --upgrade pip\n"
     ]
    },
    {
     "name": "stdout",
     "output_type": "stream",
     "text": [
      "Requirement already satisfied: matplotlib in c:\\users\\user\\anaconda3\\lib\\site-packages (3.4.3)"
     ]
    },
    {
     "name": "stderr",
     "output_type": "stream",
     "text": [
      "\n",
      "[notice] A new release of pip is available: 23.1 -> 23.3.1\n",
      "[notice] To update, run: python.exe -m pip install --upgrade pip\n"
     ]
    },
    {
     "name": "stdout",
     "output_type": "stream",
     "text": [
      "\n",
      "Requirement already satisfied: cycler>=0.10 in c:\\users\\user\\anaconda3\\lib\\site-packages (from matplotlib) (0.10.0)\n",
      "Requirement already satisfied: kiwisolver>=1.0.1 in c:\\users\\user\\anaconda3\\lib\\site-packages (from matplotlib) (1.3.1)\n",
      "Requirement already satisfied: numpy>=1.16 in c:\\users\\user\\anaconda3\\lib\\site-packages (from matplotlib) (1.20.3)\n",
      "Requirement already satisfied: pillow>=6.2.0 in c:\\users\\user\\anaconda3\\lib\\site-packages (from matplotlib) (8.4.0)\n",
      "Requirement already satisfied: pyparsing>=2.2.1 in c:\\users\\user\\anaconda3\\lib\\site-packages (from matplotlib) (3.0.4)\n",
      "Requirement already satisfied: python-dateutil>=2.7 in c:\\users\\user\\anaconda3\\lib\\site-packages (from matplotlib) (2.8.2)\n",
      "Requirement already satisfied: six in c:\\users\\user\\anaconda3\\lib\\site-packages (from cycler>=0.10->matplotlib) (1.16.0)\n"
     ]
    },
    {
     "name": "stderr",
     "output_type": "stream",
     "text": [
      "\n",
      "[notice] A new release of pip is available: 23.1 -> 23.3.1\n",
      "[notice] To update, run: python.exe -m pip install --upgrade pip\n"
     ]
    },
    {
     "name": "stdout",
     "output_type": "stream",
     "text": [
      "Requirement already satisfied: mpld3 in c:\\users\\user\\anaconda3\\lib\\site-packages (0.5.9)\n",
      "Requirement already satisfied: jinja2 in c:\\users\\user\\anaconda3\\lib\\site-packages (from mpld3) (2.11.3)\n",
      "Requirement already satisfied: matplotlib in c:\\users\\user\\anaconda3\\lib\\site-packages (from mpld3) (3.4.3)\n",
      "Requirement already satisfied: MarkupSafe>=0.23 in c:\\users\\user\\anaconda3\\lib\\site-packages (from jinja2->mpld3) (1.1.1)\n",
      "Requirement already satisfied: cycler>=0.10 in c:\\users\\user\\anaconda3\\lib\\site-packages (from matplotlib->mpld3) (0.10.0)\n",
      "Requirement already satisfied: kiwisolver>=1.0.1 in c:\\users\\user\\anaconda3\\lib\\site-packages (from matplotlib->mpld3) (1.3.1)\n",
      "Requirement already satisfied: numpy>=1.16 in c:\\users\\user\\anaconda3\\lib\\site-packages (from matplotlib->mpld3) (1.20.3)\n",
      "Requirement already satisfied: pillow>=6.2.0 in c:\\users\\user\\anaconda3\\lib\\site-packages (from matplotlib->mpld3) (8.4.0)\n",
      "Requirement already satisfied: pyparsing>=2.2.1 in c:\\users\\user\\anaconda3\\lib\\site-packages (from matplotlib->mpld3) (3.0.4)\n",
      "Requirement already satisfied: python-dateutil>=2.7 in c:\\users\\user\\anaconda3\\lib\\site-packages (from matplotlib->mpld3) (2.8.2)\n",
      "Requirement already satisfied: six in c:\\users\\user\\anaconda3\\lib\\site-packages (from cycler>=0.10->matplotlib->mpld3) (1.16.0)\n"
     ]
    }
   ],
   "source": [
    "!pip install pandas\n",
    "!pip install seaborn\n",
    "!pip install matplotlib\n",
    "!pip install mpld3\n",
    "import pandas as pd\n",
    "from pandas import read_csv\n",
    "import matplotlib.pyplot as plt\n",
    "import matplotlib.cm as cm\n",
    "import numpy as np\n",
    "import json\n",
    "import os"
   ]
  },
  {
   "cell_type": "code",
   "execution_count": 12,
   "id": "202dbe88",
   "metadata": {},
   "outputs": [
    {
     "data": {
      "text/html": [
       "<div>\n",
       "<style scoped>\n",
       "    .dataframe tbody tr th:only-of-type {\n",
       "        vertical-align: middle;\n",
       "    }\n",
       "\n",
       "    .dataframe tbody tr th {\n",
       "        vertical-align: top;\n",
       "    }\n",
       "\n",
       "    .dataframe thead th {\n",
       "        text-align: right;\n",
       "    }\n",
       "</style>\n",
       "<table border=\"1\" class=\"dataframe\">\n",
       "  <thead>\n",
       "    <tr style=\"text-align: right;\">\n",
       "      <th></th>\n",
       "      <th>DATAFLOW</th>\n",
       "      <th>LAST UPDATE</th>\n",
       "      <th>freq</th>\n",
       "      <th>unit</th>\n",
       "      <th>sex</th>\n",
       "      <th>isced11</th>\n",
       "      <th>c_birth</th>\n",
       "      <th>age</th>\n",
       "      <th>geo</th>\n",
       "      <th>TIME_PERIOD</th>\n",
       "      <th>OBS_VALUE</th>\n",
       "      <th>OBS_FLAG</th>\n",
       "    </tr>\n",
       "  </thead>\n",
       "  <tbody>\n",
       "    <tr>\n",
       "      <th>0</th>\n",
       "      <td>ESTAT:EDAT_LFS_9917(1.0)</td>\n",
       "      <td>14/09/23 23:00:00</td>\n",
       "      <td>A</td>\n",
       "      <td>PC</td>\n",
       "      <td>T</td>\n",
       "      <td>ED0-2</td>\n",
       "      <td>FOR</td>\n",
       "      <td>Y15-64</td>\n",
       "      <td>IT</td>\n",
       "      <td>2013</td>\n",
       "      <td>47.3</td>\n",
       "      <td>NaN</td>\n",
       "    </tr>\n",
       "    <tr>\n",
       "      <th>1</th>\n",
       "      <td>ESTAT:EDAT_LFS_9917(1.0)</td>\n",
       "      <td>14/09/23 23:00:00</td>\n",
       "      <td>A</td>\n",
       "      <td>PC</td>\n",
       "      <td>T</td>\n",
       "      <td>ED0-2</td>\n",
       "      <td>FOR</td>\n",
       "      <td>Y15-64</td>\n",
       "      <td>IT</td>\n",
       "      <td>2014</td>\n",
       "      <td>47.0</td>\n",
       "      <td>b</td>\n",
       "    </tr>\n",
       "    <tr>\n",
       "      <th>2</th>\n",
       "      <td>ESTAT:EDAT_LFS_9917(1.0)</td>\n",
       "      <td>14/09/23 23:00:00</td>\n",
       "      <td>A</td>\n",
       "      <td>PC</td>\n",
       "      <td>T</td>\n",
       "      <td>ED0-2</td>\n",
       "      <td>FOR</td>\n",
       "      <td>Y15-64</td>\n",
       "      <td>IT</td>\n",
       "      <td>2015</td>\n",
       "      <td>47.2</td>\n",
       "      <td>NaN</td>\n",
       "    </tr>\n",
       "    <tr>\n",
       "      <th>3</th>\n",
       "      <td>ESTAT:EDAT_LFS_9917(1.0)</td>\n",
       "      <td>14/09/23 23:00:00</td>\n",
       "      <td>A</td>\n",
       "      <td>PC</td>\n",
       "      <td>T</td>\n",
       "      <td>ED0-2</td>\n",
       "      <td>FOR</td>\n",
       "      <td>Y15-64</td>\n",
       "      <td>IT</td>\n",
       "      <td>2016</td>\n",
       "      <td>49.1</td>\n",
       "      <td>NaN</td>\n",
       "    </tr>\n",
       "    <tr>\n",
       "      <th>4</th>\n",
       "      <td>ESTAT:EDAT_LFS_9917(1.0)</td>\n",
       "      <td>14/09/23 23:00:00</td>\n",
       "      <td>A</td>\n",
       "      <td>PC</td>\n",
       "      <td>T</td>\n",
       "      <td>ED0-2</td>\n",
       "      <td>FOR</td>\n",
       "      <td>Y15-64</td>\n",
       "      <td>IT</td>\n",
       "      <td>2017</td>\n",
       "      <td>50.2</td>\n",
       "      <td>NaN</td>\n",
       "    </tr>\n",
       "    <tr>\n",
       "      <th>5</th>\n",
       "      <td>ESTAT:EDAT_LFS_9917(1.0)</td>\n",
       "      <td>14/09/23 23:00:00</td>\n",
       "      <td>A</td>\n",
       "      <td>PC</td>\n",
       "      <td>T</td>\n",
       "      <td>ED0-2</td>\n",
       "      <td>FOR</td>\n",
       "      <td>Y15-64</td>\n",
       "      <td>IT</td>\n",
       "      <td>2018</td>\n",
       "      <td>50.3</td>\n",
       "      <td>NaN</td>\n",
       "    </tr>\n",
       "    <tr>\n",
       "      <th>6</th>\n",
       "      <td>ESTAT:EDAT_LFS_9917(1.0)</td>\n",
       "      <td>14/09/23 23:00:00</td>\n",
       "      <td>A</td>\n",
       "      <td>PC</td>\n",
       "      <td>T</td>\n",
       "      <td>ED0-2</td>\n",
       "      <td>FOR</td>\n",
       "      <td>Y15-64</td>\n",
       "      <td>IT</td>\n",
       "      <td>2019</td>\n",
       "      <td>50.1</td>\n",
       "      <td>NaN</td>\n",
       "    </tr>\n",
       "    <tr>\n",
       "      <th>7</th>\n",
       "      <td>ESTAT:EDAT_LFS_9917(1.0)</td>\n",
       "      <td>14/09/23 23:00:00</td>\n",
       "      <td>A</td>\n",
       "      <td>PC</td>\n",
       "      <td>T</td>\n",
       "      <td>ED0-2</td>\n",
       "      <td>FOR</td>\n",
       "      <td>Y15-64</td>\n",
       "      <td>IT</td>\n",
       "      <td>2020</td>\n",
       "      <td>50.3</td>\n",
       "      <td>NaN</td>\n",
       "    </tr>\n",
       "    <tr>\n",
       "      <th>8</th>\n",
       "      <td>ESTAT:EDAT_LFS_9917(1.0)</td>\n",
       "      <td>14/09/23 23:00:00</td>\n",
       "      <td>A</td>\n",
       "      <td>PC</td>\n",
       "      <td>T</td>\n",
       "      <td>ED0-2</td>\n",
       "      <td>FOR</td>\n",
       "      <td>Y15-64</td>\n",
       "      <td>IT</td>\n",
       "      <td>2021</td>\n",
       "      <td>49.2</td>\n",
       "      <td>b</td>\n",
       "    </tr>\n",
       "    <tr>\n",
       "      <th>9</th>\n",
       "      <td>ESTAT:EDAT_LFS_9917(1.0)</td>\n",
       "      <td>14/09/23 23:00:00</td>\n",
       "      <td>A</td>\n",
       "      <td>PC</td>\n",
       "      <td>T</td>\n",
       "      <td>ED0-2</td>\n",
       "      <td>FOR</td>\n",
       "      <td>Y15-64</td>\n",
       "      <td>IT</td>\n",
       "      <td>2022</td>\n",
       "      <td>47.6</td>\n",
       "      <td>NaN</td>\n",
       "    </tr>\n",
       "    <tr>\n",
       "      <th>10</th>\n",
       "      <td>ESTAT:EDAT_LFS_9917(1.0)</td>\n",
       "      <td>14/09/23 23:00:00</td>\n",
       "      <td>A</td>\n",
       "      <td>PC</td>\n",
       "      <td>T</td>\n",
       "      <td>ED0-2</td>\n",
       "      <td>FOR</td>\n",
       "      <td>Y25-64</td>\n",
       "      <td>IT</td>\n",
       "      <td>2013</td>\n",
       "      <td>44.8</td>\n",
       "      <td>NaN</td>\n",
       "    </tr>\n",
       "    <tr>\n",
       "      <th>11</th>\n",
       "      <td>ESTAT:EDAT_LFS_9917(1.0)</td>\n",
       "      <td>14/09/23 23:00:00</td>\n",
       "      <td>A</td>\n",
       "      <td>PC</td>\n",
       "      <td>T</td>\n",
       "      <td>ED0-2</td>\n",
       "      <td>FOR</td>\n",
       "      <td>Y25-64</td>\n",
       "      <td>IT</td>\n",
       "      <td>2014</td>\n",
       "      <td>44.6</td>\n",
       "      <td>b</td>\n",
       "    </tr>\n",
       "    <tr>\n",
       "      <th>12</th>\n",
       "      <td>ESTAT:EDAT_LFS_9917(1.0)</td>\n",
       "      <td>14/09/23 23:00:00</td>\n",
       "      <td>A</td>\n",
       "      <td>PC</td>\n",
       "      <td>T</td>\n",
       "      <td>ED0-2</td>\n",
       "      <td>FOR</td>\n",
       "      <td>Y25-64</td>\n",
       "      <td>IT</td>\n",
       "      <td>2015</td>\n",
       "      <td>44.8</td>\n",
       "      <td>NaN</td>\n",
       "    </tr>\n",
       "    <tr>\n",
       "      <th>13</th>\n",
       "      <td>ESTAT:EDAT_LFS_9917(1.0)</td>\n",
       "      <td>14/09/23 23:00:00</td>\n",
       "      <td>A</td>\n",
       "      <td>PC</td>\n",
       "      <td>T</td>\n",
       "      <td>ED0-2</td>\n",
       "      <td>FOR</td>\n",
       "      <td>Y25-64</td>\n",
       "      <td>IT</td>\n",
       "      <td>2016</td>\n",
       "      <td>47.1</td>\n",
       "      <td>NaN</td>\n",
       "    </tr>\n",
       "    <tr>\n",
       "      <th>14</th>\n",
       "      <td>ESTAT:EDAT_LFS_9917(1.0)</td>\n",
       "      <td>14/09/23 23:00:00</td>\n",
       "      <td>A</td>\n",
       "      <td>PC</td>\n",
       "      <td>T</td>\n",
       "      <td>ED0-2</td>\n",
       "      <td>FOR</td>\n",
       "      <td>Y25-64</td>\n",
       "      <td>IT</td>\n",
       "      <td>2017</td>\n",
       "      <td>48.7</td>\n",
       "      <td>NaN</td>\n",
       "    </tr>\n",
       "    <tr>\n",
       "      <th>15</th>\n",
       "      <td>ESTAT:EDAT_LFS_9917(1.0)</td>\n",
       "      <td>14/09/23 23:00:00</td>\n",
       "      <td>A</td>\n",
       "      <td>PC</td>\n",
       "      <td>T</td>\n",
       "      <td>ED0-2</td>\n",
       "      <td>FOR</td>\n",
       "      <td>Y25-64</td>\n",
       "      <td>IT</td>\n",
       "      <td>2018</td>\n",
       "      <td>48.5</td>\n",
       "      <td>NaN</td>\n",
       "    </tr>\n",
       "    <tr>\n",
       "      <th>16</th>\n",
       "      <td>ESTAT:EDAT_LFS_9917(1.0)</td>\n",
       "      <td>14/09/23 23:00:00</td>\n",
       "      <td>A</td>\n",
       "      <td>PC</td>\n",
       "      <td>T</td>\n",
       "      <td>ED0-2</td>\n",
       "      <td>FOR</td>\n",
       "      <td>Y25-64</td>\n",
       "      <td>IT</td>\n",
       "      <td>2019</td>\n",
       "      <td>48.6</td>\n",
       "      <td>NaN</td>\n",
       "    </tr>\n",
       "    <tr>\n",
       "      <th>17</th>\n",
       "      <td>ESTAT:EDAT_LFS_9917(1.0)</td>\n",
       "      <td>14/09/23 23:00:00</td>\n",
       "      <td>A</td>\n",
       "      <td>PC</td>\n",
       "      <td>T</td>\n",
       "      <td>ED0-2</td>\n",
       "      <td>FOR</td>\n",
       "      <td>Y25-64</td>\n",
       "      <td>IT</td>\n",
       "      <td>2020</td>\n",
       "      <td>49.2</td>\n",
       "      <td>NaN</td>\n",
       "    </tr>\n",
       "    <tr>\n",
       "      <th>18</th>\n",
       "      <td>ESTAT:EDAT_LFS_9917(1.0)</td>\n",
       "      <td>14/09/23 23:00:00</td>\n",
       "      <td>A</td>\n",
       "      <td>PC</td>\n",
       "      <td>T</td>\n",
       "      <td>ED0-2</td>\n",
       "      <td>FOR</td>\n",
       "      <td>Y25-64</td>\n",
       "      <td>IT</td>\n",
       "      <td>2021</td>\n",
       "      <td>48.1</td>\n",
       "      <td>b</td>\n",
       "    </tr>\n",
       "    <tr>\n",
       "      <th>19</th>\n",
       "      <td>ESTAT:EDAT_LFS_9917(1.0)</td>\n",
       "      <td>14/09/23 23:00:00</td>\n",
       "      <td>A</td>\n",
       "      <td>PC</td>\n",
       "      <td>T</td>\n",
       "      <td>ED0-2</td>\n",
       "      <td>FOR</td>\n",
       "      <td>Y25-64</td>\n",
       "      <td>IT</td>\n",
       "      <td>2022</td>\n",
       "      <td>46.6</td>\n",
       "      <td>NaN</td>\n",
       "    </tr>\n",
       "    <tr>\n",
       "      <th>20</th>\n",
       "      <td>ESTAT:EDAT_LFS_9917(1.0)</td>\n",
       "      <td>14/09/23 23:00:00</td>\n",
       "      <td>A</td>\n",
       "      <td>PC</td>\n",
       "      <td>T</td>\n",
       "      <td>ED3_4</td>\n",
       "      <td>FOR</td>\n",
       "      <td>Y15-64</td>\n",
       "      <td>IT</td>\n",
       "      <td>2013</td>\n",
       "      <td>41.6</td>\n",
       "      <td>NaN</td>\n",
       "    </tr>\n",
       "    <tr>\n",
       "      <th>21</th>\n",
       "      <td>ESTAT:EDAT_LFS_9917(1.0)</td>\n",
       "      <td>14/09/23 23:00:00</td>\n",
       "      <td>A</td>\n",
       "      <td>PC</td>\n",
       "      <td>T</td>\n",
       "      <td>ED3_4</td>\n",
       "      <td>FOR</td>\n",
       "      <td>Y15-64</td>\n",
       "      <td>IT</td>\n",
       "      <td>2014</td>\n",
       "      <td>41.6</td>\n",
       "      <td>b</td>\n",
       "    </tr>\n",
       "    <tr>\n",
       "      <th>22</th>\n",
       "      <td>ESTAT:EDAT_LFS_9917(1.0)</td>\n",
       "      <td>14/09/23 23:00:00</td>\n",
       "      <td>A</td>\n",
       "      <td>PC</td>\n",
       "      <td>T</td>\n",
       "      <td>ED3_4</td>\n",
       "      <td>FOR</td>\n",
       "      <td>Y15-64</td>\n",
       "      <td>IT</td>\n",
       "      <td>2015</td>\n",
       "      <td>40.7</td>\n",
       "      <td>NaN</td>\n",
       "    </tr>\n",
       "    <tr>\n",
       "      <th>23</th>\n",
       "      <td>ESTAT:EDAT_LFS_9917(1.0)</td>\n",
       "      <td>14/09/23 23:00:00</td>\n",
       "      <td>A</td>\n",
       "      <td>PC</td>\n",
       "      <td>T</td>\n",
       "      <td>ED3_4</td>\n",
       "      <td>FOR</td>\n",
       "      <td>Y15-64</td>\n",
       "      <td>IT</td>\n",
       "      <td>2016</td>\n",
       "      <td>39.1</td>\n",
       "      <td>NaN</td>\n",
       "    </tr>\n",
       "    <tr>\n",
       "      <th>24</th>\n",
       "      <td>ESTAT:EDAT_LFS_9917(1.0)</td>\n",
       "      <td>14/09/23 23:00:00</td>\n",
       "      <td>A</td>\n",
       "      <td>PC</td>\n",
       "      <td>T</td>\n",
       "      <td>ED3_4</td>\n",
       "      <td>FOR</td>\n",
       "      <td>Y15-64</td>\n",
       "      <td>IT</td>\n",
       "      <td>2017</td>\n",
       "      <td>37.5</td>\n",
       "      <td>NaN</td>\n",
       "    </tr>\n",
       "    <tr>\n",
       "      <th>25</th>\n",
       "      <td>ESTAT:EDAT_LFS_9917(1.0)</td>\n",
       "      <td>14/09/23 23:00:00</td>\n",
       "      <td>A</td>\n",
       "      <td>PC</td>\n",
       "      <td>T</td>\n",
       "      <td>ED3_4</td>\n",
       "      <td>FOR</td>\n",
       "      <td>Y15-64</td>\n",
       "      <td>IT</td>\n",
       "      <td>2018</td>\n",
       "      <td>37.0</td>\n",
       "      <td>NaN</td>\n",
       "    </tr>\n",
       "    <tr>\n",
       "      <th>26</th>\n",
       "      <td>ESTAT:EDAT_LFS_9917(1.0)</td>\n",
       "      <td>14/09/23 23:00:00</td>\n",
       "      <td>A</td>\n",
       "      <td>PC</td>\n",
       "      <td>T</td>\n",
       "      <td>ED3_4</td>\n",
       "      <td>FOR</td>\n",
       "      <td>Y15-64</td>\n",
       "      <td>IT</td>\n",
       "      <td>2019</td>\n",
       "      <td>37.3</td>\n",
       "      <td>NaN</td>\n",
       "    </tr>\n",
       "    <tr>\n",
       "      <th>27</th>\n",
       "      <td>ESTAT:EDAT_LFS_9917(1.0)</td>\n",
       "      <td>14/09/23 23:00:00</td>\n",
       "      <td>A</td>\n",
       "      <td>PC</td>\n",
       "      <td>T</td>\n",
       "      <td>ED3_4</td>\n",
       "      <td>FOR</td>\n",
       "      <td>Y15-64</td>\n",
       "      <td>IT</td>\n",
       "      <td>2020</td>\n",
       "      <td>37.5</td>\n",
       "      <td>NaN</td>\n",
       "    </tr>\n",
       "    <tr>\n",
       "      <th>28</th>\n",
       "      <td>ESTAT:EDAT_LFS_9917(1.0)</td>\n",
       "      <td>14/09/23 23:00:00</td>\n",
       "      <td>A</td>\n",
       "      <td>PC</td>\n",
       "      <td>T</td>\n",
       "      <td>ED3_4</td>\n",
       "      <td>FOR</td>\n",
       "      <td>Y15-64</td>\n",
       "      <td>IT</td>\n",
       "      <td>2021</td>\n",
       "      <td>38.9</td>\n",
       "      <td>b</td>\n",
       "    </tr>\n",
       "    <tr>\n",
       "      <th>29</th>\n",
       "      <td>ESTAT:EDAT_LFS_9917(1.0)</td>\n",
       "      <td>14/09/23 23:00:00</td>\n",
       "      <td>A</td>\n",
       "      <td>PC</td>\n",
       "      <td>T</td>\n",
       "      <td>ED3_4</td>\n",
       "      <td>FOR</td>\n",
       "      <td>Y15-64</td>\n",
       "      <td>IT</td>\n",
       "      <td>2022</td>\n",
       "      <td>40.2</td>\n",
       "      <td>NaN</td>\n",
       "    </tr>\n",
       "    <tr>\n",
       "      <th>30</th>\n",
       "      <td>ESTAT:EDAT_LFS_9917(1.0)</td>\n",
       "      <td>14/09/23 23:00:00</td>\n",
       "      <td>A</td>\n",
       "      <td>PC</td>\n",
       "      <td>T</td>\n",
       "      <td>ED3_4</td>\n",
       "      <td>FOR</td>\n",
       "      <td>Y25-64</td>\n",
       "      <td>IT</td>\n",
       "      <td>2013</td>\n",
       "      <td>42.8</td>\n",
       "      <td>NaN</td>\n",
       "    </tr>\n",
       "    <tr>\n",
       "      <th>31</th>\n",
       "      <td>ESTAT:EDAT_LFS_9917(1.0)</td>\n",
       "      <td>14/09/23 23:00:00</td>\n",
       "      <td>A</td>\n",
       "      <td>PC</td>\n",
       "      <td>T</td>\n",
       "      <td>ED3_4</td>\n",
       "      <td>FOR</td>\n",
       "      <td>Y25-64</td>\n",
       "      <td>IT</td>\n",
       "      <td>2014</td>\n",
       "      <td>42.7</td>\n",
       "      <td>b</td>\n",
       "    </tr>\n",
       "    <tr>\n",
       "      <th>32</th>\n",
       "      <td>ESTAT:EDAT_LFS_9917(1.0)</td>\n",
       "      <td>14/09/23 23:00:00</td>\n",
       "      <td>A</td>\n",
       "      <td>PC</td>\n",
       "      <td>T</td>\n",
       "      <td>ED3_4</td>\n",
       "      <td>FOR</td>\n",
       "      <td>Y25-64</td>\n",
       "      <td>IT</td>\n",
       "      <td>2015</td>\n",
       "      <td>41.6</td>\n",
       "      <td>NaN</td>\n",
       "    </tr>\n",
       "    <tr>\n",
       "      <th>33</th>\n",
       "      <td>ESTAT:EDAT_LFS_9917(1.0)</td>\n",
       "      <td>14/09/23 23:00:00</td>\n",
       "      <td>A</td>\n",
       "      <td>PC</td>\n",
       "      <td>T</td>\n",
       "      <td>ED3_4</td>\n",
       "      <td>FOR</td>\n",
       "      <td>Y25-64</td>\n",
       "      <td>IT</td>\n",
       "      <td>2016</td>\n",
       "      <td>39.9</td>\n",
       "      <td>NaN</td>\n",
       "    </tr>\n",
       "    <tr>\n",
       "      <th>34</th>\n",
       "      <td>ESTAT:EDAT_LFS_9917(1.0)</td>\n",
       "      <td>14/09/23 23:00:00</td>\n",
       "      <td>A</td>\n",
       "      <td>PC</td>\n",
       "      <td>T</td>\n",
       "      <td>ED3_4</td>\n",
       "      <td>FOR</td>\n",
       "      <td>Y25-64</td>\n",
       "      <td>IT</td>\n",
       "      <td>2017</td>\n",
       "      <td>37.7</td>\n",
       "      <td>NaN</td>\n",
       "    </tr>\n",
       "    <tr>\n",
       "      <th>35</th>\n",
       "      <td>ESTAT:EDAT_LFS_9917(1.0)</td>\n",
       "      <td>14/09/23 23:00:00</td>\n",
       "      <td>A</td>\n",
       "      <td>PC</td>\n",
       "      <td>T</td>\n",
       "      <td>ED3_4</td>\n",
       "      <td>FOR</td>\n",
       "      <td>Y25-64</td>\n",
       "      <td>IT</td>\n",
       "      <td>2018</td>\n",
       "      <td>37.6</td>\n",
       "      <td>NaN</td>\n",
       "    </tr>\n",
       "    <tr>\n",
       "      <th>36</th>\n",
       "      <td>ESTAT:EDAT_LFS_9917(1.0)</td>\n",
       "      <td>14/09/23 23:00:00</td>\n",
       "      <td>A</td>\n",
       "      <td>PC</td>\n",
       "      <td>T</td>\n",
       "      <td>ED3_4</td>\n",
       "      <td>FOR</td>\n",
       "      <td>Y25-64</td>\n",
       "      <td>IT</td>\n",
       "      <td>2019</td>\n",
       "      <td>37.6</td>\n",
       "      <td>NaN</td>\n",
       "    </tr>\n",
       "    <tr>\n",
       "      <th>37</th>\n",
       "      <td>ESTAT:EDAT_LFS_9917(1.0)</td>\n",
       "      <td>14/09/23 23:00:00</td>\n",
       "      <td>A</td>\n",
       "      <td>PC</td>\n",
       "      <td>T</td>\n",
       "      <td>ED3_4</td>\n",
       "      <td>FOR</td>\n",
       "      <td>Y25-64</td>\n",
       "      <td>IT</td>\n",
       "      <td>2020</td>\n",
       "      <td>37.5</td>\n",
       "      <td>NaN</td>\n",
       "    </tr>\n",
       "    <tr>\n",
       "      <th>38</th>\n",
       "      <td>ESTAT:EDAT_LFS_9917(1.0)</td>\n",
       "      <td>14/09/23 23:00:00</td>\n",
       "      <td>A</td>\n",
       "      <td>PC</td>\n",
       "      <td>T</td>\n",
       "      <td>ED3_4</td>\n",
       "      <td>FOR</td>\n",
       "      <td>Y25-64</td>\n",
       "      <td>IT</td>\n",
       "      <td>2021</td>\n",
       "      <td>39.1</td>\n",
       "      <td>b</td>\n",
       "    </tr>\n",
       "    <tr>\n",
       "      <th>39</th>\n",
       "      <td>ESTAT:EDAT_LFS_9917(1.0)</td>\n",
       "      <td>14/09/23 23:00:00</td>\n",
       "      <td>A</td>\n",
       "      <td>PC</td>\n",
       "      <td>T</td>\n",
       "      <td>ED3_4</td>\n",
       "      <td>FOR</td>\n",
       "      <td>Y25-64</td>\n",
       "      <td>IT</td>\n",
       "      <td>2022</td>\n",
       "      <td>40.2</td>\n",
       "      <td>NaN</td>\n",
       "    </tr>\n",
       "    <tr>\n",
       "      <th>40</th>\n",
       "      <td>ESTAT:EDAT_LFS_9917(1.0)</td>\n",
       "      <td>14/09/23 23:00:00</td>\n",
       "      <td>A</td>\n",
       "      <td>PC</td>\n",
       "      <td>T</td>\n",
       "      <td>ED5-8</td>\n",
       "      <td>FOR</td>\n",
       "      <td>Y15-64</td>\n",
       "      <td>IT</td>\n",
       "      <td>2013</td>\n",
       "      <td>11.1</td>\n",
       "      <td>NaN</td>\n",
       "    </tr>\n",
       "    <tr>\n",
       "      <th>41</th>\n",
       "      <td>ESTAT:EDAT_LFS_9917(1.0)</td>\n",
       "      <td>14/09/23 23:00:00</td>\n",
       "      <td>A</td>\n",
       "      <td>PC</td>\n",
       "      <td>T</td>\n",
       "      <td>ED5-8</td>\n",
       "      <td>FOR</td>\n",
       "      <td>Y15-64</td>\n",
       "      <td>IT</td>\n",
       "      <td>2014</td>\n",
       "      <td>11.4</td>\n",
       "      <td>b</td>\n",
       "    </tr>\n",
       "    <tr>\n",
       "      <th>42</th>\n",
       "      <td>ESTAT:EDAT_LFS_9917(1.0)</td>\n",
       "      <td>14/09/23 23:00:00</td>\n",
       "      <td>A</td>\n",
       "      <td>PC</td>\n",
       "      <td>T</td>\n",
       "      <td>ED5-8</td>\n",
       "      <td>FOR</td>\n",
       "      <td>Y15-64</td>\n",
       "      <td>IT</td>\n",
       "      <td>2015</td>\n",
       "      <td>12.1</td>\n",
       "      <td>NaN</td>\n",
       "    </tr>\n",
       "    <tr>\n",
       "      <th>43</th>\n",
       "      <td>ESTAT:EDAT_LFS_9917(1.0)</td>\n",
       "      <td>14/09/23 23:00:00</td>\n",
       "      <td>A</td>\n",
       "      <td>PC</td>\n",
       "      <td>T</td>\n",
       "      <td>ED5-8</td>\n",
       "      <td>FOR</td>\n",
       "      <td>Y15-64</td>\n",
       "      <td>IT</td>\n",
       "      <td>2016</td>\n",
       "      <td>11.7</td>\n",
       "      <td>NaN</td>\n",
       "    </tr>\n",
       "    <tr>\n",
       "      <th>44</th>\n",
       "      <td>ESTAT:EDAT_LFS_9917(1.0)</td>\n",
       "      <td>14/09/23 23:00:00</td>\n",
       "      <td>A</td>\n",
       "      <td>PC</td>\n",
       "      <td>T</td>\n",
       "      <td>ED5-8</td>\n",
       "      <td>FOR</td>\n",
       "      <td>Y15-64</td>\n",
       "      <td>IT</td>\n",
       "      <td>2017</td>\n",
       "      <td>12.3</td>\n",
       "      <td>NaN</td>\n",
       "    </tr>\n",
       "    <tr>\n",
       "      <th>45</th>\n",
       "      <td>ESTAT:EDAT_LFS_9917(1.0)</td>\n",
       "      <td>14/09/23 23:00:00</td>\n",
       "      <td>A</td>\n",
       "      <td>PC</td>\n",
       "      <td>T</td>\n",
       "      <td>ED5-8</td>\n",
       "      <td>FOR</td>\n",
       "      <td>Y15-64</td>\n",
       "      <td>IT</td>\n",
       "      <td>2018</td>\n",
       "      <td>12.7</td>\n",
       "      <td>NaN</td>\n",
       "    </tr>\n",
       "    <tr>\n",
       "      <th>46</th>\n",
       "      <td>ESTAT:EDAT_LFS_9917(1.0)</td>\n",
       "      <td>14/09/23 23:00:00</td>\n",
       "      <td>A</td>\n",
       "      <td>PC</td>\n",
       "      <td>T</td>\n",
       "      <td>ED5-8</td>\n",
       "      <td>FOR</td>\n",
       "      <td>Y15-64</td>\n",
       "      <td>IT</td>\n",
       "      <td>2019</td>\n",
       "      <td>12.6</td>\n",
       "      <td>NaN</td>\n",
       "    </tr>\n",
       "    <tr>\n",
       "      <th>47</th>\n",
       "      <td>ESTAT:EDAT_LFS_9917(1.0)</td>\n",
       "      <td>14/09/23 23:00:00</td>\n",
       "      <td>A</td>\n",
       "      <td>PC</td>\n",
       "      <td>T</td>\n",
       "      <td>ED5-8</td>\n",
       "      <td>FOR</td>\n",
       "      <td>Y15-64</td>\n",
       "      <td>IT</td>\n",
       "      <td>2020</td>\n",
       "      <td>12.2</td>\n",
       "      <td>NaN</td>\n",
       "    </tr>\n",
       "    <tr>\n",
       "      <th>48</th>\n",
       "      <td>ESTAT:EDAT_LFS_9917(1.0)</td>\n",
       "      <td>14/09/23 23:00:00</td>\n",
       "      <td>A</td>\n",
       "      <td>PC</td>\n",
       "      <td>T</td>\n",
       "      <td>ED5-8</td>\n",
       "      <td>FOR</td>\n",
       "      <td>Y15-64</td>\n",
       "      <td>IT</td>\n",
       "      <td>2021</td>\n",
       "      <td>11.9</td>\n",
       "      <td>b</td>\n",
       "    </tr>\n",
       "    <tr>\n",
       "      <th>49</th>\n",
       "      <td>ESTAT:EDAT_LFS_9917(1.0)</td>\n",
       "      <td>14/09/23 23:00:00</td>\n",
       "      <td>A</td>\n",
       "      <td>PC</td>\n",
       "      <td>T</td>\n",
       "      <td>ED5-8</td>\n",
       "      <td>FOR</td>\n",
       "      <td>Y15-64</td>\n",
       "      <td>IT</td>\n",
       "      <td>2022</td>\n",
       "      <td>12.2</td>\n",
       "      <td>NaN</td>\n",
       "    </tr>\n",
       "    <tr>\n",
       "      <th>50</th>\n",
       "      <td>ESTAT:EDAT_LFS_9917(1.0)</td>\n",
       "      <td>14/09/23 23:00:00</td>\n",
       "      <td>A</td>\n",
       "      <td>PC</td>\n",
       "      <td>T</td>\n",
       "      <td>ED5-8</td>\n",
       "      <td>FOR</td>\n",
       "      <td>Y25-64</td>\n",
       "      <td>IT</td>\n",
       "      <td>2013</td>\n",
       "      <td>12.4</td>\n",
       "      <td>NaN</td>\n",
       "    </tr>\n",
       "    <tr>\n",
       "      <th>51</th>\n",
       "      <td>ESTAT:EDAT_LFS_9917(1.0)</td>\n",
       "      <td>14/09/23 23:00:00</td>\n",
       "      <td>A</td>\n",
       "      <td>PC</td>\n",
       "      <td>T</td>\n",
       "      <td>ED5-8</td>\n",
       "      <td>FOR</td>\n",
       "      <td>Y25-64</td>\n",
       "      <td>IT</td>\n",
       "      <td>2014</td>\n",
       "      <td>12.8</td>\n",
       "      <td>b</td>\n",
       "    </tr>\n",
       "    <tr>\n",
       "      <th>52</th>\n",
       "      <td>ESTAT:EDAT_LFS_9917(1.0)</td>\n",
       "      <td>14/09/23 23:00:00</td>\n",
       "      <td>A</td>\n",
       "      <td>PC</td>\n",
       "      <td>T</td>\n",
       "      <td>ED5-8</td>\n",
       "      <td>FOR</td>\n",
       "      <td>Y25-64</td>\n",
       "      <td>IT</td>\n",
       "      <td>2015</td>\n",
       "      <td>13.5</td>\n",
       "      <td>NaN</td>\n",
       "    </tr>\n",
       "    <tr>\n",
       "      <th>53</th>\n",
       "      <td>ESTAT:EDAT_LFS_9917(1.0)</td>\n",
       "      <td>14/09/23 23:00:00</td>\n",
       "      <td>A</td>\n",
       "      <td>PC</td>\n",
       "      <td>T</td>\n",
       "      <td>ED5-8</td>\n",
       "      <td>FOR</td>\n",
       "      <td>Y25-64</td>\n",
       "      <td>IT</td>\n",
       "      <td>2016</td>\n",
       "      <td>13.0</td>\n",
       "      <td>NaN</td>\n",
       "    </tr>\n",
       "    <tr>\n",
       "      <th>54</th>\n",
       "      <td>ESTAT:EDAT_LFS_9917(1.0)</td>\n",
       "      <td>14/09/23 23:00:00</td>\n",
       "      <td>A</td>\n",
       "      <td>PC</td>\n",
       "      <td>T</td>\n",
       "      <td>ED5-8</td>\n",
       "      <td>FOR</td>\n",
       "      <td>Y25-64</td>\n",
       "      <td>IT</td>\n",
       "      <td>2017</td>\n",
       "      <td>13.6</td>\n",
       "      <td>NaN</td>\n",
       "    </tr>\n",
       "    <tr>\n",
       "      <th>55</th>\n",
       "      <td>ESTAT:EDAT_LFS_9917(1.0)</td>\n",
       "      <td>14/09/23 23:00:00</td>\n",
       "      <td>A</td>\n",
       "      <td>PC</td>\n",
       "      <td>T</td>\n",
       "      <td>ED5-8</td>\n",
       "      <td>FOR</td>\n",
       "      <td>Y25-64</td>\n",
       "      <td>IT</td>\n",
       "      <td>2018</td>\n",
       "      <td>14.0</td>\n",
       "      <td>NaN</td>\n",
       "    </tr>\n",
       "    <tr>\n",
       "      <th>56</th>\n",
       "      <td>ESTAT:EDAT_LFS_9917(1.0)</td>\n",
       "      <td>14/09/23 23:00:00</td>\n",
       "      <td>A</td>\n",
       "      <td>PC</td>\n",
       "      <td>T</td>\n",
       "      <td>ED5-8</td>\n",
       "      <td>FOR</td>\n",
       "      <td>Y25-64</td>\n",
       "      <td>IT</td>\n",
       "      <td>2019</td>\n",
       "      <td>13.8</td>\n",
       "      <td>NaN</td>\n",
       "    </tr>\n",
       "    <tr>\n",
       "      <th>57</th>\n",
       "      <td>ESTAT:EDAT_LFS_9917(1.0)</td>\n",
       "      <td>14/09/23 23:00:00</td>\n",
       "      <td>A</td>\n",
       "      <td>PC</td>\n",
       "      <td>T</td>\n",
       "      <td>ED5-8</td>\n",
       "      <td>FOR</td>\n",
       "      <td>Y25-64</td>\n",
       "      <td>IT</td>\n",
       "      <td>2020</td>\n",
       "      <td>13.3</td>\n",
       "      <td>NaN</td>\n",
       "    </tr>\n",
       "    <tr>\n",
       "      <th>58</th>\n",
       "      <td>ESTAT:EDAT_LFS_9917(1.0)</td>\n",
       "      <td>14/09/23 23:00:00</td>\n",
       "      <td>A</td>\n",
       "      <td>PC</td>\n",
       "      <td>T</td>\n",
       "      <td>ED5-8</td>\n",
       "      <td>FOR</td>\n",
       "      <td>Y25-64</td>\n",
       "      <td>IT</td>\n",
       "      <td>2021</td>\n",
       "      <td>12.8</td>\n",
       "      <td>b</td>\n",
       "    </tr>\n",
       "    <tr>\n",
       "      <th>59</th>\n",
       "      <td>ESTAT:EDAT_LFS_9917(1.0)</td>\n",
       "      <td>14/09/23 23:00:00</td>\n",
       "      <td>A</td>\n",
       "      <td>PC</td>\n",
       "      <td>T</td>\n",
       "      <td>ED5-8</td>\n",
       "      <td>FOR</td>\n",
       "      <td>Y25-64</td>\n",
       "      <td>IT</td>\n",
       "      <td>2022</td>\n",
       "      <td>13.2</td>\n",
       "      <td>NaN</td>\n",
       "    </tr>\n",
       "  </tbody>\n",
       "</table>\n",
       "</div>"
      ],
      "text/plain": [
       "                    DATAFLOW        LAST UPDATE freq unit sex isced11 c_birth  \\\n",
       "0   ESTAT:EDAT_LFS_9917(1.0)  14/09/23 23:00:00    A   PC   T   ED0-2     FOR   \n",
       "1   ESTAT:EDAT_LFS_9917(1.0)  14/09/23 23:00:00    A   PC   T   ED0-2     FOR   \n",
       "2   ESTAT:EDAT_LFS_9917(1.0)  14/09/23 23:00:00    A   PC   T   ED0-2     FOR   \n",
       "3   ESTAT:EDAT_LFS_9917(1.0)  14/09/23 23:00:00    A   PC   T   ED0-2     FOR   \n",
       "4   ESTAT:EDAT_LFS_9917(1.0)  14/09/23 23:00:00    A   PC   T   ED0-2     FOR   \n",
       "5   ESTAT:EDAT_LFS_9917(1.0)  14/09/23 23:00:00    A   PC   T   ED0-2     FOR   \n",
       "6   ESTAT:EDAT_LFS_9917(1.0)  14/09/23 23:00:00    A   PC   T   ED0-2     FOR   \n",
       "7   ESTAT:EDAT_LFS_9917(1.0)  14/09/23 23:00:00    A   PC   T   ED0-2     FOR   \n",
       "8   ESTAT:EDAT_LFS_9917(1.0)  14/09/23 23:00:00    A   PC   T   ED0-2     FOR   \n",
       "9   ESTAT:EDAT_LFS_9917(1.0)  14/09/23 23:00:00    A   PC   T   ED0-2     FOR   \n",
       "10  ESTAT:EDAT_LFS_9917(1.0)  14/09/23 23:00:00    A   PC   T   ED0-2     FOR   \n",
       "11  ESTAT:EDAT_LFS_9917(1.0)  14/09/23 23:00:00    A   PC   T   ED0-2     FOR   \n",
       "12  ESTAT:EDAT_LFS_9917(1.0)  14/09/23 23:00:00    A   PC   T   ED0-2     FOR   \n",
       "13  ESTAT:EDAT_LFS_9917(1.0)  14/09/23 23:00:00    A   PC   T   ED0-2     FOR   \n",
       "14  ESTAT:EDAT_LFS_9917(1.0)  14/09/23 23:00:00    A   PC   T   ED0-2     FOR   \n",
       "15  ESTAT:EDAT_LFS_9917(1.0)  14/09/23 23:00:00    A   PC   T   ED0-2     FOR   \n",
       "16  ESTAT:EDAT_LFS_9917(1.0)  14/09/23 23:00:00    A   PC   T   ED0-2     FOR   \n",
       "17  ESTAT:EDAT_LFS_9917(1.0)  14/09/23 23:00:00    A   PC   T   ED0-2     FOR   \n",
       "18  ESTAT:EDAT_LFS_9917(1.0)  14/09/23 23:00:00    A   PC   T   ED0-2     FOR   \n",
       "19  ESTAT:EDAT_LFS_9917(1.0)  14/09/23 23:00:00    A   PC   T   ED0-2     FOR   \n",
       "20  ESTAT:EDAT_LFS_9917(1.0)  14/09/23 23:00:00    A   PC   T   ED3_4     FOR   \n",
       "21  ESTAT:EDAT_LFS_9917(1.0)  14/09/23 23:00:00    A   PC   T   ED3_4     FOR   \n",
       "22  ESTAT:EDAT_LFS_9917(1.0)  14/09/23 23:00:00    A   PC   T   ED3_4     FOR   \n",
       "23  ESTAT:EDAT_LFS_9917(1.0)  14/09/23 23:00:00    A   PC   T   ED3_4     FOR   \n",
       "24  ESTAT:EDAT_LFS_9917(1.0)  14/09/23 23:00:00    A   PC   T   ED3_4     FOR   \n",
       "25  ESTAT:EDAT_LFS_9917(1.0)  14/09/23 23:00:00    A   PC   T   ED3_4     FOR   \n",
       "26  ESTAT:EDAT_LFS_9917(1.0)  14/09/23 23:00:00    A   PC   T   ED3_4     FOR   \n",
       "27  ESTAT:EDAT_LFS_9917(1.0)  14/09/23 23:00:00    A   PC   T   ED3_4     FOR   \n",
       "28  ESTAT:EDAT_LFS_9917(1.0)  14/09/23 23:00:00    A   PC   T   ED3_4     FOR   \n",
       "29  ESTAT:EDAT_LFS_9917(1.0)  14/09/23 23:00:00    A   PC   T   ED3_4     FOR   \n",
       "30  ESTAT:EDAT_LFS_9917(1.0)  14/09/23 23:00:00    A   PC   T   ED3_4     FOR   \n",
       "31  ESTAT:EDAT_LFS_9917(1.0)  14/09/23 23:00:00    A   PC   T   ED3_4     FOR   \n",
       "32  ESTAT:EDAT_LFS_9917(1.0)  14/09/23 23:00:00    A   PC   T   ED3_4     FOR   \n",
       "33  ESTAT:EDAT_LFS_9917(1.0)  14/09/23 23:00:00    A   PC   T   ED3_4     FOR   \n",
       "34  ESTAT:EDAT_LFS_9917(1.0)  14/09/23 23:00:00    A   PC   T   ED3_4     FOR   \n",
       "35  ESTAT:EDAT_LFS_9917(1.0)  14/09/23 23:00:00    A   PC   T   ED3_4     FOR   \n",
       "36  ESTAT:EDAT_LFS_9917(1.0)  14/09/23 23:00:00    A   PC   T   ED3_4     FOR   \n",
       "37  ESTAT:EDAT_LFS_9917(1.0)  14/09/23 23:00:00    A   PC   T   ED3_4     FOR   \n",
       "38  ESTAT:EDAT_LFS_9917(1.0)  14/09/23 23:00:00    A   PC   T   ED3_4     FOR   \n",
       "39  ESTAT:EDAT_LFS_9917(1.0)  14/09/23 23:00:00    A   PC   T   ED3_4     FOR   \n",
       "40  ESTAT:EDAT_LFS_9917(1.0)  14/09/23 23:00:00    A   PC   T   ED5-8     FOR   \n",
       "41  ESTAT:EDAT_LFS_9917(1.0)  14/09/23 23:00:00    A   PC   T   ED5-8     FOR   \n",
       "42  ESTAT:EDAT_LFS_9917(1.0)  14/09/23 23:00:00    A   PC   T   ED5-8     FOR   \n",
       "43  ESTAT:EDAT_LFS_9917(1.0)  14/09/23 23:00:00    A   PC   T   ED5-8     FOR   \n",
       "44  ESTAT:EDAT_LFS_9917(1.0)  14/09/23 23:00:00    A   PC   T   ED5-8     FOR   \n",
       "45  ESTAT:EDAT_LFS_9917(1.0)  14/09/23 23:00:00    A   PC   T   ED5-8     FOR   \n",
       "46  ESTAT:EDAT_LFS_9917(1.0)  14/09/23 23:00:00    A   PC   T   ED5-8     FOR   \n",
       "47  ESTAT:EDAT_LFS_9917(1.0)  14/09/23 23:00:00    A   PC   T   ED5-8     FOR   \n",
       "48  ESTAT:EDAT_LFS_9917(1.0)  14/09/23 23:00:00    A   PC   T   ED5-8     FOR   \n",
       "49  ESTAT:EDAT_LFS_9917(1.0)  14/09/23 23:00:00    A   PC   T   ED5-8     FOR   \n",
       "50  ESTAT:EDAT_LFS_9917(1.0)  14/09/23 23:00:00    A   PC   T   ED5-8     FOR   \n",
       "51  ESTAT:EDAT_LFS_9917(1.0)  14/09/23 23:00:00    A   PC   T   ED5-8     FOR   \n",
       "52  ESTAT:EDAT_LFS_9917(1.0)  14/09/23 23:00:00    A   PC   T   ED5-8     FOR   \n",
       "53  ESTAT:EDAT_LFS_9917(1.0)  14/09/23 23:00:00    A   PC   T   ED5-8     FOR   \n",
       "54  ESTAT:EDAT_LFS_9917(1.0)  14/09/23 23:00:00    A   PC   T   ED5-8     FOR   \n",
       "55  ESTAT:EDAT_LFS_9917(1.0)  14/09/23 23:00:00    A   PC   T   ED5-8     FOR   \n",
       "56  ESTAT:EDAT_LFS_9917(1.0)  14/09/23 23:00:00    A   PC   T   ED5-8     FOR   \n",
       "57  ESTAT:EDAT_LFS_9917(1.0)  14/09/23 23:00:00    A   PC   T   ED5-8     FOR   \n",
       "58  ESTAT:EDAT_LFS_9917(1.0)  14/09/23 23:00:00    A   PC   T   ED5-8     FOR   \n",
       "59  ESTAT:EDAT_LFS_9917(1.0)  14/09/23 23:00:00    A   PC   T   ED5-8     FOR   \n",
       "\n",
       "       age geo  TIME_PERIOD  OBS_VALUE OBS_FLAG  \n",
       "0   Y15-64  IT         2013       47.3      NaN  \n",
       "1   Y15-64  IT         2014       47.0        b  \n",
       "2   Y15-64  IT         2015       47.2      NaN  \n",
       "3   Y15-64  IT         2016       49.1      NaN  \n",
       "4   Y15-64  IT         2017       50.2      NaN  \n",
       "5   Y15-64  IT         2018       50.3      NaN  \n",
       "6   Y15-64  IT         2019       50.1      NaN  \n",
       "7   Y15-64  IT         2020       50.3      NaN  \n",
       "8   Y15-64  IT         2021       49.2        b  \n",
       "9   Y15-64  IT         2022       47.6      NaN  \n",
       "10  Y25-64  IT         2013       44.8      NaN  \n",
       "11  Y25-64  IT         2014       44.6        b  \n",
       "12  Y25-64  IT         2015       44.8      NaN  \n",
       "13  Y25-64  IT         2016       47.1      NaN  \n",
       "14  Y25-64  IT         2017       48.7      NaN  \n",
       "15  Y25-64  IT         2018       48.5      NaN  \n",
       "16  Y25-64  IT         2019       48.6      NaN  \n",
       "17  Y25-64  IT         2020       49.2      NaN  \n",
       "18  Y25-64  IT         2021       48.1        b  \n",
       "19  Y25-64  IT         2022       46.6      NaN  \n",
       "20  Y15-64  IT         2013       41.6      NaN  \n",
       "21  Y15-64  IT         2014       41.6        b  \n",
       "22  Y15-64  IT         2015       40.7      NaN  \n",
       "23  Y15-64  IT         2016       39.1      NaN  \n",
       "24  Y15-64  IT         2017       37.5      NaN  \n",
       "25  Y15-64  IT         2018       37.0      NaN  \n",
       "26  Y15-64  IT         2019       37.3      NaN  \n",
       "27  Y15-64  IT         2020       37.5      NaN  \n",
       "28  Y15-64  IT         2021       38.9        b  \n",
       "29  Y15-64  IT         2022       40.2      NaN  \n",
       "30  Y25-64  IT         2013       42.8      NaN  \n",
       "31  Y25-64  IT         2014       42.7        b  \n",
       "32  Y25-64  IT         2015       41.6      NaN  \n",
       "33  Y25-64  IT         2016       39.9      NaN  \n",
       "34  Y25-64  IT         2017       37.7      NaN  \n",
       "35  Y25-64  IT         2018       37.6      NaN  \n",
       "36  Y25-64  IT         2019       37.6      NaN  \n",
       "37  Y25-64  IT         2020       37.5      NaN  \n",
       "38  Y25-64  IT         2021       39.1        b  \n",
       "39  Y25-64  IT         2022       40.2      NaN  \n",
       "40  Y15-64  IT         2013       11.1      NaN  \n",
       "41  Y15-64  IT         2014       11.4        b  \n",
       "42  Y15-64  IT         2015       12.1      NaN  \n",
       "43  Y15-64  IT         2016       11.7      NaN  \n",
       "44  Y15-64  IT         2017       12.3      NaN  \n",
       "45  Y15-64  IT         2018       12.7      NaN  \n",
       "46  Y15-64  IT         2019       12.6      NaN  \n",
       "47  Y15-64  IT         2020       12.2      NaN  \n",
       "48  Y15-64  IT         2021       11.9        b  \n",
       "49  Y15-64  IT         2022       12.2      NaN  \n",
       "50  Y25-64  IT         2013       12.4      NaN  \n",
       "51  Y25-64  IT         2014       12.8        b  \n",
       "52  Y25-64  IT         2015       13.5      NaN  \n",
       "53  Y25-64  IT         2016       13.0      NaN  \n",
       "54  Y25-64  IT         2017       13.6      NaN  \n",
       "55  Y25-64  IT         2018       14.0      NaN  \n",
       "56  Y25-64  IT         2019       13.8      NaN  \n",
       "57  Y25-64  IT         2020       13.3      NaN  \n",
       "58  Y25-64  IT         2021       12.8        b  \n",
       "59  Y25-64  IT         2022       13.2      NaN  "
      ]
     },
     "execution_count": 12,
     "metadata": {},
     "output_type": "execute_result"
    }
   ],
   "source": [
    "ed1 = (pd.read_csv(\"https://raw.githubusercontent.com/openaccesstoimmigrants/openaccesstoimmigrants/main/_datasets/EUROSTAT_Population%20by%20educational%20attainment%20level%2C%20sex%2C%20age%2C%20country%20of%20birth%20and%20NUTS%202%20regions%20(%25).CSV\", sep=\",\"))\n",
    "ed1\n",
    "#ed2 = (pd.read_csv(\"../_datasets/edat_lfs_9917__custom_8594330_linear.csv\", sep=\",\"))"
   ]
  },
  {
   "cell_type": "code",
   "execution_count": 4,
   "id": "f915d0e3",
   "metadata": {},
   "outputs": [],
   "source": [
    "#def keep_equal(dataframe, column_name, value_to_keep):\n",
    "    #selected_rows = dataframe[dataframe[column_name].str.startswith(value_to_keep)]\n",
    "\n",
    "    #return selected_rows"
   ]
  },
  {
   "cell_type": "code",
   "execution_count": 5,
   "id": "ae102c59",
   "metadata": {},
   "outputs": [],
   "source": [
    "#ed1 = keep_equal(ed2, 'geo', 'IT')"
   ]
  },
  {
   "cell_type": "code",
   "execution_count": 13,
   "id": "667b9a0e",
   "metadata": {},
   "outputs": [
    {
     "data": {
      "text/html": [
       "<div>\n",
       "<style scoped>\n",
       "    .dataframe tbody tr th:only-of-type {\n",
       "        vertical-align: middle;\n",
       "    }\n",
       "\n",
       "    .dataframe tbody tr th {\n",
       "        vertical-align: top;\n",
       "    }\n",
       "\n",
       "    .dataframe thead th {\n",
       "        text-align: right;\n",
       "    }\n",
       "</style>\n",
       "<table border=\"1\" class=\"dataframe\">\n",
       "  <thead>\n",
       "    <tr style=\"text-align: right;\">\n",
       "      <th></th>\n",
       "      <th>DATAFLOW</th>\n",
       "      <th>LAST UPDATE</th>\n",
       "      <th>freq</th>\n",
       "      <th>unit</th>\n",
       "      <th>sex</th>\n",
       "      <th>isced11</th>\n",
       "      <th>c_birth</th>\n",
       "      <th>age</th>\n",
       "      <th>geo</th>\n",
       "      <th>TIME_PERIOD</th>\n",
       "      <th>OBS_VALUE</th>\n",
       "      <th>OBS_FLAG</th>\n",
       "    </tr>\n",
       "  </thead>\n",
       "  <tbody>\n",
       "    <tr>\n",
       "      <th>5</th>\n",
       "      <td>ESTAT:EDAT_LFS_9917(1.0)</td>\n",
       "      <td>14/09/23 23:00:00</td>\n",
       "      <td>A</td>\n",
       "      <td>PC</td>\n",
       "      <td>T</td>\n",
       "      <td>ED0-2</td>\n",
       "      <td>FOR</td>\n",
       "      <td>Y15-64</td>\n",
       "      <td>IT</td>\n",
       "      <td>2018</td>\n",
       "      <td>50.3</td>\n",
       "      <td>NaN</td>\n",
       "    </tr>\n",
       "    <tr>\n",
       "      <th>6</th>\n",
       "      <td>ESTAT:EDAT_LFS_9917(1.0)</td>\n",
       "      <td>14/09/23 23:00:00</td>\n",
       "      <td>A</td>\n",
       "      <td>PC</td>\n",
       "      <td>T</td>\n",
       "      <td>ED0-2</td>\n",
       "      <td>FOR</td>\n",
       "      <td>Y15-64</td>\n",
       "      <td>IT</td>\n",
       "      <td>2019</td>\n",
       "      <td>50.1</td>\n",
       "      <td>NaN</td>\n",
       "    </tr>\n",
       "    <tr>\n",
       "      <th>7</th>\n",
       "      <td>ESTAT:EDAT_LFS_9917(1.0)</td>\n",
       "      <td>14/09/23 23:00:00</td>\n",
       "      <td>A</td>\n",
       "      <td>PC</td>\n",
       "      <td>T</td>\n",
       "      <td>ED0-2</td>\n",
       "      <td>FOR</td>\n",
       "      <td>Y15-64</td>\n",
       "      <td>IT</td>\n",
       "      <td>2020</td>\n",
       "      <td>50.3</td>\n",
       "      <td>NaN</td>\n",
       "    </tr>\n",
       "    <tr>\n",
       "      <th>8</th>\n",
       "      <td>ESTAT:EDAT_LFS_9917(1.0)</td>\n",
       "      <td>14/09/23 23:00:00</td>\n",
       "      <td>A</td>\n",
       "      <td>PC</td>\n",
       "      <td>T</td>\n",
       "      <td>ED0-2</td>\n",
       "      <td>FOR</td>\n",
       "      <td>Y15-64</td>\n",
       "      <td>IT</td>\n",
       "      <td>2021</td>\n",
       "      <td>49.2</td>\n",
       "      <td>b</td>\n",
       "    </tr>\n",
       "    <tr>\n",
       "      <th>9</th>\n",
       "      <td>ESTAT:EDAT_LFS_9917(1.0)</td>\n",
       "      <td>14/09/23 23:00:00</td>\n",
       "      <td>A</td>\n",
       "      <td>PC</td>\n",
       "      <td>T</td>\n",
       "      <td>ED0-2</td>\n",
       "      <td>FOR</td>\n",
       "      <td>Y15-64</td>\n",
       "      <td>IT</td>\n",
       "      <td>2022</td>\n",
       "      <td>47.6</td>\n",
       "      <td>NaN</td>\n",
       "    </tr>\n",
       "    <tr>\n",
       "      <th>15</th>\n",
       "      <td>ESTAT:EDAT_LFS_9917(1.0)</td>\n",
       "      <td>14/09/23 23:00:00</td>\n",
       "      <td>A</td>\n",
       "      <td>PC</td>\n",
       "      <td>T</td>\n",
       "      <td>ED0-2</td>\n",
       "      <td>FOR</td>\n",
       "      <td>Y25-64</td>\n",
       "      <td>IT</td>\n",
       "      <td>2018</td>\n",
       "      <td>48.5</td>\n",
       "      <td>NaN</td>\n",
       "    </tr>\n",
       "    <tr>\n",
       "      <th>16</th>\n",
       "      <td>ESTAT:EDAT_LFS_9917(1.0)</td>\n",
       "      <td>14/09/23 23:00:00</td>\n",
       "      <td>A</td>\n",
       "      <td>PC</td>\n",
       "      <td>T</td>\n",
       "      <td>ED0-2</td>\n",
       "      <td>FOR</td>\n",
       "      <td>Y25-64</td>\n",
       "      <td>IT</td>\n",
       "      <td>2019</td>\n",
       "      <td>48.6</td>\n",
       "      <td>NaN</td>\n",
       "    </tr>\n",
       "    <tr>\n",
       "      <th>17</th>\n",
       "      <td>ESTAT:EDAT_LFS_9917(1.0)</td>\n",
       "      <td>14/09/23 23:00:00</td>\n",
       "      <td>A</td>\n",
       "      <td>PC</td>\n",
       "      <td>T</td>\n",
       "      <td>ED0-2</td>\n",
       "      <td>FOR</td>\n",
       "      <td>Y25-64</td>\n",
       "      <td>IT</td>\n",
       "      <td>2020</td>\n",
       "      <td>49.2</td>\n",
       "      <td>NaN</td>\n",
       "    </tr>\n",
       "    <tr>\n",
       "      <th>18</th>\n",
       "      <td>ESTAT:EDAT_LFS_9917(1.0)</td>\n",
       "      <td>14/09/23 23:00:00</td>\n",
       "      <td>A</td>\n",
       "      <td>PC</td>\n",
       "      <td>T</td>\n",
       "      <td>ED0-2</td>\n",
       "      <td>FOR</td>\n",
       "      <td>Y25-64</td>\n",
       "      <td>IT</td>\n",
       "      <td>2021</td>\n",
       "      <td>48.1</td>\n",
       "      <td>b</td>\n",
       "    </tr>\n",
       "    <tr>\n",
       "      <th>19</th>\n",
       "      <td>ESTAT:EDAT_LFS_9917(1.0)</td>\n",
       "      <td>14/09/23 23:00:00</td>\n",
       "      <td>A</td>\n",
       "      <td>PC</td>\n",
       "      <td>T</td>\n",
       "      <td>ED0-2</td>\n",
       "      <td>FOR</td>\n",
       "      <td>Y25-64</td>\n",
       "      <td>IT</td>\n",
       "      <td>2022</td>\n",
       "      <td>46.6</td>\n",
       "      <td>NaN</td>\n",
       "    </tr>\n",
       "    <tr>\n",
       "      <th>25</th>\n",
       "      <td>ESTAT:EDAT_LFS_9917(1.0)</td>\n",
       "      <td>14/09/23 23:00:00</td>\n",
       "      <td>A</td>\n",
       "      <td>PC</td>\n",
       "      <td>T</td>\n",
       "      <td>ED3_4</td>\n",
       "      <td>FOR</td>\n",
       "      <td>Y15-64</td>\n",
       "      <td>IT</td>\n",
       "      <td>2018</td>\n",
       "      <td>37.0</td>\n",
       "      <td>NaN</td>\n",
       "    </tr>\n",
       "    <tr>\n",
       "      <th>26</th>\n",
       "      <td>ESTAT:EDAT_LFS_9917(1.0)</td>\n",
       "      <td>14/09/23 23:00:00</td>\n",
       "      <td>A</td>\n",
       "      <td>PC</td>\n",
       "      <td>T</td>\n",
       "      <td>ED3_4</td>\n",
       "      <td>FOR</td>\n",
       "      <td>Y15-64</td>\n",
       "      <td>IT</td>\n",
       "      <td>2019</td>\n",
       "      <td>37.3</td>\n",
       "      <td>NaN</td>\n",
       "    </tr>\n",
       "    <tr>\n",
       "      <th>27</th>\n",
       "      <td>ESTAT:EDAT_LFS_9917(1.0)</td>\n",
       "      <td>14/09/23 23:00:00</td>\n",
       "      <td>A</td>\n",
       "      <td>PC</td>\n",
       "      <td>T</td>\n",
       "      <td>ED3_4</td>\n",
       "      <td>FOR</td>\n",
       "      <td>Y15-64</td>\n",
       "      <td>IT</td>\n",
       "      <td>2020</td>\n",
       "      <td>37.5</td>\n",
       "      <td>NaN</td>\n",
       "    </tr>\n",
       "    <tr>\n",
       "      <th>28</th>\n",
       "      <td>ESTAT:EDAT_LFS_9917(1.0)</td>\n",
       "      <td>14/09/23 23:00:00</td>\n",
       "      <td>A</td>\n",
       "      <td>PC</td>\n",
       "      <td>T</td>\n",
       "      <td>ED3_4</td>\n",
       "      <td>FOR</td>\n",
       "      <td>Y15-64</td>\n",
       "      <td>IT</td>\n",
       "      <td>2021</td>\n",
       "      <td>38.9</td>\n",
       "      <td>b</td>\n",
       "    </tr>\n",
       "    <tr>\n",
       "      <th>29</th>\n",
       "      <td>ESTAT:EDAT_LFS_9917(1.0)</td>\n",
       "      <td>14/09/23 23:00:00</td>\n",
       "      <td>A</td>\n",
       "      <td>PC</td>\n",
       "      <td>T</td>\n",
       "      <td>ED3_4</td>\n",
       "      <td>FOR</td>\n",
       "      <td>Y15-64</td>\n",
       "      <td>IT</td>\n",
       "      <td>2022</td>\n",
       "      <td>40.2</td>\n",
       "      <td>NaN</td>\n",
       "    </tr>\n",
       "    <tr>\n",
       "      <th>35</th>\n",
       "      <td>ESTAT:EDAT_LFS_9917(1.0)</td>\n",
       "      <td>14/09/23 23:00:00</td>\n",
       "      <td>A</td>\n",
       "      <td>PC</td>\n",
       "      <td>T</td>\n",
       "      <td>ED3_4</td>\n",
       "      <td>FOR</td>\n",
       "      <td>Y25-64</td>\n",
       "      <td>IT</td>\n",
       "      <td>2018</td>\n",
       "      <td>37.6</td>\n",
       "      <td>NaN</td>\n",
       "    </tr>\n",
       "    <tr>\n",
       "      <th>36</th>\n",
       "      <td>ESTAT:EDAT_LFS_9917(1.0)</td>\n",
       "      <td>14/09/23 23:00:00</td>\n",
       "      <td>A</td>\n",
       "      <td>PC</td>\n",
       "      <td>T</td>\n",
       "      <td>ED3_4</td>\n",
       "      <td>FOR</td>\n",
       "      <td>Y25-64</td>\n",
       "      <td>IT</td>\n",
       "      <td>2019</td>\n",
       "      <td>37.6</td>\n",
       "      <td>NaN</td>\n",
       "    </tr>\n",
       "    <tr>\n",
       "      <th>37</th>\n",
       "      <td>ESTAT:EDAT_LFS_9917(1.0)</td>\n",
       "      <td>14/09/23 23:00:00</td>\n",
       "      <td>A</td>\n",
       "      <td>PC</td>\n",
       "      <td>T</td>\n",
       "      <td>ED3_4</td>\n",
       "      <td>FOR</td>\n",
       "      <td>Y25-64</td>\n",
       "      <td>IT</td>\n",
       "      <td>2020</td>\n",
       "      <td>37.5</td>\n",
       "      <td>NaN</td>\n",
       "    </tr>\n",
       "    <tr>\n",
       "      <th>38</th>\n",
       "      <td>ESTAT:EDAT_LFS_9917(1.0)</td>\n",
       "      <td>14/09/23 23:00:00</td>\n",
       "      <td>A</td>\n",
       "      <td>PC</td>\n",
       "      <td>T</td>\n",
       "      <td>ED3_4</td>\n",
       "      <td>FOR</td>\n",
       "      <td>Y25-64</td>\n",
       "      <td>IT</td>\n",
       "      <td>2021</td>\n",
       "      <td>39.1</td>\n",
       "      <td>b</td>\n",
       "    </tr>\n",
       "    <tr>\n",
       "      <th>39</th>\n",
       "      <td>ESTAT:EDAT_LFS_9917(1.0)</td>\n",
       "      <td>14/09/23 23:00:00</td>\n",
       "      <td>A</td>\n",
       "      <td>PC</td>\n",
       "      <td>T</td>\n",
       "      <td>ED3_4</td>\n",
       "      <td>FOR</td>\n",
       "      <td>Y25-64</td>\n",
       "      <td>IT</td>\n",
       "      <td>2022</td>\n",
       "      <td>40.2</td>\n",
       "      <td>NaN</td>\n",
       "    </tr>\n",
       "    <tr>\n",
       "      <th>45</th>\n",
       "      <td>ESTAT:EDAT_LFS_9917(1.0)</td>\n",
       "      <td>14/09/23 23:00:00</td>\n",
       "      <td>A</td>\n",
       "      <td>PC</td>\n",
       "      <td>T</td>\n",
       "      <td>ED5-8</td>\n",
       "      <td>FOR</td>\n",
       "      <td>Y15-64</td>\n",
       "      <td>IT</td>\n",
       "      <td>2018</td>\n",
       "      <td>12.7</td>\n",
       "      <td>NaN</td>\n",
       "    </tr>\n",
       "    <tr>\n",
       "      <th>46</th>\n",
       "      <td>ESTAT:EDAT_LFS_9917(1.0)</td>\n",
       "      <td>14/09/23 23:00:00</td>\n",
       "      <td>A</td>\n",
       "      <td>PC</td>\n",
       "      <td>T</td>\n",
       "      <td>ED5-8</td>\n",
       "      <td>FOR</td>\n",
       "      <td>Y15-64</td>\n",
       "      <td>IT</td>\n",
       "      <td>2019</td>\n",
       "      <td>12.6</td>\n",
       "      <td>NaN</td>\n",
       "    </tr>\n",
       "    <tr>\n",
       "      <th>47</th>\n",
       "      <td>ESTAT:EDAT_LFS_9917(1.0)</td>\n",
       "      <td>14/09/23 23:00:00</td>\n",
       "      <td>A</td>\n",
       "      <td>PC</td>\n",
       "      <td>T</td>\n",
       "      <td>ED5-8</td>\n",
       "      <td>FOR</td>\n",
       "      <td>Y15-64</td>\n",
       "      <td>IT</td>\n",
       "      <td>2020</td>\n",
       "      <td>12.2</td>\n",
       "      <td>NaN</td>\n",
       "    </tr>\n",
       "    <tr>\n",
       "      <th>48</th>\n",
       "      <td>ESTAT:EDAT_LFS_9917(1.0)</td>\n",
       "      <td>14/09/23 23:00:00</td>\n",
       "      <td>A</td>\n",
       "      <td>PC</td>\n",
       "      <td>T</td>\n",
       "      <td>ED5-8</td>\n",
       "      <td>FOR</td>\n",
       "      <td>Y15-64</td>\n",
       "      <td>IT</td>\n",
       "      <td>2021</td>\n",
       "      <td>11.9</td>\n",
       "      <td>b</td>\n",
       "    </tr>\n",
       "    <tr>\n",
       "      <th>49</th>\n",
       "      <td>ESTAT:EDAT_LFS_9917(1.0)</td>\n",
       "      <td>14/09/23 23:00:00</td>\n",
       "      <td>A</td>\n",
       "      <td>PC</td>\n",
       "      <td>T</td>\n",
       "      <td>ED5-8</td>\n",
       "      <td>FOR</td>\n",
       "      <td>Y15-64</td>\n",
       "      <td>IT</td>\n",
       "      <td>2022</td>\n",
       "      <td>12.2</td>\n",
       "      <td>NaN</td>\n",
       "    </tr>\n",
       "    <tr>\n",
       "      <th>55</th>\n",
       "      <td>ESTAT:EDAT_LFS_9917(1.0)</td>\n",
       "      <td>14/09/23 23:00:00</td>\n",
       "      <td>A</td>\n",
       "      <td>PC</td>\n",
       "      <td>T</td>\n",
       "      <td>ED5-8</td>\n",
       "      <td>FOR</td>\n",
       "      <td>Y25-64</td>\n",
       "      <td>IT</td>\n",
       "      <td>2018</td>\n",
       "      <td>14.0</td>\n",
       "      <td>NaN</td>\n",
       "    </tr>\n",
       "    <tr>\n",
       "      <th>56</th>\n",
       "      <td>ESTAT:EDAT_LFS_9917(1.0)</td>\n",
       "      <td>14/09/23 23:00:00</td>\n",
       "      <td>A</td>\n",
       "      <td>PC</td>\n",
       "      <td>T</td>\n",
       "      <td>ED5-8</td>\n",
       "      <td>FOR</td>\n",
       "      <td>Y25-64</td>\n",
       "      <td>IT</td>\n",
       "      <td>2019</td>\n",
       "      <td>13.8</td>\n",
       "      <td>NaN</td>\n",
       "    </tr>\n",
       "    <tr>\n",
       "      <th>57</th>\n",
       "      <td>ESTAT:EDAT_LFS_9917(1.0)</td>\n",
       "      <td>14/09/23 23:00:00</td>\n",
       "      <td>A</td>\n",
       "      <td>PC</td>\n",
       "      <td>T</td>\n",
       "      <td>ED5-8</td>\n",
       "      <td>FOR</td>\n",
       "      <td>Y25-64</td>\n",
       "      <td>IT</td>\n",
       "      <td>2020</td>\n",
       "      <td>13.3</td>\n",
       "      <td>NaN</td>\n",
       "    </tr>\n",
       "    <tr>\n",
       "      <th>58</th>\n",
       "      <td>ESTAT:EDAT_LFS_9917(1.0)</td>\n",
       "      <td>14/09/23 23:00:00</td>\n",
       "      <td>A</td>\n",
       "      <td>PC</td>\n",
       "      <td>T</td>\n",
       "      <td>ED5-8</td>\n",
       "      <td>FOR</td>\n",
       "      <td>Y25-64</td>\n",
       "      <td>IT</td>\n",
       "      <td>2021</td>\n",
       "      <td>12.8</td>\n",
       "      <td>b</td>\n",
       "    </tr>\n",
       "    <tr>\n",
       "      <th>59</th>\n",
       "      <td>ESTAT:EDAT_LFS_9917(1.0)</td>\n",
       "      <td>14/09/23 23:00:00</td>\n",
       "      <td>A</td>\n",
       "      <td>PC</td>\n",
       "      <td>T</td>\n",
       "      <td>ED5-8</td>\n",
       "      <td>FOR</td>\n",
       "      <td>Y25-64</td>\n",
       "      <td>IT</td>\n",
       "      <td>2022</td>\n",
       "      <td>13.2</td>\n",
       "      <td>NaN</td>\n",
       "    </tr>\n",
       "  </tbody>\n",
       "</table>\n",
       "</div>"
      ],
      "text/plain": [
       "                    DATAFLOW        LAST UPDATE freq unit sex isced11 c_birth  \\\n",
       "5   ESTAT:EDAT_LFS_9917(1.0)  14/09/23 23:00:00    A   PC   T   ED0-2     FOR   \n",
       "6   ESTAT:EDAT_LFS_9917(1.0)  14/09/23 23:00:00    A   PC   T   ED0-2     FOR   \n",
       "7   ESTAT:EDAT_LFS_9917(1.0)  14/09/23 23:00:00    A   PC   T   ED0-2     FOR   \n",
       "8   ESTAT:EDAT_LFS_9917(1.0)  14/09/23 23:00:00    A   PC   T   ED0-2     FOR   \n",
       "9   ESTAT:EDAT_LFS_9917(1.0)  14/09/23 23:00:00    A   PC   T   ED0-2     FOR   \n",
       "15  ESTAT:EDAT_LFS_9917(1.0)  14/09/23 23:00:00    A   PC   T   ED0-2     FOR   \n",
       "16  ESTAT:EDAT_LFS_9917(1.0)  14/09/23 23:00:00    A   PC   T   ED0-2     FOR   \n",
       "17  ESTAT:EDAT_LFS_9917(1.0)  14/09/23 23:00:00    A   PC   T   ED0-2     FOR   \n",
       "18  ESTAT:EDAT_LFS_9917(1.0)  14/09/23 23:00:00    A   PC   T   ED0-2     FOR   \n",
       "19  ESTAT:EDAT_LFS_9917(1.0)  14/09/23 23:00:00    A   PC   T   ED0-2     FOR   \n",
       "25  ESTAT:EDAT_LFS_9917(1.0)  14/09/23 23:00:00    A   PC   T   ED3_4     FOR   \n",
       "26  ESTAT:EDAT_LFS_9917(1.0)  14/09/23 23:00:00    A   PC   T   ED3_4     FOR   \n",
       "27  ESTAT:EDAT_LFS_9917(1.0)  14/09/23 23:00:00    A   PC   T   ED3_4     FOR   \n",
       "28  ESTAT:EDAT_LFS_9917(1.0)  14/09/23 23:00:00    A   PC   T   ED3_4     FOR   \n",
       "29  ESTAT:EDAT_LFS_9917(1.0)  14/09/23 23:00:00    A   PC   T   ED3_4     FOR   \n",
       "35  ESTAT:EDAT_LFS_9917(1.0)  14/09/23 23:00:00    A   PC   T   ED3_4     FOR   \n",
       "36  ESTAT:EDAT_LFS_9917(1.0)  14/09/23 23:00:00    A   PC   T   ED3_4     FOR   \n",
       "37  ESTAT:EDAT_LFS_9917(1.0)  14/09/23 23:00:00    A   PC   T   ED3_4     FOR   \n",
       "38  ESTAT:EDAT_LFS_9917(1.0)  14/09/23 23:00:00    A   PC   T   ED3_4     FOR   \n",
       "39  ESTAT:EDAT_LFS_9917(1.0)  14/09/23 23:00:00    A   PC   T   ED3_4     FOR   \n",
       "45  ESTAT:EDAT_LFS_9917(1.0)  14/09/23 23:00:00    A   PC   T   ED5-8     FOR   \n",
       "46  ESTAT:EDAT_LFS_9917(1.0)  14/09/23 23:00:00    A   PC   T   ED5-8     FOR   \n",
       "47  ESTAT:EDAT_LFS_9917(1.0)  14/09/23 23:00:00    A   PC   T   ED5-8     FOR   \n",
       "48  ESTAT:EDAT_LFS_9917(1.0)  14/09/23 23:00:00    A   PC   T   ED5-8     FOR   \n",
       "49  ESTAT:EDAT_LFS_9917(1.0)  14/09/23 23:00:00    A   PC   T   ED5-8     FOR   \n",
       "55  ESTAT:EDAT_LFS_9917(1.0)  14/09/23 23:00:00    A   PC   T   ED5-8     FOR   \n",
       "56  ESTAT:EDAT_LFS_9917(1.0)  14/09/23 23:00:00    A   PC   T   ED5-8     FOR   \n",
       "57  ESTAT:EDAT_LFS_9917(1.0)  14/09/23 23:00:00    A   PC   T   ED5-8     FOR   \n",
       "58  ESTAT:EDAT_LFS_9917(1.0)  14/09/23 23:00:00    A   PC   T   ED5-8     FOR   \n",
       "59  ESTAT:EDAT_LFS_9917(1.0)  14/09/23 23:00:00    A   PC   T   ED5-8     FOR   \n",
       "\n",
       "       age geo  TIME_PERIOD  OBS_VALUE OBS_FLAG  \n",
       "5   Y15-64  IT         2018       50.3      NaN  \n",
       "6   Y15-64  IT         2019       50.1      NaN  \n",
       "7   Y15-64  IT         2020       50.3      NaN  \n",
       "8   Y15-64  IT         2021       49.2        b  \n",
       "9   Y15-64  IT         2022       47.6      NaN  \n",
       "15  Y25-64  IT         2018       48.5      NaN  \n",
       "16  Y25-64  IT         2019       48.6      NaN  \n",
       "17  Y25-64  IT         2020       49.2      NaN  \n",
       "18  Y25-64  IT         2021       48.1        b  \n",
       "19  Y25-64  IT         2022       46.6      NaN  \n",
       "25  Y15-64  IT         2018       37.0      NaN  \n",
       "26  Y15-64  IT         2019       37.3      NaN  \n",
       "27  Y15-64  IT         2020       37.5      NaN  \n",
       "28  Y15-64  IT         2021       38.9        b  \n",
       "29  Y15-64  IT         2022       40.2      NaN  \n",
       "35  Y25-64  IT         2018       37.6      NaN  \n",
       "36  Y25-64  IT         2019       37.6      NaN  \n",
       "37  Y25-64  IT         2020       37.5      NaN  \n",
       "38  Y25-64  IT         2021       39.1        b  \n",
       "39  Y25-64  IT         2022       40.2      NaN  \n",
       "45  Y15-64  IT         2018       12.7      NaN  \n",
       "46  Y15-64  IT         2019       12.6      NaN  \n",
       "47  Y15-64  IT         2020       12.2      NaN  \n",
       "48  Y15-64  IT         2021       11.9        b  \n",
       "49  Y15-64  IT         2022       12.2      NaN  \n",
       "55  Y25-64  IT         2018       14.0      NaN  \n",
       "56  Y25-64  IT         2019       13.8      NaN  \n",
       "57  Y25-64  IT         2020       13.3      NaN  \n",
       "58  Y25-64  IT         2021       12.8        b  \n",
       "59  Y25-64  IT         2022       13.2      NaN  "
      ]
     },
     "execution_count": 13,
     "metadata": {},
     "output_type": "execute_result"
    }
   ],
   "source": [
    "# Select DataFrame rows between two dates\n",
    "mask = (ed1['TIME_PERIOD'] >= 2018) & (ed1['TIME_PERIOD'] <= 2022)\n",
    "ed_foreigners = ed1.loc[mask]\n",
    "ed_foreigners"
   ]
  },
  {
   "cell_type": "code",
   "execution_count": 14,
   "id": "327396dd",
   "metadata": {},
   "outputs": [
    {
     "data": {
      "text/html": [
       "<div>\n",
       "<style scoped>\n",
       "    .dataframe tbody tr th:only-of-type {\n",
       "        vertical-align: middle;\n",
       "    }\n",
       "\n",
       "    .dataframe tbody tr th {\n",
       "        vertical-align: top;\n",
       "    }\n",
       "\n",
       "    .dataframe thead th {\n",
       "        text-align: right;\n",
       "    }\n",
       "</style>\n",
       "<table border=\"1\" class=\"dataframe\">\n",
       "  <thead>\n",
       "    <tr style=\"text-align: right;\">\n",
       "      <th></th>\n",
       "      <th>Education Level</th>\n",
       "      <th>Year</th>\n",
       "      <th>Value (%)</th>\n",
       "    </tr>\n",
       "  </thead>\n",
       "  <tbody>\n",
       "    <tr>\n",
       "      <th>5</th>\n",
       "      <td>ED0-2</td>\n",
       "      <td>2018</td>\n",
       "      <td>50.3</td>\n",
       "    </tr>\n",
       "    <tr>\n",
       "      <th>6</th>\n",
       "      <td>ED0-2</td>\n",
       "      <td>2019</td>\n",
       "      <td>50.1</td>\n",
       "    </tr>\n",
       "    <tr>\n",
       "      <th>7</th>\n",
       "      <td>ED0-2</td>\n",
       "      <td>2020</td>\n",
       "      <td>50.3</td>\n",
       "    </tr>\n",
       "    <tr>\n",
       "      <th>8</th>\n",
       "      <td>ED0-2</td>\n",
       "      <td>2021</td>\n",
       "      <td>49.2</td>\n",
       "    </tr>\n",
       "    <tr>\n",
       "      <th>9</th>\n",
       "      <td>ED0-2</td>\n",
       "      <td>2022</td>\n",
       "      <td>47.6</td>\n",
       "    </tr>\n",
       "    <tr>\n",
       "      <th>25</th>\n",
       "      <td>ED3_4</td>\n",
       "      <td>2018</td>\n",
       "      <td>37.0</td>\n",
       "    </tr>\n",
       "    <tr>\n",
       "      <th>26</th>\n",
       "      <td>ED3_4</td>\n",
       "      <td>2019</td>\n",
       "      <td>37.3</td>\n",
       "    </tr>\n",
       "    <tr>\n",
       "      <th>27</th>\n",
       "      <td>ED3_4</td>\n",
       "      <td>2020</td>\n",
       "      <td>37.5</td>\n",
       "    </tr>\n",
       "    <tr>\n",
       "      <th>28</th>\n",
       "      <td>ED3_4</td>\n",
       "      <td>2021</td>\n",
       "      <td>38.9</td>\n",
       "    </tr>\n",
       "    <tr>\n",
       "      <th>29</th>\n",
       "      <td>ED3_4</td>\n",
       "      <td>2022</td>\n",
       "      <td>40.2</td>\n",
       "    </tr>\n",
       "    <tr>\n",
       "      <th>45</th>\n",
       "      <td>ED5-8</td>\n",
       "      <td>2018</td>\n",
       "      <td>12.7</td>\n",
       "    </tr>\n",
       "    <tr>\n",
       "      <th>46</th>\n",
       "      <td>ED5-8</td>\n",
       "      <td>2019</td>\n",
       "      <td>12.6</td>\n",
       "    </tr>\n",
       "    <tr>\n",
       "      <th>47</th>\n",
       "      <td>ED5-8</td>\n",
       "      <td>2020</td>\n",
       "      <td>12.2</td>\n",
       "    </tr>\n",
       "    <tr>\n",
       "      <th>48</th>\n",
       "      <td>ED5-8</td>\n",
       "      <td>2021</td>\n",
       "      <td>11.9</td>\n",
       "    </tr>\n",
       "    <tr>\n",
       "      <th>49</th>\n",
       "      <td>ED5-8</td>\n",
       "      <td>2022</td>\n",
       "      <td>12.2</td>\n",
       "    </tr>\n",
       "  </tbody>\n",
       "</table>\n",
       "</div>"
      ],
      "text/plain": [
       "   Education Level  Year  Value (%)\n",
       "5            ED0-2  2018       50.3\n",
       "6            ED0-2  2019       50.1\n",
       "7            ED0-2  2020       50.3\n",
       "8            ED0-2  2021       49.2\n",
       "9            ED0-2  2022       47.6\n",
       "25           ED3_4  2018       37.0\n",
       "26           ED3_4  2019       37.3\n",
       "27           ED3_4  2020       37.5\n",
       "28           ED3_4  2021       38.9\n",
       "29           ED3_4  2022       40.2\n",
       "45           ED5-8  2018       12.7\n",
       "46           ED5-8  2019       12.6\n",
       "47           ED5-8  2020       12.2\n",
       "48           ED5-8  2021       11.9\n",
       "49           ED5-8  2022       12.2"
      ]
     },
     "execution_count": 14,
     "metadata": {},
     "output_type": "execute_result"
    }
   ],
   "source": [
    "ed_foreigners = ed_foreigners[ed_foreigners[\"age\"] == 'Y15-64']\n",
    "#ed_foreigners = ed_foreigners[ed_foreigners[\"geo\"] == \"IT\"]\n",
    "\n",
    "ed1_foreigners = ed_foreigners[['isced11','TIME_PERIOD','OBS_VALUE']].copy()\n",
    "\n",
    "ed1_foreigners = ed1_foreigners.rename(columns={'isced11':'Education Level','TIME_PERIOD':'Year','OBS_VALUE':'Value (%)'})\n",
    "\n",
    "ed1_foreigners"
   ]
  },
  {
   "cell_type": "markdown",
   "id": "1df9505d",
   "metadata": {},
   "source": [
    "#### THE CHART BELOW IS USING DATA FROM EUROSTAT"
   ]
  },
  {
   "cell_type": "code",
   "execution_count": 15,
   "id": "f4cf8c1b",
   "metadata": {},
   "outputs": [
    {
     "data": {
      "application/vnd.plotly.v1+json": {
       "config": {
        "plotlyServerURL": "https://plot.ly"
       },
       "data": [
        {
         "alignmentgroup": "True",
         "hovertemplate": "Education Level=ED0-2<br>Year=%{x}<br>Value (%)=%{text}<extra></extra>",
         "legendgroup": "ED0-2",
         "marker": {
          "color": "#636efa",
          "pattern": {
           "shape": ""
          }
         },
         "name": "ED0-2",
         "offsetgroup": "ED0-2",
         "orientation": "v",
         "showlegend": true,
         "text": [
          50.3,
          50.1,
          50.3,
          49.2,
          47.6
         ],
         "textposition": "auto",
         "type": "bar",
         "x": [
          2018,
          2019,
          2020,
          2021,
          2022
         ],
         "xaxis": "x",
         "y": [
          50.3,
          50.1,
          50.3,
          49.2,
          47.6
         ],
         "yaxis": "y"
        },
        {
         "alignmentgroup": "True",
         "hovertemplate": "Education Level=ED3_4<br>Year=%{x}<br>Value (%)=%{text}<extra></extra>",
         "legendgroup": "ED3_4",
         "marker": {
          "color": "#EF553B",
          "pattern": {
           "shape": ""
          }
         },
         "name": "ED3_4",
         "offsetgroup": "ED3_4",
         "orientation": "v",
         "showlegend": true,
         "text": [
          37,
          37.3,
          37.5,
          38.9,
          40.2
         ],
         "textposition": "auto",
         "type": "bar",
         "x": [
          2018,
          2019,
          2020,
          2021,
          2022
         ],
         "xaxis": "x",
         "y": [
          37,
          37.3,
          37.5,
          38.9,
          40.2
         ],
         "yaxis": "y"
        },
        {
         "alignmentgroup": "True",
         "hovertemplate": "Education Level=ED5-8<br>Year=%{x}<br>Value (%)=%{text}<extra></extra>",
         "legendgroup": "ED5-8",
         "marker": {
          "color": "#00cc96",
          "pattern": {
           "shape": ""
          }
         },
         "name": "ED5-8",
         "offsetgroup": "ED5-8",
         "orientation": "v",
         "showlegend": true,
         "text": [
          12.7,
          12.6,
          12.2,
          11.9,
          12.2
         ],
         "textposition": "auto",
         "type": "bar",
         "x": [
          2018,
          2019,
          2020,
          2021,
          2022
         ],
         "xaxis": "x",
         "y": [
          12.7,
          12.6,
          12.2,
          11.9,
          12.2
         ],
         "yaxis": "y"
        }
       ],
       "layout": {
        "barmode": "group",
        "height": 400,
        "legend": {
         "title": {
          "text": "Education Level"
         },
         "tracegroupgap": 0
        },
        "template": {
         "data": {
          "bar": [
           {
            "error_x": {
             "color": "#2a3f5f"
            },
            "error_y": {
             "color": "#2a3f5f"
            },
            "marker": {
             "line": {
              "color": "#E5ECF6",
              "width": 0.5
             },
             "pattern": {
              "fillmode": "overlay",
              "size": 10,
              "solidity": 0.2
             }
            },
            "type": "bar"
           }
          ],
          "barpolar": [
           {
            "marker": {
             "line": {
              "color": "#E5ECF6",
              "width": 0.5
             },
             "pattern": {
              "fillmode": "overlay",
              "size": 10,
              "solidity": 0.2
             }
            },
            "type": "barpolar"
           }
          ],
          "carpet": [
           {
            "aaxis": {
             "endlinecolor": "#2a3f5f",
             "gridcolor": "white",
             "linecolor": "white",
             "minorgridcolor": "white",
             "startlinecolor": "#2a3f5f"
            },
            "baxis": {
             "endlinecolor": "#2a3f5f",
             "gridcolor": "white",
             "linecolor": "white",
             "minorgridcolor": "white",
             "startlinecolor": "#2a3f5f"
            },
            "type": "carpet"
           }
          ],
          "choropleth": [
           {
            "colorbar": {
             "outlinewidth": 0,
             "ticks": ""
            },
            "type": "choropleth"
           }
          ],
          "contour": [
           {
            "colorbar": {
             "outlinewidth": 0,
             "ticks": ""
            },
            "colorscale": [
             [
              0,
              "#0d0887"
             ],
             [
              0.1111111111111111,
              "#46039f"
             ],
             [
              0.2222222222222222,
              "#7201a8"
             ],
             [
              0.3333333333333333,
              "#9c179e"
             ],
             [
              0.4444444444444444,
              "#bd3786"
             ],
             [
              0.5555555555555556,
              "#d8576b"
             ],
             [
              0.6666666666666666,
              "#ed7953"
             ],
             [
              0.7777777777777778,
              "#fb9f3a"
             ],
             [
              0.8888888888888888,
              "#fdca26"
             ],
             [
              1,
              "#f0f921"
             ]
            ],
            "type": "contour"
           }
          ],
          "contourcarpet": [
           {
            "colorbar": {
             "outlinewidth": 0,
             "ticks": ""
            },
            "type": "contourcarpet"
           }
          ],
          "heatmap": [
           {
            "colorbar": {
             "outlinewidth": 0,
             "ticks": ""
            },
            "colorscale": [
             [
              0,
              "#0d0887"
             ],
             [
              0.1111111111111111,
              "#46039f"
             ],
             [
              0.2222222222222222,
              "#7201a8"
             ],
             [
              0.3333333333333333,
              "#9c179e"
             ],
             [
              0.4444444444444444,
              "#bd3786"
             ],
             [
              0.5555555555555556,
              "#d8576b"
             ],
             [
              0.6666666666666666,
              "#ed7953"
             ],
             [
              0.7777777777777778,
              "#fb9f3a"
             ],
             [
              0.8888888888888888,
              "#fdca26"
             ],
             [
              1,
              "#f0f921"
             ]
            ],
            "type": "heatmap"
           }
          ],
          "heatmapgl": [
           {
            "colorbar": {
             "outlinewidth": 0,
             "ticks": ""
            },
            "colorscale": [
             [
              0,
              "#0d0887"
             ],
             [
              0.1111111111111111,
              "#46039f"
             ],
             [
              0.2222222222222222,
              "#7201a8"
             ],
             [
              0.3333333333333333,
              "#9c179e"
             ],
             [
              0.4444444444444444,
              "#bd3786"
             ],
             [
              0.5555555555555556,
              "#d8576b"
             ],
             [
              0.6666666666666666,
              "#ed7953"
             ],
             [
              0.7777777777777778,
              "#fb9f3a"
             ],
             [
              0.8888888888888888,
              "#fdca26"
             ],
             [
              1,
              "#f0f921"
             ]
            ],
            "type": "heatmapgl"
           }
          ],
          "histogram": [
           {
            "marker": {
             "pattern": {
              "fillmode": "overlay",
              "size": 10,
              "solidity": 0.2
             }
            },
            "type": "histogram"
           }
          ],
          "histogram2d": [
           {
            "colorbar": {
             "outlinewidth": 0,
             "ticks": ""
            },
            "colorscale": [
             [
              0,
              "#0d0887"
             ],
             [
              0.1111111111111111,
              "#46039f"
             ],
             [
              0.2222222222222222,
              "#7201a8"
             ],
             [
              0.3333333333333333,
              "#9c179e"
             ],
             [
              0.4444444444444444,
              "#bd3786"
             ],
             [
              0.5555555555555556,
              "#d8576b"
             ],
             [
              0.6666666666666666,
              "#ed7953"
             ],
             [
              0.7777777777777778,
              "#fb9f3a"
             ],
             [
              0.8888888888888888,
              "#fdca26"
             ],
             [
              1,
              "#f0f921"
             ]
            ],
            "type": "histogram2d"
           }
          ],
          "histogram2dcontour": [
           {
            "colorbar": {
             "outlinewidth": 0,
             "ticks": ""
            },
            "colorscale": [
             [
              0,
              "#0d0887"
             ],
             [
              0.1111111111111111,
              "#46039f"
             ],
             [
              0.2222222222222222,
              "#7201a8"
             ],
             [
              0.3333333333333333,
              "#9c179e"
             ],
             [
              0.4444444444444444,
              "#bd3786"
             ],
             [
              0.5555555555555556,
              "#d8576b"
             ],
             [
              0.6666666666666666,
              "#ed7953"
             ],
             [
              0.7777777777777778,
              "#fb9f3a"
             ],
             [
              0.8888888888888888,
              "#fdca26"
             ],
             [
              1,
              "#f0f921"
             ]
            ],
            "type": "histogram2dcontour"
           }
          ],
          "mesh3d": [
           {
            "colorbar": {
             "outlinewidth": 0,
             "ticks": ""
            },
            "type": "mesh3d"
           }
          ],
          "parcoords": [
           {
            "line": {
             "colorbar": {
              "outlinewidth": 0,
              "ticks": ""
             }
            },
            "type": "parcoords"
           }
          ],
          "pie": [
           {
            "automargin": true,
            "type": "pie"
           }
          ],
          "scatter": [
           {
            "fillpattern": {
             "fillmode": "overlay",
             "size": 10,
             "solidity": 0.2
            },
            "type": "scatter"
           }
          ],
          "scatter3d": [
           {
            "line": {
             "colorbar": {
              "outlinewidth": 0,
              "ticks": ""
             }
            },
            "marker": {
             "colorbar": {
              "outlinewidth": 0,
              "ticks": ""
             }
            },
            "type": "scatter3d"
           }
          ],
          "scattercarpet": [
           {
            "marker": {
             "colorbar": {
              "outlinewidth": 0,
              "ticks": ""
             }
            },
            "type": "scattercarpet"
           }
          ],
          "scattergeo": [
           {
            "marker": {
             "colorbar": {
              "outlinewidth": 0,
              "ticks": ""
             }
            },
            "type": "scattergeo"
           }
          ],
          "scattergl": [
           {
            "marker": {
             "colorbar": {
              "outlinewidth": 0,
              "ticks": ""
             }
            },
            "type": "scattergl"
           }
          ],
          "scattermapbox": [
           {
            "marker": {
             "colorbar": {
              "outlinewidth": 0,
              "ticks": ""
             }
            },
            "type": "scattermapbox"
           }
          ],
          "scatterpolar": [
           {
            "marker": {
             "colorbar": {
              "outlinewidth": 0,
              "ticks": ""
             }
            },
            "type": "scatterpolar"
           }
          ],
          "scatterpolargl": [
           {
            "marker": {
             "colorbar": {
              "outlinewidth": 0,
              "ticks": ""
             }
            },
            "type": "scatterpolargl"
           }
          ],
          "scatterternary": [
           {
            "marker": {
             "colorbar": {
              "outlinewidth": 0,
              "ticks": ""
             }
            },
            "type": "scatterternary"
           }
          ],
          "surface": [
           {
            "colorbar": {
             "outlinewidth": 0,
             "ticks": ""
            },
            "colorscale": [
             [
              0,
              "#0d0887"
             ],
             [
              0.1111111111111111,
              "#46039f"
             ],
             [
              0.2222222222222222,
              "#7201a8"
             ],
             [
              0.3333333333333333,
              "#9c179e"
             ],
             [
              0.4444444444444444,
              "#bd3786"
             ],
             [
              0.5555555555555556,
              "#d8576b"
             ],
             [
              0.6666666666666666,
              "#ed7953"
             ],
             [
              0.7777777777777778,
              "#fb9f3a"
             ],
             [
              0.8888888888888888,
              "#fdca26"
             ],
             [
              1,
              "#f0f921"
             ]
            ],
            "type": "surface"
           }
          ],
          "table": [
           {
            "cells": {
             "fill": {
              "color": "#EBF0F8"
             },
             "line": {
              "color": "white"
             }
            },
            "header": {
             "fill": {
              "color": "#C8D4E3"
             },
             "line": {
              "color": "white"
             }
            },
            "type": "table"
           }
          ]
         },
         "layout": {
          "annotationdefaults": {
           "arrowcolor": "#2a3f5f",
           "arrowhead": 0,
           "arrowwidth": 1
          },
          "autotypenumbers": "strict",
          "coloraxis": {
           "colorbar": {
            "outlinewidth": 0,
            "ticks": ""
           }
          },
          "colorscale": {
           "diverging": [
            [
             0,
             "#8e0152"
            ],
            [
             0.1,
             "#c51b7d"
            ],
            [
             0.2,
             "#de77ae"
            ],
            [
             0.3,
             "#f1b6da"
            ],
            [
             0.4,
             "#fde0ef"
            ],
            [
             0.5,
             "#f7f7f7"
            ],
            [
             0.6,
             "#e6f5d0"
            ],
            [
             0.7,
             "#b8e186"
            ],
            [
             0.8,
             "#7fbc41"
            ],
            [
             0.9,
             "#4d9221"
            ],
            [
             1,
             "#276419"
            ]
           ],
           "sequential": [
            [
             0,
             "#0d0887"
            ],
            [
             0.1111111111111111,
             "#46039f"
            ],
            [
             0.2222222222222222,
             "#7201a8"
            ],
            [
             0.3333333333333333,
             "#9c179e"
            ],
            [
             0.4444444444444444,
             "#bd3786"
            ],
            [
             0.5555555555555556,
             "#d8576b"
            ],
            [
             0.6666666666666666,
             "#ed7953"
            ],
            [
             0.7777777777777778,
             "#fb9f3a"
            ],
            [
             0.8888888888888888,
             "#fdca26"
            ],
            [
             1,
             "#f0f921"
            ]
           ],
           "sequentialminus": [
            [
             0,
             "#0d0887"
            ],
            [
             0.1111111111111111,
             "#46039f"
            ],
            [
             0.2222222222222222,
             "#7201a8"
            ],
            [
             0.3333333333333333,
             "#9c179e"
            ],
            [
             0.4444444444444444,
             "#bd3786"
            ],
            [
             0.5555555555555556,
             "#d8576b"
            ],
            [
             0.6666666666666666,
             "#ed7953"
            ],
            [
             0.7777777777777778,
             "#fb9f3a"
            ],
            [
             0.8888888888888888,
             "#fdca26"
            ],
            [
             1,
             "#f0f921"
            ]
           ]
          },
          "colorway": [
           "#636efa",
           "#EF553B",
           "#00cc96",
           "#ab63fa",
           "#FFA15A",
           "#19d3f3",
           "#FF6692",
           "#B6E880",
           "#FF97FF",
           "#FECB52"
          ],
          "font": {
           "color": "#2a3f5f"
          },
          "geo": {
           "bgcolor": "white",
           "lakecolor": "white",
           "landcolor": "#E5ECF6",
           "showlakes": true,
           "showland": true,
           "subunitcolor": "white"
          },
          "hoverlabel": {
           "align": "left"
          },
          "hovermode": "closest",
          "mapbox": {
           "style": "light"
          },
          "paper_bgcolor": "white",
          "plot_bgcolor": "#E5ECF6",
          "polar": {
           "angularaxis": {
            "gridcolor": "white",
            "linecolor": "white",
            "ticks": ""
           },
           "bgcolor": "#E5ECF6",
           "radialaxis": {
            "gridcolor": "white",
            "linecolor": "white",
            "ticks": ""
           }
          },
          "scene": {
           "xaxis": {
            "backgroundcolor": "#E5ECF6",
            "gridcolor": "white",
            "gridwidth": 2,
            "linecolor": "white",
            "showbackground": true,
            "ticks": "",
            "zerolinecolor": "white"
           },
           "yaxis": {
            "backgroundcolor": "#E5ECF6",
            "gridcolor": "white",
            "gridwidth": 2,
            "linecolor": "white",
            "showbackground": true,
            "ticks": "",
            "zerolinecolor": "white"
           },
           "zaxis": {
            "backgroundcolor": "#E5ECF6",
            "gridcolor": "white",
            "gridwidth": 2,
            "linecolor": "white",
            "showbackground": true,
            "ticks": "",
            "zerolinecolor": "white"
           }
          },
          "shapedefaults": {
           "line": {
            "color": "#2a3f5f"
           }
          },
          "ternary": {
           "aaxis": {
            "gridcolor": "white",
            "linecolor": "white",
            "ticks": ""
           },
           "baxis": {
            "gridcolor": "white",
            "linecolor": "white",
            "ticks": ""
           },
           "bgcolor": "#E5ECF6",
           "caxis": {
            "gridcolor": "white",
            "linecolor": "white",
            "ticks": ""
           }
          },
          "title": {
           "x": 0.05
          },
          "xaxis": {
           "automargin": true,
           "gridcolor": "white",
           "linecolor": "white",
           "ticks": "",
           "title": {
            "standoff": 15
           },
           "zerolinecolor": "white",
           "zerolinewidth": 2
          },
          "yaxis": {
           "automargin": true,
           "gridcolor": "white",
           "linecolor": "white",
           "ticks": "",
           "title": {
            "standoff": 15
           },
           "zerolinecolor": "white",
           "zerolinewidth": 2
          }
         }
        },
        "title": {
         "text": "Educational Level of Immigrants in Italy by Year"
        },
        "xaxis": {
         "anchor": "y",
         "domain": [
          0,
          1
         ],
         "title": {
          "text": "Year"
         }
        },
        "yaxis": {
         "anchor": "x",
         "domain": [
          0,
          1
         ],
         "title": {
          "text": "Value (%)"
         }
        }
       }
      },
      "text/html": [
       "<div>                            <div id=\"05cbfa6a-f731-40af-a313-ca3e56541f1a\" class=\"plotly-graph-div\" style=\"height:400px; width:100%;\"></div>            <script type=\"text/javascript\">                require([\"plotly\"], function(Plotly) {                    window.PLOTLYENV=window.PLOTLYENV || {};                                    if (document.getElementById(\"05cbfa6a-f731-40af-a313-ca3e56541f1a\")) {                    Plotly.newPlot(                        \"05cbfa6a-f731-40af-a313-ca3e56541f1a\",                        [{\"alignmentgroup\":\"True\",\"hovertemplate\":\"Education Level=ED0-2<br>Year=%{x}<br>Value (%)=%{text}<extra></extra>\",\"legendgroup\":\"ED0-2\",\"marker\":{\"color\":\"#636efa\",\"pattern\":{\"shape\":\"\"}},\"name\":\"ED0-2\",\"offsetgroup\":\"ED0-2\",\"orientation\":\"v\",\"showlegend\":true,\"text\":[50.3,50.1,50.3,49.2,47.6],\"textposition\":\"auto\",\"x\":[2018,2019,2020,2021,2022],\"xaxis\":\"x\",\"y\":[50.3,50.1,50.3,49.2,47.6],\"yaxis\":\"y\",\"type\":\"bar\"},{\"alignmentgroup\":\"True\",\"hovertemplate\":\"Education Level=ED3_4<br>Year=%{x}<br>Value (%)=%{text}<extra></extra>\",\"legendgroup\":\"ED3_4\",\"marker\":{\"color\":\"#EF553B\",\"pattern\":{\"shape\":\"\"}},\"name\":\"ED3_4\",\"offsetgroup\":\"ED3_4\",\"orientation\":\"v\",\"showlegend\":true,\"text\":[37.0,37.3,37.5,38.9,40.2],\"textposition\":\"auto\",\"x\":[2018,2019,2020,2021,2022],\"xaxis\":\"x\",\"y\":[37.0,37.3,37.5,38.9,40.2],\"yaxis\":\"y\",\"type\":\"bar\"},{\"alignmentgroup\":\"True\",\"hovertemplate\":\"Education Level=ED5-8<br>Year=%{x}<br>Value (%)=%{text}<extra></extra>\",\"legendgroup\":\"ED5-8\",\"marker\":{\"color\":\"#00cc96\",\"pattern\":{\"shape\":\"\"}},\"name\":\"ED5-8\",\"offsetgroup\":\"ED5-8\",\"orientation\":\"v\",\"showlegend\":true,\"text\":[12.7,12.6,12.2,11.9,12.2],\"textposition\":\"auto\",\"x\":[2018,2019,2020,2021,2022],\"xaxis\":\"x\",\"y\":[12.7,12.6,12.2,11.9,12.2],\"yaxis\":\"y\",\"type\":\"bar\"}],                        {\"template\":{\"data\":{\"histogram2dcontour\":[{\"type\":\"histogram2dcontour\",\"colorbar\":{\"outlinewidth\":0,\"ticks\":\"\"},\"colorscale\":[[0.0,\"#0d0887\"],[0.1111111111111111,\"#46039f\"],[0.2222222222222222,\"#7201a8\"],[0.3333333333333333,\"#9c179e\"],[0.4444444444444444,\"#bd3786\"],[0.5555555555555556,\"#d8576b\"],[0.6666666666666666,\"#ed7953\"],[0.7777777777777778,\"#fb9f3a\"],[0.8888888888888888,\"#fdca26\"],[1.0,\"#f0f921\"]]}],\"choropleth\":[{\"type\":\"choropleth\",\"colorbar\":{\"outlinewidth\":0,\"ticks\":\"\"}}],\"histogram2d\":[{\"type\":\"histogram2d\",\"colorbar\":{\"outlinewidth\":0,\"ticks\":\"\"},\"colorscale\":[[0.0,\"#0d0887\"],[0.1111111111111111,\"#46039f\"],[0.2222222222222222,\"#7201a8\"],[0.3333333333333333,\"#9c179e\"],[0.4444444444444444,\"#bd3786\"],[0.5555555555555556,\"#d8576b\"],[0.6666666666666666,\"#ed7953\"],[0.7777777777777778,\"#fb9f3a\"],[0.8888888888888888,\"#fdca26\"],[1.0,\"#f0f921\"]]}],\"heatmap\":[{\"type\":\"heatmap\",\"colorbar\":{\"outlinewidth\":0,\"ticks\":\"\"},\"colorscale\":[[0.0,\"#0d0887\"],[0.1111111111111111,\"#46039f\"],[0.2222222222222222,\"#7201a8\"],[0.3333333333333333,\"#9c179e\"],[0.4444444444444444,\"#bd3786\"],[0.5555555555555556,\"#d8576b\"],[0.6666666666666666,\"#ed7953\"],[0.7777777777777778,\"#fb9f3a\"],[0.8888888888888888,\"#fdca26\"],[1.0,\"#f0f921\"]]}],\"heatmapgl\":[{\"type\":\"heatmapgl\",\"colorbar\":{\"outlinewidth\":0,\"ticks\":\"\"},\"colorscale\":[[0.0,\"#0d0887\"],[0.1111111111111111,\"#46039f\"],[0.2222222222222222,\"#7201a8\"],[0.3333333333333333,\"#9c179e\"],[0.4444444444444444,\"#bd3786\"],[0.5555555555555556,\"#d8576b\"],[0.6666666666666666,\"#ed7953\"],[0.7777777777777778,\"#fb9f3a\"],[0.8888888888888888,\"#fdca26\"],[1.0,\"#f0f921\"]]}],\"contourcarpet\":[{\"type\":\"contourcarpet\",\"colorbar\":{\"outlinewidth\":0,\"ticks\":\"\"}}],\"contour\":[{\"type\":\"contour\",\"colorbar\":{\"outlinewidth\":0,\"ticks\":\"\"},\"colorscale\":[[0.0,\"#0d0887\"],[0.1111111111111111,\"#46039f\"],[0.2222222222222222,\"#7201a8\"],[0.3333333333333333,\"#9c179e\"],[0.4444444444444444,\"#bd3786\"],[0.5555555555555556,\"#d8576b\"],[0.6666666666666666,\"#ed7953\"],[0.7777777777777778,\"#fb9f3a\"],[0.8888888888888888,\"#fdca26\"],[1.0,\"#f0f921\"]]}],\"surface\":[{\"type\":\"surface\",\"colorbar\":{\"outlinewidth\":0,\"ticks\":\"\"},\"colorscale\":[[0.0,\"#0d0887\"],[0.1111111111111111,\"#46039f\"],[0.2222222222222222,\"#7201a8\"],[0.3333333333333333,\"#9c179e\"],[0.4444444444444444,\"#bd3786\"],[0.5555555555555556,\"#d8576b\"],[0.6666666666666666,\"#ed7953\"],[0.7777777777777778,\"#fb9f3a\"],[0.8888888888888888,\"#fdca26\"],[1.0,\"#f0f921\"]]}],\"mesh3d\":[{\"type\":\"mesh3d\",\"colorbar\":{\"outlinewidth\":0,\"ticks\":\"\"}}],\"scatter\":[{\"fillpattern\":{\"fillmode\":\"overlay\",\"size\":10,\"solidity\":0.2},\"type\":\"scatter\"}],\"parcoords\":[{\"type\":\"parcoords\",\"line\":{\"colorbar\":{\"outlinewidth\":0,\"ticks\":\"\"}}}],\"scatterpolargl\":[{\"type\":\"scatterpolargl\",\"marker\":{\"colorbar\":{\"outlinewidth\":0,\"ticks\":\"\"}}}],\"bar\":[{\"error_x\":{\"color\":\"#2a3f5f\"},\"error_y\":{\"color\":\"#2a3f5f\"},\"marker\":{\"line\":{\"color\":\"#E5ECF6\",\"width\":0.5},\"pattern\":{\"fillmode\":\"overlay\",\"size\":10,\"solidity\":0.2}},\"type\":\"bar\"}],\"scattergeo\":[{\"type\":\"scattergeo\",\"marker\":{\"colorbar\":{\"outlinewidth\":0,\"ticks\":\"\"}}}],\"scatterpolar\":[{\"type\":\"scatterpolar\",\"marker\":{\"colorbar\":{\"outlinewidth\":0,\"ticks\":\"\"}}}],\"histogram\":[{\"marker\":{\"pattern\":{\"fillmode\":\"overlay\",\"size\":10,\"solidity\":0.2}},\"type\":\"histogram\"}],\"scattergl\":[{\"type\":\"scattergl\",\"marker\":{\"colorbar\":{\"outlinewidth\":0,\"ticks\":\"\"}}}],\"scatter3d\":[{\"type\":\"scatter3d\",\"line\":{\"colorbar\":{\"outlinewidth\":0,\"ticks\":\"\"}},\"marker\":{\"colorbar\":{\"outlinewidth\":0,\"ticks\":\"\"}}}],\"scattermapbox\":[{\"type\":\"scattermapbox\",\"marker\":{\"colorbar\":{\"outlinewidth\":0,\"ticks\":\"\"}}}],\"scatterternary\":[{\"type\":\"scatterternary\",\"marker\":{\"colorbar\":{\"outlinewidth\":0,\"ticks\":\"\"}}}],\"scattercarpet\":[{\"type\":\"scattercarpet\",\"marker\":{\"colorbar\":{\"outlinewidth\":0,\"ticks\":\"\"}}}],\"carpet\":[{\"aaxis\":{\"endlinecolor\":\"#2a3f5f\",\"gridcolor\":\"white\",\"linecolor\":\"white\",\"minorgridcolor\":\"white\",\"startlinecolor\":\"#2a3f5f\"},\"baxis\":{\"endlinecolor\":\"#2a3f5f\",\"gridcolor\":\"white\",\"linecolor\":\"white\",\"minorgridcolor\":\"white\",\"startlinecolor\":\"#2a3f5f\"},\"type\":\"carpet\"}],\"table\":[{\"cells\":{\"fill\":{\"color\":\"#EBF0F8\"},\"line\":{\"color\":\"white\"}},\"header\":{\"fill\":{\"color\":\"#C8D4E3\"},\"line\":{\"color\":\"white\"}},\"type\":\"table\"}],\"barpolar\":[{\"marker\":{\"line\":{\"color\":\"#E5ECF6\",\"width\":0.5},\"pattern\":{\"fillmode\":\"overlay\",\"size\":10,\"solidity\":0.2}},\"type\":\"barpolar\"}],\"pie\":[{\"automargin\":true,\"type\":\"pie\"}]},\"layout\":{\"autotypenumbers\":\"strict\",\"colorway\":[\"#636efa\",\"#EF553B\",\"#00cc96\",\"#ab63fa\",\"#FFA15A\",\"#19d3f3\",\"#FF6692\",\"#B6E880\",\"#FF97FF\",\"#FECB52\"],\"font\":{\"color\":\"#2a3f5f\"},\"hovermode\":\"closest\",\"hoverlabel\":{\"align\":\"left\"},\"paper_bgcolor\":\"white\",\"plot_bgcolor\":\"#E5ECF6\",\"polar\":{\"bgcolor\":\"#E5ECF6\",\"angularaxis\":{\"gridcolor\":\"white\",\"linecolor\":\"white\",\"ticks\":\"\"},\"radialaxis\":{\"gridcolor\":\"white\",\"linecolor\":\"white\",\"ticks\":\"\"}},\"ternary\":{\"bgcolor\":\"#E5ECF6\",\"aaxis\":{\"gridcolor\":\"white\",\"linecolor\":\"white\",\"ticks\":\"\"},\"baxis\":{\"gridcolor\":\"white\",\"linecolor\":\"white\",\"ticks\":\"\"},\"caxis\":{\"gridcolor\":\"white\",\"linecolor\":\"white\",\"ticks\":\"\"}},\"coloraxis\":{\"colorbar\":{\"outlinewidth\":0,\"ticks\":\"\"}},\"colorscale\":{\"sequential\":[[0.0,\"#0d0887\"],[0.1111111111111111,\"#46039f\"],[0.2222222222222222,\"#7201a8\"],[0.3333333333333333,\"#9c179e\"],[0.4444444444444444,\"#bd3786\"],[0.5555555555555556,\"#d8576b\"],[0.6666666666666666,\"#ed7953\"],[0.7777777777777778,\"#fb9f3a\"],[0.8888888888888888,\"#fdca26\"],[1.0,\"#f0f921\"]],\"sequentialminus\":[[0.0,\"#0d0887\"],[0.1111111111111111,\"#46039f\"],[0.2222222222222222,\"#7201a8\"],[0.3333333333333333,\"#9c179e\"],[0.4444444444444444,\"#bd3786\"],[0.5555555555555556,\"#d8576b\"],[0.6666666666666666,\"#ed7953\"],[0.7777777777777778,\"#fb9f3a\"],[0.8888888888888888,\"#fdca26\"],[1.0,\"#f0f921\"]],\"diverging\":[[0,\"#8e0152\"],[0.1,\"#c51b7d\"],[0.2,\"#de77ae\"],[0.3,\"#f1b6da\"],[0.4,\"#fde0ef\"],[0.5,\"#f7f7f7\"],[0.6,\"#e6f5d0\"],[0.7,\"#b8e186\"],[0.8,\"#7fbc41\"],[0.9,\"#4d9221\"],[1,\"#276419\"]]},\"xaxis\":{\"gridcolor\":\"white\",\"linecolor\":\"white\",\"ticks\":\"\",\"title\":{\"standoff\":15},\"zerolinecolor\":\"white\",\"automargin\":true,\"zerolinewidth\":2},\"yaxis\":{\"gridcolor\":\"white\",\"linecolor\":\"white\",\"ticks\":\"\",\"title\":{\"standoff\":15},\"zerolinecolor\":\"white\",\"automargin\":true,\"zerolinewidth\":2},\"scene\":{\"xaxis\":{\"backgroundcolor\":\"#E5ECF6\",\"gridcolor\":\"white\",\"linecolor\":\"white\",\"showbackground\":true,\"ticks\":\"\",\"zerolinecolor\":\"white\",\"gridwidth\":2},\"yaxis\":{\"backgroundcolor\":\"#E5ECF6\",\"gridcolor\":\"white\",\"linecolor\":\"white\",\"showbackground\":true,\"ticks\":\"\",\"zerolinecolor\":\"white\",\"gridwidth\":2},\"zaxis\":{\"backgroundcolor\":\"#E5ECF6\",\"gridcolor\":\"white\",\"linecolor\":\"white\",\"showbackground\":true,\"ticks\":\"\",\"zerolinecolor\":\"white\",\"gridwidth\":2}},\"shapedefaults\":{\"line\":{\"color\":\"#2a3f5f\"}},\"annotationdefaults\":{\"arrowcolor\":\"#2a3f5f\",\"arrowhead\":0,\"arrowwidth\":1},\"geo\":{\"bgcolor\":\"white\",\"landcolor\":\"#E5ECF6\",\"subunitcolor\":\"white\",\"showland\":true,\"showlakes\":true,\"lakecolor\":\"white\"},\"title\":{\"x\":0.05},\"mapbox\":{\"style\":\"light\"}}},\"xaxis\":{\"anchor\":\"y\",\"domain\":[0.0,1.0],\"title\":{\"text\":\"Year\"}},\"yaxis\":{\"anchor\":\"x\",\"domain\":[0.0,1.0],\"title\":{\"text\":\"Value (%)\"}},\"legend\":{\"title\":{\"text\":\"Education Level\"},\"tracegroupgap\":0},\"title\":{\"text\":\"Educational Level of Immigrants in Italy by Year\"},\"barmode\":\"group\",\"height\":400},                        {\"responsive\": true}                    ).then(function(){\n",
       "                            \n",
       "var gd = document.getElementById('05cbfa6a-f731-40af-a313-ca3e56541f1a');\n",
       "var x = new MutationObserver(function (mutations, observer) {{\n",
       "        var display = window.getComputedStyle(gd).display;\n",
       "        if (!display || display === 'none') {{\n",
       "            console.log([gd, 'removed!']);\n",
       "            Plotly.purge(gd);\n",
       "            observer.disconnect();\n",
       "        }}\n",
       "}});\n",
       "\n",
       "// Listen for the removal of the full notebook cells\n",
       "var notebookContainer = gd.closest('#notebook-container');\n",
       "if (notebookContainer) {{\n",
       "    x.observe(notebookContainer, {childList: true});\n",
       "}}\n",
       "\n",
       "// Listen for the clearing of the current output cell\n",
       "var outputEl = gd.closest('.output');\n",
       "if (outputEl) {{\n",
       "    x.observe(outputEl, {childList: true});\n",
       "}}\n",
       "\n",
       "                        })                };                });            </script>        </div>"
      ]
     },
     "metadata": {},
     "output_type": "display_data"
    }
   ],
   "source": [
    "import plotly.express as px\n",
    "fig = px.bar(ed1_foreigners, x=\"Year\", y=\"Value (%)\",\n",
    "            color='Education Level', barmode='group', text=\"Value (%)\", height=400, title=\"Educational Level of Immigrants in Italy by Year\")\n",
    "fig.show()"
   ]
  },
  {
   "cell_type": "markdown",
   "id": "06df2b88",
   "metadata": {},
   "source": [
    "#### ED0-2: LESS THAN PRIMARY, PRIMARY AND LOWER SECONDARY EDUCATION\n",
    "#### ED3_4: UPPER SECONDARY AND POST-SECONDARY NON-TERTIARY EDUCATION\n",
    "#### ED5-8: TERTIARY EDUCATION"
   ]
  },
  {
   "cell_type": "code",
   "execution_count": 28,
   "id": "bae937a2",
   "metadata": {},
   "outputs": [],
   "source": [
    "ed1_foreigners.to_csv(r'C:\\Users\\User\\Documents\\GitHub\\openaccesstoimmigrants\\_datasets\\Clean\\D4\\D4.csv', sep=',', index=False, encoding='utf-8')\n",
    "ed1_foreigners.to_json(r'C:\\Users\\User\\Documents\\GitHub\\openaccesstoimmigrants\\_datasets\\Clean\\D4\\D4.json')"
   ]
  },
  {
   "cell_type": "code",
   "execution_count": 29,
   "id": "954fa3f7",
   "metadata": {},
   "outputs": [
    {
     "data": {
      "text/html": [
       "<div>\n",
       "<style scoped>\n",
       "    .dataframe tbody tr th:only-of-type {\n",
       "        vertical-align: middle;\n",
       "    }\n",
       "\n",
       "    .dataframe tbody tr th {\n",
       "        vertical-align: top;\n",
       "    }\n",
       "\n",
       "    .dataframe thead th {\n",
       "        text-align: right;\n",
       "    }\n",
       "</style>\n",
       "<table border=\"1\" class=\"dataframe\">\n",
       "  <thead>\n",
       "    <tr style=\"text-align: right;\">\n",
       "      <th></th>\n",
       "      <th>ITTER107</th>\n",
       "      <th>Territory</th>\n",
       "      <th>TIPO_DATO_FOL</th>\n",
       "      <th>Data type</th>\n",
       "      <th>SEXISTAT1</th>\n",
       "      <th>Gender</th>\n",
       "      <th>ETA1</th>\n",
       "      <th>Age class</th>\n",
       "      <th>TITOLO_STUDIO</th>\n",
       "      <th>Highest level of education attained</th>\n",
       "      <th>CITTADINANZA</th>\n",
       "      <th>Citizenship</th>\n",
       "      <th>TIME</th>\n",
       "      <th>Select time</th>\n",
       "      <th>Value</th>\n",
       "      <th>Flag Codes</th>\n",
       "      <th>Flags</th>\n",
       "    </tr>\n",
       "  </thead>\n",
       "  <tbody>\n",
       "    <tr>\n",
       "      <th>200</th>\n",
       "      <td>IT</td>\n",
       "      <td>Italy</td>\n",
       "      <td>ACT_R</td>\n",
       "      <td>activity rate</td>\n",
       "      <td>9</td>\n",
       "      <td>total</td>\n",
       "      <td>Y15-64</td>\n",
       "      <td>15-64 years</td>\n",
       "      <td>99</td>\n",
       "      <td>total</td>\n",
       "      <td>FRG</td>\n",
       "      <td>foreign</td>\n",
       "      <td>2018</td>\n",
       "      <td>2018</td>\n",
       "      <td>71.222439</td>\n",
       "      <td>NaN</td>\n",
       "      <td>NaN</td>\n",
       "    </tr>\n",
       "    <tr>\n",
       "      <th>205</th>\n",
       "      <td>IT</td>\n",
       "      <td>Italy</td>\n",
       "      <td>ACT_R</td>\n",
       "      <td>activity rate</td>\n",
       "      <td>9</td>\n",
       "      <td>total</td>\n",
       "      <td>Y15-64</td>\n",
       "      <td>15-64 years</td>\n",
       "      <td>99</td>\n",
       "      <td>total</td>\n",
       "      <td>FRG</td>\n",
       "      <td>foreign</td>\n",
       "      <td>2019</td>\n",
       "      <td>2019</td>\n",
       "      <td>70.897508</td>\n",
       "      <td>NaN</td>\n",
       "      <td>NaN</td>\n",
       "    </tr>\n",
       "    <tr>\n",
       "      <th>210</th>\n",
       "      <td>IT</td>\n",
       "      <td>Italy</td>\n",
       "      <td>ACT_R</td>\n",
       "      <td>activity rate</td>\n",
       "      <td>9</td>\n",
       "      <td>total</td>\n",
       "      <td>Y15-64</td>\n",
       "      <td>15-64 years</td>\n",
       "      <td>99</td>\n",
       "      <td>total</td>\n",
       "      <td>FRG</td>\n",
       "      <td>foreign</td>\n",
       "      <td>2020</td>\n",
       "      <td>2020</td>\n",
       "      <td>65.569988</td>\n",
       "      <td>NaN</td>\n",
       "      <td>NaN</td>\n",
       "    </tr>\n",
       "    <tr>\n",
       "      <th>215</th>\n",
       "      <td>IT</td>\n",
       "      <td>Italy</td>\n",
       "      <td>ACT_R</td>\n",
       "      <td>activity rate</td>\n",
       "      <td>9</td>\n",
       "      <td>total</td>\n",
       "      <td>Y15-64</td>\n",
       "      <td>15-64 years</td>\n",
       "      <td>99</td>\n",
       "      <td>total</td>\n",
       "      <td>FRG</td>\n",
       "      <td>foreign</td>\n",
       "      <td>2021</td>\n",
       "      <td>2021</td>\n",
       "      <td>67.610284</td>\n",
       "      <td>NaN</td>\n",
       "      <td>NaN</td>\n",
       "    </tr>\n",
       "    <tr>\n",
       "      <th>216</th>\n",
       "      <td>IT</td>\n",
       "      <td>Italy</td>\n",
       "      <td>ACT_R</td>\n",
       "      <td>activity rate</td>\n",
       "      <td>9</td>\n",
       "      <td>total</td>\n",
       "      <td>Y15-64</td>\n",
       "      <td>15-64 years</td>\n",
       "      <td>99</td>\n",
       "      <td>total</td>\n",
       "      <td>FRG</td>\n",
       "      <td>foreign</td>\n",
       "      <td>2022</td>\n",
       "      <td>2022</td>\n",
       "      <td>68.846199</td>\n",
       "      <td>NaN</td>\n",
       "      <td>NaN</td>\n",
       "    </tr>\n",
       "  </tbody>\n",
       "</table>\n",
       "</div>"
      ],
      "text/plain": [
       "    ITTER107 Territory TIPO_DATO_FOL      Data type  SEXISTAT1 Gender    ETA1  \\\n",
       "200       IT     Italy         ACT_R  activity rate          9  total  Y15-64   \n",
       "205       IT     Italy         ACT_R  activity rate          9  total  Y15-64   \n",
       "210       IT     Italy         ACT_R  activity rate          9  total  Y15-64   \n",
       "215       IT     Italy         ACT_R  activity rate          9  total  Y15-64   \n",
       "216       IT     Italy         ACT_R  activity rate          9  total  Y15-64   \n",
       "\n",
       "       Age class  TITOLO_STUDIO Highest level of education attained  \\\n",
       "200  15-64 years             99                               total   \n",
       "205  15-64 years             99                               total   \n",
       "210  15-64 years             99                               total   \n",
       "215  15-64 years             99                               total   \n",
       "216  15-64 years             99                               total   \n",
       "\n",
       "    CITTADINANZA Citizenship  TIME Select time      Value  Flag Codes  Flags  \n",
       "200          FRG     foreign  2018        2018  71.222439         NaN    NaN  \n",
       "205          FRG     foreign  2019        2019  70.897508         NaN    NaN  \n",
       "210          FRG     foreign  2020        2020  65.569988         NaN    NaN  \n",
       "215          FRG     foreign  2021        2021  67.610284         NaN    NaN  \n",
       "216          FRG     foreign  2022        2022  68.846199         NaN    NaN  "
      ]
     },
     "execution_count": 29,
     "metadata": {},
     "output_type": "execute_result"
    }
   ],
   "source": [
    "df_act = pd.read_csv(\"https://raw.githubusercontent.com/openaccesstoimmigrants/openaccesstoimmigrants/main/_datasets/ISTAT_Active_Foreigners%5B2018-2022%5D.csv\", sep=\",\")\n",
    "df_act = df_act[df_act[\"Gender\"] == 'total']\n",
    "df_act = df_act[df_act[\"Highest level of education attained\"] == 'total']\n",
    "df_act['TIME'] = df_act['TIME'].astype('str')\n",
    "mask = (df_act['TIME'].str.len() == 4)\n",
    "df_act = df_act.loc[mask]\n",
    "df_act"
   ]
  },
  {
   "cell_type": "code",
   "execution_count": 10,
   "id": "f8d5bd7e",
   "metadata": {},
   "outputs": [
    {
     "data": {
      "text/html": [
       "<div>\n",
       "<style scoped>\n",
       "    .dataframe tbody tr th:only-of-type {\n",
       "        vertical-align: middle;\n",
       "    }\n",
       "\n",
       "    .dataframe tbody tr th {\n",
       "        vertical-align: top;\n",
       "    }\n",
       "\n",
       "    .dataframe thead th {\n",
       "        text-align: right;\n",
       "    }\n",
       "</style>\n",
       "<table border=\"1\" class=\"dataframe\">\n",
       "  <thead>\n",
       "    <tr style=\"text-align: right;\">\n",
       "      <th></th>\n",
       "      <th>ITTER107</th>\n",
       "      <th>Territory</th>\n",
       "      <th>TIPO_DATO_FOL</th>\n",
       "      <th>Data type</th>\n",
       "      <th>SEXISTAT1</th>\n",
       "      <th>Gender</th>\n",
       "      <th>ETA1</th>\n",
       "      <th>Age class</th>\n",
       "      <th>TITOLO_STUDIO</th>\n",
       "      <th>Highest level of education attained</th>\n",
       "      <th>CITTADINANZA</th>\n",
       "      <th>Citizenship</th>\n",
       "      <th>TIME</th>\n",
       "      <th>Select time</th>\n",
       "      <th>Value</th>\n",
       "      <th>Flag Codes</th>\n",
       "      <th>Flags</th>\n",
       "    </tr>\n",
       "  </thead>\n",
       "  <tbody>\n",
       "    <tr>\n",
       "      <th>160</th>\n",
       "      <td>IT</td>\n",
       "      <td>Italy</td>\n",
       "      <td>INAC_R</td>\n",
       "      <td>inactivity rate</td>\n",
       "      <td>9</td>\n",
       "      <td>total</td>\n",
       "      <td>Y15-64</td>\n",
       "      <td>15-64 years</td>\n",
       "      <td>99</td>\n",
       "      <td>total</td>\n",
       "      <td>FRG</td>\n",
       "      <td>foreign</td>\n",
       "      <td>2018</td>\n",
       "      <td>2018</td>\n",
       "      <td>28.777561</td>\n",
       "      <td>NaN</td>\n",
       "      <td>NaN</td>\n",
       "    </tr>\n",
       "    <tr>\n",
       "      <th>165</th>\n",
       "      <td>IT</td>\n",
       "      <td>Italy</td>\n",
       "      <td>INAC_R</td>\n",
       "      <td>inactivity rate</td>\n",
       "      <td>9</td>\n",
       "      <td>total</td>\n",
       "      <td>Y15-64</td>\n",
       "      <td>15-64 years</td>\n",
       "      <td>99</td>\n",
       "      <td>total</td>\n",
       "      <td>FRG</td>\n",
       "      <td>foreign</td>\n",
       "      <td>2019</td>\n",
       "      <td>2019</td>\n",
       "      <td>29.102492</td>\n",
       "      <td>NaN</td>\n",
       "      <td>NaN</td>\n",
       "    </tr>\n",
       "    <tr>\n",
       "      <th>170</th>\n",
       "      <td>IT</td>\n",
       "      <td>Italy</td>\n",
       "      <td>INAC_R</td>\n",
       "      <td>inactivity rate</td>\n",
       "      <td>9</td>\n",
       "      <td>total</td>\n",
       "      <td>Y15-64</td>\n",
       "      <td>15-64 years</td>\n",
       "      <td>99</td>\n",
       "      <td>total</td>\n",
       "      <td>FRG</td>\n",
       "      <td>foreign</td>\n",
       "      <td>2020</td>\n",
       "      <td>2020</td>\n",
       "      <td>34.430012</td>\n",
       "      <td>NaN</td>\n",
       "      <td>NaN</td>\n",
       "    </tr>\n",
       "    <tr>\n",
       "      <th>175</th>\n",
       "      <td>IT</td>\n",
       "      <td>Italy</td>\n",
       "      <td>INAC_R</td>\n",
       "      <td>inactivity rate</td>\n",
       "      <td>9</td>\n",
       "      <td>total</td>\n",
       "      <td>Y15-64</td>\n",
       "      <td>15-64 years</td>\n",
       "      <td>99</td>\n",
       "      <td>total</td>\n",
       "      <td>FRG</td>\n",
       "      <td>foreign</td>\n",
       "      <td>2021</td>\n",
       "      <td>2021</td>\n",
       "      <td>32.389716</td>\n",
       "      <td>NaN</td>\n",
       "      <td>NaN</td>\n",
       "    </tr>\n",
       "  </tbody>\n",
       "</table>\n",
       "</div>"
      ],
      "text/plain": [
       "    ITTER107 Territory TIPO_DATO_FOL        Data type  SEXISTAT1 Gender  \\\n",
       "160       IT     Italy        INAC_R  inactivity rate          9  total   \n",
       "165       IT     Italy        INAC_R  inactivity rate          9  total   \n",
       "170       IT     Italy        INAC_R  inactivity rate          9  total   \n",
       "175       IT     Italy        INAC_R  inactivity rate          9  total   \n",
       "\n",
       "       ETA1    Age class  TITOLO_STUDIO Highest level of education attained  \\\n",
       "160  Y15-64  15-64 years             99                               total   \n",
       "165  Y15-64  15-64 years             99                               total   \n",
       "170  Y15-64  15-64 years             99                               total   \n",
       "175  Y15-64  15-64 years             99                               total   \n",
       "\n",
       "    CITTADINANZA Citizenship  TIME Select time      Value  Flag Codes  Flags  \n",
       "160          FRG     foreign  2018        2018  28.777561         NaN    NaN  \n",
       "165          FRG     foreign  2019        2019  29.102492         NaN    NaN  \n",
       "170          FRG     foreign  2020        2020  34.430012         NaN    NaN  \n",
       "175          FRG     foreign  2021        2021  32.389716         NaN    NaN  "
      ]
     },
     "execution_count": 10,
     "metadata": {},
     "output_type": "execute_result"
    }
   ],
   "source": [
    "df_inact = pd.read_csv(\"https://raw.githubusercontent.com/openaccesstoimmigrants/openaccesstoimmigrants/main/_datasets/ISTAT_Inactive_Foreigners%5B2018-2021%5D.csv\", sep=\",\")\n",
    "df_inact = df_inact[df_inact[\"Gender\"] == 'total']\n",
    "df_inact = df_inact[df_inact[\"Highest level of education attained\"] == 'total']\n",
    "df_inact['TIME'] = df_inact['TIME'].astype('str')\n",
    "mask = (df_inact['TIME'].str.len() == 4)\n",
    "df_inact = df_inact.loc[mask]\n",
    "df_inact"
   ]
  },
  {
   "cell_type": "code",
   "execution_count": 30,
   "id": "9f1794fb",
   "metadata": {},
   "outputs": [
    {
     "data": {
      "text/html": [
       "<div>\n",
       "<style scoped>\n",
       "    .dataframe tbody tr th:only-of-type {\n",
       "        vertical-align: middle;\n",
       "    }\n",
       "\n",
       "    .dataframe tbody tr th {\n",
       "        vertical-align: top;\n",
       "    }\n",
       "\n",
       "    .dataframe thead th {\n",
       "        text-align: right;\n",
       "    }\n",
       "</style>\n",
       "<table border=\"1\" class=\"dataframe\">\n",
       "  <thead>\n",
       "    <tr style=\"text-align: right;\">\n",
       "      <th></th>\n",
       "      <th>Occupations</th>\n",
       "      <th>Year</th>\n",
       "      <th>Value (thousands)</th>\n",
       "    </tr>\n",
       "  </thead>\n",
       "  <tbody>\n",
       "    <tr>\n",
       "      <th>0</th>\n",
       "      <td>agriculture, forestry and fishing</td>\n",
       "      <td>2018</td>\n",
       "      <td>147.690</td>\n",
       "    </tr>\n",
       "    <tr>\n",
       "      <th>5</th>\n",
       "      <td>agriculture, forestry and fishing</td>\n",
       "      <td>2019</td>\n",
       "      <td>157.453</td>\n",
       "    </tr>\n",
       "    <tr>\n",
       "      <th>10</th>\n",
       "      <td>agriculture, forestry and fishing</td>\n",
       "      <td>2020</td>\n",
       "      <td>161.050</td>\n",
       "    </tr>\n",
       "    <tr>\n",
       "      <th>15</th>\n",
       "      <td>agriculture, forestry and fishing</td>\n",
       "      <td>2021</td>\n",
       "      <td>164.842</td>\n",
       "    </tr>\n",
       "    <tr>\n",
       "      <th>16</th>\n",
       "      <td>agriculture, forestry and fishing</td>\n",
       "      <td>2022</td>\n",
       "      <td>154.819</td>\n",
       "    </tr>\n",
       "    <tr>\n",
       "      <th>...</th>\n",
       "      <td>...</td>\n",
       "      <td>...</td>\n",
       "      <td>...</td>\n",
       "    </tr>\n",
       "    <tr>\n",
       "      <th>3422</th>\n",
       "      <td>other services activity (j to u)</td>\n",
       "      <td>2018</td>\n",
       "      <td>972.921</td>\n",
       "    </tr>\n",
       "    <tr>\n",
       "      <th>3427</th>\n",
       "      <td>other services activity (j to u)</td>\n",
       "      <td>2019</td>\n",
       "      <td>969.710</td>\n",
       "    </tr>\n",
       "    <tr>\n",
       "      <th>3432</th>\n",
       "      <td>other services activity (j to u)</td>\n",
       "      <td>2020</td>\n",
       "      <td>905.221</td>\n",
       "    </tr>\n",
       "    <tr>\n",
       "      <th>3437</th>\n",
       "      <td>other services activity (j to u)</td>\n",
       "      <td>2021</td>\n",
       "      <td>944.104</td>\n",
       "    </tr>\n",
       "    <tr>\n",
       "      <th>3438</th>\n",
       "      <td>other services activity (j to u)</td>\n",
       "      <td>2022</td>\n",
       "      <td>952.304</td>\n",
       "    </tr>\n",
       "  </tbody>\n",
       "</table>\n",
       "<p>90 rows × 3 columns</p>\n",
       "</div>"
      ],
      "text/plain": [
       "                            Occupations  Year  Value (thousands)\n",
       "0     agriculture, forestry and fishing  2018            147.690\n",
       "5     agriculture, forestry and fishing  2019            157.453\n",
       "10    agriculture, forestry and fishing  2020            161.050\n",
       "15    agriculture, forestry and fishing  2021            164.842\n",
       "16    agriculture, forestry and fishing  2022            154.819\n",
       "...                                 ...   ...                ...\n",
       "3422   other services activity (j to u)  2018            972.921\n",
       "3427   other services activity (j to u)  2019            969.710\n",
       "3432   other services activity (j to u)  2020            905.221\n",
       "3437   other services activity (j to u)  2021            944.104\n",
       "3438   other services activity (j to u)  2022            952.304\n",
       "\n",
       "[90 rows x 3 columns]"
      ]
     },
     "execution_count": 30,
     "metadata": {},
     "output_type": "execute_result"
    }
   ],
   "source": [
    "df_prof = pd.read_csv(\"https://raw.githubusercontent.com/openaccesstoimmigrants/openaccesstoimmigrants/main/_datasets/ISTAT_Occupations_Industry_2018_2022.csv\", sep=\",\")\n",
    "df_prof['TIME'] = df_prof['TIME'].astype('str')\n",
    "mask = (df_prof['TIME'].str.len() == 4)\n",
    "df_prof = df_prof.loc[mask]\n",
    "\n",
    "df_prof = df_prof[df_prof[\"ITTER107\"] == 'IT']\n",
    "df_prof = df_prof[df_prof[\"NACE 2007\"] != 'TOTAL']\n",
    "df_prof = df_prof[df_prof[\"NACE 2007\"] != 'TOTAL INDUSTRY EXCLUDING CONSTRUCTION (b to e)']\n",
    "\n",
    "df_prof = df_prof[['NACE 2007','TIME','Value']].copy()\n",
    "\n",
    "df_prof = df_prof.rename(columns={'NACE 2007':'Occupations','TIME':'Year','Value':'Value (thousands)'})\n",
    "\n",
    "df_prof"
   ]
  },
  {
   "cell_type": "code",
   "execution_count": 31,
   "id": "b77466dc",
   "metadata": {},
   "outputs": [
    {
     "data": {
      "application/vnd.plotly.v1+json": {
       "config": {
        "plotlyServerURL": "https://plot.ly"
       },
       "data": [
        {
         "alignmentgroup": "True",
         "hovertemplate": "Occupations=agriculture, forestry and fishing<br>Year=%{x}<br>Value (thousands)=%{text}<extra></extra>",
         "legendgroup": "agriculture, forestry and fishing",
         "marker": {
          "color": "#636efa",
          "pattern": {
           "shape": ""
          }
         },
         "name": "agriculture, forestry and fishing",
         "offsetgroup": "agriculture, forestry and fishing",
         "orientation": "v",
         "showlegend": true,
         "text": [
          147.69,
          157.453,
          161.05,
          164.842,
          154.819,
          142.448,
          151.532,
          155.468,
          155.319,
          146.445,
          5.242,
          5.921,
          5.582,
          9.523,
          8.374
         ],
         "textposition": "auto",
         "type": "bar",
         "x": [
          "2018",
          "2019",
          "2020",
          "2021",
          "2022",
          "2018",
          "2019",
          "2020",
          "2021",
          "2022",
          "2018",
          "2019",
          "2020",
          "2021",
          "2022"
         ],
         "xaxis": "x",
         "y": [
          147.69,
          157.453,
          161.05,
          164.842,
          154.819,
          142.448,
          151.532,
          155.468,
          155.319,
          146.445,
          5.242,
          5.921,
          5.582,
          9.523,
          8.374
         ],
         "yaxis": "y"
        },
        {
         "alignmentgroup": "True",
         "hovertemplate": "Occupations=construction<br>Year=%{x}<br>Value (thousands)=%{text}<extra></extra>",
         "legendgroup": "construction",
         "marker": {
          "color": "#EF553B",
          "pattern": {
           "shape": ""
          }
         },
         "name": "construction",
         "offsetgroup": "construction",
         "orientation": "v",
         "showlegend": true,
         "text": [
          57.197,
          58.518,
          57.494,
          58.415,
          63.055,
          170.404,
          163.825,
          158.688,
          163.501,
          179.517,
          227.601,
          222.343,
          216.182,
          221.916,
          242.572
         ],
         "textposition": "auto",
         "type": "bar",
         "x": [
          "2018",
          "2019",
          "2020",
          "2021",
          "2022",
          "2018",
          "2019",
          "2020",
          "2021",
          "2022",
          "2018",
          "2019",
          "2020",
          "2021",
          "2022"
         ],
         "xaxis": "x",
         "y": [
          57.197,
          58.518,
          57.494,
          58.415,
          63.055,
          170.404,
          163.825,
          158.688,
          163.501,
          179.517,
          227.601,
          222.343,
          216.182,
          221.916,
          242.572
         ],
         "yaxis": "y"
        },
        {
         "alignmentgroup": "True",
         "hovertemplate": "Occupations=TOTAL SERVICES (g to u)<br>Year=%{x}<br>Value (thousands)=%{text}<extra></extra>",
         "legendgroup": "TOTAL SERVICES (g to u)",
         "marker": {
          "color": "#00cc96",
          "pattern": {
           "shape": ""
          }
         },
         "name": "TOTAL SERVICES (g to u)",
         "offsetgroup": "TOTAL SERVICES (g to u)",
         "orientation": "v",
         "showlegend": true,
         "text": [
          216.693,
          222.454,
          187.293,
          195.805,
          213.184,
          1328.138,
          1332.22,
          1216.094,
          1249.987,
          1310.242,
          1544.831,
          1554.674,
          1403.387,
          1445.793,
          1523.426
         ],
         "textposition": "auto",
         "type": "bar",
         "x": [
          "2018",
          "2019",
          "2020",
          "2021",
          "2022",
          "2018",
          "2019",
          "2020",
          "2021",
          "2022",
          "2018",
          "2019",
          "2020",
          "2021",
          "2022"
         ],
         "xaxis": "x",
         "y": [
          216.693,
          222.454,
          187.293,
          195.805,
          213.184,
          1328.138,
          1332.22,
          1216.094,
          1249.987,
          1310.242,
          1544.831,
          1554.674,
          1403.387,
          1445.793,
          1523.426
         ],
         "yaxis": "y"
        },
        {
         "alignmentgroup": "True",
         "hovertemplate": "Occupations=trade, hotels and restaurants (g and i)<br>Year=%{x}<br>Value (thousands)=%{text}<extra></extra>",
         "legendgroup": "trade, hotels and restaurants (g and i)",
         "marker": {
          "color": "#ab63fa",
          "pattern": {
           "shape": ""
          }
         },
         "name": "trade, hotels and restaurants (g and i)",
         "offsetgroup": "trade, hotels and restaurants (g and i)",
         "orientation": "v",
         "showlegend": true,
         "text": [
          355.217,
          362.511,
          310.873,
          305.883,
          357.938,
          132.537,
          130.827,
          103.858,
          105.514,
          121.472,
          487.755,
          493.337,
          414.731,
          411.397,
          479.41
         ],
         "textposition": "auto",
         "type": "bar",
         "x": [
          "2018",
          "2019",
          "2020",
          "2021",
          "2022",
          "2018",
          "2019",
          "2020",
          "2021",
          "2022",
          "2018",
          "2019",
          "2020",
          "2021",
          "2022"
         ],
         "xaxis": "x",
         "y": [
          355.217,
          362.511,
          310.873,
          305.883,
          357.938,
          132.537,
          130.827,
          103.858,
          105.514,
          121.472,
          487.755,
          493.337,
          414.731,
          411.397,
          479.41
         ],
         "yaxis": "y"
        },
        {
         "alignmentgroup": "True",
         "hovertemplate": "Occupations=TOTAL INDUSTRY (b to f)<br>Year=%{x}<br>Value (thousands)=%{text}<extra></extra>",
         "legendgroup": "TOTAL INDUSTRY (b to f)",
         "marker": {
          "color": "#FFA15A",
          "pattern": {
           "shape": ""
          }
         },
         "name": "TOTAL INDUSTRY (b to f)",
         "offsetgroup": "TOTAL INDUSTRY (b to f)",
         "orientation": "v",
         "showlegend": true,
         "text": [
          644.878,
          667.577,
          639.707,
          646.459,
          696.225,
          571.069,
          592.826,
          560.939,
          567.62,
          610.986,
          73.809,
          74.752,
          78.768,
          78.839,
          85.239
         ],
         "textposition": "auto",
         "type": "bar",
         "x": [
          "2018",
          "2019",
          "2020",
          "2021",
          "2022",
          "2018",
          "2019",
          "2020",
          "2021",
          "2022",
          "2018",
          "2019",
          "2020",
          "2021",
          "2022"
         ],
         "xaxis": "x",
         "y": [
          644.878,
          667.577,
          639.707,
          646.459,
          696.225,
          571.069,
          592.826,
          560.939,
          567.62,
          610.986,
          73.809,
          74.752,
          78.768,
          78.839,
          85.239
         ],
         "yaxis": "y"
        },
        {
         "alignmentgroup": "True",
         "hovertemplate": "Occupations=other services activity (j to u)<br>Year=%{x}<br>Value (thousands)=%{text}<extra></extra>",
         "legendgroup": "other services activity (j to u)",
         "marker": {
          "color": "#19d3f3",
          "pattern": {
           "shape": ""
          }
         },
         "name": "other services activity (j to u)",
         "offsetgroup": "other services activity (j to u)",
         "orientation": "v",
         "showlegend": true,
         "text": [
          84.156,
          91.627,
          83.435,
          90.291,
          91.713,
          1057.076,
          1061.337,
          988.656,
          1034.396,
          1044.016,
          972.921,
          969.71,
          905.221,
          944.104,
          952.304
         ],
         "textposition": "auto",
         "type": "bar",
         "x": [
          "2018",
          "2019",
          "2020",
          "2021",
          "2022",
          "2018",
          "2019",
          "2020",
          "2021",
          "2022",
          "2018",
          "2019",
          "2020",
          "2021",
          "2022"
         ],
         "xaxis": "x",
         "y": [
          84.156,
          91.627,
          83.435,
          90.291,
          91.713,
          1057.076,
          1061.337,
          988.656,
          1034.396,
          1044.016,
          972.921,
          969.71,
          905.221,
          944.104,
          952.304
         ],
         "yaxis": "y"
        }
       ],
       "layout": {
        "barmode": "group",
        "height": 400,
        "legend": {
         "title": {
          "text": "Occupations"
         },
         "tracegroupgap": 0
        },
        "template": {
         "data": {
          "bar": [
           {
            "error_x": {
             "color": "#2a3f5f"
            },
            "error_y": {
             "color": "#2a3f5f"
            },
            "marker": {
             "line": {
              "color": "#E5ECF6",
              "width": 0.5
             },
             "pattern": {
              "fillmode": "overlay",
              "size": 10,
              "solidity": 0.2
             }
            },
            "type": "bar"
           }
          ],
          "barpolar": [
           {
            "marker": {
             "line": {
              "color": "#E5ECF6",
              "width": 0.5
             },
             "pattern": {
              "fillmode": "overlay",
              "size": 10,
              "solidity": 0.2
             }
            },
            "type": "barpolar"
           }
          ],
          "carpet": [
           {
            "aaxis": {
             "endlinecolor": "#2a3f5f",
             "gridcolor": "white",
             "linecolor": "white",
             "minorgridcolor": "white",
             "startlinecolor": "#2a3f5f"
            },
            "baxis": {
             "endlinecolor": "#2a3f5f",
             "gridcolor": "white",
             "linecolor": "white",
             "minorgridcolor": "white",
             "startlinecolor": "#2a3f5f"
            },
            "type": "carpet"
           }
          ],
          "choropleth": [
           {
            "colorbar": {
             "outlinewidth": 0,
             "ticks": ""
            },
            "type": "choropleth"
           }
          ],
          "contour": [
           {
            "colorbar": {
             "outlinewidth": 0,
             "ticks": ""
            },
            "colorscale": [
             [
              0,
              "#0d0887"
             ],
             [
              0.1111111111111111,
              "#46039f"
             ],
             [
              0.2222222222222222,
              "#7201a8"
             ],
             [
              0.3333333333333333,
              "#9c179e"
             ],
             [
              0.4444444444444444,
              "#bd3786"
             ],
             [
              0.5555555555555556,
              "#d8576b"
             ],
             [
              0.6666666666666666,
              "#ed7953"
             ],
             [
              0.7777777777777778,
              "#fb9f3a"
             ],
             [
              0.8888888888888888,
              "#fdca26"
             ],
             [
              1,
              "#f0f921"
             ]
            ],
            "type": "contour"
           }
          ],
          "contourcarpet": [
           {
            "colorbar": {
             "outlinewidth": 0,
             "ticks": ""
            },
            "type": "contourcarpet"
           }
          ],
          "heatmap": [
           {
            "colorbar": {
             "outlinewidth": 0,
             "ticks": ""
            },
            "colorscale": [
             [
              0,
              "#0d0887"
             ],
             [
              0.1111111111111111,
              "#46039f"
             ],
             [
              0.2222222222222222,
              "#7201a8"
             ],
             [
              0.3333333333333333,
              "#9c179e"
             ],
             [
              0.4444444444444444,
              "#bd3786"
             ],
             [
              0.5555555555555556,
              "#d8576b"
             ],
             [
              0.6666666666666666,
              "#ed7953"
             ],
             [
              0.7777777777777778,
              "#fb9f3a"
             ],
             [
              0.8888888888888888,
              "#fdca26"
             ],
             [
              1,
              "#f0f921"
             ]
            ],
            "type": "heatmap"
           }
          ],
          "heatmapgl": [
           {
            "colorbar": {
             "outlinewidth": 0,
             "ticks": ""
            },
            "colorscale": [
             [
              0,
              "#0d0887"
             ],
             [
              0.1111111111111111,
              "#46039f"
             ],
             [
              0.2222222222222222,
              "#7201a8"
             ],
             [
              0.3333333333333333,
              "#9c179e"
             ],
             [
              0.4444444444444444,
              "#bd3786"
             ],
             [
              0.5555555555555556,
              "#d8576b"
             ],
             [
              0.6666666666666666,
              "#ed7953"
             ],
             [
              0.7777777777777778,
              "#fb9f3a"
             ],
             [
              0.8888888888888888,
              "#fdca26"
             ],
             [
              1,
              "#f0f921"
             ]
            ],
            "type": "heatmapgl"
           }
          ],
          "histogram": [
           {
            "marker": {
             "pattern": {
              "fillmode": "overlay",
              "size": 10,
              "solidity": 0.2
             }
            },
            "type": "histogram"
           }
          ],
          "histogram2d": [
           {
            "colorbar": {
             "outlinewidth": 0,
             "ticks": ""
            },
            "colorscale": [
             [
              0,
              "#0d0887"
             ],
             [
              0.1111111111111111,
              "#46039f"
             ],
             [
              0.2222222222222222,
              "#7201a8"
             ],
             [
              0.3333333333333333,
              "#9c179e"
             ],
             [
              0.4444444444444444,
              "#bd3786"
             ],
             [
              0.5555555555555556,
              "#d8576b"
             ],
             [
              0.6666666666666666,
              "#ed7953"
             ],
             [
              0.7777777777777778,
              "#fb9f3a"
             ],
             [
              0.8888888888888888,
              "#fdca26"
             ],
             [
              1,
              "#f0f921"
             ]
            ],
            "type": "histogram2d"
           }
          ],
          "histogram2dcontour": [
           {
            "colorbar": {
             "outlinewidth": 0,
             "ticks": ""
            },
            "colorscale": [
             [
              0,
              "#0d0887"
             ],
             [
              0.1111111111111111,
              "#46039f"
             ],
             [
              0.2222222222222222,
              "#7201a8"
             ],
             [
              0.3333333333333333,
              "#9c179e"
             ],
             [
              0.4444444444444444,
              "#bd3786"
             ],
             [
              0.5555555555555556,
              "#d8576b"
             ],
             [
              0.6666666666666666,
              "#ed7953"
             ],
             [
              0.7777777777777778,
              "#fb9f3a"
             ],
             [
              0.8888888888888888,
              "#fdca26"
             ],
             [
              1,
              "#f0f921"
             ]
            ],
            "type": "histogram2dcontour"
           }
          ],
          "mesh3d": [
           {
            "colorbar": {
             "outlinewidth": 0,
             "ticks": ""
            },
            "type": "mesh3d"
           }
          ],
          "parcoords": [
           {
            "line": {
             "colorbar": {
              "outlinewidth": 0,
              "ticks": ""
             }
            },
            "type": "parcoords"
           }
          ],
          "pie": [
           {
            "automargin": true,
            "type": "pie"
           }
          ],
          "scatter": [
           {
            "fillpattern": {
             "fillmode": "overlay",
             "size": 10,
             "solidity": 0.2
            },
            "type": "scatter"
           }
          ],
          "scatter3d": [
           {
            "line": {
             "colorbar": {
              "outlinewidth": 0,
              "ticks": ""
             }
            },
            "marker": {
             "colorbar": {
              "outlinewidth": 0,
              "ticks": ""
             }
            },
            "type": "scatter3d"
           }
          ],
          "scattercarpet": [
           {
            "marker": {
             "colorbar": {
              "outlinewidth": 0,
              "ticks": ""
             }
            },
            "type": "scattercarpet"
           }
          ],
          "scattergeo": [
           {
            "marker": {
             "colorbar": {
              "outlinewidth": 0,
              "ticks": ""
             }
            },
            "type": "scattergeo"
           }
          ],
          "scattergl": [
           {
            "marker": {
             "colorbar": {
              "outlinewidth": 0,
              "ticks": ""
             }
            },
            "type": "scattergl"
           }
          ],
          "scattermapbox": [
           {
            "marker": {
             "colorbar": {
              "outlinewidth": 0,
              "ticks": ""
             }
            },
            "type": "scattermapbox"
           }
          ],
          "scatterpolar": [
           {
            "marker": {
             "colorbar": {
              "outlinewidth": 0,
              "ticks": ""
             }
            },
            "type": "scatterpolar"
           }
          ],
          "scatterpolargl": [
           {
            "marker": {
             "colorbar": {
              "outlinewidth": 0,
              "ticks": ""
             }
            },
            "type": "scatterpolargl"
           }
          ],
          "scatterternary": [
           {
            "marker": {
             "colorbar": {
              "outlinewidth": 0,
              "ticks": ""
             }
            },
            "type": "scatterternary"
           }
          ],
          "surface": [
           {
            "colorbar": {
             "outlinewidth": 0,
             "ticks": ""
            },
            "colorscale": [
             [
              0,
              "#0d0887"
             ],
             [
              0.1111111111111111,
              "#46039f"
             ],
             [
              0.2222222222222222,
              "#7201a8"
             ],
             [
              0.3333333333333333,
              "#9c179e"
             ],
             [
              0.4444444444444444,
              "#bd3786"
             ],
             [
              0.5555555555555556,
              "#d8576b"
             ],
             [
              0.6666666666666666,
              "#ed7953"
             ],
             [
              0.7777777777777778,
              "#fb9f3a"
             ],
             [
              0.8888888888888888,
              "#fdca26"
             ],
             [
              1,
              "#f0f921"
             ]
            ],
            "type": "surface"
           }
          ],
          "table": [
           {
            "cells": {
             "fill": {
              "color": "#EBF0F8"
             },
             "line": {
              "color": "white"
             }
            },
            "header": {
             "fill": {
              "color": "#C8D4E3"
             },
             "line": {
              "color": "white"
             }
            },
            "type": "table"
           }
          ]
         },
         "layout": {
          "annotationdefaults": {
           "arrowcolor": "#2a3f5f",
           "arrowhead": 0,
           "arrowwidth": 1
          },
          "autotypenumbers": "strict",
          "coloraxis": {
           "colorbar": {
            "outlinewidth": 0,
            "ticks": ""
           }
          },
          "colorscale": {
           "diverging": [
            [
             0,
             "#8e0152"
            ],
            [
             0.1,
             "#c51b7d"
            ],
            [
             0.2,
             "#de77ae"
            ],
            [
             0.3,
             "#f1b6da"
            ],
            [
             0.4,
             "#fde0ef"
            ],
            [
             0.5,
             "#f7f7f7"
            ],
            [
             0.6,
             "#e6f5d0"
            ],
            [
             0.7,
             "#b8e186"
            ],
            [
             0.8,
             "#7fbc41"
            ],
            [
             0.9,
             "#4d9221"
            ],
            [
             1,
             "#276419"
            ]
           ],
           "sequential": [
            [
             0,
             "#0d0887"
            ],
            [
             0.1111111111111111,
             "#46039f"
            ],
            [
             0.2222222222222222,
             "#7201a8"
            ],
            [
             0.3333333333333333,
             "#9c179e"
            ],
            [
             0.4444444444444444,
             "#bd3786"
            ],
            [
             0.5555555555555556,
             "#d8576b"
            ],
            [
             0.6666666666666666,
             "#ed7953"
            ],
            [
             0.7777777777777778,
             "#fb9f3a"
            ],
            [
             0.8888888888888888,
             "#fdca26"
            ],
            [
             1,
             "#f0f921"
            ]
           ],
           "sequentialminus": [
            [
             0,
             "#0d0887"
            ],
            [
             0.1111111111111111,
             "#46039f"
            ],
            [
             0.2222222222222222,
             "#7201a8"
            ],
            [
             0.3333333333333333,
             "#9c179e"
            ],
            [
             0.4444444444444444,
             "#bd3786"
            ],
            [
             0.5555555555555556,
             "#d8576b"
            ],
            [
             0.6666666666666666,
             "#ed7953"
            ],
            [
             0.7777777777777778,
             "#fb9f3a"
            ],
            [
             0.8888888888888888,
             "#fdca26"
            ],
            [
             1,
             "#f0f921"
            ]
           ]
          },
          "colorway": [
           "#636efa",
           "#EF553B",
           "#00cc96",
           "#ab63fa",
           "#FFA15A",
           "#19d3f3",
           "#FF6692",
           "#B6E880",
           "#FF97FF",
           "#FECB52"
          ],
          "font": {
           "color": "#2a3f5f"
          },
          "geo": {
           "bgcolor": "white",
           "lakecolor": "white",
           "landcolor": "#E5ECF6",
           "showlakes": true,
           "showland": true,
           "subunitcolor": "white"
          },
          "hoverlabel": {
           "align": "left"
          },
          "hovermode": "closest",
          "mapbox": {
           "style": "light"
          },
          "paper_bgcolor": "white",
          "plot_bgcolor": "#E5ECF6",
          "polar": {
           "angularaxis": {
            "gridcolor": "white",
            "linecolor": "white",
            "ticks": ""
           },
           "bgcolor": "#E5ECF6",
           "radialaxis": {
            "gridcolor": "white",
            "linecolor": "white",
            "ticks": ""
           }
          },
          "scene": {
           "xaxis": {
            "backgroundcolor": "#E5ECF6",
            "gridcolor": "white",
            "gridwidth": 2,
            "linecolor": "white",
            "showbackground": true,
            "ticks": "",
            "zerolinecolor": "white"
           },
           "yaxis": {
            "backgroundcolor": "#E5ECF6",
            "gridcolor": "white",
            "gridwidth": 2,
            "linecolor": "white",
            "showbackground": true,
            "ticks": "",
            "zerolinecolor": "white"
           },
           "zaxis": {
            "backgroundcolor": "#E5ECF6",
            "gridcolor": "white",
            "gridwidth": 2,
            "linecolor": "white",
            "showbackground": true,
            "ticks": "",
            "zerolinecolor": "white"
           }
          },
          "shapedefaults": {
           "line": {
            "color": "#2a3f5f"
           }
          },
          "ternary": {
           "aaxis": {
            "gridcolor": "white",
            "linecolor": "white",
            "ticks": ""
           },
           "baxis": {
            "gridcolor": "white",
            "linecolor": "white",
            "ticks": ""
           },
           "bgcolor": "#E5ECF6",
           "caxis": {
            "gridcolor": "white",
            "linecolor": "white",
            "ticks": ""
           }
          },
          "title": {
           "x": 0.05
          },
          "xaxis": {
           "automargin": true,
           "gridcolor": "white",
           "linecolor": "white",
           "ticks": "",
           "title": {
            "standoff": 15
           },
           "zerolinecolor": "white",
           "zerolinewidth": 2
          },
          "yaxis": {
           "automargin": true,
           "gridcolor": "white",
           "linecolor": "white",
           "ticks": "",
           "title": {
            "standoff": 15
           },
           "zerolinecolor": "white",
           "zerolinewidth": 2
          }
         }
        },
        "title": {
         "text": "Immigrants by industry sector"
        },
        "xaxis": {
         "anchor": "y",
         "domain": [
          0,
          1
         ],
         "title": {
          "text": "Year"
         }
        },
        "yaxis": {
         "anchor": "x",
         "domain": [
          0,
          1
         ],
         "title": {
          "text": "Value (thousands)"
         }
        }
       }
      },
      "text/html": [
       "<div>                            <div id=\"68909e08-35a4-4612-aa9a-978f2de7cc13\" class=\"plotly-graph-div\" style=\"height:400px; width:100%;\"></div>            <script type=\"text/javascript\">                require([\"plotly\"], function(Plotly) {                    window.PLOTLYENV=window.PLOTLYENV || {};                                    if (document.getElementById(\"68909e08-35a4-4612-aa9a-978f2de7cc13\")) {                    Plotly.newPlot(                        \"68909e08-35a4-4612-aa9a-978f2de7cc13\",                        [{\"alignmentgroup\":\"True\",\"hovertemplate\":\"Occupations=agriculture, forestry and fishing<br>Year=%{x}<br>Value (thousands)=%{text}<extra></extra>\",\"legendgroup\":\"agriculture, forestry and fishing\",\"marker\":{\"color\":\"#636efa\",\"pattern\":{\"shape\":\"\"}},\"name\":\"agriculture, forestry and fishing\",\"offsetgroup\":\"agriculture, forestry and fishing\",\"orientation\":\"v\",\"showlegend\":true,\"text\":[147.69,157.453,161.05,164.842,154.819,142.448,151.532,155.468,155.319,146.445,5.242,5.921,5.582,9.523,8.374],\"textposition\":\"auto\",\"x\":[\"2018\",\"2019\",\"2020\",\"2021\",\"2022\",\"2018\",\"2019\",\"2020\",\"2021\",\"2022\",\"2018\",\"2019\",\"2020\",\"2021\",\"2022\"],\"xaxis\":\"x\",\"y\":[147.69,157.453,161.05,164.842,154.819,142.448,151.532,155.468,155.319,146.445,5.242,5.921,5.582,9.523,8.374],\"yaxis\":\"y\",\"type\":\"bar\"},{\"alignmentgroup\":\"True\",\"hovertemplate\":\"Occupations=construction<br>Year=%{x}<br>Value (thousands)=%{text}<extra></extra>\",\"legendgroup\":\"construction\",\"marker\":{\"color\":\"#EF553B\",\"pattern\":{\"shape\":\"\"}},\"name\":\"construction\",\"offsetgroup\":\"construction\",\"orientation\":\"v\",\"showlegend\":true,\"text\":[57.197,58.518,57.494,58.415,63.055,170.404,163.825,158.688,163.501,179.517,227.601,222.343,216.182,221.916,242.572],\"textposition\":\"auto\",\"x\":[\"2018\",\"2019\",\"2020\",\"2021\",\"2022\",\"2018\",\"2019\",\"2020\",\"2021\",\"2022\",\"2018\",\"2019\",\"2020\",\"2021\",\"2022\"],\"xaxis\":\"x\",\"y\":[57.197,58.518,57.494,58.415,63.055,170.404,163.825,158.688,163.501,179.517,227.601,222.343,216.182,221.916,242.572],\"yaxis\":\"y\",\"type\":\"bar\"},{\"alignmentgroup\":\"True\",\"hovertemplate\":\"Occupations=TOTAL SERVICES (g to u)<br>Year=%{x}<br>Value (thousands)=%{text}<extra></extra>\",\"legendgroup\":\"TOTAL SERVICES (g to u)\",\"marker\":{\"color\":\"#00cc96\",\"pattern\":{\"shape\":\"\"}},\"name\":\"TOTAL SERVICES (g to u)\",\"offsetgroup\":\"TOTAL SERVICES (g to u)\",\"orientation\":\"v\",\"showlegend\":true,\"text\":[216.693,222.454,187.293,195.805,213.184,1328.138,1332.22,1216.094,1249.987,1310.242,1544.831,1554.674,1403.387,1445.793,1523.426],\"textposition\":\"auto\",\"x\":[\"2018\",\"2019\",\"2020\",\"2021\",\"2022\",\"2018\",\"2019\",\"2020\",\"2021\",\"2022\",\"2018\",\"2019\",\"2020\",\"2021\",\"2022\"],\"xaxis\":\"x\",\"y\":[216.693,222.454,187.293,195.805,213.184,1328.138,1332.22,1216.094,1249.987,1310.242,1544.831,1554.674,1403.387,1445.793,1523.426],\"yaxis\":\"y\",\"type\":\"bar\"},{\"alignmentgroup\":\"True\",\"hovertemplate\":\"Occupations=trade, hotels and restaurants (g and i)<br>Year=%{x}<br>Value (thousands)=%{text}<extra></extra>\",\"legendgroup\":\"trade, hotels and restaurants (g and i)\",\"marker\":{\"color\":\"#ab63fa\",\"pattern\":{\"shape\":\"\"}},\"name\":\"trade, hotels and restaurants (g and i)\",\"offsetgroup\":\"trade, hotels and restaurants (g and i)\",\"orientation\":\"v\",\"showlegend\":true,\"text\":[355.217,362.511,310.873,305.883,357.938,132.537,130.827,103.858,105.514,121.472,487.755,493.337,414.731,411.397,479.41],\"textposition\":\"auto\",\"x\":[\"2018\",\"2019\",\"2020\",\"2021\",\"2022\",\"2018\",\"2019\",\"2020\",\"2021\",\"2022\",\"2018\",\"2019\",\"2020\",\"2021\",\"2022\"],\"xaxis\":\"x\",\"y\":[355.217,362.511,310.873,305.883,357.938,132.537,130.827,103.858,105.514,121.472,487.755,493.337,414.731,411.397,479.41],\"yaxis\":\"y\",\"type\":\"bar\"},{\"alignmentgroup\":\"True\",\"hovertemplate\":\"Occupations=TOTAL INDUSTRY (b to f)<br>Year=%{x}<br>Value (thousands)=%{text}<extra></extra>\",\"legendgroup\":\"TOTAL INDUSTRY (b to f)\",\"marker\":{\"color\":\"#FFA15A\",\"pattern\":{\"shape\":\"\"}},\"name\":\"TOTAL INDUSTRY (b to f)\",\"offsetgroup\":\"TOTAL INDUSTRY (b to f)\",\"orientation\":\"v\",\"showlegend\":true,\"text\":[644.878,667.577,639.707,646.459,696.225,571.069,592.826,560.939,567.62,610.986,73.809,74.752,78.768,78.839,85.239],\"textposition\":\"auto\",\"x\":[\"2018\",\"2019\",\"2020\",\"2021\",\"2022\",\"2018\",\"2019\",\"2020\",\"2021\",\"2022\",\"2018\",\"2019\",\"2020\",\"2021\",\"2022\"],\"xaxis\":\"x\",\"y\":[644.878,667.577,639.707,646.459,696.225,571.069,592.826,560.939,567.62,610.986,73.809,74.752,78.768,78.839,85.239],\"yaxis\":\"y\",\"type\":\"bar\"},{\"alignmentgroup\":\"True\",\"hovertemplate\":\"Occupations=other services activity (j to u)<br>Year=%{x}<br>Value (thousands)=%{text}<extra></extra>\",\"legendgroup\":\"other services activity (j to u)\",\"marker\":{\"color\":\"#19d3f3\",\"pattern\":{\"shape\":\"\"}},\"name\":\"other services activity (j to u)\",\"offsetgroup\":\"other services activity (j to u)\",\"orientation\":\"v\",\"showlegend\":true,\"text\":[84.156,91.627,83.435,90.291,91.713,1057.076,1061.337,988.656,1034.396,1044.016,972.921,969.71,905.221,944.104,952.304],\"textposition\":\"auto\",\"x\":[\"2018\",\"2019\",\"2020\",\"2021\",\"2022\",\"2018\",\"2019\",\"2020\",\"2021\",\"2022\",\"2018\",\"2019\",\"2020\",\"2021\",\"2022\"],\"xaxis\":\"x\",\"y\":[84.156,91.627,83.435,90.291,91.713,1057.076,1061.337,988.656,1034.396,1044.016,972.921,969.71,905.221,944.104,952.304],\"yaxis\":\"y\",\"type\":\"bar\"}],                        {\"template\":{\"data\":{\"histogram2dcontour\":[{\"type\":\"histogram2dcontour\",\"colorbar\":{\"outlinewidth\":0,\"ticks\":\"\"},\"colorscale\":[[0.0,\"#0d0887\"],[0.1111111111111111,\"#46039f\"],[0.2222222222222222,\"#7201a8\"],[0.3333333333333333,\"#9c179e\"],[0.4444444444444444,\"#bd3786\"],[0.5555555555555556,\"#d8576b\"],[0.6666666666666666,\"#ed7953\"],[0.7777777777777778,\"#fb9f3a\"],[0.8888888888888888,\"#fdca26\"],[1.0,\"#f0f921\"]]}],\"choropleth\":[{\"type\":\"choropleth\",\"colorbar\":{\"outlinewidth\":0,\"ticks\":\"\"}}],\"histogram2d\":[{\"type\":\"histogram2d\",\"colorbar\":{\"outlinewidth\":0,\"ticks\":\"\"},\"colorscale\":[[0.0,\"#0d0887\"],[0.1111111111111111,\"#46039f\"],[0.2222222222222222,\"#7201a8\"],[0.3333333333333333,\"#9c179e\"],[0.4444444444444444,\"#bd3786\"],[0.5555555555555556,\"#d8576b\"],[0.6666666666666666,\"#ed7953\"],[0.7777777777777778,\"#fb9f3a\"],[0.8888888888888888,\"#fdca26\"],[1.0,\"#f0f921\"]]}],\"heatmap\":[{\"type\":\"heatmap\",\"colorbar\":{\"outlinewidth\":0,\"ticks\":\"\"},\"colorscale\":[[0.0,\"#0d0887\"],[0.1111111111111111,\"#46039f\"],[0.2222222222222222,\"#7201a8\"],[0.3333333333333333,\"#9c179e\"],[0.4444444444444444,\"#bd3786\"],[0.5555555555555556,\"#d8576b\"],[0.6666666666666666,\"#ed7953\"],[0.7777777777777778,\"#fb9f3a\"],[0.8888888888888888,\"#fdca26\"],[1.0,\"#f0f921\"]]}],\"heatmapgl\":[{\"type\":\"heatmapgl\",\"colorbar\":{\"outlinewidth\":0,\"ticks\":\"\"},\"colorscale\":[[0.0,\"#0d0887\"],[0.1111111111111111,\"#46039f\"],[0.2222222222222222,\"#7201a8\"],[0.3333333333333333,\"#9c179e\"],[0.4444444444444444,\"#bd3786\"],[0.5555555555555556,\"#d8576b\"],[0.6666666666666666,\"#ed7953\"],[0.7777777777777778,\"#fb9f3a\"],[0.8888888888888888,\"#fdca26\"],[1.0,\"#f0f921\"]]}],\"contourcarpet\":[{\"type\":\"contourcarpet\",\"colorbar\":{\"outlinewidth\":0,\"ticks\":\"\"}}],\"contour\":[{\"type\":\"contour\",\"colorbar\":{\"outlinewidth\":0,\"ticks\":\"\"},\"colorscale\":[[0.0,\"#0d0887\"],[0.1111111111111111,\"#46039f\"],[0.2222222222222222,\"#7201a8\"],[0.3333333333333333,\"#9c179e\"],[0.4444444444444444,\"#bd3786\"],[0.5555555555555556,\"#d8576b\"],[0.6666666666666666,\"#ed7953\"],[0.7777777777777778,\"#fb9f3a\"],[0.8888888888888888,\"#fdca26\"],[1.0,\"#f0f921\"]]}],\"surface\":[{\"type\":\"surface\",\"colorbar\":{\"outlinewidth\":0,\"ticks\":\"\"},\"colorscale\":[[0.0,\"#0d0887\"],[0.1111111111111111,\"#46039f\"],[0.2222222222222222,\"#7201a8\"],[0.3333333333333333,\"#9c179e\"],[0.4444444444444444,\"#bd3786\"],[0.5555555555555556,\"#d8576b\"],[0.6666666666666666,\"#ed7953\"],[0.7777777777777778,\"#fb9f3a\"],[0.8888888888888888,\"#fdca26\"],[1.0,\"#f0f921\"]]}],\"mesh3d\":[{\"type\":\"mesh3d\",\"colorbar\":{\"outlinewidth\":0,\"ticks\":\"\"}}],\"scatter\":[{\"fillpattern\":{\"fillmode\":\"overlay\",\"size\":10,\"solidity\":0.2},\"type\":\"scatter\"}],\"parcoords\":[{\"type\":\"parcoords\",\"line\":{\"colorbar\":{\"outlinewidth\":0,\"ticks\":\"\"}}}],\"scatterpolargl\":[{\"type\":\"scatterpolargl\",\"marker\":{\"colorbar\":{\"outlinewidth\":0,\"ticks\":\"\"}}}],\"bar\":[{\"error_x\":{\"color\":\"#2a3f5f\"},\"error_y\":{\"color\":\"#2a3f5f\"},\"marker\":{\"line\":{\"color\":\"#E5ECF6\",\"width\":0.5},\"pattern\":{\"fillmode\":\"overlay\",\"size\":10,\"solidity\":0.2}},\"type\":\"bar\"}],\"scattergeo\":[{\"type\":\"scattergeo\",\"marker\":{\"colorbar\":{\"outlinewidth\":0,\"ticks\":\"\"}}}],\"scatterpolar\":[{\"type\":\"scatterpolar\",\"marker\":{\"colorbar\":{\"outlinewidth\":0,\"ticks\":\"\"}}}],\"histogram\":[{\"marker\":{\"pattern\":{\"fillmode\":\"overlay\",\"size\":10,\"solidity\":0.2}},\"type\":\"histogram\"}],\"scattergl\":[{\"type\":\"scattergl\",\"marker\":{\"colorbar\":{\"outlinewidth\":0,\"ticks\":\"\"}}}],\"scatter3d\":[{\"type\":\"scatter3d\",\"line\":{\"colorbar\":{\"outlinewidth\":0,\"ticks\":\"\"}},\"marker\":{\"colorbar\":{\"outlinewidth\":0,\"ticks\":\"\"}}}],\"scattermapbox\":[{\"type\":\"scattermapbox\",\"marker\":{\"colorbar\":{\"outlinewidth\":0,\"ticks\":\"\"}}}],\"scatterternary\":[{\"type\":\"scatterternary\",\"marker\":{\"colorbar\":{\"outlinewidth\":0,\"ticks\":\"\"}}}],\"scattercarpet\":[{\"type\":\"scattercarpet\",\"marker\":{\"colorbar\":{\"outlinewidth\":0,\"ticks\":\"\"}}}],\"carpet\":[{\"aaxis\":{\"endlinecolor\":\"#2a3f5f\",\"gridcolor\":\"white\",\"linecolor\":\"white\",\"minorgridcolor\":\"white\",\"startlinecolor\":\"#2a3f5f\"},\"baxis\":{\"endlinecolor\":\"#2a3f5f\",\"gridcolor\":\"white\",\"linecolor\":\"white\",\"minorgridcolor\":\"white\",\"startlinecolor\":\"#2a3f5f\"},\"type\":\"carpet\"}],\"table\":[{\"cells\":{\"fill\":{\"color\":\"#EBF0F8\"},\"line\":{\"color\":\"white\"}},\"header\":{\"fill\":{\"color\":\"#C8D4E3\"},\"line\":{\"color\":\"white\"}},\"type\":\"table\"}],\"barpolar\":[{\"marker\":{\"line\":{\"color\":\"#E5ECF6\",\"width\":0.5},\"pattern\":{\"fillmode\":\"overlay\",\"size\":10,\"solidity\":0.2}},\"type\":\"barpolar\"}],\"pie\":[{\"automargin\":true,\"type\":\"pie\"}]},\"layout\":{\"autotypenumbers\":\"strict\",\"colorway\":[\"#636efa\",\"#EF553B\",\"#00cc96\",\"#ab63fa\",\"#FFA15A\",\"#19d3f3\",\"#FF6692\",\"#B6E880\",\"#FF97FF\",\"#FECB52\"],\"font\":{\"color\":\"#2a3f5f\"},\"hovermode\":\"closest\",\"hoverlabel\":{\"align\":\"left\"},\"paper_bgcolor\":\"white\",\"plot_bgcolor\":\"#E5ECF6\",\"polar\":{\"bgcolor\":\"#E5ECF6\",\"angularaxis\":{\"gridcolor\":\"white\",\"linecolor\":\"white\",\"ticks\":\"\"},\"radialaxis\":{\"gridcolor\":\"white\",\"linecolor\":\"white\",\"ticks\":\"\"}},\"ternary\":{\"bgcolor\":\"#E5ECF6\",\"aaxis\":{\"gridcolor\":\"white\",\"linecolor\":\"white\",\"ticks\":\"\"},\"baxis\":{\"gridcolor\":\"white\",\"linecolor\":\"white\",\"ticks\":\"\"},\"caxis\":{\"gridcolor\":\"white\",\"linecolor\":\"white\",\"ticks\":\"\"}},\"coloraxis\":{\"colorbar\":{\"outlinewidth\":0,\"ticks\":\"\"}},\"colorscale\":{\"sequential\":[[0.0,\"#0d0887\"],[0.1111111111111111,\"#46039f\"],[0.2222222222222222,\"#7201a8\"],[0.3333333333333333,\"#9c179e\"],[0.4444444444444444,\"#bd3786\"],[0.5555555555555556,\"#d8576b\"],[0.6666666666666666,\"#ed7953\"],[0.7777777777777778,\"#fb9f3a\"],[0.8888888888888888,\"#fdca26\"],[1.0,\"#f0f921\"]],\"sequentialminus\":[[0.0,\"#0d0887\"],[0.1111111111111111,\"#46039f\"],[0.2222222222222222,\"#7201a8\"],[0.3333333333333333,\"#9c179e\"],[0.4444444444444444,\"#bd3786\"],[0.5555555555555556,\"#d8576b\"],[0.6666666666666666,\"#ed7953\"],[0.7777777777777778,\"#fb9f3a\"],[0.8888888888888888,\"#fdca26\"],[1.0,\"#f0f921\"]],\"diverging\":[[0,\"#8e0152\"],[0.1,\"#c51b7d\"],[0.2,\"#de77ae\"],[0.3,\"#f1b6da\"],[0.4,\"#fde0ef\"],[0.5,\"#f7f7f7\"],[0.6,\"#e6f5d0\"],[0.7,\"#b8e186\"],[0.8,\"#7fbc41\"],[0.9,\"#4d9221\"],[1,\"#276419\"]]},\"xaxis\":{\"gridcolor\":\"white\",\"linecolor\":\"white\",\"ticks\":\"\",\"title\":{\"standoff\":15},\"zerolinecolor\":\"white\",\"automargin\":true,\"zerolinewidth\":2},\"yaxis\":{\"gridcolor\":\"white\",\"linecolor\":\"white\",\"ticks\":\"\",\"title\":{\"standoff\":15},\"zerolinecolor\":\"white\",\"automargin\":true,\"zerolinewidth\":2},\"scene\":{\"xaxis\":{\"backgroundcolor\":\"#E5ECF6\",\"gridcolor\":\"white\",\"linecolor\":\"white\",\"showbackground\":true,\"ticks\":\"\",\"zerolinecolor\":\"white\",\"gridwidth\":2},\"yaxis\":{\"backgroundcolor\":\"#E5ECF6\",\"gridcolor\":\"white\",\"linecolor\":\"white\",\"showbackground\":true,\"ticks\":\"\",\"zerolinecolor\":\"white\",\"gridwidth\":2},\"zaxis\":{\"backgroundcolor\":\"#E5ECF6\",\"gridcolor\":\"white\",\"linecolor\":\"white\",\"showbackground\":true,\"ticks\":\"\",\"zerolinecolor\":\"white\",\"gridwidth\":2}},\"shapedefaults\":{\"line\":{\"color\":\"#2a3f5f\"}},\"annotationdefaults\":{\"arrowcolor\":\"#2a3f5f\",\"arrowhead\":0,\"arrowwidth\":1},\"geo\":{\"bgcolor\":\"white\",\"landcolor\":\"#E5ECF6\",\"subunitcolor\":\"white\",\"showland\":true,\"showlakes\":true,\"lakecolor\":\"white\"},\"title\":{\"x\":0.05},\"mapbox\":{\"style\":\"light\"}}},\"xaxis\":{\"anchor\":\"y\",\"domain\":[0.0,1.0],\"title\":{\"text\":\"Year\"}},\"yaxis\":{\"anchor\":\"x\",\"domain\":[0.0,1.0],\"title\":{\"text\":\"Value (thousands)\"}},\"legend\":{\"title\":{\"text\":\"Occupations\"},\"tracegroupgap\":0},\"title\":{\"text\":\"Immigrants by industry sector\"},\"barmode\":\"group\",\"height\":400},                        {\"responsive\": true}                    ).then(function(){\n",
       "                            \n",
       "var gd = document.getElementById('68909e08-35a4-4612-aa9a-978f2de7cc13');\n",
       "var x = new MutationObserver(function (mutations, observer) {{\n",
       "        var display = window.getComputedStyle(gd).display;\n",
       "        if (!display || display === 'none') {{\n",
       "            console.log([gd, 'removed!']);\n",
       "            Plotly.purge(gd);\n",
       "            observer.disconnect();\n",
       "        }}\n",
       "}});\n",
       "\n",
       "// Listen for the removal of the full notebook cells\n",
       "var notebookContainer = gd.closest('#notebook-container');\n",
       "if (notebookContainer) {{\n",
       "    x.observe(notebookContainer, {childList: true});\n",
       "}}\n",
       "\n",
       "// Listen for the clearing of the current output cell\n",
       "var outputEl = gd.closest('.output');\n",
       "if (outputEl) {{\n",
       "    x.observe(outputEl, {childList: true});\n",
       "}}\n",
       "\n",
       "                        })                };                });            </script>        </div>"
      ]
     },
     "metadata": {},
     "output_type": "display_data"
    }
   ],
   "source": [
    "import plotly.express as px\n",
    "fig = px.bar(df_prof, x=\"Year\", y=\"Value (thousands)\",\n",
    "            color='Occupations', barmode='group', text=\"Value (thousands)\", height=400, title=\"Immigrants by industry sector\")\n",
    "fig.show()"
   ]
  },
  {
   "cell_type": "code",
   "execution_count": 32,
   "id": "87e42905",
   "metadata": {},
   "outputs": [],
   "source": [
    "df_prof.to_csv(r'C:\\Users\\User\\Documents\\GitHub\\openaccesstoimmigrants\\_datasets\\Clean\\D6\\D6.csv', sep=',', index=False, encoding='utf-8')\n",
    "df_prof.to_json(r'C:\\Users\\User\\Documents\\GitHub\\openaccesstoimmigrants\\_datasets\\Clean\\D6\\D6.json')"
   ]
  },
  {
   "cell_type": "markdown",
   "id": "a51ba315",
   "metadata": {},
   "source": [
    "### The classifications for occupations are:"
   ]
  },
  {
   "cell_type": "markdown",
   "id": "47a889e4",
   "metadata": {},
   "source": [
    "#### Agriculture, forestry and fishing: \n",
    "    01COLTIVAZIONI AGRICOLE E PRODUZIONE DI PRODOTTI ANIMALI, CACCIA E SERVIZI CONNESSI\n",
    "    02SILVICOLTURA ED UTILIZZO DI AREE FORESTALI\n",
    "    03PESCA E ACQUACOLTURA"
   ]
  },
  {
   "cell_type": "markdown",
   "id": "a0076f39",
   "metadata": {},
   "source": [
    "#### Construction:\n",
    "    41COSTRUZIONE DI EDIFICI\n",
    "    42INGEGNERIA CIVILE\n",
    "    43LAVORI DI COSTRUZIONE SPECIALIZZATI"
   ]
  },
  {
   "cell_type": "markdown",
   "id": "25a0c115",
   "metadata": {},
   "source": [
    "#### Total Services:\n",
    "    G - COMMERCIO ALL'INGROSSO E AL DETTAGLIO; RIPARAZIONE DI AUTOVEICOLI E MOTOCICLI\n",
    "    \n",
    "        45COMMERCIO ALL'INGROSSO E AL DETTAGLIO E RIPARAZIONE DI AUTOVEICOLI E MOTOCICLI\n",
    "        46COMMERCIO ALL'INGROSSO (ESCLUSO QUELLO DI AUTOVEICOLI E DI MOTOCICLI)\n",
    "        47COMMERCIO AL DETTAGLIO (ESCLUSO QUELLO DI AUTOVEICOLI E DI MOTOCICLI)\n",
    "        \n",
    "    H - TRASPORTO E MAGAZZINAGGIO\n",
    "    \n",
    "        49TRASPORTO TERRESTRE E TRASPORTO MEDIANTE CONDOTTE\n",
    "        50TRASPORTO MARITTIMO E PER VIE D'ACQUA\n",
    "        51TRASPORTO AEREO\n",
    "        52MAGAZZINAGGIO E ATTIVITÀ DI SUPPORTO AI TRASPORTI\n",
    "        53SERVIZI POSTALI E ATTIVITÀ DI CORRIERE\n",
    "        \n",
    "    I - IATTIVITÀ DEI SERVIZI DI ALLOGGIO E DI RISTORAZIONE\n",
    "        55ALLOGGIO\n",
    "        56ATTIVITÀ DEI SERVIZI DI RISTORAZIONE\n",
    "    J - SERVIZI DI INFORMAZIONE E COMUNICAZIONE\n",
    "        58ATTIVITÀ EDITORIALI\n",
    "        59ATTIVITÀ DI PRODUZIONE CINEMATOGRAFICA, DI VIDEO E DI PROGRAMMI TELEVISIVI, DI REGISTRAZIONI MUSICALI E SONORE\n",
    "        60ATTIVITÀ DI PROGRAMMAZIONE E TRASMISSIONE\n",
    "        61TELECOMUNICAZIONI\n",
    "        62PRODUZIONE DI SOFTWARE, CONSULENZA INFORMATICA E ATTIVITÀ CONNESSE\n",
    "        63ATTIVITÀ DEI SERVIZI D'INFORMAZIONE E ALTRI SERVIZI INFORMATICI\n",
    "        \n",
    "    K - ATTIVITÀ FINANZIARIE E ASSICURATIVE\n",
    "        64ATTIVITÀ DI SERVIZI FINANZIARI (ESCLUSE LE ASSICURAZIONI E I FONDI PENSIONE)\n",
    "        65ASSICURAZIONI, RIASSICURAZIONI E FONDI PENSIONE (ESCLUSE LE ASSICURAZIONI SOCIALI OBBLIGATORIE)\n",
    "        66ATTIVITÀ AUSILIARIE DEI SERVIZI FINANZIARI E DELLE ATTIVITÀ ASSICURATIVE"
   ]
  },
  {
   "cell_type": "markdown",
   "id": "4901478b",
   "metadata": {},
   "source": []
  }
 ],
 "metadata": {
  "kernelspec": {
   "display_name": "Python 3 (ipykernel)",
   "language": "python",
   "name": "python3"
  },
  "language_info": {
   "codemirror_mode": {
    "name": "ipython",
    "version": 3
   },
   "file_extension": ".py",
   "mimetype": "text/x-python",
   "name": "python",
   "nbconvert_exporter": "python",
   "pygments_lexer": "ipython3",
   "version": "3.9.7"
  }
 },
 "nbformat": 4,
 "nbformat_minor": 5
}
