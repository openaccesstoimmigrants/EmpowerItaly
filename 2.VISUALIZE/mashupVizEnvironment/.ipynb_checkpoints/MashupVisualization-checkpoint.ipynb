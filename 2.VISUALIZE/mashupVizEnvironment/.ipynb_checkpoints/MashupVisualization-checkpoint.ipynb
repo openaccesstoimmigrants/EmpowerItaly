{
 "cells": [
  {
   "cell_type": "code",
   "execution_count": 9,
   "id": "6c734bb9",
   "metadata": {},
   "outputs": [
    {
     "name": "stdout",
     "output_type": "stream",
     "text": [
      "Requirement already satisfied: dash in c:\\users\\user\\anaconda3\\lib\\site-packages (2.14.1)\n",
      "Requirement already satisfied: Flask<3.1,>=1.0.4 in c:\\users\\user\\anaconda3\\lib\\site-packages (from dash) (1.1.2)\n",
      "Requirement already satisfied: Werkzeug<3.1 in c:\\users\\user\\anaconda3\\lib\\site-packages (from dash) (2.0.2)\n",
      "Requirement already satisfied: plotly>=5.0.0 in c:\\users\\user\\anaconda3\\lib\\site-packages (from dash) (5.13.0)\n",
      "Requirement already satisfied: dash-html-components==2.0.0 in c:\\users\\user\\anaconda3\\lib\\site-packages (from dash) (2.0.0)\n",
      "Requirement already satisfied: dash-core-components==2.0.0 in c:\\users\\user\\anaconda3\\lib\\site-packages (from dash) (2.0.0)\n",
      "Requirement already satisfied: dash-table==5.0.0 in c:\\users\\user\\anaconda3\\lib\\site-packages (from dash) (5.0.0)\n",
      "Requirement already satisfied: typing-extensions>=4.1.1 in c:\\users\\user\\anaconda3\\lib\\site-packages (from dash) (4.4.0)\n",
      "Requirement already satisfied: requests in c:\\users\\user\\anaconda3\\lib\\site-packages (from dash) (2.26.0)\n",
      "Requirement already satisfied: retrying in c:\\users\\user\\anaconda3\\lib\\site-packages (from dash) (1.3.4)\n",
      "Requirement already satisfied: ansi2html in c:\\users\\user\\anaconda3\\lib\\site-packages (from dash) (1.8.0)\n",
      "Requirement already satisfied: nest-asyncio in c:\\users\\user\\anaconda3\\lib\\site-packages (from dash) (1.5.1)\n",
      "Requirement already satisfied: setuptools in c:\\users\\user\\anaconda3\\lib\\site-packages (from dash) (58.0.4)\n",
      "Requirement already satisfied: importlib-metadata in c:\\users\\user\\anaconda3\\lib\\site-packages (from dash) (4.8.1)\n",
      "Requirement already satisfied: Jinja2>=2.10.1 in c:\\users\\user\\anaconda3\\lib\\site-packages (from Flask<3.1,>=1.0.4->dash) (2.11.3)\n",
      "Requirement already satisfied: itsdangerous>=0.24 in c:\\users\\user\\anaconda3\\lib\\site-packages (from Flask<3.1,>=1.0.4->dash) (2.0.1)\n",
      "Requirement already satisfied: click>=5.1 in c:\\users\\user\\anaconda3\\lib\\site-packages (from Flask<3.1,>=1.0.4->dash) (8.0.3)\n",
      "Requirement already satisfied: tenacity>=6.2.0 in c:\\users\\user\\anaconda3\\lib\\site-packages (from plotly>=5.0.0->dash) (8.2.1)\n",
      "Requirement already satisfied: zipp>=0.5 in c:\\users\\user\\anaconda3\\lib\\site-packages (from importlib-metadata->dash) (3.6.0)\n",
      "Requirement already satisfied: urllib3<1.27,>=1.21.1 in c:\\users\\user\\anaconda3\\lib\\site-packages (from requests->dash) (1.26.7)\n",
      "Requirement already satisfied: certifi>=2017.4.17 in c:\\users\\user\\anaconda3\\lib\\site-packages (from requests->dash) (2022.12.7)\n",
      "Requirement already satisfied: charset-normalizer~=2.0.0 in c:\\users\\user\\anaconda3\\lib\\site-packages (from requests->dash) (2.0.4)\n",
      "Requirement already satisfied: idna<4,>=2.5 in c:\\users\\user\\anaconda3\\lib\\site-packages (from requests->dash) (3.2)\n",
      "Requirement already satisfied: six>=1.7.0 in c:\\users\\user\\anaconda3\\lib\\site-packages (from retrying->dash) (1.16.0)\n",
      "Requirement already satisfied: colorama in c:\\users\\user\\anaconda3\\lib\\site-packages (from click>=5.1->Flask<3.1,>=1.0.4->dash) (0.4.4)\n",
      "Requirement already satisfied: MarkupSafe>=0.23 in c:\\users\\user\\anaconda3\\lib\\site-packages (from Jinja2>=2.10.1->Flask<3.1,>=1.0.4->dash) (1.1.1)\n"
     ]
    },
    {
     "name": "stderr",
     "output_type": "stream",
     "text": [
      "\n",
      "[notice] A new release of pip is available: 23.1 -> 23.3.1\n",
      "[notice] To update, run: python.exe -m pip install --upgrade pip\n"
     ]
    }
   ],
   "source": [
    "!pip install dash"
   ]
  },
  {
   "cell_type": "code",
   "execution_count": 10,
   "id": "d58f99c3",
   "metadata": {},
   "outputs": [
    {
     "name": "stdout",
     "output_type": "stream",
     "text": [
      "Requirement already satisfied: plotly in c:\\users\\user\\anaconda3\\lib\\site-packages (5.13.0)\n",
      "Requirement already satisfied: tenacity>=6.2.0 in c:\\users\\user\\anaconda3\\lib\\site-packages (from plotly) (8.2.1)\n"
     ]
    },
    {
     "name": "stderr",
     "output_type": "stream",
     "text": [
      "\n",
      "[notice] A new release of pip is available: 23.1 -> 23.3.1\n",
      "[notice] To update, run: python.exe -m pip install --upgrade pip\n"
     ]
    },
    {
     "name": "stdout",
     "output_type": "stream",
     "text": [
      "Requirement already satisfied: chart_studio in c:\\users\\user\\anaconda3\\lib\\site-packages (1.1.0)\n",
      "Requirement already satisfied: plotly in c:\\users\\user\\anaconda3\\lib\\site-packages (from chart_studio) (5.13.0)\n",
      "Requirement already satisfied: requests in c:\\users\\user\\anaconda3\\lib\\site-packages (from chart_studio) (2.26.0)\n",
      "Requirement already satisfied: retrying>=1.3.3 in c:\\users\\user\\anaconda3\\lib\\site-packages (from chart_studio) (1.3.4)\n",
      "Requirement already satisfied: six in c:\\users\\user\\anaconda3\\lib\\site-packages (from chart_studio) (1.16.0)\n",
      "Requirement already satisfied: tenacity>=6.2.0 in c:\\users\\user\\anaconda3\\lib\\site-packages (from plotly->chart_studio) (8.2.1)\n",
      "Requirement already satisfied: urllib3<1.27,>=1.21.1 in c:\\users\\user\\anaconda3\\lib\\site-packages (from requests->chart_studio) (1.26.7)\n",
      "Requirement already satisfied: certifi>=2017.4.17 in c:\\users\\user\\anaconda3\\lib\\site-packages (from requests->chart_studio) (2022.12.7)\n",
      "Requirement already satisfied: charset-normalizer~=2.0.0 in c:\\users\\user\\anaconda3\\lib\\site-packages (from requests->chart_studio) (2.0.4)\n",
      "Requirement already satisfied: idna<4,>=2.5 in c:\\users\\user\\anaconda3\\lib\\site-packages (from requests->chart_studio) (3.2)\n"
     ]
    },
    {
     "name": "stderr",
     "output_type": "stream",
     "text": [
      "\n",
      "[notice] A new release of pip is available: 23.1 -> 23.3.1\n",
      "[notice] To update, run: python.exe -m pip install --upgrade pip\n"
     ]
    }
   ],
   "source": [
    "!pip install plotly\n",
    "!pip install chart_studio"
   ]
  },
  {
   "cell_type": "code",
   "execution_count": 11,
   "id": "75cccb52",
   "metadata": {},
   "outputs": [
    {
     "name": "stdout",
     "output_type": "stream",
     "text": [
      "Requirement already satisfied: pandas in c:\\users\\user\\anaconda3\\lib\\site-packages (1.3.4)\n",
      "Requirement already satisfied: python-dateutil>=2.7.3 in c:\\users\\user\\anaconda3\\lib\\site-packages (from pandas) (2.8.2)\n",
      "Requirement already satisfied: pytz>=2017.3 in c:\\users\\user\\anaconda3\\lib\\site-packages (from pandas) (2021.3)\n",
      "Requirement already satisfied: numpy>=1.17.3 in c:\\users\\user\\anaconda3\\lib\\site-packages (from pandas) (1.20.3)\n",
      "Requirement already satisfied: six>=1.5 in c:\\users\\user\\anaconda3\\lib\\site-packages (from python-dateutil>=2.7.3->pandas) (1.16.0)\n"
     ]
    },
    {
     "name": "stderr",
     "output_type": "stream",
     "text": [
      "\n",
      "[notice] A new release of pip is available: 23.1 -> 23.3.1\n",
      "[notice] To update, run: python.exe -m pip install --upgrade pip\n"
     ]
    },
    {
     "name": "stdout",
     "output_type": "stream",
     "text": [
      "Requirement already satisfied: seaborn in c:\\users\\user\\anaconda3\\lib\\site-packages (0.11.2)\n",
      "Requirement already satisfied: numpy>=1.15 in c:\\users\\user\\anaconda3\\lib\\site-packages (from seaborn) (1.20.3)\n",
      "Requirement already satisfied: scipy>=1.0 in c:\\users\\user\\anaconda3\\lib\\site-packages (from seaborn) (1.7.1)\n",
      "Requirement already satisfied: pandas>=0.23 in c:\\users\\user\\anaconda3\\lib\\site-packages (from seaborn) (1.3.4)\n",
      "Requirement already satisfied: matplotlib>=2.2 in c:\\users\\user\\anaconda3\\lib\\site-packages (from seaborn) (3.4.3)\n",
      "Requirement already satisfied: cycler>=0.10 in c:\\users\\user\\anaconda3\\lib\\site-packages (from matplotlib>=2.2->seaborn) (0.10.0)\n",
      "Requirement already satisfied: kiwisolver>=1.0.1 in c:\\users\\user\\anaconda3\\lib\\site-packages (from matplotlib>=2.2->seaborn) (1.3.1)\n",
      "Requirement already satisfied: pillow>=6.2.0 in c:\\users\\user\\anaconda3\\lib\\site-packages (from matplotlib>=2.2->seaborn) (8.4.0)\n",
      "Requirement already satisfied: pyparsing>=2.2.1 in c:\\users\\user\\anaconda3\\lib\\site-packages (from matplotlib>=2.2->seaborn) (3.0.4)\n",
      "Requirement already satisfied: python-dateutil>=2.7 in c:\\users\\user\\anaconda3\\lib\\site-packages (from matplotlib>=2.2->seaborn) (2.8.2)\n",
      "Requirement already satisfied: pytz>=2017.3 in c:\\users\\user\\anaconda3\\lib\\site-packages (from pandas>=0.23->seaborn) (2021.3)\n",
      "Requirement already satisfied: six in c:\\users\\user\\anaconda3\\lib\\site-packages (from cycler>=0.10->matplotlib>=2.2->seaborn) (1.16.0)\n"
     ]
    },
    {
     "name": "stderr",
     "output_type": "stream",
     "text": [
      "\n",
      "[notice] A new release of pip is available: 23.1 -> 23.3.1\n",
      "[notice] To update, run: python.exe -m pip install --upgrade pip\n"
     ]
    },
    {
     "name": "stdout",
     "output_type": "stream",
     "text": [
      "Requirement already satisfied: matplotlib in c:\\users\\user\\anaconda3\\lib\\site-packages (3.4.3)\n",
      "Requirement already satisfied: cycler>=0.10 in c:\\users\\user\\anaconda3\\lib\\site-packages (from matplotlib) (0.10.0)\n",
      "Requirement already satisfied: kiwisolver>=1.0.1 in c:\\users\\user\\anaconda3\\lib\\site-packages (from matplotlib) (1.3.1)\n",
      "Requirement already satisfied: numpy>=1.16 in c:\\users\\user\\anaconda3\\lib\\site-packages (from matplotlib) (1.20.3)\n",
      "Requirement already satisfied: pillow>=6.2.0 in c:\\users\\user\\anaconda3\\lib\\site-packages (from matplotlib) (8.4.0)\n",
      "Requirement already satisfied: pyparsing>=2.2.1 in c:\\users\\user\\anaconda3\\lib\\site-packages (from matplotlib) (3.0.4)\n",
      "Requirement already satisfied: python-dateutil>=2.7 in c:\\users\\user\\anaconda3\\lib\\site-packages (from matplotlib) (2.8.2)\n",
      "Requirement already satisfied: six in c:\\users\\user\\anaconda3\\lib\\site-packages (from cycler>=0.10->matplotlib) (1.16.0)\n"
     ]
    },
    {
     "name": "stderr",
     "output_type": "stream",
     "text": [
      "\n",
      "[notice] A new release of pip is available: 23.1 -> 23.3.1\n",
      "[notice] To update, run: python.exe -m pip install --upgrade pip\n"
     ]
    },
    {
     "name": "stdout",
     "output_type": "stream",
     "text": [
      "Requirement already satisfied: mpld3 in c:\\users\\user\\anaconda3\\lib\\site-packages (0.5.9)\n",
      "Requirement already satisfied: jinja2 in c:\\users\\user\\anaconda3\\lib\\site-packages (from mpld3) (2.11.3)\n",
      "Requirement already satisfied: matplotlib in c:\\users\\user\\anaconda3\\lib\\site-packages (from mpld3) (3.4.3)\n",
      "Requirement already satisfied: MarkupSafe>=0.23 in c:\\users\\user\\anaconda3\\lib\\site-packages (from jinja2->mpld3) (1.1.1)\n",
      "Requirement already satisfied: cycler>=0.10 in c:\\users\\user\\anaconda3\\lib\\site-packages (from matplotlib->mpld3) (0.10.0)\n",
      "Requirement already satisfied: kiwisolver>=1.0.1 in c:\\users\\user\\anaconda3\\lib\\site-packages (from matplotlib->mpld3) (1.3.1)\n",
      "Requirement already satisfied: numpy>=1.16 in c:\\users\\user\\anaconda3\\lib\\site-packages (from matplotlib->mpld3) (1.20.3)\n",
      "Requirement already satisfied: pillow>=6.2.0 in c:\\users\\user\\anaconda3\\lib\\site-packages (from matplotlib->mpld3) (8.4.0)\n",
      "Requirement already satisfied: pyparsing>=2.2.1 in c:\\users\\user\\anaconda3\\lib\\site-packages (from matplotlib->mpld3) (3.0.4)\n",
      "Requirement already satisfied: python-dateutil>=2.7 in c:\\users\\user\\anaconda3\\lib\\site-packages (from matplotlib->mpld3) (2.8.2)\n",
      "Requirement already satisfied: six in c:\\users\\user\\anaconda3\\lib\\site-packages (from cycler>=0.10->matplotlib->mpld3) (1.16.0)\n"
     ]
    },
    {
     "name": "stderr",
     "output_type": "stream",
     "text": [
      "\n",
      "[notice] A new release of pip is available: 23.1 -> 23.3.1\n",
      "[notice] To update, run: python.exe -m pip install --upgrade pip\n"
     ]
    }
   ],
   "source": [
    "!pip install pandas\n",
    "!pip install seaborn\n",
    "!pip install matplotlib\n",
    "!pip install mpld3\n",
    "import pandas as pd\n",
    "from pandas import read_csv\n",
    "import matplotlib.pyplot as plt\n",
    "import matplotlib.cm as cm\n",
    "import numpy as np\n",
    "import json\n",
    "import os"
   ]
  },
  {
   "cell_type": "code",
   "execution_count": 33,
   "id": "d6741b63",
   "metadata": {},
   "outputs": [
    {
     "data": {
      "text/html": [
       "<div>\n",
       "<style scoped>\n",
       "    .dataframe tbody tr th:only-of-type {\n",
       "        vertical-align: middle;\n",
       "    }\n",
       "\n",
       "    .dataframe tbody tr th {\n",
       "        vertical-align: top;\n",
       "    }\n",
       "\n",
       "    .dataframe thead th {\n",
       "        text-align: right;\n",
       "    }\n",
       "</style>\n",
       "<table border=\"1\" class=\"dataframe\">\n",
       "  <thead>\n",
       "    <tr style=\"text-align: right;\">\n",
       "      <th></th>\n",
       "      <th>Unnamed: 0</th>\n",
       "      <th>Territory</th>\n",
       "      <th>Citizenship</th>\n",
       "      <th>Year</th>\n",
       "      <th>UNEMP_ED_1</th>\n",
       "      <th>UNEMP_ED_3</th>\n",
       "      <th>% Unemployment</th>\n",
       "      <th>UNEMP_ED_2</th>\n",
       "      <th>ACT_ED_1</th>\n",
       "      <th>ACT_ED_3</th>\n",
       "      <th>% Activity</th>\n",
       "      <th>ACT_ED_2</th>\n",
       "    </tr>\n",
       "  </thead>\n",
       "  <tbody>\n",
       "    <tr>\n",
       "      <th>0</th>\n",
       "      <td>0</td>\n",
       "      <td>Centro (I)</td>\n",
       "      <td>foreign</td>\n",
       "      <td>2018</td>\n",
       "      <td>15.155627</td>\n",
       "      <td>10.804081</td>\n",
       "      <td>14.5</td>\n",
       "      <td>14.836710</td>\n",
       "      <td>70.985618</td>\n",
       "      <td>77.124190</td>\n",
       "      <td>73.6</td>\n",
       "      <td>75.708602</td>\n",
       "    </tr>\n",
       "    <tr>\n",
       "      <th>1</th>\n",
       "      <td>1</td>\n",
       "      <td>Centro (I)</td>\n",
       "      <td>foreign</td>\n",
       "      <td>2019</td>\n",
       "      <td>13.568437</td>\n",
       "      <td>11.434287</td>\n",
       "      <td>14.8</td>\n",
       "      <td>17.514611</td>\n",
       "      <td>70.615605</td>\n",
       "      <td>75.937080</td>\n",
       "      <td>73.5</td>\n",
       "      <td>76.776958</td>\n",
       "    </tr>\n",
       "    <tr>\n",
       "      <th>2</th>\n",
       "      <td>2</td>\n",
       "      <td>Centro (I)</td>\n",
       "      <td>foreign</td>\n",
       "      <td>2020</td>\n",
       "      <td>13.153746</td>\n",
       "      <td>8.624535</td>\n",
       "      <td>12.8</td>\n",
       "      <td>13.542032</td>\n",
       "      <td>66.399470</td>\n",
       "      <td>68.671068</td>\n",
       "      <td>68.0</td>\n",
       "      <td>70.110227</td>\n",
       "    </tr>\n",
       "    <tr>\n",
       "      <th>3</th>\n",
       "      <td>3</td>\n",
       "      <td>Centro (I)</td>\n",
       "      <td>foreign</td>\n",
       "      <td>2021</td>\n",
       "      <td>13.241853</td>\n",
       "      <td>18.102600</td>\n",
       "      <td>15.2</td>\n",
       "      <td>16.586291</td>\n",
       "      <td>66.442788</td>\n",
       "      <td>71.376057</td>\n",
       "      <td>69.6</td>\n",
       "      <td>73.098578</td>\n",
       "    </tr>\n",
       "    <tr>\n",
       "      <th>4</th>\n",
       "      <td>4</td>\n",
       "      <td>Centro (I)</td>\n",
       "      <td>foreign</td>\n",
       "      <td>2022</td>\n",
       "      <td>12.723967</td>\n",
       "      <td>12.505329</td>\n",
       "      <td>13.0</td>\n",
       "      <td>13.377200</td>\n",
       "      <td>68.150298</td>\n",
       "      <td>74.444015</td>\n",
       "      <td>70.8</td>\n",
       "      <td>72.925446</td>\n",
       "    </tr>\n",
       "    <tr>\n",
       "      <th>5</th>\n",
       "      <td>5</td>\n",
       "      <td>Centro (I)</td>\n",
       "      <td>italian</td>\n",
       "      <td>2018</td>\n",
       "      <td>11.356605</td>\n",
       "      <td>4.986898</td>\n",
       "      <td>8.7</td>\n",
       "      <td>9.377720</td>\n",
       "      <td>52.889158</td>\n",
       "      <td>83.546888</td>\n",
       "      <td>67.8</td>\n",
       "      <td>71.418533</td>\n",
       "    </tr>\n",
       "    <tr>\n",
       "      <th>6</th>\n",
       "      <td>6</td>\n",
       "      <td>Centro (I)</td>\n",
       "      <td>italian</td>\n",
       "      <td>2019</td>\n",
       "      <td>9.827092</td>\n",
       "      <td>5.102061</td>\n",
       "      <td>7.7</td>\n",
       "      <td>8.193194</td>\n",
       "      <td>52.150330</td>\n",
       "      <td>83.869037</td>\n",
       "      <td>67.6</td>\n",
       "      <td>71.001206</td>\n",
       "    </tr>\n",
       "    <tr>\n",
       "      <th>7</th>\n",
       "      <td>7</td>\n",
       "      <td>Centro (I)</td>\n",
       "      <td>italian</td>\n",
       "      <td>2020</td>\n",
       "      <td>10.372889</td>\n",
       "      <td>5.024784</td>\n",
       "      <td>7.6</td>\n",
       "      <td>7.821124</td>\n",
       "      <td>49.991570</td>\n",
       "      <td>82.418189</td>\n",
       "      <td>66.1</td>\n",
       "      <td>69.852723</td>\n",
       "    </tr>\n",
       "    <tr>\n",
       "      <th>8</th>\n",
       "      <td>8</td>\n",
       "      <td>Centro (I)</td>\n",
       "      <td>italian</td>\n",
       "      <td>2021</td>\n",
       "      <td>11.100709</td>\n",
       "      <td>4.150024</td>\n",
       "      <td>7.7</td>\n",
       "      <td>8.114135</td>\n",
       "      <td>50.522212</td>\n",
       "      <td>83.899395</td>\n",
       "      <td>66.8</td>\n",
       "      <td>70.399843</td>\n",
       "    </tr>\n",
       "    <tr>\n",
       "      <th>9</th>\n",
       "      <td>9</td>\n",
       "      <td>Centro (I)</td>\n",
       "      <td>italian</td>\n",
       "      <td>2022</td>\n",
       "      <td>8.462975</td>\n",
       "      <td>3.369947</td>\n",
       "      <td>6.1</td>\n",
       "      <td>6.500167</td>\n",
       "      <td>51.609045</td>\n",
       "      <td>83.923159</td>\n",
       "      <td>68.0</td>\n",
       "      <td>71.828835</td>\n",
       "    </tr>\n",
       "    <tr>\n",
       "      <th>10</th>\n",
       "      <td>10</td>\n",
       "      <td>Mezzogiorno</td>\n",
       "      <td>foreign</td>\n",
       "      <td>2018</td>\n",
       "      <td>15.570274</td>\n",
       "      <td>17.189990</td>\n",
       "      <td>16.0</td>\n",
       "      <td>16.964263</td>\n",
       "      <td>66.097724</td>\n",
       "      <td>71.544665</td>\n",
       "      <td>66.7</td>\n",
       "      <td>67.187872</td>\n",
       "    </tr>\n",
       "    <tr>\n",
       "      <th>11</th>\n",
       "      <td>11</td>\n",
       "      <td>Mezzogiorno</td>\n",
       "      <td>foreign</td>\n",
       "      <td>2019</td>\n",
       "      <td>16.924579</td>\n",
       "      <td>16.836758</td>\n",
       "      <td>17.5</td>\n",
       "      <td>19.247073</td>\n",
       "      <td>66.055395</td>\n",
       "      <td>65.841146</td>\n",
       "      <td>65.2</td>\n",
       "      <td>63.178155</td>\n",
       "    </tr>\n",
       "    <tr>\n",
       "      <th>12</th>\n",
       "      <td>12</td>\n",
       "      <td>Mezzogiorno</td>\n",
       "      <td>foreign</td>\n",
       "      <td>2020</td>\n",
       "      <td>19.020709</td>\n",
       "      <td>17.950487</td>\n",
       "      <td>18.9</td>\n",
       "      <td>18.689590</td>\n",
       "      <td>61.716367</td>\n",
       "      <td>55.005406</td>\n",
       "      <td>60.0</td>\n",
       "      <td>57.003637</td>\n",
       "    </tr>\n",
       "    <tr>\n",
       "      <th>13</th>\n",
       "      <td>13</td>\n",
       "      <td>Mezzogiorno</td>\n",
       "      <td>foreign</td>\n",
       "      <td>2021</td>\n",
       "      <td>20.928654</td>\n",
       "      <td>19.874336</td>\n",
       "      <td>20.8</td>\n",
       "      <td>20.727722</td>\n",
       "      <td>63.320470</td>\n",
       "      <td>58.843586</td>\n",
       "      <td>61.9</td>\n",
       "      <td>59.350414</td>\n",
       "    </tr>\n",
       "    <tr>\n",
       "      <th>14</th>\n",
       "      <td>14</td>\n",
       "      <td>Mezzogiorno</td>\n",
       "      <td>foreign</td>\n",
       "      <td>2022</td>\n",
       "      <td>19.000206</td>\n",
       "      <td>17.563798</td>\n",
       "      <td>19.0</td>\n",
       "      <td>19.229423</td>\n",
       "      <td>63.442347</td>\n",
       "      <td>60.235821</td>\n",
       "      <td>62.6</td>\n",
       "      <td>61.264202</td>\n",
       "    </tr>\n",
       "    <tr>\n",
       "      <th>15</th>\n",
       "      <td>15</td>\n",
       "      <td>Mezzogiorno</td>\n",
       "      <td>italian</td>\n",
       "      <td>2018</td>\n",
       "      <td>24.215728</td>\n",
       "      <td>11.038761</td>\n",
       "      <td>18.6</td>\n",
       "      <td>17.254204</td>\n",
       "      <td>41.577883</td>\n",
       "      <td>74.639067</td>\n",
       "      <td>53.2</td>\n",
       "      <td>59.857702</td>\n",
       "    </tr>\n",
       "    <tr>\n",
       "      <th>16</th>\n",
       "      <td>16</td>\n",
       "      <td>Mezzogiorno</td>\n",
       "      <td>italian</td>\n",
       "      <td>2019</td>\n",
       "      <td>23.170330</td>\n",
       "      <td>10.296681</td>\n",
       "      <td>17.7</td>\n",
       "      <td>16.685488</td>\n",
       "      <td>40.642789</td>\n",
       "      <td>75.097647</td>\n",
       "      <td>53.2</td>\n",
       "      <td>60.145473</td>\n",
       "    </tr>\n",
       "    <tr>\n",
       "      <th>17</th>\n",
       "      <td>17</td>\n",
       "      <td>Mezzogiorno</td>\n",
       "      <td>italian</td>\n",
       "      <td>2020</td>\n",
       "      <td>21.780618</td>\n",
       "      <td>9.218436</td>\n",
       "      <td>16.1</td>\n",
       "      <td>14.901700</td>\n",
       "      <td>38.809179</td>\n",
       "      <td>74.371937</td>\n",
       "      <td>51.1</td>\n",
       "      <td>57.092398</td>\n",
       "    </tr>\n",
       "    <tr>\n",
       "      <th>18</th>\n",
       "      <td>18</td>\n",
       "      <td>Mezzogiorno</td>\n",
       "      <td>italian</td>\n",
       "      <td>2021</td>\n",
       "      <td>21.733578</td>\n",
       "      <td>8.411085</td>\n",
       "      <td>16.2</td>\n",
       "      <td>15.629899</td>\n",
       "      <td>39.703686</td>\n",
       "      <td>75.412764</td>\n",
       "      <td>52.4</td>\n",
       "      <td>58.786052</td>\n",
       "    </tr>\n",
       "    <tr>\n",
       "      <th>19</th>\n",
       "      <td>19</td>\n",
       "      <td>Mezzogiorno</td>\n",
       "      <td>italian</td>\n",
       "      <td>2022</td>\n",
       "      <td>19.364638</td>\n",
       "      <td>6.812687</td>\n",
       "      <td>14.1</td>\n",
       "      <td>13.592164</td>\n",
       "      <td>40.331041</td>\n",
       "      <td>75.942163</td>\n",
       "      <td>53.2</td>\n",
       "      <td>59.487311</td>\n",
       "    </tr>\n",
       "    <tr>\n",
       "      <th>20</th>\n",
       "      <td>20</td>\n",
       "      <td>Nord</td>\n",
       "      <td>foreign</td>\n",
       "      <td>2018</td>\n",
       "      <td>14.491531</td>\n",
       "      <td>9.137413</td>\n",
       "      <td>13.1</td>\n",
       "      <td>12.781869</td>\n",
       "      <td>68.289759</td>\n",
       "      <td>76.686424</td>\n",
       "      <td>72.9</td>\n",
       "      <td>78.395477</td>\n",
       "    </tr>\n",
       "    <tr>\n",
       "      <th>21</th>\n",
       "      <td>21</td>\n",
       "      <td>Nord</td>\n",
       "      <td>foreign</td>\n",
       "      <td>2019</td>\n",
       "      <td>13.519575</td>\n",
       "      <td>10.391808</td>\n",
       "      <td>12.2</td>\n",
       "      <td>11.192228</td>\n",
       "      <td>68.257518</td>\n",
       "      <td>76.713407</td>\n",
       "      <td>72.9</td>\n",
       "      <td>78.430684</td>\n",
       "    </tr>\n",
       "    <tr>\n",
       "      <th>22</th>\n",
       "      <td>22</td>\n",
       "      <td>Nord</td>\n",
       "      <td>foreign</td>\n",
       "      <td>2020</td>\n",
       "      <td>12.179855</td>\n",
       "      <td>10.897149</td>\n",
       "      <td>12.0</td>\n",
       "      <td>12.133324</td>\n",
       "      <td>62.080906</td>\n",
       "      <td>71.332343</td>\n",
       "      <td>67.6</td>\n",
       "      <td>74.937094</td>\n",
       "    </tr>\n",
       "    <tr>\n",
       "      <th>23</th>\n",
       "      <td>23</td>\n",
       "      <td>Nord</td>\n",
       "      <td>foreign</td>\n",
       "      <td>2021</td>\n",
       "      <td>12.367512</td>\n",
       "      <td>11.026852</td>\n",
       "      <td>12.3</td>\n",
       "      <td>12.495783</td>\n",
       "      <td>64.769660</td>\n",
       "      <td>74.721646</td>\n",
       "      <td>70.2</td>\n",
       "      <td>76.261093</td>\n",
       "    </tr>\n",
       "    <tr>\n",
       "      <th>24</th>\n",
       "      <td>24</td>\n",
       "      <td>Nord</td>\n",
       "      <td>foreign</td>\n",
       "      <td>2022</td>\n",
       "      <td>10.421102</td>\n",
       "      <td>8.387245</td>\n",
       "      <td>9.8</td>\n",
       "      <td>9.457004</td>\n",
       "      <td>65.698128</td>\n",
       "      <td>76.511609</td>\n",
       "      <td>71.2</td>\n",
       "      <td>76.864817</td>\n",
       "    </tr>\n",
       "    <tr>\n",
       "      <th>25</th>\n",
       "      <td>25</td>\n",
       "      <td>Nord</td>\n",
       "      <td>italian</td>\n",
       "      <td>2018</td>\n",
       "      <td>7.663050</td>\n",
       "      <td>3.335926</td>\n",
       "      <td>5.6</td>\n",
       "      <td>5.546833</td>\n",
       "      <td>55.320980</td>\n",
       "      <td>86.141796</td>\n",
       "      <td>70.3</td>\n",
       "      <td>75.863703</td>\n",
       "    </tr>\n",
       "    <tr>\n",
       "      <th>26</th>\n",
       "      <td>26</td>\n",
       "      <td>Nord</td>\n",
       "      <td>italian</td>\n",
       "      <td>2019</td>\n",
       "      <td>7.548570</td>\n",
       "      <td>3.097107</td>\n",
       "      <td>5.2</td>\n",
       "      <td>4.881866</td>\n",
       "      <td>55.708748</td>\n",
       "      <td>85.910280</td>\n",
       "      <td>70.7</td>\n",
       "      <td>76.024817</td>\n",
       "    </tr>\n",
       "    <tr>\n",
       "      <th>27</th>\n",
       "      <td>27</td>\n",
       "      <td>Nord</td>\n",
       "      <td>italian</td>\n",
       "      <td>2020</td>\n",
       "      <td>6.954854</td>\n",
       "      <td>3.224007</td>\n",
       "      <td>5.1</td>\n",
       "      <td>5.120106</td>\n",
       "      <td>53.970334</td>\n",
       "      <td>84.271635</td>\n",
       "      <td>68.9</td>\n",
       "      <td>73.921695</td>\n",
       "    </tr>\n",
       "    <tr>\n",
       "      <th>28</th>\n",
       "      <td>28</td>\n",
       "      <td>Nord</td>\n",
       "      <td>italian</td>\n",
       "      <td>2021</td>\n",
       "      <td>7.227654</td>\n",
       "      <td>2.975011</td>\n",
       "      <td>5.1</td>\n",
       "      <td>4.995005</td>\n",
       "      <td>54.163318</td>\n",
       "      <td>85.553606</td>\n",
       "      <td>69.2</td>\n",
       "      <td>74.061972</td>\n",
       "    </tr>\n",
       "    <tr>\n",
       "      <th>29</th>\n",
       "      <td>29</td>\n",
       "      <td>Nord</td>\n",
       "      <td>italian</td>\n",
       "      <td>2022</td>\n",
       "      <td>6.388568</td>\n",
       "      <td>2.391241</td>\n",
       "      <td>4.4</td>\n",
       "      <td>4.254452</td>\n",
       "      <td>54.849589</td>\n",
       "      <td>86.307408</td>\n",
       "      <td>70.3</td>\n",
       "      <td>75.355582</td>\n",
       "    </tr>\n",
       "    <tr>\n",
       "      <th>30</th>\n",
       "      <td>30</td>\n",
       "      <td>Nord-est</td>\n",
       "      <td>foreign</td>\n",
       "      <td>2018</td>\n",
       "      <td>15.381984</td>\n",
       "      <td>9.819867</td>\n",
       "      <td>13.5</td>\n",
       "      <td>12.619294</td>\n",
       "      <td>67.473834</td>\n",
       "      <td>76.487557</td>\n",
       "      <td>73.4</td>\n",
       "      <td>79.708734</td>\n",
       "    </tr>\n",
       "    <tr>\n",
       "      <th>31</th>\n",
       "      <td>31</td>\n",
       "      <td>Nord-est</td>\n",
       "      <td>foreign</td>\n",
       "      <td>2019</td>\n",
       "      <td>14.406747</td>\n",
       "      <td>10.068177</td>\n",
       "      <td>12.5</td>\n",
       "      <td>11.210479</td>\n",
       "      <td>67.704574</td>\n",
       "      <td>76.943319</td>\n",
       "      <td>73.7</td>\n",
       "      <td>79.938751</td>\n",
       "    </tr>\n",
       "    <tr>\n",
       "      <th>32</th>\n",
       "      <td>32</td>\n",
       "      <td>Nord-est</td>\n",
       "      <td>foreign</td>\n",
       "      <td>2020</td>\n",
       "      <td>12.020518</td>\n",
       "      <td>11.987181</td>\n",
       "      <td>11.9</td>\n",
       "      <td>11.754628</td>\n",
       "      <td>62.688161</td>\n",
       "      <td>75.437066</td>\n",
       "      <td>70.3</td>\n",
       "      <td>77.875076</td>\n",
       "    </tr>\n",
       "    <tr>\n",
       "      <th>33</th>\n",
       "      <td>33</td>\n",
       "      <td>Nord-est</td>\n",
       "      <td>foreign</td>\n",
       "      <td>2021</td>\n",
       "      <td>11.021124</td>\n",
       "      <td>9.334388</td>\n",
       "      <td>10.5</td>\n",
       "      <td>10.315790</td>\n",
       "      <td>63.913195</td>\n",
       "      <td>77.036717</td>\n",
       "      <td>71.1</td>\n",
       "      <td>77.882568</td>\n",
       "    </tr>\n",
       "    <tr>\n",
       "      <th>34</th>\n",
       "      <td>34</td>\n",
       "      <td>Nord-est</td>\n",
       "      <td>foreign</td>\n",
       "      <td>2022</td>\n",
       "      <td>10.030182</td>\n",
       "      <td>6.208408</td>\n",
       "      <td>8.8</td>\n",
       "      <td>8.471354</td>\n",
       "      <td>65.197743</td>\n",
       "      <td>78.276261</td>\n",
       "      <td>71.9</td>\n",
       "      <td>77.516503</td>\n",
       "    </tr>\n",
       "    <tr>\n",
       "      <th>35</th>\n",
       "      <td>35</td>\n",
       "      <td>Nord-est</td>\n",
       "      <td>italian</td>\n",
       "      <td>2018</td>\n",
       "      <td>6.678413</td>\n",
       "      <td>3.139968</td>\n",
       "      <td>4.9</td>\n",
       "      <td>4.849491</td>\n",
       "      <td>55.556846</td>\n",
       "      <td>85.724218</td>\n",
       "      <td>70.8</td>\n",
       "      <td>76.656790</td>\n",
       "    </tr>\n",
       "    <tr>\n",
       "      <th>36</th>\n",
       "      <td>36</td>\n",
       "      <td>Nord-est</td>\n",
       "      <td>italian</td>\n",
       "      <td>2019</td>\n",
       "      <td>6.202183</td>\n",
       "      <td>3.248361</td>\n",
       "      <td>4.5</td>\n",
       "      <td>4.127024</td>\n",
       "      <td>55.295821</td>\n",
       "      <td>85.436213</td>\n",
       "      <td>71.3</td>\n",
       "      <td>77.447567</td>\n",
       "    </tr>\n",
       "    <tr>\n",
       "      <th>37</th>\n",
       "      <td>37</td>\n",
       "      <td>Nord-est</td>\n",
       "      <td>italian</td>\n",
       "      <td>2020</td>\n",
       "      <td>6.316249</td>\n",
       "      <td>3.260684</td>\n",
       "      <td>4.9</td>\n",
       "      <td>4.927196</td>\n",
       "      <td>54.445613</td>\n",
       "      <td>83.740433</td>\n",
       "      <td>69.6</td>\n",
       "      <td>74.922599</td>\n",
       "    </tr>\n",
       "    <tr>\n",
       "      <th>38</th>\n",
       "      <td>38</td>\n",
       "      <td>Nord-est</td>\n",
       "      <td>italian</td>\n",
       "      <td>2021</td>\n",
       "      <td>6.397210</td>\n",
       "      <td>2.777307</td>\n",
       "      <td>4.5</td>\n",
       "      <td>4.436290</td>\n",
       "      <td>54.174218</td>\n",
       "      <td>85.298496</td>\n",
       "      <td>69.5</td>\n",
       "      <td>74.410024</td>\n",
       "    </tr>\n",
       "    <tr>\n",
       "      <th>39</th>\n",
       "      <td>39</td>\n",
       "      <td>Nord-est</td>\n",
       "      <td>italian</td>\n",
       "      <td>2022</td>\n",
       "      <td>5.598281</td>\n",
       "      <td>2.209158</td>\n",
       "      <td>3.8</td>\n",
       "      <td>3.730644</td>\n",
       "      <td>55.003484</td>\n",
       "      <td>86.232490</td>\n",
       "      <td>70.7</td>\n",
       "      <td>76.074892</td>\n",
       "    </tr>\n",
       "    <tr>\n",
       "      <th>40</th>\n",
       "      <td>40</td>\n",
       "      <td>Nord-ovest</td>\n",
       "      <td>foreign</td>\n",
       "      <td>2018</td>\n",
       "      <td>13.942550</td>\n",
       "      <td>8.657254</td>\n",
       "      <td>12.9</td>\n",
       "      <td>12.920238</td>\n",
       "      <td>68.802661</td>\n",
       "      <td>76.827490</td>\n",
       "      <td>72.6</td>\n",
       "      <td>77.313317</td>\n",
       "    </tr>\n",
       "    <tr>\n",
       "      <th>41</th>\n",
       "      <td>41</td>\n",
       "      <td>Nord-ovest</td>\n",
       "      <td>foreign</td>\n",
       "      <td>2019</td>\n",
       "      <td>12.974600</td>\n",
       "      <td>10.642936</td>\n",
       "      <td>12.1</td>\n",
       "      <td>11.175751</td>\n",
       "      <td>68.601709</td>\n",
       "      <td>76.536952</td>\n",
       "      <td>72.3</td>\n",
       "      <td>77.109207</td>\n",
       "    </tr>\n",
       "    <tr>\n",
       "      <th>42</th>\n",
       "      <td>42</td>\n",
       "      <td>Nord-ovest</td>\n",
       "      <td>foreign</td>\n",
       "      <td>2020</td>\n",
       "      <td>12.277353</td>\n",
       "      <td>9.928720</td>\n",
       "      <td>12.1</td>\n",
       "      <td>12.508222</td>\n",
       "      <td>61.716206</td>\n",
       "      <td>68.043631</td>\n",
       "      <td>65.7</td>\n",
       "      <td>72.239657</td>\n",
       "    </tr>\n",
       "    <tr>\n",
       "      <th>43</th>\n",
       "      <td>43</td>\n",
       "      <td>Nord-ovest</td>\n",
       "      <td>foreign</td>\n",
       "      <td>2021</td>\n",
       "      <td>13.224713</td>\n",
       "      <td>12.471011</td>\n",
       "      <td>13.6</td>\n",
       "      <td>14.408137</td>\n",
       "      <td>65.327416</td>\n",
       "      <td>72.853186</td>\n",
       "      <td>69.5</td>\n",
       "      <td>74.893586</td>\n",
       "    </tr>\n",
       "    <tr>\n",
       "      <th>44</th>\n",
       "      <td>44</td>\n",
       "      <td>Nord-ovest</td>\n",
       "      <td>foreign</td>\n",
       "      <td>2022</td>\n",
       "      <td>10.672936</td>\n",
       "      <td>10.163093</td>\n",
       "      <td>10.5</td>\n",
       "      <td>10.377461</td>\n",
       "      <td>66.026004</td>\n",
       "      <td>75.131896</td>\n",
       "      <td>70.7</td>\n",
       "      <td>76.266436</td>\n",
       "    </tr>\n",
       "    <tr>\n",
       "      <th>45</th>\n",
       "      <td>45</td>\n",
       "      <td>Nord-ovest</td>\n",
       "      <td>italian</td>\n",
       "      <td>2018</td>\n",
       "      <td>8.359876</td>\n",
       "      <td>3.474170</td>\n",
       "      <td>6.1</td>\n",
       "      <td>6.088359</td>\n",
       "      <td>55.156700</td>\n",
       "      <td>86.439320</td>\n",
       "      <td>70.0</td>\n",
       "      <td>75.260497</td>\n",
       "    </tr>\n",
       "    <tr>\n",
       "      <th>46</th>\n",
       "      <td>46</td>\n",
       "      <td>Nord-ovest</td>\n",
       "      <td>italian</td>\n",
       "      <td>2019</td>\n",
       "      <td>8.479393</td>\n",
       "      <td>2.987756</td>\n",
       "      <td>5.7</td>\n",
       "      <td>5.468788</td>\n",
       "      <td>55.998608</td>\n",
       "      <td>86.256693</td>\n",
       "      <td>70.3</td>\n",
       "      <td>74.955011</td>\n",
       "    </tr>\n",
       "    <tr>\n",
       "      <th>47</th>\n",
       "      <td>47</td>\n",
       "      <td>Nord-ovest</td>\n",
       "      <td>italian</td>\n",
       "      <td>2020</td>\n",
       "      <td>7.408154</td>\n",
       "      <td>3.197198</td>\n",
       "      <td>5.3</td>\n",
       "      <td>5.268204</td>\n",
       "      <td>53.640038</td>\n",
       "      <td>84.664571</td>\n",
       "      <td>68.4</td>\n",
       "      <td>73.171798</td>\n",
       "    </tr>\n",
       "    <tr>\n",
       "      <th>48</th>\n",
       "      <td>48</td>\n",
       "      <td>Nord-ovest</td>\n",
       "      <td>italian</td>\n",
       "      <td>2021</td>\n",
       "      <td>7.805801</td>\n",
       "      <td>3.120391</td>\n",
       "      <td>5.5</td>\n",
       "      <td>5.419123</td>\n",
       "      <td>54.156985</td>\n",
       "      <td>85.742349</td>\n",
       "      <td>69.0</td>\n",
       "      <td>73.800469</td>\n",
       "    </tr>\n",
       "    <tr>\n",
       "      <th>49</th>\n",
       "      <td>49</td>\n",
       "      <td>Nord-ovest</td>\n",
       "      <td>italian</td>\n",
       "      <td>2022</td>\n",
       "      <td>6.945924</td>\n",
       "      <td>2.522901</td>\n",
       "      <td>4.7</td>\n",
       "      <td>4.653365</td>\n",
       "      <td>54.741921</td>\n",
       "      <td>86.361940</td>\n",
       "      <td>69.9</td>\n",
       "      <td>74.817090</td>\n",
       "    </tr>\n",
       "  </tbody>\n",
       "</table>\n",
       "</div>"
      ],
      "text/plain": [
       "    Unnamed: 0    Territory Citizenship  Year  UNEMP_ED_1  UNEMP_ED_3  \\\n",
       "0            0   Centro (I)     foreign  2018   15.155627   10.804081   \n",
       "1            1   Centro (I)     foreign  2019   13.568437   11.434287   \n",
       "2            2   Centro (I)     foreign  2020   13.153746    8.624535   \n",
       "3            3   Centro (I)     foreign  2021   13.241853   18.102600   \n",
       "4            4   Centro (I)     foreign  2022   12.723967   12.505329   \n",
       "5            5   Centro (I)     italian  2018   11.356605    4.986898   \n",
       "6            6   Centro (I)     italian  2019    9.827092    5.102061   \n",
       "7            7   Centro (I)     italian  2020   10.372889    5.024784   \n",
       "8            8   Centro (I)     italian  2021   11.100709    4.150024   \n",
       "9            9   Centro (I)     italian  2022    8.462975    3.369947   \n",
       "10          10  Mezzogiorno     foreign  2018   15.570274   17.189990   \n",
       "11          11  Mezzogiorno     foreign  2019   16.924579   16.836758   \n",
       "12          12  Mezzogiorno     foreign  2020   19.020709   17.950487   \n",
       "13          13  Mezzogiorno     foreign  2021   20.928654   19.874336   \n",
       "14          14  Mezzogiorno     foreign  2022   19.000206   17.563798   \n",
       "15          15  Mezzogiorno     italian  2018   24.215728   11.038761   \n",
       "16          16  Mezzogiorno     italian  2019   23.170330   10.296681   \n",
       "17          17  Mezzogiorno     italian  2020   21.780618    9.218436   \n",
       "18          18  Mezzogiorno     italian  2021   21.733578    8.411085   \n",
       "19          19  Mezzogiorno     italian  2022   19.364638    6.812687   \n",
       "20          20         Nord     foreign  2018   14.491531    9.137413   \n",
       "21          21         Nord     foreign  2019   13.519575   10.391808   \n",
       "22          22         Nord     foreign  2020   12.179855   10.897149   \n",
       "23          23         Nord     foreign  2021   12.367512   11.026852   \n",
       "24          24         Nord     foreign  2022   10.421102    8.387245   \n",
       "25          25         Nord     italian  2018    7.663050    3.335926   \n",
       "26          26         Nord     italian  2019    7.548570    3.097107   \n",
       "27          27         Nord     italian  2020    6.954854    3.224007   \n",
       "28          28         Nord     italian  2021    7.227654    2.975011   \n",
       "29          29         Nord     italian  2022    6.388568    2.391241   \n",
       "30          30     Nord-est     foreign  2018   15.381984    9.819867   \n",
       "31          31     Nord-est     foreign  2019   14.406747   10.068177   \n",
       "32          32     Nord-est     foreign  2020   12.020518   11.987181   \n",
       "33          33     Nord-est     foreign  2021   11.021124    9.334388   \n",
       "34          34     Nord-est     foreign  2022   10.030182    6.208408   \n",
       "35          35     Nord-est     italian  2018    6.678413    3.139968   \n",
       "36          36     Nord-est     italian  2019    6.202183    3.248361   \n",
       "37          37     Nord-est     italian  2020    6.316249    3.260684   \n",
       "38          38     Nord-est     italian  2021    6.397210    2.777307   \n",
       "39          39     Nord-est     italian  2022    5.598281    2.209158   \n",
       "40          40   Nord-ovest     foreign  2018   13.942550    8.657254   \n",
       "41          41   Nord-ovest     foreign  2019   12.974600   10.642936   \n",
       "42          42   Nord-ovest     foreign  2020   12.277353    9.928720   \n",
       "43          43   Nord-ovest     foreign  2021   13.224713   12.471011   \n",
       "44          44   Nord-ovest     foreign  2022   10.672936   10.163093   \n",
       "45          45   Nord-ovest     italian  2018    8.359876    3.474170   \n",
       "46          46   Nord-ovest     italian  2019    8.479393    2.987756   \n",
       "47          47   Nord-ovest     italian  2020    7.408154    3.197198   \n",
       "48          48   Nord-ovest     italian  2021    7.805801    3.120391   \n",
       "49          49   Nord-ovest     italian  2022    6.945924    2.522901   \n",
       "\n",
       "    % Unemployment  UNEMP_ED_2   ACT_ED_1   ACT_ED_3  % Activity   ACT_ED_2  \n",
       "0             14.5   14.836710  70.985618  77.124190        73.6  75.708602  \n",
       "1             14.8   17.514611  70.615605  75.937080        73.5  76.776958  \n",
       "2             12.8   13.542032  66.399470  68.671068        68.0  70.110227  \n",
       "3             15.2   16.586291  66.442788  71.376057        69.6  73.098578  \n",
       "4             13.0   13.377200  68.150298  74.444015        70.8  72.925446  \n",
       "5              8.7    9.377720  52.889158  83.546888        67.8  71.418533  \n",
       "6              7.7    8.193194  52.150330  83.869037        67.6  71.001206  \n",
       "7              7.6    7.821124  49.991570  82.418189        66.1  69.852723  \n",
       "8              7.7    8.114135  50.522212  83.899395        66.8  70.399843  \n",
       "9              6.1    6.500167  51.609045  83.923159        68.0  71.828835  \n",
       "10            16.0   16.964263  66.097724  71.544665        66.7  67.187872  \n",
       "11            17.5   19.247073  66.055395  65.841146        65.2  63.178155  \n",
       "12            18.9   18.689590  61.716367  55.005406        60.0  57.003637  \n",
       "13            20.8   20.727722  63.320470  58.843586        61.9  59.350414  \n",
       "14            19.0   19.229423  63.442347  60.235821        62.6  61.264202  \n",
       "15            18.6   17.254204  41.577883  74.639067        53.2  59.857702  \n",
       "16            17.7   16.685488  40.642789  75.097647        53.2  60.145473  \n",
       "17            16.1   14.901700  38.809179  74.371937        51.1  57.092398  \n",
       "18            16.2   15.629899  39.703686  75.412764        52.4  58.786052  \n",
       "19            14.1   13.592164  40.331041  75.942163        53.2  59.487311  \n",
       "20            13.1   12.781869  68.289759  76.686424        72.9  78.395477  \n",
       "21            12.2   11.192228  68.257518  76.713407        72.9  78.430684  \n",
       "22            12.0   12.133324  62.080906  71.332343        67.6  74.937094  \n",
       "23            12.3   12.495783  64.769660  74.721646        70.2  76.261093  \n",
       "24             9.8    9.457004  65.698128  76.511609        71.2  76.864817  \n",
       "25             5.6    5.546833  55.320980  86.141796        70.3  75.863703  \n",
       "26             5.2    4.881866  55.708748  85.910280        70.7  76.024817  \n",
       "27             5.1    5.120106  53.970334  84.271635        68.9  73.921695  \n",
       "28             5.1    4.995005  54.163318  85.553606        69.2  74.061972  \n",
       "29             4.4    4.254452  54.849589  86.307408        70.3  75.355582  \n",
       "30            13.5   12.619294  67.473834  76.487557        73.4  79.708734  \n",
       "31            12.5   11.210479  67.704574  76.943319        73.7  79.938751  \n",
       "32            11.9   11.754628  62.688161  75.437066        70.3  77.875076  \n",
       "33            10.5   10.315790  63.913195  77.036717        71.1  77.882568  \n",
       "34             8.8    8.471354  65.197743  78.276261        71.9  77.516503  \n",
       "35             4.9    4.849491  55.556846  85.724218        70.8  76.656790  \n",
       "36             4.5    4.127024  55.295821  85.436213        71.3  77.447567  \n",
       "37             4.9    4.927196  54.445613  83.740433        69.6  74.922599  \n",
       "38             4.5    4.436290  54.174218  85.298496        69.5  74.410024  \n",
       "39             3.8    3.730644  55.003484  86.232490        70.7  76.074892  \n",
       "40            12.9   12.920238  68.802661  76.827490        72.6  77.313317  \n",
       "41            12.1   11.175751  68.601709  76.536952        72.3  77.109207  \n",
       "42            12.1   12.508222  61.716206  68.043631        65.7  72.239657  \n",
       "43            13.6   14.408137  65.327416  72.853186        69.5  74.893586  \n",
       "44            10.5   10.377461  66.026004  75.131896        70.7  76.266436  \n",
       "45             6.1    6.088359  55.156700  86.439320        70.0  75.260497  \n",
       "46             5.7    5.468788  55.998608  86.256693        70.3  74.955011  \n",
       "47             5.3    5.268204  53.640038  84.664571        68.4  73.171798  \n",
       "48             5.5    5.419123  54.156985  85.742349        69.0  73.800469  \n",
       "49             4.7    4.653365  54.741921  86.361940        69.9  74.817090  "
      ]
     },
     "execution_count": 33,
     "metadata": {},
     "output_type": "execute_result"
    }
   ],
   "source": [
    "# WHAT: ANALYSIS OF THE TOTAL UNEMPLOYMENT X ACTIVITY RATE (i.e. WIHTOUT PAYING ATTENTION TO THE EDUCATIONAL LEVEL)\n",
    "# INSIGHT: The level of activity has more or less the same starting rate as the second level.\n",
    "# The more we go upper on the educational level, the more the unemployment rate has a upper-defined span in the line.\n",
    "# Furthermore, we notice how in 2022 the unemployment rate is downgraded, and the activity rate is raised in a significative way.\n",
    "\n",
    "mashup = pd.read_csv('https://raw.githubusercontent.com/openaccesstoimmigrants/openaccesstoimmigrants/main/2.VISUALIZE/mashupVizEnvironment/dunnoMashup.csv')\n",
    "# dunnoDf = dunnoDf.replace('italian',0)\n",
    "# dunnoDf = dunnoDf.replace('foreign',1)\n",
    "\n",
    "#round percentages\n",
    "mashup.total_x = mashup.total_x.round(1)\n",
    "mashup.total_y = mashup.total_y.round(1)\n",
    "\n",
    "#add % symbol to the main line for explainability purposes...\n",
    "\n",
    "mashup.rename(columns={\"total_y\": \"% Activity\"}, inplace=True)\n",
    "mashup.rename(columns={\"total_x\": \"% Unemployment\"}, inplace=True)\n",
    "mashup"
   ]
  },
  {
   "cell_type": "code",
   "execution_count": 32,
   "id": "e692998c",
   "metadata": {},
   "outputs": [
    {
     "data": {
      "text/html": [
       "\n",
       "        <iframe\n",
       "            width=\"100%\"\n",
       "            height=\"650\"\n",
       "            src=\"http://127.0.0.1:2223/\"\n",
       "            frameborder=\"0\"\n",
       "            allowfullscreen\n",
       "            \n",
       "        ></iframe>\n",
       "        "
      ],
      "text/plain": [
       "<IPython.lib.display.IFrame at 0x179e6085af0>"
      ]
     },
     "metadata": {},
     "output_type": "display_data"
    }
   ],
   "source": [
    "import dash\n",
    "from dash import dcc, html\n",
    "from dash.dependencies import Input, Output\n",
    "import plotly.graph_objects as go\n",
    "import pandas as pd\n",
    "\n",
    "# Load your CSV file\n",
    "df = mashup\n",
    "\n",
    "# Get unique territories and educational levels\n",
    "territories = df['Territory'].unique()\n",
    "#edu_levels = df.columns[5:11]  # Assuming columns 3, 4, and 5 are the columns for the three educational levels\n",
    "\n",
    "# Define the layout of the app\n",
    "app = dash.Dash(__name__)\n",
    "\n",
    "app.layout = html.Div([\n",
    "    html.Label('Select Territory:'),\n",
    "    dcc.Dropdown(\n",
    "        id='dropdown-territory',\n",
    "        options=[{'label': territory, 'value': territory} for territory in territories],\n",
    "        value=territories[0]\n",
    "    ),\n",
    "\n",
    "    dcc.Graph(id='line-chart'),\n",
    "])\n",
    "\n",
    "# Define callback to update the chart based on user input\n",
    "@app.callback(\n",
    "    Output('line-chart', 'figure'),\n",
    "    [Input('dropdown-territory', 'value')]\n",
    ")\n",
    "def update_chart(selected_territory):\n",
    "    # Filter the DataFrame based on the selected territory\n",
    "    filtered_df = df[df['Territory'] == selected_territory]\n",
    "\n",
    "    # Create a line chart using Plotly.graph_objects for all educational levels\n",
    "    fig = go.Figure()\n",
    "\n",
    "    #for edu_level in edu_levels:\n",
    "        #fig.add_trace(go.Scatter(x=filtered_df['Year'], y=filtered_df[f'Activity_Rate_{edu_level}'],\n",
    "                                 #mode='lines+markers', name=f'Activity Rate - {edu_level}'))\n",
    "\n",
    "        #fig.add_trace(go.Scatter(x=filtered_df['Year'], y=filtered_df[f'Unemployment_Rate_{edu_level}'],\n",
    "                                 #mode='lines+markers', name=f'Unemployment Rate - {edu_level}'))\n",
    "\n",
    "    # Update layout\n",
    "    fig.update_layout(title=f'Multi-Line Chart for {selected_territory}',\n",
    "                      xaxis_title='Year', yaxis_title='Rate')\n",
    "\n",
    "    return fig\n",
    "\n",
    "if __name__ == '__main__':\n",
    "    app.run_server(debug=True, port=2223)\n"
   ]
  },
  {
   "cell_type": "code",
   "execution_count": 60,
   "id": "6f6fa348",
   "metadata": {},
   "outputs": [
    {
     "data": {
      "text/html": [
       "\n",
       "        <iframe\n",
       "            width=\"100%\"\n",
       "            height=\"650\"\n",
       "            src=\"http://127.0.0.1:2223/\"\n",
       "            frameborder=\"0\"\n",
       "            allowfullscreen\n",
       "            \n",
       "        ></iframe>\n",
       "        "
      ],
      "text/plain": [
       "<IPython.lib.display.IFrame at 0x179e615d4f0>"
      ]
     },
     "metadata": {},
     "output_type": "display_data"
    }
   ],
   "source": [
    "from dash import Dash, dcc, html, Input, Output\n",
    "from plotly.subplots import make_subplots\n",
    "import plotly.graph_objects as go\n",
    "\n",
    "app = Dash(__name__)\n",
    "\n",
    "df=mashup\n",
    "\n",
    "app.layout = html.Div([\n",
    "    html.H4('Interactive data-scaling using the secondary axis'),\n",
    "    html.P(\"Select red line's Y-axis:\"),\n",
    "    dcc.RadioItems(\n",
    "        id='multiple-axes-x-radio',\n",
    "        options=['Activity Rate', 'Unemployment Rate'],\n",
    "        value='Unemployment Rate'\n",
    "    ),\n",
    "    dcc.Graph(id=\"multiple-axes-x-graph\"),\n",
    "])\n",
    "\n",
    "\n",
    "@app.callback(\n",
    "    Output(\"multiple-axes-x-graph\", \"figure\"), \n",
    "    Input(\"multiple-axes-x-radio\", \"value\"))\n",
    "def display_(radio_value):\n",
    "\n",
    "    # Create figure with secondary y-axis\n",
    "    fig = make_subplots(specs=[[{\"secondary_y\": True}]])\n",
    "\n",
    "    # Add traces\n",
    "    fig.add_trace(\n",
    "        go.Scatter(x=df['Year'], y=df['% Activity'], # replace with your own data source\n",
    "        name=\"yaxis data\"), secondary_y=False,\n",
    "    )\n",
    "\n",
    "    fig.add_trace(\n",
    "        go.Scatter(x=df['Year'], y=df['% Unemployment'], name=\"yaxis2 data\"),\n",
    "        secondary_y=radio_value == 'Secondary',\n",
    "    )\n",
    "\n",
    "    # Add figure title\n",
    "    fig.update_layout(title_text=\"Double Y Axis Example\")\n",
    "\n",
    "    # Set x-axis title\n",
    "    fig.update_xaxes(title_text=\"xaxis title\")\n",
    "\n",
    "    # Set y-axes titles\n",
    "    fig.update_yaxes(\n",
    "        title_text=\"<b>primary</b> yaxis title\", \n",
    "        secondary_y=False)\n",
    "    fig.update_yaxes(\n",
    "        title_text=\"<b>secondary</b> yaxis title\", \n",
    "        secondary_y=True)\n",
    "\n",
    "    return fig\n",
    "\n",
    "\n",
    "if __name__ == \"__main__\":\n",
    "    app.run_server(debug=True, port=2223)\n"
   ]
  },
  {
   "cell_type": "code",
   "execution_count": 42,
   "id": "2144dbe6",
   "metadata": {},
   "outputs": [
    {
     "data": {
      "application/vnd.plotly.v1+json": {
       "config": {
        "plotlyServerURL": "https://plot.ly"
       },
       "data": [
        {
         "alignmentgroup": "True",
         "hovertemplate": "Citizenship=foreign<br>Year=%{x}<br>% Activity=%{y}<extra></extra>",
         "legendgroup": "foreign",
         "marker": {
          "color": "#00cc96",
          "pattern": {
           "shape": ""
          }
         },
         "name": "foreign",
         "offsetgroup": "foreign",
         "orientation": "v",
         "showlegend": true,
         "textposition": "auto",
         "type": "bar",
         "x": [
          2018,
          2019,
          2020,
          2021,
          2022,
          2018,
          2019,
          2020,
          2021,
          2022,
          2018,
          2019,
          2020,
          2021,
          2022,
          2018,
          2019,
          2020,
          2021,
          2022,
          2018,
          2019,
          2020,
          2021,
          2022
         ],
         "xaxis": "x",
         "y": [
          73.6,
          73.5,
          68,
          69.6,
          70.8,
          66.7,
          65.2,
          60,
          61.9,
          62.6,
          72.9,
          72.9,
          67.6,
          70.2,
          71.2,
          73.4,
          73.7,
          70.3,
          71.1,
          71.9,
          72.6,
          72.3,
          65.7,
          69.5,
          70.7
         ],
         "yaxis": "y"
        },
        {
         "alignmentgroup": "True",
         "hovertemplate": "Citizenship=italian<br>Year=%{x}<br>% Activity=%{y}<extra></extra>",
         "legendgroup": "italian",
         "marker": {
          "color": "#ab63fa",
          "pattern": {
           "shape": ""
          }
         },
         "name": "italian",
         "offsetgroup": "italian",
         "orientation": "v",
         "showlegend": true,
         "textposition": "auto",
         "type": "bar",
         "x": [
          2018,
          2019,
          2020,
          2021,
          2022,
          2018,
          2019,
          2020,
          2021,
          2022,
          2018,
          2019,
          2020,
          2021,
          2022,
          2018,
          2019,
          2020,
          2021,
          2022,
          2018,
          2019,
          2020,
          2021,
          2022
         ],
         "xaxis": "x",
         "y": [
          67.8,
          67.6,
          66.1,
          66.8,
          68,
          53.2,
          53.2,
          51.1,
          52.4,
          53.2,
          70.3,
          70.7,
          68.9,
          69.2,
          70.3,
          70.8,
          71.3,
          69.6,
          69.5,
          70.7,
          70,
          70.3,
          68.4,
          69,
          69.9
         ],
         "yaxis": "y"
        }
       ],
       "layout": {
        "barmode": "group",
        "legend": {
         "title": {
          "text": "Citizenship"
         },
         "tracegroupgap": 0
        },
        "margin": {
         "t": 60
        },
        "template": {
         "data": {
          "bar": [
           {
            "error_x": {
             "color": "#2a3f5f"
            },
            "error_y": {
             "color": "#2a3f5f"
            },
            "marker": {
             "line": {
              "color": "#E5ECF6",
              "width": 0.5
             },
             "pattern": {
              "fillmode": "overlay",
              "size": 10,
              "solidity": 0.2
             }
            },
            "type": "bar"
           }
          ],
          "barpolar": [
           {
            "marker": {
             "line": {
              "color": "#E5ECF6",
              "width": 0.5
             },
             "pattern": {
              "fillmode": "overlay",
              "size": 10,
              "solidity": 0.2
             }
            },
            "type": "barpolar"
           }
          ],
          "carpet": [
           {
            "aaxis": {
             "endlinecolor": "#2a3f5f",
             "gridcolor": "white",
             "linecolor": "white",
             "minorgridcolor": "white",
             "startlinecolor": "#2a3f5f"
            },
            "baxis": {
             "endlinecolor": "#2a3f5f",
             "gridcolor": "white",
             "linecolor": "white",
             "minorgridcolor": "white",
             "startlinecolor": "#2a3f5f"
            },
            "type": "carpet"
           }
          ],
          "choropleth": [
           {
            "colorbar": {
             "outlinewidth": 0,
             "ticks": ""
            },
            "type": "choropleth"
           }
          ],
          "contour": [
           {
            "colorbar": {
             "outlinewidth": 0,
             "ticks": ""
            },
            "colorscale": [
             [
              0,
              "#0d0887"
             ],
             [
              0.1111111111111111,
              "#46039f"
             ],
             [
              0.2222222222222222,
              "#7201a8"
             ],
             [
              0.3333333333333333,
              "#9c179e"
             ],
             [
              0.4444444444444444,
              "#bd3786"
             ],
             [
              0.5555555555555556,
              "#d8576b"
             ],
             [
              0.6666666666666666,
              "#ed7953"
             ],
             [
              0.7777777777777778,
              "#fb9f3a"
             ],
             [
              0.8888888888888888,
              "#fdca26"
             ],
             [
              1,
              "#f0f921"
             ]
            ],
            "type": "contour"
           }
          ],
          "contourcarpet": [
           {
            "colorbar": {
             "outlinewidth": 0,
             "ticks": ""
            },
            "type": "contourcarpet"
           }
          ],
          "heatmap": [
           {
            "colorbar": {
             "outlinewidth": 0,
             "ticks": ""
            },
            "colorscale": [
             [
              0,
              "#0d0887"
             ],
             [
              0.1111111111111111,
              "#46039f"
             ],
             [
              0.2222222222222222,
              "#7201a8"
             ],
             [
              0.3333333333333333,
              "#9c179e"
             ],
             [
              0.4444444444444444,
              "#bd3786"
             ],
             [
              0.5555555555555556,
              "#d8576b"
             ],
             [
              0.6666666666666666,
              "#ed7953"
             ],
             [
              0.7777777777777778,
              "#fb9f3a"
             ],
             [
              0.8888888888888888,
              "#fdca26"
             ],
             [
              1,
              "#f0f921"
             ]
            ],
            "type": "heatmap"
           }
          ],
          "heatmapgl": [
           {
            "colorbar": {
             "outlinewidth": 0,
             "ticks": ""
            },
            "colorscale": [
             [
              0,
              "#0d0887"
             ],
             [
              0.1111111111111111,
              "#46039f"
             ],
             [
              0.2222222222222222,
              "#7201a8"
             ],
             [
              0.3333333333333333,
              "#9c179e"
             ],
             [
              0.4444444444444444,
              "#bd3786"
             ],
             [
              0.5555555555555556,
              "#d8576b"
             ],
             [
              0.6666666666666666,
              "#ed7953"
             ],
             [
              0.7777777777777778,
              "#fb9f3a"
             ],
             [
              0.8888888888888888,
              "#fdca26"
             ],
             [
              1,
              "#f0f921"
             ]
            ],
            "type": "heatmapgl"
           }
          ],
          "histogram": [
           {
            "marker": {
             "pattern": {
              "fillmode": "overlay",
              "size": 10,
              "solidity": 0.2
             }
            },
            "type": "histogram"
           }
          ],
          "histogram2d": [
           {
            "colorbar": {
             "outlinewidth": 0,
             "ticks": ""
            },
            "colorscale": [
             [
              0,
              "#0d0887"
             ],
             [
              0.1111111111111111,
              "#46039f"
             ],
             [
              0.2222222222222222,
              "#7201a8"
             ],
             [
              0.3333333333333333,
              "#9c179e"
             ],
             [
              0.4444444444444444,
              "#bd3786"
             ],
             [
              0.5555555555555556,
              "#d8576b"
             ],
             [
              0.6666666666666666,
              "#ed7953"
             ],
             [
              0.7777777777777778,
              "#fb9f3a"
             ],
             [
              0.8888888888888888,
              "#fdca26"
             ],
             [
              1,
              "#f0f921"
             ]
            ],
            "type": "histogram2d"
           }
          ],
          "histogram2dcontour": [
           {
            "colorbar": {
             "outlinewidth": 0,
             "ticks": ""
            },
            "colorscale": [
             [
              0,
              "#0d0887"
             ],
             [
              0.1111111111111111,
              "#46039f"
             ],
             [
              0.2222222222222222,
              "#7201a8"
             ],
             [
              0.3333333333333333,
              "#9c179e"
             ],
             [
              0.4444444444444444,
              "#bd3786"
             ],
             [
              0.5555555555555556,
              "#d8576b"
             ],
             [
              0.6666666666666666,
              "#ed7953"
             ],
             [
              0.7777777777777778,
              "#fb9f3a"
             ],
             [
              0.8888888888888888,
              "#fdca26"
             ],
             [
              1,
              "#f0f921"
             ]
            ],
            "type": "histogram2dcontour"
           }
          ],
          "mesh3d": [
           {
            "colorbar": {
             "outlinewidth": 0,
             "ticks": ""
            },
            "type": "mesh3d"
           }
          ],
          "parcoords": [
           {
            "line": {
             "colorbar": {
              "outlinewidth": 0,
              "ticks": ""
             }
            },
            "type": "parcoords"
           }
          ],
          "pie": [
           {
            "automargin": true,
            "type": "pie"
           }
          ],
          "scatter": [
           {
            "fillpattern": {
             "fillmode": "overlay",
             "size": 10,
             "solidity": 0.2
            },
            "type": "scatter"
           }
          ],
          "scatter3d": [
           {
            "line": {
             "colorbar": {
              "outlinewidth": 0,
              "ticks": ""
             }
            },
            "marker": {
             "colorbar": {
              "outlinewidth": 0,
              "ticks": ""
             }
            },
            "type": "scatter3d"
           }
          ],
          "scattercarpet": [
           {
            "marker": {
             "colorbar": {
              "outlinewidth": 0,
              "ticks": ""
             }
            },
            "type": "scattercarpet"
           }
          ],
          "scattergeo": [
           {
            "marker": {
             "colorbar": {
              "outlinewidth": 0,
              "ticks": ""
             }
            },
            "type": "scattergeo"
           }
          ],
          "scattergl": [
           {
            "marker": {
             "colorbar": {
              "outlinewidth": 0,
              "ticks": ""
             }
            },
            "type": "scattergl"
           }
          ],
          "scattermapbox": [
           {
            "marker": {
             "colorbar": {
              "outlinewidth": 0,
              "ticks": ""
             }
            },
            "type": "scattermapbox"
           }
          ],
          "scatterpolar": [
           {
            "marker": {
             "colorbar": {
              "outlinewidth": 0,
              "ticks": ""
             }
            },
            "type": "scatterpolar"
           }
          ],
          "scatterpolargl": [
           {
            "marker": {
             "colorbar": {
              "outlinewidth": 0,
              "ticks": ""
             }
            },
            "type": "scatterpolargl"
           }
          ],
          "scatterternary": [
           {
            "marker": {
             "colorbar": {
              "outlinewidth": 0,
              "ticks": ""
             }
            },
            "type": "scatterternary"
           }
          ],
          "surface": [
           {
            "colorbar": {
             "outlinewidth": 0,
             "ticks": ""
            },
            "colorscale": [
             [
              0,
              "#0d0887"
             ],
             [
              0.1111111111111111,
              "#46039f"
             ],
             [
              0.2222222222222222,
              "#7201a8"
             ],
             [
              0.3333333333333333,
              "#9c179e"
             ],
             [
              0.4444444444444444,
              "#bd3786"
             ],
             [
              0.5555555555555556,
              "#d8576b"
             ],
             [
              0.6666666666666666,
              "#ed7953"
             ],
             [
              0.7777777777777778,
              "#fb9f3a"
             ],
             [
              0.8888888888888888,
              "#fdca26"
             ],
             [
              1,
              "#f0f921"
             ]
            ],
            "type": "surface"
           }
          ],
          "table": [
           {
            "cells": {
             "fill": {
              "color": "#EBF0F8"
             },
             "line": {
              "color": "white"
             }
            },
            "header": {
             "fill": {
              "color": "#C8D4E3"
             },
             "line": {
              "color": "white"
             }
            },
            "type": "table"
           }
          ]
         },
         "layout": {
          "annotationdefaults": {
           "arrowcolor": "#2a3f5f",
           "arrowhead": 0,
           "arrowwidth": 1
          },
          "autotypenumbers": "strict",
          "coloraxis": {
           "colorbar": {
            "outlinewidth": 0,
            "ticks": ""
           }
          },
          "colorscale": {
           "diverging": [
            [
             0,
             "#8e0152"
            ],
            [
             0.1,
             "#c51b7d"
            ],
            [
             0.2,
             "#de77ae"
            ],
            [
             0.3,
             "#f1b6da"
            ],
            [
             0.4,
             "#fde0ef"
            ],
            [
             0.5,
             "#f7f7f7"
            ],
            [
             0.6,
             "#e6f5d0"
            ],
            [
             0.7,
             "#b8e186"
            ],
            [
             0.8,
             "#7fbc41"
            ],
            [
             0.9,
             "#4d9221"
            ],
            [
             1,
             "#276419"
            ]
           ],
           "sequential": [
            [
             0,
             "#0d0887"
            ],
            [
             0.1111111111111111,
             "#46039f"
            ],
            [
             0.2222222222222222,
             "#7201a8"
            ],
            [
             0.3333333333333333,
             "#9c179e"
            ],
            [
             0.4444444444444444,
             "#bd3786"
            ],
            [
             0.5555555555555556,
             "#d8576b"
            ],
            [
             0.6666666666666666,
             "#ed7953"
            ],
            [
             0.7777777777777778,
             "#fb9f3a"
            ],
            [
             0.8888888888888888,
             "#fdca26"
            ],
            [
             1,
             "#f0f921"
            ]
           ],
           "sequentialminus": [
            [
             0,
             "#0d0887"
            ],
            [
             0.1111111111111111,
             "#46039f"
            ],
            [
             0.2222222222222222,
             "#7201a8"
            ],
            [
             0.3333333333333333,
             "#9c179e"
            ],
            [
             0.4444444444444444,
             "#bd3786"
            ],
            [
             0.5555555555555556,
             "#d8576b"
            ],
            [
             0.6666666666666666,
             "#ed7953"
            ],
            [
             0.7777777777777778,
             "#fb9f3a"
            ],
            [
             0.8888888888888888,
             "#fdca26"
            ],
            [
             1,
             "#f0f921"
            ]
           ]
          },
          "colorway": [
           "#636efa",
           "#EF553B",
           "#00cc96",
           "#ab63fa",
           "#FFA15A",
           "#19d3f3",
           "#FF6692",
           "#B6E880",
           "#FF97FF",
           "#FECB52"
          ],
          "font": {
           "color": "#2a3f5f"
          },
          "geo": {
           "bgcolor": "white",
           "lakecolor": "white",
           "landcolor": "#E5ECF6",
           "showlakes": true,
           "showland": true,
           "subunitcolor": "white"
          },
          "hoverlabel": {
           "align": "left"
          },
          "hovermode": "closest",
          "mapbox": {
           "style": "light"
          },
          "paper_bgcolor": "white",
          "plot_bgcolor": "#E5ECF6",
          "polar": {
           "angularaxis": {
            "gridcolor": "white",
            "linecolor": "white",
            "ticks": ""
           },
           "bgcolor": "#E5ECF6",
           "radialaxis": {
            "gridcolor": "white",
            "linecolor": "white",
            "ticks": ""
           }
          },
          "scene": {
           "xaxis": {
            "backgroundcolor": "#E5ECF6",
            "gridcolor": "white",
            "gridwidth": 2,
            "linecolor": "white",
            "showbackground": true,
            "ticks": "",
            "zerolinecolor": "white"
           },
           "yaxis": {
            "backgroundcolor": "#E5ECF6",
            "gridcolor": "white",
            "gridwidth": 2,
            "linecolor": "white",
            "showbackground": true,
            "ticks": "",
            "zerolinecolor": "white"
           },
           "zaxis": {
            "backgroundcolor": "#E5ECF6",
            "gridcolor": "white",
            "gridwidth": 2,
            "linecolor": "white",
            "showbackground": true,
            "ticks": "",
            "zerolinecolor": "white"
           }
          },
          "shapedefaults": {
           "line": {
            "color": "#2a3f5f"
           }
          },
          "ternary": {
           "aaxis": {
            "gridcolor": "white",
            "linecolor": "white",
            "ticks": ""
           },
           "baxis": {
            "gridcolor": "white",
            "linecolor": "white",
            "ticks": ""
           },
           "bgcolor": "#E5ECF6",
           "caxis": {
            "gridcolor": "white",
            "linecolor": "white",
            "ticks": ""
           }
          },
          "title": {
           "x": 0.05
          },
          "xaxis": {
           "automargin": true,
           "gridcolor": "white",
           "linecolor": "white",
           "ticks": "",
           "title": {
            "standoff": 15
           },
           "zerolinecolor": "white",
           "zerolinewidth": 2
          },
          "yaxis": {
           "automargin": true,
           "gridcolor": "white",
           "linecolor": "white",
           "ticks": "",
           "title": {
            "standoff": 15
           },
           "zerolinecolor": "white",
           "zerolinewidth": 2
          }
         }
        },
        "xaxis": {
         "anchor": "y",
         "categoryarray": [
          "2018",
          "2019"
         ],
         "categoryorder": "array",
         "domain": [
          0,
          1
         ],
         "title": {
          "text": "Year"
         }
        },
        "yaxis": {
         "anchor": "x",
         "domain": [
          0,
          1
         ],
         "title": {
          "text": "% Activity"
         }
        }
       }
      },
      "text/html": [
       "<div>                            <div id=\"76bd9cfe-2e42-4546-8128-56040e480c99\" class=\"plotly-graph-div\" style=\"height:525px; width:100%;\"></div>            <script type=\"text/javascript\">                require([\"plotly\"], function(Plotly) {                    window.PLOTLYENV=window.PLOTLYENV || {};                                    if (document.getElementById(\"76bd9cfe-2e42-4546-8128-56040e480c99\")) {                    Plotly.newPlot(                        \"76bd9cfe-2e42-4546-8128-56040e480c99\",                        [{\"alignmentgroup\":\"True\",\"hovertemplate\":\"Citizenship=foreign<br>Year=%{x}<br>% Activity=%{y}<extra></extra>\",\"legendgroup\":\"foreign\",\"marker\":{\"color\":\"#00cc96\",\"pattern\":{\"shape\":\"\"}},\"name\":\"foreign\",\"offsetgroup\":\"foreign\",\"orientation\":\"v\",\"showlegend\":true,\"textposition\":\"auto\",\"x\":[2018,2019,2020,2021,2022,2018,2019,2020,2021,2022,2018,2019,2020,2021,2022,2018,2019,2020,2021,2022,2018,2019,2020,2021,2022],\"xaxis\":\"x\",\"y\":[73.6,73.5,68.0,69.6,70.8,66.7,65.2,60.0,61.9,62.6,72.9,72.9,67.6,70.2,71.2,73.4,73.7,70.3,71.1,71.9,72.6,72.3,65.7,69.5,70.7],\"yaxis\":\"y\",\"type\":\"bar\"},{\"alignmentgroup\":\"True\",\"hovertemplate\":\"Citizenship=italian<br>Year=%{x}<br>% Activity=%{y}<extra></extra>\",\"legendgroup\":\"italian\",\"marker\":{\"color\":\"#ab63fa\",\"pattern\":{\"shape\":\"\"}},\"name\":\"italian\",\"offsetgroup\":\"italian\",\"orientation\":\"v\",\"showlegend\":true,\"textposition\":\"auto\",\"x\":[2018,2019,2020,2021,2022,2018,2019,2020,2021,2022,2018,2019,2020,2021,2022,2018,2019,2020,2021,2022,2018,2019,2020,2021,2022],\"xaxis\":\"x\",\"y\":[67.8,67.6,66.1,66.8,68.0,53.2,53.2,51.1,52.4,53.2,70.3,70.7,68.9,69.2,70.3,70.8,71.3,69.6,69.5,70.7,70.0,70.3,68.4,69.0,69.9],\"yaxis\":\"y\",\"type\":\"bar\"}],                        {\"template\":{\"data\":{\"histogram2dcontour\":[{\"type\":\"histogram2dcontour\",\"colorbar\":{\"outlinewidth\":0,\"ticks\":\"\"},\"colorscale\":[[0.0,\"#0d0887\"],[0.1111111111111111,\"#46039f\"],[0.2222222222222222,\"#7201a8\"],[0.3333333333333333,\"#9c179e\"],[0.4444444444444444,\"#bd3786\"],[0.5555555555555556,\"#d8576b\"],[0.6666666666666666,\"#ed7953\"],[0.7777777777777778,\"#fb9f3a\"],[0.8888888888888888,\"#fdca26\"],[1.0,\"#f0f921\"]]}],\"choropleth\":[{\"type\":\"choropleth\",\"colorbar\":{\"outlinewidth\":0,\"ticks\":\"\"}}],\"histogram2d\":[{\"type\":\"histogram2d\",\"colorbar\":{\"outlinewidth\":0,\"ticks\":\"\"},\"colorscale\":[[0.0,\"#0d0887\"],[0.1111111111111111,\"#46039f\"],[0.2222222222222222,\"#7201a8\"],[0.3333333333333333,\"#9c179e\"],[0.4444444444444444,\"#bd3786\"],[0.5555555555555556,\"#d8576b\"],[0.6666666666666666,\"#ed7953\"],[0.7777777777777778,\"#fb9f3a\"],[0.8888888888888888,\"#fdca26\"],[1.0,\"#f0f921\"]]}],\"heatmap\":[{\"type\":\"heatmap\",\"colorbar\":{\"outlinewidth\":0,\"ticks\":\"\"},\"colorscale\":[[0.0,\"#0d0887\"],[0.1111111111111111,\"#46039f\"],[0.2222222222222222,\"#7201a8\"],[0.3333333333333333,\"#9c179e\"],[0.4444444444444444,\"#bd3786\"],[0.5555555555555556,\"#d8576b\"],[0.6666666666666666,\"#ed7953\"],[0.7777777777777778,\"#fb9f3a\"],[0.8888888888888888,\"#fdca26\"],[1.0,\"#f0f921\"]]}],\"heatmapgl\":[{\"type\":\"heatmapgl\",\"colorbar\":{\"outlinewidth\":0,\"ticks\":\"\"},\"colorscale\":[[0.0,\"#0d0887\"],[0.1111111111111111,\"#46039f\"],[0.2222222222222222,\"#7201a8\"],[0.3333333333333333,\"#9c179e\"],[0.4444444444444444,\"#bd3786\"],[0.5555555555555556,\"#d8576b\"],[0.6666666666666666,\"#ed7953\"],[0.7777777777777778,\"#fb9f3a\"],[0.8888888888888888,\"#fdca26\"],[1.0,\"#f0f921\"]]}],\"contourcarpet\":[{\"type\":\"contourcarpet\",\"colorbar\":{\"outlinewidth\":0,\"ticks\":\"\"}}],\"contour\":[{\"type\":\"contour\",\"colorbar\":{\"outlinewidth\":0,\"ticks\":\"\"},\"colorscale\":[[0.0,\"#0d0887\"],[0.1111111111111111,\"#46039f\"],[0.2222222222222222,\"#7201a8\"],[0.3333333333333333,\"#9c179e\"],[0.4444444444444444,\"#bd3786\"],[0.5555555555555556,\"#d8576b\"],[0.6666666666666666,\"#ed7953\"],[0.7777777777777778,\"#fb9f3a\"],[0.8888888888888888,\"#fdca26\"],[1.0,\"#f0f921\"]]}],\"surface\":[{\"type\":\"surface\",\"colorbar\":{\"outlinewidth\":0,\"ticks\":\"\"},\"colorscale\":[[0.0,\"#0d0887\"],[0.1111111111111111,\"#46039f\"],[0.2222222222222222,\"#7201a8\"],[0.3333333333333333,\"#9c179e\"],[0.4444444444444444,\"#bd3786\"],[0.5555555555555556,\"#d8576b\"],[0.6666666666666666,\"#ed7953\"],[0.7777777777777778,\"#fb9f3a\"],[0.8888888888888888,\"#fdca26\"],[1.0,\"#f0f921\"]]}],\"mesh3d\":[{\"type\":\"mesh3d\",\"colorbar\":{\"outlinewidth\":0,\"ticks\":\"\"}}],\"scatter\":[{\"fillpattern\":{\"fillmode\":\"overlay\",\"size\":10,\"solidity\":0.2},\"type\":\"scatter\"}],\"parcoords\":[{\"type\":\"parcoords\",\"line\":{\"colorbar\":{\"outlinewidth\":0,\"ticks\":\"\"}}}],\"scatterpolargl\":[{\"type\":\"scatterpolargl\",\"marker\":{\"colorbar\":{\"outlinewidth\":0,\"ticks\":\"\"}}}],\"bar\":[{\"error_x\":{\"color\":\"#2a3f5f\"},\"error_y\":{\"color\":\"#2a3f5f\"},\"marker\":{\"line\":{\"color\":\"#E5ECF6\",\"width\":0.5},\"pattern\":{\"fillmode\":\"overlay\",\"size\":10,\"solidity\":0.2}},\"type\":\"bar\"}],\"scattergeo\":[{\"type\":\"scattergeo\",\"marker\":{\"colorbar\":{\"outlinewidth\":0,\"ticks\":\"\"}}}],\"scatterpolar\":[{\"type\":\"scatterpolar\",\"marker\":{\"colorbar\":{\"outlinewidth\":0,\"ticks\":\"\"}}}],\"histogram\":[{\"marker\":{\"pattern\":{\"fillmode\":\"overlay\",\"size\":10,\"solidity\":0.2}},\"type\":\"histogram\"}],\"scattergl\":[{\"type\":\"scattergl\",\"marker\":{\"colorbar\":{\"outlinewidth\":0,\"ticks\":\"\"}}}],\"scatter3d\":[{\"type\":\"scatter3d\",\"line\":{\"colorbar\":{\"outlinewidth\":0,\"ticks\":\"\"}},\"marker\":{\"colorbar\":{\"outlinewidth\":0,\"ticks\":\"\"}}}],\"scattermapbox\":[{\"type\":\"scattermapbox\",\"marker\":{\"colorbar\":{\"outlinewidth\":0,\"ticks\":\"\"}}}],\"scatterternary\":[{\"type\":\"scatterternary\",\"marker\":{\"colorbar\":{\"outlinewidth\":0,\"ticks\":\"\"}}}],\"scattercarpet\":[{\"type\":\"scattercarpet\",\"marker\":{\"colorbar\":{\"outlinewidth\":0,\"ticks\":\"\"}}}],\"carpet\":[{\"aaxis\":{\"endlinecolor\":\"#2a3f5f\",\"gridcolor\":\"white\",\"linecolor\":\"white\",\"minorgridcolor\":\"white\",\"startlinecolor\":\"#2a3f5f\"},\"baxis\":{\"endlinecolor\":\"#2a3f5f\",\"gridcolor\":\"white\",\"linecolor\":\"white\",\"minorgridcolor\":\"white\",\"startlinecolor\":\"#2a3f5f\"},\"type\":\"carpet\"}],\"table\":[{\"cells\":{\"fill\":{\"color\":\"#EBF0F8\"},\"line\":{\"color\":\"white\"}},\"header\":{\"fill\":{\"color\":\"#C8D4E3\"},\"line\":{\"color\":\"white\"}},\"type\":\"table\"}],\"barpolar\":[{\"marker\":{\"line\":{\"color\":\"#E5ECF6\",\"width\":0.5},\"pattern\":{\"fillmode\":\"overlay\",\"size\":10,\"solidity\":0.2}},\"type\":\"barpolar\"}],\"pie\":[{\"automargin\":true,\"type\":\"pie\"}]},\"layout\":{\"autotypenumbers\":\"strict\",\"colorway\":[\"#636efa\",\"#EF553B\",\"#00cc96\",\"#ab63fa\",\"#FFA15A\",\"#19d3f3\",\"#FF6692\",\"#B6E880\",\"#FF97FF\",\"#FECB52\"],\"font\":{\"color\":\"#2a3f5f\"},\"hovermode\":\"closest\",\"hoverlabel\":{\"align\":\"left\"},\"paper_bgcolor\":\"white\",\"plot_bgcolor\":\"#E5ECF6\",\"polar\":{\"bgcolor\":\"#E5ECF6\",\"angularaxis\":{\"gridcolor\":\"white\",\"linecolor\":\"white\",\"ticks\":\"\"},\"radialaxis\":{\"gridcolor\":\"white\",\"linecolor\":\"white\",\"ticks\":\"\"}},\"ternary\":{\"bgcolor\":\"#E5ECF6\",\"aaxis\":{\"gridcolor\":\"white\",\"linecolor\":\"white\",\"ticks\":\"\"},\"baxis\":{\"gridcolor\":\"white\",\"linecolor\":\"white\",\"ticks\":\"\"},\"caxis\":{\"gridcolor\":\"white\",\"linecolor\":\"white\",\"ticks\":\"\"}},\"coloraxis\":{\"colorbar\":{\"outlinewidth\":0,\"ticks\":\"\"}},\"colorscale\":{\"sequential\":[[0.0,\"#0d0887\"],[0.1111111111111111,\"#46039f\"],[0.2222222222222222,\"#7201a8\"],[0.3333333333333333,\"#9c179e\"],[0.4444444444444444,\"#bd3786\"],[0.5555555555555556,\"#d8576b\"],[0.6666666666666666,\"#ed7953\"],[0.7777777777777778,\"#fb9f3a\"],[0.8888888888888888,\"#fdca26\"],[1.0,\"#f0f921\"]],\"sequentialminus\":[[0.0,\"#0d0887\"],[0.1111111111111111,\"#46039f\"],[0.2222222222222222,\"#7201a8\"],[0.3333333333333333,\"#9c179e\"],[0.4444444444444444,\"#bd3786\"],[0.5555555555555556,\"#d8576b\"],[0.6666666666666666,\"#ed7953\"],[0.7777777777777778,\"#fb9f3a\"],[0.8888888888888888,\"#fdca26\"],[1.0,\"#f0f921\"]],\"diverging\":[[0,\"#8e0152\"],[0.1,\"#c51b7d\"],[0.2,\"#de77ae\"],[0.3,\"#f1b6da\"],[0.4,\"#fde0ef\"],[0.5,\"#f7f7f7\"],[0.6,\"#e6f5d0\"],[0.7,\"#b8e186\"],[0.8,\"#7fbc41\"],[0.9,\"#4d9221\"],[1,\"#276419\"]]},\"xaxis\":{\"gridcolor\":\"white\",\"linecolor\":\"white\",\"ticks\":\"\",\"title\":{\"standoff\":15},\"zerolinecolor\":\"white\",\"automargin\":true,\"zerolinewidth\":2},\"yaxis\":{\"gridcolor\":\"white\",\"linecolor\":\"white\",\"ticks\":\"\",\"title\":{\"standoff\":15},\"zerolinecolor\":\"white\",\"automargin\":true,\"zerolinewidth\":2},\"scene\":{\"xaxis\":{\"backgroundcolor\":\"#E5ECF6\",\"gridcolor\":\"white\",\"linecolor\":\"white\",\"showbackground\":true,\"ticks\":\"\",\"zerolinecolor\":\"white\",\"gridwidth\":2},\"yaxis\":{\"backgroundcolor\":\"#E5ECF6\",\"gridcolor\":\"white\",\"linecolor\":\"white\",\"showbackground\":true,\"ticks\":\"\",\"zerolinecolor\":\"white\",\"gridwidth\":2},\"zaxis\":{\"backgroundcolor\":\"#E5ECF6\",\"gridcolor\":\"white\",\"linecolor\":\"white\",\"showbackground\":true,\"ticks\":\"\",\"zerolinecolor\":\"white\",\"gridwidth\":2}},\"shapedefaults\":{\"line\":{\"color\":\"#2a3f5f\"}},\"annotationdefaults\":{\"arrowcolor\":\"#2a3f5f\",\"arrowhead\":0,\"arrowwidth\":1},\"geo\":{\"bgcolor\":\"white\",\"landcolor\":\"#E5ECF6\",\"subunitcolor\":\"white\",\"showland\":true,\"showlakes\":true,\"lakecolor\":\"white\"},\"title\":{\"x\":0.05},\"mapbox\":{\"style\":\"light\"}}},\"xaxis\":{\"anchor\":\"y\",\"domain\":[0.0,1.0],\"title\":{\"text\":\"Year\"},\"categoryorder\":\"array\",\"categoryarray\":[\"2018\",\"2019\"]},\"yaxis\":{\"anchor\":\"x\",\"domain\":[0.0,1.0],\"title\":{\"text\":\"% Activity\"}},\"legend\":{\"title\":{\"text\":\"Citizenship\"},\"tracegroupgap\":0},\"margin\":{\"t\":60},\"barmode\":\"group\"},                        {\"responsive\": true}                    ).then(function(){\n",
       "                            \n",
       "var gd = document.getElementById('76bd9cfe-2e42-4546-8128-56040e480c99');\n",
       "var x = new MutationObserver(function (mutations, observer) {{\n",
       "        var display = window.getComputedStyle(gd).display;\n",
       "        if (!display || display === 'none') {{\n",
       "            console.log([gd, 'removed!']);\n",
       "            Plotly.purge(gd);\n",
       "            observer.disconnect();\n",
       "        }}\n",
       "}});\n",
       "\n",
       "// Listen for the removal of the full notebook cells\n",
       "var notebookContainer = gd.closest('#notebook-container');\n",
       "if (notebookContainer) {{\n",
       "    x.observe(notebookContainer, {childList: true});\n",
       "}}\n",
       "\n",
       "// Listen for the clearing of the current output cell\n",
       "var outputEl = gd.closest('.output');\n",
       "if (outputEl) {{\n",
       "    x.observe(outputEl, {childList: true});\n",
       "}}\n",
       "\n",
       "                        })                };                });            </script>        </div>"
      ]
     },
     "metadata": {},
     "output_type": "display_data"
    }
   ],
   "source": [
    "import plotly.express as px\n",
    "df = mashup\n",
    "fig = px.bar(df, x=\"Year\", y=\"% Activity\", color=\"Citizenship\", barmode=\"group\",\n",
    "             category_orders={\"Territory\": [\"Centro(I)\", \"Mezzogiorno\", \"Nord\", \"Nord-est\", \"Nord-ovest\"],\n",
    "                              \"Citizenship\": [\"Foreigner\", \"Italian\"],\n",
    "                              \"Year\": [\"2018\", \"2019\"]})\n",
    "fig.show()"
   ]
  },
  {
   "cell_type": "code",
   "execution_count": 59,
   "id": "6f72c293",
   "metadata": {},
   "outputs": [
    {
     "data": {
      "application/vnd.plotly.v1+json": {
       "config": {
        "plotlyServerURL": "https://plot.ly"
       },
       "data": [
        {
         "marker": {
          "color": "magenta"
         },
         "name": "foreign - Centro (I)",
         "type": "bar",
         "x": [
          2018,
          2019,
          2020,
          2021,
          2022
         ],
         "y": [
          73.6,
          73.5,
          68,
          69.6,
          70.8
         ]
        },
        {
         "marker": {
          "color": "goldenrod"
         },
         "name": "italian - Centro (I)",
         "type": "bar",
         "x": [
          2018,
          2019,
          2020,
          2021,
          2022
         ],
         "y": [
          67.8,
          67.6,
          66.1,
          66.8,
          68
         ]
        },
        {
         "marker": {
          "color": "magenta"
         },
         "name": "foreign - Mezzogiorno",
         "type": "bar",
         "x": [
          2018,
          2019,
          2020,
          2021,
          2022
         ],
         "y": [
          66.7,
          65.2,
          60,
          61.9,
          62.6
         ]
        },
        {
         "marker": {
          "color": "goldenrod"
         },
         "name": "italian - Mezzogiorno",
         "type": "bar",
         "x": [
          2018,
          2019,
          2020,
          2021,
          2022
         ],
         "y": [
          53.2,
          53.2,
          51.1,
          52.4,
          53.2
         ]
        },
        {
         "marker": {
          "color": "magenta"
         },
         "name": "foreign - Nord",
         "type": "bar",
         "x": [
          2018,
          2019,
          2020,
          2021,
          2022
         ],
         "y": [
          72.9,
          72.9,
          67.6,
          70.2,
          71.2
         ]
        },
        {
         "marker": {
          "color": "goldenrod"
         },
         "name": "italian - Nord",
         "type": "bar",
         "x": [
          2018,
          2019,
          2020,
          2021,
          2022
         ],
         "y": [
          70.3,
          70.7,
          68.9,
          69.2,
          70.3
         ]
        },
        {
         "marker": {
          "color": "magenta"
         },
         "name": "foreign - Nord-est",
         "type": "bar",
         "x": [
          2018,
          2019,
          2020,
          2021,
          2022
         ],
         "y": [
          73.4,
          73.7,
          70.3,
          71.1,
          71.9
         ]
        },
        {
         "marker": {
          "color": "goldenrod"
         },
         "name": "italian - Nord-est",
         "type": "bar",
         "x": [
          2018,
          2019,
          2020,
          2021,
          2022
         ],
         "y": [
          70.8,
          71.3,
          69.6,
          69.5,
          70.7
         ]
        },
        {
         "marker": {
          "color": "magenta"
         },
         "name": "foreign - Nord-ovest",
         "type": "bar",
         "x": [
          2018,
          2019,
          2020,
          2021,
          2022
         ],
         "y": [
          72.6,
          72.3,
          65.7,
          69.5,
          70.7
         ]
        },
        {
         "marker": {
          "color": "goldenrod"
         },
         "name": "italian - Nord-ovest",
         "type": "bar",
         "x": [
          2018,
          2019,
          2020,
          2021,
          2022
         ],
         "y": [
          70,
          70.3,
          68.4,
          69,
          69.9
         ]
        }
       ],
       "layout": {
        "barmode": "group",
        "legend": {
         "title": {
          "text": "Legend"
         }
        },
        "template": {
         "data": {
          "bar": [
           {
            "error_x": {
             "color": "#2a3f5f"
            },
            "error_y": {
             "color": "#2a3f5f"
            },
            "marker": {
             "line": {
              "color": "#E5ECF6",
              "width": 0.5
             },
             "pattern": {
              "fillmode": "overlay",
              "size": 10,
              "solidity": 0.2
             }
            },
            "type": "bar"
           }
          ],
          "barpolar": [
           {
            "marker": {
             "line": {
              "color": "#E5ECF6",
              "width": 0.5
             },
             "pattern": {
              "fillmode": "overlay",
              "size": 10,
              "solidity": 0.2
             }
            },
            "type": "barpolar"
           }
          ],
          "carpet": [
           {
            "aaxis": {
             "endlinecolor": "#2a3f5f",
             "gridcolor": "white",
             "linecolor": "white",
             "minorgridcolor": "white",
             "startlinecolor": "#2a3f5f"
            },
            "baxis": {
             "endlinecolor": "#2a3f5f",
             "gridcolor": "white",
             "linecolor": "white",
             "minorgridcolor": "white",
             "startlinecolor": "#2a3f5f"
            },
            "type": "carpet"
           }
          ],
          "choropleth": [
           {
            "colorbar": {
             "outlinewidth": 0,
             "ticks": ""
            },
            "type": "choropleth"
           }
          ],
          "contour": [
           {
            "colorbar": {
             "outlinewidth": 0,
             "ticks": ""
            },
            "colorscale": [
             [
              0,
              "#0d0887"
             ],
             [
              0.1111111111111111,
              "#46039f"
             ],
             [
              0.2222222222222222,
              "#7201a8"
             ],
             [
              0.3333333333333333,
              "#9c179e"
             ],
             [
              0.4444444444444444,
              "#bd3786"
             ],
             [
              0.5555555555555556,
              "#d8576b"
             ],
             [
              0.6666666666666666,
              "#ed7953"
             ],
             [
              0.7777777777777778,
              "#fb9f3a"
             ],
             [
              0.8888888888888888,
              "#fdca26"
             ],
             [
              1,
              "#f0f921"
             ]
            ],
            "type": "contour"
           }
          ],
          "contourcarpet": [
           {
            "colorbar": {
             "outlinewidth": 0,
             "ticks": ""
            },
            "type": "contourcarpet"
           }
          ],
          "heatmap": [
           {
            "colorbar": {
             "outlinewidth": 0,
             "ticks": ""
            },
            "colorscale": [
             [
              0,
              "#0d0887"
             ],
             [
              0.1111111111111111,
              "#46039f"
             ],
             [
              0.2222222222222222,
              "#7201a8"
             ],
             [
              0.3333333333333333,
              "#9c179e"
             ],
             [
              0.4444444444444444,
              "#bd3786"
             ],
             [
              0.5555555555555556,
              "#d8576b"
             ],
             [
              0.6666666666666666,
              "#ed7953"
             ],
             [
              0.7777777777777778,
              "#fb9f3a"
             ],
             [
              0.8888888888888888,
              "#fdca26"
             ],
             [
              1,
              "#f0f921"
             ]
            ],
            "type": "heatmap"
           }
          ],
          "heatmapgl": [
           {
            "colorbar": {
             "outlinewidth": 0,
             "ticks": ""
            },
            "colorscale": [
             [
              0,
              "#0d0887"
             ],
             [
              0.1111111111111111,
              "#46039f"
             ],
             [
              0.2222222222222222,
              "#7201a8"
             ],
             [
              0.3333333333333333,
              "#9c179e"
             ],
             [
              0.4444444444444444,
              "#bd3786"
             ],
             [
              0.5555555555555556,
              "#d8576b"
             ],
             [
              0.6666666666666666,
              "#ed7953"
             ],
             [
              0.7777777777777778,
              "#fb9f3a"
             ],
             [
              0.8888888888888888,
              "#fdca26"
             ],
             [
              1,
              "#f0f921"
             ]
            ],
            "type": "heatmapgl"
           }
          ],
          "histogram": [
           {
            "marker": {
             "pattern": {
              "fillmode": "overlay",
              "size": 10,
              "solidity": 0.2
             }
            },
            "type": "histogram"
           }
          ],
          "histogram2d": [
           {
            "colorbar": {
             "outlinewidth": 0,
             "ticks": ""
            },
            "colorscale": [
             [
              0,
              "#0d0887"
             ],
             [
              0.1111111111111111,
              "#46039f"
             ],
             [
              0.2222222222222222,
              "#7201a8"
             ],
             [
              0.3333333333333333,
              "#9c179e"
             ],
             [
              0.4444444444444444,
              "#bd3786"
             ],
             [
              0.5555555555555556,
              "#d8576b"
             ],
             [
              0.6666666666666666,
              "#ed7953"
             ],
             [
              0.7777777777777778,
              "#fb9f3a"
             ],
             [
              0.8888888888888888,
              "#fdca26"
             ],
             [
              1,
              "#f0f921"
             ]
            ],
            "type": "histogram2d"
           }
          ],
          "histogram2dcontour": [
           {
            "colorbar": {
             "outlinewidth": 0,
             "ticks": ""
            },
            "colorscale": [
             [
              0,
              "#0d0887"
             ],
             [
              0.1111111111111111,
              "#46039f"
             ],
             [
              0.2222222222222222,
              "#7201a8"
             ],
             [
              0.3333333333333333,
              "#9c179e"
             ],
             [
              0.4444444444444444,
              "#bd3786"
             ],
             [
              0.5555555555555556,
              "#d8576b"
             ],
             [
              0.6666666666666666,
              "#ed7953"
             ],
             [
              0.7777777777777778,
              "#fb9f3a"
             ],
             [
              0.8888888888888888,
              "#fdca26"
             ],
             [
              1,
              "#f0f921"
             ]
            ],
            "type": "histogram2dcontour"
           }
          ],
          "mesh3d": [
           {
            "colorbar": {
             "outlinewidth": 0,
             "ticks": ""
            },
            "type": "mesh3d"
           }
          ],
          "parcoords": [
           {
            "line": {
             "colorbar": {
              "outlinewidth": 0,
              "ticks": ""
             }
            },
            "type": "parcoords"
           }
          ],
          "pie": [
           {
            "automargin": true,
            "type": "pie"
           }
          ],
          "scatter": [
           {
            "fillpattern": {
             "fillmode": "overlay",
             "size": 10,
             "solidity": 0.2
            },
            "type": "scatter"
           }
          ],
          "scatter3d": [
           {
            "line": {
             "colorbar": {
              "outlinewidth": 0,
              "ticks": ""
             }
            },
            "marker": {
             "colorbar": {
              "outlinewidth": 0,
              "ticks": ""
             }
            },
            "type": "scatter3d"
           }
          ],
          "scattercarpet": [
           {
            "marker": {
             "colorbar": {
              "outlinewidth": 0,
              "ticks": ""
             }
            },
            "type": "scattercarpet"
           }
          ],
          "scattergeo": [
           {
            "marker": {
             "colorbar": {
              "outlinewidth": 0,
              "ticks": ""
             }
            },
            "type": "scattergeo"
           }
          ],
          "scattergl": [
           {
            "marker": {
             "colorbar": {
              "outlinewidth": 0,
              "ticks": ""
             }
            },
            "type": "scattergl"
           }
          ],
          "scattermapbox": [
           {
            "marker": {
             "colorbar": {
              "outlinewidth": 0,
              "ticks": ""
             }
            },
            "type": "scattermapbox"
           }
          ],
          "scatterpolar": [
           {
            "marker": {
             "colorbar": {
              "outlinewidth": 0,
              "ticks": ""
             }
            },
            "type": "scatterpolar"
           }
          ],
          "scatterpolargl": [
           {
            "marker": {
             "colorbar": {
              "outlinewidth": 0,
              "ticks": ""
             }
            },
            "type": "scatterpolargl"
           }
          ],
          "scatterternary": [
           {
            "marker": {
             "colorbar": {
              "outlinewidth": 0,
              "ticks": ""
             }
            },
            "type": "scatterternary"
           }
          ],
          "surface": [
           {
            "colorbar": {
             "outlinewidth": 0,
             "ticks": ""
            },
            "colorscale": [
             [
              0,
              "#0d0887"
             ],
             [
              0.1111111111111111,
              "#46039f"
             ],
             [
              0.2222222222222222,
              "#7201a8"
             ],
             [
              0.3333333333333333,
              "#9c179e"
             ],
             [
              0.4444444444444444,
              "#bd3786"
             ],
             [
              0.5555555555555556,
              "#d8576b"
             ],
             [
              0.6666666666666666,
              "#ed7953"
             ],
             [
              0.7777777777777778,
              "#fb9f3a"
             ],
             [
              0.8888888888888888,
              "#fdca26"
             ],
             [
              1,
              "#f0f921"
             ]
            ],
            "type": "surface"
           }
          ],
          "table": [
           {
            "cells": {
             "fill": {
              "color": "#EBF0F8"
             },
             "line": {
              "color": "white"
             }
            },
            "header": {
             "fill": {
              "color": "#C8D4E3"
             },
             "line": {
              "color": "white"
             }
            },
            "type": "table"
           }
          ]
         },
         "layout": {
          "annotationdefaults": {
           "arrowcolor": "#2a3f5f",
           "arrowhead": 0,
           "arrowwidth": 1
          },
          "autotypenumbers": "strict",
          "coloraxis": {
           "colorbar": {
            "outlinewidth": 0,
            "ticks": ""
           }
          },
          "colorscale": {
           "diverging": [
            [
             0,
             "#8e0152"
            ],
            [
             0.1,
             "#c51b7d"
            ],
            [
             0.2,
             "#de77ae"
            ],
            [
             0.3,
             "#f1b6da"
            ],
            [
             0.4,
             "#fde0ef"
            ],
            [
             0.5,
             "#f7f7f7"
            ],
            [
             0.6,
             "#e6f5d0"
            ],
            [
             0.7,
             "#b8e186"
            ],
            [
             0.8,
             "#7fbc41"
            ],
            [
             0.9,
             "#4d9221"
            ],
            [
             1,
             "#276419"
            ]
           ],
           "sequential": [
            [
             0,
             "#0d0887"
            ],
            [
             0.1111111111111111,
             "#46039f"
            ],
            [
             0.2222222222222222,
             "#7201a8"
            ],
            [
             0.3333333333333333,
             "#9c179e"
            ],
            [
             0.4444444444444444,
             "#bd3786"
            ],
            [
             0.5555555555555556,
             "#d8576b"
            ],
            [
             0.6666666666666666,
             "#ed7953"
            ],
            [
             0.7777777777777778,
             "#fb9f3a"
            ],
            [
             0.8888888888888888,
             "#fdca26"
            ],
            [
             1,
             "#f0f921"
            ]
           ],
           "sequentialminus": [
            [
             0,
             "#0d0887"
            ],
            [
             0.1111111111111111,
             "#46039f"
            ],
            [
             0.2222222222222222,
             "#7201a8"
            ],
            [
             0.3333333333333333,
             "#9c179e"
            ],
            [
             0.4444444444444444,
             "#bd3786"
            ],
            [
             0.5555555555555556,
             "#d8576b"
            ],
            [
             0.6666666666666666,
             "#ed7953"
            ],
            [
             0.7777777777777778,
             "#fb9f3a"
            ],
            [
             0.8888888888888888,
             "#fdca26"
            ],
            [
             1,
             "#f0f921"
            ]
           ]
          },
          "colorway": [
           "#636efa",
           "#EF553B",
           "#00cc96",
           "#ab63fa",
           "#FFA15A",
           "#19d3f3",
           "#FF6692",
           "#B6E880",
           "#FF97FF",
           "#FECB52"
          ],
          "font": {
           "color": "#2a3f5f"
          },
          "geo": {
           "bgcolor": "white",
           "lakecolor": "white",
           "landcolor": "#E5ECF6",
           "showlakes": true,
           "showland": true,
           "subunitcolor": "white"
          },
          "hoverlabel": {
           "align": "left"
          },
          "hovermode": "closest",
          "mapbox": {
           "style": "light"
          },
          "paper_bgcolor": "white",
          "plot_bgcolor": "#E5ECF6",
          "polar": {
           "angularaxis": {
            "gridcolor": "white",
            "linecolor": "white",
            "ticks": ""
           },
           "bgcolor": "#E5ECF6",
           "radialaxis": {
            "gridcolor": "white",
            "linecolor": "white",
            "ticks": ""
           }
          },
          "scene": {
           "xaxis": {
            "backgroundcolor": "#E5ECF6",
            "gridcolor": "white",
            "gridwidth": 2,
            "linecolor": "white",
            "showbackground": true,
            "ticks": "",
            "zerolinecolor": "white"
           },
           "yaxis": {
            "backgroundcolor": "#E5ECF6",
            "gridcolor": "white",
            "gridwidth": 2,
            "linecolor": "white",
            "showbackground": true,
            "ticks": "",
            "zerolinecolor": "white"
           },
           "zaxis": {
            "backgroundcolor": "#E5ECF6",
            "gridcolor": "white",
            "gridwidth": 2,
            "linecolor": "white",
            "showbackground": true,
            "ticks": "",
            "zerolinecolor": "white"
           }
          },
          "shapedefaults": {
           "line": {
            "color": "#2a3f5f"
           }
          },
          "ternary": {
           "aaxis": {
            "gridcolor": "white",
            "linecolor": "white",
            "ticks": ""
           },
           "baxis": {
            "gridcolor": "white",
            "linecolor": "white",
            "ticks": ""
           },
           "bgcolor": "#E5ECF6",
           "caxis": {
            "gridcolor": "white",
            "linecolor": "white",
            "ticks": ""
           }
          },
          "title": {
           "x": 0.05
          },
          "xaxis": {
           "automargin": true,
           "gridcolor": "white",
           "linecolor": "white",
           "ticks": "",
           "title": {
            "standoff": 15
           },
           "zerolinecolor": "white",
           "zerolinewidth": 2
          },
          "yaxis": {
           "automargin": true,
           "gridcolor": "white",
           "linecolor": "white",
           "ticks": "",
           "title": {
            "standoff": 15
           },
           "zerolinecolor": "white",
           "zerolinewidth": 2
          }
         }
        },
        "xaxis": {
         "title": {
          "text": "Year"
         }
        },
        "yaxis": {
         "title": {
          "text": "% Activity"
         }
        },
        "yaxis2": {
         "overlaying": "y",
         "side": "right",
         "title": {
          "text": "Unemployment rate"
         }
        }
       }
      },
      "text/html": [
       "<div>                            <div id=\"46912693-f3f5-482b-a9c4-0afa8ff4ca54\" class=\"plotly-graph-div\" style=\"height:525px; width:100%;\"></div>            <script type=\"text/javascript\">                require([\"plotly\"], function(Plotly) {                    window.PLOTLYENV=window.PLOTLYENV || {};                                    if (document.getElementById(\"46912693-f3f5-482b-a9c4-0afa8ff4ca54\")) {                    Plotly.newPlot(                        \"46912693-f3f5-482b-a9c4-0afa8ff4ca54\",                        [{\"marker\":{\"color\":\"magenta\"},\"name\":\"foreign - Centro (I)\",\"x\":[2018,2019,2020,2021,2022],\"y\":[73.6,73.5,68.0,69.6,70.8],\"type\":\"bar\"},{\"marker\":{\"color\":\"goldenrod\"},\"name\":\"italian - Centro (I)\",\"x\":[2018,2019,2020,2021,2022],\"y\":[67.8,67.6,66.1,66.8,68.0],\"type\":\"bar\"},{\"marker\":{\"color\":\"magenta\"},\"name\":\"foreign - Mezzogiorno\",\"x\":[2018,2019,2020,2021,2022],\"y\":[66.7,65.2,60.0,61.9,62.6],\"type\":\"bar\"},{\"marker\":{\"color\":\"goldenrod\"},\"name\":\"italian - Mezzogiorno\",\"x\":[2018,2019,2020,2021,2022],\"y\":[53.2,53.2,51.1,52.4,53.2],\"type\":\"bar\"},{\"marker\":{\"color\":\"magenta\"},\"name\":\"foreign - Nord\",\"x\":[2018,2019,2020,2021,2022],\"y\":[72.9,72.9,67.6,70.2,71.2],\"type\":\"bar\"},{\"marker\":{\"color\":\"goldenrod\"},\"name\":\"italian - Nord\",\"x\":[2018,2019,2020,2021,2022],\"y\":[70.3,70.7,68.9,69.2,70.3],\"type\":\"bar\"},{\"marker\":{\"color\":\"magenta\"},\"name\":\"foreign - Nord-est\",\"x\":[2018,2019,2020,2021,2022],\"y\":[73.4,73.7,70.3,71.1,71.9],\"type\":\"bar\"},{\"marker\":{\"color\":\"goldenrod\"},\"name\":\"italian - Nord-est\",\"x\":[2018,2019,2020,2021,2022],\"y\":[70.8,71.3,69.6,69.5,70.7],\"type\":\"bar\"},{\"marker\":{\"color\":\"magenta\"},\"name\":\"foreign - Nord-ovest\",\"x\":[2018,2019,2020,2021,2022],\"y\":[72.6,72.3,65.7,69.5,70.7],\"type\":\"bar\"},{\"marker\":{\"color\":\"goldenrod\"},\"name\":\"italian - Nord-ovest\",\"x\":[2018,2019,2020,2021,2022],\"y\":[70.0,70.3,68.4,69.0,69.9],\"type\":\"bar\"}],                        {\"template\":{\"data\":{\"histogram2dcontour\":[{\"type\":\"histogram2dcontour\",\"colorbar\":{\"outlinewidth\":0,\"ticks\":\"\"},\"colorscale\":[[0.0,\"#0d0887\"],[0.1111111111111111,\"#46039f\"],[0.2222222222222222,\"#7201a8\"],[0.3333333333333333,\"#9c179e\"],[0.4444444444444444,\"#bd3786\"],[0.5555555555555556,\"#d8576b\"],[0.6666666666666666,\"#ed7953\"],[0.7777777777777778,\"#fb9f3a\"],[0.8888888888888888,\"#fdca26\"],[1.0,\"#f0f921\"]]}],\"choropleth\":[{\"type\":\"choropleth\",\"colorbar\":{\"outlinewidth\":0,\"ticks\":\"\"}}],\"histogram2d\":[{\"type\":\"histogram2d\",\"colorbar\":{\"outlinewidth\":0,\"ticks\":\"\"},\"colorscale\":[[0.0,\"#0d0887\"],[0.1111111111111111,\"#46039f\"],[0.2222222222222222,\"#7201a8\"],[0.3333333333333333,\"#9c179e\"],[0.4444444444444444,\"#bd3786\"],[0.5555555555555556,\"#d8576b\"],[0.6666666666666666,\"#ed7953\"],[0.7777777777777778,\"#fb9f3a\"],[0.8888888888888888,\"#fdca26\"],[1.0,\"#f0f921\"]]}],\"heatmap\":[{\"type\":\"heatmap\",\"colorbar\":{\"outlinewidth\":0,\"ticks\":\"\"},\"colorscale\":[[0.0,\"#0d0887\"],[0.1111111111111111,\"#46039f\"],[0.2222222222222222,\"#7201a8\"],[0.3333333333333333,\"#9c179e\"],[0.4444444444444444,\"#bd3786\"],[0.5555555555555556,\"#d8576b\"],[0.6666666666666666,\"#ed7953\"],[0.7777777777777778,\"#fb9f3a\"],[0.8888888888888888,\"#fdca26\"],[1.0,\"#f0f921\"]]}],\"heatmapgl\":[{\"type\":\"heatmapgl\",\"colorbar\":{\"outlinewidth\":0,\"ticks\":\"\"},\"colorscale\":[[0.0,\"#0d0887\"],[0.1111111111111111,\"#46039f\"],[0.2222222222222222,\"#7201a8\"],[0.3333333333333333,\"#9c179e\"],[0.4444444444444444,\"#bd3786\"],[0.5555555555555556,\"#d8576b\"],[0.6666666666666666,\"#ed7953\"],[0.7777777777777778,\"#fb9f3a\"],[0.8888888888888888,\"#fdca26\"],[1.0,\"#f0f921\"]]}],\"contourcarpet\":[{\"type\":\"contourcarpet\",\"colorbar\":{\"outlinewidth\":0,\"ticks\":\"\"}}],\"contour\":[{\"type\":\"contour\",\"colorbar\":{\"outlinewidth\":0,\"ticks\":\"\"},\"colorscale\":[[0.0,\"#0d0887\"],[0.1111111111111111,\"#46039f\"],[0.2222222222222222,\"#7201a8\"],[0.3333333333333333,\"#9c179e\"],[0.4444444444444444,\"#bd3786\"],[0.5555555555555556,\"#d8576b\"],[0.6666666666666666,\"#ed7953\"],[0.7777777777777778,\"#fb9f3a\"],[0.8888888888888888,\"#fdca26\"],[1.0,\"#f0f921\"]]}],\"surface\":[{\"type\":\"surface\",\"colorbar\":{\"outlinewidth\":0,\"ticks\":\"\"},\"colorscale\":[[0.0,\"#0d0887\"],[0.1111111111111111,\"#46039f\"],[0.2222222222222222,\"#7201a8\"],[0.3333333333333333,\"#9c179e\"],[0.4444444444444444,\"#bd3786\"],[0.5555555555555556,\"#d8576b\"],[0.6666666666666666,\"#ed7953\"],[0.7777777777777778,\"#fb9f3a\"],[0.8888888888888888,\"#fdca26\"],[1.0,\"#f0f921\"]]}],\"mesh3d\":[{\"type\":\"mesh3d\",\"colorbar\":{\"outlinewidth\":0,\"ticks\":\"\"}}],\"scatter\":[{\"fillpattern\":{\"fillmode\":\"overlay\",\"size\":10,\"solidity\":0.2},\"type\":\"scatter\"}],\"parcoords\":[{\"type\":\"parcoords\",\"line\":{\"colorbar\":{\"outlinewidth\":0,\"ticks\":\"\"}}}],\"scatterpolargl\":[{\"type\":\"scatterpolargl\",\"marker\":{\"colorbar\":{\"outlinewidth\":0,\"ticks\":\"\"}}}],\"bar\":[{\"error_x\":{\"color\":\"#2a3f5f\"},\"error_y\":{\"color\":\"#2a3f5f\"},\"marker\":{\"line\":{\"color\":\"#E5ECF6\",\"width\":0.5},\"pattern\":{\"fillmode\":\"overlay\",\"size\":10,\"solidity\":0.2}},\"type\":\"bar\"}],\"scattergeo\":[{\"type\":\"scattergeo\",\"marker\":{\"colorbar\":{\"outlinewidth\":0,\"ticks\":\"\"}}}],\"scatterpolar\":[{\"type\":\"scatterpolar\",\"marker\":{\"colorbar\":{\"outlinewidth\":0,\"ticks\":\"\"}}}],\"histogram\":[{\"marker\":{\"pattern\":{\"fillmode\":\"overlay\",\"size\":10,\"solidity\":0.2}},\"type\":\"histogram\"}],\"scattergl\":[{\"type\":\"scattergl\",\"marker\":{\"colorbar\":{\"outlinewidth\":0,\"ticks\":\"\"}}}],\"scatter3d\":[{\"type\":\"scatter3d\",\"line\":{\"colorbar\":{\"outlinewidth\":0,\"ticks\":\"\"}},\"marker\":{\"colorbar\":{\"outlinewidth\":0,\"ticks\":\"\"}}}],\"scattermapbox\":[{\"type\":\"scattermapbox\",\"marker\":{\"colorbar\":{\"outlinewidth\":0,\"ticks\":\"\"}}}],\"scatterternary\":[{\"type\":\"scatterternary\",\"marker\":{\"colorbar\":{\"outlinewidth\":0,\"ticks\":\"\"}}}],\"scattercarpet\":[{\"type\":\"scattercarpet\",\"marker\":{\"colorbar\":{\"outlinewidth\":0,\"ticks\":\"\"}}}],\"carpet\":[{\"aaxis\":{\"endlinecolor\":\"#2a3f5f\",\"gridcolor\":\"white\",\"linecolor\":\"white\",\"minorgridcolor\":\"white\",\"startlinecolor\":\"#2a3f5f\"},\"baxis\":{\"endlinecolor\":\"#2a3f5f\",\"gridcolor\":\"white\",\"linecolor\":\"white\",\"minorgridcolor\":\"white\",\"startlinecolor\":\"#2a3f5f\"},\"type\":\"carpet\"}],\"table\":[{\"cells\":{\"fill\":{\"color\":\"#EBF0F8\"},\"line\":{\"color\":\"white\"}},\"header\":{\"fill\":{\"color\":\"#C8D4E3\"},\"line\":{\"color\":\"white\"}},\"type\":\"table\"}],\"barpolar\":[{\"marker\":{\"line\":{\"color\":\"#E5ECF6\",\"width\":0.5},\"pattern\":{\"fillmode\":\"overlay\",\"size\":10,\"solidity\":0.2}},\"type\":\"barpolar\"}],\"pie\":[{\"automargin\":true,\"type\":\"pie\"}]},\"layout\":{\"autotypenumbers\":\"strict\",\"colorway\":[\"#636efa\",\"#EF553B\",\"#00cc96\",\"#ab63fa\",\"#FFA15A\",\"#19d3f3\",\"#FF6692\",\"#B6E880\",\"#FF97FF\",\"#FECB52\"],\"font\":{\"color\":\"#2a3f5f\"},\"hovermode\":\"closest\",\"hoverlabel\":{\"align\":\"left\"},\"paper_bgcolor\":\"white\",\"plot_bgcolor\":\"#E5ECF6\",\"polar\":{\"bgcolor\":\"#E5ECF6\",\"angularaxis\":{\"gridcolor\":\"white\",\"linecolor\":\"white\",\"ticks\":\"\"},\"radialaxis\":{\"gridcolor\":\"white\",\"linecolor\":\"white\",\"ticks\":\"\"}},\"ternary\":{\"bgcolor\":\"#E5ECF6\",\"aaxis\":{\"gridcolor\":\"white\",\"linecolor\":\"white\",\"ticks\":\"\"},\"baxis\":{\"gridcolor\":\"white\",\"linecolor\":\"white\",\"ticks\":\"\"},\"caxis\":{\"gridcolor\":\"white\",\"linecolor\":\"white\",\"ticks\":\"\"}},\"coloraxis\":{\"colorbar\":{\"outlinewidth\":0,\"ticks\":\"\"}},\"colorscale\":{\"sequential\":[[0.0,\"#0d0887\"],[0.1111111111111111,\"#46039f\"],[0.2222222222222222,\"#7201a8\"],[0.3333333333333333,\"#9c179e\"],[0.4444444444444444,\"#bd3786\"],[0.5555555555555556,\"#d8576b\"],[0.6666666666666666,\"#ed7953\"],[0.7777777777777778,\"#fb9f3a\"],[0.8888888888888888,\"#fdca26\"],[1.0,\"#f0f921\"]],\"sequentialminus\":[[0.0,\"#0d0887\"],[0.1111111111111111,\"#46039f\"],[0.2222222222222222,\"#7201a8\"],[0.3333333333333333,\"#9c179e\"],[0.4444444444444444,\"#bd3786\"],[0.5555555555555556,\"#d8576b\"],[0.6666666666666666,\"#ed7953\"],[0.7777777777777778,\"#fb9f3a\"],[0.8888888888888888,\"#fdca26\"],[1.0,\"#f0f921\"]],\"diverging\":[[0,\"#8e0152\"],[0.1,\"#c51b7d\"],[0.2,\"#de77ae\"],[0.3,\"#f1b6da\"],[0.4,\"#fde0ef\"],[0.5,\"#f7f7f7\"],[0.6,\"#e6f5d0\"],[0.7,\"#b8e186\"],[0.8,\"#7fbc41\"],[0.9,\"#4d9221\"],[1,\"#276419\"]]},\"xaxis\":{\"gridcolor\":\"white\",\"linecolor\":\"white\",\"ticks\":\"\",\"title\":{\"standoff\":15},\"zerolinecolor\":\"white\",\"automargin\":true,\"zerolinewidth\":2},\"yaxis\":{\"gridcolor\":\"white\",\"linecolor\":\"white\",\"ticks\":\"\",\"title\":{\"standoff\":15},\"zerolinecolor\":\"white\",\"automargin\":true,\"zerolinewidth\":2},\"scene\":{\"xaxis\":{\"backgroundcolor\":\"#E5ECF6\",\"gridcolor\":\"white\",\"linecolor\":\"white\",\"showbackground\":true,\"ticks\":\"\",\"zerolinecolor\":\"white\",\"gridwidth\":2},\"yaxis\":{\"backgroundcolor\":\"#E5ECF6\",\"gridcolor\":\"white\",\"linecolor\":\"white\",\"showbackground\":true,\"ticks\":\"\",\"zerolinecolor\":\"white\",\"gridwidth\":2},\"zaxis\":{\"backgroundcolor\":\"#E5ECF6\",\"gridcolor\":\"white\",\"linecolor\":\"white\",\"showbackground\":true,\"ticks\":\"\",\"zerolinecolor\":\"white\",\"gridwidth\":2}},\"shapedefaults\":{\"line\":{\"color\":\"#2a3f5f\"}},\"annotationdefaults\":{\"arrowcolor\":\"#2a3f5f\",\"arrowhead\":0,\"arrowwidth\":1},\"geo\":{\"bgcolor\":\"white\",\"landcolor\":\"#E5ECF6\",\"subunitcolor\":\"white\",\"showland\":true,\"showlakes\":true,\"lakecolor\":\"white\"},\"title\":{\"x\":0.05},\"mapbox\":{\"style\":\"light\"}}},\"barmode\":\"group\",\"xaxis\":{\"title\":{\"text\":\"Year\"}},\"yaxis\":{\"title\":{\"text\":\"% Activity\"}},\"legend\":{\"title\":{\"text\":\"Legend\"}},\"yaxis2\":{\"title\":{\"text\":\"Unemployment rate\"},\"overlaying\":\"y\",\"side\":\"right\"}},                        {\"responsive\": true}                    ).then(function(){\n",
       "                            \n",
       "var gd = document.getElementById('46912693-f3f5-482b-a9c4-0afa8ff4ca54');\n",
       "var x = new MutationObserver(function (mutations, observer) {{\n",
       "        var display = window.getComputedStyle(gd).display;\n",
       "        if (!display || display === 'none') {{\n",
       "            console.log([gd, 'removed!']);\n",
       "            Plotly.purge(gd);\n",
       "            observer.disconnect();\n",
       "        }}\n",
       "}});\n",
       "\n",
       "// Listen for the removal of the full notebook cells\n",
       "var notebookContainer = gd.closest('#notebook-container');\n",
       "if (notebookContainer) {{\n",
       "    x.observe(notebookContainer, {childList: true});\n",
       "}}\n",
       "\n",
       "// Listen for the clearing of the current output cell\n",
       "var outputEl = gd.closest('.output');\n",
       "if (outputEl) {{\n",
       "    x.observe(outputEl, {childList: true});\n",
       "}}\n",
       "\n",
       "                        })                };                });            </script>        </div>"
      ]
     },
     "metadata": {},
     "output_type": "display_data"
    }
   ],
   "source": [
    "import plotly.express as px\n",
    "import plotly.graph_objects as go\n",
    "import pandas as pd\n",
    "\n",
    "# Assuming 'mashup' is your DataFrame\n",
    "df = mashup\n",
    "\n",
    "# Create a figure with a bar plot\n",
    "fig = go.Figure()\n",
    "\n",
    "# Iterate over the territories and citizenships to add bars\n",
    "for territory in df['Territory'].unique():\n",
    "    for citizenship in df['Citizenship'].unique():\n",
    "        filtered_df = df[(df['Territory'] == territory) & (df['Citizenship'] == citizenship)]\n",
    "\n",
    "        fig.add_trace(go.Bar(\n",
    "            x=filtered_df['Year'],\n",
    "            y=filtered_df['% Activity'],\n",
    "            name=f'{citizenship} - {territory}',\n",
    "            marker_color='goldenrod' if citizenship == 'italian' else 'magenta'  # You can customize the color\n",
    "        ))\n",
    "\n",
    "# Update layout\n",
    "fig.update_layout(barmode='group',  # 'group' for grouped bars, 'stack' for stacked bars\n",
    "                  xaxis_title='Year',\n",
    "                  yaxis_title='% Activity',\n",
    "                  legend_title='Legend',\n",
    "                  )\n",
    "\n",
    "# Add a second y-axis\n",
    "fig.update_layout(yaxis2=dict(title='Unemployment rate', overlaying='y', side='right'))\n",
    "\n",
    "# Show the figure\n",
    "fig.show()\n"
   ]
  },
  {
   "cell_type": "code",
   "execution_count": null,
   "id": "4a1476ae",
   "metadata": {},
   "outputs": [],
   "source": []
  }
 ],
 "metadata": {
  "kernelspec": {
   "display_name": "Python 3 (ipykernel)",
   "language": "python",
   "name": "python3"
  },
  "language_info": {
   "codemirror_mode": {
    "name": "ipython",
    "version": 3
   },
   "file_extension": ".py",
   "mimetype": "text/x-python",
   "name": "python",
   "nbconvert_exporter": "python",
   "pygments_lexer": "ipython3",
   "version": "3.9.7"
  }
 },
 "nbformat": 4,
 "nbformat_minor": 5
}
