{
  "cells": [
    {
      "cell_type": "markdown",
      "metadata": {},
      "source": [
        "# [DOCUMENTATION] MASHUP PHASE (b)\n",
        "#### **[WHAT]**\n",
        "This Jupyter Notebook analyses the mashup datasets for \"EmpowerItaly\", an open data project regarding the analysis of foreigner workers presence in Italy. <b>\n",
        "\n",
        "This part represents the last part of the divergent phase of the double diamond - here we already made some assumptions while scraping data - in this phase the main objective is to provide a potential answer to our research question. <br>\n",
        "\n",
        "- **DEFINITION OF *ACTIVITY RATE*** : \n",
        "- **DEFINITION OF *UNEMPLOYMENT RATE*** : \n",
        "\n",
        "\n",
        "#### **[HOW]**\n",
        "The described phase results in the attempt to verify the presence of a potential correlation between ACTIVITY RATE and UNEMPLOYMENT RATE - both for #foreigners and #native citizens.\n",
        "\n",
        "#### **[WHY]**\n",
        "This first assumption came to our interest when we actually tried to visualize data for this specific purpose: analyzing the relation between the acitivity and the real condition of the person (without gender distinction)."
      ]
    },
    {
      "cell_type": "markdown",
      "metadata": {
        "id": "eBlMmfM8Ej4c"
      },
      "source": [
        "#### install packages"
      ]
    },
    {
      "cell_type": "markdown",
      "metadata": {
        "id": "Ctu1cFYI7h8p"
      },
      "source": []
    },
    {
      "cell_type": "code",
      "execution_count": 6,
      "metadata": {
        "colab": {
          "base_uri": "https://localhost:8080/"
        },
        "id": "AyYfrB3uENxf",
        "outputId": "d02f3e10-e803-40df-83e2-1f3d4a432f93"
      },
      "outputs": [
        {
          "name": "stdout",
          "output_type": "stream",
          "text": [
            "Requirement already satisfied: plotly in /usr/local/lib/python3.10/dist-packages (5.15.0)\n",
            "Requirement already satisfied: tenacity>=6.2.0 in /usr/local/lib/python3.10/dist-packages (from plotly) (8.2.3)\n",
            "Requirement already satisfied: packaging in /usr/local/lib/python3.10/dist-packages (from plotly) (23.2)\n",
            "Requirement already satisfied: chart_studio in /usr/local/lib/python3.10/dist-packages (1.1.0)\n",
            "Requirement already satisfied: plotly in /usr/local/lib/python3.10/dist-packages (from chart_studio) (5.15.0)\n",
            "Requirement already satisfied: requests in /usr/local/lib/python3.10/dist-packages (from chart_studio) (2.31.0)\n",
            "Requirement already satisfied: retrying>=1.3.3 in /usr/local/lib/python3.10/dist-packages (from chart_studio) (1.3.4)\n",
            "Requirement already satisfied: six in /usr/local/lib/python3.10/dist-packages (from chart_studio) (1.16.0)\n",
            "Requirement already satisfied: tenacity>=6.2.0 in /usr/local/lib/python3.10/dist-packages (from plotly->chart_studio) (8.2.3)\n",
            "Requirement already satisfied: packaging in /usr/local/lib/python3.10/dist-packages (from plotly->chart_studio) (23.2)\n",
            "Requirement already satisfied: charset-normalizer<4,>=2 in /usr/local/lib/python3.10/dist-packages (from requests->chart_studio) (3.3.2)\n",
            "Requirement already satisfied: idna<4,>=2.5 in /usr/local/lib/python3.10/dist-packages (from requests->chart_studio) (3.4)\n",
            "Requirement already satisfied: urllib3<3,>=1.21.1 in /usr/local/lib/python3.10/dist-packages (from requests->chart_studio) (2.0.7)\n",
            "Requirement already satisfied: certifi>=2017.4.17 in /usr/local/lib/python3.10/dist-packages (from requests->chart_studio) (2023.7.22)\n"
          ]
        }
      ],
      "source": [
        "# install packages\n",
        "!pip install plotly\n",
        "!pip install chart_studio"
      ]
    },
    {
      "cell_type": "code",
      "execution_count": 7,
      "metadata": {
        "id": "PSGmyKUCRATy"
      },
      "outputs": [],
      "source": [
        "# import packages\n",
        "import pandas as pd\n",
        "import numpy as np\n",
        "import scipy as sp\n",
        "import plotly.express as px\n",
        "import chart_studio.plotly as py\n",
        "import plotly.graph_objects as go"
      ]
    },
    {
      "cell_type": "markdown",
      "metadata": {
        "id": "E0AVsliEA_Ob"
      },
      "source": [
        "# INVESTIGATION NO.1 - MAIN\n",
        "TOTAL ACTIVITY RATE X UNEMPLOYMENT RATE\n",
        "Here the discriminant factor is the activity rate, i.e. the effort to search for opportunities - formally, the activity rate is [TBT definition on GDrive]"
      ]
    },
    {
      "cell_type": "code",
      "execution_count": 8,
      "metadata": {
        "colab": {
          "base_uri": "https://localhost:8080/",
          "height": 542
        },
        "id": "jE7E7MFSDjA-",
        "outputId": "4fb24a94-426d-471c-9d25-363d6e0ee5fe"
      },
      "outputs": [
        {
          "data": {
            "text/html": [
              "<html>\n",
              "<head><meta charset=\"utf-8\" /></head>\n",
              "<body>\n",
              "    <div>            <script src=\"https://cdnjs.cloudflare.com/ajax/libs/mathjax/2.7.5/MathJax.js?config=TeX-AMS-MML_SVG\"></script><script type=\"text/javascript\">if (window.MathJax && window.MathJax.Hub && window.MathJax.Hub.Config) {window.MathJax.Hub.Config({SVG: {font: \"STIX-Web\"}});}</script>                <script type=\"text/javascript\">window.PlotlyConfig = {MathJaxConfig: 'local'};</script>\n",
              "        <script charset=\"utf-8\" src=\"https://cdn.plot.ly/plotly-2.24.1.min.js\"></script>                <div id=\"02335141-e3aa-453e-83b8-d04263de25ea\" class=\"plotly-graph-div\" style=\"height:525px; width:100%;\"></div>            <script type=\"text/javascript\">                                    window.PLOTLYENV=window.PLOTLYENV || {};                                    if (document.getElementById(\"02335141-e3aa-453e-83b8-d04263de25ea\")) {                    Plotly.newPlot(                        \"02335141-e3aa-453e-83b8-d04263de25ea\",                        [{\"hovertemplate\":\"Citizenship=foreign\\u003cbr\\u003eYear=%{x}\\u003cbr\\u003etotal_y=%{y}\\u003cbr\\u003etotal_x=%{marker.size}\\u003cextra\\u003e\\u003c\\u002fextra\\u003e\",\"legendgroup\":\"foreign\",\"marker\":{\"color\":\"#636efa\",\"size\":[14.453227333333333,14.846058333333334,12.778524666666668,15.194500333333332,12.980379999999998,16.046919666666668,17.526526,18.871393333333334,20.808092666666667,18.971048,13.131091333333332,12.223271333333336,12.009306666666667,12.264354333333335,9.768999333333332,13.479952,12.455571666666666,11.897270333333331,10.495161,8.828886333333333,12.883017666666667,12.051909,12.096274666666668,13.596371333333332,10.498555],\"sizemode\":\"area\",\"sizeref\":0.052020231666666666,\"symbol\":\"circle\"},\"mode\":\"markers\",\"name\":\"foreign\",\"orientation\":\"v\",\"showlegend\":true,\"x\":[2018,2019,2020,2021,2022,2018,2019,2020,2021,2022,2018,2019,2020,2021,2022,2018,2019,2020,2021,2022,2018,2019,2020,2021,2022],\"xaxis\":\"x\",\"y\":[73.572533,73.53952466666667,68.004095,69.614376,70.78958933333332,66.715357,65.24718566666667,59.997374666666666,61.88884866666666,62.571852,72.931198,72.89959033333334,67.63969300000001,70.15918566666666,71.20747466666667,73.37692833333334,73.71938033333333,70.30411733333334,71.090152,71.938108,72.61767233333333,72.306542,65.71101433333334,69.47462033333333,70.65119133333333],\"yaxis\":\"y\",\"type\":\"scatter\"},{\"alignmentgroup\":\"True\",\"hovertemplate\":\"Citizenship=foreign\\u003cbr\\u003eYear=%{x}\\u003cextra\\u003e\\u003c\\u002fextra\\u003e\",\"legendgroup\":\"foreign\",\"marker\":{\"color\":\"#636efa\",\"symbol\":\"circle\"},\"name\":\"foreign\",\"notched\":true,\"offsetgroup\":\"foreign\",\"showlegend\":false,\"x\":[2018,2019,2020,2021,2022,2018,2019,2020,2021,2022,2018,2019,2020,2021,2022,2018,2019,2020,2021,2022,2018,2019,2020,2021,2022],\"xaxis\":\"x2\",\"yaxis\":\"y2\",\"type\":\"box\"},{\"hovertemplate\":\"Citizenship=italian\\u003cbr\\u003eYear=%{x}\\u003cbr\\u003etotal_y=%{y}\\u003cbr\\u003etotal_x=%{marker.size}\\u003cextra\\u003e\\u003c\\u002fextra\\u003e\",\"legendgroup\":\"italian\",\"marker\":{\"color\":\"#EF553B\",\"size\":[8.676383,7.718597,7.629936333333333,7.694963,6.059123333333333,18.566454333333336,17.661178666666668,16.074188333333332,16.175574,14.076778,5.599697333333334,5.170382666666667,5.135752666666666,5.0872003333333335,4.355184666666666,4.941271333333333,4.454878666666667,4.876394666666666,4.5295543333333335,3.837501,6.087053,5.700288333333333,5.328483333333334,5.497646666666667,4.736643333333333],\"sizemode\":\"area\",\"sizeref\":0.052020231666666666,\"symbol\":\"circle\"},\"mode\":\"markers\",\"name\":\"italian\",\"orientation\":\"v\",\"showlegend\":true,\"x\":[2018,2019,2020,2021,2022,2018,2019,2020,2021,2022,2018,2019,2020,2021,2022,2018,2019,2020,2021,2022,2018,2019,2020,2021,2022],\"xaxis\":\"x\",\"y\":[67.79427266666666,67.64294566666666,66.14007733333334,66.84804766666666,67.99549,53.233826,53.163170666666666,51.099076333333336,52.38343566666666,53.174318,70.32975066666667,70.67699433333333,68.90694366666666,69.21362766666667,70.25373766666667,70.800658,71.25262099999999,69.57389933333333,69.50569066666667,70.747591,69.98546566666666,70.25683033333334,68.41970966666666,69.00033933333333,69.894383],\"yaxis\":\"y\",\"type\":\"scatter\"},{\"alignmentgroup\":\"True\",\"hovertemplate\":\"Citizenship=italian\\u003cbr\\u003eYear=%{x}\\u003cextra\\u003e\\u003c\\u002fextra\\u003e\",\"legendgroup\":\"italian\",\"marker\":{\"color\":\"#EF553B\",\"symbol\":\"circle\"},\"name\":\"italian\",\"notched\":true,\"offsetgroup\":\"italian\",\"showlegend\":false,\"x\":[2018,2019,2020,2021,2022,2018,2019,2020,2021,2022,2018,2019,2020,2021,2022,2018,2019,2020,2021,2022,2018,2019,2020,2021,2022],\"xaxis\":\"x2\",\"yaxis\":\"y2\",\"type\":\"box\"}],                        {\"template\":{\"data\":{\"histogram2dcontour\":[{\"type\":\"histogram2dcontour\",\"colorbar\":{\"outlinewidth\":0,\"ticks\":\"\"},\"colorscale\":[[0.0,\"#0d0887\"],[0.1111111111111111,\"#46039f\"],[0.2222222222222222,\"#7201a8\"],[0.3333333333333333,\"#9c179e\"],[0.4444444444444444,\"#bd3786\"],[0.5555555555555556,\"#d8576b\"],[0.6666666666666666,\"#ed7953\"],[0.7777777777777778,\"#fb9f3a\"],[0.8888888888888888,\"#fdca26\"],[1.0,\"#f0f921\"]]}],\"choropleth\":[{\"type\":\"choropleth\",\"colorbar\":{\"outlinewidth\":0,\"ticks\":\"\"}}],\"histogram2d\":[{\"type\":\"histogram2d\",\"colorbar\":{\"outlinewidth\":0,\"ticks\":\"\"},\"colorscale\":[[0.0,\"#0d0887\"],[0.1111111111111111,\"#46039f\"],[0.2222222222222222,\"#7201a8\"],[0.3333333333333333,\"#9c179e\"],[0.4444444444444444,\"#bd3786\"],[0.5555555555555556,\"#d8576b\"],[0.6666666666666666,\"#ed7953\"],[0.7777777777777778,\"#fb9f3a\"],[0.8888888888888888,\"#fdca26\"],[1.0,\"#f0f921\"]]}],\"heatmap\":[{\"type\":\"heatmap\",\"colorbar\":{\"outlinewidth\":0,\"ticks\":\"\"},\"colorscale\":[[0.0,\"#0d0887\"],[0.1111111111111111,\"#46039f\"],[0.2222222222222222,\"#7201a8\"],[0.3333333333333333,\"#9c179e\"],[0.4444444444444444,\"#bd3786\"],[0.5555555555555556,\"#d8576b\"],[0.6666666666666666,\"#ed7953\"],[0.7777777777777778,\"#fb9f3a\"],[0.8888888888888888,\"#fdca26\"],[1.0,\"#f0f921\"]]}],\"heatmapgl\":[{\"type\":\"heatmapgl\",\"colorbar\":{\"outlinewidth\":0,\"ticks\":\"\"},\"colorscale\":[[0.0,\"#0d0887\"],[0.1111111111111111,\"#46039f\"],[0.2222222222222222,\"#7201a8\"],[0.3333333333333333,\"#9c179e\"],[0.4444444444444444,\"#bd3786\"],[0.5555555555555556,\"#d8576b\"],[0.6666666666666666,\"#ed7953\"],[0.7777777777777778,\"#fb9f3a\"],[0.8888888888888888,\"#fdca26\"],[1.0,\"#f0f921\"]]}],\"contourcarpet\":[{\"type\":\"contourcarpet\",\"colorbar\":{\"outlinewidth\":0,\"ticks\":\"\"}}],\"contour\":[{\"type\":\"contour\",\"colorbar\":{\"outlinewidth\":0,\"ticks\":\"\"},\"colorscale\":[[0.0,\"#0d0887\"],[0.1111111111111111,\"#46039f\"],[0.2222222222222222,\"#7201a8\"],[0.3333333333333333,\"#9c179e\"],[0.4444444444444444,\"#bd3786\"],[0.5555555555555556,\"#d8576b\"],[0.6666666666666666,\"#ed7953\"],[0.7777777777777778,\"#fb9f3a\"],[0.8888888888888888,\"#fdca26\"],[1.0,\"#f0f921\"]]}],\"surface\":[{\"type\":\"surface\",\"colorbar\":{\"outlinewidth\":0,\"ticks\":\"\"},\"colorscale\":[[0.0,\"#0d0887\"],[0.1111111111111111,\"#46039f\"],[0.2222222222222222,\"#7201a8\"],[0.3333333333333333,\"#9c179e\"],[0.4444444444444444,\"#bd3786\"],[0.5555555555555556,\"#d8576b\"],[0.6666666666666666,\"#ed7953\"],[0.7777777777777778,\"#fb9f3a\"],[0.8888888888888888,\"#fdca26\"],[1.0,\"#f0f921\"]]}],\"mesh3d\":[{\"type\":\"mesh3d\",\"colorbar\":{\"outlinewidth\":0,\"ticks\":\"\"}}],\"scatter\":[{\"fillpattern\":{\"fillmode\":\"overlay\",\"size\":10,\"solidity\":0.2},\"type\":\"scatter\"}],\"parcoords\":[{\"type\":\"parcoords\",\"line\":{\"colorbar\":{\"outlinewidth\":0,\"ticks\":\"\"}}}],\"scatterpolargl\":[{\"type\":\"scatterpolargl\",\"marker\":{\"colorbar\":{\"outlinewidth\":0,\"ticks\":\"\"}}}],\"bar\":[{\"error_x\":{\"color\":\"#2a3f5f\"},\"error_y\":{\"color\":\"#2a3f5f\"},\"marker\":{\"line\":{\"color\":\"#E5ECF6\",\"width\":0.5},\"pattern\":{\"fillmode\":\"overlay\",\"size\":10,\"solidity\":0.2}},\"type\":\"bar\"}],\"scattergeo\":[{\"type\":\"scattergeo\",\"marker\":{\"colorbar\":{\"outlinewidth\":0,\"ticks\":\"\"}}}],\"scatterpolar\":[{\"type\":\"scatterpolar\",\"marker\":{\"colorbar\":{\"outlinewidth\":0,\"ticks\":\"\"}}}],\"histogram\":[{\"marker\":{\"pattern\":{\"fillmode\":\"overlay\",\"size\":10,\"solidity\":0.2}},\"type\":\"histogram\"}],\"scattergl\":[{\"type\":\"scattergl\",\"marker\":{\"colorbar\":{\"outlinewidth\":0,\"ticks\":\"\"}}}],\"scatter3d\":[{\"type\":\"scatter3d\",\"line\":{\"colorbar\":{\"outlinewidth\":0,\"ticks\":\"\"}},\"marker\":{\"colorbar\":{\"outlinewidth\":0,\"ticks\":\"\"}}}],\"scattermapbox\":[{\"type\":\"scattermapbox\",\"marker\":{\"colorbar\":{\"outlinewidth\":0,\"ticks\":\"\"}}}],\"scatterternary\":[{\"type\":\"scatterternary\",\"marker\":{\"colorbar\":{\"outlinewidth\":0,\"ticks\":\"\"}}}],\"scattercarpet\":[{\"type\":\"scattercarpet\",\"marker\":{\"colorbar\":{\"outlinewidth\":0,\"ticks\":\"\"}}}],\"carpet\":[{\"aaxis\":{\"endlinecolor\":\"#2a3f5f\",\"gridcolor\":\"white\",\"linecolor\":\"white\",\"minorgridcolor\":\"white\",\"startlinecolor\":\"#2a3f5f\"},\"baxis\":{\"endlinecolor\":\"#2a3f5f\",\"gridcolor\":\"white\",\"linecolor\":\"white\",\"minorgridcolor\":\"white\",\"startlinecolor\":\"#2a3f5f\"},\"type\":\"carpet\"}],\"table\":[{\"cells\":{\"fill\":{\"color\":\"#EBF0F8\"},\"line\":{\"color\":\"white\"}},\"header\":{\"fill\":{\"color\":\"#C8D4E3\"},\"line\":{\"color\":\"white\"}},\"type\":\"table\"}],\"barpolar\":[{\"marker\":{\"line\":{\"color\":\"#E5ECF6\",\"width\":0.5},\"pattern\":{\"fillmode\":\"overlay\",\"size\":10,\"solidity\":0.2}},\"type\":\"barpolar\"}],\"pie\":[{\"automargin\":true,\"type\":\"pie\"}]},\"layout\":{\"autotypenumbers\":\"strict\",\"colorway\":[\"#636efa\",\"#EF553B\",\"#00cc96\",\"#ab63fa\",\"#FFA15A\",\"#19d3f3\",\"#FF6692\",\"#B6E880\",\"#FF97FF\",\"#FECB52\"],\"font\":{\"color\":\"#2a3f5f\"},\"hovermode\":\"closest\",\"hoverlabel\":{\"align\":\"left\"},\"paper_bgcolor\":\"white\",\"plot_bgcolor\":\"#E5ECF6\",\"polar\":{\"bgcolor\":\"#E5ECF6\",\"angularaxis\":{\"gridcolor\":\"white\",\"linecolor\":\"white\",\"ticks\":\"\"},\"radialaxis\":{\"gridcolor\":\"white\",\"linecolor\":\"white\",\"ticks\":\"\"}},\"ternary\":{\"bgcolor\":\"#E5ECF6\",\"aaxis\":{\"gridcolor\":\"white\",\"linecolor\":\"white\",\"ticks\":\"\"},\"baxis\":{\"gridcolor\":\"white\",\"linecolor\":\"white\",\"ticks\":\"\"},\"caxis\":{\"gridcolor\":\"white\",\"linecolor\":\"white\",\"ticks\":\"\"}},\"coloraxis\":{\"colorbar\":{\"outlinewidth\":0,\"ticks\":\"\"}},\"colorscale\":{\"sequential\":[[0.0,\"#0d0887\"],[0.1111111111111111,\"#46039f\"],[0.2222222222222222,\"#7201a8\"],[0.3333333333333333,\"#9c179e\"],[0.4444444444444444,\"#bd3786\"],[0.5555555555555556,\"#d8576b\"],[0.6666666666666666,\"#ed7953\"],[0.7777777777777778,\"#fb9f3a\"],[0.8888888888888888,\"#fdca26\"],[1.0,\"#f0f921\"]],\"sequentialminus\":[[0.0,\"#0d0887\"],[0.1111111111111111,\"#46039f\"],[0.2222222222222222,\"#7201a8\"],[0.3333333333333333,\"#9c179e\"],[0.4444444444444444,\"#bd3786\"],[0.5555555555555556,\"#d8576b\"],[0.6666666666666666,\"#ed7953\"],[0.7777777777777778,\"#fb9f3a\"],[0.8888888888888888,\"#fdca26\"],[1.0,\"#f0f921\"]],\"diverging\":[[0,\"#8e0152\"],[0.1,\"#c51b7d\"],[0.2,\"#de77ae\"],[0.3,\"#f1b6da\"],[0.4,\"#fde0ef\"],[0.5,\"#f7f7f7\"],[0.6,\"#e6f5d0\"],[0.7,\"#b8e186\"],[0.8,\"#7fbc41\"],[0.9,\"#4d9221\"],[1,\"#276419\"]]},\"xaxis\":{\"gridcolor\":\"white\",\"linecolor\":\"white\",\"ticks\":\"\",\"title\":{\"standoff\":15},\"zerolinecolor\":\"white\",\"automargin\":true,\"zerolinewidth\":2},\"yaxis\":{\"gridcolor\":\"white\",\"linecolor\":\"white\",\"ticks\":\"\",\"title\":{\"standoff\":15},\"zerolinecolor\":\"white\",\"automargin\":true,\"zerolinewidth\":2},\"scene\":{\"xaxis\":{\"backgroundcolor\":\"#E5ECF6\",\"gridcolor\":\"white\",\"linecolor\":\"white\",\"showbackground\":true,\"ticks\":\"\",\"zerolinecolor\":\"white\",\"gridwidth\":2},\"yaxis\":{\"backgroundcolor\":\"#E5ECF6\",\"gridcolor\":\"white\",\"linecolor\":\"white\",\"showbackground\":true,\"ticks\":\"\",\"zerolinecolor\":\"white\",\"gridwidth\":2},\"zaxis\":{\"backgroundcolor\":\"#E5ECF6\",\"gridcolor\":\"white\",\"linecolor\":\"white\",\"showbackground\":true,\"ticks\":\"\",\"zerolinecolor\":\"white\",\"gridwidth\":2}},\"shapedefaults\":{\"line\":{\"color\":\"#2a3f5f\"}},\"annotationdefaults\":{\"arrowcolor\":\"#2a3f5f\",\"arrowhead\":0,\"arrowwidth\":1},\"geo\":{\"bgcolor\":\"white\",\"landcolor\":\"#E5ECF6\",\"subunitcolor\":\"white\",\"showland\":true,\"showlakes\":true,\"lakecolor\":\"white\"},\"title\":{\"x\":0.05},\"mapbox\":{\"style\":\"light\"}}},\"xaxis\":{\"anchor\":\"y\",\"domain\":[0.0,1.0],\"title\":{\"text\":\"Year\"},\"tickfont\":{\"size\":9},\"tickangle\":30},\"yaxis\":{\"anchor\":\"x\",\"domain\":[0.0,0.7326],\"title\":{\"text\":\"total_y\"},\"tickfont\":{\"size\":9}},\"xaxis2\":{\"anchor\":\"y2\",\"domain\":[0.0,1.0],\"matches\":\"x\",\"showticklabels\":false,\"showgrid\":true},\"yaxis2\":{\"anchor\":\"x2\",\"domain\":[0.7426,1.0],\"matches\":\"y2\",\"showticklabels\":false,\"showline\":false,\"ticks\":\"\",\"showgrid\":false},\"legend\":{\"title\":{\"text\":\"Citizenship\"},\"tracegroupgap\":0,\"itemsizing\":\"constant\"},\"title\":{\"text\":\"Unemployment Rate x Activity Rate by Region (from 2018 to 2022)\",\"x\":0.5},\"margin\":{\"l\":500,\"r\":20,\"t\":50,\"b\":20},\"paper_bgcolor\":\"LightSteelblue\"},                        {\"responsive\": true}                    ).then(function(){\n",
              "                            \n",
              "var gd = document.getElementById('02335141-e3aa-453e-83b8-d04263de25ea');\n",
              "var x = new MutationObserver(function (mutations, observer) {{\n",
              "        var display = window.getComputedStyle(gd).display;\n",
              "        if (!display || display === 'none') {{\n",
              "            console.log([gd, 'removed!']);\n",
              "            Plotly.purge(gd);\n",
              "            observer.disconnect();\n",
              "        }}\n",
              "}});\n",
              "\n",
              "// Listen for the removal of the full notebook cells\n",
              "var notebookContainer = gd.closest('#notebook-container');\n",
              "if (notebookContainer) {{\n",
              "    x.observe(notebookContainer, {childList: true});\n",
              "}}\n",
              "\n",
              "// Listen for the clearing of the current output cell\n",
              "var outputEl = gd.closest('.output');\n",
              "if (outputEl) {{\n",
              "    x.observe(outputEl, {childList: true});\n",
              "}}\n",
              "\n",
              "                        })                };                            </script>        </div>\n",
              "</body>\n",
              "</html>"
            ]
          },
          "metadata": {},
          "output_type": "display_data"
        }
      ],
      "source": [
        "# WHAT: ANALYSIS OF THE TOTAL UNEMPLOYMENT X ACTIVITY RATE (i.e. WIHTOUT PAYING ATTENTION TO THE EDUCATIONAL LEVEL)\n",
        "# INSIGHT: The level of activity has more or less the same starting rate as the second level.\n",
        "# The more we go upper on the educational level, the more the unemployment rate has a upper-defined span in the line.\n",
        "# Furthermore, we notice how in 2022 the unemployment rate is downgraded, and the activity rate is raised in a significative way.\n",
        "\n",
        "dunnoDf = pd.read_csv('https://raw.githubusercontent.com/openaccesstoimmigrants/openaccesstoimmigrants/main/vizEnvironment/dunnoMashup.csv')\n",
        "# dunnoDf = dunnoDf.replace('italian',0)\n",
        "# dunnoDf = dunnoDf.replace('foreign',1)\n",
        "\n",
        "fig2 = px.scatter(\n",
        "    dunnoDf, #dataframe\n",
        "    x=\"Year\", #regions\n",
        "    y=\"total_y\", #activity rate  ||\n",
        "    size=\"total_x\", #bubble size, directly proportional to  ||\n",
        "    color=\"Citizenship\",#foreign/italian color relation  ||\n",
        "    color_continuous_scale=px.colors.sequential.Plotly3, #color theme\n",
        "    marginal_x=\"box\",\n",
        "    title=\"Unemployment Rate x Activity Rate by Region (from 2018 to 2022)\", #chart title\n",
        ")\n",
        "fig2.update_layout(\n",
        "    xaxis_tickangle=30,#angle of the tick on x-axis\n",
        "    title=dict(x=0.5), #set the title in center\n",
        "    xaxis_tickfont=dict(size=9), #set the font for x-axis\n",
        "    yaxis_tickfont=dict(size=9), #set the font for y-axis\n",
        "    margin=dict(l=500, r=20, t=50, b=20), #set the margin\n",
        "    paper_bgcolor=\"LightSteelblue\", #set the background color for chart\n",
        ")"
      ]
    },
    {
      "cell_type": "markdown",
      "metadata": {
        "id": "dVvuUORVOr3K"
      },
      "source": [
        "# INVESTIGATION NO.1 - COLLATERAL STUDIES"
      ]
    },
    {
      "cell_type": "code",
      "execution_count": 9,
      "metadata": {
        "colab": {
          "base_uri": "https://localhost:8080/",
          "height": 542
        },
        "id": "Y55yos8AIesb",
        "outputId": "f55a909f-e280-4ac3-fa44-a72b0082f41e"
      },
      "outputs": [
        {
          "data": {
            "text/html": [
              "<html>\n",
              "<head><meta charset=\"utf-8\" /></head>\n",
              "<body>\n",
              "    <div>            <script src=\"https://cdnjs.cloudflare.com/ajax/libs/mathjax/2.7.5/MathJax.js?config=TeX-AMS-MML_SVG\"></script><script type=\"text/javascript\">if (window.MathJax && window.MathJax.Hub && window.MathJax.Hub.Config) {window.MathJax.Hub.Config({SVG: {font: \"STIX-Web\"}});}</script>                <script type=\"text/javascript\">window.PlotlyConfig = {MathJaxConfig: 'local'};</script>\n",
              "        <script charset=\"utf-8\" src=\"https://cdn.plot.ly/plotly-2.24.1.min.js\"></script>                <div id=\"4e7deb01-06c4-4654-8f52-6ea344b51f83\" class=\"plotly-graph-div\" style=\"height:525px; width:100%;\"></div>            <script type=\"text/javascript\">                                    window.PLOTLYENV=window.PLOTLYENV || {};                                    if (document.getElementById(\"4e7deb01-06c4-4654-8f52-6ea344b51f83\")) {                    Plotly.newPlot(                        \"4e7deb01-06c4-4654-8f52-6ea344b51f83\",                        [{\"hovertemplate\":\"Citizenship=foreign\\u003cbr\\u003eYear=2018\\u003cbr\\u003eACT_ED_1=%{x}\\u003cbr\\u003eUNEMP_ED_1=%{y}\\u003cextra\\u003e\\u003c\\u002fextra\\u003e\",\"legendgroup\":\"foreign\",\"marker\":{\"color\":\"#636efa\",\"symbol\":\"circle\"},\"mode\":\"markers\",\"name\":\"foreign\",\"orientation\":\"v\",\"showlegend\":true,\"x\":[70.98561766666667,66.097724,68.28975866666667,67.47383433333333,68.80266133333333],\"xaxis\":\"x\",\"y\":[15.155626666666668,15.570274333333332,14.491530666666668,15.381984,13.94255],\"yaxis\":\"y\",\"type\":\"scatter\"},{\"alignmentgroup\":\"True\",\"hovertemplate\":\"Citizenship=foreign\\u003cbr\\u003eYear=2018\\u003cbr\\u003eACT_ED_1=%{x}\\u003cextra\\u003e\\u003c\\u002fextra\\u003e\",\"legendgroup\":\"foreign\",\"marker\":{\"color\":\"#636efa\",\"symbol\":\"circle\"},\"name\":\"foreign\",\"notched\":true,\"offsetgroup\":\"foreign\",\"showlegend\":false,\"x\":[70.98561766666667,66.097724,68.28975866666667,67.47383433333333,68.80266133333333],\"xaxis\":\"x6\",\"yaxis\":\"y6\",\"type\":\"box\"},{\"hovertemplate\":\"Citizenship=foreign\\u003cbr\\u003eYear=2019\\u003cbr\\u003eACT_ED_1=%{x}\\u003cbr\\u003eUNEMP_ED_1=%{y}\\u003cextra\\u003e\\u003c\\u002fextra\\u003e\",\"legendgroup\":\"foreign\",\"marker\":{\"color\":\"#636efa\",\"symbol\":\"circle\"},\"mode\":\"markers\",\"name\":\"foreign\",\"orientation\":\"v\",\"showlegend\":false,\"x\":[70.61560533333333,66.05539533333334,68.25751766666667,67.704574,68.60170933333333],\"xaxis\":\"x2\",\"y\":[13.568436666666663,16.924578999999998,13.519575,14.406747,12.974600333333331],\"yaxis\":\"y2\",\"type\":\"scatter\"},{\"alignmentgroup\":\"True\",\"hovertemplate\":\"Citizenship=foreign\\u003cbr\\u003eYear=2019\\u003cbr\\u003eACT_ED_1=%{x}\\u003cextra\\u003e\\u003c\\u002fextra\\u003e\",\"legendgroup\":\"foreign\",\"marker\":{\"color\":\"#636efa\",\"symbol\":\"circle\"},\"name\":\"foreign\",\"notched\":true,\"offsetgroup\":\"foreign\",\"showlegend\":false,\"x\":[70.61560533333333,66.05539533333334,68.25751766666667,67.704574,68.60170933333333],\"xaxis\":\"x7\",\"yaxis\":\"y7\",\"type\":\"box\"},{\"hovertemplate\":\"Citizenship=foreign\\u003cbr\\u003eYear=2020\\u003cbr\\u003eACT_ED_1=%{x}\\u003cbr\\u003eUNEMP_ED_1=%{y}\\u003cextra\\u003e\\u003c\\u002fextra\\u003e\",\"legendgroup\":\"foreign\",\"marker\":{\"color\":\"#636efa\",\"symbol\":\"circle\"},\"mode\":\"markers\",\"name\":\"foreign\",\"orientation\":\"v\",\"showlegend\":false,\"x\":[66.39947000000001,61.716367,62.08090633333333,62.68816133333333,61.71620633333333],\"xaxis\":\"x3\",\"y\":[13.153745666666666,19.020708666666668,12.179854666666666,12.020517666666668,12.277352666666667],\"yaxis\":\"y3\",\"type\":\"scatter\"},{\"alignmentgroup\":\"True\",\"hovertemplate\":\"Citizenship=foreign\\u003cbr\\u003eYear=2020\\u003cbr\\u003eACT_ED_1=%{x}\\u003cextra\\u003e\\u003c\\u002fextra\\u003e\",\"legendgroup\":\"foreign\",\"marker\":{\"color\":\"#636efa\",\"symbol\":\"circle\"},\"name\":\"foreign\",\"notched\":true,\"offsetgroup\":\"foreign\",\"showlegend\":false,\"x\":[66.39947000000001,61.716367,62.08090633333333,62.68816133333333,61.71620633333333],\"xaxis\":\"x8\",\"yaxis\":\"y8\",\"type\":\"box\"},{\"hovertemplate\":\"Citizenship=foreign\\u003cbr\\u003eYear=2021\\u003cbr\\u003eACT_ED_1=%{x}\\u003cbr\\u003eUNEMP_ED_1=%{y}\\u003cextra\\u003e\\u003c\\u002fextra\\u003e\",\"legendgroup\":\"foreign\",\"marker\":{\"color\":\"#636efa\",\"symbol\":\"circle\"},\"mode\":\"markers\",\"name\":\"foreign\",\"orientation\":\"v\",\"showlegend\":false,\"x\":[66.44278833333334,63.32046966666667,64.76965966666667,63.91319533333333,65.327416],\"xaxis\":\"x4\",\"y\":[13.241852666666666,20.928653666666666,12.367512333333332,11.021123666666668,13.224712666666669],\"yaxis\":\"y4\",\"type\":\"scatter\"},{\"alignmentgroup\":\"True\",\"hovertemplate\":\"Citizenship=foreign\\u003cbr\\u003eYear=2021\\u003cbr\\u003eACT_ED_1=%{x}\\u003cextra\\u003e\\u003c\\u002fextra\\u003e\",\"legendgroup\":\"foreign\",\"marker\":{\"color\":\"#636efa\",\"symbol\":\"circle\"},\"name\":\"foreign\",\"notched\":true,\"offsetgroup\":\"foreign\",\"showlegend\":false,\"x\":[66.44278833333334,63.32046966666667,64.76965966666667,63.91319533333333,65.327416],\"xaxis\":\"x9\",\"yaxis\":\"y9\",\"type\":\"box\"},{\"hovertemplate\":\"Citizenship=foreign\\u003cbr\\u003eYear=2022\\u003cbr\\u003eACT_ED_1=%{x}\\u003cbr\\u003eUNEMP_ED_1=%{y}\\u003cextra\\u003e\\u003c\\u002fextra\\u003e\",\"legendgroup\":\"foreign\",\"marker\":{\"color\":\"#636efa\",\"symbol\":\"circle\"},\"mode\":\"markers\",\"name\":\"foreign\",\"orientation\":\"v\",\"showlegend\":false,\"x\":[68.15029766666667,63.44234733333334,65.698128,65.19774266666667,66.026004],\"xaxis\":\"x5\",\"y\":[12.723967333333334,19.00020566666667,10.421101666666669,10.030182333333334,10.672936333333334],\"yaxis\":\"y5\",\"type\":\"scatter\"},{\"alignmentgroup\":\"True\",\"hovertemplate\":\"Citizenship=foreign\\u003cbr\\u003eYear=2022\\u003cbr\\u003eACT_ED_1=%{x}\\u003cextra\\u003e\\u003c\\u002fextra\\u003e\",\"legendgroup\":\"foreign\",\"marker\":{\"color\":\"#636efa\",\"symbol\":\"circle\"},\"name\":\"foreign\",\"notched\":true,\"offsetgroup\":\"foreign\",\"showlegend\":false,\"x\":[68.15029766666667,63.44234733333334,65.698128,65.19774266666667,66.026004],\"xaxis\":\"x10\",\"yaxis\":\"y10\",\"type\":\"box\"},{\"hovertemplate\":\"Citizenship=italian\\u003cbr\\u003eYear=2018\\u003cbr\\u003eACT_ED_1=%{x}\\u003cbr\\u003eUNEMP_ED_1=%{y}\\u003cextra\\u003e\\u003c\\u002fextra\\u003e\",\"legendgroup\":\"italian\",\"marker\":{\"color\":\"#EF553B\",\"symbol\":\"circle\"},\"mode\":\"markers\",\"name\":\"italian\",\"orientation\":\"v\",\"showlegend\":true,\"x\":[52.88915833333333,41.577883,55.320979666666666,55.55684566666667,55.15669966666667],\"xaxis\":\"x\",\"y\":[11.356605333333334,24.215727666666663,7.663050000000001,6.678413333333334,8.359876],\"yaxis\":\"y\",\"type\":\"scatter\"},{\"alignmentgroup\":\"True\",\"hovertemplate\":\"Citizenship=italian\\u003cbr\\u003eYear=2018\\u003cbr\\u003eACT_ED_1=%{x}\\u003cextra\\u003e\\u003c\\u002fextra\\u003e\",\"legendgroup\":\"italian\",\"marker\":{\"color\":\"#EF553B\",\"symbol\":\"circle\"},\"name\":\"italian\",\"notched\":true,\"offsetgroup\":\"italian\",\"showlegend\":false,\"x\":[52.88915833333333,41.577883,55.320979666666666,55.55684566666667,55.15669966666667],\"xaxis\":\"x6\",\"yaxis\":\"y6\",\"type\":\"box\"},{\"hovertemplate\":\"Citizenship=italian\\u003cbr\\u003eYear=2019\\u003cbr\\u003eACT_ED_1=%{x}\\u003cbr\\u003eUNEMP_ED_1=%{y}\\u003cextra\\u003e\\u003c\\u002fextra\\u003e\",\"legendgroup\":\"italian\",\"marker\":{\"color\":\"#EF553B\",\"symbol\":\"circle\"},\"mode\":\"markers\",\"name\":\"italian\",\"orientation\":\"v\",\"showlegend\":false,\"x\":[52.15032966666666,40.64278933333333,55.70874833333334,55.29582133333333,55.99860833333333],\"xaxis\":\"x2\",\"y\":[9.827092333333333,23.17033033333333,7.548570000000001,6.202183000000001,8.479392666666667],\"yaxis\":\"y2\",\"type\":\"scatter\"},{\"alignmentgroup\":\"True\",\"hovertemplate\":\"Citizenship=italian\\u003cbr\\u003eYear=2019\\u003cbr\\u003eACT_ED_1=%{x}\\u003cextra\\u003e\\u003c\\u002fextra\\u003e\",\"legendgroup\":\"italian\",\"marker\":{\"color\":\"#EF553B\",\"symbol\":\"circle\"},\"name\":\"italian\",\"notched\":true,\"offsetgroup\":\"italian\",\"showlegend\":false,\"x\":[52.15032966666666,40.64278933333333,55.70874833333334,55.29582133333333,55.99860833333333],\"xaxis\":\"x7\",\"yaxis\":\"y7\",\"type\":\"box\"},{\"hovertemplate\":\"Citizenship=italian\\u003cbr\\u003eYear=2020\\u003cbr\\u003eACT_ED_1=%{x}\\u003cbr\\u003eUNEMP_ED_1=%{y}\\u003cextra\\u003e\\u003c\\u002fextra\\u003e\",\"legendgroup\":\"italian\",\"marker\":{\"color\":\"#EF553B\",\"symbol\":\"circle\"},\"mode\":\"markers\",\"name\":\"italian\",\"orientation\":\"v\",\"showlegend\":false,\"x\":[49.991570333333335,38.80917866666667,53.970334,54.44561266666667,53.64003833333333],\"xaxis\":\"x3\",\"y\":[10.372889,21.780618333333333,6.954853666666668,6.316249,7.408153666666666],\"yaxis\":\"y3\",\"type\":\"scatter\"},{\"alignmentgroup\":\"True\",\"hovertemplate\":\"Citizenship=italian\\u003cbr\\u003eYear=2020\\u003cbr\\u003eACT_ED_1=%{x}\\u003cextra\\u003e\\u003c\\u002fextra\\u003e\",\"legendgroup\":\"italian\",\"marker\":{\"color\":\"#EF553B\",\"symbol\":\"circle\"},\"name\":\"italian\",\"notched\":true,\"offsetgroup\":\"italian\",\"showlegend\":false,\"x\":[49.991570333333335,38.80917866666667,53.970334,54.44561266666667,53.64003833333333],\"xaxis\":\"x8\",\"yaxis\":\"y8\",\"type\":\"box\"},{\"hovertemplate\":\"Citizenship=italian\\u003cbr\\u003eYear=2021\\u003cbr\\u003eACT_ED_1=%{x}\\u003cbr\\u003eUNEMP_ED_1=%{y}\\u003cextra\\u003e\\u003c\\u002fextra\\u003e\",\"legendgroup\":\"italian\",\"marker\":{\"color\":\"#EF553B\",\"symbol\":\"circle\"},\"mode\":\"markers\",\"name\":\"italian\",\"orientation\":\"v\",\"showlegend\":false,\"x\":[50.522212,39.703685666666665,54.16331766666667,54.174218,54.156985],\"xaxis\":\"x4\",\"y\":[11.100708666666668,21.733578333333337,7.227654,6.39721,7.805801333333334],\"yaxis\":\"y4\",\"type\":\"scatter\"},{\"alignmentgroup\":\"True\",\"hovertemplate\":\"Citizenship=italian\\u003cbr\\u003eYear=2021\\u003cbr\\u003eACT_ED_1=%{x}\\u003cextra\\u003e\\u003c\\u002fextra\\u003e\",\"legendgroup\":\"italian\",\"marker\":{\"color\":\"#EF553B\",\"symbol\":\"circle\"},\"name\":\"italian\",\"notched\":true,\"offsetgroup\":\"italian\",\"showlegend\":false,\"x\":[50.522212,39.703685666666665,54.16331766666667,54.174218,54.156985],\"xaxis\":\"x9\",\"yaxis\":\"y9\",\"type\":\"box\"},{\"hovertemplate\":\"Citizenship=italian\\u003cbr\\u003eYear=2022\\u003cbr\\u003eACT_ED_1=%{x}\\u003cbr\\u003eUNEMP_ED_1=%{y}\\u003cextra\\u003e\\u003c\\u002fextra\\u003e\",\"legendgroup\":\"italian\",\"marker\":{\"color\":\"#EF553B\",\"symbol\":\"circle\"},\"mode\":\"markers\",\"name\":\"italian\",\"orientation\":\"v\",\"showlegend\":false,\"x\":[51.609045,40.33104133333333,54.84958866666667,55.00348400000001,54.74192133333333],\"xaxis\":\"x5\",\"y\":[8.462975,19.364638,6.388568333333333,5.598281,6.945923666666666],\"yaxis\":\"y5\",\"type\":\"scatter\"},{\"alignmentgroup\":\"True\",\"hovertemplate\":\"Citizenship=italian\\u003cbr\\u003eYear=2022\\u003cbr\\u003eACT_ED_1=%{x}\\u003cextra\\u003e\\u003c\\u002fextra\\u003e\",\"legendgroup\":\"italian\",\"marker\":{\"color\":\"#EF553B\",\"symbol\":\"circle\"},\"name\":\"italian\",\"notched\":true,\"offsetgroup\":\"italian\",\"showlegend\":false,\"x\":[51.609045,40.33104133333333,54.84958866666667,55.00348400000001,54.74192133333333],\"xaxis\":\"x10\",\"yaxis\":\"y10\",\"type\":\"box\"}],                        {\"template\":{\"data\":{\"histogram2dcontour\":[{\"type\":\"histogram2dcontour\",\"colorbar\":{\"outlinewidth\":0,\"ticks\":\"\"},\"colorscale\":[[0.0,\"#0d0887\"],[0.1111111111111111,\"#46039f\"],[0.2222222222222222,\"#7201a8\"],[0.3333333333333333,\"#9c179e\"],[0.4444444444444444,\"#bd3786\"],[0.5555555555555556,\"#d8576b\"],[0.6666666666666666,\"#ed7953\"],[0.7777777777777778,\"#fb9f3a\"],[0.8888888888888888,\"#fdca26\"],[1.0,\"#f0f921\"]]}],\"choropleth\":[{\"type\":\"choropleth\",\"colorbar\":{\"outlinewidth\":0,\"ticks\":\"\"}}],\"histogram2d\":[{\"type\":\"histogram2d\",\"colorbar\":{\"outlinewidth\":0,\"ticks\":\"\"},\"colorscale\":[[0.0,\"#0d0887\"],[0.1111111111111111,\"#46039f\"],[0.2222222222222222,\"#7201a8\"],[0.3333333333333333,\"#9c179e\"],[0.4444444444444444,\"#bd3786\"],[0.5555555555555556,\"#d8576b\"],[0.6666666666666666,\"#ed7953\"],[0.7777777777777778,\"#fb9f3a\"],[0.8888888888888888,\"#fdca26\"],[1.0,\"#f0f921\"]]}],\"heatmap\":[{\"type\":\"heatmap\",\"colorbar\":{\"outlinewidth\":0,\"ticks\":\"\"},\"colorscale\":[[0.0,\"#0d0887\"],[0.1111111111111111,\"#46039f\"],[0.2222222222222222,\"#7201a8\"],[0.3333333333333333,\"#9c179e\"],[0.4444444444444444,\"#bd3786\"],[0.5555555555555556,\"#d8576b\"],[0.6666666666666666,\"#ed7953\"],[0.7777777777777778,\"#fb9f3a\"],[0.8888888888888888,\"#fdca26\"],[1.0,\"#f0f921\"]]}],\"heatmapgl\":[{\"type\":\"heatmapgl\",\"colorbar\":{\"outlinewidth\":0,\"ticks\":\"\"},\"colorscale\":[[0.0,\"#0d0887\"],[0.1111111111111111,\"#46039f\"],[0.2222222222222222,\"#7201a8\"],[0.3333333333333333,\"#9c179e\"],[0.4444444444444444,\"#bd3786\"],[0.5555555555555556,\"#d8576b\"],[0.6666666666666666,\"#ed7953\"],[0.7777777777777778,\"#fb9f3a\"],[0.8888888888888888,\"#fdca26\"],[1.0,\"#f0f921\"]]}],\"contourcarpet\":[{\"type\":\"contourcarpet\",\"colorbar\":{\"outlinewidth\":0,\"ticks\":\"\"}}],\"contour\":[{\"type\":\"contour\",\"colorbar\":{\"outlinewidth\":0,\"ticks\":\"\"},\"colorscale\":[[0.0,\"#0d0887\"],[0.1111111111111111,\"#46039f\"],[0.2222222222222222,\"#7201a8\"],[0.3333333333333333,\"#9c179e\"],[0.4444444444444444,\"#bd3786\"],[0.5555555555555556,\"#d8576b\"],[0.6666666666666666,\"#ed7953\"],[0.7777777777777778,\"#fb9f3a\"],[0.8888888888888888,\"#fdca26\"],[1.0,\"#f0f921\"]]}],\"surface\":[{\"type\":\"surface\",\"colorbar\":{\"outlinewidth\":0,\"ticks\":\"\"},\"colorscale\":[[0.0,\"#0d0887\"],[0.1111111111111111,\"#46039f\"],[0.2222222222222222,\"#7201a8\"],[0.3333333333333333,\"#9c179e\"],[0.4444444444444444,\"#bd3786\"],[0.5555555555555556,\"#d8576b\"],[0.6666666666666666,\"#ed7953\"],[0.7777777777777778,\"#fb9f3a\"],[0.8888888888888888,\"#fdca26\"],[1.0,\"#f0f921\"]]}],\"mesh3d\":[{\"type\":\"mesh3d\",\"colorbar\":{\"outlinewidth\":0,\"ticks\":\"\"}}],\"scatter\":[{\"fillpattern\":{\"fillmode\":\"overlay\",\"size\":10,\"solidity\":0.2},\"type\":\"scatter\"}],\"parcoords\":[{\"type\":\"parcoords\",\"line\":{\"colorbar\":{\"outlinewidth\":0,\"ticks\":\"\"}}}],\"scatterpolargl\":[{\"type\":\"scatterpolargl\",\"marker\":{\"colorbar\":{\"outlinewidth\":0,\"ticks\":\"\"}}}],\"bar\":[{\"error_x\":{\"color\":\"#2a3f5f\"},\"error_y\":{\"color\":\"#2a3f5f\"},\"marker\":{\"line\":{\"color\":\"#E5ECF6\",\"width\":0.5},\"pattern\":{\"fillmode\":\"overlay\",\"size\":10,\"solidity\":0.2}},\"type\":\"bar\"}],\"scattergeo\":[{\"type\":\"scattergeo\",\"marker\":{\"colorbar\":{\"outlinewidth\":0,\"ticks\":\"\"}}}],\"scatterpolar\":[{\"type\":\"scatterpolar\",\"marker\":{\"colorbar\":{\"outlinewidth\":0,\"ticks\":\"\"}}}],\"histogram\":[{\"marker\":{\"pattern\":{\"fillmode\":\"overlay\",\"size\":10,\"solidity\":0.2}},\"type\":\"histogram\"}],\"scattergl\":[{\"type\":\"scattergl\",\"marker\":{\"colorbar\":{\"outlinewidth\":0,\"ticks\":\"\"}}}],\"scatter3d\":[{\"type\":\"scatter3d\",\"line\":{\"colorbar\":{\"outlinewidth\":0,\"ticks\":\"\"}},\"marker\":{\"colorbar\":{\"outlinewidth\":0,\"ticks\":\"\"}}}],\"scattermapbox\":[{\"type\":\"scattermapbox\",\"marker\":{\"colorbar\":{\"outlinewidth\":0,\"ticks\":\"\"}}}],\"scatterternary\":[{\"type\":\"scatterternary\",\"marker\":{\"colorbar\":{\"outlinewidth\":0,\"ticks\":\"\"}}}],\"scattercarpet\":[{\"type\":\"scattercarpet\",\"marker\":{\"colorbar\":{\"outlinewidth\":0,\"ticks\":\"\"}}}],\"carpet\":[{\"aaxis\":{\"endlinecolor\":\"#2a3f5f\",\"gridcolor\":\"white\",\"linecolor\":\"white\",\"minorgridcolor\":\"white\",\"startlinecolor\":\"#2a3f5f\"},\"baxis\":{\"endlinecolor\":\"#2a3f5f\",\"gridcolor\":\"white\",\"linecolor\":\"white\",\"minorgridcolor\":\"white\",\"startlinecolor\":\"#2a3f5f\"},\"type\":\"carpet\"}],\"table\":[{\"cells\":{\"fill\":{\"color\":\"#EBF0F8\"},\"line\":{\"color\":\"white\"}},\"header\":{\"fill\":{\"color\":\"#C8D4E3\"},\"line\":{\"color\":\"white\"}},\"type\":\"table\"}],\"barpolar\":[{\"marker\":{\"line\":{\"color\":\"#E5ECF6\",\"width\":0.5},\"pattern\":{\"fillmode\":\"overlay\",\"size\":10,\"solidity\":0.2}},\"type\":\"barpolar\"}],\"pie\":[{\"automargin\":true,\"type\":\"pie\"}]},\"layout\":{\"autotypenumbers\":\"strict\",\"colorway\":[\"#636efa\",\"#EF553B\",\"#00cc96\",\"#ab63fa\",\"#FFA15A\",\"#19d3f3\",\"#FF6692\",\"#B6E880\",\"#FF97FF\",\"#FECB52\"],\"font\":{\"color\":\"#2a3f5f\"},\"hovermode\":\"closest\",\"hoverlabel\":{\"align\":\"left\"},\"paper_bgcolor\":\"white\",\"plot_bgcolor\":\"#E5ECF6\",\"polar\":{\"bgcolor\":\"#E5ECF6\",\"angularaxis\":{\"gridcolor\":\"white\",\"linecolor\":\"white\",\"ticks\":\"\"},\"radialaxis\":{\"gridcolor\":\"white\",\"linecolor\":\"white\",\"ticks\":\"\"}},\"ternary\":{\"bgcolor\":\"#E5ECF6\",\"aaxis\":{\"gridcolor\":\"white\",\"linecolor\":\"white\",\"ticks\":\"\"},\"baxis\":{\"gridcolor\":\"white\",\"linecolor\":\"white\",\"ticks\":\"\"},\"caxis\":{\"gridcolor\":\"white\",\"linecolor\":\"white\",\"ticks\":\"\"}},\"coloraxis\":{\"colorbar\":{\"outlinewidth\":0,\"ticks\":\"\"}},\"colorscale\":{\"sequential\":[[0.0,\"#0d0887\"],[0.1111111111111111,\"#46039f\"],[0.2222222222222222,\"#7201a8\"],[0.3333333333333333,\"#9c179e\"],[0.4444444444444444,\"#bd3786\"],[0.5555555555555556,\"#d8576b\"],[0.6666666666666666,\"#ed7953\"],[0.7777777777777778,\"#fb9f3a\"],[0.8888888888888888,\"#fdca26\"],[1.0,\"#f0f921\"]],\"sequentialminus\":[[0.0,\"#0d0887\"],[0.1111111111111111,\"#46039f\"],[0.2222222222222222,\"#7201a8\"],[0.3333333333333333,\"#9c179e\"],[0.4444444444444444,\"#bd3786\"],[0.5555555555555556,\"#d8576b\"],[0.6666666666666666,\"#ed7953\"],[0.7777777777777778,\"#fb9f3a\"],[0.8888888888888888,\"#fdca26\"],[1.0,\"#f0f921\"]],\"diverging\":[[0,\"#8e0152\"],[0.1,\"#c51b7d\"],[0.2,\"#de77ae\"],[0.3,\"#f1b6da\"],[0.4,\"#fde0ef\"],[0.5,\"#f7f7f7\"],[0.6,\"#e6f5d0\"],[0.7,\"#b8e186\"],[0.8,\"#7fbc41\"],[0.9,\"#4d9221\"],[1,\"#276419\"]]},\"xaxis\":{\"gridcolor\":\"white\",\"linecolor\":\"white\",\"ticks\":\"\",\"title\":{\"standoff\":15},\"zerolinecolor\":\"white\",\"automargin\":true,\"zerolinewidth\":2},\"yaxis\":{\"gridcolor\":\"white\",\"linecolor\":\"white\",\"ticks\":\"\",\"title\":{\"standoff\":15},\"zerolinecolor\":\"white\",\"automargin\":true,\"zerolinewidth\":2},\"scene\":{\"xaxis\":{\"backgroundcolor\":\"#E5ECF6\",\"gridcolor\":\"white\",\"linecolor\":\"white\",\"showbackground\":true,\"ticks\":\"\",\"zerolinecolor\":\"white\",\"gridwidth\":2},\"yaxis\":{\"backgroundcolor\":\"#E5ECF6\",\"gridcolor\":\"white\",\"linecolor\":\"white\",\"showbackground\":true,\"ticks\":\"\",\"zerolinecolor\":\"white\",\"gridwidth\":2},\"zaxis\":{\"backgroundcolor\":\"#E5ECF6\",\"gridcolor\":\"white\",\"linecolor\":\"white\",\"showbackground\":true,\"ticks\":\"\",\"zerolinecolor\":\"white\",\"gridwidth\":2}},\"shapedefaults\":{\"line\":{\"color\":\"#2a3f5f\"}},\"annotationdefaults\":{\"arrowcolor\":\"#2a3f5f\",\"arrowhead\":0,\"arrowwidth\":1},\"geo\":{\"bgcolor\":\"white\",\"landcolor\":\"#E5ECF6\",\"subunitcolor\":\"white\",\"showland\":true,\"showlakes\":true,\"lakecolor\":\"white\"},\"title\":{\"x\":0.05},\"mapbox\":{\"style\":\"light\"}}},\"xaxis\":{\"anchor\":\"y\",\"domain\":[0.0,0.18400000000000002],\"title\":{\"text\":\"ACT_ED_1\"}},\"yaxis\":{\"anchor\":\"x\",\"domain\":[0.0,0.7326],\"title\":{\"text\":\"UNEMP_ED_1\"}},\"xaxis2\":{\"anchor\":\"y2\",\"domain\":[0.20400000000000001,0.388],\"matches\":\"x\",\"title\":{\"text\":\"ACT_ED_1\"}},\"yaxis2\":{\"anchor\":\"x2\",\"domain\":[0.0,0.7326],\"matches\":\"y\",\"showticklabels\":false},\"xaxis3\":{\"anchor\":\"y3\",\"domain\":[0.40800000000000003,0.5920000000000001],\"matches\":\"x\",\"title\":{\"text\":\"ACT_ED_1\"}},\"yaxis3\":{\"anchor\":\"x3\",\"domain\":[0.0,0.7326],\"matches\":\"y\",\"showticklabels\":false},\"xaxis4\":{\"anchor\":\"y4\",\"domain\":[0.6120000000000001,0.7960000000000002],\"matches\":\"x\",\"title\":{\"text\":\"ACT_ED_1\"}},\"yaxis4\":{\"anchor\":\"x4\",\"domain\":[0.0,0.7326],\"matches\":\"y\",\"showticklabels\":false},\"xaxis5\":{\"anchor\":\"y5\",\"domain\":[0.8160000000000001,1.0],\"matches\":\"x\",\"title\":{\"text\":\"ACT_ED_1\"}},\"yaxis5\":{\"anchor\":\"x5\",\"domain\":[0.0,0.7326],\"matches\":\"y\",\"showticklabels\":false},\"xaxis6\":{\"anchor\":\"y6\",\"domain\":[0.0,0.18400000000000002],\"matches\":\"x\",\"showticklabels\":false,\"showgrid\":true},\"yaxis6\":{\"anchor\":\"x6\",\"domain\":[0.7426,1.0],\"matches\":\"y6\",\"showticklabels\":false,\"showline\":false,\"ticks\":\"\",\"showgrid\":false},\"xaxis7\":{\"anchor\":\"y7\",\"domain\":[0.20400000000000001,0.388],\"matches\":\"x\",\"showticklabels\":false,\"showgrid\":true},\"yaxis7\":{\"anchor\":\"x7\",\"domain\":[0.7426,1.0],\"matches\":\"y6\",\"showticklabels\":false,\"showline\":false,\"ticks\":\"\",\"showgrid\":false},\"xaxis8\":{\"anchor\":\"y8\",\"domain\":[0.40800000000000003,0.5920000000000001],\"matches\":\"x\",\"showticklabels\":false,\"showgrid\":true},\"yaxis8\":{\"anchor\":\"x8\",\"domain\":[0.7426,1.0],\"matches\":\"y6\",\"showticklabels\":false,\"showline\":false,\"ticks\":\"\",\"showgrid\":false},\"xaxis9\":{\"anchor\":\"y9\",\"domain\":[0.6120000000000001,0.7960000000000002],\"matches\":\"x\",\"showticklabels\":false,\"showgrid\":true},\"yaxis9\":{\"anchor\":\"x9\",\"domain\":[0.7426,1.0],\"matches\":\"y6\",\"showticklabels\":false,\"showline\":false,\"ticks\":\"\",\"showgrid\":false},\"xaxis10\":{\"anchor\":\"y10\",\"domain\":[0.8160000000000001,1.0],\"matches\":\"x\",\"showticklabels\":false,\"showgrid\":true},\"yaxis10\":{\"anchor\":\"x10\",\"domain\":[0.7426,1.0],\"matches\":\"y6\",\"showticklabels\":false,\"showline\":false,\"ticks\":\"\",\"showgrid\":false},\"annotations\":[{\"font\":{},\"showarrow\":false,\"text\":\"Year=2018\",\"x\":0.09200000000000001,\"xanchor\":\"center\",\"xref\":\"paper\",\"y\":1.0,\"yanchor\":\"bottom\",\"yref\":\"paper\"},{\"font\":{},\"showarrow\":false,\"text\":\"Year=2019\",\"x\":0.29600000000000004,\"xanchor\":\"center\",\"xref\":\"paper\",\"y\":1.0,\"yanchor\":\"bottom\",\"yref\":\"paper\"},{\"font\":{},\"showarrow\":false,\"text\":\"Year=2020\",\"x\":0.5,\"xanchor\":\"center\",\"xref\":\"paper\",\"y\":1.0,\"yanchor\":\"bottom\",\"yref\":\"paper\"},{\"font\":{},\"showarrow\":false,\"text\":\"Year=2021\",\"x\":0.7040000000000002,\"xanchor\":\"center\",\"xref\":\"paper\",\"y\":1.0,\"yanchor\":\"bottom\",\"yref\":\"paper\"},{\"font\":{},\"showarrow\":false,\"text\":\"Year=2022\",\"x\":0.908,\"xanchor\":\"center\",\"xref\":\"paper\",\"y\":1.0,\"yanchor\":\"bottom\",\"yref\":\"paper\"}],\"legend\":{\"title\":{\"text\":\"Citizenship\"},\"tracegroupgap\":0},\"margin\":{\"t\":60}},                        {\"responsive\": true}                    ).then(function(){\n",
              "                            \n",
              "var gd = document.getElementById('4e7deb01-06c4-4654-8f52-6ea344b51f83');\n",
              "var x = new MutationObserver(function (mutations, observer) {{\n",
              "        var display = window.getComputedStyle(gd).display;\n",
              "        if (!display || display === 'none') {{\n",
              "            console.log([gd, 'removed!']);\n",
              "            Plotly.purge(gd);\n",
              "            observer.disconnect();\n",
              "        }}\n",
              "}});\n",
              "\n",
              "// Listen for the removal of the full notebook cells\n",
              "var notebookContainer = gd.closest('#notebook-container');\n",
              "if (notebookContainer) {{\n",
              "    x.observe(notebookContainer, {childList: true});\n",
              "}}\n",
              "\n",
              "// Listen for the clearing of the current output cell\n",
              "var outputEl = gd.closest('.output');\n",
              "if (outputEl) {{\n",
              "    x.observe(outputEl, {childList: true});\n",
              "}}\n",
              "\n",
              "                        })                };                            </script>        </div>\n",
              "</body>\n",
              "</html>"
            ]
          },
          "metadata": {},
          "output_type": "display_data"
        }
      ],
      "source": [
        "# >>> COLLATERAL STUDY >>> LEVEL OF EDUCATION 1 >>>  NO TERRITORY DISCRIMINANT\n",
        "# Here we can envision the comparison, by year, of the rate of activity and unemployment for the first level of education.\n",
        "# NB: for the sake of the visualization, now the ACTIVITY RATE IS ON THE X AXIS.\n",
        "# What do we notice? - Here we see how during the years foreigners have always been more active than natives, despite of the level of their unemployment rate.\n",
        "# At the same time, zooming in on the boxplots we may notice some non-significative outliers in the red box, showing that some natives have also been more inactive and unemployed than the foreigners.\n",
        "\n",
        "# ***go down for the second and third educational level comparison.***\n",
        "\n",
        "fig3 = px.scatter(dunnoDf, x=\"ACT_ED_1\", y=\"UNEMP_ED_1\", color=\"Citizenship\", facet_col=\"Year\",\n",
        "                  marginal_x=\"box\")\n",
        "fig3.show()\n"
      ]
    },
    {
      "cell_type": "code",
      "execution_count": 10,
      "metadata": {
        "colab": {
          "base_uri": "https://localhost:8080/",
          "height": 542
        },
        "id": "JdZbk-dTN_-N",
        "outputId": "9aa618ba-97fe-44e3-f615-3e2343982050"
      },
      "outputs": [
        {
          "data": {
            "text/html": [
              "<html>\n",
              "<head><meta charset=\"utf-8\" /></head>\n",
              "<body>\n",
              "    <div>            <script src=\"https://cdnjs.cloudflare.com/ajax/libs/mathjax/2.7.5/MathJax.js?config=TeX-AMS-MML_SVG\"></script><script type=\"text/javascript\">if (window.MathJax && window.MathJax.Hub && window.MathJax.Hub.Config) {window.MathJax.Hub.Config({SVG: {font: \"STIX-Web\"}});}</script>                <script type=\"text/javascript\">window.PlotlyConfig = {MathJaxConfig: 'local'};</script>\n",
              "        <script charset=\"utf-8\" src=\"https://cdn.plot.ly/plotly-2.24.1.min.js\"></script>                <div id=\"04dcb88d-9d80-45ff-82be-017cbaa28ecb\" class=\"plotly-graph-div\" style=\"height:525px; width:100%;\"></div>            <script type=\"text/javascript\">                                    window.PLOTLYENV=window.PLOTLYENV || {};                                    if (document.getElementById(\"04dcb88d-9d80-45ff-82be-017cbaa28ecb\")) {                    Plotly.newPlot(                        \"04dcb88d-9d80-45ff-82be-017cbaa28ecb\",                        [{\"hovertemplate\":\"Citizenship=foreign\\u003cbr\\u003eYear=2018\\u003cbr\\u003eACT_ED_2=%{x}\\u003cbr\\u003eUNEMP_ED_2=%{y}\\u003cextra\\u003e\\u003c\\u002fextra\\u003e\",\"legendgroup\":\"foreign\",\"marker\":{\"color\":\"#636efa\",\"symbol\":\"circle\"},\"mode\":\"markers\",\"name\":\"foreign\",\"orientation\":\"v\",\"showlegend\":true,\"x\":[75.70860233333333,67.18787200000001,78.39547666666667,79.70873366666666,77.31331733333333],\"xaxis\":\"x\",\"y\":[14.836709999999998,16.964262666666666,12.781868666666666,12.619294333333334,12.920238],\"yaxis\":\"y\",\"type\":\"scatter\"},{\"alignmentgroup\":\"True\",\"hovertemplate\":\"Citizenship=foreign\\u003cbr\\u003eYear=2018\\u003cbr\\u003eACT_ED_2=%{x}\\u003cextra\\u003e\\u003c\\u002fextra\\u003e\",\"legendgroup\":\"foreign\",\"marker\":{\"color\":\"#636efa\",\"symbol\":\"circle\"},\"name\":\"foreign\",\"notched\":true,\"offsetgroup\":\"foreign\",\"showlegend\":false,\"x\":[75.70860233333333,67.18787200000001,78.39547666666667,79.70873366666666,77.31331733333333],\"xaxis\":\"x6\",\"yaxis\":\"y6\",\"type\":\"box\"},{\"hovertemplate\":\"Citizenship=foreign\\u003cbr\\u003eYear=2019\\u003cbr\\u003eACT_ED_2=%{x}\\u003cbr\\u003eUNEMP_ED_2=%{y}\\u003cextra\\u003e\\u003c\\u002fextra\\u003e\",\"legendgroup\":\"foreign\",\"marker\":{\"color\":\"#636efa\",\"symbol\":\"circle\"},\"mode\":\"markers\",\"name\":\"foreign\",\"orientation\":\"v\",\"showlegend\":false,\"x\":[76.77695833333333,63.178155333333336,78.43068433333333,79.93875133333334,77.10920733333333],\"xaxis\":\"x2\",\"y\":[17.514611,19.247072666666668,11.192228333333333,11.210479,11.175750666666667],\"yaxis\":\"y2\",\"type\":\"scatter\"},{\"alignmentgroup\":\"True\",\"hovertemplate\":\"Citizenship=foreign\\u003cbr\\u003eYear=2019\\u003cbr\\u003eACT_ED_2=%{x}\\u003cextra\\u003e\\u003c\\u002fextra\\u003e\",\"legendgroup\":\"foreign\",\"marker\":{\"color\":\"#636efa\",\"symbol\":\"circle\"},\"name\":\"foreign\",\"notched\":true,\"offsetgroup\":\"foreign\",\"showlegend\":false,\"x\":[76.77695833333333,63.178155333333336,78.43068433333333,79.93875133333334,77.10920733333333],\"xaxis\":\"x7\",\"yaxis\":\"y7\",\"type\":\"box\"},{\"hovertemplate\":\"Citizenship=foreign\\u003cbr\\u003eYear=2020\\u003cbr\\u003eACT_ED_2=%{x}\\u003cbr\\u003eUNEMP_ED_2=%{y}\\u003cextra\\u003e\\u003c\\u002fextra\\u003e\",\"legendgroup\":\"foreign\",\"marker\":{\"color\":\"#636efa\",\"symbol\":\"circle\"},\"mode\":\"markers\",\"name\":\"foreign\",\"orientation\":\"v\",\"showlegend\":false,\"x\":[70.11022733333334,57.00363733333333,74.937094,77.87507633333333,72.23965666666668],\"xaxis\":\"x3\",\"y\":[13.542031666666666,18.68959,12.133323666666668,11.754628333333336,12.508221999999998],\"yaxis\":\"y3\",\"type\":\"scatter\"},{\"alignmentgroup\":\"True\",\"hovertemplate\":\"Citizenship=foreign\\u003cbr\\u003eYear=2020\\u003cbr\\u003eACT_ED_2=%{x}\\u003cextra\\u003e\\u003c\\u002fextra\\u003e\",\"legendgroup\":\"foreign\",\"marker\":{\"color\":\"#636efa\",\"symbol\":\"circle\"},\"name\":\"foreign\",\"notched\":true,\"offsetgroup\":\"foreign\",\"showlegend\":false,\"x\":[70.11022733333334,57.00363733333333,74.937094,77.87507633333333,72.23965666666668],\"xaxis\":\"x8\",\"yaxis\":\"y8\",\"type\":\"box\"},{\"hovertemplate\":\"Citizenship=foreign\\u003cbr\\u003eYear=2021\\u003cbr\\u003eACT_ED_2=%{x}\\u003cbr\\u003eUNEMP_ED_2=%{y}\\u003cextra\\u003e\\u003c\\u002fextra\\u003e\",\"legendgroup\":\"foreign\",\"marker\":{\"color\":\"#636efa\",\"symbol\":\"circle\"},\"mode\":\"markers\",\"name\":\"foreign\",\"orientation\":\"v\",\"showlegend\":false,\"x\":[73.098578,59.350414,76.26109266666667,77.88256766666666,74.89358566666667],\"xaxis\":\"x4\",\"y\":[16.586291333333335,20.727722,12.495782666666663,10.315789666666667,14.408136999999998],\"yaxis\":\"y4\",\"type\":\"scatter\"},{\"alignmentgroup\":\"True\",\"hovertemplate\":\"Citizenship=foreign\\u003cbr\\u003eYear=2021\\u003cbr\\u003eACT_ED_2=%{x}\\u003cextra\\u003e\\u003c\\u002fextra\\u003e\",\"legendgroup\":\"foreign\",\"marker\":{\"color\":\"#636efa\",\"symbol\":\"circle\"},\"name\":\"foreign\",\"notched\":true,\"offsetgroup\":\"foreign\",\"showlegend\":false,\"x\":[73.098578,59.350414,76.26109266666667,77.88256766666666,74.89358566666667],\"xaxis\":\"x9\",\"yaxis\":\"y9\",\"type\":\"box\"},{\"hovertemplate\":\"Citizenship=foreign\\u003cbr\\u003eYear=2022\\u003cbr\\u003eACT_ED_2=%{x}\\u003cbr\\u003eUNEMP_ED_2=%{y}\\u003cextra\\u003e\\u003c\\u002fextra\\u003e\",\"legendgroup\":\"foreign\",\"marker\":{\"color\":\"#636efa\",\"symbol\":\"circle\"},\"mode\":\"markers\",\"name\":\"foreign\",\"orientation\":\"v\",\"showlegend\":false,\"x\":[72.92544633333334,61.26420233333334,76.86481666666667,77.516503,76.266436],\"xaxis\":\"x5\",\"y\":[13.377199666666668,19.229423333333333,9.457003666666669,8.471354333333332,10.377461],\"yaxis\":\"y5\",\"type\":\"scatter\"},{\"alignmentgroup\":\"True\",\"hovertemplate\":\"Citizenship=foreign\\u003cbr\\u003eYear=2022\\u003cbr\\u003eACT_ED_2=%{x}\\u003cextra\\u003e\\u003c\\u002fextra\\u003e\",\"legendgroup\":\"foreign\",\"marker\":{\"color\":\"#636efa\",\"symbol\":\"circle\"},\"name\":\"foreign\",\"notched\":true,\"offsetgroup\":\"foreign\",\"showlegend\":false,\"x\":[72.92544633333334,61.26420233333334,76.86481666666667,77.516503,76.266436],\"xaxis\":\"x10\",\"yaxis\":\"y10\",\"type\":\"box\"},{\"hovertemplate\":\"Citizenship=italian\\u003cbr\\u003eYear=2018\\u003cbr\\u003eACT_ED_2=%{x}\\u003cbr\\u003eUNEMP_ED_2=%{y}\\u003cextra\\u003e\\u003c\\u002fextra\\u003e\",\"legendgroup\":\"italian\",\"marker\":{\"color\":\"#EF553B\",\"symbol\":\"circle\"},\"mode\":\"markers\",\"name\":\"italian\",\"orientation\":\"v\",\"showlegend\":true,\"x\":[71.41853266666666,59.85770233333333,75.86370266666667,76.65679033333333,75.26049666666667],\"xaxis\":\"x\",\"y\":[9.377720333333334,17.254203666666665,5.546832666666667,4.849491,6.088358666666667],\"yaxis\":\"y\",\"type\":\"scatter\"},{\"alignmentgroup\":\"True\",\"hovertemplate\":\"Citizenship=italian\\u003cbr\\u003eYear=2018\\u003cbr\\u003eACT_ED_2=%{x}\\u003cextra\\u003e\\u003c\\u002fextra\\u003e\",\"legendgroup\":\"italian\",\"marker\":{\"color\":\"#EF553B\",\"symbol\":\"circle\"},\"name\":\"italian\",\"notched\":true,\"offsetgroup\":\"italian\",\"showlegend\":false,\"x\":[71.41853266666666,59.85770233333333,75.86370266666667,76.65679033333333,75.26049666666667],\"xaxis\":\"x6\",\"yaxis\":\"y6\",\"type\":\"box\"},{\"hovertemplate\":\"Citizenship=italian\\u003cbr\\u003eYear=2019\\u003cbr\\u003eACT_ED_2=%{x}\\u003cbr\\u003eUNEMP_ED_2=%{y}\\u003cextra\\u003e\\u003c\\u002fextra\\u003e\",\"legendgroup\":\"italian\",\"marker\":{\"color\":\"#EF553B\",\"symbol\":\"circle\"},\"mode\":\"markers\",\"name\":\"italian\",\"orientation\":\"v\",\"showlegend\":false,\"x\":[71.00120633333334,60.145473,76.024817,77.44756733333334,74.95501133333333],\"xaxis\":\"x2\",\"y\":[8.193193666666668,16.685488333333335,4.881866333333334,4.127024,5.468788333333333],\"yaxis\":\"y2\",\"type\":\"scatter\"},{\"alignmentgroup\":\"True\",\"hovertemplate\":\"Citizenship=italian\\u003cbr\\u003eYear=2019\\u003cbr\\u003eACT_ED_2=%{x}\\u003cextra\\u003e\\u003c\\u002fextra\\u003e\",\"legendgroup\":\"italian\",\"marker\":{\"color\":\"#EF553B\",\"symbol\":\"circle\"},\"name\":\"italian\",\"notched\":true,\"offsetgroup\":\"italian\",\"showlegend\":false,\"x\":[71.00120633333334,60.145473,76.024817,77.44756733333334,74.95501133333333],\"xaxis\":\"x7\",\"yaxis\":\"y7\",\"type\":\"box\"},{\"hovertemplate\":\"Citizenship=italian\\u003cbr\\u003eYear=2020\\u003cbr\\u003eACT_ED_2=%{x}\\u003cbr\\u003eUNEMP_ED_2=%{y}\\u003cextra\\u003e\\u003c\\u002fextra\\u003e\",\"legendgroup\":\"italian\",\"marker\":{\"color\":\"#EF553B\",\"symbol\":\"circle\"},\"mode\":\"markers\",\"name\":\"italian\",\"orientation\":\"v\",\"showlegend\":false,\"x\":[69.85272266666666,57.09239766666667,73.92169466666667,74.92259866666667,73.17179800000001],\"xaxis\":\"x3\",\"y\":[7.821124,14.9017,5.120105666666666,4.927195666666667,5.268204333333333],\"yaxis\":\"y3\",\"type\":\"scatter\"},{\"alignmentgroup\":\"True\",\"hovertemplate\":\"Citizenship=italian\\u003cbr\\u003eYear=2020\\u003cbr\\u003eACT_ED_2=%{x}\\u003cextra\\u003e\\u003c\\u002fextra\\u003e\",\"legendgroup\":\"italian\",\"marker\":{\"color\":\"#EF553B\",\"symbol\":\"circle\"},\"name\":\"italian\",\"notched\":true,\"offsetgroup\":\"italian\",\"showlegend\":false,\"x\":[69.85272266666666,57.09239766666667,73.92169466666667,74.92259866666667,73.17179800000001],\"xaxis\":\"x8\",\"yaxis\":\"y8\",\"type\":\"box\"},{\"hovertemplate\":\"Citizenship=italian\\u003cbr\\u003eYear=2021\\u003cbr\\u003eACT_ED_2=%{x}\\u003cbr\\u003eUNEMP_ED_2=%{y}\\u003cextra\\u003e\\u003c\\u002fextra\\u003e\",\"legendgroup\":\"italian\",\"marker\":{\"color\":\"#EF553B\",\"symbol\":\"circle\"},\"mode\":\"markers\",\"name\":\"italian\",\"orientation\":\"v\",\"showlegend\":false,\"x\":[70.39984266666666,58.786052000000005,74.06197166666666,74.41002366666667,73.80046933333334],\"xaxis\":\"x4\",\"y\":[8.114135,15.629899,4.995005,4.436289666666666,5.419123],\"yaxis\":\"y4\",\"type\":\"scatter\"},{\"alignmentgroup\":\"True\",\"hovertemplate\":\"Citizenship=italian\\u003cbr\\u003eYear=2021\\u003cbr\\u003eACT_ED_2=%{x}\\u003cextra\\u003e\\u003c\\u002fextra\\u003e\",\"legendgroup\":\"italian\",\"marker\":{\"color\":\"#EF553B\",\"symbol\":\"circle\"},\"name\":\"italian\",\"notched\":true,\"offsetgroup\":\"italian\",\"showlegend\":false,\"x\":[70.39984266666666,58.786052000000005,74.06197166666666,74.41002366666667,73.80046933333334],\"xaxis\":\"x9\",\"yaxis\":\"y9\",\"type\":\"box\"},{\"hovertemplate\":\"Citizenship=italian\\u003cbr\\u003eYear=2022\\u003cbr\\u003eACT_ED_2=%{x}\\u003cbr\\u003eUNEMP_ED_2=%{y}\\u003cextra\\u003e\\u003c\\u002fextra\\u003e\",\"legendgroup\":\"italian\",\"marker\":{\"color\":\"#EF553B\",\"symbol\":\"circle\"},\"mode\":\"markers\",\"name\":\"italian\",\"orientation\":\"v\",\"showlegend\":false,\"x\":[71.82883533333334,59.487310666666666,75.35558166666667,76.07489166666666,74.81709033333334],\"xaxis\":\"x5\",\"y\":[6.500167333333334,13.592164,4.254452333333333,3.730644,4.653365333333333],\"yaxis\":\"y5\",\"type\":\"scatter\"},{\"alignmentgroup\":\"True\",\"hovertemplate\":\"Citizenship=italian\\u003cbr\\u003eYear=2022\\u003cbr\\u003eACT_ED_2=%{x}\\u003cextra\\u003e\\u003c\\u002fextra\\u003e\",\"legendgroup\":\"italian\",\"marker\":{\"color\":\"#EF553B\",\"symbol\":\"circle\"},\"name\":\"italian\",\"notched\":true,\"offsetgroup\":\"italian\",\"showlegend\":false,\"x\":[71.82883533333334,59.487310666666666,75.35558166666667,76.07489166666666,74.81709033333334],\"xaxis\":\"x10\",\"yaxis\":\"y10\",\"type\":\"box\"}],                        {\"template\":{\"data\":{\"histogram2dcontour\":[{\"type\":\"histogram2dcontour\",\"colorbar\":{\"outlinewidth\":0,\"ticks\":\"\"},\"colorscale\":[[0.0,\"#0d0887\"],[0.1111111111111111,\"#46039f\"],[0.2222222222222222,\"#7201a8\"],[0.3333333333333333,\"#9c179e\"],[0.4444444444444444,\"#bd3786\"],[0.5555555555555556,\"#d8576b\"],[0.6666666666666666,\"#ed7953\"],[0.7777777777777778,\"#fb9f3a\"],[0.8888888888888888,\"#fdca26\"],[1.0,\"#f0f921\"]]}],\"choropleth\":[{\"type\":\"choropleth\",\"colorbar\":{\"outlinewidth\":0,\"ticks\":\"\"}}],\"histogram2d\":[{\"type\":\"histogram2d\",\"colorbar\":{\"outlinewidth\":0,\"ticks\":\"\"},\"colorscale\":[[0.0,\"#0d0887\"],[0.1111111111111111,\"#46039f\"],[0.2222222222222222,\"#7201a8\"],[0.3333333333333333,\"#9c179e\"],[0.4444444444444444,\"#bd3786\"],[0.5555555555555556,\"#d8576b\"],[0.6666666666666666,\"#ed7953\"],[0.7777777777777778,\"#fb9f3a\"],[0.8888888888888888,\"#fdca26\"],[1.0,\"#f0f921\"]]}],\"heatmap\":[{\"type\":\"heatmap\",\"colorbar\":{\"outlinewidth\":0,\"ticks\":\"\"},\"colorscale\":[[0.0,\"#0d0887\"],[0.1111111111111111,\"#46039f\"],[0.2222222222222222,\"#7201a8\"],[0.3333333333333333,\"#9c179e\"],[0.4444444444444444,\"#bd3786\"],[0.5555555555555556,\"#d8576b\"],[0.6666666666666666,\"#ed7953\"],[0.7777777777777778,\"#fb9f3a\"],[0.8888888888888888,\"#fdca26\"],[1.0,\"#f0f921\"]]}],\"heatmapgl\":[{\"type\":\"heatmapgl\",\"colorbar\":{\"outlinewidth\":0,\"ticks\":\"\"},\"colorscale\":[[0.0,\"#0d0887\"],[0.1111111111111111,\"#46039f\"],[0.2222222222222222,\"#7201a8\"],[0.3333333333333333,\"#9c179e\"],[0.4444444444444444,\"#bd3786\"],[0.5555555555555556,\"#d8576b\"],[0.6666666666666666,\"#ed7953\"],[0.7777777777777778,\"#fb9f3a\"],[0.8888888888888888,\"#fdca26\"],[1.0,\"#f0f921\"]]}],\"contourcarpet\":[{\"type\":\"contourcarpet\",\"colorbar\":{\"outlinewidth\":0,\"ticks\":\"\"}}],\"contour\":[{\"type\":\"contour\",\"colorbar\":{\"outlinewidth\":0,\"ticks\":\"\"},\"colorscale\":[[0.0,\"#0d0887\"],[0.1111111111111111,\"#46039f\"],[0.2222222222222222,\"#7201a8\"],[0.3333333333333333,\"#9c179e\"],[0.4444444444444444,\"#bd3786\"],[0.5555555555555556,\"#d8576b\"],[0.6666666666666666,\"#ed7953\"],[0.7777777777777778,\"#fb9f3a\"],[0.8888888888888888,\"#fdca26\"],[1.0,\"#f0f921\"]]}],\"surface\":[{\"type\":\"surface\",\"colorbar\":{\"outlinewidth\":0,\"ticks\":\"\"},\"colorscale\":[[0.0,\"#0d0887\"],[0.1111111111111111,\"#46039f\"],[0.2222222222222222,\"#7201a8\"],[0.3333333333333333,\"#9c179e\"],[0.4444444444444444,\"#bd3786\"],[0.5555555555555556,\"#d8576b\"],[0.6666666666666666,\"#ed7953\"],[0.7777777777777778,\"#fb9f3a\"],[0.8888888888888888,\"#fdca26\"],[1.0,\"#f0f921\"]]}],\"mesh3d\":[{\"type\":\"mesh3d\",\"colorbar\":{\"outlinewidth\":0,\"ticks\":\"\"}}],\"scatter\":[{\"fillpattern\":{\"fillmode\":\"overlay\",\"size\":10,\"solidity\":0.2},\"type\":\"scatter\"}],\"parcoords\":[{\"type\":\"parcoords\",\"line\":{\"colorbar\":{\"outlinewidth\":0,\"ticks\":\"\"}}}],\"scatterpolargl\":[{\"type\":\"scatterpolargl\",\"marker\":{\"colorbar\":{\"outlinewidth\":0,\"ticks\":\"\"}}}],\"bar\":[{\"error_x\":{\"color\":\"#2a3f5f\"},\"error_y\":{\"color\":\"#2a3f5f\"},\"marker\":{\"line\":{\"color\":\"#E5ECF6\",\"width\":0.5},\"pattern\":{\"fillmode\":\"overlay\",\"size\":10,\"solidity\":0.2}},\"type\":\"bar\"}],\"scattergeo\":[{\"type\":\"scattergeo\",\"marker\":{\"colorbar\":{\"outlinewidth\":0,\"ticks\":\"\"}}}],\"scatterpolar\":[{\"type\":\"scatterpolar\",\"marker\":{\"colorbar\":{\"outlinewidth\":0,\"ticks\":\"\"}}}],\"histogram\":[{\"marker\":{\"pattern\":{\"fillmode\":\"overlay\",\"size\":10,\"solidity\":0.2}},\"type\":\"histogram\"}],\"scattergl\":[{\"type\":\"scattergl\",\"marker\":{\"colorbar\":{\"outlinewidth\":0,\"ticks\":\"\"}}}],\"scatter3d\":[{\"type\":\"scatter3d\",\"line\":{\"colorbar\":{\"outlinewidth\":0,\"ticks\":\"\"}},\"marker\":{\"colorbar\":{\"outlinewidth\":0,\"ticks\":\"\"}}}],\"scattermapbox\":[{\"type\":\"scattermapbox\",\"marker\":{\"colorbar\":{\"outlinewidth\":0,\"ticks\":\"\"}}}],\"scatterternary\":[{\"type\":\"scatterternary\",\"marker\":{\"colorbar\":{\"outlinewidth\":0,\"ticks\":\"\"}}}],\"scattercarpet\":[{\"type\":\"scattercarpet\",\"marker\":{\"colorbar\":{\"outlinewidth\":0,\"ticks\":\"\"}}}],\"carpet\":[{\"aaxis\":{\"endlinecolor\":\"#2a3f5f\",\"gridcolor\":\"white\",\"linecolor\":\"white\",\"minorgridcolor\":\"white\",\"startlinecolor\":\"#2a3f5f\"},\"baxis\":{\"endlinecolor\":\"#2a3f5f\",\"gridcolor\":\"white\",\"linecolor\":\"white\",\"minorgridcolor\":\"white\",\"startlinecolor\":\"#2a3f5f\"},\"type\":\"carpet\"}],\"table\":[{\"cells\":{\"fill\":{\"color\":\"#EBF0F8\"},\"line\":{\"color\":\"white\"}},\"header\":{\"fill\":{\"color\":\"#C8D4E3\"},\"line\":{\"color\":\"white\"}},\"type\":\"table\"}],\"barpolar\":[{\"marker\":{\"line\":{\"color\":\"#E5ECF6\",\"width\":0.5},\"pattern\":{\"fillmode\":\"overlay\",\"size\":10,\"solidity\":0.2}},\"type\":\"barpolar\"}],\"pie\":[{\"automargin\":true,\"type\":\"pie\"}]},\"layout\":{\"autotypenumbers\":\"strict\",\"colorway\":[\"#636efa\",\"#EF553B\",\"#00cc96\",\"#ab63fa\",\"#FFA15A\",\"#19d3f3\",\"#FF6692\",\"#B6E880\",\"#FF97FF\",\"#FECB52\"],\"font\":{\"color\":\"#2a3f5f\"},\"hovermode\":\"closest\",\"hoverlabel\":{\"align\":\"left\"},\"paper_bgcolor\":\"white\",\"plot_bgcolor\":\"#E5ECF6\",\"polar\":{\"bgcolor\":\"#E5ECF6\",\"angularaxis\":{\"gridcolor\":\"white\",\"linecolor\":\"white\",\"ticks\":\"\"},\"radialaxis\":{\"gridcolor\":\"white\",\"linecolor\":\"white\",\"ticks\":\"\"}},\"ternary\":{\"bgcolor\":\"#E5ECF6\",\"aaxis\":{\"gridcolor\":\"white\",\"linecolor\":\"white\",\"ticks\":\"\"},\"baxis\":{\"gridcolor\":\"white\",\"linecolor\":\"white\",\"ticks\":\"\"},\"caxis\":{\"gridcolor\":\"white\",\"linecolor\":\"white\",\"ticks\":\"\"}},\"coloraxis\":{\"colorbar\":{\"outlinewidth\":0,\"ticks\":\"\"}},\"colorscale\":{\"sequential\":[[0.0,\"#0d0887\"],[0.1111111111111111,\"#46039f\"],[0.2222222222222222,\"#7201a8\"],[0.3333333333333333,\"#9c179e\"],[0.4444444444444444,\"#bd3786\"],[0.5555555555555556,\"#d8576b\"],[0.6666666666666666,\"#ed7953\"],[0.7777777777777778,\"#fb9f3a\"],[0.8888888888888888,\"#fdca26\"],[1.0,\"#f0f921\"]],\"sequentialminus\":[[0.0,\"#0d0887\"],[0.1111111111111111,\"#46039f\"],[0.2222222222222222,\"#7201a8\"],[0.3333333333333333,\"#9c179e\"],[0.4444444444444444,\"#bd3786\"],[0.5555555555555556,\"#d8576b\"],[0.6666666666666666,\"#ed7953\"],[0.7777777777777778,\"#fb9f3a\"],[0.8888888888888888,\"#fdca26\"],[1.0,\"#f0f921\"]],\"diverging\":[[0,\"#8e0152\"],[0.1,\"#c51b7d\"],[0.2,\"#de77ae\"],[0.3,\"#f1b6da\"],[0.4,\"#fde0ef\"],[0.5,\"#f7f7f7\"],[0.6,\"#e6f5d0\"],[0.7,\"#b8e186\"],[0.8,\"#7fbc41\"],[0.9,\"#4d9221\"],[1,\"#276419\"]]},\"xaxis\":{\"gridcolor\":\"white\",\"linecolor\":\"white\",\"ticks\":\"\",\"title\":{\"standoff\":15},\"zerolinecolor\":\"white\",\"automargin\":true,\"zerolinewidth\":2},\"yaxis\":{\"gridcolor\":\"white\",\"linecolor\":\"white\",\"ticks\":\"\",\"title\":{\"standoff\":15},\"zerolinecolor\":\"white\",\"automargin\":true,\"zerolinewidth\":2},\"scene\":{\"xaxis\":{\"backgroundcolor\":\"#E5ECF6\",\"gridcolor\":\"white\",\"linecolor\":\"white\",\"showbackground\":true,\"ticks\":\"\",\"zerolinecolor\":\"white\",\"gridwidth\":2},\"yaxis\":{\"backgroundcolor\":\"#E5ECF6\",\"gridcolor\":\"white\",\"linecolor\":\"white\",\"showbackground\":true,\"ticks\":\"\",\"zerolinecolor\":\"white\",\"gridwidth\":2},\"zaxis\":{\"backgroundcolor\":\"#E5ECF6\",\"gridcolor\":\"white\",\"linecolor\":\"white\",\"showbackground\":true,\"ticks\":\"\",\"zerolinecolor\":\"white\",\"gridwidth\":2}},\"shapedefaults\":{\"line\":{\"color\":\"#2a3f5f\"}},\"annotationdefaults\":{\"arrowcolor\":\"#2a3f5f\",\"arrowhead\":0,\"arrowwidth\":1},\"geo\":{\"bgcolor\":\"white\",\"landcolor\":\"#E5ECF6\",\"subunitcolor\":\"white\",\"showland\":true,\"showlakes\":true,\"lakecolor\":\"white\"},\"title\":{\"x\":0.05},\"mapbox\":{\"style\":\"light\"}}},\"xaxis\":{\"anchor\":\"y\",\"domain\":[0.0,0.18400000000000002],\"title\":{\"text\":\"ACT_ED_2\"}},\"yaxis\":{\"anchor\":\"x\",\"domain\":[0.0,0.7326],\"title\":{\"text\":\"UNEMP_ED_2\"}},\"xaxis2\":{\"anchor\":\"y2\",\"domain\":[0.20400000000000001,0.388],\"matches\":\"x\",\"title\":{\"text\":\"ACT_ED_2\"}},\"yaxis2\":{\"anchor\":\"x2\",\"domain\":[0.0,0.7326],\"matches\":\"y\",\"showticklabels\":false},\"xaxis3\":{\"anchor\":\"y3\",\"domain\":[0.40800000000000003,0.5920000000000001],\"matches\":\"x\",\"title\":{\"text\":\"ACT_ED_2\"}},\"yaxis3\":{\"anchor\":\"x3\",\"domain\":[0.0,0.7326],\"matches\":\"y\",\"showticklabels\":false},\"xaxis4\":{\"anchor\":\"y4\",\"domain\":[0.6120000000000001,0.7960000000000002],\"matches\":\"x\",\"title\":{\"text\":\"ACT_ED_2\"}},\"yaxis4\":{\"anchor\":\"x4\",\"domain\":[0.0,0.7326],\"matches\":\"y\",\"showticklabels\":false},\"xaxis5\":{\"anchor\":\"y5\",\"domain\":[0.8160000000000001,1.0],\"matches\":\"x\",\"title\":{\"text\":\"ACT_ED_2\"}},\"yaxis5\":{\"anchor\":\"x5\",\"domain\":[0.0,0.7326],\"matches\":\"y\",\"showticklabels\":false},\"xaxis6\":{\"anchor\":\"y6\",\"domain\":[0.0,0.18400000000000002],\"matches\":\"x\",\"showticklabels\":false,\"showgrid\":true},\"yaxis6\":{\"anchor\":\"x6\",\"domain\":[0.7426,1.0],\"matches\":\"y6\",\"showticklabels\":false,\"showline\":false,\"ticks\":\"\",\"showgrid\":false},\"xaxis7\":{\"anchor\":\"y7\",\"domain\":[0.20400000000000001,0.388],\"matches\":\"x\",\"showticklabels\":false,\"showgrid\":true},\"yaxis7\":{\"anchor\":\"x7\",\"domain\":[0.7426,1.0],\"matches\":\"y6\",\"showticklabels\":false,\"showline\":false,\"ticks\":\"\",\"showgrid\":false},\"xaxis8\":{\"anchor\":\"y8\",\"domain\":[0.40800000000000003,0.5920000000000001],\"matches\":\"x\",\"showticklabels\":false,\"showgrid\":true},\"yaxis8\":{\"anchor\":\"x8\",\"domain\":[0.7426,1.0],\"matches\":\"y6\",\"showticklabels\":false,\"showline\":false,\"ticks\":\"\",\"showgrid\":false},\"xaxis9\":{\"anchor\":\"y9\",\"domain\":[0.6120000000000001,0.7960000000000002],\"matches\":\"x\",\"showticklabels\":false,\"showgrid\":true},\"yaxis9\":{\"anchor\":\"x9\",\"domain\":[0.7426,1.0],\"matches\":\"y6\",\"showticklabels\":false,\"showline\":false,\"ticks\":\"\",\"showgrid\":false},\"xaxis10\":{\"anchor\":\"y10\",\"domain\":[0.8160000000000001,1.0],\"matches\":\"x\",\"showticklabels\":false,\"showgrid\":true},\"yaxis10\":{\"anchor\":\"x10\",\"domain\":[0.7426,1.0],\"matches\":\"y6\",\"showticklabels\":false,\"showline\":false,\"ticks\":\"\",\"showgrid\":false},\"annotations\":[{\"font\":{},\"showarrow\":false,\"text\":\"Year=2018\",\"x\":0.09200000000000001,\"xanchor\":\"center\",\"xref\":\"paper\",\"y\":1.0,\"yanchor\":\"bottom\",\"yref\":\"paper\"},{\"font\":{},\"showarrow\":false,\"text\":\"Year=2019\",\"x\":0.29600000000000004,\"xanchor\":\"center\",\"xref\":\"paper\",\"y\":1.0,\"yanchor\":\"bottom\",\"yref\":\"paper\"},{\"font\":{},\"showarrow\":false,\"text\":\"Year=2020\",\"x\":0.5,\"xanchor\":\"center\",\"xref\":\"paper\",\"y\":1.0,\"yanchor\":\"bottom\",\"yref\":\"paper\"},{\"font\":{},\"showarrow\":false,\"text\":\"Year=2021\",\"x\":0.7040000000000002,\"xanchor\":\"center\",\"xref\":\"paper\",\"y\":1.0,\"yanchor\":\"bottom\",\"yref\":\"paper\"},{\"font\":{},\"showarrow\":false,\"text\":\"Year=2022\",\"x\":0.908,\"xanchor\":\"center\",\"xref\":\"paper\",\"y\":1.0,\"yanchor\":\"bottom\",\"yref\":\"paper\"}],\"legend\":{\"title\":{\"text\":\"Citizenship\"},\"tracegroupgap\":0},\"margin\":{\"t\":60}},                        {\"responsive\": true}                    ).then(function(){\n",
              "                            \n",
              "var gd = document.getElementById('04dcb88d-9d80-45ff-82be-017cbaa28ecb');\n",
              "var x = new MutationObserver(function (mutations, observer) {{\n",
              "        var display = window.getComputedStyle(gd).display;\n",
              "        if (!display || display === 'none') {{\n",
              "            console.log([gd, 'removed!']);\n",
              "            Plotly.purge(gd);\n",
              "            observer.disconnect();\n",
              "        }}\n",
              "}});\n",
              "\n",
              "// Listen for the removal of the full notebook cells\n",
              "var notebookContainer = gd.closest('#notebook-container');\n",
              "if (notebookContainer) {{\n",
              "    x.observe(notebookContainer, {childList: true});\n",
              "}}\n",
              "\n",
              "// Listen for the clearing of the current output cell\n",
              "var outputEl = gd.closest('.output');\n",
              "if (outputEl) {{\n",
              "    x.observe(outputEl, {childList: true});\n",
              "}}\n",
              "\n",
              "                        })                };                            </script>        </div>\n",
              "</body>\n",
              "</html>"
            ]
          },
          "metadata": {},
          "output_type": "display_data"
        }
      ],
      "source": [
        "# >>> COLLATERAL STUDY >>> LEVEL OF EDUCATION 2 >>>  NO TERRITORY DISCRIMINANT\n",
        "\n",
        "fig4 = px.scatter(dunnoDf, x=\"ACT_ED_2\", y=\"UNEMP_ED_2\", color=\"Citizenship\", facet_col=\"Year\",\n",
        "                  marginal_x=\"box\")\n",
        "fig4.show()\n"
      ]
    },
    {
      "cell_type": "code",
      "execution_count": 11,
      "metadata": {
        "colab": {
          "base_uri": "https://localhost:8080/",
          "height": 542
        },
        "id": "p6k58zwDOLLh",
        "outputId": "9b5f6378-5bc7-4593-b62d-91bda52723ff"
      },
      "outputs": [
        {
          "data": {
            "text/html": [
              "<html>\n",
              "<head><meta charset=\"utf-8\" /></head>\n",
              "<body>\n",
              "    <div>            <script src=\"https://cdnjs.cloudflare.com/ajax/libs/mathjax/2.7.5/MathJax.js?config=TeX-AMS-MML_SVG\"></script><script type=\"text/javascript\">if (window.MathJax && window.MathJax.Hub && window.MathJax.Hub.Config) {window.MathJax.Hub.Config({SVG: {font: \"STIX-Web\"}});}</script>                <script type=\"text/javascript\">window.PlotlyConfig = {MathJaxConfig: 'local'};</script>\n",
              "        <script charset=\"utf-8\" src=\"https://cdn.plot.ly/plotly-2.24.1.min.js\"></script>                <div id=\"8b238323-9151-4bd7-92e3-eac0b77cbb37\" class=\"plotly-graph-div\" style=\"height:525px; width:100%;\"></div>            <script type=\"text/javascript\">                                    window.PLOTLYENV=window.PLOTLYENV || {};                                    if (document.getElementById(\"8b238323-9151-4bd7-92e3-eac0b77cbb37\")) {                    Plotly.newPlot(                        \"8b238323-9151-4bd7-92e3-eac0b77cbb37\",                        [{\"hovertemplate\":\"Citizenship=foreign\\u003cbr\\u003eYear=2018\\u003cbr\\u003eACT_ED_3=%{x}\\u003cbr\\u003eUNEMP_ED_3=%{y}\\u003cextra\\u003e\\u003c\\u002fextra\\u003e\",\"legendgroup\":\"foreign\",\"marker\":{\"color\":\"#636efa\",\"symbol\":\"circle\"},\"mode\":\"markers\",\"name\":\"foreign\",\"orientation\":\"v\",\"showlegend\":true,\"x\":[77.12419,71.54466500000001,76.686424,76.487557,76.82749033333334],\"xaxis\":\"x\",\"y\":[10.804080666666666,17.189989999999998,9.137413333333331,9.819867333333333,8.657254333333332],\"yaxis\":\"y\",\"type\":\"scatter\"},{\"alignmentgroup\":\"True\",\"hovertemplate\":\"Citizenship=foreign\\u003cbr\\u003eYear=2018\\u003cbr\\u003eACT_ED_3=%{x}\\u003cextra\\u003e\\u003c\\u002fextra\\u003e\",\"legendgroup\":\"foreign\",\"marker\":{\"color\":\"#636efa\",\"symbol\":\"circle\"},\"name\":\"foreign\",\"notched\":true,\"offsetgroup\":\"foreign\",\"showlegend\":false,\"x\":[77.12419,71.54466500000001,76.686424,76.487557,76.82749033333334],\"xaxis\":\"x6\",\"yaxis\":\"y6\",\"type\":\"box\"},{\"hovertemplate\":\"Citizenship=foreign\\u003cbr\\u003eYear=2019\\u003cbr\\u003eACT_ED_3=%{x}\\u003cbr\\u003eUNEMP_ED_3=%{y}\\u003cextra\\u003e\\u003c\\u002fextra\\u003e\",\"legendgroup\":\"foreign\",\"marker\":{\"color\":\"#636efa\",\"symbol\":\"circle\"},\"mode\":\"markers\",\"name\":\"foreign\",\"orientation\":\"v\",\"showlegend\":false,\"x\":[75.93707966666666,65.841146,76.713407,76.943319,76.536952],\"xaxis\":\"x2\",\"y\":[11.434287,16.836757666666667,10.391808,10.068177,10.642936],\"yaxis\":\"y2\",\"type\":\"scatter\"},{\"alignmentgroup\":\"True\",\"hovertemplate\":\"Citizenship=foreign\\u003cbr\\u003eYear=2019\\u003cbr\\u003eACT_ED_3=%{x}\\u003cextra\\u003e\\u003c\\u002fextra\\u003e\",\"legendgroup\":\"foreign\",\"marker\":{\"color\":\"#636efa\",\"symbol\":\"circle\"},\"name\":\"foreign\",\"notched\":true,\"offsetgroup\":\"foreign\",\"showlegend\":false,\"x\":[75.93707966666666,65.841146,76.713407,76.943319,76.536952],\"xaxis\":\"x7\",\"yaxis\":\"y7\",\"type\":\"box\"},{\"hovertemplate\":\"Citizenship=foreign\\u003cbr\\u003eYear=2020\\u003cbr\\u003eACT_ED_3=%{x}\\u003cbr\\u003eUNEMP_ED_3=%{y}\\u003cextra\\u003e\\u003c\\u002fextra\\u003e\",\"legendgroup\":\"foreign\",\"marker\":{\"color\":\"#636efa\",\"symbol\":\"circle\"},\"mode\":\"markers\",\"name\":\"foreign\",\"orientation\":\"v\",\"showlegend\":false,\"x\":[68.671068,55.00540566666666,71.332343,75.43706633333333,68.043631],\"xaxis\":\"x3\",\"y\":[8.624534666666667,17.95048733333333,10.897149,11.987181333333334,9.928719666666666],\"yaxis\":\"y3\",\"type\":\"scatter\"},{\"alignmentgroup\":\"True\",\"hovertemplate\":\"Citizenship=foreign\\u003cbr\\u003eYear=2020\\u003cbr\\u003eACT_ED_3=%{x}\\u003cextra\\u003e\\u003c\\u002fextra\\u003e\",\"legendgroup\":\"foreign\",\"marker\":{\"color\":\"#636efa\",\"symbol\":\"circle\"},\"name\":\"foreign\",\"notched\":true,\"offsetgroup\":\"foreign\",\"showlegend\":false,\"x\":[68.671068,55.00540566666666,71.332343,75.43706633333333,68.043631],\"xaxis\":\"x8\",\"yaxis\":\"y8\",\"type\":\"box\"},{\"hovertemplate\":\"Citizenship=foreign\\u003cbr\\u003eYear=2021\\u003cbr\\u003eACT_ED_3=%{x}\\u003cbr\\u003eUNEMP_ED_3=%{y}\\u003cextra\\u003e\\u003c\\u002fextra\\u003e\",\"legendgroup\":\"foreign\",\"marker\":{\"color\":\"#636efa\",\"symbol\":\"circle\"},\"mode\":\"markers\",\"name\":\"foreign\",\"orientation\":\"v\",\"showlegend\":false,\"x\":[71.376057,58.843586,74.72164566666667,77.03671733333333,72.853186],\"xaxis\":\"x4\",\"y\":[18.102599666666663,19.874336,11.026851666666667,9.334387666666666,12.471010666666666],\"yaxis\":\"y4\",\"type\":\"scatter\"},{\"alignmentgroup\":\"True\",\"hovertemplate\":\"Citizenship=foreign\\u003cbr\\u003eYear=2021\\u003cbr\\u003eACT_ED_3=%{x}\\u003cextra\\u003e\\u003c\\u002fextra\\u003e\",\"legendgroup\":\"foreign\",\"marker\":{\"color\":\"#636efa\",\"symbol\":\"circle\"},\"name\":\"foreign\",\"notched\":true,\"offsetgroup\":\"foreign\",\"showlegend\":false,\"x\":[71.376057,58.843586,74.72164566666667,77.03671733333333,72.853186],\"xaxis\":\"x9\",\"yaxis\":\"y9\",\"type\":\"box\"},{\"hovertemplate\":\"Citizenship=foreign\\u003cbr\\u003eYear=2022\\u003cbr\\u003eACT_ED_3=%{x}\\u003cbr\\u003eUNEMP_ED_3=%{y}\\u003cextra\\u003e\\u003c\\u002fextra\\u003e\",\"legendgroup\":\"foreign\",\"marker\":{\"color\":\"#636efa\",\"symbol\":\"circle\"},\"mode\":\"markers\",\"name\":\"foreign\",\"orientation\":\"v\",\"showlegend\":false,\"x\":[74.44401466666666,60.23582133333334,76.511609,78.27626066666666,75.13189633333333],\"xaxis\":\"x5\",\"y\":[12.505328999999998,17.563798,8.387245333333333,6.208407666666666,10.163093],\"yaxis\":\"y5\",\"type\":\"scatter\"},{\"alignmentgroup\":\"True\",\"hovertemplate\":\"Citizenship=foreign\\u003cbr\\u003eYear=2022\\u003cbr\\u003eACT_ED_3=%{x}\\u003cextra\\u003e\\u003c\\u002fextra\\u003e\",\"legendgroup\":\"foreign\",\"marker\":{\"color\":\"#636efa\",\"symbol\":\"circle\"},\"name\":\"foreign\",\"notched\":true,\"offsetgroup\":\"foreign\",\"showlegend\":false,\"x\":[74.44401466666666,60.23582133333334,76.511609,78.27626066666666,75.13189633333333],\"xaxis\":\"x10\",\"yaxis\":\"y10\",\"type\":\"box\"},{\"hovertemplate\":\"Citizenship=italian\\u003cbr\\u003eYear=2018\\u003cbr\\u003eACT_ED_3=%{x}\\u003cbr\\u003eUNEMP_ED_3=%{y}\\u003cextra\\u003e\\u003c\\u002fextra\\u003e\",\"legendgroup\":\"italian\",\"marker\":{\"color\":\"#EF553B\",\"symbol\":\"circle\"},\"mode\":\"markers\",\"name\":\"italian\",\"orientation\":\"v\",\"showlegend\":true,\"x\":[83.54688800000001,74.639067,86.14179633333333,85.72421800000001,86.43932033333333],\"xaxis\":\"x\",\"y\":[4.986897666666667,11.038761333333332,3.335926333333333,3.139968,3.4741703333333334],\"yaxis\":\"y\",\"type\":\"scatter\"},{\"alignmentgroup\":\"True\",\"hovertemplate\":\"Citizenship=italian\\u003cbr\\u003eYear=2018\\u003cbr\\u003eACT_ED_3=%{x}\\u003cextra\\u003e\\u003c\\u002fextra\\u003e\",\"legendgroup\":\"italian\",\"marker\":{\"color\":\"#EF553B\",\"symbol\":\"circle\"},\"name\":\"italian\",\"notched\":true,\"offsetgroup\":\"italian\",\"showlegend\":false,\"x\":[83.54688800000001,74.639067,86.14179633333333,85.72421800000001,86.43932033333333],\"xaxis\":\"x6\",\"yaxis\":\"y6\",\"type\":\"box\"},{\"hovertemplate\":\"Citizenship=italian\\u003cbr\\u003eYear=2019\\u003cbr\\u003eACT_ED_3=%{x}\\u003cbr\\u003eUNEMP_ED_3=%{y}\\u003cextra\\u003e\\u003c\\u002fextra\\u003e\",\"legendgroup\":\"italian\",\"marker\":{\"color\":\"#EF553B\",\"symbol\":\"circle\"},\"mode\":\"markers\",\"name\":\"italian\",\"orientation\":\"v\",\"showlegend\":false,\"x\":[83.86903733333334,75.09764666666666,85.91028033333333,85.43621333333333,86.25669266666667],\"xaxis\":\"x2\",\"y\":[5.102060666666667,10.296681,3.097107,3.2483606666666667,2.987756333333333],\"yaxis\":\"y2\",\"type\":\"scatter\"},{\"alignmentgroup\":\"True\",\"hovertemplate\":\"Citizenship=italian\\u003cbr\\u003eYear=2019\\u003cbr\\u003eACT_ED_3=%{x}\\u003cextra\\u003e\\u003c\\u002fextra\\u003e\",\"legendgroup\":\"italian\",\"marker\":{\"color\":\"#EF553B\",\"symbol\":\"circle\"},\"name\":\"italian\",\"notched\":true,\"offsetgroup\":\"italian\",\"showlegend\":false,\"x\":[83.86903733333334,75.09764666666666,85.91028033333333,85.43621333333333,86.25669266666667],\"xaxis\":\"x7\",\"yaxis\":\"y7\",\"type\":\"box\"},{\"hovertemplate\":\"Citizenship=italian\\u003cbr\\u003eYear=2020\\u003cbr\\u003eACT_ED_3=%{x}\\u003cbr\\u003eUNEMP_ED_3=%{y}\\u003cextra\\u003e\\u003c\\u002fextra\\u003e\",\"legendgroup\":\"italian\",\"marker\":{\"color\":\"#EF553B\",\"symbol\":\"circle\"},\"mode\":\"markers\",\"name\":\"italian\",\"orientation\":\"v\",\"showlegend\":false,\"x\":[82.418189,74.37193733333334,84.27163466666667,83.74043266666666,84.66457100000001],\"xaxis\":\"x3\",\"y\":[5.024784333333333,9.218436,3.224007333333333,3.2606836666666665,3.1971976666666664],\"yaxis\":\"y3\",\"type\":\"scatter\"},{\"alignmentgroup\":\"True\",\"hovertemplate\":\"Citizenship=italian\\u003cbr\\u003eYear=2020\\u003cbr\\u003eACT_ED_3=%{x}\\u003cextra\\u003e\\u003c\\u002fextra\\u003e\",\"legendgroup\":\"italian\",\"marker\":{\"color\":\"#EF553B\",\"symbol\":\"circle\"},\"name\":\"italian\",\"notched\":true,\"offsetgroup\":\"italian\",\"showlegend\":false,\"x\":[82.418189,74.37193733333334,84.27163466666667,83.74043266666666,84.66457100000001],\"xaxis\":\"x8\",\"yaxis\":\"y8\",\"type\":\"box\"},{\"hovertemplate\":\"Citizenship=italian\\u003cbr\\u003eYear=2021\\u003cbr\\u003eACT_ED_3=%{x}\\u003cbr\\u003eUNEMP_ED_3=%{y}\\u003cextra\\u003e\\u003c\\u002fextra\\u003e\",\"legendgroup\":\"italian\",\"marker\":{\"color\":\"#EF553B\",\"symbol\":\"circle\"},\"mode\":\"markers\",\"name\":\"italian\",\"orientation\":\"v\",\"showlegend\":false,\"x\":[83.89939499999998,75.41276366666666,85.55360566666667,85.298496,85.74234866666666],\"xaxis\":\"x4\",\"y\":[4.150023999999999,8.411085,2.9750110000000003,2.7773066666666666,3.120391333333333],\"yaxis\":\"y4\",\"type\":\"scatter\"},{\"alignmentgroup\":\"True\",\"hovertemplate\":\"Citizenship=italian\\u003cbr\\u003eYear=2021\\u003cbr\\u003eACT_ED_3=%{x}\\u003cextra\\u003e\\u003c\\u002fextra\\u003e\",\"legendgroup\":\"italian\",\"marker\":{\"color\":\"#EF553B\",\"symbol\":\"circle\"},\"name\":\"italian\",\"notched\":true,\"offsetgroup\":\"italian\",\"showlegend\":false,\"x\":[83.89939499999998,75.41276366666666,85.55360566666667,85.298496,85.74234866666666],\"xaxis\":\"x9\",\"yaxis\":\"y9\",\"type\":\"box\"},{\"hovertemplate\":\"Citizenship=italian\\u003cbr\\u003eYear=2022\\u003cbr\\u003eACT_ED_3=%{x}\\u003cbr\\u003eUNEMP_ED_3=%{y}\\u003cextra\\u003e\\u003c\\u002fextra\\u003e\",\"legendgroup\":\"italian\",\"marker\":{\"color\":\"#EF553B\",\"symbol\":\"circle\"},\"mode\":\"markers\",\"name\":\"italian\",\"orientation\":\"v\",\"showlegend\":false,\"x\":[83.92315933333333,75.94216300000001,86.30740766666666,86.23249,86.36194033333334],\"xaxis\":\"x5\",\"y\":[3.369946666666667,6.812686666666667,2.391241,2.2091576666666666,2.522901],\"yaxis\":\"y5\",\"type\":\"scatter\"},{\"alignmentgroup\":\"True\",\"hovertemplate\":\"Citizenship=italian\\u003cbr\\u003eYear=2022\\u003cbr\\u003eACT_ED_3=%{x}\\u003cextra\\u003e\\u003c\\u002fextra\\u003e\",\"legendgroup\":\"italian\",\"marker\":{\"color\":\"#EF553B\",\"symbol\":\"circle\"},\"name\":\"italian\",\"notched\":true,\"offsetgroup\":\"italian\",\"showlegend\":false,\"x\":[83.92315933333333,75.94216300000001,86.30740766666666,86.23249,86.36194033333334],\"xaxis\":\"x10\",\"yaxis\":\"y10\",\"type\":\"box\"}],                        {\"template\":{\"data\":{\"histogram2dcontour\":[{\"type\":\"histogram2dcontour\",\"colorbar\":{\"outlinewidth\":0,\"ticks\":\"\"},\"colorscale\":[[0.0,\"#0d0887\"],[0.1111111111111111,\"#46039f\"],[0.2222222222222222,\"#7201a8\"],[0.3333333333333333,\"#9c179e\"],[0.4444444444444444,\"#bd3786\"],[0.5555555555555556,\"#d8576b\"],[0.6666666666666666,\"#ed7953\"],[0.7777777777777778,\"#fb9f3a\"],[0.8888888888888888,\"#fdca26\"],[1.0,\"#f0f921\"]]}],\"choropleth\":[{\"type\":\"choropleth\",\"colorbar\":{\"outlinewidth\":0,\"ticks\":\"\"}}],\"histogram2d\":[{\"type\":\"histogram2d\",\"colorbar\":{\"outlinewidth\":0,\"ticks\":\"\"},\"colorscale\":[[0.0,\"#0d0887\"],[0.1111111111111111,\"#46039f\"],[0.2222222222222222,\"#7201a8\"],[0.3333333333333333,\"#9c179e\"],[0.4444444444444444,\"#bd3786\"],[0.5555555555555556,\"#d8576b\"],[0.6666666666666666,\"#ed7953\"],[0.7777777777777778,\"#fb9f3a\"],[0.8888888888888888,\"#fdca26\"],[1.0,\"#f0f921\"]]}],\"heatmap\":[{\"type\":\"heatmap\",\"colorbar\":{\"outlinewidth\":0,\"ticks\":\"\"},\"colorscale\":[[0.0,\"#0d0887\"],[0.1111111111111111,\"#46039f\"],[0.2222222222222222,\"#7201a8\"],[0.3333333333333333,\"#9c179e\"],[0.4444444444444444,\"#bd3786\"],[0.5555555555555556,\"#d8576b\"],[0.6666666666666666,\"#ed7953\"],[0.7777777777777778,\"#fb9f3a\"],[0.8888888888888888,\"#fdca26\"],[1.0,\"#f0f921\"]]}],\"heatmapgl\":[{\"type\":\"heatmapgl\",\"colorbar\":{\"outlinewidth\":0,\"ticks\":\"\"},\"colorscale\":[[0.0,\"#0d0887\"],[0.1111111111111111,\"#46039f\"],[0.2222222222222222,\"#7201a8\"],[0.3333333333333333,\"#9c179e\"],[0.4444444444444444,\"#bd3786\"],[0.5555555555555556,\"#d8576b\"],[0.6666666666666666,\"#ed7953\"],[0.7777777777777778,\"#fb9f3a\"],[0.8888888888888888,\"#fdca26\"],[1.0,\"#f0f921\"]]}],\"contourcarpet\":[{\"type\":\"contourcarpet\",\"colorbar\":{\"outlinewidth\":0,\"ticks\":\"\"}}],\"contour\":[{\"type\":\"contour\",\"colorbar\":{\"outlinewidth\":0,\"ticks\":\"\"},\"colorscale\":[[0.0,\"#0d0887\"],[0.1111111111111111,\"#46039f\"],[0.2222222222222222,\"#7201a8\"],[0.3333333333333333,\"#9c179e\"],[0.4444444444444444,\"#bd3786\"],[0.5555555555555556,\"#d8576b\"],[0.6666666666666666,\"#ed7953\"],[0.7777777777777778,\"#fb9f3a\"],[0.8888888888888888,\"#fdca26\"],[1.0,\"#f0f921\"]]}],\"surface\":[{\"type\":\"surface\",\"colorbar\":{\"outlinewidth\":0,\"ticks\":\"\"},\"colorscale\":[[0.0,\"#0d0887\"],[0.1111111111111111,\"#46039f\"],[0.2222222222222222,\"#7201a8\"],[0.3333333333333333,\"#9c179e\"],[0.4444444444444444,\"#bd3786\"],[0.5555555555555556,\"#d8576b\"],[0.6666666666666666,\"#ed7953\"],[0.7777777777777778,\"#fb9f3a\"],[0.8888888888888888,\"#fdca26\"],[1.0,\"#f0f921\"]]}],\"mesh3d\":[{\"type\":\"mesh3d\",\"colorbar\":{\"outlinewidth\":0,\"ticks\":\"\"}}],\"scatter\":[{\"fillpattern\":{\"fillmode\":\"overlay\",\"size\":10,\"solidity\":0.2},\"type\":\"scatter\"}],\"parcoords\":[{\"type\":\"parcoords\",\"line\":{\"colorbar\":{\"outlinewidth\":0,\"ticks\":\"\"}}}],\"scatterpolargl\":[{\"type\":\"scatterpolargl\",\"marker\":{\"colorbar\":{\"outlinewidth\":0,\"ticks\":\"\"}}}],\"bar\":[{\"error_x\":{\"color\":\"#2a3f5f\"},\"error_y\":{\"color\":\"#2a3f5f\"},\"marker\":{\"line\":{\"color\":\"#E5ECF6\",\"width\":0.5},\"pattern\":{\"fillmode\":\"overlay\",\"size\":10,\"solidity\":0.2}},\"type\":\"bar\"}],\"scattergeo\":[{\"type\":\"scattergeo\",\"marker\":{\"colorbar\":{\"outlinewidth\":0,\"ticks\":\"\"}}}],\"scatterpolar\":[{\"type\":\"scatterpolar\",\"marker\":{\"colorbar\":{\"outlinewidth\":0,\"ticks\":\"\"}}}],\"histogram\":[{\"marker\":{\"pattern\":{\"fillmode\":\"overlay\",\"size\":10,\"solidity\":0.2}},\"type\":\"histogram\"}],\"scattergl\":[{\"type\":\"scattergl\",\"marker\":{\"colorbar\":{\"outlinewidth\":0,\"ticks\":\"\"}}}],\"scatter3d\":[{\"type\":\"scatter3d\",\"line\":{\"colorbar\":{\"outlinewidth\":0,\"ticks\":\"\"}},\"marker\":{\"colorbar\":{\"outlinewidth\":0,\"ticks\":\"\"}}}],\"scattermapbox\":[{\"type\":\"scattermapbox\",\"marker\":{\"colorbar\":{\"outlinewidth\":0,\"ticks\":\"\"}}}],\"scatterternary\":[{\"type\":\"scatterternary\",\"marker\":{\"colorbar\":{\"outlinewidth\":0,\"ticks\":\"\"}}}],\"scattercarpet\":[{\"type\":\"scattercarpet\",\"marker\":{\"colorbar\":{\"outlinewidth\":0,\"ticks\":\"\"}}}],\"carpet\":[{\"aaxis\":{\"endlinecolor\":\"#2a3f5f\",\"gridcolor\":\"white\",\"linecolor\":\"white\",\"minorgridcolor\":\"white\",\"startlinecolor\":\"#2a3f5f\"},\"baxis\":{\"endlinecolor\":\"#2a3f5f\",\"gridcolor\":\"white\",\"linecolor\":\"white\",\"minorgridcolor\":\"white\",\"startlinecolor\":\"#2a3f5f\"},\"type\":\"carpet\"}],\"table\":[{\"cells\":{\"fill\":{\"color\":\"#EBF0F8\"},\"line\":{\"color\":\"white\"}},\"header\":{\"fill\":{\"color\":\"#C8D4E3\"},\"line\":{\"color\":\"white\"}},\"type\":\"table\"}],\"barpolar\":[{\"marker\":{\"line\":{\"color\":\"#E5ECF6\",\"width\":0.5},\"pattern\":{\"fillmode\":\"overlay\",\"size\":10,\"solidity\":0.2}},\"type\":\"barpolar\"}],\"pie\":[{\"automargin\":true,\"type\":\"pie\"}]},\"layout\":{\"autotypenumbers\":\"strict\",\"colorway\":[\"#636efa\",\"#EF553B\",\"#00cc96\",\"#ab63fa\",\"#FFA15A\",\"#19d3f3\",\"#FF6692\",\"#B6E880\",\"#FF97FF\",\"#FECB52\"],\"font\":{\"color\":\"#2a3f5f\"},\"hovermode\":\"closest\",\"hoverlabel\":{\"align\":\"left\"},\"paper_bgcolor\":\"white\",\"plot_bgcolor\":\"#E5ECF6\",\"polar\":{\"bgcolor\":\"#E5ECF6\",\"angularaxis\":{\"gridcolor\":\"white\",\"linecolor\":\"white\",\"ticks\":\"\"},\"radialaxis\":{\"gridcolor\":\"white\",\"linecolor\":\"white\",\"ticks\":\"\"}},\"ternary\":{\"bgcolor\":\"#E5ECF6\",\"aaxis\":{\"gridcolor\":\"white\",\"linecolor\":\"white\",\"ticks\":\"\"},\"baxis\":{\"gridcolor\":\"white\",\"linecolor\":\"white\",\"ticks\":\"\"},\"caxis\":{\"gridcolor\":\"white\",\"linecolor\":\"white\",\"ticks\":\"\"}},\"coloraxis\":{\"colorbar\":{\"outlinewidth\":0,\"ticks\":\"\"}},\"colorscale\":{\"sequential\":[[0.0,\"#0d0887\"],[0.1111111111111111,\"#46039f\"],[0.2222222222222222,\"#7201a8\"],[0.3333333333333333,\"#9c179e\"],[0.4444444444444444,\"#bd3786\"],[0.5555555555555556,\"#d8576b\"],[0.6666666666666666,\"#ed7953\"],[0.7777777777777778,\"#fb9f3a\"],[0.8888888888888888,\"#fdca26\"],[1.0,\"#f0f921\"]],\"sequentialminus\":[[0.0,\"#0d0887\"],[0.1111111111111111,\"#46039f\"],[0.2222222222222222,\"#7201a8\"],[0.3333333333333333,\"#9c179e\"],[0.4444444444444444,\"#bd3786\"],[0.5555555555555556,\"#d8576b\"],[0.6666666666666666,\"#ed7953\"],[0.7777777777777778,\"#fb9f3a\"],[0.8888888888888888,\"#fdca26\"],[1.0,\"#f0f921\"]],\"diverging\":[[0,\"#8e0152\"],[0.1,\"#c51b7d\"],[0.2,\"#de77ae\"],[0.3,\"#f1b6da\"],[0.4,\"#fde0ef\"],[0.5,\"#f7f7f7\"],[0.6,\"#e6f5d0\"],[0.7,\"#b8e186\"],[0.8,\"#7fbc41\"],[0.9,\"#4d9221\"],[1,\"#276419\"]]},\"xaxis\":{\"gridcolor\":\"white\",\"linecolor\":\"white\",\"ticks\":\"\",\"title\":{\"standoff\":15},\"zerolinecolor\":\"white\",\"automargin\":true,\"zerolinewidth\":2},\"yaxis\":{\"gridcolor\":\"white\",\"linecolor\":\"white\",\"ticks\":\"\",\"title\":{\"standoff\":15},\"zerolinecolor\":\"white\",\"automargin\":true,\"zerolinewidth\":2},\"scene\":{\"xaxis\":{\"backgroundcolor\":\"#E5ECF6\",\"gridcolor\":\"white\",\"linecolor\":\"white\",\"showbackground\":true,\"ticks\":\"\",\"zerolinecolor\":\"white\",\"gridwidth\":2},\"yaxis\":{\"backgroundcolor\":\"#E5ECF6\",\"gridcolor\":\"white\",\"linecolor\":\"white\",\"showbackground\":true,\"ticks\":\"\",\"zerolinecolor\":\"white\",\"gridwidth\":2},\"zaxis\":{\"backgroundcolor\":\"#E5ECF6\",\"gridcolor\":\"white\",\"linecolor\":\"white\",\"showbackground\":true,\"ticks\":\"\",\"zerolinecolor\":\"white\",\"gridwidth\":2}},\"shapedefaults\":{\"line\":{\"color\":\"#2a3f5f\"}},\"annotationdefaults\":{\"arrowcolor\":\"#2a3f5f\",\"arrowhead\":0,\"arrowwidth\":1},\"geo\":{\"bgcolor\":\"white\",\"landcolor\":\"#E5ECF6\",\"subunitcolor\":\"white\",\"showland\":true,\"showlakes\":true,\"lakecolor\":\"white\"},\"title\":{\"x\":0.05},\"mapbox\":{\"style\":\"light\"}}},\"xaxis\":{\"anchor\":\"y\",\"domain\":[0.0,0.18400000000000002],\"title\":{\"text\":\"ACT_ED_3\"}},\"yaxis\":{\"anchor\":\"x\",\"domain\":[0.0,0.7326],\"title\":{\"text\":\"UNEMP_ED_3\"}},\"xaxis2\":{\"anchor\":\"y2\",\"domain\":[0.20400000000000001,0.388],\"matches\":\"x\",\"title\":{\"text\":\"ACT_ED_3\"}},\"yaxis2\":{\"anchor\":\"x2\",\"domain\":[0.0,0.7326],\"matches\":\"y\",\"showticklabels\":false},\"xaxis3\":{\"anchor\":\"y3\",\"domain\":[0.40800000000000003,0.5920000000000001],\"matches\":\"x\",\"title\":{\"text\":\"ACT_ED_3\"}},\"yaxis3\":{\"anchor\":\"x3\",\"domain\":[0.0,0.7326],\"matches\":\"y\",\"showticklabels\":false},\"xaxis4\":{\"anchor\":\"y4\",\"domain\":[0.6120000000000001,0.7960000000000002],\"matches\":\"x\",\"title\":{\"text\":\"ACT_ED_3\"}},\"yaxis4\":{\"anchor\":\"x4\",\"domain\":[0.0,0.7326],\"matches\":\"y\",\"showticklabels\":false},\"xaxis5\":{\"anchor\":\"y5\",\"domain\":[0.8160000000000001,1.0],\"matches\":\"x\",\"title\":{\"text\":\"ACT_ED_3\"}},\"yaxis5\":{\"anchor\":\"x5\",\"domain\":[0.0,0.7326],\"matches\":\"y\",\"showticklabels\":false},\"xaxis6\":{\"anchor\":\"y6\",\"domain\":[0.0,0.18400000000000002],\"matches\":\"x\",\"showticklabels\":false,\"showgrid\":true},\"yaxis6\":{\"anchor\":\"x6\",\"domain\":[0.7426,1.0],\"matches\":\"y6\",\"showticklabels\":false,\"showline\":false,\"ticks\":\"\",\"showgrid\":false},\"xaxis7\":{\"anchor\":\"y7\",\"domain\":[0.20400000000000001,0.388],\"matches\":\"x\",\"showticklabels\":false,\"showgrid\":true},\"yaxis7\":{\"anchor\":\"x7\",\"domain\":[0.7426,1.0],\"matches\":\"y6\",\"showticklabels\":false,\"showline\":false,\"ticks\":\"\",\"showgrid\":false},\"xaxis8\":{\"anchor\":\"y8\",\"domain\":[0.40800000000000003,0.5920000000000001],\"matches\":\"x\",\"showticklabels\":false,\"showgrid\":true},\"yaxis8\":{\"anchor\":\"x8\",\"domain\":[0.7426,1.0],\"matches\":\"y6\",\"showticklabels\":false,\"showline\":false,\"ticks\":\"\",\"showgrid\":false},\"xaxis9\":{\"anchor\":\"y9\",\"domain\":[0.6120000000000001,0.7960000000000002],\"matches\":\"x\",\"showticklabels\":false,\"showgrid\":true},\"yaxis9\":{\"anchor\":\"x9\",\"domain\":[0.7426,1.0],\"matches\":\"y6\",\"showticklabels\":false,\"showline\":false,\"ticks\":\"\",\"showgrid\":false},\"xaxis10\":{\"anchor\":\"y10\",\"domain\":[0.8160000000000001,1.0],\"matches\":\"x\",\"showticklabels\":false,\"showgrid\":true},\"yaxis10\":{\"anchor\":\"x10\",\"domain\":[0.7426,1.0],\"matches\":\"y6\",\"showticklabels\":false,\"showline\":false,\"ticks\":\"\",\"showgrid\":false},\"annotations\":[{\"font\":{},\"showarrow\":false,\"text\":\"Year=2018\",\"x\":0.09200000000000001,\"xanchor\":\"center\",\"xref\":\"paper\",\"y\":1.0,\"yanchor\":\"bottom\",\"yref\":\"paper\"},{\"font\":{},\"showarrow\":false,\"text\":\"Year=2019\",\"x\":0.29600000000000004,\"xanchor\":\"center\",\"xref\":\"paper\",\"y\":1.0,\"yanchor\":\"bottom\",\"yref\":\"paper\"},{\"font\":{},\"showarrow\":false,\"text\":\"Year=2020\",\"x\":0.5,\"xanchor\":\"center\",\"xref\":\"paper\",\"y\":1.0,\"yanchor\":\"bottom\",\"yref\":\"paper\"},{\"font\":{},\"showarrow\":false,\"text\":\"Year=2021\",\"x\":0.7040000000000002,\"xanchor\":\"center\",\"xref\":\"paper\",\"y\":1.0,\"yanchor\":\"bottom\",\"yref\":\"paper\"},{\"font\":{},\"showarrow\":false,\"text\":\"Year=2022\",\"x\":0.908,\"xanchor\":\"center\",\"xref\":\"paper\",\"y\":1.0,\"yanchor\":\"bottom\",\"yref\":\"paper\"}],\"legend\":{\"title\":{\"text\":\"Citizenship\"},\"tracegroupgap\":0},\"margin\":{\"t\":60}},                        {\"responsive\": true}                    ).then(function(){\n",
              "                            \n",
              "var gd = document.getElementById('8b238323-9151-4bd7-92e3-eac0b77cbb37');\n",
              "var x = new MutationObserver(function (mutations, observer) {{\n",
              "        var display = window.getComputedStyle(gd).display;\n",
              "        if (!display || display === 'none') {{\n",
              "            console.log([gd, 'removed!']);\n",
              "            Plotly.purge(gd);\n",
              "            observer.disconnect();\n",
              "        }}\n",
              "}});\n",
              "\n",
              "// Listen for the removal of the full notebook cells\n",
              "var notebookContainer = gd.closest('#notebook-container');\n",
              "if (notebookContainer) {{\n",
              "    x.observe(notebookContainer, {childList: true});\n",
              "}}\n",
              "\n",
              "// Listen for the clearing of the current output cell\n",
              "var outputEl = gd.closest('.output');\n",
              "if (outputEl) {{\n",
              "    x.observe(outputEl, {childList: true});\n",
              "}}\n",
              "\n",
              "                        })                };                            </script>        </div>\n",
              "</body>\n",
              "</html>"
            ]
          },
          "metadata": {},
          "output_type": "display_data"
        }
      ],
      "source": [
        "# >>> COLLATERAL STUDY >>> LEVEL OF EDUCATION 3 >>> NO TERRITORY DISCRIMINANT\n",
        "\n",
        "fig = px.scatter(dunnoDf, x=\"ACT_ED_3\", y=\"UNEMP_ED_3\", color=\"Citizenship\", facet_col=\"Year\",\n",
        "                  marginal_x=\"box\")\n",
        "fig.show()\n"
      ]
    },
    {
      "cell_type": "code",
      "execution_count": 12,
      "metadata": {
        "colab": {
          "base_uri": "https://localhost:8080/",
          "height": 542
        },
        "id": "sd7KqFLjZH0y",
        "outputId": "a8e383cd-5c7f-4ed2-fa34-0585da9d47dc"
      },
      "outputs": [
        {
          "data": {
            "text/html": [
              "<html>\n",
              "<head><meta charset=\"utf-8\" /></head>\n",
              "<body>\n",
              "    <div>            <script src=\"https://cdnjs.cloudflare.com/ajax/libs/mathjax/2.7.5/MathJax.js?config=TeX-AMS-MML_SVG\"></script><script type=\"text/javascript\">if (window.MathJax && window.MathJax.Hub && window.MathJax.Hub.Config) {window.MathJax.Hub.Config({SVG: {font: \"STIX-Web\"}});}</script>                <script type=\"text/javascript\">window.PlotlyConfig = {MathJaxConfig: 'local'};</script>\n",
              "        <script charset=\"utf-8\" src=\"https://cdn.plot.ly/plotly-2.24.1.min.js\"></script>                <div id=\"2d1ecd2a-4d3e-458b-b835-07ab2439ea15\" class=\"plotly-graph-div\" style=\"height:525px; width:100%;\"></div>            <script type=\"text/javascript\">                                    window.PLOTLYENV=window.PLOTLYENV || {};                                    if (document.getElementById(\"2d1ecd2a-4d3e-458b-b835-07ab2439ea15\")) {                    Plotly.newPlot(                        \"2d1ecd2a-4d3e-458b-b835-07ab2439ea15\",                        [{\"hovertemplate\":\"Territory=%{x}\\u003cbr\\u003eUNEMP_ED_1=%{y}\\u003cbr\\u003eYear=%{marker.size}\\u003cbr\\u003eACT_ED_1=%{marker.color}\\u003cextra\\u003e\\u003c\\u002fextra\\u003e\",\"legendgroup\":\"\",\"marker\":{\"color\":[70.98561766666667,70.61560533333333,66.39947000000001,66.44278833333334,68.15029766666667,52.88915833333333,52.15032966666666,49.991570333333335,50.522212,51.609045,66.097724,66.05539533333334,61.716367,63.32046966666667,63.44234733333334,41.577883,40.64278933333333,38.80917866666667,39.703685666666665,40.33104133333333,68.28975866666667,68.25751766666667,62.08090633333333,64.76965966666667,65.698128,55.320979666666666,55.70874833333334,53.970334,54.16331766666667,54.84958866666667,67.47383433333333,67.704574,62.68816133333333,63.91319533333333,65.19774266666667,55.55684566666667,55.29582133333333,54.44561266666667,54.174218,55.00348400000001,68.80266133333333,68.60170933333333,61.71620633333333,65.327416,66.026004,55.15669966666667,55.99860833333333,53.64003833333333,54.156985,54.74192133333333],\"coloraxis\":\"coloraxis\",\"size\":[2018,2019,2020,2021,2022,2018,2019,2020,2021,2022,2018,2019,2020,2021,2022,2018,2019,2020,2021,2022,2018,2019,2020,2021,2022,2018,2019,2020,2021,2022,2018,2019,2020,2021,2022,2018,2019,2020,2021,2022,2018,2019,2020,2021,2022,2018,2019,2020,2021,2022],\"sizemode\":\"area\",\"sizeref\":5.055,\"symbol\":\"circle\"},\"mode\":\"markers\",\"name\":\"\",\"orientation\":\"v\",\"showlegend\":false,\"x\":[\"Centro (I)\",\"Centro (I)\",\"Centro (I)\",\"Centro (I)\",\"Centro (I)\",\"Centro (I)\",\"Centro (I)\",\"Centro (I)\",\"Centro (I)\",\"Centro (I)\",\"Mezzogiorno\",\"Mezzogiorno\",\"Mezzogiorno\",\"Mezzogiorno\",\"Mezzogiorno\",\"Mezzogiorno\",\"Mezzogiorno\",\"Mezzogiorno\",\"Mezzogiorno\",\"Mezzogiorno\",\"Nord\",\"Nord\",\"Nord\",\"Nord\",\"Nord\",\"Nord\",\"Nord\",\"Nord\",\"Nord\",\"Nord\",\"Nord-est\",\"Nord-est\",\"Nord-est\",\"Nord-est\",\"Nord-est\",\"Nord-est\",\"Nord-est\",\"Nord-est\",\"Nord-est\",\"Nord-est\",\"Nord-ovest\",\"Nord-ovest\",\"Nord-ovest\",\"Nord-ovest\",\"Nord-ovest\",\"Nord-ovest\",\"Nord-ovest\",\"Nord-ovest\",\"Nord-ovest\",\"Nord-ovest\"],\"xaxis\":\"x\",\"y\":[15.155626666666668,13.568436666666663,13.153745666666666,13.241852666666666,12.723967333333334,11.356605333333334,9.827092333333333,10.372889,11.100708666666668,8.462975,15.570274333333332,16.924578999999998,19.020708666666668,20.928653666666666,19.00020566666667,24.215727666666663,23.17033033333333,21.780618333333333,21.733578333333337,19.364638,14.491530666666668,13.519575,12.179854666666666,12.367512333333332,10.421101666666669,7.663050000000001,7.548570000000001,6.954853666666668,7.227654,6.388568333333333,15.381984,14.406747,12.020517666666668,11.021123666666668,10.030182333333334,6.678413333333334,6.202183000000001,6.316249,6.39721,5.598281,13.94255,12.974600333333331,12.277352666666667,13.224712666666669,10.672936333333334,8.359876,8.479392666666667,7.408153666666666,7.805801333333334,6.945923666666666],\"yaxis\":\"y\",\"type\":\"scatter\"}],                        {\"template\":{\"data\":{\"histogram2dcontour\":[{\"type\":\"histogram2dcontour\",\"colorbar\":{\"outlinewidth\":0,\"ticks\":\"\"},\"colorscale\":[[0.0,\"#0d0887\"],[0.1111111111111111,\"#46039f\"],[0.2222222222222222,\"#7201a8\"],[0.3333333333333333,\"#9c179e\"],[0.4444444444444444,\"#bd3786\"],[0.5555555555555556,\"#d8576b\"],[0.6666666666666666,\"#ed7953\"],[0.7777777777777778,\"#fb9f3a\"],[0.8888888888888888,\"#fdca26\"],[1.0,\"#f0f921\"]]}],\"choropleth\":[{\"type\":\"choropleth\",\"colorbar\":{\"outlinewidth\":0,\"ticks\":\"\"}}],\"histogram2d\":[{\"type\":\"histogram2d\",\"colorbar\":{\"outlinewidth\":0,\"ticks\":\"\"},\"colorscale\":[[0.0,\"#0d0887\"],[0.1111111111111111,\"#46039f\"],[0.2222222222222222,\"#7201a8\"],[0.3333333333333333,\"#9c179e\"],[0.4444444444444444,\"#bd3786\"],[0.5555555555555556,\"#d8576b\"],[0.6666666666666666,\"#ed7953\"],[0.7777777777777778,\"#fb9f3a\"],[0.8888888888888888,\"#fdca26\"],[1.0,\"#f0f921\"]]}],\"heatmap\":[{\"type\":\"heatmap\",\"colorbar\":{\"outlinewidth\":0,\"ticks\":\"\"},\"colorscale\":[[0.0,\"#0d0887\"],[0.1111111111111111,\"#46039f\"],[0.2222222222222222,\"#7201a8\"],[0.3333333333333333,\"#9c179e\"],[0.4444444444444444,\"#bd3786\"],[0.5555555555555556,\"#d8576b\"],[0.6666666666666666,\"#ed7953\"],[0.7777777777777778,\"#fb9f3a\"],[0.8888888888888888,\"#fdca26\"],[1.0,\"#f0f921\"]]}],\"heatmapgl\":[{\"type\":\"heatmapgl\",\"colorbar\":{\"outlinewidth\":0,\"ticks\":\"\"},\"colorscale\":[[0.0,\"#0d0887\"],[0.1111111111111111,\"#46039f\"],[0.2222222222222222,\"#7201a8\"],[0.3333333333333333,\"#9c179e\"],[0.4444444444444444,\"#bd3786\"],[0.5555555555555556,\"#d8576b\"],[0.6666666666666666,\"#ed7953\"],[0.7777777777777778,\"#fb9f3a\"],[0.8888888888888888,\"#fdca26\"],[1.0,\"#f0f921\"]]}],\"contourcarpet\":[{\"type\":\"contourcarpet\",\"colorbar\":{\"outlinewidth\":0,\"ticks\":\"\"}}],\"contour\":[{\"type\":\"contour\",\"colorbar\":{\"outlinewidth\":0,\"ticks\":\"\"},\"colorscale\":[[0.0,\"#0d0887\"],[0.1111111111111111,\"#46039f\"],[0.2222222222222222,\"#7201a8\"],[0.3333333333333333,\"#9c179e\"],[0.4444444444444444,\"#bd3786\"],[0.5555555555555556,\"#d8576b\"],[0.6666666666666666,\"#ed7953\"],[0.7777777777777778,\"#fb9f3a\"],[0.8888888888888888,\"#fdca26\"],[1.0,\"#f0f921\"]]}],\"surface\":[{\"type\":\"surface\",\"colorbar\":{\"outlinewidth\":0,\"ticks\":\"\"},\"colorscale\":[[0.0,\"#0d0887\"],[0.1111111111111111,\"#46039f\"],[0.2222222222222222,\"#7201a8\"],[0.3333333333333333,\"#9c179e\"],[0.4444444444444444,\"#bd3786\"],[0.5555555555555556,\"#d8576b\"],[0.6666666666666666,\"#ed7953\"],[0.7777777777777778,\"#fb9f3a\"],[0.8888888888888888,\"#fdca26\"],[1.0,\"#f0f921\"]]}],\"mesh3d\":[{\"type\":\"mesh3d\",\"colorbar\":{\"outlinewidth\":0,\"ticks\":\"\"}}],\"scatter\":[{\"fillpattern\":{\"fillmode\":\"overlay\",\"size\":10,\"solidity\":0.2},\"type\":\"scatter\"}],\"parcoords\":[{\"type\":\"parcoords\",\"line\":{\"colorbar\":{\"outlinewidth\":0,\"ticks\":\"\"}}}],\"scatterpolargl\":[{\"type\":\"scatterpolargl\",\"marker\":{\"colorbar\":{\"outlinewidth\":0,\"ticks\":\"\"}}}],\"bar\":[{\"error_x\":{\"color\":\"#2a3f5f\"},\"error_y\":{\"color\":\"#2a3f5f\"},\"marker\":{\"line\":{\"color\":\"#E5ECF6\",\"width\":0.5},\"pattern\":{\"fillmode\":\"overlay\",\"size\":10,\"solidity\":0.2}},\"type\":\"bar\"}],\"scattergeo\":[{\"type\":\"scattergeo\",\"marker\":{\"colorbar\":{\"outlinewidth\":0,\"ticks\":\"\"}}}],\"scatterpolar\":[{\"type\":\"scatterpolar\",\"marker\":{\"colorbar\":{\"outlinewidth\":0,\"ticks\":\"\"}}}],\"histogram\":[{\"marker\":{\"pattern\":{\"fillmode\":\"overlay\",\"size\":10,\"solidity\":0.2}},\"type\":\"histogram\"}],\"scattergl\":[{\"type\":\"scattergl\",\"marker\":{\"colorbar\":{\"outlinewidth\":0,\"ticks\":\"\"}}}],\"scatter3d\":[{\"type\":\"scatter3d\",\"line\":{\"colorbar\":{\"outlinewidth\":0,\"ticks\":\"\"}},\"marker\":{\"colorbar\":{\"outlinewidth\":0,\"ticks\":\"\"}}}],\"scattermapbox\":[{\"type\":\"scattermapbox\",\"marker\":{\"colorbar\":{\"outlinewidth\":0,\"ticks\":\"\"}}}],\"scatterternary\":[{\"type\":\"scatterternary\",\"marker\":{\"colorbar\":{\"outlinewidth\":0,\"ticks\":\"\"}}}],\"scattercarpet\":[{\"type\":\"scattercarpet\",\"marker\":{\"colorbar\":{\"outlinewidth\":0,\"ticks\":\"\"}}}],\"carpet\":[{\"aaxis\":{\"endlinecolor\":\"#2a3f5f\",\"gridcolor\":\"white\",\"linecolor\":\"white\",\"minorgridcolor\":\"white\",\"startlinecolor\":\"#2a3f5f\"},\"baxis\":{\"endlinecolor\":\"#2a3f5f\",\"gridcolor\":\"white\",\"linecolor\":\"white\",\"minorgridcolor\":\"white\",\"startlinecolor\":\"#2a3f5f\"},\"type\":\"carpet\"}],\"table\":[{\"cells\":{\"fill\":{\"color\":\"#EBF0F8\"},\"line\":{\"color\":\"white\"}},\"header\":{\"fill\":{\"color\":\"#C8D4E3\"},\"line\":{\"color\":\"white\"}},\"type\":\"table\"}],\"barpolar\":[{\"marker\":{\"line\":{\"color\":\"#E5ECF6\",\"width\":0.5},\"pattern\":{\"fillmode\":\"overlay\",\"size\":10,\"solidity\":0.2}},\"type\":\"barpolar\"}],\"pie\":[{\"automargin\":true,\"type\":\"pie\"}]},\"layout\":{\"autotypenumbers\":\"strict\",\"colorway\":[\"#636efa\",\"#EF553B\",\"#00cc96\",\"#ab63fa\",\"#FFA15A\",\"#19d3f3\",\"#FF6692\",\"#B6E880\",\"#FF97FF\",\"#FECB52\"],\"font\":{\"color\":\"#2a3f5f\"},\"hovermode\":\"closest\",\"hoverlabel\":{\"align\":\"left\"},\"paper_bgcolor\":\"white\",\"plot_bgcolor\":\"#E5ECF6\",\"polar\":{\"bgcolor\":\"#E5ECF6\",\"angularaxis\":{\"gridcolor\":\"white\",\"linecolor\":\"white\",\"ticks\":\"\"},\"radialaxis\":{\"gridcolor\":\"white\",\"linecolor\":\"white\",\"ticks\":\"\"}},\"ternary\":{\"bgcolor\":\"#E5ECF6\",\"aaxis\":{\"gridcolor\":\"white\",\"linecolor\":\"white\",\"ticks\":\"\"},\"baxis\":{\"gridcolor\":\"white\",\"linecolor\":\"white\",\"ticks\":\"\"},\"caxis\":{\"gridcolor\":\"white\",\"linecolor\":\"white\",\"ticks\":\"\"}},\"coloraxis\":{\"colorbar\":{\"outlinewidth\":0,\"ticks\":\"\"}},\"colorscale\":{\"sequential\":[[0.0,\"#0d0887\"],[0.1111111111111111,\"#46039f\"],[0.2222222222222222,\"#7201a8\"],[0.3333333333333333,\"#9c179e\"],[0.4444444444444444,\"#bd3786\"],[0.5555555555555556,\"#d8576b\"],[0.6666666666666666,\"#ed7953\"],[0.7777777777777778,\"#fb9f3a\"],[0.8888888888888888,\"#fdca26\"],[1.0,\"#f0f921\"]],\"sequentialminus\":[[0.0,\"#0d0887\"],[0.1111111111111111,\"#46039f\"],[0.2222222222222222,\"#7201a8\"],[0.3333333333333333,\"#9c179e\"],[0.4444444444444444,\"#bd3786\"],[0.5555555555555556,\"#d8576b\"],[0.6666666666666666,\"#ed7953\"],[0.7777777777777778,\"#fb9f3a\"],[0.8888888888888888,\"#fdca26\"],[1.0,\"#f0f921\"]],\"diverging\":[[0,\"#8e0152\"],[0.1,\"#c51b7d\"],[0.2,\"#de77ae\"],[0.3,\"#f1b6da\"],[0.4,\"#fde0ef\"],[0.5,\"#f7f7f7\"],[0.6,\"#e6f5d0\"],[0.7,\"#b8e186\"],[0.8,\"#7fbc41\"],[0.9,\"#4d9221\"],[1,\"#276419\"]]},\"xaxis\":{\"gridcolor\":\"white\",\"linecolor\":\"white\",\"ticks\":\"\",\"title\":{\"standoff\":15},\"zerolinecolor\":\"white\",\"automargin\":true,\"zerolinewidth\":2},\"yaxis\":{\"gridcolor\":\"white\",\"linecolor\":\"white\",\"ticks\":\"\",\"title\":{\"standoff\":15},\"zerolinecolor\":\"white\",\"automargin\":true,\"zerolinewidth\":2},\"scene\":{\"xaxis\":{\"backgroundcolor\":\"#E5ECF6\",\"gridcolor\":\"white\",\"linecolor\":\"white\",\"showbackground\":true,\"ticks\":\"\",\"zerolinecolor\":\"white\",\"gridwidth\":2},\"yaxis\":{\"backgroundcolor\":\"#E5ECF6\",\"gridcolor\":\"white\",\"linecolor\":\"white\",\"showbackground\":true,\"ticks\":\"\",\"zerolinecolor\":\"white\",\"gridwidth\":2},\"zaxis\":{\"backgroundcolor\":\"#E5ECF6\",\"gridcolor\":\"white\",\"linecolor\":\"white\",\"showbackground\":true,\"ticks\":\"\",\"zerolinecolor\":\"white\",\"gridwidth\":2}},\"shapedefaults\":{\"line\":{\"color\":\"#2a3f5f\"}},\"annotationdefaults\":{\"arrowcolor\":\"#2a3f5f\",\"arrowhead\":0,\"arrowwidth\":1},\"geo\":{\"bgcolor\":\"white\",\"landcolor\":\"#E5ECF6\",\"subunitcolor\":\"white\",\"showland\":true,\"showlakes\":true,\"lakecolor\":\"white\"},\"title\":{\"x\":0.05},\"mapbox\":{\"style\":\"light\"}}},\"xaxis\":{\"anchor\":\"y\",\"domain\":[0.0,1.0],\"title\":{\"text\":\"Territory\"},\"tickfont\":{\"size\":9},\"tickangle\":30},\"yaxis\":{\"anchor\":\"x\",\"domain\":[0.0,1.0],\"title\":{\"text\":\"UNEMP_ED_1\"},\"tickfont\":{\"size\":9}},\"coloraxis\":{\"colorbar\":{\"title\":{\"text\":\"ACT_ED_1\"}},\"colorscale\":[[0.0,\"#0508b8\"],[0.08333333333333333,\"#1910d8\"],[0.16666666666666666,\"#3c19f0\"],[0.25,\"#6b1cfb\"],[0.3333333333333333,\"#981cfd\"],[0.4166666666666667,\"#bf1cfd\"],[0.5,\"#dd2bfd\"],[0.5833333333333334,\"#f246fe\"],[0.6666666666666666,\"#fc67fd\"],[0.75,\"#fe88fc\"],[0.8333333333333334,\"#fea5fd\"],[0.9166666666666666,\"#febefe\"],[1.0,\"#fec3fe\"]]},\"legend\":{\"tracegroupgap\":0,\"itemsizing\":\"constant\"},\"title\":{\"text\":\"Unemployment Rate x Activity Rate by (Macro)Region\",\"x\":0.5},\"margin\":{\"l\":500,\"r\":20,\"t\":50,\"b\":20},\"paper_bgcolor\":\"LightSteelblue\"},                        {\"responsive\": true}                    ).then(function(){\n",
              "                            \n",
              "var gd = document.getElementById('2d1ecd2a-4d3e-458b-b835-07ab2439ea15');\n",
              "var x = new MutationObserver(function (mutations, observer) {{\n",
              "        var display = window.getComputedStyle(gd).display;\n",
              "        if (!display || display === 'none') {{\n",
              "            console.log([gd, 'removed!']);\n",
              "            Plotly.purge(gd);\n",
              "            observer.disconnect();\n",
              "        }}\n",
              "}});\n",
              "\n",
              "// Listen for the removal of the full notebook cells\n",
              "var notebookContainer = gd.closest('#notebook-container');\n",
              "if (notebookContainer) {{\n",
              "    x.observe(notebookContainer, {childList: true});\n",
              "}}\n",
              "\n",
              "// Listen for the clearing of the current output cell\n",
              "var outputEl = gd.closest('.output');\n",
              "if (outputEl) {{\n",
              "    x.observe(outputEl, {childList: true});\n",
              "}}\n",
              "\n",
              "                        })                };                            </script>        </div>\n",
              "</body>\n",
              "</html>"
            ]
          },
          "metadata": {},
          "output_type": "display_data"
        }
      ],
      "source": [
        "# >>> COLLATERAL STUDY >>> UNEMPLOTMENT X ACTIVITY RATE ACCORDING TO THE FIRST DEGREE OF EDUCATIONAL LEVEL\n",
        "# INSIGHT: In Mezzogiorno area the levels of unemployment rate are higher, but so that are the level of activity rate.\n",
        "# This result goes along with the Italian trend of NEET - (not in education, employment, or training) - together with the general sentiment of not being active part of the society (disillusionment).\n",
        "# Taking a look at the `unemployment rate` for the very basic (i.e. the lower) level of education, we can see how paradoxically the unemployment rate is higher for the native/resident population.\n",
        "# This makes us think that Italians are potentially more 'desperate' in terms of unemployment, comparing them with foreigners, but at the same time are less active than foreigners.\n",
        "\n",
        "dunnoDf = pd.read_csv('https://raw.githubusercontent.com/openaccesstoimmigrants/openaccesstoimmigrants/main/vizEnvironment/dunnoMashup.csv')\n",
        "\n",
        "fig2 = px.scatter(\n",
        "    dunnoDf, #dataframe\n",
        "    x=\"Territory\", #x\n",
        "    y=\"UNEMP_ED_1\", #y\n",
        "    size=\"Year\", #bubble size\n",
        "    color=\"ACT_ED_1\",#bubble color\n",
        "    color_continuous_scale=px.colors.sequential.Plotly3, #color theme\n",
        "    title=\"Unemployment Rate x Activity Rate by (Macro)Region\", #chart title\n",
        ")\n",
        "fig2.update_layout(\n",
        "    xaxis_tickangle=30,#angle of the tick on x-axis\n",
        "    title=dict(x=0.5), #set the title in center\n",
        "    xaxis_tickfont=dict(size=9), #set the font for x-axis\n",
        "    yaxis_tickfont=dict(size=9), #set the font for y-axis\n",
        "    margin=dict(l=500, r=20, t=50, b=20), #set the margin\n",
        "    paper_bgcolor=\"LightSteelblue\", #set the background color for chart\n",
        ")"
      ]
    },
    {
      "cell_type": "markdown",
      "metadata": {
        "id": "DBpVy8FtRR9m"
      },
      "source": [
        "# FINAL CONSIDERATIONS (FOR NOW)\n",
        "\n",
        "## > WE NEED\n",
        "1. For comment - documentation purposes, we need the exact number of foreigners and Natives per year (2018-2022)\n"
      ]
    },
    {
      "cell_type": "code",
      "execution_count": 13,
      "metadata": {
        "colab": {
          "base_uri": "https://localhost:8080/"
        },
        "id": "cxJ9uSqufy_1",
        "outputId": "103d7299-54a5-4a51-deb2-4f762ce0e78c"
      },
      "outputs": [
        {
          "name": "stdout",
          "output_type": "stream",
          "text": [
            "Collecting dash-bootstrap-components\n",
            "  Downloading dash_bootstrap_components-1.5.0-py3-none-any.whl (221 kB)\n",
            "\u001b[2K     \u001b[90m━━━━━━━━━━━━━━━━━━━━━━━━━━━━━━━━━━━━━━━━\u001b[0m \u001b[32m221.2/221.2 kB\u001b[0m \u001b[31m4.6 MB/s\u001b[0m eta \u001b[36m0:00:00\u001b[0m\n",
            "\u001b[?25hCollecting dash>=2.0.0 (from dash-bootstrap-components)\n",
            "  Downloading dash-2.14.1-py3-none-any.whl (10.4 MB)\n",
            "\u001b[2K     \u001b[90m━━━━━━━━━━━━━━━━━━━━━━━━━━━━━━━━━━━━━━━━\u001b[0m \u001b[32m10.4/10.4 MB\u001b[0m \u001b[31m26.6 MB/s\u001b[0m eta \u001b[36m0:00:00\u001b[0m\n",
            "\u001b[?25hRequirement already satisfied: Flask<3.1,>=1.0.4 in /usr/local/lib/python3.10/dist-packages (from dash>=2.0.0->dash-bootstrap-components) (2.2.5)\n",
            "Requirement already satisfied: Werkzeug<3.1 in /usr/local/lib/python3.10/dist-packages (from dash>=2.0.0->dash-bootstrap-components) (3.0.1)\n",
            "Requirement already satisfied: plotly>=5.0.0 in /usr/local/lib/python3.10/dist-packages (from dash>=2.0.0->dash-bootstrap-components) (5.15.0)\n",
            "Collecting dash-html-components==2.0.0 (from dash>=2.0.0->dash-bootstrap-components)\n",
            "  Downloading dash_html_components-2.0.0-py3-none-any.whl (4.1 kB)\n",
            "Collecting dash-core-components==2.0.0 (from dash>=2.0.0->dash-bootstrap-components)\n",
            "  Downloading dash_core_components-2.0.0-py3-none-any.whl (3.8 kB)\n",
            "Collecting dash-table==5.0.0 (from dash>=2.0.0->dash-bootstrap-components)\n",
            "  Downloading dash_table-5.0.0-py3-none-any.whl (3.9 kB)\n",
            "Requirement already satisfied: typing-extensions>=4.1.1 in /usr/local/lib/python3.10/dist-packages (from dash>=2.0.0->dash-bootstrap-components) (4.5.0)\n",
            "Requirement already satisfied: requests in /usr/local/lib/python3.10/dist-packages (from dash>=2.0.0->dash-bootstrap-components) (2.31.0)\n",
            "Requirement already satisfied: retrying in /usr/local/lib/python3.10/dist-packages (from dash>=2.0.0->dash-bootstrap-components) (1.3.4)\n",
            "Collecting ansi2html (from dash>=2.0.0->dash-bootstrap-components)\n",
            "  Downloading ansi2html-1.8.0-py3-none-any.whl (16 kB)\n",
            "Requirement already satisfied: nest-asyncio in /usr/local/lib/python3.10/dist-packages (from dash>=2.0.0->dash-bootstrap-components) (1.5.8)\n",
            "Requirement already satisfied: setuptools in /usr/local/lib/python3.10/dist-packages (from dash>=2.0.0->dash-bootstrap-components) (67.7.2)\n",
            "Requirement already satisfied: importlib-metadata in /usr/local/lib/python3.10/dist-packages (from dash>=2.0.0->dash-bootstrap-components) (6.8.0)\n",
            "Requirement already satisfied: Jinja2>=3.0 in /usr/local/lib/python3.10/dist-packages (from Flask<3.1,>=1.0.4->dash>=2.0.0->dash-bootstrap-components) (3.1.2)\n",
            "Requirement already satisfied: itsdangerous>=2.0 in /usr/local/lib/python3.10/dist-packages (from Flask<3.1,>=1.0.4->dash>=2.0.0->dash-bootstrap-components) (2.1.2)\n",
            "Requirement already satisfied: click>=8.0 in /usr/local/lib/python3.10/dist-packages (from Flask<3.1,>=1.0.4->dash>=2.0.0->dash-bootstrap-components) (8.1.7)\n",
            "Requirement already satisfied: tenacity>=6.2.0 in /usr/local/lib/python3.10/dist-packages (from plotly>=5.0.0->dash>=2.0.0->dash-bootstrap-components) (8.2.3)\n",
            "Requirement already satisfied: packaging in /usr/local/lib/python3.10/dist-packages (from plotly>=5.0.0->dash>=2.0.0->dash-bootstrap-components) (23.2)\n",
            "Requirement already satisfied: MarkupSafe>=2.1.1 in /usr/local/lib/python3.10/dist-packages (from Werkzeug<3.1->dash>=2.0.0->dash-bootstrap-components) (2.1.3)\n",
            "Requirement already satisfied: zipp>=0.5 in /usr/local/lib/python3.10/dist-packages (from importlib-metadata->dash>=2.0.0->dash-bootstrap-components) (3.17.0)\n",
            "Requirement already satisfied: charset-normalizer<4,>=2 in /usr/local/lib/python3.10/dist-packages (from requests->dash>=2.0.0->dash-bootstrap-components) (3.3.2)\n",
            "Requirement already satisfied: idna<4,>=2.5 in /usr/local/lib/python3.10/dist-packages (from requests->dash>=2.0.0->dash-bootstrap-components) (3.4)\n",
            "Requirement already satisfied: urllib3<3,>=1.21.1 in /usr/local/lib/python3.10/dist-packages (from requests->dash>=2.0.0->dash-bootstrap-components) (2.0.7)\n",
            "Requirement already satisfied: certifi>=2017.4.17 in /usr/local/lib/python3.10/dist-packages (from requests->dash>=2.0.0->dash-bootstrap-components) (2023.7.22)\n",
            "Requirement already satisfied: six>=1.7.0 in /usr/local/lib/python3.10/dist-packages (from retrying->dash>=2.0.0->dash-bootstrap-components) (1.16.0)\n",
            "Installing collected packages: dash-table, dash-html-components, dash-core-components, ansi2html, dash, dash-bootstrap-components\n",
            "Successfully installed ansi2html-1.8.0 dash-2.14.1 dash-bootstrap-components-1.5.0 dash-core-components-2.0.0 dash-html-components-2.0.0 dash-table-5.0.0\n"
          ]
        }
      ],
      "source": [
        "!pip install dash-bootstrap-components"
      ]
    },
    {
      "cell_type": "code",
      "execution_count": 14,
      "metadata": {
        "colab": {
          "base_uri": "https://localhost:8080/",
          "height": 245
        },
        "id": "MKvjfgOw4jsP",
        "outputId": "4043fe2b-d80c-427c-871f-00f8ad5f5c67"
      },
      "outputs": [
        {
          "ename": "SyntaxError",
          "evalue": "ignored",
          "output_type": "error",
          "traceback": [
            "\u001b[0;31m---------------------------------------------------------------------------\u001b[0m",
            "\u001b[0;31mSyntaxError\u001b[0m                               Traceback (most recent call last)",
            "\u001b[0;32m/usr/local/lib/python3.10/dist-packages/IPython/core/compilerop.py\u001b[0m in \u001b[0;36mast_parse\u001b[0;34m(self, source, filename, symbol)\u001b[0m\n\u001b[1;32m     99\u001b[0m         \u001b[0mArguments\u001b[0m \u001b[0mare\u001b[0m \u001b[0mexactly\u001b[0m \u001b[0mthe\u001b[0m \u001b[0msame\u001b[0m \u001b[0;32mas\u001b[0m \u001b[0mast\u001b[0m\u001b[0;34m.\u001b[0m\u001b[0mparse\u001b[0m \u001b[0;34m(\u001b[0m\u001b[0;32min\u001b[0m \u001b[0mthe\u001b[0m \u001b[0mstandard\u001b[0m \u001b[0mlibrary\u001b[0m\u001b[0;34m)\u001b[0m\u001b[0;34m,\u001b[0m\u001b[0;34m\u001b[0m\u001b[0;34m\u001b[0m\u001b[0m\n\u001b[1;32m    100\u001b[0m         and are passed to the built-in compile function.\"\"\"\n\u001b[0;32m--> 101\u001b[0;31m         \u001b[0;32mreturn\u001b[0m \u001b[0mcompile\u001b[0m\u001b[0;34m(\u001b[0m\u001b[0msource\u001b[0m\u001b[0;34m,\u001b[0m \u001b[0mfilename\u001b[0m\u001b[0;34m,\u001b[0m \u001b[0msymbol\u001b[0m\u001b[0;34m,\u001b[0m \u001b[0mself\u001b[0m\u001b[0;34m.\u001b[0m\u001b[0mflags\u001b[0m \u001b[0;34m|\u001b[0m \u001b[0mPyCF_ONLY_AST\u001b[0m\u001b[0;34m,\u001b[0m \u001b[0;36m1\u001b[0m\u001b[0;34m)\u001b[0m\u001b[0;34m\u001b[0m\u001b[0;34m\u001b[0m\u001b[0m\n\u001b[0m\u001b[1;32m    102\u001b[0m \u001b[0;34m\u001b[0m\u001b[0m\n\u001b[1;32m    103\u001b[0m     \u001b[0;32mdef\u001b[0m \u001b[0mreset_compiler_flags\u001b[0m\u001b[0;34m(\u001b[0m\u001b[0mself\u001b[0m\u001b[0;34m)\u001b[0m\u001b[0;34m:\u001b[0m\u001b[0;34m\u001b[0m\u001b[0;34m\u001b[0m\u001b[0m\n",
            "\u001b[0;31mSyntaxError\u001b[0m: invalid syntax (<ipython-input-14-2c049fb40fc4>, line 1)"
          ]
        }
      ],
      "source": [
        "a ="
      ]
    },
    {
      "cell_type": "code",
      "execution_count": null,
      "metadata": {
        "id": "yyOpQEJseGin"
      },
      "outputs": [],
      "source": [
        "#DASHBOARD BOILERPLATE\n",
        "import dash\n",
        "import dash_bootstrap_components as dbc\n",
        "from dash import dcc\n",
        "import dash_html_components as html\n",
        "from dash.dependencies import Input, Output"
      ]
    },
    {
      "cell_type": "code",
      "execution_count": null,
      "metadata": {
        "id": "ic9c25LMuQ6f"
      },
      "outputs": [],
      "source": [
        "app = dash.Dash(__name__)\n",
        "app.layout = html.Div(\n",
        "    children=[        html.Div(\n",
        "            children=[\n",
        "                html.P(children=\"🚓\", style={'fontSize': \"30px\",'textAlign': 'center'}, className=\"header-emoji\"), #emoji\n",
        "                html.H1(\n",
        "                    children=\"Crime Analytics\",style={'textAlign': 'center'}, className=\"header-title\"\n",
        "                ), #Header title\n",
        "                html.H2(\n",
        "                    children=\"Analyze the crime records\"\n",
        "                    \" by district in New Zealand\"\n",
        "                    \" between 1994 and 2014\",\n",
        "                    className=\"header-description\", style={'textAlign': 'center'},\n",
        "                ),\n",
        "            ],\n",
        "            className=\"header\",style={'backgroundColor':'#F5F5F5'},\n",
        "        ), #Description below the header\n",
        "\n",
        "\n",
        "        html.Div(\n",
        "            children=[\n",
        "                html.Div(children = 'Year', style={'fontSize': \"24px\"},className = 'menu-title'),\n",
        "                dcc.Dropdown(\n",
        "                    id = 'year-filter',\n",
        "                    options = [\n",
        "                        {'label': Year, 'value':Year}\n",
        "                        for Year in dunnoDf.Year.unique()\n",
        "                    ], #'Year' is the filter\n",
        "                    value ='2010',\n",
        "                    clearable = False,\n",
        "                    searchable = False,\n",
        "                    className = 'dropdown', style={'fontSize': \"24px\",'textAlign': 'center'},\n",
        "                ),\n",
        "            ],\n",
        "            className = 'menu',\n",
        "        ), #the dropdown function\n",
        "\n",
        "        html.Div(\n",
        "            children=[\n",
        "                html.Div(\n",
        "                children = dcc.Graph(\n",
        "                    id = 'scatter',\n",
        "                    figure = fig2,\n",
        "                  #  config={\"displayModeBar\": False},\n",
        "                ),\n",
        "                style={'width': '50%', 'display': 'inline-block'},\n",
        "            ),\n",
        "                html.Div(\n",
        "                children = dcc.Graph(\n",
        "                    id = 'bar',\n",
        "                    figure = fig2,\n",
        "                    #config={\"displayModeBar\": False},\n",
        "                ),\n",
        "                style={'width': '50%', 'display': 'inline-block'},\n",
        "            ),\n",
        "                html.Div(\n",
        "                children = dcc.Graph(\n",
        "                    id = 'bibar',\n",
        "                    figure = fig3,\n",
        "                    #config={\"displayModeBar\": False},\n",
        "                ),\n",
        "                style={'width': '50%', 'display': 'inline-block'},\n",
        "            ),\n",
        "                html.Div(\n",
        "                children = dcc.Graph(\n",
        "                    id = 'barscene',\n",
        "                    figure = fig4,\n",
        "                    #config={\"displayModeBar\": False},\n",
        "                ),\n",
        "                style={'width': '50%', 'display': 'inline-block'},\n",
        "            ),\n",
        "        ],\n",
        "        className = 'double-graph',\n",
        "        ),\n",
        "    ]\n",
        ") #Four graphs\n",
        "app"
      ]
    },
    {
      "cell_type": "code",
      "execution_count": null,
      "metadata": {
        "id": "GmojXIsPwLXz"
      },
      "outputs": [],
      "source": [
        "# prima\n",
        "@app.callback(\n",
        "    Output(\"scatter\", \"figure\"), #the output is the scatterchart\n",
        "    [Input(\"year-filter\", \"value\")], #the input is the year-filter\n",
        ")\n",
        "def update_charts(Year):\n",
        "    filtered_data = dunnoDf[dunnoDf[\"Year\"] == Year] #the graph/dataframe will be filterd by \"Year\"\n",
        "    scatter = px.scatter(\n",
        "        filtered_data,\n",
        "        x=\"UNEMPL_ED_1\",\n",
        "        y=\"Territory\",\n",
        "        size=\"total_y\",\n",
        "        color=\"Citizenship\",\n",
        "        color_continuous_scale=px.colors.sequential.Plotly3,\n",
        "        title=\"Offences by Location\",\n",
        "    )\n",
        "    scatter.update_layout(\n",
        "        xaxis_tickangle=30,\n",
        "        title=dict(x=0.5),\n",
        "        xaxis_tickfont=dict(size=9),\n",
        "        yaxis_tickfont=dict(size=9),\n",
        "        margin=dict(l=500, r=20, t=50, b=20),\n",
        "        paper_bgcolor=\"LightSteelblue\",\n",
        "    )\n",
        "    return scatter #return the scatterchart according to the filter\n",
        "\n",
        "update_charts"
      ]
    },
    {
      "cell_type": "code",
      "execution_count": null,
      "metadata": {
        "id": "k007mI470jr-"
      },
      "outputs": [],
      "source": [
        "#seconda\n",
        "@app.callback(\n",
        "    Output(\"bar\", \"figure\"),\n",
        "    [Input(\"year-filter\", \"value\")],\n",
        ")\n",
        "def update_charts(Year):\n",
        "    filtered_data = dunnoDf[dunnoDf[\"Year\"] == Year]\n",
        "    bar = px.bar(\n",
        "        filtered_data,\n",
        "        x=filtered_data.groupby(\"UNEMPL_ED_1\")[\"Total\"].agg(sum),\n",
        "        y=filtered_data[\"UNEMPL_ED_1\"].unique(),\n",
        "        color=filtered_data.groupby(\"UNEMPL_ED_1\")[\"Total\"].agg(sum),\n",
        "        color_continuous_scale=px.colors.sequential.RdBu,\n",
        "        text=filtered_data.groupby(\"UNEMPL_ED_1\")[\"Total\"].agg(sum),\n",
        "        title=\"Recorded Crime by UNEMPL_ED_1\",\n",
        "        orientation=\"h\",\n",
        "    )\n",
        "    bar.update_layout(\n",
        "        title=dict(x=0.5), margin=dict(l=550, r=20, t=60, b=20), paper_bgcolor=\"#D6EAF8\"\n",
        "    )\n",
        "    bar.update_traces(texttemplate=\"%{text:.2s}\")\n",
        "    return bar@app.callback(\n",
        "    Output(\"bibar\", \"figure\"),\n",
        "    [Input(\"year-filter\", \"value\")],\n",
        ")\n",
        "def update_charts(Year):\n",
        "    filtered_dunnoDf = dunnoDf.loc[dunnoDf['Citizenship'] == 'foreign']\n",
        "#result\n",
        "    filtered_dunnoDf = dunnoDfs2[dunnoDf[\"Year\"] == Year]\n",
        "    trace1 = go.Bar(\n",
        "        x=filtered_dunnoDf[\"Location\"].unique(),\n",
        "        y=filtered_dunnoDf.groupby(\"Location\")[\"Total\"].agg(sum),\n",
        "        text=filtered_dunnoDf.groupby(\"Location\")[\"Total\"].agg(sum),\n",
        "        textposition=\"outside\",\n",
        "        marker_color=px.colors.qualitative.Dark24[0],\n",
        "        name=\"Resolved\",\n",
        "    )\n",
        "    trace2 = go.Bar(\n",
        "        x=filtered_dunnoDf[\"Location\"].unique(),\n",
        "        y=filtered_dunnoDf.groupby(\"Location\")[\"Total\"].agg(sum),\n",
        "        text=filtered_dunnoDf.groupby(\"Location\")[\"Total\"].agg(sum),\n",
        "        textposition=\"outside\",\n",
        "        marker_color=px.colors.qualitative.Dark24[1],\n",
        "        name=\"Unresolved\",\n",
        "    )\n",
        "    data = [trace1, trace2]\n",
        "    layout = go.Layout(barmode=\"group\", title=\"Resolved vs Unresolved\")\n",
        "    bibar = go.Figure(data=data, layout=layout)\n",
        "    bibar.update_layout(\n",
        "        title=dict(x=0.5),\n",
        "        xaxis_title=\"District\",\n",
        "        yaxis_title=\"Total\",\n",
        "        paper_bgcolor=\"aliceblue\",\n",
        "        margin=dict(l=20, r=20, t=60, b=20),\n",
        "    )\n",
        "    bibar.update_traces(texttemplate=\"%{text:.2s}\")\n",
        "    return bibar"
      ]
    },
    {
      "cell_type": "code",
      "execution_count": null,
      "metadata": {
        "id": "Lw6Is-JV8b7i"
      },
      "outputs": [],
      "source": [
        "# terza\n",
        "\n",
        "@app.callback(\n",
        "    Output(\"barscene\", \"figure\"),\n",
        "    [Input(\"year-filter\", \"value\")],\n",
        ")\n",
        "def update_charts(Year):\n",
        "    filtered_data = dunnoDf[dunnoDf[\"Year\"] == Year]\n",
        "    barscene = px.bar(\n",
        "        filtered_data,\n",
        "        x=filtered_data.groupby(\"Scene\")[\"Total\"].agg(sum),\n",
        "        y=filtered_data[\"Scene\"].unique(),\n",
        "        labels={\"x\": \"Total Recorded\", \"y\": \"Scene\"},\n",
        "        color=filtered_data.groupby(\"Scene\")[\"Total\"].agg(sum),\n",
        "        color_continuous_scale=px.colors.sequential.Sunset,\n",
        "        # color_discrete_sequence=['rgb(253,180,98)','rgb(190,186,218)'],\n",
        "        text=filtered_data.groupby(\"Scene\")[\"Total\"].agg(sum),\n",
        "        title=\"Recorded Crime by Scene\",\n",
        "        # ,barmode = 'group'\n",
        "        orientation=\"h\",\n",
        "    )\n",
        "    barscene.update_layout(title=dict(x=0.5), paper_bgcolor=\"#BDBDBD\")\n",
        "    barscene.update_traces(texttemplate=\"%{text:.2s}\")\n",
        "    return barscene"
      ]
    },
    {
      "cell_type": "markdown",
      "metadata": {
        "id": "ADnRnKX18wWe"
      },
      "source": []
    },
    {
      "cell_type": "code",
      "execution_count": null,
      "metadata": {
        "id": "j2V4s7SK8wlV"
      },
      "outputs": [],
      "source": [
        "app.run_server(mode='inline')"
      ]
    },
    {
      "cell_type": "code",
      "execution_count": null,
      "metadata": {
        "id": "q9ACLSFU88X0"
      },
      "outputs": [],
      "source": []
    }
  ],
  "metadata": {
    "colab": {
      "provenance": []
    },
    "kernelspec": {
      "display_name": "Python 3",
      "name": "python3"
    },
    "language_info": {
      "name": "python"
    }
  },
  "nbformat": 4,
  "nbformat_minor": 0
}
