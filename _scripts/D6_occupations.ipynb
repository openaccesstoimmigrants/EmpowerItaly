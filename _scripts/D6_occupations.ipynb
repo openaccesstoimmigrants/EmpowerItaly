{
 "cells": [
  {
   "cell_type": "markdown",
   "id": "527c3ebe",
   "metadata": {},
   "source": [
    "# D6\n",
    "## Presence of foreigners divided by industry sector\n",
    "### [IstatData](https://esploradati.istat.it/databrowser/#/en/dw/categories/IT1,Z0500LAB,1.0/LAB_OFFER/LAB_OFF_EMPLOY/DCCV_OCCUPATIT1/DCCV_OCCUPATIT1_SECTECOACT/IT1,150_938_DF_DCCV_OCCUPATIT1_9,1.0)"
   ]
  },
  {
   "cell_type": "code",
   "execution_count": null,
   "id": "6af93898-ed23-47ac-923e-7bad010ecc3a",
   "metadata": {},
   "outputs": [],
   "source": [
    "#!pip install pandas requests requests_cache xmltodict numpy"
   ]
  },
  {
   "cell_type": "code",
   "execution_count": 14,
   "id": "2f9dedb6",
   "metadata": {},
   "outputs": [],
   "source": [
    "import pandas as pd\n",
    "import json\n",
    "import requests\n",
    "import xmltodict\n",
    "from datetime import datetime\n",
    "import os\n",
    "import numpy as np"
   ]
  },
  {
   "cell_type": "code",
   "execution_count": 13,
   "id": "a12e7afa-9ba8-4ed2-94cb-98b94be9fbe8",
   "metadata": {},
   "outputs": [
    {
     "name": "stdout",
     "output_type": "stream",
     "text": [
      "200\n"
     ]
    },
    {
     "data": {
      "text/plain": [
       "str"
      ]
     },
     "execution_count": 13,
     "metadata": {},
     "output_type": "execute_result"
    }
   ],
   "source": [
    "# 5 - QUERY WITH FILTERS\n",
    "# Query all residents, both sexes, total not divided by age and all marital status.\n",
    "response = requests.get('https://esploradati.istat.it/SDMXWS/rest/data/150_938_DF_DCCV_OCCUPATIT1_9/A.IT.9.Y15-89..FRG+ITL..+0020+0025+0026+A+F.9.....')\n",
    "print(response.status_code)\n",
    "\n",
    "if response.status_code == 200:\n",
    "    content = response.content\n",
    "    \n",
    "    if len(content) > 0:\n",
    "        try:\n",
    "            xml_data = xmltodict.parse(content)\n",
    "            json_string_data = json.dumps(xml_data,\n",
    "                                    allow_nan = True, # If we hadn't set allow_nan to\n",
    "                                                      # true we would have got\n",
    "                                                      # ValueError: Out of range float\n",
    "                                                      # values are not JSON compliant\n",
    "                                    indent = 6) # Indentation can be used for pretty-printing\n",
    "            # Now you can work with the parsed JSON data\n",
    "        except json.JSONDecodeError as e:\n",
    "            print(\"Error decoding JSON:\", e)\n",
    "    else:\n",
    "        print(\"Empty content received.\")\n",
    "else:\n",
    "    print(\"Request failed with status code:\", response.status_code)\n",
    "\n",
    "#print(json_string_data)\n",
    "type(json_string_data)"
   ]
  },
  {
   "cell_type": "code",
   "execution_count": 18,
   "id": "84fd2391-f1f2-45b4-9c4f-76e664d9a2ff",
   "metadata": {},
   "outputs": [],
   "source": [
    "# Load the JSON string\n",
    "data = json.loads(json_string_data)\n",
    "\n",
    "# Translation dictionary for occupation codes\n",
    "occupation_translation = {\n",
    "    \"A\": \"agriculture, forestry and fishing\",\n",
    "    \"0020\": \"industry\",\n",
    "    \"F\": \"construction\",\n",
    "    \"0026\": \"trade, hotels and restaurants\",\n",
    "    \"0025\": \"other services activity\"\n",
    "}\n",
    "\n",
    "# Extract information and structure it as needed\n",
    "result = {\n",
    "    \"foreign\": [],\n",
    "    \"italian\": []\n",
    "}\n",
    "\n",
    "# Loop through each series in the JSON data\n",
    "for series in data[\"message:GenericData\"][\"message:DataSet\"][\"generic:Series\"]:\n",
    "    series_key = series[\"generic:SeriesKey\"]\n",
    "    obs_values = series[\"generic:Obs\"]\n",
    "\n",
    "    # Extract relevant values from the series\n",
    "    obs_values_list = [\n",
    "        {\n",
    "            \"OCCUPATION\": occupation_translation.get(series_key[\"generic:Value\"][7][\"@value\"], series_key[\"generic:Value\"][7][\"@value\"]),\n",
    "            \"YEAR\": obs[\"generic:ObsDimension\"][\"@value\"],\n",
    "            \"VALUE\": int(np.rint(float(obs[\"generic:ObsValue\"][\"@value\"])))\n",
    "        }\n",
    "        for obs in obs_values\n",
    "    ]\n",
    "\n",
    "    # Append the extracted values to the corresponding category\n",
    "    if series_key[\"generic:Value\"][5][\"@value\"] == \"FRG\":\n",
    "        result[\"foreign\"].extend(obs_values_list)\n",
    "    elif series_key[\"generic:Value\"][5][\"@value\"] == \"ITL\":\n",
    "        result[\"italian\"].extend(obs_values_list)\n",
    "\n",
    "# Convert the resulting dictionary to a JSON string\n",
    "result_json = json.dumps(result, indent=2)\n",
    "\n",
    "# Print or use the resulting JSON string\n",
    "#print(result_json)"
   ]
  },
  {
   "cell_type": "code",
   "execution_count": 20,
   "id": "5c80da11",
   "metadata": {},
   "outputs": [
    {
     "name": "stdout",
     "output_type": "stream",
     "text": [
      "JSON data saved to: ../_datasets/Clean/D6/occupations_rate.json\n"
     ]
    }
   ],
   "source": [
    "# Convert immigrants_distribution string to JSON object\n",
    "occupations_rate_json = json.loads(result_json)\n",
    "\n",
    "# Specify the folder path to save the JSON file\n",
    "folder_path = \"../_datasets/Clean/D6\"\n",
    "\n",
    "# Create the folder if it doesn't exist\n",
    "os.makedirs(folder_path, exist_ok=True)\n",
    "\n",
    "# Define the filename for the JSON file\n",
    "filename = \"occupations_rate.json\"\n",
    "\n",
    "# Generate the file path\n",
    "file_path = os.path.join(folder_path, filename)\n",
    "\n",
    "# Save the immigrants_demographic JSON object to file\n",
    "with open(file_path, \"w\") as file:\n",
    "    json.dump(occupations_rate_json, file, indent=4)\n",
    "\n",
    "print(f\"JSON data saved to: {file_path}\")"
   ]
  },
  {
   "cell_type": "code",
   "execution_count": null,
   "id": "37f29711-ee77-4d38-a7ed-6b1d5bd422cf",
   "metadata": {},
   "outputs": [],
   "source": []
  }
 ],
 "metadata": {
  "kernelspec": {
   "display_name": "Python 3 (ipykernel)",
   "language": "python",
   "name": "python3"
  },
  "language_info": {
   "codemirror_mode": {
    "name": "ipython",
    "version": 3
   },
   "file_extension": ".py",
   "mimetype": "text/x-python",
   "name": "python",
   "nbconvert_exporter": "python",
   "pygments_lexer": "ipython3",
   "version": "3.11.5"
  }
 },
 "nbformat": 4,
 "nbformat_minor": 5
}
