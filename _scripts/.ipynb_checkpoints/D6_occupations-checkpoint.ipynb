{
 "cells": [
  {
   "cell_type": "markdown",
   "id": "527c3ebe",
   "metadata": {},
   "source": [
    "## D6\n",
    "### Cleaning"
   ]
  },
  {
   "cell_type": "code",
   "execution_count": 1,
   "id": "2f9dedb6",
   "metadata": {},
   "outputs": [],
   "source": [
    "import json\n",
    "import os"
   ]
  },
  {
   "cell_type": "code",
   "execution_count": 9,
   "id": "bc733bef",
   "metadata": {},
   "outputs": [
    {
     "ename": "KeyError",
     "evalue": "'trade, hotels and restaurants (g and i)'",
     "output_type": "error",
     "traceback": [
      "\u001b[1;31m---------------------------------------------------------------------------\u001b[0m",
      "\u001b[1;31mKeyError\u001b[0m                                  Traceback (most recent call last)",
      "\u001b[1;32m~\\AppData\\Local\\Temp/ipykernel_8484/2913765415.py\u001b[0m in \u001b[0;36m<module>\u001b[1;34m\u001b[0m\n\u001b[0;32m     21\u001b[0m \u001b[1;32mfor\u001b[0m \u001b[0mkey\u001b[0m\u001b[1;33m,\u001b[0m \u001b[0mvalue\u001b[0m \u001b[1;32min\u001b[0m \u001b[0mparsed_json\u001b[0m\u001b[1;33m[\u001b[0m\u001b[1;34m'Year'\u001b[0m\u001b[1;33m]\u001b[0m\u001b[1;33m.\u001b[0m\u001b[0mitems\u001b[0m\u001b[1;33m(\u001b[0m\u001b[1;33m)\u001b[0m\u001b[1;33m:\u001b[0m\u001b[1;33m\u001b[0m\u001b[1;33m\u001b[0m\u001b[0m\n\u001b[0;32m     22\u001b[0m     result.append({\n\u001b[1;32m---> 23\u001b[1;33m         \u001b[1;34m'Occupation'\u001b[0m\u001b[1;33m:\u001b[0m\u001b[0mlevel_mapping\u001b[0m\u001b[1;33m[\u001b[0m\u001b[0mparsed_json\u001b[0m\u001b[1;33m[\u001b[0m\u001b[1;34m'Occupations'\u001b[0m\u001b[1;33m]\u001b[0m\u001b[1;33m[\u001b[0m\u001b[0mkey\u001b[0m\u001b[1;33m]\u001b[0m\u001b[1;33m]\u001b[0m\u001b[1;33m,\u001b[0m\u001b[1;33m\u001b[0m\u001b[1;33m\u001b[0m\u001b[0m\n\u001b[0m\u001b[0;32m     24\u001b[0m         \u001b[1;34m'Year'\u001b[0m\u001b[1;33m:\u001b[0m \u001b[0mvalue\u001b[0m\u001b[1;33m,\u001b[0m\u001b[1;33m\u001b[0m\u001b[1;33m\u001b[0m\u001b[0m\n\u001b[0;32m     25\u001b[0m         \u001b[1;34m'Value'\u001b[0m\u001b[1;33m:\u001b[0m \u001b[0mparsed_json\u001b[0m\u001b[1;33m[\u001b[0m\u001b[1;34m'Value (thousands)'\u001b[0m\u001b[1;33m]\u001b[0m\u001b[1;33m[\u001b[0m\u001b[0mkey\u001b[0m\u001b[1;33m]\u001b[0m\u001b[1;33m\u001b[0m\u001b[1;33m\u001b[0m\u001b[0m\n",
      "\u001b[1;31mKeyError\u001b[0m: 'trade, hotels and restaurants (g and i)'"
     ]
    }
   ],
   "source": [
    "given_json='''{\"Occupations\":{\"0\":\"agriculture, forestry and fishing\",\"5\":\"agriculture, forestry and fishing\",\"10\":\"agriculture, forestry and fishing\",\"15\":\"agriculture, forestry and fishing\",\"16\":\"agriculture, forestry and fishing\",\"150\":\"agriculture, forestry and fishing\",\"155\":\"agriculture, forestry and fishing\",\"160\":\"agriculture, forestry and fishing\",\"165\":\"agriculture, forestry and fishing\",\"166\":\"agriculture, forestry and fishing\",\"300\":\"construction\",\"305\":\"construction\",\"310\":\"construction\",\"315\":\"construction\",\"316\":\"construction\",\"525\":\"construction\",\"530\":\"construction\",\"535\":\"construction\",\"540\":\"construction\",\"541\":\"construction\",\"675\":\"construction\",\"680\":\"construction\",\"685\":\"construction\",\"690\":\"construction\",\"691\":\"construction\",\"750\":\"agriculture, forestry and fishing\",\"755\":\"agriculture, forestry and fishing\",\"760\":\"agriculture, forestry and fishing\",\"765\":\"agriculture, forestry and fishing\",\"766\":\"agriculture, forestry and fishing\",\"1398\":\"TOTAL SERVICES (g to u)\",\"1403\":\"TOTAL SERVICES (g to u)\",\"1408\":\"TOTAL SERVICES (g to u)\",\"1413\":\"TOTAL SERVICES (g to u)\",\"1414\":\"TOTAL SERVICES (g to u)\",\"1747\":\"trade, hotels and restaurants (g and i)\",\"1752\":\"trade, hotels and restaurants (g and i)\",\"1757\":\"trade, hotels and restaurants (g and i)\",\"1762\":\"trade, hotels and restaurants (g and i)\",\"1763\":\"trade, hotels and restaurants (g and i)\",\"2047\":\"TOTAL INDUSTRY (b to f)\",\"2052\":\"TOTAL INDUSTRY (b to f)\",\"2057\":\"TOTAL INDUSTRY (b to f)\",\"2062\":\"TOTAL INDUSTRY (b to f)\",\"2063\":\"TOTAL INDUSTRY (b to f)\",\"2222\":\"TOTAL INDUSTRY (b to f)\",\"2227\":\"TOTAL INDUSTRY (b to f)\",\"2232\":\"TOTAL INDUSTRY (b to f)\",\"2237\":\"TOTAL INDUSTRY (b to f)\",\"2238\":\"TOTAL INDUSTRY (b to f)\",\"2372\":\"TOTAL INDUSTRY (b to f)\",\"2377\":\"TOTAL INDUSTRY (b to f)\",\"2382\":\"TOTAL INDUSTRY (b to f)\",\"2387\":\"TOTAL INDUSTRY (b to f)\",\"2388\":\"TOTAL INDUSTRY (b to f)\",\"2497\":\"TOTAL SERVICES (g to u)\",\"2502\":\"TOTAL SERVICES (g to u)\",\"2507\":\"TOTAL SERVICES (g to u)\",\"2512\":\"TOTAL SERVICES (g to u)\",\"2513\":\"TOTAL SERVICES (g to u)\",\"2647\":\"trade, hotels and restaurants (g and i)\",\"2652\":\"trade, hotels and restaurants (g and i)\",\"2657\":\"trade, hotels and restaurants (g and i)\",\"2662\":\"trade, hotels and restaurants (g and i)\",\"2663\":\"trade, hotels and restaurants (g and i)\",\"2697\":\"TOTAL SERVICES (g to u)\",\"2702\":\"TOTAL SERVICES (g to u)\",\"2707\":\"TOTAL SERVICES (g to u)\",\"2712\":\"TOTAL SERVICES (g to u)\",\"2713\":\"TOTAL SERVICES (g to u)\",\"2847\":\"other services activity (j to u)\",\"2852\":\"other services activity (j to u)\",\"2857\":\"other services activity (j to u)\",\"2862\":\"other services activity (j to u)\",\"2863\":\"other services activity (j to u)\",\"3172\":\"other services activity (j to u)\",\"3177\":\"other services activity (j to u)\",\"3182\":\"other services activity (j to u)\",\"3187\":\"other services activity (j to u)\",\"3188\":\"other services activity (j to u)\",\"3297\":\"trade, hotels and restaurants (g and i)\",\"3302\":\"trade, hotels and restaurants (g and i)\",\"3307\":\"trade, hotels and restaurants (g and i)\",\"3312\":\"trade, hotels and restaurants (g and i)\",\"3313\":\"trade, hotels and restaurants (g and i)\",\"3422\":\"other services activity (j to u)\",\"3427\":\"other services activity (j to u)\",\"3432\":\"other services activity (j to u)\",\"3437\":\"other services activity (j to u)\",\"3438\":\"other services activity (j to u)\"},\"Year\":{\"0\":\"2018\",\"5\":\"2019\",\"10\":\"2020\",\"15\":\"2021\",\"16\":\"2022\",\"150\":\"2018\",\"155\":\"2019\",\"160\":\"2020\",\"165\":\"2021\",\"166\":\"2022\",\"300\":\"2018\",\"305\":\"2019\",\"310\":\"2020\",\"315\":\"2021\",\"316\":\"2022\",\"525\":\"2018\",\"530\":\"2019\",\"535\":\"2020\",\"540\":\"2021\",\"541\":\"2022\",\"675\":\"2018\",\"680\":\"2019\",\"685\":\"2020\",\"690\":\"2021\",\"691\":\"2022\",\"750\":\"2018\",\"755\":\"2019\",\"760\":\"2020\",\"765\":\"2021\",\"766\":\"2022\",\"1398\":\"2018\",\"1403\":\"2019\",\"1408\":\"2020\",\"1413\":\"2021\",\"1414\":\"2022\",\"1747\":\"2018\",\"1752\":\"2019\",\"1757\":\"2020\",\"1762\":\"2021\",\"1763\":\"2022\",\"2047\":\"2018\",\"2052\":\"2019\",\"2057\":\"2020\",\"2062\":\"2021\",\"2063\":\"2022\",\"2222\":\"2018\",\"2227\":\"2019\",\"2232\":\"2020\",\"2237\":\"2021\",\"2238\":\"2022\",\"2372\":\"2018\",\"2377\":\"2019\",\"2382\":\"2020\",\"2387\":\"2021\",\"2388\":\"2022\",\"2497\":\"2018\",\"2502\":\"2019\",\"2507\":\"2020\",\"2512\":\"2021\",\"2513\":\"2022\",\"2647\":\"2018\",\"2652\":\"2019\",\"2657\":\"2020\",\"2662\":\"2021\",\"2663\":\"2022\",\"2697\":\"2018\",\"2702\":\"2019\",\"2707\":\"2020\",\"2712\":\"2021\",\"2713\":\"2022\",\"2847\":\"2018\",\"2852\":\"2019\",\"2857\":\"2020\",\"2862\":\"2021\",\"2863\":\"2022\",\"3172\":\"2018\",\"3177\":\"2019\",\"3182\":\"2020\",\"3187\":\"2021\",\"3188\":\"2022\",\"3297\":\"2018\",\"3302\":\"2019\",\"3307\":\"2020\",\"3312\":\"2021\",\"3313\":\"2022\",\"3422\":\"2018\",\"3427\":\"2019\",\"3432\":\"2020\",\"3437\":\"2021\",\"3438\":\"2022\"},\"Value (thousands)\":{\"0\":147.69,\"5\":157.453,\"10\":161.05,\"15\":164.842,\"16\":154.819,\"150\":142.448,\"155\":151.532,\"160\":155.468,\"165\":155.319,\"166\":146.445,\"300\":57.197,\"305\":58.518,\"310\":57.494,\"315\":58.415,\"316\":63.055,\"525\":170.404,\"530\":163.825,\"535\":158.688,\"540\":163.501,\"541\":179.517,\"675\":227.601,\"680\":222.343,\"685\":216.182,\"690\":221.916,\"691\":242.572,\"750\":5.242,\"755\":5.921,\"760\":5.582,\"765\":9.523,\"766\":8.374,\"1398\":216.693,\"1403\":222.454,\"1408\":187.293,\"1413\":195.805,\"1414\":213.184,\"1747\":355.217,\"1752\":362.511,\"1757\":310.873,\"1762\":305.883,\"1763\":357.938,\"2047\":644.878,\"2052\":667.577,\"2057\":639.707,\"2062\":646.459,\"2063\":696.225,\"2222\":571.069,\"2227\":592.826,\"2232\":560.939,\"2237\":567.62,\"2238\":610.986,\"2372\":73.809,\"2377\":74.752,\"2382\":78.768,\"2387\":78.839,\"2388\":85.239,\"2497\":1328.138,\"2502\":1332.22,\"2507\":1216.094,\"2512\":1249.987,\"2513\":1310.242,\"2647\":132.537,\"2652\":130.827,\"2657\":103.858,\"2662\":105.514,\"2663\":121.472,\"2697\":1544.831,\"2702\":1554.674,\"2707\":1403.387,\"2712\":1445.793,\"2713\":1523.426,\"2847\":84.156,\"2852\":91.627,\"2857\":83.435,\"2862\":90.291,\"2863\":91.713,\"3172\":1057.076,\"3177\":1061.337,\"3182\":988.656,\"3187\":1034.396,\"3188\":1044.016,\"3297\":487.755,\"3302\":493.337,\"3307\":414.731,\"3312\":411.397,\"3313\":479.41,\"3422\":972.921,\"3427\":969.71,\"3432\":905.221,\"3437\":944.104,\"3438\":952.304}}'''\n",
    "\n",
    "# Mapping of education level codes to labels\n",
    "level_mapping = {\n",
    "    'agriculture, forestry and fishing': 'A',\n",
    "    'construction': 'F',\n",
    "    'TOTAL SERVICES (g to u)': 'G-U',\n",
    "    'trades, hotels and restaurants (g and i)': 'GI',\n",
    "    'TOTAL INDUSTRY (b to f)': 'B-F',\n",
    "    'other services activity (j to u)': 'J-U'\n",
    "\n",
    "}\n",
    "\n",
    "# Parse the given JSON\n",
    "parsed_json = json.loads(given_json)\n",
    "\n",
    "# Initialize an empty list to store the transformed data\n",
    "result = []\n",
    "\n",
    "# Extract data from the parsed JSON, transform it, and map education levels\n",
    "for key, value in parsed_json['Year'].items():\n",
    "    result.append({\n",
    "        'Occupations':level_mapping[parsed_json['Occupations'][key]],\n",
    "        'Year': value,\n",
    "        'Value': parsed_json['Value (thousands)'][key]\n",
    "    })\n",
    "\n",
    "# Convert the transformed data to JSON format\n",
    "transformed_json = json.dumps(result, indent=2)\n",
    "print(transformed_json)\n",
    "\n",
    "\n",
    "# Save the new file\n",
    "\n",
    "# Specify the folder path to save the JSON file\n",
    "folder_path = \"../_datasets/Clean/D6\"\n",
    "\n",
    "# Create the folder if it doesn't exist\n",
    "os.makedirs(folder_path, exist_ok=True)\n",
    "\n",
    "# Define the filename for the JSON file\n",
    "filename = \"occupations_rate.json\"\n",
    "\n",
    "# Generate the file path\n",
    "file_path = os.path.join(folder_path, filename)\n",
    "\n",
    "# Save the resident Italian population JSON to the file\n",
    "with open(file_path, \"w\") as file:\n",
    "    file.write(transformed_json)\n",
    "\n",
    "print(f\"JSON data saved to: {file_path}\")"
   ]
  },
  {
   "cell_type": "code",
   "execution_count": null,
   "id": "5c80da11",
   "metadata": {},
   "outputs": [],
   "source": []
  }
 ],
 "metadata": {
  "kernelspec": {
   "display_name": "Python 3 (ipykernel)",
   "language": "python",
   "name": "python3"
  },
  "language_info": {
   "codemirror_mode": {
    "name": "ipython",
    "version": 3
   },
   "file_extension": ".py",
   "mimetype": "text/x-python",
   "name": "python",
   "nbconvert_exporter": "python",
   "pygments_lexer": "ipython3",
   "version": "3.9.7"
  }
 },
 "nbformat": 4,
 "nbformat_minor": 5
}
